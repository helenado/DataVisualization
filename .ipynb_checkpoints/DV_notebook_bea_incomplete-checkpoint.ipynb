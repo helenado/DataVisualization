{
 "cells": [
  {
   "cell_type": "code",
   "execution_count": 1147,
   "metadata": {},
   "outputs": [],
   "source": [
    "import pandas as pd\n",
    "import plotly \n",
    "import numpy as np\n",
    "import plotly.figure_factory as ff\n",
    "import scipy\n",
    "import plotly.graph_objects as go\n",
    "import dash\n",
    "from dash import Dash, dcc, html, Input, Output\n",
    "import plotly.express as px\n",
    "import plotly.express as px\n",
    "\n",
    "#pip install scipy\n",
    "#!pip install Dash"
   ]
  },
  {
   "cell_type": "code",
   "execution_count": 1148,
   "metadata": {},
   "outputs": [],
   "source": [
    "# Import data\n",
    "\n",
    "data = pd.read_csv('chocolate.csv')\n",
    "continent = pd.read_csv('countryContinent.csv',encoding = \"ISO-8859-1\")\n",
    "imp_exp=pd.read_csv('UNdata_Export_20220301_151116452.csv')\n",
    "coord=pd.read_csv('country_points.csv',encoding = \"ISO-8859-1\")"
   ]
  },
  {
   "cell_type": "code",
   "execution_count": 1149,
   "metadata": {},
   "outputs": [
    {
     "data": {
      "text/html": [
       "<div>\n",
       "<style scoped>\n",
       "    .dataframe tbody tr th:only-of-type {\n",
       "        vertical-align: middle;\n",
       "    }\n",
       "\n",
       "    .dataframe tbody tr th {\n",
       "        vertical-align: top;\n",
       "    }\n",
       "\n",
       "    .dataframe thead th {\n",
       "        text-align: right;\n",
       "    }\n",
       "</style>\n",
       "<table border=\"1\" class=\"dataframe\">\n",
       "  <thead>\n",
       "    <tr style=\"text-align: right;\">\n",
       "      <th></th>\n",
       "      <th>Country or Area</th>\n",
       "      <th>Year</th>\n",
       "      <th>Commodity</th>\n",
       "      <th>Flow</th>\n",
       "      <th>Quantity</th>\n",
       "      <th>Trade (USD)</th>\n",
       "    </tr>\n",
       "  </thead>\n",
       "  <tbody>\n",
       "    <tr>\n",
       "      <th>60</th>\n",
       "      <td>Albania</td>\n",
       "      <td>2012</td>\n",
       "      <td>Cocoa beans, whole or broken, raw or roasted</td>\n",
       "      <td>Import</td>\n",
       "      <td>130.0</td>\n",
       "      <td>874.0</td>\n",
       "    </tr>\n",
       "    <tr>\n",
       "      <th>71</th>\n",
       "      <td>Albania</td>\n",
       "      <td>2011</td>\n",
       "      <td>Cocoa beans, whole or broken, raw or roasted</td>\n",
       "      <td>Import</td>\n",
       "      <td>4524.0</td>\n",
       "      <td>19877.0</td>\n",
       "    </tr>\n",
       "    <tr>\n",
       "      <th>83</th>\n",
       "      <td>Albania</td>\n",
       "      <td>2010</td>\n",
       "      <td>Cocoa beans, whole or broken, raw or roasted</td>\n",
       "      <td>Import</td>\n",
       "      <td>45.0</td>\n",
       "      <td>295.0</td>\n",
       "    </tr>\n",
       "    <tr>\n",
       "      <th>94</th>\n",
       "      <td>Albania</td>\n",
       "      <td>2009</td>\n",
       "      <td>Cocoa beans, whole or broken, raw or roasted</td>\n",
       "      <td>Import</td>\n",
       "      <td>262.0</td>\n",
       "      <td>1919.0</td>\n",
       "    </tr>\n",
       "    <tr>\n",
       "      <th>149</th>\n",
       "      <td>Albania</td>\n",
       "      <td>2004</td>\n",
       "      <td>Cocoa beans, whole or broken, raw or roasted</td>\n",
       "      <td>Import</td>\n",
       "      <td>1606.0</td>\n",
       "      <td>2729.0</td>\n",
       "    </tr>\n",
       "  </tbody>\n",
       "</table>\n",
       "</div>"
      ],
      "text/plain": [
       "    Country or Area  Year                                     Commodity  \\\n",
       "60          Albania  2012  Cocoa beans, whole or broken, raw or roasted   \n",
       "71          Albania  2011  Cocoa beans, whole or broken, raw or roasted   \n",
       "83          Albania  2010  Cocoa beans, whole or broken, raw or roasted   \n",
       "94          Albania  2009  Cocoa beans, whole or broken, raw or roasted   \n",
       "149         Albania  2004  Cocoa beans, whole or broken, raw or roasted   \n",
       "\n",
       "       Flow  Quantity  Trade (USD)  \n",
       "60   Import     130.0        874.0  \n",
       "71   Import    4524.0      19877.0  \n",
       "83   Import      45.0        295.0  \n",
       "94   Import     262.0       1919.0  \n",
       "149  Import    1606.0       2729.0  "
      ]
     },
     "execution_count": 1149,
     "metadata": {},
     "output_type": "execute_result"
    }
   ],
   "source": [
    "imp_exp=imp_exp[imp_exp['Commodity']=='Cocoa beans, whole or broken, raw or roasted'][['Country or Area','Year','Commodity','Flow','Quantity','Trade (USD)']]\n",
    "imp_exp.head()"
   ]
  },
  {
   "cell_type": "markdown",
   "metadata": {},
   "source": [
    "### Exports and Imports\n"
   ]
  },
  {
   "cell_type": "code",
   "execution_count": 1150,
   "metadata": {},
   "outputs": [],
   "source": [
    "imp_exp_regions = imp_exp.merge(continent[['country','continent','sub_region','code_2']].rename(columns={'sub_region':'region'}), left_on = 'Country or Area', right_on= 'country', how= 'left')"
   ]
  },
  {
   "cell_type": "code",
   "execution_count": 1151,
   "metadata": {},
   "outputs": [
    {
     "data": {
      "text/html": [
       "<div>\n",
       "<style scoped>\n",
       "    .dataframe tbody tr th:only-of-type {\n",
       "        vertical-align: middle;\n",
       "    }\n",
       "\n",
       "    .dataframe tbody tr th {\n",
       "        vertical-align: top;\n",
       "    }\n",
       "\n",
       "    .dataframe thead th {\n",
       "        text-align: right;\n",
       "    }\n",
       "</style>\n",
       "<table border=\"1\" class=\"dataframe\">\n",
       "  <thead>\n",
       "    <tr style=\"text-align: right;\">\n",
       "      <th></th>\n",
       "      <th>Country or Area</th>\n",
       "      <th>Year</th>\n",
       "      <th>Commodity</th>\n",
       "      <th>Flow</th>\n",
       "      <th>Quantity</th>\n",
       "      <th>Trade (USD)</th>\n",
       "      <th>country</th>\n",
       "      <th>continent</th>\n",
       "      <th>region</th>\n",
       "      <th>code_2</th>\n",
       "    </tr>\n",
       "  </thead>\n",
       "  <tbody>\n",
       "    <tr>\n",
       "      <th>0</th>\n",
       "      <td>Albania</td>\n",
       "      <td>2012</td>\n",
       "      <td>Cocoa beans, whole or broken, raw or roasted</td>\n",
       "      <td>Import</td>\n",
       "      <td>130.0</td>\n",
       "      <td>874.0</td>\n",
       "      <td>Albania</td>\n",
       "      <td>Europe</td>\n",
       "      <td>Southern Europe</td>\n",
       "      <td>AL</td>\n",
       "    </tr>\n",
       "    <tr>\n",
       "      <th>1</th>\n",
       "      <td>Albania</td>\n",
       "      <td>2011</td>\n",
       "      <td>Cocoa beans, whole or broken, raw or roasted</td>\n",
       "      <td>Import</td>\n",
       "      <td>4524.0</td>\n",
       "      <td>19877.0</td>\n",
       "      <td>Albania</td>\n",
       "      <td>Europe</td>\n",
       "      <td>Southern Europe</td>\n",
       "      <td>AL</td>\n",
       "    </tr>\n",
       "    <tr>\n",
       "      <th>2</th>\n",
       "      <td>Albania</td>\n",
       "      <td>2010</td>\n",
       "      <td>Cocoa beans, whole or broken, raw or roasted</td>\n",
       "      <td>Import</td>\n",
       "      <td>45.0</td>\n",
       "      <td>295.0</td>\n",
       "      <td>Albania</td>\n",
       "      <td>Europe</td>\n",
       "      <td>Southern Europe</td>\n",
       "      <td>AL</td>\n",
       "    </tr>\n",
       "    <tr>\n",
       "      <th>3</th>\n",
       "      <td>Albania</td>\n",
       "      <td>2009</td>\n",
       "      <td>Cocoa beans, whole or broken, raw or roasted</td>\n",
       "      <td>Import</td>\n",
       "      <td>262.0</td>\n",
       "      <td>1919.0</td>\n",
       "      <td>Albania</td>\n",
       "      <td>Europe</td>\n",
       "      <td>Southern Europe</td>\n",
       "      <td>AL</td>\n",
       "    </tr>\n",
       "    <tr>\n",
       "      <th>4</th>\n",
       "      <td>Albania</td>\n",
       "      <td>2004</td>\n",
       "      <td>Cocoa beans, whole or broken, raw or roasted</td>\n",
       "      <td>Import</td>\n",
       "      <td>1606.0</td>\n",
       "      <td>2729.0</td>\n",
       "      <td>Albania</td>\n",
       "      <td>Europe</td>\n",
       "      <td>Southern Europe</td>\n",
       "      <td>AL</td>\n",
       "    </tr>\n",
       "  </tbody>\n",
       "</table>\n",
       "</div>"
      ],
      "text/plain": [
       "  Country or Area  Year                                     Commodity    Flow  \\\n",
       "0         Albania  2012  Cocoa beans, whole or broken, raw or roasted  Import   \n",
       "1         Albania  2011  Cocoa beans, whole or broken, raw or roasted  Import   \n",
       "2         Albania  2010  Cocoa beans, whole or broken, raw or roasted  Import   \n",
       "3         Albania  2009  Cocoa beans, whole or broken, raw or roasted  Import   \n",
       "4         Albania  2004  Cocoa beans, whole or broken, raw or roasted  Import   \n",
       "\n",
       "   Quantity  Trade (USD)  country continent           region code_2  \n",
       "0     130.0        874.0  Albania    Europe  Southern Europe     AL  \n",
       "1    4524.0      19877.0  Albania    Europe  Southern Europe     AL  \n",
       "2      45.0        295.0  Albania    Europe  Southern Europe     AL  \n",
       "3     262.0       1919.0  Albania    Europe  Southern Europe     AL  \n",
       "4    1606.0       2729.0  Albania    Europe  Southern Europe     AL  "
      ]
     },
     "execution_count": 1151,
     "metadata": {},
     "output_type": "execute_result"
    }
   ],
   "source": [
    "imp_exp_regions.head()"
   ]
  },
  {
   "cell_type": "markdown",
   "metadata": {
    "scrolled": true
   },
   "source": [
    "export = imp_exp_regions[imp_exp_regions['Flow'] == 'Export']\n",
    "export.head()"
   ]
  },
  {
   "cell_type": "markdown",
   "metadata": {},
   "source": [
    "export[export['continent'] == 'Europe']['Country or Area'].unique()"
   ]
  },
  {
   "cell_type": "markdown",
   "metadata": {},
   "source": [
    "imports = imp_exp_regions[imp_exp_regions['Flow'] == 'Import']\n",
    "imports.head()"
   ]
  },
  {
   "cell_type": "code",
   "execution_count": 1152,
   "metadata": {},
   "outputs": [],
   "source": [
    "pivot_imports = pd.pivot_table(imports, values = 'Trade (USD)', index = 'continent', columns = 'Year', aggfunc = np.sum)"
   ]
  },
  {
   "cell_type": "code",
   "execution_count": 1153,
   "metadata": {},
   "outputs": [
    {
     "data": {
      "text/html": [
       "<div>\n",
       "<style scoped>\n",
       "    .dataframe tbody tr th:only-of-type {\n",
       "        vertical-align: middle;\n",
       "    }\n",
       "\n",
       "    .dataframe tbody tr th {\n",
       "        vertical-align: top;\n",
       "    }\n",
       "\n",
       "    .dataframe thead th {\n",
       "        text-align: right;\n",
       "    }\n",
       "</style>\n",
       "<table border=\"1\" class=\"dataframe\">\n",
       "  <thead>\n",
       "    <tr style=\"text-align: right;\">\n",
       "      <th>Year</th>\n",
       "      <th>1988</th>\n",
       "      <th>1989</th>\n",
       "      <th>1990</th>\n",
       "      <th>1991</th>\n",
       "      <th>1992</th>\n",
       "      <th>1993</th>\n",
       "      <th>1994</th>\n",
       "      <th>1995</th>\n",
       "      <th>1996</th>\n",
       "      <th>1997</th>\n",
       "      <th>...</th>\n",
       "      <th>2010</th>\n",
       "      <th>2011</th>\n",
       "      <th>2012</th>\n",
       "      <th>2013</th>\n",
       "      <th>2014</th>\n",
       "      <th>2015</th>\n",
       "      <th>2016</th>\n",
       "      <th>2017</th>\n",
       "      <th>2018</th>\n",
       "      <th>2019</th>\n",
       "    </tr>\n",
       "  </thead>\n",
       "  <tbody>\n",
       "    <tr>\n",
       "      <th>Africa</th>\n",
       "      <td>NaN</td>\n",
       "      <td>NaN</td>\n",
       "      <td>NaN</td>\n",
       "      <td>572105.0</td>\n",
       "      <td>1944817.0</td>\n",
       "      <td>1259203.0</td>\n",
       "      <td>3.680804e+06</td>\n",
       "      <td>3.146172e+06</td>\n",
       "      <td>7.516860e+06</td>\n",
       "      <td>2.382868e+06</td>\n",
       "      <td>...</td>\n",
       "      <td>2.724588e+07</td>\n",
       "      <td>1.652407e+09</td>\n",
       "      <td>3.124253e+07</td>\n",
       "      <td>8.429142e+07</td>\n",
       "      <td>3.864340e+07</td>\n",
       "      <td>1.710996e+07</td>\n",
       "      <td>1.977022e+07</td>\n",
       "      <td>1.946710e+07</td>\n",
       "      <td>1.238301e+06</td>\n",
       "      <td>3.180144e+03</td>\n",
       "    </tr>\n",
       "    <tr>\n",
       "      <th>Americas</th>\n",
       "      <td>NaN</td>\n",
       "      <td>33847189.0</td>\n",
       "      <td>38439802.0</td>\n",
       "      <td>44099672.0</td>\n",
       "      <td>39999341.0</td>\n",
       "      <td>45966597.0</td>\n",
       "      <td>5.615292e+07</td>\n",
       "      <td>7.992683e+07</td>\n",
       "      <td>6.335198e+07</td>\n",
       "      <td>9.428702e+07</td>\n",
       "      <td>...</td>\n",
       "      <td>3.682923e+08</td>\n",
       "      <td>4.040635e+08</td>\n",
       "      <td>3.341691e+08</td>\n",
       "      <td>2.660147e+08</td>\n",
       "      <td>4.241278e+08</td>\n",
       "      <td>3.429008e+08</td>\n",
       "      <td>4.908743e+08</td>\n",
       "      <td>4.319500e+08</td>\n",
       "      <td>4.580726e+08</td>\n",
       "      <td>2.265479e+08</td>\n",
       "    </tr>\n",
       "    <tr>\n",
       "      <th>Asia</th>\n",
       "      <td>84981276.0</td>\n",
       "      <td>189457873.0</td>\n",
       "      <td>182257197.0</td>\n",
       "      <td>178398910.0</td>\n",
       "      <td>220703086.0</td>\n",
       "      <td>160839787.0</td>\n",
       "      <td>1.904380e+08</td>\n",
       "      <td>2.746586e+08</td>\n",
       "      <td>2.664382e+08</td>\n",
       "      <td>2.931037e+08</td>\n",
       "      <td>...</td>\n",
       "      <td>2.001048e+09</td>\n",
       "      <td>2.129123e+09</td>\n",
       "      <td>1.814508e+09</td>\n",
       "      <td>1.587756e+09</td>\n",
       "      <td>2.195441e+09</td>\n",
       "      <td>1.741891e+09</td>\n",
       "      <td>1.812279e+09</td>\n",
       "      <td>1.972022e+09</td>\n",
       "      <td>2.074764e+09</td>\n",
       "      <td>1.474099e+08</td>\n",
       "    </tr>\n",
       "    <tr>\n",
       "      <th>Europe</th>\n",
       "      <td>59869290.0</td>\n",
       "      <td>119171486.0</td>\n",
       "      <td>124005183.0</td>\n",
       "      <td>504019590.0</td>\n",
       "      <td>927868418.0</td>\n",
       "      <td>834262287.0</td>\n",
       "      <td>1.399687e+09</td>\n",
       "      <td>1.630405e+09</td>\n",
       "      <td>1.978299e+09</td>\n",
       "      <td>1.667038e+09</td>\n",
       "      <td>...</td>\n",
       "      <td>5.236534e+09</td>\n",
       "      <td>6.174367e+09</td>\n",
       "      <td>4.895103e+09</td>\n",
       "      <td>4.551503e+09</td>\n",
       "      <td>5.295596e+09</td>\n",
       "      <td>5.619806e+09</td>\n",
       "      <td>6.454687e+09</td>\n",
       "      <td>5.625416e+09</td>\n",
       "      <td>5.345948e+09</td>\n",
       "      <td>1.869602e+08</td>\n",
       "    </tr>\n",
       "    <tr>\n",
       "      <th>Oceania</th>\n",
       "      <td>981118.0</td>\n",
       "      <td>263575.0</td>\n",
       "      <td>179329.0</td>\n",
       "      <td>236528.0</td>\n",
       "      <td>346922.0</td>\n",
       "      <td>329263.0</td>\n",
       "      <td>3.435490e+05</td>\n",
       "      <td>4.244230e+05</td>\n",
       "      <td>3.892580e+05</td>\n",
       "      <td>4.929880e+05</td>\n",
       "      <td>...</td>\n",
       "      <td>6.344571e+06</td>\n",
       "      <td>6.481258e+06</td>\n",
       "      <td>6.484481e+06</td>\n",
       "      <td>5.499694e+06</td>\n",
       "      <td>6.399103e+06</td>\n",
       "      <td>1.216092e+07</td>\n",
       "      <td>9.947090e+06</td>\n",
       "      <td>8.159731e+06</td>\n",
       "      <td>8.891566e+06</td>\n",
       "      <td>NaN</td>\n",
       "    </tr>\n",
       "  </tbody>\n",
       "</table>\n",
       "<p>5 rows × 32 columns</p>\n",
       "</div>"
      ],
      "text/plain": [
       "Year            1988         1989         1990         1991         1992  \\\n",
       "Africa           NaN          NaN          NaN     572105.0    1944817.0   \n",
       "Americas         NaN   33847189.0   38439802.0   44099672.0   39999341.0   \n",
       "Asia      84981276.0  189457873.0  182257197.0  178398910.0  220703086.0   \n",
       "Europe    59869290.0  119171486.0  124005183.0  504019590.0  927868418.0   \n",
       "Oceania     981118.0     263575.0     179329.0     236528.0     346922.0   \n",
       "\n",
       "Year             1993          1994          1995          1996          1997  \\\n",
       "Africa      1259203.0  3.680804e+06  3.146172e+06  7.516860e+06  2.382868e+06   \n",
       "Americas   45966597.0  5.615292e+07  7.992683e+07  6.335198e+07  9.428702e+07   \n",
       "Asia      160839787.0  1.904380e+08  2.746586e+08  2.664382e+08  2.931037e+08   \n",
       "Europe    834262287.0  1.399687e+09  1.630405e+09  1.978299e+09  1.667038e+09   \n",
       "Oceania      329263.0  3.435490e+05  4.244230e+05  3.892580e+05  4.929880e+05   \n",
       "\n",
       "Year      ...          2010          2011          2012          2013  \\\n",
       "Africa    ...  2.724588e+07  1.652407e+09  3.124253e+07  8.429142e+07   \n",
       "Americas  ...  3.682923e+08  4.040635e+08  3.341691e+08  2.660147e+08   \n",
       "Asia      ...  2.001048e+09  2.129123e+09  1.814508e+09  1.587756e+09   \n",
       "Europe    ...  5.236534e+09  6.174367e+09  4.895103e+09  4.551503e+09   \n",
       "Oceania   ...  6.344571e+06  6.481258e+06  6.484481e+06  5.499694e+06   \n",
       "\n",
       "Year              2014          2015          2016          2017  \\\n",
       "Africa    3.864340e+07  1.710996e+07  1.977022e+07  1.946710e+07   \n",
       "Americas  4.241278e+08  3.429008e+08  4.908743e+08  4.319500e+08   \n",
       "Asia      2.195441e+09  1.741891e+09  1.812279e+09  1.972022e+09   \n",
       "Europe    5.295596e+09  5.619806e+09  6.454687e+09  5.625416e+09   \n",
       "Oceania   6.399103e+06  1.216092e+07  9.947090e+06  8.159731e+06   \n",
       "\n",
       "Year              2018          2019  \n",
       "Africa    1.238301e+06  3.180144e+03  \n",
       "Americas  4.580726e+08  2.265479e+08  \n",
       "Asia      2.074764e+09  1.474099e+08  \n",
       "Europe    5.345948e+09  1.869602e+08  \n",
       "Oceania   8.891566e+06           NaN  \n",
       "\n",
       "[5 rows x 32 columns]"
      ]
     },
     "execution_count": 1153,
     "metadata": {},
     "output_type": "execute_result"
    }
   ],
   "source": [
    "pivot_imports.index.name = None\n",
    "pivot_imports"
   ]
  },
  {
   "cell_type": "code",
   "execution_count": 1154,
   "metadata": {},
   "outputs": [],
   "source": [
    "pivot_export = pd.pivot_table(export, values = 'Trade (USD)', index = 'continent', columns = 'Year', aggfunc = np.sum)"
   ]
  },
  {
   "cell_type": "code",
   "execution_count": 1155,
   "metadata": {},
   "outputs": [
    {
     "data": {
      "text/plain": [
       "Index(['Africa', 'Americas', 'Asia', 'Europe', 'Oceania'], dtype='object')"
      ]
     },
     "execution_count": 1155,
     "metadata": {},
     "output_type": "execute_result"
    }
   ],
   "source": [
    "pivot_export.index.name = None\n",
    "pivot_export.index"
   ]
  },
  {
   "cell_type": "code",
   "execution_count": 1156,
   "metadata": {
    "scrolled": false
   },
   "outputs": [],
   "source": [
    "#frame1 = []\n",
    "#frame2 = []\n",
    "\n",
    "#frames = []\n",
    "\n",
    "#for year in pivot_export.columns[1:]: # we do not include the first frame here\n",
    " #   frames.append(dict(data=dict(type='bar',\n",
    "  #                               x=pivot_export.index,\n",
    "   #                              y=pivot_export[year],\n",
    "    #                             name=year,\n",
    "     #                           ),\n",
    "      #                 layout=go.Layout(title_text='Exports in the year of ' + str(year))\n",
    "       #               )\n",
    "        #        )\n",
    "\n",
    "#for year in pivot_imports.columns[1:]: # we do not include the first frame here\n",
    "#    frames.append(dict(data=dict(type='scatter',\n",
    "#                                 x=pivot_imports.index,\n",
    "#                                 y=pivot_imports[year],\n",
    "#                                 name=year,\n",
    "#                                ),\n",
    "#                       layout=go.Layout(title_text='Imports in the year of ' + str(year))\n",
    "#                      )\n",
    "#                )\n",
    "\n",
    "    \n",
    "#frames = [frame1, frame2]\n",
    "\n",
    "# First introduction to buttons\n",
    "#fig_bar_layout = dict(title=dict(text='Exports by continent from 1988 to 2019'),\n",
    " #                     yaxis=dict(title='Exports',\n",
    "  #                               range=[0,9000000000]\n",
    "   #                             ),\n",
    "    #                  updatemenus=[dict(type=\"buttons\",\n",
    "     #                               buttons=[dict(label=\"Play\",\n",
    "      #                                            method=\"animate\",\n",
    "       #                                           args=[None])\n",
    "        #                                    ]\n",
    "         #                              )\n",
    "           #                       ]\n",
    "            #        )\n",
    "\n",
    "#initial_data = dict(type='bar', \n",
    " #                   x=pivot_export.index, \n",
    "  #                  y=pivot_export.values[0],\n",
    "   #                 name=str(1988))\n",
    "\n",
    "#fig_bar = go.Figure(data = initial_data, layout = fig_bar_layout, frames=frames)\n",
    "\n",
    "#fig_bar.show(renderer='iframe')"
   ]
  },
  {
   "cell_type": "markdown",
   "metadata": {},
   "source": [
    "### ------------- BEA\n"
   ]
  },
  {
   "cell_type": "code",
   "execution_count": 1157,
   "metadata": {},
   "outputs": [
    {
     "data": {
      "text/html": [
       "<div>\n",
       "<style scoped>\n",
       "    .dataframe tbody tr th:only-of-type {\n",
       "        vertical-align: middle;\n",
       "    }\n",
       "\n",
       "    .dataframe tbody tr th {\n",
       "        vertical-align: top;\n",
       "    }\n",
       "\n",
       "    .dataframe thead th {\n",
       "        text-align: right;\n",
       "    }\n",
       "</style>\n",
       "<table border=\"1\" class=\"dataframe\">\n",
       "  <thead>\n",
       "    <tr style=\"text-align: right;\">\n",
       "      <th></th>\n",
       "      <th>Country or Area</th>\n",
       "      <th>Year</th>\n",
       "      <th>Commodity</th>\n",
       "      <th>Flow</th>\n",
       "      <th>Quantity</th>\n",
       "      <th>Trade (USD)</th>\n",
       "      <th>country</th>\n",
       "      <th>continent</th>\n",
       "      <th>region</th>\n",
       "      <th>code_2</th>\n",
       "    </tr>\n",
       "  </thead>\n",
       "  <tbody>\n",
       "  </tbody>\n",
       "</table>\n",
       "</div>"
      ],
      "text/plain": [
       "Empty DataFrame\n",
       "Columns: [Country or Area, Year, Commodity, Flow, Quantity, Trade (USD), country, continent, region, code_2]\n",
       "Index: []"
      ]
     },
     "execution_count": 1157,
     "metadata": {},
     "output_type": "execute_result"
    }
   ],
   "source": [
    "imp_exp_regions.loc[(imp_exp_regions['continent']=='nan') & (imp_exp_regions['Country or Area']!='nan')]"
   ]
  },
  {
   "cell_type": "code",
   "execution_count": 1158,
   "metadata": {},
   "outputs": [
    {
     "data": {
      "text/plain": [
       "648"
      ]
     },
     "execution_count": 1158,
     "metadata": {},
     "output_type": "execute_result"
    }
   ],
   "source": [
    "imp_exp_regions['country'].isna().sum()"
   ]
  },
  {
   "cell_type": "code",
   "execution_count": 1159,
   "metadata": {},
   "outputs": [
    {
     "data": {
      "text/plain": [
       "648"
      ]
     },
     "execution_count": 1159,
     "metadata": {},
     "output_type": "execute_result"
    }
   ],
   "source": [
    "imp_exp_regions['continent'].isna().sum()"
   ]
  },
  {
   "cell_type": "code",
   "execution_count": 1160,
   "metadata": {},
   "outputs": [],
   "source": [
    "imp_exp_regions= imp_exp_regions[~(imp_exp_regions['Flow'] == 'Re-Export')]\n",
    "imp_exp_regions= imp_exp_regions[~(imp_exp_regions['Flow'] == 'Re-Import')]"
   ]
  },
  {
   "cell_type": "code",
   "execution_count": 1161,
   "metadata": {},
   "outputs": [],
   "source": [
    "#imp_exp_regions[imp_exp_regions['Quantity'].isna()==True]"
   ]
  },
  {
   "cell_type": "code",
   "execution_count": 1162,
   "metadata": {},
   "outputs": [],
   "source": [
    "imp_exp_regions[\"Quantity\"]= imp_exp_regions[\"Quantity\"].fillna(imp_exp_regions.groupby('Country or Area')['Quantity'].transform('mean'))"
   ]
  },
  {
   "cell_type": "code",
   "execution_count": 1163,
   "metadata": {},
   "outputs": [
    {
     "data": {
      "text/plain": [
       "0         130\n",
       "1        4524\n",
       "2          45\n",
       "3         262\n",
       "4        1606\n",
       "        ...  \n",
       "5053       79\n",
       "5054      221\n",
       "5055      934\n",
       "5056    14942\n",
       "5057        9\n",
       "Name: Quantity, Length: 4898, dtype: int32"
      ]
     },
     "execution_count": 1163,
     "metadata": {},
     "output_type": "execute_result"
    }
   ],
   "source": [
    "imp_exp_regions['Quantity'].astype(int)"
   ]
  },
  {
   "cell_type": "code",
   "execution_count": 1164,
   "metadata": {},
   "outputs": [],
   "source": [
    "imp_exp_regions=imp_exp_regions[imp_exp_regions['Country or Area'].isnull()!= True] #removing nulls from Country or Area Column"
   ]
  },
  {
   "cell_type": "markdown",
   "metadata": {},
   "source": [
    "## Se necessário, mudar aqui:\n",
    "imports.loc[imports['Country or Area'] == 'Wallis and Futuna Isds', 'continent'] = 'Oceania'\n",
    "imports.loc[imports['Country or Area'] == 'Wallis and Futuna Isds','region'] = 'Polynesia'\n",
    "#imports.loc[imports['Country or Area'] == 'United Rep. of Tanzania','country'] = 'Tanzania'"
   ]
  },
  {
   "cell_type": "code",
   "execution_count": 1165,
   "metadata": {},
   "outputs": [],
   "source": [
    "imp_exp_regions.loc[imp_exp_regions['Country or Area'] == 'Wallis and Futuna Isds', 'continent'] = 'Oceania'\n",
    "imp_exp_regions.loc[imp_exp_regions['Country or Area'] == 'Wallis and Futuna Isds','region'] = 'Polynesia'\n",
    "imp_exp_regions.loc[imp_exp_regions['Country or Area'] == 'Venezuela', 'continent'] = 'Americas'\n",
    "imp_exp_regions.loc[imp_exp_regions['Country or Area'] == 'Venezuela','region'] = 'Southern America'\n",
    "imp_exp_regions.loc[imp_exp_regions['Country or Area'] == 'United Rep. of Tanzania', 'continent'] = 'Africa'\n",
    "imp_exp_regions.loc[imp_exp_regions['Country or Area'] == 'United Rep. of Tanzania','region'] = 'Eastern Africa'\n",
    "imp_exp_regions.loc[imp_exp_regions['Country or Area'] == 'United Rep. of Tanzania','country'] = 'Tanzania'\n",
    "imp_exp_regions.loc[imp_exp_regions['Country or Area'] == 'United Kingdom', 'continent'] = 'Europe'\n",
    "imp_exp_regions.loc[imp_exp_regions['Country or Area'] == 'United Kingdom','region'] = 'Northern Europe'\n",
    "imp_exp_regions.loc[imp_exp_regions['Country or Area'] == 'USA', 'continent'] = 'Americas'\n",
    "imp_exp_regions.loc[imp_exp_regions['Country or Area'] == 'USA','region'] = 'Northern America'\n",
    "imp_exp_regions.loc[imp_exp_regions['Country or Area'] == 'USA','country'] = 'United States of America'\n",
    "imp_exp_regions.loc[imp_exp_regions['Country or Area'] == 'Turks and Caicos Isds', 'continent'] = 'Americas'\n",
    "imp_exp_regions.loc[imp_exp_regions['Country or Area'] == 'Turks and Caicos Isds','region'] = 'Central America'\n",
    "imp_exp_regions.loc[imp_exp_regions['Country or Area'] == 'TFYR of Macedonia', 'continent'] = 'Europe'\n",
    "imp_exp_regions.loc[imp_exp_regions['Country or Area'] == 'TFYR of Macedonia','region'] = 'Southern Europe'\n",
    "imp_exp_regions.loc[imp_exp_regions['Country or Area'] == 'TFYR of Macedonia','country'] = 'Macedonia'\n",
    "imp_exp_regions.loc[imp_exp_regions['Country or Area'] == 'Syria', 'continent'] = 'Asia'\n",
    "imp_exp_regions.loc[imp_exp_regions['Country or Area'] == 'Syria','region'] = 'Western Asia'\n",
    "imp_exp_regions.loc[imp_exp_regions['Country or Area'] == 'Solomon Isds', 'continent'] = 'Oceania'\n",
    "imp_exp_regions.loc[imp_exp_regions['Country or Area'] == 'Solomon Isds','region'] = 'Australia and New Zealand'\n",
    "imp_exp_regions.loc[imp_exp_regions['Country or Area'] == 'Serbia and Montenegro', 'continent'] = 'Europe'\n",
    "imp_exp_regions.loc[imp_exp_regions['Country or Area'] == 'Serbia and Montenegro','region'] = 'Southern Europe'\n",
    "imp_exp_regions.loc[imp_exp_regions['Country or Area'] == 'Rep. of Moldova', 'continent'] = 'Europe'\n",
    "imp_exp_regions.loc[imp_exp_regions['Country or Area'] == 'Rep. of Moldova','region'] = 'Eastern Europe'\n",
    "imp_exp_regions.loc[imp_exp_regions['Country or Area'] == 'Rep. of Moldova','country'] = 'Moldova'\n",
    "imp_exp_regions.loc[imp_exp_regions['Country or Area'] == 'Rep. of Korea', 'continent'] = 'Asia'\n",
    "imp_exp_regions.loc[imp_exp_regions['Country or Area'] == 'Rep. of Korea','region'] = 'Eastern Asia'\n",
    "imp_exp_regions.loc[imp_exp_regions['Country or Area'] == 'Rep. of Korea','country'] = 'South Korea'\n",
    "imp_exp_regions.loc[imp_exp_regions['Country or Area'] == 'Other Asia, nes', 'continent'] = 'Asia'\n",
    "imp_exp_regions.loc[imp_exp_regions['Country or Area'] == 'Other Asia, nes','region'] = 'Other'\n",
    "imp_exp_regions.loc[imp_exp_regions['Country or Area'] == 'Neth. Antilles', 'continent'] = 'Americas'\n",
    "imp_exp_regions.loc[imp_exp_regions['Country or Area'] == 'Neth. Antilles','region'] = 'Caribbean'\n",
    "imp_exp_regions.loc[imp_exp_regions['Country or Area'] == 'Lao People\\'s Dem. Rep.', 'continent'] = 'Asia'\n",
    "imp_exp_regions.loc[imp_exp_regions['Country or Area'] == 'Lao People\\'s Dem. Rep.','region'] = 'South-Eastern Asia'\n",
    "imp_exp_regions.loc[imp_exp_regions['Country or Area'] == 'Lao People\\'s Dem. Rep.','country'] = 'Laos'\n",
    "imp_exp_regions.loc[imp_exp_regions['Country or Area'] == 'Iran', 'continent'] = 'Asia'\n",
    "imp_exp_regions.loc[imp_exp_regions['Country or Area'] == 'Iran','region'] = 'South-Western Asia'\n",
    "imp_exp_regions.loc[imp_exp_regions['Country or Area'] == 'Fmr Fed. Rep. of Germany', 'continent'] = 'Europe'\n",
    "imp_exp_regions.loc[imp_exp_regions['Country or Area'] == 'Fmr Fed. Rep. of Germany','region'] = 'Central Europe'\n",
    "imp_exp_regions.loc[imp_exp_regions['Country or Area'] == 'Fmr Fed. Rep. of Germany','country'] = 'Germany'\n",
    "imp_exp_regions.loc[imp_exp_regions['Country or Area'] == 'Faeroe Isds', 'continent'] = 'Europe'\n",
    "imp_exp_regions.loc[imp_exp_regions['Country or Area'] == 'Faeroe Isds', 'region'] = 'Northern Europe'\n",
    "imp_exp_regions.loc[imp_exp_regions['Country or Area'] == 'FS Micronesia', 'continent'] = 'Oceania'\n",
    "imp_exp_regions.loc[imp_exp_regions['Country or Area'] == 'FS Micronesia', 'region'] = 'Micronesia'\n",
    "imp_exp_regions.loc[imp_exp_regions['Country or Area'] == 'Czech Rep.', 'continent'] = 'Europe'\n",
    "imp_exp_regions.loc[imp_exp_regions['Country or Area'] == 'Czech Rep.', 'region'] = 'Central Europe'\n",
    "imp_exp_regions.loc[imp_exp_regions['Country or Area'] == 'Bosnia Herzegovina', 'continent'] = 'Europe'\n",
    "imp_exp_regions.loc[imp_exp_regions['Country or Area'] == 'Bosnia Herzegovina', 'region'] = 'Southern Europe'\n",
    "imp_exp_regions.loc[imp_exp_regions['Country or Area'] == 'Central African Rep.', 'continent'] = 'Africa'\n",
    "imp_exp_regions.loc[imp_exp_regions['Country or Area'] == 'Central African Rep.', 'region'] = 'Middle Africa'\n",
    "imp_exp_regions.loc[imp_exp_regions['Country or Area'] == 'China, Hong Kong SAR', 'continent'] = 'Asia'\n",
    "imp_exp_regions.loc[imp_exp_regions['Country or Area'] == 'China, Hong Kong SAR', 'region'] = 'Eastern Asia'\n",
    "imp_exp_regions.loc[imp_exp_regions['Country or Area'] == 'China, Macao SAR', 'continent'] = 'Asia'\n",
    "imp_exp_regions.loc[imp_exp_regions['Country or Area'] == 'China, Macao SAR', 'region'] = 'Eastern Asia'\n",
    "imp_exp_regions.loc[imp_exp_regions['Country or Area'] == 'Cook Isds', 'continent'] = 'Oceania'\n",
    "imp_exp_regions.loc[imp_exp_regions['Country or Area'] == 'Cook Isds', 'region'] = 'Polynesia'\n",
    "imp_exp_regions.loc[imp_exp_regions['Country or Area'] == 'Dominican Rep.', 'continent'] = 'Americas'\n",
    "imp_exp_regions.loc[imp_exp_regions['Country or Area'] == 'Dominican Rep.', 'region'] = 'Caribbean'\n",
    "imp_exp_regions.loc[imp_exp_regions['Country or Area'] == 'Fmr Sudan', 'continent'] = 'Africa'\n",
    "imp_exp_regions.loc[imp_exp_regions['Country or Area'] == 'Fmr Sudan','region'] = 'Northern Africa'\n",
    "imp_exp_regions.loc[imp_exp_regions['Country or Area'] == 'Fmr Sudan','country'] = 'Sudan'"
   ]
  },
  {
   "cell_type": "code",
   "execution_count": 1166,
   "metadata": {},
   "outputs": [],
   "source": [
    "imp_exp_regions= imp_exp_regions[~(imp_exp_regions['Country or Area'] == 'Belgium-Luxembourg')]"
   ]
  },
  {
   "cell_type": "code",
   "execution_count": 1167,
   "metadata": {},
   "outputs": [],
   "source": [
    "imp_exp_regions= imp_exp_regions[~(imp_exp_regions['Country or Area'] == 'EU-28')]\n",
    "imp_exp_regions= imp_exp_regions[~(imp_exp_regions['Country or Area'] == 'So. African Customs Union')]\n",
    "imp_exp_regions= imp_exp_regions[~(imp_exp_regions['Country or Area'] == 'China, Hong Kong SAR')]\n"
   ]
  },
  {
   "cell_type": "code",
   "execution_count": 1168,
   "metadata": {},
   "outputs": [],
   "source": [
    "flows_df=imp_exp_regions.drop(columns=['country', 'code_2'])"
   ]
  },
  {
   "cell_type": "markdown",
   "metadata": {},
   "source": [
    "# Visualization "
   ]
  },
  {
   "cell_type": "code",
   "execution_count": 1169,
   "metadata": {},
   "outputs": [],
   "source": [
    "#convert data type and sort the data by Year\n",
    "flows_df=flows_df.sort_values(by=['Year'])"
   ]
  },
  {
   "cell_type": "code",
   "execution_count": 1170,
   "metadata": {},
   "outputs": [],
   "source": [
    "flows_df=flows_df.dropna(how='any')"
   ]
  },
  {
   "cell_type": "code",
   "execution_count": 1171,
   "metadata": {},
   "outputs": [
    {
     "data": {
      "text/plain": [
       "0.0"
      ]
     },
     "execution_count": 1171,
     "metadata": {},
     "output_type": "execute_result"
    }
   ],
   "source": [
    "min(flows_df['Quantity'])"
   ]
  },
  {
   "cell_type": "code",
   "execution_count": 1172,
   "metadata": {},
   "outputs": [
    {
     "data": {
      "text/html": [
       "<div>\n",
       "<style scoped>\n",
       "    .dataframe tbody tr th:only-of-type {\n",
       "        vertical-align: middle;\n",
       "    }\n",
       "\n",
       "    .dataframe tbody tr th {\n",
       "        vertical-align: top;\n",
       "    }\n",
       "\n",
       "    .dataframe thead th {\n",
       "        text-align: right;\n",
       "    }\n",
       "</style>\n",
       "<table border=\"1\" class=\"dataframe\">\n",
       "  <thead>\n",
       "    <tr style=\"text-align: right;\">\n",
       "      <th></th>\n",
       "      <th></th>\n",
       "      <th></th>\n",
       "      <th>Quantity</th>\n",
       "      <th>Trade (USD)</th>\n",
       "    </tr>\n",
       "    <tr>\n",
       "      <th>Year</th>\n",
       "      <th>continent</th>\n",
       "      <th>Flow</th>\n",
       "      <th></th>\n",
       "      <th></th>\n",
       "    </tr>\n",
       "  </thead>\n",
       "  <tbody>\n",
       "    <tr>\n",
       "      <th rowspan=\"5\" valign=\"top\">1988</th>\n",
       "      <th>Americas</th>\n",
       "      <th>Export</th>\n",
       "      <td>2.720937e+06</td>\n",
       "      <td>3.995150e+06</td>\n",
       "    </tr>\n",
       "    <tr>\n",
       "      <th>Asia</th>\n",
       "      <th>Import</th>\n",
       "      <td>2.147566e+07</td>\n",
       "      <td>4.471586e+07</td>\n",
       "    </tr>\n",
       "    <tr>\n",
       "      <th rowspan=\"2\" valign=\"top\">Europe</th>\n",
       "      <th>Export</th>\n",
       "      <td>4.682465e+05</td>\n",
       "      <td>9.326558e+05</td>\n",
       "    </tr>\n",
       "    <tr>\n",
       "      <th>Import</th>\n",
       "      <td>4.146870e+07</td>\n",
       "      <td>8.450988e+07</td>\n",
       "    </tr>\n",
       "    <tr>\n",
       "      <th>Oceania</th>\n",
       "      <th>Export</th>\n",
       "      <td>4.900620e+05</td>\n",
       "      <td>8.065120e+05</td>\n",
       "    </tr>\n",
       "    <tr>\n",
       "      <th>...</th>\n",
       "      <th>...</th>\n",
       "      <th>...</th>\n",
       "      <td>...</td>\n",
       "      <td>...</td>\n",
       "    </tr>\n",
       "    <tr>\n",
       "      <th rowspan=\"5\" valign=\"top\">2019</th>\n",
       "      <th>Americas</th>\n",
       "      <th>Import</th>\n",
       "      <td>3.068334e+07</td>\n",
       "      <td>7.551597e+07</td>\n",
       "    </tr>\n",
       "    <tr>\n",
       "      <th rowspan=\"2\" valign=\"top\">Asia</th>\n",
       "      <th>Export</th>\n",
       "      <td>1.328750e+04</td>\n",
       "      <td>1.201463e+04</td>\n",
       "    </tr>\n",
       "    <tr>\n",
       "      <th>Import</th>\n",
       "      <td>1.405272e+07</td>\n",
       "      <td>3.685246e+07</td>\n",
       "    </tr>\n",
       "    <tr>\n",
       "      <th rowspan=\"2\" valign=\"top\">Europe</th>\n",
       "      <th>Export</th>\n",
       "      <td>7.283239e+04</td>\n",
       "      <td>4.164521e+05</td>\n",
       "    </tr>\n",
       "    <tr>\n",
       "      <th>Import</th>\n",
       "      <td>9.974115e+06</td>\n",
       "      <td>2.704631e+07</td>\n",
       "    </tr>\n",
       "  </tbody>\n",
       "</table>\n",
       "<p>308 rows × 2 columns</p>\n",
       "</div>"
      ],
      "text/plain": [
       "                           Quantity   Trade (USD)\n",
       "Year continent Flow                              \n",
       "1988 Americas  Export  2.720937e+06  3.995150e+06\n",
       "     Asia      Import  2.147566e+07  4.471586e+07\n",
       "     Europe    Export  4.682465e+05  9.326558e+05\n",
       "               Import  4.146870e+07  8.450988e+07\n",
       "     Oceania   Export  4.900620e+05  8.065120e+05\n",
       "...                             ...           ...\n",
       "2019 Americas  Import  3.068334e+07  7.551597e+07\n",
       "     Asia      Export  1.328750e+04  1.201463e+04\n",
       "               Import  1.405272e+07  3.685246e+07\n",
       "     Europe    Export  7.283239e+04  4.164521e+05\n",
       "               Import  9.974115e+06  2.704631e+07\n",
       "\n",
       "[308 rows x 2 columns]"
      ]
     },
     "execution_count": 1172,
     "metadata": {},
     "output_type": "execute_result"
    }
   ],
   "source": [
    "groupby_flows=flows_df.groupby(['Year','continent','Flow']).mean(['Trade (USD)','Quantity'])\n",
    "groupby_flows"
   ]
  },
  {
   "cell_type": "code",
   "execution_count": 1173,
   "metadata": {},
   "outputs": [],
   "source": [
    "groupby_flows.reset_index(inplace=True)"
   ]
  },
  {
   "cell_type": "code",
   "execution_count": 1174,
   "metadata": {},
   "outputs": [],
   "source": [
    "groupby_flows=groupby_flows[groupby_flows['Year']!=1988]\n",
    "groupby_flows=groupby_flows[groupby_flows['Year']!=1989]\n",
    "groupby_flows=groupby_flows[groupby_flows['Year']!=1990]\n",
    "#delete years until all continents have value for exports and imports\n"
   ]
  },
  {
   "cell_type": "code",
   "execution_count": 1175,
   "metadata": {},
   "outputs": [],
   "source": [
    "flows_df=flows_df[flows_df['Year']!=1988]\n",
    "flows_df=flows_df[flows_df['Year']!=1989]\n",
    "flows_df=flows_df[flows_df['Year']!=1990]"
   ]
  },
  {
   "cell_type": "code",
   "execution_count": 1176,
   "metadata": {},
   "outputs": [
    {
     "data": {
      "text/html": [
       "<div>\n",
       "<style scoped>\n",
       "    .dataframe tbody tr th:only-of-type {\n",
       "        vertical-align: middle;\n",
       "    }\n",
       "\n",
       "    .dataframe tbody tr th {\n",
       "        vertical-align: top;\n",
       "    }\n",
       "\n",
       "    .dataframe thead th {\n",
       "        text-align: right;\n",
       "    }\n",
       "</style>\n",
       "<table border=\"1\" class=\"dataframe\">\n",
       "  <thead>\n",
       "    <tr style=\"text-align: right;\">\n",
       "      <th></th>\n",
       "      <th>Year</th>\n",
       "      <th>continent</th>\n",
       "      <th>Flow</th>\n",
       "      <th>Quantity</th>\n",
       "      <th>Trade (USD)</th>\n",
       "    </tr>\n",
       "  </thead>\n",
       "  <tbody>\n",
       "    <tr>\n",
       "      <th>21</th>\n",
       "      <td>1991</td>\n",
       "      <td>Africa</td>\n",
       "      <td>Export</td>\n",
       "      <td>4.272629e+06</td>\n",
       "      <td>3.971947e+06</td>\n",
       "    </tr>\n",
       "    <tr>\n",
       "      <th>22</th>\n",
       "      <td>1991</td>\n",
       "      <td>Africa</td>\n",
       "      <td>Import</td>\n",
       "      <td>1.778005e+05</td>\n",
       "      <td>2.860525e+05</td>\n",
       "    </tr>\n",
       "    <tr>\n",
       "      <th>23</th>\n",
       "      <td>1991</td>\n",
       "      <td>Americas</td>\n",
       "      <td>Export</td>\n",
       "      <td>2.003790e+07</td>\n",
       "      <td>2.281184e+07</td>\n",
       "    </tr>\n",
       "    <tr>\n",
       "      <th>24</th>\n",
       "      <td>1991</td>\n",
       "      <td>Americas</td>\n",
       "      <td>Import</td>\n",
       "      <td>8.479918e+07</td>\n",
       "      <td>1.022240e+08</td>\n",
       "    </tr>\n",
       "    <tr>\n",
       "      <th>25</th>\n",
       "      <td>1991</td>\n",
       "      <td>Asia</td>\n",
       "      <td>Export</td>\n",
       "      <td>5.407553e+07</td>\n",
       "      <td>5.273862e+07</td>\n",
       "    </tr>\n",
       "    <tr>\n",
       "      <th>...</th>\n",
       "      <td>...</td>\n",
       "      <td>...</td>\n",
       "      <td>...</td>\n",
       "      <td>...</td>\n",
       "      <td>...</td>\n",
       "    </tr>\n",
       "    <tr>\n",
       "      <th>303</th>\n",
       "      <td>2019</td>\n",
       "      <td>Americas</td>\n",
       "      <td>Import</td>\n",
       "      <td>3.068334e+07</td>\n",
       "      <td>7.551597e+07</td>\n",
       "    </tr>\n",
       "    <tr>\n",
       "      <th>304</th>\n",
       "      <td>2019</td>\n",
       "      <td>Asia</td>\n",
       "      <td>Export</td>\n",
       "      <td>1.328750e+04</td>\n",
       "      <td>1.201463e+04</td>\n",
       "    </tr>\n",
       "    <tr>\n",
       "      <th>305</th>\n",
       "      <td>2019</td>\n",
       "      <td>Asia</td>\n",
       "      <td>Import</td>\n",
       "      <td>1.405272e+07</td>\n",
       "      <td>3.685246e+07</td>\n",
       "    </tr>\n",
       "    <tr>\n",
       "      <th>306</th>\n",
       "      <td>2019</td>\n",
       "      <td>Europe</td>\n",
       "      <td>Export</td>\n",
       "      <td>7.283239e+04</td>\n",
       "      <td>4.164521e+05</td>\n",
       "    </tr>\n",
       "    <tr>\n",
       "      <th>307</th>\n",
       "      <td>2019</td>\n",
       "      <td>Europe</td>\n",
       "      <td>Import</td>\n",
       "      <td>9.974115e+06</td>\n",
       "      <td>2.704631e+07</td>\n",
       "    </tr>\n",
       "  </tbody>\n",
       "</table>\n",
       "<p>287 rows × 5 columns</p>\n",
       "</div>"
      ],
      "text/plain": [
       "     Year continent    Flow      Quantity   Trade (USD)\n",
       "21   1991    Africa  Export  4.272629e+06  3.971947e+06\n",
       "22   1991    Africa  Import  1.778005e+05  2.860525e+05\n",
       "23   1991  Americas  Export  2.003790e+07  2.281184e+07\n",
       "24   1991  Americas  Import  8.479918e+07  1.022240e+08\n",
       "25   1991      Asia  Export  5.407553e+07  5.273862e+07\n",
       "..    ...       ...     ...           ...           ...\n",
       "303  2019  Americas  Import  3.068334e+07  7.551597e+07\n",
       "304  2019      Asia  Export  1.328750e+04  1.201463e+04\n",
       "305  2019      Asia  Import  1.405272e+07  3.685246e+07\n",
       "306  2019    Europe  Export  7.283239e+04  4.164521e+05\n",
       "307  2019    Europe  Import  9.974115e+06  2.704631e+07\n",
       "\n",
       "[287 rows x 5 columns]"
      ]
     },
     "execution_count": 1176,
     "metadata": {},
     "output_type": "execute_result"
    }
   ],
   "source": [
    "groupby_flows"
   ]
  },
  {
   "cell_type": "code",
   "execution_count": 1177,
   "metadata": {},
   "outputs": [],
   "source": [
    "africa_count= len(flows_df.groupby('continent')['Country or Area'].unique()[0])\n",
    "americas_count= len(flows_df.groupby('continent')['Country or Area'].unique()[1])\n",
    "asia_count= len(flows_df.groupby('continent')['Country or Area'].unique()[2])\n",
    "europe_count= len(flows_df.groupby('continent')['Country or Area'].unique()[3])\n",
    "oceania_count= len(flows_df.groupby('continent')['Country or Area'].unique()[4])"
   ]
  },
  {
   "cell_type": "code",
   "execution_count": 1178,
   "metadata": {},
   "outputs": [
    {
     "name": "stdout",
     "output_type": "stream",
     "text": [
      "Africa has: 49 countries\n",
      "Americas has: 43 countries\n",
      "Asia has: 44 countries\n",
      "Europe has: 42 countries\n",
      "Oceania has: 15 countries\n"
     ]
    }
   ],
   "source": [
    "print('Africa has: ' + str(africa_count) + ' countries')\n",
    "print('Americas has: ' + str(americas_count) + ' countries')\n",
    "print('Asia has: ' + str(asia_count) + ' countries')\n",
    "print('Europe has: ' + str(europe_count) + ' countries')\n",
    "print('Oceania has: ' + str(oceania_count) + ' countries')"
   ]
  },
  {
   "cell_type": "code",
   "execution_count": 1179,
   "metadata": {},
   "outputs": [
    {
     "name": "stdout",
     "output_type": "stream",
     "text": [
      "  Continent  Nr of Countries\n",
      "0    Africa               49\n",
      "1  Americas               43\n",
      "2      Asia               44\n",
      "3    Europe               42\n",
      "4   Oceania               15\n"
     ]
    }
   ],
   "source": [
    "nr_countries = [['Africa', africa_count],\n",
    "                ['Americas', americas_count], \n",
    "                ['Asia', asia_count],\n",
    "                ['Europe', europe_count],\n",
    "                ['Oceania', oceania_count]]\n",
    "\n",
    "df_nr_countries = pd.DataFrame(nr_countries, columns = ['Continent', 'Nr of Countries'])\n",
    "print(df_nr_countries)"
   ]
  },
  {
   "cell_type": "code",
   "execution_count": 1180,
   "metadata": {},
   "outputs": [
    {
     "data": {
      "text/html": [
       "<div>\n",
       "<style scoped>\n",
       "    .dataframe tbody tr th:only-of-type {\n",
       "        vertical-align: middle;\n",
       "    }\n",
       "\n",
       "    .dataframe tbody tr th {\n",
       "        vertical-align: top;\n",
       "    }\n",
       "\n",
       "    .dataframe thead th {\n",
       "        text-align: right;\n",
       "    }\n",
       "</style>\n",
       "<table border=\"1\" class=\"dataframe\">\n",
       "  <thead>\n",
       "    <tr style=\"text-align: right;\">\n",
       "      <th></th>\n",
       "      <th>Continent</th>\n",
       "      <th>Nr of Countries</th>\n",
       "      <th>Year</th>\n",
       "      <th>Flow</th>\n",
       "      <th>Quantity</th>\n",
       "      <th>Trade (USD)</th>\n",
       "    </tr>\n",
       "  </thead>\n",
       "  <tbody>\n",
       "    <tr>\n",
       "      <th>0</th>\n",
       "      <td>Africa</td>\n",
       "      <td>49</td>\n",
       "      <td>1991</td>\n",
       "      <td>Export</td>\n",
       "      <td>4.272629e+06</td>\n",
       "      <td>3.971947e+06</td>\n",
       "    </tr>\n",
       "    <tr>\n",
       "      <th>1</th>\n",
       "      <td>Africa</td>\n",
       "      <td>49</td>\n",
       "      <td>1991</td>\n",
       "      <td>Import</td>\n",
       "      <td>1.778005e+05</td>\n",
       "      <td>2.860525e+05</td>\n",
       "    </tr>\n",
       "    <tr>\n",
       "      <th>2</th>\n",
       "      <td>Africa</td>\n",
       "      <td>49</td>\n",
       "      <td>1992</td>\n",
       "      <td>Export</td>\n",
       "      <td>1.365324e+06</td>\n",
       "      <td>1.254805e+06</td>\n",
       "    </tr>\n",
       "    <tr>\n",
       "      <th>3</th>\n",
       "      <td>Africa</td>\n",
       "      <td>49</td>\n",
       "      <td>1992</td>\n",
       "      <td>Import</td>\n",
       "      <td>6.608125e+05</td>\n",
       "      <td>9.724085e+05</td>\n",
       "    </tr>\n",
       "    <tr>\n",
       "      <th>4</th>\n",
       "      <td>Africa</td>\n",
       "      <td>49</td>\n",
       "      <td>1993</td>\n",
       "      <td>Export</td>\n",
       "      <td>2.567540e+06</td>\n",
       "      <td>1.958441e+06</td>\n",
       "    </tr>\n",
       "    <tr>\n",
       "      <th>...</th>\n",
       "      <td>...</td>\n",
       "      <td>...</td>\n",
       "      <td>...</td>\n",
       "      <td>...</td>\n",
       "      <td>...</td>\n",
       "      <td>...</td>\n",
       "    </tr>\n",
       "    <tr>\n",
       "      <th>282</th>\n",
       "      <td>Oceania</td>\n",
       "      <td>15</td>\n",
       "      <td>2016</td>\n",
       "      <td>Import</td>\n",
       "      <td>6.615408e+05</td>\n",
       "      <td>2.486772e+06</td>\n",
       "    </tr>\n",
       "    <tr>\n",
       "      <th>283</th>\n",
       "      <td>Oceania</td>\n",
       "      <td>15</td>\n",
       "      <td>2017</td>\n",
       "      <td>Export</td>\n",
       "      <td>8.488485e+05</td>\n",
       "      <td>9.444888e+05</td>\n",
       "    </tr>\n",
       "    <tr>\n",
       "      <th>284</th>\n",
       "      <td>Oceania</td>\n",
       "      <td>15</td>\n",
       "      <td>2017</td>\n",
       "      <td>Import</td>\n",
       "      <td>5.457640e+05</td>\n",
       "      <td>2.039933e+06</td>\n",
       "    </tr>\n",
       "    <tr>\n",
       "      <th>285</th>\n",
       "      <td>Oceania</td>\n",
       "      <td>15</td>\n",
       "      <td>2018</td>\n",
       "      <td>Export</td>\n",
       "      <td>1.021311e+06</td>\n",
       "      <td>1.793766e+06</td>\n",
       "    </tr>\n",
       "    <tr>\n",
       "      <th>286</th>\n",
       "      <td>Oceania</td>\n",
       "      <td>15</td>\n",
       "      <td>2018</td>\n",
       "      <td>Import</td>\n",
       "      <td>5.851562e+05</td>\n",
       "      <td>1.481987e+06</td>\n",
       "    </tr>\n",
       "  </tbody>\n",
       "</table>\n",
       "<p>287 rows × 6 columns</p>\n",
       "</div>"
      ],
      "text/plain": [
       "    Continent  Nr of Countries  Year    Flow      Quantity   Trade (USD)\n",
       "0      Africa               49  1991  Export  4.272629e+06  3.971947e+06\n",
       "1      Africa               49  1991  Import  1.778005e+05  2.860525e+05\n",
       "2      Africa               49  1992  Export  1.365324e+06  1.254805e+06\n",
       "3      Africa               49  1992  Import  6.608125e+05  9.724085e+05\n",
       "4      Africa               49  1993  Export  2.567540e+06  1.958441e+06\n",
       "..        ...              ...   ...     ...           ...           ...\n",
       "282   Oceania               15  2016  Import  6.615408e+05  2.486772e+06\n",
       "283   Oceania               15  2017  Export  8.488485e+05  9.444888e+05\n",
       "284   Oceania               15  2017  Import  5.457640e+05  2.039933e+06\n",
       "285   Oceania               15  2018  Export  1.021311e+06  1.793766e+06\n",
       "286   Oceania               15  2018  Import  5.851562e+05  1.481987e+06\n",
       "\n",
       "[287 rows x 6 columns]"
      ]
     },
     "execution_count": 1180,
     "metadata": {},
     "output_type": "execute_result"
    }
   ],
   "source": [
    "groupby_flows= pd.merge(df_nr_countries, groupby_flows, left_on='Continent', right_on='continent')\n",
    "groupby_flows.drop(columns='continent', inplace=True)\n",
    "groupby_flows"
   ]
  },
  {
   "cell_type": "code",
   "execution_count": 1181,
   "metadata": {},
   "outputs": [],
   "source": [
    "#groupby_flows['Q_avg_pond']=groupby_flows.apply(lambda row: row['Quantity']/row['Nr of Countries'], axis=1)\n",
    "#groupby_flows['T_avg_pond']=groupby_flows.apply(lambda row: row['Trade (USD)']/row['Nr of Countries'], axis=1)\n",
    "#TO TEST VISUALIZATIONS WITH MEDIA PONDERADA - not used so far"
   ]
  },
  {
   "cell_type": "code",
   "execution_count": 1182,
   "metadata": {},
   "outputs": [
    {
     "data": {
      "text/html": [
       "<div>\n",
       "<style scoped>\n",
       "    .dataframe tbody tr th:only-of-type {\n",
       "        vertical-align: middle;\n",
       "    }\n",
       "\n",
       "    .dataframe tbody tr th {\n",
       "        vertical-align: top;\n",
       "    }\n",
       "\n",
       "    .dataframe thead th {\n",
       "        text-align: right;\n",
       "    }\n",
       "</style>\n",
       "<table border=\"1\" class=\"dataframe\">\n",
       "  <thead>\n",
       "    <tr style=\"text-align: right;\">\n",
       "      <th></th>\n",
       "      <th>Continent</th>\n",
       "      <th>Nr of Countries</th>\n",
       "      <th>Year</th>\n",
       "      <th>Flow</th>\n",
       "      <th>Quantity</th>\n",
       "      <th>Trade (USD)</th>\n",
       "    </tr>\n",
       "  </thead>\n",
       "  <tbody>\n",
       "    <tr>\n",
       "      <th>0</th>\n",
       "      <td>Africa</td>\n",
       "      <td>49</td>\n",
       "      <td>1991</td>\n",
       "      <td>Export</td>\n",
       "      <td>4.272629e+06</td>\n",
       "      <td>3.971947e+06</td>\n",
       "    </tr>\n",
       "    <tr>\n",
       "      <th>1</th>\n",
       "      <td>Africa</td>\n",
       "      <td>49</td>\n",
       "      <td>1991</td>\n",
       "      <td>Import</td>\n",
       "      <td>1.778005e+05</td>\n",
       "      <td>2.860525e+05</td>\n",
       "    </tr>\n",
       "    <tr>\n",
       "      <th>2</th>\n",
       "      <td>Africa</td>\n",
       "      <td>49</td>\n",
       "      <td>1992</td>\n",
       "      <td>Export</td>\n",
       "      <td>1.365324e+06</td>\n",
       "      <td>1.254805e+06</td>\n",
       "    </tr>\n",
       "    <tr>\n",
       "      <th>3</th>\n",
       "      <td>Africa</td>\n",
       "      <td>49</td>\n",
       "      <td>1992</td>\n",
       "      <td>Import</td>\n",
       "      <td>6.608125e+05</td>\n",
       "      <td>9.724085e+05</td>\n",
       "    </tr>\n",
       "    <tr>\n",
       "      <th>4</th>\n",
       "      <td>Africa</td>\n",
       "      <td>49</td>\n",
       "      <td>1993</td>\n",
       "      <td>Export</td>\n",
       "      <td>2.567540e+06</td>\n",
       "      <td>1.958441e+06</td>\n",
       "    </tr>\n",
       "    <tr>\n",
       "      <th>...</th>\n",
       "      <td>...</td>\n",
       "      <td>...</td>\n",
       "      <td>...</td>\n",
       "      <td>...</td>\n",
       "      <td>...</td>\n",
       "      <td>...</td>\n",
       "    </tr>\n",
       "    <tr>\n",
       "      <th>282</th>\n",
       "      <td>Oceania</td>\n",
       "      <td>15</td>\n",
       "      <td>2016</td>\n",
       "      <td>Import</td>\n",
       "      <td>6.615408e+05</td>\n",
       "      <td>2.486772e+06</td>\n",
       "    </tr>\n",
       "    <tr>\n",
       "      <th>283</th>\n",
       "      <td>Oceania</td>\n",
       "      <td>15</td>\n",
       "      <td>2017</td>\n",
       "      <td>Export</td>\n",
       "      <td>8.488485e+05</td>\n",
       "      <td>9.444888e+05</td>\n",
       "    </tr>\n",
       "    <tr>\n",
       "      <th>284</th>\n",
       "      <td>Oceania</td>\n",
       "      <td>15</td>\n",
       "      <td>2017</td>\n",
       "      <td>Import</td>\n",
       "      <td>5.457640e+05</td>\n",
       "      <td>2.039933e+06</td>\n",
       "    </tr>\n",
       "    <tr>\n",
       "      <th>285</th>\n",
       "      <td>Oceania</td>\n",
       "      <td>15</td>\n",
       "      <td>2018</td>\n",
       "      <td>Export</td>\n",
       "      <td>1.021311e+06</td>\n",
       "      <td>1.793766e+06</td>\n",
       "    </tr>\n",
       "    <tr>\n",
       "      <th>286</th>\n",
       "      <td>Oceania</td>\n",
       "      <td>15</td>\n",
       "      <td>2018</td>\n",
       "      <td>Import</td>\n",
       "      <td>5.851562e+05</td>\n",
       "      <td>1.481987e+06</td>\n",
       "    </tr>\n",
       "  </tbody>\n",
       "</table>\n",
       "<p>287 rows × 6 columns</p>\n",
       "</div>"
      ],
      "text/plain": [
       "    Continent  Nr of Countries  Year    Flow      Quantity   Trade (USD)\n",
       "0      Africa               49  1991  Export  4.272629e+06  3.971947e+06\n",
       "1      Africa               49  1991  Import  1.778005e+05  2.860525e+05\n",
       "2      Africa               49  1992  Export  1.365324e+06  1.254805e+06\n",
       "3      Africa               49  1992  Import  6.608125e+05  9.724085e+05\n",
       "4      Africa               49  1993  Export  2.567540e+06  1.958441e+06\n",
       "..        ...              ...   ...     ...           ...           ...\n",
       "282   Oceania               15  2016  Import  6.615408e+05  2.486772e+06\n",
       "283   Oceania               15  2017  Export  8.488485e+05  9.444888e+05\n",
       "284   Oceania               15  2017  Import  5.457640e+05  2.039933e+06\n",
       "285   Oceania               15  2018  Export  1.021311e+06  1.793766e+06\n",
       "286   Oceania               15  2018  Import  5.851562e+05  1.481987e+06\n",
       "\n",
       "[287 rows x 6 columns]"
      ]
     },
     "execution_count": 1182,
     "metadata": {},
     "output_type": "execute_result"
    }
   ],
   "source": [
    "groupby_flows"
   ]
  },
  {
   "cell_type": "code",
   "execution_count": 1183,
   "metadata": {},
   "outputs": [],
   "source": [
    "groupby_flows = groupby_flows.sort_values('Year', ascending=True)"
   ]
  },
  {
   "cell_type": "code",
   "execution_count": 1184,
   "metadata": {},
   "outputs": [],
   "source": [
    "def scatter_flows(flow):\n",
    "    fig = px.scatter(groupby_flows[groupby_flows['Flow']==flow],\n",
    "                 x='Quantity',\n",
    "                 y='Trade (USD)',\n",
    "                 animation_frame='Year', \n",
    "                 animation_group='Continent', \n",
    "                 size='Nr of Countries', \n",
    "                 color='Continent',\n",
    "                 hover_name='Continent',\n",
    "                 )\n",
    "    fig.update_layout(\n",
    "                    title=('Quantity of Cacao ' + str(flow) + 'ed vs Trade (USD) by Continents in 1988 - 2019'),\n",
    "                    xaxis=dict(title=('Quantity '+ str(flow) + 'ed')),\n",
    "                    yaxis=dict(title=(str(flow) + ' Trade (USD) of Cacao')),\n",
    "                    #paper_bgcolor='rgb(500, 500, 500)'#,\n",
    "                    #plot_bgcolor='rgb(243, 243, 243)'\n",
    "                    )\n",
    "                    \n",
    "    fig.layout.updatemenus[0].buttons[0].args[1]['transition']['duration'] = 3000\n",
    "    return fig.show()"
   ]
  },
  {
   "cell_type": "code",
   "execution_count": 1185,
   "metadata": {},
   "outputs": [
    {
     "data": {
      "application/vnd.plotly.v1+json": {
       "config": {
        "plotlyServerURL": "https://plot.ly"
       },
       "data": [
        {
         "hovertemplate": "<b>%{hovertext}</b><br><br>Continent=Europe<br>Year=1991<br>Quantity=%{x}<br>Trade (USD)=%{y}<br>Nr of Countries=%{marker.size}<extra></extra>",
         "hovertext": [
          "Europe"
         ],
         "ids": [
          "Europe"
         ],
         "legendgroup": "Europe",
         "marker": {
          "color": "#636efa",
          "size": [
           42
          ],
          "sizemode": "area",
          "sizeref": 0.1225,
          "symbol": "circle"
         },
         "mode": "markers",
         "name": "Europe",
         "orientation": "v",
         "showlegend": true,
         "type": "scatter",
         "x": [
          53826554.571428575
         ],
         "xaxis": "x",
         "y": [
          72002798.57142857
         ],
         "yaxis": "y"
        },
        {
         "hovertemplate": "<b>%{hovertext}</b><br><br>Continent=Asia<br>Year=1991<br>Quantity=%{x}<br>Trade (USD)=%{y}<br>Nr of Countries=%{marker.size}<extra></extra>",
         "hovertext": [
          "Asia"
         ],
         "ids": [
          "Asia"
         ],
         "legendgroup": "Asia",
         "marker": {
          "color": "#EF553B",
          "size": [
           44
          ],
          "sizemode": "area",
          "sizeref": 0.1225,
          "symbol": "circle"
         },
         "mode": "markers",
         "name": "Asia",
         "orientation": "v",
         "showlegend": true,
         "type": "scatter",
         "x": [
          13369282.272727273
         ],
         "xaxis": "x",
         "y": [
          16734093
         ],
         "yaxis": "y"
        },
        {
         "hovertemplate": "<b>%{hovertext}</b><br><br>Continent=Oceania<br>Year=1991<br>Quantity=%{x}<br>Trade (USD)=%{y}<br>Nr of Countries=%{marker.size}<extra></extra>",
         "hovertext": [
          "Oceania"
         ],
         "ids": [
          "Oceania"
         ],
         "legendgroup": "Oceania",
         "marker": {
          "color": "#00cc96",
          "size": [
           15
          ],
          "sizemode": "area",
          "sizeref": 0.1225,
          "symbol": "circle"
         },
         "mode": "markers",
         "name": "Oceania",
         "orientation": "v",
         "showlegend": true,
         "type": "scatter",
         "x": [
          67765.5
         ],
         "xaxis": "x",
         "y": [
          118264
         ],
         "yaxis": "y"
        },
        {
         "hovertemplate": "<b>%{hovertext}</b><br><br>Continent=Americas<br>Year=1991<br>Quantity=%{x}<br>Trade (USD)=%{y}<br>Nr of Countries=%{marker.size}<extra></extra>",
         "hovertext": [
          "Americas"
         ],
         "ids": [
          "Americas"
         ],
         "legendgroup": "Americas",
         "marker": {
          "color": "#ab63fa",
          "size": [
           43
          ],
          "sizemode": "area",
          "sizeref": 0.1225,
          "symbol": "circle"
         },
         "mode": "markers",
         "name": "Americas",
         "orientation": "v",
         "showlegend": true,
         "type": "scatter",
         "x": [
          84799181.8
         ],
         "xaxis": "x",
         "y": [
          102223994.4
         ],
         "yaxis": "y"
        },
        {
         "hovertemplate": "<b>%{hovertext}</b><br><br>Continent=Africa<br>Year=1991<br>Quantity=%{x}<br>Trade (USD)=%{y}<br>Nr of Countries=%{marker.size}<extra></extra>",
         "hovertext": [
          "Africa"
         ],
         "ids": [
          "Africa"
         ],
         "legendgroup": "Africa",
         "marker": {
          "color": "#FFA15A",
          "size": [
           49
          ],
          "sizemode": "area",
          "sizeref": 0.1225,
          "symbol": "circle"
         },
         "mode": "markers",
         "name": "Africa",
         "orientation": "v",
         "showlegend": true,
         "type": "scatter",
         "x": [
          177800.5
         ],
         "xaxis": "x",
         "y": [
          286052.5
         ],
         "yaxis": "y"
        }
       ],
       "frames": [
        {
         "data": [
          {
           "hovertemplate": "<b>%{hovertext}</b><br><br>Continent=Europe<br>Year=1991<br>Quantity=%{x}<br>Trade (USD)=%{y}<br>Nr of Countries=%{marker.size}<extra></extra>",
           "hovertext": [
            "Europe"
           ],
           "ids": [
            "Europe"
           ],
           "legendgroup": "Europe",
           "marker": {
            "color": "#636efa",
            "size": [
             42
            ],
            "sizemode": "area",
            "sizeref": 0.1225,
            "symbol": "circle"
           },
           "mode": "markers",
           "name": "Europe",
           "orientation": "v",
           "showlegend": true,
           "type": "scatter",
           "x": [
            53826554.571428575
           ],
           "xaxis": "x",
           "y": [
            72002798.57142857
           ],
           "yaxis": "y"
          },
          {
           "hovertemplate": "<b>%{hovertext}</b><br><br>Continent=Asia<br>Year=1991<br>Quantity=%{x}<br>Trade (USD)=%{y}<br>Nr of Countries=%{marker.size}<extra></extra>",
           "hovertext": [
            "Asia"
           ],
           "ids": [
            "Asia"
           ],
           "legendgroup": "Asia",
           "marker": {
            "color": "#EF553B",
            "size": [
             44
            ],
            "sizemode": "area",
            "sizeref": 0.1225,
            "symbol": "circle"
           },
           "mode": "markers",
           "name": "Asia",
           "orientation": "v",
           "showlegend": true,
           "type": "scatter",
           "x": [
            13369282.272727273
           ],
           "xaxis": "x",
           "y": [
            16734093
           ],
           "yaxis": "y"
          },
          {
           "hovertemplate": "<b>%{hovertext}</b><br><br>Continent=Oceania<br>Year=1991<br>Quantity=%{x}<br>Trade (USD)=%{y}<br>Nr of Countries=%{marker.size}<extra></extra>",
           "hovertext": [
            "Oceania"
           ],
           "ids": [
            "Oceania"
           ],
           "legendgroup": "Oceania",
           "marker": {
            "color": "#00cc96",
            "size": [
             15
            ],
            "sizemode": "area",
            "sizeref": 0.1225,
            "symbol": "circle"
           },
           "mode": "markers",
           "name": "Oceania",
           "orientation": "v",
           "showlegend": true,
           "type": "scatter",
           "x": [
            67765.5
           ],
           "xaxis": "x",
           "y": [
            118264
           ],
           "yaxis": "y"
          },
          {
           "hovertemplate": "<b>%{hovertext}</b><br><br>Continent=Americas<br>Year=1991<br>Quantity=%{x}<br>Trade (USD)=%{y}<br>Nr of Countries=%{marker.size}<extra></extra>",
           "hovertext": [
            "Americas"
           ],
           "ids": [
            "Americas"
           ],
           "legendgroup": "Americas",
           "marker": {
            "color": "#ab63fa",
            "size": [
             43
            ],
            "sizemode": "area",
            "sizeref": 0.1225,
            "symbol": "circle"
           },
           "mode": "markers",
           "name": "Americas",
           "orientation": "v",
           "showlegend": true,
           "type": "scatter",
           "x": [
            84799181.8
           ],
           "xaxis": "x",
           "y": [
            102223994.4
           ],
           "yaxis": "y"
          },
          {
           "hovertemplate": "<b>%{hovertext}</b><br><br>Continent=Africa<br>Year=1991<br>Quantity=%{x}<br>Trade (USD)=%{y}<br>Nr of Countries=%{marker.size}<extra></extra>",
           "hovertext": [
            "Africa"
           ],
           "ids": [
            "Africa"
           ],
           "legendgroup": "Africa",
           "marker": {
            "color": "#FFA15A",
            "size": [
             49
            ],
            "sizemode": "area",
            "sizeref": 0.1225,
            "symbol": "circle"
           },
           "mode": "markers",
           "name": "Africa",
           "orientation": "v",
           "showlegend": true,
           "type": "scatter",
           "x": [
            177800.5
           ],
           "xaxis": "x",
           "y": [
            286052.5
           ],
           "yaxis": "y"
          }
         ],
         "name": "1991"
        },
        {
         "data": [
          {
           "hovertemplate": "<b>%{hovertext}</b><br><br>Continent=Europe<br>Year=1992<br>Quantity=%{x}<br>Trade (USD)=%{y}<br>Nr of Countries=%{marker.size}<extra></extra>",
           "hovertext": [
            "Europe"
           ],
           "ids": [
            "Europe"
           ],
           "legendgroup": "Europe",
           "marker": {
            "color": "#636efa",
            "size": [
             42
            ],
            "sizemode": "area",
            "sizeref": 0.1225,
            "symbol": "circle"
           },
           "mode": "markers",
           "name": "Europe",
           "orientation": "v",
           "showlegend": true,
           "type": "scatter",
           "x": [
            50476207.428571425
           ],
           "xaxis": "x",
           "y": [
            66489172.71428572
           ],
           "yaxis": "y"
          },
          {
           "hovertemplate": "<b>%{hovertext}</b><br><br>Continent=Asia<br>Year=1992<br>Quantity=%{x}<br>Trade (USD)=%{y}<br>Nr of Countries=%{marker.size}<extra></extra>",
           "hovertext": [
            "Asia"
           ],
           "ids": [
            "Asia"
           ],
           "legendgroup": "Asia",
           "marker": {
            "color": "#EF553B",
            "size": [
             44
            ],
            "sizemode": "area",
            "sizeref": 0.1225,
            "symbol": "circle"
           },
           "mode": "markers",
           "name": "Asia",
           "orientation": "v",
           "showlegend": true,
           "type": "scatter",
           "x": [
            15795932.916666666
           ],
           "xaxis": "x",
           "y": [
            18748225.916666668
           ],
           "yaxis": "y"
          },
          {
           "hovertemplate": "<b>%{hovertext}</b><br><br>Continent=Oceania<br>Year=1992<br>Quantity=%{x}<br>Trade (USD)=%{y}<br>Nr of Countries=%{marker.size}<extra></extra>",
           "hovertext": [
            "Oceania"
           ],
           "ids": [
            "Oceania"
           ],
           "legendgroup": "Oceania",
           "marker": {
            "color": "#00cc96",
            "size": [
             15
            ],
            "sizemode": "area",
            "sizeref": 0.1225,
            "symbol": "circle"
           },
           "mode": "markers",
           "name": "Oceania",
           "orientation": "v",
           "showlegend": true,
           "type": "scatter",
           "x": [
            105361.5
           ],
           "xaxis": "x",
           "y": [
            173461
           ],
           "yaxis": "y"
          },
          {
           "hovertemplate": "<b>%{hovertext}</b><br><br>Continent=Americas<br>Year=1992<br>Quantity=%{x}<br>Trade (USD)=%{y}<br>Nr of Countries=%{marker.size}<extra></extra>",
           "hovertext": [
            "Americas"
           ],
           "ids": [
            "Americas"
           ],
           "legendgroup": "Americas",
           "marker": {
            "color": "#ab63fa",
            "size": [
             43
            ],
            "sizemode": "area",
            "sizeref": 0.1225,
            "symbol": "circle"
           },
           "mode": "markers",
           "name": "Americas",
           "orientation": "v",
           "showlegend": true,
           "type": "scatter",
           "x": [
            61426246.28571428
           ],
           "xaxis": "x",
           "y": [
            67507501.14285715
           ],
           "yaxis": "y"
          },
          {
           "hovertemplate": "<b>%{hovertext}</b><br><br>Continent=Africa<br>Year=1992<br>Quantity=%{x}<br>Trade (USD)=%{y}<br>Nr of Countries=%{marker.size}<extra></extra>",
           "hovertext": [
            "Africa"
           ],
           "ids": [
            "Africa"
           ],
           "legendgroup": "Africa",
           "marker": {
            "color": "#FFA15A",
            "size": [
             49
            ],
            "sizemode": "area",
            "sizeref": 0.1225,
            "symbol": "circle"
           },
           "mode": "markers",
           "name": "Africa",
           "orientation": "v",
           "showlegend": true,
           "type": "scatter",
           "x": [
            660812.5
           ],
           "xaxis": "x",
           "y": [
            972408.5
           ],
           "yaxis": "y"
          }
         ],
         "name": "1992"
        },
        {
         "data": [
          {
           "hovertemplate": "<b>%{hovertext}</b><br><br>Continent=Europe<br>Year=1993<br>Quantity=%{x}<br>Trade (USD)=%{y}<br>Nr of Countries=%{marker.size}<extra></extra>",
           "hovertext": [
            "Europe"
           ],
           "ids": [
            "Europe"
           ],
           "legendgroup": "Europe",
           "marker": {
            "color": "#636efa",
            "size": [
             42
            ],
            "sizemode": "area",
            "sizeref": 0.1225,
            "symbol": "circle"
           },
           "mode": "markers",
           "name": "Europe",
           "orientation": "v",
           "showlegend": true,
           "type": "scatter",
           "x": [
            57253687.3125
           ],
           "xaxis": "x",
           "y": [
            65080269.375
           ],
           "yaxis": "y"
          },
          {
           "hovertemplate": "<b>%{hovertext}</b><br><br>Continent=Asia<br>Year=1993<br>Quantity=%{x}<br>Trade (USD)=%{y}<br>Nr of Countries=%{marker.size}<extra></extra>",
           "hovertext": [
            "Asia"
           ],
           "ids": [
            "Asia"
           ],
           "legendgroup": "Asia",
           "marker": {
            "color": "#EF553B",
            "size": [
             44
            ],
            "sizemode": "area",
            "sizeref": 0.1225,
            "symbol": "circle"
           },
           "mode": "markers",
           "name": "Asia",
           "orientation": "v",
           "showlegend": true,
           "type": "scatter",
           "x": [
            11712308.076923076
           ],
           "xaxis": "x",
           "y": [
            12675003.153846154
           ],
           "yaxis": "y"
          },
          {
           "hovertemplate": "<b>%{hovertext}</b><br><br>Continent=Oceania<br>Year=1993<br>Quantity=%{x}<br>Trade (USD)=%{y}<br>Nr of Countries=%{marker.size}<extra></extra>",
           "hovertext": [
            "Oceania"
           ],
           "ids": [
            "Oceania"
           ],
           "legendgroup": "Oceania",
           "marker": {
            "color": "#00cc96",
            "size": [
             15
            ],
            "sizemode": "area",
            "sizeref": 0.1225,
            "symbol": "circle"
           },
           "mode": "markers",
           "name": "Oceania",
           "orientation": "v",
           "showlegend": true,
           "type": "scatter",
           "x": [
            110561.5
           ],
           "xaxis": "x",
           "y": [
            164631.5
           ],
           "yaxis": "y"
          },
          {
           "hovertemplate": "<b>%{hovertext}</b><br><br>Continent=Americas<br>Year=1993<br>Quantity=%{x}<br>Trade (USD)=%{y}<br>Nr of Countries=%{marker.size}<extra></extra>",
           "hovertext": [
            "Americas"
           ],
           "ids": [
            "Americas"
           ],
           "legendgroup": "Americas",
           "marker": {
            "color": "#ab63fa",
            "size": [
             43
            ],
            "sizemode": "area",
            "sizeref": 0.1225,
            "symbol": "circle"
           },
           "mode": "markers",
           "name": "Americas",
           "orientation": "v",
           "showlegend": true,
           "type": "scatter",
           "x": [
            65008706.14285714
           ],
           "xaxis": "x",
           "y": [
            68527427
           ],
           "yaxis": "y"
          },
          {
           "hovertemplate": "<b>%{hovertext}</b><br><br>Continent=Africa<br>Year=1993<br>Quantity=%{x}<br>Trade (USD)=%{y}<br>Nr of Countries=%{marker.size}<extra></extra>",
           "hovertext": [
            "Africa"
           ],
           "ids": [
            "Africa"
           ],
           "legendgroup": "Africa",
           "marker": {
            "color": "#FFA15A",
            "size": [
             49
            ],
            "sizemode": "area",
            "sizeref": 0.1225,
            "symbol": "circle"
           },
           "mode": "markers",
           "name": "Africa",
           "orientation": "v",
           "showlegend": true,
           "type": "scatter",
           "x": [
            252112.66666666666
           ],
           "xaxis": "x",
           "y": [
            419734.3333333333
           ],
           "yaxis": "y"
          }
         ],
         "name": "1993"
        },
        {
         "data": [
          {
           "hovertemplate": "<b>%{hovertext}</b><br><br>Continent=Europe<br>Year=1994<br>Quantity=%{x}<br>Trade (USD)=%{y}<br>Nr of Countries=%{marker.size}<extra></extra>",
           "hovertext": [
            "Europe"
           ],
           "ids": [
            "Europe"
           ],
           "legendgroup": "Europe",
           "marker": {
            "color": "#636efa",
            "size": [
             42
            ],
            "sizemode": "area",
            "sizeref": 0.1225,
            "symbol": "circle"
           },
           "mode": "markers",
           "name": "Europe",
           "orientation": "v",
           "showlegend": true,
           "type": "scatter",
           "x": [
            43935986.777777776
           ],
           "xaxis": "x",
           "y": [
            60871302.777777776
           ],
           "yaxis": "y"
          },
          {
           "hovertemplate": "<b>%{hovertext}</b><br><br>Continent=Asia<br>Year=1994<br>Quantity=%{x}<br>Trade (USD)=%{y}<br>Nr of Countries=%{marker.size}<extra></extra>",
           "hovertext": [
            "Asia"
           ],
           "ids": [
            "Asia"
           ],
           "legendgroup": "Asia",
           "marker": {
            "color": "#EF553B",
            "size": [
             44
            ],
            "sizemode": "area",
            "sizeref": 0.1225,
            "symbol": "circle"
           },
           "mode": "markers",
           "name": "Asia",
           "orientation": "v",
           "showlegend": true,
           "type": "scatter",
           "x": [
            11146881.923076924
           ],
           "xaxis": "x",
           "y": [
            14941573
           ],
           "yaxis": "y"
          },
          {
           "hovertemplate": "<b>%{hovertext}</b><br><br>Continent=Oceania<br>Year=1994<br>Quantity=%{x}<br>Trade (USD)=%{y}<br>Nr of Countries=%{marker.size}<extra></extra>",
           "hovertext": [
            "Oceania"
           ],
           "ids": [
            "Oceania"
           ],
           "legendgroup": "Oceania",
           "marker": {
            "color": "#00cc96",
            "size": [
             15
            ],
            "sizemode": "area",
            "sizeref": 0.1225,
            "symbol": "circle"
           },
           "mode": "markers",
           "name": "Oceania",
           "orientation": "v",
           "showlegend": true,
           "type": "scatter",
           "x": [
            96397
           ],
           "xaxis": "x",
           "y": [
            171774.5
           ],
           "yaxis": "y"
          },
          {
           "hovertemplate": "<b>%{hovertext}</b><br><br>Continent=Americas<br>Year=1994<br>Quantity=%{x}<br>Trade (USD)=%{y}<br>Nr of Countries=%{marker.size}<extra></extra>",
           "hovertext": [
            "Americas"
           ],
           "ids": [
            "Americas"
           ],
           "legendgroup": "Americas",
           "marker": {
            "color": "#ab63fa",
            "size": [
             43
            ],
            "sizemode": "area",
            "sizeref": 0.1225,
            "symbol": "circle"
           },
           "mode": "markers",
           "name": "Americas",
           "orientation": "v",
           "showlegend": true,
           "type": "scatter",
           "x": [
            20902994.29411765
           ],
           "xaxis": "x",
           "y": [
            26855072.88235294
           ],
           "yaxis": "y"
          },
          {
           "hovertemplate": "<b>%{hovertext}</b><br><br>Continent=Africa<br>Year=1994<br>Quantity=%{x}<br>Trade (USD)=%{y}<br>Nr of Countries=%{marker.size}<extra></extra>",
           "hovertext": [
            "Africa"
           ],
           "ids": [
            "Africa"
           ],
           "legendgroup": "Africa",
           "marker": {
            "color": "#FFA15A",
            "size": [
             49
            ],
            "sizemode": "area",
            "sizeref": 0.1225,
            "symbol": "circle"
           },
           "mode": "markers",
           "name": "Africa",
           "orientation": "v",
           "showlegend": true,
           "type": "scatter",
           "x": [
            433916.2
           ],
           "xaxis": "x",
           "y": [
            736160.8
           ],
           "yaxis": "y"
          }
         ],
         "name": "1994"
        },
        {
         "data": [
          {
           "hovertemplate": "<b>%{hovertext}</b><br><br>Continent=Europe<br>Year=1995<br>Quantity=%{x}<br>Trade (USD)=%{y}<br>Nr of Countries=%{marker.size}<extra></extra>",
           "hovertext": [
            "Europe"
           ],
           "ids": [
            "Europe"
           ],
           "legendgroup": "Europe",
           "marker": {
            "color": "#636efa",
            "size": [
             42
            ],
            "sizemode": "area",
            "sizeref": 0.1225,
            "symbol": "circle"
           },
           "mode": "markers",
           "name": "Europe",
           "orientation": "v",
           "showlegend": true,
           "type": "scatter",
           "x": [
            42124030.06896552
           ],
           "xaxis": "x",
           "y": [
            65777268.655172415
           ],
           "yaxis": "y"
          },
          {
           "hovertemplate": "<b>%{hovertext}</b><br><br>Continent=Asia<br>Year=1995<br>Quantity=%{x}<br>Trade (USD)=%{y}<br>Nr of Countries=%{marker.size}<extra></extra>",
           "hovertext": [
            "Asia"
           ],
           "ids": [
            "Asia"
           ],
           "legendgroup": "Asia",
           "marker": {
            "color": "#EF553B",
            "size": [
             44
            ],
            "sizemode": "area",
            "sizeref": 0.1225,
            "symbol": "circle"
           },
           "mode": "markers",
           "name": "Asia",
           "orientation": "v",
           "showlegend": true,
           "type": "scatter",
           "x": [
            16176614
           ],
           "xaxis": "x",
           "y": [
            23173577.5
           ],
           "yaxis": "y"
          },
          {
           "hovertemplate": "<b>%{hovertext}</b><br><br>Continent=Oceania<br>Year=1995<br>Quantity=%{x}<br>Trade (USD)=%{y}<br>Nr of Countries=%{marker.size}<extra></extra>",
           "hovertext": [
            "Oceania"
           ],
           "ids": [
            "Oceania"
           ],
           "legendgroup": "Oceania",
           "marker": {
            "color": "#00cc96",
            "size": [
             15
            ],
            "sizemode": "area",
            "sizeref": 0.1225,
            "symbol": "circle"
           },
           "mode": "markers",
           "name": "Oceania",
           "orientation": "v",
           "showlegend": true,
           "type": "scatter",
           "x": [
            108992.5
           ],
           "xaxis": "x",
           "y": [
            212211.5
           ],
           "yaxis": "y"
          },
          {
           "hovertemplate": "<b>%{hovertext}</b><br><br>Continent=Americas<br>Year=1995<br>Quantity=%{x}<br>Trade (USD)=%{y}<br>Nr of Countries=%{marker.size}<extra></extra>",
           "hovertext": [
            "Americas"
           ],
           "ids": [
            "Americas"
           ],
           "legendgroup": "Americas",
           "marker": {
            "color": "#ab63fa",
            "size": [
             43
            ],
            "sizemode": "area",
            "sizeref": 0.1225,
            "symbol": "circle"
           },
           "mode": "markers",
           "name": "Americas",
           "orientation": "v",
           "showlegend": true,
           "type": "scatter",
           "x": [
            20135661.23529412
           ],
           "xaxis": "x",
           "y": [
            28759432.352941178
           ],
           "yaxis": "y"
          },
          {
           "hovertemplate": "<b>%{hovertext}</b><br><br>Continent=Africa<br>Year=1995<br>Quantity=%{x}<br>Trade (USD)=%{y}<br>Nr of Countries=%{marker.size}<extra></extra>",
           "hovertext": [
            "Africa"
           ],
           "ids": [
            "Africa"
           ],
           "legendgroup": "Africa",
           "marker": {
            "color": "#FFA15A",
            "size": [
             49
            ],
            "sizemode": "area",
            "sizeref": 0.1225,
            "symbol": "circle"
           },
           "mode": "markers",
           "name": "Africa",
           "orientation": "v",
           "showlegend": true,
           "type": "scatter",
           "x": [
            169844.22222222222
           ],
           "xaxis": "x",
           "y": [
            350570
           ],
           "yaxis": "y"
          }
         ],
         "name": "1995"
        },
        {
         "data": [
          {
           "hovertemplate": "<b>%{hovertext}</b><br><br>Continent=Europe<br>Year=1996<br>Quantity=%{x}<br>Trade (USD)=%{y}<br>Nr of Countries=%{marker.size}<extra></extra>",
           "hovertext": [
            "Europe"
           ],
           "ids": [
            "Europe"
           ],
           "legendgroup": "Europe",
           "marker": {
            "color": "#636efa",
            "size": [
             42
            ],
            "sizemode": "area",
            "sizeref": 0.1225,
            "symbol": "circle"
           },
           "mode": "markers",
           "name": "Europe",
           "orientation": "v",
           "showlegend": true,
           "type": "scatter",
           "x": [
            46146583.38235294
           ],
           "xaxis": "x",
           "y": [
            68999484.91176471
           ],
           "yaxis": "y"
          },
          {
           "hovertemplate": "<b>%{hovertext}</b><br><br>Continent=Asia<br>Year=1996<br>Quantity=%{x}<br>Trade (USD)=%{y}<br>Nr of Countries=%{marker.size}<extra></extra>",
           "hovertext": [
            "Asia"
           ],
           "ids": [
            "Asia"
           ],
           "legendgroup": "Asia",
           "marker": {
            "color": "#EF553B",
            "size": [
             44
            ],
            "sizemode": "area",
            "sizeref": 0.1225,
            "symbol": "circle"
           },
           "mode": "markers",
           "name": "Asia",
           "orientation": "v",
           "showlegend": true,
           "type": "scatter",
           "x": [
            12328669.8
           ],
           "xaxis": "x",
           "y": [
            17968446.8
           ],
           "yaxis": "y"
          },
          {
           "hovertemplate": "<b>%{hovertext}</b><br><br>Continent=Oceania<br>Year=1996<br>Quantity=%{x}<br>Trade (USD)=%{y}<br>Nr of Countries=%{marker.size}<extra></extra>",
           "hovertext": [
            "Oceania"
           ],
           "ids": [
            "Oceania"
           ],
           "legendgroup": "Oceania",
           "marker": {
            "color": "#00cc96",
            "size": [
             15
            ],
            "sizemode": "area",
            "sizeref": 0.1225,
            "symbol": "circle"
           },
           "mode": "markers",
           "name": "Oceania",
           "orientation": "v",
           "showlegend": true,
           "type": "scatter",
           "x": [
            95939.5
           ],
           "xaxis": "x",
           "y": [
            194629
           ],
           "yaxis": "y"
          },
          {
           "hovertemplate": "<b>%{hovertext}</b><br><br>Continent=Americas<br>Year=1996<br>Quantity=%{x}<br>Trade (USD)=%{y}<br>Nr of Countries=%{marker.size}<extra></extra>",
           "hovertext": [
            "Americas"
           ],
           "ids": [
            "Americas"
           ],
           "legendgroup": "Americas",
           "marker": {
            "color": "#ab63fa",
            "size": [
             43
            ],
            "sizemode": "area",
            "sizeref": 0.1225,
            "symbol": "circle"
           },
           "mode": "markers",
           "name": "Americas",
           "orientation": "v",
           "showlegend": true,
           "type": "scatter",
           "x": [
            38575120.571428575
           ],
           "xaxis": "x",
           "y": [
            49373921.28571428
           ],
           "yaxis": "y"
          },
          {
           "hovertemplate": "<b>%{hovertext}</b><br><br>Continent=Africa<br>Year=1996<br>Quantity=%{x}<br>Trade (USD)=%{y}<br>Nr of Countries=%{marker.size}<extra></extra>",
           "hovertext": [
            "Africa"
           ],
           "ids": [
            "Africa"
           ],
           "legendgroup": "Africa",
           "marker": {
            "color": "#FFA15A",
            "size": [
             49
            ],
            "sizemode": "area",
            "sizeref": 0.1225,
            "symbol": "circle"
           },
           "mode": "markers",
           "name": "Africa",
           "orientation": "v",
           "showlegend": true,
           "type": "scatter",
           "x": [
            702894.5
           ],
           "xaxis": "x",
           "y": [
            752613.5
           ],
           "yaxis": "y"
          }
         ],
         "name": "1996"
        },
        {
         "data": [
          {
           "hovertemplate": "<b>%{hovertext}</b><br><br>Continent=Europe<br>Year=1997<br>Quantity=%{x}<br>Trade (USD)=%{y}<br>Nr of Countries=%{marker.size}<extra></extra>",
           "hovertext": [
            "Europe"
           ],
           "ids": [
            "Europe"
           ],
           "legendgroup": "Europe",
           "marker": {
            "color": "#636efa",
            "size": [
             42
            ],
            "sizemode": "area",
            "sizeref": 0.1225,
            "symbol": "circle"
           },
           "mode": "markers",
           "name": "Europe",
           "orientation": "v",
           "showlegend": true,
           "type": "scatter",
           "x": [
            40544336.71875
           ],
           "xaxis": "x",
           "y": [
            60754212
           ],
           "yaxis": "y"
          },
          {
           "hovertemplate": "<b>%{hovertext}</b><br><br>Continent=Asia<br>Year=1997<br>Quantity=%{x}<br>Trade (USD)=%{y}<br>Nr of Countries=%{marker.size}<extra></extra>",
           "hovertext": [
            "Asia"
           ],
           "ids": [
            "Asia"
           ],
           "legendgroup": "Asia",
           "marker": {
            "color": "#EF553B",
            "size": [
             44
            ],
            "sizemode": "area",
            "sizeref": 0.1225,
            "symbol": "circle"
           },
           "mode": "markers",
           "name": "Asia",
           "orientation": "v",
           "showlegend": true,
           "type": "scatter",
           "x": [
            10696719.833333334
           ],
           "xaxis": "x",
           "y": [
            16459660.722222222
           ],
           "yaxis": "y"
          },
          {
           "hovertemplate": "<b>%{hovertext}</b><br><br>Continent=Oceania<br>Year=1997<br>Quantity=%{x}<br>Trade (USD)=%{y}<br>Nr of Countries=%{marker.size}<extra></extra>",
           "hovertext": [
            "Oceania"
           ],
           "ids": [
            "Oceania"
           ],
           "legendgroup": "Oceania",
           "marker": {
            "color": "#00cc96",
            "size": [
             15
            ],
            "sizemode": "area",
            "sizeref": 0.1225,
            "symbol": "circle"
           },
           "mode": "markers",
           "name": "Oceania",
           "orientation": "v",
           "showlegend": true,
           "type": "scatter",
           "x": [
            127604
           ],
           "xaxis": "x",
           "y": [
            246494
           ],
           "yaxis": "y"
          },
          {
           "hovertemplate": "<b>%{hovertext}</b><br><br>Continent=Americas<br>Year=1997<br>Quantity=%{x}<br>Trade (USD)=%{y}<br>Nr of Countries=%{marker.size}<extra></extra>",
           "hovertext": [
            "Americas"
           ],
           "ids": [
            "Americas"
           ],
           "legendgroup": "Americas",
           "marker": {
            "color": "#ab63fa",
            "size": [
             43
            ],
            "sizemode": "area",
            "sizeref": 0.1225,
            "symbol": "circle"
           },
           "mode": "markers",
           "name": "Americas",
           "orientation": "v",
           "showlegend": true,
           "type": "scatter",
           "x": [
            26863391.466666665
           ],
           "xaxis": "x",
           "y": [
            39868207.733333334
           ],
           "yaxis": "y"
          },
          {
           "hovertemplate": "<b>%{hovertext}</b><br><br>Continent=Africa<br>Year=1997<br>Quantity=%{x}<br>Trade (USD)=%{y}<br>Nr of Countries=%{marker.size}<extra></extra>",
           "hovertext": [
            "Africa"
           ],
           "ids": [
            "Africa"
           ],
           "legendgroup": "Africa",
           "marker": {
            "color": "#FFA15A",
            "size": [
             49
            ],
            "sizemode": "area",
            "sizeref": 0.1225,
            "symbol": "circle"
           },
           "mode": "markers",
           "name": "Africa",
           "orientation": "v",
           "showlegend": true,
           "type": "scatter",
           "x": [
            150399.77777777778
           ],
           "xaxis": "x",
           "y": [
            269896.3333333333
           ],
           "yaxis": "y"
          }
         ],
         "name": "1997"
        },
        {
         "data": [
          {
           "hovertemplate": "<b>%{hovertext}</b><br><br>Continent=Europe<br>Year=1998<br>Quantity=%{x}<br>Trade (USD)=%{y}<br>Nr of Countries=%{marker.size}<extra></extra>",
           "hovertext": [
            "Europe"
           ],
           "ids": [
            "Europe"
           ],
           "legendgroup": "Europe",
           "marker": {
            "color": "#636efa",
            "size": [
             42
            ],
            "sizemode": "area",
            "sizeref": 0.1225,
            "symbol": "circle"
           },
           "mode": "markers",
           "name": "Europe",
           "orientation": "v",
           "showlegend": true,
           "type": "scatter",
           "x": [
            39877367.24242424
           ],
           "xaxis": "x",
           "y": [
            66524184.24242424
           ],
           "yaxis": "y"
          },
          {
           "hovertemplate": "<b>%{hovertext}</b><br><br>Continent=Asia<br>Year=1998<br>Quantity=%{x}<br>Trade (USD)=%{y}<br>Nr of Countries=%{marker.size}<extra></extra>",
           "hovertext": [
            "Asia"
           ],
           "ids": [
            "Asia"
           ],
           "legendgroup": "Asia",
           "marker": {
            "color": "#EF553B",
            "size": [
             44
            ],
            "sizemode": "area",
            "sizeref": 0.1225,
            "symbol": "circle"
           },
           "mode": "markers",
           "name": "Asia",
           "orientation": "v",
           "showlegend": true,
           "type": "scatter",
           "x": [
            11267990.777777778
           ],
           "xaxis": "x",
           "y": [
            19671679.333333332
           ],
           "yaxis": "y"
          },
          {
           "hovertemplate": "<b>%{hovertext}</b><br><br>Continent=Oceania<br>Year=1998<br>Quantity=%{x}<br>Trade (USD)=%{y}<br>Nr of Countries=%{marker.size}<extra></extra>",
           "hovertext": [
            "Oceania"
           ],
           "ids": [
            "Oceania"
           ],
           "legendgroup": "Oceania",
           "marker": {
            "color": "#00cc96",
            "size": [
             15
            ],
            "sizemode": "area",
            "sizeref": 0.1225,
            "symbol": "circle"
           },
           "mode": "markers",
           "name": "Oceania",
           "orientation": "v",
           "showlegend": true,
           "type": "scatter",
           "x": [
            50085634
           ],
           "xaxis": "x",
           "y": [
            174153.33333333334
           ],
           "yaxis": "y"
          },
          {
           "hovertemplate": "<b>%{hovertext}</b><br><br>Continent=Americas<br>Year=1998<br>Quantity=%{x}<br>Trade (USD)=%{y}<br>Nr of Countries=%{marker.size}<extra></extra>",
           "hovertext": [
            "Americas"
           ],
           "ids": [
            "Americas"
           ],
           "legendgroup": "Americas",
           "marker": {
            "color": "#ab63fa",
            "size": [
             43
            ],
            "sizemode": "area",
            "sizeref": 0.1225,
            "symbol": "circle"
           },
           "mode": "markers",
           "name": "Americas",
           "orientation": "v",
           "showlegend": true,
           "type": "scatter",
           "x": [
            28989357
           ],
           "xaxis": "x",
           "y": [
            48172058.35294118
           ],
           "yaxis": "y"
          },
          {
           "hovertemplate": "<b>%{hovertext}</b><br><br>Continent=Africa<br>Year=1998<br>Quantity=%{x}<br>Trade (USD)=%{y}<br>Nr of Countries=%{marker.size}<extra></extra>",
           "hovertext": [
            "Africa"
           ],
           "ids": [
            "Africa"
           ],
           "legendgroup": "Africa",
           "marker": {
            "color": "#FFA15A",
            "size": [
             49
            ],
            "sizemode": "area",
            "sizeref": 0.1225,
            "symbol": "circle"
           },
           "mode": "markers",
           "name": "Africa",
           "orientation": "v",
           "showlegend": true,
           "type": "scatter",
           "x": [
            237539.6
           ],
           "xaxis": "x",
           "y": [
            428660.6
           ],
           "yaxis": "y"
          }
         ],
         "name": "1998"
        },
        {
         "data": [
          {
           "hovertemplate": "<b>%{hovertext}</b><br><br>Continent=Europe<br>Year=1999<br>Quantity=%{x}<br>Trade (USD)=%{y}<br>Nr of Countries=%{marker.size}<extra></extra>",
           "hovertext": [
            "Europe"
           ],
           "ids": [
            "Europe"
           ],
           "legendgroup": "Europe",
           "marker": {
            "color": "#636efa",
            "size": [
             42
            ],
            "sizemode": "area",
            "sizeref": 0.1225,
            "symbol": "circle"
           },
           "mode": "markers",
           "name": "Europe",
           "orientation": "v",
           "showlegend": true,
           "type": "scatter",
           "x": [
            43697637.2
           ],
           "xaxis": "x",
           "y": [
            62049313.14285714
           ],
           "yaxis": "y"
          },
          {
           "hovertemplate": "<b>%{hovertext}</b><br><br>Continent=Asia<br>Year=1999<br>Quantity=%{x}<br>Trade (USD)=%{y}<br>Nr of Countries=%{marker.size}<extra></extra>",
           "hovertext": [
            "Asia"
           ],
           "ids": [
            "Asia"
           ],
           "legendgroup": "Asia",
           "marker": {
            "color": "#EF553B",
            "size": [
             44
            ],
            "sizemode": "area",
            "sizeref": 0.1225,
            "symbol": "circle"
           },
           "mode": "markers",
           "name": "Asia",
           "orientation": "v",
           "showlegend": true,
           "type": "scatter",
           "x": [
            9979528.952380951
           ],
           "xaxis": "x",
           "y": [
            13629213.142857144
           ],
           "yaxis": "y"
          },
          {
           "hovertemplate": "<b>%{hovertext}</b><br><br>Continent=Oceania<br>Year=1999<br>Quantity=%{x}<br>Trade (USD)=%{y}<br>Nr of Countries=%{marker.size}<extra></extra>",
           "hovertext": [
            "Oceania"
           ],
           "ids": [
            "Oceania"
           ],
           "legendgroup": "Oceania",
           "marker": {
            "color": "#00cc96",
            "size": [
             15
            ],
            "sizemode": "area",
            "sizeref": 0.1225,
            "symbol": "circle"
           },
           "mode": "markers",
           "name": "Oceania",
           "orientation": "v",
           "showlegend": true,
           "type": "scatter",
           "x": [
            61212
           ],
           "xaxis": "x",
           "y": [
            108958.25
           ],
           "yaxis": "y"
          },
          {
           "hovertemplate": "<b>%{hovertext}</b><br><br>Continent=Americas<br>Year=1999<br>Quantity=%{x}<br>Trade (USD)=%{y}<br>Nr of Countries=%{marker.size}<extra></extra>",
           "hovertext": [
            "Americas"
           ],
           "ids": [
            "Americas"
           ],
           "legendgroup": "Americas",
           "marker": {
            "color": "#ab63fa",
            "size": [
             43
            ],
            "sizemode": "area",
            "sizeref": 0.1225,
            "symbol": "circle"
           },
           "mode": "markers",
           "name": "Americas",
           "orientation": "v",
           "showlegend": true,
           "type": "scatter",
           "x": [
            35163159.941176474
           ],
           "xaxis": "x",
           "y": [
            45694889.11764706
           ],
           "yaxis": "y"
          },
          {
           "hovertemplate": "<b>%{hovertext}</b><br><br>Continent=Africa<br>Year=1999<br>Quantity=%{x}<br>Trade (USD)=%{y}<br>Nr of Countries=%{marker.size}<extra></extra>",
           "hovertext": [
            "Africa"
           ],
           "ids": [
            "Africa"
           ],
           "legendgroup": "Africa",
           "marker": {
            "color": "#FFA15A",
            "size": [
             49
            ],
            "sizemode": "area",
            "sizeref": 0.1225,
            "symbol": "circle"
           },
           "mode": "markers",
           "name": "Africa",
           "orientation": "v",
           "showlegend": true,
           "type": "scatter",
           "x": [
            293015.23076923075
           ],
           "xaxis": "x",
           "y": [
            698925.2307692308
           ],
           "yaxis": "y"
          }
         ],
         "name": "1999"
        },
        {
         "data": [
          {
           "hovertemplate": "<b>%{hovertext}</b><br><br>Continent=Europe<br>Year=2000<br>Quantity=%{x}<br>Trade (USD)=%{y}<br>Nr of Countries=%{marker.size}<extra></extra>",
           "hovertext": [
            "Europe"
           ],
           "ids": [
            "Europe"
           ],
           "legendgroup": "Europe",
           "marker": {
            "color": "#636efa",
            "size": [
             42
            ],
            "sizemode": "area",
            "sizeref": 0.1225,
            "symbol": "circle"
           },
           "mode": "markers",
           "name": "Europe",
           "orientation": "v",
           "showlegend": true,
           "type": "scatter",
           "x": [
            42956264.69444445
           ],
           "xaxis": "x",
           "y": [
            43170081.333333336
           ],
           "yaxis": "y"
          },
          {
           "hovertemplate": "<b>%{hovertext}</b><br><br>Continent=Asia<br>Year=2000<br>Quantity=%{x}<br>Trade (USD)=%{y}<br>Nr of Countries=%{marker.size}<extra></extra>",
           "hovertext": [
            "Asia"
           ],
           "ids": [
            "Asia"
           ],
           "legendgroup": "Asia",
           "marker": {
            "color": "#EF553B",
            "size": [
             44
            ],
            "sizemode": "area",
            "sizeref": 0.1225,
            "symbol": "circle"
           },
           "mode": "markers",
           "name": "Asia",
           "orientation": "v",
           "showlegend": true,
           "type": "scatter",
           "x": [
            12693457.681818182
           ],
           "xaxis": "x",
           "y": [
            12326764.727272727
           ],
           "yaxis": "y"
          },
          {
           "hovertemplate": "<b>%{hovertext}</b><br><br>Continent=Oceania<br>Year=2000<br>Quantity=%{x}<br>Trade (USD)=%{y}<br>Nr of Countries=%{marker.size}<extra></extra>",
           "hovertext": [
            "Oceania"
           ],
           "ids": [
            "Oceania"
           ],
           "legendgroup": "Oceania",
           "marker": {
            "color": "#00cc96",
            "size": [
             15
            ],
            "sizemode": "area",
            "sizeref": 0.1225,
            "symbol": "circle"
           },
           "mode": "markers",
           "name": "Oceania",
           "orientation": "v",
           "showlegend": true,
           "type": "scatter",
           "x": [
            78675
           ],
           "xaxis": "x",
           "y": [
            103292.75
           ],
           "yaxis": "y"
          },
          {
           "hovertemplate": "<b>%{hovertext}</b><br><br>Continent=Americas<br>Year=2000<br>Quantity=%{x}<br>Trade (USD)=%{y}<br>Nr of Countries=%{marker.size}<extra></extra>",
           "hovertext": [
            "Americas"
           ],
           "ids": [
            "Americas"
           ],
           "legendgroup": "Americas",
           "marker": {
            "color": "#ab63fa",
            "size": [
             43
            ],
            "sizemode": "area",
            "sizeref": 0.1225,
            "symbol": "circle"
           },
           "mode": "markers",
           "name": "Americas",
           "orientation": "v",
           "showlegend": true,
           "type": "scatter",
           "x": [
            19011538.875
           ],
           "xaxis": "x",
           "y": [
            22059246.5
           ],
           "yaxis": "y"
          },
          {
           "hovertemplate": "<b>%{hovertext}</b><br><br>Continent=Africa<br>Year=2000<br>Quantity=%{x}<br>Trade (USD)=%{y}<br>Nr of Countries=%{marker.size}<extra></extra>",
           "hovertext": [
            "Africa"
           ],
           "ids": [
            "Africa"
           ],
           "legendgroup": "Africa",
           "marker": {
            "color": "#FFA15A",
            "size": [
             49
            ],
            "sizemode": "area",
            "sizeref": 0.1225,
            "symbol": "circle"
           },
           "mode": "markers",
           "name": "Africa",
           "orientation": "v",
           "showlegend": true,
           "type": "scatter",
           "x": [
            405587.5238095238
           ],
           "xaxis": "x",
           "y": [
            462103
           ],
           "yaxis": "y"
          }
         ],
         "name": "2000"
        },
        {
         "data": [
          {
           "hovertemplate": "<b>%{hovertext}</b><br><br>Continent=Europe<br>Year=2001<br>Quantity=%{x}<br>Trade (USD)=%{y}<br>Nr of Countries=%{marker.size}<extra></extra>",
           "hovertext": [
            "Europe"
           ],
           "ids": [
            "Europe"
           ],
           "legendgroup": "Europe",
           "marker": {
            "color": "#636efa",
            "size": [
             42
            ],
            "sizemode": "area",
            "sizeref": 0.1225,
            "symbol": "circle"
           },
           "mode": "markers",
           "name": "Europe",
           "orientation": "v",
           "showlegend": true,
           "type": "scatter",
           "x": [
            45369870.25714286
           ],
           "xaxis": "x",
           "y": [
            48296023.2
           ],
           "yaxis": "y"
          },
          {
           "hovertemplate": "<b>%{hovertext}</b><br><br>Continent=Asia<br>Year=2001<br>Quantity=%{x}<br>Trade (USD)=%{y}<br>Nr of Countries=%{marker.size}<extra></extra>",
           "hovertext": [
            "Asia"
           ],
           "ids": [
            "Asia"
           ],
           "legendgroup": "Asia",
           "marker": {
            "color": "#EF553B",
            "size": [
             44
            ],
            "sizemode": "area",
            "sizeref": 0.1225,
            "symbol": "circle"
           },
           "mode": "markers",
           "name": "Asia",
           "orientation": "v",
           "showlegend": true,
           "type": "scatter",
           "x": [
            10651578.23076923
           ],
           "xaxis": "x",
           "y": [
            12270789.807692308
           ],
           "yaxis": "y"
          },
          {
           "hovertemplate": "<b>%{hovertext}</b><br><br>Continent=Oceania<br>Year=2001<br>Quantity=%{x}<br>Trade (USD)=%{y}<br>Nr of Countries=%{marker.size}<extra></extra>",
           "hovertext": [
            "Oceania"
           ],
           "ids": [
            "Oceania"
           ],
           "legendgroup": "Oceania",
           "marker": {
            "color": "#00cc96",
            "size": [
             15
            ],
            "sizemode": "area",
            "sizeref": 0.1225,
            "symbol": "circle"
           },
           "mode": "markers",
           "name": "Oceania",
           "orientation": "v",
           "showlegend": true,
           "type": "scatter",
           "x": [
            87362.2
           ],
           "xaxis": "x",
           "y": [
            106053.4
           ],
           "yaxis": "y"
          },
          {
           "hovertemplate": "<b>%{hovertext}</b><br><br>Continent=Americas<br>Year=2001<br>Quantity=%{x}<br>Trade (USD)=%{y}<br>Nr of Countries=%{marker.size}<extra></extra>",
           "hovertext": [
            "Americas"
           ],
           "ids": [
            "Americas"
           ],
           "legendgroup": "Americas",
           "marker": {
            "color": "#ab63fa",
            "size": [
             43
            ],
            "sizemode": "area",
            "sizeref": 0.1225,
            "symbol": "circle"
           },
           "mode": "markers",
           "name": "Americas",
           "orientation": "v",
           "showlegend": true,
           "type": "scatter",
           "x": [
            27874011.733333334
           ],
           "xaxis": "x",
           "y": [
            35237889.86666667
           ],
           "yaxis": "y"
          },
          {
           "hovertemplate": "<b>%{hovertext}</b><br><br>Continent=Africa<br>Year=2001<br>Quantity=%{x}<br>Trade (USD)=%{y}<br>Nr of Countries=%{marker.size}<extra></extra>",
           "hovertext": [
            "Africa"
           ],
           "ids": [
            "Africa"
           ],
           "legendgroup": "Africa",
           "marker": {
            "color": "#FFA15A",
            "size": [
             49
            ],
            "sizemode": "area",
            "sizeref": 0.1225,
            "symbol": "circle"
           },
           "mode": "markers",
           "name": "Africa",
           "orientation": "v",
           "showlegend": true,
           "type": "scatter",
           "x": [
            591900.125
           ],
           "xaxis": "x",
           "y": [
            641238.75
           ],
           "yaxis": "y"
          }
         ],
         "name": "2001"
        },
        {
         "data": [
          {
           "hovertemplate": "<b>%{hovertext}</b><br><br>Continent=Europe<br>Year=2002<br>Quantity=%{x}<br>Trade (USD)=%{y}<br>Nr of Countries=%{marker.size}<extra></extra>",
           "hovertext": [
            "Europe"
           ],
           "ids": [
            "Europe"
           ],
           "legendgroup": "Europe",
           "marker": {
            "color": "#636efa",
            "size": [
             42
            ],
            "sizemode": "area",
            "sizeref": 0.1225,
            "symbol": "circle"
           },
           "mode": "markers",
           "name": "Europe",
           "orientation": "v",
           "showlegend": true,
           "type": "scatter",
           "x": [
            43122552.375
           ],
           "xaxis": "x",
           "y": [
            71616024.625
           ],
           "yaxis": "y"
          },
          {
           "hovertemplate": "<b>%{hovertext}</b><br><br>Continent=Asia<br>Year=2002<br>Quantity=%{x}<br>Trade (USD)=%{y}<br>Nr of Countries=%{marker.size}<extra></extra>",
           "hovertext": [
            "Asia"
           ],
           "ids": [
            "Asia"
           ],
           "legendgroup": "Asia",
           "marker": {
            "color": "#EF553B",
            "size": [
             44
            ],
            "sizemode": "area",
            "sizeref": 0.1225,
            "symbol": "circle"
           },
           "mode": "markers",
           "name": "Asia",
           "orientation": "v",
           "showlegend": true,
           "type": "scatter",
           "x": [
            13209723.307692308
           ],
           "xaxis": "x",
           "y": [
            18092025.46153846
           ],
           "yaxis": "y"
          },
          {
           "hovertemplate": "<b>%{hovertext}</b><br><br>Continent=Oceania<br>Year=2002<br>Quantity=%{x}<br>Trade (USD)=%{y}<br>Nr of Countries=%{marker.size}<extra></extra>",
           "hovertext": [
            "Oceania"
           ],
           "ids": [
            "Oceania"
           ],
           "legendgroup": "Oceania",
           "marker": {
            "color": "#00cc96",
            "size": [
             15
            ],
            "sizemode": "area",
            "sizeref": 0.1225,
            "symbol": "circle"
           },
           "mode": "markers",
           "name": "Oceania",
           "orientation": "v",
           "showlegend": true,
           "type": "scatter",
           "x": [
            323407.85714285716
           ],
           "xaxis": "x",
           "y": [
            168182.57142857142
           ],
           "yaxis": "y"
          },
          {
           "hovertemplate": "<b>%{hovertext}</b><br><br>Continent=Americas<br>Year=2002<br>Quantity=%{x}<br>Trade (USD)=%{y}<br>Nr of Countries=%{marker.size}<extra></extra>",
           "hovertext": [
            "Americas"
           ],
           "ids": [
            "Americas"
           ],
           "legendgroup": "Americas",
           "marker": {
            "color": "#ab63fa",
            "size": [
             43
            ],
            "sizemode": "area",
            "sizeref": 0.1225,
            "symbol": "circle"
           },
           "mode": "markers",
           "name": "Americas",
           "orientation": "v",
           "showlegend": true,
           "type": "scatter",
           "x": [
            20191911
           ],
           "xaxis": "x",
           "y": [
            34368377.52380952
           ],
           "yaxis": "y"
          },
          {
           "hovertemplate": "<b>%{hovertext}</b><br><br>Continent=Africa<br>Year=2002<br>Quantity=%{x}<br>Trade (USD)=%{y}<br>Nr of Countries=%{marker.size}<extra></extra>",
           "hovertext": [
            "Africa"
           ],
           "ids": [
            "Africa"
           ],
           "legendgroup": "Africa",
           "marker": {
            "color": "#FFA15A",
            "size": [
             49
            ],
            "sizemode": "area",
            "sizeref": 0.1225,
            "symbol": "circle"
           },
           "mode": "markers",
           "name": "Africa",
           "orientation": "v",
           "showlegend": true,
           "type": "scatter",
           "x": [
            621480.85
           ],
           "xaxis": "x",
           "y": [
            1036391.15
           ],
           "yaxis": "y"
          }
         ],
         "name": "2002"
        },
        {
         "data": [
          {
           "hovertemplate": "<b>%{hovertext}</b><br><br>Continent=Europe<br>Year=2003<br>Quantity=%{x}<br>Trade (USD)=%{y}<br>Nr of Countries=%{marker.size}<extra></extra>",
           "hovertext": [
            "Europe"
           ],
           "ids": [
            "Europe"
           ],
           "legendgroup": "Europe",
           "marker": {
            "color": "#636efa",
            "size": [
             42
            ],
            "sizemode": "area",
            "sizeref": 0.1225,
            "symbol": "circle"
           },
           "mode": "markers",
           "name": "Europe",
           "orientation": "v",
           "showlegend": true,
           "type": "scatter",
           "x": [
            43216327.54285714
           ],
           "xaxis": "x",
           "y": [
            91914777.68571429
           ],
           "yaxis": "y"
          },
          {
           "hovertemplate": "<b>%{hovertext}</b><br><br>Continent=Asia<br>Year=2003<br>Quantity=%{x}<br>Trade (USD)=%{y}<br>Nr of Countries=%{marker.size}<extra></extra>",
           "hovertext": [
            "Asia"
           ],
           "ids": [
            "Asia"
           ],
           "legendgroup": "Asia",
           "marker": {
            "color": "#EF553B",
            "size": [
             44
            ],
            "sizemode": "area",
            "sizeref": 0.1225,
            "symbol": "circle"
           },
           "mode": "markers",
           "name": "Asia",
           "orientation": "v",
           "showlegend": true,
           "type": "scatter",
           "x": [
            11986623.043478262
           ],
           "xaxis": "x",
           "y": [
            38034520.78819087
           ],
           "yaxis": "y"
          },
          {
           "hovertemplate": "<b>%{hovertext}</b><br><br>Continent=Oceania<br>Year=2003<br>Quantity=%{x}<br>Trade (USD)=%{y}<br>Nr of Countries=%{marker.size}<extra></extra>",
           "hovertext": [
            "Oceania"
           ],
           "ids": [
            "Oceania"
           ],
           "legendgroup": "Oceania",
           "marker": {
            "color": "#00cc96",
            "size": [
             15
            ],
            "sizemode": "area",
            "sizeref": 0.1225,
            "symbol": "circle"
           },
           "mode": "markers",
           "name": "Oceania",
           "orientation": "v",
           "showlegend": true,
           "type": "scatter",
           "x": [
            59142
           ],
           "xaxis": "x",
           "y": [
            151205.25
           ],
           "yaxis": "y"
          },
          {
           "hovertemplate": "<b>%{hovertext}</b><br><br>Continent=Americas<br>Year=2003<br>Quantity=%{x}<br>Trade (USD)=%{y}<br>Nr of Countries=%{marker.size}<extra></extra>",
           "hovertext": [
            "Americas"
           ],
           "ids": [
            "Americas"
           ],
           "legendgroup": "Americas",
           "marker": {
            "color": "#ab63fa",
            "size": [
             43
            ],
            "sizemode": "area",
            "sizeref": 0.1225,
            "symbol": "circle"
           },
           "mode": "markers",
           "name": "Americas",
           "orientation": "v",
           "showlegend": true,
           "type": "scatter",
           "x": [
            24550819
           ],
           "xaxis": "x",
           "y": [
            51683477.421052635
           ],
           "yaxis": "y"
          },
          {
           "hovertemplate": "<b>%{hovertext}</b><br><br>Continent=Africa<br>Year=2003<br>Quantity=%{x}<br>Trade (USD)=%{y}<br>Nr of Countries=%{marker.size}<extra></extra>",
           "hovertext": [
            "Africa"
           ],
           "ids": [
            "Africa"
           ],
           "legendgroup": "Africa",
           "marker": {
            "color": "#FFA15A",
            "size": [
             49
            ],
            "sizemode": "area",
            "sizeref": 0.1225,
            "symbol": "circle"
           },
           "mode": "markers",
           "name": "Africa",
           "orientation": "v",
           "showlegend": true,
           "type": "scatter",
           "x": [
            699838.56
           ],
           "xaxis": "x",
           "y": [
            1341018.84
           ],
           "yaxis": "y"
          }
         ],
         "name": "2003"
        },
        {
         "data": [
          {
           "hovertemplate": "<b>%{hovertext}</b><br><br>Continent=Europe<br>Year=2004<br>Quantity=%{x}<br>Trade (USD)=%{y}<br>Nr of Countries=%{marker.size}<extra></extra>",
           "hovertext": [
            "Europe"
           ],
           "ids": [
            "Europe"
           ],
           "legendgroup": "Europe",
           "marker": {
            "color": "#636efa",
            "size": [
             42
            ],
            "sizemode": "area",
            "sizeref": 0.1225,
            "symbol": "circle"
           },
           "mode": "markers",
           "name": "Europe",
           "orientation": "v",
           "showlegend": true,
           "type": "scatter",
           "x": [
            43299448
           ],
           "xaxis": "x",
           "y": [
            78392421.02857143
           ],
           "yaxis": "y"
          },
          {
           "hovertemplate": "<b>%{hovertext}</b><br><br>Continent=Asia<br>Year=2004<br>Quantity=%{x}<br>Trade (USD)=%{y}<br>Nr of Countries=%{marker.size}<extra></extra>",
           "hovertext": [
            "Asia"
           ],
           "ids": [
            "Asia"
           ],
           "legendgroup": "Asia",
           "marker": {
            "color": "#EF553B",
            "size": [
             44
            ],
            "sizemode": "area",
            "sizeref": 0.1225,
            "symbol": "circle"
           },
           "mode": "markers",
           "name": "Asia",
           "orientation": "v",
           "showlegend": true,
           "type": "scatter",
           "x": [
            23122407.84
           ],
           "xaxis": "x",
           "y": [
            34168036.46405541
           ],
           "yaxis": "y"
          },
          {
           "hovertemplate": "<b>%{hovertext}</b><br><br>Continent=Oceania<br>Year=2004<br>Quantity=%{x}<br>Trade (USD)=%{y}<br>Nr of Countries=%{marker.size}<extra></extra>",
           "hovertext": [
            "Oceania"
           ],
           "ids": [
            "Oceania"
           ],
           "legendgroup": "Oceania",
           "marker": {
            "color": "#00cc96",
            "size": [
             15
            ],
            "sizemode": "area",
            "sizeref": 0.1225,
            "symbol": "circle"
           },
           "mode": "markers",
           "name": "Oceania",
           "orientation": "v",
           "showlegend": true,
           "type": "scatter",
           "x": [
            105767.6
           ],
           "xaxis": "x",
           "y": [
            223220
           ],
           "yaxis": "y"
          },
          {
           "hovertemplate": "<b>%{hovertext}</b><br><br>Continent=Americas<br>Year=2004<br>Quantity=%{x}<br>Trade (USD)=%{y}<br>Nr of Countries=%{marker.size}<extra></extra>",
           "hovertext": [
            "Americas"
           ],
           "ids": [
            "Americas"
           ],
           "legendgroup": "Americas",
           "marker": {
            "color": "#ab63fa",
            "size": [
             43
            ],
            "sizemode": "area",
            "sizeref": 0.1225,
            "symbol": "circle"
           },
           "mode": "markers",
           "name": "Americas",
           "orientation": "v",
           "showlegend": true,
           "type": "scatter",
           "x": [
            27896350.4
           ],
           "xaxis": "x",
           "y": [
            48052508.6
           ],
           "yaxis": "y"
          },
          {
           "hovertemplate": "<b>%{hovertext}</b><br><br>Continent=Africa<br>Year=2004<br>Quantity=%{x}<br>Trade (USD)=%{y}<br>Nr of Countries=%{marker.size}<extra></extra>",
           "hovertext": [
            "Africa"
           ],
           "ids": [
            "Africa"
           ],
           "legendgroup": "Africa",
           "marker": {
            "color": "#FFA15A",
            "size": [
             49
            ],
            "sizemode": "area",
            "sizeref": 0.1225,
            "symbol": "circle"
           },
           "mode": "markers",
           "name": "Africa",
           "orientation": "v",
           "showlegend": true,
           "type": "scatter",
           "x": [
            514476.375
           ],
           "xaxis": "x",
           "y": [
            932075.3333333334
           ],
           "yaxis": "y"
          }
         ],
         "name": "2004"
        },
        {
         "data": [
          {
           "hovertemplate": "<b>%{hovertext}</b><br><br>Continent=Europe<br>Year=2005<br>Quantity=%{x}<br>Trade (USD)=%{y}<br>Nr of Countries=%{marker.size}<extra></extra>",
           "hovertext": [
            "Europe"
           ],
           "ids": [
            "Europe"
           ],
           "legendgroup": "Europe",
           "marker": {
            "color": "#636efa",
            "size": [
             42
            ],
            "sizemode": "area",
            "sizeref": 0.1225,
            "symbol": "circle"
           },
           "mode": "markers",
           "name": "Europe",
           "orientation": "v",
           "showlegend": true,
           "type": "scatter",
           "x": [
            46722530.11111111
           ],
           "xaxis": "x",
           "y": [
            78113385.55555555
           ],
           "yaxis": "y"
          },
          {
           "hovertemplate": "<b>%{hovertext}</b><br><br>Continent=Asia<br>Year=2005<br>Quantity=%{x}<br>Trade (USD)=%{y}<br>Nr of Countries=%{marker.size}<extra></extra>",
           "hovertext": [
            "Asia"
           ],
           "ids": [
            "Asia"
           ],
           "legendgroup": "Asia",
           "marker": {
            "color": "#EF553B",
            "size": [
             44
            ],
            "sizemode": "area",
            "sizeref": 0.1225,
            "symbol": "circle"
           },
           "mode": "markers",
           "name": "Asia",
           "orientation": "v",
           "showlegend": true,
           "type": "scatter",
           "x": [
            21012971.89285714
           ],
           "xaxis": "x",
           "y": [
            31145346.714285713
           ],
           "yaxis": "y"
          },
          {
           "hovertemplate": "<b>%{hovertext}</b><br><br>Continent=Oceania<br>Year=2005<br>Quantity=%{x}<br>Trade (USD)=%{y}<br>Nr of Countries=%{marker.size}<extra></extra>",
           "hovertext": [
            "Oceania"
           ],
           "ids": [
            "Oceania"
           ],
           "legendgroup": "Oceania",
           "marker": {
            "color": "#00cc96",
            "size": [
             15
            ],
            "sizemode": "area",
            "sizeref": 0.1225,
            "symbol": "circle"
           },
           "mode": "markers",
           "name": "Oceania",
           "orientation": "v",
           "showlegend": true,
           "type": "scatter",
           "x": [
            104280.5
           ],
           "xaxis": "x",
           "y": [
            219611.625
           ],
           "yaxis": "y"
          },
          {
           "hovertemplate": "<b>%{hovertext}</b><br><br>Continent=Americas<br>Year=2005<br>Quantity=%{x}<br>Trade (USD)=%{y}<br>Nr of Countries=%{marker.size}<extra></extra>",
           "hovertext": [
            "Americas"
           ],
           "ids": [
            "Americas"
           ],
           "legendgroup": "Americas",
           "marker": {
            "color": "#ab63fa",
            "size": [
             43
            ],
            "sizemode": "area",
            "sizeref": 0.1225,
            "symbol": "circle"
           },
           "mode": "markers",
           "name": "Americas",
           "orientation": "v",
           "showlegend": true,
           "type": "scatter",
           "x": [
            37138095.94444445
           ],
           "xaxis": "x",
           "y": [
            63412247.833333336
           ],
           "yaxis": "y"
          },
          {
           "hovertemplate": "<b>%{hovertext}</b><br><br>Continent=Africa<br>Year=2005<br>Quantity=%{x}<br>Trade (USD)=%{y}<br>Nr of Countries=%{marker.size}<extra></extra>",
           "hovertext": [
            "Africa"
           ],
           "ids": [
            "Africa"
           ],
           "legendgroup": "Africa",
           "marker": {
            "color": "#FFA15A",
            "size": [
             49
            ],
            "sizemode": "area",
            "sizeref": 0.1225,
            "symbol": "circle"
           },
           "mode": "markers",
           "name": "Africa",
           "orientation": "v",
           "showlegend": true,
           "type": "scatter",
           "x": [
            489814.2083333333
           ],
           "xaxis": "x",
           "y": [
            871218.5833333334
           ],
           "yaxis": "y"
          }
         ],
         "name": "2005"
        },
        {
         "data": [
          {
           "hovertemplate": "<b>%{hovertext}</b><br><br>Continent=Europe<br>Year=2006<br>Quantity=%{x}<br>Trade (USD)=%{y}<br>Nr of Countries=%{marker.size}<extra></extra>",
           "hovertext": [
            "Europe"
           ],
           "ids": [
            "Europe"
           ],
           "legendgroup": "Europe",
           "marker": {
            "color": "#636efa",
            "size": [
             42
            ],
            "sizemode": "area",
            "sizeref": 0.1225,
            "symbol": "circle"
           },
           "mode": "markers",
           "name": "Europe",
           "orientation": "v",
           "showlegend": true,
           "type": "scatter",
           "x": [
            48318605.48571429
           ],
           "xaxis": "x",
           "y": [
            82548589.45714286
           ],
           "yaxis": "y"
          },
          {
           "hovertemplate": "<b>%{hovertext}</b><br><br>Continent=Asia<br>Year=2006<br>Quantity=%{x}<br>Trade (USD)=%{y}<br>Nr of Countries=%{marker.size}<extra></extra>",
           "hovertext": [
            "Asia"
           ],
           "ids": [
            "Asia"
           ],
           "legendgroup": "Asia",
           "marker": {
            "color": "#EF553B",
            "size": [
             44
            ],
            "sizemode": "area",
            "sizeref": 0.1225,
            "symbol": "circle"
           },
           "mode": "markers",
           "name": "Asia",
           "orientation": "v",
           "showlegend": true,
           "type": "scatter",
           "x": [
            29253247.03846154
           ],
           "xaxis": "x",
           "y": [
            45866816.15384615
           ],
           "yaxis": "y"
          },
          {
           "hovertemplate": "<b>%{hovertext}</b><br><br>Continent=Oceania<br>Year=2006<br>Quantity=%{x}<br>Trade (USD)=%{y}<br>Nr of Countries=%{marker.size}<extra></extra>",
           "hovertext": [
            "Oceania"
           ],
           "ids": [
            "Oceania"
           ],
           "legendgroup": "Oceania",
           "marker": {
            "color": "#00cc96",
            "size": [
             15
            ],
            "sizemode": "area",
            "sizeref": 0.1225,
            "symbol": "circle"
           },
           "mode": "markers",
           "name": "Oceania",
           "orientation": "v",
           "showlegend": true,
           "type": "scatter",
           "x": [
            119844.57142857143
           ],
           "xaxis": "x",
           "y": [
            267203.4285714286
           ],
           "yaxis": "y"
          },
          {
           "hovertemplate": "<b>%{hovertext}</b><br><br>Continent=Americas<br>Year=2006<br>Quantity=%{x}<br>Trade (USD)=%{y}<br>Nr of Countries=%{marker.size}<extra></extra>",
           "hovertext": [
            "Americas"
           ],
           "ids": [
            "Americas"
           ],
           "legendgroup": "Americas",
           "marker": {
            "color": "#ab63fa",
            "size": [
             43
            ],
            "sizemode": "area",
            "sizeref": 0.1225,
            "symbol": "circle"
           },
           "mode": "markers",
           "name": "Americas",
           "orientation": "v",
           "showlegend": true,
           "type": "scatter",
           "x": [
            33218413.315789472
           ],
           "xaxis": "x",
           "y": [
            53818500.421052635
           ],
           "yaxis": "y"
          },
          {
           "hovertemplate": "<b>%{hovertext}</b><br><br>Continent=Africa<br>Year=2006<br>Quantity=%{x}<br>Trade (USD)=%{y}<br>Nr of Countries=%{marker.size}<extra></extra>",
           "hovertext": [
            "Africa"
           ],
           "ids": [
            "Africa"
           ],
           "legendgroup": "Africa",
           "marker": {
            "color": "#FFA15A",
            "size": [
             49
            ],
            "sizemode": "area",
            "sizeref": 0.1225,
            "symbol": "circle"
           },
           "mode": "markers",
           "name": "Africa",
           "orientation": "v",
           "showlegend": true,
           "type": "scatter",
           "x": [
            505781
           ],
           "xaxis": "x",
           "y": [
            991848.0833333334
           ],
           "yaxis": "y"
          }
         ],
         "name": "2006"
        },
        {
         "data": [
          {
           "hovertemplate": "<b>%{hovertext}</b><br><br>Continent=Europe<br>Year=2007<br>Quantity=%{x}<br>Trade (USD)=%{y}<br>Nr of Countries=%{marker.size}<extra></extra>",
           "hovertext": [
            "Europe"
           ],
           "ids": [
            "Europe"
           ],
           "legendgroup": "Europe",
           "marker": {
            "color": "#636efa",
            "size": [
             42
            ],
            "sizemode": "area",
            "sizeref": 0.1225,
            "symbol": "circle"
           },
           "mode": "markers",
           "name": "Europe",
           "orientation": "v",
           "showlegend": true,
           "type": "scatter",
           "x": [
            52115768.25714286
           ],
           "xaxis": "x",
           "y": [
            104536679.37142856
           ],
           "yaxis": "y"
          },
          {
           "hovertemplate": "<b>%{hovertext}</b><br><br>Continent=Asia<br>Year=2007<br>Quantity=%{x}<br>Trade (USD)=%{y}<br>Nr of Countries=%{marker.size}<extra></extra>",
           "hovertext": [
            "Asia"
           ],
           "ids": [
            "Asia"
           ],
           "legendgroup": "Asia",
           "marker": {
            "color": "#EF553B",
            "size": [
             44
            ],
            "sizemode": "area",
            "sizeref": 0.1225,
            "symbol": "circle"
           },
           "mode": "markers",
           "name": "Asia",
           "orientation": "v",
           "showlegend": true,
           "type": "scatter",
           "x": [
            30637820.96
           ],
           "xaxis": "x",
           "y": [
            58752859.92
           ],
           "yaxis": "y"
          },
          {
           "hovertemplate": "<b>%{hovertext}</b><br><br>Continent=Oceania<br>Year=2007<br>Quantity=%{x}<br>Trade (USD)=%{y}<br>Nr of Countries=%{marker.size}<extra></extra>",
           "hovertext": [
            "Oceania"
           ],
           "ids": [
            "Oceania"
           ],
           "legendgroup": "Oceania",
           "marker": {
            "color": "#00cc96",
            "size": [
             15
            ],
            "sizemode": "area",
            "sizeref": 0.1225,
            "symbol": "circle"
           },
           "mode": "markers",
           "name": "Oceania",
           "orientation": "v",
           "showlegend": true,
           "type": "scatter",
           "x": [
            156295.14285714287
           ],
           "xaxis": "x",
           "y": [
            426234.28571428574
           ],
           "yaxis": "y"
          },
          {
           "hovertemplate": "<b>%{hovertext}</b><br><br>Continent=Americas<br>Year=2007<br>Quantity=%{x}<br>Trade (USD)=%{y}<br>Nr of Countries=%{marker.size}<extra></extra>",
           "hovertext": [
            "Americas"
           ],
           "ids": [
            "Americas"
           ],
           "legendgroup": "Americas",
           "marker": {
            "color": "#ab63fa",
            "size": [
             43
            ],
            "sizemode": "area",
            "sizeref": 0.1225,
            "symbol": "circle"
           },
           "mode": "markers",
           "name": "Americas",
           "orientation": "v",
           "showlegend": true,
           "type": "scatter",
           "x": [
            25798683.8
           ],
           "xaxis": "x",
           "y": [
            49590187.55
           ],
           "yaxis": "y"
          },
          {
           "hovertemplate": "<b>%{hovertext}</b><br><br>Continent=Africa<br>Year=2007<br>Quantity=%{x}<br>Trade (USD)=%{y}<br>Nr of Countries=%{marker.size}<extra></extra>",
           "hovertext": [
            "Africa"
           ],
           "ids": [
            "Africa"
           ],
           "legendgroup": "Africa",
           "marker": {
            "color": "#FFA15A",
            "size": [
             49
            ],
            "sizemode": "area",
            "sizeref": 0.1225,
            "symbol": "circle"
           },
           "mode": "markers",
           "name": "Africa",
           "orientation": "v",
           "showlegend": true,
           "type": "scatter",
           "x": [
            302358.6206896552
           ],
           "xaxis": "x",
           "y": [
            634525.4827586206
           ],
           "yaxis": "y"
          }
         ],
         "name": "2007"
        },
        {
         "data": [
          {
           "hovertemplate": "<b>%{hovertext}</b><br><br>Continent=Europe<br>Year=2008<br>Quantity=%{x}<br>Trade (USD)=%{y}<br>Nr of Countries=%{marker.size}<extra></extra>",
           "hovertext": [
            "Europe"
           ],
           "ids": [
            "Europe"
           ],
           "legendgroup": "Europe",
           "marker": {
            "color": "#636efa",
            "size": [
             42
            ],
            "sizemode": "area",
            "sizeref": 0.1225,
            "symbol": "circle"
           },
           "mode": "markers",
           "name": "Europe",
           "orientation": "v",
           "showlegend": true,
           "type": "scatter",
           "x": [
            52625025.52941176
           ],
           "xaxis": "x",
           "y": [
            131593678.7098622
           ],
           "yaxis": "y"
          },
          {
           "hovertemplate": "<b>%{hovertext}</b><br><br>Continent=Asia<br>Year=2008<br>Quantity=%{x}<br>Trade (USD)=%{y}<br>Nr of Countries=%{marker.size}<extra></extra>",
           "hovertext": [
            "Asia"
           ],
           "ids": [
            "Asia"
           ],
           "legendgroup": "Asia",
           "marker": {
            "color": "#EF553B",
            "size": [
             44
            ],
            "sizemode": "area",
            "sizeref": 0.1225,
            "symbol": "circle"
           },
           "mode": "markers",
           "name": "Asia",
           "orientation": "v",
           "showlegend": true,
           "type": "scatter",
           "x": [
            28528342.407407407
           ],
           "xaxis": "x",
           "y": [
            72694953.55555555
           ],
           "yaxis": "y"
          },
          {
           "hovertemplate": "<b>%{hovertext}</b><br><br>Continent=Oceania<br>Year=2008<br>Quantity=%{x}<br>Trade (USD)=%{y}<br>Nr of Countries=%{marker.size}<extra></extra>",
           "hovertext": [
            "Oceania"
           ],
           "ids": [
            "Oceania"
           ],
           "legendgroup": "Oceania",
           "marker": {
            "color": "#00cc96",
            "size": [
             15
            ],
            "sizemode": "area",
            "sizeref": 0.1225,
            "symbol": "circle"
           },
           "mode": "markers",
           "name": "Oceania",
           "orientation": "v",
           "showlegend": true,
           "type": "scatter",
           "x": [
            267252.2
           ],
           "xaxis": "x",
           "y": [
            767340.8
           ],
           "yaxis": "y"
          },
          {
           "hovertemplate": "<b>%{hovertext}</b><br><br>Continent=Americas<br>Year=2008<br>Quantity=%{x}<br>Trade (USD)=%{y}<br>Nr of Countries=%{marker.size}<extra></extra>",
           "hovertext": [
            "Americas"
           ],
           "ids": [
            "Americas"
           ],
           "legendgroup": "Americas",
           "marker": {
            "color": "#ab63fa",
            "size": [
             43
            ],
            "sizemode": "area",
            "sizeref": 0.1225,
            "symbol": "circle"
           },
           "mode": "markers",
           "name": "Americas",
           "orientation": "v",
           "showlegend": true,
           "type": "scatter",
           "x": [
            22244942.04347826
           ],
           "xaxis": "x",
           "y": [
            55906958.69565217
           ],
           "yaxis": "y"
          },
          {
           "hovertemplate": "<b>%{hovertext}</b><br><br>Continent=Africa<br>Year=2008<br>Quantity=%{x}<br>Trade (USD)=%{y}<br>Nr of Countries=%{marker.size}<extra></extra>",
           "hovertext": [
            "Africa"
           ],
           "ids": [
            "Africa"
           ],
           "legendgroup": "Africa",
           "marker": {
            "color": "#FFA15A",
            "size": [
             49
            ],
            "sizemode": "area",
            "sizeref": 0.1225,
            "symbol": "circle"
           },
           "mode": "markers",
           "name": "Africa",
           "orientation": "v",
           "showlegend": true,
           "type": "scatter",
           "x": [
            449789.0625
           ],
           "xaxis": "x",
           "y": [
            1091147.596455
           ],
           "yaxis": "y"
          }
         ],
         "name": "2008"
        },
        {
         "data": [
          {
           "hovertemplate": "<b>%{hovertext}</b><br><br>Continent=Europe<br>Year=2009<br>Quantity=%{x}<br>Trade (USD)=%{y}<br>Nr of Countries=%{marker.size}<extra></extra>",
           "hovertext": [
            "Europe"
           ],
           "ids": [
            "Europe"
           ],
           "legendgroup": "Europe",
           "marker": {
            "color": "#636efa",
            "size": [
             42
            ],
            "sizemode": "area",
            "sizeref": 0.1225,
            "symbol": "circle"
           },
           "mode": "markers",
           "name": "Europe",
           "orientation": "v",
           "showlegend": true,
           "type": "scatter",
           "x": [
            52366180.914868884
           ],
           "xaxis": "x",
           "y": [
            147127525.9239131
           ],
           "yaxis": "y"
          },
          {
           "hovertemplate": "<b>%{hovertext}</b><br><br>Continent=Asia<br>Year=2009<br>Quantity=%{x}<br>Trade (USD)=%{y}<br>Nr of Countries=%{marker.size}<extra></extra>",
           "hovertext": [
            "Asia"
           ],
           "ids": [
            "Asia"
           ],
           "legendgroup": "Asia",
           "marker": {
            "color": "#EF553B",
            "size": [
             44
            ],
            "sizemode": "area",
            "sizeref": 0.1225,
            "symbol": "circle"
           },
           "mode": "markers",
           "name": "Asia",
           "orientation": "v",
           "showlegend": true,
           "type": "scatter",
           "x": [
            21987430.03846154
           ],
           "xaxis": "x",
           "y": [
            59723314.76923077
           ],
           "yaxis": "y"
          },
          {
           "hovertemplate": "<b>%{hovertext}</b><br><br>Continent=Oceania<br>Year=2009<br>Quantity=%{x}<br>Trade (USD)=%{y}<br>Nr of Countries=%{marker.size}<extra></extra>",
           "hovertext": [
            "Oceania"
           ],
           "ids": [
            "Oceania"
           ],
           "legendgroup": "Oceania",
           "marker": {
            "color": "#00cc96",
            "size": [
             15
            ],
            "sizemode": "area",
            "sizeref": 0.1225,
            "symbol": "circle"
           },
           "mode": "markers",
           "name": "Oceania",
           "orientation": "v",
           "showlegend": true,
           "type": "scatter",
           "x": [
            188071.2857142857
           ],
           "xaxis": "x",
           "y": [
            622594.4285714285
           ],
           "yaxis": "y"
          },
          {
           "hovertemplate": "<b>%{hovertext}</b><br><br>Continent=Americas<br>Year=2009<br>Quantity=%{x}<br>Trade (USD)=%{y}<br>Nr of Countries=%{marker.size}<extra></extra>",
           "hovertext": [
            "Americas"
           ],
           "ids": [
            "Americas"
           ],
           "legendgroup": "Americas",
           "marker": {
            "color": "#ab63fa",
            "size": [
             43
            ],
            "sizemode": "area",
            "sizeref": 0.1225,
            "symbol": "circle"
           },
           "mode": "markers",
           "name": "Americas",
           "orientation": "v",
           "showlegend": true,
           "type": "scatter",
           "x": [
            26499955
           ],
           "xaxis": "x",
           "y": [
            72078414.68181819
           ],
           "yaxis": "y"
          },
          {
           "hovertemplate": "<b>%{hovertext}</b><br><br>Continent=Africa<br>Year=2009<br>Quantity=%{x}<br>Trade (USD)=%{y}<br>Nr of Countries=%{marker.size}<extra></extra>",
           "hovertext": [
            "Africa"
           ],
           "ids": [
            "Africa"
           ],
           "legendgroup": "Africa",
           "marker": {
            "color": "#FFA15A",
            "size": [
             49
            ],
            "sizemode": "area",
            "sizeref": 0.1225,
            "symbol": "circle"
           },
           "mode": "markers",
           "name": "Africa",
           "orientation": "v",
           "showlegend": true,
           "type": "scatter",
           "x": [
            431007.44
           ],
           "xaxis": "x",
           "y": [
            1263788.32
           ],
           "yaxis": "y"
          }
         ],
         "name": "2009"
        },
        {
         "data": [
          {
           "hovertemplate": "<b>%{hovertext}</b><br><br>Continent=Europe<br>Year=2010<br>Quantity=%{x}<br>Trade (USD)=%{y}<br>Nr of Countries=%{marker.size}<extra></extra>",
           "hovertext": [
            "Europe"
           ],
           "ids": [
            "Europe"
           ],
           "legendgroup": "Europe",
           "marker": {
            "color": "#636efa",
            "size": [
             42
            ],
            "sizemode": "area",
            "sizeref": 0.1225,
            "symbol": "circle"
           },
           "mode": "markers",
           "name": "Europe",
           "orientation": "v",
           "showlegend": true,
           "type": "scatter",
           "x": [
            45476281.88259671
           ],
           "xaxis": "x",
           "y": [
            149584050.25615966
           ],
           "yaxis": "y"
          },
          {
           "hovertemplate": "<b>%{hovertext}</b><br><br>Continent=Asia<br>Year=2010<br>Quantity=%{x}<br>Trade (USD)=%{y}<br>Nr of Countries=%{marker.size}<extra></extra>",
           "hovertext": [
            "Asia"
           ],
           "ids": [
            "Asia"
           ],
           "legendgroup": "Asia",
           "marker": {
            "color": "#EF553B",
            "size": [
             44
            ],
            "sizemode": "area",
            "sizeref": 0.1225,
            "symbol": "circle"
           },
           "mode": "markers",
           "name": "Asia",
           "orientation": "v",
           "showlegend": true,
           "type": "scatter",
           "x": [
            23643486.48925926
           ],
           "xaxis": "x",
           "y": [
            75849741.00134571
           ],
           "yaxis": "y"
          },
          {
           "hovertemplate": "<b>%{hovertext}</b><br><br>Continent=Oceania<br>Year=2010<br>Quantity=%{x}<br>Trade (USD)=%{y}<br>Nr of Countries=%{marker.size}<extra></extra>",
           "hovertext": [
            "Oceania"
           ],
           "ids": [
            "Oceania"
           ],
           "legendgroup": "Oceania",
           "marker": {
            "color": "#00cc96",
            "size": [
             15
            ],
            "sizemode": "area",
            "sizeref": 0.1225,
            "symbol": "circle"
           },
           "mode": "markers",
           "name": "Oceania",
           "orientation": "v",
           "showlegend": true,
           "type": "scatter",
           "x": [
            323769.4
           ],
           "xaxis": "x",
           "y": [
            1268914.13245135
           ],
           "yaxis": "y"
          },
          {
           "hovertemplate": "<b>%{hovertext}</b><br><br>Continent=Americas<br>Year=2010<br>Quantity=%{x}<br>Trade (USD)=%{y}<br>Nr of Countries=%{marker.size}<extra></extra>",
           "hovertext": [
            "Americas"
           ],
           "ids": [
            "Americas"
           ],
           "legendgroup": "Americas",
           "marker": {
            "color": "#ab63fa",
            "size": [
             43
            ],
            "sizemode": "area",
            "sizeref": 0.1225,
            "symbol": "circle"
           },
           "mode": "markers",
           "name": "Americas",
           "orientation": "v",
           "showlegend": true,
           "type": "scatter",
           "x": [
            21873037.2775
           ],
           "xaxis": "x",
           "y": [
            69187190.36125
           ],
           "yaxis": "y"
          },
          {
           "hovertemplate": "<b>%{hovertext}</b><br><br>Continent=Africa<br>Year=2010<br>Quantity=%{x}<br>Trade (USD)=%{y}<br>Nr of Countries=%{marker.size}<extra></extra>",
           "hovertext": [
            "Africa"
           ],
           "ids": [
            "Africa"
           ],
           "legendgroup": "Africa",
           "marker": {
            "color": "#FFA15A",
            "size": [
             49
            ],
            "sizemode": "area",
            "sizeref": 0.1225,
            "symbol": "circle"
           },
           "mode": "markers",
           "name": "Africa",
           "orientation": "v",
           "showlegend": true,
           "type": "scatter",
           "x": [
            283687.66107142856
           ],
           "xaxis": "x",
           "y": [
            973840.600530197
           ],
           "yaxis": "y"
          }
         ],
         "name": "2010"
        },
        {
         "data": [
          {
           "hovertemplate": "<b>%{hovertext}</b><br><br>Continent=Europe<br>Year=2011<br>Quantity=%{x}<br>Trade (USD)=%{y}<br>Nr of Countries=%{marker.size}<extra></extra>",
           "hovertext": [
            "Europe"
           ],
           "ids": [
            "Europe"
           ],
           "legendgroup": "Europe",
           "marker": {
            "color": "#636efa",
            "size": [
             42
            ],
            "sizemode": "area",
            "sizeref": 0.1225,
            "symbol": "circle"
           },
           "mode": "markers",
           "name": "Europe",
           "orientation": "v",
           "showlegend": true,
           "type": "scatter",
           "x": [
            54073920.137392215
           ],
           "xaxis": "x",
           "y": [
            179405900.96297386
           ],
           "yaxis": "y"
          },
          {
           "hovertemplate": "<b>%{hovertext}</b><br><br>Continent=Asia<br>Year=2011<br>Quantity=%{x}<br>Trade (USD)=%{y}<br>Nr of Countries=%{marker.size}<extra></extra>",
           "hovertext": [
            "Asia"
           ],
           "ids": [
            "Asia"
           ],
           "legendgroup": "Asia",
           "marker": {
            "color": "#EF553B",
            "size": [
             44
            ],
            "sizemode": "area",
            "sizeref": 0.1225,
            "symbol": "circle"
           },
           "mode": "markers",
           "name": "Asia",
           "orientation": "v",
           "showlegend": true,
           "type": "scatter",
           "x": [
            25742054.638076924
           ],
           "xaxis": "x",
           "y": [
            83634787.05296436
           ],
           "yaxis": "y"
          },
          {
           "hovertemplate": "<b>%{hovertext}</b><br><br>Continent=Oceania<br>Year=2011<br>Quantity=%{x}<br>Trade (USD)=%{y}<br>Nr of Countries=%{marker.size}<extra></extra>",
           "hovertext": [
            "Oceania"
           ],
           "ids": [
            "Oceania"
           ],
           "legendgroup": "Oceania",
           "marker": {
            "color": "#00cc96",
            "size": [
             15
            ],
            "sizemode": "area",
            "sizeref": 0.1225,
            "symbol": "circle"
           },
           "mode": "markers",
           "name": "Oceania",
           "orientation": "v",
           "showlegend": true,
           "type": "scatter",
           "x": [
            156494.38401319445
           ],
           "xaxis": "x",
           "y": [
            720159.4444444445
           ],
           "yaxis": "y"
          },
          {
           "hovertemplate": "<b>%{hovertext}</b><br><br>Continent=Americas<br>Year=2011<br>Quantity=%{x}<br>Trade (USD)=%{y}<br>Nr of Countries=%{marker.size}<extra></extra>",
           "hovertext": [
            "Americas"
           ],
           "ids": [
            "Americas"
           ],
           "legendgroup": "Americas",
           "marker": {
            "color": "#ab63fa",
            "size": [
             43
            ],
            "sizemode": "area",
            "sizeref": 0.1225,
            "symbol": "circle"
           },
           "mode": "markers",
           "name": "Americas",
           "orientation": "v",
           "showlegend": true,
           "type": "scatter",
           "x": [
            24999569.890833333
           ],
           "xaxis": "x",
           "y": [
            78006868.31541666
           ],
           "yaxis": "y"
          },
          {
           "hovertemplate": "<b>%{hovertext}</b><br><br>Continent=Africa<br>Year=2011<br>Quantity=%{x}<br>Trade (USD)=%{y}<br>Nr of Countries=%{marker.size}<extra></extra>",
           "hovertext": [
            "Africa"
           ],
           "ids": [
            "Africa"
           ],
           "legendgroup": "Africa",
           "marker": {
            "color": "#FFA15A",
            "size": [
             49
            ],
            "sizemode": "area",
            "sizeref": 0.1225,
            "symbol": "circle"
           },
           "mode": "markers",
           "name": "Africa",
           "orientation": "v",
           "showlegend": true,
           "type": "scatter",
           "x": [
            2002394.6937499999
           ],
           "xaxis": "x",
           "y": [
            68850375.90839808
           ],
           "yaxis": "y"
          }
         ],
         "name": "2011"
        },
        {
         "data": [
          {
           "hovertemplate": "<b>%{hovertext}</b><br><br>Continent=Europe<br>Year=2012<br>Quantity=%{x}<br>Trade (USD)=%{y}<br>Nr of Countries=%{marker.size}<extra></extra>",
           "hovertext": [
            "Europe"
           ],
           "ids": [
            "Europe"
           ],
           "legendgroup": "Europe",
           "marker": {
            "color": "#636efa",
            "size": [
             42
            ],
            "sizemode": "area",
            "sizeref": 0.1225,
            "symbol": "circle"
           },
           "mode": "markers",
           "name": "Europe",
           "orientation": "v",
           "showlegend": true,
           "type": "scatter",
           "x": [
            48475147.3523833
           ],
           "xaxis": "x",
           "y": [
            136224265.95667127
           ],
           "yaxis": "y"
          },
          {
           "hovertemplate": "<b>%{hovertext}</b><br><br>Continent=Asia<br>Year=2012<br>Quantity=%{x}<br>Trade (USD)=%{y}<br>Nr of Countries=%{marker.size}<extra></extra>",
           "hovertext": [
            "Asia"
           ],
           "ids": [
            "Asia"
           ],
           "legendgroup": "Asia",
           "marker": {
            "color": "#EF553B",
            "size": [
             44
            ],
            "sizemode": "area",
            "sizeref": 0.1225,
            "symbol": "circle"
           },
           "mode": "markers",
           "name": "Asia",
           "orientation": "v",
           "showlegend": true,
           "type": "scatter",
           "x": [
            25086327.568888888
           ],
           "xaxis": "x",
           "y": [
            67559207.08804557
           ],
           "yaxis": "y"
          },
          {
           "hovertemplate": "<b>%{hovertext}</b><br><br>Continent=Oceania<br>Year=2012<br>Quantity=%{x}<br>Trade (USD)=%{y}<br>Nr of Countries=%{marker.size}<extra></extra>",
           "hovertext": [
            "Oceania"
           ],
           "ids": [
            "Oceania"
           ],
           "legendgroup": "Oceania",
           "marker": {
            "color": "#00cc96",
            "size": [
             15
            ],
            "sizemode": "area",
            "sizeref": 0.1225,
            "symbol": "circle"
           },
           "mode": "markers",
           "name": "Oceania",
           "orientation": "v",
           "showlegend": true,
           "type": "scatter",
           "x": [
            301738.4285714286
           ],
           "xaxis": "x",
           "y": [
            926369.16289064
           ],
           "yaxis": "y"
          },
          {
           "hovertemplate": "<b>%{hovertext}</b><br><br>Continent=Americas<br>Year=2012<br>Quantity=%{x}<br>Trade (USD)=%{y}<br>Nr of Countries=%{marker.size}<extra></extra>",
           "hovertext": [
            "Americas"
           ],
           "ids": [
            "Americas"
           ],
           "legendgroup": "Americas",
           "marker": {
            "color": "#ab63fa",
            "size": [
             43
            ],
            "sizemode": "area",
            "sizeref": 0.1225,
            "symbol": "circle"
           },
           "mode": "markers",
           "name": "Americas",
           "orientation": "v",
           "showlegend": true,
           "type": "scatter",
           "x": [
            22209703.826685715
           ],
           "xaxis": "x",
           "y": [
            55114584.85
           ],
           "yaxis": "y"
          },
          {
           "hovertemplate": "<b>%{hovertext}</b><br><br>Continent=Africa<br>Year=2012<br>Quantity=%{x}<br>Trade (USD)=%{y}<br>Nr of Countries=%{marker.size}<extra></extra>",
           "hovertext": [
            "Africa"
           ],
           "ids": [
            "Africa"
           ],
           "legendgroup": "Africa",
           "marker": {
            "color": "#FFA15A",
            "size": [
             49
            ],
            "sizemode": "area",
            "sizeref": 0.1225,
            "symbol": "circle"
           },
           "mode": "markers",
           "name": "Africa",
           "orientation": "v",
           "showlegend": true,
           "type": "scatter",
           "x": [
            521220.29916666663
           ],
           "xaxis": "x",
           "y": [
            1301773.8754626466
           ],
           "yaxis": "y"
          }
         ],
         "name": "2012"
        },
        {
         "data": [
          {
           "hovertemplate": "<b>%{hovertext}</b><br><br>Continent=Europe<br>Year=2013<br>Quantity=%{x}<br>Trade (USD)=%{y}<br>Nr of Countries=%{marker.size}<extra></extra>",
           "hovertext": [
            "Europe"
           ],
           "ids": [
            "Europe"
           ],
           "legendgroup": "Europe",
           "marker": {
            "color": "#636efa",
            "size": [
             42
            ],
            "sizemode": "area",
            "sizeref": 0.1225,
            "symbol": "circle"
           },
           "mode": "markers",
           "name": "Europe",
           "orientation": "v",
           "showlegend": true,
           "type": "scatter",
           "x": [
            45656615.710425325
           ],
           "xaxis": "x",
           "y": [
            122200291.88397305
           ],
           "yaxis": "y"
          },
          {
           "hovertemplate": "<b>%{hovertext}</b><br><br>Continent=Asia<br>Year=2013<br>Quantity=%{x}<br>Trade (USD)=%{y}<br>Nr of Countries=%{marker.size}<extra></extra>",
           "hovertext": [
            "Asia"
           ],
           "ids": [
            "Asia"
           ],
           "legendgroup": "Asia",
           "marker": {
            "color": "#EF553B",
            "size": [
             44
            ],
            "sizemode": "area",
            "sizeref": 0.1225,
            "symbol": "circle"
           },
           "mode": "markers",
           "name": "Asia",
           "orientation": "v",
           "showlegend": true,
           "type": "scatter",
           "x": [
            22969231.944285717
           ],
           "xaxis": "x",
           "y": [
            57955772.28255361
           ],
           "yaxis": "y"
          },
          {
           "hovertemplate": "<b>%{hovertext}</b><br><br>Continent=Oceania<br>Year=2013<br>Quantity=%{x}<br>Trade (USD)=%{y}<br>Nr of Countries=%{marker.size}<extra></extra>",
           "hovertext": [
            "Oceania"
           ],
           "ids": [
            "Oceania"
           ],
           "legendgroup": "Oceania",
           "marker": {
            "color": "#00cc96",
            "size": [
             15
            ],
            "sizemode": "area",
            "sizeref": 0.1225,
            "symbol": "circle"
           },
           "mode": "markers",
           "name": "Oceania",
           "orientation": "v",
           "showlegend": true,
           "type": "scatter",
           "x": [
            206304.33333333334
           ],
           "xaxis": "x",
           "y": [
            611164.4818947823
           ],
           "yaxis": "y"
          },
          {
           "hovertemplate": "<b>%{hovertext}</b><br><br>Continent=Americas<br>Year=2013<br>Quantity=%{x}<br>Trade (USD)=%{y}<br>Nr of Countries=%{marker.size}<extra></extra>",
           "hovertext": [
            "Americas"
           ],
           "ids": [
            "Americas"
           ],
           "legendgroup": "Americas",
           "marker": {
            "color": "#ab63fa",
            "size": [
             43
            ],
            "sizemode": "area",
            "sizeref": 0.1225,
            "symbol": "circle"
           },
           "mode": "markers",
           "name": "Americas",
           "orientation": "v",
           "showlegend": true,
           "type": "scatter",
           "x": [
            22568078.98
           ],
           "xaxis": "x",
           "y": [
            56607564.875599995
           ],
           "yaxis": "y"
          },
          {
           "hovertemplate": "<b>%{hovertext}</b><br><br>Continent=Africa<br>Year=2013<br>Quantity=%{x}<br>Trade (USD)=%{y}<br>Nr of Countries=%{marker.size}<extra></extra>",
           "hovertext": [
            "Africa"
           ],
           "ids": [
            "Africa"
           ],
           "legendgroup": "Africa",
           "marker": {
            "color": "#FFA15A",
            "size": [
             49
            ],
            "sizemode": "area",
            "sizeref": 0.1225,
            "symbol": "circle"
           },
           "mode": "markers",
           "name": "Africa",
           "orientation": "v",
           "showlegend": true,
           "type": "scatter",
           "x": [
            608966.2920178778
           ],
           "xaxis": "x",
           "y": [
            3371660.65616774
           ],
           "yaxis": "y"
          }
         ],
         "name": "2013"
        },
        {
         "data": [
          {
           "hovertemplate": "<b>%{hovertext}</b><br><br>Continent=Europe<br>Year=2014<br>Quantity=%{x}<br>Trade (USD)=%{y}<br>Nr of Countries=%{marker.size}<extra></extra>",
           "hovertext": [
            "Europe"
           ],
           "ids": [
            "Europe"
           ],
           "legendgroup": "Europe",
           "marker": {
            "color": "#636efa",
            "size": [
             42
            ],
            "sizemode": "area",
            "sizeref": 0.1225,
            "symbol": "circle"
           },
           "mode": "markers",
           "name": "Europe",
           "orientation": "v",
           "showlegend": true,
           "type": "scatter",
           "x": [
            45594817.510327585
           ],
           "xaxis": "x",
           "y": [
            140387288.390662
           ],
           "yaxis": "y"
          },
          {
           "hovertemplate": "<b>%{hovertext}</b><br><br>Continent=Asia<br>Year=2014<br>Quantity=%{x}<br>Trade (USD)=%{y}<br>Nr of Countries=%{marker.size}<extra></extra>",
           "hovertext": [
            "Asia"
           ],
           "ids": [
            "Asia"
           ],
           "legendgroup": "Asia",
           "marker": {
            "color": "#EF553B",
            "size": [
             44
            ],
            "sizemode": "area",
            "sizeref": 0.1225,
            "symbol": "circle"
           },
           "mode": "markers",
           "name": "Asia",
           "orientation": "v",
           "showlegend": true,
           "type": "scatter",
           "x": [
            26668929.771851853
           ],
           "xaxis": "x",
           "y": [
            82698452.1546456
           ],
           "yaxis": "y"
          },
          {
           "hovertemplate": "<b>%{hovertext}</b><br><br>Continent=Oceania<br>Year=2014<br>Quantity=%{x}<br>Trade (USD)=%{y}<br>Nr of Countries=%{marker.size}<extra></extra>",
           "hovertext": [
            "Oceania"
           ],
           "ids": [
            "Oceania"
           ],
           "legendgroup": "Oceania",
           "marker": {
            "color": "#00cc96",
            "size": [
             15
            ],
            "sizemode": "area",
            "sizeref": 0.1225,
            "symbol": "circle"
           },
           "mode": "markers",
           "name": "Oceania",
           "orientation": "v",
           "showlegend": true,
           "type": "scatter",
           "x": [
            294484.85714285716
           ],
           "xaxis": "x",
           "y": [
            932414.2100192343
           ],
           "yaxis": "y"
          },
          {
           "hovertemplate": "<b>%{hovertext}</b><br><br>Continent=Americas<br>Year=2014<br>Quantity=%{x}<br>Trade (USD)=%{y}<br>Nr of Countries=%{marker.size}<extra></extra>",
           "hovertext": [
            "Americas"
           ],
           "ids": [
            "Americas"
           ],
           "legendgroup": "Americas",
           "marker": {
            "color": "#ab63fa",
            "size": [
             43
            ],
            "sizemode": "area",
            "sizeref": 0.1225,
            "symbol": "circle"
           },
           "mode": "markers",
           "name": "Americas",
           "orientation": "v",
           "showlegend": true,
           "type": "scatter",
           "x": [
            24111427.624166667
           ],
           "xaxis": "x",
           "y": [
            74095282.40291665
           ],
           "yaxis": "y"
          },
          {
           "hovertemplate": "<b>%{hovertext}</b><br><br>Continent=Africa<br>Year=2014<br>Quantity=%{x}<br>Trade (USD)=%{y}<br>Nr of Countries=%{marker.size}<extra></extra>",
           "hovertext": [
            "Africa"
           ],
           "ids": [
            "Africa"
           ],
           "legendgroup": "Africa",
           "marker": {
            "color": "#FFA15A",
            "size": [
             49
            ],
            "sizemode": "area",
            "sizeref": 0.1225,
            "symbol": "circle"
           },
           "mode": "markers",
           "name": "Africa",
           "orientation": "v",
           "showlegend": true,
           "type": "scatter",
           "x": [
            546992.5427578188
           ],
           "xaxis": "x",
           "y": [
            1610295.0127018096
           ],
           "yaxis": "y"
          }
         ],
         "name": "2014"
        },
        {
         "data": [
          {
           "hovertemplate": "<b>%{hovertext}</b><br><br>Continent=Europe<br>Year=2015<br>Quantity=%{x}<br>Trade (USD)=%{y}<br>Nr of Countries=%{marker.size}<extra></extra>",
           "hovertext": [
            "Europe"
           ],
           "ids": [
            "Europe"
           ],
           "legendgroup": "Europe",
           "marker": {
            "color": "#636efa",
            "size": [
             42
            ],
            "sizemode": "area",
            "sizeref": 0.1225,
            "symbol": "circle"
           },
           "mode": "markers",
           "name": "Europe",
           "orientation": "v",
           "showlegend": true,
           "type": "scatter",
           "x": [
            48641635.779902264
           ],
           "xaxis": "x",
           "y": [
            152128121.34782326
           ],
           "yaxis": "y"
          },
          {
           "hovertemplate": "<b>%{hovertext}</b><br><br>Continent=Asia<br>Year=2015<br>Quantity=%{x}<br>Trade (USD)=%{y}<br>Nr of Countries=%{marker.size}<extra></extra>",
           "hovertext": [
            "Asia"
           ],
           "ids": [
            "Asia"
           ],
           "legendgroup": "Asia",
           "marker": {
            "color": "#EF553B",
            "size": [
             44
            ],
            "sizemode": "area",
            "sizeref": 0.1225,
            "symbol": "circle"
           },
           "mode": "markers",
           "name": "Asia",
           "orientation": "v",
           "showlegend": true,
           "type": "scatter",
           "x": [
            19136884.03000991
           ],
           "xaxis": "x",
           "y": [
            60598267.80435799
           ],
           "yaxis": "y"
          },
          {
           "hovertemplate": "<b>%{hovertext}</b><br><br>Continent=Oceania<br>Year=2015<br>Quantity=%{x}<br>Trade (USD)=%{y}<br>Nr of Countries=%{marker.size}<extra></extra>",
           "hovertext": [
            "Oceania"
           ],
           "ids": [
            "Oceania"
           ],
           "legendgroup": "Oceania",
           "marker": {
            "color": "#00cc96",
            "size": [
             15
            ],
            "sizemode": "area",
            "sizeref": 0.1225,
            "symbol": "circle"
           },
           "mode": "markers",
           "name": "Oceania",
           "orientation": "v",
           "showlegend": true,
           "type": "scatter",
           "x": [
            490632.1666666667
           ],
           "xaxis": "x",
           "y": [
            2026819.345147533
           ],
           "yaxis": "y"
          },
          {
           "hovertemplate": "<b>%{hovertext}</b><br><br>Continent=Americas<br>Year=2015<br>Quantity=%{x}<br>Trade (USD)=%{y}<br>Nr of Countries=%{marker.size}<extra></extra>",
           "hovertext": [
            "Americas"
           ],
           "ids": [
            "Americas"
           ],
           "legendgroup": "Americas",
           "marker": {
            "color": "#ab63fa",
            "size": [
             43
            ],
            "sizemode": "area",
            "sizeref": 0.1225,
            "symbol": "circle"
           },
           "mode": "markers",
           "name": "Americas",
           "orientation": "v",
           "showlegend": true,
           "type": "scatter",
           "x": [
            21126363.50892857
           ],
           "xaxis": "x",
           "y": [
            64728611.63742753
           ],
           "yaxis": "y"
          },
          {
           "hovertemplate": "<b>%{hovertext}</b><br><br>Continent=Africa<br>Year=2015<br>Quantity=%{x}<br>Trade (USD)=%{y}<br>Nr of Countries=%{marker.size}<extra></extra>",
           "hovertext": [
            "Africa"
           ],
           "ids": [
            "Africa"
           ],
           "legendgroup": "Africa",
           "marker": {
            "color": "#FFA15A",
            "size": [
             49
            ],
            "sizemode": "area",
            "sizeref": 0.1225,
            "symbol": "circle"
           },
           "mode": "markers",
           "name": "Africa",
           "orientation": "v",
           "showlegend": true,
           "type": "scatter",
           "x": [
            235923.0489164076
           ],
           "xaxis": "x",
           "y": [
            712965.1643009186
           ],
           "yaxis": "y"
          }
         ],
         "name": "2015"
        },
        {
         "data": [
          {
           "hovertemplate": "<b>%{hovertext}</b><br><br>Continent=Europe<br>Year=2016<br>Quantity=%{x}<br>Trade (USD)=%{y}<br>Nr of Countries=%{marker.size}<extra></extra>",
           "hovertext": [
            "Europe"
           ],
           "ids": [
            "Europe"
           ],
           "legendgroup": "Europe",
           "marker": {
            "color": "#636efa",
            "size": [
             42
            ],
            "sizemode": "area",
            "sizeref": 0.1225,
            "symbol": "circle"
           },
           "mode": "markers",
           "name": "Europe",
           "orientation": "v",
           "showlegend": true,
           "type": "scatter",
           "x": [
            52922687.02224995
           ],
           "xaxis": "x",
           "y": [
            169131565.65156522
           ],
           "yaxis": "y"
          },
          {
           "hovertemplate": "<b>%{hovertext}</b><br><br>Continent=Asia<br>Year=2016<br>Quantity=%{x}<br>Trade (USD)=%{y}<br>Nr of Countries=%{marker.size}<extra></extra>",
           "hovertext": [
            "Asia"
           ],
           "ids": [
            "Asia"
           ],
           "legendgroup": "Asia",
           "marker": {
            "color": "#EF553B",
            "size": [
             44
            ],
            "sizemode": "area",
            "sizeref": 0.1225,
            "symbol": "circle"
           },
           "mode": "markers",
           "name": "Asia",
           "orientation": "v",
           "showlegend": true,
           "type": "scatter",
           "x": [
            19654327.36152766
           ],
           "xaxis": "x",
           "y": [
            62184808.076796085
           ],
           "yaxis": "y"
          },
          {
           "hovertemplate": "<b>%{hovertext}</b><br><br>Continent=Oceania<br>Year=2016<br>Quantity=%{x}<br>Trade (USD)=%{y}<br>Nr of Countries=%{marker.size}<extra></extra>",
           "hovertext": [
            "Oceania"
           ],
           "ids": [
            "Oceania"
           ],
           "legendgroup": "Oceania",
           "marker": {
            "color": "#00cc96",
            "size": [
             15
            ],
            "sizemode": "area",
            "sizeref": 0.1225,
            "symbol": "circle"
           },
           "mode": "markers",
           "name": "Oceania",
           "orientation": "v",
           "showlegend": true,
           "type": "scatter",
           "x": [
            661540.75
           ],
           "xaxis": "x",
           "y": [
            2486772.47790124
           ],
           "yaxis": "y"
          },
          {
           "hovertemplate": "<b>%{hovertext}</b><br><br>Continent=Americas<br>Year=2016<br>Quantity=%{x}<br>Trade (USD)=%{y}<br>Nr of Countries=%{marker.size}<extra></extra>",
           "hovertext": [
            "Americas"
           ],
           "ids": [
            "Americas"
           ],
           "legendgroup": "Americas",
           "marker": {
            "color": "#ab63fa",
            "size": [
             43
            ],
            "sizemode": "area",
            "sizeref": 0.1225,
            "symbol": "circle"
           },
           "mode": "markers",
           "name": "Americas",
           "orientation": "v",
           "showlegend": true,
           "type": "scatter",
           "x": [
            25118035.328393787
           ],
           "xaxis": "x",
           "y": [
            79073292.27230625
           ],
           "yaxis": "y"
          },
          {
           "hovertemplate": "<b>%{hovertext}</b><br><br>Continent=Africa<br>Year=2016<br>Quantity=%{x}<br>Trade (USD)=%{y}<br>Nr of Countries=%{marker.size}<extra></extra>",
           "hovertext": [
            "Africa"
           ],
           "ids": [
            "Africa"
           ],
           "legendgroup": "Africa",
           "marker": {
            "color": "#FFA15A",
            "size": [
             49
            ],
            "sizemode": "area",
            "sizeref": 0.1225,
            "symbol": "circle"
           },
           "mode": "markers",
           "name": "Africa",
           "orientation": "v",
           "showlegend": true,
           "type": "scatter",
           "x": [
            244536.4258902996
           ],
           "xaxis": "x",
           "y": [
            760427.2985982553
           ],
           "yaxis": "y"
          }
         ],
         "name": "2016"
        },
        {
         "data": [
          {
           "hovertemplate": "<b>%{hovertext}</b><br><br>Continent=Europe<br>Year=2017<br>Quantity=%{x}<br>Trade (USD)=%{y}<br>Nr of Countries=%{marker.size}<extra></extra>",
           "hovertext": [
            "Europe"
           ],
           "ids": [
            "Europe"
           ],
           "legendgroup": "Europe",
           "marker": {
            "color": "#636efa",
            "size": [
             42
            ],
            "sizemode": "area",
            "sizeref": 0.1225,
            "symbol": "circle"
           },
           "mode": "markers",
           "name": "Europe",
           "orientation": "v",
           "showlegend": true,
           "type": "scatter",
           "x": [
            60122843.16891841
           ],
           "xaxis": "x",
           "y": [
            154515711.93819338
           ],
           "yaxis": "y"
          },
          {
           "hovertemplate": "<b>%{hovertext}</b><br><br>Continent=Asia<br>Year=2017<br>Quantity=%{x}<br>Trade (USD)=%{y}<br>Nr of Countries=%{marker.size}<extra></extra>",
           "hovertext": [
            "Asia"
           ],
           "ids": [
            "Asia"
           ],
           "legendgroup": "Asia",
           "marker": {
            "color": "#EF553B",
            "size": [
             44
            ],
            "sizemode": "area",
            "sizeref": 0.1225,
            "symbol": "circle"
           },
           "mode": "markers",
           "name": "Asia",
           "orientation": "v",
           "showlegend": true,
           "type": "scatter",
           "x": [
            28721381.508676745
           ],
           "xaxis": "x",
           "y": [
            68321514.53510377
           ],
           "yaxis": "y"
          },
          {
           "hovertemplate": "<b>%{hovertext}</b><br><br>Continent=Oceania<br>Year=2017<br>Quantity=%{x}<br>Trade (USD)=%{y}<br>Nr of Countries=%{marker.size}<extra></extra>",
           "hovertext": [
            "Oceania"
           ],
           "ids": [
            "Oceania"
           ],
           "legendgroup": "Oceania",
           "marker": {
            "color": "#00cc96",
            "size": [
             15
            ],
            "sizemode": "area",
            "sizeref": 0.1225,
            "symbol": "circle"
           },
           "mode": "markers",
           "name": "Oceania",
           "orientation": "v",
           "showlegend": true,
           "type": "scatter",
           "x": [
            545763.995
           ],
           "xaxis": "x",
           "y": [
            2039932.8530674025
           ],
           "yaxis": "y"
          },
          {
           "hovertemplate": "<b>%{hovertext}</b><br><br>Continent=Americas<br>Year=2017<br>Quantity=%{x}<br>Trade (USD)=%{y}<br>Nr of Countries=%{marker.size}<extra></extra>",
           "hovertext": [
            "Americas"
           ],
           "ids": [
            "Americas"
           ],
           "legendgroup": "Americas",
           "marker": {
            "color": "#ab63fa",
            "size": [
             43
            ],
            "sizemode": "area",
            "sizeref": 0.1225,
            "symbol": "circle"
           },
           "mode": "markers",
           "name": "Americas",
           "orientation": "v",
           "showlegend": true,
           "type": "scatter",
           "x": [
            27420607.913475294
           ],
           "xaxis": "x",
           "y": [
            78579966.98643492
           ],
           "yaxis": "y"
          },
          {
           "hovertemplate": "<b>%{hovertext}</b><br><br>Continent=Africa<br>Year=2017<br>Quantity=%{x}<br>Trade (USD)=%{y}<br>Nr of Countries=%{marker.size}<extra></extra>",
           "hovertext": [
            "Africa"
           ],
           "ids": [
            "Africa"
           ],
           "legendgroup": "Africa",
           "marker": {
            "color": "#FFA15A",
            "size": [
             49
            ],
            "sizemode": "area",
            "sizeref": 0.1225,
            "symbol": "circle"
           },
           "mode": "markers",
           "name": "Africa",
           "orientation": "v",
           "showlegend": true,
           "type": "scatter",
           "x": [
            296367.9559906297
           ],
           "xaxis": "x",
           "y": [
            695271.4584535334
           ],
           "yaxis": "y"
          }
         ],
         "name": "2017"
        },
        {
         "data": [
          {
           "hovertemplate": "<b>%{hovertext}</b><br><br>Continent=Europe<br>Year=2018<br>Quantity=%{x}<br>Trade (USD)=%{y}<br>Nr of Countries=%{marker.size}<extra></extra>",
           "hovertext": [
            "Europe"
           ],
           "ids": [
            "Europe"
           ],
           "legendgroup": "Europe",
           "marker": {
            "color": "#636efa",
            "size": [
             42
            ],
            "sizemode": "area",
            "sizeref": 0.1225,
            "symbol": "circle"
           },
           "mode": "markers",
           "name": "Europe",
           "orientation": "v",
           "showlegend": true,
           "type": "scatter",
           "x": [
            60070673.1367199
           ],
           "xaxis": "x",
           "y": [
            143934485.29849485
           ],
           "yaxis": "y"
          },
          {
           "hovertemplate": "<b>%{hovertext}</b><br><br>Continent=Asia<br>Year=2018<br>Quantity=%{x}<br>Trade (USD)=%{y}<br>Nr of Countries=%{marker.size}<extra></extra>",
           "hovertext": [
            "Asia"
           ],
           "ids": [
            "Asia"
           ],
           "legendgroup": "Asia",
           "marker": {
            "color": "#EF553B",
            "size": [
             44
            ],
            "sizemode": "area",
            "sizeref": 0.1225,
            "symbol": "circle"
           },
           "mode": "markers",
           "name": "Asia",
           "orientation": "v",
           "showlegend": true,
           "type": "scatter",
           "x": [
            31713232.183908448
           ],
           "xaxis": "x",
           "y": [
            80302980.71936063
           ],
           "yaxis": "y"
          },
          {
           "hovertemplate": "<b>%{hovertext}</b><br><br>Continent=Oceania<br>Year=2018<br>Quantity=%{x}<br>Trade (USD)=%{y}<br>Nr of Countries=%{marker.size}<extra></extra>",
           "hovertext": [
            "Oceania"
           ],
           "ids": [
            "Oceania"
           ],
           "legendgroup": "Oceania",
           "marker": {
            "color": "#00cc96",
            "size": [
             15
            ],
            "sizemode": "area",
            "sizeref": 0.1225,
            "symbol": "circle"
           },
           "mode": "markers",
           "name": "Oceania",
           "orientation": "v",
           "showlegend": true,
           "type": "scatter",
           "x": [
            585156.1722860903
           ],
           "xaxis": "x",
           "y": [
            1481986.8868787314
           ],
           "yaxis": "y"
          },
          {
           "hovertemplate": "<b>%{hovertext}</b><br><br>Continent=Americas<br>Year=2018<br>Quantity=%{x}<br>Trade (USD)=%{y}<br>Nr of Countries=%{marker.size}<extra></extra>",
           "hovertext": [
            "Americas"
           ],
           "ids": [
            "Americas"
           ],
           "legendgroup": "Americas",
           "marker": {
            "color": "#ab63fa",
            "size": [
             43
            ],
            "sizemode": "area",
            "sizeref": 0.1225,
            "symbol": "circle"
           },
           "mode": "markers",
           "name": "Americas",
           "orientation": "v",
           "showlegend": true,
           "type": "scatter",
           "x": [
            27304895.67157895
           ],
           "xaxis": "x",
           "y": [
            76227535.05539517
           ],
           "yaxis": "y"
          },
          {
           "hovertemplate": "<b>%{hovertext}</b><br><br>Continent=Africa<br>Year=2018<br>Quantity=%{x}<br>Trade (USD)=%{y}<br>Nr of Countries=%{marker.size}<extra></extra>",
           "hovertext": [
            "Africa"
           ],
           "ids": [
            "Africa"
           ],
           "legendgroup": "Africa",
           "marker": {
            "color": "#FFA15A",
            "size": [
             49
            ],
            "sizemode": "area",
            "sizeref": 0.1225,
            "symbol": "circle"
           },
           "mode": "markers",
           "name": "Africa",
           "orientation": "v",
           "showlegend": true,
           "type": "scatter",
           "x": [
            30368.58516727164
           ],
           "xaxis": "x",
           "y": [
            68908.47624944495
           ],
           "yaxis": "y"
          }
         ],
         "name": "2018"
        },
        {
         "data": [
          {
           "hovertemplate": "<b>%{hovertext}</b><br><br>Continent=Europe<br>Year=2019<br>Quantity=%{x}<br>Trade (USD)=%{y}<br>Nr of Countries=%{marker.size}<extra></extra>",
           "hovertext": [
            "Europe"
           ],
           "ids": [
            "Europe"
           ],
           "legendgroup": "Europe",
           "marker": {
            "color": "#636efa",
            "size": [
             42
            ],
            "sizemode": "area",
            "sizeref": 0.1225,
            "symbol": "circle"
           },
           "mode": "markers",
           "name": "Europe",
           "orientation": "v",
           "showlegend": true,
           "type": "scatter",
           "x": [
            9974115.200989446
           ],
           "xaxis": "x",
           "y": [
            27046313.92778598
           ],
           "yaxis": "y"
          },
          {
           "hovertemplate": "<b>%{hovertext}</b><br><br>Continent=Asia<br>Year=2019<br>Quantity=%{x}<br>Trade (USD)=%{y}<br>Nr of Countries=%{marker.size}<extra></extra>",
           "hovertext": [
            "Asia"
           ],
           "ids": [
            "Asia"
           ],
           "legendgroup": "Asia",
           "marker": {
            "color": "#EF553B",
            "size": [
             44
            ],
            "sizemode": "area",
            "sizeref": 0.1225,
            "symbol": "circle"
           },
           "mode": "markers",
           "name": "Asia",
           "orientation": "v",
           "showlegend": true,
           "type": "scatter",
           "x": [
            14052719.049999999
           ],
           "xaxis": "x",
           "y": [
            36852462.530839995
           ],
           "yaxis": "y"
          },
          {
           "hovertemplate": "<b>%{hovertext}</b><br><br>Continent=Americas<br>Year=2019<br>Quantity=%{x}<br>Trade (USD)=%{y}<br>Nr of Countries=%{marker.size}<extra></extra>",
           "hovertext": [
            "Americas"
           ],
           "ids": [
            "Americas"
           ],
           "legendgroup": "Americas",
           "marker": {
            "color": "#ab63fa",
            "size": [
             43
            ],
            "sizemode": "area",
            "sizeref": 0.1225,
            "symbol": "circle"
           },
           "mode": "markers",
           "name": "Americas",
           "orientation": "v",
           "showlegend": true,
           "type": "scatter",
           "x": [
            30683339.733333334
           ],
           "xaxis": "x",
           "y": [
            75515972.81201667
           ],
           "yaxis": "y"
          },
          {
           "hovertemplate": "<b>%{hovertext}</b><br><br>Continent=Africa<br>Year=2019<br>Quantity=%{x}<br>Trade (USD)=%{y}<br>Nr of Countries=%{marker.size}<extra></extra>",
           "hovertext": [
            "Africa"
           ],
           "ids": [
            "Africa"
           ],
           "legendgroup": "Africa",
           "marker": {
            "color": "#FFA15A",
            "size": [
             49
            ],
            "sizemode": "area",
            "sizeref": 0.1225,
            "symbol": "circle"
           },
           "mode": "markers",
           "name": "Africa",
           "orientation": "v",
           "showlegend": true,
           "type": "scatter",
           "x": [
            1708
           ],
           "xaxis": "x",
           "y": [
            3180.14389056
           ],
           "yaxis": "y"
          }
         ],
         "name": "2019"
        }
       ],
       "layout": {
        "legend": {
         "itemsizing": "constant",
         "title": {
          "text": "Continent"
         },
         "tracegroupgap": 0
        },
        "margin": {
         "t": 60
        },
        "sliders": [
         {
          "active": 0,
          "currentvalue": {
           "prefix": "Year="
          },
          "len": 0.9,
          "pad": {
           "b": 10,
           "t": 60
          },
          "steps": [
           {
            "args": [
             [
              "1991"
             ],
             {
              "frame": {
               "duration": 0,
               "redraw": false
              },
              "fromcurrent": true,
              "mode": "immediate",
              "transition": {
               "duration": 0,
               "easing": "linear"
              }
             }
            ],
            "label": "1991",
            "method": "animate"
           },
           {
            "args": [
             [
              "1992"
             ],
             {
              "frame": {
               "duration": 0,
               "redraw": false
              },
              "fromcurrent": true,
              "mode": "immediate",
              "transition": {
               "duration": 0,
               "easing": "linear"
              }
             }
            ],
            "label": "1992",
            "method": "animate"
           },
           {
            "args": [
             [
              "1993"
             ],
             {
              "frame": {
               "duration": 0,
               "redraw": false
              },
              "fromcurrent": true,
              "mode": "immediate",
              "transition": {
               "duration": 0,
               "easing": "linear"
              }
             }
            ],
            "label": "1993",
            "method": "animate"
           },
           {
            "args": [
             [
              "1994"
             ],
             {
              "frame": {
               "duration": 0,
               "redraw": false
              },
              "fromcurrent": true,
              "mode": "immediate",
              "transition": {
               "duration": 0,
               "easing": "linear"
              }
             }
            ],
            "label": "1994",
            "method": "animate"
           },
           {
            "args": [
             [
              "1995"
             ],
             {
              "frame": {
               "duration": 0,
               "redraw": false
              },
              "fromcurrent": true,
              "mode": "immediate",
              "transition": {
               "duration": 0,
               "easing": "linear"
              }
             }
            ],
            "label": "1995",
            "method": "animate"
           },
           {
            "args": [
             [
              "1996"
             ],
             {
              "frame": {
               "duration": 0,
               "redraw": false
              },
              "fromcurrent": true,
              "mode": "immediate",
              "transition": {
               "duration": 0,
               "easing": "linear"
              }
             }
            ],
            "label": "1996",
            "method": "animate"
           },
           {
            "args": [
             [
              "1997"
             ],
             {
              "frame": {
               "duration": 0,
               "redraw": false
              },
              "fromcurrent": true,
              "mode": "immediate",
              "transition": {
               "duration": 0,
               "easing": "linear"
              }
             }
            ],
            "label": "1997",
            "method": "animate"
           },
           {
            "args": [
             [
              "1998"
             ],
             {
              "frame": {
               "duration": 0,
               "redraw": false
              },
              "fromcurrent": true,
              "mode": "immediate",
              "transition": {
               "duration": 0,
               "easing": "linear"
              }
             }
            ],
            "label": "1998",
            "method": "animate"
           },
           {
            "args": [
             [
              "1999"
             ],
             {
              "frame": {
               "duration": 0,
               "redraw": false
              },
              "fromcurrent": true,
              "mode": "immediate",
              "transition": {
               "duration": 0,
               "easing": "linear"
              }
             }
            ],
            "label": "1999",
            "method": "animate"
           },
           {
            "args": [
             [
              "2000"
             ],
             {
              "frame": {
               "duration": 0,
               "redraw": false
              },
              "fromcurrent": true,
              "mode": "immediate",
              "transition": {
               "duration": 0,
               "easing": "linear"
              }
             }
            ],
            "label": "2000",
            "method": "animate"
           },
           {
            "args": [
             [
              "2001"
             ],
             {
              "frame": {
               "duration": 0,
               "redraw": false
              },
              "fromcurrent": true,
              "mode": "immediate",
              "transition": {
               "duration": 0,
               "easing": "linear"
              }
             }
            ],
            "label": "2001",
            "method": "animate"
           },
           {
            "args": [
             [
              "2002"
             ],
             {
              "frame": {
               "duration": 0,
               "redraw": false
              },
              "fromcurrent": true,
              "mode": "immediate",
              "transition": {
               "duration": 0,
               "easing": "linear"
              }
             }
            ],
            "label": "2002",
            "method": "animate"
           },
           {
            "args": [
             [
              "2003"
             ],
             {
              "frame": {
               "duration": 0,
               "redraw": false
              },
              "fromcurrent": true,
              "mode": "immediate",
              "transition": {
               "duration": 0,
               "easing": "linear"
              }
             }
            ],
            "label": "2003",
            "method": "animate"
           },
           {
            "args": [
             [
              "2004"
             ],
             {
              "frame": {
               "duration": 0,
               "redraw": false
              },
              "fromcurrent": true,
              "mode": "immediate",
              "transition": {
               "duration": 0,
               "easing": "linear"
              }
             }
            ],
            "label": "2004",
            "method": "animate"
           },
           {
            "args": [
             [
              "2005"
             ],
             {
              "frame": {
               "duration": 0,
               "redraw": false
              },
              "fromcurrent": true,
              "mode": "immediate",
              "transition": {
               "duration": 0,
               "easing": "linear"
              }
             }
            ],
            "label": "2005",
            "method": "animate"
           },
           {
            "args": [
             [
              "2006"
             ],
             {
              "frame": {
               "duration": 0,
               "redraw": false
              },
              "fromcurrent": true,
              "mode": "immediate",
              "transition": {
               "duration": 0,
               "easing": "linear"
              }
             }
            ],
            "label": "2006",
            "method": "animate"
           },
           {
            "args": [
             [
              "2007"
             ],
             {
              "frame": {
               "duration": 0,
               "redraw": false
              },
              "fromcurrent": true,
              "mode": "immediate",
              "transition": {
               "duration": 0,
               "easing": "linear"
              }
             }
            ],
            "label": "2007",
            "method": "animate"
           },
           {
            "args": [
             [
              "2008"
             ],
             {
              "frame": {
               "duration": 0,
               "redraw": false
              },
              "fromcurrent": true,
              "mode": "immediate",
              "transition": {
               "duration": 0,
               "easing": "linear"
              }
             }
            ],
            "label": "2008",
            "method": "animate"
           },
           {
            "args": [
             [
              "2009"
             ],
             {
              "frame": {
               "duration": 0,
               "redraw": false
              },
              "fromcurrent": true,
              "mode": "immediate",
              "transition": {
               "duration": 0,
               "easing": "linear"
              }
             }
            ],
            "label": "2009",
            "method": "animate"
           },
           {
            "args": [
             [
              "2010"
             ],
             {
              "frame": {
               "duration": 0,
               "redraw": false
              },
              "fromcurrent": true,
              "mode": "immediate",
              "transition": {
               "duration": 0,
               "easing": "linear"
              }
             }
            ],
            "label": "2010",
            "method": "animate"
           },
           {
            "args": [
             [
              "2011"
             ],
             {
              "frame": {
               "duration": 0,
               "redraw": false
              },
              "fromcurrent": true,
              "mode": "immediate",
              "transition": {
               "duration": 0,
               "easing": "linear"
              }
             }
            ],
            "label": "2011",
            "method": "animate"
           },
           {
            "args": [
             [
              "2012"
             ],
             {
              "frame": {
               "duration": 0,
               "redraw": false
              },
              "fromcurrent": true,
              "mode": "immediate",
              "transition": {
               "duration": 0,
               "easing": "linear"
              }
             }
            ],
            "label": "2012",
            "method": "animate"
           },
           {
            "args": [
             [
              "2013"
             ],
             {
              "frame": {
               "duration": 0,
               "redraw": false
              },
              "fromcurrent": true,
              "mode": "immediate",
              "transition": {
               "duration": 0,
               "easing": "linear"
              }
             }
            ],
            "label": "2013",
            "method": "animate"
           },
           {
            "args": [
             [
              "2014"
             ],
             {
              "frame": {
               "duration": 0,
               "redraw": false
              },
              "fromcurrent": true,
              "mode": "immediate",
              "transition": {
               "duration": 0,
               "easing": "linear"
              }
             }
            ],
            "label": "2014",
            "method": "animate"
           },
           {
            "args": [
             [
              "2015"
             ],
             {
              "frame": {
               "duration": 0,
               "redraw": false
              },
              "fromcurrent": true,
              "mode": "immediate",
              "transition": {
               "duration": 0,
               "easing": "linear"
              }
             }
            ],
            "label": "2015",
            "method": "animate"
           },
           {
            "args": [
             [
              "2016"
             ],
             {
              "frame": {
               "duration": 0,
               "redraw": false
              },
              "fromcurrent": true,
              "mode": "immediate",
              "transition": {
               "duration": 0,
               "easing": "linear"
              }
             }
            ],
            "label": "2016",
            "method": "animate"
           },
           {
            "args": [
             [
              "2017"
             ],
             {
              "frame": {
               "duration": 0,
               "redraw": false
              },
              "fromcurrent": true,
              "mode": "immediate",
              "transition": {
               "duration": 0,
               "easing": "linear"
              }
             }
            ],
            "label": "2017",
            "method": "animate"
           },
           {
            "args": [
             [
              "2018"
             ],
             {
              "frame": {
               "duration": 0,
               "redraw": false
              },
              "fromcurrent": true,
              "mode": "immediate",
              "transition": {
               "duration": 0,
               "easing": "linear"
              }
             }
            ],
            "label": "2018",
            "method": "animate"
           },
           {
            "args": [
             [
              "2019"
             ],
             {
              "frame": {
               "duration": 0,
               "redraw": false
              },
              "fromcurrent": true,
              "mode": "immediate",
              "transition": {
               "duration": 0,
               "easing": "linear"
              }
             }
            ],
            "label": "2019",
            "method": "animate"
           }
          ],
          "x": 0.1,
          "xanchor": "left",
          "y": 0,
          "yanchor": "top"
         }
        ],
        "template": {
         "data": {
          "bar": [
           {
            "error_x": {
             "color": "#2a3f5f"
            },
            "error_y": {
             "color": "#2a3f5f"
            },
            "marker": {
             "line": {
              "color": "#E5ECF6",
              "width": 0.5
             },
             "pattern": {
              "fillmode": "overlay",
              "size": 10,
              "solidity": 0.2
             }
            },
            "type": "bar"
           }
          ],
          "barpolar": [
           {
            "marker": {
             "line": {
              "color": "#E5ECF6",
              "width": 0.5
             },
             "pattern": {
              "fillmode": "overlay",
              "size": 10,
              "solidity": 0.2
             }
            },
            "type": "barpolar"
           }
          ],
          "carpet": [
           {
            "aaxis": {
             "endlinecolor": "#2a3f5f",
             "gridcolor": "white",
             "linecolor": "white",
             "minorgridcolor": "white",
             "startlinecolor": "#2a3f5f"
            },
            "baxis": {
             "endlinecolor": "#2a3f5f",
             "gridcolor": "white",
             "linecolor": "white",
             "minorgridcolor": "white",
             "startlinecolor": "#2a3f5f"
            },
            "type": "carpet"
           }
          ],
          "choropleth": [
           {
            "colorbar": {
             "outlinewidth": 0,
             "ticks": ""
            },
            "type": "choropleth"
           }
          ],
          "contour": [
           {
            "colorbar": {
             "outlinewidth": 0,
             "ticks": ""
            },
            "colorscale": [
             [
              0,
              "#0d0887"
             ],
             [
              0.1111111111111111,
              "#46039f"
             ],
             [
              0.2222222222222222,
              "#7201a8"
             ],
             [
              0.3333333333333333,
              "#9c179e"
             ],
             [
              0.4444444444444444,
              "#bd3786"
             ],
             [
              0.5555555555555556,
              "#d8576b"
             ],
             [
              0.6666666666666666,
              "#ed7953"
             ],
             [
              0.7777777777777778,
              "#fb9f3a"
             ],
             [
              0.8888888888888888,
              "#fdca26"
             ],
             [
              1,
              "#f0f921"
             ]
            ],
            "type": "contour"
           }
          ],
          "contourcarpet": [
           {
            "colorbar": {
             "outlinewidth": 0,
             "ticks": ""
            },
            "type": "contourcarpet"
           }
          ],
          "heatmap": [
           {
            "colorbar": {
             "outlinewidth": 0,
             "ticks": ""
            },
            "colorscale": [
             [
              0,
              "#0d0887"
             ],
             [
              0.1111111111111111,
              "#46039f"
             ],
             [
              0.2222222222222222,
              "#7201a8"
             ],
             [
              0.3333333333333333,
              "#9c179e"
             ],
             [
              0.4444444444444444,
              "#bd3786"
             ],
             [
              0.5555555555555556,
              "#d8576b"
             ],
             [
              0.6666666666666666,
              "#ed7953"
             ],
             [
              0.7777777777777778,
              "#fb9f3a"
             ],
             [
              0.8888888888888888,
              "#fdca26"
             ],
             [
              1,
              "#f0f921"
             ]
            ],
            "type": "heatmap"
           }
          ],
          "heatmapgl": [
           {
            "colorbar": {
             "outlinewidth": 0,
             "ticks": ""
            },
            "colorscale": [
             [
              0,
              "#0d0887"
             ],
             [
              0.1111111111111111,
              "#46039f"
             ],
             [
              0.2222222222222222,
              "#7201a8"
             ],
             [
              0.3333333333333333,
              "#9c179e"
             ],
             [
              0.4444444444444444,
              "#bd3786"
             ],
             [
              0.5555555555555556,
              "#d8576b"
             ],
             [
              0.6666666666666666,
              "#ed7953"
             ],
             [
              0.7777777777777778,
              "#fb9f3a"
             ],
             [
              0.8888888888888888,
              "#fdca26"
             ],
             [
              1,
              "#f0f921"
             ]
            ],
            "type": "heatmapgl"
           }
          ],
          "histogram": [
           {
            "marker": {
             "pattern": {
              "fillmode": "overlay",
              "size": 10,
              "solidity": 0.2
             }
            },
            "type": "histogram"
           }
          ],
          "histogram2d": [
           {
            "colorbar": {
             "outlinewidth": 0,
             "ticks": ""
            },
            "colorscale": [
             [
              0,
              "#0d0887"
             ],
             [
              0.1111111111111111,
              "#46039f"
             ],
             [
              0.2222222222222222,
              "#7201a8"
             ],
             [
              0.3333333333333333,
              "#9c179e"
             ],
             [
              0.4444444444444444,
              "#bd3786"
             ],
             [
              0.5555555555555556,
              "#d8576b"
             ],
             [
              0.6666666666666666,
              "#ed7953"
             ],
             [
              0.7777777777777778,
              "#fb9f3a"
             ],
             [
              0.8888888888888888,
              "#fdca26"
             ],
             [
              1,
              "#f0f921"
             ]
            ],
            "type": "histogram2d"
           }
          ],
          "histogram2dcontour": [
           {
            "colorbar": {
             "outlinewidth": 0,
             "ticks": ""
            },
            "colorscale": [
             [
              0,
              "#0d0887"
             ],
             [
              0.1111111111111111,
              "#46039f"
             ],
             [
              0.2222222222222222,
              "#7201a8"
             ],
             [
              0.3333333333333333,
              "#9c179e"
             ],
             [
              0.4444444444444444,
              "#bd3786"
             ],
             [
              0.5555555555555556,
              "#d8576b"
             ],
             [
              0.6666666666666666,
              "#ed7953"
             ],
             [
              0.7777777777777778,
              "#fb9f3a"
             ],
             [
              0.8888888888888888,
              "#fdca26"
             ],
             [
              1,
              "#f0f921"
             ]
            ],
            "type": "histogram2dcontour"
           }
          ],
          "mesh3d": [
           {
            "colorbar": {
             "outlinewidth": 0,
             "ticks": ""
            },
            "type": "mesh3d"
           }
          ],
          "parcoords": [
           {
            "line": {
             "colorbar": {
              "outlinewidth": 0,
              "ticks": ""
             }
            },
            "type": "parcoords"
           }
          ],
          "pie": [
           {
            "automargin": true,
            "type": "pie"
           }
          ],
          "scatter": [
           {
            "marker": {
             "colorbar": {
              "outlinewidth": 0,
              "ticks": ""
             }
            },
            "type": "scatter"
           }
          ],
          "scatter3d": [
           {
            "line": {
             "colorbar": {
              "outlinewidth": 0,
              "ticks": ""
             }
            },
            "marker": {
             "colorbar": {
              "outlinewidth": 0,
              "ticks": ""
             }
            },
            "type": "scatter3d"
           }
          ],
          "scattercarpet": [
           {
            "marker": {
             "colorbar": {
              "outlinewidth": 0,
              "ticks": ""
             }
            },
            "type": "scattercarpet"
           }
          ],
          "scattergeo": [
           {
            "marker": {
             "colorbar": {
              "outlinewidth": 0,
              "ticks": ""
             }
            },
            "type": "scattergeo"
           }
          ],
          "scattergl": [
           {
            "marker": {
             "colorbar": {
              "outlinewidth": 0,
              "ticks": ""
             }
            },
            "type": "scattergl"
           }
          ],
          "scattermapbox": [
           {
            "marker": {
             "colorbar": {
              "outlinewidth": 0,
              "ticks": ""
             }
            },
            "type": "scattermapbox"
           }
          ],
          "scatterpolar": [
           {
            "marker": {
             "colorbar": {
              "outlinewidth": 0,
              "ticks": ""
             }
            },
            "type": "scatterpolar"
           }
          ],
          "scatterpolargl": [
           {
            "marker": {
             "colorbar": {
              "outlinewidth": 0,
              "ticks": ""
             }
            },
            "type": "scatterpolargl"
           }
          ],
          "scatterternary": [
           {
            "marker": {
             "colorbar": {
              "outlinewidth": 0,
              "ticks": ""
             }
            },
            "type": "scatterternary"
           }
          ],
          "surface": [
           {
            "colorbar": {
             "outlinewidth": 0,
             "ticks": ""
            },
            "colorscale": [
             [
              0,
              "#0d0887"
             ],
             [
              0.1111111111111111,
              "#46039f"
             ],
             [
              0.2222222222222222,
              "#7201a8"
             ],
             [
              0.3333333333333333,
              "#9c179e"
             ],
             [
              0.4444444444444444,
              "#bd3786"
             ],
             [
              0.5555555555555556,
              "#d8576b"
             ],
             [
              0.6666666666666666,
              "#ed7953"
             ],
             [
              0.7777777777777778,
              "#fb9f3a"
             ],
             [
              0.8888888888888888,
              "#fdca26"
             ],
             [
              1,
              "#f0f921"
             ]
            ],
            "type": "surface"
           }
          ],
          "table": [
           {
            "cells": {
             "fill": {
              "color": "#EBF0F8"
             },
             "line": {
              "color": "white"
             }
            },
            "header": {
             "fill": {
              "color": "#C8D4E3"
             },
             "line": {
              "color": "white"
             }
            },
            "type": "table"
           }
          ]
         },
         "layout": {
          "annotationdefaults": {
           "arrowcolor": "#2a3f5f",
           "arrowhead": 0,
           "arrowwidth": 1
          },
          "autotypenumbers": "strict",
          "coloraxis": {
           "colorbar": {
            "outlinewidth": 0,
            "ticks": ""
           }
          },
          "colorscale": {
           "diverging": [
            [
             0,
             "#8e0152"
            ],
            [
             0.1,
             "#c51b7d"
            ],
            [
             0.2,
             "#de77ae"
            ],
            [
             0.3,
             "#f1b6da"
            ],
            [
             0.4,
             "#fde0ef"
            ],
            [
             0.5,
             "#f7f7f7"
            ],
            [
             0.6,
             "#e6f5d0"
            ],
            [
             0.7,
             "#b8e186"
            ],
            [
             0.8,
             "#7fbc41"
            ],
            [
             0.9,
             "#4d9221"
            ],
            [
             1,
             "#276419"
            ]
           ],
           "sequential": [
            [
             0,
             "#0d0887"
            ],
            [
             0.1111111111111111,
             "#46039f"
            ],
            [
             0.2222222222222222,
             "#7201a8"
            ],
            [
             0.3333333333333333,
             "#9c179e"
            ],
            [
             0.4444444444444444,
             "#bd3786"
            ],
            [
             0.5555555555555556,
             "#d8576b"
            ],
            [
             0.6666666666666666,
             "#ed7953"
            ],
            [
             0.7777777777777778,
             "#fb9f3a"
            ],
            [
             0.8888888888888888,
             "#fdca26"
            ],
            [
             1,
             "#f0f921"
            ]
           ],
           "sequentialminus": [
            [
             0,
             "#0d0887"
            ],
            [
             0.1111111111111111,
             "#46039f"
            ],
            [
             0.2222222222222222,
             "#7201a8"
            ],
            [
             0.3333333333333333,
             "#9c179e"
            ],
            [
             0.4444444444444444,
             "#bd3786"
            ],
            [
             0.5555555555555556,
             "#d8576b"
            ],
            [
             0.6666666666666666,
             "#ed7953"
            ],
            [
             0.7777777777777778,
             "#fb9f3a"
            ],
            [
             0.8888888888888888,
             "#fdca26"
            ],
            [
             1,
             "#f0f921"
            ]
           ]
          },
          "colorway": [
           "#636efa",
           "#EF553B",
           "#00cc96",
           "#ab63fa",
           "#FFA15A",
           "#19d3f3",
           "#FF6692",
           "#B6E880",
           "#FF97FF",
           "#FECB52"
          ],
          "font": {
           "color": "#2a3f5f"
          },
          "geo": {
           "bgcolor": "white",
           "lakecolor": "white",
           "landcolor": "#E5ECF6",
           "showlakes": true,
           "showland": true,
           "subunitcolor": "white"
          },
          "hoverlabel": {
           "align": "left"
          },
          "hovermode": "closest",
          "mapbox": {
           "style": "light"
          },
          "paper_bgcolor": "white",
          "plot_bgcolor": "#E5ECF6",
          "polar": {
           "angularaxis": {
            "gridcolor": "white",
            "linecolor": "white",
            "ticks": ""
           },
           "bgcolor": "#E5ECF6",
           "radialaxis": {
            "gridcolor": "white",
            "linecolor": "white",
            "ticks": ""
           }
          },
          "scene": {
           "xaxis": {
            "backgroundcolor": "#E5ECF6",
            "gridcolor": "white",
            "gridwidth": 2,
            "linecolor": "white",
            "showbackground": true,
            "ticks": "",
            "zerolinecolor": "white"
           },
           "yaxis": {
            "backgroundcolor": "#E5ECF6",
            "gridcolor": "white",
            "gridwidth": 2,
            "linecolor": "white",
            "showbackground": true,
            "ticks": "",
            "zerolinecolor": "white"
           },
           "zaxis": {
            "backgroundcolor": "#E5ECF6",
            "gridcolor": "white",
            "gridwidth": 2,
            "linecolor": "white",
            "showbackground": true,
            "ticks": "",
            "zerolinecolor": "white"
           }
          },
          "shapedefaults": {
           "line": {
            "color": "#2a3f5f"
           }
          },
          "ternary": {
           "aaxis": {
            "gridcolor": "white",
            "linecolor": "white",
            "ticks": ""
           },
           "baxis": {
            "gridcolor": "white",
            "linecolor": "white",
            "ticks": ""
           },
           "bgcolor": "#E5ECF6",
           "caxis": {
            "gridcolor": "white",
            "linecolor": "white",
            "ticks": ""
           }
          },
          "title": {
           "x": 0.05
          },
          "xaxis": {
           "automargin": true,
           "gridcolor": "white",
           "linecolor": "white",
           "ticks": "",
           "title": {
            "standoff": 15
           },
           "zerolinecolor": "white",
           "zerolinewidth": 2
          },
          "yaxis": {
           "automargin": true,
           "gridcolor": "white",
           "linecolor": "white",
           "ticks": "",
           "title": {
            "standoff": 15
           },
           "zerolinecolor": "white",
           "zerolinewidth": 2
          }
         }
        },
        "title": {
         "text": "Quantity of Cacao Imported vs Trade (USD) by Continents in 1988 - 2019"
        },
        "updatemenus": [
         {
          "buttons": [
           {
            "args": [
             null,
             {
              "frame": {
               "duration": 500,
               "redraw": false
              },
              "fromcurrent": true,
              "mode": "immediate",
              "transition": {
               "duration": 3000,
               "easing": "linear"
              }
             }
            ],
            "label": "&#9654;",
            "method": "animate"
           },
           {
            "args": [
             [
              null
             ],
             {
              "frame": {
               "duration": 0,
               "redraw": false
              },
              "fromcurrent": true,
              "mode": "immediate",
              "transition": {
               "duration": 0,
               "easing": "linear"
              }
             }
            ],
            "label": "&#9724;",
            "method": "animate"
           }
          ],
          "direction": "left",
          "pad": {
           "r": 10,
           "t": 70
          },
          "showactive": false,
          "type": "buttons",
          "x": 0.1,
          "xanchor": "right",
          "y": 0,
          "yanchor": "top"
         }
        ],
        "xaxis": {
         "anchor": "y",
         "domain": [
          0,
          1
         ],
         "title": {
          "text": "Quantity Imported"
         }
        },
        "yaxis": {
         "anchor": "x",
         "domain": [
          0,
          1
         ],
         "title": {
          "text": "Import Trade (USD) of Cacao"
         }
        }
       }
      },
      "text/html": [
       "<div>                            <div id=\"958ac8e7-6a66-4d1c-9446-6a8c9b1edac8\" class=\"plotly-graph-div\" style=\"height:525px; width:100%;\"></div>            <script type=\"text/javascript\">                require([\"plotly\"], function(Plotly) {                    window.PLOTLYENV=window.PLOTLYENV || {};                                    if (document.getElementById(\"958ac8e7-6a66-4d1c-9446-6a8c9b1edac8\")) {                    Plotly.newPlot(                        \"958ac8e7-6a66-4d1c-9446-6a8c9b1edac8\",                        [{\"hovertemplate\":\"<b>%{hovertext}</b><br><br>Continent=Europe<br>Year=1991<br>Quantity=%{x}<br>Trade (USD)=%{y}<br>Nr of Countries=%{marker.size}<extra></extra>\",\"hovertext\":[\"Europe\"],\"ids\":[\"Europe\"],\"legendgroup\":\"Europe\",\"marker\":{\"color\":\"#636efa\",\"size\":[42],\"sizemode\":\"area\",\"sizeref\":0.1225,\"symbol\":\"circle\"},\"mode\":\"markers\",\"name\":\"Europe\",\"orientation\":\"v\",\"showlegend\":true,\"type\":\"scatter\",\"x\":[53826554.571428575],\"xaxis\":\"x\",\"y\":[72002798.57142857],\"yaxis\":\"y\"},{\"hovertemplate\":\"<b>%{hovertext}</b><br><br>Continent=Asia<br>Year=1991<br>Quantity=%{x}<br>Trade (USD)=%{y}<br>Nr of Countries=%{marker.size}<extra></extra>\",\"hovertext\":[\"Asia\"],\"ids\":[\"Asia\"],\"legendgroup\":\"Asia\",\"marker\":{\"color\":\"#EF553B\",\"size\":[44],\"sizemode\":\"area\",\"sizeref\":0.1225,\"symbol\":\"circle\"},\"mode\":\"markers\",\"name\":\"Asia\",\"orientation\":\"v\",\"showlegend\":true,\"type\":\"scatter\",\"x\":[13369282.272727273],\"xaxis\":\"x\",\"y\":[16734093.0],\"yaxis\":\"y\"},{\"hovertemplate\":\"<b>%{hovertext}</b><br><br>Continent=Oceania<br>Year=1991<br>Quantity=%{x}<br>Trade (USD)=%{y}<br>Nr of Countries=%{marker.size}<extra></extra>\",\"hovertext\":[\"Oceania\"],\"ids\":[\"Oceania\"],\"legendgroup\":\"Oceania\",\"marker\":{\"color\":\"#00cc96\",\"size\":[15],\"sizemode\":\"area\",\"sizeref\":0.1225,\"symbol\":\"circle\"},\"mode\":\"markers\",\"name\":\"Oceania\",\"orientation\":\"v\",\"showlegend\":true,\"type\":\"scatter\",\"x\":[67765.5],\"xaxis\":\"x\",\"y\":[118264.0],\"yaxis\":\"y\"},{\"hovertemplate\":\"<b>%{hovertext}</b><br><br>Continent=Americas<br>Year=1991<br>Quantity=%{x}<br>Trade (USD)=%{y}<br>Nr of Countries=%{marker.size}<extra></extra>\",\"hovertext\":[\"Americas\"],\"ids\":[\"Americas\"],\"legendgroup\":\"Americas\",\"marker\":{\"color\":\"#ab63fa\",\"size\":[43],\"sizemode\":\"area\",\"sizeref\":0.1225,\"symbol\":\"circle\"},\"mode\":\"markers\",\"name\":\"Americas\",\"orientation\":\"v\",\"showlegend\":true,\"type\":\"scatter\",\"x\":[84799181.8],\"xaxis\":\"x\",\"y\":[102223994.4],\"yaxis\":\"y\"},{\"hovertemplate\":\"<b>%{hovertext}</b><br><br>Continent=Africa<br>Year=1991<br>Quantity=%{x}<br>Trade (USD)=%{y}<br>Nr of Countries=%{marker.size}<extra></extra>\",\"hovertext\":[\"Africa\"],\"ids\":[\"Africa\"],\"legendgroup\":\"Africa\",\"marker\":{\"color\":\"#FFA15A\",\"size\":[49],\"sizemode\":\"area\",\"sizeref\":0.1225,\"symbol\":\"circle\"},\"mode\":\"markers\",\"name\":\"Africa\",\"orientation\":\"v\",\"showlegend\":true,\"type\":\"scatter\",\"x\":[177800.5],\"xaxis\":\"x\",\"y\":[286052.5],\"yaxis\":\"y\"}],                        {\"legend\":{\"itemsizing\":\"constant\",\"title\":{\"text\":\"Continent\"},\"tracegroupgap\":0},\"margin\":{\"t\":60},\"sliders\":[{\"active\":0,\"currentvalue\":{\"prefix\":\"Year=\"},\"len\":0.9,\"pad\":{\"b\":10,\"t\":60},\"steps\":[{\"args\":[[\"1991\"],{\"frame\":{\"duration\":0,\"redraw\":false},\"fromcurrent\":true,\"mode\":\"immediate\",\"transition\":{\"duration\":0,\"easing\":\"linear\"}}],\"label\":\"1991\",\"method\":\"animate\"},{\"args\":[[\"1992\"],{\"frame\":{\"duration\":0,\"redraw\":false},\"fromcurrent\":true,\"mode\":\"immediate\",\"transition\":{\"duration\":0,\"easing\":\"linear\"}}],\"label\":\"1992\",\"method\":\"animate\"},{\"args\":[[\"1993\"],{\"frame\":{\"duration\":0,\"redraw\":false},\"fromcurrent\":true,\"mode\":\"immediate\",\"transition\":{\"duration\":0,\"easing\":\"linear\"}}],\"label\":\"1993\",\"method\":\"animate\"},{\"args\":[[\"1994\"],{\"frame\":{\"duration\":0,\"redraw\":false},\"fromcurrent\":true,\"mode\":\"immediate\",\"transition\":{\"duration\":0,\"easing\":\"linear\"}}],\"label\":\"1994\",\"method\":\"animate\"},{\"args\":[[\"1995\"],{\"frame\":{\"duration\":0,\"redraw\":false},\"fromcurrent\":true,\"mode\":\"immediate\",\"transition\":{\"duration\":0,\"easing\":\"linear\"}}],\"label\":\"1995\",\"method\":\"animate\"},{\"args\":[[\"1996\"],{\"frame\":{\"duration\":0,\"redraw\":false},\"fromcurrent\":true,\"mode\":\"immediate\",\"transition\":{\"duration\":0,\"easing\":\"linear\"}}],\"label\":\"1996\",\"method\":\"animate\"},{\"args\":[[\"1997\"],{\"frame\":{\"duration\":0,\"redraw\":false},\"fromcurrent\":true,\"mode\":\"immediate\",\"transition\":{\"duration\":0,\"easing\":\"linear\"}}],\"label\":\"1997\",\"method\":\"animate\"},{\"args\":[[\"1998\"],{\"frame\":{\"duration\":0,\"redraw\":false},\"fromcurrent\":true,\"mode\":\"immediate\",\"transition\":{\"duration\":0,\"easing\":\"linear\"}}],\"label\":\"1998\",\"method\":\"animate\"},{\"args\":[[\"1999\"],{\"frame\":{\"duration\":0,\"redraw\":false},\"fromcurrent\":true,\"mode\":\"immediate\",\"transition\":{\"duration\":0,\"easing\":\"linear\"}}],\"label\":\"1999\",\"method\":\"animate\"},{\"args\":[[\"2000\"],{\"frame\":{\"duration\":0,\"redraw\":false},\"fromcurrent\":true,\"mode\":\"immediate\",\"transition\":{\"duration\":0,\"easing\":\"linear\"}}],\"label\":\"2000\",\"method\":\"animate\"},{\"args\":[[\"2001\"],{\"frame\":{\"duration\":0,\"redraw\":false},\"fromcurrent\":true,\"mode\":\"immediate\",\"transition\":{\"duration\":0,\"easing\":\"linear\"}}],\"label\":\"2001\",\"method\":\"animate\"},{\"args\":[[\"2002\"],{\"frame\":{\"duration\":0,\"redraw\":false},\"fromcurrent\":true,\"mode\":\"immediate\",\"transition\":{\"duration\":0,\"easing\":\"linear\"}}],\"label\":\"2002\",\"method\":\"animate\"},{\"args\":[[\"2003\"],{\"frame\":{\"duration\":0,\"redraw\":false},\"fromcurrent\":true,\"mode\":\"immediate\",\"transition\":{\"duration\":0,\"easing\":\"linear\"}}],\"label\":\"2003\",\"method\":\"animate\"},{\"args\":[[\"2004\"],{\"frame\":{\"duration\":0,\"redraw\":false},\"fromcurrent\":true,\"mode\":\"immediate\",\"transition\":{\"duration\":0,\"easing\":\"linear\"}}],\"label\":\"2004\",\"method\":\"animate\"},{\"args\":[[\"2005\"],{\"frame\":{\"duration\":0,\"redraw\":false},\"fromcurrent\":true,\"mode\":\"immediate\",\"transition\":{\"duration\":0,\"easing\":\"linear\"}}],\"label\":\"2005\",\"method\":\"animate\"},{\"args\":[[\"2006\"],{\"frame\":{\"duration\":0,\"redraw\":false},\"fromcurrent\":true,\"mode\":\"immediate\",\"transition\":{\"duration\":0,\"easing\":\"linear\"}}],\"label\":\"2006\",\"method\":\"animate\"},{\"args\":[[\"2007\"],{\"frame\":{\"duration\":0,\"redraw\":false},\"fromcurrent\":true,\"mode\":\"immediate\",\"transition\":{\"duration\":0,\"easing\":\"linear\"}}],\"label\":\"2007\",\"method\":\"animate\"},{\"args\":[[\"2008\"],{\"frame\":{\"duration\":0,\"redraw\":false},\"fromcurrent\":true,\"mode\":\"immediate\",\"transition\":{\"duration\":0,\"easing\":\"linear\"}}],\"label\":\"2008\",\"method\":\"animate\"},{\"args\":[[\"2009\"],{\"frame\":{\"duration\":0,\"redraw\":false},\"fromcurrent\":true,\"mode\":\"immediate\",\"transition\":{\"duration\":0,\"easing\":\"linear\"}}],\"label\":\"2009\",\"method\":\"animate\"},{\"args\":[[\"2010\"],{\"frame\":{\"duration\":0,\"redraw\":false},\"fromcurrent\":true,\"mode\":\"immediate\",\"transition\":{\"duration\":0,\"easing\":\"linear\"}}],\"label\":\"2010\",\"method\":\"animate\"},{\"args\":[[\"2011\"],{\"frame\":{\"duration\":0,\"redraw\":false},\"fromcurrent\":true,\"mode\":\"immediate\",\"transition\":{\"duration\":0,\"easing\":\"linear\"}}],\"label\":\"2011\",\"method\":\"animate\"},{\"args\":[[\"2012\"],{\"frame\":{\"duration\":0,\"redraw\":false},\"fromcurrent\":true,\"mode\":\"immediate\",\"transition\":{\"duration\":0,\"easing\":\"linear\"}}],\"label\":\"2012\",\"method\":\"animate\"},{\"args\":[[\"2013\"],{\"frame\":{\"duration\":0,\"redraw\":false},\"fromcurrent\":true,\"mode\":\"immediate\",\"transition\":{\"duration\":0,\"easing\":\"linear\"}}],\"label\":\"2013\",\"method\":\"animate\"},{\"args\":[[\"2014\"],{\"frame\":{\"duration\":0,\"redraw\":false},\"fromcurrent\":true,\"mode\":\"immediate\",\"transition\":{\"duration\":0,\"easing\":\"linear\"}}],\"label\":\"2014\",\"method\":\"animate\"},{\"args\":[[\"2015\"],{\"frame\":{\"duration\":0,\"redraw\":false},\"fromcurrent\":true,\"mode\":\"immediate\",\"transition\":{\"duration\":0,\"easing\":\"linear\"}}],\"label\":\"2015\",\"method\":\"animate\"},{\"args\":[[\"2016\"],{\"frame\":{\"duration\":0,\"redraw\":false},\"fromcurrent\":true,\"mode\":\"immediate\",\"transition\":{\"duration\":0,\"easing\":\"linear\"}}],\"label\":\"2016\",\"method\":\"animate\"},{\"args\":[[\"2017\"],{\"frame\":{\"duration\":0,\"redraw\":false},\"fromcurrent\":true,\"mode\":\"immediate\",\"transition\":{\"duration\":0,\"easing\":\"linear\"}}],\"label\":\"2017\",\"method\":\"animate\"},{\"args\":[[\"2018\"],{\"frame\":{\"duration\":0,\"redraw\":false},\"fromcurrent\":true,\"mode\":\"immediate\",\"transition\":{\"duration\":0,\"easing\":\"linear\"}}],\"label\":\"2018\",\"method\":\"animate\"},{\"args\":[[\"2019\"],{\"frame\":{\"duration\":0,\"redraw\":false},\"fromcurrent\":true,\"mode\":\"immediate\",\"transition\":{\"duration\":0,\"easing\":\"linear\"}}],\"label\":\"2019\",\"method\":\"animate\"}],\"x\":0.1,\"xanchor\":\"left\",\"y\":0,\"yanchor\":\"top\"}],\"template\":{\"data\":{\"bar\":[{\"error_x\":{\"color\":\"#2a3f5f\"},\"error_y\":{\"color\":\"#2a3f5f\"},\"marker\":{\"line\":{\"color\":\"#E5ECF6\",\"width\":0.5},\"pattern\":{\"fillmode\":\"overlay\",\"size\":10,\"solidity\":0.2}},\"type\":\"bar\"}],\"barpolar\":[{\"marker\":{\"line\":{\"color\":\"#E5ECF6\",\"width\":0.5},\"pattern\":{\"fillmode\":\"overlay\",\"size\":10,\"solidity\":0.2}},\"type\":\"barpolar\"}],\"carpet\":[{\"aaxis\":{\"endlinecolor\":\"#2a3f5f\",\"gridcolor\":\"white\",\"linecolor\":\"white\",\"minorgridcolor\":\"white\",\"startlinecolor\":\"#2a3f5f\"},\"baxis\":{\"endlinecolor\":\"#2a3f5f\",\"gridcolor\":\"white\",\"linecolor\":\"white\",\"minorgridcolor\":\"white\",\"startlinecolor\":\"#2a3f5f\"},\"type\":\"carpet\"}],\"choropleth\":[{\"colorbar\":{\"outlinewidth\":0,\"ticks\":\"\"},\"type\":\"choropleth\"}],\"contour\":[{\"colorbar\":{\"outlinewidth\":0,\"ticks\":\"\"},\"colorscale\":[[0.0,\"#0d0887\"],[0.1111111111111111,\"#46039f\"],[0.2222222222222222,\"#7201a8\"],[0.3333333333333333,\"#9c179e\"],[0.4444444444444444,\"#bd3786\"],[0.5555555555555556,\"#d8576b\"],[0.6666666666666666,\"#ed7953\"],[0.7777777777777778,\"#fb9f3a\"],[0.8888888888888888,\"#fdca26\"],[1.0,\"#f0f921\"]],\"type\":\"contour\"}],\"contourcarpet\":[{\"colorbar\":{\"outlinewidth\":0,\"ticks\":\"\"},\"type\":\"contourcarpet\"}],\"heatmap\":[{\"colorbar\":{\"outlinewidth\":0,\"ticks\":\"\"},\"colorscale\":[[0.0,\"#0d0887\"],[0.1111111111111111,\"#46039f\"],[0.2222222222222222,\"#7201a8\"],[0.3333333333333333,\"#9c179e\"],[0.4444444444444444,\"#bd3786\"],[0.5555555555555556,\"#d8576b\"],[0.6666666666666666,\"#ed7953\"],[0.7777777777777778,\"#fb9f3a\"],[0.8888888888888888,\"#fdca26\"],[1.0,\"#f0f921\"]],\"type\":\"heatmap\"}],\"heatmapgl\":[{\"colorbar\":{\"outlinewidth\":0,\"ticks\":\"\"},\"colorscale\":[[0.0,\"#0d0887\"],[0.1111111111111111,\"#46039f\"],[0.2222222222222222,\"#7201a8\"],[0.3333333333333333,\"#9c179e\"],[0.4444444444444444,\"#bd3786\"],[0.5555555555555556,\"#d8576b\"],[0.6666666666666666,\"#ed7953\"],[0.7777777777777778,\"#fb9f3a\"],[0.8888888888888888,\"#fdca26\"],[1.0,\"#f0f921\"]],\"type\":\"heatmapgl\"}],\"histogram\":[{\"marker\":{\"pattern\":{\"fillmode\":\"overlay\",\"size\":10,\"solidity\":0.2}},\"type\":\"histogram\"}],\"histogram2d\":[{\"colorbar\":{\"outlinewidth\":0,\"ticks\":\"\"},\"colorscale\":[[0.0,\"#0d0887\"],[0.1111111111111111,\"#46039f\"],[0.2222222222222222,\"#7201a8\"],[0.3333333333333333,\"#9c179e\"],[0.4444444444444444,\"#bd3786\"],[0.5555555555555556,\"#d8576b\"],[0.6666666666666666,\"#ed7953\"],[0.7777777777777778,\"#fb9f3a\"],[0.8888888888888888,\"#fdca26\"],[1.0,\"#f0f921\"]],\"type\":\"histogram2d\"}],\"histogram2dcontour\":[{\"colorbar\":{\"outlinewidth\":0,\"ticks\":\"\"},\"colorscale\":[[0.0,\"#0d0887\"],[0.1111111111111111,\"#46039f\"],[0.2222222222222222,\"#7201a8\"],[0.3333333333333333,\"#9c179e\"],[0.4444444444444444,\"#bd3786\"],[0.5555555555555556,\"#d8576b\"],[0.6666666666666666,\"#ed7953\"],[0.7777777777777778,\"#fb9f3a\"],[0.8888888888888888,\"#fdca26\"],[1.0,\"#f0f921\"]],\"type\":\"histogram2dcontour\"}],\"mesh3d\":[{\"colorbar\":{\"outlinewidth\":0,\"ticks\":\"\"},\"type\":\"mesh3d\"}],\"parcoords\":[{\"line\":{\"colorbar\":{\"outlinewidth\":0,\"ticks\":\"\"}},\"type\":\"parcoords\"}],\"pie\":[{\"automargin\":true,\"type\":\"pie\"}],\"scatter\":[{\"marker\":{\"colorbar\":{\"outlinewidth\":0,\"ticks\":\"\"}},\"type\":\"scatter\"}],\"scatter3d\":[{\"line\":{\"colorbar\":{\"outlinewidth\":0,\"ticks\":\"\"}},\"marker\":{\"colorbar\":{\"outlinewidth\":0,\"ticks\":\"\"}},\"type\":\"scatter3d\"}],\"scattercarpet\":[{\"marker\":{\"colorbar\":{\"outlinewidth\":0,\"ticks\":\"\"}},\"type\":\"scattercarpet\"}],\"scattergeo\":[{\"marker\":{\"colorbar\":{\"outlinewidth\":0,\"ticks\":\"\"}},\"type\":\"scattergeo\"}],\"scattergl\":[{\"marker\":{\"colorbar\":{\"outlinewidth\":0,\"ticks\":\"\"}},\"type\":\"scattergl\"}],\"scattermapbox\":[{\"marker\":{\"colorbar\":{\"outlinewidth\":0,\"ticks\":\"\"}},\"type\":\"scattermapbox\"}],\"scatterpolar\":[{\"marker\":{\"colorbar\":{\"outlinewidth\":0,\"ticks\":\"\"}},\"type\":\"scatterpolar\"}],\"scatterpolargl\":[{\"marker\":{\"colorbar\":{\"outlinewidth\":0,\"ticks\":\"\"}},\"type\":\"scatterpolargl\"}],\"scatterternary\":[{\"marker\":{\"colorbar\":{\"outlinewidth\":0,\"ticks\":\"\"}},\"type\":\"scatterternary\"}],\"surface\":[{\"colorbar\":{\"outlinewidth\":0,\"ticks\":\"\"},\"colorscale\":[[0.0,\"#0d0887\"],[0.1111111111111111,\"#46039f\"],[0.2222222222222222,\"#7201a8\"],[0.3333333333333333,\"#9c179e\"],[0.4444444444444444,\"#bd3786\"],[0.5555555555555556,\"#d8576b\"],[0.6666666666666666,\"#ed7953\"],[0.7777777777777778,\"#fb9f3a\"],[0.8888888888888888,\"#fdca26\"],[1.0,\"#f0f921\"]],\"type\":\"surface\"}],\"table\":[{\"cells\":{\"fill\":{\"color\":\"#EBF0F8\"},\"line\":{\"color\":\"white\"}},\"header\":{\"fill\":{\"color\":\"#C8D4E3\"},\"line\":{\"color\":\"white\"}},\"type\":\"table\"}]},\"layout\":{\"annotationdefaults\":{\"arrowcolor\":\"#2a3f5f\",\"arrowhead\":0,\"arrowwidth\":1},\"autotypenumbers\":\"strict\",\"coloraxis\":{\"colorbar\":{\"outlinewidth\":0,\"ticks\":\"\"}},\"colorscale\":{\"diverging\":[[0,\"#8e0152\"],[0.1,\"#c51b7d\"],[0.2,\"#de77ae\"],[0.3,\"#f1b6da\"],[0.4,\"#fde0ef\"],[0.5,\"#f7f7f7\"],[0.6,\"#e6f5d0\"],[0.7,\"#b8e186\"],[0.8,\"#7fbc41\"],[0.9,\"#4d9221\"],[1,\"#276419\"]],\"sequential\":[[0.0,\"#0d0887\"],[0.1111111111111111,\"#46039f\"],[0.2222222222222222,\"#7201a8\"],[0.3333333333333333,\"#9c179e\"],[0.4444444444444444,\"#bd3786\"],[0.5555555555555556,\"#d8576b\"],[0.6666666666666666,\"#ed7953\"],[0.7777777777777778,\"#fb9f3a\"],[0.8888888888888888,\"#fdca26\"],[1.0,\"#f0f921\"]],\"sequentialminus\":[[0.0,\"#0d0887\"],[0.1111111111111111,\"#46039f\"],[0.2222222222222222,\"#7201a8\"],[0.3333333333333333,\"#9c179e\"],[0.4444444444444444,\"#bd3786\"],[0.5555555555555556,\"#d8576b\"],[0.6666666666666666,\"#ed7953\"],[0.7777777777777778,\"#fb9f3a\"],[0.8888888888888888,\"#fdca26\"],[1.0,\"#f0f921\"]]},\"colorway\":[\"#636efa\",\"#EF553B\",\"#00cc96\",\"#ab63fa\",\"#FFA15A\",\"#19d3f3\",\"#FF6692\",\"#B6E880\",\"#FF97FF\",\"#FECB52\"],\"font\":{\"color\":\"#2a3f5f\"},\"geo\":{\"bgcolor\":\"white\",\"lakecolor\":\"white\",\"landcolor\":\"#E5ECF6\",\"showlakes\":true,\"showland\":true,\"subunitcolor\":\"white\"},\"hoverlabel\":{\"align\":\"left\"},\"hovermode\":\"closest\",\"mapbox\":{\"style\":\"light\"},\"paper_bgcolor\":\"white\",\"plot_bgcolor\":\"#E5ECF6\",\"polar\":{\"angularaxis\":{\"gridcolor\":\"white\",\"linecolor\":\"white\",\"ticks\":\"\"},\"bgcolor\":\"#E5ECF6\",\"radialaxis\":{\"gridcolor\":\"white\",\"linecolor\":\"white\",\"ticks\":\"\"}},\"scene\":{\"xaxis\":{\"backgroundcolor\":\"#E5ECF6\",\"gridcolor\":\"white\",\"gridwidth\":2,\"linecolor\":\"white\",\"showbackground\":true,\"ticks\":\"\",\"zerolinecolor\":\"white\"},\"yaxis\":{\"backgroundcolor\":\"#E5ECF6\",\"gridcolor\":\"white\",\"gridwidth\":2,\"linecolor\":\"white\",\"showbackground\":true,\"ticks\":\"\",\"zerolinecolor\":\"white\"},\"zaxis\":{\"backgroundcolor\":\"#E5ECF6\",\"gridcolor\":\"white\",\"gridwidth\":2,\"linecolor\":\"white\",\"showbackground\":true,\"ticks\":\"\",\"zerolinecolor\":\"white\"}},\"shapedefaults\":{\"line\":{\"color\":\"#2a3f5f\"}},\"ternary\":{\"aaxis\":{\"gridcolor\":\"white\",\"linecolor\":\"white\",\"ticks\":\"\"},\"baxis\":{\"gridcolor\":\"white\",\"linecolor\":\"white\",\"ticks\":\"\"},\"bgcolor\":\"#E5ECF6\",\"caxis\":{\"gridcolor\":\"white\",\"linecolor\":\"white\",\"ticks\":\"\"}},\"title\":{\"x\":0.05},\"xaxis\":{\"automargin\":true,\"gridcolor\":\"white\",\"linecolor\":\"white\",\"ticks\":\"\",\"title\":{\"standoff\":15},\"zerolinecolor\":\"white\",\"zerolinewidth\":2},\"yaxis\":{\"automargin\":true,\"gridcolor\":\"white\",\"linecolor\":\"white\",\"ticks\":\"\",\"title\":{\"standoff\":15},\"zerolinecolor\":\"white\",\"zerolinewidth\":2}}},\"title\":{\"text\":\"Quantity of Cacao Imported vs Trade (USD) by Continents in 1988 - 2019\"},\"updatemenus\":[{\"buttons\":[{\"args\":[null,{\"frame\":{\"duration\":500,\"redraw\":false},\"fromcurrent\":true,\"mode\":\"immediate\",\"transition\":{\"duration\":3000,\"easing\":\"linear\"}}],\"label\":\"&#9654;\",\"method\":\"animate\"},{\"args\":[[null],{\"frame\":{\"duration\":0,\"redraw\":false},\"fromcurrent\":true,\"mode\":\"immediate\",\"transition\":{\"duration\":0,\"easing\":\"linear\"}}],\"label\":\"&#9724;\",\"method\":\"animate\"}],\"direction\":\"left\",\"pad\":{\"r\":10,\"t\":70},\"showactive\":false,\"type\":\"buttons\",\"x\":0.1,\"xanchor\":\"right\",\"y\":0,\"yanchor\":\"top\"}],\"xaxis\":{\"anchor\":\"y\",\"domain\":[0.0,1.0],\"title\":{\"text\":\"Quantity Imported\"}},\"yaxis\":{\"anchor\":\"x\",\"domain\":[0.0,1.0],\"title\":{\"text\":\"Import Trade (USD) of Cacao\"}}},                        {\"responsive\": true}                    ).then(function(){\n",
       "                            Plotly.addFrames('958ac8e7-6a66-4d1c-9446-6a8c9b1edac8', [{\"data\":[{\"hovertemplate\":\"<b>%{hovertext}</b><br><br>Continent=Europe<br>Year=1991<br>Quantity=%{x}<br>Trade (USD)=%{y}<br>Nr of Countries=%{marker.size}<extra></extra>\",\"hovertext\":[\"Europe\"],\"ids\":[\"Europe\"],\"legendgroup\":\"Europe\",\"marker\":{\"color\":\"#636efa\",\"size\":[42],\"sizemode\":\"area\",\"sizeref\":0.1225,\"symbol\":\"circle\"},\"mode\":\"markers\",\"name\":\"Europe\",\"orientation\":\"v\",\"showlegend\":true,\"type\":\"scatter\",\"x\":[53826554.571428575],\"xaxis\":\"x\",\"y\":[72002798.57142857],\"yaxis\":\"y\"},{\"hovertemplate\":\"<b>%{hovertext}</b><br><br>Continent=Asia<br>Year=1991<br>Quantity=%{x}<br>Trade (USD)=%{y}<br>Nr of Countries=%{marker.size}<extra></extra>\",\"hovertext\":[\"Asia\"],\"ids\":[\"Asia\"],\"legendgroup\":\"Asia\",\"marker\":{\"color\":\"#EF553B\",\"size\":[44],\"sizemode\":\"area\",\"sizeref\":0.1225,\"symbol\":\"circle\"},\"mode\":\"markers\",\"name\":\"Asia\",\"orientation\":\"v\",\"showlegend\":true,\"type\":\"scatter\",\"x\":[13369282.272727273],\"xaxis\":\"x\",\"y\":[16734093.0],\"yaxis\":\"y\"},{\"hovertemplate\":\"<b>%{hovertext}</b><br><br>Continent=Oceania<br>Year=1991<br>Quantity=%{x}<br>Trade (USD)=%{y}<br>Nr of Countries=%{marker.size}<extra></extra>\",\"hovertext\":[\"Oceania\"],\"ids\":[\"Oceania\"],\"legendgroup\":\"Oceania\",\"marker\":{\"color\":\"#00cc96\",\"size\":[15],\"sizemode\":\"area\",\"sizeref\":0.1225,\"symbol\":\"circle\"},\"mode\":\"markers\",\"name\":\"Oceania\",\"orientation\":\"v\",\"showlegend\":true,\"type\":\"scatter\",\"x\":[67765.5],\"xaxis\":\"x\",\"y\":[118264.0],\"yaxis\":\"y\"},{\"hovertemplate\":\"<b>%{hovertext}</b><br><br>Continent=Americas<br>Year=1991<br>Quantity=%{x}<br>Trade (USD)=%{y}<br>Nr of Countries=%{marker.size}<extra></extra>\",\"hovertext\":[\"Americas\"],\"ids\":[\"Americas\"],\"legendgroup\":\"Americas\",\"marker\":{\"color\":\"#ab63fa\",\"size\":[43],\"sizemode\":\"area\",\"sizeref\":0.1225,\"symbol\":\"circle\"},\"mode\":\"markers\",\"name\":\"Americas\",\"orientation\":\"v\",\"showlegend\":true,\"type\":\"scatter\",\"x\":[84799181.8],\"xaxis\":\"x\",\"y\":[102223994.4],\"yaxis\":\"y\"},{\"hovertemplate\":\"<b>%{hovertext}</b><br><br>Continent=Africa<br>Year=1991<br>Quantity=%{x}<br>Trade (USD)=%{y}<br>Nr of Countries=%{marker.size}<extra></extra>\",\"hovertext\":[\"Africa\"],\"ids\":[\"Africa\"],\"legendgroup\":\"Africa\",\"marker\":{\"color\":\"#FFA15A\",\"size\":[49],\"sizemode\":\"area\",\"sizeref\":0.1225,\"symbol\":\"circle\"},\"mode\":\"markers\",\"name\":\"Africa\",\"orientation\":\"v\",\"showlegend\":true,\"type\":\"scatter\",\"x\":[177800.5],\"xaxis\":\"x\",\"y\":[286052.5],\"yaxis\":\"y\"}],\"name\":\"1991\"},{\"data\":[{\"hovertemplate\":\"<b>%{hovertext}</b><br><br>Continent=Europe<br>Year=1992<br>Quantity=%{x}<br>Trade (USD)=%{y}<br>Nr of Countries=%{marker.size}<extra></extra>\",\"hovertext\":[\"Europe\"],\"ids\":[\"Europe\"],\"legendgroup\":\"Europe\",\"marker\":{\"color\":\"#636efa\",\"size\":[42],\"sizemode\":\"area\",\"sizeref\":0.1225,\"symbol\":\"circle\"},\"mode\":\"markers\",\"name\":\"Europe\",\"orientation\":\"v\",\"showlegend\":true,\"type\":\"scatter\",\"x\":[50476207.428571425],\"xaxis\":\"x\",\"y\":[66489172.71428572],\"yaxis\":\"y\"},{\"hovertemplate\":\"<b>%{hovertext}</b><br><br>Continent=Asia<br>Year=1992<br>Quantity=%{x}<br>Trade (USD)=%{y}<br>Nr of Countries=%{marker.size}<extra></extra>\",\"hovertext\":[\"Asia\"],\"ids\":[\"Asia\"],\"legendgroup\":\"Asia\",\"marker\":{\"color\":\"#EF553B\",\"size\":[44],\"sizemode\":\"area\",\"sizeref\":0.1225,\"symbol\":\"circle\"},\"mode\":\"markers\",\"name\":\"Asia\",\"orientation\":\"v\",\"showlegend\":true,\"type\":\"scatter\",\"x\":[15795932.916666666],\"xaxis\":\"x\",\"y\":[18748225.916666668],\"yaxis\":\"y\"},{\"hovertemplate\":\"<b>%{hovertext}</b><br><br>Continent=Oceania<br>Year=1992<br>Quantity=%{x}<br>Trade (USD)=%{y}<br>Nr of Countries=%{marker.size}<extra></extra>\",\"hovertext\":[\"Oceania\"],\"ids\":[\"Oceania\"],\"legendgroup\":\"Oceania\",\"marker\":{\"color\":\"#00cc96\",\"size\":[15],\"sizemode\":\"area\",\"sizeref\":0.1225,\"symbol\":\"circle\"},\"mode\":\"markers\",\"name\":\"Oceania\",\"orientation\":\"v\",\"showlegend\":true,\"type\":\"scatter\",\"x\":[105361.5],\"xaxis\":\"x\",\"y\":[173461.0],\"yaxis\":\"y\"},{\"hovertemplate\":\"<b>%{hovertext}</b><br><br>Continent=Americas<br>Year=1992<br>Quantity=%{x}<br>Trade (USD)=%{y}<br>Nr of Countries=%{marker.size}<extra></extra>\",\"hovertext\":[\"Americas\"],\"ids\":[\"Americas\"],\"legendgroup\":\"Americas\",\"marker\":{\"color\":\"#ab63fa\",\"size\":[43],\"sizemode\":\"area\",\"sizeref\":0.1225,\"symbol\":\"circle\"},\"mode\":\"markers\",\"name\":\"Americas\",\"orientation\":\"v\",\"showlegend\":true,\"type\":\"scatter\",\"x\":[61426246.28571428],\"xaxis\":\"x\",\"y\":[67507501.14285715],\"yaxis\":\"y\"},{\"hovertemplate\":\"<b>%{hovertext}</b><br><br>Continent=Africa<br>Year=1992<br>Quantity=%{x}<br>Trade (USD)=%{y}<br>Nr of Countries=%{marker.size}<extra></extra>\",\"hovertext\":[\"Africa\"],\"ids\":[\"Africa\"],\"legendgroup\":\"Africa\",\"marker\":{\"color\":\"#FFA15A\",\"size\":[49],\"sizemode\":\"area\",\"sizeref\":0.1225,\"symbol\":\"circle\"},\"mode\":\"markers\",\"name\":\"Africa\",\"orientation\":\"v\",\"showlegend\":true,\"type\":\"scatter\",\"x\":[660812.5],\"xaxis\":\"x\",\"y\":[972408.5],\"yaxis\":\"y\"}],\"name\":\"1992\"},{\"data\":[{\"hovertemplate\":\"<b>%{hovertext}</b><br><br>Continent=Europe<br>Year=1993<br>Quantity=%{x}<br>Trade (USD)=%{y}<br>Nr of Countries=%{marker.size}<extra></extra>\",\"hovertext\":[\"Europe\"],\"ids\":[\"Europe\"],\"legendgroup\":\"Europe\",\"marker\":{\"color\":\"#636efa\",\"size\":[42],\"sizemode\":\"area\",\"sizeref\":0.1225,\"symbol\":\"circle\"},\"mode\":\"markers\",\"name\":\"Europe\",\"orientation\":\"v\",\"showlegend\":true,\"type\":\"scatter\",\"x\":[57253687.3125],\"xaxis\":\"x\",\"y\":[65080269.375],\"yaxis\":\"y\"},{\"hovertemplate\":\"<b>%{hovertext}</b><br><br>Continent=Asia<br>Year=1993<br>Quantity=%{x}<br>Trade (USD)=%{y}<br>Nr of Countries=%{marker.size}<extra></extra>\",\"hovertext\":[\"Asia\"],\"ids\":[\"Asia\"],\"legendgroup\":\"Asia\",\"marker\":{\"color\":\"#EF553B\",\"size\":[44],\"sizemode\":\"area\",\"sizeref\":0.1225,\"symbol\":\"circle\"},\"mode\":\"markers\",\"name\":\"Asia\",\"orientation\":\"v\",\"showlegend\":true,\"type\":\"scatter\",\"x\":[11712308.076923076],\"xaxis\":\"x\",\"y\":[12675003.153846154],\"yaxis\":\"y\"},{\"hovertemplate\":\"<b>%{hovertext}</b><br><br>Continent=Oceania<br>Year=1993<br>Quantity=%{x}<br>Trade (USD)=%{y}<br>Nr of Countries=%{marker.size}<extra></extra>\",\"hovertext\":[\"Oceania\"],\"ids\":[\"Oceania\"],\"legendgroup\":\"Oceania\",\"marker\":{\"color\":\"#00cc96\",\"size\":[15],\"sizemode\":\"area\",\"sizeref\":0.1225,\"symbol\":\"circle\"},\"mode\":\"markers\",\"name\":\"Oceania\",\"orientation\":\"v\",\"showlegend\":true,\"type\":\"scatter\",\"x\":[110561.5],\"xaxis\":\"x\",\"y\":[164631.5],\"yaxis\":\"y\"},{\"hovertemplate\":\"<b>%{hovertext}</b><br><br>Continent=Americas<br>Year=1993<br>Quantity=%{x}<br>Trade (USD)=%{y}<br>Nr of Countries=%{marker.size}<extra></extra>\",\"hovertext\":[\"Americas\"],\"ids\":[\"Americas\"],\"legendgroup\":\"Americas\",\"marker\":{\"color\":\"#ab63fa\",\"size\":[43],\"sizemode\":\"area\",\"sizeref\":0.1225,\"symbol\":\"circle\"},\"mode\":\"markers\",\"name\":\"Americas\",\"orientation\":\"v\",\"showlegend\":true,\"type\":\"scatter\",\"x\":[65008706.14285714],\"xaxis\":\"x\",\"y\":[68527427.0],\"yaxis\":\"y\"},{\"hovertemplate\":\"<b>%{hovertext}</b><br><br>Continent=Africa<br>Year=1993<br>Quantity=%{x}<br>Trade (USD)=%{y}<br>Nr of Countries=%{marker.size}<extra></extra>\",\"hovertext\":[\"Africa\"],\"ids\":[\"Africa\"],\"legendgroup\":\"Africa\",\"marker\":{\"color\":\"#FFA15A\",\"size\":[49],\"sizemode\":\"area\",\"sizeref\":0.1225,\"symbol\":\"circle\"},\"mode\":\"markers\",\"name\":\"Africa\",\"orientation\":\"v\",\"showlegend\":true,\"type\":\"scatter\",\"x\":[252112.66666666666],\"xaxis\":\"x\",\"y\":[419734.3333333333],\"yaxis\":\"y\"}],\"name\":\"1993\"},{\"data\":[{\"hovertemplate\":\"<b>%{hovertext}</b><br><br>Continent=Europe<br>Year=1994<br>Quantity=%{x}<br>Trade (USD)=%{y}<br>Nr of Countries=%{marker.size}<extra></extra>\",\"hovertext\":[\"Europe\"],\"ids\":[\"Europe\"],\"legendgroup\":\"Europe\",\"marker\":{\"color\":\"#636efa\",\"size\":[42],\"sizemode\":\"area\",\"sizeref\":0.1225,\"symbol\":\"circle\"},\"mode\":\"markers\",\"name\":\"Europe\",\"orientation\":\"v\",\"showlegend\":true,\"type\":\"scatter\",\"x\":[43935986.777777776],\"xaxis\":\"x\",\"y\":[60871302.777777776],\"yaxis\":\"y\"},{\"hovertemplate\":\"<b>%{hovertext}</b><br><br>Continent=Asia<br>Year=1994<br>Quantity=%{x}<br>Trade (USD)=%{y}<br>Nr of Countries=%{marker.size}<extra></extra>\",\"hovertext\":[\"Asia\"],\"ids\":[\"Asia\"],\"legendgroup\":\"Asia\",\"marker\":{\"color\":\"#EF553B\",\"size\":[44],\"sizemode\":\"area\",\"sizeref\":0.1225,\"symbol\":\"circle\"},\"mode\":\"markers\",\"name\":\"Asia\",\"orientation\":\"v\",\"showlegend\":true,\"type\":\"scatter\",\"x\":[11146881.923076924],\"xaxis\":\"x\",\"y\":[14941573.0],\"yaxis\":\"y\"},{\"hovertemplate\":\"<b>%{hovertext}</b><br><br>Continent=Oceania<br>Year=1994<br>Quantity=%{x}<br>Trade (USD)=%{y}<br>Nr of Countries=%{marker.size}<extra></extra>\",\"hovertext\":[\"Oceania\"],\"ids\":[\"Oceania\"],\"legendgroup\":\"Oceania\",\"marker\":{\"color\":\"#00cc96\",\"size\":[15],\"sizemode\":\"area\",\"sizeref\":0.1225,\"symbol\":\"circle\"},\"mode\":\"markers\",\"name\":\"Oceania\",\"orientation\":\"v\",\"showlegend\":true,\"type\":\"scatter\",\"x\":[96397.0],\"xaxis\":\"x\",\"y\":[171774.5],\"yaxis\":\"y\"},{\"hovertemplate\":\"<b>%{hovertext}</b><br><br>Continent=Americas<br>Year=1994<br>Quantity=%{x}<br>Trade (USD)=%{y}<br>Nr of Countries=%{marker.size}<extra></extra>\",\"hovertext\":[\"Americas\"],\"ids\":[\"Americas\"],\"legendgroup\":\"Americas\",\"marker\":{\"color\":\"#ab63fa\",\"size\":[43],\"sizemode\":\"area\",\"sizeref\":0.1225,\"symbol\":\"circle\"},\"mode\":\"markers\",\"name\":\"Americas\",\"orientation\":\"v\",\"showlegend\":true,\"type\":\"scatter\",\"x\":[20902994.29411765],\"xaxis\":\"x\",\"y\":[26855072.88235294],\"yaxis\":\"y\"},{\"hovertemplate\":\"<b>%{hovertext}</b><br><br>Continent=Africa<br>Year=1994<br>Quantity=%{x}<br>Trade (USD)=%{y}<br>Nr of Countries=%{marker.size}<extra></extra>\",\"hovertext\":[\"Africa\"],\"ids\":[\"Africa\"],\"legendgroup\":\"Africa\",\"marker\":{\"color\":\"#FFA15A\",\"size\":[49],\"sizemode\":\"area\",\"sizeref\":0.1225,\"symbol\":\"circle\"},\"mode\":\"markers\",\"name\":\"Africa\",\"orientation\":\"v\",\"showlegend\":true,\"type\":\"scatter\",\"x\":[433916.2],\"xaxis\":\"x\",\"y\":[736160.8],\"yaxis\":\"y\"}],\"name\":\"1994\"},{\"data\":[{\"hovertemplate\":\"<b>%{hovertext}</b><br><br>Continent=Europe<br>Year=1995<br>Quantity=%{x}<br>Trade (USD)=%{y}<br>Nr of Countries=%{marker.size}<extra></extra>\",\"hovertext\":[\"Europe\"],\"ids\":[\"Europe\"],\"legendgroup\":\"Europe\",\"marker\":{\"color\":\"#636efa\",\"size\":[42],\"sizemode\":\"area\",\"sizeref\":0.1225,\"symbol\":\"circle\"},\"mode\":\"markers\",\"name\":\"Europe\",\"orientation\":\"v\",\"showlegend\":true,\"type\":\"scatter\",\"x\":[42124030.06896552],\"xaxis\":\"x\",\"y\":[65777268.655172415],\"yaxis\":\"y\"},{\"hovertemplate\":\"<b>%{hovertext}</b><br><br>Continent=Asia<br>Year=1995<br>Quantity=%{x}<br>Trade (USD)=%{y}<br>Nr of Countries=%{marker.size}<extra></extra>\",\"hovertext\":[\"Asia\"],\"ids\":[\"Asia\"],\"legendgroup\":\"Asia\",\"marker\":{\"color\":\"#EF553B\",\"size\":[44],\"sizemode\":\"area\",\"sizeref\":0.1225,\"symbol\":\"circle\"},\"mode\":\"markers\",\"name\":\"Asia\",\"orientation\":\"v\",\"showlegend\":true,\"type\":\"scatter\",\"x\":[16176614.0],\"xaxis\":\"x\",\"y\":[23173577.5],\"yaxis\":\"y\"},{\"hovertemplate\":\"<b>%{hovertext}</b><br><br>Continent=Oceania<br>Year=1995<br>Quantity=%{x}<br>Trade (USD)=%{y}<br>Nr of Countries=%{marker.size}<extra></extra>\",\"hovertext\":[\"Oceania\"],\"ids\":[\"Oceania\"],\"legendgroup\":\"Oceania\",\"marker\":{\"color\":\"#00cc96\",\"size\":[15],\"sizemode\":\"area\",\"sizeref\":0.1225,\"symbol\":\"circle\"},\"mode\":\"markers\",\"name\":\"Oceania\",\"orientation\":\"v\",\"showlegend\":true,\"type\":\"scatter\",\"x\":[108992.5],\"xaxis\":\"x\",\"y\":[212211.5],\"yaxis\":\"y\"},{\"hovertemplate\":\"<b>%{hovertext}</b><br><br>Continent=Americas<br>Year=1995<br>Quantity=%{x}<br>Trade (USD)=%{y}<br>Nr of Countries=%{marker.size}<extra></extra>\",\"hovertext\":[\"Americas\"],\"ids\":[\"Americas\"],\"legendgroup\":\"Americas\",\"marker\":{\"color\":\"#ab63fa\",\"size\":[43],\"sizemode\":\"area\",\"sizeref\":0.1225,\"symbol\":\"circle\"},\"mode\":\"markers\",\"name\":\"Americas\",\"orientation\":\"v\",\"showlegend\":true,\"type\":\"scatter\",\"x\":[20135661.23529412],\"xaxis\":\"x\",\"y\":[28759432.352941178],\"yaxis\":\"y\"},{\"hovertemplate\":\"<b>%{hovertext}</b><br><br>Continent=Africa<br>Year=1995<br>Quantity=%{x}<br>Trade (USD)=%{y}<br>Nr of Countries=%{marker.size}<extra></extra>\",\"hovertext\":[\"Africa\"],\"ids\":[\"Africa\"],\"legendgroup\":\"Africa\",\"marker\":{\"color\":\"#FFA15A\",\"size\":[49],\"sizemode\":\"area\",\"sizeref\":0.1225,\"symbol\":\"circle\"},\"mode\":\"markers\",\"name\":\"Africa\",\"orientation\":\"v\",\"showlegend\":true,\"type\":\"scatter\",\"x\":[169844.22222222222],\"xaxis\":\"x\",\"y\":[350570.0],\"yaxis\":\"y\"}],\"name\":\"1995\"},{\"data\":[{\"hovertemplate\":\"<b>%{hovertext}</b><br><br>Continent=Europe<br>Year=1996<br>Quantity=%{x}<br>Trade (USD)=%{y}<br>Nr of Countries=%{marker.size}<extra></extra>\",\"hovertext\":[\"Europe\"],\"ids\":[\"Europe\"],\"legendgroup\":\"Europe\",\"marker\":{\"color\":\"#636efa\",\"size\":[42],\"sizemode\":\"area\",\"sizeref\":0.1225,\"symbol\":\"circle\"},\"mode\":\"markers\",\"name\":\"Europe\",\"orientation\":\"v\",\"showlegend\":true,\"type\":\"scatter\",\"x\":[46146583.38235294],\"xaxis\":\"x\",\"y\":[68999484.91176471],\"yaxis\":\"y\"},{\"hovertemplate\":\"<b>%{hovertext}</b><br><br>Continent=Asia<br>Year=1996<br>Quantity=%{x}<br>Trade (USD)=%{y}<br>Nr of Countries=%{marker.size}<extra></extra>\",\"hovertext\":[\"Asia\"],\"ids\":[\"Asia\"],\"legendgroup\":\"Asia\",\"marker\":{\"color\":\"#EF553B\",\"size\":[44],\"sizemode\":\"area\",\"sizeref\":0.1225,\"symbol\":\"circle\"},\"mode\":\"markers\",\"name\":\"Asia\",\"orientation\":\"v\",\"showlegend\":true,\"type\":\"scatter\",\"x\":[12328669.8],\"xaxis\":\"x\",\"y\":[17968446.8],\"yaxis\":\"y\"},{\"hovertemplate\":\"<b>%{hovertext}</b><br><br>Continent=Oceania<br>Year=1996<br>Quantity=%{x}<br>Trade (USD)=%{y}<br>Nr of Countries=%{marker.size}<extra></extra>\",\"hovertext\":[\"Oceania\"],\"ids\":[\"Oceania\"],\"legendgroup\":\"Oceania\",\"marker\":{\"color\":\"#00cc96\",\"size\":[15],\"sizemode\":\"area\",\"sizeref\":0.1225,\"symbol\":\"circle\"},\"mode\":\"markers\",\"name\":\"Oceania\",\"orientation\":\"v\",\"showlegend\":true,\"type\":\"scatter\",\"x\":[95939.5],\"xaxis\":\"x\",\"y\":[194629.0],\"yaxis\":\"y\"},{\"hovertemplate\":\"<b>%{hovertext}</b><br><br>Continent=Americas<br>Year=1996<br>Quantity=%{x}<br>Trade (USD)=%{y}<br>Nr of Countries=%{marker.size}<extra></extra>\",\"hovertext\":[\"Americas\"],\"ids\":[\"Americas\"],\"legendgroup\":\"Americas\",\"marker\":{\"color\":\"#ab63fa\",\"size\":[43],\"sizemode\":\"area\",\"sizeref\":0.1225,\"symbol\":\"circle\"},\"mode\":\"markers\",\"name\":\"Americas\",\"orientation\":\"v\",\"showlegend\":true,\"type\":\"scatter\",\"x\":[38575120.571428575],\"xaxis\":\"x\",\"y\":[49373921.28571428],\"yaxis\":\"y\"},{\"hovertemplate\":\"<b>%{hovertext}</b><br><br>Continent=Africa<br>Year=1996<br>Quantity=%{x}<br>Trade (USD)=%{y}<br>Nr of Countries=%{marker.size}<extra></extra>\",\"hovertext\":[\"Africa\"],\"ids\":[\"Africa\"],\"legendgroup\":\"Africa\",\"marker\":{\"color\":\"#FFA15A\",\"size\":[49],\"sizemode\":\"area\",\"sizeref\":0.1225,\"symbol\":\"circle\"},\"mode\":\"markers\",\"name\":\"Africa\",\"orientation\":\"v\",\"showlegend\":true,\"type\":\"scatter\",\"x\":[702894.5],\"xaxis\":\"x\",\"y\":[752613.5],\"yaxis\":\"y\"}],\"name\":\"1996\"},{\"data\":[{\"hovertemplate\":\"<b>%{hovertext}</b><br><br>Continent=Europe<br>Year=1997<br>Quantity=%{x}<br>Trade (USD)=%{y}<br>Nr of Countries=%{marker.size}<extra></extra>\",\"hovertext\":[\"Europe\"],\"ids\":[\"Europe\"],\"legendgroup\":\"Europe\",\"marker\":{\"color\":\"#636efa\",\"size\":[42],\"sizemode\":\"area\",\"sizeref\":0.1225,\"symbol\":\"circle\"},\"mode\":\"markers\",\"name\":\"Europe\",\"orientation\":\"v\",\"showlegend\":true,\"type\":\"scatter\",\"x\":[40544336.71875],\"xaxis\":\"x\",\"y\":[60754212.0],\"yaxis\":\"y\"},{\"hovertemplate\":\"<b>%{hovertext}</b><br><br>Continent=Asia<br>Year=1997<br>Quantity=%{x}<br>Trade (USD)=%{y}<br>Nr of Countries=%{marker.size}<extra></extra>\",\"hovertext\":[\"Asia\"],\"ids\":[\"Asia\"],\"legendgroup\":\"Asia\",\"marker\":{\"color\":\"#EF553B\",\"size\":[44],\"sizemode\":\"area\",\"sizeref\":0.1225,\"symbol\":\"circle\"},\"mode\":\"markers\",\"name\":\"Asia\",\"orientation\":\"v\",\"showlegend\":true,\"type\":\"scatter\",\"x\":[10696719.833333334],\"xaxis\":\"x\",\"y\":[16459660.722222222],\"yaxis\":\"y\"},{\"hovertemplate\":\"<b>%{hovertext}</b><br><br>Continent=Oceania<br>Year=1997<br>Quantity=%{x}<br>Trade (USD)=%{y}<br>Nr of Countries=%{marker.size}<extra></extra>\",\"hovertext\":[\"Oceania\"],\"ids\":[\"Oceania\"],\"legendgroup\":\"Oceania\",\"marker\":{\"color\":\"#00cc96\",\"size\":[15],\"sizemode\":\"area\",\"sizeref\":0.1225,\"symbol\":\"circle\"},\"mode\":\"markers\",\"name\":\"Oceania\",\"orientation\":\"v\",\"showlegend\":true,\"type\":\"scatter\",\"x\":[127604.0],\"xaxis\":\"x\",\"y\":[246494.0],\"yaxis\":\"y\"},{\"hovertemplate\":\"<b>%{hovertext}</b><br><br>Continent=Americas<br>Year=1997<br>Quantity=%{x}<br>Trade (USD)=%{y}<br>Nr of Countries=%{marker.size}<extra></extra>\",\"hovertext\":[\"Americas\"],\"ids\":[\"Americas\"],\"legendgroup\":\"Americas\",\"marker\":{\"color\":\"#ab63fa\",\"size\":[43],\"sizemode\":\"area\",\"sizeref\":0.1225,\"symbol\":\"circle\"},\"mode\":\"markers\",\"name\":\"Americas\",\"orientation\":\"v\",\"showlegend\":true,\"type\":\"scatter\",\"x\":[26863391.466666665],\"xaxis\":\"x\",\"y\":[39868207.733333334],\"yaxis\":\"y\"},{\"hovertemplate\":\"<b>%{hovertext}</b><br><br>Continent=Africa<br>Year=1997<br>Quantity=%{x}<br>Trade (USD)=%{y}<br>Nr of Countries=%{marker.size}<extra></extra>\",\"hovertext\":[\"Africa\"],\"ids\":[\"Africa\"],\"legendgroup\":\"Africa\",\"marker\":{\"color\":\"#FFA15A\",\"size\":[49],\"sizemode\":\"area\",\"sizeref\":0.1225,\"symbol\":\"circle\"},\"mode\":\"markers\",\"name\":\"Africa\",\"orientation\":\"v\",\"showlegend\":true,\"type\":\"scatter\",\"x\":[150399.77777777778],\"xaxis\":\"x\",\"y\":[269896.3333333333],\"yaxis\":\"y\"}],\"name\":\"1997\"},{\"data\":[{\"hovertemplate\":\"<b>%{hovertext}</b><br><br>Continent=Europe<br>Year=1998<br>Quantity=%{x}<br>Trade (USD)=%{y}<br>Nr of Countries=%{marker.size}<extra></extra>\",\"hovertext\":[\"Europe\"],\"ids\":[\"Europe\"],\"legendgroup\":\"Europe\",\"marker\":{\"color\":\"#636efa\",\"size\":[42],\"sizemode\":\"area\",\"sizeref\":0.1225,\"symbol\":\"circle\"},\"mode\":\"markers\",\"name\":\"Europe\",\"orientation\":\"v\",\"showlegend\":true,\"type\":\"scatter\",\"x\":[39877367.24242424],\"xaxis\":\"x\",\"y\":[66524184.24242424],\"yaxis\":\"y\"},{\"hovertemplate\":\"<b>%{hovertext}</b><br><br>Continent=Asia<br>Year=1998<br>Quantity=%{x}<br>Trade (USD)=%{y}<br>Nr of Countries=%{marker.size}<extra></extra>\",\"hovertext\":[\"Asia\"],\"ids\":[\"Asia\"],\"legendgroup\":\"Asia\",\"marker\":{\"color\":\"#EF553B\",\"size\":[44],\"sizemode\":\"area\",\"sizeref\":0.1225,\"symbol\":\"circle\"},\"mode\":\"markers\",\"name\":\"Asia\",\"orientation\":\"v\",\"showlegend\":true,\"type\":\"scatter\",\"x\":[11267990.777777778],\"xaxis\":\"x\",\"y\":[19671679.333333332],\"yaxis\":\"y\"},{\"hovertemplate\":\"<b>%{hovertext}</b><br><br>Continent=Oceania<br>Year=1998<br>Quantity=%{x}<br>Trade (USD)=%{y}<br>Nr of Countries=%{marker.size}<extra></extra>\",\"hovertext\":[\"Oceania\"],\"ids\":[\"Oceania\"],\"legendgroup\":\"Oceania\",\"marker\":{\"color\":\"#00cc96\",\"size\":[15],\"sizemode\":\"area\",\"sizeref\":0.1225,\"symbol\":\"circle\"},\"mode\":\"markers\",\"name\":\"Oceania\",\"orientation\":\"v\",\"showlegend\":true,\"type\":\"scatter\",\"x\":[50085634.0],\"xaxis\":\"x\",\"y\":[174153.33333333334],\"yaxis\":\"y\"},{\"hovertemplate\":\"<b>%{hovertext}</b><br><br>Continent=Americas<br>Year=1998<br>Quantity=%{x}<br>Trade (USD)=%{y}<br>Nr of Countries=%{marker.size}<extra></extra>\",\"hovertext\":[\"Americas\"],\"ids\":[\"Americas\"],\"legendgroup\":\"Americas\",\"marker\":{\"color\":\"#ab63fa\",\"size\":[43],\"sizemode\":\"area\",\"sizeref\":0.1225,\"symbol\":\"circle\"},\"mode\":\"markers\",\"name\":\"Americas\",\"orientation\":\"v\",\"showlegend\":true,\"type\":\"scatter\",\"x\":[28989357.0],\"xaxis\":\"x\",\"y\":[48172058.35294118],\"yaxis\":\"y\"},{\"hovertemplate\":\"<b>%{hovertext}</b><br><br>Continent=Africa<br>Year=1998<br>Quantity=%{x}<br>Trade (USD)=%{y}<br>Nr of Countries=%{marker.size}<extra></extra>\",\"hovertext\":[\"Africa\"],\"ids\":[\"Africa\"],\"legendgroup\":\"Africa\",\"marker\":{\"color\":\"#FFA15A\",\"size\":[49],\"sizemode\":\"area\",\"sizeref\":0.1225,\"symbol\":\"circle\"},\"mode\":\"markers\",\"name\":\"Africa\",\"orientation\":\"v\",\"showlegend\":true,\"type\":\"scatter\",\"x\":[237539.6],\"xaxis\":\"x\",\"y\":[428660.6],\"yaxis\":\"y\"}],\"name\":\"1998\"},{\"data\":[{\"hovertemplate\":\"<b>%{hovertext}</b><br><br>Continent=Europe<br>Year=1999<br>Quantity=%{x}<br>Trade (USD)=%{y}<br>Nr of Countries=%{marker.size}<extra></extra>\",\"hovertext\":[\"Europe\"],\"ids\":[\"Europe\"],\"legendgroup\":\"Europe\",\"marker\":{\"color\":\"#636efa\",\"size\":[42],\"sizemode\":\"area\",\"sizeref\":0.1225,\"symbol\":\"circle\"},\"mode\":\"markers\",\"name\":\"Europe\",\"orientation\":\"v\",\"showlegend\":true,\"type\":\"scatter\",\"x\":[43697637.2],\"xaxis\":\"x\",\"y\":[62049313.14285714],\"yaxis\":\"y\"},{\"hovertemplate\":\"<b>%{hovertext}</b><br><br>Continent=Asia<br>Year=1999<br>Quantity=%{x}<br>Trade (USD)=%{y}<br>Nr of Countries=%{marker.size}<extra></extra>\",\"hovertext\":[\"Asia\"],\"ids\":[\"Asia\"],\"legendgroup\":\"Asia\",\"marker\":{\"color\":\"#EF553B\",\"size\":[44],\"sizemode\":\"area\",\"sizeref\":0.1225,\"symbol\":\"circle\"},\"mode\":\"markers\",\"name\":\"Asia\",\"orientation\":\"v\",\"showlegend\":true,\"type\":\"scatter\",\"x\":[9979528.952380951],\"xaxis\":\"x\",\"y\":[13629213.142857144],\"yaxis\":\"y\"},{\"hovertemplate\":\"<b>%{hovertext}</b><br><br>Continent=Oceania<br>Year=1999<br>Quantity=%{x}<br>Trade (USD)=%{y}<br>Nr of Countries=%{marker.size}<extra></extra>\",\"hovertext\":[\"Oceania\"],\"ids\":[\"Oceania\"],\"legendgroup\":\"Oceania\",\"marker\":{\"color\":\"#00cc96\",\"size\":[15],\"sizemode\":\"area\",\"sizeref\":0.1225,\"symbol\":\"circle\"},\"mode\":\"markers\",\"name\":\"Oceania\",\"orientation\":\"v\",\"showlegend\":true,\"type\":\"scatter\",\"x\":[61212.0],\"xaxis\":\"x\",\"y\":[108958.25],\"yaxis\":\"y\"},{\"hovertemplate\":\"<b>%{hovertext}</b><br><br>Continent=Americas<br>Year=1999<br>Quantity=%{x}<br>Trade (USD)=%{y}<br>Nr of Countries=%{marker.size}<extra></extra>\",\"hovertext\":[\"Americas\"],\"ids\":[\"Americas\"],\"legendgroup\":\"Americas\",\"marker\":{\"color\":\"#ab63fa\",\"size\":[43],\"sizemode\":\"area\",\"sizeref\":0.1225,\"symbol\":\"circle\"},\"mode\":\"markers\",\"name\":\"Americas\",\"orientation\":\"v\",\"showlegend\":true,\"type\":\"scatter\",\"x\":[35163159.941176474],\"xaxis\":\"x\",\"y\":[45694889.11764706],\"yaxis\":\"y\"},{\"hovertemplate\":\"<b>%{hovertext}</b><br><br>Continent=Africa<br>Year=1999<br>Quantity=%{x}<br>Trade (USD)=%{y}<br>Nr of Countries=%{marker.size}<extra></extra>\",\"hovertext\":[\"Africa\"],\"ids\":[\"Africa\"],\"legendgroup\":\"Africa\",\"marker\":{\"color\":\"#FFA15A\",\"size\":[49],\"sizemode\":\"area\",\"sizeref\":0.1225,\"symbol\":\"circle\"},\"mode\":\"markers\",\"name\":\"Africa\",\"orientation\":\"v\",\"showlegend\":true,\"type\":\"scatter\",\"x\":[293015.23076923075],\"xaxis\":\"x\",\"y\":[698925.2307692308],\"yaxis\":\"y\"}],\"name\":\"1999\"},{\"data\":[{\"hovertemplate\":\"<b>%{hovertext}</b><br><br>Continent=Europe<br>Year=2000<br>Quantity=%{x}<br>Trade (USD)=%{y}<br>Nr of Countries=%{marker.size}<extra></extra>\",\"hovertext\":[\"Europe\"],\"ids\":[\"Europe\"],\"legendgroup\":\"Europe\",\"marker\":{\"color\":\"#636efa\",\"size\":[42],\"sizemode\":\"area\",\"sizeref\":0.1225,\"symbol\":\"circle\"},\"mode\":\"markers\",\"name\":\"Europe\",\"orientation\":\"v\",\"showlegend\":true,\"type\":\"scatter\",\"x\":[42956264.69444445],\"xaxis\":\"x\",\"y\":[43170081.333333336],\"yaxis\":\"y\"},{\"hovertemplate\":\"<b>%{hovertext}</b><br><br>Continent=Asia<br>Year=2000<br>Quantity=%{x}<br>Trade (USD)=%{y}<br>Nr of Countries=%{marker.size}<extra></extra>\",\"hovertext\":[\"Asia\"],\"ids\":[\"Asia\"],\"legendgroup\":\"Asia\",\"marker\":{\"color\":\"#EF553B\",\"size\":[44],\"sizemode\":\"area\",\"sizeref\":0.1225,\"symbol\":\"circle\"},\"mode\":\"markers\",\"name\":\"Asia\",\"orientation\":\"v\",\"showlegend\":true,\"type\":\"scatter\",\"x\":[12693457.681818182],\"xaxis\":\"x\",\"y\":[12326764.727272727],\"yaxis\":\"y\"},{\"hovertemplate\":\"<b>%{hovertext}</b><br><br>Continent=Oceania<br>Year=2000<br>Quantity=%{x}<br>Trade (USD)=%{y}<br>Nr of Countries=%{marker.size}<extra></extra>\",\"hovertext\":[\"Oceania\"],\"ids\":[\"Oceania\"],\"legendgroup\":\"Oceania\",\"marker\":{\"color\":\"#00cc96\",\"size\":[15],\"sizemode\":\"area\",\"sizeref\":0.1225,\"symbol\":\"circle\"},\"mode\":\"markers\",\"name\":\"Oceania\",\"orientation\":\"v\",\"showlegend\":true,\"type\":\"scatter\",\"x\":[78675.0],\"xaxis\":\"x\",\"y\":[103292.75],\"yaxis\":\"y\"},{\"hovertemplate\":\"<b>%{hovertext}</b><br><br>Continent=Americas<br>Year=2000<br>Quantity=%{x}<br>Trade (USD)=%{y}<br>Nr of Countries=%{marker.size}<extra></extra>\",\"hovertext\":[\"Americas\"],\"ids\":[\"Americas\"],\"legendgroup\":\"Americas\",\"marker\":{\"color\":\"#ab63fa\",\"size\":[43],\"sizemode\":\"area\",\"sizeref\":0.1225,\"symbol\":\"circle\"},\"mode\":\"markers\",\"name\":\"Americas\",\"orientation\":\"v\",\"showlegend\":true,\"type\":\"scatter\",\"x\":[19011538.875],\"xaxis\":\"x\",\"y\":[22059246.5],\"yaxis\":\"y\"},{\"hovertemplate\":\"<b>%{hovertext}</b><br><br>Continent=Africa<br>Year=2000<br>Quantity=%{x}<br>Trade (USD)=%{y}<br>Nr of Countries=%{marker.size}<extra></extra>\",\"hovertext\":[\"Africa\"],\"ids\":[\"Africa\"],\"legendgroup\":\"Africa\",\"marker\":{\"color\":\"#FFA15A\",\"size\":[49],\"sizemode\":\"area\",\"sizeref\":0.1225,\"symbol\":\"circle\"},\"mode\":\"markers\",\"name\":\"Africa\",\"orientation\":\"v\",\"showlegend\":true,\"type\":\"scatter\",\"x\":[405587.5238095238],\"xaxis\":\"x\",\"y\":[462103.0],\"yaxis\":\"y\"}],\"name\":\"2000\"},{\"data\":[{\"hovertemplate\":\"<b>%{hovertext}</b><br><br>Continent=Europe<br>Year=2001<br>Quantity=%{x}<br>Trade (USD)=%{y}<br>Nr of Countries=%{marker.size}<extra></extra>\",\"hovertext\":[\"Europe\"],\"ids\":[\"Europe\"],\"legendgroup\":\"Europe\",\"marker\":{\"color\":\"#636efa\",\"size\":[42],\"sizemode\":\"area\",\"sizeref\":0.1225,\"symbol\":\"circle\"},\"mode\":\"markers\",\"name\":\"Europe\",\"orientation\":\"v\",\"showlegend\":true,\"type\":\"scatter\",\"x\":[45369870.25714286],\"xaxis\":\"x\",\"y\":[48296023.2],\"yaxis\":\"y\"},{\"hovertemplate\":\"<b>%{hovertext}</b><br><br>Continent=Asia<br>Year=2001<br>Quantity=%{x}<br>Trade (USD)=%{y}<br>Nr of Countries=%{marker.size}<extra></extra>\",\"hovertext\":[\"Asia\"],\"ids\":[\"Asia\"],\"legendgroup\":\"Asia\",\"marker\":{\"color\":\"#EF553B\",\"size\":[44],\"sizemode\":\"area\",\"sizeref\":0.1225,\"symbol\":\"circle\"},\"mode\":\"markers\",\"name\":\"Asia\",\"orientation\":\"v\",\"showlegend\":true,\"type\":\"scatter\",\"x\":[10651578.23076923],\"xaxis\":\"x\",\"y\":[12270789.807692308],\"yaxis\":\"y\"},{\"hovertemplate\":\"<b>%{hovertext}</b><br><br>Continent=Oceania<br>Year=2001<br>Quantity=%{x}<br>Trade (USD)=%{y}<br>Nr of Countries=%{marker.size}<extra></extra>\",\"hovertext\":[\"Oceania\"],\"ids\":[\"Oceania\"],\"legendgroup\":\"Oceania\",\"marker\":{\"color\":\"#00cc96\",\"size\":[15],\"sizemode\":\"area\",\"sizeref\":0.1225,\"symbol\":\"circle\"},\"mode\":\"markers\",\"name\":\"Oceania\",\"orientation\":\"v\",\"showlegend\":true,\"type\":\"scatter\",\"x\":[87362.2],\"xaxis\":\"x\",\"y\":[106053.4],\"yaxis\":\"y\"},{\"hovertemplate\":\"<b>%{hovertext}</b><br><br>Continent=Americas<br>Year=2001<br>Quantity=%{x}<br>Trade (USD)=%{y}<br>Nr of Countries=%{marker.size}<extra></extra>\",\"hovertext\":[\"Americas\"],\"ids\":[\"Americas\"],\"legendgroup\":\"Americas\",\"marker\":{\"color\":\"#ab63fa\",\"size\":[43],\"sizemode\":\"area\",\"sizeref\":0.1225,\"symbol\":\"circle\"},\"mode\":\"markers\",\"name\":\"Americas\",\"orientation\":\"v\",\"showlegend\":true,\"type\":\"scatter\",\"x\":[27874011.733333334],\"xaxis\":\"x\",\"y\":[35237889.86666667],\"yaxis\":\"y\"},{\"hovertemplate\":\"<b>%{hovertext}</b><br><br>Continent=Africa<br>Year=2001<br>Quantity=%{x}<br>Trade (USD)=%{y}<br>Nr of Countries=%{marker.size}<extra></extra>\",\"hovertext\":[\"Africa\"],\"ids\":[\"Africa\"],\"legendgroup\":\"Africa\",\"marker\":{\"color\":\"#FFA15A\",\"size\":[49],\"sizemode\":\"area\",\"sizeref\":0.1225,\"symbol\":\"circle\"},\"mode\":\"markers\",\"name\":\"Africa\",\"orientation\":\"v\",\"showlegend\":true,\"type\":\"scatter\",\"x\":[591900.125],\"xaxis\":\"x\",\"y\":[641238.75],\"yaxis\":\"y\"}],\"name\":\"2001\"},{\"data\":[{\"hovertemplate\":\"<b>%{hovertext}</b><br><br>Continent=Europe<br>Year=2002<br>Quantity=%{x}<br>Trade (USD)=%{y}<br>Nr of Countries=%{marker.size}<extra></extra>\",\"hovertext\":[\"Europe\"],\"ids\":[\"Europe\"],\"legendgroup\":\"Europe\",\"marker\":{\"color\":\"#636efa\",\"size\":[42],\"sizemode\":\"area\",\"sizeref\":0.1225,\"symbol\":\"circle\"},\"mode\":\"markers\",\"name\":\"Europe\",\"orientation\":\"v\",\"showlegend\":true,\"type\":\"scatter\",\"x\":[43122552.375],\"xaxis\":\"x\",\"y\":[71616024.625],\"yaxis\":\"y\"},{\"hovertemplate\":\"<b>%{hovertext}</b><br><br>Continent=Asia<br>Year=2002<br>Quantity=%{x}<br>Trade (USD)=%{y}<br>Nr of Countries=%{marker.size}<extra></extra>\",\"hovertext\":[\"Asia\"],\"ids\":[\"Asia\"],\"legendgroup\":\"Asia\",\"marker\":{\"color\":\"#EF553B\",\"size\":[44],\"sizemode\":\"area\",\"sizeref\":0.1225,\"symbol\":\"circle\"},\"mode\":\"markers\",\"name\":\"Asia\",\"orientation\":\"v\",\"showlegend\":true,\"type\":\"scatter\",\"x\":[13209723.307692308],\"xaxis\":\"x\",\"y\":[18092025.46153846],\"yaxis\":\"y\"},{\"hovertemplate\":\"<b>%{hovertext}</b><br><br>Continent=Oceania<br>Year=2002<br>Quantity=%{x}<br>Trade (USD)=%{y}<br>Nr of Countries=%{marker.size}<extra></extra>\",\"hovertext\":[\"Oceania\"],\"ids\":[\"Oceania\"],\"legendgroup\":\"Oceania\",\"marker\":{\"color\":\"#00cc96\",\"size\":[15],\"sizemode\":\"area\",\"sizeref\":0.1225,\"symbol\":\"circle\"},\"mode\":\"markers\",\"name\":\"Oceania\",\"orientation\":\"v\",\"showlegend\":true,\"type\":\"scatter\",\"x\":[323407.85714285716],\"xaxis\":\"x\",\"y\":[168182.57142857142],\"yaxis\":\"y\"},{\"hovertemplate\":\"<b>%{hovertext}</b><br><br>Continent=Americas<br>Year=2002<br>Quantity=%{x}<br>Trade (USD)=%{y}<br>Nr of Countries=%{marker.size}<extra></extra>\",\"hovertext\":[\"Americas\"],\"ids\":[\"Americas\"],\"legendgroup\":\"Americas\",\"marker\":{\"color\":\"#ab63fa\",\"size\":[43],\"sizemode\":\"area\",\"sizeref\":0.1225,\"symbol\":\"circle\"},\"mode\":\"markers\",\"name\":\"Americas\",\"orientation\":\"v\",\"showlegend\":true,\"type\":\"scatter\",\"x\":[20191911.0],\"xaxis\":\"x\",\"y\":[34368377.52380952],\"yaxis\":\"y\"},{\"hovertemplate\":\"<b>%{hovertext}</b><br><br>Continent=Africa<br>Year=2002<br>Quantity=%{x}<br>Trade (USD)=%{y}<br>Nr of Countries=%{marker.size}<extra></extra>\",\"hovertext\":[\"Africa\"],\"ids\":[\"Africa\"],\"legendgroup\":\"Africa\",\"marker\":{\"color\":\"#FFA15A\",\"size\":[49],\"sizemode\":\"area\",\"sizeref\":0.1225,\"symbol\":\"circle\"},\"mode\":\"markers\",\"name\":\"Africa\",\"orientation\":\"v\",\"showlegend\":true,\"type\":\"scatter\",\"x\":[621480.85],\"xaxis\":\"x\",\"y\":[1036391.15],\"yaxis\":\"y\"}],\"name\":\"2002\"},{\"data\":[{\"hovertemplate\":\"<b>%{hovertext}</b><br><br>Continent=Europe<br>Year=2003<br>Quantity=%{x}<br>Trade (USD)=%{y}<br>Nr of Countries=%{marker.size}<extra></extra>\",\"hovertext\":[\"Europe\"],\"ids\":[\"Europe\"],\"legendgroup\":\"Europe\",\"marker\":{\"color\":\"#636efa\",\"size\":[42],\"sizemode\":\"area\",\"sizeref\":0.1225,\"symbol\":\"circle\"},\"mode\":\"markers\",\"name\":\"Europe\",\"orientation\":\"v\",\"showlegend\":true,\"type\":\"scatter\",\"x\":[43216327.54285714],\"xaxis\":\"x\",\"y\":[91914777.68571429],\"yaxis\":\"y\"},{\"hovertemplate\":\"<b>%{hovertext}</b><br><br>Continent=Asia<br>Year=2003<br>Quantity=%{x}<br>Trade (USD)=%{y}<br>Nr of Countries=%{marker.size}<extra></extra>\",\"hovertext\":[\"Asia\"],\"ids\":[\"Asia\"],\"legendgroup\":\"Asia\",\"marker\":{\"color\":\"#EF553B\",\"size\":[44],\"sizemode\":\"area\",\"sizeref\":0.1225,\"symbol\":\"circle\"},\"mode\":\"markers\",\"name\":\"Asia\",\"orientation\":\"v\",\"showlegend\":true,\"type\":\"scatter\",\"x\":[11986623.043478262],\"xaxis\":\"x\",\"y\":[38034520.78819087],\"yaxis\":\"y\"},{\"hovertemplate\":\"<b>%{hovertext}</b><br><br>Continent=Oceania<br>Year=2003<br>Quantity=%{x}<br>Trade (USD)=%{y}<br>Nr of Countries=%{marker.size}<extra></extra>\",\"hovertext\":[\"Oceania\"],\"ids\":[\"Oceania\"],\"legendgroup\":\"Oceania\",\"marker\":{\"color\":\"#00cc96\",\"size\":[15],\"sizemode\":\"area\",\"sizeref\":0.1225,\"symbol\":\"circle\"},\"mode\":\"markers\",\"name\":\"Oceania\",\"orientation\":\"v\",\"showlegend\":true,\"type\":\"scatter\",\"x\":[59142.0],\"xaxis\":\"x\",\"y\":[151205.25],\"yaxis\":\"y\"},{\"hovertemplate\":\"<b>%{hovertext}</b><br><br>Continent=Americas<br>Year=2003<br>Quantity=%{x}<br>Trade (USD)=%{y}<br>Nr of Countries=%{marker.size}<extra></extra>\",\"hovertext\":[\"Americas\"],\"ids\":[\"Americas\"],\"legendgroup\":\"Americas\",\"marker\":{\"color\":\"#ab63fa\",\"size\":[43],\"sizemode\":\"area\",\"sizeref\":0.1225,\"symbol\":\"circle\"},\"mode\":\"markers\",\"name\":\"Americas\",\"orientation\":\"v\",\"showlegend\":true,\"type\":\"scatter\",\"x\":[24550819.0],\"xaxis\":\"x\",\"y\":[51683477.421052635],\"yaxis\":\"y\"},{\"hovertemplate\":\"<b>%{hovertext}</b><br><br>Continent=Africa<br>Year=2003<br>Quantity=%{x}<br>Trade (USD)=%{y}<br>Nr of Countries=%{marker.size}<extra></extra>\",\"hovertext\":[\"Africa\"],\"ids\":[\"Africa\"],\"legendgroup\":\"Africa\",\"marker\":{\"color\":\"#FFA15A\",\"size\":[49],\"sizemode\":\"area\",\"sizeref\":0.1225,\"symbol\":\"circle\"},\"mode\":\"markers\",\"name\":\"Africa\",\"orientation\":\"v\",\"showlegend\":true,\"type\":\"scatter\",\"x\":[699838.56],\"xaxis\":\"x\",\"y\":[1341018.84],\"yaxis\":\"y\"}],\"name\":\"2003\"},{\"data\":[{\"hovertemplate\":\"<b>%{hovertext}</b><br><br>Continent=Europe<br>Year=2004<br>Quantity=%{x}<br>Trade (USD)=%{y}<br>Nr of Countries=%{marker.size}<extra></extra>\",\"hovertext\":[\"Europe\"],\"ids\":[\"Europe\"],\"legendgroup\":\"Europe\",\"marker\":{\"color\":\"#636efa\",\"size\":[42],\"sizemode\":\"area\",\"sizeref\":0.1225,\"symbol\":\"circle\"},\"mode\":\"markers\",\"name\":\"Europe\",\"orientation\":\"v\",\"showlegend\":true,\"type\":\"scatter\",\"x\":[43299448.0],\"xaxis\":\"x\",\"y\":[78392421.02857143],\"yaxis\":\"y\"},{\"hovertemplate\":\"<b>%{hovertext}</b><br><br>Continent=Asia<br>Year=2004<br>Quantity=%{x}<br>Trade (USD)=%{y}<br>Nr of Countries=%{marker.size}<extra></extra>\",\"hovertext\":[\"Asia\"],\"ids\":[\"Asia\"],\"legendgroup\":\"Asia\",\"marker\":{\"color\":\"#EF553B\",\"size\":[44],\"sizemode\":\"area\",\"sizeref\":0.1225,\"symbol\":\"circle\"},\"mode\":\"markers\",\"name\":\"Asia\",\"orientation\":\"v\",\"showlegend\":true,\"type\":\"scatter\",\"x\":[23122407.84],\"xaxis\":\"x\",\"y\":[34168036.46405541],\"yaxis\":\"y\"},{\"hovertemplate\":\"<b>%{hovertext}</b><br><br>Continent=Oceania<br>Year=2004<br>Quantity=%{x}<br>Trade (USD)=%{y}<br>Nr of Countries=%{marker.size}<extra></extra>\",\"hovertext\":[\"Oceania\"],\"ids\":[\"Oceania\"],\"legendgroup\":\"Oceania\",\"marker\":{\"color\":\"#00cc96\",\"size\":[15],\"sizemode\":\"area\",\"sizeref\":0.1225,\"symbol\":\"circle\"},\"mode\":\"markers\",\"name\":\"Oceania\",\"orientation\":\"v\",\"showlegend\":true,\"type\":\"scatter\",\"x\":[105767.6],\"xaxis\":\"x\",\"y\":[223220.0],\"yaxis\":\"y\"},{\"hovertemplate\":\"<b>%{hovertext}</b><br><br>Continent=Americas<br>Year=2004<br>Quantity=%{x}<br>Trade (USD)=%{y}<br>Nr of Countries=%{marker.size}<extra></extra>\",\"hovertext\":[\"Americas\"],\"ids\":[\"Americas\"],\"legendgroup\":\"Americas\",\"marker\":{\"color\":\"#ab63fa\",\"size\":[43],\"sizemode\":\"area\",\"sizeref\":0.1225,\"symbol\":\"circle\"},\"mode\":\"markers\",\"name\":\"Americas\",\"orientation\":\"v\",\"showlegend\":true,\"type\":\"scatter\",\"x\":[27896350.4],\"xaxis\":\"x\",\"y\":[48052508.6],\"yaxis\":\"y\"},{\"hovertemplate\":\"<b>%{hovertext}</b><br><br>Continent=Africa<br>Year=2004<br>Quantity=%{x}<br>Trade (USD)=%{y}<br>Nr of Countries=%{marker.size}<extra></extra>\",\"hovertext\":[\"Africa\"],\"ids\":[\"Africa\"],\"legendgroup\":\"Africa\",\"marker\":{\"color\":\"#FFA15A\",\"size\":[49],\"sizemode\":\"area\",\"sizeref\":0.1225,\"symbol\":\"circle\"},\"mode\":\"markers\",\"name\":\"Africa\",\"orientation\":\"v\",\"showlegend\":true,\"type\":\"scatter\",\"x\":[514476.375],\"xaxis\":\"x\",\"y\":[932075.3333333334],\"yaxis\":\"y\"}],\"name\":\"2004\"},{\"data\":[{\"hovertemplate\":\"<b>%{hovertext}</b><br><br>Continent=Europe<br>Year=2005<br>Quantity=%{x}<br>Trade (USD)=%{y}<br>Nr of Countries=%{marker.size}<extra></extra>\",\"hovertext\":[\"Europe\"],\"ids\":[\"Europe\"],\"legendgroup\":\"Europe\",\"marker\":{\"color\":\"#636efa\",\"size\":[42],\"sizemode\":\"area\",\"sizeref\":0.1225,\"symbol\":\"circle\"},\"mode\":\"markers\",\"name\":\"Europe\",\"orientation\":\"v\",\"showlegend\":true,\"type\":\"scatter\",\"x\":[46722530.11111111],\"xaxis\":\"x\",\"y\":[78113385.55555555],\"yaxis\":\"y\"},{\"hovertemplate\":\"<b>%{hovertext}</b><br><br>Continent=Asia<br>Year=2005<br>Quantity=%{x}<br>Trade (USD)=%{y}<br>Nr of Countries=%{marker.size}<extra></extra>\",\"hovertext\":[\"Asia\"],\"ids\":[\"Asia\"],\"legendgroup\":\"Asia\",\"marker\":{\"color\":\"#EF553B\",\"size\":[44],\"sizemode\":\"area\",\"sizeref\":0.1225,\"symbol\":\"circle\"},\"mode\":\"markers\",\"name\":\"Asia\",\"orientation\":\"v\",\"showlegend\":true,\"type\":\"scatter\",\"x\":[21012971.89285714],\"xaxis\":\"x\",\"y\":[31145346.714285713],\"yaxis\":\"y\"},{\"hovertemplate\":\"<b>%{hovertext}</b><br><br>Continent=Oceania<br>Year=2005<br>Quantity=%{x}<br>Trade (USD)=%{y}<br>Nr of Countries=%{marker.size}<extra></extra>\",\"hovertext\":[\"Oceania\"],\"ids\":[\"Oceania\"],\"legendgroup\":\"Oceania\",\"marker\":{\"color\":\"#00cc96\",\"size\":[15],\"sizemode\":\"area\",\"sizeref\":0.1225,\"symbol\":\"circle\"},\"mode\":\"markers\",\"name\":\"Oceania\",\"orientation\":\"v\",\"showlegend\":true,\"type\":\"scatter\",\"x\":[104280.5],\"xaxis\":\"x\",\"y\":[219611.625],\"yaxis\":\"y\"},{\"hovertemplate\":\"<b>%{hovertext}</b><br><br>Continent=Americas<br>Year=2005<br>Quantity=%{x}<br>Trade (USD)=%{y}<br>Nr of Countries=%{marker.size}<extra></extra>\",\"hovertext\":[\"Americas\"],\"ids\":[\"Americas\"],\"legendgroup\":\"Americas\",\"marker\":{\"color\":\"#ab63fa\",\"size\":[43],\"sizemode\":\"area\",\"sizeref\":0.1225,\"symbol\":\"circle\"},\"mode\":\"markers\",\"name\":\"Americas\",\"orientation\":\"v\",\"showlegend\":true,\"type\":\"scatter\",\"x\":[37138095.94444445],\"xaxis\":\"x\",\"y\":[63412247.833333336],\"yaxis\":\"y\"},{\"hovertemplate\":\"<b>%{hovertext}</b><br><br>Continent=Africa<br>Year=2005<br>Quantity=%{x}<br>Trade (USD)=%{y}<br>Nr of Countries=%{marker.size}<extra></extra>\",\"hovertext\":[\"Africa\"],\"ids\":[\"Africa\"],\"legendgroup\":\"Africa\",\"marker\":{\"color\":\"#FFA15A\",\"size\":[49],\"sizemode\":\"area\",\"sizeref\":0.1225,\"symbol\":\"circle\"},\"mode\":\"markers\",\"name\":\"Africa\",\"orientation\":\"v\",\"showlegend\":true,\"type\":\"scatter\",\"x\":[489814.2083333333],\"xaxis\":\"x\",\"y\":[871218.5833333334],\"yaxis\":\"y\"}],\"name\":\"2005\"},{\"data\":[{\"hovertemplate\":\"<b>%{hovertext}</b><br><br>Continent=Europe<br>Year=2006<br>Quantity=%{x}<br>Trade (USD)=%{y}<br>Nr of Countries=%{marker.size}<extra></extra>\",\"hovertext\":[\"Europe\"],\"ids\":[\"Europe\"],\"legendgroup\":\"Europe\",\"marker\":{\"color\":\"#636efa\",\"size\":[42],\"sizemode\":\"area\",\"sizeref\":0.1225,\"symbol\":\"circle\"},\"mode\":\"markers\",\"name\":\"Europe\",\"orientation\":\"v\",\"showlegend\":true,\"type\":\"scatter\",\"x\":[48318605.48571429],\"xaxis\":\"x\",\"y\":[82548589.45714286],\"yaxis\":\"y\"},{\"hovertemplate\":\"<b>%{hovertext}</b><br><br>Continent=Asia<br>Year=2006<br>Quantity=%{x}<br>Trade (USD)=%{y}<br>Nr of Countries=%{marker.size}<extra></extra>\",\"hovertext\":[\"Asia\"],\"ids\":[\"Asia\"],\"legendgroup\":\"Asia\",\"marker\":{\"color\":\"#EF553B\",\"size\":[44],\"sizemode\":\"area\",\"sizeref\":0.1225,\"symbol\":\"circle\"},\"mode\":\"markers\",\"name\":\"Asia\",\"orientation\":\"v\",\"showlegend\":true,\"type\":\"scatter\",\"x\":[29253247.03846154],\"xaxis\":\"x\",\"y\":[45866816.15384615],\"yaxis\":\"y\"},{\"hovertemplate\":\"<b>%{hovertext}</b><br><br>Continent=Oceania<br>Year=2006<br>Quantity=%{x}<br>Trade (USD)=%{y}<br>Nr of Countries=%{marker.size}<extra></extra>\",\"hovertext\":[\"Oceania\"],\"ids\":[\"Oceania\"],\"legendgroup\":\"Oceania\",\"marker\":{\"color\":\"#00cc96\",\"size\":[15],\"sizemode\":\"area\",\"sizeref\":0.1225,\"symbol\":\"circle\"},\"mode\":\"markers\",\"name\":\"Oceania\",\"orientation\":\"v\",\"showlegend\":true,\"type\":\"scatter\",\"x\":[119844.57142857143],\"xaxis\":\"x\",\"y\":[267203.4285714286],\"yaxis\":\"y\"},{\"hovertemplate\":\"<b>%{hovertext}</b><br><br>Continent=Americas<br>Year=2006<br>Quantity=%{x}<br>Trade (USD)=%{y}<br>Nr of Countries=%{marker.size}<extra></extra>\",\"hovertext\":[\"Americas\"],\"ids\":[\"Americas\"],\"legendgroup\":\"Americas\",\"marker\":{\"color\":\"#ab63fa\",\"size\":[43],\"sizemode\":\"area\",\"sizeref\":0.1225,\"symbol\":\"circle\"},\"mode\":\"markers\",\"name\":\"Americas\",\"orientation\":\"v\",\"showlegend\":true,\"type\":\"scatter\",\"x\":[33218413.315789472],\"xaxis\":\"x\",\"y\":[53818500.421052635],\"yaxis\":\"y\"},{\"hovertemplate\":\"<b>%{hovertext}</b><br><br>Continent=Africa<br>Year=2006<br>Quantity=%{x}<br>Trade (USD)=%{y}<br>Nr of Countries=%{marker.size}<extra></extra>\",\"hovertext\":[\"Africa\"],\"ids\":[\"Africa\"],\"legendgroup\":\"Africa\",\"marker\":{\"color\":\"#FFA15A\",\"size\":[49],\"sizemode\":\"area\",\"sizeref\":0.1225,\"symbol\":\"circle\"},\"mode\":\"markers\",\"name\":\"Africa\",\"orientation\":\"v\",\"showlegend\":true,\"type\":\"scatter\",\"x\":[505781.0],\"xaxis\":\"x\",\"y\":[991848.0833333334],\"yaxis\":\"y\"}],\"name\":\"2006\"},{\"data\":[{\"hovertemplate\":\"<b>%{hovertext}</b><br><br>Continent=Europe<br>Year=2007<br>Quantity=%{x}<br>Trade (USD)=%{y}<br>Nr of Countries=%{marker.size}<extra></extra>\",\"hovertext\":[\"Europe\"],\"ids\":[\"Europe\"],\"legendgroup\":\"Europe\",\"marker\":{\"color\":\"#636efa\",\"size\":[42],\"sizemode\":\"area\",\"sizeref\":0.1225,\"symbol\":\"circle\"},\"mode\":\"markers\",\"name\":\"Europe\",\"orientation\":\"v\",\"showlegend\":true,\"type\":\"scatter\",\"x\":[52115768.25714286],\"xaxis\":\"x\",\"y\":[104536679.37142856],\"yaxis\":\"y\"},{\"hovertemplate\":\"<b>%{hovertext}</b><br><br>Continent=Asia<br>Year=2007<br>Quantity=%{x}<br>Trade (USD)=%{y}<br>Nr of Countries=%{marker.size}<extra></extra>\",\"hovertext\":[\"Asia\"],\"ids\":[\"Asia\"],\"legendgroup\":\"Asia\",\"marker\":{\"color\":\"#EF553B\",\"size\":[44],\"sizemode\":\"area\",\"sizeref\":0.1225,\"symbol\":\"circle\"},\"mode\":\"markers\",\"name\":\"Asia\",\"orientation\":\"v\",\"showlegend\":true,\"type\":\"scatter\",\"x\":[30637820.96],\"xaxis\":\"x\",\"y\":[58752859.92],\"yaxis\":\"y\"},{\"hovertemplate\":\"<b>%{hovertext}</b><br><br>Continent=Oceania<br>Year=2007<br>Quantity=%{x}<br>Trade (USD)=%{y}<br>Nr of Countries=%{marker.size}<extra></extra>\",\"hovertext\":[\"Oceania\"],\"ids\":[\"Oceania\"],\"legendgroup\":\"Oceania\",\"marker\":{\"color\":\"#00cc96\",\"size\":[15],\"sizemode\":\"area\",\"sizeref\":0.1225,\"symbol\":\"circle\"},\"mode\":\"markers\",\"name\":\"Oceania\",\"orientation\":\"v\",\"showlegend\":true,\"type\":\"scatter\",\"x\":[156295.14285714287],\"xaxis\":\"x\",\"y\":[426234.28571428574],\"yaxis\":\"y\"},{\"hovertemplate\":\"<b>%{hovertext}</b><br><br>Continent=Americas<br>Year=2007<br>Quantity=%{x}<br>Trade (USD)=%{y}<br>Nr of Countries=%{marker.size}<extra></extra>\",\"hovertext\":[\"Americas\"],\"ids\":[\"Americas\"],\"legendgroup\":\"Americas\",\"marker\":{\"color\":\"#ab63fa\",\"size\":[43],\"sizemode\":\"area\",\"sizeref\":0.1225,\"symbol\":\"circle\"},\"mode\":\"markers\",\"name\":\"Americas\",\"orientation\":\"v\",\"showlegend\":true,\"type\":\"scatter\",\"x\":[25798683.8],\"xaxis\":\"x\",\"y\":[49590187.55],\"yaxis\":\"y\"},{\"hovertemplate\":\"<b>%{hovertext}</b><br><br>Continent=Africa<br>Year=2007<br>Quantity=%{x}<br>Trade (USD)=%{y}<br>Nr of Countries=%{marker.size}<extra></extra>\",\"hovertext\":[\"Africa\"],\"ids\":[\"Africa\"],\"legendgroup\":\"Africa\",\"marker\":{\"color\":\"#FFA15A\",\"size\":[49],\"sizemode\":\"area\",\"sizeref\":0.1225,\"symbol\":\"circle\"},\"mode\":\"markers\",\"name\":\"Africa\",\"orientation\":\"v\",\"showlegend\":true,\"type\":\"scatter\",\"x\":[302358.6206896552],\"xaxis\":\"x\",\"y\":[634525.4827586206],\"yaxis\":\"y\"}],\"name\":\"2007\"},{\"data\":[{\"hovertemplate\":\"<b>%{hovertext}</b><br><br>Continent=Europe<br>Year=2008<br>Quantity=%{x}<br>Trade (USD)=%{y}<br>Nr of Countries=%{marker.size}<extra></extra>\",\"hovertext\":[\"Europe\"],\"ids\":[\"Europe\"],\"legendgroup\":\"Europe\",\"marker\":{\"color\":\"#636efa\",\"size\":[42],\"sizemode\":\"area\",\"sizeref\":0.1225,\"symbol\":\"circle\"},\"mode\":\"markers\",\"name\":\"Europe\",\"orientation\":\"v\",\"showlegend\":true,\"type\":\"scatter\",\"x\":[52625025.52941176],\"xaxis\":\"x\",\"y\":[131593678.7098622],\"yaxis\":\"y\"},{\"hovertemplate\":\"<b>%{hovertext}</b><br><br>Continent=Asia<br>Year=2008<br>Quantity=%{x}<br>Trade (USD)=%{y}<br>Nr of Countries=%{marker.size}<extra></extra>\",\"hovertext\":[\"Asia\"],\"ids\":[\"Asia\"],\"legendgroup\":\"Asia\",\"marker\":{\"color\":\"#EF553B\",\"size\":[44],\"sizemode\":\"area\",\"sizeref\":0.1225,\"symbol\":\"circle\"},\"mode\":\"markers\",\"name\":\"Asia\",\"orientation\":\"v\",\"showlegend\":true,\"type\":\"scatter\",\"x\":[28528342.407407407],\"xaxis\":\"x\",\"y\":[72694953.55555555],\"yaxis\":\"y\"},{\"hovertemplate\":\"<b>%{hovertext}</b><br><br>Continent=Oceania<br>Year=2008<br>Quantity=%{x}<br>Trade (USD)=%{y}<br>Nr of Countries=%{marker.size}<extra></extra>\",\"hovertext\":[\"Oceania\"],\"ids\":[\"Oceania\"],\"legendgroup\":\"Oceania\",\"marker\":{\"color\":\"#00cc96\",\"size\":[15],\"sizemode\":\"area\",\"sizeref\":0.1225,\"symbol\":\"circle\"},\"mode\":\"markers\",\"name\":\"Oceania\",\"orientation\":\"v\",\"showlegend\":true,\"type\":\"scatter\",\"x\":[267252.2],\"xaxis\":\"x\",\"y\":[767340.8],\"yaxis\":\"y\"},{\"hovertemplate\":\"<b>%{hovertext}</b><br><br>Continent=Americas<br>Year=2008<br>Quantity=%{x}<br>Trade (USD)=%{y}<br>Nr of Countries=%{marker.size}<extra></extra>\",\"hovertext\":[\"Americas\"],\"ids\":[\"Americas\"],\"legendgroup\":\"Americas\",\"marker\":{\"color\":\"#ab63fa\",\"size\":[43],\"sizemode\":\"area\",\"sizeref\":0.1225,\"symbol\":\"circle\"},\"mode\":\"markers\",\"name\":\"Americas\",\"orientation\":\"v\",\"showlegend\":true,\"type\":\"scatter\",\"x\":[22244942.04347826],\"xaxis\":\"x\",\"y\":[55906958.69565217],\"yaxis\":\"y\"},{\"hovertemplate\":\"<b>%{hovertext}</b><br><br>Continent=Africa<br>Year=2008<br>Quantity=%{x}<br>Trade (USD)=%{y}<br>Nr of Countries=%{marker.size}<extra></extra>\",\"hovertext\":[\"Africa\"],\"ids\":[\"Africa\"],\"legendgroup\":\"Africa\",\"marker\":{\"color\":\"#FFA15A\",\"size\":[49],\"sizemode\":\"area\",\"sizeref\":0.1225,\"symbol\":\"circle\"},\"mode\":\"markers\",\"name\":\"Africa\",\"orientation\":\"v\",\"showlegend\":true,\"type\":\"scatter\",\"x\":[449789.0625],\"xaxis\":\"x\",\"y\":[1091147.596455],\"yaxis\":\"y\"}],\"name\":\"2008\"},{\"data\":[{\"hovertemplate\":\"<b>%{hovertext}</b><br><br>Continent=Europe<br>Year=2009<br>Quantity=%{x}<br>Trade (USD)=%{y}<br>Nr of Countries=%{marker.size}<extra></extra>\",\"hovertext\":[\"Europe\"],\"ids\":[\"Europe\"],\"legendgroup\":\"Europe\",\"marker\":{\"color\":\"#636efa\",\"size\":[42],\"sizemode\":\"area\",\"sizeref\":0.1225,\"symbol\":\"circle\"},\"mode\":\"markers\",\"name\":\"Europe\",\"orientation\":\"v\",\"showlegend\":true,\"type\":\"scatter\",\"x\":[52366180.914868884],\"xaxis\":\"x\",\"y\":[147127525.9239131],\"yaxis\":\"y\"},{\"hovertemplate\":\"<b>%{hovertext}</b><br><br>Continent=Asia<br>Year=2009<br>Quantity=%{x}<br>Trade (USD)=%{y}<br>Nr of Countries=%{marker.size}<extra></extra>\",\"hovertext\":[\"Asia\"],\"ids\":[\"Asia\"],\"legendgroup\":\"Asia\",\"marker\":{\"color\":\"#EF553B\",\"size\":[44],\"sizemode\":\"area\",\"sizeref\":0.1225,\"symbol\":\"circle\"},\"mode\":\"markers\",\"name\":\"Asia\",\"orientation\":\"v\",\"showlegend\":true,\"type\":\"scatter\",\"x\":[21987430.03846154],\"xaxis\":\"x\",\"y\":[59723314.76923077],\"yaxis\":\"y\"},{\"hovertemplate\":\"<b>%{hovertext}</b><br><br>Continent=Oceania<br>Year=2009<br>Quantity=%{x}<br>Trade (USD)=%{y}<br>Nr of Countries=%{marker.size}<extra></extra>\",\"hovertext\":[\"Oceania\"],\"ids\":[\"Oceania\"],\"legendgroup\":\"Oceania\",\"marker\":{\"color\":\"#00cc96\",\"size\":[15],\"sizemode\":\"area\",\"sizeref\":0.1225,\"symbol\":\"circle\"},\"mode\":\"markers\",\"name\":\"Oceania\",\"orientation\":\"v\",\"showlegend\":true,\"type\":\"scatter\",\"x\":[188071.2857142857],\"xaxis\":\"x\",\"y\":[622594.4285714285],\"yaxis\":\"y\"},{\"hovertemplate\":\"<b>%{hovertext}</b><br><br>Continent=Americas<br>Year=2009<br>Quantity=%{x}<br>Trade (USD)=%{y}<br>Nr of Countries=%{marker.size}<extra></extra>\",\"hovertext\":[\"Americas\"],\"ids\":[\"Americas\"],\"legendgroup\":\"Americas\",\"marker\":{\"color\":\"#ab63fa\",\"size\":[43],\"sizemode\":\"area\",\"sizeref\":0.1225,\"symbol\":\"circle\"},\"mode\":\"markers\",\"name\":\"Americas\",\"orientation\":\"v\",\"showlegend\":true,\"type\":\"scatter\",\"x\":[26499955.0],\"xaxis\":\"x\",\"y\":[72078414.68181819],\"yaxis\":\"y\"},{\"hovertemplate\":\"<b>%{hovertext}</b><br><br>Continent=Africa<br>Year=2009<br>Quantity=%{x}<br>Trade (USD)=%{y}<br>Nr of Countries=%{marker.size}<extra></extra>\",\"hovertext\":[\"Africa\"],\"ids\":[\"Africa\"],\"legendgroup\":\"Africa\",\"marker\":{\"color\":\"#FFA15A\",\"size\":[49],\"sizemode\":\"area\",\"sizeref\":0.1225,\"symbol\":\"circle\"},\"mode\":\"markers\",\"name\":\"Africa\",\"orientation\":\"v\",\"showlegend\":true,\"type\":\"scatter\",\"x\":[431007.44],\"xaxis\":\"x\",\"y\":[1263788.32],\"yaxis\":\"y\"}],\"name\":\"2009\"},{\"data\":[{\"hovertemplate\":\"<b>%{hovertext}</b><br><br>Continent=Europe<br>Year=2010<br>Quantity=%{x}<br>Trade (USD)=%{y}<br>Nr of Countries=%{marker.size}<extra></extra>\",\"hovertext\":[\"Europe\"],\"ids\":[\"Europe\"],\"legendgroup\":\"Europe\",\"marker\":{\"color\":\"#636efa\",\"size\":[42],\"sizemode\":\"area\",\"sizeref\":0.1225,\"symbol\":\"circle\"},\"mode\":\"markers\",\"name\":\"Europe\",\"orientation\":\"v\",\"showlegend\":true,\"type\":\"scatter\",\"x\":[45476281.88259671],\"xaxis\":\"x\",\"y\":[149584050.25615966],\"yaxis\":\"y\"},{\"hovertemplate\":\"<b>%{hovertext}</b><br><br>Continent=Asia<br>Year=2010<br>Quantity=%{x}<br>Trade (USD)=%{y}<br>Nr of Countries=%{marker.size}<extra></extra>\",\"hovertext\":[\"Asia\"],\"ids\":[\"Asia\"],\"legendgroup\":\"Asia\",\"marker\":{\"color\":\"#EF553B\",\"size\":[44],\"sizemode\":\"area\",\"sizeref\":0.1225,\"symbol\":\"circle\"},\"mode\":\"markers\",\"name\":\"Asia\",\"orientation\":\"v\",\"showlegend\":true,\"type\":\"scatter\",\"x\":[23643486.48925926],\"xaxis\":\"x\",\"y\":[75849741.00134571],\"yaxis\":\"y\"},{\"hovertemplate\":\"<b>%{hovertext}</b><br><br>Continent=Oceania<br>Year=2010<br>Quantity=%{x}<br>Trade (USD)=%{y}<br>Nr of Countries=%{marker.size}<extra></extra>\",\"hovertext\":[\"Oceania\"],\"ids\":[\"Oceania\"],\"legendgroup\":\"Oceania\",\"marker\":{\"color\":\"#00cc96\",\"size\":[15],\"sizemode\":\"area\",\"sizeref\":0.1225,\"symbol\":\"circle\"},\"mode\":\"markers\",\"name\":\"Oceania\",\"orientation\":\"v\",\"showlegend\":true,\"type\":\"scatter\",\"x\":[323769.4],\"xaxis\":\"x\",\"y\":[1268914.13245135],\"yaxis\":\"y\"},{\"hovertemplate\":\"<b>%{hovertext}</b><br><br>Continent=Americas<br>Year=2010<br>Quantity=%{x}<br>Trade (USD)=%{y}<br>Nr of Countries=%{marker.size}<extra></extra>\",\"hovertext\":[\"Americas\"],\"ids\":[\"Americas\"],\"legendgroup\":\"Americas\",\"marker\":{\"color\":\"#ab63fa\",\"size\":[43],\"sizemode\":\"area\",\"sizeref\":0.1225,\"symbol\":\"circle\"},\"mode\":\"markers\",\"name\":\"Americas\",\"orientation\":\"v\",\"showlegend\":true,\"type\":\"scatter\",\"x\":[21873037.2775],\"xaxis\":\"x\",\"y\":[69187190.36125],\"yaxis\":\"y\"},{\"hovertemplate\":\"<b>%{hovertext}</b><br><br>Continent=Africa<br>Year=2010<br>Quantity=%{x}<br>Trade (USD)=%{y}<br>Nr of Countries=%{marker.size}<extra></extra>\",\"hovertext\":[\"Africa\"],\"ids\":[\"Africa\"],\"legendgroup\":\"Africa\",\"marker\":{\"color\":\"#FFA15A\",\"size\":[49],\"sizemode\":\"area\",\"sizeref\":0.1225,\"symbol\":\"circle\"},\"mode\":\"markers\",\"name\":\"Africa\",\"orientation\":\"v\",\"showlegend\":true,\"type\":\"scatter\",\"x\":[283687.66107142856],\"xaxis\":\"x\",\"y\":[973840.600530197],\"yaxis\":\"y\"}],\"name\":\"2010\"},{\"data\":[{\"hovertemplate\":\"<b>%{hovertext}</b><br><br>Continent=Europe<br>Year=2011<br>Quantity=%{x}<br>Trade (USD)=%{y}<br>Nr of Countries=%{marker.size}<extra></extra>\",\"hovertext\":[\"Europe\"],\"ids\":[\"Europe\"],\"legendgroup\":\"Europe\",\"marker\":{\"color\":\"#636efa\",\"size\":[42],\"sizemode\":\"area\",\"sizeref\":0.1225,\"symbol\":\"circle\"},\"mode\":\"markers\",\"name\":\"Europe\",\"orientation\":\"v\",\"showlegend\":true,\"type\":\"scatter\",\"x\":[54073920.137392215],\"xaxis\":\"x\",\"y\":[179405900.96297386],\"yaxis\":\"y\"},{\"hovertemplate\":\"<b>%{hovertext}</b><br><br>Continent=Asia<br>Year=2011<br>Quantity=%{x}<br>Trade (USD)=%{y}<br>Nr of Countries=%{marker.size}<extra></extra>\",\"hovertext\":[\"Asia\"],\"ids\":[\"Asia\"],\"legendgroup\":\"Asia\",\"marker\":{\"color\":\"#EF553B\",\"size\":[44],\"sizemode\":\"area\",\"sizeref\":0.1225,\"symbol\":\"circle\"},\"mode\":\"markers\",\"name\":\"Asia\",\"orientation\":\"v\",\"showlegend\":true,\"type\":\"scatter\",\"x\":[25742054.638076924],\"xaxis\":\"x\",\"y\":[83634787.05296436],\"yaxis\":\"y\"},{\"hovertemplate\":\"<b>%{hovertext}</b><br><br>Continent=Oceania<br>Year=2011<br>Quantity=%{x}<br>Trade (USD)=%{y}<br>Nr of Countries=%{marker.size}<extra></extra>\",\"hovertext\":[\"Oceania\"],\"ids\":[\"Oceania\"],\"legendgroup\":\"Oceania\",\"marker\":{\"color\":\"#00cc96\",\"size\":[15],\"sizemode\":\"area\",\"sizeref\":0.1225,\"symbol\":\"circle\"},\"mode\":\"markers\",\"name\":\"Oceania\",\"orientation\":\"v\",\"showlegend\":true,\"type\":\"scatter\",\"x\":[156494.38401319445],\"xaxis\":\"x\",\"y\":[720159.4444444445],\"yaxis\":\"y\"},{\"hovertemplate\":\"<b>%{hovertext}</b><br><br>Continent=Americas<br>Year=2011<br>Quantity=%{x}<br>Trade (USD)=%{y}<br>Nr of Countries=%{marker.size}<extra></extra>\",\"hovertext\":[\"Americas\"],\"ids\":[\"Americas\"],\"legendgroup\":\"Americas\",\"marker\":{\"color\":\"#ab63fa\",\"size\":[43],\"sizemode\":\"area\",\"sizeref\":0.1225,\"symbol\":\"circle\"},\"mode\":\"markers\",\"name\":\"Americas\",\"orientation\":\"v\",\"showlegend\":true,\"type\":\"scatter\",\"x\":[24999569.890833333],\"xaxis\":\"x\",\"y\":[78006868.31541666],\"yaxis\":\"y\"},{\"hovertemplate\":\"<b>%{hovertext}</b><br><br>Continent=Africa<br>Year=2011<br>Quantity=%{x}<br>Trade (USD)=%{y}<br>Nr of Countries=%{marker.size}<extra></extra>\",\"hovertext\":[\"Africa\"],\"ids\":[\"Africa\"],\"legendgroup\":\"Africa\",\"marker\":{\"color\":\"#FFA15A\",\"size\":[49],\"sizemode\":\"area\",\"sizeref\":0.1225,\"symbol\":\"circle\"},\"mode\":\"markers\",\"name\":\"Africa\",\"orientation\":\"v\",\"showlegend\":true,\"type\":\"scatter\",\"x\":[2002394.6937499999],\"xaxis\":\"x\",\"y\":[68850375.90839808],\"yaxis\":\"y\"}],\"name\":\"2011\"},{\"data\":[{\"hovertemplate\":\"<b>%{hovertext}</b><br><br>Continent=Europe<br>Year=2012<br>Quantity=%{x}<br>Trade (USD)=%{y}<br>Nr of Countries=%{marker.size}<extra></extra>\",\"hovertext\":[\"Europe\"],\"ids\":[\"Europe\"],\"legendgroup\":\"Europe\",\"marker\":{\"color\":\"#636efa\",\"size\":[42],\"sizemode\":\"area\",\"sizeref\":0.1225,\"symbol\":\"circle\"},\"mode\":\"markers\",\"name\":\"Europe\",\"orientation\":\"v\",\"showlegend\":true,\"type\":\"scatter\",\"x\":[48475147.3523833],\"xaxis\":\"x\",\"y\":[136224265.95667127],\"yaxis\":\"y\"},{\"hovertemplate\":\"<b>%{hovertext}</b><br><br>Continent=Asia<br>Year=2012<br>Quantity=%{x}<br>Trade (USD)=%{y}<br>Nr of Countries=%{marker.size}<extra></extra>\",\"hovertext\":[\"Asia\"],\"ids\":[\"Asia\"],\"legendgroup\":\"Asia\",\"marker\":{\"color\":\"#EF553B\",\"size\":[44],\"sizemode\":\"area\",\"sizeref\":0.1225,\"symbol\":\"circle\"},\"mode\":\"markers\",\"name\":\"Asia\",\"orientation\":\"v\",\"showlegend\":true,\"type\":\"scatter\",\"x\":[25086327.568888888],\"xaxis\":\"x\",\"y\":[67559207.08804557],\"yaxis\":\"y\"},{\"hovertemplate\":\"<b>%{hovertext}</b><br><br>Continent=Oceania<br>Year=2012<br>Quantity=%{x}<br>Trade (USD)=%{y}<br>Nr of Countries=%{marker.size}<extra></extra>\",\"hovertext\":[\"Oceania\"],\"ids\":[\"Oceania\"],\"legendgroup\":\"Oceania\",\"marker\":{\"color\":\"#00cc96\",\"size\":[15],\"sizemode\":\"area\",\"sizeref\":0.1225,\"symbol\":\"circle\"},\"mode\":\"markers\",\"name\":\"Oceania\",\"orientation\":\"v\",\"showlegend\":true,\"type\":\"scatter\",\"x\":[301738.4285714286],\"xaxis\":\"x\",\"y\":[926369.16289064],\"yaxis\":\"y\"},{\"hovertemplate\":\"<b>%{hovertext}</b><br><br>Continent=Americas<br>Year=2012<br>Quantity=%{x}<br>Trade (USD)=%{y}<br>Nr of Countries=%{marker.size}<extra></extra>\",\"hovertext\":[\"Americas\"],\"ids\":[\"Americas\"],\"legendgroup\":\"Americas\",\"marker\":{\"color\":\"#ab63fa\",\"size\":[43],\"sizemode\":\"area\",\"sizeref\":0.1225,\"symbol\":\"circle\"},\"mode\":\"markers\",\"name\":\"Americas\",\"orientation\":\"v\",\"showlegend\":true,\"type\":\"scatter\",\"x\":[22209703.826685715],\"xaxis\":\"x\",\"y\":[55114584.85],\"yaxis\":\"y\"},{\"hovertemplate\":\"<b>%{hovertext}</b><br><br>Continent=Africa<br>Year=2012<br>Quantity=%{x}<br>Trade (USD)=%{y}<br>Nr of Countries=%{marker.size}<extra></extra>\",\"hovertext\":[\"Africa\"],\"ids\":[\"Africa\"],\"legendgroup\":\"Africa\",\"marker\":{\"color\":\"#FFA15A\",\"size\":[49],\"sizemode\":\"area\",\"sizeref\":0.1225,\"symbol\":\"circle\"},\"mode\":\"markers\",\"name\":\"Africa\",\"orientation\":\"v\",\"showlegend\":true,\"type\":\"scatter\",\"x\":[521220.29916666663],\"xaxis\":\"x\",\"y\":[1301773.8754626466],\"yaxis\":\"y\"}],\"name\":\"2012\"},{\"data\":[{\"hovertemplate\":\"<b>%{hovertext}</b><br><br>Continent=Europe<br>Year=2013<br>Quantity=%{x}<br>Trade (USD)=%{y}<br>Nr of Countries=%{marker.size}<extra></extra>\",\"hovertext\":[\"Europe\"],\"ids\":[\"Europe\"],\"legendgroup\":\"Europe\",\"marker\":{\"color\":\"#636efa\",\"size\":[42],\"sizemode\":\"area\",\"sizeref\":0.1225,\"symbol\":\"circle\"},\"mode\":\"markers\",\"name\":\"Europe\",\"orientation\":\"v\",\"showlegend\":true,\"type\":\"scatter\",\"x\":[45656615.710425325],\"xaxis\":\"x\",\"y\":[122200291.88397305],\"yaxis\":\"y\"},{\"hovertemplate\":\"<b>%{hovertext}</b><br><br>Continent=Asia<br>Year=2013<br>Quantity=%{x}<br>Trade (USD)=%{y}<br>Nr of Countries=%{marker.size}<extra></extra>\",\"hovertext\":[\"Asia\"],\"ids\":[\"Asia\"],\"legendgroup\":\"Asia\",\"marker\":{\"color\":\"#EF553B\",\"size\":[44],\"sizemode\":\"area\",\"sizeref\":0.1225,\"symbol\":\"circle\"},\"mode\":\"markers\",\"name\":\"Asia\",\"orientation\":\"v\",\"showlegend\":true,\"type\":\"scatter\",\"x\":[22969231.944285717],\"xaxis\":\"x\",\"y\":[57955772.28255361],\"yaxis\":\"y\"},{\"hovertemplate\":\"<b>%{hovertext}</b><br><br>Continent=Oceania<br>Year=2013<br>Quantity=%{x}<br>Trade (USD)=%{y}<br>Nr of Countries=%{marker.size}<extra></extra>\",\"hovertext\":[\"Oceania\"],\"ids\":[\"Oceania\"],\"legendgroup\":\"Oceania\",\"marker\":{\"color\":\"#00cc96\",\"size\":[15],\"sizemode\":\"area\",\"sizeref\":0.1225,\"symbol\":\"circle\"},\"mode\":\"markers\",\"name\":\"Oceania\",\"orientation\":\"v\",\"showlegend\":true,\"type\":\"scatter\",\"x\":[206304.33333333334],\"xaxis\":\"x\",\"y\":[611164.4818947823],\"yaxis\":\"y\"},{\"hovertemplate\":\"<b>%{hovertext}</b><br><br>Continent=Americas<br>Year=2013<br>Quantity=%{x}<br>Trade (USD)=%{y}<br>Nr of Countries=%{marker.size}<extra></extra>\",\"hovertext\":[\"Americas\"],\"ids\":[\"Americas\"],\"legendgroup\":\"Americas\",\"marker\":{\"color\":\"#ab63fa\",\"size\":[43],\"sizemode\":\"area\",\"sizeref\":0.1225,\"symbol\":\"circle\"},\"mode\":\"markers\",\"name\":\"Americas\",\"orientation\":\"v\",\"showlegend\":true,\"type\":\"scatter\",\"x\":[22568078.98],\"xaxis\":\"x\",\"y\":[56607564.875599995],\"yaxis\":\"y\"},{\"hovertemplate\":\"<b>%{hovertext}</b><br><br>Continent=Africa<br>Year=2013<br>Quantity=%{x}<br>Trade (USD)=%{y}<br>Nr of Countries=%{marker.size}<extra></extra>\",\"hovertext\":[\"Africa\"],\"ids\":[\"Africa\"],\"legendgroup\":\"Africa\",\"marker\":{\"color\":\"#FFA15A\",\"size\":[49],\"sizemode\":\"area\",\"sizeref\":0.1225,\"symbol\":\"circle\"},\"mode\":\"markers\",\"name\":\"Africa\",\"orientation\":\"v\",\"showlegend\":true,\"type\":\"scatter\",\"x\":[608966.2920178778],\"xaxis\":\"x\",\"y\":[3371660.65616774],\"yaxis\":\"y\"}],\"name\":\"2013\"},{\"data\":[{\"hovertemplate\":\"<b>%{hovertext}</b><br><br>Continent=Europe<br>Year=2014<br>Quantity=%{x}<br>Trade (USD)=%{y}<br>Nr of Countries=%{marker.size}<extra></extra>\",\"hovertext\":[\"Europe\"],\"ids\":[\"Europe\"],\"legendgroup\":\"Europe\",\"marker\":{\"color\":\"#636efa\",\"size\":[42],\"sizemode\":\"area\",\"sizeref\":0.1225,\"symbol\":\"circle\"},\"mode\":\"markers\",\"name\":\"Europe\",\"orientation\":\"v\",\"showlegend\":true,\"type\":\"scatter\",\"x\":[45594817.510327585],\"xaxis\":\"x\",\"y\":[140387288.390662],\"yaxis\":\"y\"},{\"hovertemplate\":\"<b>%{hovertext}</b><br><br>Continent=Asia<br>Year=2014<br>Quantity=%{x}<br>Trade (USD)=%{y}<br>Nr of Countries=%{marker.size}<extra></extra>\",\"hovertext\":[\"Asia\"],\"ids\":[\"Asia\"],\"legendgroup\":\"Asia\",\"marker\":{\"color\":\"#EF553B\",\"size\":[44],\"sizemode\":\"area\",\"sizeref\":0.1225,\"symbol\":\"circle\"},\"mode\":\"markers\",\"name\":\"Asia\",\"orientation\":\"v\",\"showlegend\":true,\"type\":\"scatter\",\"x\":[26668929.771851853],\"xaxis\":\"x\",\"y\":[82698452.1546456],\"yaxis\":\"y\"},{\"hovertemplate\":\"<b>%{hovertext}</b><br><br>Continent=Oceania<br>Year=2014<br>Quantity=%{x}<br>Trade (USD)=%{y}<br>Nr of Countries=%{marker.size}<extra></extra>\",\"hovertext\":[\"Oceania\"],\"ids\":[\"Oceania\"],\"legendgroup\":\"Oceania\",\"marker\":{\"color\":\"#00cc96\",\"size\":[15],\"sizemode\":\"area\",\"sizeref\":0.1225,\"symbol\":\"circle\"},\"mode\":\"markers\",\"name\":\"Oceania\",\"orientation\":\"v\",\"showlegend\":true,\"type\":\"scatter\",\"x\":[294484.85714285716],\"xaxis\":\"x\",\"y\":[932414.2100192343],\"yaxis\":\"y\"},{\"hovertemplate\":\"<b>%{hovertext}</b><br><br>Continent=Americas<br>Year=2014<br>Quantity=%{x}<br>Trade (USD)=%{y}<br>Nr of Countries=%{marker.size}<extra></extra>\",\"hovertext\":[\"Americas\"],\"ids\":[\"Americas\"],\"legendgroup\":\"Americas\",\"marker\":{\"color\":\"#ab63fa\",\"size\":[43],\"sizemode\":\"area\",\"sizeref\":0.1225,\"symbol\":\"circle\"},\"mode\":\"markers\",\"name\":\"Americas\",\"orientation\":\"v\",\"showlegend\":true,\"type\":\"scatter\",\"x\":[24111427.624166667],\"xaxis\":\"x\",\"y\":[74095282.40291665],\"yaxis\":\"y\"},{\"hovertemplate\":\"<b>%{hovertext}</b><br><br>Continent=Africa<br>Year=2014<br>Quantity=%{x}<br>Trade (USD)=%{y}<br>Nr of Countries=%{marker.size}<extra></extra>\",\"hovertext\":[\"Africa\"],\"ids\":[\"Africa\"],\"legendgroup\":\"Africa\",\"marker\":{\"color\":\"#FFA15A\",\"size\":[49],\"sizemode\":\"area\",\"sizeref\":0.1225,\"symbol\":\"circle\"},\"mode\":\"markers\",\"name\":\"Africa\",\"orientation\":\"v\",\"showlegend\":true,\"type\":\"scatter\",\"x\":[546992.5427578188],\"xaxis\":\"x\",\"y\":[1610295.0127018096],\"yaxis\":\"y\"}],\"name\":\"2014\"},{\"data\":[{\"hovertemplate\":\"<b>%{hovertext}</b><br><br>Continent=Europe<br>Year=2015<br>Quantity=%{x}<br>Trade (USD)=%{y}<br>Nr of Countries=%{marker.size}<extra></extra>\",\"hovertext\":[\"Europe\"],\"ids\":[\"Europe\"],\"legendgroup\":\"Europe\",\"marker\":{\"color\":\"#636efa\",\"size\":[42],\"sizemode\":\"area\",\"sizeref\":0.1225,\"symbol\":\"circle\"},\"mode\":\"markers\",\"name\":\"Europe\",\"orientation\":\"v\",\"showlegend\":true,\"type\":\"scatter\",\"x\":[48641635.779902264],\"xaxis\":\"x\",\"y\":[152128121.34782326],\"yaxis\":\"y\"},{\"hovertemplate\":\"<b>%{hovertext}</b><br><br>Continent=Asia<br>Year=2015<br>Quantity=%{x}<br>Trade (USD)=%{y}<br>Nr of Countries=%{marker.size}<extra></extra>\",\"hovertext\":[\"Asia\"],\"ids\":[\"Asia\"],\"legendgroup\":\"Asia\",\"marker\":{\"color\":\"#EF553B\",\"size\":[44],\"sizemode\":\"area\",\"sizeref\":0.1225,\"symbol\":\"circle\"},\"mode\":\"markers\",\"name\":\"Asia\",\"orientation\":\"v\",\"showlegend\":true,\"type\":\"scatter\",\"x\":[19136884.03000991],\"xaxis\":\"x\",\"y\":[60598267.80435799],\"yaxis\":\"y\"},{\"hovertemplate\":\"<b>%{hovertext}</b><br><br>Continent=Oceania<br>Year=2015<br>Quantity=%{x}<br>Trade (USD)=%{y}<br>Nr of Countries=%{marker.size}<extra></extra>\",\"hovertext\":[\"Oceania\"],\"ids\":[\"Oceania\"],\"legendgroup\":\"Oceania\",\"marker\":{\"color\":\"#00cc96\",\"size\":[15],\"sizemode\":\"area\",\"sizeref\":0.1225,\"symbol\":\"circle\"},\"mode\":\"markers\",\"name\":\"Oceania\",\"orientation\":\"v\",\"showlegend\":true,\"type\":\"scatter\",\"x\":[490632.1666666667],\"xaxis\":\"x\",\"y\":[2026819.345147533],\"yaxis\":\"y\"},{\"hovertemplate\":\"<b>%{hovertext}</b><br><br>Continent=Americas<br>Year=2015<br>Quantity=%{x}<br>Trade (USD)=%{y}<br>Nr of Countries=%{marker.size}<extra></extra>\",\"hovertext\":[\"Americas\"],\"ids\":[\"Americas\"],\"legendgroup\":\"Americas\",\"marker\":{\"color\":\"#ab63fa\",\"size\":[43],\"sizemode\":\"area\",\"sizeref\":0.1225,\"symbol\":\"circle\"},\"mode\":\"markers\",\"name\":\"Americas\",\"orientation\":\"v\",\"showlegend\":true,\"type\":\"scatter\",\"x\":[21126363.50892857],\"xaxis\":\"x\",\"y\":[64728611.63742753],\"yaxis\":\"y\"},{\"hovertemplate\":\"<b>%{hovertext}</b><br><br>Continent=Africa<br>Year=2015<br>Quantity=%{x}<br>Trade (USD)=%{y}<br>Nr of Countries=%{marker.size}<extra></extra>\",\"hovertext\":[\"Africa\"],\"ids\":[\"Africa\"],\"legendgroup\":\"Africa\",\"marker\":{\"color\":\"#FFA15A\",\"size\":[49],\"sizemode\":\"area\",\"sizeref\":0.1225,\"symbol\":\"circle\"},\"mode\":\"markers\",\"name\":\"Africa\",\"orientation\":\"v\",\"showlegend\":true,\"type\":\"scatter\",\"x\":[235923.0489164076],\"xaxis\":\"x\",\"y\":[712965.1643009186],\"yaxis\":\"y\"}],\"name\":\"2015\"},{\"data\":[{\"hovertemplate\":\"<b>%{hovertext}</b><br><br>Continent=Europe<br>Year=2016<br>Quantity=%{x}<br>Trade (USD)=%{y}<br>Nr of Countries=%{marker.size}<extra></extra>\",\"hovertext\":[\"Europe\"],\"ids\":[\"Europe\"],\"legendgroup\":\"Europe\",\"marker\":{\"color\":\"#636efa\",\"size\":[42],\"sizemode\":\"area\",\"sizeref\":0.1225,\"symbol\":\"circle\"},\"mode\":\"markers\",\"name\":\"Europe\",\"orientation\":\"v\",\"showlegend\":true,\"type\":\"scatter\",\"x\":[52922687.02224995],\"xaxis\":\"x\",\"y\":[169131565.65156522],\"yaxis\":\"y\"},{\"hovertemplate\":\"<b>%{hovertext}</b><br><br>Continent=Asia<br>Year=2016<br>Quantity=%{x}<br>Trade (USD)=%{y}<br>Nr of Countries=%{marker.size}<extra></extra>\",\"hovertext\":[\"Asia\"],\"ids\":[\"Asia\"],\"legendgroup\":\"Asia\",\"marker\":{\"color\":\"#EF553B\",\"size\":[44],\"sizemode\":\"area\",\"sizeref\":0.1225,\"symbol\":\"circle\"},\"mode\":\"markers\",\"name\":\"Asia\",\"orientation\":\"v\",\"showlegend\":true,\"type\":\"scatter\",\"x\":[19654327.36152766],\"xaxis\":\"x\",\"y\":[62184808.076796085],\"yaxis\":\"y\"},{\"hovertemplate\":\"<b>%{hovertext}</b><br><br>Continent=Oceania<br>Year=2016<br>Quantity=%{x}<br>Trade (USD)=%{y}<br>Nr of Countries=%{marker.size}<extra></extra>\",\"hovertext\":[\"Oceania\"],\"ids\":[\"Oceania\"],\"legendgroup\":\"Oceania\",\"marker\":{\"color\":\"#00cc96\",\"size\":[15],\"sizemode\":\"area\",\"sizeref\":0.1225,\"symbol\":\"circle\"},\"mode\":\"markers\",\"name\":\"Oceania\",\"orientation\":\"v\",\"showlegend\":true,\"type\":\"scatter\",\"x\":[661540.75],\"xaxis\":\"x\",\"y\":[2486772.47790124],\"yaxis\":\"y\"},{\"hovertemplate\":\"<b>%{hovertext}</b><br><br>Continent=Americas<br>Year=2016<br>Quantity=%{x}<br>Trade (USD)=%{y}<br>Nr of Countries=%{marker.size}<extra></extra>\",\"hovertext\":[\"Americas\"],\"ids\":[\"Americas\"],\"legendgroup\":\"Americas\",\"marker\":{\"color\":\"#ab63fa\",\"size\":[43],\"sizemode\":\"area\",\"sizeref\":0.1225,\"symbol\":\"circle\"},\"mode\":\"markers\",\"name\":\"Americas\",\"orientation\":\"v\",\"showlegend\":true,\"type\":\"scatter\",\"x\":[25118035.328393787],\"xaxis\":\"x\",\"y\":[79073292.27230625],\"yaxis\":\"y\"},{\"hovertemplate\":\"<b>%{hovertext}</b><br><br>Continent=Africa<br>Year=2016<br>Quantity=%{x}<br>Trade (USD)=%{y}<br>Nr of Countries=%{marker.size}<extra></extra>\",\"hovertext\":[\"Africa\"],\"ids\":[\"Africa\"],\"legendgroup\":\"Africa\",\"marker\":{\"color\":\"#FFA15A\",\"size\":[49],\"sizemode\":\"area\",\"sizeref\":0.1225,\"symbol\":\"circle\"},\"mode\":\"markers\",\"name\":\"Africa\",\"orientation\":\"v\",\"showlegend\":true,\"type\":\"scatter\",\"x\":[244536.4258902996],\"xaxis\":\"x\",\"y\":[760427.2985982553],\"yaxis\":\"y\"}],\"name\":\"2016\"},{\"data\":[{\"hovertemplate\":\"<b>%{hovertext}</b><br><br>Continent=Europe<br>Year=2017<br>Quantity=%{x}<br>Trade (USD)=%{y}<br>Nr of Countries=%{marker.size}<extra></extra>\",\"hovertext\":[\"Europe\"],\"ids\":[\"Europe\"],\"legendgroup\":\"Europe\",\"marker\":{\"color\":\"#636efa\",\"size\":[42],\"sizemode\":\"area\",\"sizeref\":0.1225,\"symbol\":\"circle\"},\"mode\":\"markers\",\"name\":\"Europe\",\"orientation\":\"v\",\"showlegend\":true,\"type\":\"scatter\",\"x\":[60122843.16891841],\"xaxis\":\"x\",\"y\":[154515711.93819338],\"yaxis\":\"y\"},{\"hovertemplate\":\"<b>%{hovertext}</b><br><br>Continent=Asia<br>Year=2017<br>Quantity=%{x}<br>Trade (USD)=%{y}<br>Nr of Countries=%{marker.size}<extra></extra>\",\"hovertext\":[\"Asia\"],\"ids\":[\"Asia\"],\"legendgroup\":\"Asia\",\"marker\":{\"color\":\"#EF553B\",\"size\":[44],\"sizemode\":\"area\",\"sizeref\":0.1225,\"symbol\":\"circle\"},\"mode\":\"markers\",\"name\":\"Asia\",\"orientation\":\"v\",\"showlegend\":true,\"type\":\"scatter\",\"x\":[28721381.508676745],\"xaxis\":\"x\",\"y\":[68321514.53510377],\"yaxis\":\"y\"},{\"hovertemplate\":\"<b>%{hovertext}</b><br><br>Continent=Oceania<br>Year=2017<br>Quantity=%{x}<br>Trade (USD)=%{y}<br>Nr of Countries=%{marker.size}<extra></extra>\",\"hovertext\":[\"Oceania\"],\"ids\":[\"Oceania\"],\"legendgroup\":\"Oceania\",\"marker\":{\"color\":\"#00cc96\",\"size\":[15],\"sizemode\":\"area\",\"sizeref\":0.1225,\"symbol\":\"circle\"},\"mode\":\"markers\",\"name\":\"Oceania\",\"orientation\":\"v\",\"showlegend\":true,\"type\":\"scatter\",\"x\":[545763.995],\"xaxis\":\"x\",\"y\":[2039932.8530674025],\"yaxis\":\"y\"},{\"hovertemplate\":\"<b>%{hovertext}</b><br><br>Continent=Americas<br>Year=2017<br>Quantity=%{x}<br>Trade (USD)=%{y}<br>Nr of Countries=%{marker.size}<extra></extra>\",\"hovertext\":[\"Americas\"],\"ids\":[\"Americas\"],\"legendgroup\":\"Americas\",\"marker\":{\"color\":\"#ab63fa\",\"size\":[43],\"sizemode\":\"area\",\"sizeref\":0.1225,\"symbol\":\"circle\"},\"mode\":\"markers\",\"name\":\"Americas\",\"orientation\":\"v\",\"showlegend\":true,\"type\":\"scatter\",\"x\":[27420607.913475294],\"xaxis\":\"x\",\"y\":[78579966.98643492],\"yaxis\":\"y\"},{\"hovertemplate\":\"<b>%{hovertext}</b><br><br>Continent=Africa<br>Year=2017<br>Quantity=%{x}<br>Trade (USD)=%{y}<br>Nr of Countries=%{marker.size}<extra></extra>\",\"hovertext\":[\"Africa\"],\"ids\":[\"Africa\"],\"legendgroup\":\"Africa\",\"marker\":{\"color\":\"#FFA15A\",\"size\":[49],\"sizemode\":\"area\",\"sizeref\":0.1225,\"symbol\":\"circle\"},\"mode\":\"markers\",\"name\":\"Africa\",\"orientation\":\"v\",\"showlegend\":true,\"type\":\"scatter\",\"x\":[296367.9559906297],\"xaxis\":\"x\",\"y\":[695271.4584535334],\"yaxis\":\"y\"}],\"name\":\"2017\"},{\"data\":[{\"hovertemplate\":\"<b>%{hovertext}</b><br><br>Continent=Europe<br>Year=2018<br>Quantity=%{x}<br>Trade (USD)=%{y}<br>Nr of Countries=%{marker.size}<extra></extra>\",\"hovertext\":[\"Europe\"],\"ids\":[\"Europe\"],\"legendgroup\":\"Europe\",\"marker\":{\"color\":\"#636efa\",\"size\":[42],\"sizemode\":\"area\",\"sizeref\":0.1225,\"symbol\":\"circle\"},\"mode\":\"markers\",\"name\":\"Europe\",\"orientation\":\"v\",\"showlegend\":true,\"type\":\"scatter\",\"x\":[60070673.1367199],\"xaxis\":\"x\",\"y\":[143934485.29849485],\"yaxis\":\"y\"},{\"hovertemplate\":\"<b>%{hovertext}</b><br><br>Continent=Asia<br>Year=2018<br>Quantity=%{x}<br>Trade (USD)=%{y}<br>Nr of Countries=%{marker.size}<extra></extra>\",\"hovertext\":[\"Asia\"],\"ids\":[\"Asia\"],\"legendgroup\":\"Asia\",\"marker\":{\"color\":\"#EF553B\",\"size\":[44],\"sizemode\":\"area\",\"sizeref\":0.1225,\"symbol\":\"circle\"},\"mode\":\"markers\",\"name\":\"Asia\",\"orientation\":\"v\",\"showlegend\":true,\"type\":\"scatter\",\"x\":[31713232.183908448],\"xaxis\":\"x\",\"y\":[80302980.71936063],\"yaxis\":\"y\"},{\"hovertemplate\":\"<b>%{hovertext}</b><br><br>Continent=Oceania<br>Year=2018<br>Quantity=%{x}<br>Trade (USD)=%{y}<br>Nr of Countries=%{marker.size}<extra></extra>\",\"hovertext\":[\"Oceania\"],\"ids\":[\"Oceania\"],\"legendgroup\":\"Oceania\",\"marker\":{\"color\":\"#00cc96\",\"size\":[15],\"sizemode\":\"area\",\"sizeref\":0.1225,\"symbol\":\"circle\"},\"mode\":\"markers\",\"name\":\"Oceania\",\"orientation\":\"v\",\"showlegend\":true,\"type\":\"scatter\",\"x\":[585156.1722860903],\"xaxis\":\"x\",\"y\":[1481986.8868787314],\"yaxis\":\"y\"},{\"hovertemplate\":\"<b>%{hovertext}</b><br><br>Continent=Americas<br>Year=2018<br>Quantity=%{x}<br>Trade (USD)=%{y}<br>Nr of Countries=%{marker.size}<extra></extra>\",\"hovertext\":[\"Americas\"],\"ids\":[\"Americas\"],\"legendgroup\":\"Americas\",\"marker\":{\"color\":\"#ab63fa\",\"size\":[43],\"sizemode\":\"area\",\"sizeref\":0.1225,\"symbol\":\"circle\"},\"mode\":\"markers\",\"name\":\"Americas\",\"orientation\":\"v\",\"showlegend\":true,\"type\":\"scatter\",\"x\":[27304895.67157895],\"xaxis\":\"x\",\"y\":[76227535.05539517],\"yaxis\":\"y\"},{\"hovertemplate\":\"<b>%{hovertext}</b><br><br>Continent=Africa<br>Year=2018<br>Quantity=%{x}<br>Trade (USD)=%{y}<br>Nr of Countries=%{marker.size}<extra></extra>\",\"hovertext\":[\"Africa\"],\"ids\":[\"Africa\"],\"legendgroup\":\"Africa\",\"marker\":{\"color\":\"#FFA15A\",\"size\":[49],\"sizemode\":\"area\",\"sizeref\":0.1225,\"symbol\":\"circle\"},\"mode\":\"markers\",\"name\":\"Africa\",\"orientation\":\"v\",\"showlegend\":true,\"type\":\"scatter\",\"x\":[30368.58516727164],\"xaxis\":\"x\",\"y\":[68908.47624944495],\"yaxis\":\"y\"}],\"name\":\"2018\"},{\"data\":[{\"hovertemplate\":\"<b>%{hovertext}</b><br><br>Continent=Europe<br>Year=2019<br>Quantity=%{x}<br>Trade (USD)=%{y}<br>Nr of Countries=%{marker.size}<extra></extra>\",\"hovertext\":[\"Europe\"],\"ids\":[\"Europe\"],\"legendgroup\":\"Europe\",\"marker\":{\"color\":\"#636efa\",\"size\":[42],\"sizemode\":\"area\",\"sizeref\":0.1225,\"symbol\":\"circle\"},\"mode\":\"markers\",\"name\":\"Europe\",\"orientation\":\"v\",\"showlegend\":true,\"type\":\"scatter\",\"x\":[9974115.200989446],\"xaxis\":\"x\",\"y\":[27046313.92778598],\"yaxis\":\"y\"},{\"hovertemplate\":\"<b>%{hovertext}</b><br><br>Continent=Asia<br>Year=2019<br>Quantity=%{x}<br>Trade (USD)=%{y}<br>Nr of Countries=%{marker.size}<extra></extra>\",\"hovertext\":[\"Asia\"],\"ids\":[\"Asia\"],\"legendgroup\":\"Asia\",\"marker\":{\"color\":\"#EF553B\",\"size\":[44],\"sizemode\":\"area\",\"sizeref\":0.1225,\"symbol\":\"circle\"},\"mode\":\"markers\",\"name\":\"Asia\",\"orientation\":\"v\",\"showlegend\":true,\"type\":\"scatter\",\"x\":[14052719.049999999],\"xaxis\":\"x\",\"y\":[36852462.530839995],\"yaxis\":\"y\"},{\"hovertemplate\":\"<b>%{hovertext}</b><br><br>Continent=Americas<br>Year=2019<br>Quantity=%{x}<br>Trade (USD)=%{y}<br>Nr of Countries=%{marker.size}<extra></extra>\",\"hovertext\":[\"Americas\"],\"ids\":[\"Americas\"],\"legendgroup\":\"Americas\",\"marker\":{\"color\":\"#ab63fa\",\"size\":[43],\"sizemode\":\"area\",\"sizeref\":0.1225,\"symbol\":\"circle\"},\"mode\":\"markers\",\"name\":\"Americas\",\"orientation\":\"v\",\"showlegend\":true,\"type\":\"scatter\",\"x\":[30683339.733333334],\"xaxis\":\"x\",\"y\":[75515972.81201667],\"yaxis\":\"y\"},{\"hovertemplate\":\"<b>%{hovertext}</b><br><br>Continent=Africa<br>Year=2019<br>Quantity=%{x}<br>Trade (USD)=%{y}<br>Nr of Countries=%{marker.size}<extra></extra>\",\"hovertext\":[\"Africa\"],\"ids\":[\"Africa\"],\"legendgroup\":\"Africa\",\"marker\":{\"color\":\"#FFA15A\",\"size\":[49],\"sizemode\":\"area\",\"sizeref\":0.1225,\"symbol\":\"circle\"},\"mode\":\"markers\",\"name\":\"Africa\",\"orientation\":\"v\",\"showlegend\":true,\"type\":\"scatter\",\"x\":[1708.0],\"xaxis\":\"x\",\"y\":[3180.14389056],\"yaxis\":\"y\"}],\"name\":\"2019\"}]);\n",
       "                        }).then(function(){\n",
       "                            \n",
       "var gd = document.getElementById('958ac8e7-6a66-4d1c-9446-6a8c9b1edac8');\n",
       "var x = new MutationObserver(function (mutations, observer) {{\n",
       "        var display = window.getComputedStyle(gd).display;\n",
       "        if (!display || display === 'none') {{\n",
       "            console.log([gd, 'removed!']);\n",
       "            Plotly.purge(gd);\n",
       "            observer.disconnect();\n",
       "        }}\n",
       "}});\n",
       "\n",
       "// Listen for the removal of the full notebook cells\n",
       "var notebookContainer = gd.closest('#notebook-container');\n",
       "if (notebookContainer) {{\n",
       "    x.observe(notebookContainer, {childList: true});\n",
       "}}\n",
       "\n",
       "// Listen for the clearing of the current output cell\n",
       "var outputEl = gd.closest('.output');\n",
       "if (outputEl) {{\n",
       "    x.observe(outputEl, {childList: true});\n",
       "}}\n",
       "\n",
       "                        })                };                });            </script>        </div>"
      ]
     },
     "metadata": {},
     "output_type": "display_data"
    }
   ],
   "source": [
    "scatter_flows(flow='Import')"
   ]
  },
  {
   "cell_type": "code",
   "execution_count": 1186,
   "metadata": {},
   "outputs": [
    {
     "data": {
      "application/vnd.plotly.v1+json": {
       "config": {
        "plotlyServerURL": "https://plot.ly"
       },
       "data": [
        {
         "hovertemplate": "<b>%{hovertext}</b><br><br>Continent=Africa<br>Year=1991<br>Quantity=%{x}<br>Trade (USD)=%{y}<br>Nr of Countries=%{marker.size}<extra></extra>",
         "hovertext": [
          "Africa"
         ],
         "ids": [
          "Africa"
         ],
         "legendgroup": "Africa",
         "marker": {
          "color": "#636efa",
          "size": [
           49
          ],
          "sizemode": "area",
          "sizeref": 0.1225,
          "symbol": "circle"
         },
         "mode": "markers",
         "name": "Africa",
         "orientation": "v",
         "showlegend": true,
         "type": "scatter",
         "x": [
          4272629
         ],
         "xaxis": "x",
         "y": [
          3971947
         ],
         "yaxis": "y"
        },
        {
         "hovertemplate": "<b>%{hovertext}</b><br><br>Continent=Europe<br>Year=1991<br>Quantity=%{x}<br>Trade (USD)=%{y}<br>Nr of Countries=%{marker.size}<extra></extra>",
         "hovertext": [
          "Europe"
         ],
         "ids": [
          "Europe"
         ],
         "legendgroup": "Europe",
         "marker": {
          "color": "#EF553B",
          "size": [
           42
          ],
          "sizemode": "area",
          "sizeref": 0.1225,
          "symbol": "circle"
         },
         "mode": "markers",
         "name": "Europe",
         "orientation": "v",
         "showlegend": true,
         "type": "scatter",
         "x": [
          270892.25
         ],
         "xaxis": "x",
         "y": [
          332382.25
         ],
         "yaxis": "y"
        },
        {
         "hovertemplate": "<b>%{hovertext}</b><br><br>Continent=Asia<br>Year=1991<br>Quantity=%{x}<br>Trade (USD)=%{y}<br>Nr of Countries=%{marker.size}<extra></extra>",
         "hovertext": [
          "Asia"
         ],
         "ids": [
          "Asia"
         ],
         "legendgroup": "Asia",
         "marker": {
          "color": "#00cc96",
          "size": [
           44
          ],
          "sizemode": "area",
          "sizeref": 0.1225,
          "symbol": "circle"
         },
         "mode": "markers",
         "name": "Asia",
         "orientation": "v",
         "showlegend": true,
         "type": "scatter",
         "x": [
          54075526.71428572
         ],
         "xaxis": "x",
         "y": [
          52738619.71428572
         ],
         "yaxis": "y"
        },
        {
         "hovertemplate": "<b>%{hovertext}</b><br><br>Continent=Americas<br>Year=1991<br>Quantity=%{x}<br>Trade (USD)=%{y}<br>Nr of Countries=%{marker.size}<extra></extra>",
         "hovertext": [
          "Americas"
         ],
         "ids": [
          "Americas"
         ],
         "legendgroup": "Americas",
         "marker": {
          "color": "#ab63fa",
          "size": [
           43
          ],
          "sizemode": "area",
          "sizeref": 0.1225,
          "symbol": "circle"
         },
         "mode": "markers",
         "name": "Americas",
         "orientation": "v",
         "showlegend": true,
         "type": "scatter",
         "x": [
          20037903.75
         ],
         "xaxis": "x",
         "y": [
          22811836.5
         ],
         "yaxis": "y"
        },
        {
         "hovertemplate": "<b>%{hovertext}</b><br><br>Continent=Oceania<br>Year=1991<br>Quantity=%{x}<br>Trade (USD)=%{y}<br>Nr of Countries=%{marker.size}<extra></extra>",
         "hovertext": [
          "Oceania"
         ],
         "ids": [
          "Oceania"
         ],
         "legendgroup": "Oceania",
         "marker": {
          "color": "#FFA15A",
          "size": [
           15
          ],
          "sizemode": "area",
          "sizeref": 0.1225,
          "symbol": "circle"
         },
         "mode": "markers",
         "name": "Oceania",
         "orientation": "v",
         "showlegend": true,
         "type": "scatter",
         "x": [
          1626.5
         ],
         "xaxis": "x",
         "y": [
          2965
         ],
         "yaxis": "y"
        }
       ],
       "frames": [
        {
         "data": [
          {
           "hovertemplate": "<b>%{hovertext}</b><br><br>Continent=Africa<br>Year=1991<br>Quantity=%{x}<br>Trade (USD)=%{y}<br>Nr of Countries=%{marker.size}<extra></extra>",
           "hovertext": [
            "Africa"
           ],
           "ids": [
            "Africa"
           ],
           "legendgroup": "Africa",
           "marker": {
            "color": "#636efa",
            "size": [
             49
            ],
            "sizemode": "area",
            "sizeref": 0.1225,
            "symbol": "circle"
           },
           "mode": "markers",
           "name": "Africa",
           "orientation": "v",
           "showlegend": true,
           "type": "scatter",
           "x": [
            4272629
           ],
           "xaxis": "x",
           "y": [
            3971947
           ],
           "yaxis": "y"
          },
          {
           "hovertemplate": "<b>%{hovertext}</b><br><br>Continent=Europe<br>Year=1991<br>Quantity=%{x}<br>Trade (USD)=%{y}<br>Nr of Countries=%{marker.size}<extra></extra>",
           "hovertext": [
            "Europe"
           ],
           "ids": [
            "Europe"
           ],
           "legendgroup": "Europe",
           "marker": {
            "color": "#EF553B",
            "size": [
             42
            ],
            "sizemode": "area",
            "sizeref": 0.1225,
            "symbol": "circle"
           },
           "mode": "markers",
           "name": "Europe",
           "orientation": "v",
           "showlegend": true,
           "type": "scatter",
           "x": [
            270892.25
           ],
           "xaxis": "x",
           "y": [
            332382.25
           ],
           "yaxis": "y"
          },
          {
           "hovertemplate": "<b>%{hovertext}</b><br><br>Continent=Asia<br>Year=1991<br>Quantity=%{x}<br>Trade (USD)=%{y}<br>Nr of Countries=%{marker.size}<extra></extra>",
           "hovertext": [
            "Asia"
           ],
           "ids": [
            "Asia"
           ],
           "legendgroup": "Asia",
           "marker": {
            "color": "#00cc96",
            "size": [
             44
            ],
            "sizemode": "area",
            "sizeref": 0.1225,
            "symbol": "circle"
           },
           "mode": "markers",
           "name": "Asia",
           "orientation": "v",
           "showlegend": true,
           "type": "scatter",
           "x": [
            54075526.71428572
           ],
           "xaxis": "x",
           "y": [
            52738619.71428572
           ],
           "yaxis": "y"
          },
          {
           "hovertemplate": "<b>%{hovertext}</b><br><br>Continent=Americas<br>Year=1991<br>Quantity=%{x}<br>Trade (USD)=%{y}<br>Nr of Countries=%{marker.size}<extra></extra>",
           "hovertext": [
            "Americas"
           ],
           "ids": [
            "Americas"
           ],
           "legendgroup": "Americas",
           "marker": {
            "color": "#ab63fa",
            "size": [
             43
            ],
            "sizemode": "area",
            "sizeref": 0.1225,
            "symbol": "circle"
           },
           "mode": "markers",
           "name": "Americas",
           "orientation": "v",
           "showlegend": true,
           "type": "scatter",
           "x": [
            20037903.75
           ],
           "xaxis": "x",
           "y": [
            22811836.5
           ],
           "yaxis": "y"
          },
          {
           "hovertemplate": "<b>%{hovertext}</b><br><br>Continent=Oceania<br>Year=1991<br>Quantity=%{x}<br>Trade (USD)=%{y}<br>Nr of Countries=%{marker.size}<extra></extra>",
           "hovertext": [
            "Oceania"
           ],
           "ids": [
            "Oceania"
           ],
           "legendgroup": "Oceania",
           "marker": {
            "color": "#FFA15A",
            "size": [
             15
            ],
            "sizemode": "area",
            "sizeref": 0.1225,
            "symbol": "circle"
           },
           "mode": "markers",
           "name": "Oceania",
           "orientation": "v",
           "showlegend": true,
           "type": "scatter",
           "x": [
            1626.5
           ],
           "xaxis": "x",
           "y": [
            2965
           ],
           "yaxis": "y"
          }
         ],
         "name": "1991"
        },
        {
         "data": [
          {
           "hovertemplate": "<b>%{hovertext}</b><br><br>Continent=Africa<br>Year=1992<br>Quantity=%{x}<br>Trade (USD)=%{y}<br>Nr of Countries=%{marker.size}<extra></extra>",
           "hovertext": [
            "Africa"
           ],
           "ids": [
            "Africa"
           ],
           "legendgroup": "Africa",
           "marker": {
            "color": "#636efa",
            "size": [
             49
            ],
            "sizemode": "area",
            "sizeref": 0.1225,
            "symbol": "circle"
           },
           "mode": "markers",
           "name": "Africa",
           "orientation": "v",
           "showlegend": true,
           "type": "scatter",
           "x": [
            1365323.5
           ],
           "xaxis": "x",
           "y": [
            1254805
           ],
           "yaxis": "y"
          },
          {
           "hovertemplate": "<b>%{hovertext}</b><br><br>Continent=Europe<br>Year=1992<br>Quantity=%{x}<br>Trade (USD)=%{y}<br>Nr of Countries=%{marker.size}<extra></extra>",
           "hovertext": [
            "Europe"
           ],
           "ids": [
            "Europe"
           ],
           "legendgroup": "Europe",
           "marker": {
            "color": "#EF553B",
            "size": [
             42
            ],
            "sizemode": "area",
            "sizeref": 0.1225,
            "symbol": "circle"
           },
           "mode": "markers",
           "name": "Europe",
           "orientation": "v",
           "showlegend": true,
           "type": "scatter",
           "x": [
            2700542.25
           ],
           "xaxis": "x",
           "y": [
            3117899.625
           ],
           "yaxis": "y"
          },
          {
           "hovertemplate": "<b>%{hovertext}</b><br><br>Continent=Asia<br>Year=1992<br>Quantity=%{x}<br>Trade (USD)=%{y}<br>Nr of Countries=%{marker.size}<extra></extra>",
           "hovertext": [
            "Asia"
           ],
           "ids": [
            "Asia"
           ],
           "legendgroup": "Asia",
           "marker": {
            "color": "#00cc96",
            "size": [
             44
            ],
            "sizemode": "area",
            "sizeref": 0.1225,
            "symbol": "circle"
           },
           "mode": "markers",
           "name": "Asia",
           "orientation": "v",
           "showlegend": true,
           "type": "scatter",
           "x": [
            60053009.85714286
           ],
           "xaxis": "x",
           "y": [
            55438182.571428575
           ],
           "yaxis": "y"
          },
          {
           "hovertemplate": "<b>%{hovertext}</b><br><br>Continent=Americas<br>Year=1992<br>Quantity=%{x}<br>Trade (USD)=%{y}<br>Nr of Countries=%{marker.size}<extra></extra>",
           "hovertext": [
            "Americas"
           ],
           "ids": [
            "Americas"
           ],
           "legendgroup": "Americas",
           "marker": {
            "color": "#ab63fa",
            "size": [
             43
            ],
            "sizemode": "area",
            "sizeref": 0.1225,
            "symbol": "circle"
           },
           "mode": "markers",
           "name": "Americas",
           "orientation": "v",
           "showlegend": true,
           "type": "scatter",
           "x": [
            12625250.307692308
           ],
           "xaxis": "x",
           "y": [
            13424906.461538462
           ],
           "yaxis": "y"
          },
          {
           "hovertemplate": "<b>%{hovertext}</b><br><br>Continent=Oceania<br>Year=1992<br>Quantity=%{x}<br>Trade (USD)=%{y}<br>Nr of Countries=%{marker.size}<extra></extra>",
           "hovertext": [
            "Oceania"
           ],
           "ids": [
            "Oceania"
           ],
           "legendgroup": "Oceania",
           "marker": {
            "color": "#FFA15A",
            "size": [
             15
            ],
            "sizemode": "area",
            "sizeref": 0.1225,
            "symbol": "circle"
           },
           "mode": "markers",
           "name": "Oceania",
           "orientation": "v",
           "showlegend": true,
           "type": "scatter",
           "x": [
            589
           ],
           "xaxis": "x",
           "y": [
            1015
           ],
           "yaxis": "y"
          }
         ],
         "name": "1992"
        },
        {
         "data": [
          {
           "hovertemplate": "<b>%{hovertext}</b><br><br>Continent=Africa<br>Year=1993<br>Quantity=%{x}<br>Trade (USD)=%{y}<br>Nr of Countries=%{marker.size}<extra></extra>",
           "hovertext": [
            "Africa"
           ],
           "ids": [
            "Africa"
           ],
           "legendgroup": "Africa",
           "marker": {
            "color": "#636efa",
            "size": [
             49
            ],
            "sizemode": "area",
            "sizeref": 0.1225,
            "symbol": "circle"
           },
           "mode": "markers",
           "name": "Africa",
           "orientation": "v",
           "showlegend": true,
           "type": "scatter",
           "x": [
            2567540
           ],
           "xaxis": "x",
           "y": [
            1958441
           ],
           "yaxis": "y"
          },
          {
           "hovertemplate": "<b>%{hovertext}</b><br><br>Continent=Europe<br>Year=1993<br>Quantity=%{x}<br>Trade (USD)=%{y}<br>Nr of Countries=%{marker.size}<extra></extra>",
           "hovertext": [
            "Europe"
           ],
           "ids": [
            "Europe"
           ],
           "legendgroup": "Europe",
           "marker": {
            "color": "#EF553B",
            "size": [
             42
            ],
            "sizemode": "area",
            "sizeref": 0.1225,
            "symbol": "circle"
           },
           "mode": "markers",
           "name": "Europe",
           "orientation": "v",
           "showlegend": true,
           "type": "scatter",
           "x": [
            5266948.454545454
           ],
           "xaxis": "x",
           "y": [
            6660609.363636363
           ],
           "yaxis": "y"
          },
          {
           "hovertemplate": "<b>%{hovertext}</b><br><br>Continent=Asia<br>Year=1993<br>Quantity=%{x}<br>Trade (USD)=%{y}<br>Nr of Countries=%{marker.size}<extra></extra>",
           "hovertext": [
            "Asia"
           ],
           "ids": [
            "Asia"
           ],
           "legendgroup": "Asia",
           "marker": {
            "color": "#00cc96",
            "size": [
             44
            ],
            "sizemode": "area",
            "sizeref": 0.1225,
            "symbol": "circle"
           },
           "mode": "markers",
           "name": "Asia",
           "orientation": "v",
           "showlegend": true,
           "type": "scatter",
           "x": [
            52610957.75
           ],
           "xaxis": "x",
           "y": [
            46302317.875
           ],
           "yaxis": "y"
          },
          {
           "hovertemplate": "<b>%{hovertext}</b><br><br>Continent=Americas<br>Year=1993<br>Quantity=%{x}<br>Trade (USD)=%{y}<br>Nr of Countries=%{marker.size}<extra></extra>",
           "hovertext": [
            "Americas"
           ],
           "ids": [
            "Americas"
           ],
           "legendgroup": "Americas",
           "marker": {
            "color": "#ab63fa",
            "size": [
             43
            ],
            "sizemode": "area",
            "sizeref": 0.1225,
            "symbol": "circle"
           },
           "mode": "markers",
           "name": "Americas",
           "orientation": "v",
           "showlegend": true,
           "type": "scatter",
           "x": [
            11391891.94117647
           ],
           "xaxis": "x",
           "y": [
            11876182.588235294
           ],
           "yaxis": "y"
          },
          {
           "hovertemplate": "<b>%{hovertext}</b><br><br>Continent=Oceania<br>Year=1993<br>Quantity=%{x}<br>Trade (USD)=%{y}<br>Nr of Countries=%{marker.size}<extra></extra>",
           "hovertext": [
            "Oceania"
           ],
           "ids": [
            "Oceania"
           ],
           "legendgroup": "Oceania",
           "marker": {
            "color": "#FFA15A",
            "size": [
             15
            ],
            "sizemode": "area",
            "sizeref": 0.1225,
            "symbol": "circle"
           },
           "mode": "markers",
           "name": "Oceania",
           "orientation": "v",
           "showlegend": true,
           "type": "scatter",
           "x": [
            289
           ],
           "xaxis": "x",
           "y": [
            507
           ],
           "yaxis": "y"
          }
         ],
         "name": "1993"
        },
        {
         "data": [
          {
           "hovertemplate": "<b>%{hovertext}</b><br><br>Continent=Africa<br>Year=1994<br>Quantity=%{x}<br>Trade (USD)=%{y}<br>Nr of Countries=%{marker.size}<extra></extra>",
           "hovertext": [
            "Africa"
           ],
           "ids": [
            "Africa"
           ],
           "legendgroup": "Africa",
           "marker": {
            "color": "#636efa",
            "size": [
             49
            ],
            "sizemode": "area",
            "sizeref": 0.1225,
            "symbol": "circle"
           },
           "mode": "markers",
           "name": "Africa",
           "orientation": "v",
           "showlegend": true,
           "type": "scatter",
           "x": [
            1812390
           ],
           "xaxis": "x",
           "y": [
            1891872
           ],
           "yaxis": "y"
          },
          {
           "hovertemplate": "<b>%{hovertext}</b><br><br>Continent=Europe<br>Year=1994<br>Quantity=%{x}<br>Trade (USD)=%{y}<br>Nr of Countries=%{marker.size}<extra></extra>",
           "hovertext": [
            "Europe"
           ],
           "ids": [
            "Europe"
           ],
           "legendgroup": "Europe",
           "marker": {
            "color": "#EF553B",
            "size": [
             42
            ],
            "sizemode": "area",
            "sizeref": 0.1225,
            "symbol": "circle"
           },
           "mode": "markers",
           "name": "Europe",
           "orientation": "v",
           "showlegend": true,
           "type": "scatter",
           "x": [
            3676524.3125
           ],
           "xaxis": "x",
           "y": [
            5490628.0625
           ],
           "yaxis": "y"
          },
          {
           "hovertemplate": "<b>%{hovertext}</b><br><br>Continent=Asia<br>Year=1994<br>Quantity=%{x}<br>Trade (USD)=%{y}<br>Nr of Countries=%{marker.size}<extra></extra>",
           "hovertext": [
            "Asia"
           ],
           "ids": [
            "Asia"
           ],
           "legendgroup": "Asia",
           "marker": {
            "color": "#00cc96",
            "size": [
             44
            ],
            "sizemode": "area",
            "sizeref": 0.1225,
            "symbol": "circle"
           },
           "mode": "markers",
           "name": "Asia",
           "orientation": "v",
           "showlegend": true,
           "type": "scatter",
           "x": [
            34120223.7
           ],
           "xaxis": "x",
           "y": [
            37978005.6
           ],
           "yaxis": "y"
          },
          {
           "hovertemplate": "<b>%{hovertext}</b><br><br>Continent=Americas<br>Year=1994<br>Quantity=%{x}<br>Trade (USD)=%{y}<br>Nr of Countries=%{marker.size}<extra></extra>",
           "hovertext": [
            "Americas"
           ],
           "ids": [
            "Americas"
           ],
           "legendgroup": "Americas",
           "marker": {
            "color": "#ab63fa",
            "size": [
             43
            ],
            "sizemode": "area",
            "sizeref": 0.1225,
            "symbol": "circle"
           },
           "mode": "markers",
           "name": "Americas",
           "orientation": "v",
           "showlegend": true,
           "type": "scatter",
           "x": [
            10110170.105263159
           ],
           "xaxis": "x",
           "y": [
            12421674.684210526
           ],
           "yaxis": "y"
          },
          {
           "hovertemplate": "<b>%{hovertext}</b><br><br>Continent=Oceania<br>Year=1994<br>Quantity=%{x}<br>Trade (USD)=%{y}<br>Nr of Countries=%{marker.size}<extra></extra>",
           "hovertext": [
            "Oceania"
           ],
           "ids": [
            "Oceania"
           ],
           "legendgroup": "Oceania",
           "marker": {
            "color": "#FFA15A",
            "size": [
             15
            ],
            "sizemode": "area",
            "sizeref": 0.1225,
            "symbol": "circle"
           },
           "mode": "markers",
           "name": "Oceania",
           "orientation": "v",
           "showlegend": true,
           "type": "scatter",
           "x": [
            1686062
           ],
           "xaxis": "x",
           "y": [
            1926902
           ],
           "yaxis": "y"
          }
         ],
         "name": "1994"
        },
        {
         "data": [
          {
           "hovertemplate": "<b>%{hovertext}</b><br><br>Continent=Africa<br>Year=1995<br>Quantity=%{x}<br>Trade (USD)=%{y}<br>Nr of Countries=%{marker.size}<extra></extra>",
           "hovertext": [
            "Africa"
           ],
           "ids": [
            "Africa"
           ],
           "legendgroup": "Africa",
           "marker": {
            "color": "#636efa",
            "size": [
             49
            ],
            "sizemode": "area",
            "sizeref": 0.1225,
            "symbol": "circle"
           },
           "mode": "markers",
           "name": "Africa",
           "orientation": "v",
           "showlegend": true,
           "type": "scatter",
           "x": [
            95483237.77777778
           ],
           "xaxis": "x",
           "y": [
            134625771.66666666
           ],
           "yaxis": "y"
          },
          {
           "hovertemplate": "<b>%{hovertext}</b><br><br>Continent=Europe<br>Year=1995<br>Quantity=%{x}<br>Trade (USD)=%{y}<br>Nr of Countries=%{marker.size}<extra></extra>",
           "hovertext": [
            "Europe"
           ],
           "ids": [
            "Europe"
           ],
           "legendgroup": "Europe",
           "marker": {
            "color": "#EF553B",
            "size": [
             42
            ],
            "sizemode": "area",
            "sizeref": 0.1225,
            "symbol": "circle"
           },
           "mode": "markers",
           "name": "Europe",
           "orientation": "v",
           "showlegend": true,
           "type": "scatter",
           "x": [
            4562849.411764706
           ],
           "xaxis": "x",
           "y": [
            7763101.647058823
           ],
           "yaxis": "y"
          },
          {
           "hovertemplate": "<b>%{hovertext}</b><br><br>Continent=Asia<br>Year=1995<br>Quantity=%{x}<br>Trade (USD)=%{y}<br>Nr of Countries=%{marker.size}<extra></extra>",
           "hovertext": [
            "Asia"
           ],
           "ids": [
            "Asia"
           ],
           "legendgroup": "Asia",
           "marker": {
            "color": "#00cc96",
            "size": [
             44
            ],
            "sizemode": "area",
            "sizeref": 0.1225,
            "symbol": "circle"
           },
           "mode": "markers",
           "name": "Asia",
           "orientation": "v",
           "showlegend": true,
           "type": "scatter",
           "x": [
            48532525
           ],
           "xaxis": "x",
           "y": [
            58056636.166666664
           ],
           "yaxis": "y"
          },
          {
           "hovertemplate": "<b>%{hovertext}</b><br><br>Continent=Americas<br>Year=1995<br>Quantity=%{x}<br>Trade (USD)=%{y}<br>Nr of Countries=%{marker.size}<extra></extra>",
           "hovertext": [
            "Americas"
           ],
           "ids": [
            "Americas"
           ],
           "legendgroup": "Americas",
           "marker": {
            "color": "#ab63fa",
            "size": [
             43
            ],
            "sizemode": "area",
            "sizeref": 0.1225,
            "symbol": "circle"
           },
           "mode": "markers",
           "name": "Americas",
           "orientation": "v",
           "showlegend": true,
           "type": "scatter",
           "x": [
            5583752.590909091
           ],
           "xaxis": "x",
           "y": [
            8185781.545454546
           ],
           "yaxis": "y"
          }
         ],
         "name": "1995"
        },
        {
         "data": [
          {
           "hovertemplate": "<b>%{hovertext}</b><br><br>Continent=Africa<br>Year=1996<br>Quantity=%{x}<br>Trade (USD)=%{y}<br>Nr of Countries=%{marker.size}<extra></extra>",
           "hovertext": [
            "Africa"
           ],
           "ids": [
            "Africa"
           ],
           "legendgroup": "Africa",
           "marker": {
            "color": "#636efa",
            "size": [
             49
            ],
            "sizemode": "area",
            "sizeref": 0.1225,
            "symbol": "circle"
           },
           "mode": "markers",
           "name": "Africa",
           "orientation": "v",
           "showlegend": true,
           "type": "scatter",
           "x": [
            170243546.1
           ],
           "xaxis": "x",
           "y": [
            244183867
           ],
           "yaxis": "y"
          },
          {
           "hovertemplate": "<b>%{hovertext}</b><br><br>Continent=Europe<br>Year=1996<br>Quantity=%{x}<br>Trade (USD)=%{y}<br>Nr of Countries=%{marker.size}<extra></extra>",
           "hovertext": [
            "Europe"
           ],
           "ids": [
            "Europe"
           ],
           "legendgroup": "Europe",
           "marker": {
            "color": "#EF553B",
            "size": [
             42
            ],
            "sizemode": "area",
            "sizeref": 0.1225,
            "symbol": "circle"
           },
           "mode": "markers",
           "name": "Europe",
           "orientation": "v",
           "showlegend": true,
           "type": "scatter",
           "x": [
            5127841.6
           ],
           "xaxis": "x",
           "y": [
            7365248.8
           ],
           "yaxis": "y"
          },
          {
           "hovertemplate": "<b>%{hovertext}</b><br><br>Continent=Asia<br>Year=1996<br>Quantity=%{x}<br>Trade (USD)=%{y}<br>Nr of Countries=%{marker.size}<extra></extra>",
           "hovertext": [
            "Asia"
           ],
           "ids": [
            "Asia"
           ],
           "legendgroup": "Asia",
           "marker": {
            "color": "#00cc96",
            "size": [
             44
            ],
            "sizemode": "area",
            "sizeref": 0.1225,
            "symbol": "circle"
           },
           "mode": "markers",
           "name": "Asia",
           "orientation": "v",
           "showlegend": true,
           "type": "scatter",
           "x": [
            50162981.14285714
           ],
           "xaxis": "x",
           "y": [
            52036625
           ],
           "yaxis": "y"
          },
          {
           "hovertemplate": "<b>%{hovertext}</b><br><br>Continent=Americas<br>Year=1996<br>Quantity=%{x}<br>Trade (USD)=%{y}<br>Nr of Countries=%{marker.size}<extra></extra>",
           "hovertext": [
            "Americas"
           ],
           "ids": [
            "Americas"
           ],
           "legendgroup": "Americas",
           "marker": {
            "color": "#ab63fa",
            "size": [
             43
            ],
            "sizemode": "area",
            "sizeref": 0.1225,
            "symbol": "circle"
           },
           "mode": "markers",
           "name": "Americas",
           "orientation": "v",
           "showlegend": true,
           "type": "scatter",
           "x": [
            8957021.652173912
           ],
           "xaxis": "x",
           "y": [
            11434300.217391305
           ],
           "yaxis": "y"
          },
          {
           "hovertemplate": "<b>%{hovertext}</b><br><br>Continent=Oceania<br>Year=1996<br>Quantity=%{x}<br>Trade (USD)=%{y}<br>Nr of Countries=%{marker.size}<extra></extra>",
           "hovertext": [
            "Oceania"
           ],
           "ids": [
            "Oceania"
           ],
           "legendgroup": "Oceania",
           "marker": {
            "color": "#FFA15A",
            "size": [
             15
            ],
            "sizemode": "area",
            "sizeref": 0.1225,
            "symbol": "circle"
           },
           "mode": "markers",
           "name": "Oceania",
           "orientation": "v",
           "showlegend": true,
           "type": "scatter",
           "x": [
            199
           ],
           "xaxis": "x",
           "y": [
            932
           ],
           "yaxis": "y"
          }
         ],
         "name": "1996"
        },
        {
         "data": [
          {
           "hovertemplate": "<b>%{hovertext}</b><br><br>Continent=Africa<br>Year=1997<br>Quantity=%{x}<br>Trade (USD)=%{y}<br>Nr of Countries=%{marker.size}<extra></extra>",
           "hovertext": [
            "Africa"
           ],
           "ids": [
            "Africa"
           ],
           "legendgroup": "Africa",
           "marker": {
            "color": "#636efa",
            "size": [
             49
            ],
            "sizemode": "area",
            "sizeref": 0.1225,
            "symbol": "circle"
           },
           "mode": "markers",
           "name": "Africa",
           "orientation": "v",
           "showlegend": true,
           "type": "scatter",
           "x": [
            123311225
           ],
           "xaxis": "x",
           "y": [
            167012738.1818182
           ],
           "yaxis": "y"
          },
          {
           "hovertemplate": "<b>%{hovertext}</b><br><br>Continent=Europe<br>Year=1997<br>Quantity=%{x}<br>Trade (USD)=%{y}<br>Nr of Countries=%{marker.size}<extra></extra>",
           "hovertext": [
            "Europe"
           ],
           "ids": [
            "Europe"
           ],
           "legendgroup": "Europe",
           "marker": {
            "color": "#EF553B",
            "size": [
             42
            ],
            "sizemode": "area",
            "sizeref": 0.1225,
            "symbol": "circle"
           },
           "mode": "markers",
           "name": "Europe",
           "orientation": "v",
           "showlegend": true,
           "type": "scatter",
           "x": [
            8050315.095238095
           ],
           "xaxis": "x",
           "y": [
            12516589.142857144
           ],
           "yaxis": "y"
          },
          {
           "hovertemplate": "<b>%{hovertext}</b><br><br>Continent=Asia<br>Year=1997<br>Quantity=%{x}<br>Trade (USD)=%{y}<br>Nr of Countries=%{marker.size}<extra></extra>",
           "hovertext": [
            "Asia"
           ],
           "ids": [
            "Asia"
           ],
           "legendgroup": "Asia",
           "marker": {
            "color": "#00cc96",
            "size": [
             44
            ],
            "sizemode": "area",
            "sizeref": 0.1225,
            "symbol": "circle"
           },
           "mode": "markers",
           "name": "Asia",
           "orientation": "v",
           "showlegend": true,
           "type": "scatter",
           "x": [
            40009892.71428572
           ],
           "xaxis": "x",
           "y": [
            53815083
           ],
           "yaxis": "y"
          },
          {
           "hovertemplate": "<b>%{hovertext}</b><br><br>Continent=Americas<br>Year=1997<br>Quantity=%{x}<br>Trade (USD)=%{y}<br>Nr of Countries=%{marker.size}<extra></extra>",
           "hovertext": [
            "Americas"
           ],
           "ids": [
            "Americas"
           ],
           "legendgroup": "Americas",
           "marker": {
            "color": "#ab63fa",
            "size": [
             43
            ],
            "sizemode": "area",
            "sizeref": 0.1225,
            "symbol": "circle"
           },
           "mode": "markers",
           "name": "Americas",
           "orientation": "v",
           "showlegend": true,
           "type": "scatter",
           "x": [
            6322447.7727272725
           ],
           "xaxis": "x",
           "y": [
            9087125.409090908
           ],
           "yaxis": "y"
          },
          {
           "hovertemplate": "<b>%{hovertext}</b><br><br>Continent=Oceania<br>Year=1997<br>Quantity=%{x}<br>Trade (USD)=%{y}<br>Nr of Countries=%{marker.size}<extra></extra>",
           "hovertext": [
            "Oceania"
           ],
           "ids": [
            "Oceania"
           ],
           "legendgroup": "Oceania",
           "marker": {
            "color": "#FFA15A",
            "size": [
             15
            ],
            "sizemode": "area",
            "sizeref": 0.1225,
            "symbol": "circle"
           },
           "mode": "markers",
           "name": "Oceania",
           "orientation": "v",
           "showlegend": true,
           "type": "scatter",
           "x": [
            3250
           ],
           "xaxis": "x",
           "y": [
            6675.5
           ],
           "yaxis": "y"
          }
         ],
         "name": "1997"
        },
        {
         "data": [
          {
           "hovertemplate": "<b>%{hovertext}</b><br><br>Continent=Africa<br>Year=1998<br>Quantity=%{x}<br>Trade (USD)=%{y}<br>Nr of Countries=%{marker.size}<extra></extra>",
           "hovertext": [
            "Africa"
           ],
           "ids": [
            "Africa"
           ],
           "legendgroup": "Africa",
           "marker": {
            "color": "#636efa",
            "size": [
             49
            ],
            "sizemode": "area",
            "sizeref": 0.1225,
            "symbol": "circle"
           },
           "mode": "markers",
           "name": "Africa",
           "orientation": "v",
           "showlegend": true,
           "type": "scatter",
           "x": [
            122315897.9
           ],
           "xaxis": "x",
           "y": [
            182232446.8
           ],
           "yaxis": "y"
          },
          {
           "hovertemplate": "<b>%{hovertext}</b><br><br>Continent=Europe<br>Year=1998<br>Quantity=%{x}<br>Trade (USD)=%{y}<br>Nr of Countries=%{marker.size}<extra></extra>",
           "hovertext": [
            "Europe"
           ],
           "ids": [
            "Europe"
           ],
           "legendgroup": "Europe",
           "marker": {
            "color": "#EF553B",
            "size": [
             42
            ],
            "sizemode": "area",
            "sizeref": 0.1225,
            "symbol": "circle"
           },
           "mode": "markers",
           "name": "Europe",
           "orientation": "v",
           "showlegend": true,
           "type": "scatter",
           "x": [
            6906180.894736842
           ],
           "xaxis": "x",
           "y": [
            11233554.684210526
           ],
           "yaxis": "y"
          },
          {
           "hovertemplate": "<b>%{hovertext}</b><br><br>Continent=Asia<br>Year=1998<br>Quantity=%{x}<br>Trade (USD)=%{y}<br>Nr of Countries=%{marker.size}<extra></extra>",
           "hovertext": [
            "Asia"
           ],
           "ids": [
            "Asia"
           ],
           "legendgroup": "Asia",
           "marker": {
            "color": "#00cc96",
            "size": [
             44
            ],
            "sizemode": "area",
            "sizeref": 0.1225,
            "symbol": "circle"
           },
           "mode": "markers",
           "name": "Asia",
           "orientation": "v",
           "showlegend": true,
           "type": "scatter",
           "x": [
            29091910.09090909
           ],
           "xaxis": "x",
           "y": [
            40532619.36363637
           ],
           "yaxis": "y"
          },
          {
           "hovertemplate": "<b>%{hovertext}</b><br><br>Continent=Americas<br>Year=1998<br>Quantity=%{x}<br>Trade (USD)=%{y}<br>Nr of Countries=%{marker.size}<extra></extra>",
           "hovertext": [
            "Americas"
           ],
           "ids": [
            "Americas"
           ],
           "legendgroup": "Americas",
           "marker": {
            "color": "#ab63fa",
            "size": [
             43
            ],
            "sizemode": "area",
            "sizeref": 0.1225,
            "symbol": "circle"
           },
           "mode": "markers",
           "name": "Americas",
           "orientation": "v",
           "showlegend": true,
           "type": "scatter",
           "x": [
            2971520.4
           ],
           "xaxis": "x",
           "y": [
            5383934.15
           ],
           "yaxis": "y"
          },
          {
           "hovertemplate": "<b>%{hovertext}</b><br><br>Continent=Oceania<br>Year=1998<br>Quantity=%{x}<br>Trade (USD)=%{y}<br>Nr of Countries=%{marker.size}<extra></extra>",
           "hovertext": [
            "Oceania"
           ],
           "ids": [
            "Oceania"
           ],
           "legendgroup": "Oceania",
           "marker": {
            "color": "#FFA15A",
            "size": [
             15
            ],
            "sizemode": "area",
            "sizeref": 0.1225,
            "symbol": "circle"
           },
           "mode": "markers",
           "name": "Oceania",
           "orientation": "v",
           "showlegend": true,
           "type": "scatter",
           "x": [
            973354816
           ],
           "xaxis": "x",
           "y": [
            25221636
           ],
           "yaxis": "y"
          }
         ],
         "name": "1998"
        },
        {
         "data": [
          {
           "hovertemplate": "<b>%{hovertext}</b><br><br>Continent=Africa<br>Year=1999<br>Quantity=%{x}<br>Trade (USD)=%{y}<br>Nr of Countries=%{marker.size}<extra></extra>",
           "hovertext": [
            "Africa"
           ],
           "ids": [
            "Africa"
           ],
           "legendgroup": "Africa",
           "marker": {
            "color": "#636efa",
            "size": [
             49
            ],
            "sizemode": "area",
            "sizeref": 0.1225,
            "symbol": "circle"
           },
           "mode": "markers",
           "name": "Africa",
           "orientation": "v",
           "showlegend": true,
           "type": "scatter",
           "x": [
            119086939.66666667
           ],
           "xaxis": "x",
           "y": [
            143890365.25
           ],
           "yaxis": "y"
          },
          {
           "hovertemplate": "<b>%{hovertext}</b><br><br>Continent=Europe<br>Year=1999<br>Quantity=%{x}<br>Trade (USD)=%{y}<br>Nr of Countries=%{marker.size}<extra></extra>",
           "hovertext": [
            "Europe"
           ],
           "ids": [
            "Europe"
           ],
           "legendgroup": "Europe",
           "marker": {
            "color": "#EF553B",
            "size": [
             42
            ],
            "sizemode": "area",
            "sizeref": 0.1225,
            "symbol": "circle"
           },
           "mode": "markers",
           "name": "Europe",
           "orientation": "v",
           "showlegend": true,
           "type": "scatter",
           "x": [
            7147735.35
           ],
           "xaxis": "x",
           "y": [
            9986000.65
           ],
           "yaxis": "y"
          },
          {
           "hovertemplate": "<b>%{hovertext}</b><br><br>Continent=Asia<br>Year=1999<br>Quantity=%{x}<br>Trade (USD)=%{y}<br>Nr of Countries=%{marker.size}<extra></extra>",
           "hovertext": [
            "Asia"
           ],
           "ids": [
            "Asia"
           ],
           "legendgroup": "Asia",
           "marker": {
            "color": "#00cc96",
            "size": [
             44
            ],
            "sizemode": "area",
            "sizeref": 0.1225,
            "symbol": "circle"
           },
           "mode": "markers",
           "name": "Asia",
           "orientation": "v",
           "showlegend": true,
           "type": "scatter",
           "x": [
            38435943.3
           ],
           "xaxis": "x",
           "y": [
            35160689.6
           ],
           "yaxis": "y"
          },
          {
           "hovertemplate": "<b>%{hovertext}</b><br><br>Continent=Americas<br>Year=1999<br>Quantity=%{x}<br>Trade (USD)=%{y}<br>Nr of Countries=%{marker.size}<extra></extra>",
           "hovertext": [
            "Americas"
           ],
           "ids": [
            "Americas"
           ],
           "legendgroup": "Americas",
           "marker": {
            "color": "#ab63fa",
            "size": [
             43
            ],
            "sizemode": "area",
            "sizeref": 0.1225,
            "symbol": "circle"
           },
           "mode": "markers",
           "name": "Americas",
           "orientation": "v",
           "showlegend": true,
           "type": "scatter",
           "x": [
            4868726.80952381
           ],
           "xaxis": "x",
           "y": [
            5946405.571428572
           ],
           "yaxis": "y"
          },
          {
           "hovertemplate": "<b>%{hovertext}</b><br><br>Continent=Oceania<br>Year=1999<br>Quantity=%{x}<br>Trade (USD)=%{y}<br>Nr of Countries=%{marker.size}<extra></extra>",
           "hovertext": [
            "Oceania"
           ],
           "ids": [
            "Oceania"
           ],
           "legendgroup": "Oceania",
           "marker": {
            "color": "#FFA15A",
            "size": [
             15
            ],
            "sizemode": "area",
            "sizeref": 0.1225,
            "symbol": "circle"
           },
           "mode": "markers",
           "name": "Oceania",
           "orientation": "v",
           "showlegend": true,
           "type": "scatter",
           "x": [
            277
           ],
           "xaxis": "x",
           "y": [
            2013
           ],
           "yaxis": "y"
          }
         ],
         "name": "1999"
        },
        {
         "data": [
          {
           "hovertemplate": "<b>%{hovertext}</b><br><br>Continent=Africa<br>Year=2000<br>Quantity=%{x}<br>Trade (USD)=%{y}<br>Nr of Countries=%{marker.size}<extra></extra>",
           "hovertext": [
            "Africa"
           ],
           "ids": [
            "Africa"
           ],
           "legendgroup": "Africa",
           "marker": {
            "color": "#636efa",
            "size": [
             49
            ],
            "sizemode": "area",
            "sizeref": 0.1225,
            "symbol": "circle"
           },
           "mode": "markers",
           "name": "Africa",
           "orientation": "v",
           "showlegend": true,
           "type": "scatter",
           "x": [
            76412136.26315789
           ],
           "xaxis": "x",
           "y": [
            61895593.473684214
           ],
           "yaxis": "y"
          },
          {
           "hovertemplate": "<b>%{hovertext}</b><br><br>Continent=Europe<br>Year=2000<br>Quantity=%{x}<br>Trade (USD)=%{y}<br>Nr of Countries=%{marker.size}<extra></extra>",
           "hovertext": [
            "Europe"
           ],
           "ids": [
            "Europe"
           ],
           "legendgroup": "Europe",
           "marker": {
            "color": "#EF553B",
            "size": [
             42
            ],
            "sizemode": "area",
            "sizeref": 0.1225,
            "symbol": "circle"
           },
           "mode": "markers",
           "name": "Europe",
           "orientation": "v",
           "showlegend": true,
           "type": "scatter",
           "x": [
            11916212
           ],
           "xaxis": "x",
           "y": [
            11681148.684210526
           ],
           "yaxis": "y"
          },
          {
           "hovertemplate": "<b>%{hovertext}</b><br><br>Continent=Asia<br>Year=2000<br>Quantity=%{x}<br>Trade (USD)=%{y}<br>Nr of Countries=%{marker.size}<extra></extra>",
           "hovertext": [
            "Asia"
           ],
           "ids": [
            "Asia"
           ],
           "legendgroup": "Asia",
           "marker": {
            "color": "#00cc96",
            "size": [
             44
            ],
            "sizemode": "area",
            "sizeref": 0.1225,
            "symbol": "circle"
           },
           "mode": "markers",
           "name": "Asia",
           "orientation": "v",
           "showlegend": true,
           "type": "scatter",
           "x": [
            37888318.5
           ],
           "xaxis": "x",
           "y": [
            26740154.6
           ],
           "yaxis": "y"
          },
          {
           "hovertemplate": "<b>%{hovertext}</b><br><br>Continent=Americas<br>Year=2000<br>Quantity=%{x}<br>Trade (USD)=%{y}<br>Nr of Countries=%{marker.size}<extra></extra>",
           "hovertext": [
            "Americas"
           ],
           "ids": [
            "Americas"
           ],
           "legendgroup": "Americas",
           "marker": {
            "color": "#ab63fa",
            "size": [
             43
            ],
            "sizemode": "area",
            "sizeref": 0.1225,
            "symbol": "circle"
           },
           "mode": "markers",
           "name": "Americas",
           "orientation": "v",
           "showlegend": true,
           "type": "scatter",
           "x": [
            4314351.904761905
           ],
           "xaxis": "x",
           "y": [
            3827022.1904761903
           ],
           "yaxis": "y"
          },
          {
           "hovertemplate": "<b>%{hovertext}</b><br><br>Continent=Oceania<br>Year=2000<br>Quantity=%{x}<br>Trade (USD)=%{y}<br>Nr of Countries=%{marker.size}<extra></extra>",
           "hovertext": [
            "Oceania"
           ],
           "ids": [
            "Oceania"
           ],
           "legendgroup": "Oceania",
           "marker": {
            "color": "#FFA15A",
            "size": [
             15
            ],
            "sizemode": "area",
            "sizeref": 0.1225,
            "symbol": "circle"
           },
           "mode": "markers",
           "name": "Oceania",
           "orientation": "v",
           "showlegend": true,
           "type": "scatter",
           "x": [
            12894643
           ],
           "xaxis": "x",
           "y": [
            12375233
           ],
           "yaxis": "y"
          }
         ],
         "name": "2000"
        },
        {
         "data": [
          {
           "hovertemplate": "<b>%{hovertext}</b><br><br>Continent=Africa<br>Year=2001<br>Quantity=%{x}<br>Trade (USD)=%{y}<br>Nr of Countries=%{marker.size}<extra></extra>",
           "hovertext": [
            "Africa"
           ],
           "ids": [
            "Africa"
           ],
           "legendgroup": "Africa",
           "marker": {
            "color": "#636efa",
            "size": [
             49
            ],
            "sizemode": "area",
            "sizeref": 0.1225,
            "symbol": "circle"
           },
           "mode": "markers",
           "name": "Africa",
           "orientation": "v",
           "showlegend": true,
           "type": "scatter",
           "x": [
            86356648.5625
           ],
           "xaxis": "x",
           "y": [
            85238984.8125
           ],
           "yaxis": "y"
          },
          {
           "hovertemplate": "<b>%{hovertext}</b><br><br>Continent=Europe<br>Year=2001<br>Quantity=%{x}<br>Trade (USD)=%{y}<br>Nr of Countries=%{marker.size}<extra></extra>",
           "hovertext": [
            "Europe"
           ],
           "ids": [
            "Europe"
           ],
           "legendgroup": "Europe",
           "marker": {
            "color": "#EF553B",
            "size": [
             42
            ],
            "sizemode": "area",
            "sizeref": 0.1225,
            "symbol": "circle"
           },
           "mode": "markers",
           "name": "Europe",
           "orientation": "v",
           "showlegend": true,
           "type": "scatter",
           "x": [
            10652244.52631579
           ],
           "xaxis": "x",
           "y": [
            11868349.684210526
           ],
           "yaxis": "y"
          },
          {
           "hovertemplate": "<b>%{hovertext}</b><br><br>Continent=Asia<br>Year=2001<br>Quantity=%{x}<br>Trade (USD)=%{y}<br>Nr of Countries=%{marker.size}<extra></extra>",
           "hovertext": [
            "Asia"
           ],
           "ids": [
            "Asia"
           ],
           "legendgroup": "Asia",
           "marker": {
            "color": "#00cc96",
            "size": [
             44
            ],
            "sizemode": "area",
            "sizeref": 0.1225,
            "symbol": "circle"
           },
           "mode": "markers",
           "name": "Asia",
           "orientation": "v",
           "showlegend": true,
           "type": "scatter",
           "x": [
            40815860.625
           ],
           "xaxis": "x",
           "y": [
            37046272.25
           ],
           "yaxis": "y"
          },
          {
           "hovertemplate": "<b>%{hovertext}</b><br><br>Continent=Americas<br>Year=2001<br>Quantity=%{x}<br>Trade (USD)=%{y}<br>Nr of Countries=%{marker.size}<extra></extra>",
           "hovertext": [
            "Americas"
           ],
           "ids": [
            "Americas"
           ],
           "legendgroup": "Americas",
           "marker": {
            "color": "#ab63fa",
            "size": [
             43
            ],
            "sizemode": "area",
            "sizeref": 0.1225,
            "symbol": "circle"
           },
           "mode": "markers",
           "name": "Americas",
           "orientation": "v",
           "showlegend": true,
           "type": "scatter",
           "x": [
            5361900.956521739
           ],
           "xaxis": "x",
           "y": [
            5466348.478260869
           ],
           "yaxis": "y"
          },
          {
           "hovertemplate": "<b>%{hovertext}</b><br><br>Continent=Oceania<br>Year=2001<br>Quantity=%{x}<br>Trade (USD)=%{y}<br>Nr of Countries=%{marker.size}<extra></extra>",
           "hovertext": [
            "Oceania"
           ],
           "ids": [
            "Oceania"
           ],
           "legendgroup": "Oceania",
           "marker": {
            "color": "#FFA15A",
            "size": [
             15
            ],
            "sizemode": "area",
            "sizeref": 0.1225,
            "symbol": "circle"
           },
           "mode": "markers",
           "name": "Oceania",
           "orientation": "v",
           "showlegend": true,
           "type": "scatter",
           "x": [
            1493239130.5
           ],
           "xaxis": "x",
           "y": [
            3318831.5
           ],
           "yaxis": "y"
          }
         ],
         "name": "2001"
        },
        {
         "data": [
          {
           "hovertemplate": "<b>%{hovertext}</b><br><br>Continent=Africa<br>Year=2002<br>Quantity=%{x}<br>Trade (USD)=%{y}<br>Nr of Countries=%{marker.size}<extra></extra>",
           "hovertext": [
            "Africa"
           ],
           "ids": [
            "Africa"
           ],
           "legendgroup": "Africa",
           "marker": {
            "color": "#636efa",
            "size": [
             49
            ],
            "sizemode": "area",
            "sizeref": 0.1225,
            "symbol": "circle"
           },
           "mode": "markers",
           "name": "Africa",
           "orientation": "v",
           "showlegend": true,
           "type": "scatter",
           "x": [
            61924445.55
           ],
           "xaxis": "x",
           "y": [
            99223795.85
           ],
           "yaxis": "y"
          },
          {
           "hovertemplate": "<b>%{hovertext}</b><br><br>Continent=Europe<br>Year=2002<br>Quantity=%{x}<br>Trade (USD)=%{y}<br>Nr of Countries=%{marker.size}<extra></extra>",
           "hovertext": [
            "Europe"
           ],
           "ids": [
            "Europe"
           ],
           "legendgroup": "Europe",
           "marker": {
            "color": "#EF553B",
            "size": [
             42
            ],
            "sizemode": "area",
            "sizeref": 0.1225,
            "symbol": "circle"
           },
           "mode": "markers",
           "name": "Europe",
           "orientation": "v",
           "showlegend": true,
           "type": "scatter",
           "x": [
            9504694.3125
           ],
           "xaxis": "x",
           "y": [
            17402641.625
           ],
           "yaxis": "y"
          },
          {
           "hovertemplate": "<b>%{hovertext}</b><br><br>Continent=Asia<br>Year=2002<br>Quantity=%{x}<br>Trade (USD)=%{y}<br>Nr of Countries=%{marker.size}<extra></extra>",
           "hovertext": [
            "Asia"
           ],
           "ids": [
            "Asia"
           ],
           "legendgroup": "Asia",
           "marker": {
            "color": "#00cc96",
            "size": [
             44
            ],
            "sizemode": "area",
            "sizeref": 0.1225,
            "symbol": "circle"
           },
           "mode": "markers",
           "name": "Asia",
           "orientation": "v",
           "showlegend": true,
           "type": "scatter",
           "x": [
            30185645
           ],
           "xaxis": "x",
           "y": [
            42854127.384615384
           ],
           "yaxis": "y"
          },
          {
           "hovertemplate": "<b>%{hovertext}</b><br><br>Continent=Americas<br>Year=2002<br>Quantity=%{x}<br>Trade (USD)=%{y}<br>Nr of Countries=%{marker.size}<extra></extra>",
           "hovertext": [
            "Americas"
           ],
           "ids": [
            "Americas"
           ],
           "legendgroup": "Americas",
           "marker": {
            "color": "#ab63fa",
            "size": [
             43
            ],
            "sizemode": "area",
            "sizeref": 0.1225,
            "symbol": "circle"
           },
           "mode": "markers",
           "name": "Americas",
           "orientation": "v",
           "showlegend": true,
           "type": "scatter",
           "x": [
            5403223.583333333
           ],
           "xaxis": "x",
           "y": [
            8707530.833333334
           ],
           "yaxis": "y"
          },
          {
           "hovertemplate": "<b>%{hovertext}</b><br><br>Continent=Oceania<br>Year=2002<br>Quantity=%{x}<br>Trade (USD)=%{y}<br>Nr of Countries=%{marker.size}<extra></extra>",
           "hovertext": [
            "Oceania"
           ],
           "ids": [
            "Oceania"
           ],
           "legendgroup": "Oceania",
           "marker": {
            "color": "#FFA15A",
            "size": [
             15
            ],
            "sizemode": "area",
            "sizeref": 0.1225,
            "symbol": "circle"
           },
           "mode": "markers",
           "name": "Oceania",
           "orientation": "v",
           "showlegend": true,
           "type": "scatter",
           "x": [
            1175814291.4
           ],
           "xaxis": "x",
           "y": [
            12113621.8
           ],
           "yaxis": "y"
          }
         ],
         "name": "2002"
        },
        {
         "data": [
          {
           "hovertemplate": "<b>%{hovertext}</b><br><br>Continent=Africa<br>Year=2003<br>Quantity=%{x}<br>Trade (USD)=%{y}<br>Nr of Countries=%{marker.size}<extra></extra>",
           "hovertext": [
            "Africa"
           ],
           "ids": [
            "Africa"
           ],
           "legendgroup": "Africa",
           "marker": {
            "color": "#636efa",
            "size": [
             49
            ],
            "sizemode": "area",
            "sizeref": 0.1225,
            "symbol": "circle"
           },
           "mode": "markers",
           "name": "Africa",
           "orientation": "v",
           "showlegend": true,
           "type": "scatter",
           "x": [
            87245617.8125
           ],
           "xaxis": "x",
           "y": [
            158203237.4375
           ],
           "yaxis": "y"
          },
          {
           "hovertemplate": "<b>%{hovertext}</b><br><br>Continent=Europe<br>Year=2003<br>Quantity=%{x}<br>Trade (USD)=%{y}<br>Nr of Countries=%{marker.size}<extra></extra>",
           "hovertext": [
            "Europe"
           ],
           "ids": [
            "Europe"
           ],
           "legendgroup": "Europe",
           "marker": {
            "color": "#EF553B",
            "size": [
             42
            ],
            "sizemode": "area",
            "sizeref": 0.1225,
            "symbol": "circle"
           },
           "mode": "markers",
           "name": "Europe",
           "orientation": "v",
           "showlegend": true,
           "type": "scatter",
           "x": [
            6889086.739130435
           ],
           "xaxis": "x",
           "y": [
            14871205.913043479
           ],
           "yaxis": "y"
          },
          {
           "hovertemplate": "<b>%{hovertext}</b><br><br>Continent=Asia<br>Year=2003<br>Quantity=%{x}<br>Trade (USD)=%{y}<br>Nr of Countries=%{marker.size}<extra></extra>",
           "hovertext": [
            "Asia"
           ],
           "ids": [
            "Asia"
           ],
           "legendgroup": "Asia",
           "marker": {
            "color": "#00cc96",
            "size": [
             44
            ],
            "sizemode": "area",
            "sizeref": 0.1225,
            "symbol": "circle"
           },
           "mode": "markers",
           "name": "Asia",
           "orientation": "v",
           "showlegend": true,
           "type": "scatter",
           "x": [
            19404778.714285713
           ],
           "xaxis": "x",
           "y": [
            31538779
           ],
           "yaxis": "y"
          },
          {
           "hovertemplate": "<b>%{hovertext}</b><br><br>Continent=Americas<br>Year=2003<br>Quantity=%{x}<br>Trade (USD)=%{y}<br>Nr of Countries=%{marker.size}<extra></extra>",
           "hovertext": [
            "Americas"
           ],
           "ids": [
            "Americas"
           ],
           "legendgroup": "Americas",
           "marker": {
            "color": "#ab63fa",
            "size": [
             43
            ],
            "sizemode": "area",
            "sizeref": 0.1225,
            "symbol": "circle"
           },
           "mode": "markers",
           "name": "Americas",
           "orientation": "v",
           "showlegend": true,
           "type": "scatter",
           "x": [
            6186484.875
           ],
           "xaxis": "x",
           "y": [
            10015653.208333334
           ],
           "yaxis": "y"
          },
          {
           "hovertemplate": "<b>%{hovertext}</b><br><br>Continent=Oceania<br>Year=2003<br>Quantity=%{x}<br>Trade (USD)=%{y}<br>Nr of Countries=%{marker.size}<extra></extra>",
           "hovertext": [
            "Oceania"
           ],
           "ids": [
            "Oceania"
           ],
           "legendgroup": "Oceania",
           "marker": {
            "color": "#FFA15A",
            "size": [
             15
            ],
            "sizemode": "area",
            "sizeref": 0.1225,
            "symbol": "circle"
           },
           "mode": "markers",
           "name": "Oceania",
           "orientation": "v",
           "showlegend": true,
           "type": "scatter",
           "x": [
            268131164
           ],
           "xaxis": "x",
           "y": [
            13172332
           ],
           "yaxis": "y"
          }
         ],
         "name": "2003"
        },
        {
         "data": [
          {
           "hovertemplate": "<b>%{hovertext}</b><br><br>Continent=Africa<br>Year=2004<br>Quantity=%{x}<br>Trade (USD)=%{y}<br>Nr of Countries=%{marker.size}<extra></extra>",
           "hovertext": [
            "Africa"
           ],
           "ids": [
            "Africa"
           ],
           "legendgroup": "Africa",
           "marker": {
            "color": "#636efa",
            "size": [
             49
            ],
            "sizemode": "area",
            "sizeref": 0.1225,
            "symbol": "circle"
           },
           "mode": "markers",
           "name": "Africa",
           "orientation": "v",
           "showlegend": true,
           "type": "scatter",
           "x": [
            80346313.25
           ],
           "xaxis": "x",
           "y": [
            118869098.5
           ],
           "yaxis": "y"
          },
          {
           "hovertemplate": "<b>%{hovertext}</b><br><br>Continent=Europe<br>Year=2004<br>Quantity=%{x}<br>Trade (USD)=%{y}<br>Nr of Countries=%{marker.size}<extra></extra>",
           "hovertext": [
            "Europe"
           ],
           "ids": [
            "Europe"
           ],
           "legendgroup": "Europe",
           "marker": {
            "color": "#EF553B",
            "size": [
             42
            ],
            "sizemode": "area",
            "sizeref": 0.1225,
            "symbol": "circle"
           },
           "mode": "markers",
           "name": "Europe",
           "orientation": "v",
           "showlegend": true,
           "type": "scatter",
           "x": [
            9745520.666666666
           ],
           "xaxis": "x",
           "y": [
            17721339.57142857
           ],
           "yaxis": "y"
          },
          {
           "hovertemplate": "<b>%{hovertext}</b><br><br>Continent=Asia<br>Year=2004<br>Quantity=%{x}<br>Trade (USD)=%{y}<br>Nr of Countries=%{marker.size}<extra></extra>",
           "hovertext": [
            "Asia"
           ],
           "ids": [
            "Asia"
           ],
           "legendgroup": "Asia",
           "marker": {
            "color": "#00cc96",
            "size": [
             44
            ],
            "sizemode": "area",
            "sizeref": 0.1225,
            "symbol": "circle"
           },
           "mode": "markers",
           "name": "Asia",
           "orientation": "v",
           "showlegend": true,
           "type": "scatter",
           "x": [
            26539591.727272727
           ],
           "xaxis": "x",
           "y": [
            35806117.09090909
           ],
           "yaxis": "y"
          },
          {
           "hovertemplate": "<b>%{hovertext}</b><br><br>Continent=Americas<br>Year=2004<br>Quantity=%{x}<br>Trade (USD)=%{y}<br>Nr of Countries=%{marker.size}<extra></extra>",
           "hovertext": [
            "Americas"
           ],
           "ids": [
            "Americas"
           ],
           "legendgroup": "Americas",
           "marker": {
            "color": "#ab63fa",
            "size": [
             43
            ],
            "sizemode": "area",
            "sizeref": 0.1225,
            "symbol": "circle"
           },
           "mode": "markers",
           "name": "Americas",
           "orientation": "v",
           "showlegend": true,
           "type": "scatter",
           "x": [
            6439170.125
           ],
           "xaxis": "x",
           "y": [
            9594663.75
           ],
           "yaxis": "y"
          },
          {
           "hovertemplate": "<b>%{hovertext}</b><br><br>Continent=Oceania<br>Year=2004<br>Quantity=%{x}<br>Trade (USD)=%{y}<br>Nr of Countries=%{marker.size}<extra></extra>",
           "hovertext": [
            "Oceania"
           ],
           "ids": [
            "Oceania"
           ],
           "legendgroup": "Oceania",
           "marker": {
            "color": "#FFA15A",
            "size": [
             15
            ],
            "sizemode": "area",
            "sizeref": 0.1225,
            "symbol": "circle"
           },
           "mode": "markers",
           "name": "Oceania",
           "orientation": "v",
           "showlegend": true,
           "type": "scatter",
           "x": [
            535546966.75
           ],
           "xaxis": "x",
           "y": [
            14179112
           ],
           "yaxis": "y"
          }
         ],
         "name": "2004"
        },
        {
         "data": [
          {
           "hovertemplate": "<b>%{hovertext}</b><br><br>Continent=Africa<br>Year=2005<br>Quantity=%{x}<br>Trade (USD)=%{y}<br>Nr of Countries=%{marker.size}<extra></extra>",
           "hovertext": [
            "Africa"
           ],
           "ids": [
            "Africa"
           ],
           "legendgroup": "Africa",
           "marker": {
            "color": "#636efa",
            "size": [
             49
            ],
            "sizemode": "area",
            "sizeref": 0.1225,
            "symbol": "circle"
           },
           "mode": "markers",
           "name": "Africa",
           "orientation": "v",
           "showlegend": true,
           "type": "scatter",
           "x": [
            107052161.6875
           ],
           "xaxis": "x",
           "y": [
            158219406.9375
           ],
           "yaxis": "y"
          },
          {
           "hovertemplate": "<b>%{hovertext}</b><br><br>Continent=Europe<br>Year=2005<br>Quantity=%{x}<br>Trade (USD)=%{y}<br>Nr of Countries=%{marker.size}<extra></extra>",
           "hovertext": [
            "Europe"
           ],
           "ids": [
            "Europe"
           ],
           "legendgroup": "Europe",
           "marker": {
            "color": "#EF553B",
            "size": [
             42
            ],
            "sizemode": "area",
            "sizeref": 0.1225,
            "symbol": "circle"
           },
           "mode": "markers",
           "name": "Europe",
           "orientation": "v",
           "showlegend": true,
           "type": "scatter",
           "x": [
            13021723.789473685
           ],
           "xaxis": "x",
           "y": [
            22182799.05263158
           ],
           "yaxis": "y"
          },
          {
           "hovertemplate": "<b>%{hovertext}</b><br><br>Continent=Asia<br>Year=2005<br>Quantity=%{x}<br>Trade (USD)=%{y}<br>Nr of Countries=%{marker.size}<extra></extra>",
           "hovertext": [
            "Asia"
           ],
           "ids": [
            "Asia"
           ],
           "legendgroup": "Asia",
           "marker": {
            "color": "#00cc96",
            "size": [
             44
            ],
            "sizemode": "area",
            "sizeref": 0.1225,
            "symbol": "circle"
           },
           "mode": "markers",
           "name": "Asia",
           "orientation": "v",
           "showlegend": true,
           "type": "scatter",
           "x": [
            29183279.769230768
           ],
           "xaxis": "x",
           "y": [
            37302341.15384615
           ],
           "yaxis": "y"
          },
          {
           "hovertemplate": "<b>%{hovertext}</b><br><br>Continent=Americas<br>Year=2005<br>Quantity=%{x}<br>Trade (USD)=%{y}<br>Nr of Countries=%{marker.size}<extra></extra>",
           "hovertext": [
            "Americas"
           ],
           "ids": [
            "Americas"
           ],
           "legendgroup": "Americas",
           "marker": {
            "color": "#ab63fa",
            "size": [
             43
            ],
            "sizemode": "area",
            "sizeref": 0.1225,
            "symbol": "circle"
           },
           "mode": "markers",
           "name": "Americas",
           "orientation": "v",
           "showlegend": true,
           "type": "scatter",
           "x": [
            6069022
           ],
           "xaxis": "x",
           "y": [
            9244929.826086957
           ],
           "yaxis": "y"
          },
          {
           "hovertemplate": "<b>%{hovertext}</b><br><br>Continent=Oceania<br>Year=2005<br>Quantity=%{x}<br>Trade (USD)=%{y}<br>Nr of Countries=%{marker.size}<extra></extra>",
           "hovertext": [
            "Oceania"
           ],
           "ids": [
            "Oceania"
           ],
           "legendgroup": "Oceania",
           "marker": {
            "color": "#FFA15A",
            "size": [
             15
            ],
            "sizemode": "area",
            "sizeref": 0.1225,
            "symbol": "circle"
           },
           "mode": "markers",
           "name": "Oceania",
           "orientation": "v",
           "showlegend": true,
           "type": "scatter",
           "x": [
            4558.25
           ],
           "xaxis": "x",
           "y": [
            12205
           ],
           "yaxis": "y"
          }
         ],
         "name": "2005"
        },
        {
         "data": [
          {
           "hovertemplate": "<b>%{hovertext}</b><br><br>Continent=Africa<br>Year=2006<br>Quantity=%{x}<br>Trade (USD)=%{y}<br>Nr of Countries=%{marker.size}<extra></extra>",
           "hovertext": [
            "Africa"
           ],
           "ids": [
            "Africa"
           ],
           "legendgroup": "Africa",
           "marker": {
            "color": "#636efa",
            "size": [
             49
            ],
            "sizemode": "area",
            "sizeref": 0.1225,
            "symbol": "circle"
           },
           "mode": "markers",
           "name": "Africa",
           "orientation": "v",
           "showlegend": true,
           "type": "scatter",
           "x": [
            140271346.30769232
           ],
           "xaxis": "x",
           "y": [
            217739256
           ],
           "yaxis": "y"
          },
          {
           "hovertemplate": "<b>%{hovertext}</b><br><br>Continent=Europe<br>Year=2006<br>Quantity=%{x}<br>Trade (USD)=%{y}<br>Nr of Countries=%{marker.size}<extra></extra>",
           "hovertext": [
            "Europe"
           ],
           "ids": [
            "Europe"
           ],
           "legendgroup": "Europe",
           "marker": {
            "color": "#EF553B",
            "size": [
             42
            ],
            "sizemode": "area",
            "sizeref": 0.1225,
            "symbol": "circle"
           },
           "mode": "markers",
           "name": "Europe",
           "orientation": "v",
           "showlegend": true,
           "type": "scatter",
           "x": [
            11703663.789473685
           ],
           "xaxis": "x",
           "y": [
            20725856.89473684
           ],
           "yaxis": "y"
          },
          {
           "hovertemplate": "<b>%{hovertext}</b><br><br>Continent=Asia<br>Year=2006<br>Quantity=%{x}<br>Trade (USD)=%{y}<br>Nr of Countries=%{marker.size}<extra></extra>",
           "hovertext": [
            "Asia"
           ],
           "ids": [
            "Asia"
           ],
           "legendgroup": "Asia",
           "marker": {
            "color": "#00cc96",
            "size": [
             44
            ],
            "sizemode": "area",
            "sizeref": 0.1225,
            "symbol": "circle"
           },
           "mode": "markers",
           "name": "Asia",
           "orientation": "v",
           "showlegend": true,
           "type": "scatter",
           "x": [
            67057624.733333334
           ],
           "xaxis": "x",
           "y": [
            42870251.266666666
           ],
           "yaxis": "y"
          },
          {
           "hovertemplate": "<b>%{hovertext}</b><br><br>Continent=Americas<br>Year=2006<br>Quantity=%{x}<br>Trade (USD)=%{y}<br>Nr of Countries=%{marker.size}<extra></extra>",
           "hovertext": [
            "Americas"
           ],
           "ids": [
            "Americas"
           ],
           "legendgroup": "Americas",
           "marker": {
            "color": "#ab63fa",
            "size": [
             43
            ],
            "sizemode": "area",
            "sizeref": 0.1225,
            "symbol": "circle"
           },
           "mode": "markers",
           "name": "Americas",
           "orientation": "v",
           "showlegend": true,
           "type": "scatter",
           "x": [
            7449212.347826087
           ],
           "xaxis": "x",
           "y": [
            12549734.739130436
           ],
           "yaxis": "y"
          },
          {
           "hovertemplate": "<b>%{hovertext}</b><br><br>Continent=Oceania<br>Year=2006<br>Quantity=%{x}<br>Trade (USD)=%{y}<br>Nr of Countries=%{marker.size}<extra></extra>",
           "hovertext": [
            "Oceania"
           ],
           "ids": [
            "Oceania"
           ],
           "legendgroup": "Oceania",
           "marker": {
            "color": "#FFA15A",
            "size": [
             15
            ],
            "sizemode": "area",
            "sizeref": 0.1225,
            "symbol": "circle"
           },
           "mode": "markers",
           "name": "Oceania",
           "orientation": "v",
           "showlegend": true,
           "type": "scatter",
           "x": [
            367152.2
           ],
           "xaxis": "x",
           "y": [
            505304
           ],
           "yaxis": "y"
          }
         ],
         "name": "2006"
        },
        {
         "data": [
          {
           "hovertemplate": "<b>%{hovertext}</b><br><br>Continent=Africa<br>Year=2007<br>Quantity=%{x}<br>Trade (USD)=%{y}<br>Nr of Countries=%{marker.size}<extra></extra>",
           "hovertext": [
            "Africa"
           ],
           "ids": [
            "Africa"
           ],
           "legendgroup": "Africa",
           "marker": {
            "color": "#636efa",
            "size": [
             49
            ],
            "sizemode": "area",
            "sizeref": 0.1225,
            "symbol": "circle"
           },
           "mode": "markers",
           "name": "Africa",
           "orientation": "v",
           "showlegend": true,
           "type": "scatter",
           "x": [
            108139733.9375
           ],
           "xaxis": "x",
           "y": [
            187221262.5625
           ],
           "yaxis": "y"
          },
          {
           "hovertemplate": "<b>%{hovertext}</b><br><br>Continent=Europe<br>Year=2007<br>Quantity=%{x}<br>Trade (USD)=%{y}<br>Nr of Countries=%{marker.size}<extra></extra>",
           "hovertext": [
            "Europe"
           ],
           "ids": [
            "Europe"
           ],
           "legendgroup": "Europe",
           "marker": {
            "color": "#EF553B",
            "size": [
             42
            ],
            "sizemode": "area",
            "sizeref": 0.1225,
            "symbol": "circle"
           },
           "mode": "markers",
           "name": "Europe",
           "orientation": "v",
           "showlegend": true,
           "type": "scatter",
           "x": [
            11387323.636363637
           ],
           "xaxis": "x",
           "y": [
            23855830.818181816
           ],
           "yaxis": "y"
          },
          {
           "hovertemplate": "<b>%{hovertext}</b><br><br>Continent=Asia<br>Year=2007<br>Quantity=%{x}<br>Trade (USD)=%{y}<br>Nr of Countries=%{marker.size}<extra></extra>",
           "hovertext": [
            "Asia"
           ],
           "ids": [
            "Asia"
           ],
           "legendgroup": "Asia",
           "marker": {
            "color": "#00cc96",
            "size": [
             44
            ],
            "sizemode": "area",
            "sizeref": 0.1225,
            "symbol": "circle"
           },
           "mode": "markers",
           "name": "Asia",
           "orientation": "v",
           "showlegend": true,
           "type": "scatter",
           "x": [
            26694758.733333334
           ],
           "xaxis": "x",
           "y": [
            44111662.93333333
           ],
           "yaxis": "y"
          },
          {
           "hovertemplate": "<b>%{hovertext}</b><br><br>Continent=Americas<br>Year=2007<br>Quantity=%{x}<br>Trade (USD)=%{y}<br>Nr of Countries=%{marker.size}<extra></extra>",
           "hovertext": [
            "Americas"
           ],
           "ids": [
            "Americas"
           ],
           "legendgroup": "Americas",
           "marker": {
            "color": "#ab63fa",
            "size": [
             43
            ],
            "sizemode": "area",
            "sizeref": 0.1225,
            "symbol": "circle"
           },
           "mode": "markers",
           "name": "Americas",
           "orientation": "v",
           "showlegend": true,
           "type": "scatter",
           "x": [
            7641952.863636363
           ],
           "xaxis": "x",
           "y": [
            17367287
           ],
           "yaxis": "y"
          },
          {
           "hovertemplate": "<b>%{hovertext}</b><br><br>Continent=Oceania<br>Year=2007<br>Quantity=%{x}<br>Trade (USD)=%{y}<br>Nr of Countries=%{marker.size}<extra></extra>",
           "hovertext": [
            "Oceania"
           ],
           "ids": [
            "Oceania"
           ],
           "legendgroup": "Oceania",
           "marker": {
            "color": "#FFA15A",
            "size": [
             15
            ],
            "sizemode": "area",
            "sizeref": 0.1225,
            "symbol": "circle"
           },
           "mode": "markers",
           "name": "Oceania",
           "orientation": "v",
           "showlegend": true,
           "type": "scatter",
           "x": [
            247812.6
           ],
           "xaxis": "x",
           "y": [
            440060.2
           ],
           "yaxis": "y"
          }
         ],
         "name": "2007"
        },
        {
         "data": [
          {
           "hovertemplate": "<b>%{hovertext}</b><br><br>Continent=Africa<br>Year=2008<br>Quantity=%{x}<br>Trade (USD)=%{y}<br>Nr of Countries=%{marker.size}<extra></extra>",
           "hovertext": [
            "Africa"
           ],
           "ids": [
            "Africa"
           ],
           "legendgroup": "Africa",
           "marker": {
            "color": "#636efa",
            "size": [
             49
            ],
            "sizemode": "area",
            "sizeref": 0.1225,
            "symbol": "circle"
           },
           "mode": "markers",
           "name": "Africa",
           "orientation": "v",
           "showlegend": true,
           "type": "scatter",
           "x": [
            92375669.15789473
           ],
           "xaxis": "x",
           "y": [
            196391455.9898422
           ],
           "yaxis": "y"
          },
          {
           "hovertemplate": "<b>%{hovertext}</b><br><br>Continent=Europe<br>Year=2008<br>Quantity=%{x}<br>Trade (USD)=%{y}<br>Nr of Countries=%{marker.size}<extra></extra>",
           "hovertext": [
            "Europe"
           ],
           "ids": [
            "Europe"
           ],
           "legendgroup": "Europe",
           "marker": {
            "color": "#EF553B",
            "size": [
             42
            ],
            "sizemode": "area",
            "sizeref": 0.1225,
            "symbol": "circle"
           },
           "mode": "markers",
           "name": "Europe",
           "orientation": "v",
           "showlegend": true,
           "type": "scatter",
           "x": [
            11626322.315789474
           ],
           "xaxis": "x",
           "y": [
            31108026.943443663
           ],
           "yaxis": "y"
          },
          {
           "hovertemplate": "<b>%{hovertext}</b><br><br>Continent=Asia<br>Year=2008<br>Quantity=%{x}<br>Trade (USD)=%{y}<br>Nr of Countries=%{marker.size}<extra></extra>",
           "hovertext": [
            "Asia"
           ],
           "ids": [
            "Asia"
           ],
           "legendgroup": "Asia",
           "marker": {
            "color": "#00cc96",
            "size": [
             44
            ],
            "sizemode": "area",
            "sizeref": 0.1225,
            "symbol": "circle"
           },
           "mode": "markers",
           "name": "Asia",
           "orientation": "v",
           "showlegend": true,
           "type": "scatter",
           "x": [
            22941558.11764706
           ],
           "xaxis": "x",
           "y": [
            51557899.941176474
           ],
           "yaxis": "y"
          },
          {
           "hovertemplate": "<b>%{hovertext}</b><br><br>Continent=Americas<br>Year=2008<br>Quantity=%{x}<br>Trade (USD)=%{y}<br>Nr of Countries=%{marker.size}<extra></extra>",
           "hovertext": [
            "Americas"
           ],
           "ids": [
            "Americas"
           ],
           "legendgroup": "Americas",
           "marker": {
            "color": "#ab63fa",
            "size": [
             43
            ],
            "sizemode": "area",
            "sizeref": 0.1225,
            "symbol": "circle"
           },
           "mode": "markers",
           "name": "Americas",
           "orientation": "v",
           "showlegend": true,
           "type": "scatter",
           "x": [
            7935929.65
           ],
           "xaxis": "x",
           "y": [
            20862314.1
           ],
           "yaxis": "y"
          },
          {
           "hovertemplate": "<b>%{hovertext}</b><br><br>Continent=Oceania<br>Year=2008<br>Quantity=%{x}<br>Trade (USD)=%{y}<br>Nr of Countries=%{marker.size}<extra></extra>",
           "hovertext": [
            "Oceania"
           ],
           "ids": [
            "Oceania"
           ],
           "legendgroup": "Oceania",
           "marker": {
            "color": "#FFA15A",
            "size": [
             15
            ],
            "sizemode": "area",
            "sizeref": 0.1225,
            "symbol": "circle"
           },
           "mode": "markers",
           "name": "Oceania",
           "orientation": "v",
           "showlegend": true,
           "type": "scatter",
           "x": [
            2929
           ],
           "xaxis": "x",
           "y": [
            10042.333333333334
           ],
           "yaxis": "y"
          }
         ],
         "name": "2008"
        },
        {
         "data": [
          {
           "hovertemplate": "<b>%{hovertext}</b><br><br>Continent=Africa<br>Year=2009<br>Quantity=%{x}<br>Trade (USD)=%{y}<br>Nr of Countries=%{marker.size}<extra></extra>",
           "hovertext": [
            "Africa"
           ],
           "ids": [
            "Africa"
           ],
           "legendgroup": "Africa",
           "marker": {
            "color": "#636efa",
            "size": [
             49
            ],
            "sizemode": "area",
            "sizeref": 0.1225,
            "symbol": "circle"
           },
           "mode": "markers",
           "name": "Africa",
           "orientation": "v",
           "showlegend": true,
           "type": "scatter",
           "x": [
            105748018.47058824
           ],
           "xaxis": "x",
           "y": [
            328476036.73260224
           ],
           "yaxis": "y"
          },
          {
           "hovertemplate": "<b>%{hovertext}</b><br><br>Continent=Europe<br>Year=2009<br>Quantity=%{x}<br>Trade (USD)=%{y}<br>Nr of Countries=%{marker.size}<extra></extra>",
           "hovertext": [
            "Europe"
           ],
           "ids": [
            "Europe"
           ],
           "legendgroup": "Europe",
           "marker": {
            "color": "#EF553B",
            "size": [
             42
            ],
            "sizemode": "area",
            "sizeref": 0.1225,
            "symbol": "circle"
           },
           "mode": "markers",
           "name": "Europe",
           "orientation": "v",
           "showlegend": true,
           "type": "scatter",
           "x": [
            13720096.421052631
           ],
           "xaxis": "x",
           "y": [
            37940181.53587967
           ],
           "yaxis": "y"
          },
          {
           "hovertemplate": "<b>%{hovertext}</b><br><br>Continent=Asia<br>Year=2009<br>Quantity=%{x}<br>Trade (USD)=%{y}<br>Nr of Countries=%{marker.size}<extra></extra>",
           "hovertext": [
            "Asia"
           ],
           "ids": [
            "Asia"
           ],
           "legendgroup": "Asia",
           "marker": {
            "color": "#00cc96",
            "size": [
             44
            ],
            "sizemode": "area",
            "sizeref": 0.1225,
            "symbol": "circle"
           },
           "mode": "markers",
           "name": "Asia",
           "orientation": "v",
           "showlegend": true,
           "type": "scatter",
           "x": [
            25712535.555555556
           ],
           "xaxis": "x",
           "y": [
            63784148.05555555
           ],
           "yaxis": "y"
          },
          {
           "hovertemplate": "<b>%{hovertext}</b><br><br>Continent=Americas<br>Year=2009<br>Quantity=%{x}<br>Trade (USD)=%{y}<br>Nr of Countries=%{marker.size}<extra></extra>",
           "hovertext": [
            "Americas"
           ],
           "ids": [
            "Americas"
           ],
           "legendgroup": "Americas",
           "marker": {
            "color": "#ab63fa",
            "size": [
             43
            ],
            "sizemode": "area",
            "sizeref": 0.1225,
            "symbol": "circle"
           },
           "mode": "markers",
           "name": "Americas",
           "orientation": "v",
           "showlegend": true,
           "type": "scatter",
           "x": [
            10097186.095238095
           ],
           "xaxis": "x",
           "y": [
            26602228.80952381
           ],
           "yaxis": "y"
          },
          {
           "hovertemplate": "<b>%{hovertext}</b><br><br>Continent=Oceania<br>Year=2009<br>Quantity=%{x}<br>Trade (USD)=%{y}<br>Nr of Countries=%{marker.size}<extra></extra>",
           "hovertext": [
            "Oceania"
           ],
           "ids": [
            "Oceania"
           ],
           "legendgroup": "Oceania",
           "marker": {
            "color": "#FFA15A",
            "size": [
             15
            ],
            "sizemode": "area",
            "sizeref": 0.1225,
            "symbol": "circle"
           },
           "mode": "markers",
           "name": "Oceania",
           "orientation": "v",
           "showlegend": true,
           "type": "scatter",
           "x": [
            1548683
           ],
           "xaxis": "x",
           "y": [
            3637359.245482
           ],
           "yaxis": "y"
          }
         ],
         "name": "2009"
        },
        {
         "data": [
          {
           "hovertemplate": "<b>%{hovertext}</b><br><br>Continent=Africa<br>Year=2010<br>Quantity=%{x}<br>Trade (USD)=%{y}<br>Nr of Countries=%{marker.size}<extra></extra>",
           "hovertext": [
            "Africa"
           ],
           "ids": [
            "Africa"
           ],
           "legendgroup": "Africa",
           "marker": {
            "color": "#636efa",
            "size": [
             49
            ],
            "sizemode": "area",
            "sizeref": 0.1225,
            "symbol": "circle"
           },
           "mode": "markers",
           "name": "Africa",
           "orientation": "v",
           "showlegend": true,
           "type": "scatter",
           "x": [
            126574092.37193444
           ],
           "xaxis": "x",
           "y": [
            340380233.0704632
           ],
           "yaxis": "y"
          },
          {
           "hovertemplate": "<b>%{hovertext}</b><br><br>Continent=Europe<br>Year=2010<br>Quantity=%{x}<br>Trade (USD)=%{y}<br>Nr of Countries=%{marker.size}<extra></extra>",
           "hovertext": [
            "Europe"
           ],
           "ids": [
            "Europe"
           ],
           "legendgroup": "Europe",
           "marker": {
            "color": "#EF553B",
            "size": [
             42
            ],
            "sizemode": "area",
            "sizeref": 0.1225,
            "symbol": "circle"
           },
           "mode": "markers",
           "name": "Europe",
           "orientation": "v",
           "showlegend": true,
           "type": "scatter",
           "x": [
            12676876.19047619
           ],
           "xaxis": "x",
           "y": [
            43967255.83501478
           ],
           "yaxis": "y"
          },
          {
           "hovertemplate": "<b>%{hovertext}</b><br><br>Continent=Asia<br>Year=2010<br>Quantity=%{x}<br>Trade (USD)=%{y}<br>Nr of Countries=%{marker.size}<extra></extra>",
           "hovertext": [
            "Asia"
           ],
           "ids": [
            "Asia"
           ],
           "legendgroup": "Asia",
           "marker": {
            "color": "#00cc96",
            "size": [
             44
            ],
            "sizemode": "area",
            "sizeref": 0.1225,
            "symbol": "circle"
           },
           "mode": "markers",
           "name": "Asia",
           "orientation": "v",
           "showlegend": true,
           "type": "scatter",
           "x": [
            33372852.64285714
           ],
           "xaxis": "x",
           "y": [
            93718142.60071003
           ],
           "yaxis": "y"
          },
          {
           "hovertemplate": "<b>%{hovertext}</b><br><br>Continent=Americas<br>Year=2010<br>Quantity=%{x}<br>Trade (USD)=%{y}<br>Nr of Countries=%{marker.size}<extra></extra>",
           "hovertext": [
            "Americas"
           ],
           "ids": [
            "Americas"
           ],
           "legendgroup": "Americas",
           "marker": {
            "color": "#ab63fa",
            "size": [
             43
            ],
            "sizemode": "area",
            "sizeref": 0.1225,
            "symbol": "circle"
           },
           "mode": "markers",
           "name": "Americas",
           "orientation": "v",
           "showlegend": true,
           "type": "scatter",
           "x": [
            10392271.468571428
           ],
           "xaxis": "x",
           "y": [
            31554330.89904762
           ],
           "yaxis": "y"
          },
          {
           "hovertemplate": "<b>%{hovertext}</b><br><br>Continent=Oceania<br>Year=2010<br>Quantity=%{x}<br>Trade (USD)=%{y}<br>Nr of Countries=%{marker.size}<extra></extra>",
           "hovertext": [
            "Oceania"
           ],
           "ids": [
            "Oceania"
           ],
           "legendgroup": "Oceania",
           "marker": {
            "color": "#FFA15A",
            "size": [
             15
            ],
            "sizemode": "area",
            "sizeref": 0.1225,
            "symbol": "circle"
           },
           "mode": "markers",
           "name": "Oceania",
           "orientation": "v",
           "showlegend": true,
           "type": "scatter",
           "x": [
            326275.45444646094
           ],
           "xaxis": "x",
           "y": [
            834450.483770604
           ],
           "yaxis": "y"
          }
         ],
         "name": "2010"
        },
        {
         "data": [
          {
           "hovertemplate": "<b>%{hovertext}</b><br><br>Continent=Africa<br>Year=2011<br>Quantity=%{x}<br>Trade (USD)=%{y}<br>Nr of Countries=%{marker.size}<extra></extra>",
           "hovertext": [
            "Africa"
           ],
           "ids": [
            "Africa"
           ],
           "legendgroup": "Africa",
           "marker": {
            "color": "#636efa",
            "size": [
             49
            ],
            "sizemode": "area",
            "sizeref": 0.1225,
            "symbol": "circle"
           },
           "mode": "markers",
           "name": "Africa",
           "orientation": "v",
           "showlegend": true,
           "type": "scatter",
           "x": [
            128804298.62273042
           ],
           "xaxis": "x",
           "y": [
            393490905.4134067
           ],
           "yaxis": "y"
          },
          {
           "hovertemplate": "<b>%{hovertext}</b><br><br>Continent=Europe<br>Year=2011<br>Quantity=%{x}<br>Trade (USD)=%{y}<br>Nr of Countries=%{marker.size}<extra></extra>",
           "hovertext": [
            "Europe"
           ],
           "ids": [
            "Europe"
           ],
           "legendgroup": "Europe",
           "marker": {
            "color": "#EF553B",
            "size": [
             42
            ],
            "sizemode": "area",
            "sizeref": 0.1225,
            "symbol": "circle"
           },
           "mode": "markers",
           "name": "Europe",
           "orientation": "v",
           "showlegend": true,
           "type": "scatter",
           "x": [
            13853633.347826088
           ],
           "xaxis": "x",
           "y": [
            46466394.039211325
           ],
           "yaxis": "y"
          },
          {
           "hovertemplate": "<b>%{hovertext}</b><br><br>Continent=Asia<br>Year=2011<br>Quantity=%{x}<br>Trade (USD)=%{y}<br>Nr of Countries=%{marker.size}<extra></extra>",
           "hovertext": [
            "Asia"
           ],
           "ids": [
            "Asia"
           ],
           "legendgroup": "Asia",
           "marker": {
            "color": "#00cc96",
            "size": [
             44
            ],
            "sizemode": "area",
            "sizeref": 0.1225,
            "symbol": "circle"
           },
           "mode": "markers",
           "name": "Asia",
           "orientation": "v",
           "showlegend": true,
           "type": "scatter",
           "x": [
            16143327.068
           ],
           "xaxis": "x",
           "y": [
            47905453.442422085
           ],
           "yaxis": "y"
          },
          {
           "hovertemplate": "<b>%{hovertext}</b><br><br>Continent=Americas<br>Year=2011<br>Quantity=%{x}<br>Trade (USD)=%{y}<br>Nr of Countries=%{marker.size}<extra></extra>",
           "hovertext": [
            "Americas"
           ],
           "ids": [
            "Americas"
           ],
           "legendgroup": "Americas",
           "marker": {
            "color": "#ab63fa",
            "size": [
             43
            ],
            "sizemode": "area",
            "sizeref": 0.1225,
            "symbol": "circle"
           },
           "mode": "markers",
           "name": "Americas",
           "orientation": "v",
           "showlegend": true,
           "type": "scatter",
           "x": [
            12433137.634447865
           ],
           "xaxis": "x",
           "y": [
            38483540.236
           ],
           "yaxis": "y"
          },
          {
           "hovertemplate": "<b>%{hovertext}</b><br><br>Continent=Oceania<br>Year=2011<br>Quantity=%{x}<br>Trade (USD)=%{y}<br>Nr of Countries=%{marker.size}<extra></extra>",
           "hovertext": [
            "Oceania"
           ],
           "ids": [
            "Oceania"
           ],
           "legendgroup": "Oceania",
           "marker": {
            "color": "#FFA15A",
            "size": [
             15
            ],
            "sizemode": "area",
            "sizeref": 0.1225,
            "symbol": "circle"
           },
           "mode": "markers",
           "name": "Oceania",
           "orientation": "v",
           "showlegend": true,
           "type": "scatter",
           "x": [
            260547208
           ],
           "xaxis": "x",
           "y": [
            23781093.791664284
           ],
           "yaxis": "y"
          }
         ],
         "name": "2011"
        },
        {
         "data": [
          {
           "hovertemplate": "<b>%{hovertext}</b><br><br>Continent=Africa<br>Year=2012<br>Quantity=%{x}<br>Trade (USD)=%{y}<br>Nr of Countries=%{marker.size}<extra></extra>",
           "hovertext": [
            "Africa"
           ],
           "ids": [
            "Africa"
           ],
           "legendgroup": "Africa",
           "marker": {
            "color": "#636efa",
            "size": [
             49
            ],
            "sizemode": "area",
            "sizeref": 0.1225,
            "symbol": "circle"
           },
           "mode": "markers",
           "name": "Africa",
           "orientation": "v",
           "showlegend": true,
           "type": "scatter",
           "x": [
            168482930.54134002
           ],
           "xaxis": "x",
           "y": [
            650295580.3439251
           ],
           "yaxis": "y"
          },
          {
           "hovertemplate": "<b>%{hovertext}</b><br><br>Continent=Europe<br>Year=2012<br>Quantity=%{x}<br>Trade (USD)=%{y}<br>Nr of Countries=%{marker.size}<extra></extra>",
           "hovertext": [
            "Europe"
           ],
           "ids": [
            "Europe"
           ],
           "legendgroup": "Europe",
           "marker": {
            "color": "#EF553B",
            "size": [
             42
            ],
            "sizemode": "area",
            "sizeref": 0.1225,
            "symbol": "circle"
           },
           "mode": "markers",
           "name": "Europe",
           "orientation": "v",
           "showlegend": true,
           "type": "scatter",
           "x": [
            13912890.68859887
           ],
           "xaxis": "x",
           "y": [
            40288965.28115936
           ],
           "yaxis": "y"
          },
          {
           "hovertemplate": "<b>%{hovertext}</b><br><br>Continent=Asia<br>Year=2012<br>Quantity=%{x}<br>Trade (USD)=%{y}<br>Nr of Countries=%{marker.size}<extra></extra>",
           "hovertext": [
            "Asia"
           ],
           "ids": [
            "Asia"
           ],
           "legendgroup": "Asia",
           "marker": {
            "color": "#00cc96",
            "size": [
             44
            ],
            "sizemode": "area",
            "sizeref": 0.1225,
            "symbol": "circle"
           },
           "mode": "markers",
           "name": "Asia",
           "orientation": "v",
           "showlegend": true,
           "type": "scatter",
           "x": [
            13456819.72308044
           ],
           "xaxis": "x",
           "y": [
            33076486.058464453
           ],
           "yaxis": "y"
          },
          {
           "hovertemplate": "<b>%{hovertext}</b><br><br>Continent=Americas<br>Year=2012<br>Quantity=%{x}<br>Trade (USD)=%{y}<br>Nr of Countries=%{marker.size}<extra></extra>",
           "hovertext": [
            "Americas"
           ],
           "ids": [
            "Americas"
           ],
           "legendgroup": "Americas",
           "marker": {
            "color": "#ab63fa",
            "size": [
             43
            ],
            "sizemode": "area",
            "sizeref": 0.1225,
            "symbol": "circle"
           },
           "mode": "markers",
           "name": "Americas",
           "orientation": "v",
           "showlegend": true,
           "type": "scatter",
           "x": [
            13894923.666842105
           ],
           "xaxis": "x",
           "y": [
            34239030.03157894
           ],
           "yaxis": "y"
          },
          {
           "hovertemplate": "<b>%{hovertext}</b><br><br>Continent=Oceania<br>Year=2012<br>Quantity=%{x}<br>Trade (USD)=%{y}<br>Nr of Countries=%{marker.size}<extra></extra>",
           "hovertext": [
            "Oceania"
           ],
           "ids": [
            "Oceania"
           ],
           "legendgroup": "Oceania",
           "marker": {
            "color": "#FFA15A",
            "size": [
             15
            ],
            "sizemode": "area",
            "sizeref": 0.1225,
            "symbol": "circle"
           },
           "mode": "markers",
           "name": "Oceania",
           "orientation": "v",
           "showlegend": true,
           "type": "scatter",
           "x": [
            191567894
           ],
           "xaxis": "x",
           "y": [
            18685072.1351567
           ],
           "yaxis": "y"
          }
         ],
         "name": "2012"
        },
        {
         "data": [
          {
           "hovertemplate": "<b>%{hovertext}</b><br><br>Continent=Africa<br>Year=2013<br>Quantity=%{x}<br>Trade (USD)=%{y}<br>Nr of Countries=%{marker.size}<extra></extra>",
           "hovertext": [
            "Africa"
           ],
           "ids": [
            "Africa"
           ],
           "legendgroup": "Africa",
           "marker": {
            "color": "#636efa",
            "size": [
             49
            ],
            "sizemode": "area",
            "sizeref": 0.1225,
            "symbol": "circle"
           },
           "mode": "markers",
           "name": "Africa",
           "orientation": "v",
           "showlegend": true,
           "type": "scatter",
           "x": [
            104311776.14823529
           ],
           "xaxis": "x",
           "y": [
            325248933.1659761
           ],
           "yaxis": "y"
          },
          {
           "hovertemplate": "<b>%{hovertext}</b><br><br>Continent=Europe<br>Year=2013<br>Quantity=%{x}<br>Trade (USD)=%{y}<br>Nr of Countries=%{marker.size}<extra></extra>",
           "hovertext": [
            "Europe"
           ],
           "ids": [
            "Europe"
           ],
           "legendgroup": "Europe",
           "marker": {
            "color": "#EF553B",
            "size": [
             42
            ],
            "sizemode": "area",
            "sizeref": 0.1225,
            "symbol": "circle"
           },
           "mode": "markers",
           "name": "Europe",
           "orientation": "v",
           "showlegend": true,
           "type": "scatter",
           "x": [
            16616995.002355099
           ],
           "xaxis": "x",
           "y": [
            46586421.47531938
           ],
           "yaxis": "y"
          },
          {
           "hovertemplate": "<b>%{hovertext}</b><br><br>Continent=Asia<br>Year=2013<br>Quantity=%{x}<br>Trade (USD)=%{y}<br>Nr of Countries=%{marker.size}<extra></extra>",
           "hovertext": [
            "Asia"
           ],
           "ids": [
            "Asia"
           ],
           "legendgroup": "Asia",
           "marker": {
            "color": "#00cc96",
            "size": [
             44
            ],
            "sizemode": "area",
            "sizeref": 0.1225,
            "symbol": "circle"
           },
           "mode": "markers",
           "name": "Asia",
           "orientation": "v",
           "showlegend": true,
           "type": "scatter",
           "x": [
            13958544.940677015
           ],
           "xaxis": "x",
           "y": [
            34089687.37770398
           ],
           "yaxis": "y"
          },
          {
           "hovertemplate": "<b>%{hovertext}</b><br><br>Continent=Americas<br>Year=2013<br>Quantity=%{x}<br>Trade (USD)=%{y}<br>Nr of Countries=%{marker.size}<extra></extra>",
           "hovertext": [
            "Americas"
           ],
           "ids": [
            "Americas"
           ],
           "legendgroup": "Americas",
           "marker": {
            "color": "#ab63fa",
            "size": [
             43
            ],
            "sizemode": "area",
            "sizeref": 0.1225,
            "symbol": "circle"
           },
           "mode": "markers",
           "name": "Americas",
           "orientation": "v",
           "showlegend": true,
           "type": "scatter",
           "x": [
            16216019.622315789
           ],
           "xaxis": "x",
           "y": [
            40143212.65210527
           ],
           "yaxis": "y"
          },
          {
           "hovertemplate": "<b>%{hovertext}</b><br><br>Continent=Oceania<br>Year=2013<br>Quantity=%{x}<br>Trade (USD)=%{y}<br>Nr of Countries=%{marker.size}<extra></extra>",
           "hovertext": [
            "Oceania"
           ],
           "ids": [
            "Oceania"
           ],
           "legendgroup": "Oceania",
           "marker": {
            "color": "#FFA15A",
            "size": [
             15
            ],
            "sizemode": "area",
            "sizeref": 0.1225,
            "symbol": "circle"
           },
           "mode": "markers",
           "name": "Oceania",
           "orientation": "v",
           "showlegend": true,
           "type": "scatter",
           "x": [
            704701.25
           ],
           "xaxis": "x",
           "y": [
            1536743.7316916932
           ],
           "yaxis": "y"
          }
         ],
         "name": "2013"
        },
        {
         "data": [
          {
           "hovertemplate": "<b>%{hovertext}</b><br><br>Continent=Africa<br>Year=2014<br>Quantity=%{x}<br>Trade (USD)=%{y}<br>Nr of Countries=%{marker.size}<extra></extra>",
           "hovertext": [
            "Africa"
           ],
           "ids": [
            "Africa"
           ],
           "legendgroup": "Africa",
           "marker": {
            "color": "#636efa",
            "size": [
             49
            ],
            "sizemode": "area",
            "sizeref": 0.1225,
            "symbol": "circle"
           },
           "mode": "markers",
           "name": "Africa",
           "orientation": "v",
           "showlegend": true,
           "type": "scatter",
           "x": [
            85172454.95376766
           ],
           "xaxis": "x",
           "y": [
            257864633.4369194
           ],
           "yaxis": "y"
          },
          {
           "hovertemplate": "<b>%{hovertext}</b><br><br>Continent=Europe<br>Year=2014<br>Quantity=%{x}<br>Trade (USD)=%{y}<br>Nr of Countries=%{marker.size}<extra></extra>",
           "hovertext": [
            "Europe"
           ],
           "ids": [
            "Europe"
           ],
           "legendgroup": "Europe",
           "marker": {
            "color": "#EF553B",
            "size": [
             42
            ],
            "sizemode": "area",
            "sizeref": 0.1225,
            "symbol": "circle"
           },
           "mode": "markers",
           "name": "Europe",
           "orientation": "v",
           "showlegend": true,
           "type": "scatter",
           "x": [
            14944722.886894451
           ],
           "xaxis": "x",
           "y": [
            46945052.92070917
           ],
           "yaxis": "y"
          },
          {
           "hovertemplate": "<b>%{hovertext}</b><br><br>Continent=Asia<br>Year=2014<br>Quantity=%{x}<br>Trade (USD)=%{y}<br>Nr of Countries=%{marker.size}<extra></extra>",
           "hovertext": [
            "Asia"
           ],
           "ids": [
            "Asia"
           ],
           "legendgroup": "Asia",
           "marker": {
            "color": "#00cc96",
            "size": [
             44
            ],
            "sizemode": "area",
            "sizeref": 0.1225,
            "symbol": "circle"
           },
           "mode": "markers",
           "name": "Asia",
           "orientation": "v",
           "showlegend": true,
           "type": "scatter",
           "x": [
            9041407.081627058
           ],
           "xaxis": "x",
           "y": [
            28387141.19095454
           ],
           "yaxis": "y"
          },
          {
           "hovertemplate": "<b>%{hovertext}</b><br><br>Continent=Americas<br>Year=2014<br>Quantity=%{x}<br>Trade (USD)=%{y}<br>Nr of Countries=%{marker.size}<extra></extra>",
           "hovertext": [
            "Americas"
           ],
           "ids": [
            "Americas"
           ],
           "legendgroup": "Americas",
           "marker": {
            "color": "#ab63fa",
            "size": [
             43
            ],
            "sizemode": "area",
            "sizeref": 0.1225,
            "symbol": "circle"
           },
           "mode": "markers",
           "name": "Americas",
           "orientation": "v",
           "showlegend": true,
           "type": "scatter",
           "x": [
            18791057.444000002
           ],
           "xaxis": "x",
           "y": [
            56846741.41067092
           ],
           "yaxis": "y"
          },
          {
           "hovertemplate": "<b>%{hovertext}</b><br><br>Continent=Oceania<br>Year=2014<br>Quantity=%{x}<br>Trade (USD)=%{y}<br>Nr of Countries=%{marker.size}<extra></extra>",
           "hovertext": [
            "Oceania"
           ],
           "ids": [
            "Oceania"
           ],
           "legendgroup": "Oceania",
           "marker": {
            "color": "#FFA15A",
            "size": [
             15
            ],
            "sizemode": "area",
            "sizeref": 0.1225,
            "symbol": "circle"
           },
           "mode": "markers",
           "name": "Oceania",
           "orientation": "v",
           "showlegend": true,
           "type": "scatter",
           "x": [
            997237
           ],
           "xaxis": "x",
           "y": [
            2601983.31660076
           ],
           "yaxis": "y"
          }
         ],
         "name": "2014"
        },
        {
         "data": [
          {
           "hovertemplate": "<b>%{hovertext}</b><br><br>Continent=Africa<br>Year=2015<br>Quantity=%{x}<br>Trade (USD)=%{y}<br>Nr of Countries=%{marker.size}<extra></extra>",
           "hovertext": [
            "Africa"
           ],
           "ids": [
            "Africa"
           ],
           "legendgroup": "Africa",
           "marker": {
            "color": "#636efa",
            "size": [
             49
            ],
            "sizemode": "area",
            "sizeref": 0.1225,
            "symbol": "circle"
           },
           "mode": "markers",
           "name": "Africa",
           "orientation": "v",
           "showlegend": true,
           "type": "scatter",
           "x": [
            146273817.90636364
           ],
           "xaxis": "x",
           "y": [
            412468013.7697014
           ],
           "yaxis": "y"
          },
          {
           "hovertemplate": "<b>%{hovertext}</b><br><br>Continent=Europe<br>Year=2015<br>Quantity=%{x}<br>Trade (USD)=%{y}<br>Nr of Countries=%{marker.size}<extra></extra>",
           "hovertext": [
            "Europe"
           ],
           "ids": [
            "Europe"
           ],
           "legendgroup": "Europe",
           "marker": {
            "color": "#EF553B",
            "size": [
             42
            ],
            "sizemode": "area",
            "sizeref": 0.1225,
            "symbol": "circle"
           },
           "mode": "markers",
           "name": "Europe",
           "orientation": "v",
           "showlegend": true,
           "type": "scatter",
           "x": [
            15697537.709712366
           ],
           "xaxis": "x",
           "y": [
            49873929.76316619
           ],
           "yaxis": "y"
          },
          {
           "hovertemplate": "<b>%{hovertext}</b><br><br>Continent=Asia<br>Year=2015<br>Quantity=%{x}<br>Trade (USD)=%{y}<br>Nr of Countries=%{marker.size}<extra></extra>",
           "hovertext": [
            "Asia"
           ],
           "ids": [
            "Asia"
           ],
           "legendgroup": "Asia",
           "marker": {
            "color": "#00cc96",
            "size": [
             44
            ],
            "sizemode": "area",
            "sizeref": 0.1225,
            "symbol": "circle"
           },
           "mode": "markers",
           "name": "Asia",
           "orientation": "v",
           "showlegend": true,
           "type": "scatter",
           "x": [
            8157881.448
           ],
           "xaxis": "x",
           "y": [
            25159106.312004663
           ],
           "yaxis": "y"
          },
          {
           "hovertemplate": "<b>%{hovertext}</b><br><br>Continent=Americas<br>Year=2015<br>Quantity=%{x}<br>Trade (USD)=%{y}<br>Nr of Countries=%{marker.size}<extra></extra>",
           "hovertext": [
            "Americas"
           ],
           "ids": [
            "Americas"
           ],
           "legendgroup": "Americas",
           "marker": {
            "color": "#ab63fa",
            "size": [
             43
            ],
            "sizemode": "area",
            "sizeref": 0.1225,
            "symbol": "circle"
           },
           "mode": "markers",
           "name": "Americas",
           "orientation": "v",
           "showlegend": true,
           "type": "scatter",
           "x": [
            22019414.319553096
           ],
           "xaxis": "x",
           "y": [
            67204624.77258494
           ],
           "yaxis": "y"
          },
          {
           "hovertemplate": "<b>%{hovertext}</b><br><br>Continent=Oceania<br>Year=2015<br>Quantity=%{x}<br>Trade (USD)=%{y}<br>Nr of Countries=%{marker.size}<extra></extra>",
           "hovertext": [
            "Oceania"
           ],
           "ids": [
            "Oceania"
           ],
           "legendgroup": "Oceania",
           "marker": {
            "color": "#FFA15A",
            "size": [
             15
            ],
            "sizemode": "area",
            "sizeref": 0.1225,
            "symbol": "circle"
           },
           "mode": "markers",
           "name": "Oceania",
           "orientation": "v",
           "showlegend": true,
           "type": "scatter",
           "x": [
            796798.6666666666
           ],
           "xaxis": "x",
           "y": [
            1936051.9189035334
           ],
           "yaxis": "y"
          }
         ],
         "name": "2015"
        },
        {
         "data": [
          {
           "hovertemplate": "<b>%{hovertext}</b><br><br>Continent=Africa<br>Year=2016<br>Quantity=%{x}<br>Trade (USD)=%{y}<br>Nr of Countries=%{marker.size}<extra></extra>",
           "hovertext": [
            "Africa"
           ],
           "ids": [
            "Africa"
           ],
           "legendgroup": "Africa",
           "marker": {
            "color": "#636efa",
            "size": [
             49
            ],
            "sizemode": "area",
            "sizeref": 0.1225,
            "symbol": "circle"
           },
           "mode": "markers",
           "name": "Africa",
           "orientation": "v",
           "showlegend": true,
           "type": "scatter",
           "x": [
            136585683.97835177
           ],
           "xaxis": "x",
           "y": [
            400180774.4091244
           ],
           "yaxis": "y"
          },
          {
           "hovertemplate": "<b>%{hovertext}</b><br><br>Continent=Europe<br>Year=2016<br>Quantity=%{x}<br>Trade (USD)=%{y}<br>Nr of Countries=%{marker.size}<extra></extra>",
           "hovertext": [
            "Europe"
           ],
           "ids": [
            "Europe"
           ],
           "legendgroup": "Europe",
           "marker": {
            "color": "#EF553B",
            "size": [
             42
            ],
            "sizemode": "area",
            "sizeref": 0.1225,
            "symbol": "circle"
           },
           "mode": "markers",
           "name": "Europe",
           "orientation": "v",
           "showlegend": true,
           "type": "scatter",
           "x": [
            13694558.960530251
           ],
           "xaxis": "x",
           "y": [
            44401345.88876606
           ],
           "yaxis": "y"
          },
          {
           "hovertemplate": "<b>%{hovertext}</b><br><br>Continent=Asia<br>Year=2016<br>Quantity=%{x}<br>Trade (USD)=%{y}<br>Nr of Countries=%{marker.size}<extra></extra>",
           "hovertext": [
            "Asia"
           ],
           "ids": [
            "Asia"
           ],
           "legendgroup": "Asia",
           "marker": {
            "color": "#00cc96",
            "size": [
             44
            ],
            "sizemode": "area",
            "sizeref": 0.1225,
            "symbol": "circle"
           },
           "mode": "markers",
           "name": "Asia",
           "orientation": "v",
           "showlegend": true,
           "type": "scatter",
           "x": [
            7293383.791221119
           ],
           "xaxis": "x",
           "y": [
            22236983.68914251
           ],
           "yaxis": "y"
          },
          {
           "hovertemplate": "<b>%{hovertext}</b><br><br>Continent=Americas<br>Year=2016<br>Quantity=%{x}<br>Trade (USD)=%{y}<br>Nr of Countries=%{marker.size}<extra></extra>",
           "hovertext": [
            "Americas"
           ],
           "ids": [
            "Americas"
           ],
           "legendgroup": "Americas",
           "marker": {
            "color": "#ab63fa",
            "size": [
             43
            ],
            "sizemode": "area",
            "sizeref": 0.1225,
            "symbol": "circle"
           },
           "mode": "markers",
           "name": "Americas",
           "orientation": "v",
           "showlegend": true,
           "type": "scatter",
           "x": [
            22658455.507592317
           ],
           "xaxis": "x",
           "y": [
            65783866.13833608
           ],
           "yaxis": "y"
          },
          {
           "hovertemplate": "<b>%{hovertext}</b><br><br>Continent=Oceania<br>Year=2016<br>Quantity=%{x}<br>Trade (USD)=%{y}<br>Nr of Countries=%{marker.size}<extra></extra>",
           "hovertext": [
            "Oceania"
           ],
           "ids": [
            "Oceania"
           ],
           "legendgroup": "Oceania",
           "marker": {
            "color": "#FFA15A",
            "size": [
             15
            ],
            "sizemode": "area",
            "sizeref": 0.1225,
            "symbol": "circle"
           },
           "mode": "markers",
           "name": "Oceania",
           "orientation": "v",
           "showlegend": true,
           "type": "scatter",
           "x": [
            1129611.2
           ],
           "xaxis": "x",
           "y": [
            2805121.957031906
           ],
           "yaxis": "y"
          }
         ],
         "name": "2016"
        },
        {
         "data": [
          {
           "hovertemplate": "<b>%{hovertext}</b><br><br>Continent=Africa<br>Year=2017<br>Quantity=%{x}<br>Trade (USD)=%{y}<br>Nr of Countries=%{marker.size}<extra></extra>",
           "hovertext": [
            "Africa"
           ],
           "ids": [
            "Africa"
           ],
           "legendgroup": "Africa",
           "marker": {
            "color": "#636efa",
            "size": [
             49
            ],
            "sizemode": "area",
            "sizeref": 0.1225,
            "symbol": "circle"
           },
           "mode": "markers",
           "name": "Africa",
           "orientation": "v",
           "showlegend": true,
           "type": "scatter",
           "x": [
            159483154.8267282
           ],
           "xaxis": "x",
           "y": [
            366422782.76685286
           ],
           "yaxis": "y"
          },
          {
           "hovertemplate": "<b>%{hovertext}</b><br><br>Continent=Europe<br>Year=2017<br>Quantity=%{x}<br>Trade (USD)=%{y}<br>Nr of Countries=%{marker.size}<extra></extra>",
           "hovertext": [
            "Europe"
           ],
           "ids": [
            "Europe"
           ],
           "legendgroup": "Europe",
           "marker": {
            "color": "#EF553B",
            "size": [
             42
            ],
            "sizemode": "area",
            "sizeref": 0.1225,
            "symbol": "circle"
           },
           "mode": "markers",
           "name": "Europe",
           "orientation": "v",
           "showlegend": true,
           "type": "scatter",
           "x": [
            14461728.06868376
           ],
           "xaxis": "x",
           "y": [
            39727546.11503226
           ],
           "yaxis": "y"
          },
          {
           "hovertemplate": "<b>%{hovertext}</b><br><br>Continent=Asia<br>Year=2017<br>Quantity=%{x}<br>Trade (USD)=%{y}<br>Nr of Countries=%{marker.size}<extra></extra>",
           "hovertext": [
            "Asia"
           ],
           "ids": [
            "Asia"
           ],
           "legendgroup": "Asia",
           "marker": {
            "color": "#00cc96",
            "size": [
             44
            ],
            "sizemode": "area",
            "sizeref": 0.1225,
            "symbol": "circle"
           },
           "mode": "markers",
           "name": "Asia",
           "orientation": "v",
           "showlegend": true,
           "type": "scatter",
           "x": [
            10427166.012314178
           ],
           "xaxis": "x",
           "y": [
            22760099.39940895
           ],
           "yaxis": "y"
          },
          {
           "hovertemplate": "<b>%{hovertext}</b><br><br>Continent=Americas<br>Year=2017<br>Quantity=%{x}<br>Trade (USD)=%{y}<br>Nr of Countries=%{marker.size}<extra></extra>",
           "hovertext": [
            "Americas"
           ],
           "ids": [
            "Americas"
           ],
           "legendgroup": "Americas",
           "marker": {
            "color": "#ab63fa",
            "size": [
             43
            ],
            "sizemode": "area",
            "sizeref": 0.1225,
            "symbol": "circle"
           },
           "mode": "markers",
           "name": "Americas",
           "orientation": "v",
           "showlegend": true,
           "type": "scatter",
           "x": [
            23890129.037773266
           ],
           "xaxis": "x",
           "y": [
            54604184.25767216
           ],
           "yaxis": "y"
          },
          {
           "hovertemplate": "<b>%{hovertext}</b><br><br>Continent=Oceania<br>Year=2017<br>Quantity=%{x}<br>Trade (USD)=%{y}<br>Nr of Countries=%{marker.size}<extra></extra>",
           "hovertext": [
            "Oceania"
           ],
           "ids": [
            "Oceania"
           ],
           "legendgroup": "Oceania",
           "marker": {
            "color": "#FFA15A",
            "size": [
             15
            ],
            "sizemode": "area",
            "sizeref": 0.1225,
            "symbol": "circle"
           },
           "mode": "markers",
           "name": "Oceania",
           "orientation": "v",
           "showlegend": true,
           "type": "scatter",
           "x": [
            848848.54
           ],
           "xaxis": "x",
           "y": [
            944488.790023448
           ],
           "yaxis": "y"
          }
         ],
         "name": "2017"
        },
        {
         "data": [
          {
           "hovertemplate": "<b>%{hovertext}</b><br><br>Continent=Africa<br>Year=2018<br>Quantity=%{x}<br>Trade (USD)=%{y}<br>Nr of Countries=%{marker.size}<extra></extra>",
           "hovertext": [
            "Africa"
           ],
           "ids": [
            "Africa"
           ],
           "legendgroup": "Africa",
           "marker": {
            "color": "#636efa",
            "size": [
             49
            ],
            "sizemode": "area",
            "sizeref": 0.1225,
            "symbol": "circle"
           },
           "mode": "markers",
           "name": "Africa",
           "orientation": "v",
           "showlegend": true,
           "type": "scatter",
           "x": [
            115459843.26444824
           ],
           "xaxis": "x",
           "y": [
            676588309.1908256
           ],
           "yaxis": "y"
          },
          {
           "hovertemplate": "<b>%{hovertext}</b><br><br>Continent=Europe<br>Year=2018<br>Quantity=%{x}<br>Trade (USD)=%{y}<br>Nr of Countries=%{marker.size}<extra></extra>",
           "hovertext": [
            "Europe"
           ],
           "ids": [
            "Europe"
           ],
           "legendgroup": "Europe",
           "marker": {
            "color": "#EF553B",
            "size": [
             42
            ],
            "sizemode": "area",
            "sizeref": 0.1225,
            "symbol": "circle"
           },
           "mode": "markers",
           "name": "Europe",
           "orientation": "v",
           "showlegend": true,
           "type": "scatter",
           "x": [
            13090776.457054026
           ],
           "xaxis": "x",
           "y": [
            34698526.5349615
           ],
           "yaxis": "y"
          },
          {
           "hovertemplate": "<b>%{hovertext}</b><br><br>Continent=Asia<br>Year=2018<br>Quantity=%{x}<br>Trade (USD)=%{y}<br>Nr of Countries=%{marker.size}<extra></extra>",
           "hovertext": [
            "Asia"
           ],
           "ids": [
            "Asia"
           ],
           "legendgroup": "Asia",
           "marker": {
            "color": "#00cc96",
            "size": [
             44
            ],
            "sizemode": "area",
            "sizeref": 0.1225,
            "symbol": "circle"
           },
           "mode": "markers",
           "name": "Asia",
           "orientation": "v",
           "showlegend": true,
           "type": "scatter",
           "x": [
            9003651.83364184
           ],
           "xaxis": "x",
           "y": [
            20978510.037405342
           ],
           "yaxis": "y"
          },
          {
           "hovertemplate": "<b>%{hovertext}</b><br><br>Continent=Americas<br>Year=2018<br>Quantity=%{x}<br>Trade (USD)=%{y}<br>Nr of Countries=%{marker.size}<extra></extra>",
           "hovertext": [
            "Americas"
           ],
           "ids": [
            "Americas"
           ],
           "legendgroup": "Americas",
           "marker": {
            "color": "#ab63fa",
            "size": [
             43
            ],
            "sizemode": "area",
            "sizeref": 0.1225,
            "symbol": "circle"
           },
           "mode": "markers",
           "name": "Americas",
           "orientation": "v",
           "showlegend": true,
           "type": "scatter",
           "x": [
            22063834.01214286
           ],
           "xaxis": "x",
           "y": [
            63883454.229574956
           ],
           "yaxis": "y"
          },
          {
           "hovertemplate": "<b>%{hovertext}</b><br><br>Continent=Oceania<br>Year=2018<br>Quantity=%{x}<br>Trade (USD)=%{y}<br>Nr of Countries=%{marker.size}<extra></extra>",
           "hovertext": [
            "Oceania"
           ],
           "ids": [
            "Oceania"
           ],
           "legendgroup": "Oceania",
           "marker": {
            "color": "#FFA15A",
            "size": [
             15
            ],
            "sizemode": "area",
            "sizeref": 0.1225,
            "symbol": "circle"
           },
           "mode": "markers",
           "name": "Oceania",
           "orientation": "v",
           "showlegend": true,
           "type": "scatter",
           "x": [
            1021310.777449941
           ],
           "xaxis": "x",
           "y": [
            1793765.84208345
           ],
           "yaxis": "y"
          }
         ],
         "name": "2018"
        },
        {
         "data": [
          {
           "hovertemplate": "<b>%{hovertext}</b><br><br>Continent=Africa<br>Year=2019<br>Quantity=%{x}<br>Trade (USD)=%{y}<br>Nr of Countries=%{marker.size}<extra></extra>",
           "hovertext": [
            "Africa"
           ],
           "ids": [
            "Africa"
           ],
           "legendgroup": "Africa",
           "marker": {
            "color": "#636efa",
            "size": [
             49
            ],
            "sizemode": "area",
            "sizeref": 0.1225,
            "symbol": "circle"
           },
           "mode": "markers",
           "name": "Africa",
           "orientation": "v",
           "showlegend": true,
           "type": "scatter",
           "x": [
            101
           ],
           "xaxis": "x",
           "y": [
            345.5055
           ],
           "yaxis": "y"
          },
          {
           "hovertemplate": "<b>%{hovertext}</b><br><br>Continent=Europe<br>Year=2019<br>Quantity=%{x}<br>Trade (USD)=%{y}<br>Nr of Countries=%{marker.size}<extra></extra>",
           "hovertext": [
            "Europe"
           ],
           "ids": [
            "Europe"
           ],
           "legendgroup": "Europe",
           "marker": {
            "color": "#EF553B",
            "size": [
             42
            ],
            "sizemode": "area",
            "sizeref": 0.1225,
            "symbol": "circle"
           },
           "mode": "markers",
           "name": "Europe",
           "orientation": "v",
           "showlegend": true,
           "type": "scatter",
           "x": [
            72832.39434161689
           ],
           "xaxis": "x",
           "y": [
            416452.1248279333
           ],
           "yaxis": "y"
          },
          {
           "hovertemplate": "<b>%{hovertext}</b><br><br>Continent=Asia<br>Year=2019<br>Quantity=%{x}<br>Trade (USD)=%{y}<br>Nr of Countries=%{marker.size}<extra></extra>",
           "hovertext": [
            "Asia"
           ],
           "ids": [
            "Asia"
           ],
           "legendgroup": "Asia",
           "marker": {
            "color": "#00cc96",
            "size": [
             44
            ],
            "sizemode": "area",
            "sizeref": 0.1225,
            "symbol": "circle"
           },
           "mode": "markers",
           "name": "Asia",
           "orientation": "v",
           "showlegend": true,
           "type": "scatter",
           "x": [
            13287.5
           ],
           "xaxis": "x",
           "y": [
            12014.63204
           ],
           "yaxis": "y"
          },
          {
           "hovertemplate": "<b>%{hovertext}</b><br><br>Continent=Americas<br>Year=2019<br>Quantity=%{x}<br>Trade (USD)=%{y}<br>Nr of Countries=%{marker.size}<extra></extra>",
           "hovertext": [
            "Americas"
           ],
           "ids": [
            "Americas"
           ],
           "legendgroup": "Americas",
           "marker": {
            "color": "#ab63fa",
            "size": [
             43
            ],
            "sizemode": "area",
            "sizeref": 0.1225,
            "symbol": "circle"
           },
           "mode": "markers",
           "name": "Americas",
           "orientation": "v",
           "showlegend": true,
           "type": "scatter",
           "x": [
            3505820.5195016004
           ],
           "xaxis": "x",
           "y": [
            7535430.2400131
           ],
           "yaxis": "y"
          }
         ],
         "name": "2019"
        }
       ],
       "layout": {
        "legend": {
         "itemsizing": "constant",
         "title": {
          "text": "Continent"
         },
         "tracegroupgap": 0
        },
        "margin": {
         "t": 60
        },
        "sliders": [
         {
          "active": 0,
          "currentvalue": {
           "prefix": "Year="
          },
          "len": 0.9,
          "pad": {
           "b": 10,
           "t": 60
          },
          "steps": [
           {
            "args": [
             [
              "1991"
             ],
             {
              "frame": {
               "duration": 0,
               "redraw": false
              },
              "fromcurrent": true,
              "mode": "immediate",
              "transition": {
               "duration": 0,
               "easing": "linear"
              }
             }
            ],
            "label": "1991",
            "method": "animate"
           },
           {
            "args": [
             [
              "1992"
             ],
             {
              "frame": {
               "duration": 0,
               "redraw": false
              },
              "fromcurrent": true,
              "mode": "immediate",
              "transition": {
               "duration": 0,
               "easing": "linear"
              }
             }
            ],
            "label": "1992",
            "method": "animate"
           },
           {
            "args": [
             [
              "1993"
             ],
             {
              "frame": {
               "duration": 0,
               "redraw": false
              },
              "fromcurrent": true,
              "mode": "immediate",
              "transition": {
               "duration": 0,
               "easing": "linear"
              }
             }
            ],
            "label": "1993",
            "method": "animate"
           },
           {
            "args": [
             [
              "1994"
             ],
             {
              "frame": {
               "duration": 0,
               "redraw": false
              },
              "fromcurrent": true,
              "mode": "immediate",
              "transition": {
               "duration": 0,
               "easing": "linear"
              }
             }
            ],
            "label": "1994",
            "method": "animate"
           },
           {
            "args": [
             [
              "1995"
             ],
             {
              "frame": {
               "duration": 0,
               "redraw": false
              },
              "fromcurrent": true,
              "mode": "immediate",
              "transition": {
               "duration": 0,
               "easing": "linear"
              }
             }
            ],
            "label": "1995",
            "method": "animate"
           },
           {
            "args": [
             [
              "1996"
             ],
             {
              "frame": {
               "duration": 0,
               "redraw": false
              },
              "fromcurrent": true,
              "mode": "immediate",
              "transition": {
               "duration": 0,
               "easing": "linear"
              }
             }
            ],
            "label": "1996",
            "method": "animate"
           },
           {
            "args": [
             [
              "1997"
             ],
             {
              "frame": {
               "duration": 0,
               "redraw": false
              },
              "fromcurrent": true,
              "mode": "immediate",
              "transition": {
               "duration": 0,
               "easing": "linear"
              }
             }
            ],
            "label": "1997",
            "method": "animate"
           },
           {
            "args": [
             [
              "1998"
             ],
             {
              "frame": {
               "duration": 0,
               "redraw": false
              },
              "fromcurrent": true,
              "mode": "immediate",
              "transition": {
               "duration": 0,
               "easing": "linear"
              }
             }
            ],
            "label": "1998",
            "method": "animate"
           },
           {
            "args": [
             [
              "1999"
             ],
             {
              "frame": {
               "duration": 0,
               "redraw": false
              },
              "fromcurrent": true,
              "mode": "immediate",
              "transition": {
               "duration": 0,
               "easing": "linear"
              }
             }
            ],
            "label": "1999",
            "method": "animate"
           },
           {
            "args": [
             [
              "2000"
             ],
             {
              "frame": {
               "duration": 0,
               "redraw": false
              },
              "fromcurrent": true,
              "mode": "immediate",
              "transition": {
               "duration": 0,
               "easing": "linear"
              }
             }
            ],
            "label": "2000",
            "method": "animate"
           },
           {
            "args": [
             [
              "2001"
             ],
             {
              "frame": {
               "duration": 0,
               "redraw": false
              },
              "fromcurrent": true,
              "mode": "immediate",
              "transition": {
               "duration": 0,
               "easing": "linear"
              }
             }
            ],
            "label": "2001",
            "method": "animate"
           },
           {
            "args": [
             [
              "2002"
             ],
             {
              "frame": {
               "duration": 0,
               "redraw": false
              },
              "fromcurrent": true,
              "mode": "immediate",
              "transition": {
               "duration": 0,
               "easing": "linear"
              }
             }
            ],
            "label": "2002",
            "method": "animate"
           },
           {
            "args": [
             [
              "2003"
             ],
             {
              "frame": {
               "duration": 0,
               "redraw": false
              },
              "fromcurrent": true,
              "mode": "immediate",
              "transition": {
               "duration": 0,
               "easing": "linear"
              }
             }
            ],
            "label": "2003",
            "method": "animate"
           },
           {
            "args": [
             [
              "2004"
             ],
             {
              "frame": {
               "duration": 0,
               "redraw": false
              },
              "fromcurrent": true,
              "mode": "immediate",
              "transition": {
               "duration": 0,
               "easing": "linear"
              }
             }
            ],
            "label": "2004",
            "method": "animate"
           },
           {
            "args": [
             [
              "2005"
             ],
             {
              "frame": {
               "duration": 0,
               "redraw": false
              },
              "fromcurrent": true,
              "mode": "immediate",
              "transition": {
               "duration": 0,
               "easing": "linear"
              }
             }
            ],
            "label": "2005",
            "method": "animate"
           },
           {
            "args": [
             [
              "2006"
             ],
             {
              "frame": {
               "duration": 0,
               "redraw": false
              },
              "fromcurrent": true,
              "mode": "immediate",
              "transition": {
               "duration": 0,
               "easing": "linear"
              }
             }
            ],
            "label": "2006",
            "method": "animate"
           },
           {
            "args": [
             [
              "2007"
             ],
             {
              "frame": {
               "duration": 0,
               "redraw": false
              },
              "fromcurrent": true,
              "mode": "immediate",
              "transition": {
               "duration": 0,
               "easing": "linear"
              }
             }
            ],
            "label": "2007",
            "method": "animate"
           },
           {
            "args": [
             [
              "2008"
             ],
             {
              "frame": {
               "duration": 0,
               "redraw": false
              },
              "fromcurrent": true,
              "mode": "immediate",
              "transition": {
               "duration": 0,
               "easing": "linear"
              }
             }
            ],
            "label": "2008",
            "method": "animate"
           },
           {
            "args": [
             [
              "2009"
             ],
             {
              "frame": {
               "duration": 0,
               "redraw": false
              },
              "fromcurrent": true,
              "mode": "immediate",
              "transition": {
               "duration": 0,
               "easing": "linear"
              }
             }
            ],
            "label": "2009",
            "method": "animate"
           },
           {
            "args": [
             [
              "2010"
             ],
             {
              "frame": {
               "duration": 0,
               "redraw": false
              },
              "fromcurrent": true,
              "mode": "immediate",
              "transition": {
               "duration": 0,
               "easing": "linear"
              }
             }
            ],
            "label": "2010",
            "method": "animate"
           },
           {
            "args": [
             [
              "2011"
             ],
             {
              "frame": {
               "duration": 0,
               "redraw": false
              },
              "fromcurrent": true,
              "mode": "immediate",
              "transition": {
               "duration": 0,
               "easing": "linear"
              }
             }
            ],
            "label": "2011",
            "method": "animate"
           },
           {
            "args": [
             [
              "2012"
             ],
             {
              "frame": {
               "duration": 0,
               "redraw": false
              },
              "fromcurrent": true,
              "mode": "immediate",
              "transition": {
               "duration": 0,
               "easing": "linear"
              }
             }
            ],
            "label": "2012",
            "method": "animate"
           },
           {
            "args": [
             [
              "2013"
             ],
             {
              "frame": {
               "duration": 0,
               "redraw": false
              },
              "fromcurrent": true,
              "mode": "immediate",
              "transition": {
               "duration": 0,
               "easing": "linear"
              }
             }
            ],
            "label": "2013",
            "method": "animate"
           },
           {
            "args": [
             [
              "2014"
             ],
             {
              "frame": {
               "duration": 0,
               "redraw": false
              },
              "fromcurrent": true,
              "mode": "immediate",
              "transition": {
               "duration": 0,
               "easing": "linear"
              }
             }
            ],
            "label": "2014",
            "method": "animate"
           },
           {
            "args": [
             [
              "2015"
             ],
             {
              "frame": {
               "duration": 0,
               "redraw": false
              },
              "fromcurrent": true,
              "mode": "immediate",
              "transition": {
               "duration": 0,
               "easing": "linear"
              }
             }
            ],
            "label": "2015",
            "method": "animate"
           },
           {
            "args": [
             [
              "2016"
             ],
             {
              "frame": {
               "duration": 0,
               "redraw": false
              },
              "fromcurrent": true,
              "mode": "immediate",
              "transition": {
               "duration": 0,
               "easing": "linear"
              }
             }
            ],
            "label": "2016",
            "method": "animate"
           },
           {
            "args": [
             [
              "2017"
             ],
             {
              "frame": {
               "duration": 0,
               "redraw": false
              },
              "fromcurrent": true,
              "mode": "immediate",
              "transition": {
               "duration": 0,
               "easing": "linear"
              }
             }
            ],
            "label": "2017",
            "method": "animate"
           },
           {
            "args": [
             [
              "2018"
             ],
             {
              "frame": {
               "duration": 0,
               "redraw": false
              },
              "fromcurrent": true,
              "mode": "immediate",
              "transition": {
               "duration": 0,
               "easing": "linear"
              }
             }
            ],
            "label": "2018",
            "method": "animate"
           },
           {
            "args": [
             [
              "2019"
             ],
             {
              "frame": {
               "duration": 0,
               "redraw": false
              },
              "fromcurrent": true,
              "mode": "immediate",
              "transition": {
               "duration": 0,
               "easing": "linear"
              }
             }
            ],
            "label": "2019",
            "method": "animate"
           }
          ],
          "x": 0.1,
          "xanchor": "left",
          "y": 0,
          "yanchor": "top"
         }
        ],
        "template": {
         "data": {
          "bar": [
           {
            "error_x": {
             "color": "#2a3f5f"
            },
            "error_y": {
             "color": "#2a3f5f"
            },
            "marker": {
             "line": {
              "color": "#E5ECF6",
              "width": 0.5
             },
             "pattern": {
              "fillmode": "overlay",
              "size": 10,
              "solidity": 0.2
             }
            },
            "type": "bar"
           }
          ],
          "barpolar": [
           {
            "marker": {
             "line": {
              "color": "#E5ECF6",
              "width": 0.5
             },
             "pattern": {
              "fillmode": "overlay",
              "size": 10,
              "solidity": 0.2
             }
            },
            "type": "barpolar"
           }
          ],
          "carpet": [
           {
            "aaxis": {
             "endlinecolor": "#2a3f5f",
             "gridcolor": "white",
             "linecolor": "white",
             "minorgridcolor": "white",
             "startlinecolor": "#2a3f5f"
            },
            "baxis": {
             "endlinecolor": "#2a3f5f",
             "gridcolor": "white",
             "linecolor": "white",
             "minorgridcolor": "white",
             "startlinecolor": "#2a3f5f"
            },
            "type": "carpet"
           }
          ],
          "choropleth": [
           {
            "colorbar": {
             "outlinewidth": 0,
             "ticks": ""
            },
            "type": "choropleth"
           }
          ],
          "contour": [
           {
            "colorbar": {
             "outlinewidth": 0,
             "ticks": ""
            },
            "colorscale": [
             [
              0,
              "#0d0887"
             ],
             [
              0.1111111111111111,
              "#46039f"
             ],
             [
              0.2222222222222222,
              "#7201a8"
             ],
             [
              0.3333333333333333,
              "#9c179e"
             ],
             [
              0.4444444444444444,
              "#bd3786"
             ],
             [
              0.5555555555555556,
              "#d8576b"
             ],
             [
              0.6666666666666666,
              "#ed7953"
             ],
             [
              0.7777777777777778,
              "#fb9f3a"
             ],
             [
              0.8888888888888888,
              "#fdca26"
             ],
             [
              1,
              "#f0f921"
             ]
            ],
            "type": "contour"
           }
          ],
          "contourcarpet": [
           {
            "colorbar": {
             "outlinewidth": 0,
             "ticks": ""
            },
            "type": "contourcarpet"
           }
          ],
          "heatmap": [
           {
            "colorbar": {
             "outlinewidth": 0,
             "ticks": ""
            },
            "colorscale": [
             [
              0,
              "#0d0887"
             ],
             [
              0.1111111111111111,
              "#46039f"
             ],
             [
              0.2222222222222222,
              "#7201a8"
             ],
             [
              0.3333333333333333,
              "#9c179e"
             ],
             [
              0.4444444444444444,
              "#bd3786"
             ],
             [
              0.5555555555555556,
              "#d8576b"
             ],
             [
              0.6666666666666666,
              "#ed7953"
             ],
             [
              0.7777777777777778,
              "#fb9f3a"
             ],
             [
              0.8888888888888888,
              "#fdca26"
             ],
             [
              1,
              "#f0f921"
             ]
            ],
            "type": "heatmap"
           }
          ],
          "heatmapgl": [
           {
            "colorbar": {
             "outlinewidth": 0,
             "ticks": ""
            },
            "colorscale": [
             [
              0,
              "#0d0887"
             ],
             [
              0.1111111111111111,
              "#46039f"
             ],
             [
              0.2222222222222222,
              "#7201a8"
             ],
             [
              0.3333333333333333,
              "#9c179e"
             ],
             [
              0.4444444444444444,
              "#bd3786"
             ],
             [
              0.5555555555555556,
              "#d8576b"
             ],
             [
              0.6666666666666666,
              "#ed7953"
             ],
             [
              0.7777777777777778,
              "#fb9f3a"
             ],
             [
              0.8888888888888888,
              "#fdca26"
             ],
             [
              1,
              "#f0f921"
             ]
            ],
            "type": "heatmapgl"
           }
          ],
          "histogram": [
           {
            "marker": {
             "pattern": {
              "fillmode": "overlay",
              "size": 10,
              "solidity": 0.2
             }
            },
            "type": "histogram"
           }
          ],
          "histogram2d": [
           {
            "colorbar": {
             "outlinewidth": 0,
             "ticks": ""
            },
            "colorscale": [
             [
              0,
              "#0d0887"
             ],
             [
              0.1111111111111111,
              "#46039f"
             ],
             [
              0.2222222222222222,
              "#7201a8"
             ],
             [
              0.3333333333333333,
              "#9c179e"
             ],
             [
              0.4444444444444444,
              "#bd3786"
             ],
             [
              0.5555555555555556,
              "#d8576b"
             ],
             [
              0.6666666666666666,
              "#ed7953"
             ],
             [
              0.7777777777777778,
              "#fb9f3a"
             ],
             [
              0.8888888888888888,
              "#fdca26"
             ],
             [
              1,
              "#f0f921"
             ]
            ],
            "type": "histogram2d"
           }
          ],
          "histogram2dcontour": [
           {
            "colorbar": {
             "outlinewidth": 0,
             "ticks": ""
            },
            "colorscale": [
             [
              0,
              "#0d0887"
             ],
             [
              0.1111111111111111,
              "#46039f"
             ],
             [
              0.2222222222222222,
              "#7201a8"
             ],
             [
              0.3333333333333333,
              "#9c179e"
             ],
             [
              0.4444444444444444,
              "#bd3786"
             ],
             [
              0.5555555555555556,
              "#d8576b"
             ],
             [
              0.6666666666666666,
              "#ed7953"
             ],
             [
              0.7777777777777778,
              "#fb9f3a"
             ],
             [
              0.8888888888888888,
              "#fdca26"
             ],
             [
              1,
              "#f0f921"
             ]
            ],
            "type": "histogram2dcontour"
           }
          ],
          "mesh3d": [
           {
            "colorbar": {
             "outlinewidth": 0,
             "ticks": ""
            },
            "type": "mesh3d"
           }
          ],
          "parcoords": [
           {
            "line": {
             "colorbar": {
              "outlinewidth": 0,
              "ticks": ""
             }
            },
            "type": "parcoords"
           }
          ],
          "pie": [
           {
            "automargin": true,
            "type": "pie"
           }
          ],
          "scatter": [
           {
            "marker": {
             "colorbar": {
              "outlinewidth": 0,
              "ticks": ""
             }
            },
            "type": "scatter"
           }
          ],
          "scatter3d": [
           {
            "line": {
             "colorbar": {
              "outlinewidth": 0,
              "ticks": ""
             }
            },
            "marker": {
             "colorbar": {
              "outlinewidth": 0,
              "ticks": ""
             }
            },
            "type": "scatter3d"
           }
          ],
          "scattercarpet": [
           {
            "marker": {
             "colorbar": {
              "outlinewidth": 0,
              "ticks": ""
             }
            },
            "type": "scattercarpet"
           }
          ],
          "scattergeo": [
           {
            "marker": {
             "colorbar": {
              "outlinewidth": 0,
              "ticks": ""
             }
            },
            "type": "scattergeo"
           }
          ],
          "scattergl": [
           {
            "marker": {
             "colorbar": {
              "outlinewidth": 0,
              "ticks": ""
             }
            },
            "type": "scattergl"
           }
          ],
          "scattermapbox": [
           {
            "marker": {
             "colorbar": {
              "outlinewidth": 0,
              "ticks": ""
             }
            },
            "type": "scattermapbox"
           }
          ],
          "scatterpolar": [
           {
            "marker": {
             "colorbar": {
              "outlinewidth": 0,
              "ticks": ""
             }
            },
            "type": "scatterpolar"
           }
          ],
          "scatterpolargl": [
           {
            "marker": {
             "colorbar": {
              "outlinewidth": 0,
              "ticks": ""
             }
            },
            "type": "scatterpolargl"
           }
          ],
          "scatterternary": [
           {
            "marker": {
             "colorbar": {
              "outlinewidth": 0,
              "ticks": ""
             }
            },
            "type": "scatterternary"
           }
          ],
          "surface": [
           {
            "colorbar": {
             "outlinewidth": 0,
             "ticks": ""
            },
            "colorscale": [
             [
              0,
              "#0d0887"
             ],
             [
              0.1111111111111111,
              "#46039f"
             ],
             [
              0.2222222222222222,
              "#7201a8"
             ],
             [
              0.3333333333333333,
              "#9c179e"
             ],
             [
              0.4444444444444444,
              "#bd3786"
             ],
             [
              0.5555555555555556,
              "#d8576b"
             ],
             [
              0.6666666666666666,
              "#ed7953"
             ],
             [
              0.7777777777777778,
              "#fb9f3a"
             ],
             [
              0.8888888888888888,
              "#fdca26"
             ],
             [
              1,
              "#f0f921"
             ]
            ],
            "type": "surface"
           }
          ],
          "table": [
           {
            "cells": {
             "fill": {
              "color": "#EBF0F8"
             },
             "line": {
              "color": "white"
             }
            },
            "header": {
             "fill": {
              "color": "#C8D4E3"
             },
             "line": {
              "color": "white"
             }
            },
            "type": "table"
           }
          ]
         },
         "layout": {
          "annotationdefaults": {
           "arrowcolor": "#2a3f5f",
           "arrowhead": 0,
           "arrowwidth": 1
          },
          "autotypenumbers": "strict",
          "coloraxis": {
           "colorbar": {
            "outlinewidth": 0,
            "ticks": ""
           }
          },
          "colorscale": {
           "diverging": [
            [
             0,
             "#8e0152"
            ],
            [
             0.1,
             "#c51b7d"
            ],
            [
             0.2,
             "#de77ae"
            ],
            [
             0.3,
             "#f1b6da"
            ],
            [
             0.4,
             "#fde0ef"
            ],
            [
             0.5,
             "#f7f7f7"
            ],
            [
             0.6,
             "#e6f5d0"
            ],
            [
             0.7,
             "#b8e186"
            ],
            [
             0.8,
             "#7fbc41"
            ],
            [
             0.9,
             "#4d9221"
            ],
            [
             1,
             "#276419"
            ]
           ],
           "sequential": [
            [
             0,
             "#0d0887"
            ],
            [
             0.1111111111111111,
             "#46039f"
            ],
            [
             0.2222222222222222,
             "#7201a8"
            ],
            [
             0.3333333333333333,
             "#9c179e"
            ],
            [
             0.4444444444444444,
             "#bd3786"
            ],
            [
             0.5555555555555556,
             "#d8576b"
            ],
            [
             0.6666666666666666,
             "#ed7953"
            ],
            [
             0.7777777777777778,
             "#fb9f3a"
            ],
            [
             0.8888888888888888,
             "#fdca26"
            ],
            [
             1,
             "#f0f921"
            ]
           ],
           "sequentialminus": [
            [
             0,
             "#0d0887"
            ],
            [
             0.1111111111111111,
             "#46039f"
            ],
            [
             0.2222222222222222,
             "#7201a8"
            ],
            [
             0.3333333333333333,
             "#9c179e"
            ],
            [
             0.4444444444444444,
             "#bd3786"
            ],
            [
             0.5555555555555556,
             "#d8576b"
            ],
            [
             0.6666666666666666,
             "#ed7953"
            ],
            [
             0.7777777777777778,
             "#fb9f3a"
            ],
            [
             0.8888888888888888,
             "#fdca26"
            ],
            [
             1,
             "#f0f921"
            ]
           ]
          },
          "colorway": [
           "#636efa",
           "#EF553B",
           "#00cc96",
           "#ab63fa",
           "#FFA15A",
           "#19d3f3",
           "#FF6692",
           "#B6E880",
           "#FF97FF",
           "#FECB52"
          ],
          "font": {
           "color": "#2a3f5f"
          },
          "geo": {
           "bgcolor": "white",
           "lakecolor": "white",
           "landcolor": "#E5ECF6",
           "showlakes": true,
           "showland": true,
           "subunitcolor": "white"
          },
          "hoverlabel": {
           "align": "left"
          },
          "hovermode": "closest",
          "mapbox": {
           "style": "light"
          },
          "paper_bgcolor": "white",
          "plot_bgcolor": "#E5ECF6",
          "polar": {
           "angularaxis": {
            "gridcolor": "white",
            "linecolor": "white",
            "ticks": ""
           },
           "bgcolor": "#E5ECF6",
           "radialaxis": {
            "gridcolor": "white",
            "linecolor": "white",
            "ticks": ""
           }
          },
          "scene": {
           "xaxis": {
            "backgroundcolor": "#E5ECF6",
            "gridcolor": "white",
            "gridwidth": 2,
            "linecolor": "white",
            "showbackground": true,
            "ticks": "",
            "zerolinecolor": "white"
           },
           "yaxis": {
            "backgroundcolor": "#E5ECF6",
            "gridcolor": "white",
            "gridwidth": 2,
            "linecolor": "white",
            "showbackground": true,
            "ticks": "",
            "zerolinecolor": "white"
           },
           "zaxis": {
            "backgroundcolor": "#E5ECF6",
            "gridcolor": "white",
            "gridwidth": 2,
            "linecolor": "white",
            "showbackground": true,
            "ticks": "",
            "zerolinecolor": "white"
           }
          },
          "shapedefaults": {
           "line": {
            "color": "#2a3f5f"
           }
          },
          "ternary": {
           "aaxis": {
            "gridcolor": "white",
            "linecolor": "white",
            "ticks": ""
           },
           "baxis": {
            "gridcolor": "white",
            "linecolor": "white",
            "ticks": ""
           },
           "bgcolor": "#E5ECF6",
           "caxis": {
            "gridcolor": "white",
            "linecolor": "white",
            "ticks": ""
           }
          },
          "title": {
           "x": 0.05
          },
          "xaxis": {
           "automargin": true,
           "gridcolor": "white",
           "linecolor": "white",
           "ticks": "",
           "title": {
            "standoff": 15
           },
           "zerolinecolor": "white",
           "zerolinewidth": 2
          },
          "yaxis": {
           "automargin": true,
           "gridcolor": "white",
           "linecolor": "white",
           "ticks": "",
           "title": {
            "standoff": 15
           },
           "zerolinecolor": "white",
           "zerolinewidth": 2
          }
         }
        },
        "title": {
         "text": "Quantity of Cacao Exported vs Trade (USD) by Continents in 1988 - 2019"
        },
        "updatemenus": [
         {
          "buttons": [
           {
            "args": [
             null,
             {
              "frame": {
               "duration": 500,
               "redraw": false
              },
              "fromcurrent": true,
              "mode": "immediate",
              "transition": {
               "duration": 3000,
               "easing": "linear"
              }
             }
            ],
            "label": "&#9654;",
            "method": "animate"
           },
           {
            "args": [
             [
              null
             ],
             {
              "frame": {
               "duration": 0,
               "redraw": false
              },
              "fromcurrent": true,
              "mode": "immediate",
              "transition": {
               "duration": 0,
               "easing": "linear"
              }
             }
            ],
            "label": "&#9724;",
            "method": "animate"
           }
          ],
          "direction": "left",
          "pad": {
           "r": 10,
           "t": 70
          },
          "showactive": false,
          "type": "buttons",
          "x": 0.1,
          "xanchor": "right",
          "y": 0,
          "yanchor": "top"
         }
        ],
        "xaxis": {
         "anchor": "y",
         "domain": [
          0,
          1
         ],
         "title": {
          "text": "Quantity Exported"
         }
        },
        "yaxis": {
         "anchor": "x",
         "domain": [
          0,
          1
         ],
         "title": {
          "text": "Export Trade (USD) of Cacao"
         }
        }
       }
      },
      "text/html": [
       "<div>                            <div id=\"80547164-6e0d-4e97-81ee-794039b762b8\" class=\"plotly-graph-div\" style=\"height:525px; width:100%;\"></div>            <script type=\"text/javascript\">                require([\"plotly\"], function(Plotly) {                    window.PLOTLYENV=window.PLOTLYENV || {};                                    if (document.getElementById(\"80547164-6e0d-4e97-81ee-794039b762b8\")) {                    Plotly.newPlot(                        \"80547164-6e0d-4e97-81ee-794039b762b8\",                        [{\"hovertemplate\":\"<b>%{hovertext}</b><br><br>Continent=Africa<br>Year=1991<br>Quantity=%{x}<br>Trade (USD)=%{y}<br>Nr of Countries=%{marker.size}<extra></extra>\",\"hovertext\":[\"Africa\"],\"ids\":[\"Africa\"],\"legendgroup\":\"Africa\",\"marker\":{\"color\":\"#636efa\",\"size\":[49],\"sizemode\":\"area\",\"sizeref\":0.1225,\"symbol\":\"circle\"},\"mode\":\"markers\",\"name\":\"Africa\",\"orientation\":\"v\",\"showlegend\":true,\"type\":\"scatter\",\"x\":[4272629.0],\"xaxis\":\"x\",\"y\":[3971947.0],\"yaxis\":\"y\"},{\"hovertemplate\":\"<b>%{hovertext}</b><br><br>Continent=Europe<br>Year=1991<br>Quantity=%{x}<br>Trade (USD)=%{y}<br>Nr of Countries=%{marker.size}<extra></extra>\",\"hovertext\":[\"Europe\"],\"ids\":[\"Europe\"],\"legendgroup\":\"Europe\",\"marker\":{\"color\":\"#EF553B\",\"size\":[42],\"sizemode\":\"area\",\"sizeref\":0.1225,\"symbol\":\"circle\"},\"mode\":\"markers\",\"name\":\"Europe\",\"orientation\":\"v\",\"showlegend\":true,\"type\":\"scatter\",\"x\":[270892.25],\"xaxis\":\"x\",\"y\":[332382.25],\"yaxis\":\"y\"},{\"hovertemplate\":\"<b>%{hovertext}</b><br><br>Continent=Asia<br>Year=1991<br>Quantity=%{x}<br>Trade (USD)=%{y}<br>Nr of Countries=%{marker.size}<extra></extra>\",\"hovertext\":[\"Asia\"],\"ids\":[\"Asia\"],\"legendgroup\":\"Asia\",\"marker\":{\"color\":\"#00cc96\",\"size\":[44],\"sizemode\":\"area\",\"sizeref\":0.1225,\"symbol\":\"circle\"},\"mode\":\"markers\",\"name\":\"Asia\",\"orientation\":\"v\",\"showlegend\":true,\"type\":\"scatter\",\"x\":[54075526.71428572],\"xaxis\":\"x\",\"y\":[52738619.71428572],\"yaxis\":\"y\"},{\"hovertemplate\":\"<b>%{hovertext}</b><br><br>Continent=Americas<br>Year=1991<br>Quantity=%{x}<br>Trade (USD)=%{y}<br>Nr of Countries=%{marker.size}<extra></extra>\",\"hovertext\":[\"Americas\"],\"ids\":[\"Americas\"],\"legendgroup\":\"Americas\",\"marker\":{\"color\":\"#ab63fa\",\"size\":[43],\"sizemode\":\"area\",\"sizeref\":0.1225,\"symbol\":\"circle\"},\"mode\":\"markers\",\"name\":\"Americas\",\"orientation\":\"v\",\"showlegend\":true,\"type\":\"scatter\",\"x\":[20037903.75],\"xaxis\":\"x\",\"y\":[22811836.5],\"yaxis\":\"y\"},{\"hovertemplate\":\"<b>%{hovertext}</b><br><br>Continent=Oceania<br>Year=1991<br>Quantity=%{x}<br>Trade (USD)=%{y}<br>Nr of Countries=%{marker.size}<extra></extra>\",\"hovertext\":[\"Oceania\"],\"ids\":[\"Oceania\"],\"legendgroup\":\"Oceania\",\"marker\":{\"color\":\"#FFA15A\",\"size\":[15],\"sizemode\":\"area\",\"sizeref\":0.1225,\"symbol\":\"circle\"},\"mode\":\"markers\",\"name\":\"Oceania\",\"orientation\":\"v\",\"showlegend\":true,\"type\":\"scatter\",\"x\":[1626.5],\"xaxis\":\"x\",\"y\":[2965.0],\"yaxis\":\"y\"}],                        {\"legend\":{\"itemsizing\":\"constant\",\"title\":{\"text\":\"Continent\"},\"tracegroupgap\":0},\"margin\":{\"t\":60},\"sliders\":[{\"active\":0,\"currentvalue\":{\"prefix\":\"Year=\"},\"len\":0.9,\"pad\":{\"b\":10,\"t\":60},\"steps\":[{\"args\":[[\"1991\"],{\"frame\":{\"duration\":0,\"redraw\":false},\"fromcurrent\":true,\"mode\":\"immediate\",\"transition\":{\"duration\":0,\"easing\":\"linear\"}}],\"label\":\"1991\",\"method\":\"animate\"},{\"args\":[[\"1992\"],{\"frame\":{\"duration\":0,\"redraw\":false},\"fromcurrent\":true,\"mode\":\"immediate\",\"transition\":{\"duration\":0,\"easing\":\"linear\"}}],\"label\":\"1992\",\"method\":\"animate\"},{\"args\":[[\"1993\"],{\"frame\":{\"duration\":0,\"redraw\":false},\"fromcurrent\":true,\"mode\":\"immediate\",\"transition\":{\"duration\":0,\"easing\":\"linear\"}}],\"label\":\"1993\",\"method\":\"animate\"},{\"args\":[[\"1994\"],{\"frame\":{\"duration\":0,\"redraw\":false},\"fromcurrent\":true,\"mode\":\"immediate\",\"transition\":{\"duration\":0,\"easing\":\"linear\"}}],\"label\":\"1994\",\"method\":\"animate\"},{\"args\":[[\"1995\"],{\"frame\":{\"duration\":0,\"redraw\":false},\"fromcurrent\":true,\"mode\":\"immediate\",\"transition\":{\"duration\":0,\"easing\":\"linear\"}}],\"label\":\"1995\",\"method\":\"animate\"},{\"args\":[[\"1996\"],{\"frame\":{\"duration\":0,\"redraw\":false},\"fromcurrent\":true,\"mode\":\"immediate\",\"transition\":{\"duration\":0,\"easing\":\"linear\"}}],\"label\":\"1996\",\"method\":\"animate\"},{\"args\":[[\"1997\"],{\"frame\":{\"duration\":0,\"redraw\":false},\"fromcurrent\":true,\"mode\":\"immediate\",\"transition\":{\"duration\":0,\"easing\":\"linear\"}}],\"label\":\"1997\",\"method\":\"animate\"},{\"args\":[[\"1998\"],{\"frame\":{\"duration\":0,\"redraw\":false},\"fromcurrent\":true,\"mode\":\"immediate\",\"transition\":{\"duration\":0,\"easing\":\"linear\"}}],\"label\":\"1998\",\"method\":\"animate\"},{\"args\":[[\"1999\"],{\"frame\":{\"duration\":0,\"redraw\":false},\"fromcurrent\":true,\"mode\":\"immediate\",\"transition\":{\"duration\":0,\"easing\":\"linear\"}}],\"label\":\"1999\",\"method\":\"animate\"},{\"args\":[[\"2000\"],{\"frame\":{\"duration\":0,\"redraw\":false},\"fromcurrent\":true,\"mode\":\"immediate\",\"transition\":{\"duration\":0,\"easing\":\"linear\"}}],\"label\":\"2000\",\"method\":\"animate\"},{\"args\":[[\"2001\"],{\"frame\":{\"duration\":0,\"redraw\":false},\"fromcurrent\":true,\"mode\":\"immediate\",\"transition\":{\"duration\":0,\"easing\":\"linear\"}}],\"label\":\"2001\",\"method\":\"animate\"},{\"args\":[[\"2002\"],{\"frame\":{\"duration\":0,\"redraw\":false},\"fromcurrent\":true,\"mode\":\"immediate\",\"transition\":{\"duration\":0,\"easing\":\"linear\"}}],\"label\":\"2002\",\"method\":\"animate\"},{\"args\":[[\"2003\"],{\"frame\":{\"duration\":0,\"redraw\":false},\"fromcurrent\":true,\"mode\":\"immediate\",\"transition\":{\"duration\":0,\"easing\":\"linear\"}}],\"label\":\"2003\",\"method\":\"animate\"},{\"args\":[[\"2004\"],{\"frame\":{\"duration\":0,\"redraw\":false},\"fromcurrent\":true,\"mode\":\"immediate\",\"transition\":{\"duration\":0,\"easing\":\"linear\"}}],\"label\":\"2004\",\"method\":\"animate\"},{\"args\":[[\"2005\"],{\"frame\":{\"duration\":0,\"redraw\":false},\"fromcurrent\":true,\"mode\":\"immediate\",\"transition\":{\"duration\":0,\"easing\":\"linear\"}}],\"label\":\"2005\",\"method\":\"animate\"},{\"args\":[[\"2006\"],{\"frame\":{\"duration\":0,\"redraw\":false},\"fromcurrent\":true,\"mode\":\"immediate\",\"transition\":{\"duration\":0,\"easing\":\"linear\"}}],\"label\":\"2006\",\"method\":\"animate\"},{\"args\":[[\"2007\"],{\"frame\":{\"duration\":0,\"redraw\":false},\"fromcurrent\":true,\"mode\":\"immediate\",\"transition\":{\"duration\":0,\"easing\":\"linear\"}}],\"label\":\"2007\",\"method\":\"animate\"},{\"args\":[[\"2008\"],{\"frame\":{\"duration\":0,\"redraw\":false},\"fromcurrent\":true,\"mode\":\"immediate\",\"transition\":{\"duration\":0,\"easing\":\"linear\"}}],\"label\":\"2008\",\"method\":\"animate\"},{\"args\":[[\"2009\"],{\"frame\":{\"duration\":0,\"redraw\":false},\"fromcurrent\":true,\"mode\":\"immediate\",\"transition\":{\"duration\":0,\"easing\":\"linear\"}}],\"label\":\"2009\",\"method\":\"animate\"},{\"args\":[[\"2010\"],{\"frame\":{\"duration\":0,\"redraw\":false},\"fromcurrent\":true,\"mode\":\"immediate\",\"transition\":{\"duration\":0,\"easing\":\"linear\"}}],\"label\":\"2010\",\"method\":\"animate\"},{\"args\":[[\"2011\"],{\"frame\":{\"duration\":0,\"redraw\":false},\"fromcurrent\":true,\"mode\":\"immediate\",\"transition\":{\"duration\":0,\"easing\":\"linear\"}}],\"label\":\"2011\",\"method\":\"animate\"},{\"args\":[[\"2012\"],{\"frame\":{\"duration\":0,\"redraw\":false},\"fromcurrent\":true,\"mode\":\"immediate\",\"transition\":{\"duration\":0,\"easing\":\"linear\"}}],\"label\":\"2012\",\"method\":\"animate\"},{\"args\":[[\"2013\"],{\"frame\":{\"duration\":0,\"redraw\":false},\"fromcurrent\":true,\"mode\":\"immediate\",\"transition\":{\"duration\":0,\"easing\":\"linear\"}}],\"label\":\"2013\",\"method\":\"animate\"},{\"args\":[[\"2014\"],{\"frame\":{\"duration\":0,\"redraw\":false},\"fromcurrent\":true,\"mode\":\"immediate\",\"transition\":{\"duration\":0,\"easing\":\"linear\"}}],\"label\":\"2014\",\"method\":\"animate\"},{\"args\":[[\"2015\"],{\"frame\":{\"duration\":0,\"redraw\":false},\"fromcurrent\":true,\"mode\":\"immediate\",\"transition\":{\"duration\":0,\"easing\":\"linear\"}}],\"label\":\"2015\",\"method\":\"animate\"},{\"args\":[[\"2016\"],{\"frame\":{\"duration\":0,\"redraw\":false},\"fromcurrent\":true,\"mode\":\"immediate\",\"transition\":{\"duration\":0,\"easing\":\"linear\"}}],\"label\":\"2016\",\"method\":\"animate\"},{\"args\":[[\"2017\"],{\"frame\":{\"duration\":0,\"redraw\":false},\"fromcurrent\":true,\"mode\":\"immediate\",\"transition\":{\"duration\":0,\"easing\":\"linear\"}}],\"label\":\"2017\",\"method\":\"animate\"},{\"args\":[[\"2018\"],{\"frame\":{\"duration\":0,\"redraw\":false},\"fromcurrent\":true,\"mode\":\"immediate\",\"transition\":{\"duration\":0,\"easing\":\"linear\"}}],\"label\":\"2018\",\"method\":\"animate\"},{\"args\":[[\"2019\"],{\"frame\":{\"duration\":0,\"redraw\":false},\"fromcurrent\":true,\"mode\":\"immediate\",\"transition\":{\"duration\":0,\"easing\":\"linear\"}}],\"label\":\"2019\",\"method\":\"animate\"}],\"x\":0.1,\"xanchor\":\"left\",\"y\":0,\"yanchor\":\"top\"}],\"template\":{\"data\":{\"bar\":[{\"error_x\":{\"color\":\"#2a3f5f\"},\"error_y\":{\"color\":\"#2a3f5f\"},\"marker\":{\"line\":{\"color\":\"#E5ECF6\",\"width\":0.5},\"pattern\":{\"fillmode\":\"overlay\",\"size\":10,\"solidity\":0.2}},\"type\":\"bar\"}],\"barpolar\":[{\"marker\":{\"line\":{\"color\":\"#E5ECF6\",\"width\":0.5},\"pattern\":{\"fillmode\":\"overlay\",\"size\":10,\"solidity\":0.2}},\"type\":\"barpolar\"}],\"carpet\":[{\"aaxis\":{\"endlinecolor\":\"#2a3f5f\",\"gridcolor\":\"white\",\"linecolor\":\"white\",\"minorgridcolor\":\"white\",\"startlinecolor\":\"#2a3f5f\"},\"baxis\":{\"endlinecolor\":\"#2a3f5f\",\"gridcolor\":\"white\",\"linecolor\":\"white\",\"minorgridcolor\":\"white\",\"startlinecolor\":\"#2a3f5f\"},\"type\":\"carpet\"}],\"choropleth\":[{\"colorbar\":{\"outlinewidth\":0,\"ticks\":\"\"},\"type\":\"choropleth\"}],\"contour\":[{\"colorbar\":{\"outlinewidth\":0,\"ticks\":\"\"},\"colorscale\":[[0.0,\"#0d0887\"],[0.1111111111111111,\"#46039f\"],[0.2222222222222222,\"#7201a8\"],[0.3333333333333333,\"#9c179e\"],[0.4444444444444444,\"#bd3786\"],[0.5555555555555556,\"#d8576b\"],[0.6666666666666666,\"#ed7953\"],[0.7777777777777778,\"#fb9f3a\"],[0.8888888888888888,\"#fdca26\"],[1.0,\"#f0f921\"]],\"type\":\"contour\"}],\"contourcarpet\":[{\"colorbar\":{\"outlinewidth\":0,\"ticks\":\"\"},\"type\":\"contourcarpet\"}],\"heatmap\":[{\"colorbar\":{\"outlinewidth\":0,\"ticks\":\"\"},\"colorscale\":[[0.0,\"#0d0887\"],[0.1111111111111111,\"#46039f\"],[0.2222222222222222,\"#7201a8\"],[0.3333333333333333,\"#9c179e\"],[0.4444444444444444,\"#bd3786\"],[0.5555555555555556,\"#d8576b\"],[0.6666666666666666,\"#ed7953\"],[0.7777777777777778,\"#fb9f3a\"],[0.8888888888888888,\"#fdca26\"],[1.0,\"#f0f921\"]],\"type\":\"heatmap\"}],\"heatmapgl\":[{\"colorbar\":{\"outlinewidth\":0,\"ticks\":\"\"},\"colorscale\":[[0.0,\"#0d0887\"],[0.1111111111111111,\"#46039f\"],[0.2222222222222222,\"#7201a8\"],[0.3333333333333333,\"#9c179e\"],[0.4444444444444444,\"#bd3786\"],[0.5555555555555556,\"#d8576b\"],[0.6666666666666666,\"#ed7953\"],[0.7777777777777778,\"#fb9f3a\"],[0.8888888888888888,\"#fdca26\"],[1.0,\"#f0f921\"]],\"type\":\"heatmapgl\"}],\"histogram\":[{\"marker\":{\"pattern\":{\"fillmode\":\"overlay\",\"size\":10,\"solidity\":0.2}},\"type\":\"histogram\"}],\"histogram2d\":[{\"colorbar\":{\"outlinewidth\":0,\"ticks\":\"\"},\"colorscale\":[[0.0,\"#0d0887\"],[0.1111111111111111,\"#46039f\"],[0.2222222222222222,\"#7201a8\"],[0.3333333333333333,\"#9c179e\"],[0.4444444444444444,\"#bd3786\"],[0.5555555555555556,\"#d8576b\"],[0.6666666666666666,\"#ed7953\"],[0.7777777777777778,\"#fb9f3a\"],[0.8888888888888888,\"#fdca26\"],[1.0,\"#f0f921\"]],\"type\":\"histogram2d\"}],\"histogram2dcontour\":[{\"colorbar\":{\"outlinewidth\":0,\"ticks\":\"\"},\"colorscale\":[[0.0,\"#0d0887\"],[0.1111111111111111,\"#46039f\"],[0.2222222222222222,\"#7201a8\"],[0.3333333333333333,\"#9c179e\"],[0.4444444444444444,\"#bd3786\"],[0.5555555555555556,\"#d8576b\"],[0.6666666666666666,\"#ed7953\"],[0.7777777777777778,\"#fb9f3a\"],[0.8888888888888888,\"#fdca26\"],[1.0,\"#f0f921\"]],\"type\":\"histogram2dcontour\"}],\"mesh3d\":[{\"colorbar\":{\"outlinewidth\":0,\"ticks\":\"\"},\"type\":\"mesh3d\"}],\"parcoords\":[{\"line\":{\"colorbar\":{\"outlinewidth\":0,\"ticks\":\"\"}},\"type\":\"parcoords\"}],\"pie\":[{\"automargin\":true,\"type\":\"pie\"}],\"scatter\":[{\"marker\":{\"colorbar\":{\"outlinewidth\":0,\"ticks\":\"\"}},\"type\":\"scatter\"}],\"scatter3d\":[{\"line\":{\"colorbar\":{\"outlinewidth\":0,\"ticks\":\"\"}},\"marker\":{\"colorbar\":{\"outlinewidth\":0,\"ticks\":\"\"}},\"type\":\"scatter3d\"}],\"scattercarpet\":[{\"marker\":{\"colorbar\":{\"outlinewidth\":0,\"ticks\":\"\"}},\"type\":\"scattercarpet\"}],\"scattergeo\":[{\"marker\":{\"colorbar\":{\"outlinewidth\":0,\"ticks\":\"\"}},\"type\":\"scattergeo\"}],\"scattergl\":[{\"marker\":{\"colorbar\":{\"outlinewidth\":0,\"ticks\":\"\"}},\"type\":\"scattergl\"}],\"scattermapbox\":[{\"marker\":{\"colorbar\":{\"outlinewidth\":0,\"ticks\":\"\"}},\"type\":\"scattermapbox\"}],\"scatterpolar\":[{\"marker\":{\"colorbar\":{\"outlinewidth\":0,\"ticks\":\"\"}},\"type\":\"scatterpolar\"}],\"scatterpolargl\":[{\"marker\":{\"colorbar\":{\"outlinewidth\":0,\"ticks\":\"\"}},\"type\":\"scatterpolargl\"}],\"scatterternary\":[{\"marker\":{\"colorbar\":{\"outlinewidth\":0,\"ticks\":\"\"}},\"type\":\"scatterternary\"}],\"surface\":[{\"colorbar\":{\"outlinewidth\":0,\"ticks\":\"\"},\"colorscale\":[[0.0,\"#0d0887\"],[0.1111111111111111,\"#46039f\"],[0.2222222222222222,\"#7201a8\"],[0.3333333333333333,\"#9c179e\"],[0.4444444444444444,\"#bd3786\"],[0.5555555555555556,\"#d8576b\"],[0.6666666666666666,\"#ed7953\"],[0.7777777777777778,\"#fb9f3a\"],[0.8888888888888888,\"#fdca26\"],[1.0,\"#f0f921\"]],\"type\":\"surface\"}],\"table\":[{\"cells\":{\"fill\":{\"color\":\"#EBF0F8\"},\"line\":{\"color\":\"white\"}},\"header\":{\"fill\":{\"color\":\"#C8D4E3\"},\"line\":{\"color\":\"white\"}},\"type\":\"table\"}]},\"layout\":{\"annotationdefaults\":{\"arrowcolor\":\"#2a3f5f\",\"arrowhead\":0,\"arrowwidth\":1},\"autotypenumbers\":\"strict\",\"coloraxis\":{\"colorbar\":{\"outlinewidth\":0,\"ticks\":\"\"}},\"colorscale\":{\"diverging\":[[0,\"#8e0152\"],[0.1,\"#c51b7d\"],[0.2,\"#de77ae\"],[0.3,\"#f1b6da\"],[0.4,\"#fde0ef\"],[0.5,\"#f7f7f7\"],[0.6,\"#e6f5d0\"],[0.7,\"#b8e186\"],[0.8,\"#7fbc41\"],[0.9,\"#4d9221\"],[1,\"#276419\"]],\"sequential\":[[0.0,\"#0d0887\"],[0.1111111111111111,\"#46039f\"],[0.2222222222222222,\"#7201a8\"],[0.3333333333333333,\"#9c179e\"],[0.4444444444444444,\"#bd3786\"],[0.5555555555555556,\"#d8576b\"],[0.6666666666666666,\"#ed7953\"],[0.7777777777777778,\"#fb9f3a\"],[0.8888888888888888,\"#fdca26\"],[1.0,\"#f0f921\"]],\"sequentialminus\":[[0.0,\"#0d0887\"],[0.1111111111111111,\"#46039f\"],[0.2222222222222222,\"#7201a8\"],[0.3333333333333333,\"#9c179e\"],[0.4444444444444444,\"#bd3786\"],[0.5555555555555556,\"#d8576b\"],[0.6666666666666666,\"#ed7953\"],[0.7777777777777778,\"#fb9f3a\"],[0.8888888888888888,\"#fdca26\"],[1.0,\"#f0f921\"]]},\"colorway\":[\"#636efa\",\"#EF553B\",\"#00cc96\",\"#ab63fa\",\"#FFA15A\",\"#19d3f3\",\"#FF6692\",\"#B6E880\",\"#FF97FF\",\"#FECB52\"],\"font\":{\"color\":\"#2a3f5f\"},\"geo\":{\"bgcolor\":\"white\",\"lakecolor\":\"white\",\"landcolor\":\"#E5ECF6\",\"showlakes\":true,\"showland\":true,\"subunitcolor\":\"white\"},\"hoverlabel\":{\"align\":\"left\"},\"hovermode\":\"closest\",\"mapbox\":{\"style\":\"light\"},\"paper_bgcolor\":\"white\",\"plot_bgcolor\":\"#E5ECF6\",\"polar\":{\"angularaxis\":{\"gridcolor\":\"white\",\"linecolor\":\"white\",\"ticks\":\"\"},\"bgcolor\":\"#E5ECF6\",\"radialaxis\":{\"gridcolor\":\"white\",\"linecolor\":\"white\",\"ticks\":\"\"}},\"scene\":{\"xaxis\":{\"backgroundcolor\":\"#E5ECF6\",\"gridcolor\":\"white\",\"gridwidth\":2,\"linecolor\":\"white\",\"showbackground\":true,\"ticks\":\"\",\"zerolinecolor\":\"white\"},\"yaxis\":{\"backgroundcolor\":\"#E5ECF6\",\"gridcolor\":\"white\",\"gridwidth\":2,\"linecolor\":\"white\",\"showbackground\":true,\"ticks\":\"\",\"zerolinecolor\":\"white\"},\"zaxis\":{\"backgroundcolor\":\"#E5ECF6\",\"gridcolor\":\"white\",\"gridwidth\":2,\"linecolor\":\"white\",\"showbackground\":true,\"ticks\":\"\",\"zerolinecolor\":\"white\"}},\"shapedefaults\":{\"line\":{\"color\":\"#2a3f5f\"}},\"ternary\":{\"aaxis\":{\"gridcolor\":\"white\",\"linecolor\":\"white\",\"ticks\":\"\"},\"baxis\":{\"gridcolor\":\"white\",\"linecolor\":\"white\",\"ticks\":\"\"},\"bgcolor\":\"#E5ECF6\",\"caxis\":{\"gridcolor\":\"white\",\"linecolor\":\"white\",\"ticks\":\"\"}},\"title\":{\"x\":0.05},\"xaxis\":{\"automargin\":true,\"gridcolor\":\"white\",\"linecolor\":\"white\",\"ticks\":\"\",\"title\":{\"standoff\":15},\"zerolinecolor\":\"white\",\"zerolinewidth\":2},\"yaxis\":{\"automargin\":true,\"gridcolor\":\"white\",\"linecolor\":\"white\",\"ticks\":\"\",\"title\":{\"standoff\":15},\"zerolinecolor\":\"white\",\"zerolinewidth\":2}}},\"title\":{\"text\":\"Quantity of Cacao Exported vs Trade (USD) by Continents in 1988 - 2019\"},\"updatemenus\":[{\"buttons\":[{\"args\":[null,{\"frame\":{\"duration\":500,\"redraw\":false},\"fromcurrent\":true,\"mode\":\"immediate\",\"transition\":{\"duration\":3000,\"easing\":\"linear\"}}],\"label\":\"&#9654;\",\"method\":\"animate\"},{\"args\":[[null],{\"frame\":{\"duration\":0,\"redraw\":false},\"fromcurrent\":true,\"mode\":\"immediate\",\"transition\":{\"duration\":0,\"easing\":\"linear\"}}],\"label\":\"&#9724;\",\"method\":\"animate\"}],\"direction\":\"left\",\"pad\":{\"r\":10,\"t\":70},\"showactive\":false,\"type\":\"buttons\",\"x\":0.1,\"xanchor\":\"right\",\"y\":0,\"yanchor\":\"top\"}],\"xaxis\":{\"anchor\":\"y\",\"domain\":[0.0,1.0],\"title\":{\"text\":\"Quantity Exported\"}},\"yaxis\":{\"anchor\":\"x\",\"domain\":[0.0,1.0],\"title\":{\"text\":\"Export Trade (USD) of Cacao\"}}},                        {\"responsive\": true}                    ).then(function(){\n",
       "                            Plotly.addFrames('80547164-6e0d-4e97-81ee-794039b762b8', [{\"data\":[{\"hovertemplate\":\"<b>%{hovertext}</b><br><br>Continent=Africa<br>Year=1991<br>Quantity=%{x}<br>Trade (USD)=%{y}<br>Nr of Countries=%{marker.size}<extra></extra>\",\"hovertext\":[\"Africa\"],\"ids\":[\"Africa\"],\"legendgroup\":\"Africa\",\"marker\":{\"color\":\"#636efa\",\"size\":[49],\"sizemode\":\"area\",\"sizeref\":0.1225,\"symbol\":\"circle\"},\"mode\":\"markers\",\"name\":\"Africa\",\"orientation\":\"v\",\"showlegend\":true,\"type\":\"scatter\",\"x\":[4272629.0],\"xaxis\":\"x\",\"y\":[3971947.0],\"yaxis\":\"y\"},{\"hovertemplate\":\"<b>%{hovertext}</b><br><br>Continent=Europe<br>Year=1991<br>Quantity=%{x}<br>Trade (USD)=%{y}<br>Nr of Countries=%{marker.size}<extra></extra>\",\"hovertext\":[\"Europe\"],\"ids\":[\"Europe\"],\"legendgroup\":\"Europe\",\"marker\":{\"color\":\"#EF553B\",\"size\":[42],\"sizemode\":\"area\",\"sizeref\":0.1225,\"symbol\":\"circle\"},\"mode\":\"markers\",\"name\":\"Europe\",\"orientation\":\"v\",\"showlegend\":true,\"type\":\"scatter\",\"x\":[270892.25],\"xaxis\":\"x\",\"y\":[332382.25],\"yaxis\":\"y\"},{\"hovertemplate\":\"<b>%{hovertext}</b><br><br>Continent=Asia<br>Year=1991<br>Quantity=%{x}<br>Trade (USD)=%{y}<br>Nr of Countries=%{marker.size}<extra></extra>\",\"hovertext\":[\"Asia\"],\"ids\":[\"Asia\"],\"legendgroup\":\"Asia\",\"marker\":{\"color\":\"#00cc96\",\"size\":[44],\"sizemode\":\"area\",\"sizeref\":0.1225,\"symbol\":\"circle\"},\"mode\":\"markers\",\"name\":\"Asia\",\"orientation\":\"v\",\"showlegend\":true,\"type\":\"scatter\",\"x\":[54075526.71428572],\"xaxis\":\"x\",\"y\":[52738619.71428572],\"yaxis\":\"y\"},{\"hovertemplate\":\"<b>%{hovertext}</b><br><br>Continent=Americas<br>Year=1991<br>Quantity=%{x}<br>Trade (USD)=%{y}<br>Nr of Countries=%{marker.size}<extra></extra>\",\"hovertext\":[\"Americas\"],\"ids\":[\"Americas\"],\"legendgroup\":\"Americas\",\"marker\":{\"color\":\"#ab63fa\",\"size\":[43],\"sizemode\":\"area\",\"sizeref\":0.1225,\"symbol\":\"circle\"},\"mode\":\"markers\",\"name\":\"Americas\",\"orientation\":\"v\",\"showlegend\":true,\"type\":\"scatter\",\"x\":[20037903.75],\"xaxis\":\"x\",\"y\":[22811836.5],\"yaxis\":\"y\"},{\"hovertemplate\":\"<b>%{hovertext}</b><br><br>Continent=Oceania<br>Year=1991<br>Quantity=%{x}<br>Trade (USD)=%{y}<br>Nr of Countries=%{marker.size}<extra></extra>\",\"hovertext\":[\"Oceania\"],\"ids\":[\"Oceania\"],\"legendgroup\":\"Oceania\",\"marker\":{\"color\":\"#FFA15A\",\"size\":[15],\"sizemode\":\"area\",\"sizeref\":0.1225,\"symbol\":\"circle\"},\"mode\":\"markers\",\"name\":\"Oceania\",\"orientation\":\"v\",\"showlegend\":true,\"type\":\"scatter\",\"x\":[1626.5],\"xaxis\":\"x\",\"y\":[2965.0],\"yaxis\":\"y\"}],\"name\":\"1991\"},{\"data\":[{\"hovertemplate\":\"<b>%{hovertext}</b><br><br>Continent=Africa<br>Year=1992<br>Quantity=%{x}<br>Trade (USD)=%{y}<br>Nr of Countries=%{marker.size}<extra></extra>\",\"hovertext\":[\"Africa\"],\"ids\":[\"Africa\"],\"legendgroup\":\"Africa\",\"marker\":{\"color\":\"#636efa\",\"size\":[49],\"sizemode\":\"area\",\"sizeref\":0.1225,\"symbol\":\"circle\"},\"mode\":\"markers\",\"name\":\"Africa\",\"orientation\":\"v\",\"showlegend\":true,\"type\":\"scatter\",\"x\":[1365323.5],\"xaxis\":\"x\",\"y\":[1254805.0],\"yaxis\":\"y\"},{\"hovertemplate\":\"<b>%{hovertext}</b><br><br>Continent=Europe<br>Year=1992<br>Quantity=%{x}<br>Trade (USD)=%{y}<br>Nr of Countries=%{marker.size}<extra></extra>\",\"hovertext\":[\"Europe\"],\"ids\":[\"Europe\"],\"legendgroup\":\"Europe\",\"marker\":{\"color\":\"#EF553B\",\"size\":[42],\"sizemode\":\"area\",\"sizeref\":0.1225,\"symbol\":\"circle\"},\"mode\":\"markers\",\"name\":\"Europe\",\"orientation\":\"v\",\"showlegend\":true,\"type\":\"scatter\",\"x\":[2700542.25],\"xaxis\":\"x\",\"y\":[3117899.625],\"yaxis\":\"y\"},{\"hovertemplate\":\"<b>%{hovertext}</b><br><br>Continent=Asia<br>Year=1992<br>Quantity=%{x}<br>Trade (USD)=%{y}<br>Nr of Countries=%{marker.size}<extra></extra>\",\"hovertext\":[\"Asia\"],\"ids\":[\"Asia\"],\"legendgroup\":\"Asia\",\"marker\":{\"color\":\"#00cc96\",\"size\":[44],\"sizemode\":\"area\",\"sizeref\":0.1225,\"symbol\":\"circle\"},\"mode\":\"markers\",\"name\":\"Asia\",\"orientation\":\"v\",\"showlegend\":true,\"type\":\"scatter\",\"x\":[60053009.85714286],\"xaxis\":\"x\",\"y\":[55438182.571428575],\"yaxis\":\"y\"},{\"hovertemplate\":\"<b>%{hovertext}</b><br><br>Continent=Americas<br>Year=1992<br>Quantity=%{x}<br>Trade (USD)=%{y}<br>Nr of Countries=%{marker.size}<extra></extra>\",\"hovertext\":[\"Americas\"],\"ids\":[\"Americas\"],\"legendgroup\":\"Americas\",\"marker\":{\"color\":\"#ab63fa\",\"size\":[43],\"sizemode\":\"area\",\"sizeref\":0.1225,\"symbol\":\"circle\"},\"mode\":\"markers\",\"name\":\"Americas\",\"orientation\":\"v\",\"showlegend\":true,\"type\":\"scatter\",\"x\":[12625250.307692308],\"xaxis\":\"x\",\"y\":[13424906.461538462],\"yaxis\":\"y\"},{\"hovertemplate\":\"<b>%{hovertext}</b><br><br>Continent=Oceania<br>Year=1992<br>Quantity=%{x}<br>Trade (USD)=%{y}<br>Nr of Countries=%{marker.size}<extra></extra>\",\"hovertext\":[\"Oceania\"],\"ids\":[\"Oceania\"],\"legendgroup\":\"Oceania\",\"marker\":{\"color\":\"#FFA15A\",\"size\":[15],\"sizemode\":\"area\",\"sizeref\":0.1225,\"symbol\":\"circle\"},\"mode\":\"markers\",\"name\":\"Oceania\",\"orientation\":\"v\",\"showlegend\":true,\"type\":\"scatter\",\"x\":[589.0],\"xaxis\":\"x\",\"y\":[1015.0],\"yaxis\":\"y\"}],\"name\":\"1992\"},{\"data\":[{\"hovertemplate\":\"<b>%{hovertext}</b><br><br>Continent=Africa<br>Year=1993<br>Quantity=%{x}<br>Trade (USD)=%{y}<br>Nr of Countries=%{marker.size}<extra></extra>\",\"hovertext\":[\"Africa\"],\"ids\":[\"Africa\"],\"legendgroup\":\"Africa\",\"marker\":{\"color\":\"#636efa\",\"size\":[49],\"sizemode\":\"area\",\"sizeref\":0.1225,\"symbol\":\"circle\"},\"mode\":\"markers\",\"name\":\"Africa\",\"orientation\":\"v\",\"showlegend\":true,\"type\":\"scatter\",\"x\":[2567540.0],\"xaxis\":\"x\",\"y\":[1958441.0],\"yaxis\":\"y\"},{\"hovertemplate\":\"<b>%{hovertext}</b><br><br>Continent=Europe<br>Year=1993<br>Quantity=%{x}<br>Trade (USD)=%{y}<br>Nr of Countries=%{marker.size}<extra></extra>\",\"hovertext\":[\"Europe\"],\"ids\":[\"Europe\"],\"legendgroup\":\"Europe\",\"marker\":{\"color\":\"#EF553B\",\"size\":[42],\"sizemode\":\"area\",\"sizeref\":0.1225,\"symbol\":\"circle\"},\"mode\":\"markers\",\"name\":\"Europe\",\"orientation\":\"v\",\"showlegend\":true,\"type\":\"scatter\",\"x\":[5266948.454545454],\"xaxis\":\"x\",\"y\":[6660609.363636363],\"yaxis\":\"y\"},{\"hovertemplate\":\"<b>%{hovertext}</b><br><br>Continent=Asia<br>Year=1993<br>Quantity=%{x}<br>Trade (USD)=%{y}<br>Nr of Countries=%{marker.size}<extra></extra>\",\"hovertext\":[\"Asia\"],\"ids\":[\"Asia\"],\"legendgroup\":\"Asia\",\"marker\":{\"color\":\"#00cc96\",\"size\":[44],\"sizemode\":\"area\",\"sizeref\":0.1225,\"symbol\":\"circle\"},\"mode\":\"markers\",\"name\":\"Asia\",\"orientation\":\"v\",\"showlegend\":true,\"type\":\"scatter\",\"x\":[52610957.75],\"xaxis\":\"x\",\"y\":[46302317.875],\"yaxis\":\"y\"},{\"hovertemplate\":\"<b>%{hovertext}</b><br><br>Continent=Americas<br>Year=1993<br>Quantity=%{x}<br>Trade (USD)=%{y}<br>Nr of Countries=%{marker.size}<extra></extra>\",\"hovertext\":[\"Americas\"],\"ids\":[\"Americas\"],\"legendgroup\":\"Americas\",\"marker\":{\"color\":\"#ab63fa\",\"size\":[43],\"sizemode\":\"area\",\"sizeref\":0.1225,\"symbol\":\"circle\"},\"mode\":\"markers\",\"name\":\"Americas\",\"orientation\":\"v\",\"showlegend\":true,\"type\":\"scatter\",\"x\":[11391891.94117647],\"xaxis\":\"x\",\"y\":[11876182.588235294],\"yaxis\":\"y\"},{\"hovertemplate\":\"<b>%{hovertext}</b><br><br>Continent=Oceania<br>Year=1993<br>Quantity=%{x}<br>Trade (USD)=%{y}<br>Nr of Countries=%{marker.size}<extra></extra>\",\"hovertext\":[\"Oceania\"],\"ids\":[\"Oceania\"],\"legendgroup\":\"Oceania\",\"marker\":{\"color\":\"#FFA15A\",\"size\":[15],\"sizemode\":\"area\",\"sizeref\":0.1225,\"symbol\":\"circle\"},\"mode\":\"markers\",\"name\":\"Oceania\",\"orientation\":\"v\",\"showlegend\":true,\"type\":\"scatter\",\"x\":[289.0],\"xaxis\":\"x\",\"y\":[507.0],\"yaxis\":\"y\"}],\"name\":\"1993\"},{\"data\":[{\"hovertemplate\":\"<b>%{hovertext}</b><br><br>Continent=Africa<br>Year=1994<br>Quantity=%{x}<br>Trade (USD)=%{y}<br>Nr of Countries=%{marker.size}<extra></extra>\",\"hovertext\":[\"Africa\"],\"ids\":[\"Africa\"],\"legendgroup\":\"Africa\",\"marker\":{\"color\":\"#636efa\",\"size\":[49],\"sizemode\":\"area\",\"sizeref\":0.1225,\"symbol\":\"circle\"},\"mode\":\"markers\",\"name\":\"Africa\",\"orientation\":\"v\",\"showlegend\":true,\"type\":\"scatter\",\"x\":[1812390.0],\"xaxis\":\"x\",\"y\":[1891872.0],\"yaxis\":\"y\"},{\"hovertemplate\":\"<b>%{hovertext}</b><br><br>Continent=Europe<br>Year=1994<br>Quantity=%{x}<br>Trade (USD)=%{y}<br>Nr of Countries=%{marker.size}<extra></extra>\",\"hovertext\":[\"Europe\"],\"ids\":[\"Europe\"],\"legendgroup\":\"Europe\",\"marker\":{\"color\":\"#EF553B\",\"size\":[42],\"sizemode\":\"area\",\"sizeref\":0.1225,\"symbol\":\"circle\"},\"mode\":\"markers\",\"name\":\"Europe\",\"orientation\":\"v\",\"showlegend\":true,\"type\":\"scatter\",\"x\":[3676524.3125],\"xaxis\":\"x\",\"y\":[5490628.0625],\"yaxis\":\"y\"},{\"hovertemplate\":\"<b>%{hovertext}</b><br><br>Continent=Asia<br>Year=1994<br>Quantity=%{x}<br>Trade (USD)=%{y}<br>Nr of Countries=%{marker.size}<extra></extra>\",\"hovertext\":[\"Asia\"],\"ids\":[\"Asia\"],\"legendgroup\":\"Asia\",\"marker\":{\"color\":\"#00cc96\",\"size\":[44],\"sizemode\":\"area\",\"sizeref\":0.1225,\"symbol\":\"circle\"},\"mode\":\"markers\",\"name\":\"Asia\",\"orientation\":\"v\",\"showlegend\":true,\"type\":\"scatter\",\"x\":[34120223.7],\"xaxis\":\"x\",\"y\":[37978005.6],\"yaxis\":\"y\"},{\"hovertemplate\":\"<b>%{hovertext}</b><br><br>Continent=Americas<br>Year=1994<br>Quantity=%{x}<br>Trade (USD)=%{y}<br>Nr of Countries=%{marker.size}<extra></extra>\",\"hovertext\":[\"Americas\"],\"ids\":[\"Americas\"],\"legendgroup\":\"Americas\",\"marker\":{\"color\":\"#ab63fa\",\"size\":[43],\"sizemode\":\"area\",\"sizeref\":0.1225,\"symbol\":\"circle\"},\"mode\":\"markers\",\"name\":\"Americas\",\"orientation\":\"v\",\"showlegend\":true,\"type\":\"scatter\",\"x\":[10110170.105263159],\"xaxis\":\"x\",\"y\":[12421674.684210526],\"yaxis\":\"y\"},{\"hovertemplate\":\"<b>%{hovertext}</b><br><br>Continent=Oceania<br>Year=1994<br>Quantity=%{x}<br>Trade (USD)=%{y}<br>Nr of Countries=%{marker.size}<extra></extra>\",\"hovertext\":[\"Oceania\"],\"ids\":[\"Oceania\"],\"legendgroup\":\"Oceania\",\"marker\":{\"color\":\"#FFA15A\",\"size\":[15],\"sizemode\":\"area\",\"sizeref\":0.1225,\"symbol\":\"circle\"},\"mode\":\"markers\",\"name\":\"Oceania\",\"orientation\":\"v\",\"showlegend\":true,\"type\":\"scatter\",\"x\":[1686062.0],\"xaxis\":\"x\",\"y\":[1926902.0],\"yaxis\":\"y\"}],\"name\":\"1994\"},{\"data\":[{\"hovertemplate\":\"<b>%{hovertext}</b><br><br>Continent=Africa<br>Year=1995<br>Quantity=%{x}<br>Trade (USD)=%{y}<br>Nr of Countries=%{marker.size}<extra></extra>\",\"hovertext\":[\"Africa\"],\"ids\":[\"Africa\"],\"legendgroup\":\"Africa\",\"marker\":{\"color\":\"#636efa\",\"size\":[49],\"sizemode\":\"area\",\"sizeref\":0.1225,\"symbol\":\"circle\"},\"mode\":\"markers\",\"name\":\"Africa\",\"orientation\":\"v\",\"showlegend\":true,\"type\":\"scatter\",\"x\":[95483237.77777778],\"xaxis\":\"x\",\"y\":[134625771.66666666],\"yaxis\":\"y\"},{\"hovertemplate\":\"<b>%{hovertext}</b><br><br>Continent=Europe<br>Year=1995<br>Quantity=%{x}<br>Trade (USD)=%{y}<br>Nr of Countries=%{marker.size}<extra></extra>\",\"hovertext\":[\"Europe\"],\"ids\":[\"Europe\"],\"legendgroup\":\"Europe\",\"marker\":{\"color\":\"#EF553B\",\"size\":[42],\"sizemode\":\"area\",\"sizeref\":0.1225,\"symbol\":\"circle\"},\"mode\":\"markers\",\"name\":\"Europe\",\"orientation\":\"v\",\"showlegend\":true,\"type\":\"scatter\",\"x\":[4562849.411764706],\"xaxis\":\"x\",\"y\":[7763101.647058823],\"yaxis\":\"y\"},{\"hovertemplate\":\"<b>%{hovertext}</b><br><br>Continent=Asia<br>Year=1995<br>Quantity=%{x}<br>Trade (USD)=%{y}<br>Nr of Countries=%{marker.size}<extra></extra>\",\"hovertext\":[\"Asia\"],\"ids\":[\"Asia\"],\"legendgroup\":\"Asia\",\"marker\":{\"color\":\"#00cc96\",\"size\":[44],\"sizemode\":\"area\",\"sizeref\":0.1225,\"symbol\":\"circle\"},\"mode\":\"markers\",\"name\":\"Asia\",\"orientation\":\"v\",\"showlegend\":true,\"type\":\"scatter\",\"x\":[48532525.0],\"xaxis\":\"x\",\"y\":[58056636.166666664],\"yaxis\":\"y\"},{\"hovertemplate\":\"<b>%{hovertext}</b><br><br>Continent=Americas<br>Year=1995<br>Quantity=%{x}<br>Trade (USD)=%{y}<br>Nr of Countries=%{marker.size}<extra></extra>\",\"hovertext\":[\"Americas\"],\"ids\":[\"Americas\"],\"legendgroup\":\"Americas\",\"marker\":{\"color\":\"#ab63fa\",\"size\":[43],\"sizemode\":\"area\",\"sizeref\":0.1225,\"symbol\":\"circle\"},\"mode\":\"markers\",\"name\":\"Americas\",\"orientation\":\"v\",\"showlegend\":true,\"type\":\"scatter\",\"x\":[5583752.590909091],\"xaxis\":\"x\",\"y\":[8185781.545454546],\"yaxis\":\"y\"}],\"name\":\"1995\"},{\"data\":[{\"hovertemplate\":\"<b>%{hovertext}</b><br><br>Continent=Africa<br>Year=1996<br>Quantity=%{x}<br>Trade (USD)=%{y}<br>Nr of Countries=%{marker.size}<extra></extra>\",\"hovertext\":[\"Africa\"],\"ids\":[\"Africa\"],\"legendgroup\":\"Africa\",\"marker\":{\"color\":\"#636efa\",\"size\":[49],\"sizemode\":\"area\",\"sizeref\":0.1225,\"symbol\":\"circle\"},\"mode\":\"markers\",\"name\":\"Africa\",\"orientation\":\"v\",\"showlegend\":true,\"type\":\"scatter\",\"x\":[170243546.1],\"xaxis\":\"x\",\"y\":[244183867.0],\"yaxis\":\"y\"},{\"hovertemplate\":\"<b>%{hovertext}</b><br><br>Continent=Europe<br>Year=1996<br>Quantity=%{x}<br>Trade (USD)=%{y}<br>Nr of Countries=%{marker.size}<extra></extra>\",\"hovertext\":[\"Europe\"],\"ids\":[\"Europe\"],\"legendgroup\":\"Europe\",\"marker\":{\"color\":\"#EF553B\",\"size\":[42],\"sizemode\":\"area\",\"sizeref\":0.1225,\"symbol\":\"circle\"},\"mode\":\"markers\",\"name\":\"Europe\",\"orientation\":\"v\",\"showlegend\":true,\"type\":\"scatter\",\"x\":[5127841.6],\"xaxis\":\"x\",\"y\":[7365248.8],\"yaxis\":\"y\"},{\"hovertemplate\":\"<b>%{hovertext}</b><br><br>Continent=Asia<br>Year=1996<br>Quantity=%{x}<br>Trade (USD)=%{y}<br>Nr of Countries=%{marker.size}<extra></extra>\",\"hovertext\":[\"Asia\"],\"ids\":[\"Asia\"],\"legendgroup\":\"Asia\",\"marker\":{\"color\":\"#00cc96\",\"size\":[44],\"sizemode\":\"area\",\"sizeref\":0.1225,\"symbol\":\"circle\"},\"mode\":\"markers\",\"name\":\"Asia\",\"orientation\":\"v\",\"showlegend\":true,\"type\":\"scatter\",\"x\":[50162981.14285714],\"xaxis\":\"x\",\"y\":[52036625.0],\"yaxis\":\"y\"},{\"hovertemplate\":\"<b>%{hovertext}</b><br><br>Continent=Americas<br>Year=1996<br>Quantity=%{x}<br>Trade (USD)=%{y}<br>Nr of Countries=%{marker.size}<extra></extra>\",\"hovertext\":[\"Americas\"],\"ids\":[\"Americas\"],\"legendgroup\":\"Americas\",\"marker\":{\"color\":\"#ab63fa\",\"size\":[43],\"sizemode\":\"area\",\"sizeref\":0.1225,\"symbol\":\"circle\"},\"mode\":\"markers\",\"name\":\"Americas\",\"orientation\":\"v\",\"showlegend\":true,\"type\":\"scatter\",\"x\":[8957021.652173912],\"xaxis\":\"x\",\"y\":[11434300.217391305],\"yaxis\":\"y\"},{\"hovertemplate\":\"<b>%{hovertext}</b><br><br>Continent=Oceania<br>Year=1996<br>Quantity=%{x}<br>Trade (USD)=%{y}<br>Nr of Countries=%{marker.size}<extra></extra>\",\"hovertext\":[\"Oceania\"],\"ids\":[\"Oceania\"],\"legendgroup\":\"Oceania\",\"marker\":{\"color\":\"#FFA15A\",\"size\":[15],\"sizemode\":\"area\",\"sizeref\":0.1225,\"symbol\":\"circle\"},\"mode\":\"markers\",\"name\":\"Oceania\",\"orientation\":\"v\",\"showlegend\":true,\"type\":\"scatter\",\"x\":[199.0],\"xaxis\":\"x\",\"y\":[932.0],\"yaxis\":\"y\"}],\"name\":\"1996\"},{\"data\":[{\"hovertemplate\":\"<b>%{hovertext}</b><br><br>Continent=Africa<br>Year=1997<br>Quantity=%{x}<br>Trade (USD)=%{y}<br>Nr of Countries=%{marker.size}<extra></extra>\",\"hovertext\":[\"Africa\"],\"ids\":[\"Africa\"],\"legendgroup\":\"Africa\",\"marker\":{\"color\":\"#636efa\",\"size\":[49],\"sizemode\":\"area\",\"sizeref\":0.1225,\"symbol\":\"circle\"},\"mode\":\"markers\",\"name\":\"Africa\",\"orientation\":\"v\",\"showlegend\":true,\"type\":\"scatter\",\"x\":[123311225.0],\"xaxis\":\"x\",\"y\":[167012738.1818182],\"yaxis\":\"y\"},{\"hovertemplate\":\"<b>%{hovertext}</b><br><br>Continent=Europe<br>Year=1997<br>Quantity=%{x}<br>Trade (USD)=%{y}<br>Nr of Countries=%{marker.size}<extra></extra>\",\"hovertext\":[\"Europe\"],\"ids\":[\"Europe\"],\"legendgroup\":\"Europe\",\"marker\":{\"color\":\"#EF553B\",\"size\":[42],\"sizemode\":\"area\",\"sizeref\":0.1225,\"symbol\":\"circle\"},\"mode\":\"markers\",\"name\":\"Europe\",\"orientation\":\"v\",\"showlegend\":true,\"type\":\"scatter\",\"x\":[8050315.095238095],\"xaxis\":\"x\",\"y\":[12516589.142857144],\"yaxis\":\"y\"},{\"hovertemplate\":\"<b>%{hovertext}</b><br><br>Continent=Asia<br>Year=1997<br>Quantity=%{x}<br>Trade (USD)=%{y}<br>Nr of Countries=%{marker.size}<extra></extra>\",\"hovertext\":[\"Asia\"],\"ids\":[\"Asia\"],\"legendgroup\":\"Asia\",\"marker\":{\"color\":\"#00cc96\",\"size\":[44],\"sizemode\":\"area\",\"sizeref\":0.1225,\"symbol\":\"circle\"},\"mode\":\"markers\",\"name\":\"Asia\",\"orientation\":\"v\",\"showlegend\":true,\"type\":\"scatter\",\"x\":[40009892.71428572],\"xaxis\":\"x\",\"y\":[53815083.0],\"yaxis\":\"y\"},{\"hovertemplate\":\"<b>%{hovertext}</b><br><br>Continent=Americas<br>Year=1997<br>Quantity=%{x}<br>Trade (USD)=%{y}<br>Nr of Countries=%{marker.size}<extra></extra>\",\"hovertext\":[\"Americas\"],\"ids\":[\"Americas\"],\"legendgroup\":\"Americas\",\"marker\":{\"color\":\"#ab63fa\",\"size\":[43],\"sizemode\":\"area\",\"sizeref\":0.1225,\"symbol\":\"circle\"},\"mode\":\"markers\",\"name\":\"Americas\",\"orientation\":\"v\",\"showlegend\":true,\"type\":\"scatter\",\"x\":[6322447.7727272725],\"xaxis\":\"x\",\"y\":[9087125.409090908],\"yaxis\":\"y\"},{\"hovertemplate\":\"<b>%{hovertext}</b><br><br>Continent=Oceania<br>Year=1997<br>Quantity=%{x}<br>Trade (USD)=%{y}<br>Nr of Countries=%{marker.size}<extra></extra>\",\"hovertext\":[\"Oceania\"],\"ids\":[\"Oceania\"],\"legendgroup\":\"Oceania\",\"marker\":{\"color\":\"#FFA15A\",\"size\":[15],\"sizemode\":\"area\",\"sizeref\":0.1225,\"symbol\":\"circle\"},\"mode\":\"markers\",\"name\":\"Oceania\",\"orientation\":\"v\",\"showlegend\":true,\"type\":\"scatter\",\"x\":[3250.0],\"xaxis\":\"x\",\"y\":[6675.5],\"yaxis\":\"y\"}],\"name\":\"1997\"},{\"data\":[{\"hovertemplate\":\"<b>%{hovertext}</b><br><br>Continent=Africa<br>Year=1998<br>Quantity=%{x}<br>Trade (USD)=%{y}<br>Nr of Countries=%{marker.size}<extra></extra>\",\"hovertext\":[\"Africa\"],\"ids\":[\"Africa\"],\"legendgroup\":\"Africa\",\"marker\":{\"color\":\"#636efa\",\"size\":[49],\"sizemode\":\"area\",\"sizeref\":0.1225,\"symbol\":\"circle\"},\"mode\":\"markers\",\"name\":\"Africa\",\"orientation\":\"v\",\"showlegend\":true,\"type\":\"scatter\",\"x\":[122315897.9],\"xaxis\":\"x\",\"y\":[182232446.8],\"yaxis\":\"y\"},{\"hovertemplate\":\"<b>%{hovertext}</b><br><br>Continent=Europe<br>Year=1998<br>Quantity=%{x}<br>Trade (USD)=%{y}<br>Nr of Countries=%{marker.size}<extra></extra>\",\"hovertext\":[\"Europe\"],\"ids\":[\"Europe\"],\"legendgroup\":\"Europe\",\"marker\":{\"color\":\"#EF553B\",\"size\":[42],\"sizemode\":\"area\",\"sizeref\":0.1225,\"symbol\":\"circle\"},\"mode\":\"markers\",\"name\":\"Europe\",\"orientation\":\"v\",\"showlegend\":true,\"type\":\"scatter\",\"x\":[6906180.894736842],\"xaxis\":\"x\",\"y\":[11233554.684210526],\"yaxis\":\"y\"},{\"hovertemplate\":\"<b>%{hovertext}</b><br><br>Continent=Asia<br>Year=1998<br>Quantity=%{x}<br>Trade (USD)=%{y}<br>Nr of Countries=%{marker.size}<extra></extra>\",\"hovertext\":[\"Asia\"],\"ids\":[\"Asia\"],\"legendgroup\":\"Asia\",\"marker\":{\"color\":\"#00cc96\",\"size\":[44],\"sizemode\":\"area\",\"sizeref\":0.1225,\"symbol\":\"circle\"},\"mode\":\"markers\",\"name\":\"Asia\",\"orientation\":\"v\",\"showlegend\":true,\"type\":\"scatter\",\"x\":[29091910.09090909],\"xaxis\":\"x\",\"y\":[40532619.36363637],\"yaxis\":\"y\"},{\"hovertemplate\":\"<b>%{hovertext}</b><br><br>Continent=Americas<br>Year=1998<br>Quantity=%{x}<br>Trade (USD)=%{y}<br>Nr of Countries=%{marker.size}<extra></extra>\",\"hovertext\":[\"Americas\"],\"ids\":[\"Americas\"],\"legendgroup\":\"Americas\",\"marker\":{\"color\":\"#ab63fa\",\"size\":[43],\"sizemode\":\"area\",\"sizeref\":0.1225,\"symbol\":\"circle\"},\"mode\":\"markers\",\"name\":\"Americas\",\"orientation\":\"v\",\"showlegend\":true,\"type\":\"scatter\",\"x\":[2971520.4],\"xaxis\":\"x\",\"y\":[5383934.15],\"yaxis\":\"y\"},{\"hovertemplate\":\"<b>%{hovertext}</b><br><br>Continent=Oceania<br>Year=1998<br>Quantity=%{x}<br>Trade (USD)=%{y}<br>Nr of Countries=%{marker.size}<extra></extra>\",\"hovertext\":[\"Oceania\"],\"ids\":[\"Oceania\"],\"legendgroup\":\"Oceania\",\"marker\":{\"color\":\"#FFA15A\",\"size\":[15],\"sizemode\":\"area\",\"sizeref\":0.1225,\"symbol\":\"circle\"},\"mode\":\"markers\",\"name\":\"Oceania\",\"orientation\":\"v\",\"showlegend\":true,\"type\":\"scatter\",\"x\":[973354816.0],\"xaxis\":\"x\",\"y\":[25221636.0],\"yaxis\":\"y\"}],\"name\":\"1998\"},{\"data\":[{\"hovertemplate\":\"<b>%{hovertext}</b><br><br>Continent=Africa<br>Year=1999<br>Quantity=%{x}<br>Trade (USD)=%{y}<br>Nr of Countries=%{marker.size}<extra></extra>\",\"hovertext\":[\"Africa\"],\"ids\":[\"Africa\"],\"legendgroup\":\"Africa\",\"marker\":{\"color\":\"#636efa\",\"size\":[49],\"sizemode\":\"area\",\"sizeref\":0.1225,\"symbol\":\"circle\"},\"mode\":\"markers\",\"name\":\"Africa\",\"orientation\":\"v\",\"showlegend\":true,\"type\":\"scatter\",\"x\":[119086939.66666667],\"xaxis\":\"x\",\"y\":[143890365.25],\"yaxis\":\"y\"},{\"hovertemplate\":\"<b>%{hovertext}</b><br><br>Continent=Europe<br>Year=1999<br>Quantity=%{x}<br>Trade (USD)=%{y}<br>Nr of Countries=%{marker.size}<extra></extra>\",\"hovertext\":[\"Europe\"],\"ids\":[\"Europe\"],\"legendgroup\":\"Europe\",\"marker\":{\"color\":\"#EF553B\",\"size\":[42],\"sizemode\":\"area\",\"sizeref\":0.1225,\"symbol\":\"circle\"},\"mode\":\"markers\",\"name\":\"Europe\",\"orientation\":\"v\",\"showlegend\":true,\"type\":\"scatter\",\"x\":[7147735.35],\"xaxis\":\"x\",\"y\":[9986000.65],\"yaxis\":\"y\"},{\"hovertemplate\":\"<b>%{hovertext}</b><br><br>Continent=Asia<br>Year=1999<br>Quantity=%{x}<br>Trade (USD)=%{y}<br>Nr of Countries=%{marker.size}<extra></extra>\",\"hovertext\":[\"Asia\"],\"ids\":[\"Asia\"],\"legendgroup\":\"Asia\",\"marker\":{\"color\":\"#00cc96\",\"size\":[44],\"sizemode\":\"area\",\"sizeref\":0.1225,\"symbol\":\"circle\"},\"mode\":\"markers\",\"name\":\"Asia\",\"orientation\":\"v\",\"showlegend\":true,\"type\":\"scatter\",\"x\":[38435943.3],\"xaxis\":\"x\",\"y\":[35160689.6],\"yaxis\":\"y\"},{\"hovertemplate\":\"<b>%{hovertext}</b><br><br>Continent=Americas<br>Year=1999<br>Quantity=%{x}<br>Trade (USD)=%{y}<br>Nr of Countries=%{marker.size}<extra></extra>\",\"hovertext\":[\"Americas\"],\"ids\":[\"Americas\"],\"legendgroup\":\"Americas\",\"marker\":{\"color\":\"#ab63fa\",\"size\":[43],\"sizemode\":\"area\",\"sizeref\":0.1225,\"symbol\":\"circle\"},\"mode\":\"markers\",\"name\":\"Americas\",\"orientation\":\"v\",\"showlegend\":true,\"type\":\"scatter\",\"x\":[4868726.80952381],\"xaxis\":\"x\",\"y\":[5946405.571428572],\"yaxis\":\"y\"},{\"hovertemplate\":\"<b>%{hovertext}</b><br><br>Continent=Oceania<br>Year=1999<br>Quantity=%{x}<br>Trade (USD)=%{y}<br>Nr of Countries=%{marker.size}<extra></extra>\",\"hovertext\":[\"Oceania\"],\"ids\":[\"Oceania\"],\"legendgroup\":\"Oceania\",\"marker\":{\"color\":\"#FFA15A\",\"size\":[15],\"sizemode\":\"area\",\"sizeref\":0.1225,\"symbol\":\"circle\"},\"mode\":\"markers\",\"name\":\"Oceania\",\"orientation\":\"v\",\"showlegend\":true,\"type\":\"scatter\",\"x\":[277.0],\"xaxis\":\"x\",\"y\":[2013.0],\"yaxis\":\"y\"}],\"name\":\"1999\"},{\"data\":[{\"hovertemplate\":\"<b>%{hovertext}</b><br><br>Continent=Africa<br>Year=2000<br>Quantity=%{x}<br>Trade (USD)=%{y}<br>Nr of Countries=%{marker.size}<extra></extra>\",\"hovertext\":[\"Africa\"],\"ids\":[\"Africa\"],\"legendgroup\":\"Africa\",\"marker\":{\"color\":\"#636efa\",\"size\":[49],\"sizemode\":\"area\",\"sizeref\":0.1225,\"symbol\":\"circle\"},\"mode\":\"markers\",\"name\":\"Africa\",\"orientation\":\"v\",\"showlegend\":true,\"type\":\"scatter\",\"x\":[76412136.26315789],\"xaxis\":\"x\",\"y\":[61895593.473684214],\"yaxis\":\"y\"},{\"hovertemplate\":\"<b>%{hovertext}</b><br><br>Continent=Europe<br>Year=2000<br>Quantity=%{x}<br>Trade (USD)=%{y}<br>Nr of Countries=%{marker.size}<extra></extra>\",\"hovertext\":[\"Europe\"],\"ids\":[\"Europe\"],\"legendgroup\":\"Europe\",\"marker\":{\"color\":\"#EF553B\",\"size\":[42],\"sizemode\":\"area\",\"sizeref\":0.1225,\"symbol\":\"circle\"},\"mode\":\"markers\",\"name\":\"Europe\",\"orientation\":\"v\",\"showlegend\":true,\"type\":\"scatter\",\"x\":[11916212.0],\"xaxis\":\"x\",\"y\":[11681148.684210526],\"yaxis\":\"y\"},{\"hovertemplate\":\"<b>%{hovertext}</b><br><br>Continent=Asia<br>Year=2000<br>Quantity=%{x}<br>Trade (USD)=%{y}<br>Nr of Countries=%{marker.size}<extra></extra>\",\"hovertext\":[\"Asia\"],\"ids\":[\"Asia\"],\"legendgroup\":\"Asia\",\"marker\":{\"color\":\"#00cc96\",\"size\":[44],\"sizemode\":\"area\",\"sizeref\":0.1225,\"symbol\":\"circle\"},\"mode\":\"markers\",\"name\":\"Asia\",\"orientation\":\"v\",\"showlegend\":true,\"type\":\"scatter\",\"x\":[37888318.5],\"xaxis\":\"x\",\"y\":[26740154.6],\"yaxis\":\"y\"},{\"hovertemplate\":\"<b>%{hovertext}</b><br><br>Continent=Americas<br>Year=2000<br>Quantity=%{x}<br>Trade (USD)=%{y}<br>Nr of Countries=%{marker.size}<extra></extra>\",\"hovertext\":[\"Americas\"],\"ids\":[\"Americas\"],\"legendgroup\":\"Americas\",\"marker\":{\"color\":\"#ab63fa\",\"size\":[43],\"sizemode\":\"area\",\"sizeref\":0.1225,\"symbol\":\"circle\"},\"mode\":\"markers\",\"name\":\"Americas\",\"orientation\":\"v\",\"showlegend\":true,\"type\":\"scatter\",\"x\":[4314351.904761905],\"xaxis\":\"x\",\"y\":[3827022.1904761903],\"yaxis\":\"y\"},{\"hovertemplate\":\"<b>%{hovertext}</b><br><br>Continent=Oceania<br>Year=2000<br>Quantity=%{x}<br>Trade (USD)=%{y}<br>Nr of Countries=%{marker.size}<extra></extra>\",\"hovertext\":[\"Oceania\"],\"ids\":[\"Oceania\"],\"legendgroup\":\"Oceania\",\"marker\":{\"color\":\"#FFA15A\",\"size\":[15],\"sizemode\":\"area\",\"sizeref\":0.1225,\"symbol\":\"circle\"},\"mode\":\"markers\",\"name\":\"Oceania\",\"orientation\":\"v\",\"showlegend\":true,\"type\":\"scatter\",\"x\":[12894643.0],\"xaxis\":\"x\",\"y\":[12375233.0],\"yaxis\":\"y\"}],\"name\":\"2000\"},{\"data\":[{\"hovertemplate\":\"<b>%{hovertext}</b><br><br>Continent=Africa<br>Year=2001<br>Quantity=%{x}<br>Trade (USD)=%{y}<br>Nr of Countries=%{marker.size}<extra></extra>\",\"hovertext\":[\"Africa\"],\"ids\":[\"Africa\"],\"legendgroup\":\"Africa\",\"marker\":{\"color\":\"#636efa\",\"size\":[49],\"sizemode\":\"area\",\"sizeref\":0.1225,\"symbol\":\"circle\"},\"mode\":\"markers\",\"name\":\"Africa\",\"orientation\":\"v\",\"showlegend\":true,\"type\":\"scatter\",\"x\":[86356648.5625],\"xaxis\":\"x\",\"y\":[85238984.8125],\"yaxis\":\"y\"},{\"hovertemplate\":\"<b>%{hovertext}</b><br><br>Continent=Europe<br>Year=2001<br>Quantity=%{x}<br>Trade (USD)=%{y}<br>Nr of Countries=%{marker.size}<extra></extra>\",\"hovertext\":[\"Europe\"],\"ids\":[\"Europe\"],\"legendgroup\":\"Europe\",\"marker\":{\"color\":\"#EF553B\",\"size\":[42],\"sizemode\":\"area\",\"sizeref\":0.1225,\"symbol\":\"circle\"},\"mode\":\"markers\",\"name\":\"Europe\",\"orientation\":\"v\",\"showlegend\":true,\"type\":\"scatter\",\"x\":[10652244.52631579],\"xaxis\":\"x\",\"y\":[11868349.684210526],\"yaxis\":\"y\"},{\"hovertemplate\":\"<b>%{hovertext}</b><br><br>Continent=Asia<br>Year=2001<br>Quantity=%{x}<br>Trade (USD)=%{y}<br>Nr of Countries=%{marker.size}<extra></extra>\",\"hovertext\":[\"Asia\"],\"ids\":[\"Asia\"],\"legendgroup\":\"Asia\",\"marker\":{\"color\":\"#00cc96\",\"size\":[44],\"sizemode\":\"area\",\"sizeref\":0.1225,\"symbol\":\"circle\"},\"mode\":\"markers\",\"name\":\"Asia\",\"orientation\":\"v\",\"showlegend\":true,\"type\":\"scatter\",\"x\":[40815860.625],\"xaxis\":\"x\",\"y\":[37046272.25],\"yaxis\":\"y\"},{\"hovertemplate\":\"<b>%{hovertext}</b><br><br>Continent=Americas<br>Year=2001<br>Quantity=%{x}<br>Trade (USD)=%{y}<br>Nr of Countries=%{marker.size}<extra></extra>\",\"hovertext\":[\"Americas\"],\"ids\":[\"Americas\"],\"legendgroup\":\"Americas\",\"marker\":{\"color\":\"#ab63fa\",\"size\":[43],\"sizemode\":\"area\",\"sizeref\":0.1225,\"symbol\":\"circle\"},\"mode\":\"markers\",\"name\":\"Americas\",\"orientation\":\"v\",\"showlegend\":true,\"type\":\"scatter\",\"x\":[5361900.956521739],\"xaxis\":\"x\",\"y\":[5466348.478260869],\"yaxis\":\"y\"},{\"hovertemplate\":\"<b>%{hovertext}</b><br><br>Continent=Oceania<br>Year=2001<br>Quantity=%{x}<br>Trade (USD)=%{y}<br>Nr of Countries=%{marker.size}<extra></extra>\",\"hovertext\":[\"Oceania\"],\"ids\":[\"Oceania\"],\"legendgroup\":\"Oceania\",\"marker\":{\"color\":\"#FFA15A\",\"size\":[15],\"sizemode\":\"area\",\"sizeref\":0.1225,\"symbol\":\"circle\"},\"mode\":\"markers\",\"name\":\"Oceania\",\"orientation\":\"v\",\"showlegend\":true,\"type\":\"scatter\",\"x\":[1493239130.5],\"xaxis\":\"x\",\"y\":[3318831.5],\"yaxis\":\"y\"}],\"name\":\"2001\"},{\"data\":[{\"hovertemplate\":\"<b>%{hovertext}</b><br><br>Continent=Africa<br>Year=2002<br>Quantity=%{x}<br>Trade (USD)=%{y}<br>Nr of Countries=%{marker.size}<extra></extra>\",\"hovertext\":[\"Africa\"],\"ids\":[\"Africa\"],\"legendgroup\":\"Africa\",\"marker\":{\"color\":\"#636efa\",\"size\":[49],\"sizemode\":\"area\",\"sizeref\":0.1225,\"symbol\":\"circle\"},\"mode\":\"markers\",\"name\":\"Africa\",\"orientation\":\"v\",\"showlegend\":true,\"type\":\"scatter\",\"x\":[61924445.55],\"xaxis\":\"x\",\"y\":[99223795.85],\"yaxis\":\"y\"},{\"hovertemplate\":\"<b>%{hovertext}</b><br><br>Continent=Europe<br>Year=2002<br>Quantity=%{x}<br>Trade (USD)=%{y}<br>Nr of Countries=%{marker.size}<extra></extra>\",\"hovertext\":[\"Europe\"],\"ids\":[\"Europe\"],\"legendgroup\":\"Europe\",\"marker\":{\"color\":\"#EF553B\",\"size\":[42],\"sizemode\":\"area\",\"sizeref\":0.1225,\"symbol\":\"circle\"},\"mode\":\"markers\",\"name\":\"Europe\",\"orientation\":\"v\",\"showlegend\":true,\"type\":\"scatter\",\"x\":[9504694.3125],\"xaxis\":\"x\",\"y\":[17402641.625],\"yaxis\":\"y\"},{\"hovertemplate\":\"<b>%{hovertext}</b><br><br>Continent=Asia<br>Year=2002<br>Quantity=%{x}<br>Trade (USD)=%{y}<br>Nr of Countries=%{marker.size}<extra></extra>\",\"hovertext\":[\"Asia\"],\"ids\":[\"Asia\"],\"legendgroup\":\"Asia\",\"marker\":{\"color\":\"#00cc96\",\"size\":[44],\"sizemode\":\"area\",\"sizeref\":0.1225,\"symbol\":\"circle\"},\"mode\":\"markers\",\"name\":\"Asia\",\"orientation\":\"v\",\"showlegend\":true,\"type\":\"scatter\",\"x\":[30185645.0],\"xaxis\":\"x\",\"y\":[42854127.384615384],\"yaxis\":\"y\"},{\"hovertemplate\":\"<b>%{hovertext}</b><br><br>Continent=Americas<br>Year=2002<br>Quantity=%{x}<br>Trade (USD)=%{y}<br>Nr of Countries=%{marker.size}<extra></extra>\",\"hovertext\":[\"Americas\"],\"ids\":[\"Americas\"],\"legendgroup\":\"Americas\",\"marker\":{\"color\":\"#ab63fa\",\"size\":[43],\"sizemode\":\"area\",\"sizeref\":0.1225,\"symbol\":\"circle\"},\"mode\":\"markers\",\"name\":\"Americas\",\"orientation\":\"v\",\"showlegend\":true,\"type\":\"scatter\",\"x\":[5403223.583333333],\"xaxis\":\"x\",\"y\":[8707530.833333334],\"yaxis\":\"y\"},{\"hovertemplate\":\"<b>%{hovertext}</b><br><br>Continent=Oceania<br>Year=2002<br>Quantity=%{x}<br>Trade (USD)=%{y}<br>Nr of Countries=%{marker.size}<extra></extra>\",\"hovertext\":[\"Oceania\"],\"ids\":[\"Oceania\"],\"legendgroup\":\"Oceania\",\"marker\":{\"color\":\"#FFA15A\",\"size\":[15],\"sizemode\":\"area\",\"sizeref\":0.1225,\"symbol\":\"circle\"},\"mode\":\"markers\",\"name\":\"Oceania\",\"orientation\":\"v\",\"showlegend\":true,\"type\":\"scatter\",\"x\":[1175814291.4],\"xaxis\":\"x\",\"y\":[12113621.8],\"yaxis\":\"y\"}],\"name\":\"2002\"},{\"data\":[{\"hovertemplate\":\"<b>%{hovertext}</b><br><br>Continent=Africa<br>Year=2003<br>Quantity=%{x}<br>Trade (USD)=%{y}<br>Nr of Countries=%{marker.size}<extra></extra>\",\"hovertext\":[\"Africa\"],\"ids\":[\"Africa\"],\"legendgroup\":\"Africa\",\"marker\":{\"color\":\"#636efa\",\"size\":[49],\"sizemode\":\"area\",\"sizeref\":0.1225,\"symbol\":\"circle\"},\"mode\":\"markers\",\"name\":\"Africa\",\"orientation\":\"v\",\"showlegend\":true,\"type\":\"scatter\",\"x\":[87245617.8125],\"xaxis\":\"x\",\"y\":[158203237.4375],\"yaxis\":\"y\"},{\"hovertemplate\":\"<b>%{hovertext}</b><br><br>Continent=Europe<br>Year=2003<br>Quantity=%{x}<br>Trade (USD)=%{y}<br>Nr of Countries=%{marker.size}<extra></extra>\",\"hovertext\":[\"Europe\"],\"ids\":[\"Europe\"],\"legendgroup\":\"Europe\",\"marker\":{\"color\":\"#EF553B\",\"size\":[42],\"sizemode\":\"area\",\"sizeref\":0.1225,\"symbol\":\"circle\"},\"mode\":\"markers\",\"name\":\"Europe\",\"orientation\":\"v\",\"showlegend\":true,\"type\":\"scatter\",\"x\":[6889086.739130435],\"xaxis\":\"x\",\"y\":[14871205.913043479],\"yaxis\":\"y\"},{\"hovertemplate\":\"<b>%{hovertext}</b><br><br>Continent=Asia<br>Year=2003<br>Quantity=%{x}<br>Trade (USD)=%{y}<br>Nr of Countries=%{marker.size}<extra></extra>\",\"hovertext\":[\"Asia\"],\"ids\":[\"Asia\"],\"legendgroup\":\"Asia\",\"marker\":{\"color\":\"#00cc96\",\"size\":[44],\"sizemode\":\"area\",\"sizeref\":0.1225,\"symbol\":\"circle\"},\"mode\":\"markers\",\"name\":\"Asia\",\"orientation\":\"v\",\"showlegend\":true,\"type\":\"scatter\",\"x\":[19404778.714285713],\"xaxis\":\"x\",\"y\":[31538779.0],\"yaxis\":\"y\"},{\"hovertemplate\":\"<b>%{hovertext}</b><br><br>Continent=Americas<br>Year=2003<br>Quantity=%{x}<br>Trade (USD)=%{y}<br>Nr of Countries=%{marker.size}<extra></extra>\",\"hovertext\":[\"Americas\"],\"ids\":[\"Americas\"],\"legendgroup\":\"Americas\",\"marker\":{\"color\":\"#ab63fa\",\"size\":[43],\"sizemode\":\"area\",\"sizeref\":0.1225,\"symbol\":\"circle\"},\"mode\":\"markers\",\"name\":\"Americas\",\"orientation\":\"v\",\"showlegend\":true,\"type\":\"scatter\",\"x\":[6186484.875],\"xaxis\":\"x\",\"y\":[10015653.208333334],\"yaxis\":\"y\"},{\"hovertemplate\":\"<b>%{hovertext}</b><br><br>Continent=Oceania<br>Year=2003<br>Quantity=%{x}<br>Trade (USD)=%{y}<br>Nr of Countries=%{marker.size}<extra></extra>\",\"hovertext\":[\"Oceania\"],\"ids\":[\"Oceania\"],\"legendgroup\":\"Oceania\",\"marker\":{\"color\":\"#FFA15A\",\"size\":[15],\"sizemode\":\"area\",\"sizeref\":0.1225,\"symbol\":\"circle\"},\"mode\":\"markers\",\"name\":\"Oceania\",\"orientation\":\"v\",\"showlegend\":true,\"type\":\"scatter\",\"x\":[268131164.0],\"xaxis\":\"x\",\"y\":[13172332.0],\"yaxis\":\"y\"}],\"name\":\"2003\"},{\"data\":[{\"hovertemplate\":\"<b>%{hovertext}</b><br><br>Continent=Africa<br>Year=2004<br>Quantity=%{x}<br>Trade (USD)=%{y}<br>Nr of Countries=%{marker.size}<extra></extra>\",\"hovertext\":[\"Africa\"],\"ids\":[\"Africa\"],\"legendgroup\":\"Africa\",\"marker\":{\"color\":\"#636efa\",\"size\":[49],\"sizemode\":\"area\",\"sizeref\":0.1225,\"symbol\":\"circle\"},\"mode\":\"markers\",\"name\":\"Africa\",\"orientation\":\"v\",\"showlegend\":true,\"type\":\"scatter\",\"x\":[80346313.25],\"xaxis\":\"x\",\"y\":[118869098.5],\"yaxis\":\"y\"},{\"hovertemplate\":\"<b>%{hovertext}</b><br><br>Continent=Europe<br>Year=2004<br>Quantity=%{x}<br>Trade (USD)=%{y}<br>Nr of Countries=%{marker.size}<extra></extra>\",\"hovertext\":[\"Europe\"],\"ids\":[\"Europe\"],\"legendgroup\":\"Europe\",\"marker\":{\"color\":\"#EF553B\",\"size\":[42],\"sizemode\":\"area\",\"sizeref\":0.1225,\"symbol\":\"circle\"},\"mode\":\"markers\",\"name\":\"Europe\",\"orientation\":\"v\",\"showlegend\":true,\"type\":\"scatter\",\"x\":[9745520.666666666],\"xaxis\":\"x\",\"y\":[17721339.57142857],\"yaxis\":\"y\"},{\"hovertemplate\":\"<b>%{hovertext}</b><br><br>Continent=Asia<br>Year=2004<br>Quantity=%{x}<br>Trade (USD)=%{y}<br>Nr of Countries=%{marker.size}<extra></extra>\",\"hovertext\":[\"Asia\"],\"ids\":[\"Asia\"],\"legendgroup\":\"Asia\",\"marker\":{\"color\":\"#00cc96\",\"size\":[44],\"sizemode\":\"area\",\"sizeref\":0.1225,\"symbol\":\"circle\"},\"mode\":\"markers\",\"name\":\"Asia\",\"orientation\":\"v\",\"showlegend\":true,\"type\":\"scatter\",\"x\":[26539591.727272727],\"xaxis\":\"x\",\"y\":[35806117.09090909],\"yaxis\":\"y\"},{\"hovertemplate\":\"<b>%{hovertext}</b><br><br>Continent=Americas<br>Year=2004<br>Quantity=%{x}<br>Trade (USD)=%{y}<br>Nr of Countries=%{marker.size}<extra></extra>\",\"hovertext\":[\"Americas\"],\"ids\":[\"Americas\"],\"legendgroup\":\"Americas\",\"marker\":{\"color\":\"#ab63fa\",\"size\":[43],\"sizemode\":\"area\",\"sizeref\":0.1225,\"symbol\":\"circle\"},\"mode\":\"markers\",\"name\":\"Americas\",\"orientation\":\"v\",\"showlegend\":true,\"type\":\"scatter\",\"x\":[6439170.125],\"xaxis\":\"x\",\"y\":[9594663.75],\"yaxis\":\"y\"},{\"hovertemplate\":\"<b>%{hovertext}</b><br><br>Continent=Oceania<br>Year=2004<br>Quantity=%{x}<br>Trade (USD)=%{y}<br>Nr of Countries=%{marker.size}<extra></extra>\",\"hovertext\":[\"Oceania\"],\"ids\":[\"Oceania\"],\"legendgroup\":\"Oceania\",\"marker\":{\"color\":\"#FFA15A\",\"size\":[15],\"sizemode\":\"area\",\"sizeref\":0.1225,\"symbol\":\"circle\"},\"mode\":\"markers\",\"name\":\"Oceania\",\"orientation\":\"v\",\"showlegend\":true,\"type\":\"scatter\",\"x\":[535546966.75],\"xaxis\":\"x\",\"y\":[14179112.0],\"yaxis\":\"y\"}],\"name\":\"2004\"},{\"data\":[{\"hovertemplate\":\"<b>%{hovertext}</b><br><br>Continent=Africa<br>Year=2005<br>Quantity=%{x}<br>Trade (USD)=%{y}<br>Nr of Countries=%{marker.size}<extra></extra>\",\"hovertext\":[\"Africa\"],\"ids\":[\"Africa\"],\"legendgroup\":\"Africa\",\"marker\":{\"color\":\"#636efa\",\"size\":[49],\"sizemode\":\"area\",\"sizeref\":0.1225,\"symbol\":\"circle\"},\"mode\":\"markers\",\"name\":\"Africa\",\"orientation\":\"v\",\"showlegend\":true,\"type\":\"scatter\",\"x\":[107052161.6875],\"xaxis\":\"x\",\"y\":[158219406.9375],\"yaxis\":\"y\"},{\"hovertemplate\":\"<b>%{hovertext}</b><br><br>Continent=Europe<br>Year=2005<br>Quantity=%{x}<br>Trade (USD)=%{y}<br>Nr of Countries=%{marker.size}<extra></extra>\",\"hovertext\":[\"Europe\"],\"ids\":[\"Europe\"],\"legendgroup\":\"Europe\",\"marker\":{\"color\":\"#EF553B\",\"size\":[42],\"sizemode\":\"area\",\"sizeref\":0.1225,\"symbol\":\"circle\"},\"mode\":\"markers\",\"name\":\"Europe\",\"orientation\":\"v\",\"showlegend\":true,\"type\":\"scatter\",\"x\":[13021723.789473685],\"xaxis\":\"x\",\"y\":[22182799.05263158],\"yaxis\":\"y\"},{\"hovertemplate\":\"<b>%{hovertext}</b><br><br>Continent=Asia<br>Year=2005<br>Quantity=%{x}<br>Trade (USD)=%{y}<br>Nr of Countries=%{marker.size}<extra></extra>\",\"hovertext\":[\"Asia\"],\"ids\":[\"Asia\"],\"legendgroup\":\"Asia\",\"marker\":{\"color\":\"#00cc96\",\"size\":[44],\"sizemode\":\"area\",\"sizeref\":0.1225,\"symbol\":\"circle\"},\"mode\":\"markers\",\"name\":\"Asia\",\"orientation\":\"v\",\"showlegend\":true,\"type\":\"scatter\",\"x\":[29183279.769230768],\"xaxis\":\"x\",\"y\":[37302341.15384615],\"yaxis\":\"y\"},{\"hovertemplate\":\"<b>%{hovertext}</b><br><br>Continent=Americas<br>Year=2005<br>Quantity=%{x}<br>Trade (USD)=%{y}<br>Nr of Countries=%{marker.size}<extra></extra>\",\"hovertext\":[\"Americas\"],\"ids\":[\"Americas\"],\"legendgroup\":\"Americas\",\"marker\":{\"color\":\"#ab63fa\",\"size\":[43],\"sizemode\":\"area\",\"sizeref\":0.1225,\"symbol\":\"circle\"},\"mode\":\"markers\",\"name\":\"Americas\",\"orientation\":\"v\",\"showlegend\":true,\"type\":\"scatter\",\"x\":[6069022.0],\"xaxis\":\"x\",\"y\":[9244929.826086957],\"yaxis\":\"y\"},{\"hovertemplate\":\"<b>%{hovertext}</b><br><br>Continent=Oceania<br>Year=2005<br>Quantity=%{x}<br>Trade (USD)=%{y}<br>Nr of Countries=%{marker.size}<extra></extra>\",\"hovertext\":[\"Oceania\"],\"ids\":[\"Oceania\"],\"legendgroup\":\"Oceania\",\"marker\":{\"color\":\"#FFA15A\",\"size\":[15],\"sizemode\":\"area\",\"sizeref\":0.1225,\"symbol\":\"circle\"},\"mode\":\"markers\",\"name\":\"Oceania\",\"orientation\":\"v\",\"showlegend\":true,\"type\":\"scatter\",\"x\":[4558.25],\"xaxis\":\"x\",\"y\":[12205.0],\"yaxis\":\"y\"}],\"name\":\"2005\"},{\"data\":[{\"hovertemplate\":\"<b>%{hovertext}</b><br><br>Continent=Africa<br>Year=2006<br>Quantity=%{x}<br>Trade (USD)=%{y}<br>Nr of Countries=%{marker.size}<extra></extra>\",\"hovertext\":[\"Africa\"],\"ids\":[\"Africa\"],\"legendgroup\":\"Africa\",\"marker\":{\"color\":\"#636efa\",\"size\":[49],\"sizemode\":\"area\",\"sizeref\":0.1225,\"symbol\":\"circle\"},\"mode\":\"markers\",\"name\":\"Africa\",\"orientation\":\"v\",\"showlegend\":true,\"type\":\"scatter\",\"x\":[140271346.30769232],\"xaxis\":\"x\",\"y\":[217739256.0],\"yaxis\":\"y\"},{\"hovertemplate\":\"<b>%{hovertext}</b><br><br>Continent=Europe<br>Year=2006<br>Quantity=%{x}<br>Trade (USD)=%{y}<br>Nr of Countries=%{marker.size}<extra></extra>\",\"hovertext\":[\"Europe\"],\"ids\":[\"Europe\"],\"legendgroup\":\"Europe\",\"marker\":{\"color\":\"#EF553B\",\"size\":[42],\"sizemode\":\"area\",\"sizeref\":0.1225,\"symbol\":\"circle\"},\"mode\":\"markers\",\"name\":\"Europe\",\"orientation\":\"v\",\"showlegend\":true,\"type\":\"scatter\",\"x\":[11703663.789473685],\"xaxis\":\"x\",\"y\":[20725856.89473684],\"yaxis\":\"y\"},{\"hovertemplate\":\"<b>%{hovertext}</b><br><br>Continent=Asia<br>Year=2006<br>Quantity=%{x}<br>Trade (USD)=%{y}<br>Nr of Countries=%{marker.size}<extra></extra>\",\"hovertext\":[\"Asia\"],\"ids\":[\"Asia\"],\"legendgroup\":\"Asia\",\"marker\":{\"color\":\"#00cc96\",\"size\":[44],\"sizemode\":\"area\",\"sizeref\":0.1225,\"symbol\":\"circle\"},\"mode\":\"markers\",\"name\":\"Asia\",\"orientation\":\"v\",\"showlegend\":true,\"type\":\"scatter\",\"x\":[67057624.733333334],\"xaxis\":\"x\",\"y\":[42870251.266666666],\"yaxis\":\"y\"},{\"hovertemplate\":\"<b>%{hovertext}</b><br><br>Continent=Americas<br>Year=2006<br>Quantity=%{x}<br>Trade (USD)=%{y}<br>Nr of Countries=%{marker.size}<extra></extra>\",\"hovertext\":[\"Americas\"],\"ids\":[\"Americas\"],\"legendgroup\":\"Americas\",\"marker\":{\"color\":\"#ab63fa\",\"size\":[43],\"sizemode\":\"area\",\"sizeref\":0.1225,\"symbol\":\"circle\"},\"mode\":\"markers\",\"name\":\"Americas\",\"orientation\":\"v\",\"showlegend\":true,\"type\":\"scatter\",\"x\":[7449212.347826087],\"xaxis\":\"x\",\"y\":[12549734.739130436],\"yaxis\":\"y\"},{\"hovertemplate\":\"<b>%{hovertext}</b><br><br>Continent=Oceania<br>Year=2006<br>Quantity=%{x}<br>Trade (USD)=%{y}<br>Nr of Countries=%{marker.size}<extra></extra>\",\"hovertext\":[\"Oceania\"],\"ids\":[\"Oceania\"],\"legendgroup\":\"Oceania\",\"marker\":{\"color\":\"#FFA15A\",\"size\":[15],\"sizemode\":\"area\",\"sizeref\":0.1225,\"symbol\":\"circle\"},\"mode\":\"markers\",\"name\":\"Oceania\",\"orientation\":\"v\",\"showlegend\":true,\"type\":\"scatter\",\"x\":[367152.2],\"xaxis\":\"x\",\"y\":[505304.0],\"yaxis\":\"y\"}],\"name\":\"2006\"},{\"data\":[{\"hovertemplate\":\"<b>%{hovertext}</b><br><br>Continent=Africa<br>Year=2007<br>Quantity=%{x}<br>Trade (USD)=%{y}<br>Nr of Countries=%{marker.size}<extra></extra>\",\"hovertext\":[\"Africa\"],\"ids\":[\"Africa\"],\"legendgroup\":\"Africa\",\"marker\":{\"color\":\"#636efa\",\"size\":[49],\"sizemode\":\"area\",\"sizeref\":0.1225,\"symbol\":\"circle\"},\"mode\":\"markers\",\"name\":\"Africa\",\"orientation\":\"v\",\"showlegend\":true,\"type\":\"scatter\",\"x\":[108139733.9375],\"xaxis\":\"x\",\"y\":[187221262.5625],\"yaxis\":\"y\"},{\"hovertemplate\":\"<b>%{hovertext}</b><br><br>Continent=Europe<br>Year=2007<br>Quantity=%{x}<br>Trade (USD)=%{y}<br>Nr of Countries=%{marker.size}<extra></extra>\",\"hovertext\":[\"Europe\"],\"ids\":[\"Europe\"],\"legendgroup\":\"Europe\",\"marker\":{\"color\":\"#EF553B\",\"size\":[42],\"sizemode\":\"area\",\"sizeref\":0.1225,\"symbol\":\"circle\"},\"mode\":\"markers\",\"name\":\"Europe\",\"orientation\":\"v\",\"showlegend\":true,\"type\":\"scatter\",\"x\":[11387323.636363637],\"xaxis\":\"x\",\"y\":[23855830.818181816],\"yaxis\":\"y\"},{\"hovertemplate\":\"<b>%{hovertext}</b><br><br>Continent=Asia<br>Year=2007<br>Quantity=%{x}<br>Trade (USD)=%{y}<br>Nr of Countries=%{marker.size}<extra></extra>\",\"hovertext\":[\"Asia\"],\"ids\":[\"Asia\"],\"legendgroup\":\"Asia\",\"marker\":{\"color\":\"#00cc96\",\"size\":[44],\"sizemode\":\"area\",\"sizeref\":0.1225,\"symbol\":\"circle\"},\"mode\":\"markers\",\"name\":\"Asia\",\"orientation\":\"v\",\"showlegend\":true,\"type\":\"scatter\",\"x\":[26694758.733333334],\"xaxis\":\"x\",\"y\":[44111662.93333333],\"yaxis\":\"y\"},{\"hovertemplate\":\"<b>%{hovertext}</b><br><br>Continent=Americas<br>Year=2007<br>Quantity=%{x}<br>Trade (USD)=%{y}<br>Nr of Countries=%{marker.size}<extra></extra>\",\"hovertext\":[\"Americas\"],\"ids\":[\"Americas\"],\"legendgroup\":\"Americas\",\"marker\":{\"color\":\"#ab63fa\",\"size\":[43],\"sizemode\":\"area\",\"sizeref\":0.1225,\"symbol\":\"circle\"},\"mode\":\"markers\",\"name\":\"Americas\",\"orientation\":\"v\",\"showlegend\":true,\"type\":\"scatter\",\"x\":[7641952.863636363],\"xaxis\":\"x\",\"y\":[17367287.0],\"yaxis\":\"y\"},{\"hovertemplate\":\"<b>%{hovertext}</b><br><br>Continent=Oceania<br>Year=2007<br>Quantity=%{x}<br>Trade (USD)=%{y}<br>Nr of Countries=%{marker.size}<extra></extra>\",\"hovertext\":[\"Oceania\"],\"ids\":[\"Oceania\"],\"legendgroup\":\"Oceania\",\"marker\":{\"color\":\"#FFA15A\",\"size\":[15],\"sizemode\":\"area\",\"sizeref\":0.1225,\"symbol\":\"circle\"},\"mode\":\"markers\",\"name\":\"Oceania\",\"orientation\":\"v\",\"showlegend\":true,\"type\":\"scatter\",\"x\":[247812.6],\"xaxis\":\"x\",\"y\":[440060.2],\"yaxis\":\"y\"}],\"name\":\"2007\"},{\"data\":[{\"hovertemplate\":\"<b>%{hovertext}</b><br><br>Continent=Africa<br>Year=2008<br>Quantity=%{x}<br>Trade (USD)=%{y}<br>Nr of Countries=%{marker.size}<extra></extra>\",\"hovertext\":[\"Africa\"],\"ids\":[\"Africa\"],\"legendgroup\":\"Africa\",\"marker\":{\"color\":\"#636efa\",\"size\":[49],\"sizemode\":\"area\",\"sizeref\":0.1225,\"symbol\":\"circle\"},\"mode\":\"markers\",\"name\":\"Africa\",\"orientation\":\"v\",\"showlegend\":true,\"type\":\"scatter\",\"x\":[92375669.15789473],\"xaxis\":\"x\",\"y\":[196391455.9898422],\"yaxis\":\"y\"},{\"hovertemplate\":\"<b>%{hovertext}</b><br><br>Continent=Europe<br>Year=2008<br>Quantity=%{x}<br>Trade (USD)=%{y}<br>Nr of Countries=%{marker.size}<extra></extra>\",\"hovertext\":[\"Europe\"],\"ids\":[\"Europe\"],\"legendgroup\":\"Europe\",\"marker\":{\"color\":\"#EF553B\",\"size\":[42],\"sizemode\":\"area\",\"sizeref\":0.1225,\"symbol\":\"circle\"},\"mode\":\"markers\",\"name\":\"Europe\",\"orientation\":\"v\",\"showlegend\":true,\"type\":\"scatter\",\"x\":[11626322.315789474],\"xaxis\":\"x\",\"y\":[31108026.943443663],\"yaxis\":\"y\"},{\"hovertemplate\":\"<b>%{hovertext}</b><br><br>Continent=Asia<br>Year=2008<br>Quantity=%{x}<br>Trade (USD)=%{y}<br>Nr of Countries=%{marker.size}<extra></extra>\",\"hovertext\":[\"Asia\"],\"ids\":[\"Asia\"],\"legendgroup\":\"Asia\",\"marker\":{\"color\":\"#00cc96\",\"size\":[44],\"sizemode\":\"area\",\"sizeref\":0.1225,\"symbol\":\"circle\"},\"mode\":\"markers\",\"name\":\"Asia\",\"orientation\":\"v\",\"showlegend\":true,\"type\":\"scatter\",\"x\":[22941558.11764706],\"xaxis\":\"x\",\"y\":[51557899.941176474],\"yaxis\":\"y\"},{\"hovertemplate\":\"<b>%{hovertext}</b><br><br>Continent=Americas<br>Year=2008<br>Quantity=%{x}<br>Trade (USD)=%{y}<br>Nr of Countries=%{marker.size}<extra></extra>\",\"hovertext\":[\"Americas\"],\"ids\":[\"Americas\"],\"legendgroup\":\"Americas\",\"marker\":{\"color\":\"#ab63fa\",\"size\":[43],\"sizemode\":\"area\",\"sizeref\":0.1225,\"symbol\":\"circle\"},\"mode\":\"markers\",\"name\":\"Americas\",\"orientation\":\"v\",\"showlegend\":true,\"type\":\"scatter\",\"x\":[7935929.65],\"xaxis\":\"x\",\"y\":[20862314.1],\"yaxis\":\"y\"},{\"hovertemplate\":\"<b>%{hovertext}</b><br><br>Continent=Oceania<br>Year=2008<br>Quantity=%{x}<br>Trade (USD)=%{y}<br>Nr of Countries=%{marker.size}<extra></extra>\",\"hovertext\":[\"Oceania\"],\"ids\":[\"Oceania\"],\"legendgroup\":\"Oceania\",\"marker\":{\"color\":\"#FFA15A\",\"size\":[15],\"sizemode\":\"area\",\"sizeref\":0.1225,\"symbol\":\"circle\"},\"mode\":\"markers\",\"name\":\"Oceania\",\"orientation\":\"v\",\"showlegend\":true,\"type\":\"scatter\",\"x\":[2929.0],\"xaxis\":\"x\",\"y\":[10042.333333333334],\"yaxis\":\"y\"}],\"name\":\"2008\"},{\"data\":[{\"hovertemplate\":\"<b>%{hovertext}</b><br><br>Continent=Africa<br>Year=2009<br>Quantity=%{x}<br>Trade (USD)=%{y}<br>Nr of Countries=%{marker.size}<extra></extra>\",\"hovertext\":[\"Africa\"],\"ids\":[\"Africa\"],\"legendgroup\":\"Africa\",\"marker\":{\"color\":\"#636efa\",\"size\":[49],\"sizemode\":\"area\",\"sizeref\":0.1225,\"symbol\":\"circle\"},\"mode\":\"markers\",\"name\":\"Africa\",\"orientation\":\"v\",\"showlegend\":true,\"type\":\"scatter\",\"x\":[105748018.47058824],\"xaxis\":\"x\",\"y\":[328476036.73260224],\"yaxis\":\"y\"},{\"hovertemplate\":\"<b>%{hovertext}</b><br><br>Continent=Europe<br>Year=2009<br>Quantity=%{x}<br>Trade (USD)=%{y}<br>Nr of Countries=%{marker.size}<extra></extra>\",\"hovertext\":[\"Europe\"],\"ids\":[\"Europe\"],\"legendgroup\":\"Europe\",\"marker\":{\"color\":\"#EF553B\",\"size\":[42],\"sizemode\":\"area\",\"sizeref\":0.1225,\"symbol\":\"circle\"},\"mode\":\"markers\",\"name\":\"Europe\",\"orientation\":\"v\",\"showlegend\":true,\"type\":\"scatter\",\"x\":[13720096.421052631],\"xaxis\":\"x\",\"y\":[37940181.53587967],\"yaxis\":\"y\"},{\"hovertemplate\":\"<b>%{hovertext}</b><br><br>Continent=Asia<br>Year=2009<br>Quantity=%{x}<br>Trade (USD)=%{y}<br>Nr of Countries=%{marker.size}<extra></extra>\",\"hovertext\":[\"Asia\"],\"ids\":[\"Asia\"],\"legendgroup\":\"Asia\",\"marker\":{\"color\":\"#00cc96\",\"size\":[44],\"sizemode\":\"area\",\"sizeref\":0.1225,\"symbol\":\"circle\"},\"mode\":\"markers\",\"name\":\"Asia\",\"orientation\":\"v\",\"showlegend\":true,\"type\":\"scatter\",\"x\":[25712535.555555556],\"xaxis\":\"x\",\"y\":[63784148.05555555],\"yaxis\":\"y\"},{\"hovertemplate\":\"<b>%{hovertext}</b><br><br>Continent=Americas<br>Year=2009<br>Quantity=%{x}<br>Trade (USD)=%{y}<br>Nr of Countries=%{marker.size}<extra></extra>\",\"hovertext\":[\"Americas\"],\"ids\":[\"Americas\"],\"legendgroup\":\"Americas\",\"marker\":{\"color\":\"#ab63fa\",\"size\":[43],\"sizemode\":\"area\",\"sizeref\":0.1225,\"symbol\":\"circle\"},\"mode\":\"markers\",\"name\":\"Americas\",\"orientation\":\"v\",\"showlegend\":true,\"type\":\"scatter\",\"x\":[10097186.095238095],\"xaxis\":\"x\",\"y\":[26602228.80952381],\"yaxis\":\"y\"},{\"hovertemplate\":\"<b>%{hovertext}</b><br><br>Continent=Oceania<br>Year=2009<br>Quantity=%{x}<br>Trade (USD)=%{y}<br>Nr of Countries=%{marker.size}<extra></extra>\",\"hovertext\":[\"Oceania\"],\"ids\":[\"Oceania\"],\"legendgroup\":\"Oceania\",\"marker\":{\"color\":\"#FFA15A\",\"size\":[15],\"sizemode\":\"area\",\"sizeref\":0.1225,\"symbol\":\"circle\"},\"mode\":\"markers\",\"name\":\"Oceania\",\"orientation\":\"v\",\"showlegend\":true,\"type\":\"scatter\",\"x\":[1548683.0],\"xaxis\":\"x\",\"y\":[3637359.245482],\"yaxis\":\"y\"}],\"name\":\"2009\"},{\"data\":[{\"hovertemplate\":\"<b>%{hovertext}</b><br><br>Continent=Africa<br>Year=2010<br>Quantity=%{x}<br>Trade (USD)=%{y}<br>Nr of Countries=%{marker.size}<extra></extra>\",\"hovertext\":[\"Africa\"],\"ids\":[\"Africa\"],\"legendgroup\":\"Africa\",\"marker\":{\"color\":\"#636efa\",\"size\":[49],\"sizemode\":\"area\",\"sizeref\":0.1225,\"symbol\":\"circle\"},\"mode\":\"markers\",\"name\":\"Africa\",\"orientation\":\"v\",\"showlegend\":true,\"type\":\"scatter\",\"x\":[126574092.37193444],\"xaxis\":\"x\",\"y\":[340380233.0704632],\"yaxis\":\"y\"},{\"hovertemplate\":\"<b>%{hovertext}</b><br><br>Continent=Europe<br>Year=2010<br>Quantity=%{x}<br>Trade (USD)=%{y}<br>Nr of Countries=%{marker.size}<extra></extra>\",\"hovertext\":[\"Europe\"],\"ids\":[\"Europe\"],\"legendgroup\":\"Europe\",\"marker\":{\"color\":\"#EF553B\",\"size\":[42],\"sizemode\":\"area\",\"sizeref\":0.1225,\"symbol\":\"circle\"},\"mode\":\"markers\",\"name\":\"Europe\",\"orientation\":\"v\",\"showlegend\":true,\"type\":\"scatter\",\"x\":[12676876.19047619],\"xaxis\":\"x\",\"y\":[43967255.83501478],\"yaxis\":\"y\"},{\"hovertemplate\":\"<b>%{hovertext}</b><br><br>Continent=Asia<br>Year=2010<br>Quantity=%{x}<br>Trade (USD)=%{y}<br>Nr of Countries=%{marker.size}<extra></extra>\",\"hovertext\":[\"Asia\"],\"ids\":[\"Asia\"],\"legendgroup\":\"Asia\",\"marker\":{\"color\":\"#00cc96\",\"size\":[44],\"sizemode\":\"area\",\"sizeref\":0.1225,\"symbol\":\"circle\"},\"mode\":\"markers\",\"name\":\"Asia\",\"orientation\":\"v\",\"showlegend\":true,\"type\":\"scatter\",\"x\":[33372852.64285714],\"xaxis\":\"x\",\"y\":[93718142.60071003],\"yaxis\":\"y\"},{\"hovertemplate\":\"<b>%{hovertext}</b><br><br>Continent=Americas<br>Year=2010<br>Quantity=%{x}<br>Trade (USD)=%{y}<br>Nr of Countries=%{marker.size}<extra></extra>\",\"hovertext\":[\"Americas\"],\"ids\":[\"Americas\"],\"legendgroup\":\"Americas\",\"marker\":{\"color\":\"#ab63fa\",\"size\":[43],\"sizemode\":\"area\",\"sizeref\":0.1225,\"symbol\":\"circle\"},\"mode\":\"markers\",\"name\":\"Americas\",\"orientation\":\"v\",\"showlegend\":true,\"type\":\"scatter\",\"x\":[10392271.468571428],\"xaxis\":\"x\",\"y\":[31554330.89904762],\"yaxis\":\"y\"},{\"hovertemplate\":\"<b>%{hovertext}</b><br><br>Continent=Oceania<br>Year=2010<br>Quantity=%{x}<br>Trade (USD)=%{y}<br>Nr of Countries=%{marker.size}<extra></extra>\",\"hovertext\":[\"Oceania\"],\"ids\":[\"Oceania\"],\"legendgroup\":\"Oceania\",\"marker\":{\"color\":\"#FFA15A\",\"size\":[15],\"sizemode\":\"area\",\"sizeref\":0.1225,\"symbol\":\"circle\"},\"mode\":\"markers\",\"name\":\"Oceania\",\"orientation\":\"v\",\"showlegend\":true,\"type\":\"scatter\",\"x\":[326275.45444646094],\"xaxis\":\"x\",\"y\":[834450.483770604],\"yaxis\":\"y\"}],\"name\":\"2010\"},{\"data\":[{\"hovertemplate\":\"<b>%{hovertext}</b><br><br>Continent=Africa<br>Year=2011<br>Quantity=%{x}<br>Trade (USD)=%{y}<br>Nr of Countries=%{marker.size}<extra></extra>\",\"hovertext\":[\"Africa\"],\"ids\":[\"Africa\"],\"legendgroup\":\"Africa\",\"marker\":{\"color\":\"#636efa\",\"size\":[49],\"sizemode\":\"area\",\"sizeref\":0.1225,\"symbol\":\"circle\"},\"mode\":\"markers\",\"name\":\"Africa\",\"orientation\":\"v\",\"showlegend\":true,\"type\":\"scatter\",\"x\":[128804298.62273042],\"xaxis\":\"x\",\"y\":[393490905.4134067],\"yaxis\":\"y\"},{\"hovertemplate\":\"<b>%{hovertext}</b><br><br>Continent=Europe<br>Year=2011<br>Quantity=%{x}<br>Trade (USD)=%{y}<br>Nr of Countries=%{marker.size}<extra></extra>\",\"hovertext\":[\"Europe\"],\"ids\":[\"Europe\"],\"legendgroup\":\"Europe\",\"marker\":{\"color\":\"#EF553B\",\"size\":[42],\"sizemode\":\"area\",\"sizeref\":0.1225,\"symbol\":\"circle\"},\"mode\":\"markers\",\"name\":\"Europe\",\"orientation\":\"v\",\"showlegend\":true,\"type\":\"scatter\",\"x\":[13853633.347826088],\"xaxis\":\"x\",\"y\":[46466394.039211325],\"yaxis\":\"y\"},{\"hovertemplate\":\"<b>%{hovertext}</b><br><br>Continent=Asia<br>Year=2011<br>Quantity=%{x}<br>Trade (USD)=%{y}<br>Nr of Countries=%{marker.size}<extra></extra>\",\"hovertext\":[\"Asia\"],\"ids\":[\"Asia\"],\"legendgroup\":\"Asia\",\"marker\":{\"color\":\"#00cc96\",\"size\":[44],\"sizemode\":\"area\",\"sizeref\":0.1225,\"symbol\":\"circle\"},\"mode\":\"markers\",\"name\":\"Asia\",\"orientation\":\"v\",\"showlegend\":true,\"type\":\"scatter\",\"x\":[16143327.068],\"xaxis\":\"x\",\"y\":[47905453.442422085],\"yaxis\":\"y\"},{\"hovertemplate\":\"<b>%{hovertext}</b><br><br>Continent=Americas<br>Year=2011<br>Quantity=%{x}<br>Trade (USD)=%{y}<br>Nr of Countries=%{marker.size}<extra></extra>\",\"hovertext\":[\"Americas\"],\"ids\":[\"Americas\"],\"legendgroup\":\"Americas\",\"marker\":{\"color\":\"#ab63fa\",\"size\":[43],\"sizemode\":\"area\",\"sizeref\":0.1225,\"symbol\":\"circle\"},\"mode\":\"markers\",\"name\":\"Americas\",\"orientation\":\"v\",\"showlegend\":true,\"type\":\"scatter\",\"x\":[12433137.634447865],\"xaxis\":\"x\",\"y\":[38483540.236],\"yaxis\":\"y\"},{\"hovertemplate\":\"<b>%{hovertext}</b><br><br>Continent=Oceania<br>Year=2011<br>Quantity=%{x}<br>Trade (USD)=%{y}<br>Nr of Countries=%{marker.size}<extra></extra>\",\"hovertext\":[\"Oceania\"],\"ids\":[\"Oceania\"],\"legendgroup\":\"Oceania\",\"marker\":{\"color\":\"#FFA15A\",\"size\":[15],\"sizemode\":\"area\",\"sizeref\":0.1225,\"symbol\":\"circle\"},\"mode\":\"markers\",\"name\":\"Oceania\",\"orientation\":\"v\",\"showlegend\":true,\"type\":\"scatter\",\"x\":[260547208.0],\"xaxis\":\"x\",\"y\":[23781093.791664284],\"yaxis\":\"y\"}],\"name\":\"2011\"},{\"data\":[{\"hovertemplate\":\"<b>%{hovertext}</b><br><br>Continent=Africa<br>Year=2012<br>Quantity=%{x}<br>Trade (USD)=%{y}<br>Nr of Countries=%{marker.size}<extra></extra>\",\"hovertext\":[\"Africa\"],\"ids\":[\"Africa\"],\"legendgroup\":\"Africa\",\"marker\":{\"color\":\"#636efa\",\"size\":[49],\"sizemode\":\"area\",\"sizeref\":0.1225,\"symbol\":\"circle\"},\"mode\":\"markers\",\"name\":\"Africa\",\"orientation\":\"v\",\"showlegend\":true,\"type\":\"scatter\",\"x\":[168482930.54134002],\"xaxis\":\"x\",\"y\":[650295580.3439251],\"yaxis\":\"y\"},{\"hovertemplate\":\"<b>%{hovertext}</b><br><br>Continent=Europe<br>Year=2012<br>Quantity=%{x}<br>Trade (USD)=%{y}<br>Nr of Countries=%{marker.size}<extra></extra>\",\"hovertext\":[\"Europe\"],\"ids\":[\"Europe\"],\"legendgroup\":\"Europe\",\"marker\":{\"color\":\"#EF553B\",\"size\":[42],\"sizemode\":\"area\",\"sizeref\":0.1225,\"symbol\":\"circle\"},\"mode\":\"markers\",\"name\":\"Europe\",\"orientation\":\"v\",\"showlegend\":true,\"type\":\"scatter\",\"x\":[13912890.68859887],\"xaxis\":\"x\",\"y\":[40288965.28115936],\"yaxis\":\"y\"},{\"hovertemplate\":\"<b>%{hovertext}</b><br><br>Continent=Asia<br>Year=2012<br>Quantity=%{x}<br>Trade (USD)=%{y}<br>Nr of Countries=%{marker.size}<extra></extra>\",\"hovertext\":[\"Asia\"],\"ids\":[\"Asia\"],\"legendgroup\":\"Asia\",\"marker\":{\"color\":\"#00cc96\",\"size\":[44],\"sizemode\":\"area\",\"sizeref\":0.1225,\"symbol\":\"circle\"},\"mode\":\"markers\",\"name\":\"Asia\",\"orientation\":\"v\",\"showlegend\":true,\"type\":\"scatter\",\"x\":[13456819.72308044],\"xaxis\":\"x\",\"y\":[33076486.058464453],\"yaxis\":\"y\"},{\"hovertemplate\":\"<b>%{hovertext}</b><br><br>Continent=Americas<br>Year=2012<br>Quantity=%{x}<br>Trade (USD)=%{y}<br>Nr of Countries=%{marker.size}<extra></extra>\",\"hovertext\":[\"Americas\"],\"ids\":[\"Americas\"],\"legendgroup\":\"Americas\",\"marker\":{\"color\":\"#ab63fa\",\"size\":[43],\"sizemode\":\"area\",\"sizeref\":0.1225,\"symbol\":\"circle\"},\"mode\":\"markers\",\"name\":\"Americas\",\"orientation\":\"v\",\"showlegend\":true,\"type\":\"scatter\",\"x\":[13894923.666842105],\"xaxis\":\"x\",\"y\":[34239030.03157894],\"yaxis\":\"y\"},{\"hovertemplate\":\"<b>%{hovertext}</b><br><br>Continent=Oceania<br>Year=2012<br>Quantity=%{x}<br>Trade (USD)=%{y}<br>Nr of Countries=%{marker.size}<extra></extra>\",\"hovertext\":[\"Oceania\"],\"ids\":[\"Oceania\"],\"legendgroup\":\"Oceania\",\"marker\":{\"color\":\"#FFA15A\",\"size\":[15],\"sizemode\":\"area\",\"sizeref\":0.1225,\"symbol\":\"circle\"},\"mode\":\"markers\",\"name\":\"Oceania\",\"orientation\":\"v\",\"showlegend\":true,\"type\":\"scatter\",\"x\":[191567894.0],\"xaxis\":\"x\",\"y\":[18685072.1351567],\"yaxis\":\"y\"}],\"name\":\"2012\"},{\"data\":[{\"hovertemplate\":\"<b>%{hovertext}</b><br><br>Continent=Africa<br>Year=2013<br>Quantity=%{x}<br>Trade (USD)=%{y}<br>Nr of Countries=%{marker.size}<extra></extra>\",\"hovertext\":[\"Africa\"],\"ids\":[\"Africa\"],\"legendgroup\":\"Africa\",\"marker\":{\"color\":\"#636efa\",\"size\":[49],\"sizemode\":\"area\",\"sizeref\":0.1225,\"symbol\":\"circle\"},\"mode\":\"markers\",\"name\":\"Africa\",\"orientation\":\"v\",\"showlegend\":true,\"type\":\"scatter\",\"x\":[104311776.14823529],\"xaxis\":\"x\",\"y\":[325248933.1659761],\"yaxis\":\"y\"},{\"hovertemplate\":\"<b>%{hovertext}</b><br><br>Continent=Europe<br>Year=2013<br>Quantity=%{x}<br>Trade (USD)=%{y}<br>Nr of Countries=%{marker.size}<extra></extra>\",\"hovertext\":[\"Europe\"],\"ids\":[\"Europe\"],\"legendgroup\":\"Europe\",\"marker\":{\"color\":\"#EF553B\",\"size\":[42],\"sizemode\":\"area\",\"sizeref\":0.1225,\"symbol\":\"circle\"},\"mode\":\"markers\",\"name\":\"Europe\",\"orientation\":\"v\",\"showlegend\":true,\"type\":\"scatter\",\"x\":[16616995.002355099],\"xaxis\":\"x\",\"y\":[46586421.47531938],\"yaxis\":\"y\"},{\"hovertemplate\":\"<b>%{hovertext}</b><br><br>Continent=Asia<br>Year=2013<br>Quantity=%{x}<br>Trade (USD)=%{y}<br>Nr of Countries=%{marker.size}<extra></extra>\",\"hovertext\":[\"Asia\"],\"ids\":[\"Asia\"],\"legendgroup\":\"Asia\",\"marker\":{\"color\":\"#00cc96\",\"size\":[44],\"sizemode\":\"area\",\"sizeref\":0.1225,\"symbol\":\"circle\"},\"mode\":\"markers\",\"name\":\"Asia\",\"orientation\":\"v\",\"showlegend\":true,\"type\":\"scatter\",\"x\":[13958544.940677015],\"xaxis\":\"x\",\"y\":[34089687.37770398],\"yaxis\":\"y\"},{\"hovertemplate\":\"<b>%{hovertext}</b><br><br>Continent=Americas<br>Year=2013<br>Quantity=%{x}<br>Trade (USD)=%{y}<br>Nr of Countries=%{marker.size}<extra></extra>\",\"hovertext\":[\"Americas\"],\"ids\":[\"Americas\"],\"legendgroup\":\"Americas\",\"marker\":{\"color\":\"#ab63fa\",\"size\":[43],\"sizemode\":\"area\",\"sizeref\":0.1225,\"symbol\":\"circle\"},\"mode\":\"markers\",\"name\":\"Americas\",\"orientation\":\"v\",\"showlegend\":true,\"type\":\"scatter\",\"x\":[16216019.622315789],\"xaxis\":\"x\",\"y\":[40143212.65210527],\"yaxis\":\"y\"},{\"hovertemplate\":\"<b>%{hovertext}</b><br><br>Continent=Oceania<br>Year=2013<br>Quantity=%{x}<br>Trade (USD)=%{y}<br>Nr of Countries=%{marker.size}<extra></extra>\",\"hovertext\":[\"Oceania\"],\"ids\":[\"Oceania\"],\"legendgroup\":\"Oceania\",\"marker\":{\"color\":\"#FFA15A\",\"size\":[15],\"sizemode\":\"area\",\"sizeref\":0.1225,\"symbol\":\"circle\"},\"mode\":\"markers\",\"name\":\"Oceania\",\"orientation\":\"v\",\"showlegend\":true,\"type\":\"scatter\",\"x\":[704701.25],\"xaxis\":\"x\",\"y\":[1536743.7316916932],\"yaxis\":\"y\"}],\"name\":\"2013\"},{\"data\":[{\"hovertemplate\":\"<b>%{hovertext}</b><br><br>Continent=Africa<br>Year=2014<br>Quantity=%{x}<br>Trade (USD)=%{y}<br>Nr of Countries=%{marker.size}<extra></extra>\",\"hovertext\":[\"Africa\"],\"ids\":[\"Africa\"],\"legendgroup\":\"Africa\",\"marker\":{\"color\":\"#636efa\",\"size\":[49],\"sizemode\":\"area\",\"sizeref\":0.1225,\"symbol\":\"circle\"},\"mode\":\"markers\",\"name\":\"Africa\",\"orientation\":\"v\",\"showlegend\":true,\"type\":\"scatter\",\"x\":[85172454.95376766],\"xaxis\":\"x\",\"y\":[257864633.4369194],\"yaxis\":\"y\"},{\"hovertemplate\":\"<b>%{hovertext}</b><br><br>Continent=Europe<br>Year=2014<br>Quantity=%{x}<br>Trade (USD)=%{y}<br>Nr of Countries=%{marker.size}<extra></extra>\",\"hovertext\":[\"Europe\"],\"ids\":[\"Europe\"],\"legendgroup\":\"Europe\",\"marker\":{\"color\":\"#EF553B\",\"size\":[42],\"sizemode\":\"area\",\"sizeref\":0.1225,\"symbol\":\"circle\"},\"mode\":\"markers\",\"name\":\"Europe\",\"orientation\":\"v\",\"showlegend\":true,\"type\":\"scatter\",\"x\":[14944722.886894451],\"xaxis\":\"x\",\"y\":[46945052.92070917],\"yaxis\":\"y\"},{\"hovertemplate\":\"<b>%{hovertext}</b><br><br>Continent=Asia<br>Year=2014<br>Quantity=%{x}<br>Trade (USD)=%{y}<br>Nr of Countries=%{marker.size}<extra></extra>\",\"hovertext\":[\"Asia\"],\"ids\":[\"Asia\"],\"legendgroup\":\"Asia\",\"marker\":{\"color\":\"#00cc96\",\"size\":[44],\"sizemode\":\"area\",\"sizeref\":0.1225,\"symbol\":\"circle\"},\"mode\":\"markers\",\"name\":\"Asia\",\"orientation\":\"v\",\"showlegend\":true,\"type\":\"scatter\",\"x\":[9041407.081627058],\"xaxis\":\"x\",\"y\":[28387141.19095454],\"yaxis\":\"y\"},{\"hovertemplate\":\"<b>%{hovertext}</b><br><br>Continent=Americas<br>Year=2014<br>Quantity=%{x}<br>Trade (USD)=%{y}<br>Nr of Countries=%{marker.size}<extra></extra>\",\"hovertext\":[\"Americas\"],\"ids\":[\"Americas\"],\"legendgroup\":\"Americas\",\"marker\":{\"color\":\"#ab63fa\",\"size\":[43],\"sizemode\":\"area\",\"sizeref\":0.1225,\"symbol\":\"circle\"},\"mode\":\"markers\",\"name\":\"Americas\",\"orientation\":\"v\",\"showlegend\":true,\"type\":\"scatter\",\"x\":[18791057.444000002],\"xaxis\":\"x\",\"y\":[56846741.41067092],\"yaxis\":\"y\"},{\"hovertemplate\":\"<b>%{hovertext}</b><br><br>Continent=Oceania<br>Year=2014<br>Quantity=%{x}<br>Trade (USD)=%{y}<br>Nr of Countries=%{marker.size}<extra></extra>\",\"hovertext\":[\"Oceania\"],\"ids\":[\"Oceania\"],\"legendgroup\":\"Oceania\",\"marker\":{\"color\":\"#FFA15A\",\"size\":[15],\"sizemode\":\"area\",\"sizeref\":0.1225,\"symbol\":\"circle\"},\"mode\":\"markers\",\"name\":\"Oceania\",\"orientation\":\"v\",\"showlegend\":true,\"type\":\"scatter\",\"x\":[997237.0],\"xaxis\":\"x\",\"y\":[2601983.31660076],\"yaxis\":\"y\"}],\"name\":\"2014\"},{\"data\":[{\"hovertemplate\":\"<b>%{hovertext}</b><br><br>Continent=Africa<br>Year=2015<br>Quantity=%{x}<br>Trade (USD)=%{y}<br>Nr of Countries=%{marker.size}<extra></extra>\",\"hovertext\":[\"Africa\"],\"ids\":[\"Africa\"],\"legendgroup\":\"Africa\",\"marker\":{\"color\":\"#636efa\",\"size\":[49],\"sizemode\":\"area\",\"sizeref\":0.1225,\"symbol\":\"circle\"},\"mode\":\"markers\",\"name\":\"Africa\",\"orientation\":\"v\",\"showlegend\":true,\"type\":\"scatter\",\"x\":[146273817.90636364],\"xaxis\":\"x\",\"y\":[412468013.7697014],\"yaxis\":\"y\"},{\"hovertemplate\":\"<b>%{hovertext}</b><br><br>Continent=Europe<br>Year=2015<br>Quantity=%{x}<br>Trade (USD)=%{y}<br>Nr of Countries=%{marker.size}<extra></extra>\",\"hovertext\":[\"Europe\"],\"ids\":[\"Europe\"],\"legendgroup\":\"Europe\",\"marker\":{\"color\":\"#EF553B\",\"size\":[42],\"sizemode\":\"area\",\"sizeref\":0.1225,\"symbol\":\"circle\"},\"mode\":\"markers\",\"name\":\"Europe\",\"orientation\":\"v\",\"showlegend\":true,\"type\":\"scatter\",\"x\":[15697537.709712366],\"xaxis\":\"x\",\"y\":[49873929.76316619],\"yaxis\":\"y\"},{\"hovertemplate\":\"<b>%{hovertext}</b><br><br>Continent=Asia<br>Year=2015<br>Quantity=%{x}<br>Trade (USD)=%{y}<br>Nr of Countries=%{marker.size}<extra></extra>\",\"hovertext\":[\"Asia\"],\"ids\":[\"Asia\"],\"legendgroup\":\"Asia\",\"marker\":{\"color\":\"#00cc96\",\"size\":[44],\"sizemode\":\"area\",\"sizeref\":0.1225,\"symbol\":\"circle\"},\"mode\":\"markers\",\"name\":\"Asia\",\"orientation\":\"v\",\"showlegend\":true,\"type\":\"scatter\",\"x\":[8157881.448],\"xaxis\":\"x\",\"y\":[25159106.312004663],\"yaxis\":\"y\"},{\"hovertemplate\":\"<b>%{hovertext}</b><br><br>Continent=Americas<br>Year=2015<br>Quantity=%{x}<br>Trade (USD)=%{y}<br>Nr of Countries=%{marker.size}<extra></extra>\",\"hovertext\":[\"Americas\"],\"ids\":[\"Americas\"],\"legendgroup\":\"Americas\",\"marker\":{\"color\":\"#ab63fa\",\"size\":[43],\"sizemode\":\"area\",\"sizeref\":0.1225,\"symbol\":\"circle\"},\"mode\":\"markers\",\"name\":\"Americas\",\"orientation\":\"v\",\"showlegend\":true,\"type\":\"scatter\",\"x\":[22019414.319553096],\"xaxis\":\"x\",\"y\":[67204624.77258494],\"yaxis\":\"y\"},{\"hovertemplate\":\"<b>%{hovertext}</b><br><br>Continent=Oceania<br>Year=2015<br>Quantity=%{x}<br>Trade (USD)=%{y}<br>Nr of Countries=%{marker.size}<extra></extra>\",\"hovertext\":[\"Oceania\"],\"ids\":[\"Oceania\"],\"legendgroup\":\"Oceania\",\"marker\":{\"color\":\"#FFA15A\",\"size\":[15],\"sizemode\":\"area\",\"sizeref\":0.1225,\"symbol\":\"circle\"},\"mode\":\"markers\",\"name\":\"Oceania\",\"orientation\":\"v\",\"showlegend\":true,\"type\":\"scatter\",\"x\":[796798.6666666666],\"xaxis\":\"x\",\"y\":[1936051.9189035334],\"yaxis\":\"y\"}],\"name\":\"2015\"},{\"data\":[{\"hovertemplate\":\"<b>%{hovertext}</b><br><br>Continent=Africa<br>Year=2016<br>Quantity=%{x}<br>Trade (USD)=%{y}<br>Nr of Countries=%{marker.size}<extra></extra>\",\"hovertext\":[\"Africa\"],\"ids\":[\"Africa\"],\"legendgroup\":\"Africa\",\"marker\":{\"color\":\"#636efa\",\"size\":[49],\"sizemode\":\"area\",\"sizeref\":0.1225,\"symbol\":\"circle\"},\"mode\":\"markers\",\"name\":\"Africa\",\"orientation\":\"v\",\"showlegend\":true,\"type\":\"scatter\",\"x\":[136585683.97835177],\"xaxis\":\"x\",\"y\":[400180774.4091244],\"yaxis\":\"y\"},{\"hovertemplate\":\"<b>%{hovertext}</b><br><br>Continent=Europe<br>Year=2016<br>Quantity=%{x}<br>Trade (USD)=%{y}<br>Nr of Countries=%{marker.size}<extra></extra>\",\"hovertext\":[\"Europe\"],\"ids\":[\"Europe\"],\"legendgroup\":\"Europe\",\"marker\":{\"color\":\"#EF553B\",\"size\":[42],\"sizemode\":\"area\",\"sizeref\":0.1225,\"symbol\":\"circle\"},\"mode\":\"markers\",\"name\":\"Europe\",\"orientation\":\"v\",\"showlegend\":true,\"type\":\"scatter\",\"x\":[13694558.960530251],\"xaxis\":\"x\",\"y\":[44401345.88876606],\"yaxis\":\"y\"},{\"hovertemplate\":\"<b>%{hovertext}</b><br><br>Continent=Asia<br>Year=2016<br>Quantity=%{x}<br>Trade (USD)=%{y}<br>Nr of Countries=%{marker.size}<extra></extra>\",\"hovertext\":[\"Asia\"],\"ids\":[\"Asia\"],\"legendgroup\":\"Asia\",\"marker\":{\"color\":\"#00cc96\",\"size\":[44],\"sizemode\":\"area\",\"sizeref\":0.1225,\"symbol\":\"circle\"},\"mode\":\"markers\",\"name\":\"Asia\",\"orientation\":\"v\",\"showlegend\":true,\"type\":\"scatter\",\"x\":[7293383.791221119],\"xaxis\":\"x\",\"y\":[22236983.68914251],\"yaxis\":\"y\"},{\"hovertemplate\":\"<b>%{hovertext}</b><br><br>Continent=Americas<br>Year=2016<br>Quantity=%{x}<br>Trade (USD)=%{y}<br>Nr of Countries=%{marker.size}<extra></extra>\",\"hovertext\":[\"Americas\"],\"ids\":[\"Americas\"],\"legendgroup\":\"Americas\",\"marker\":{\"color\":\"#ab63fa\",\"size\":[43],\"sizemode\":\"area\",\"sizeref\":0.1225,\"symbol\":\"circle\"},\"mode\":\"markers\",\"name\":\"Americas\",\"orientation\":\"v\",\"showlegend\":true,\"type\":\"scatter\",\"x\":[22658455.507592317],\"xaxis\":\"x\",\"y\":[65783866.13833608],\"yaxis\":\"y\"},{\"hovertemplate\":\"<b>%{hovertext}</b><br><br>Continent=Oceania<br>Year=2016<br>Quantity=%{x}<br>Trade (USD)=%{y}<br>Nr of Countries=%{marker.size}<extra></extra>\",\"hovertext\":[\"Oceania\"],\"ids\":[\"Oceania\"],\"legendgroup\":\"Oceania\",\"marker\":{\"color\":\"#FFA15A\",\"size\":[15],\"sizemode\":\"area\",\"sizeref\":0.1225,\"symbol\":\"circle\"},\"mode\":\"markers\",\"name\":\"Oceania\",\"orientation\":\"v\",\"showlegend\":true,\"type\":\"scatter\",\"x\":[1129611.2],\"xaxis\":\"x\",\"y\":[2805121.957031906],\"yaxis\":\"y\"}],\"name\":\"2016\"},{\"data\":[{\"hovertemplate\":\"<b>%{hovertext}</b><br><br>Continent=Africa<br>Year=2017<br>Quantity=%{x}<br>Trade (USD)=%{y}<br>Nr of Countries=%{marker.size}<extra></extra>\",\"hovertext\":[\"Africa\"],\"ids\":[\"Africa\"],\"legendgroup\":\"Africa\",\"marker\":{\"color\":\"#636efa\",\"size\":[49],\"sizemode\":\"area\",\"sizeref\":0.1225,\"symbol\":\"circle\"},\"mode\":\"markers\",\"name\":\"Africa\",\"orientation\":\"v\",\"showlegend\":true,\"type\":\"scatter\",\"x\":[159483154.8267282],\"xaxis\":\"x\",\"y\":[366422782.76685286],\"yaxis\":\"y\"},{\"hovertemplate\":\"<b>%{hovertext}</b><br><br>Continent=Europe<br>Year=2017<br>Quantity=%{x}<br>Trade (USD)=%{y}<br>Nr of Countries=%{marker.size}<extra></extra>\",\"hovertext\":[\"Europe\"],\"ids\":[\"Europe\"],\"legendgroup\":\"Europe\",\"marker\":{\"color\":\"#EF553B\",\"size\":[42],\"sizemode\":\"area\",\"sizeref\":0.1225,\"symbol\":\"circle\"},\"mode\":\"markers\",\"name\":\"Europe\",\"orientation\":\"v\",\"showlegend\":true,\"type\":\"scatter\",\"x\":[14461728.06868376],\"xaxis\":\"x\",\"y\":[39727546.11503226],\"yaxis\":\"y\"},{\"hovertemplate\":\"<b>%{hovertext}</b><br><br>Continent=Asia<br>Year=2017<br>Quantity=%{x}<br>Trade (USD)=%{y}<br>Nr of Countries=%{marker.size}<extra></extra>\",\"hovertext\":[\"Asia\"],\"ids\":[\"Asia\"],\"legendgroup\":\"Asia\",\"marker\":{\"color\":\"#00cc96\",\"size\":[44],\"sizemode\":\"area\",\"sizeref\":0.1225,\"symbol\":\"circle\"},\"mode\":\"markers\",\"name\":\"Asia\",\"orientation\":\"v\",\"showlegend\":true,\"type\":\"scatter\",\"x\":[10427166.012314178],\"xaxis\":\"x\",\"y\":[22760099.39940895],\"yaxis\":\"y\"},{\"hovertemplate\":\"<b>%{hovertext}</b><br><br>Continent=Americas<br>Year=2017<br>Quantity=%{x}<br>Trade (USD)=%{y}<br>Nr of Countries=%{marker.size}<extra></extra>\",\"hovertext\":[\"Americas\"],\"ids\":[\"Americas\"],\"legendgroup\":\"Americas\",\"marker\":{\"color\":\"#ab63fa\",\"size\":[43],\"sizemode\":\"area\",\"sizeref\":0.1225,\"symbol\":\"circle\"},\"mode\":\"markers\",\"name\":\"Americas\",\"orientation\":\"v\",\"showlegend\":true,\"type\":\"scatter\",\"x\":[23890129.037773266],\"xaxis\":\"x\",\"y\":[54604184.25767216],\"yaxis\":\"y\"},{\"hovertemplate\":\"<b>%{hovertext}</b><br><br>Continent=Oceania<br>Year=2017<br>Quantity=%{x}<br>Trade (USD)=%{y}<br>Nr of Countries=%{marker.size}<extra></extra>\",\"hovertext\":[\"Oceania\"],\"ids\":[\"Oceania\"],\"legendgroup\":\"Oceania\",\"marker\":{\"color\":\"#FFA15A\",\"size\":[15],\"sizemode\":\"area\",\"sizeref\":0.1225,\"symbol\":\"circle\"},\"mode\":\"markers\",\"name\":\"Oceania\",\"orientation\":\"v\",\"showlegend\":true,\"type\":\"scatter\",\"x\":[848848.54],\"xaxis\":\"x\",\"y\":[944488.790023448],\"yaxis\":\"y\"}],\"name\":\"2017\"},{\"data\":[{\"hovertemplate\":\"<b>%{hovertext}</b><br><br>Continent=Africa<br>Year=2018<br>Quantity=%{x}<br>Trade (USD)=%{y}<br>Nr of Countries=%{marker.size}<extra></extra>\",\"hovertext\":[\"Africa\"],\"ids\":[\"Africa\"],\"legendgroup\":\"Africa\",\"marker\":{\"color\":\"#636efa\",\"size\":[49],\"sizemode\":\"area\",\"sizeref\":0.1225,\"symbol\":\"circle\"},\"mode\":\"markers\",\"name\":\"Africa\",\"orientation\":\"v\",\"showlegend\":true,\"type\":\"scatter\",\"x\":[115459843.26444824],\"xaxis\":\"x\",\"y\":[676588309.1908256],\"yaxis\":\"y\"},{\"hovertemplate\":\"<b>%{hovertext}</b><br><br>Continent=Europe<br>Year=2018<br>Quantity=%{x}<br>Trade (USD)=%{y}<br>Nr of Countries=%{marker.size}<extra></extra>\",\"hovertext\":[\"Europe\"],\"ids\":[\"Europe\"],\"legendgroup\":\"Europe\",\"marker\":{\"color\":\"#EF553B\",\"size\":[42],\"sizemode\":\"area\",\"sizeref\":0.1225,\"symbol\":\"circle\"},\"mode\":\"markers\",\"name\":\"Europe\",\"orientation\":\"v\",\"showlegend\":true,\"type\":\"scatter\",\"x\":[13090776.457054026],\"xaxis\":\"x\",\"y\":[34698526.5349615],\"yaxis\":\"y\"},{\"hovertemplate\":\"<b>%{hovertext}</b><br><br>Continent=Asia<br>Year=2018<br>Quantity=%{x}<br>Trade (USD)=%{y}<br>Nr of Countries=%{marker.size}<extra></extra>\",\"hovertext\":[\"Asia\"],\"ids\":[\"Asia\"],\"legendgroup\":\"Asia\",\"marker\":{\"color\":\"#00cc96\",\"size\":[44],\"sizemode\":\"area\",\"sizeref\":0.1225,\"symbol\":\"circle\"},\"mode\":\"markers\",\"name\":\"Asia\",\"orientation\":\"v\",\"showlegend\":true,\"type\":\"scatter\",\"x\":[9003651.83364184],\"xaxis\":\"x\",\"y\":[20978510.037405342],\"yaxis\":\"y\"},{\"hovertemplate\":\"<b>%{hovertext}</b><br><br>Continent=Americas<br>Year=2018<br>Quantity=%{x}<br>Trade (USD)=%{y}<br>Nr of Countries=%{marker.size}<extra></extra>\",\"hovertext\":[\"Americas\"],\"ids\":[\"Americas\"],\"legendgroup\":\"Americas\",\"marker\":{\"color\":\"#ab63fa\",\"size\":[43],\"sizemode\":\"area\",\"sizeref\":0.1225,\"symbol\":\"circle\"},\"mode\":\"markers\",\"name\":\"Americas\",\"orientation\":\"v\",\"showlegend\":true,\"type\":\"scatter\",\"x\":[22063834.01214286],\"xaxis\":\"x\",\"y\":[63883454.229574956],\"yaxis\":\"y\"},{\"hovertemplate\":\"<b>%{hovertext}</b><br><br>Continent=Oceania<br>Year=2018<br>Quantity=%{x}<br>Trade (USD)=%{y}<br>Nr of Countries=%{marker.size}<extra></extra>\",\"hovertext\":[\"Oceania\"],\"ids\":[\"Oceania\"],\"legendgroup\":\"Oceania\",\"marker\":{\"color\":\"#FFA15A\",\"size\":[15],\"sizemode\":\"area\",\"sizeref\":0.1225,\"symbol\":\"circle\"},\"mode\":\"markers\",\"name\":\"Oceania\",\"orientation\":\"v\",\"showlegend\":true,\"type\":\"scatter\",\"x\":[1021310.777449941],\"xaxis\":\"x\",\"y\":[1793765.84208345],\"yaxis\":\"y\"}],\"name\":\"2018\"},{\"data\":[{\"hovertemplate\":\"<b>%{hovertext}</b><br><br>Continent=Africa<br>Year=2019<br>Quantity=%{x}<br>Trade (USD)=%{y}<br>Nr of Countries=%{marker.size}<extra></extra>\",\"hovertext\":[\"Africa\"],\"ids\":[\"Africa\"],\"legendgroup\":\"Africa\",\"marker\":{\"color\":\"#636efa\",\"size\":[49],\"sizemode\":\"area\",\"sizeref\":0.1225,\"symbol\":\"circle\"},\"mode\":\"markers\",\"name\":\"Africa\",\"orientation\":\"v\",\"showlegend\":true,\"type\":\"scatter\",\"x\":[101.0],\"xaxis\":\"x\",\"y\":[345.5055],\"yaxis\":\"y\"},{\"hovertemplate\":\"<b>%{hovertext}</b><br><br>Continent=Europe<br>Year=2019<br>Quantity=%{x}<br>Trade (USD)=%{y}<br>Nr of Countries=%{marker.size}<extra></extra>\",\"hovertext\":[\"Europe\"],\"ids\":[\"Europe\"],\"legendgroup\":\"Europe\",\"marker\":{\"color\":\"#EF553B\",\"size\":[42],\"sizemode\":\"area\",\"sizeref\":0.1225,\"symbol\":\"circle\"},\"mode\":\"markers\",\"name\":\"Europe\",\"orientation\":\"v\",\"showlegend\":true,\"type\":\"scatter\",\"x\":[72832.39434161689],\"xaxis\":\"x\",\"y\":[416452.1248279333],\"yaxis\":\"y\"},{\"hovertemplate\":\"<b>%{hovertext}</b><br><br>Continent=Asia<br>Year=2019<br>Quantity=%{x}<br>Trade (USD)=%{y}<br>Nr of Countries=%{marker.size}<extra></extra>\",\"hovertext\":[\"Asia\"],\"ids\":[\"Asia\"],\"legendgroup\":\"Asia\",\"marker\":{\"color\":\"#00cc96\",\"size\":[44],\"sizemode\":\"area\",\"sizeref\":0.1225,\"symbol\":\"circle\"},\"mode\":\"markers\",\"name\":\"Asia\",\"orientation\":\"v\",\"showlegend\":true,\"type\":\"scatter\",\"x\":[13287.5],\"xaxis\":\"x\",\"y\":[12014.63204],\"yaxis\":\"y\"},{\"hovertemplate\":\"<b>%{hovertext}</b><br><br>Continent=Americas<br>Year=2019<br>Quantity=%{x}<br>Trade (USD)=%{y}<br>Nr of Countries=%{marker.size}<extra></extra>\",\"hovertext\":[\"Americas\"],\"ids\":[\"Americas\"],\"legendgroup\":\"Americas\",\"marker\":{\"color\":\"#ab63fa\",\"size\":[43],\"sizemode\":\"area\",\"sizeref\":0.1225,\"symbol\":\"circle\"},\"mode\":\"markers\",\"name\":\"Americas\",\"orientation\":\"v\",\"showlegend\":true,\"type\":\"scatter\",\"x\":[3505820.5195016004],\"xaxis\":\"x\",\"y\":[7535430.2400131],\"yaxis\":\"y\"}],\"name\":\"2019\"}]);\n",
       "                        }).then(function(){\n",
       "                            \n",
       "var gd = document.getElementById('80547164-6e0d-4e97-81ee-794039b762b8');\n",
       "var x = new MutationObserver(function (mutations, observer) {{\n",
       "        var display = window.getComputedStyle(gd).display;\n",
       "        if (!display || display === 'none') {{\n",
       "            console.log([gd, 'removed!']);\n",
       "            Plotly.purge(gd);\n",
       "            observer.disconnect();\n",
       "        }}\n",
       "}});\n",
       "\n",
       "// Listen for the removal of the full notebook cells\n",
       "var notebookContainer = gd.closest('#notebook-container');\n",
       "if (notebookContainer) {{\n",
       "    x.observe(notebookContainer, {childList: true});\n",
       "}}\n",
       "\n",
       "// Listen for the clearing of the current output cell\n",
       "var outputEl = gd.closest('.output');\n",
       "if (outputEl) {{\n",
       "    x.observe(outputEl, {childList: true});\n",
       "}}\n",
       "\n",
       "                        })                };                });            </script>        </div>"
      ]
     },
     "metadata": {},
     "output_type": "display_data"
    }
   ],
   "source": [
    "scatter_flows(flow='Export')"
   ]
  },
  {
   "cell_type": "code",
   "execution_count": null,
   "metadata": {},
   "outputs": [],
   "source": []
  },
  {
   "cell_type": "code",
   "execution_count": 1187,
   "metadata": {
    "scrolled": false
   },
   "outputs": [
    {
     "data": {
      "application/vnd.plotly.v1+json": {
       "config": {
        "plotlyServerURL": "https://plot.ly"
       },
       "data": [
        {
         "branchvalues": "total",
         "customdata": [
          [
           "Asia"
          ],
          [
           "Africa"
          ],
          [
           "Africa"
          ],
          [
           "Americas"
          ],
          [
           "Americas"
          ],
          [
           "Asia"
          ],
          [
           "Africa"
          ],
          [
           "Europe"
          ],
          [
           "Asia"
          ],
          [
           "Asia"
          ],
          [
           "Africa"
          ],
          [
           "Americas"
          ],
          [
           "Europe"
          ],
          [
           "Asia"
          ],
          [
           "Asia"
          ],
          [
           "Africa"
          ],
          [
           "Americas"
          ],
          [
           "Americas"
          ],
          [
           "Africa"
          ],
          [
           "Americas"
          ],
          [
           "Europe"
          ],
          [
           "Asia"
          ],
          [
           "Asia"
          ],
          [
           "Europe"
          ],
          [
           "Europe"
          ],
          [
           "Europe"
          ],
          [
           "Europe"
          ],
          [
           "Oceania"
          ],
          [
           "Americas"
          ],
          [
           "Europe"
          ],
          [
           "Asia"
          ],
          [
           "Asia"
          ],
          [
           "Europe"
          ],
          [
           "Europe"
          ],
          [
           "Americas"
          ],
          [
           "Americas"
          ],
          [
           "Asia"
          ],
          [
           "Americas"
          ],
          [
           "Americas"
          ],
          [
           "Americas"
          ],
          [
           "Europe"
          ],
          [
           "Asia"
          ],
          [
           "Europe"
          ],
          [
           "Africa"
          ],
          [
           "Africa"
          ],
          [
           "Oceania"
          ],
          [
           "Americas"
          ],
          [
           "Oceania"
          ],
          [
           "Africa"
          ],
          [
           "Americas"
          ],
          [
           "Americas"
          ],
          [
           "Americas"
          ],
          [
           "Oceania"
          ],
          [
           "Asia"
          ],
          [
           "Asia"
          ],
          [
           "Americas"
          ],
          [
           "Europe"
          ],
          [
           "Africa"
          ],
          [
           "Asia"
          ],
          [
           "Europe"
          ],
          [
           "Asia"
          ],
          [
           "Africa"
          ],
          [
           "Americas"
          ],
          [
           "Asia"
          ],
          [
           "Europe"
          ],
          [
           "Asia"
          ],
          [
           "Africa"
          ],
          [
           "Americas"
          ],
          [
           "Americas"
          ],
          [
           "Oceania"
          ],
          [
           "Americas"
          ],
          [
           "Americas"
          ],
          [
           "Africa"
          ],
          [
           "Africa"
          ],
          [
           "Oceania"
          ],
          [
           "Asia"
          ],
          [
           "Europe"
          ],
          [
           "Asia"
          ],
          [
           "Oceania"
          ],
          [
           "Oceania"
          ],
          [
           "Americas"
          ],
          [
           "Americas"
          ],
          [
           "Asia"
          ],
          [
           "Africa"
          ],
          [
           "Asia"
          ],
          [
           "Europe"
          ],
          [
           "Africa"
          ],
          [
           "Europe"
          ],
          [
           "Americas"
          ],
          [
           "Europe"
          ],
          [
           "Africa"
          ],
          [
           "Americas"
          ],
          [
           "Europe"
          ],
          [
           "Americas"
          ],
          [
           "Africa"
          ],
          [
           "Asia"
          ],
          [
           "Americas"
          ],
          [
           "Europe"
          ],
          [
           "Asia"
          ],
          [
           "Americas"
          ],
          [
           "Asia"
          ],
          [
           "Africa"
          ],
          [
           "Europe"
          ],
          [
           "Africa"
          ],
          [
           "Americas"
          ],
          [
           "Africa"
          ],
          [
           "Africa"
          ],
          [
           "Americas"
          ],
          [
           "Africa"
          ],
          [
           "Europe"
          ],
          [
           "Europe"
          ],
          [
           "Asia"
          ],
          [
           "Asia"
          ],
          [
           "Asia"
          ],
          [
           "Asia"
          ],
          [
           "Europe"
          ],
          [
           "Africa"
          ],
          [
           "Africa"
          ],
          [
           "Americas"
          ],
          [
           "Americas"
          ],
          [
           "Africa"
          ],
          [
           "Americas"
          ],
          [
           "Africa"
          ],
          [
           "Africa"
          ],
          [
           "Americas"
          ],
          [
           "Africa"
          ],
          [
           "Africa"
          ],
          [
           "Africa"
          ],
          [
           "Africa"
          ],
          [
           "Europe"
          ],
          [
           "Africa"
          ],
          [
           "Americas"
          ],
          [
           "Africa"
          ],
          [
           "Europe"
          ],
          [
           "Europe"
          ],
          [
           "Americas"
          ],
          [
           "Africa"
          ],
          [
           "Asia"
          ],
          [
           "Europe"
          ],
          [
           "Europe"
          ],
          [
           "Europe"
          ],
          [
           "Europe"
          ],
          [
           "Europe"
          ],
          [
           "Americas"
          ],
          [
           "Oceania"
          ],
          [
           "Asia"
          ],
          [
           "Oceania"
          ],
          [
           "Europe"
          ],
          [
           "Asia"
          ],
          [
           "Africa"
          ],
          [
           "Africa"
          ],
          [
           "Americas"
          ],
          [
           "Africa"
          ],
          [
           "Africa"
          ],
          [
           "Americas"
          ],
          [
           "Americas"
          ],
          [
           "Asia"
          ],
          [
           "Americas"
          ],
          [
           "Africa"
          ],
          [
           "Asia"
          ],
          [
           "Europe"
          ],
          [
           "Asia"
          ],
          [
           "Americas"
          ],
          [
           "Europe"
          ],
          [
           "Americas"
          ],
          [
           "Africa"
          ],
          [
           "Europe"
          ],
          [
           "Americas"
          ],
          [
           "Americas"
          ],
          [
           "Oceania"
          ],
          [
           "Oceania"
          ],
          [
           "Europe"
          ],
          [
           "Asia"
          ],
          [
           "Africa"
          ],
          [
           "Oceania"
          ],
          [
           "Europe"
          ],
          [
           "Asia"
          ],
          [
           "Asia"
          ],
          [
           "Asia"
          ],
          [
           "Asia"
          ],
          [
           "Europe"
          ],
          [
           "Oceania"
          ],
          [
           "Asia"
          ],
          [
           "Americas"
          ],
          [
           "Oceania"
          ],
          [
           "Europe"
          ],
          [
           "Asia"
          ],
          [
           "Asia"
          ],
          [
           "Africa"
          ],
          [
           "Africa"
          ],
          [
           "Africa"
          ],
          [
           "Africa"
          ],
          [
           "Africa"
          ],
          [
           "Americas"
          ],
          [
           "Asia"
          ],
          [
           "Oceania"
          ],
          [
           "Europe"
          ],
          [
           "Asia"
          ],
          [
           "Oceania"
          ],
          [
           "Americas"
          ],
          [
           "Europe"
          ],
          [
           "Europe"
          ],
          [
           "Africa"
          ],
          [
           "Asia"
          ],
          [
           "Africa"
          ],
          [
           "Africa"
          ],
          [
           "Oceania"
          ],
          [
           "Europe"
          ],
          [
           "Africa"
          ],
          [
           "Europe"
          ],
          [
           "Asia"
          ],
          [
           "Europe"
          ],
          [
           "Oceania"
          ],
          [
           "Africa"
          ],
          [
           "Oceania"
          ],
          [
           "Asia"
          ],
          [
           "Asia"
          ],
          [
           "Asia"
          ],
          [
           "Europe"
          ],
          [
           "Asia"
          ],
          [
           "Africa"
          ],
          [
           "Asia"
          ],
          [
           "Africa"
          ],
          [
           "Africa"
          ]
         ],
         "domain": {
          "x": [
           0,
           1
          ],
          "y": [
           0,
           1
          ]
         },
         "hovertemplate": "labels=%{label}<br>Quantity=%{value}<br>parent=%{parent}<br>id=%{id}<br>continent=%{customdata[0]}<extra></extra>",
         "ids": [
          "Asia/Eastern Asia/China",
          "Africa/Eastern Africa/Seychelles",
          "Africa/Northern Africa",
          "Americas/Southern America/Venezuela",
          "Americas/Caribbean/Saint Lucia",
          "Asia/Western Asia/Lebanon",
          "Africa/Eastern Africa/Madagascar",
          "Europe/Eastern Europe/Bulgaria",
          "Asia/Southern Asia/Nepal",
          "Asia/South-Eastern Asia/Brunei Darussalam",
          "Africa/Southern Africa/Lesotho",
          "Americas/South America/Paraguay",
          "Europe/Southern Europe/Italy",
          "Asia",
          "Asia/Southern Asia",
          "Africa/Northern Africa/Egypt",
          "Americas/Central America/El Salvador",
          "Americas/Caribbean/Dominican Rep.",
          "Africa/Eastern Africa/Eritrea",
          "Americas/Caribbean/Dominica",
          "Europe/Northern Europe/Denmark",
          "Asia/South-Eastern Asia/Timor-Leste",
          "Asia/South-Eastern Asia/Thailand",
          "Europe/Southern Europe/TFYR of Macedonia",
          "Europe/Northern Europe/Sweden",
          "Europe/Northern Europe/Lithuania",
          "Europe/Southern Europe/Slovenia",
          "Oceania/Polynesia/French Polynesia",
          "Americas/South America/Peru",
          "Europe/Eastern Europe/Poland",
          "Asia/Western Asia/Jordan",
          "Asia/Southern Asia/India",
          "Europe/Northern Europe/Iceland",
          "Europe/Eastern Europe/Hungary",
          "Americas/Central America/Honduras",
          "Americas/Caribbean/Haiti",
          "Asia/Central Asia/Kazakhstan",
          "Americas/Central America/Panama",
          "Americas/Caribbean/Grenada",
          "Americas/Caribbean/Saint Vincent and the Grenadines",
          "Europe/Eastern Europe/Slovakia",
          "Asia/Western Asia/Turkey",
          "Europe/Southern Europe/Spain",
          "Africa/Southern Africa/Swaziland",
          "Africa/Northern Africa/Libya",
          "Oceania/Melanesia/Papua New Guinea",
          "Americas/Caribbean/Cuba",
          "Oceania/Micronesia",
          "Africa/Western Africa/Mali",
          "Americas/Caribbean/Neth. Antilles",
          "Americas/Caribbean/Martinique",
          "Americas/Caribbean/Barbados",
          "Oceania/Polynesia",
          "Asia/Western Asia/Bahrain",
          "Asia/Western Asia/Cyprus",
          "Americas/South America",
          "Europe/Southern Europe",
          "Africa/Western Africa",
          "Asia/Western Asia",
          "Europe/Western Europe",
          "Asia/South-Eastern Asia/Myanmar",
          "Africa/Middle Africa/Angola",
          "Americas",
          "Asia/South-Western Asia",
          "Europe/Southern Europe/Bosnia Herzegovina",
          "Asia/Central Asia",
          "Africa/Southern Africa/Botswana",
          "Americas/Caribbean/Jamaica",
          "Americas/Northern America/USA",
          "Oceania/Polynesia/Cook Isds",
          "Americas/South America/Brazil",
          "Americas/Central America",
          "Africa/Eastern Africa/Burundi",
          "Africa/Eastern Africa/Uganda",
          "Oceania/Polynesia/Wallis and Futuna Isds",
          "Asia/South-Eastern Asia/Cambodia",
          "Europe/Eastern Europe/Ukraine",
          "Asia/Central Asia/Uzbekistan",
          "Oceania/Melanesia/New Caledonia",
          "Oceania/Australia and New Zealand/New Zealand",
          "Americas/South America/Colombia",
          "Americas/Central America/Nicaragua",
          "Asia/Other/Other Asia, nes",
          "Africa/Western Africa/Niger",
          "Asia/Western Asia/Oman",
          "Europe/Western Europe/Netherlands",
          "Africa/Western Africa/Nigeria",
          "Europe/Southern Europe/Albania",
          "Americas/Caribbean/Trinidad and Tobago",
          "Europe/Eastern Europe/Rep. of Moldova",
          "Africa",
          "Americas/Southern America",
          "Europe/Northern Europe",
          "Americas/Northern America",
          "Africa/Middle Africa",
          "Asia/Eastern Asia",
          "Americas/South America/Uruguay",
          "Europe/Northern Europe/United Kingdom",
          "Asia/Western Asia/United Arab Emirates",
          "Americas/Central America/Turks and Caicos Isds",
          "Asia/Central Asia/Turkmenistan",
          "Africa/Northern Africa/Tunisia",
          "Europe/Southern Europe/Montenegro",
          "Africa/Western Africa/Togo",
          "Americas/South America/Suriname",
          "Africa/Northern Africa/Sudan",
          "Africa/Western Africa/Sierra Leone",
          "Americas/Caribbean/Saint Kitts and Nevis",
          "Africa/Eastern Africa/Rwanda",
          "Europe/Southern Europe/Portugal",
          "Europe",
          "Asia/Eastern Asia/Mongolia",
          "Asia/Southern Asia/Bhutan",
          "Asia/Eastern Asia/Japan",
          "Asia/Western Asia/Israel",
          "Europe/Western Europe/France",
          "Africa/Middle Africa/Gabon",
          "Africa/Western Africa/Benin",
          "Americas/Northern America/Bermuda",
          "Americas/South America/Chile",
          "Africa/Middle Africa/Central African Rep.",
          "Americas/South America/Guyana",
          "Africa/Western Africa/Guinea-Bissau",
          "Africa/Western Africa/Guinea",
          "Americas/Central America/Guatemala",
          "Africa/Middle Africa/Cameroon",
          "Africa/Western Africa/Burkina Faso",
          "Africa/Western Africa/Cabo Verde",
          "Africa/Western Africa/Ghana",
          "Europe/Eastern Europe/Belarus",
          "Africa/Eastern Africa/Kenya",
          "Americas/Caribbean/Bahamas",
          "Africa/Northern Africa/Algeria",
          "Europe/Southern Europe/Andorra",
          "Europe/Northern Europe/Faeroe Isds",
          "Americas/Caribbean/Antigua and Barbuda",
          "Africa/Western Africa/Mauritania",
          "Asia/Southern Asia/Bangladesh",
          "Europe/Southern Europe/Malta",
          "Europe/Southern Europe/Greece",
          "Europe/Southern Europe/Croatia",
          "Europe/Western Europe/Luxembourg",
          "Europe/Northern Europe/Latvia",
          "Americas/Central America/Costa Rica",
          "Oceania/Australia and New Zealand/Australia",
          "Asia/South-Eastern Asia/Malaysia",
          "Oceania/Melanesia/Vanuatu",
          "Europe/Central Europe/Czech Rep.",
          "Asia/South-Eastern Asia/Viet Nam",
          "Africa/Middle Africa/Congo",
          "Africa/Eastern Africa/Comoros",
          "Americas/Northern America/Canada",
          "Africa/Eastern Africa/Mayotte",
          "Africa/Eastern Africa/Zimbabwe",
          "Americas/Caribbean/Anguilla",
          "Americas/South America/Argentina",
          "Asia/Western Asia/Armenia",
          "Americas/Caribbean/Aruba",
          "Africa/Southern Africa",
          "Asia/South-Eastern Asia",
          "Europe/Western Europe/Belgium",
          "Asia/Western Asia/Yemen",
          "Americas/Central America/Belize",
          "Europe/Eastern Europe",
          "Americas/South America/Ecuador",
          "Africa/Eastern Africa",
          "Europe/Central Europe",
          "Americas/South America/Bolivia (Plurinational State of)",
          "Americas/Caribbean",
          "Oceania/Australia and New Zealand",
          "Oceania/Melanesia",
          "Europe/Northern Europe/Estonia",
          "Asia/Western Asia/Syria",
          "Africa/Eastern Africa/Ethiopia",
          "Oceania/Polynesia/Tonga",
          "Europe/Eastern Europe/Romania",
          "Asia/Western Asia/Qatar",
          "Asia/South-Eastern Asia/Indonesia",
          "Asia/South-Western Asia/Iran",
          "Asia/South-Eastern Asia/Philippines",
          "Europe/Northern Europe/Ireland",
          "Oceania/Micronesia/Palau",
          "Asia/Southern Asia/Pakistan",
          "Americas/Northern America/Greenland",
          "Oceania/Micronesia/Kiribati",
          "Europe/Northern Europe/Norway",
          "Asia/Central Asia/Kyrgyzstan",
          "Asia/South-Eastern Asia/Lao People's Dem. Rep.",
          "Africa/Eastern Africa/Malawi",
          "Africa/Southern Africa/Namibia",
          "Africa/Eastern Africa/Mauritius",
          "Africa/Eastern Africa/Mozambique",
          "Africa/Northern Africa/Morocco",
          "Americas/Caribbean/Montserrat",
          "Asia/Western Asia/Kuwait",
          "Oceania/Polynesia/Samoa",
          "Europe/Eastern Europe/Russian Federation",
          "Asia/Western Asia/Saudi Arabia",
          "Oceania/Micronesia/FS Micronesia",
          "Americas/Central America/Mexico",
          "Europe/Western Europe/Switzerland",
          "Europe/Northern Europe/Finland",
          "Africa/Northern Africa/Fmr Sudan",
          "Asia/Southern Asia/Sri Lanka",
          "Africa/Middle Africa/Sao Tome and Principe",
          "Africa/Southern Africa/South Africa",
          "Oceania",
          "Europe/Southern Europe/Serbia and Montenegro",
          "Africa/Western Africa/Senegal",
          "Europe/Western Europe/Germany",
          "Asia/South-Eastern Asia/Singapore",
          "Europe/Southern Europe/Serbia",
          "Oceania/Australia and New Zealand/Solomon Isds",
          "Africa/Western Africa/Côte d'Ivoire",
          "Oceania/Melanesia/Fiji",
          "Asia/Eastern Asia/Rep. of Korea",
          "Asia/Other",
          "Asia/Eastern Asia/China, Macao SAR",
          "Europe/Western Europe/Austria",
          "Asia/Western Asia/Azerbaijan",
          "Africa/Western Africa/Gambia",
          "Asia/Western Asia/Georgia",
          "Africa/Eastern Africa/Zambia",
          "Africa/Eastern Africa/United Rep. of Tanzania"
         ],
         "labels": [
          "China",
          "Seychelles",
          "Northern Africa",
          "Venezuela",
          "Saint Lucia",
          "Lebanon",
          "Madagascar",
          "Bulgaria",
          "Nepal",
          "Brunei Darussalam",
          "Lesotho",
          "Paraguay",
          "Italy",
          "Asia",
          "Southern Asia",
          "Egypt",
          "El Salvador",
          "Dominican Rep.",
          "Eritrea",
          "Dominica",
          "Denmark",
          "Timor-Leste",
          "Thailand",
          "TFYR of Macedonia",
          "Sweden",
          "Lithuania",
          "Slovenia",
          "French Polynesia",
          "Peru",
          "Poland",
          "Jordan",
          "India",
          "Iceland",
          "Hungary",
          "Honduras",
          "Haiti",
          "Kazakhstan",
          "Panama",
          "Grenada",
          "Saint Vincent and the Grenadines",
          "Slovakia",
          "Turkey",
          "Spain",
          "Swaziland",
          "Libya",
          "Papua New Guinea",
          "Cuba",
          "Micronesia",
          "Mali",
          "Neth. Antilles",
          "Martinique",
          "Barbados",
          "Polynesia",
          "Bahrain",
          "Cyprus",
          "South America",
          "Southern Europe",
          "Western Africa",
          "Western Asia",
          "Western Europe",
          "Myanmar",
          "Angola",
          "Americas",
          "South-Western Asia",
          "Bosnia Herzegovina",
          "Central Asia",
          "Botswana",
          "Jamaica",
          "USA",
          "Cook Isds",
          "Brazil",
          "Central America",
          "Burundi",
          "Uganda",
          "Wallis and Futuna Isds",
          "Cambodia",
          "Ukraine",
          "Uzbekistan",
          "New Caledonia",
          "New Zealand",
          "Colombia",
          "Nicaragua",
          "Other Asia, nes",
          "Niger",
          "Oman",
          "Netherlands",
          "Nigeria",
          "Albania",
          "Trinidad and Tobago",
          "Rep. of Moldova",
          "Africa",
          "Southern America",
          "Northern Europe",
          "Northern America",
          "Middle Africa",
          "Eastern Asia",
          "Uruguay",
          "United Kingdom",
          "United Arab Emirates",
          "Turks and Caicos Isds",
          "Turkmenistan",
          "Tunisia",
          "Montenegro",
          "Togo",
          "Suriname",
          "Sudan",
          "Sierra Leone",
          "Saint Kitts and Nevis",
          "Rwanda",
          "Portugal",
          "Europe",
          "Mongolia",
          "Bhutan",
          "Japan",
          "Israel",
          "France",
          "Gabon",
          "Benin",
          "Bermuda",
          "Chile",
          "Central African Rep.",
          "Guyana",
          "Guinea-Bissau",
          "Guinea",
          "Guatemala",
          "Cameroon",
          "Burkina Faso",
          "Cabo Verde",
          "Ghana",
          "Belarus",
          "Kenya",
          "Bahamas",
          "Algeria",
          "Andorra",
          "Faeroe Isds",
          "Antigua and Barbuda",
          "Mauritania",
          "Bangladesh",
          "Malta",
          "Greece",
          "Croatia",
          "Luxembourg",
          "Latvia",
          "Costa Rica",
          "Australia",
          "Malaysia",
          "Vanuatu",
          "Czech Rep.",
          "Viet Nam",
          "Congo",
          "Comoros",
          "Canada",
          "Mayotte",
          "Zimbabwe",
          "Anguilla",
          "Argentina",
          "Armenia",
          "Aruba",
          "Southern Africa",
          "South-Eastern Asia",
          "Belgium",
          "Yemen",
          "Belize",
          "Eastern Europe",
          "Ecuador",
          "Eastern Africa",
          "Central Europe",
          "Bolivia (Plurinational State of)",
          "Caribbean",
          "Australia and New Zealand",
          "Melanesia",
          "Estonia",
          "Syria",
          "Ethiopia",
          "Tonga",
          "Romania",
          "Qatar",
          "Indonesia",
          "Iran",
          "Philippines",
          "Ireland",
          "Palau",
          "Pakistan",
          "Greenland",
          "Kiribati",
          "Norway",
          "Kyrgyzstan",
          "Lao People's Dem. Rep.",
          "Malawi",
          "Namibia",
          "Mauritius",
          "Mozambique",
          "Morocco",
          "Montserrat",
          "Kuwait",
          "Samoa",
          "Russian Federation",
          "Saudi Arabia",
          "FS Micronesia",
          "Mexico",
          "Switzerland",
          "Finland",
          "Fmr Sudan",
          "Sri Lanka",
          "Sao Tome and Principe",
          "South Africa",
          "Oceania",
          "Serbia and Montenegro",
          "Senegal",
          "Germany",
          "Singapore",
          "Serbia",
          "Solomon Isds",
          "Côte d'Ivoire",
          "Fiji",
          "Rep. of Korea",
          "Other",
          "China, Macao SAR",
          "Austria",
          "Azerbaijan",
          "Gambia",
          "Georgia",
          "Zambia",
          "United Rep. of Tanzania"
         ],
         "marker": {
          "colors": [
           "#636efa",
           "#EF553B",
           "#EF553B",
           "#00cc96",
           "#00cc96",
           "#636efa",
           "#EF553B",
           "#ab63fa",
           "#636efa",
           "#636efa",
           "#EF553B",
           "#00cc96",
           "#ab63fa",
           "#636efa",
           "#636efa",
           "#EF553B",
           "#00cc96",
           "#00cc96",
           "#EF553B",
           "#00cc96",
           "#ab63fa",
           "#636efa",
           "#636efa",
           "#ab63fa",
           "#ab63fa",
           "#ab63fa",
           "#ab63fa",
           "#FFA15A",
           "#00cc96",
           "#ab63fa",
           "#636efa",
           "#636efa",
           "#ab63fa",
           "#ab63fa",
           "#00cc96",
           "#00cc96",
           "#636efa",
           "#00cc96",
           "#00cc96",
           "#00cc96",
           "#ab63fa",
           "#636efa",
           "#ab63fa",
           "#EF553B",
           "#EF553B",
           "#FFA15A",
           "#00cc96",
           "#FFA15A",
           "#EF553B",
           "#00cc96",
           "#00cc96",
           "#00cc96",
           "#FFA15A",
           "#636efa",
           "#636efa",
           "#00cc96",
           "#ab63fa",
           "#EF553B",
           "#636efa",
           "#ab63fa",
           "#636efa",
           "#EF553B",
           "#00cc96",
           "#636efa",
           "#ab63fa",
           "#636efa",
           "#EF553B",
           "#00cc96",
           "#00cc96",
           "#FFA15A",
           "#00cc96",
           "#00cc96",
           "#EF553B",
           "#EF553B",
           "#FFA15A",
           "#636efa",
           "#ab63fa",
           "#636efa",
           "#FFA15A",
           "#FFA15A",
           "#00cc96",
           "#00cc96",
           "#636efa",
           "#EF553B",
           "#636efa",
           "#ab63fa",
           "#EF553B",
           "#ab63fa",
           "#00cc96",
           "#ab63fa",
           "#EF553B",
           "#00cc96",
           "#ab63fa",
           "#00cc96",
           "#EF553B",
           "#636efa",
           "#00cc96",
           "#ab63fa",
           "#636efa",
           "#00cc96",
           "#636efa",
           "#EF553B",
           "#ab63fa",
           "#EF553B",
           "#00cc96",
           "#EF553B",
           "#EF553B",
           "#00cc96",
           "#EF553B",
           "#ab63fa",
           "#ab63fa",
           "#636efa",
           "#636efa",
           "#636efa",
           "#636efa",
           "#ab63fa",
           "#EF553B",
           "#EF553B",
           "#00cc96",
           "#00cc96",
           "#EF553B",
           "#00cc96",
           "#EF553B",
           "#EF553B",
           "#00cc96",
           "#EF553B",
           "#EF553B",
           "#EF553B",
           "#EF553B",
           "#ab63fa",
           "#EF553B",
           "#00cc96",
           "#EF553B",
           "#ab63fa",
           "#ab63fa",
           "#00cc96",
           "#EF553B",
           "#636efa",
           "#ab63fa",
           "#ab63fa",
           "#ab63fa",
           "#ab63fa",
           "#ab63fa",
           "#00cc96",
           "#FFA15A",
           "#636efa",
           "#FFA15A",
           "#ab63fa",
           "#636efa",
           "#EF553B",
           "#EF553B",
           "#00cc96",
           "#EF553B",
           "#EF553B",
           "#00cc96",
           "#00cc96",
           "#636efa",
           "#00cc96",
           "#EF553B",
           "#636efa",
           "#ab63fa",
           "#636efa",
           "#00cc96",
           "#ab63fa",
           "#00cc96",
           "#EF553B",
           "#ab63fa",
           "#00cc96",
           "#00cc96",
           "#FFA15A",
           "#FFA15A",
           "#ab63fa",
           "#636efa",
           "#EF553B",
           "#FFA15A",
           "#ab63fa",
           "#636efa",
           "#636efa",
           "#636efa",
           "#636efa",
           "#ab63fa",
           "#FFA15A",
           "#636efa",
           "#00cc96",
           "#FFA15A",
           "#ab63fa",
           "#636efa",
           "#636efa",
           "#EF553B",
           "#EF553B",
           "#EF553B",
           "#EF553B",
           "#EF553B",
           "#00cc96",
           "#636efa",
           "#FFA15A",
           "#ab63fa",
           "#636efa",
           "#FFA15A",
           "#00cc96",
           "#ab63fa",
           "#ab63fa",
           "#EF553B",
           "#636efa",
           "#EF553B",
           "#EF553B",
           "#FFA15A",
           "#ab63fa",
           "#EF553B",
           "#ab63fa",
           "#636efa",
           "#ab63fa",
           "#FFA15A",
           "#EF553B",
           "#FFA15A",
           "#636efa",
           "#636efa",
           "#636efa",
           "#ab63fa",
           "#636efa",
           "#EF553B",
           "#636efa",
           "#EF553B",
           "#EF553B"
          ]
         },
         "name": "",
         "parents": [
          "Asia/Eastern Asia",
          "Africa/Eastern Africa",
          "Africa",
          "Americas/Southern America",
          "Americas/Caribbean",
          "Asia/Western Asia",
          "Africa/Eastern Africa",
          "Europe/Eastern Europe",
          "Asia/Southern Asia",
          "Asia/South-Eastern Asia",
          "Africa/Southern Africa",
          "Americas/South America",
          "Europe/Southern Europe",
          "",
          "Asia",
          "Africa/Northern Africa",
          "Americas/Central America",
          "Americas/Caribbean",
          "Africa/Eastern Africa",
          "Americas/Caribbean",
          "Europe/Northern Europe",
          "Asia/South-Eastern Asia",
          "Asia/South-Eastern Asia",
          "Europe/Southern Europe",
          "Europe/Northern Europe",
          "Europe/Northern Europe",
          "Europe/Southern Europe",
          "Oceania/Polynesia",
          "Americas/South America",
          "Europe/Eastern Europe",
          "Asia/Western Asia",
          "Asia/Southern Asia",
          "Europe/Northern Europe",
          "Europe/Eastern Europe",
          "Americas/Central America",
          "Americas/Caribbean",
          "Asia/Central Asia",
          "Americas/Central America",
          "Americas/Caribbean",
          "Americas/Caribbean",
          "Europe/Eastern Europe",
          "Asia/Western Asia",
          "Europe/Southern Europe",
          "Africa/Southern Africa",
          "Africa/Northern Africa",
          "Oceania/Melanesia",
          "Americas/Caribbean",
          "Oceania",
          "Africa/Western Africa",
          "Americas/Caribbean",
          "Americas/Caribbean",
          "Americas/Caribbean",
          "Oceania",
          "Asia/Western Asia",
          "Asia/Western Asia",
          "Americas",
          "Europe",
          "Africa",
          "Asia",
          "Europe",
          "Asia/South-Eastern Asia",
          "Africa/Middle Africa",
          "",
          "Asia",
          "Europe/Southern Europe",
          "Asia",
          "Africa/Southern Africa",
          "Americas/Caribbean",
          "Americas/Northern America",
          "Oceania/Polynesia",
          "Americas/South America",
          "Americas",
          "Africa/Eastern Africa",
          "Africa/Eastern Africa",
          "Oceania/Polynesia",
          "Asia/South-Eastern Asia",
          "Europe/Eastern Europe",
          "Asia/Central Asia",
          "Oceania/Melanesia",
          "Oceania/Australia and New Zealand",
          "Americas/South America",
          "Americas/Central America",
          "Asia/Other",
          "Africa/Western Africa",
          "Asia/Western Asia",
          "Europe/Western Europe",
          "Africa/Western Africa",
          "Europe/Southern Europe",
          "Americas/Caribbean",
          "Europe/Eastern Europe",
          "",
          "Americas",
          "Europe",
          "Americas",
          "Africa",
          "Asia",
          "Americas/South America",
          "Europe/Northern Europe",
          "Asia/Western Asia",
          "Americas/Central America",
          "Asia/Central Asia",
          "Africa/Northern Africa",
          "Europe/Southern Europe",
          "Africa/Western Africa",
          "Americas/South America",
          "Africa/Northern Africa",
          "Africa/Western Africa",
          "Americas/Caribbean",
          "Africa/Eastern Africa",
          "Europe/Southern Europe",
          "",
          "Asia/Eastern Asia",
          "Asia/Southern Asia",
          "Asia/Eastern Asia",
          "Asia/Western Asia",
          "Europe/Western Europe",
          "Africa/Middle Africa",
          "Africa/Western Africa",
          "Americas/Northern America",
          "Americas/South America",
          "Africa/Middle Africa",
          "Americas/South America",
          "Africa/Western Africa",
          "Africa/Western Africa",
          "Americas/Central America",
          "Africa/Middle Africa",
          "Africa/Western Africa",
          "Africa/Western Africa",
          "Africa/Western Africa",
          "Europe/Eastern Europe",
          "Africa/Eastern Africa",
          "Americas/Caribbean",
          "Africa/Northern Africa",
          "Europe/Southern Europe",
          "Europe/Northern Europe",
          "Americas/Caribbean",
          "Africa/Western Africa",
          "Asia/Southern Asia",
          "Europe/Southern Europe",
          "Europe/Southern Europe",
          "Europe/Southern Europe",
          "Europe/Western Europe",
          "Europe/Northern Europe",
          "Americas/Central America",
          "Oceania/Australia and New Zealand",
          "Asia/South-Eastern Asia",
          "Oceania/Melanesia",
          "Europe/Central Europe",
          "Asia/South-Eastern Asia",
          "Africa/Middle Africa",
          "Africa/Eastern Africa",
          "Americas/Northern America",
          "Africa/Eastern Africa",
          "Africa/Eastern Africa",
          "Americas/Caribbean",
          "Americas/South America",
          "Asia/Western Asia",
          "Americas/Caribbean",
          "Africa",
          "Asia",
          "Europe/Western Europe",
          "Asia/Western Asia",
          "Americas/Central America",
          "Europe",
          "Americas/South America",
          "Africa",
          "Europe",
          "Americas/South America",
          "Americas",
          "Oceania",
          "Oceania",
          "Europe/Northern Europe",
          "Asia/Western Asia",
          "Africa/Eastern Africa",
          "Oceania/Polynesia",
          "Europe/Eastern Europe",
          "Asia/Western Asia",
          "Asia/South-Eastern Asia",
          "Asia/South-Western Asia",
          "Asia/South-Eastern Asia",
          "Europe/Northern Europe",
          "Oceania/Micronesia",
          "Asia/Southern Asia",
          "Americas/Northern America",
          "Oceania/Micronesia",
          "Europe/Northern Europe",
          "Asia/Central Asia",
          "Asia/South-Eastern Asia",
          "Africa/Eastern Africa",
          "Africa/Southern Africa",
          "Africa/Eastern Africa",
          "Africa/Eastern Africa",
          "Africa/Northern Africa",
          "Americas/Caribbean",
          "Asia/Western Asia",
          "Oceania/Polynesia",
          "Europe/Eastern Europe",
          "Asia/Western Asia",
          "Oceania/Micronesia",
          "Americas/Central America",
          "Europe/Western Europe",
          "Europe/Northern Europe",
          "Africa/Northern Africa",
          "Asia/Southern Asia",
          "Africa/Middle Africa",
          "Africa/Southern Africa",
          "",
          "Europe/Southern Europe",
          "Africa/Western Africa",
          "Europe/Western Europe",
          "Asia/South-Eastern Asia",
          "Europe/Southern Europe",
          "Oceania/Australia and New Zealand",
          "Africa/Western Africa",
          "Oceania/Melanesia",
          "Asia/Eastern Asia",
          "Asia",
          "Asia/Eastern Asia",
          "Europe/Western Europe",
          "Asia/Western Asia",
          "Africa/Western Africa",
          "Asia/Western Asia",
          "Africa/Eastern Africa",
          "Africa/Eastern Africa"
         ],
         "root": {
          "color": "lightgrey"
         },
         "type": "treemap",
         "values": [
          843745141.9132147,
          4065.77,
          171637734.63389435,
          85655357,
          475487.60000000003,
          578198,
          143275873.4113293,
          25341127,
          37728,
          4156.96,
          179551.29708629372,
          194132,
          1950397590,
          22495620434.12593,
          289464017.82222223,
          747049.0325840103,
          16821370.900000002,
          963620809.3128998,
          238,
          68649,
          147915839.97259864,
          878,
          357844600.5955857,
          3582664,
          936446.213150658,
          38041043.5,
          6701444.62,
          997,
          353577210.635,
          544435831.7551732,
          33679,
          267111002,
          50590,
          27877458.611270297,
          16901511.17,
          17439582,
          108828836.96000001,
          14605994,
          15303572,
          12215,
          191088237.76222786,
          1454134989,
          2111681231.2599998,
          642086.6135420868,
          10661,
          16249321733,
          3869971,
          1800.5,
          268228,
          169,
          24875,
          19617,
          197081.07,
          140059.25,
          164410,
          5188545452.403956,
          4342622256.348093,
          34709452903.217896,
          1497538775.4071681,
          36785641218.6551,
          61256.6,
          84803.53,
          20279047573.652714,
          62641146,
          4610427.81,
          108846506.96000001,
          434984,
          17251927.900000002,
          11957042250,
          35,
          1556283787,
          570583299.9300001,
          1010,
          290179367,
          10,
          81,
          378875242.44,
          8640,
          163843,
          23420500.728351057,
          212207366.57999998,
          35490341.239999995,
          113401,
          272837.0731477895,
          66289,
          16953655241.807686,
          2535892199.5417604,
          25072,
          25498628,
          6243715,
          39002869135.86305,
          85655357,
          6560223511.2371435,
          13390655106.72282,
          3512097385.4300003,
          2376453834.6632147,
          652276.4,
          3892796540,
          354302.4,
          1457,
          1105,
          87894026,
          1252.06,
          218885479.10619932,
          2832,
          45.34131036105829,
          142158434.54,
          924.0600000000001,
          29558,
          3152451,
          50557121151.34937,
          3921.8,
          197,
          1428403109,
          13140651.704929752,
          3616679950.345236,
          6660119,
          47633,
          430.29714285714283,
          990495.46,
          1456096,
          3727.76,
          90,
          212932091,
          13274058,
          3442843179,
          772608,
          594,
          8626001581.82,
          125183357,
          427938,
          11796,
          76435908,
          4437.73,
          98,
          7598.68,
          9988,
          4477,
          2457,
          113158871,
          81973970.49136208,
          43998.16267540188,
          36228135.397168115,
          76636963,
          11254001.545669496,
          7486028774.9,
          8801164,
          171719699.71604797,
          15134337.877879413,
          5289344,
          24049,
          1433612006.4256754,
          195,
          30843,
          887,
          14900515.700000001,
          24106906.4,
          1645.0430570617093,
          26131567.556370027,
          18160562752.27332,
          6043302848.37,
          177555,
          1815970.6199999999,
          2696914465.392982,
          3042986559.77,
          583549545.0248989,
          171719699.71604797,
          6746549.0989573095,
          1043608357.595957,
          82547134.25931731,
          16258440479,
          2229484129.1,
          92323,
          5859,
          13665,
          22294789.014310356,
          746194.3522379205,
          7812001842.609002,
          62641146,
          80235745.4,
          207719932,
          766.5,
          183520,
          420,
          51,
          5767854,
          7925,
          4555,
          1232742,
          247543.5204268792,
          3937,
          35712,
          6267354.26,
          4,
          68656.34999999999,
          182374.07,
          1375574706.8100002,
          3518623,
          983,
          395035634,
          940765254.192197,
          1282903.0542259337,
          282691,
          22127093.82222222,
          55763843.9,
          24627402.12531477,
          16341186494.829317,
          24307820,
          80297,
          8806938488.724491,
          2409246523.33085,
          43022567.37673086,
          47872631.98529675,
          22971526504.13678,
          153739,
          104272691.95,
          113401,
          28970,
          424255437.0528293,
          97139.75,
          604338,
          118799.2,
          224524,
          148073633.8435695
         ]
        }
       ],
       "layout": {
        "legend": {
         "tracegroupgap": 0
        },
        "margin": {
         "b": 25,
         "l": 25,
         "r": 25,
         "t": 50
        },
        "template": {
         "data": {
          "bar": [
           {
            "error_x": {
             "color": "#2a3f5f"
            },
            "error_y": {
             "color": "#2a3f5f"
            },
            "marker": {
             "line": {
              "color": "#E5ECF6",
              "width": 0.5
             },
             "pattern": {
              "fillmode": "overlay",
              "size": 10,
              "solidity": 0.2
             }
            },
            "type": "bar"
           }
          ],
          "barpolar": [
           {
            "marker": {
             "line": {
              "color": "#E5ECF6",
              "width": 0.5
             },
             "pattern": {
              "fillmode": "overlay",
              "size": 10,
              "solidity": 0.2
             }
            },
            "type": "barpolar"
           }
          ],
          "carpet": [
           {
            "aaxis": {
             "endlinecolor": "#2a3f5f",
             "gridcolor": "white",
             "linecolor": "white",
             "minorgridcolor": "white",
             "startlinecolor": "#2a3f5f"
            },
            "baxis": {
             "endlinecolor": "#2a3f5f",
             "gridcolor": "white",
             "linecolor": "white",
             "minorgridcolor": "white",
             "startlinecolor": "#2a3f5f"
            },
            "type": "carpet"
           }
          ],
          "choropleth": [
           {
            "colorbar": {
             "outlinewidth": 0,
             "ticks": ""
            },
            "type": "choropleth"
           }
          ],
          "contour": [
           {
            "colorbar": {
             "outlinewidth": 0,
             "ticks": ""
            },
            "colorscale": [
             [
              0,
              "#0d0887"
             ],
             [
              0.1111111111111111,
              "#46039f"
             ],
             [
              0.2222222222222222,
              "#7201a8"
             ],
             [
              0.3333333333333333,
              "#9c179e"
             ],
             [
              0.4444444444444444,
              "#bd3786"
             ],
             [
              0.5555555555555556,
              "#d8576b"
             ],
             [
              0.6666666666666666,
              "#ed7953"
             ],
             [
              0.7777777777777778,
              "#fb9f3a"
             ],
             [
              0.8888888888888888,
              "#fdca26"
             ],
             [
              1,
              "#f0f921"
             ]
            ],
            "type": "contour"
           }
          ],
          "contourcarpet": [
           {
            "colorbar": {
             "outlinewidth": 0,
             "ticks": ""
            },
            "type": "contourcarpet"
           }
          ],
          "heatmap": [
           {
            "colorbar": {
             "outlinewidth": 0,
             "ticks": ""
            },
            "colorscale": [
             [
              0,
              "#0d0887"
             ],
             [
              0.1111111111111111,
              "#46039f"
             ],
             [
              0.2222222222222222,
              "#7201a8"
             ],
             [
              0.3333333333333333,
              "#9c179e"
             ],
             [
              0.4444444444444444,
              "#bd3786"
             ],
             [
              0.5555555555555556,
              "#d8576b"
             ],
             [
              0.6666666666666666,
              "#ed7953"
             ],
             [
              0.7777777777777778,
              "#fb9f3a"
             ],
             [
              0.8888888888888888,
              "#fdca26"
             ],
             [
              1,
              "#f0f921"
             ]
            ],
            "type": "heatmap"
           }
          ],
          "heatmapgl": [
           {
            "colorbar": {
             "outlinewidth": 0,
             "ticks": ""
            },
            "colorscale": [
             [
              0,
              "#0d0887"
             ],
             [
              0.1111111111111111,
              "#46039f"
             ],
             [
              0.2222222222222222,
              "#7201a8"
             ],
             [
              0.3333333333333333,
              "#9c179e"
             ],
             [
              0.4444444444444444,
              "#bd3786"
             ],
             [
              0.5555555555555556,
              "#d8576b"
             ],
             [
              0.6666666666666666,
              "#ed7953"
             ],
             [
              0.7777777777777778,
              "#fb9f3a"
             ],
             [
              0.8888888888888888,
              "#fdca26"
             ],
             [
              1,
              "#f0f921"
             ]
            ],
            "type": "heatmapgl"
           }
          ],
          "histogram": [
           {
            "marker": {
             "pattern": {
              "fillmode": "overlay",
              "size": 10,
              "solidity": 0.2
             }
            },
            "type": "histogram"
           }
          ],
          "histogram2d": [
           {
            "colorbar": {
             "outlinewidth": 0,
             "ticks": ""
            },
            "colorscale": [
             [
              0,
              "#0d0887"
             ],
             [
              0.1111111111111111,
              "#46039f"
             ],
             [
              0.2222222222222222,
              "#7201a8"
             ],
             [
              0.3333333333333333,
              "#9c179e"
             ],
             [
              0.4444444444444444,
              "#bd3786"
             ],
             [
              0.5555555555555556,
              "#d8576b"
             ],
             [
              0.6666666666666666,
              "#ed7953"
             ],
             [
              0.7777777777777778,
              "#fb9f3a"
             ],
             [
              0.8888888888888888,
              "#fdca26"
             ],
             [
              1,
              "#f0f921"
             ]
            ],
            "type": "histogram2d"
           }
          ],
          "histogram2dcontour": [
           {
            "colorbar": {
             "outlinewidth": 0,
             "ticks": ""
            },
            "colorscale": [
             [
              0,
              "#0d0887"
             ],
             [
              0.1111111111111111,
              "#46039f"
             ],
             [
              0.2222222222222222,
              "#7201a8"
             ],
             [
              0.3333333333333333,
              "#9c179e"
             ],
             [
              0.4444444444444444,
              "#bd3786"
             ],
             [
              0.5555555555555556,
              "#d8576b"
             ],
             [
              0.6666666666666666,
              "#ed7953"
             ],
             [
              0.7777777777777778,
              "#fb9f3a"
             ],
             [
              0.8888888888888888,
              "#fdca26"
             ],
             [
              1,
              "#f0f921"
             ]
            ],
            "type": "histogram2dcontour"
           }
          ],
          "mesh3d": [
           {
            "colorbar": {
             "outlinewidth": 0,
             "ticks": ""
            },
            "type": "mesh3d"
           }
          ],
          "parcoords": [
           {
            "line": {
             "colorbar": {
              "outlinewidth": 0,
              "ticks": ""
             }
            },
            "type": "parcoords"
           }
          ],
          "pie": [
           {
            "automargin": true,
            "type": "pie"
           }
          ],
          "scatter": [
           {
            "marker": {
             "colorbar": {
              "outlinewidth": 0,
              "ticks": ""
             }
            },
            "type": "scatter"
           }
          ],
          "scatter3d": [
           {
            "line": {
             "colorbar": {
              "outlinewidth": 0,
              "ticks": ""
             }
            },
            "marker": {
             "colorbar": {
              "outlinewidth": 0,
              "ticks": ""
             }
            },
            "type": "scatter3d"
           }
          ],
          "scattercarpet": [
           {
            "marker": {
             "colorbar": {
              "outlinewidth": 0,
              "ticks": ""
             }
            },
            "type": "scattercarpet"
           }
          ],
          "scattergeo": [
           {
            "marker": {
             "colorbar": {
              "outlinewidth": 0,
              "ticks": ""
             }
            },
            "type": "scattergeo"
           }
          ],
          "scattergl": [
           {
            "marker": {
             "colorbar": {
              "outlinewidth": 0,
              "ticks": ""
             }
            },
            "type": "scattergl"
           }
          ],
          "scattermapbox": [
           {
            "marker": {
             "colorbar": {
              "outlinewidth": 0,
              "ticks": ""
             }
            },
            "type": "scattermapbox"
           }
          ],
          "scatterpolar": [
           {
            "marker": {
             "colorbar": {
              "outlinewidth": 0,
              "ticks": ""
             }
            },
            "type": "scatterpolar"
           }
          ],
          "scatterpolargl": [
           {
            "marker": {
             "colorbar": {
              "outlinewidth": 0,
              "ticks": ""
             }
            },
            "type": "scatterpolargl"
           }
          ],
          "scatterternary": [
           {
            "marker": {
             "colorbar": {
              "outlinewidth": 0,
              "ticks": ""
             }
            },
            "type": "scatterternary"
           }
          ],
          "surface": [
           {
            "colorbar": {
             "outlinewidth": 0,
             "ticks": ""
            },
            "colorscale": [
             [
              0,
              "#0d0887"
             ],
             [
              0.1111111111111111,
              "#46039f"
             ],
             [
              0.2222222222222222,
              "#7201a8"
             ],
             [
              0.3333333333333333,
              "#9c179e"
             ],
             [
              0.4444444444444444,
              "#bd3786"
             ],
             [
              0.5555555555555556,
              "#d8576b"
             ],
             [
              0.6666666666666666,
              "#ed7953"
             ],
             [
              0.7777777777777778,
              "#fb9f3a"
             ],
             [
              0.8888888888888888,
              "#fdca26"
             ],
             [
              1,
              "#f0f921"
             ]
            ],
            "type": "surface"
           }
          ],
          "table": [
           {
            "cells": {
             "fill": {
              "color": "#EBF0F8"
             },
             "line": {
              "color": "white"
             }
            },
            "header": {
             "fill": {
              "color": "#C8D4E3"
             },
             "line": {
              "color": "white"
             }
            },
            "type": "table"
           }
          ]
         },
         "layout": {
          "annotationdefaults": {
           "arrowcolor": "#2a3f5f",
           "arrowhead": 0,
           "arrowwidth": 1
          },
          "autotypenumbers": "strict",
          "coloraxis": {
           "colorbar": {
            "outlinewidth": 0,
            "ticks": ""
           }
          },
          "colorscale": {
           "diverging": [
            [
             0,
             "#8e0152"
            ],
            [
             0.1,
             "#c51b7d"
            ],
            [
             0.2,
             "#de77ae"
            ],
            [
             0.3,
             "#f1b6da"
            ],
            [
             0.4,
             "#fde0ef"
            ],
            [
             0.5,
             "#f7f7f7"
            ],
            [
             0.6,
             "#e6f5d0"
            ],
            [
             0.7,
             "#b8e186"
            ],
            [
             0.8,
             "#7fbc41"
            ],
            [
             0.9,
             "#4d9221"
            ],
            [
             1,
             "#276419"
            ]
           ],
           "sequential": [
            [
             0,
             "#0d0887"
            ],
            [
             0.1111111111111111,
             "#46039f"
            ],
            [
             0.2222222222222222,
             "#7201a8"
            ],
            [
             0.3333333333333333,
             "#9c179e"
            ],
            [
             0.4444444444444444,
             "#bd3786"
            ],
            [
             0.5555555555555556,
             "#d8576b"
            ],
            [
             0.6666666666666666,
             "#ed7953"
            ],
            [
             0.7777777777777778,
             "#fb9f3a"
            ],
            [
             0.8888888888888888,
             "#fdca26"
            ],
            [
             1,
             "#f0f921"
            ]
           ],
           "sequentialminus": [
            [
             0,
             "#0d0887"
            ],
            [
             0.1111111111111111,
             "#46039f"
            ],
            [
             0.2222222222222222,
             "#7201a8"
            ],
            [
             0.3333333333333333,
             "#9c179e"
            ],
            [
             0.4444444444444444,
             "#bd3786"
            ],
            [
             0.5555555555555556,
             "#d8576b"
            ],
            [
             0.6666666666666666,
             "#ed7953"
            ],
            [
             0.7777777777777778,
             "#fb9f3a"
            ],
            [
             0.8888888888888888,
             "#fdca26"
            ],
            [
             1,
             "#f0f921"
            ]
           ]
          },
          "colorway": [
           "#636efa",
           "#EF553B",
           "#00cc96",
           "#ab63fa",
           "#FFA15A",
           "#19d3f3",
           "#FF6692",
           "#B6E880",
           "#FF97FF",
           "#FECB52"
          ],
          "font": {
           "color": "#2a3f5f"
          },
          "geo": {
           "bgcolor": "white",
           "lakecolor": "white",
           "landcolor": "#E5ECF6",
           "showlakes": true,
           "showland": true,
           "subunitcolor": "white"
          },
          "hoverlabel": {
           "align": "left"
          },
          "hovermode": "closest",
          "mapbox": {
           "style": "light"
          },
          "paper_bgcolor": "white",
          "plot_bgcolor": "#E5ECF6",
          "polar": {
           "angularaxis": {
            "gridcolor": "white",
            "linecolor": "white",
            "ticks": ""
           },
           "bgcolor": "#E5ECF6",
           "radialaxis": {
            "gridcolor": "white",
            "linecolor": "white",
            "ticks": ""
           }
          },
          "scene": {
           "xaxis": {
            "backgroundcolor": "#E5ECF6",
            "gridcolor": "white",
            "gridwidth": 2,
            "linecolor": "white",
            "showbackground": true,
            "ticks": "",
            "zerolinecolor": "white"
           },
           "yaxis": {
            "backgroundcolor": "#E5ECF6",
            "gridcolor": "white",
            "gridwidth": 2,
            "linecolor": "white",
            "showbackground": true,
            "ticks": "",
            "zerolinecolor": "white"
           },
           "zaxis": {
            "backgroundcolor": "#E5ECF6",
            "gridcolor": "white",
            "gridwidth": 2,
            "linecolor": "white",
            "showbackground": true,
            "ticks": "",
            "zerolinecolor": "white"
           }
          },
          "shapedefaults": {
           "line": {
            "color": "#2a3f5f"
           }
          },
          "ternary": {
           "aaxis": {
            "gridcolor": "white",
            "linecolor": "white",
            "ticks": ""
           },
           "baxis": {
            "gridcolor": "white",
            "linecolor": "white",
            "ticks": ""
           },
           "bgcolor": "#E5ECF6",
           "caxis": {
            "gridcolor": "white",
            "linecolor": "white",
            "ticks": ""
           }
          },
          "title": {
           "x": 0.05
          },
          "xaxis": {
           "automargin": true,
           "gridcolor": "white",
           "linecolor": "white",
           "ticks": "",
           "title": {
            "standoff": 15
           },
           "zerolinecolor": "white",
           "zerolinewidth": 2
          },
          "yaxis": {
           "automargin": true,
           "gridcolor": "white",
           "linecolor": "white",
           "ticks": "",
           "title": {
            "standoff": 15
           },
           "zerolinecolor": "white",
           "zerolinewidth": 2
          }
         }
        }
       }
      },
      "text/html": [
       "<div>                            <div id=\"e21b4845-0d4f-4e41-b383-aa18d7bd31c8\" class=\"plotly-graph-div\" style=\"height:525px; width:100%;\"></div>            <script type=\"text/javascript\">                require([\"plotly\"], function(Plotly) {                    window.PLOTLYENV=window.PLOTLYENV || {};                                    if (document.getElementById(\"e21b4845-0d4f-4e41-b383-aa18d7bd31c8\")) {                    Plotly.newPlot(                        \"e21b4845-0d4f-4e41-b383-aa18d7bd31c8\",                        [{\"branchvalues\":\"total\",\"customdata\":[[\"Asia\"],[\"Africa\"],[\"Africa\"],[\"Americas\"],[\"Americas\"],[\"Asia\"],[\"Africa\"],[\"Europe\"],[\"Asia\"],[\"Asia\"],[\"Africa\"],[\"Americas\"],[\"Europe\"],[\"Asia\"],[\"Asia\"],[\"Africa\"],[\"Americas\"],[\"Americas\"],[\"Africa\"],[\"Americas\"],[\"Europe\"],[\"Asia\"],[\"Asia\"],[\"Europe\"],[\"Europe\"],[\"Europe\"],[\"Europe\"],[\"Oceania\"],[\"Americas\"],[\"Europe\"],[\"Asia\"],[\"Asia\"],[\"Europe\"],[\"Europe\"],[\"Americas\"],[\"Americas\"],[\"Asia\"],[\"Americas\"],[\"Americas\"],[\"Americas\"],[\"Europe\"],[\"Asia\"],[\"Europe\"],[\"Africa\"],[\"Africa\"],[\"Oceania\"],[\"Americas\"],[\"Oceania\"],[\"Africa\"],[\"Americas\"],[\"Americas\"],[\"Americas\"],[\"Oceania\"],[\"Asia\"],[\"Asia\"],[\"Americas\"],[\"Europe\"],[\"Africa\"],[\"Asia\"],[\"Europe\"],[\"Asia\"],[\"Africa\"],[\"Americas\"],[\"Asia\"],[\"Europe\"],[\"Asia\"],[\"Africa\"],[\"Americas\"],[\"Americas\"],[\"Oceania\"],[\"Americas\"],[\"Americas\"],[\"Africa\"],[\"Africa\"],[\"Oceania\"],[\"Asia\"],[\"Europe\"],[\"Asia\"],[\"Oceania\"],[\"Oceania\"],[\"Americas\"],[\"Americas\"],[\"Asia\"],[\"Africa\"],[\"Asia\"],[\"Europe\"],[\"Africa\"],[\"Europe\"],[\"Americas\"],[\"Europe\"],[\"Africa\"],[\"Americas\"],[\"Europe\"],[\"Americas\"],[\"Africa\"],[\"Asia\"],[\"Americas\"],[\"Europe\"],[\"Asia\"],[\"Americas\"],[\"Asia\"],[\"Africa\"],[\"Europe\"],[\"Africa\"],[\"Americas\"],[\"Africa\"],[\"Africa\"],[\"Americas\"],[\"Africa\"],[\"Europe\"],[\"Europe\"],[\"Asia\"],[\"Asia\"],[\"Asia\"],[\"Asia\"],[\"Europe\"],[\"Africa\"],[\"Africa\"],[\"Americas\"],[\"Americas\"],[\"Africa\"],[\"Americas\"],[\"Africa\"],[\"Africa\"],[\"Americas\"],[\"Africa\"],[\"Africa\"],[\"Africa\"],[\"Africa\"],[\"Europe\"],[\"Africa\"],[\"Americas\"],[\"Africa\"],[\"Europe\"],[\"Europe\"],[\"Americas\"],[\"Africa\"],[\"Asia\"],[\"Europe\"],[\"Europe\"],[\"Europe\"],[\"Europe\"],[\"Europe\"],[\"Americas\"],[\"Oceania\"],[\"Asia\"],[\"Oceania\"],[\"Europe\"],[\"Asia\"],[\"Africa\"],[\"Africa\"],[\"Americas\"],[\"Africa\"],[\"Africa\"],[\"Americas\"],[\"Americas\"],[\"Asia\"],[\"Americas\"],[\"Africa\"],[\"Asia\"],[\"Europe\"],[\"Asia\"],[\"Americas\"],[\"Europe\"],[\"Americas\"],[\"Africa\"],[\"Europe\"],[\"Americas\"],[\"Americas\"],[\"Oceania\"],[\"Oceania\"],[\"Europe\"],[\"Asia\"],[\"Africa\"],[\"Oceania\"],[\"Europe\"],[\"Asia\"],[\"Asia\"],[\"Asia\"],[\"Asia\"],[\"Europe\"],[\"Oceania\"],[\"Asia\"],[\"Americas\"],[\"Oceania\"],[\"Europe\"],[\"Asia\"],[\"Asia\"],[\"Africa\"],[\"Africa\"],[\"Africa\"],[\"Africa\"],[\"Africa\"],[\"Americas\"],[\"Asia\"],[\"Oceania\"],[\"Europe\"],[\"Asia\"],[\"Oceania\"],[\"Americas\"],[\"Europe\"],[\"Europe\"],[\"Africa\"],[\"Asia\"],[\"Africa\"],[\"Africa\"],[\"Oceania\"],[\"Europe\"],[\"Africa\"],[\"Europe\"],[\"Asia\"],[\"Europe\"],[\"Oceania\"],[\"Africa\"],[\"Oceania\"],[\"Asia\"],[\"Asia\"],[\"Asia\"],[\"Europe\"],[\"Asia\"],[\"Africa\"],[\"Asia\"],[\"Africa\"],[\"Africa\"]],\"domain\":{\"x\":[0.0,1.0],\"y\":[0.0,1.0]},\"hovertemplate\":\"labels=%{label}<br>Quantity=%{value}<br>parent=%{parent}<br>id=%{id}<br>continent=%{customdata[0]}<extra></extra>\",\"ids\":[\"Asia/Eastern Asia/China\",\"Africa/Eastern Africa/Seychelles\",\"Africa/Northern Africa\",\"Americas/Southern America/Venezuela\",\"Americas/Caribbean/Saint Lucia\",\"Asia/Western Asia/Lebanon\",\"Africa/Eastern Africa/Madagascar\",\"Europe/Eastern Europe/Bulgaria\",\"Asia/Southern Asia/Nepal\",\"Asia/South-Eastern Asia/Brunei Darussalam\",\"Africa/Southern Africa/Lesotho\",\"Americas/South America/Paraguay\",\"Europe/Southern Europe/Italy\",\"Asia\",\"Asia/Southern Asia\",\"Africa/Northern Africa/Egypt\",\"Americas/Central America/El Salvador\",\"Americas/Caribbean/Dominican Rep.\",\"Africa/Eastern Africa/Eritrea\",\"Americas/Caribbean/Dominica\",\"Europe/Northern Europe/Denmark\",\"Asia/South-Eastern Asia/Timor-Leste\",\"Asia/South-Eastern Asia/Thailand\",\"Europe/Southern Europe/TFYR of Macedonia\",\"Europe/Northern Europe/Sweden\",\"Europe/Northern Europe/Lithuania\",\"Europe/Southern Europe/Slovenia\",\"Oceania/Polynesia/French Polynesia\",\"Americas/South America/Peru\",\"Europe/Eastern Europe/Poland\",\"Asia/Western Asia/Jordan\",\"Asia/Southern Asia/India\",\"Europe/Northern Europe/Iceland\",\"Europe/Eastern Europe/Hungary\",\"Americas/Central America/Honduras\",\"Americas/Caribbean/Haiti\",\"Asia/Central Asia/Kazakhstan\",\"Americas/Central America/Panama\",\"Americas/Caribbean/Grenada\",\"Americas/Caribbean/Saint Vincent and the Grenadines\",\"Europe/Eastern Europe/Slovakia\",\"Asia/Western Asia/Turkey\",\"Europe/Southern Europe/Spain\",\"Africa/Southern Africa/Swaziland\",\"Africa/Northern Africa/Libya\",\"Oceania/Melanesia/Papua New Guinea\",\"Americas/Caribbean/Cuba\",\"Oceania/Micronesia\",\"Africa/Western Africa/Mali\",\"Americas/Caribbean/Neth. Antilles\",\"Americas/Caribbean/Martinique\",\"Americas/Caribbean/Barbados\",\"Oceania/Polynesia\",\"Asia/Western Asia/Bahrain\",\"Asia/Western Asia/Cyprus\",\"Americas/South America\",\"Europe/Southern Europe\",\"Africa/Western Africa\",\"Asia/Western Asia\",\"Europe/Western Europe\",\"Asia/South-Eastern Asia/Myanmar\",\"Africa/Middle Africa/Angola\",\"Americas\",\"Asia/South-Western Asia\",\"Europe/Southern Europe/Bosnia Herzegovina\",\"Asia/Central Asia\",\"Africa/Southern Africa/Botswana\",\"Americas/Caribbean/Jamaica\",\"Americas/Northern America/USA\",\"Oceania/Polynesia/Cook Isds\",\"Americas/South America/Brazil\",\"Americas/Central America\",\"Africa/Eastern Africa/Burundi\",\"Africa/Eastern Africa/Uganda\",\"Oceania/Polynesia/Wallis and Futuna Isds\",\"Asia/South-Eastern Asia/Cambodia\",\"Europe/Eastern Europe/Ukraine\",\"Asia/Central Asia/Uzbekistan\",\"Oceania/Melanesia/New Caledonia\",\"Oceania/Australia and New Zealand/New Zealand\",\"Americas/South America/Colombia\",\"Americas/Central America/Nicaragua\",\"Asia/Other/Other Asia, nes\",\"Africa/Western Africa/Niger\",\"Asia/Western Asia/Oman\",\"Europe/Western Europe/Netherlands\",\"Africa/Western Africa/Nigeria\",\"Europe/Southern Europe/Albania\",\"Americas/Caribbean/Trinidad and Tobago\",\"Europe/Eastern Europe/Rep. of Moldova\",\"Africa\",\"Americas/Southern America\",\"Europe/Northern Europe\",\"Americas/Northern America\",\"Africa/Middle Africa\",\"Asia/Eastern Asia\",\"Americas/South America/Uruguay\",\"Europe/Northern Europe/United Kingdom\",\"Asia/Western Asia/United Arab Emirates\",\"Americas/Central America/Turks and Caicos Isds\",\"Asia/Central Asia/Turkmenistan\",\"Africa/Northern Africa/Tunisia\",\"Europe/Southern Europe/Montenegro\",\"Africa/Western Africa/Togo\",\"Americas/South America/Suriname\",\"Africa/Northern Africa/Sudan\",\"Africa/Western Africa/Sierra Leone\",\"Americas/Caribbean/Saint Kitts and Nevis\",\"Africa/Eastern Africa/Rwanda\",\"Europe/Southern Europe/Portugal\",\"Europe\",\"Asia/Eastern Asia/Mongolia\",\"Asia/Southern Asia/Bhutan\",\"Asia/Eastern Asia/Japan\",\"Asia/Western Asia/Israel\",\"Europe/Western Europe/France\",\"Africa/Middle Africa/Gabon\",\"Africa/Western Africa/Benin\",\"Americas/Northern America/Bermuda\",\"Americas/South America/Chile\",\"Africa/Middle Africa/Central African Rep.\",\"Americas/South America/Guyana\",\"Africa/Western Africa/Guinea-Bissau\",\"Africa/Western Africa/Guinea\",\"Americas/Central America/Guatemala\",\"Africa/Middle Africa/Cameroon\",\"Africa/Western Africa/Burkina Faso\",\"Africa/Western Africa/Cabo Verde\",\"Africa/Western Africa/Ghana\",\"Europe/Eastern Europe/Belarus\",\"Africa/Eastern Africa/Kenya\",\"Americas/Caribbean/Bahamas\",\"Africa/Northern Africa/Algeria\",\"Europe/Southern Europe/Andorra\",\"Europe/Northern Europe/Faeroe Isds\",\"Americas/Caribbean/Antigua and Barbuda\",\"Africa/Western Africa/Mauritania\",\"Asia/Southern Asia/Bangladesh\",\"Europe/Southern Europe/Malta\",\"Europe/Southern Europe/Greece\",\"Europe/Southern Europe/Croatia\",\"Europe/Western Europe/Luxembourg\",\"Europe/Northern Europe/Latvia\",\"Americas/Central America/Costa Rica\",\"Oceania/Australia and New Zealand/Australia\",\"Asia/South-Eastern Asia/Malaysia\",\"Oceania/Melanesia/Vanuatu\",\"Europe/Central Europe/Czech Rep.\",\"Asia/South-Eastern Asia/Viet Nam\",\"Africa/Middle Africa/Congo\",\"Africa/Eastern Africa/Comoros\",\"Americas/Northern America/Canada\",\"Africa/Eastern Africa/Mayotte\",\"Africa/Eastern Africa/Zimbabwe\",\"Americas/Caribbean/Anguilla\",\"Americas/South America/Argentina\",\"Asia/Western Asia/Armenia\",\"Americas/Caribbean/Aruba\",\"Africa/Southern Africa\",\"Asia/South-Eastern Asia\",\"Europe/Western Europe/Belgium\",\"Asia/Western Asia/Yemen\",\"Americas/Central America/Belize\",\"Europe/Eastern Europe\",\"Americas/South America/Ecuador\",\"Africa/Eastern Africa\",\"Europe/Central Europe\",\"Americas/South America/Bolivia (Plurinational State of)\",\"Americas/Caribbean\",\"Oceania/Australia and New Zealand\",\"Oceania/Melanesia\",\"Europe/Northern Europe/Estonia\",\"Asia/Western Asia/Syria\",\"Africa/Eastern Africa/Ethiopia\",\"Oceania/Polynesia/Tonga\",\"Europe/Eastern Europe/Romania\",\"Asia/Western Asia/Qatar\",\"Asia/South-Eastern Asia/Indonesia\",\"Asia/South-Western Asia/Iran\",\"Asia/South-Eastern Asia/Philippines\",\"Europe/Northern Europe/Ireland\",\"Oceania/Micronesia/Palau\",\"Asia/Southern Asia/Pakistan\",\"Americas/Northern America/Greenland\",\"Oceania/Micronesia/Kiribati\",\"Europe/Northern Europe/Norway\",\"Asia/Central Asia/Kyrgyzstan\",\"Asia/South-Eastern Asia/Lao People's Dem. Rep.\",\"Africa/Eastern Africa/Malawi\",\"Africa/Southern Africa/Namibia\",\"Africa/Eastern Africa/Mauritius\",\"Africa/Eastern Africa/Mozambique\",\"Africa/Northern Africa/Morocco\",\"Americas/Caribbean/Montserrat\",\"Asia/Western Asia/Kuwait\",\"Oceania/Polynesia/Samoa\",\"Europe/Eastern Europe/Russian Federation\",\"Asia/Western Asia/Saudi Arabia\",\"Oceania/Micronesia/FS Micronesia\",\"Americas/Central America/Mexico\",\"Europe/Western Europe/Switzerland\",\"Europe/Northern Europe/Finland\",\"Africa/Northern Africa/Fmr Sudan\",\"Asia/Southern Asia/Sri Lanka\",\"Africa/Middle Africa/Sao Tome and Principe\",\"Africa/Southern Africa/South Africa\",\"Oceania\",\"Europe/Southern Europe/Serbia and Montenegro\",\"Africa/Western Africa/Senegal\",\"Europe/Western Europe/Germany\",\"Asia/South-Eastern Asia/Singapore\",\"Europe/Southern Europe/Serbia\",\"Oceania/Australia and New Zealand/Solomon Isds\",\"Africa/Western Africa/C\\u00f4te d'Ivoire\",\"Oceania/Melanesia/Fiji\",\"Asia/Eastern Asia/Rep. of Korea\",\"Asia/Other\",\"Asia/Eastern Asia/China, Macao SAR\",\"Europe/Western Europe/Austria\",\"Asia/Western Asia/Azerbaijan\",\"Africa/Western Africa/Gambia\",\"Asia/Western Asia/Georgia\",\"Africa/Eastern Africa/Zambia\",\"Africa/Eastern Africa/United Rep. of Tanzania\"],\"labels\":[\"China\",\"Seychelles\",\"Northern Africa\",\"Venezuela\",\"Saint Lucia\",\"Lebanon\",\"Madagascar\",\"Bulgaria\",\"Nepal\",\"Brunei Darussalam\",\"Lesotho\",\"Paraguay\",\"Italy\",\"Asia\",\"Southern Asia\",\"Egypt\",\"El Salvador\",\"Dominican Rep.\",\"Eritrea\",\"Dominica\",\"Denmark\",\"Timor-Leste\",\"Thailand\",\"TFYR of Macedonia\",\"Sweden\",\"Lithuania\",\"Slovenia\",\"French Polynesia\",\"Peru\",\"Poland\",\"Jordan\",\"India\",\"Iceland\",\"Hungary\",\"Honduras\",\"Haiti\",\"Kazakhstan\",\"Panama\",\"Grenada\",\"Saint Vincent and the Grenadines\",\"Slovakia\",\"Turkey\",\"Spain\",\"Swaziland\",\"Libya\",\"Papua New Guinea\",\"Cuba\",\"Micronesia\",\"Mali\",\"Neth. Antilles\",\"Martinique\",\"Barbados\",\"Polynesia\",\"Bahrain\",\"Cyprus\",\"South America\",\"Southern Europe\",\"Western Africa\",\"Western Asia\",\"Western Europe\",\"Myanmar\",\"Angola\",\"Americas\",\"South-Western Asia\",\"Bosnia Herzegovina\",\"Central Asia\",\"Botswana\",\"Jamaica\",\"USA\",\"Cook Isds\",\"Brazil\",\"Central America\",\"Burundi\",\"Uganda\",\"Wallis and Futuna Isds\",\"Cambodia\",\"Ukraine\",\"Uzbekistan\",\"New Caledonia\",\"New Zealand\",\"Colombia\",\"Nicaragua\",\"Other Asia, nes\",\"Niger\",\"Oman\",\"Netherlands\",\"Nigeria\",\"Albania\",\"Trinidad and Tobago\",\"Rep. of Moldova\",\"Africa\",\"Southern America\",\"Northern Europe\",\"Northern America\",\"Middle Africa\",\"Eastern Asia\",\"Uruguay\",\"United Kingdom\",\"United Arab Emirates\",\"Turks and Caicos Isds\",\"Turkmenistan\",\"Tunisia\",\"Montenegro\",\"Togo\",\"Suriname\",\"Sudan\",\"Sierra Leone\",\"Saint Kitts and Nevis\",\"Rwanda\",\"Portugal\",\"Europe\",\"Mongolia\",\"Bhutan\",\"Japan\",\"Israel\",\"France\",\"Gabon\",\"Benin\",\"Bermuda\",\"Chile\",\"Central African Rep.\",\"Guyana\",\"Guinea-Bissau\",\"Guinea\",\"Guatemala\",\"Cameroon\",\"Burkina Faso\",\"Cabo Verde\",\"Ghana\",\"Belarus\",\"Kenya\",\"Bahamas\",\"Algeria\",\"Andorra\",\"Faeroe Isds\",\"Antigua and Barbuda\",\"Mauritania\",\"Bangladesh\",\"Malta\",\"Greece\",\"Croatia\",\"Luxembourg\",\"Latvia\",\"Costa Rica\",\"Australia\",\"Malaysia\",\"Vanuatu\",\"Czech Rep.\",\"Viet Nam\",\"Congo\",\"Comoros\",\"Canada\",\"Mayotte\",\"Zimbabwe\",\"Anguilla\",\"Argentina\",\"Armenia\",\"Aruba\",\"Southern Africa\",\"South-Eastern Asia\",\"Belgium\",\"Yemen\",\"Belize\",\"Eastern Europe\",\"Ecuador\",\"Eastern Africa\",\"Central Europe\",\"Bolivia (Plurinational State of)\",\"Caribbean\",\"Australia and New Zealand\",\"Melanesia\",\"Estonia\",\"Syria\",\"Ethiopia\",\"Tonga\",\"Romania\",\"Qatar\",\"Indonesia\",\"Iran\",\"Philippines\",\"Ireland\",\"Palau\",\"Pakistan\",\"Greenland\",\"Kiribati\",\"Norway\",\"Kyrgyzstan\",\"Lao People's Dem. Rep.\",\"Malawi\",\"Namibia\",\"Mauritius\",\"Mozambique\",\"Morocco\",\"Montserrat\",\"Kuwait\",\"Samoa\",\"Russian Federation\",\"Saudi Arabia\",\"FS Micronesia\",\"Mexico\",\"Switzerland\",\"Finland\",\"Fmr Sudan\",\"Sri Lanka\",\"Sao Tome and Principe\",\"South Africa\",\"Oceania\",\"Serbia and Montenegro\",\"Senegal\",\"Germany\",\"Singapore\",\"Serbia\",\"Solomon Isds\",\"C\\u00f4te d'Ivoire\",\"Fiji\",\"Rep. of Korea\",\"Other\",\"China, Macao SAR\",\"Austria\",\"Azerbaijan\",\"Gambia\",\"Georgia\",\"Zambia\",\"United Rep. of Tanzania\"],\"marker\":{\"colors\":[\"#636efa\",\"#EF553B\",\"#EF553B\",\"#00cc96\",\"#00cc96\",\"#636efa\",\"#EF553B\",\"#ab63fa\",\"#636efa\",\"#636efa\",\"#EF553B\",\"#00cc96\",\"#ab63fa\",\"#636efa\",\"#636efa\",\"#EF553B\",\"#00cc96\",\"#00cc96\",\"#EF553B\",\"#00cc96\",\"#ab63fa\",\"#636efa\",\"#636efa\",\"#ab63fa\",\"#ab63fa\",\"#ab63fa\",\"#ab63fa\",\"#FFA15A\",\"#00cc96\",\"#ab63fa\",\"#636efa\",\"#636efa\",\"#ab63fa\",\"#ab63fa\",\"#00cc96\",\"#00cc96\",\"#636efa\",\"#00cc96\",\"#00cc96\",\"#00cc96\",\"#ab63fa\",\"#636efa\",\"#ab63fa\",\"#EF553B\",\"#EF553B\",\"#FFA15A\",\"#00cc96\",\"#FFA15A\",\"#EF553B\",\"#00cc96\",\"#00cc96\",\"#00cc96\",\"#FFA15A\",\"#636efa\",\"#636efa\",\"#00cc96\",\"#ab63fa\",\"#EF553B\",\"#636efa\",\"#ab63fa\",\"#636efa\",\"#EF553B\",\"#00cc96\",\"#636efa\",\"#ab63fa\",\"#636efa\",\"#EF553B\",\"#00cc96\",\"#00cc96\",\"#FFA15A\",\"#00cc96\",\"#00cc96\",\"#EF553B\",\"#EF553B\",\"#FFA15A\",\"#636efa\",\"#ab63fa\",\"#636efa\",\"#FFA15A\",\"#FFA15A\",\"#00cc96\",\"#00cc96\",\"#636efa\",\"#EF553B\",\"#636efa\",\"#ab63fa\",\"#EF553B\",\"#ab63fa\",\"#00cc96\",\"#ab63fa\",\"#EF553B\",\"#00cc96\",\"#ab63fa\",\"#00cc96\",\"#EF553B\",\"#636efa\",\"#00cc96\",\"#ab63fa\",\"#636efa\",\"#00cc96\",\"#636efa\",\"#EF553B\",\"#ab63fa\",\"#EF553B\",\"#00cc96\",\"#EF553B\",\"#EF553B\",\"#00cc96\",\"#EF553B\",\"#ab63fa\",\"#ab63fa\",\"#636efa\",\"#636efa\",\"#636efa\",\"#636efa\",\"#ab63fa\",\"#EF553B\",\"#EF553B\",\"#00cc96\",\"#00cc96\",\"#EF553B\",\"#00cc96\",\"#EF553B\",\"#EF553B\",\"#00cc96\",\"#EF553B\",\"#EF553B\",\"#EF553B\",\"#EF553B\",\"#ab63fa\",\"#EF553B\",\"#00cc96\",\"#EF553B\",\"#ab63fa\",\"#ab63fa\",\"#00cc96\",\"#EF553B\",\"#636efa\",\"#ab63fa\",\"#ab63fa\",\"#ab63fa\",\"#ab63fa\",\"#ab63fa\",\"#00cc96\",\"#FFA15A\",\"#636efa\",\"#FFA15A\",\"#ab63fa\",\"#636efa\",\"#EF553B\",\"#EF553B\",\"#00cc96\",\"#EF553B\",\"#EF553B\",\"#00cc96\",\"#00cc96\",\"#636efa\",\"#00cc96\",\"#EF553B\",\"#636efa\",\"#ab63fa\",\"#636efa\",\"#00cc96\",\"#ab63fa\",\"#00cc96\",\"#EF553B\",\"#ab63fa\",\"#00cc96\",\"#00cc96\",\"#FFA15A\",\"#FFA15A\",\"#ab63fa\",\"#636efa\",\"#EF553B\",\"#FFA15A\",\"#ab63fa\",\"#636efa\",\"#636efa\",\"#636efa\",\"#636efa\",\"#ab63fa\",\"#FFA15A\",\"#636efa\",\"#00cc96\",\"#FFA15A\",\"#ab63fa\",\"#636efa\",\"#636efa\",\"#EF553B\",\"#EF553B\",\"#EF553B\",\"#EF553B\",\"#EF553B\",\"#00cc96\",\"#636efa\",\"#FFA15A\",\"#ab63fa\",\"#636efa\",\"#FFA15A\",\"#00cc96\",\"#ab63fa\",\"#ab63fa\",\"#EF553B\",\"#636efa\",\"#EF553B\",\"#EF553B\",\"#FFA15A\",\"#ab63fa\",\"#EF553B\",\"#ab63fa\",\"#636efa\",\"#ab63fa\",\"#FFA15A\",\"#EF553B\",\"#FFA15A\",\"#636efa\",\"#636efa\",\"#636efa\",\"#ab63fa\",\"#636efa\",\"#EF553B\",\"#636efa\",\"#EF553B\",\"#EF553B\"]},\"name\":\"\",\"parents\":[\"Asia/Eastern Asia\",\"Africa/Eastern Africa\",\"Africa\",\"Americas/Southern America\",\"Americas/Caribbean\",\"Asia/Western Asia\",\"Africa/Eastern Africa\",\"Europe/Eastern Europe\",\"Asia/Southern Asia\",\"Asia/South-Eastern Asia\",\"Africa/Southern Africa\",\"Americas/South America\",\"Europe/Southern Europe\",\"\",\"Asia\",\"Africa/Northern Africa\",\"Americas/Central America\",\"Americas/Caribbean\",\"Africa/Eastern Africa\",\"Americas/Caribbean\",\"Europe/Northern Europe\",\"Asia/South-Eastern Asia\",\"Asia/South-Eastern Asia\",\"Europe/Southern Europe\",\"Europe/Northern Europe\",\"Europe/Northern Europe\",\"Europe/Southern Europe\",\"Oceania/Polynesia\",\"Americas/South America\",\"Europe/Eastern Europe\",\"Asia/Western Asia\",\"Asia/Southern Asia\",\"Europe/Northern Europe\",\"Europe/Eastern Europe\",\"Americas/Central America\",\"Americas/Caribbean\",\"Asia/Central Asia\",\"Americas/Central America\",\"Americas/Caribbean\",\"Americas/Caribbean\",\"Europe/Eastern Europe\",\"Asia/Western Asia\",\"Europe/Southern Europe\",\"Africa/Southern Africa\",\"Africa/Northern Africa\",\"Oceania/Melanesia\",\"Americas/Caribbean\",\"Oceania\",\"Africa/Western Africa\",\"Americas/Caribbean\",\"Americas/Caribbean\",\"Americas/Caribbean\",\"Oceania\",\"Asia/Western Asia\",\"Asia/Western Asia\",\"Americas\",\"Europe\",\"Africa\",\"Asia\",\"Europe\",\"Asia/South-Eastern Asia\",\"Africa/Middle Africa\",\"\",\"Asia\",\"Europe/Southern Europe\",\"Asia\",\"Africa/Southern Africa\",\"Americas/Caribbean\",\"Americas/Northern America\",\"Oceania/Polynesia\",\"Americas/South America\",\"Americas\",\"Africa/Eastern Africa\",\"Africa/Eastern Africa\",\"Oceania/Polynesia\",\"Asia/South-Eastern Asia\",\"Europe/Eastern Europe\",\"Asia/Central Asia\",\"Oceania/Melanesia\",\"Oceania/Australia and New Zealand\",\"Americas/South America\",\"Americas/Central America\",\"Asia/Other\",\"Africa/Western Africa\",\"Asia/Western Asia\",\"Europe/Western Europe\",\"Africa/Western Africa\",\"Europe/Southern Europe\",\"Americas/Caribbean\",\"Europe/Eastern Europe\",\"\",\"Americas\",\"Europe\",\"Americas\",\"Africa\",\"Asia\",\"Americas/South America\",\"Europe/Northern Europe\",\"Asia/Western Asia\",\"Americas/Central America\",\"Asia/Central Asia\",\"Africa/Northern Africa\",\"Europe/Southern Europe\",\"Africa/Western Africa\",\"Americas/South America\",\"Africa/Northern Africa\",\"Africa/Western Africa\",\"Americas/Caribbean\",\"Africa/Eastern Africa\",\"Europe/Southern Europe\",\"\",\"Asia/Eastern Asia\",\"Asia/Southern Asia\",\"Asia/Eastern Asia\",\"Asia/Western Asia\",\"Europe/Western Europe\",\"Africa/Middle Africa\",\"Africa/Western Africa\",\"Americas/Northern America\",\"Americas/South America\",\"Africa/Middle Africa\",\"Americas/South America\",\"Africa/Western Africa\",\"Africa/Western Africa\",\"Americas/Central America\",\"Africa/Middle Africa\",\"Africa/Western Africa\",\"Africa/Western Africa\",\"Africa/Western Africa\",\"Europe/Eastern Europe\",\"Africa/Eastern Africa\",\"Americas/Caribbean\",\"Africa/Northern Africa\",\"Europe/Southern Europe\",\"Europe/Northern Europe\",\"Americas/Caribbean\",\"Africa/Western Africa\",\"Asia/Southern Asia\",\"Europe/Southern Europe\",\"Europe/Southern Europe\",\"Europe/Southern Europe\",\"Europe/Western Europe\",\"Europe/Northern Europe\",\"Americas/Central America\",\"Oceania/Australia and New Zealand\",\"Asia/South-Eastern Asia\",\"Oceania/Melanesia\",\"Europe/Central Europe\",\"Asia/South-Eastern Asia\",\"Africa/Middle Africa\",\"Africa/Eastern Africa\",\"Americas/Northern America\",\"Africa/Eastern Africa\",\"Africa/Eastern Africa\",\"Americas/Caribbean\",\"Americas/South America\",\"Asia/Western Asia\",\"Americas/Caribbean\",\"Africa\",\"Asia\",\"Europe/Western Europe\",\"Asia/Western Asia\",\"Americas/Central America\",\"Europe\",\"Americas/South America\",\"Africa\",\"Europe\",\"Americas/South America\",\"Americas\",\"Oceania\",\"Oceania\",\"Europe/Northern Europe\",\"Asia/Western Asia\",\"Africa/Eastern Africa\",\"Oceania/Polynesia\",\"Europe/Eastern Europe\",\"Asia/Western Asia\",\"Asia/South-Eastern Asia\",\"Asia/South-Western Asia\",\"Asia/South-Eastern Asia\",\"Europe/Northern Europe\",\"Oceania/Micronesia\",\"Asia/Southern Asia\",\"Americas/Northern America\",\"Oceania/Micronesia\",\"Europe/Northern Europe\",\"Asia/Central Asia\",\"Asia/South-Eastern Asia\",\"Africa/Eastern Africa\",\"Africa/Southern Africa\",\"Africa/Eastern Africa\",\"Africa/Eastern Africa\",\"Africa/Northern Africa\",\"Americas/Caribbean\",\"Asia/Western Asia\",\"Oceania/Polynesia\",\"Europe/Eastern Europe\",\"Asia/Western Asia\",\"Oceania/Micronesia\",\"Americas/Central America\",\"Europe/Western Europe\",\"Europe/Northern Europe\",\"Africa/Northern Africa\",\"Asia/Southern Asia\",\"Africa/Middle Africa\",\"Africa/Southern Africa\",\"\",\"Europe/Southern Europe\",\"Africa/Western Africa\",\"Europe/Western Europe\",\"Asia/South-Eastern Asia\",\"Europe/Southern Europe\",\"Oceania/Australia and New Zealand\",\"Africa/Western Africa\",\"Oceania/Melanesia\",\"Asia/Eastern Asia\",\"Asia\",\"Asia/Eastern Asia\",\"Europe/Western Europe\",\"Asia/Western Asia\",\"Africa/Western Africa\",\"Asia/Western Asia\",\"Africa/Eastern Africa\",\"Africa/Eastern Africa\"],\"root\":{\"color\":\"lightgrey\"},\"type\":\"treemap\",\"values\":[843745141.9132147,4065.77,171637734.63389435,85655357.0,475487.60000000003,578198.0,143275873.4113293,25341127.0,37728.0,4156.96,179551.29708629372,194132.0,1950397590.0,22495620434.12593,289464017.82222223,747049.0325840103,16821370.900000002,963620809.3128998,238.0,68649.0,147915839.97259864,878.0,357844600.5955857,3582664.0,936446.213150658,38041043.5,6701444.62,997.0,353577210.635,544435831.7551732,33679.0,267111002.0,50590.0,27877458.611270297,16901511.17,17439582.0,108828836.96000001,14605994.0,15303572.0,12215.0,191088237.76222786,1454134989.0,2111681231.2599998,642086.6135420868,10661.0,16249321733.0,3869971.0,1800.5,268228.0,169.0,24875.0,19617.0,197081.07,140059.25,164410.0,5188545452.403956,4342622256.348093,34709452903.217896,1497538775.4071681,36785641218.6551,61256.6,84803.53,20279047573.652714,62641146.0,4610427.81,108846506.96000001,434984.0,17251927.900000002,11957042250.0,35.0,1556283787.0,570583299.9300001,1010.0,290179367.0,10.0,81.0,378875242.44,8640.0,163843.0,23420500.728351057,212207366.57999998,35490341.239999995,113401.0,272837.0731477895,66289.0,16953655241.807686,2535892199.5417604,25072.0,25498628.0,6243715.0,39002869135.86305,85655357.0,6560223511.2371435,13390655106.72282,3512097385.4300003,2376453834.6632147,652276.4,3892796540.0,354302.4,1457.0,1105.0,87894026.0,1252.06,218885479.10619932,2832.0,45.34131036105829,142158434.54,924.0600000000001,29558.0,3152451.0,50557121151.34937,3921.8,197.0,1428403109.0,13140651.704929752,3616679950.345236,6660119.0,47633.0,430.29714285714283,990495.46,1456096.0,3727.76,90.0,212932091.0,13274058.0,3442843179.0,772608.0,594.0,8626001581.82,125183357.0,427938.0,11796.0,76435908.0,4437.73,98.0,7598.68,9988.0,4477.0,2457.0,113158871.0,81973970.49136208,43998.16267540188,36228135.397168115,76636963.0,11254001.545669496,7486028774.9,8801164.0,171719699.71604797,15134337.877879413,5289344.0,24049.0,1433612006.4256754,195.0,30843.0,887.0,14900515.700000001,24106906.4,1645.0430570617093,26131567.556370027,18160562752.27332,6043302848.37,177555.0,1815970.6199999999,2696914465.392982,3042986559.77,583549545.0248989,171719699.71604797,6746549.0989573095,1043608357.595957,82547134.25931731,16258440479.0,2229484129.1,92323.0,5859.0,13665.0,22294789.014310356,746194.3522379205,7812001842.609002,62641146.0,80235745.4,207719932.0,766.5,183520.0,420.0,51.0,5767854.0,7925.0,4555.0,1232742.0,247543.5204268792,3937.0,35712.0,6267354.26,4.0,68656.34999999999,182374.07,1375574706.8100002,3518623.0,983.0,395035634.0,940765254.192197,1282903.0542259337,282691.0,22127093.82222222,55763843.9,24627402.12531477,16341186494.829317,24307820.0,80297.0,8806938488.724491,2409246523.33085,43022567.37673086,47872631.98529675,22971526504.13678,153739.0,104272691.95,113401.0,28970.0,424255437.0528293,97139.75,604338.0,118799.2,224524.0,148073633.8435695]}],                        {\"legend\":{\"tracegroupgap\":0},\"margin\":{\"b\":25,\"l\":25,\"r\":25,\"t\":50},\"template\":{\"data\":{\"bar\":[{\"error_x\":{\"color\":\"#2a3f5f\"},\"error_y\":{\"color\":\"#2a3f5f\"},\"marker\":{\"line\":{\"color\":\"#E5ECF6\",\"width\":0.5},\"pattern\":{\"fillmode\":\"overlay\",\"size\":10,\"solidity\":0.2}},\"type\":\"bar\"}],\"barpolar\":[{\"marker\":{\"line\":{\"color\":\"#E5ECF6\",\"width\":0.5},\"pattern\":{\"fillmode\":\"overlay\",\"size\":10,\"solidity\":0.2}},\"type\":\"barpolar\"}],\"carpet\":[{\"aaxis\":{\"endlinecolor\":\"#2a3f5f\",\"gridcolor\":\"white\",\"linecolor\":\"white\",\"minorgridcolor\":\"white\",\"startlinecolor\":\"#2a3f5f\"},\"baxis\":{\"endlinecolor\":\"#2a3f5f\",\"gridcolor\":\"white\",\"linecolor\":\"white\",\"minorgridcolor\":\"white\",\"startlinecolor\":\"#2a3f5f\"},\"type\":\"carpet\"}],\"choropleth\":[{\"colorbar\":{\"outlinewidth\":0,\"ticks\":\"\"},\"type\":\"choropleth\"}],\"contour\":[{\"colorbar\":{\"outlinewidth\":0,\"ticks\":\"\"},\"colorscale\":[[0.0,\"#0d0887\"],[0.1111111111111111,\"#46039f\"],[0.2222222222222222,\"#7201a8\"],[0.3333333333333333,\"#9c179e\"],[0.4444444444444444,\"#bd3786\"],[0.5555555555555556,\"#d8576b\"],[0.6666666666666666,\"#ed7953\"],[0.7777777777777778,\"#fb9f3a\"],[0.8888888888888888,\"#fdca26\"],[1.0,\"#f0f921\"]],\"type\":\"contour\"}],\"contourcarpet\":[{\"colorbar\":{\"outlinewidth\":0,\"ticks\":\"\"},\"type\":\"contourcarpet\"}],\"heatmap\":[{\"colorbar\":{\"outlinewidth\":0,\"ticks\":\"\"},\"colorscale\":[[0.0,\"#0d0887\"],[0.1111111111111111,\"#46039f\"],[0.2222222222222222,\"#7201a8\"],[0.3333333333333333,\"#9c179e\"],[0.4444444444444444,\"#bd3786\"],[0.5555555555555556,\"#d8576b\"],[0.6666666666666666,\"#ed7953\"],[0.7777777777777778,\"#fb9f3a\"],[0.8888888888888888,\"#fdca26\"],[1.0,\"#f0f921\"]],\"type\":\"heatmap\"}],\"heatmapgl\":[{\"colorbar\":{\"outlinewidth\":0,\"ticks\":\"\"},\"colorscale\":[[0.0,\"#0d0887\"],[0.1111111111111111,\"#46039f\"],[0.2222222222222222,\"#7201a8\"],[0.3333333333333333,\"#9c179e\"],[0.4444444444444444,\"#bd3786\"],[0.5555555555555556,\"#d8576b\"],[0.6666666666666666,\"#ed7953\"],[0.7777777777777778,\"#fb9f3a\"],[0.8888888888888888,\"#fdca26\"],[1.0,\"#f0f921\"]],\"type\":\"heatmapgl\"}],\"histogram\":[{\"marker\":{\"pattern\":{\"fillmode\":\"overlay\",\"size\":10,\"solidity\":0.2}},\"type\":\"histogram\"}],\"histogram2d\":[{\"colorbar\":{\"outlinewidth\":0,\"ticks\":\"\"},\"colorscale\":[[0.0,\"#0d0887\"],[0.1111111111111111,\"#46039f\"],[0.2222222222222222,\"#7201a8\"],[0.3333333333333333,\"#9c179e\"],[0.4444444444444444,\"#bd3786\"],[0.5555555555555556,\"#d8576b\"],[0.6666666666666666,\"#ed7953\"],[0.7777777777777778,\"#fb9f3a\"],[0.8888888888888888,\"#fdca26\"],[1.0,\"#f0f921\"]],\"type\":\"histogram2d\"}],\"histogram2dcontour\":[{\"colorbar\":{\"outlinewidth\":0,\"ticks\":\"\"},\"colorscale\":[[0.0,\"#0d0887\"],[0.1111111111111111,\"#46039f\"],[0.2222222222222222,\"#7201a8\"],[0.3333333333333333,\"#9c179e\"],[0.4444444444444444,\"#bd3786\"],[0.5555555555555556,\"#d8576b\"],[0.6666666666666666,\"#ed7953\"],[0.7777777777777778,\"#fb9f3a\"],[0.8888888888888888,\"#fdca26\"],[1.0,\"#f0f921\"]],\"type\":\"histogram2dcontour\"}],\"mesh3d\":[{\"colorbar\":{\"outlinewidth\":0,\"ticks\":\"\"},\"type\":\"mesh3d\"}],\"parcoords\":[{\"line\":{\"colorbar\":{\"outlinewidth\":0,\"ticks\":\"\"}},\"type\":\"parcoords\"}],\"pie\":[{\"automargin\":true,\"type\":\"pie\"}],\"scatter\":[{\"marker\":{\"colorbar\":{\"outlinewidth\":0,\"ticks\":\"\"}},\"type\":\"scatter\"}],\"scatter3d\":[{\"line\":{\"colorbar\":{\"outlinewidth\":0,\"ticks\":\"\"}},\"marker\":{\"colorbar\":{\"outlinewidth\":0,\"ticks\":\"\"}},\"type\":\"scatter3d\"}],\"scattercarpet\":[{\"marker\":{\"colorbar\":{\"outlinewidth\":0,\"ticks\":\"\"}},\"type\":\"scattercarpet\"}],\"scattergeo\":[{\"marker\":{\"colorbar\":{\"outlinewidth\":0,\"ticks\":\"\"}},\"type\":\"scattergeo\"}],\"scattergl\":[{\"marker\":{\"colorbar\":{\"outlinewidth\":0,\"ticks\":\"\"}},\"type\":\"scattergl\"}],\"scattermapbox\":[{\"marker\":{\"colorbar\":{\"outlinewidth\":0,\"ticks\":\"\"}},\"type\":\"scattermapbox\"}],\"scatterpolar\":[{\"marker\":{\"colorbar\":{\"outlinewidth\":0,\"ticks\":\"\"}},\"type\":\"scatterpolar\"}],\"scatterpolargl\":[{\"marker\":{\"colorbar\":{\"outlinewidth\":0,\"ticks\":\"\"}},\"type\":\"scatterpolargl\"}],\"scatterternary\":[{\"marker\":{\"colorbar\":{\"outlinewidth\":0,\"ticks\":\"\"}},\"type\":\"scatterternary\"}],\"surface\":[{\"colorbar\":{\"outlinewidth\":0,\"ticks\":\"\"},\"colorscale\":[[0.0,\"#0d0887\"],[0.1111111111111111,\"#46039f\"],[0.2222222222222222,\"#7201a8\"],[0.3333333333333333,\"#9c179e\"],[0.4444444444444444,\"#bd3786\"],[0.5555555555555556,\"#d8576b\"],[0.6666666666666666,\"#ed7953\"],[0.7777777777777778,\"#fb9f3a\"],[0.8888888888888888,\"#fdca26\"],[1.0,\"#f0f921\"]],\"type\":\"surface\"}],\"table\":[{\"cells\":{\"fill\":{\"color\":\"#EBF0F8\"},\"line\":{\"color\":\"white\"}},\"header\":{\"fill\":{\"color\":\"#C8D4E3\"},\"line\":{\"color\":\"white\"}},\"type\":\"table\"}]},\"layout\":{\"annotationdefaults\":{\"arrowcolor\":\"#2a3f5f\",\"arrowhead\":0,\"arrowwidth\":1},\"autotypenumbers\":\"strict\",\"coloraxis\":{\"colorbar\":{\"outlinewidth\":0,\"ticks\":\"\"}},\"colorscale\":{\"diverging\":[[0,\"#8e0152\"],[0.1,\"#c51b7d\"],[0.2,\"#de77ae\"],[0.3,\"#f1b6da\"],[0.4,\"#fde0ef\"],[0.5,\"#f7f7f7\"],[0.6,\"#e6f5d0\"],[0.7,\"#b8e186\"],[0.8,\"#7fbc41\"],[0.9,\"#4d9221\"],[1,\"#276419\"]],\"sequential\":[[0.0,\"#0d0887\"],[0.1111111111111111,\"#46039f\"],[0.2222222222222222,\"#7201a8\"],[0.3333333333333333,\"#9c179e\"],[0.4444444444444444,\"#bd3786\"],[0.5555555555555556,\"#d8576b\"],[0.6666666666666666,\"#ed7953\"],[0.7777777777777778,\"#fb9f3a\"],[0.8888888888888888,\"#fdca26\"],[1.0,\"#f0f921\"]],\"sequentialminus\":[[0.0,\"#0d0887\"],[0.1111111111111111,\"#46039f\"],[0.2222222222222222,\"#7201a8\"],[0.3333333333333333,\"#9c179e\"],[0.4444444444444444,\"#bd3786\"],[0.5555555555555556,\"#d8576b\"],[0.6666666666666666,\"#ed7953\"],[0.7777777777777778,\"#fb9f3a\"],[0.8888888888888888,\"#fdca26\"],[1.0,\"#f0f921\"]]},\"colorway\":[\"#636efa\",\"#EF553B\",\"#00cc96\",\"#ab63fa\",\"#FFA15A\",\"#19d3f3\",\"#FF6692\",\"#B6E880\",\"#FF97FF\",\"#FECB52\"],\"font\":{\"color\":\"#2a3f5f\"},\"geo\":{\"bgcolor\":\"white\",\"lakecolor\":\"white\",\"landcolor\":\"#E5ECF6\",\"showlakes\":true,\"showland\":true,\"subunitcolor\":\"white\"},\"hoverlabel\":{\"align\":\"left\"},\"hovermode\":\"closest\",\"mapbox\":{\"style\":\"light\"},\"paper_bgcolor\":\"white\",\"plot_bgcolor\":\"#E5ECF6\",\"polar\":{\"angularaxis\":{\"gridcolor\":\"white\",\"linecolor\":\"white\",\"ticks\":\"\"},\"bgcolor\":\"#E5ECF6\",\"radialaxis\":{\"gridcolor\":\"white\",\"linecolor\":\"white\",\"ticks\":\"\"}},\"scene\":{\"xaxis\":{\"backgroundcolor\":\"#E5ECF6\",\"gridcolor\":\"white\",\"gridwidth\":2,\"linecolor\":\"white\",\"showbackground\":true,\"ticks\":\"\",\"zerolinecolor\":\"white\"},\"yaxis\":{\"backgroundcolor\":\"#E5ECF6\",\"gridcolor\":\"white\",\"gridwidth\":2,\"linecolor\":\"white\",\"showbackground\":true,\"ticks\":\"\",\"zerolinecolor\":\"white\"},\"zaxis\":{\"backgroundcolor\":\"#E5ECF6\",\"gridcolor\":\"white\",\"gridwidth\":2,\"linecolor\":\"white\",\"showbackground\":true,\"ticks\":\"\",\"zerolinecolor\":\"white\"}},\"shapedefaults\":{\"line\":{\"color\":\"#2a3f5f\"}},\"ternary\":{\"aaxis\":{\"gridcolor\":\"white\",\"linecolor\":\"white\",\"ticks\":\"\"},\"baxis\":{\"gridcolor\":\"white\",\"linecolor\":\"white\",\"ticks\":\"\"},\"bgcolor\":\"#E5ECF6\",\"caxis\":{\"gridcolor\":\"white\",\"linecolor\":\"white\",\"ticks\":\"\"}},\"title\":{\"x\":0.05},\"xaxis\":{\"automargin\":true,\"gridcolor\":\"white\",\"linecolor\":\"white\",\"ticks\":\"\",\"title\":{\"standoff\":15},\"zerolinecolor\":\"white\",\"zerolinewidth\":2},\"yaxis\":{\"automargin\":true,\"gridcolor\":\"white\",\"linecolor\":\"white\",\"ticks\":\"\",\"title\":{\"standoff\":15},\"zerolinecolor\":\"white\",\"zerolinewidth\":2}}}},                        {\"responsive\": true}                    ).then(function(){\n",
       "                            \n",
       "var gd = document.getElementById('e21b4845-0d4f-4e41-b383-aa18d7bd31c8');\n",
       "var x = new MutationObserver(function (mutations, observer) {{\n",
       "        var display = window.getComputedStyle(gd).display;\n",
       "        if (!display || display === 'none') {{\n",
       "            console.log([gd, 'removed!']);\n",
       "            Plotly.purge(gd);\n",
       "            observer.disconnect();\n",
       "        }}\n",
       "}});\n",
       "\n",
       "// Listen for the removal of the full notebook cells\n",
       "var notebookContainer = gd.closest('#notebook-container');\n",
       "if (notebookContainer) {{\n",
       "    x.observe(notebookContainer, {childList: true});\n",
       "}}\n",
       "\n",
       "// Listen for the clearing of the current output cell\n",
       "var outputEl = gd.closest('.output');\n",
       "if (outputEl) {{\n",
       "    x.observe(outputEl, {childList: true});\n",
       "}}\n",
       "\n",
       "                        })                };                });            </script>        </div>"
      ]
     },
     "metadata": {},
     "output_type": "display_data"
    }
   ],
   "source": [
    "fig = px.treemap(flows_df, \n",
    "    path=['continent', 'region', 'Country or Area'],values='Quantity', color='continent', color_continuous_scale='sunset'\n",
    "\n",
    ")\n",
    "\n",
    "fig.update_traces(root_color=\"lightgrey\")\n",
    "\n",
    "fig.update_layout(margin = dict(t=50, l=25, r=25, b=25)) #,paper_bgcolor='rgb(233,233,233)')\n",
    "fig.show()\n"
   ]
  },
  {
   "cell_type": "code",
   "execution_count": null,
   "metadata": {},
   "outputs": [],
   "source": []
  },
  {
   "cell_type": "code",
   "execution_count": null,
   "metadata": {},
   "outputs": [],
   "source": []
  },
  {
   "cell_type": "code",
   "execution_count": null,
   "metadata": {},
   "outputs": [],
   "source": []
  }
 ],
 "metadata": {
  "interpreter": {
   "hash": "0a2e937febbe5477c28200cac54be2d2da4f3456b8c1b7f6ca2a37fc549e7fbf"
  },
  "kernelspec": {
   "display_name": "Python 3",
   "language": "python",
   "name": "python3"
  },
  "language_info": {
   "codemirror_mode": {
    "name": "ipython",
    "version": 3
   },
   "file_extension": ".py",
   "mimetype": "text/x-python",
   "name": "python",
   "nbconvert_exporter": "python",
   "pygments_lexer": "ipython3",
   "version": "3.8.5"
  }
 },
 "nbformat": 4,
 "nbformat_minor": 2
}
