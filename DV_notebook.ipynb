{
 "cells": [
  {
   "cell_type": "code",
   "execution_count": 64,
   "metadata": {},
   "outputs": [],
   "source": [
    "import pandas as pd\n",
    "import plotly \n",
    "import numpy as np\n",
    "import plotly.figure_factory as ff\n",
    "import scipy\n",
    "import plotly.graph_objects as go\n",
    "import dash\n",
    "from dash import Dash, dcc, html, Input, Output\n",
    "import plotly.express as px\n",
    "import matplotlib.pyplot as plt\n",
    "import plotly.graph_objs as go\n",
    "from plotly.graph_objs import *\n",
    "from plotly.offline import plot\n",
    "import random\n",
    "import dash_bootstrap_components as dbc\n",
    "import urllib.request, json \n",
    "\n",
    "#pip install scipy\n",
    "#!pip install Dash"
   ]
  },
  {
   "cell_type": "code",
   "execution_count": 65,
   "metadata": {},
   "outputs": [],
   "source": [
    "# Import data\n",
    "\n",
    "data = pd.read_csv('chocolate.csv')\n",
    "continent = pd.read_csv('countryContinent.csv',encoding = \"ISO-8859-1\")\n",
    "imp_exp=pd.read_csv('UNdata_Export_20220301_151116452.csv')\n"
   ]
  },
  {
   "cell_type": "code",
   "execution_count": 66,
   "metadata": {},
   "outputs": [],
   "source": [
    "imp_exp=imp_exp[imp_exp['Commodity']=='Cocoa beans, whole or broken, raw or roasted'][['Country or Area','Year','Commodity','Flow','Quantity','Trade (USD)']]"
   ]
  },
  {
   "cell_type": "code",
   "execution_count": 67,
   "metadata": {},
   "outputs": [],
   "source": [
    "# Prepare the data for the merge\n",
    "data[\"company_location\"] = data[\"company_location\"].str.title()\n",
    "data[\"country_of_bean_origin\"] = data[\"country_of_bean_origin\"].str.title()\n",
    "data[\"company_location\"].replace({'U.S.A': 'United States of America','U.K.':'United Kingdom of Great Britain and Northern Ireland','Dominican republic':'Dominican Republic','El salvador':'El Salvador','Vietnam':'Viet Nam','Venezuela':'Venezuela (Bolivarian Republic of)','South Korea':'Korea (Republic of)','New Zealand':'New Zealand','Russia':'Russian Federation','Taiwan':'Taiwan, Province of China','Sao Tome':'Sao Tome and Principe','Sao Tome & Principe':'Sao Tome and Principe','St. Lucia':'Saint Lucia','U.A.E.':'United Arab Emirates','St.Vincent-Grenadines':'Saint Vincent and the Grenadines','Bolivia':'Bolivia (Plurinational State of)'}, inplace=True)\n",
    "data[\"country_of_bean_origin\"].replace({'U.S.A': 'United States of America','U.K.':'United Kingdom of Great Britain and Northern Ireland','Dominican republic':'Dominican Republic','El salvador':'El Salvador','Vietnam':'Viet Nam','Venezuela':'Venezuela (Bolivarian Republic of)','South Korea':'Korea (Republic of)','New Zealand':'New Zealand','Russia':'Russian Federation','Taiwan':'Taiwan, Province of China','Sao Tome':'Sao Tome and Principe','Sao Tome & Principe':'Sao Tome and Principe','St. Lucia':'Saint Lucia','U.A.E.':'United Arab Emirates','St.Vincent-Grenadines':'Saint Vincent and the Grenadines','Bolivia':'Bolivia (Plurinational State of)','Burma':'Myanmar','Tanzania':'Tanzania, United Republic of','Trinidad':'Trinidad and Tobago','Dr Congo':'Congo (Democratic Republic of the)'}, inplace=True)"
   ]
  },
  {
   "cell_type": "code",
   "execution_count": 68,
   "metadata": {},
   "outputs": [],
   "source": [
    "# removing Unnamed:0\n",
    "data=data.iloc[:,1:]"
   ]
  },
  {
   "cell_type": "code",
   "execution_count": 69,
   "metadata": {},
   "outputs": [],
   "source": [
    "teste=data.merge(continent[['country','continent','sub_region','code_2']].rename(columns={'continent':'company_continent','sub_region':'company_region','code_2':'company_code_2'}), left_on='company_location', right_on='country', how='left')"
   ]
  },
  {
   "cell_type": "code",
   "execution_count": 70,
   "metadata": {},
   "outputs": [
    {
     "data": {
      "text/plain": [
       "<bound method IndexOpsMixin.value_counts of 193        Wales\n",
       "486     Scotland\n",
       "487     Scotland\n",
       "488     Scotland\n",
       "489     Scotland\n",
       "490     Scotland\n",
       "491     Scotland\n",
       "1083    Scotland\n",
       "1084    Scotland\n",
       "1513    Scotland\n",
       "1514    Scotland\n",
       "Name: company_location, dtype: object>"
      ]
     },
     "execution_count": 70,
     "metadata": {},
     "output_type": "execute_result"
    }
   ],
   "source": [
    "teste[teste['company_continent'].isna()]['company_location'].value_counts"
   ]
  },
  {
   "cell_type": "code",
   "execution_count": 71,
   "metadata": {},
   "outputs": [],
   "source": [
    "teste=teste[teste['company_location']!= 'Scotland']"
   ]
  },
  {
   "cell_type": "code",
   "execution_count": 72,
   "metadata": {},
   "outputs": [],
   "source": [
    "teste=teste.merge(continent[['country','continent','sub_region','code_2']].rename(columns={'continent':'bean_continent','sub_region':'bean_region','code_2':'bean_code_2'}), left_on='country_of_bean_origin', right_on='country', how='left')"
   ]
  },
  {
   "cell_type": "code",
   "execution_count": 73,
   "metadata": {},
   "outputs": [
    {
     "data": {
      "text/plain": [
       "<bound method IndexOpsMixin.value_counts of 88      Blend\n",
       "92      Blend\n",
       "96      Blend\n",
       "100     Blend\n",
       "177     Blend\n",
       "        ...  \n",
       "2188    Blend\n",
       "2201    Blend\n",
       "2203    Blend\n",
       "2209    Blend\n",
       "2213    Blend\n",
       "Name: country_of_bean_origin, Length: 177, dtype: object>"
      ]
     },
     "execution_count": 73,
     "metadata": {},
     "output_type": "execute_result"
    }
   ],
   "source": [
    "teste[teste['bean_continent'].isna()]['country_of_bean_origin'].value_counts"
   ]
  },
  {
   "cell_type": "code",
   "execution_count": 74,
   "metadata": {},
   "outputs": [],
   "source": [
    "teste=teste[teste['country_of_bean_origin']!= 'Blend']"
   ]
  },
  {
   "cell_type": "code",
   "execution_count": 75,
   "metadata": {},
   "outputs": [],
   "source": [
    "data=teste"
   ]
  },
  {
   "cell_type": "code",
   "execution_count": 76,
   "metadata": {},
   "outputs": [],
   "source": [
    "# teste1=data.merge(coord.iloc[:,:-1], left_on='bean_code_2', right_on='country', how='left').rename(columns={'latitude':'bean_lat','longitude':'bean_lon'})\n",
    "# teste2=data.merge(coord.iloc[:,:-1], left_on='company_code_2', right_on='country', how='left').rename(columns={'latitude':'country_lat','longitude':'country_lon'})"
   ]
  },
  {
   "cell_type": "code",
   "execution_count": 77,
   "metadata": {},
   "outputs": [],
   "source": [
    "data1=data.groupby(by=['company']).mean()\n"
   ]
  },
  {
   "cell_type": "code",
   "execution_count": 78,
   "metadata": {},
   "outputs": [],
   "source": [
    "imp_exp_regions = imp_exp.merge(continent[['country','continent','sub_region','code_2']].rename(columns={'sub_region':'region'}), left_on = 'Country or Area', right_on= 'country', how= 'left')"
   ]
  },
  {
   "cell_type": "markdown",
   "metadata": {},
   "source": [
    "### TREEMAP\n"
   ]
  },
  {
   "cell_type": "code",
   "execution_count": 79,
   "metadata": {},
   "outputs": [
    {
     "data": {
      "text/html": [
       "<div>\n",
       "<style scoped>\n",
       "    .dataframe tbody tr th:only-of-type {\n",
       "        vertical-align: middle;\n",
       "    }\n",
       "\n",
       "    .dataframe tbody tr th {\n",
       "        vertical-align: top;\n",
       "    }\n",
       "\n",
       "    .dataframe thead th {\n",
       "        text-align: right;\n",
       "    }\n",
       "</style>\n",
       "<table border=\"1\" class=\"dataframe\">\n",
       "  <thead>\n",
       "    <tr style=\"text-align: right;\">\n",
       "      <th></th>\n",
       "      <th>Country or Area</th>\n",
       "      <th>Year</th>\n",
       "      <th>Commodity</th>\n",
       "      <th>Flow</th>\n",
       "      <th>Quantity</th>\n",
       "      <th>Trade (USD)</th>\n",
       "      <th>country</th>\n",
       "      <th>continent</th>\n",
       "      <th>region</th>\n",
       "      <th>code_2</th>\n",
       "    </tr>\n",
       "  </thead>\n",
       "  <tbody>\n",
       "  </tbody>\n",
       "</table>\n",
       "</div>"
      ],
      "text/plain": [
       "Empty DataFrame\n",
       "Columns: [Country or Area, Year, Commodity, Flow, Quantity, Trade (USD), country, continent, region, code_2]\n",
       "Index: []"
      ]
     },
     "execution_count": 79,
     "metadata": {},
     "output_type": "execute_result"
    }
   ],
   "source": [
    "imp_exp_regions.loc[(imp_exp_regions['continent']=='nan') & (imp_exp_regions['Country or Area']!='nan')]"
   ]
  },
  {
   "cell_type": "code",
   "execution_count": 80,
   "metadata": {},
   "outputs": [
    {
     "data": {
      "text/plain": [
       "648"
      ]
     },
     "execution_count": 80,
     "metadata": {},
     "output_type": "execute_result"
    }
   ],
   "source": [
    "imp_exp_regions['country'].isna().sum()"
   ]
  },
  {
   "cell_type": "code",
   "execution_count": 81,
   "metadata": {},
   "outputs": [
    {
     "data": {
      "text/plain": [
       "648"
      ]
     },
     "execution_count": 81,
     "metadata": {},
     "output_type": "execute_result"
    }
   ],
   "source": [
    "imp_exp_regions['continent'].isna().sum()\n",
    "#imp_exp_regions[imp_exp_regions['Quantity'].isna()==True]"
   ]
  },
  {
   "cell_type": "code",
   "execution_count": 82,
   "metadata": {},
   "outputs": [],
   "source": [
    "imp_exp_regions= imp_exp_regions[~(imp_exp_regions['Flow'] == 'Re-Export')]\n",
    "imp_exp_regions= imp_exp_regions[~(imp_exp_regions['Flow'] == 'Re-Import')]"
   ]
  },
  {
   "cell_type": "code",
   "execution_count": 83,
   "metadata": {},
   "outputs": [
    {
     "data": {
      "text/plain": [
       "0         130\n",
       "1        4524\n",
       "2          45\n",
       "3         262\n",
       "4        1606\n",
       "        ...  \n",
       "5053       79\n",
       "5054      221\n",
       "5055      934\n",
       "5056    14942\n",
       "5057        9\n",
       "Name: Quantity, Length: 4898, dtype: int32"
      ]
     },
     "execution_count": 83,
     "metadata": {},
     "output_type": "execute_result"
    }
   ],
   "source": [
    "imp_exp_regions[\"Quantity\"]= imp_exp_regions[\"Quantity\"].fillna(imp_exp_regions.groupby('Country or Area')['Quantity'].transform('mean'))\n",
    "\n",
    "imp_exp_regions['Quantity'].astype(int)"
   ]
  },
  {
   "cell_type": "code",
   "execution_count": 84,
   "metadata": {},
   "outputs": [],
   "source": [
    "imp_exp_regions=imp_exp_regions[imp_exp_regions['Country or Area'].isnull()!= True] #removing nulls from Country or Area Column\n"
   ]
  },
  {
   "cell_type": "code",
   "execution_count": 85,
   "metadata": {},
   "outputs": [],
   "source": [
    "imp_exp_regions.loc[imp_exp_regions['Country or Area'] == 'Wallis and Futuna Isds', 'continent'] = 'Oceania'\n",
    "imp_exp_regions.loc[imp_exp_regions['Country or Area'] == 'Wallis and Futuna Isds','region'] = 'Polynesia'\n",
    "imp_exp_regions.loc[imp_exp_regions['Country or Area'] == 'Venezuela', 'continent'] = 'Americas'\n",
    "imp_exp_regions.loc[imp_exp_regions['Country or Area'] == 'Venezuela','region'] = 'Southern America'\n",
    "imp_exp_regions.loc[imp_exp_regions['Country or Area'] == 'United Rep. of Tanzania', 'continent'] = 'Africa'\n",
    "imp_exp_regions.loc[imp_exp_regions['Country or Area'] == 'United Rep. of Tanzania','region'] = 'Eastern Africa'\n",
    "imp_exp_regions.loc[imp_exp_regions['Country or Area'] == 'United Rep. of Tanzania','country'] = 'Tanzania'\n",
    "imp_exp_regions.loc[imp_exp_regions['Country or Area'] == 'United Kingdom', 'continent'] = 'Europe'\n",
    "imp_exp_regions.loc[imp_exp_regions['Country or Area'] == 'United Kingdom','region'] = 'Northern Europe'\n",
    "imp_exp_regions.loc[imp_exp_regions['Country or Area'] == 'USA', 'continent'] = 'Americas'\n",
    "imp_exp_regions.loc[imp_exp_regions['Country or Area'] == 'USA','region'] = 'Northern America'\n",
    "imp_exp_regions.loc[imp_exp_regions['Country or Area'] == 'USA','country'] = 'United States of America'\n",
    "imp_exp_regions.loc[imp_exp_regions['Country or Area'] == 'Turks and Caicos Isds', 'continent'] = 'Americas'\n",
    "imp_exp_regions.loc[imp_exp_regions['Country or Area'] == 'Turks and Caicos Isds','region'] = 'Central America'\n",
    "imp_exp_regions.loc[imp_exp_regions['Country or Area'] == 'TFYR of Macedonia', 'continent'] = 'Europe'\n",
    "imp_exp_regions.loc[imp_exp_regions['Country or Area'] == 'TFYR of Macedonia','region'] = 'Southern Europe'\n",
    "imp_exp_regions.loc[imp_exp_regions['Country or Area'] == 'TFYR of Macedonia','country'] = 'Macedonia'\n",
    "imp_exp_regions.loc[imp_exp_regions['Country or Area'] == 'Syria', 'continent'] = 'Asia'\n",
    "imp_exp_regions.loc[imp_exp_regions['Country or Area'] == 'Syria','region'] = 'Western Asia'\n",
    "imp_exp_regions.loc[imp_exp_regions['Country or Area'] == 'Solomon Isds', 'continent'] = 'Oceania'\n",
    "imp_exp_regions.loc[imp_exp_regions['Country or Area'] == 'Solomon Isds','region'] = 'Australia and New Zealand'\n",
    "imp_exp_regions.loc[imp_exp_regions['Country or Area'] == 'Serbia and Montenegro', 'continent'] = 'Europe'\n",
    "imp_exp_regions.loc[imp_exp_regions['Country or Area'] == 'Serbia and Montenegro','region'] = 'Southern Europe'\n",
    "imp_exp_regions.loc[imp_exp_regions['Country or Area'] == 'Rep. of Moldova', 'continent'] = 'Europe'\n",
    "imp_exp_regions.loc[imp_exp_regions['Country or Area'] == 'Rep. of Moldova','region'] = 'Eastern Europe'\n",
    "imp_exp_regions.loc[imp_exp_regions['Country or Area'] == 'Rep. of Moldova','country'] = 'Moldova'\n",
    "imp_exp_regions.loc[imp_exp_regions['Country or Area'] == 'Rep. of Korea', 'continent'] = 'Asia'\n",
    "imp_exp_regions.loc[imp_exp_regions['Country or Area'] == 'Rep. of Korea','region'] = 'Eastern Asia'\n",
    "imp_exp_regions.loc[imp_exp_regions['Country or Area'] == 'Rep. of Korea','country'] = 'South Korea'\n",
    "imp_exp_regions.loc[imp_exp_regions['Country or Area'] == 'Other Asia, nes', 'continent'] = 'Asia'\n",
    "imp_exp_regions.loc[imp_exp_regions['Country or Area'] == 'Other Asia, nes','region'] = 'Other'\n",
    "imp_exp_regions.loc[imp_exp_regions['Country or Area'] == 'Neth. Antilles', 'continent'] = 'Americas'\n",
    "imp_exp_regions.loc[imp_exp_regions['Country or Area'] == 'Neth. Antilles','region'] = 'Caribbean'\n",
    "imp_exp_regions.loc[imp_exp_regions['Country or Area'] == 'Lao People\\'s Dem. Rep.', 'continent'] = 'Asia'\n",
    "imp_exp_regions.loc[imp_exp_regions['Country or Area'] == 'Lao People\\'s Dem. Rep.','region'] = 'South-Eastern Asia'\n",
    "imp_exp_regions.loc[imp_exp_regions['Country or Area'] == 'Lao People\\'s Dem. Rep.','country'] = 'Laos'\n",
    "imp_exp_regions.loc[imp_exp_regions['Country or Area'] == 'Iran', 'continent'] = 'Asia'\n",
    "imp_exp_regions.loc[imp_exp_regions['Country or Area'] == 'Iran','region'] = 'South-Western Asia'\n",
    "imp_exp_regions.loc[imp_exp_regions['Country or Area'] == 'Fmr Fed. Rep. of Germany', 'continent'] = 'Europe'\n",
    "imp_exp_regions.loc[imp_exp_regions['Country or Area'] == 'Fmr Fed. Rep. of Germany','region'] = 'Central Europe'\n",
    "imp_exp_regions.loc[imp_exp_regions['Country or Area'] == 'Fmr Fed. Rep. of Germany','country'] = 'Germany'\n",
    "imp_exp_regions.loc[imp_exp_regions['Country or Area'] == 'Faeroe Isds', 'continent'] = 'Europe'\n",
    "imp_exp_regions.loc[imp_exp_regions['Country or Area'] == 'Faeroe Isds', 'region'] = 'Northern Europe'\n",
    "imp_exp_regions.loc[imp_exp_regions['Country or Area'] == 'FS Micronesia', 'continent'] = 'Oceania'\n",
    "imp_exp_regions.loc[imp_exp_regions['Country or Area'] == 'FS Micronesia', 'region'] = 'Micronesia'\n",
    "imp_exp_regions.loc[imp_exp_regions['Country or Area'] == 'Czech Rep.', 'continent'] = 'Europe'\n",
    "imp_exp_regions.loc[imp_exp_regions['Country or Area'] == 'Czech Rep.', 'region'] = 'Central Europe'\n",
    "imp_exp_regions.loc[imp_exp_regions['Country or Area'] == 'Bosnia Herzegovina', 'continent'] = 'Europe'\n",
    "imp_exp_regions.loc[imp_exp_regions['Country or Area'] == 'Bosnia Herzegovina', 'region'] = 'Southern Europe'\n",
    "imp_exp_regions.loc[imp_exp_regions['Country or Area'] == 'Central African Rep.', 'continent'] = 'Africa'\n",
    "imp_exp_regions.loc[imp_exp_regions['Country or Area'] == 'Central African Rep.', 'region'] = 'Middle Africa'\n",
    "imp_exp_regions.loc[imp_exp_regions['Country or Area'] == 'China, Hong Kong SAR', 'continent'] = 'Asia'\n",
    "imp_exp_regions.loc[imp_exp_regions['Country or Area'] == 'China, Hong Kong SAR', 'region'] = 'Eastern Asia'\n",
    "imp_exp_regions.loc[imp_exp_regions['Country or Area'] == 'China, Macao SAR', 'continent'] = 'Asia'\n",
    "imp_exp_regions.loc[imp_exp_regions['Country or Area'] == 'China, Macao SAR', 'region'] = 'Eastern Asia'\n",
    "imp_exp_regions.loc[imp_exp_regions['Country or Area'] == 'Cook Isds', 'continent'] = 'Oceania'\n",
    "imp_exp_regions.loc[imp_exp_regions['Country or Area'] == 'Cook Isds', 'region'] = 'Polynesia'\n",
    "imp_exp_regions.loc[imp_exp_regions['Country or Area'] == 'Dominican Rep.', 'continent'] = 'Americas'\n",
    "imp_exp_regions.loc[imp_exp_regions['Country or Area'] == 'Dominican Rep.', 'region'] = 'Caribbean'\n",
    "imp_exp_regions.loc[imp_exp_regions['Country or Area'] == 'Fmr Sudan', 'continent'] = 'Africa'\n",
    "imp_exp_regions.loc[imp_exp_regions['Country or Area'] == 'Fmr Sudan','region'] = 'Northern Africa'\n",
    "imp_exp_regions.loc[imp_exp_regions['Country or Area'] == 'Fmr Sudan','country'] = 'Sudan'\n",
    "\n",
    "imp_exp_regions= imp_exp_regions[~(imp_exp_regions['Country or Area'] == 'Belgium-Luxembourg')]\n",
    "\n",
    "imp_exp_regions= imp_exp_regions[~(imp_exp_regions['Country or Area'] == 'EU-28')]\n",
    "imp_exp_regions= imp_exp_regions[~(imp_exp_regions['Country or Area'] == 'So. African Customs Union')]\n",
    "imp_exp_regions= imp_exp_regions[~(imp_exp_regions['Country or Area'] == 'China, Hong Kong SAR')]\n"
   ]
  },
  {
   "cell_type": "code",
   "execution_count": 86,
   "metadata": {},
   "outputs": [],
   "source": [
    "flows_df=imp_exp_regions.drop(columns=['country', 'code_2'])"
   ]
  },
  {
   "cell_type": "code",
   "execution_count": 87,
   "metadata": {},
   "outputs": [],
   "source": [
    "#convert data type and sort the data by Year\n",
    "flows_df=flows_df.sort_values(by=['Year'])"
   ]
  },
  {
   "cell_type": "code",
   "execution_count": 88,
   "metadata": {},
   "outputs": [],
   "source": [
    "flows_df=flows_df.dropna(how='any')"
   ]
  },
  {
   "cell_type": "code",
   "execution_count": 89,
   "metadata": {},
   "outputs": [
    {
     "data": {
      "text/html": [
       "<div>\n",
       "<style scoped>\n",
       "    .dataframe tbody tr th:only-of-type {\n",
       "        vertical-align: middle;\n",
       "    }\n",
       "\n",
       "    .dataframe tbody tr th {\n",
       "        vertical-align: top;\n",
       "    }\n",
       "\n",
       "    .dataframe thead th {\n",
       "        text-align: right;\n",
       "    }\n",
       "</style>\n",
       "<table border=\"1\" class=\"dataframe\">\n",
       "  <thead>\n",
       "    <tr style=\"text-align: right;\">\n",
       "      <th></th>\n",
       "      <th>Year</th>\n",
       "      <th>continent</th>\n",
       "      <th>region</th>\n",
       "      <th>Country or Area</th>\n",
       "      <th>Flow</th>\n",
       "      <th>Quantity</th>\n",
       "      <th>Trade (USD)</th>\n",
       "    </tr>\n",
       "  </thead>\n",
       "  <tbody>\n",
       "    <tr>\n",
       "      <th>0</th>\n",
       "      <td>1988</td>\n",
       "      <td>Americas</td>\n",
       "      <td>Caribbean</td>\n",
       "      <td>Haiti</td>\n",
       "      <td>Export</td>\n",
       "      <td>2720937.0</td>\n",
       "      <td>3995150.0</td>\n",
       "    </tr>\n",
       "    <tr>\n",
       "      <th>1</th>\n",
       "      <td>1988</td>\n",
       "      <td>Asia</td>\n",
       "      <td>Eastern Asia</td>\n",
       "      <td>Japan</td>\n",
       "      <td>Import</td>\n",
       "      <td>40972512.0</td>\n",
       "      <td>84981276.0</td>\n",
       "    </tr>\n",
       "    <tr>\n",
       "      <th>2</th>\n",
       "      <td>1988</td>\n",
       "      <td>Asia</td>\n",
       "      <td>Eastern Asia</td>\n",
       "      <td>Rep. of Korea</td>\n",
       "      <td>Import</td>\n",
       "      <td>1978812.0</td>\n",
       "      <td>4450443.0</td>\n",
       "    </tr>\n",
       "  </tbody>\n",
       "</table>\n",
       "</div>"
      ],
      "text/plain": [
       "   Year continent        region Country or Area    Flow    Quantity  \\\n",
       "0  1988  Americas     Caribbean           Haiti  Export   2720937.0   \n",
       "1  1988      Asia  Eastern Asia           Japan  Import  40972512.0   \n",
       "2  1988      Asia  Eastern Asia   Rep. of Korea  Import   1978812.0   \n",
       "\n",
       "   Trade (USD)  \n",
       "0    3995150.0  \n",
       "1   84981276.0  \n",
       "2    4450443.0  "
      ]
     },
     "execution_count": 89,
     "metadata": {},
     "output_type": "execute_result"
    }
   ],
   "source": [
    "groupby_flows=flows_df.groupby(['Year','continent', 'region', 'Country or Area', 'Flow']).mean(['Trade (USD)','Quantity'])\n",
    "groupby_flows.reset_index(inplace=True)\n",
    "groupby_flows.head(3)"
   ]
  },
  {
   "cell_type": "code",
   "execution_count": 90,
   "metadata": {},
   "outputs": [],
   "source": [
    "groupby_flows=groupby_flows[groupby_flows['Year']!=1988]\n",
    "groupby_flows=groupby_flows[groupby_flows['Year']!=1989]\n",
    "groupby_flows=groupby_flows[groupby_flows['Year']!=1990]\n",
    "#delete years until all continents have value for exports and imports\n",
    "\n",
    "flows_df=flows_df[flows_df['Year']!=1988]\n",
    "flows_df=flows_df[flows_df['Year']!=1989]\n",
    "flows_df=flows_df[flows_df['Year']!=1990]"
   ]
  },
  {
   "cell_type": "code",
   "execution_count": 91,
   "metadata": {},
   "outputs": [],
   "source": [
    "africa_count= len(flows_df.groupby('continent')['Country or Area'].unique()[0])\n",
    "americas_count= len(flows_df.groupby('continent')['Country or Area'].unique()[1])\n",
    "asia_count= len(flows_df.groupby('continent')['Country or Area'].unique()[2])\n",
    "europe_count= len(flows_df.groupby('continent')['Country or Area'].unique()[3])\n",
    "oceania_count= len(flows_df.groupby('continent')['Country or Area'].unique()[4])\n",
    "\n",
    "# print('Africa has: ' + str(africa_count) + ' countries')\n",
    "# print('Americas has: ' + str(americas_count) + ' countries')\n",
    "# print('Asia has: ' + str(asia_count) + ' countries')\n",
    "# print('Europe has: ' + str(europe_count) + ' countries')\n",
    "# print('Oceania has: ' + str(oceania_count) + ' countries')"
   ]
  },
  {
   "cell_type": "code",
   "execution_count": 92,
   "metadata": {},
   "outputs": [
    {
     "name": "stdout",
     "output_type": "stream",
     "text": [
      "  Continent  Nr of Countries\n",
      "0    Africa               49\n",
      "1  Americas               43\n",
      "2      Asia               44\n",
      "3    Europe               42\n",
      "4   Oceania               15\n"
     ]
    }
   ],
   "source": [
    "nr_countries = [['Africa', africa_count],\n",
    "                ['Americas', americas_count], \n",
    "                ['Asia', asia_count],\n",
    "                ['Europe', europe_count],\n",
    "                ['Oceania', oceania_count]]\n",
    "\n",
    "df_nr_countries = pd.DataFrame(nr_countries, columns = ['Continent', 'Nr of Countries'])\n",
    "print(df_nr_countries)"
   ]
  },
  {
   "cell_type": "code",
   "execution_count": 93,
   "metadata": {},
   "outputs": [
    {
     "data": {
      "text/html": [
       "<div>\n",
       "<style scoped>\n",
       "    .dataframe tbody tr th:only-of-type {\n",
       "        vertical-align: middle;\n",
       "    }\n",
       "\n",
       "    .dataframe tbody tr th {\n",
       "        vertical-align: top;\n",
       "    }\n",
       "\n",
       "    .dataframe thead th {\n",
       "        text-align: right;\n",
       "    }\n",
       "</style>\n",
       "<table border=\"1\" class=\"dataframe\">\n",
       "  <thead>\n",
       "    <tr style=\"text-align: right;\">\n",
       "      <th></th>\n",
       "      <th>Continent</th>\n",
       "      <th>Nr of Countries</th>\n",
       "      <th>Year</th>\n",
       "      <th>region</th>\n",
       "      <th>Country or Area</th>\n",
       "      <th>Flow</th>\n",
       "      <th>Quantity</th>\n",
       "      <th>Trade (USD)</th>\n",
       "    </tr>\n",
       "  </thead>\n",
       "  <tbody>\n",
       "    <tr>\n",
       "      <th>0</th>\n",
       "      <td>Africa</td>\n",
       "      <td>49</td>\n",
       "      <td>1991</td>\n",
       "      <td>Eastern Africa</td>\n",
       "      <td>Madagascar</td>\n",
       "      <td>Export</td>\n",
       "      <td>4272629.0</td>\n",
       "      <td>3971947.0</td>\n",
       "    </tr>\n",
       "    <tr>\n",
       "      <th>1</th>\n",
       "      <td>Africa</td>\n",
       "      <td>49</td>\n",
       "      <td>1991</td>\n",
       "      <td>Eastern Africa</td>\n",
       "      <td>Malawi</td>\n",
       "      <td>Import</td>\n",
       "      <td>101.0</td>\n",
       "      <td>292.0</td>\n",
       "    </tr>\n",
       "    <tr>\n",
       "      <th>2</th>\n",
       "      <td>Africa</td>\n",
       "      <td>49</td>\n",
       "      <td>1991</td>\n",
       "      <td>Northern Africa</td>\n",
       "      <td>Tunisia</td>\n",
       "      <td>Import</td>\n",
       "      <td>355500.0</td>\n",
       "      <td>571813.0</td>\n",
       "    </tr>\n",
       "  </tbody>\n",
       "</table>\n",
       "</div>"
      ],
      "text/plain": [
       "  Continent  Nr of Countries  Year           region Country or Area    Flow  \\\n",
       "0    Africa               49  1991   Eastern Africa      Madagascar  Export   \n",
       "1    Africa               49  1991   Eastern Africa          Malawi  Import   \n",
       "2    Africa               49  1991  Northern Africa         Tunisia  Import   \n",
       "\n",
       "    Quantity  Trade (USD)  \n",
       "0  4272629.0    3971947.0  \n",
       "1      101.0        292.0  \n",
       "2   355500.0     571813.0  "
      ]
     },
     "execution_count": 93,
     "metadata": {},
     "output_type": "execute_result"
    }
   ],
   "source": [
    "groupby_flows= pd.merge(df_nr_countries, groupby_flows, left_on='Continent', right_on='continent')\n",
    "groupby_flows.drop(columns='continent', inplace=True)\n",
    "groupby_flows.head(3)"
   ]
  },
  {
   "cell_type": "code",
   "execution_count": 94,
   "metadata": {},
   "outputs": [],
   "source": [
    "#NOT USED\n",
    "# def scatter_flows(flow):\n",
    "#     fig = px.scatter(groupby_flows[groupby_flows['Flow']==flow],\n",
    "#                  x='Quantity',\n",
    "#                  y='Trade (USD)',\n",
    "#                  animation_frame='Year', \n",
    "#                  animation_group='Continent', \n",
    "#                  size='Nr of Countries', \n",
    "#                  color='Continent',\n",
    "#                  hover_name='Continent',\n",
    "#                  )\n",
    "#     fig.update_layout(\n",
    "#                     title=('Quantity of Cacao ' + str(flow) + 'ed vs Trade (USD) by Continents in 1988 - 2019'),\n",
    "#                     xaxis=dict(title=('Quantity '+ str(flow) + 'ed')),\n",
    "#                     yaxis=dict(title=(str(flow) + ' Trade (USD) of Cacao')),\n",
    "#                     #paper_bgcolor='rgb(500, 500, 500)'#,\n",
    "#                     #plot_bgcolor='rgb(243, 243, 243)'\n",
    "#                     )\n",
    "                    \n",
    "#     fig.layout.updatemenus[0].buttons[0].args[1]['transition']['duration'] = 3000\n",
    "#     return fig.show()"
   ]
  },
  {
   "cell_type": "code",
   "execution_count": 95,
   "metadata": {},
   "outputs": [],
   "source": [
    "# def tree_flows(flow, variable, year):\n",
    "#     fig = px.treemap(groupby_flows[(groupby_flows['Flow']==flow) & (groupby_flows['Year']==year) ], \n",
    "#                      path=['Country or Area'],\n",
    "#                      values=variable, color=variable, color_continuous_scale='sunset'\n",
    "#                     )\n",
    "            \n",
    "#     return fig.show()"
   ]
  },
  {
   "cell_type": "code",
   "execution_count": 96,
   "metadata": {},
   "outputs": [],
   "source": [
    "#tree_flows(flow='Export', variable='Quantity', year=2010)"
   ]
  },
  {
   "cell_type": "code",
   "execution_count": 97,
   "metadata": {},
   "outputs": [],
   "source": [
    "tree_variables = [\n",
    "                    {'label': 'Quantity', 'value': 'Quantity'},\n",
    "                    {'label': 'Trade (USD)', 'value': 'Trade (USD)'}\n",
    "                 ]\n",
    "\n",
    "tree_flows_Dict = [\n",
    "                    {'label': 'Export', 'value': 'Export'},\n",
    "                    {'label': 'Import', 'value': 'Import'}\n",
    "                 ]"
   ]
  },
  {
   "cell_type": "markdown",
   "metadata": {},
   "source": [
    "# ----- Helena\n"
   ]
  },
  {
   "cell_type": "code",
   "execution_count": 98,
   "metadata": {},
   "outputs": [],
   "source": [
    "\n",
    "ingredients = [\n",
    "    {'label': 'Has Sugar', 'value': 'have_sugar'},\n",
    "    {'label': 'Has not Sugar', 'value': 'have_not_sugar'},\n",
    "    {'label': 'Has Vanilla', 'value': 'have_vanila'},\n",
    "    {'label': 'Has not Vanilla', 'value': 'have_not_vanila'},\n",
    "    {'label': 'Has Salt', 'value': 'have_salt'},\n",
    "    {'label': 'Has not Salt', 'value': 'have_not_salt'},\n",
    "    {'label': 'Has Lecithin', 'value': 'have_lecithin'},\n",
    "    {'label': 'Has not Lecithin', 'value': 'have_not_lecithin'}\n",
    "]\n"
   ]
  },
  {
   "cell_type": "code",
   "execution_count": 99,
   "metadata": {},
   "outputs": [],
   "source": [
    "# @app.callback(\n",
    "   \n",
    "#    [Output(\"name_company_id\", \"children\"),\n",
    "#     Output(\"rating_id\", \"children\"),\n",
    "#     Output(\"country_id\", \"children\"),\n",
    "#     Output('graph1', 'figure')],\n",
    "   \n",
    "#     [Input('drop_id', 'value'),\n",
    "#      Input('percent_id','value')] )\n",
    "\n",
    "# def update_graph(drop_id,percent_id):\n",
    "    \n",
    "#     filtered=data\n",
    "#     for each in drop_id:\n",
    "#         filtered=filtered[filtered.isin([each]).any(1)] \n",
    "    \n",
    "#     filtered = filtered[(filtered['cocoa_percent'] >= percent_id[0]) & (filtered['cocoa_percent'] <= percent_id[1])]\n",
    "\n",
    "#     # maxi=np.max(filtered['rating'])\n",
    "#     # filtered=filtered[filtered['rating']==maxi]\n",
    "    \n",
    "#     data_inter = dict(type='bar', x=filtered['company'], y=filtered['rating'])\n",
    "   \n",
    "#     layout_1 = dict(xaxis=dict(title='Companies'),\n",
    "#                    yaxis=dict(title='Ratings'))\n",
    "    \n",
    "#     fig = go.Figure(data=data_inter, layout=layout_1)  \n",
    "\n",
    "#     if filtered.empty:\n",
    "#         name_company = 'No company was found'\n",
    "#         rating = 'No rating was found'\n",
    "#         country= 'No country was found'\n",
    "        \n",
    "#     else:\n",
    "#         name_company=str(filtered.head(1)['company'].values[0])\n",
    "#         rating=str(filtered.head(1)['rating'].values[0])\n",
    "#         country=str(filtered.head(1)['company_location'].values[0])\n",
    "    \n",
    "#     return name_company ,  \\\n",
    "#            rating , \\\n",
    "#            country , \\\n",
    "#            fig\n",
    "\n",
    "# if __name__ == '__main__':\n",
    "#     app.run_server(debug=True, use_reloader=False)"
   ]
  },
  {
   "cell_type": "markdown",
   "metadata": {},
   "source": [
    "# ------- Filipa\n"
   ]
  },
  {
   "cell_type": "markdown",
   "metadata": {},
   "source": [
    "### Column count_tastes\n"
   ]
  },
  {
   "cell_type": "code",
   "execution_count": 100,
   "metadata": {},
   "outputs": [],
   "source": [
    "test_taste = data"
   ]
  },
  {
   "cell_type": "code",
   "execution_count": 101,
   "metadata": {},
   "outputs": [],
   "source": [
    "test_taste['first_taste'].fillna(value = 0, inplace = True)\n",
    "test_taste['second_taste'].fillna(value = 0, inplace = True)\n",
    "test_taste['third_taste'].fillna(value = 0, inplace = True)\n",
    "test_taste['fourth_taste'].fillna(value = 0, inplace = True)"
   ]
  },
  {
   "cell_type": "code",
   "execution_count": 102,
   "metadata": {},
   "outputs": [],
   "source": [
    "#taste = lambda x: 1 if x.isna() == False else 0\n",
    "taste = lambda x: 1 if x != 0 else x"
   ]
  },
  {
   "cell_type": "code",
   "execution_count": 103,
   "metadata": {},
   "outputs": [],
   "source": [
    "test_taste['binFirst_taste'] = test_taste['first_taste'].apply(taste)\n",
    "test_taste['binSecond_taste'] = test_taste['second_taste'].apply(taste)\n",
    "test_taste['binThird_taste'] = test_taste['third_taste'].apply(taste)\n",
    "test_taste['binFourth_taste'] = test_taste['fourth_taste'].apply(taste)"
   ]
  },
  {
   "cell_type": "code",
   "execution_count": 104,
   "metadata": {},
   "outputs": [
    {
     "data": {
      "text/html": [
       "<div>\n",
       "<style scoped>\n",
       "    .dataframe tbody tr th:only-of-type {\n",
       "        vertical-align: middle;\n",
       "    }\n",
       "\n",
       "    .dataframe tbody tr th {\n",
       "        vertical-align: top;\n",
       "    }\n",
       "\n",
       "    .dataframe thead th {\n",
       "        text-align: right;\n",
       "    }\n",
       "</style>\n",
       "<table border=\"1\" class=\"dataframe\">\n",
       "  <thead>\n",
       "    <tr style=\"text-align: right;\">\n",
       "      <th></th>\n",
       "      <th>ref</th>\n",
       "      <th>company</th>\n",
       "      <th>company_location</th>\n",
       "      <th>review_date</th>\n",
       "      <th>country_of_bean_origin</th>\n",
       "      <th>specific_bean_origin_or_bar_name</th>\n",
       "      <th>cocoa_percent</th>\n",
       "      <th>rating</th>\n",
       "      <th>counts_of_ingredients</th>\n",
       "      <th>beans</th>\n",
       "      <th>...</th>\n",
       "      <th>company_region</th>\n",
       "      <th>company_code_2</th>\n",
       "      <th>country_y</th>\n",
       "      <th>bean_continent</th>\n",
       "      <th>bean_region</th>\n",
       "      <th>bean_code_2</th>\n",
       "      <th>binFirst_taste</th>\n",
       "      <th>binSecond_taste</th>\n",
       "      <th>binThird_taste</th>\n",
       "      <th>binFourth_taste</th>\n",
       "    </tr>\n",
       "  </thead>\n",
       "  <tbody>\n",
       "    <tr>\n",
       "      <th>4</th>\n",
       "      <td>797</td>\n",
       "      <td>A. Morin</td>\n",
       "      <td>France</td>\n",
       "      <td>2012</td>\n",
       "      <td>Bolivia (Plurinational State of)</td>\n",
       "      <td>Bolivia</td>\n",
       "      <td>70.0</td>\n",
       "      <td>3.50</td>\n",
       "      <td>4</td>\n",
       "      <td>have_bean</td>\n",
       "      <td>...</td>\n",
       "      <td>Western Europe</td>\n",
       "      <td>FR</td>\n",
       "      <td>Bolivia (Plurinational State of)</td>\n",
       "      <td>Americas</td>\n",
       "      <td>South America</td>\n",
       "      <td>BO</td>\n",
       "      <td>1</td>\n",
       "      <td>1</td>\n",
       "      <td>0</td>\n",
       "      <td>0</td>\n",
       "    </tr>\n",
       "    <tr>\n",
       "      <th>9</th>\n",
       "      <td>1011</td>\n",
       "      <td>A. Morin</td>\n",
       "      <td>France</td>\n",
       "      <td>2013</td>\n",
       "      <td>Brazil</td>\n",
       "      <td>Brazil</td>\n",
       "      <td>70.0</td>\n",
       "      <td>3.25</td>\n",
       "      <td>4</td>\n",
       "      <td>have_bean</td>\n",
       "      <td>...</td>\n",
       "      <td>Western Europe</td>\n",
       "      <td>FR</td>\n",
       "      <td>Brazil</td>\n",
       "      <td>Americas</td>\n",
       "      <td>South America</td>\n",
       "      <td>BR</td>\n",
       "      <td>1</td>\n",
       "      <td>0</td>\n",
       "      <td>0</td>\n",
       "      <td>0</td>\n",
       "    </tr>\n",
       "    <tr>\n",
       "      <th>10</th>\n",
       "      <td>1015</td>\n",
       "      <td>A. Morin</td>\n",
       "      <td>France</td>\n",
       "      <td>2013</td>\n",
       "      <td>Papua New Guinea</td>\n",
       "      <td>Papua New Guinea</td>\n",
       "      <td>70.0</td>\n",
       "      <td>3.25</td>\n",
       "      <td>4</td>\n",
       "      <td>have_bean</td>\n",
       "      <td>...</td>\n",
       "      <td>Western Europe</td>\n",
       "      <td>FR</td>\n",
       "      <td>Papua New Guinea</td>\n",
       "      <td>Oceania</td>\n",
       "      <td>Melanesia</td>\n",
       "      <td>PG</td>\n",
       "      <td>1</td>\n",
       "      <td>1</td>\n",
       "      <td>0</td>\n",
       "      <td>0</td>\n",
       "    </tr>\n",
       "    <tr>\n",
       "      <th>15</th>\n",
       "      <td>1015</td>\n",
       "      <td>A. Morin</td>\n",
       "      <td>France</td>\n",
       "      <td>2013</td>\n",
       "      <td>Colombia</td>\n",
       "      <td>Colombie</td>\n",
       "      <td>70.0</td>\n",
       "      <td>2.75</td>\n",
       "      <td>4</td>\n",
       "      <td>have_bean</td>\n",
       "      <td>...</td>\n",
       "      <td>Western Europe</td>\n",
       "      <td>FR</td>\n",
       "      <td>Colombia</td>\n",
       "      <td>Americas</td>\n",
       "      <td>South America</td>\n",
       "      <td>CO</td>\n",
       "      <td>1</td>\n",
       "      <td>1</td>\n",
       "      <td>0</td>\n",
       "      <td>0</td>\n",
       "    </tr>\n",
       "    <tr>\n",
       "      <th>18</th>\n",
       "      <td>1315</td>\n",
       "      <td>A. Morin</td>\n",
       "      <td>France</td>\n",
       "      <td>2014</td>\n",
       "      <td>Cuba</td>\n",
       "      <td>Cuba</td>\n",
       "      <td>70.0</td>\n",
       "      <td>3.50</td>\n",
       "      <td>4</td>\n",
       "      <td>have_bean</td>\n",
       "      <td>...</td>\n",
       "      <td>Western Europe</td>\n",
       "      <td>FR</td>\n",
       "      <td>Cuba</td>\n",
       "      <td>Americas</td>\n",
       "      <td>Caribbean</td>\n",
       "      <td>CU</td>\n",
       "      <td>1</td>\n",
       "      <td>1</td>\n",
       "      <td>0</td>\n",
       "      <td>0</td>\n",
       "    </tr>\n",
       "  </tbody>\n",
       "</table>\n",
       "<p>5 rows × 32 columns</p>\n",
       "</div>"
      ],
      "text/plain": [
       "     ref   company company_location  review_date  \\\n",
       "4    797  A. Morin           France         2012   \n",
       "9   1011  A. Morin           France         2013   \n",
       "10  1015  A. Morin           France         2013   \n",
       "15  1015  A. Morin           France         2013   \n",
       "18  1315  A. Morin           France         2014   \n",
       "\n",
       "              country_of_bean_origin specific_bean_origin_or_bar_name  \\\n",
       "4   Bolivia (Plurinational State of)                          Bolivia   \n",
       "9                             Brazil                           Brazil   \n",
       "10                  Papua New Guinea                 Papua New Guinea   \n",
       "15                          Colombia                         Colombie   \n",
       "18                              Cuba                             Cuba   \n",
       "\n",
       "    cocoa_percent  rating  counts_of_ingredients      beans  ...  \\\n",
       "4            70.0    3.50                      4  have_bean  ...   \n",
       "9            70.0    3.25                      4  have_bean  ...   \n",
       "10           70.0    3.25                      4  have_bean  ...   \n",
       "15           70.0    2.75                      4  have_bean  ...   \n",
       "18           70.0    3.50                      4  have_bean  ...   \n",
       "\n",
       "    company_region company_code_2                         country_y  \\\n",
       "4   Western Europe             FR  Bolivia (Plurinational State of)   \n",
       "9   Western Europe             FR                            Brazil   \n",
       "10  Western Europe             FR                  Papua New Guinea   \n",
       "15  Western Europe             FR                          Colombia   \n",
       "18  Western Europe             FR                              Cuba   \n",
       "\n",
       "   bean_continent    bean_region bean_code_2 binFirst_taste binSecond_taste  \\\n",
       "4        Americas  South America          BO              1               1   \n",
       "9        Americas  South America          BR              1               0   \n",
       "10        Oceania      Melanesia          PG              1               1   \n",
       "15       Americas  South America          CO              1               1   \n",
       "18       Americas      Caribbean          CU              1               1   \n",
       "\n",
       "   binThird_taste binFourth_taste  \n",
       "4               0               0  \n",
       "9               0               0  \n",
       "10              0               0  \n",
       "15              0               0  \n",
       "18              0               0  \n",
       "\n",
       "[5 rows x 32 columns]"
      ]
     },
     "execution_count": 104,
     "metadata": {},
     "output_type": "execute_result"
    }
   ],
   "source": [
    "test_taste[test_taste['binThird_taste'] == 0].head()"
   ]
  },
  {
   "cell_type": "code",
   "execution_count": 105,
   "metadata": {},
   "outputs": [],
   "source": [
    "test_taste['count_tastes'] = test_taste['binFirst_taste'] + test_taste['binSecond_taste'] + test_taste['binThird_taste'] + test_taste['binFourth_taste']"
   ]
  },
  {
   "cell_type": "code",
   "execution_count": 106,
   "metadata": {},
   "outputs": [
    {
     "data": {
      "text/html": [
       "<div>\n",
       "<style scoped>\n",
       "    .dataframe tbody tr th:only-of-type {\n",
       "        vertical-align: middle;\n",
       "    }\n",
       "\n",
       "    .dataframe tbody tr th {\n",
       "        vertical-align: top;\n",
       "    }\n",
       "\n",
       "    .dataframe thead th {\n",
       "        text-align: right;\n",
       "    }\n",
       "</style>\n",
       "<table border=\"1\" class=\"dataframe\">\n",
       "  <thead>\n",
       "    <tr style=\"text-align: right;\">\n",
       "      <th></th>\n",
       "      <th>ref</th>\n",
       "      <th>company</th>\n",
       "      <th>company_location</th>\n",
       "      <th>review_date</th>\n",
       "      <th>country_of_bean_origin</th>\n",
       "      <th>specific_bean_origin_or_bar_name</th>\n",
       "      <th>cocoa_percent</th>\n",
       "      <th>rating</th>\n",
       "      <th>counts_of_ingredients</th>\n",
       "      <th>beans</th>\n",
       "      <th>...</th>\n",
       "      <th>company_code_2</th>\n",
       "      <th>country_y</th>\n",
       "      <th>bean_continent</th>\n",
       "      <th>bean_region</th>\n",
       "      <th>bean_code_2</th>\n",
       "      <th>binFirst_taste</th>\n",
       "      <th>binSecond_taste</th>\n",
       "      <th>binThird_taste</th>\n",
       "      <th>binFourth_taste</th>\n",
       "      <th>count_tastes</th>\n",
       "    </tr>\n",
       "  </thead>\n",
       "  <tbody>\n",
       "    <tr>\n",
       "      <th>0</th>\n",
       "      <td>2454</td>\n",
       "      <td>5150</td>\n",
       "      <td>United States of America</td>\n",
       "      <td>2019</td>\n",
       "      <td>Madagascar</td>\n",
       "      <td>Bejofo Estate, batch 1</td>\n",
       "      <td>76.0</td>\n",
       "      <td>3.75</td>\n",
       "      <td>3</td>\n",
       "      <td>have_bean</td>\n",
       "      <td>...</td>\n",
       "      <td>US</td>\n",
       "      <td>Madagascar</td>\n",
       "      <td>Africa</td>\n",
       "      <td>Eastern Africa</td>\n",
       "      <td>MG</td>\n",
       "      <td>1</td>\n",
       "      <td>1</td>\n",
       "      <td>1</td>\n",
       "      <td>0</td>\n",
       "      <td>3</td>\n",
       "    </tr>\n",
       "    <tr>\n",
       "      <th>1</th>\n",
       "      <td>2458</td>\n",
       "      <td>5150</td>\n",
       "      <td>United States of America</td>\n",
       "      <td>2019</td>\n",
       "      <td>Dominican Republic</td>\n",
       "      <td>Zorzal, batch 1</td>\n",
       "      <td>76.0</td>\n",
       "      <td>3.50</td>\n",
       "      <td>3</td>\n",
       "      <td>have_bean</td>\n",
       "      <td>...</td>\n",
       "      <td>US</td>\n",
       "      <td>Dominican Republic</td>\n",
       "      <td>Americas</td>\n",
       "      <td>Caribbean</td>\n",
       "      <td>DO</td>\n",
       "      <td>1</td>\n",
       "      <td>1</td>\n",
       "      <td>1</td>\n",
       "      <td>0</td>\n",
       "      <td>3</td>\n",
       "    </tr>\n",
       "    <tr>\n",
       "      <th>2</th>\n",
       "      <td>2454</td>\n",
       "      <td>5150</td>\n",
       "      <td>United States of America</td>\n",
       "      <td>2019</td>\n",
       "      <td>Tanzania, United Republic of</td>\n",
       "      <td>Kokoa Kamili, batch 1</td>\n",
       "      <td>76.0</td>\n",
       "      <td>3.25</td>\n",
       "      <td>3</td>\n",
       "      <td>have_bean</td>\n",
       "      <td>...</td>\n",
       "      <td>US</td>\n",
       "      <td>Tanzania, United Republic of</td>\n",
       "      <td>Africa</td>\n",
       "      <td>Eastern Africa</td>\n",
       "      <td>TZ</td>\n",
       "      <td>1</td>\n",
       "      <td>1</td>\n",
       "      <td>1</td>\n",
       "      <td>0</td>\n",
       "      <td>3</td>\n",
       "    </tr>\n",
       "    <tr>\n",
       "      <th>3</th>\n",
       "      <td>797</td>\n",
       "      <td>A. Morin</td>\n",
       "      <td>France</td>\n",
       "      <td>2012</td>\n",
       "      <td>Peru</td>\n",
       "      <td>Peru</td>\n",
       "      <td>63.0</td>\n",
       "      <td>3.75</td>\n",
       "      <td>4</td>\n",
       "      <td>have_bean</td>\n",
       "      <td>...</td>\n",
       "      <td>FR</td>\n",
       "      <td>Peru</td>\n",
       "      <td>Americas</td>\n",
       "      <td>South America</td>\n",
       "      <td>PE</td>\n",
       "      <td>1</td>\n",
       "      <td>1</td>\n",
       "      <td>1</td>\n",
       "      <td>0</td>\n",
       "      <td>3</td>\n",
       "    </tr>\n",
       "    <tr>\n",
       "      <th>4</th>\n",
       "      <td>797</td>\n",
       "      <td>A. Morin</td>\n",
       "      <td>France</td>\n",
       "      <td>2012</td>\n",
       "      <td>Bolivia (Plurinational State of)</td>\n",
       "      <td>Bolivia</td>\n",
       "      <td>70.0</td>\n",
       "      <td>3.50</td>\n",
       "      <td>4</td>\n",
       "      <td>have_bean</td>\n",
       "      <td>...</td>\n",
       "      <td>FR</td>\n",
       "      <td>Bolivia (Plurinational State of)</td>\n",
       "      <td>Americas</td>\n",
       "      <td>South America</td>\n",
       "      <td>BO</td>\n",
       "      <td>1</td>\n",
       "      <td>1</td>\n",
       "      <td>0</td>\n",
       "      <td>0</td>\n",
       "      <td>2</td>\n",
       "    </tr>\n",
       "  </tbody>\n",
       "</table>\n",
       "<p>5 rows × 33 columns</p>\n",
       "</div>"
      ],
      "text/plain": [
       "    ref   company          company_location  review_date  \\\n",
       "0  2454      5150  United States of America         2019   \n",
       "1  2458      5150  United States of America         2019   \n",
       "2  2454      5150  United States of America         2019   \n",
       "3   797  A. Morin                    France         2012   \n",
       "4   797  A. Morin                    France         2012   \n",
       "\n",
       "             country_of_bean_origin specific_bean_origin_or_bar_name  \\\n",
       "0                        Madagascar           Bejofo Estate, batch 1   \n",
       "1                Dominican Republic                  Zorzal, batch 1   \n",
       "2      Tanzania, United Republic of            Kokoa Kamili, batch 1   \n",
       "3                              Peru                             Peru   \n",
       "4  Bolivia (Plurinational State of)                          Bolivia   \n",
       "\n",
       "   cocoa_percent  rating  counts_of_ingredients      beans  ...  \\\n",
       "0           76.0    3.75                      3  have_bean  ...   \n",
       "1           76.0    3.50                      3  have_bean  ...   \n",
       "2           76.0    3.25                      3  have_bean  ...   \n",
       "3           63.0    3.75                      4  have_bean  ...   \n",
       "4           70.0    3.50                      4  have_bean  ...   \n",
       "\n",
       "  company_code_2                         country_y bean_continent  \\\n",
       "0             US                        Madagascar         Africa   \n",
       "1             US                Dominican Republic       Americas   \n",
       "2             US      Tanzania, United Republic of         Africa   \n",
       "3             FR                              Peru       Americas   \n",
       "4             FR  Bolivia (Plurinational State of)       Americas   \n",
       "\n",
       "      bean_region bean_code_2 binFirst_taste binSecond_taste binThird_taste  \\\n",
       "0  Eastern Africa          MG              1               1              1   \n",
       "1       Caribbean          DO              1               1              1   \n",
       "2  Eastern Africa          TZ              1               1              1   \n",
       "3   South America          PE              1               1              1   \n",
       "4   South America          BO              1               1              0   \n",
       "\n",
       "  binFourth_taste count_tastes  \n",
       "0               0            3  \n",
       "1               0            3  \n",
       "2               0            3  \n",
       "3               0            3  \n",
       "4               0            2  \n",
       "\n",
       "[5 rows x 33 columns]"
      ]
     },
     "execution_count": 106,
     "metadata": {},
     "output_type": "execute_result"
    }
   ],
   "source": [
    "test_taste.head()"
   ]
  },
  {
   "cell_type": "markdown",
   "metadata": {},
   "source": [
    "### Radar Plot\n"
   ]
  },
  {
   "cell_type": "code",
   "execution_count": 107,
   "metadata": {
    "scrolled": true
   },
   "outputs": [],
   "source": [
    "feat_radar = ['cocoa_percent', 'rating', 'counts_of_ingredients', 'count_tastes']"
   ]
  },
  {
   "cell_type": "code",
   "execution_count": 108,
   "metadata": {
    "scrolled": false
   },
   "outputs": [
    {
     "data": {
      "text/html": [
       "<div>\n",
       "<style scoped>\n",
       "    .dataframe tbody tr th:only-of-type {\n",
       "        vertical-align: middle;\n",
       "    }\n",
       "\n",
       "    .dataframe tbody tr th {\n",
       "        vertical-align: top;\n",
       "    }\n",
       "\n",
       "    .dataframe thead th {\n",
       "        text-align: right;\n",
       "    }\n",
       "</style>\n",
       "<table border=\"1\" class=\"dataframe\">\n",
       "  <thead>\n",
       "    <tr style=\"text-align: right;\">\n",
       "      <th></th>\n",
       "      <th>cocoa_level</th>\n",
       "      <th>rating</th>\n",
       "      <th>counts_of_ingredients</th>\n",
       "      <th>count_tastes</th>\n",
       "      <th>company_name</th>\n",
       "    </tr>\n",
       "    <tr>\n",
       "      <th>company</th>\n",
       "      <th></th>\n",
       "      <th></th>\n",
       "      <th></th>\n",
       "      <th></th>\n",
       "      <th></th>\n",
       "    </tr>\n",
       "  </thead>\n",
       "  <tbody>\n",
       "    <tr>\n",
       "      <th>5150</th>\n",
       "      <td>3.80</td>\n",
       "      <td>3.50</td>\n",
       "      <td>3.00</td>\n",
       "      <td>3.00</td>\n",
       "      <td>5150</td>\n",
       "    </tr>\n",
       "    <tr>\n",
       "      <th>A. Morin</th>\n",
       "      <td>3.44</td>\n",
       "      <td>3.40</td>\n",
       "      <td>3.96</td>\n",
       "      <td>2.88</td>\n",
       "      <td>A. Morin</td>\n",
       "    </tr>\n",
       "    <tr>\n",
       "      <th>AMMA</th>\n",
       "      <td>3.45</td>\n",
       "      <td>3.50</td>\n",
       "      <td>4.00</td>\n",
       "      <td>3.40</td>\n",
       "      <td>AMMA</td>\n",
       "    </tr>\n",
       "    <tr>\n",
       "      <th>Acalli</th>\n",
       "      <td>3.55</td>\n",
       "      <td>3.56</td>\n",
       "      <td>2.00</td>\n",
       "      <td>2.75</td>\n",
       "      <td>Acalli</td>\n",
       "    </tr>\n",
       "    <tr>\n",
       "      <th>Adi aka Fijiana (Easy In Ltd)</th>\n",
       "      <td>3.75</td>\n",
       "      <td>3.25</td>\n",
       "      <td>3.00</td>\n",
       "      <td>1.75</td>\n",
       "      <td>Adi aka Fijiana (Easy In Ltd)</td>\n",
       "    </tr>\n",
       "    <tr>\n",
       "      <th>...</th>\n",
       "      <td>...</td>\n",
       "      <td>...</td>\n",
       "      <td>...</td>\n",
       "      <td>...</td>\n",
       "      <td>...</td>\n",
       "    </tr>\n",
       "    <tr>\n",
       "      <th>Zotter</th>\n",
       "      <td>3.52</td>\n",
       "      <td>3.35</td>\n",
       "      <td>3.82</td>\n",
       "      <td>2.88</td>\n",
       "      <td>Zotter</td>\n",
       "    </tr>\n",
       "    <tr>\n",
       "      <th>hello cocoa</th>\n",
       "      <td>3.28</td>\n",
       "      <td>3.12</td>\n",
       "      <td>3.00</td>\n",
       "      <td>3.00</td>\n",
       "      <td>hello cocoa</td>\n",
       "    </tr>\n",
       "    <tr>\n",
       "      <th>hexx</th>\n",
       "      <td>3.58</td>\n",
       "      <td>2.92</td>\n",
       "      <td>2.00</td>\n",
       "      <td>2.90</td>\n",
       "      <td>hexx</td>\n",
       "    </tr>\n",
       "    <tr>\n",
       "      <th>organicfair</th>\n",
       "      <td>3.61</td>\n",
       "      <td>2.88</td>\n",
       "      <td>3.00</td>\n",
       "      <td>3.00</td>\n",
       "      <td>organicfair</td>\n",
       "    </tr>\n",
       "    <tr>\n",
       "      <th>twenty-four blackbirds</th>\n",
       "      <td>3.69</td>\n",
       "      <td>3.07</td>\n",
       "      <td>2.00</td>\n",
       "      <td>2.86</td>\n",
       "      <td>twenty-four blackbirds</td>\n",
       "    </tr>\n",
       "  </tbody>\n",
       "</table>\n",
       "<p>488 rows × 5 columns</p>\n",
       "</div>"
      ],
      "text/plain": [
       "                               cocoa_level  rating  counts_of_ingredients  \\\n",
       "company                                                                     \n",
       "5150                                  3.80    3.50                   3.00   \n",
       "A. Morin                              3.44    3.40                   3.96   \n",
       "AMMA                                  3.45    3.50                   4.00   \n",
       "Acalli                                3.55    3.56                   2.00   \n",
       "Adi aka Fijiana (Easy In Ltd)         3.75    3.25                   3.00   \n",
       "...                                    ...     ...                    ...   \n",
       "Zotter                                3.52    3.35                   3.82   \n",
       "hello cocoa                           3.28    3.12                   3.00   \n",
       "hexx                                  3.58    2.92                   2.00   \n",
       "organicfair                           3.61    2.88                   3.00   \n",
       "twenty-four blackbirds                3.69    3.07                   2.00   \n",
       "\n",
       "                               count_tastes                   company_name  \n",
       "company                                                                     \n",
       "5150                                   3.00                           5150  \n",
       "A. Morin                               2.88                       A. Morin  \n",
       "AMMA                                   3.40                           AMMA  \n",
       "Acalli                                 2.75                         Acalli  \n",
       "Adi aka Fijiana (Easy In Ltd)          1.75  Adi aka Fijiana (Easy In Ltd)  \n",
       "...                                     ...                            ...  \n",
       "Zotter                                 2.88                         Zotter  \n",
       "hello cocoa                            3.00                    hello cocoa  \n",
       "hexx                                   2.90                           hexx  \n",
       "organicfair                            3.00                    organicfair  \n",
       "twenty-four blackbirds                 2.86         twenty-four blackbirds  \n",
       "\n",
       "[488 rows x 5 columns]"
      ]
     },
     "execution_count": 108,
     "metadata": {},
     "output_type": "execute_result"
    }
   ],
   "source": [
    "radar = pd.DataFrame(round(test_taste.groupby(by = 'company')[feat_radar].mean(),2))\n",
    "radar['company_name'] = radar.index\n",
    "radar.insert(0, 'cocoa_level', round((5 * radar['cocoa_percent']) / 100, 2))\n",
    "radar.drop(columns = {'cocoa_percent'}, inplace = True)\n",
    "radar"
   ]
  },
  {
   "cell_type": "code",
   "execution_count": 109,
   "metadata": {},
   "outputs": [],
   "source": [
    "feat_radar = ['cocoa_level', 'rating', 'counts_of_ingredients', 'count_tastes']"
   ]
  },
  {
   "cell_type": "code",
   "execution_count": 110,
   "metadata": {},
   "outputs": [],
   "source": [
    "company1 = '5150'\n",
    "company2 = 'A. Morin'"
   ]
  },
  {
   "cell_type": "code",
   "execution_count": 111,
   "metadata": {},
   "outputs": [
    {
     "data": {
      "text/plain": [
       "company\n",
       "5150                              True\n",
       "A. Morin                          True\n",
       "AMMA                             False\n",
       "Acalli                           False\n",
       "Adi aka Fijiana (Easy In Ltd)    False\n",
       "                                 ...  \n",
       "Zotter                           False\n",
       "hello cocoa                      False\n",
       "hexx                             False\n",
       "organicfair                      False\n",
       "twenty-four blackbirds           False\n",
       "Name: company_name, Length: 488, dtype: bool"
      ]
     },
     "execution_count": 111,
     "metadata": {},
     "output_type": "execute_result"
    }
   ],
   "source": [
    "radar['company_name'].isin([company1, company2])"
   ]
  },
  {
   "cell_type": "code",
   "execution_count": 112,
   "metadata": {},
   "outputs": [
    {
     "data": {
      "text/plain": [
       "[3.8, 3.5, 3.0, 3.0]"
      ]
     },
     "execution_count": 112,
     "metadata": {},
     "output_type": "execute_result"
    }
   ],
   "source": [
    "company1_list = []\n",
    "\n",
    "company1_df = pd.DataFrame(radar[radar['company_name'] == company1])\n",
    "for i in range(len(radar.columns)-1):\n",
    "    company1_list.append(radar[radar['company_name'] == company1].iloc[0,i])\n",
    "\n",
    "company1_list"
   ]
  },
  {
   "cell_type": "code",
   "execution_count": 113,
   "metadata": {},
   "outputs": [
    {
     "data": {
      "text/plain": [
       "[3.44, 3.4, 3.96, 2.88]"
      ]
     },
     "execution_count": 113,
     "metadata": {},
     "output_type": "execute_result"
    }
   ],
   "source": [
    "company2_list = []\n",
    "\n",
    "company2_df = pd.DataFrame(radar[radar['company_name'] == company2])\n",
    "for i in range(len(radar.columns)-1):\n",
    "    company2_list.append(radar[radar['company_name'] == company2].iloc[0,i])\n",
    "\n",
    "company2_list"
   ]
  },
  {
   "cell_type": "code",
   "execution_count": 114,
   "metadata": {},
   "outputs": [
    {
     "data": {
      "text/plain": [
       "['cocoa_level', 'rating', 'counts_of_ingredients', 'count_tastes']"
      ]
     },
     "execution_count": 114,
     "metadata": {},
     "output_type": "execute_result"
    }
   ],
   "source": [
    "feat_radar"
   ]
  },
  {
   "cell_type": "code",
   "execution_count": 115,
   "metadata": {
    "scrolled": false
   },
   "outputs": [
    {
     "data": {
      "application/vnd.plotly.v1+json": {
       "config": {
        "plotlyServerURL": "https://plot.ly"
       },
       "data": [
        {
         "fill": "toself",
         "hoverinfo": "text",
         "marker": {
          "color": "rgb(205,102,29)"
         },
         "name": "5150",
         "opacity": 1,
         "r": [
          3.8,
          3.5,
          3,
          3
         ],
         "text": [
          "cocoa_level = 3.8",
          "rating = 3.5",
          "counts_of_ingredients = 3.0",
          "count_tastes = 3.0"
         ],
         "theta": [
          "Level of Cocoa",
          "Rating",
          "Number of Ingredients",
          "Number of Tastes"
         ],
         "type": "scatterpolar"
        },
        {
         "fill": "toself",
         "hoverinfo": "text",
         "marker": {
          "color": "rgb(193,255,193)"
         },
         "name": "A. Morin",
         "r": [
          3.44,
          3.4,
          3.96,
          2.88
         ],
         "text": [
          "cocoa_level = 3.44",
          "rating = 3.4",
          "counts_of_ingredients = 3.96",
          "count_tastes = 2.88"
         ],
         "theta": [
          "Level of Cocoa",
          "Rating",
          "Number of Ingredients",
          "Number of Tastes"
         ],
         "type": "scatterpolar"
        }
       ],
       "layout": {
        "paper_bgcolor": "rgba(0,0,0,0)",
        "plot_bgcolor": "rgba(0,0,0,0)",
        "polar": {
         "radialaxis": {
          "range": [
           0,
           5
          ],
          "visible": true
         }
        },
        "showlegend": true,
        "template": {
         "data": {
          "bar": [
           {
            "error_x": {
             "color": "#2a3f5f"
            },
            "error_y": {
             "color": "#2a3f5f"
            },
            "marker": {
             "line": {
              "color": "#E5ECF6",
              "width": 0.5
             },
             "pattern": {
              "fillmode": "overlay",
              "size": 10,
              "solidity": 0.2
             }
            },
            "type": "bar"
           }
          ],
          "barpolar": [
           {
            "marker": {
             "line": {
              "color": "#E5ECF6",
              "width": 0.5
             },
             "pattern": {
              "fillmode": "overlay",
              "size": 10,
              "solidity": 0.2
             }
            },
            "type": "barpolar"
           }
          ],
          "carpet": [
           {
            "aaxis": {
             "endlinecolor": "#2a3f5f",
             "gridcolor": "white",
             "linecolor": "white",
             "minorgridcolor": "white",
             "startlinecolor": "#2a3f5f"
            },
            "baxis": {
             "endlinecolor": "#2a3f5f",
             "gridcolor": "white",
             "linecolor": "white",
             "minorgridcolor": "white",
             "startlinecolor": "#2a3f5f"
            },
            "type": "carpet"
           }
          ],
          "choropleth": [
           {
            "colorbar": {
             "outlinewidth": 0,
             "ticks": ""
            },
            "type": "choropleth"
           }
          ],
          "contour": [
           {
            "colorbar": {
             "outlinewidth": 0,
             "ticks": ""
            },
            "colorscale": [
             [
              0,
              "#0d0887"
             ],
             [
              0.1111111111111111,
              "#46039f"
             ],
             [
              0.2222222222222222,
              "#7201a8"
             ],
             [
              0.3333333333333333,
              "#9c179e"
             ],
             [
              0.4444444444444444,
              "#bd3786"
             ],
             [
              0.5555555555555556,
              "#d8576b"
             ],
             [
              0.6666666666666666,
              "#ed7953"
             ],
             [
              0.7777777777777778,
              "#fb9f3a"
             ],
             [
              0.8888888888888888,
              "#fdca26"
             ],
             [
              1,
              "#f0f921"
             ]
            ],
            "type": "contour"
           }
          ],
          "contourcarpet": [
           {
            "colorbar": {
             "outlinewidth": 0,
             "ticks": ""
            },
            "type": "contourcarpet"
           }
          ],
          "heatmap": [
           {
            "colorbar": {
             "outlinewidth": 0,
             "ticks": ""
            },
            "colorscale": [
             [
              0,
              "#0d0887"
             ],
             [
              0.1111111111111111,
              "#46039f"
             ],
             [
              0.2222222222222222,
              "#7201a8"
             ],
             [
              0.3333333333333333,
              "#9c179e"
             ],
             [
              0.4444444444444444,
              "#bd3786"
             ],
             [
              0.5555555555555556,
              "#d8576b"
             ],
             [
              0.6666666666666666,
              "#ed7953"
             ],
             [
              0.7777777777777778,
              "#fb9f3a"
             ],
             [
              0.8888888888888888,
              "#fdca26"
             ],
             [
              1,
              "#f0f921"
             ]
            ],
            "type": "heatmap"
           }
          ],
          "heatmapgl": [
           {
            "colorbar": {
             "outlinewidth": 0,
             "ticks": ""
            },
            "colorscale": [
             [
              0,
              "#0d0887"
             ],
             [
              0.1111111111111111,
              "#46039f"
             ],
             [
              0.2222222222222222,
              "#7201a8"
             ],
             [
              0.3333333333333333,
              "#9c179e"
             ],
             [
              0.4444444444444444,
              "#bd3786"
             ],
             [
              0.5555555555555556,
              "#d8576b"
             ],
             [
              0.6666666666666666,
              "#ed7953"
             ],
             [
              0.7777777777777778,
              "#fb9f3a"
             ],
             [
              0.8888888888888888,
              "#fdca26"
             ],
             [
              1,
              "#f0f921"
             ]
            ],
            "type": "heatmapgl"
           }
          ],
          "histogram": [
           {
            "marker": {
             "pattern": {
              "fillmode": "overlay",
              "size": 10,
              "solidity": 0.2
             }
            },
            "type": "histogram"
           }
          ],
          "histogram2d": [
           {
            "colorbar": {
             "outlinewidth": 0,
             "ticks": ""
            },
            "colorscale": [
             [
              0,
              "#0d0887"
             ],
             [
              0.1111111111111111,
              "#46039f"
             ],
             [
              0.2222222222222222,
              "#7201a8"
             ],
             [
              0.3333333333333333,
              "#9c179e"
             ],
             [
              0.4444444444444444,
              "#bd3786"
             ],
             [
              0.5555555555555556,
              "#d8576b"
             ],
             [
              0.6666666666666666,
              "#ed7953"
             ],
             [
              0.7777777777777778,
              "#fb9f3a"
             ],
             [
              0.8888888888888888,
              "#fdca26"
             ],
             [
              1,
              "#f0f921"
             ]
            ],
            "type": "histogram2d"
           }
          ],
          "histogram2dcontour": [
           {
            "colorbar": {
             "outlinewidth": 0,
             "ticks": ""
            },
            "colorscale": [
             [
              0,
              "#0d0887"
             ],
             [
              0.1111111111111111,
              "#46039f"
             ],
             [
              0.2222222222222222,
              "#7201a8"
             ],
             [
              0.3333333333333333,
              "#9c179e"
             ],
             [
              0.4444444444444444,
              "#bd3786"
             ],
             [
              0.5555555555555556,
              "#d8576b"
             ],
             [
              0.6666666666666666,
              "#ed7953"
             ],
             [
              0.7777777777777778,
              "#fb9f3a"
             ],
             [
              0.8888888888888888,
              "#fdca26"
             ],
             [
              1,
              "#f0f921"
             ]
            ],
            "type": "histogram2dcontour"
           }
          ],
          "mesh3d": [
           {
            "colorbar": {
             "outlinewidth": 0,
             "ticks": ""
            },
            "type": "mesh3d"
           }
          ],
          "parcoords": [
           {
            "line": {
             "colorbar": {
              "outlinewidth": 0,
              "ticks": ""
             }
            },
            "type": "parcoords"
           }
          ],
          "pie": [
           {
            "automargin": true,
            "type": "pie"
           }
          ],
          "scatter": [
           {
            "marker": {
             "colorbar": {
              "outlinewidth": 0,
              "ticks": ""
             }
            },
            "type": "scatter"
           }
          ],
          "scatter3d": [
           {
            "line": {
             "colorbar": {
              "outlinewidth": 0,
              "ticks": ""
             }
            },
            "marker": {
             "colorbar": {
              "outlinewidth": 0,
              "ticks": ""
             }
            },
            "type": "scatter3d"
           }
          ],
          "scattercarpet": [
           {
            "marker": {
             "colorbar": {
              "outlinewidth": 0,
              "ticks": ""
             }
            },
            "type": "scattercarpet"
           }
          ],
          "scattergeo": [
           {
            "marker": {
             "colorbar": {
              "outlinewidth": 0,
              "ticks": ""
             }
            },
            "type": "scattergeo"
           }
          ],
          "scattergl": [
           {
            "marker": {
             "colorbar": {
              "outlinewidth": 0,
              "ticks": ""
             }
            },
            "type": "scattergl"
           }
          ],
          "scattermapbox": [
           {
            "marker": {
             "colorbar": {
              "outlinewidth": 0,
              "ticks": ""
             }
            },
            "type": "scattermapbox"
           }
          ],
          "scatterpolar": [
           {
            "marker": {
             "colorbar": {
              "outlinewidth": 0,
              "ticks": ""
             }
            },
            "type": "scatterpolar"
           }
          ],
          "scatterpolargl": [
           {
            "marker": {
             "colorbar": {
              "outlinewidth": 0,
              "ticks": ""
             }
            },
            "type": "scatterpolargl"
           }
          ],
          "scatterternary": [
           {
            "marker": {
             "colorbar": {
              "outlinewidth": 0,
              "ticks": ""
             }
            },
            "type": "scatterternary"
           }
          ],
          "surface": [
           {
            "colorbar": {
             "outlinewidth": 0,
             "ticks": ""
            },
            "colorscale": [
             [
              0,
              "#0d0887"
             ],
             [
              0.1111111111111111,
              "#46039f"
             ],
             [
              0.2222222222222222,
              "#7201a8"
             ],
             [
              0.3333333333333333,
              "#9c179e"
             ],
             [
              0.4444444444444444,
              "#bd3786"
             ],
             [
              0.5555555555555556,
              "#d8576b"
             ],
             [
              0.6666666666666666,
              "#ed7953"
             ],
             [
              0.7777777777777778,
              "#fb9f3a"
             ],
             [
              0.8888888888888888,
              "#fdca26"
             ],
             [
              1,
              "#f0f921"
             ]
            ],
            "type": "surface"
           }
          ],
          "table": [
           {
            "cells": {
             "fill": {
              "color": "#EBF0F8"
             },
             "line": {
              "color": "white"
             }
            },
            "header": {
             "fill": {
              "color": "#C8D4E3"
             },
             "line": {
              "color": "white"
             }
            },
            "type": "table"
           }
          ]
         },
         "layout": {
          "annotationdefaults": {
           "arrowcolor": "#2a3f5f",
           "arrowhead": 0,
           "arrowwidth": 1
          },
          "autotypenumbers": "strict",
          "coloraxis": {
           "colorbar": {
            "outlinewidth": 0,
            "ticks": ""
           }
          },
          "colorscale": {
           "diverging": [
            [
             0,
             "#8e0152"
            ],
            [
             0.1,
             "#c51b7d"
            ],
            [
             0.2,
             "#de77ae"
            ],
            [
             0.3,
             "#f1b6da"
            ],
            [
             0.4,
             "#fde0ef"
            ],
            [
             0.5,
             "#f7f7f7"
            ],
            [
             0.6,
             "#e6f5d0"
            ],
            [
             0.7,
             "#b8e186"
            ],
            [
             0.8,
             "#7fbc41"
            ],
            [
             0.9,
             "#4d9221"
            ],
            [
             1,
             "#276419"
            ]
           ],
           "sequential": [
            [
             0,
             "#0d0887"
            ],
            [
             0.1111111111111111,
             "#46039f"
            ],
            [
             0.2222222222222222,
             "#7201a8"
            ],
            [
             0.3333333333333333,
             "#9c179e"
            ],
            [
             0.4444444444444444,
             "#bd3786"
            ],
            [
             0.5555555555555556,
             "#d8576b"
            ],
            [
             0.6666666666666666,
             "#ed7953"
            ],
            [
             0.7777777777777778,
             "#fb9f3a"
            ],
            [
             0.8888888888888888,
             "#fdca26"
            ],
            [
             1,
             "#f0f921"
            ]
           ],
           "sequentialminus": [
            [
             0,
             "#0d0887"
            ],
            [
             0.1111111111111111,
             "#46039f"
            ],
            [
             0.2222222222222222,
             "#7201a8"
            ],
            [
             0.3333333333333333,
             "#9c179e"
            ],
            [
             0.4444444444444444,
             "#bd3786"
            ],
            [
             0.5555555555555556,
             "#d8576b"
            ],
            [
             0.6666666666666666,
             "#ed7953"
            ],
            [
             0.7777777777777778,
             "#fb9f3a"
            ],
            [
             0.8888888888888888,
             "#fdca26"
            ],
            [
             1,
             "#f0f921"
            ]
           ]
          },
          "colorway": [
           "#636efa",
           "#EF553B",
           "#00cc96",
           "#ab63fa",
           "#FFA15A",
           "#19d3f3",
           "#FF6692",
           "#B6E880",
           "#FF97FF",
           "#FECB52"
          ],
          "font": {
           "color": "#2a3f5f"
          },
          "geo": {
           "bgcolor": "white",
           "lakecolor": "white",
           "landcolor": "#E5ECF6",
           "showlakes": true,
           "showland": true,
           "subunitcolor": "white"
          },
          "hoverlabel": {
           "align": "left"
          },
          "hovermode": "closest",
          "mapbox": {
           "style": "light"
          },
          "paper_bgcolor": "white",
          "plot_bgcolor": "#E5ECF6",
          "polar": {
           "angularaxis": {
            "gridcolor": "white",
            "linecolor": "white",
            "ticks": ""
           },
           "bgcolor": "#E5ECF6",
           "radialaxis": {
            "gridcolor": "white",
            "linecolor": "white",
            "ticks": ""
           }
          },
          "scene": {
           "xaxis": {
            "backgroundcolor": "#E5ECF6",
            "gridcolor": "white",
            "gridwidth": 2,
            "linecolor": "white",
            "showbackground": true,
            "ticks": "",
            "zerolinecolor": "white"
           },
           "yaxis": {
            "backgroundcolor": "#E5ECF6",
            "gridcolor": "white",
            "gridwidth": 2,
            "linecolor": "white",
            "showbackground": true,
            "ticks": "",
            "zerolinecolor": "white"
           },
           "zaxis": {
            "backgroundcolor": "#E5ECF6",
            "gridcolor": "white",
            "gridwidth": 2,
            "linecolor": "white",
            "showbackground": true,
            "ticks": "",
            "zerolinecolor": "white"
           }
          },
          "shapedefaults": {
           "line": {
            "color": "#2a3f5f"
           }
          },
          "ternary": {
           "aaxis": {
            "gridcolor": "white",
            "linecolor": "white",
            "ticks": ""
           },
           "baxis": {
            "gridcolor": "white",
            "linecolor": "white",
            "ticks": ""
           },
           "bgcolor": "#E5ECF6",
           "caxis": {
            "gridcolor": "white",
            "linecolor": "white",
            "ticks": ""
           }
          },
          "title": {
           "x": 0.05
          },
          "xaxis": {
           "automargin": true,
           "gridcolor": "white",
           "linecolor": "white",
           "ticks": "",
           "title": {
            "standoff": 15
           },
           "zerolinecolor": "white",
           "zerolinewidth": 2
          },
          "yaxis": {
           "automargin": true,
           "gridcolor": "white",
           "linecolor": "white",
           "ticks": "",
           "title": {
            "standoff": 15
           },
           "zerolinecolor": "white",
           "zerolinewidth": 2
          }
         }
        }
       }
      }
     },
     "metadata": {},
     "output_type": "display_data"
    }
   ],
   "source": [
    "\n",
    "fig = go.Figure(data=go.Scatterpolar(\n",
    "        r=company1_list,\n",
    "        theta=['Level of Cocoa', 'Rating', 'Number of Ingredients', 'Number of Tastes'],\n",
    "        fill='toself', \n",
    "        marker_color = 'rgb(205,102,29)',   \n",
    "        opacity =1, \n",
    "        hoverinfo = \"text\" ,\n",
    "        name = company1,\n",
    "        text  = [company1_df.columns[i] + ' = ' + str(company1_df.iloc[0,i]) for i in range(len(company1_list))]\n",
    "    ), layout = Layout(\n",
    "    paper_bgcolor='rgba(0,0,0,0)',\n",
    "    plot_bgcolor='rgba(0,0,0,0)'))\n",
    "fig.add_trace(go.Scatterpolar(\n",
    "        r=company2_list,\n",
    "        theta=['Level of Cocoa', 'Rating', 'Number of Ingredients', 'Number of Tastes'],\n",
    "        fill='toself',\n",
    "        marker_color = 'rgb(193,255,193)',\n",
    "        hoverinfo = \"text\" ,\n",
    "        name= company2,\n",
    "        text  = [company2_df.columns[i] + ' = ' + str(company2_df.iloc[0,i]) for i in range(len(company2_list))]\n",
    "        ))\n",
    "\n",
    "fig.update_layout(\n",
    "  polar=dict(\n",
    "    radialaxis=dict(\n",
    "      visible=True,\n",
    "      range=[0, 5]\n",
    "    )),\n",
    "  showlegend=True\n",
    ")\n",
    "\n",
    "fig.show()"
   ]
  },
  {
   "cell_type": "code",
   "execution_count": 116,
   "metadata": {},
   "outputs": [],
   "source": [
    "companies = list(data['company'].unique())\n",
    "#companies"
   ]
  },
  {
   "cell_type": "code",
   "execution_count": 117,
   "metadata": {},
   "outputs": [],
   "source": [
    "\n",
    "# # The app itself\n",
    "\n",
    "# app = dash.Dash(__name__)\n",
    "\n",
    "# app.layout = html.Div([\n",
    "    \n",
    "#     html.H4('Choose the companies you want to compare'),\n",
    "        \n",
    "#         html.Div([\n",
    "                      \n",
    "#             html.Div([\n",
    "#                 html.Label('Company 1'),\n",
    "#                     dcc.Dropdown(\n",
    "#                                     id='drop_comp1_id',\n",
    "#                                     options=companies,\n",
    "#                                     value='5150',\n",
    "#                                     multi=False\n",
    "#                                 ),\n",
    "#             ], className='box', style={'margin': '10px', 'padding-top':'15px', 'padding-bottom':'15px'}),\n",
    "            \n",
    "#             html.Div([\n",
    "#                 html.Label('Company 2'),\n",
    "#                     dcc.Dropdown(\n",
    "#                                     id='drop_comp2_id',\n",
    "#                                     options=companies,\n",
    "#                                     value='A. Morin',\n",
    "#                                     multi=False\n",
    "#                                 ),\n",
    "#             ], className='box', style={'margin': '10px', 'padding-top':'15px', 'padding-bottom':'15px'})]),\n",
    "                                \n",
    "            \n",
    "            \n",
    "#             html.Div([\n",
    "#                 html.Div([\n",
    "#                     html.Label('Results', style={'font-size': 'medium'}),\n",
    "#                     html.Br(),\n",
    "#                     html.Br(),\n",
    " \n",
    "#                 html.Div([ \n",
    "#                     html.Div([\n",
    "                        \n",
    "#                         html.Div([\n",
    "#                             html.Br(),\n",
    "#                             html.Label(id='title_map', style={'font-size':'medium'}), \n",
    "#                             html.Br(),\n",
    "#                         ], style={'width': '70%'}),\n",
    "#                         html.Div([\n",
    "\n",
    "#                         ], style={'width': '5%'}),\n",
    "                       \n",
    "                    \n",
    "#                     dcc.Graph(id='radar'),\n",
    "\n",
    "#                 ], className='box', style={'padding-bottom': '0px'}), \n",
    "#                     ]),\n",
    "#                 ], style={'width': '60%'}),           \n",
    "#             ], className='row')\n",
    "# ])\n",
    "    "
   ]
  },
  {
   "cell_type": "code",
   "execution_count": 118,
   "metadata": {},
   "outputs": [],
   "source": [
    "# @app.callback(\n",
    "   \n",
    "#    Output('radar', 'figure'),\n",
    "   \n",
    "#     [Input('drop_comp1_id', 'value'),\n",
    "#      Input('drop_comp2_id','value')] )\n",
    "\n",
    "# def update_radar(company1,company2):\n",
    "\n",
    "#     feat_radar = ['cocoa_percent', 'rating', 'counts_of_ingredients', 'count_tastes']\n",
    "\n",
    "#     radar = pd.DataFrame(round(test_taste.groupby(by = 'company')[feat_radar].mean(),2))\n",
    "#     radar['company_name'] = radar.index\n",
    "#     radar.insert(0, 'cocoa_level', round((5 * radar['cocoa_percent']) / 100, 2))\n",
    "#     radar.drop(columns = {'cocoa_percent'}, inplace = True)\n",
    "    \n",
    "#     feat_radar = ['cocoa_level', 'rating', 'counts_of_ingredients', 'count_tastes']\n",
    "\n",
    "#     company1_list = []\n",
    "\n",
    "#     company1_df = pd.DataFrame(radar[radar['company_name'] == company1])\n",
    "#     for i in range(len(radar.columns)-1):\n",
    "#         company1_list.append(radar[radar['company_name'] == company1].iloc[0,i])\n",
    "\n",
    "#     company2_list = []\n",
    "\n",
    "#     company2_df = pd.DataFrame(radar[radar['company_name'] == company2])\n",
    "#     for i in range(len(radar.columns)-1):\n",
    "#         company2_list.append(radar[radar['company_name'] == company2].iloc[0,i])\n",
    "\n",
    "\n",
    "#     fig = go.Figure(data=go.Scatterpolar(\n",
    "#             r=company1_list,\n",
    "#             theta=['Level of Cocoa', 'Rating', 'Number of Ingredients', 'Number of Tastes'],\n",
    "#             fill='toself', \n",
    "#             marker_color = 'rgb(205,102,29)',   \n",
    "#             opacity =1, \n",
    "#             hoverinfo = \"text\" ,\n",
    "#             name = company1,\n",
    "#             text  = [company1_df.columns[i] + ' = ' + str(company1_df.iloc[0,i]) for i in range(len(company1_list))]\n",
    "#         ), layout = Layout(\n",
    "#         paper_bgcolor='rgba(0,0,0,0)',\n",
    "#         plot_bgcolor='rgba(0,0,0,0)'))\n",
    "#     fig.add_trace(go.Scatterpolar(\n",
    "#             r=company2_list,\n",
    "#             theta=['Level of Cocoa', 'Rating', 'Number of Ingredients', 'Number of Tastes'],\n",
    "#             fill='toself',\n",
    "#             marker_color = 'rgb(193,255,193)',\n",
    "#             hoverinfo = \"text\" ,\n",
    "#             name= company2,\n",
    "#             text  = [company2_df.columns[i] + ' = ' + str(company2_df.iloc[0,i]) for i in range(len(company2_list))]\n",
    "#             ))\n",
    "\n",
    "#     fig.update_layout(\n",
    "#     polar=dict(\n",
    "#         radialaxis=dict(\n",
    "#         visible=True,\n",
    "#         range=[0, 5]\n",
    "#         )),\n",
    "#     showlegend=True\n",
    "#     )\n",
    "\n",
    "#     return fig\n",
    "#     # ----------------------------------------------------------------------\n",
    "\n",
    "#     # if filtered.empty:\n",
    "#     #     name_company = 'No company was found'\n",
    "#     #     rating = 'No rating was found'\n",
    "#     #     country= 'No country was found'\n",
    "        \n",
    "#     # else:\n",
    "#     #     name_company=str(filtered.head(1)['company'].values[0])\n",
    "#     #     rating=str(filtered.head(1)['rating'].values[0])\n",
    "#     #     country=str(filtered.head(1)['company_location'].values[0])\n",
    "    \n",
    "#     # return name_company ,  \\\n",
    "#     #        rating , \\\n",
    "#     #        country , \\\n",
    "#     #        fig\n",
    "\n"
   ]
  },
  {
   "cell_type": "code",
   "execution_count": 119,
   "metadata": {},
   "outputs": [],
   "source": [
    "# if __name__ == '__main__':\n",
    "#     app.run_server()"
   ]
  },
  {
   "cell_type": "markdown",
   "metadata": {},
   "source": [
    "MAP"
   ]
  },
  {
   "cell_type": "code",
   "execution_count": 120,
   "metadata": {},
   "outputs": [],
   "source": [
    "path_geo = ''\n",
    "\n",
    "data_geo = dict()\n",
    "\n",
    "with open(path_geo + 'world.geojson') as json_file:\n",
    "\n",
    "    data_geo = json.load(json_file)\n",
    "    \n",
    "\n",
    "data_company=data.groupby(by=[\"company_location\"]).agg({\"rating\":\"mean\",\"ref\":\"count\"})\n",
    "\n",
    "data_company.reset_index(inplace=True)\n",
    "\n",
    "data_origin=data.groupby(by=['country_of_bean_origin']).agg({\"rating\":\"mean\",\"ref\":\"count\"})\n",
    "\n",
    "data_origin.reset_index(inplace=True)\n",
    "\n",
    "data_company.rename(columns={'company_location': 'country'}, inplace=True)\n",
    "\n",
    "data_origin.rename(columns={'country_of_bean_origin': 'country'}, inplace=True)\n",
    "\n",
    "\n",
    "\n",
    "for feature in data_geo['features']:\n",
    "    feature['id'] = feature['properties']['NAME']\n",
    "\n",
    "i=0\n",
    "\n",
    "pays=[]\n",
    "\n",
    "while i<len(data_geo['features']):\n",
    "\n",
    "    pays.append(data_geo['features'][i]['id'])\n",
    "\n",
    "    i+=1\n",
    "\n",
    "\n",
    "missing1=[]\n",
    "\n",
    "for country in data_origin[\"country\"].values:\n",
    "    if country not in pays:\n",
    "        missing1.append(country)\n",
    "\n",
    "missing2=[]\n",
    "\n",
    "for country in data_company[\"country\"].values:\n",
    "\n",
    "    if country not in pays:\n",
    "\n",
    "        missing2.append(country)\n",
    "\n",
    "\n",
    "\n",
    "data_origin[\"country\"] = np.where(data_origin[\"country\"] == \"Venezuela (Bolivarian Republic of)\", \"Venezuela\", data_origin[\"country\"])\n",
    "\n",
    "data_origin[\"country\"] = np.where(data_origin[\"country\"] == \"Tanzania, United Republic of\", \"Tanzania\", data_origin[\"country\"])\n",
    "\n",
    "data_origin[\"country\"] = np.where(data_origin[\"country\"] == \"Bolivia (Plurinational State of)\", \"Bolivia\", data_origin[\"country\"])\n",
    "\n",
    "data_origin[\"country\"] = np.where(data_origin[\"country\"] == \"Bolvia\", \"Bolivia\", data_origin[\"country\"])\n",
    "\n",
    "data_origin[\"country\"] = np.where(data_origin[\"country\"] == \"U.S.A.\", \"United States\", data_origin[\"country\"])\n",
    "\n",
    "data_origin[\"country\"] = np.where(data_origin[\"country\"] == \"Taiwan, Province of China\", \"Taiwan\", data_origin[\"country\"])\n",
    "\n",
    "data_origin[\"country\"] = np.where(data_origin[\"country\"] == \"Martinique\", \"France\", data_origin[\"country\"]) #colÃ³nia francesa\n",
    "\n",
    "data_origin[\"country\"] = np.where(data_origin[\"country\"] == \"Sulawesi\", \"Indonesia\", data_origin[\"country\"]) #parte da indonÃ©sia\n",
    "\n",
    "data_origin[\"country\"] = np.where(data_origin[\"country\"] == \"Principe\", \"SÃ£o TomÃ© and Principe\", data_origin[\"country\"])\n",
    "\n",
    "data_origin[\"country\"] = np.where(data_origin[\"country\"] == \"Sao Tome and Principe\", \"SÃ£o TomÃ© and Principe\", data_origin[\"country\"])\n",
    "\n",
    "data_origin[\"country\"] = np.where(data_origin[\"country\"] == \"Sumatra\", \"Indonesia\", data_origin[\"country\"]) #parte da indonÃ©sia\n",
    "\n",
    "data_origin[\"country\"] = np.where(data_origin[\"country\"] == \"Tobago\", \"Trinidad and Tobago\", data_origin[\"country\"])\n",
    "\n",
    "data_origin[\"country\"] = np.where(data_origin[\"country\"] == \"Sao TomÃ© and Principe\", \"SÃ£o TomÃ© and Principe\", data_origin[\"country\"])\n",
    "\n",
    "data_origin[\"country\"] = np.where(data_origin[\"country\"] == \"Congo (Democratic Republic of the)\", \"Dem. Rep. Congo\", data_origin[\"country\"])\n",
    "\n",
    "data_origin[\"country\"] = np.where(data_origin[\"country\"] == \"Viet Nam\", \"Vietnam\", data_origin[\"country\"])\n",
    "\n",
    "data_origin[\"country\"] = np.where(data_origin[\"country\"] == \"Ivory Coast\", \"CÃ´te d'Ivoire\", data_origin[\"country\"])\n",
    "\n",
    "data_origin[\"country\"] = np.where(data_origin[\"country\"] == \"Solomon Islands\", \"Solomon Is.\", data_origin[\"country\"])\n",
    "\n",
    "data_origin[\"country\"] = np.where(data_origin[\"country\"] == \"Dominican Republic\", \"Dominican Rep.\", data_origin[\"country\"])\n",
    "\n",
    "\n",
    "\n",
    "data_company[\"country\"] = np.where(data_company[\"country\"] == \"United Kingdom of Great Britain and Northern Ireland\", \"United Kingdom\", data_company[\"country\"])\n",
    "\n",
    "data_company[\"country\"] = np.where(data_company[\"country\"] == \"Venezuela (Bolivarian Republic of)\", \"Venezuela\", data_company[\"country\"])\n",
    "\n",
    "data_company[\"country\"] = np.where(data_company[\"country\"] == \"Wales\", \"United Kingdom\", data_company[\"country\"])\n",
    "\n",
    "data_company[\"country\"] = np.where(data_company[\"country\"] == \"Bolivia (Plurinational State of)\", \"Bolivia\", data_company[\"country\"])\n",
    "\n",
    "data_company[\"country\"] = np.where(data_company[\"country\"] == \"Russian Federation\", \"Russia\", data_company[\"country\"])\n",
    "\n",
    "data_company[\"country\"] = np.where(data_company[\"country\"] == \"Martinique\", \"France\", data_company[\"country\"])\n",
    "\n",
    "data_company[\"country\"] = np.where(data_company[\"country\"] == \"Taiwan, Province of China\", \"Taiwan\", data_company[\"country\"])\n",
    "\n",
    "data_company[\"country\"] = np.where(data_company[\"country\"] == \"Korea (Republic of)\", \"South Korea\", data_company[\"country\"])\n",
    "\n",
    "data_company[\"country\"] = np.where(data_company[\"country\"] == \"Viet Nam\", \"Vietnam\", data_company[\"country\"])\n",
    "\n",
    "data_company[\"country\"] = np.where(data_company[\"country\"] == \"United States of America\", \"United States\", data_company[\"country\"])\n",
    "\n",
    "data_company[\"country\"] = np.where(data_company[\"country\"] == \"Dominican Republic\", \"Dominican Rep.\", data_company[\"country\"])\n",
    "\n",
    "data_company[\"country\"] = np.where(data_company[\"country\"] == \"Sao Tome and Principe\", \"SÃ£o TomÃ© and Principe\", data_company[\"country\"])\n",
    "\n",
    "data_company[\"country\"] = np.where(data_company[\"country\"] == \"Czech Republic\", \"Czechia\", data_company[\"country\"])\n",
    "\n",
    "\n",
    "\n",
    "data_company.drop(data_company[data_company[\"country\"]==\"Grenada\"].index, inplace=True)\n",
    "\n",
    "data_company.drop(data_company[data_company[\"country\"]==\"Saint Vincent and the Grenadines\"].index, inplace=True)\n",
    "\n",
    "\n",
    "\n",
    "data_origin.drop(data_origin[data_origin[\"country\"]==\"Samoa\"].index, inplace=True)\n",
    "data_origin.drop(data_origin[data_origin[\"country\"]==\"Grenada\"].index, inplace=True)\n",
    "\n",
    "data_origin.drop(data_origin[data_origin[\"country\"]==\"Saint Vincent and the Grenadines\"].index, inplace=True)\n"
   ]
  },
  {
   "cell_type": "code",
   "execution_count": null,
   "metadata": {},
   "outputs": [],
   "source": []
  },
  {
   "cell_type": "markdown",
   "metadata": {},
   "source": [
    "# -------------------APP------------------"
   ]
  },
  {
   "cell_type": "code",
   "execution_count": 121,
   "metadata": {},
   "outputs": [
    {
     "name": "stdout",
     "output_type": "stream",
     "text": [
      "Requirement already satisfied: dash_daq in c:\\users\\beatr\\anaconda3\\lib\\site-packages (0.5.0)\n",
      "Requirement already satisfied: dash>=1.6.1 in c:\\users\\beatr\\anaconda3\\lib\\site-packages (from dash_daq) (2.3.0)\n",
      "Requirement already satisfied: plotly>=5.0.0 in c:\\users\\beatr\\anaconda3\\lib\\site-packages (from dash>=1.6.1->dash_daq) (5.1.0)\n",
      "Requirement already satisfied: dash-html-components==2.0.0 in c:\\users\\beatr\\anaconda3\\lib\\site-packages (from dash>=1.6.1->dash_daq) (2.0.0)\n",
      "Requirement already satisfied: flask-compress in c:\\users\\beatr\\anaconda3\\lib\\site-packages (from dash>=1.6.1->dash_daq) (1.11)\n",
      "Requirement already satisfied: dash-table==5.0.0 in c:\\users\\beatr\\anaconda3\\lib\\site-packages (from dash>=1.6.1->dash_daq) (5.0.0)\n",
      "Requirement already satisfied: dash-core-components==2.0.0 in c:\\users\\beatr\\anaconda3\\lib\\site-packages (from dash>=1.6.1->dash_daq) (2.0.0)\n",
      "Requirement already satisfied: Flask>=1.0.4 in c:\\users\\beatr\\anaconda3\\lib\\site-packages (from dash>=1.6.1->dash_daq) (1.1.2)\n",
      "Requirement already satisfied: Jinja2>=2.10.1 in c:\\users\\beatr\\anaconda3\\lib\\site-packages (from Flask>=1.0.4->dash>=1.6.1->dash_daq) (2.11.2)\n",
      "Requirement already satisfied: itsdangerous>=0.24 in c:\\users\\beatr\\anaconda3\\lib\\site-packages (from Flask>=1.0.4->dash>=1.6.1->dash_daq) (1.1.0)\n",
      "Requirement already satisfied: Werkzeug>=0.15 in c:\\users\\beatr\\anaconda3\\lib\\site-packages (from Flask>=1.0.4->dash>=1.6.1->dash_daq) (1.0.1)\n",
      "Requirement already satisfied: click>=5.1 in c:\\users\\beatr\\anaconda3\\lib\\site-packages (from Flask>=1.0.4->dash>=1.6.1->dash_daq) (7.1.2)\n",
      "Requirement already satisfied: six in c:\\users\\beatr\\anaconda3\\lib\\site-packages (from plotly>=5.0.0->dash>=1.6.1->dash_daq) (1.15.0)\n",
      "Requirement already satisfied: tenacity>=6.2.0 in c:\\users\\beatr\\anaconda3\\lib\\site-packages (from plotly>=5.0.0->dash>=1.6.1->dash_daq) (8.0.1)\n",
      "Requirement already satisfied: brotli in c:\\users\\beatr\\anaconda3\\lib\\site-packages (from flask-compress->dash>=1.6.1->dash_daq) (1.0.9)\n",
      "Requirement already satisfied: MarkupSafe>=0.23 in c:\\users\\beatr\\anaconda3\\lib\\site-packages (from Jinja2>=2.10.1->Flask>=1.0.4->dash>=1.6.1->dash_daq) (1.1.1)\n"
     ]
    }
   ],
   "source": [
    "!pip install dash_daq"
   ]
  },
  {
   "cell_type": "code",
   "execution_count": 122,
   "metadata": {},
   "outputs": [],
   "source": [
    "import dash_daq as daq"
   ]
  },
  {
   "cell_type": "code",
   "execution_count": 258,
   "metadata": {},
   "outputs": [],
   "source": [
    "app = dash.Dash(__name__)\n",
    "\n",
    "server = app.server\n",
    "\n",
    "app.layout = html.Div([\n",
    "                        html.Br(),\n",
    "                        html.Br(),\n",
    "                        html.Br(),\n",
    "                        html.Div([\n",
    "                                \n",
    "                                html.H1('Diving into Chocolate',style={\"margin-top\": \"0\",\"font-weight\": \"bold\",\"text-align\": \"center\",\"font-family\":'verdana'}),\n",
    "                                html.H3('Taking a closer look into the Chocolate Industry',style={\"margin-top\": \"0\",\"font-weight\": \"bold\",\"text-align\": \"center\",\"font-family\":'verdana'}),\n",
    "                                ], id='title_id'),\n",
    "                        \n",
    "                        html.Br(),\n",
    "                        html.Br(), \n",
    "                                          \n",
    "                        html.Div([ \n",
    "                                #WORLD MAP\n",
    "                                html.Div([\n",
    "                                         html.Div([\n",
    "                                                html.H3(\"Cocoa around the world\", style={\"margin-top\": \"0\",\"font-weight\": \"bold\",\"text-align\": \"center\",\"font-family\":'verdana'}),\n",
    "                                                ]),\n",
    "                                         \n",
    "                                        html.Div([\n",
    "                                               \n",
    "                                                #FILTROS\n",
    "                                                html.Div([ \n",
    "                                                        html.H4(\"Choose what you want to see in this map:\"),\n",
    "                                                        html.Div([\n",
    "                                                                html.Div([\n",
    "                                                                        dbc.RadioItems(\n",
    "                                                                                id=\"country_radio\",\n",
    "                                                                                options=[dict(label=\"Bean origin\", value=\"country_of_bean_origin\"), dict(label=\"Company location\", value=\"company_location\")],\n",
    "                                                                                className='radio',\n",
    "                                                                                value=\"country_of_bean_origin\",\n",
    "                                                                                style={'display':'block'}\n",
    "                                                                                ),\n",
    "                                                                        ]),\n",
    "                                                                html.Br(),\n",
    "                                                                html.Div([\n",
    "                                                                        dbc.RadioItems(\n",
    "                                                                                id=\"number_radio\",\n",
    "                                                                                options=[dict(label=\"Ratings\", value=\"rating\"),dict(label=\"Frequency\",value=\"ref\")],\n",
    "                                                                                value=\"rating\",\n",
    "                                                                                className='radio',\n",
    "                                                                                style={'display':'block'}\n",
    "                                                                                ),\n",
    "                                                                        ]),\n",
    "                                                                ], style = {'padding-right':'10px'}),\n",
    "                                                                html.Br(),\n",
    "                                                                html.Br(),\n",
    "                                                                html.Div([\n",
    "                                                                      html.P('In this map, you can see either the country where the cocoa beans are originally from or the nationality of the companies that produce the chocolates in the dataset, according to the average ratings of the chocolates or the number of chocolates they have.')  \n",
    "                                                                ],style={\"text-align\": \"justify\"})\n",
    "                                                                ],style={'width': '20%', 'padding-right':'10px'}) ,\n",
    "                                        \n",
    "                                                # VIS WORLD\n",
    "                                                html.Div([ \n",
    "                                                        dcc.Graph(id=\"choroplethmapbox\")\n",
    "                                                        ],style={'width': '80%','padding-bottom':'15px','padding-top':'20px'}),\n",
    "                                                \n",
    "                                                ], id='world_view', style={'display': 'flex'}), \n",
    "                                           \n",
    "                                ],className='box'),  \n",
    "                                \n",
    "                                #WORD CLOUD\n",
    "                                html.Div([ \n",
    "                                          html.Div([\n",
    "                                                html.H3(\"Where to get your favorite chocolate?\"),\n",
    "                                                ],className='title_vis'),\n",
    "                                \n",
    "                                        html.Div([ \n",
    "                                                \n",
    "                                        #FILTROS\n",
    "                                        html.Div([ \n",
    "                                                html.Div([ \n",
    "                                                        html.P('Here you have the chance to find the company which sells your dream chocolate according to its rating. If the names of the companies are colored, then they sell the chocolate with the highest review rank. The number of times the company takes place in the visualization, corresponds to the number of chocolates owned with the given filters. The words’ size corresponds to the ranking of the chocolate.')\n",
    "                                                        ],style={\"text-align\": \"justify\"}),  \n",
    "                                                html.Div([\n",
    "                                                       html.P('<strong> Note: </strong> If there are company names overlapping in the visualization, you can zoom in a specific area.') \n",
    "                                                ],style={\"font-size\": '12px',\"text-align\": \"justify\"}),\n",
    "                                                html.H4('Choose the ingredients you like a chocolate to have:'),\n",
    "                                                html.Div([ \n",
    "                                                        \n",
    "                                                        dcc.Dropdown(\n",
    "                                                                id='drop_id',\n",
    "                                                                options=ingredients,\n",
    "                                                                value=['have_sugar','have_vanila'],\n",
    "                                                                clearable=False,\n",
    "                                                                #searchable=False, \n",
    "                                                                multi=True,style= {'box-shadow': '0px 0px #ebb36a', 'border-color': '#ebb36a'} \n",
    "                                                                ),\n",
    "                                                                        ], style={'margin': '10px', 'padding-top':'15px', 'padding-bottom':'15px'}),\n",
    "                                                html.Div([ \n",
    "                                                        html.Br(),\n",
    "                                                        html.H4('Choose the desired Cocoa percentage range:'),\n",
    "                                                        dcc.RangeSlider(\n",
    "                                                                        id='percent_id',\n",
    "                                                                        min=42,\n",
    "                                                                        max=100,\n",
    "                                                                        value=[50, 58],\n",
    "                                                                        marks={'50': '50',\n",
    "                                                                                '60': '60',\n",
    "                                                                                '70': '70',\n",
    "                                                                                '80': '80',\n",
    "                                                                                '90': '90',\n",
    "                                                                                '100': '100'},\n",
    "                                                                        step=1,\n",
    "                                                                        className='rc'\n",
    "                                                                        )\n",
    "                                                        ]) ,\n",
    "                                                        \n",
    "                                                 ],style={'width': '40%'}) ,\n",
    "                                    \n",
    "                                        # VIS WORD\n",
    "                                                html.Div([\n",
    "                                                        html.Div([ \n",
    "                                                                dcc.Graph(id='graph1'),\n",
    "                                                        ]) ,\n",
    "                                                html.Div([        \n",
    "                                                        html.Div([\n",
    "                                                        html.H4('Company', style={'font-weight':'normal'}),\n",
    "                                                        html.H3(id=\"name_company_id\")\n",
    "                                                        ],className='box_info', style = {'height': '20%'}),\n",
    "                                                        \n",
    "                                                        html.Div([\n",
    "                                                        html.H4('Rating', style={'font-weight':'normal'}),\n",
    "                                                        html.H3(id=\"rating_id\")\n",
    "                                                        ],className='box_info', style = {'height': '20%'}),\n",
    "                                \n",
    "                                                        html.Div([\n",
    "                                                        html.H4('Country', style={'font-weight':'normal'}),\n",
    "                                                        html.H3(id=\"country_id\"),\n",
    "                                                        ],className='box_info', style = {'height': '20%'}),\n",
    "                                                        \n",
    "                                                        ],style={'display': 'flex','padding-left':'100px'}) ,\n",
    "                                                ], style = {'width': '60%'})\n",
    "                                                \n",
    "                                                \n",
    "                                        ],style={'display': 'flex'}),  \n",
    "                                ], className='box', id='word_cloud'), \n",
    "                                \n",
    "                                #RADAR\n",
    "                                html.Div([\n",
    "                                         \n",
    "                                        html.Div([\n",
    "                                                html.H3(\"Which company would you find better?\"),\n",
    "                                                ],className='title_vis'),\n",
    "                                        \n",
    "                                        html.Div([\n",
    "                                                #FILTROS\n",
    "                                                html.Div([\n",
    "                                                        html.Div([ \n",
    "                                                          html.P('Compare two companies of your choice according to the number of ingredients of their chocolates, their rating, the number of tastes and the level of cocoa (from 1 to 5). All these variables are an average of the values in all the chocolates owned by the company')\n",
    "                                                          ],style={\"text-align\": \"justify\"}),\n",
    "\n",
    "                                                html.Div([ \n",
    "                                                        html.H4('Company 1'),\n",
    "                                                        dcc.Dropdown(\n",
    "                                                                id='drop_comp1_id',\n",
    "                                                                options=companies,\n",
    "                                                                value='5150',\n",
    "                                                                multi=False\n",
    "                                                                ),\n",
    "                                                                ], style={'margin': '10px', 'padding-top':'15px', 'padding-bottom':'15px'}) ,\n",
    "                                        \n",
    "                                \n",
    "                                                html.Div([ \n",
    "                        \n",
    "                                                        html.H4('Company 2'),\n",
    "                                                        dcc.Dropdown(\n",
    "                                                                id='drop_comp2_id',\n",
    "                                                                options=companies,\n",
    "                                                                value='A. Morin',\n",
    "                                                                multi=False\n",
    "                                                                ),\n",
    "                                                                ], style={'margin': '10px', 'padding-bottom':'15px'}) ,\n",
    "\n",
    "                                                # html.Div([\n",
    "                                                #           html.Img(src=app.get_asset_url('chocochoco.png'), style={'position': 'relative', 'width': '50%', 'top': '-20px'})\n",
    "                                                # ])\n",
    "                                                \n",
    "                                                ],style={'width': '35%'}),\n",
    "                                                \n",
    "                                                # VIS RADAR\n",
    "                                                html.Div([ \n",
    "                                                        dcc.Graph(id='radar')\n",
    "                                                        ], style={'width': '65%','padding-bottom': '0px'}) ,\n",
    "\n",
    "                                                 \n",
    "                                                ], id='radar_view', style={'display': 'flex'}),\n",
    "\n",
    "                                               \n",
    "                                ],className='box'),\n",
    "                                #---------------------\n",
    "                                \n",
    "                             # TREEMAP\n",
    "                               html.Div([ \n",
    "                                        html.Div([\n",
    "                                                html.H3(\"Exports vs Imports of Cocoa\", style={\"margin-top\": \"0\",\"font-weight\": \"bold\",\"text-align\": \"center\",\"font-family\":'verdana'}),\n",
    "                                                ],className='title_vis'),\n",
    "                                        \n",
    "                                        #FILTROS\n",
    "                                        html.Div([\n",
    "                                                html.Div([\n",
    "                                                        html.Br(),\n",
    "                                                        html.P('Here you can have a simple overview of the main international traders of Cocoa in a year between 1991 to 2019. You can choose to look over Quantity traded or Trade in USD, between Imports or Exports and a specific year.')\n",
    "                                                ], style={\"text-align\": \"justify\", 'width': '30%','padding-left':'75px'}), \n",
    "                                                    \n",
    "                                                html.Div([ \n",
    "                                                        html.H4('What variable do you want to analyze?'),\n",
    "                                                        dbc.RadioItems(\n",
    "                                                                id='dropvartree_id', \n",
    "                                                                options=tree_variables, \n",
    "                                                                value='Quantity',\n",
    "                                                                className='radio',\n",
    "                                                                style={'display':'block'}\n",
    "                                                                ),\n",
    "                                                        ], style={'padding-bottom':'15px','width': '25%','padding-left': '120px'}),\n",
    "                                                \n",
    "                                                html.Div([                                                        \n",
    "                                                        html.H4(\"Pick a Flow:\"),\n",
    "                                                        dbc.RadioItems(\n",
    "                                                                id=\"radioflowtree_id\",\n",
    "                                                                options=tree_flows_Dict, \n",
    "                                                                value='Export',\n",
    "                                                                className='radio',\n",
    "                                                                style={'display':'block'}\n",
    "                                                                ) ,\n",
    "                                                        \n",
    "                                                        ], style={'padding-bottom':'15px','width': '25%','padding-left': '120px'}),\n",
    "\n",
    "                                                html.Div([\n",
    "                                                          html.Img(src=app.get_asset_url('tree.png'), style={'position': 'relative', 'width': '70%'})\n",
    "                                                ], style={'width': '20%'}),\n",
    "\n",
    "                                        ],style={'width': '100%','display': 'flex','justify-content': 'center'}),\n",
    "                                                \n",
    "                                        # VIS TREEMAP\n",
    "                \n",
    "                                        html.Div([\n",
    "                                                dcc.Graph(id='treemap_vis'),\n",
    "                                                dcc.Slider(\n",
    "                                                        groupby_flows['Year'].min(), \n",
    "                                                        groupby_flows['Year'].max(),\n",
    "                                                        step=None,\n",
    "                                                        value=groupby_flows['Year'].min(),\n",
    "                                                        marks={str(year): str(year) for year in groupby_flows['Year'].unique()},\n",
    "                                                        included=False,\n",
    "                                                        id='treeyear_slider',\n",
    "                                                        )\n",
    "                                                ])\n",
    "                                                \n",
    "                                        ],className='box' ),\n",
    "                               \n",
    "                                ]),\n",
    "                        html.Div([\n",
    "                        html.Div([\n",
    "                                html.H3('Authors:'),\n",
    "                                html.P('Beatriz Vizoso | Filipa Alves | Helena Oliveira | Maria Almeida')\n",
    "                                ],className='box'),\n",
    "                        \n",
    "                        html.Div([\n",
    "                                html.H3('Sources:'),\n",
    "                                dcc.Markdown(\"\"\"\\\n",
    "                                        - Chocolate dataset:\n",
    "                                                https://www.kaggle.com/datasets/rtatman/chocolate-bar-ratings\n",
    "                                        \n",
    "                                        - Cocoa Imports and Exports: \n",
    "                                                https://wits.worldbank.org/trade/comtrade/en/country/ALL/year/2019/tradeflow/Exports/partner/WLD/product/180100 \"\"\"),\n",
    "        \n",
    "                                ], className='box'),\n",
    "                        ],style={'display':'flex'})\n",
    "                        \n",
    "                ],style={'margin':'80px'})\n",
    "\n"
   ]
  },
  {
   "cell_type": "code",
   "execution_count": 259,
   "metadata": {},
   "outputs": [
    {
     "name": "stdout",
     "output_type": "stream",
     "text": [
      "Dash is running on http://127.0.0.1:8050/\n",
      "\n",
      "Dash is running on http://127.0.0.1:8050/\n",
      "\n",
      "Dash is running on http://127.0.0.1:8050/\n",
      "\n",
      "Dash is running on http://127.0.0.1:8050/\n",
      "\n",
      "Dash is running on http://127.0.0.1:8050/\n",
      "\n",
      "Dash is running on http://127.0.0.1:8050/\n",
      "\n",
      "Dash is running on http://127.0.0.1:8050/\n",
      "\n",
      "Dash is running on http://127.0.0.1:8050/\n",
      "\n",
      "Dash is running on http://127.0.0.1:8050/\n",
      "\n",
      "Dash is running on http://127.0.0.1:8050/\n",
      "\n",
      "Dash is running on http://127.0.0.1:8050/\n",
      "\n",
      "Dash is running on http://127.0.0.1:8050/\n",
      "\n",
      "Dash is running on http://127.0.0.1:8050/\n",
      "\n",
      "Dash is running on http://127.0.0.1:8050/\n",
      "\n",
      "Dash is running on http://127.0.0.1:8050/\n",
      "\n",
      "Dash is running on http://127.0.0.1:8050/\n",
      "\n",
      "Dash is running on http://127.0.0.1:8050/\n",
      "\n",
      "Dash is running on http://127.0.0.1:8050/\n",
      "\n",
      "Dash is running on http://127.0.0.1:8050/\n",
      "\n",
      "Dash is running on http://127.0.0.1:8050/\n",
      "\n",
      "Dash is running on http://127.0.0.1:8050/\n",
      "\n",
      "Dash is running on http://127.0.0.1:8050/\n",
      "\n",
      "Dash is running on http://127.0.0.1:8050/\n",
      "\n",
      "Dash is running on http://127.0.0.1:8050/\n",
      "\n",
      "Dash is running on http://127.0.0.1:8050/\n",
      "\n",
      "Dash is running on http://127.0.0.1:8050/\n",
      "\n",
      "Dash is running on http://127.0.0.1:8050/\n",
      "\n",
      "Dash is running on http://127.0.0.1:8050/\n",
      "\n",
      "Dash is running on http://127.0.0.1:8050/\n",
      "\n",
      "Dash is running on http://127.0.0.1:8050/\n",
      "\n",
      "Dash is running on http://127.0.0.1:8050/\n",
      "\n",
      "Dash is running on http://127.0.0.1:8050/\n",
      "\n",
      "Dash is running on http://127.0.0.1:8050/\n",
      "\n",
      "Dash is running on http://127.0.0.1:8050/\n",
      "\n",
      "Dash is running on http://127.0.0.1:8050/\n",
      "\n",
      "Dash is running on http://127.0.0.1:8050/\n",
      "\n",
      "Dash is running on http://127.0.0.1:8050/\n",
      "\n",
      "Dash is running on http://127.0.0.1:8050/\n",
      "\n",
      "Dash is running on http://127.0.0.1:8050/\n",
      "\n",
      "Dash is running on http://127.0.0.1:8050/\n",
      "\n",
      "Dash is running on http://127.0.0.1:8050/\n",
      "\n",
      "Dash is running on http://127.0.0.1:8050/\n",
      "\n",
      "Dash is running on http://127.0.0.1:8050/\n",
      "\n",
      "Dash is running on http://127.0.0.1:8050/\n",
      "\n",
      "Dash is running on http://127.0.0.1:8050/\n",
      "\n",
      "Dash is running on http://127.0.0.1:8050/\n",
      "\n",
      "Dash is running on http://127.0.0.1:8050/\n",
      "\n",
      "Dash is running on http://127.0.0.1:8050/\n",
      "\n",
      "Dash is running on http://127.0.0.1:8050/\n",
      "\n",
      "Dash is running on http://127.0.0.1:8050/\n",
      "\n",
      "Dash is running on http://127.0.0.1:8050/\n",
      "\n",
      "Dash is running on http://127.0.0.1:8050/\n",
      "\n",
      "Dash is running on http://127.0.0.1:8050/\n",
      "\n",
      "Dash is running on http://127.0.0.1:8050/\n",
      "\n",
      "Dash is running on http://127.0.0.1:8050/\n",
      "\n",
      "Dash is running on http://127.0.0.1:8050/\n",
      "\n",
      "Dash is running on http://127.0.0.1:8050/\n",
      "\n",
      "Dash is running on http://127.0.0.1:8050/\n",
      "\n",
      "Dash is running on http://127.0.0.1:8050/\n",
      "\n",
      "Dash is running on http://127.0.0.1:8050/\n",
      "\n",
      "Dash is running on http://127.0.0.1:8050/\n",
      "\n",
      "Dash is running on http://127.0.0.1:8050/\n",
      "\n",
      "Dash is running on http://127.0.0.1:8050/\n",
      "\n",
      "Dash is running on http://127.0.0.1:8050/\n",
      "\n",
      "Dash is running on http://127.0.0.1:8050/\n",
      "\n",
      "Dash is running on http://127.0.0.1:8050/\n",
      "\n",
      " * Serving Flask app \"__main__\" (lazy loading)\n",
      " * Environment: production\n",
      "   WARNING: This is a development server. Do not use it in a production deployment.\n",
      "   Use a production WSGI server instead.\n",
      " * Debug mode: off\n"
     ]
    },
    {
     "name": "stderr",
     "output_type": "stream",
     "text": [
      " * Running on http://127.0.0.1:8050/ (Press CTRL+C to quit)\n",
      "127.0.0.1 - - [08/Apr/2022 22:03:45] \"\u001b[37mGET / HTTP/1.1\u001b[0m\" 200 -\n",
      "127.0.0.1 - - [08/Apr/2022 22:03:46] \"\u001b[37mGET /_dash-layout HTTP/1.1\u001b[0m\" 200 -\n",
      "127.0.0.1 - - [08/Apr/2022 22:03:46] \"\u001b[37mGET /_dash-dependencies HTTP/1.1\u001b[0m\" 200 -\n",
      "127.0.0.1 - - [08/Apr/2022 22:03:46] \"\u001b[37mGET /_favicon.ico?v=2.3.0 HTTP/1.1\u001b[0m\" 200 -\n",
      "127.0.0.1 - - [08/Apr/2022 22:03:46] \"\u001b[37mGET /_dash-component-suites/dash/dcc/async-graph.js HTTP/1.1\u001b[0m\" 200 -\n",
      "127.0.0.1 - - [08/Apr/2022 22:03:46] \"\u001b[37mGET /_dash-component-suites/dash/dcc/async-plotlyjs.js HTTP/1.1\u001b[0m\" 200 -\n",
      "127.0.0.1 - - [08/Apr/2022 22:03:46] \"\u001b[37mGET /_dash-component-suites/dash/dcc/async-dropdown.js HTTP/1.1\u001b[0m\" 200 -\n",
      "127.0.0.1 - - [08/Apr/2022 22:03:46] \"\u001b[37mGET /_dash-component-suites/dash/dcc/async-slider.js HTTP/1.1\u001b[0m\" 200 -\n",
      "127.0.0.1 - - [08/Apr/2022 22:03:46] \"\u001b[37mGET /_dash-component-suites/dash/dcc/async-markdown.js HTTP/1.1\u001b[0m\" 200 -\n",
      "127.0.0.1 - - [08/Apr/2022 22:03:47] \"\u001b[37mGET /_dash-component-suites/dash/dcc/async-highlight.js HTTP/1.1\u001b[0m\" 200 -\n",
      "127.0.0.1 - - [08/Apr/2022 22:03:47] \"\u001b[37mPOST /_dash-update-component HTTP/1.1\u001b[0m\" 200 -\n",
      "127.0.0.1 - - [08/Apr/2022 22:03:47] \"\u001b[37mPOST /_dash-update-component HTTP/1.1\u001b[0m\" 200 -\n",
      "127.0.0.1 - - [08/Apr/2022 22:03:48] \"\u001b[37mPOST /_dash-update-component HTTP/1.1\u001b[0m\" 200 -\n",
      "127.0.0.1 - - [08/Apr/2022 22:03:48] \"\u001b[37mPOST /_dash-update-component HTTP/1.1\u001b[0m\" 200 -\n"
     ]
    }
   ],
   "source": [
    "\n",
    "@app.callback(\n",
    "   \n",
    "   Output('radar', 'figure'),\n",
    "   \n",
    "    [Input('drop_comp1_id', 'value'),\n",
    "     Input('drop_comp2_id','value')] )\n",
    "\n",
    "\n",
    "def update_radar(drop_comp1_id,drop_comp2_id):\n",
    "    company1 = drop_comp1_id\n",
    "    company2 = drop_comp2_id\n",
    "    \n",
    "    feat_radar = ['cocoa_percent', 'rating', 'counts_of_ingredients', 'count_tastes']\n",
    "    companies = list(data['company'].unique())\n",
    "    \n",
    "    radar = pd.DataFrame(round(test_taste.groupby(by = 'company')[feat_radar].mean(),2))\n",
    "    radar['company_name'] = radar.index\n",
    "    radar.insert(0, 'cocoa_level', round((5 * radar['cocoa_percent']) / 100, 2))\n",
    "    radar.drop(columns = {'cocoa_percent'}, inplace = True)\n",
    "    \n",
    "    radar = radar.merge(test_taste[['company_location', 'company']], left_on='company_name', right_on='company', how='left')\n",
    "    radar.drop(columns={'company'}, axis = 1, inplace = True)\n",
    "    \n",
    "    radar.drop_duplicates(inplace = True)\n",
    "\n",
    "    radar['company_name'].isin([company1, company2])\n",
    "    company1_list = []\n",
    "\n",
    "    company1_df = pd.DataFrame(radar[radar['company_name'] == company1])\n",
    "    for i in range(len(radar.columns)-2):\n",
    "        company1_list.append(radar[radar['company_name'] == company1].iloc[0,i])\n",
    "\n",
    "    \n",
    "    company2_list = []\n",
    "\n",
    "    company2_df = pd.DataFrame(radar[radar['company_name'] == company2])\n",
    "    for i in range(len(radar.columns)-2):\n",
    "        company2_list.append(radar[radar['company_name'] == company2].iloc[0,i])\n",
    "\n",
    "    \n",
    "    labels_radar = ['Level of Cocoa', 'Rating', 'Number of Ingredients', 'Number of Tastes']\n",
    "    fig = go.Figure(data=go.Scatterpolar(\n",
    "            r=company1_list,\n",
    "            theta = labels_radar,\n",
    "            fill='toself', \n",
    "            marker_color = 'rgb(128, 0, 32)',   \n",
    "            opacity =1, \n",
    "            hoverinfo = \"text\" ,\n",
    "            name = company1,\n",
    "            text  = ['<b>' + str(company1) + '</b><br>' + labels_radar[i] + ' = ' + str(company1_df.iloc[0,i]) + '; <br>Country: ' + str(radar[radar['company_name'] == company1].iloc[0,5]) for i in range(len(company1_list))]\n",
    "        ), layout = Layout(\n",
    "        paper_bgcolor='rgba(0,0,0,0)',\n",
    "        plot_bgcolor='rgba(0,0,0,0)'))\n",
    "    fig.add_trace(go.Scatterpolar(\n",
    "            r=company2_list,\n",
    "            theta=['Level of Cocoa', 'Rating', 'Number of Ingredients', 'Number of Tastes'],\n",
    "            fill='toself',\n",
    "            marker_color = 'rgb(218, 160, 109)',\n",
    "            hoverinfo = \"text\" ,\n",
    "            name= company2,\n",
    "            text = ['<b>' + str(company2) + '</b><br>' + labels_radar[i] + ' = ' + str(company2_df.iloc[0,i]) + '; <br>Country: ' + str(radar[radar['company_name'] == company2].iloc[0,5]) for i in range(len(company2_list))]\n",
    "            ))\n",
    "\n",
    "    fig.update_layout(\n",
    "        title = {'text': str(company1) + ' vs. ' + str(company2),'y':0.9,'x':0.5,'xanchor': 'center','yanchor': 'top'},\n",
    "        polar=dict(\n",
    "            radialaxis=dict(\n",
    "            visible=True,\n",
    "            range=[0, 5]\n",
    "            )),\n",
    "        showlegend=True\n",
    "    )\n",
    "    return fig\n",
    "\n",
    "@app.callback(\n",
    "   \n",
    "   [Output(\"name_company_id\", \"children\"),\n",
    "    Output(\"rating_id\", \"children\"),\n",
    "    Output(\"country_id\", \"children\"),\n",
    "    Output('graph1', 'figure')],\n",
    "   \n",
    "    [Input('drop_id', 'value'),\n",
    "     Input('percent_id','value')] )\n",
    "\n",
    "def update_graph(drop_id,percent_id):\n",
    "    \n",
    "    filtered=data\n",
    "    \n",
    "    for each in drop_id:\n",
    "        filtered=filtered[filtered.isin([each]).any(1)] \n",
    "    \n",
    "    filtered = filtered[(filtered['cocoa_percent'] >= percent_id[0]) & (filtered['cocoa_percent'] <= percent_id[1])]\n",
    "    maxi=np.max(filtered['rating'])\n",
    "   \n",
    "    filtered['color_max'] = np.where((filtered['rating'] == maxi), 1, 0)\n",
    "    filtered=filtered.sort_values(by=['color_max'], ascending=False)\n",
    " \n",
    "    group_=filtered[filtered['rating']==maxi].groupby(by=['company'])['rating'].mean().sort_values(ascending=False)\n",
    "    filtered=filtered.head(15)\n",
    "    ratings = filtered.rating.to_list()\n",
    "    countries=filtered.company_location.to_list()\n",
    "    initial_weights=filtered.rating.to_list()\n",
    "    words = filtered.company.to_list()\n",
    "\n",
    "    w_max= max(initial_weights)\n",
    "    w_min=min(initial_weights)\n",
    "    upper=15\n",
    "    lower=4\n",
    "    \n",
    "    if (w_max-w_min) ==0:\n",
    "        weights=[upper for x in initial_weights] \n",
    "    else:\n",
    "        weights=[lower+((x-w_min)*(upper-lower))/(w_max-w_min) for x in initial_weights]\n",
    "\n",
    "    nr_companies=len(filtered[filtered['color_max']==1])\n",
    "    colors = [px.colors.qualitative.Antique[2] for i in range(nr_companies)]\n",
    "    colors.extend(px.colors.qualitative.Antique[0] for i in range(len(filtered)-nr_companies))\n",
    "    \n",
    "    \n",
    "    if len(filtered)>1:\n",
    "        group_=pd.DataFrame(filtered[filtered['rating']==maxi].groupby(by=['company'])['rating'].mean().sort_values(ascending=False))\n",
    "        name_company=str(group_.index[0])\n",
    "        rating=str(group_.head(1)['rating'].values[0])\n",
    "        country=str(filtered[filtered['company']==name_company].company_location.values[0])\n",
    "    \n",
    "    elif filtered.empty:\n",
    "        name_company = 'No company was found'\n",
    "        rating = 'No rating was found'\n",
    "        country= 'No country was found'\n",
    "        \n",
    "    else:\n",
    "        name_company=str(filtered.head(1)['company'].values[0])\n",
    "        rating=str(filtered.head(1)['rating'].values[0])\n",
    "        country=str(filtered.head(1)['company_location'].values[0])\n",
    "        \n",
    "        \n",
    "    data_inter = go.Scatter(x=random.choices(range(2000), k=len(filtered)),\n",
    "                            y=random.choices(range(2000), k=len(filtered)),\n",
    "                            mode='text',\n",
    "                            text=words,\n",
    "                            marker={'opacity': 0.3},\n",
    "                            textfont={'size': weights, 'color': colors},\n",
    "                            hovertext=['Rating: '+str(f)+'<br>Country: ' + str(p) for f, p in zip(ratings, countries)],\n",
    "                            hoverinfo='text')\n",
    "                                \n",
    "\n",
    "    layout_1 = go.Layout({'xaxis': {'showgrid': False, 'showticklabels': False, 'zeroline': False},\n",
    "            'yaxis': {'showgrid': False, 'showticklabels': False, 'zeroline': False}} )\n",
    "    \n",
    "    fig = go.Figure(data=[data_inter], layout=layout_1)\n",
    "\n",
    "    fig.update_layout(paper_bgcolor='rgba(0,0,0,0)', plot_bgcolor='rgba(0,0,0,0)', title={'text':'Word Cloud <br><sup>Companies that sell the chocolate desired</sup>','y':0.9,\n",
    "                      'x':0.5,'xanchor': 'center','yanchor': 'top'},title_font_size=25)\n",
    "    \n",
    "    return name_company ,  \\\n",
    "           rating , \\\n",
    "           country , \\\n",
    "           fig\n",
    "\n",
    "@app.callback(\n",
    "    Output(\"choroplethmapbox\", \"figure\"),\n",
    "    [\n",
    "        Input(\"country_radio\", \"value\"),\n",
    "        Input(\"number_radio\", \"value\")\n",
    "    ]\n",
    ")\n",
    "\n",
    "def make_choroplethmap(country_radio,number_radio):\n",
    "    if country_radio == 'country_of_bean_origin':\n",
    "        df = data_origin\n",
    "        main_title1=\"Country of Bean Origin\"\n",
    "    elif country_radio == \"company_location\":\n",
    "        df = data_company\n",
    "        main_title1 = \"Location of Company\"\n",
    "\n",
    "    if number_radio == \"rating\":\n",
    "        legend_title=\"Ratings\"\n",
    "    elif number_radio == \"ref\":\n",
    "        legend_title=\"Frequency\"\n",
    "    \n",
    "\n",
    "    data_choroplethmap = dict(type='choroplethmapbox', \n",
    "                            geojson=data_geo,\n",
    "                            locations=df[\"country\"], \n",
    "                            #locationmode=\"country names\",\n",
    "                            z=df[number_radio],                         \n",
    "                            colorscale='brwnyl',\n",
    "                            colorbar=dict(title=legend_title),\n",
    "                            )\n",
    "\n",
    "    layout_choroplethmap = dict(mapbox=dict(style='white-bg',\n",
    "                                layers=[dict(source=feature,\n",
    "                                            below='traces',\n",
    "                                            type='fill',\n",
    "                                            fill=dict(outlinecolor='gray')\n",
    "                                            ) for feature in data_geo['features']]\n",
    "                                            ),\n",
    "                                title=dict(text=main_title1,\n",
    "                                        x=.5 # Title relative position according to the xaxis, range (0,1)\n",
    "                                        )\n",
    "                            )\n",
    "    \n",
    "    fig_choroplethmap = go.Figure(data=data_choroplethmap, layout=layout_choroplethmap)\n",
    "    fig_choroplethmap.update_layout(paper_bgcolor='rgba(0,0,0,0)', plot_bgcolor='rgba(0,0,0,0)')\n",
    "\n",
    "    fig_choroplethmap.update_layout(height=400, margin={\"r\":0,\"t\":0,\"l\":20,\"b\":0})\n",
    "\n",
    "    return fig_choroplethmap\n",
    "\n",
    "\n",
    "@app.callback(\n",
    "    Output(\"treemap_vis\", \"figure\"), \n",
    "    \n",
    "    [Input('dropvartree_id', 'value'),\n",
    "    Input('radioflowtree_id','value'),\n",
    "    Input('treeyear_slider','value')] \n",
    "    \n",
    "    )\n",
    "\n",
    "def update_treemap(selected_var='Quantity', selected_flow='Export', selected_year=1991):\n",
    "    filtered_df= groupby_flows[(groupby_flows['Flow']==selected_flow) & (groupby_flows['Year']==selected_year)]\n",
    "    fig = px.treemap(filtered_df, path=['Country or Area'],values=selected_var, color=selected_var, color_continuous_scale='brwnyl')\n",
    "    #title=(str(selected_var) + ' of Cocoa ' + str(selected_flow) + 'ed by Country in ' + str(selected_year))) \n",
    "    \n",
    "    fig.data[0].hovertemplate = '%{label}<br>%{value}'\n",
    "    \n",
    "    fig.update_layout(paper_bgcolor='rgba(0,0,0,0)', plot_bgcolor='rgba(0,0,0,0)',\n",
    "                      title={'text':str(selected_var) + ' of Cocoa ' + str(selected_flow) + 'ed by Country in ' + str(selected_year),'y':0.95,'x':0.5,'xanchor': 'center','yanchor': 'top'})\n",
    "   \n",
    "    \n",
    "    return fig\n",
    "   \n",
    "\n",
    "if __name__ == '__main__':\n",
    "    app.run_server()"
   ]
  },
  {
   "cell_type": "code",
   "execution_count": null,
   "metadata": {},
   "outputs": [],
   "source": []
  },
  {
   "cell_type": "code",
   "execution_count": null,
   "metadata": {},
   "outputs": [],
   "source": []
  }
 ],
 "metadata": {
  "interpreter": {
   "hash": "0a2e937febbe5477c28200cac54be2d2da4f3456b8c1b7f6ca2a37fc549e7fbf"
  },
  "kernelspec": {
   "display_name": "Python 3",
   "language": "python",
   "name": "python3"
  },
  "language_info": {
   "codemirror_mode": {
    "name": "ipython",
    "version": 3
   },
   "file_extension": ".py",
   "mimetype": "text/x-python",
   "name": "python",
   "nbconvert_exporter": "python",
   "pygments_lexer": "ipython3",
   "version": "3.8.5"
  }
 },
 "nbformat": 4,
 "nbformat_minor": 2
}
