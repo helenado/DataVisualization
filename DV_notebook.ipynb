{
 "cells": [
  {
   "cell_type": "code",
   "execution_count": 51,
   "metadata": {},
   "outputs": [],
   "source": [
    "import pandas as pd\n",
    "import plotly \n",
    "import numpy as np\n",
    "import plotly.figure_factory as ff\n",
    "import scipy\n",
    "import plotly.graph_objects as go\n",
    "import dash\n",
    "from dash import Dash, dcc, html, Input, Output\n",
    "import plotly.express as px\n",
    "import plotly.express as px\n",
    "\n",
    "#pip install scipy\n",
    "#!pip install Dash"
   ]
  },
  {
   "cell_type": "code",
   "execution_count": 52,
   "metadata": {},
   "outputs": [],
   "source": [
    "# Import data\n",
    "\n",
    "data = pd.read_csv('chocolate.csv')\n",
    "continent = pd.read_csv('countryContinent.csv',encoding = \"ISO-8859-1\")\n",
    "imp_exp=pd.read_csv('UNdata_Export_20220301_151116452.csv')\n",
    "coord=pd.read_csv('country_points.csv',encoding = \"ISO-8859-1\")"
   ]
  },
  {
   "cell_type": "code",
   "execution_count": 53,
   "metadata": {},
   "outputs": [
    {
     "data": {
      "text/html": [
       "<div>\n",
       "<style scoped>\n",
       "    .dataframe tbody tr th:only-of-type {\n",
       "        vertical-align: middle;\n",
       "    }\n",
       "\n",
       "    .dataframe tbody tr th {\n",
       "        vertical-align: top;\n",
       "    }\n",
       "\n",
       "    .dataframe thead th {\n",
       "        text-align: right;\n",
       "    }\n",
       "</style>\n",
       "<table border=\"1\" class=\"dataframe\">\n",
       "  <thead>\n",
       "    <tr style=\"text-align: right;\">\n",
       "      <th></th>\n",
       "      <th>country</th>\n",
       "      <th>latitude</th>\n",
       "      <th>longitude</th>\n",
       "      <th>name</th>\n",
       "    </tr>\n",
       "  </thead>\n",
       "  <tbody>\n",
       "    <tr>\n",
       "      <th>0</th>\n",
       "      <td>AD</td>\n",
       "      <td>42.546245</td>\n",
       "      <td>1.601554</td>\n",
       "      <td>Andorra</td>\n",
       "    </tr>\n",
       "    <tr>\n",
       "      <th>1</th>\n",
       "      <td>AE</td>\n",
       "      <td>23.424076</td>\n",
       "      <td>53.847818</td>\n",
       "      <td>United Arab Emirates</td>\n",
       "    </tr>\n",
       "    <tr>\n",
       "      <th>2</th>\n",
       "      <td>AF</td>\n",
       "      <td>33.939110</td>\n",
       "      <td>67.709953</td>\n",
       "      <td>Afghanistan</td>\n",
       "    </tr>\n",
       "    <tr>\n",
       "      <th>3</th>\n",
       "      <td>AG</td>\n",
       "      <td>17.060816</td>\n",
       "      <td>-61.796428</td>\n",
       "      <td>Antigua and Barbuda</td>\n",
       "    </tr>\n",
       "    <tr>\n",
       "      <th>4</th>\n",
       "      <td>AI</td>\n",
       "      <td>18.220554</td>\n",
       "      <td>-63.068615</td>\n",
       "      <td>Anguilla</td>\n",
       "    </tr>\n",
       "  </tbody>\n",
       "</table>\n",
       "</div>"
      ],
      "text/plain": [
       "  country   latitude  longitude                  name\n",
       "0      AD  42.546245   1.601554               Andorra\n",
       "1      AE  23.424076  53.847818  United Arab Emirates\n",
       "2      AF  33.939110  67.709953           Afghanistan\n",
       "3      AG  17.060816 -61.796428   Antigua and Barbuda\n",
       "4      AI  18.220554 -63.068615              Anguilla"
      ]
     },
     "execution_count": 53,
     "metadata": {},
     "output_type": "execute_result"
    }
   ],
   "source": [
    "coord.head()"
   ]
  },
  {
   "cell_type": "code",
   "execution_count": 54,
   "metadata": {},
   "outputs": [
    {
     "data": {
      "text/html": [
       "<div>\n",
       "<style scoped>\n",
       "    .dataframe tbody tr th:only-of-type {\n",
       "        vertical-align: middle;\n",
       "    }\n",
       "\n",
       "    .dataframe tbody tr th {\n",
       "        vertical-align: top;\n",
       "    }\n",
       "\n",
       "    .dataframe thead th {\n",
       "        text-align: right;\n",
       "    }\n",
       "</style>\n",
       "<table border=\"1\" class=\"dataframe\">\n",
       "  <thead>\n",
       "    <tr style=\"text-align: right;\">\n",
       "      <th></th>\n",
       "      <th>country</th>\n",
       "      <th>code_2</th>\n",
       "      <th>code_3</th>\n",
       "      <th>country_code</th>\n",
       "      <th>iso_3166_2</th>\n",
       "      <th>continent</th>\n",
       "      <th>sub_region</th>\n",
       "      <th>region_code</th>\n",
       "      <th>sub_region_code</th>\n",
       "    </tr>\n",
       "  </thead>\n",
       "  <tbody>\n",
       "    <tr>\n",
       "      <th>0</th>\n",
       "      <td>Afghanistan</td>\n",
       "      <td>AF</td>\n",
       "      <td>AFG</td>\n",
       "      <td>4</td>\n",
       "      <td>ISO 3166-2:AF</td>\n",
       "      <td>Asia</td>\n",
       "      <td>Southern Asia</td>\n",
       "      <td>142.0</td>\n",
       "      <td>34.0</td>\n",
       "    </tr>\n",
       "    <tr>\n",
       "      <th>1</th>\n",
       "      <td>Åland Islands</td>\n",
       "      <td>AX</td>\n",
       "      <td>ALA</td>\n",
       "      <td>248</td>\n",
       "      <td>ISO 3166-2:AX</td>\n",
       "      <td>Europe</td>\n",
       "      <td>Northern Europe</td>\n",
       "      <td>150.0</td>\n",
       "      <td>154.0</td>\n",
       "    </tr>\n",
       "    <tr>\n",
       "      <th>2</th>\n",
       "      <td>Albania</td>\n",
       "      <td>AL</td>\n",
       "      <td>ALB</td>\n",
       "      <td>8</td>\n",
       "      <td>ISO 3166-2:AL</td>\n",
       "      <td>Europe</td>\n",
       "      <td>Southern Europe</td>\n",
       "      <td>150.0</td>\n",
       "      <td>39.0</td>\n",
       "    </tr>\n",
       "    <tr>\n",
       "      <th>3</th>\n",
       "      <td>Algeria</td>\n",
       "      <td>DZ</td>\n",
       "      <td>DZA</td>\n",
       "      <td>12</td>\n",
       "      <td>ISO 3166-2:DZ</td>\n",
       "      <td>Africa</td>\n",
       "      <td>Northern Africa</td>\n",
       "      <td>2.0</td>\n",
       "      <td>15.0</td>\n",
       "    </tr>\n",
       "    <tr>\n",
       "      <th>4</th>\n",
       "      <td>American Samoa</td>\n",
       "      <td>AS</td>\n",
       "      <td>ASM</td>\n",
       "      <td>16</td>\n",
       "      <td>ISO 3166-2:AS</td>\n",
       "      <td>Oceania</td>\n",
       "      <td>Polynesia</td>\n",
       "      <td>9.0</td>\n",
       "      <td>61.0</td>\n",
       "    </tr>\n",
       "  </tbody>\n",
       "</table>\n",
       "</div>"
      ],
      "text/plain": [
       "          country code_2 code_3  country_code     iso_3166_2 continent  \\\n",
       "0     Afghanistan     AF    AFG             4  ISO 3166-2:AF      Asia   \n",
       "1   Åland Islands     AX    ALA           248  ISO 3166-2:AX    Europe   \n",
       "2         Albania     AL    ALB             8  ISO 3166-2:AL    Europe   \n",
       "3         Algeria     DZ    DZA            12  ISO 3166-2:DZ    Africa   \n",
       "4  American Samoa     AS    ASM            16  ISO 3166-2:AS   Oceania   \n",
       "\n",
       "        sub_region  region_code  sub_region_code  \n",
       "0    Southern Asia        142.0             34.0  \n",
       "1  Northern Europe        150.0            154.0  \n",
       "2  Southern Europe        150.0             39.0  \n",
       "3  Northern Africa          2.0             15.0  \n",
       "4        Polynesia          9.0             61.0  "
      ]
     },
     "execution_count": 54,
     "metadata": {},
     "output_type": "execute_result"
    }
   ],
   "source": [
    "continent.head()"
   ]
  },
  {
   "cell_type": "code",
   "execution_count": 55,
   "metadata": {},
   "outputs": [
    {
     "data": {
      "text/html": [
       "<div>\n",
       "<style scoped>\n",
       "    .dataframe tbody tr th:only-of-type {\n",
       "        vertical-align: middle;\n",
       "    }\n",
       "\n",
       "    .dataframe tbody tr th {\n",
       "        vertical-align: top;\n",
       "    }\n",
       "\n",
       "    .dataframe thead th {\n",
       "        text-align: right;\n",
       "    }\n",
       "</style>\n",
       "<table border=\"1\" class=\"dataframe\">\n",
       "  <thead>\n",
       "    <tr style=\"text-align: right;\">\n",
       "      <th></th>\n",
       "      <th>Table Code</th>\n",
       "      <th>Country or Area Code</th>\n",
       "      <th>Country or Area</th>\n",
       "      <th>Year</th>\n",
       "      <th>Comm. Code</th>\n",
       "      <th>Commodity</th>\n",
       "      <th>Flow Code</th>\n",
       "      <th>Flow</th>\n",
       "      <th>Trade (USD)</th>\n",
       "      <th>Weight (kg)</th>\n",
       "      <th>Quantity Code</th>\n",
       "      <th>Quantity Name</th>\n",
       "      <th>Quantity</th>\n",
       "    </tr>\n",
       "  </thead>\n",
       "  <tbody>\n",
       "    <tr>\n",
       "      <th>0</th>\n",
       "      <td>19</td>\n",
       "      <td>4</td>\n",
       "      <td>Afghanistan</td>\n",
       "      <td>2018</td>\n",
       "      <td>180500</td>\n",
       "      <td>Cocoa powder, unsweetened</td>\n",
       "      <td>1</td>\n",
       "      <td>Import</td>\n",
       "      <td>7.247329e+04</td>\n",
       "      <td>8.070000e+04</td>\n",
       "      <td>8</td>\n",
       "      <td>Weight in kilograms</td>\n",
       "      <td>8.070000e+04</td>\n",
       "    </tr>\n",
       "    <tr>\n",
       "      <th>1</th>\n",
       "      <td>19</td>\n",
       "      <td>4</td>\n",
       "      <td>Afghanistan</td>\n",
       "      <td>2018</td>\n",
       "      <td>180690</td>\n",
       "      <td>Chocolate/cocoa food preparations nes</td>\n",
       "      <td>1</td>\n",
       "      <td>Import</td>\n",
       "      <td>3.281740e+07</td>\n",
       "      <td>5.662823e+06</td>\n",
       "      <td>8</td>\n",
       "      <td>Weight in kilograms</td>\n",
       "      <td>5.662823e+06</td>\n",
       "    </tr>\n",
       "    <tr>\n",
       "      <th>2</th>\n",
       "      <td>19</td>\n",
       "      <td>4</td>\n",
       "      <td>Afghanistan</td>\n",
       "      <td>2018</td>\n",
       "      <td>180690</td>\n",
       "      <td>Chocolate/cocoa food preparations nes</td>\n",
       "      <td>2</td>\n",
       "      <td>Export</td>\n",
       "      <td>4.327404e+06</td>\n",
       "      <td>0.000000e+00</td>\n",
       "      <td>8</td>\n",
       "      <td>Weight in kilograms</td>\n",
       "      <td>6.239175e+06</td>\n",
       "    </tr>\n",
       "    <tr>\n",
       "      <th>3</th>\n",
       "      <td>19</td>\n",
       "      <td>4</td>\n",
       "      <td>Afghanistan</td>\n",
       "      <td>2018</td>\n",
       "      <td>180690</td>\n",
       "      <td>Chocolate/cocoa food preparations nes</td>\n",
       "      <td>3</td>\n",
       "      <td>Re-Export</td>\n",
       "      <td>7.452492e+04</td>\n",
       "      <td>0.000000e+00</td>\n",
       "      <td>8</td>\n",
       "      <td>Weight in kilograms</td>\n",
       "      <td>0.000000e+00</td>\n",
       "    </tr>\n",
       "    <tr>\n",
       "      <th>4</th>\n",
       "      <td>19</td>\n",
       "      <td>4</td>\n",
       "      <td>Afghanistan</td>\n",
       "      <td>2016</td>\n",
       "      <td>180690</td>\n",
       "      <td>Chocolate/cocoa food preparations nes</td>\n",
       "      <td>1</td>\n",
       "      <td>Import</td>\n",
       "      <td>1.568728e+08</td>\n",
       "      <td>2.677301e+07</td>\n",
       "      <td>8</td>\n",
       "      <td>Weight in kilograms</td>\n",
       "      <td>2.677301e+07</td>\n",
       "    </tr>\n",
       "  </tbody>\n",
       "</table>\n",
       "</div>"
      ],
      "text/plain": [
       "   Table Code  Country or Area Code Country or Area  Year  Comm. Code  \\\n",
       "0          19                     4     Afghanistan  2018      180500   \n",
       "1          19                     4     Afghanistan  2018      180690   \n",
       "2          19                     4     Afghanistan  2018      180690   \n",
       "3          19                     4     Afghanistan  2018      180690   \n",
       "4          19                     4     Afghanistan  2016      180690   \n",
       "\n",
       "                               Commodity  Flow Code       Flow   Trade (USD)  \\\n",
       "0              Cocoa powder, unsweetened          1     Import  7.247329e+04   \n",
       "1  Chocolate/cocoa food preparations nes          1     Import  3.281740e+07   \n",
       "2  Chocolate/cocoa food preparations nes          2     Export  4.327404e+06   \n",
       "3  Chocolate/cocoa food preparations nes          3  Re-Export  7.452492e+04   \n",
       "4  Chocolate/cocoa food preparations nes          1     Import  1.568728e+08   \n",
       "\n",
       "    Weight (kg)  Quantity Code        Quantity Name      Quantity  \n",
       "0  8.070000e+04              8  Weight in kilograms  8.070000e+04  \n",
       "1  5.662823e+06              8  Weight in kilograms  5.662823e+06  \n",
       "2  0.000000e+00              8  Weight in kilograms  6.239175e+06  \n",
       "3  0.000000e+00              8  Weight in kilograms  0.000000e+00  \n",
       "4  2.677301e+07              8  Weight in kilograms  2.677301e+07  "
      ]
     },
     "execution_count": 55,
     "metadata": {},
     "output_type": "execute_result"
    }
   ],
   "source": [
    "imp_exp.head()"
   ]
  },
  {
   "cell_type": "code",
   "execution_count": 56,
   "metadata": {},
   "outputs": [
    {
     "data": {
      "text/html": [
       "<div>\n",
       "<style scoped>\n",
       "    .dataframe tbody tr th:only-of-type {\n",
       "        vertical-align: middle;\n",
       "    }\n",
       "\n",
       "    .dataframe tbody tr th {\n",
       "        vertical-align: top;\n",
       "    }\n",
       "\n",
       "    .dataframe thead th {\n",
       "        text-align: right;\n",
       "    }\n",
       "</style>\n",
       "<table border=\"1\" class=\"dataframe\">\n",
       "  <thead>\n",
       "    <tr style=\"text-align: right;\">\n",
       "      <th></th>\n",
       "      <th>Country or Area</th>\n",
       "      <th>Year</th>\n",
       "      <th>Commodity</th>\n",
       "      <th>Flow</th>\n",
       "      <th>Quantity</th>\n",
       "      <th>Trade (USD)</th>\n",
       "    </tr>\n",
       "  </thead>\n",
       "  <tbody>\n",
       "    <tr>\n",
       "      <th>60</th>\n",
       "      <td>Albania</td>\n",
       "      <td>2012</td>\n",
       "      <td>Cocoa beans, whole or broken, raw or roasted</td>\n",
       "      <td>Import</td>\n",
       "      <td>130.0</td>\n",
       "      <td>874.0</td>\n",
       "    </tr>\n",
       "    <tr>\n",
       "      <th>71</th>\n",
       "      <td>Albania</td>\n",
       "      <td>2011</td>\n",
       "      <td>Cocoa beans, whole or broken, raw or roasted</td>\n",
       "      <td>Import</td>\n",
       "      <td>4524.0</td>\n",
       "      <td>19877.0</td>\n",
       "    </tr>\n",
       "    <tr>\n",
       "      <th>83</th>\n",
       "      <td>Albania</td>\n",
       "      <td>2010</td>\n",
       "      <td>Cocoa beans, whole or broken, raw or roasted</td>\n",
       "      <td>Import</td>\n",
       "      <td>45.0</td>\n",
       "      <td>295.0</td>\n",
       "    </tr>\n",
       "    <tr>\n",
       "      <th>94</th>\n",
       "      <td>Albania</td>\n",
       "      <td>2009</td>\n",
       "      <td>Cocoa beans, whole or broken, raw or roasted</td>\n",
       "      <td>Import</td>\n",
       "      <td>262.0</td>\n",
       "      <td>1919.0</td>\n",
       "    </tr>\n",
       "    <tr>\n",
       "      <th>149</th>\n",
       "      <td>Albania</td>\n",
       "      <td>2004</td>\n",
       "      <td>Cocoa beans, whole or broken, raw or roasted</td>\n",
       "      <td>Import</td>\n",
       "      <td>1606.0</td>\n",
       "      <td>2729.0</td>\n",
       "    </tr>\n",
       "  </tbody>\n",
       "</table>\n",
       "</div>"
      ],
      "text/plain": [
       "    Country or Area  Year                                     Commodity  \\\n",
       "60          Albania  2012  Cocoa beans, whole or broken, raw or roasted   \n",
       "71          Albania  2011  Cocoa beans, whole or broken, raw or roasted   \n",
       "83          Albania  2010  Cocoa beans, whole or broken, raw or roasted   \n",
       "94          Albania  2009  Cocoa beans, whole or broken, raw or roasted   \n",
       "149         Albania  2004  Cocoa beans, whole or broken, raw or roasted   \n",
       "\n",
       "       Flow  Quantity  Trade (USD)  \n",
       "60   Import     130.0        874.0  \n",
       "71   Import    4524.0      19877.0  \n",
       "83   Import      45.0        295.0  \n",
       "94   Import     262.0       1919.0  \n",
       "149  Import    1606.0       2729.0  "
      ]
     },
     "execution_count": 56,
     "metadata": {},
     "output_type": "execute_result"
    }
   ],
   "source": [
    "imp_exp=imp_exp[imp_exp['Commodity']=='Cocoa beans, whole or broken, raw or roasted'][['Country or Area','Year','Commodity','Flow','Quantity','Trade (USD)']]\n",
    "imp_exp.head()"
   ]
  },
  {
   "cell_type": "code",
   "execution_count": 57,
   "metadata": {},
   "outputs": [],
   "source": [
    "# Prepare the data for the merge\n",
    "data[\"company_location\"] = data[\"company_location\"].str.title()\n",
    "data[\"country_of_bean_origin\"] = data[\"country_of_bean_origin\"].str.title()\n",
    "data[\"company_location\"].replace({'U.S.A': 'United States of America','U.K.':'United Kingdom of Great Britain and Northern Ireland','Dominican republic':'Dominican Republic','El salvador':'El Salvador','Vietnam':'Viet Nam','Venezuela':'Venezuela (Bolivarian Republic of)','South Korea':'Korea (Republic of)','New Zealand':'New Zealand','Russia':'Russian Federation','Taiwan':'Taiwan, Province of China','Sao Tome':'Sao Tome and Principe','Sao Tome & Principe':'Sao Tome and Principe','St. Lucia':'Saint Lucia','U.A.E.':'United Arab Emirates','St.Vincent-Grenadines':'Saint Vincent and the Grenadines','Bolivia':'Bolivia (Plurinational State of)'}, inplace=True)\n",
    "data[\"country_of_bean_origin\"].replace({'U.S.A': 'United States of America','U.K.':'United Kingdom of Great Britain and Northern Ireland','Dominican republic':'Dominican Republic','El salvador':'El Salvador','Vietnam':'Viet Nam','Venezuela':'Venezuela (Bolivarian Republic of)','South Korea':'Korea (Republic of)','New Zealand':'New Zealand','Russia':'Russian Federation','Taiwan':'Taiwan, Province of China','Sao Tome':'Sao Tome and Principe','Sao Tome & Principe':'Sao Tome and Principe','St. Lucia':'Saint Lucia','U.A.E.':'United Arab Emirates','St.Vincent-Grenadines':'Saint Vincent and the Grenadines','Bolivia':'Bolivia (Plurinational State of)','Burma':'Myanmar','Tanzania':'Tanzania, United Republic of','Trinidad':'Trinidad and Tobago','Dr Congo':'Congo (Democratic Republic of the)'}, inplace=True)"
   ]
  },
  {
   "cell_type": "code",
   "execution_count": 58,
   "metadata": {},
   "outputs": [],
   "source": [
    "# removing Unnamed:0\n",
    "data=data.iloc[:,1:]"
   ]
  },
  {
   "cell_type": "code",
   "execution_count": 59,
   "metadata": {},
   "outputs": [],
   "source": [
    "teste=data.merge(continent[['country','continent','sub_region','code_2']].rename(columns={'continent':'company_continent','sub_region':'company_region','code_2':'company_code_2'}), left_on='company_location', right_on='country', how='left')"
   ]
  },
  {
   "cell_type": "code",
   "execution_count": 60,
   "metadata": {},
   "outputs": [
    {
     "data": {
      "text/plain": [
       "<bound method IndexOpsMixin.value_counts of 193        Wales\n",
       "486     Scotland\n",
       "487     Scotland\n",
       "488     Scotland\n",
       "489     Scotland\n",
       "490     Scotland\n",
       "491     Scotland\n",
       "1083    Scotland\n",
       "1084    Scotland\n",
       "1513    Scotland\n",
       "1514    Scotland\n",
       "Name: company_location, dtype: object>"
      ]
     },
     "execution_count": 60,
     "metadata": {},
     "output_type": "execute_result"
    }
   ],
   "source": [
    "teste[teste['company_continent'].isna()]['company_location'].value_counts"
   ]
  },
  {
   "cell_type": "code",
   "execution_count": 61,
   "metadata": {},
   "outputs": [],
   "source": [
    "teste=teste[teste['company_location']!= 'Scotland']"
   ]
  },
  {
   "cell_type": "code",
   "execution_count": 62,
   "metadata": {},
   "outputs": [],
   "source": [
    "teste=teste.merge(continent[['country','continent','sub_region','code_2']].rename(columns={'continent':'bean_continent','sub_region':'bean_region','code_2':'bean_code_2'}), left_on='country_of_bean_origin', right_on='country', how='left')"
   ]
  },
  {
   "cell_type": "code",
   "execution_count": 63,
   "metadata": {},
   "outputs": [
    {
     "data": {
      "text/plain": [
       "<bound method IndexOpsMixin.value_counts of 88      Blend\n",
       "92      Blend\n",
       "96      Blend\n",
       "100     Blend\n",
       "177     Blend\n",
       "        ...  \n",
       "2188    Blend\n",
       "2201    Blend\n",
       "2203    Blend\n",
       "2209    Blend\n",
       "2213    Blend\n",
       "Name: country_of_bean_origin, Length: 177, dtype: object>"
      ]
     },
     "execution_count": 63,
     "metadata": {},
     "output_type": "execute_result"
    }
   ],
   "source": [
    "teste[teste['bean_continent'].isna()]['country_of_bean_origin'].value_counts"
   ]
  },
  {
   "cell_type": "code",
   "execution_count": 64,
   "metadata": {},
   "outputs": [],
   "source": [
    "teste=teste[teste['country_of_bean_origin']!= 'Blend']"
   ]
  },
  {
   "cell_type": "code",
   "execution_count": 65,
   "metadata": {},
   "outputs": [],
   "source": [
    "data=teste"
   ]
  },
  {
   "cell_type": "code",
   "execution_count": 66,
   "metadata": {},
   "outputs": [
    {
     "data": {
      "text/plain": [
       "Index(['ref', 'company', 'company_location', 'review_date',\n",
       "       'country_of_bean_origin', 'specific_bean_origin_or_bar_name',\n",
       "       'cocoa_percent', 'rating', 'counts_of_ingredients', 'beans',\n",
       "       'cocoa_butter', 'vanilla', 'lecithin', 'salt', 'sugar',\n",
       "       'sweetener_without_sugar', 'first_taste', 'second_taste', 'third_taste',\n",
       "       'fourth_taste', 'country_x', 'company_continent', 'company_region',\n",
       "       'company_code_2', 'country_y', 'bean_continent', 'bean_region',\n",
       "       'bean_code_2'],\n",
       "      dtype='object')"
      ]
     },
     "execution_count": 66,
     "metadata": {},
     "output_type": "execute_result"
    }
   ],
   "source": [
    "data.columns"
   ]
  },
  {
   "cell_type": "code",
   "execution_count": 67,
   "metadata": {},
   "outputs": [
    {
     "data": {
      "text/html": [
       "<div>\n",
       "<style scoped>\n",
       "    .dataframe tbody tr th:only-of-type {\n",
       "        vertical-align: middle;\n",
       "    }\n",
       "\n",
       "    .dataframe tbody tr th {\n",
       "        vertical-align: top;\n",
       "    }\n",
       "\n",
       "    .dataframe thead th {\n",
       "        text-align: right;\n",
       "    }\n",
       "</style>\n",
       "<table border=\"1\" class=\"dataframe\">\n",
       "  <thead>\n",
       "    <tr style=\"text-align: right;\">\n",
       "      <th></th>\n",
       "      <th>country</th>\n",
       "      <th>latitude</th>\n",
       "      <th>longitude</th>\n",
       "      <th>name</th>\n",
       "    </tr>\n",
       "  </thead>\n",
       "  <tbody>\n",
       "    <tr>\n",
       "      <th>0</th>\n",
       "      <td>AD</td>\n",
       "      <td>42.546245</td>\n",
       "      <td>1.601554</td>\n",
       "      <td>Andorra</td>\n",
       "    </tr>\n",
       "    <tr>\n",
       "      <th>1</th>\n",
       "      <td>AE</td>\n",
       "      <td>23.424076</td>\n",
       "      <td>53.847818</td>\n",
       "      <td>United Arab Emirates</td>\n",
       "    </tr>\n",
       "    <tr>\n",
       "      <th>2</th>\n",
       "      <td>AF</td>\n",
       "      <td>33.939110</td>\n",
       "      <td>67.709953</td>\n",
       "      <td>Afghanistan</td>\n",
       "    </tr>\n",
       "    <tr>\n",
       "      <th>3</th>\n",
       "      <td>AG</td>\n",
       "      <td>17.060816</td>\n",
       "      <td>-61.796428</td>\n",
       "      <td>Antigua and Barbuda</td>\n",
       "    </tr>\n",
       "    <tr>\n",
       "      <th>4</th>\n",
       "      <td>AI</td>\n",
       "      <td>18.220554</td>\n",
       "      <td>-63.068615</td>\n",
       "      <td>Anguilla</td>\n",
       "    </tr>\n",
       "  </tbody>\n",
       "</table>\n",
       "</div>"
      ],
      "text/plain": [
       "  country   latitude  longitude                  name\n",
       "0      AD  42.546245   1.601554               Andorra\n",
       "1      AE  23.424076  53.847818  United Arab Emirates\n",
       "2      AF  33.939110  67.709953           Afghanistan\n",
       "3      AG  17.060816 -61.796428   Antigua and Barbuda\n",
       "4      AI  18.220554 -63.068615              Anguilla"
      ]
     },
     "execution_count": 67,
     "metadata": {},
     "output_type": "execute_result"
    }
   ],
   "source": [
    "# Add the coordinates both for bean_origin and company_location\n",
    "coord.head()"
   ]
  },
  {
   "cell_type": "code",
   "execution_count": 68,
   "metadata": {},
   "outputs": [],
   "source": [
    "teste1=data.merge(coord.iloc[:,:-1], left_on='bean_code_2', right_on='country', how='left').rename(columns={'latitude':'bean_lat','longitude':'bean_lon'})\n",
    "teste2=data.merge(coord.iloc[:,:-1], left_on='company_code_2', right_on='country', how='left').rename(columns={'latitude':'country_lat','longitude':'country_lon'})"
   ]
  },
  {
   "cell_type": "code",
   "execution_count": 69,
   "metadata": {},
   "outputs": [
    {
     "data": {
      "text/html": [
       "<div>\n",
       "<style scoped>\n",
       "    .dataframe tbody tr th:only-of-type {\n",
       "        vertical-align: middle;\n",
       "    }\n",
       "\n",
       "    .dataframe tbody tr th {\n",
       "        vertical-align: top;\n",
       "    }\n",
       "\n",
       "    .dataframe thead th {\n",
       "        text-align: right;\n",
       "    }\n",
       "</style>\n",
       "<table border=\"1\" class=\"dataframe\">\n",
       "  <thead>\n",
       "    <tr style=\"text-align: right;\">\n",
       "      <th></th>\n",
       "      <th>ref</th>\n",
       "      <th>review_date</th>\n",
       "      <th>cocoa_percent</th>\n",
       "      <th>rating</th>\n",
       "      <th>counts_of_ingredients</th>\n",
       "    </tr>\n",
       "    <tr>\n",
       "      <th>company</th>\n",
       "      <th></th>\n",
       "      <th></th>\n",
       "      <th></th>\n",
       "      <th></th>\n",
       "      <th></th>\n",
       "    </tr>\n",
       "  </thead>\n",
       "  <tbody>\n",
       "    <tr>\n",
       "      <th>5150</th>\n",
       "      <td>2455.333333</td>\n",
       "      <td>2019.000000</td>\n",
       "      <td>76.000000</td>\n",
       "      <td>3.500000</td>\n",
       "      <td>3.000000</td>\n",
       "    </tr>\n",
       "    <tr>\n",
       "      <th>A. Morin</th>\n",
       "      <td>1294.480000</td>\n",
       "      <td>2013.960000</td>\n",
       "      <td>68.880000</td>\n",
       "      <td>3.400000</td>\n",
       "      <td>3.960000</td>\n",
       "    </tr>\n",
       "    <tr>\n",
       "      <th>AMMA</th>\n",
       "      <td>670.600000</td>\n",
       "      <td>2010.600000</td>\n",
       "      <td>69.000000</td>\n",
       "      <td>3.500000</td>\n",
       "      <td>4.000000</td>\n",
       "    </tr>\n",
       "    <tr>\n",
       "      <th>Acalli</th>\n",
       "      <td>1966.000000</td>\n",
       "      <td>2017.500000</td>\n",
       "      <td>71.000000</td>\n",
       "      <td>3.562500</td>\n",
       "      <td>2.000000</td>\n",
       "    </tr>\n",
       "    <tr>\n",
       "      <th>Adi aka Fijiana (Easy In Ltd)</th>\n",
       "      <td>705.000000</td>\n",
       "      <td>2011.000000</td>\n",
       "      <td>75.000000</td>\n",
       "      <td>3.250000</td>\n",
       "      <td>3.000000</td>\n",
       "    </tr>\n",
       "    <tr>\n",
       "      <th>...</th>\n",
       "      <td>...</td>\n",
       "      <td>...</td>\n",
       "      <td>...</td>\n",
       "      <td>...</td>\n",
       "      <td>...</td>\n",
       "    </tr>\n",
       "    <tr>\n",
       "      <th>Zotter</th>\n",
       "      <td>1033.705882</td>\n",
       "      <td>2012.647059</td>\n",
       "      <td>70.352941</td>\n",
       "      <td>3.352941</td>\n",
       "      <td>3.823529</td>\n",
       "    </tr>\n",
       "    <tr>\n",
       "      <th>hello cocoa</th>\n",
       "      <td>1460.000000</td>\n",
       "      <td>2015.000000</td>\n",
       "      <td>65.500000</td>\n",
       "      <td>3.125000</td>\n",
       "      <td>3.000000</td>\n",
       "    </tr>\n",
       "    <tr>\n",
       "      <th>hexx</th>\n",
       "      <td>1848.000000</td>\n",
       "      <td>2016.500000</td>\n",
       "      <td>71.500000</td>\n",
       "      <td>2.925000</td>\n",
       "      <td>2.000000</td>\n",
       "    </tr>\n",
       "    <tr>\n",
       "      <th>organicfair</th>\n",
       "      <td>1316.166667</td>\n",
       "      <td>2013.833333</td>\n",
       "      <td>72.166667</td>\n",
       "      <td>2.875000</td>\n",
       "      <td>3.000000</td>\n",
       "    </tr>\n",
       "    <tr>\n",
       "      <th>twenty-four blackbirds</th>\n",
       "      <td>1347.428571</td>\n",
       "      <td>2014.000000</td>\n",
       "      <td>73.714286</td>\n",
       "      <td>3.071429</td>\n",
       "      <td>2.000000</td>\n",
       "    </tr>\n",
       "  </tbody>\n",
       "</table>\n",
       "<p>488 rows × 5 columns</p>\n",
       "</div>"
      ],
      "text/plain": [
       "                                       ref  review_date  cocoa_percent  \\\n",
       "company                                                                  \n",
       "5150                           2455.333333  2019.000000      76.000000   \n",
       "A. Morin                       1294.480000  2013.960000      68.880000   \n",
       "AMMA                            670.600000  2010.600000      69.000000   \n",
       "Acalli                         1966.000000  2017.500000      71.000000   \n",
       "Adi aka Fijiana (Easy In Ltd)   705.000000  2011.000000      75.000000   \n",
       "...                                    ...          ...            ...   \n",
       "Zotter                         1033.705882  2012.647059      70.352941   \n",
       "hello cocoa                    1460.000000  2015.000000      65.500000   \n",
       "hexx                           1848.000000  2016.500000      71.500000   \n",
       "organicfair                    1316.166667  2013.833333      72.166667   \n",
       "twenty-four blackbirds         1347.428571  2014.000000      73.714286   \n",
       "\n",
       "                                 rating  counts_of_ingredients  \n",
       "company                                                         \n",
       "5150                           3.500000               3.000000  \n",
       "A. Morin                       3.400000               3.960000  \n",
       "AMMA                           3.500000               4.000000  \n",
       "Acalli                         3.562500               2.000000  \n",
       "Adi aka Fijiana (Easy In Ltd)  3.250000               3.000000  \n",
       "...                                 ...                    ...  \n",
       "Zotter                         3.352941               3.823529  \n",
       "hello cocoa                    3.125000               3.000000  \n",
       "hexx                           2.925000               2.000000  \n",
       "organicfair                    2.875000               3.000000  \n",
       "twenty-four blackbirds         3.071429               2.000000  \n",
       "\n",
       "[488 rows x 5 columns]"
      ]
     },
     "execution_count": 69,
     "metadata": {},
     "output_type": "execute_result"
    }
   ],
   "source": [
    "data1=data.groupby(by=['company']).mean()\n",
    "data1"
   ]
  },
  {
   "cell_type": "code",
   "execution_count": 70,
   "metadata": {},
   "outputs": [],
   "source": [
    "var1=np.asarray(data1[data1.rating <= data1.rating.quantile(.25)]['cocoa_percent'],dtype=np.float32)\n",
    "var2=np.asarray(data1[(data1.rating > data1.rating.quantile(.25)) & (data1.rating <= data1.rating.quantile(.50))]['cocoa_percent'],dtype=np.float32)\n",
    "var3=np.asarray(data1[(data1.rating > data1.rating.quantile(.50)) & (data1.rating <= data1.rating.quantile(.75))]['cocoa_percent'],dtype=np.float32)\n",
    "var4=np.asarray(data1[data1.rating > data1.rating.quantile(.75)]['cocoa_percent'],dtype=np.float32)"
   ]
  },
  {
   "cell_type": "code",
   "execution_count": 71,
   "metadata": {},
   "outputs": [],
   "source": [
    "# falta meter titulo xaxis yaxis\n",
    "#labels = ['1st quartile','2nd quartile','3rd quartile','4th quartile']\n",
    "#variables=[var1,var2,var3,var4]\n",
    "#fig = ff.create_distplot(variables,labels, show_hist=False)\n",
    "#fig.show()\n"
   ]
  },
  {
   "cell_type": "markdown",
   "metadata": {},
   "source": [
    "### Exports and Imports\n"
   ]
  },
  {
   "cell_type": "code",
   "execution_count": 72,
   "metadata": {},
   "outputs": [
    {
     "data": {
      "text/html": [
       "<div>\n",
       "<style scoped>\n",
       "    .dataframe tbody tr th:only-of-type {\n",
       "        vertical-align: middle;\n",
       "    }\n",
       "\n",
       "    .dataframe tbody tr th {\n",
       "        vertical-align: top;\n",
       "    }\n",
       "\n",
       "    .dataframe thead th {\n",
       "        text-align: right;\n",
       "    }\n",
       "</style>\n",
       "<table border=\"1\" class=\"dataframe\">\n",
       "  <thead>\n",
       "    <tr style=\"text-align: right;\">\n",
       "      <th></th>\n",
       "      <th>Country or Area</th>\n",
       "      <th>Year</th>\n",
       "      <th>Commodity</th>\n",
       "      <th>Flow</th>\n",
       "      <th>Quantity</th>\n",
       "      <th>Trade (USD)</th>\n",
       "    </tr>\n",
       "  </thead>\n",
       "  <tbody>\n",
       "    <tr>\n",
       "      <th>60</th>\n",
       "      <td>Albania</td>\n",
       "      <td>2012</td>\n",
       "      <td>Cocoa beans, whole or broken, raw or roasted</td>\n",
       "      <td>Import</td>\n",
       "      <td>130.0</td>\n",
       "      <td>874.0</td>\n",
       "    </tr>\n",
       "    <tr>\n",
       "      <th>71</th>\n",
       "      <td>Albania</td>\n",
       "      <td>2011</td>\n",
       "      <td>Cocoa beans, whole or broken, raw or roasted</td>\n",
       "      <td>Import</td>\n",
       "      <td>4524.0</td>\n",
       "      <td>19877.0</td>\n",
       "    </tr>\n",
       "    <tr>\n",
       "      <th>83</th>\n",
       "      <td>Albania</td>\n",
       "      <td>2010</td>\n",
       "      <td>Cocoa beans, whole or broken, raw or roasted</td>\n",
       "      <td>Import</td>\n",
       "      <td>45.0</td>\n",
       "      <td>295.0</td>\n",
       "    </tr>\n",
       "    <tr>\n",
       "      <th>94</th>\n",
       "      <td>Albania</td>\n",
       "      <td>2009</td>\n",
       "      <td>Cocoa beans, whole or broken, raw or roasted</td>\n",
       "      <td>Import</td>\n",
       "      <td>262.0</td>\n",
       "      <td>1919.0</td>\n",
       "    </tr>\n",
       "    <tr>\n",
       "      <th>149</th>\n",
       "      <td>Albania</td>\n",
       "      <td>2004</td>\n",
       "      <td>Cocoa beans, whole or broken, raw or roasted</td>\n",
       "      <td>Import</td>\n",
       "      <td>1606.0</td>\n",
       "      <td>2729.0</td>\n",
       "    </tr>\n",
       "  </tbody>\n",
       "</table>\n",
       "</div>"
      ],
      "text/plain": [
       "    Country or Area  Year                                     Commodity  \\\n",
       "60          Albania  2012  Cocoa beans, whole or broken, raw or roasted   \n",
       "71          Albania  2011  Cocoa beans, whole or broken, raw or roasted   \n",
       "83          Albania  2010  Cocoa beans, whole or broken, raw or roasted   \n",
       "94          Albania  2009  Cocoa beans, whole or broken, raw or roasted   \n",
       "149         Albania  2004  Cocoa beans, whole or broken, raw or roasted   \n",
       "\n",
       "       Flow  Quantity  Trade (USD)  \n",
       "60   Import     130.0        874.0  \n",
       "71   Import    4524.0      19877.0  \n",
       "83   Import      45.0        295.0  \n",
       "94   Import     262.0       1919.0  \n",
       "149  Import    1606.0       2729.0  "
      ]
     },
     "execution_count": 72,
     "metadata": {},
     "output_type": "execute_result"
    }
   ],
   "source": [
    "imp_exp.head()"
   ]
  },
  {
   "cell_type": "code",
   "execution_count": 73,
   "metadata": {},
   "outputs": [],
   "source": [
    "imp_exp_regions = imp_exp.merge(continent[['country','continent','sub_region','code_2']].rename(columns={'sub_region':'region'}), left_on = 'Country or Area', right_on= 'country', how= 'left')"
   ]
  },
  {
   "cell_type": "code",
   "execution_count": 74,
   "metadata": {
    "scrolled": true
   },
   "outputs": [
    {
     "data": {
      "text/html": [
       "<div>\n",
       "<style scoped>\n",
       "    .dataframe tbody tr th:only-of-type {\n",
       "        vertical-align: middle;\n",
       "    }\n",
       "\n",
       "    .dataframe tbody tr th {\n",
       "        vertical-align: top;\n",
       "    }\n",
       "\n",
       "    .dataframe thead th {\n",
       "        text-align: right;\n",
       "    }\n",
       "</style>\n",
       "<table border=\"1\" class=\"dataframe\">\n",
       "  <thead>\n",
       "    <tr style=\"text-align: right;\">\n",
       "      <th></th>\n",
       "      <th>Country or Area</th>\n",
       "      <th>Year</th>\n",
       "      <th>Commodity</th>\n",
       "      <th>Flow</th>\n",
       "      <th>Quantity</th>\n",
       "      <th>Trade (USD)</th>\n",
       "      <th>country</th>\n",
       "      <th>continent</th>\n",
       "      <th>region</th>\n",
       "      <th>code_2</th>\n",
       "    </tr>\n",
       "  </thead>\n",
       "  <tbody>\n",
       "    <tr>\n",
       "      <th>8</th>\n",
       "      <td>Albania</td>\n",
       "      <td>1997</td>\n",
       "      <td>Cocoa beans, whole or broken, raw or roasted</td>\n",
       "      <td>Export</td>\n",
       "      <td>3500.0</td>\n",
       "      <td>3447.00</td>\n",
       "      <td>Albania</td>\n",
       "      <td>Europe</td>\n",
       "      <td>Southern Europe</td>\n",
       "      <td>AL</td>\n",
       "    </tr>\n",
       "    <tr>\n",
       "      <th>51</th>\n",
       "      <td>Angola</td>\n",
       "      <td>2016</td>\n",
       "      <td>Cocoa beans, whole or broken, raw or roasted</td>\n",
       "      <td>Export</td>\n",
       "      <td>10.0</td>\n",
       "      <td>25.75</td>\n",
       "      <td>Angola</td>\n",
       "      <td>Africa</td>\n",
       "      <td>Middle Africa</td>\n",
       "      <td>AO</td>\n",
       "    </tr>\n",
       "    <tr>\n",
       "      <th>79</th>\n",
       "      <td>Antigua and Barbuda</td>\n",
       "      <td>2000</td>\n",
       "      <td>Cocoa beans, whole or broken, raw or roasted</td>\n",
       "      <td>Export</td>\n",
       "      <td>127.0</td>\n",
       "      <td>465.00</td>\n",
       "      <td>Antigua and Barbuda</td>\n",
       "      <td>Americas</td>\n",
       "      <td>Caribbean</td>\n",
       "      <td>AG</td>\n",
       "    </tr>\n",
       "    <tr>\n",
       "      <th>108</th>\n",
       "      <td>Argentina</td>\n",
       "      <td>1993</td>\n",
       "      <td>Cocoa beans, whole or broken, raw or roasted</td>\n",
       "      <td>Export</td>\n",
       "      <td>132.0</td>\n",
       "      <td>420.00</td>\n",
       "      <td>Argentina</td>\n",
       "      <td>Americas</td>\n",
       "      <td>South America</td>\n",
       "      <td>AR</td>\n",
       "    </tr>\n",
       "    <tr>\n",
       "      <th>110</th>\n",
       "      <td>Armenia</td>\n",
       "      <td>2019</td>\n",
       "      <td>Cocoa beans, whole or broken, raw or roasted</td>\n",
       "      <td>Export</td>\n",
       "      <td>23806.0</td>\n",
       "      <td>13462.21</td>\n",
       "      <td>Armenia</td>\n",
       "      <td>Asia</td>\n",
       "      <td>Western Asia</td>\n",
       "      <td>AM</td>\n",
       "    </tr>\n",
       "  </tbody>\n",
       "</table>\n",
       "</div>"
      ],
      "text/plain": [
       "         Country or Area  Year                                     Commodity  \\\n",
       "8                Albania  1997  Cocoa beans, whole or broken, raw or roasted   \n",
       "51                Angola  2016  Cocoa beans, whole or broken, raw or roasted   \n",
       "79   Antigua and Barbuda  2000  Cocoa beans, whole or broken, raw or roasted   \n",
       "108            Argentina  1993  Cocoa beans, whole or broken, raw or roasted   \n",
       "110              Armenia  2019  Cocoa beans, whole or broken, raw or roasted   \n",
       "\n",
       "       Flow  Quantity  Trade (USD)              country continent  \\\n",
       "8    Export    3500.0      3447.00              Albania    Europe   \n",
       "51   Export      10.0        25.75               Angola    Africa   \n",
       "79   Export     127.0       465.00  Antigua and Barbuda  Americas   \n",
       "108  Export     132.0       420.00            Argentina  Americas   \n",
       "110  Export   23806.0     13462.21              Armenia      Asia   \n",
       "\n",
       "              region code_2  \n",
       "8    Southern Europe     AL  \n",
       "51     Middle Africa     AO  \n",
       "79         Caribbean     AG  \n",
       "108    South America     AR  \n",
       "110     Western Asia     AM  "
      ]
     },
     "execution_count": 74,
     "metadata": {},
     "output_type": "execute_result"
    }
   ],
   "source": [
    "export = imp_exp_regions[imp_exp_regions['Flow'] == 'Export']\n",
    "export.head()"
   ]
  },
  {
   "cell_type": "code",
   "execution_count": 75,
   "metadata": {},
   "outputs": [
    {
     "data": {
      "text/plain": [
       "array(['Albania', 'Austria', 'Belarus', 'Belgium', 'Bulgaria', 'Croatia',\n",
       "       'Denmark', 'Estonia', 'Finland', 'France', 'Germany', 'Greece',\n",
       "       'Hungary', 'Iceland', 'Ireland', 'Italy', 'Latvia', 'Lithuania',\n",
       "       'Luxembourg', 'Malta', 'Netherlands', 'Norway', 'Poland',\n",
       "       'Portugal', 'Romania', 'Russian Federation', 'Serbia', 'Slovakia',\n",
       "       'Slovenia', 'Spain', 'Sweden', 'Switzerland', 'Ukraine'],\n",
       "      dtype=object)"
      ]
     },
     "execution_count": 75,
     "metadata": {},
     "output_type": "execute_result"
    }
   ],
   "source": [
    "export[export['continent'] == 'Europe']['Country or Area'].unique()"
   ]
  },
  {
   "cell_type": "code",
   "execution_count": 76,
   "metadata": {},
   "outputs": [
    {
     "data": {
      "text/html": [
       "<div>\n",
       "<style scoped>\n",
       "    .dataframe tbody tr th:only-of-type {\n",
       "        vertical-align: middle;\n",
       "    }\n",
       "\n",
       "    .dataframe tbody tr th {\n",
       "        vertical-align: top;\n",
       "    }\n",
       "\n",
       "    .dataframe thead th {\n",
       "        text-align: right;\n",
       "    }\n",
       "</style>\n",
       "<table border=\"1\" class=\"dataframe\">\n",
       "  <thead>\n",
       "    <tr style=\"text-align: right;\">\n",
       "      <th></th>\n",
       "      <th>Country or Area</th>\n",
       "      <th>Year</th>\n",
       "      <th>Commodity</th>\n",
       "      <th>Flow</th>\n",
       "      <th>Quantity</th>\n",
       "      <th>Trade (USD)</th>\n",
       "      <th>country</th>\n",
       "      <th>continent</th>\n",
       "      <th>region</th>\n",
       "      <th>code_2</th>\n",
       "    </tr>\n",
       "  </thead>\n",
       "  <tbody>\n",
       "    <tr>\n",
       "      <th>0</th>\n",
       "      <td>Albania</td>\n",
       "      <td>2012</td>\n",
       "      <td>Cocoa beans, whole or broken, raw or roasted</td>\n",
       "      <td>Import</td>\n",
       "      <td>130.0</td>\n",
       "      <td>874.0</td>\n",
       "      <td>Albania</td>\n",
       "      <td>Europe</td>\n",
       "      <td>Southern Europe</td>\n",
       "      <td>AL</td>\n",
       "    </tr>\n",
       "    <tr>\n",
       "      <th>1</th>\n",
       "      <td>Albania</td>\n",
       "      <td>2011</td>\n",
       "      <td>Cocoa beans, whole or broken, raw or roasted</td>\n",
       "      <td>Import</td>\n",
       "      <td>4524.0</td>\n",
       "      <td>19877.0</td>\n",
       "      <td>Albania</td>\n",
       "      <td>Europe</td>\n",
       "      <td>Southern Europe</td>\n",
       "      <td>AL</td>\n",
       "    </tr>\n",
       "    <tr>\n",
       "      <th>2</th>\n",
       "      <td>Albania</td>\n",
       "      <td>2010</td>\n",
       "      <td>Cocoa beans, whole or broken, raw or roasted</td>\n",
       "      <td>Import</td>\n",
       "      <td>45.0</td>\n",
       "      <td>295.0</td>\n",
       "      <td>Albania</td>\n",
       "      <td>Europe</td>\n",
       "      <td>Southern Europe</td>\n",
       "      <td>AL</td>\n",
       "    </tr>\n",
       "    <tr>\n",
       "      <th>3</th>\n",
       "      <td>Albania</td>\n",
       "      <td>2009</td>\n",
       "      <td>Cocoa beans, whole or broken, raw or roasted</td>\n",
       "      <td>Import</td>\n",
       "      <td>262.0</td>\n",
       "      <td>1919.0</td>\n",
       "      <td>Albania</td>\n",
       "      <td>Europe</td>\n",
       "      <td>Southern Europe</td>\n",
       "      <td>AL</td>\n",
       "    </tr>\n",
       "    <tr>\n",
       "      <th>4</th>\n",
       "      <td>Albania</td>\n",
       "      <td>2004</td>\n",
       "      <td>Cocoa beans, whole or broken, raw or roasted</td>\n",
       "      <td>Import</td>\n",
       "      <td>1606.0</td>\n",
       "      <td>2729.0</td>\n",
       "      <td>Albania</td>\n",
       "      <td>Europe</td>\n",
       "      <td>Southern Europe</td>\n",
       "      <td>AL</td>\n",
       "    </tr>\n",
       "  </tbody>\n",
       "</table>\n",
       "</div>"
      ],
      "text/plain": [
       "  Country or Area  Year                                     Commodity    Flow  \\\n",
       "0         Albania  2012  Cocoa beans, whole or broken, raw or roasted  Import   \n",
       "1         Albania  2011  Cocoa beans, whole or broken, raw or roasted  Import   \n",
       "2         Albania  2010  Cocoa beans, whole or broken, raw or roasted  Import   \n",
       "3         Albania  2009  Cocoa beans, whole or broken, raw or roasted  Import   \n",
       "4         Albania  2004  Cocoa beans, whole or broken, raw or roasted  Import   \n",
       "\n",
       "   Quantity  Trade (USD)  country continent           region code_2  \n",
       "0     130.0        874.0  Albania    Europe  Southern Europe     AL  \n",
       "1    4524.0      19877.0  Albania    Europe  Southern Europe     AL  \n",
       "2      45.0        295.0  Albania    Europe  Southern Europe     AL  \n",
       "3     262.0       1919.0  Albania    Europe  Southern Europe     AL  \n",
       "4    1606.0       2729.0  Albania    Europe  Southern Europe     AL  "
      ]
     },
     "execution_count": 76,
     "metadata": {},
     "output_type": "execute_result"
    }
   ],
   "source": [
    "imports = imp_exp_regions[imp_exp_regions['Flow'] == 'Import']\n",
    "imports.head()"
   ]
  },
  {
   "cell_type": "code",
   "execution_count": 77,
   "metadata": {},
   "outputs": [],
   "source": [
    "pivot_imports = pd.pivot_table(imports, values = 'Trade (USD)', index = 'continent', columns = 'Year', aggfunc = np.sum)"
   ]
  },
  {
   "cell_type": "code",
   "execution_count": 78,
   "metadata": {},
   "outputs": [
    {
     "data": {
      "text/html": [
       "<div>\n",
       "<style scoped>\n",
       "    .dataframe tbody tr th:only-of-type {\n",
       "        vertical-align: middle;\n",
       "    }\n",
       "\n",
       "    .dataframe tbody tr th {\n",
       "        vertical-align: top;\n",
       "    }\n",
       "\n",
       "    .dataframe thead th {\n",
       "        text-align: right;\n",
       "    }\n",
       "</style>\n",
       "<table border=\"1\" class=\"dataframe\">\n",
       "  <thead>\n",
       "    <tr style=\"text-align: right;\">\n",
       "      <th>Year</th>\n",
       "      <th>1988</th>\n",
       "      <th>1989</th>\n",
       "      <th>1990</th>\n",
       "      <th>1991</th>\n",
       "      <th>1992</th>\n",
       "      <th>1993</th>\n",
       "      <th>1994</th>\n",
       "      <th>1995</th>\n",
       "      <th>1996</th>\n",
       "      <th>1997</th>\n",
       "      <th>...</th>\n",
       "      <th>2010</th>\n",
       "      <th>2011</th>\n",
       "      <th>2012</th>\n",
       "      <th>2013</th>\n",
       "      <th>2014</th>\n",
       "      <th>2015</th>\n",
       "      <th>2016</th>\n",
       "      <th>2017</th>\n",
       "      <th>2018</th>\n",
       "      <th>2019</th>\n",
       "    </tr>\n",
       "  </thead>\n",
       "  <tbody>\n",
       "    <tr>\n",
       "      <th>Africa</th>\n",
       "      <td>NaN</td>\n",
       "      <td>NaN</td>\n",
       "      <td>NaN</td>\n",
       "      <td>572105.0</td>\n",
       "      <td>1944817.0</td>\n",
       "      <td>1259203.0</td>\n",
       "      <td>3.680804e+06</td>\n",
       "      <td>3.146172e+06</td>\n",
       "      <td>7.516860e+06</td>\n",
       "      <td>2.382868e+06</td>\n",
       "      <td>...</td>\n",
       "      <td>2.724588e+07</td>\n",
       "      <td>1.652407e+09</td>\n",
       "      <td>3.124253e+07</td>\n",
       "      <td>8.429142e+07</td>\n",
       "      <td>3.864340e+07</td>\n",
       "      <td>1.710996e+07</td>\n",
       "      <td>1.977022e+07</td>\n",
       "      <td>1.946710e+07</td>\n",
       "      <td>1.238301e+06</td>\n",
       "      <td>3.180144e+03</td>\n",
       "    </tr>\n",
       "    <tr>\n",
       "      <th>Americas</th>\n",
       "      <td>NaN</td>\n",
       "      <td>33847189.0</td>\n",
       "      <td>38439802.0</td>\n",
       "      <td>44099672.0</td>\n",
       "      <td>39999341.0</td>\n",
       "      <td>45966597.0</td>\n",
       "      <td>5.615292e+07</td>\n",
       "      <td>7.992683e+07</td>\n",
       "      <td>6.335198e+07</td>\n",
       "      <td>9.428702e+07</td>\n",
       "      <td>...</td>\n",
       "      <td>3.682923e+08</td>\n",
       "      <td>4.040635e+08</td>\n",
       "      <td>3.341691e+08</td>\n",
       "      <td>2.660147e+08</td>\n",
       "      <td>4.241278e+08</td>\n",
       "      <td>3.429008e+08</td>\n",
       "      <td>4.908743e+08</td>\n",
       "      <td>4.319500e+08</td>\n",
       "      <td>4.580726e+08</td>\n",
       "      <td>2.265479e+08</td>\n",
       "    </tr>\n",
       "    <tr>\n",
       "      <th>Asia</th>\n",
       "      <td>84981276.0</td>\n",
       "      <td>189457873.0</td>\n",
       "      <td>182257197.0</td>\n",
       "      <td>178398910.0</td>\n",
       "      <td>220703086.0</td>\n",
       "      <td>160839787.0</td>\n",
       "      <td>1.904380e+08</td>\n",
       "      <td>2.746586e+08</td>\n",
       "      <td>2.664382e+08</td>\n",
       "      <td>2.931037e+08</td>\n",
       "      <td>...</td>\n",
       "      <td>2.001048e+09</td>\n",
       "      <td>2.129123e+09</td>\n",
       "      <td>1.814508e+09</td>\n",
       "      <td>1.587756e+09</td>\n",
       "      <td>2.195441e+09</td>\n",
       "      <td>1.741891e+09</td>\n",
       "      <td>1.812279e+09</td>\n",
       "      <td>1.972022e+09</td>\n",
       "      <td>2.074764e+09</td>\n",
       "      <td>1.474099e+08</td>\n",
       "    </tr>\n",
       "    <tr>\n",
       "      <th>Europe</th>\n",
       "      <td>59869290.0</td>\n",
       "      <td>119171486.0</td>\n",
       "      <td>124005183.0</td>\n",
       "      <td>504019590.0</td>\n",
       "      <td>927868418.0</td>\n",
       "      <td>834262287.0</td>\n",
       "      <td>1.399687e+09</td>\n",
       "      <td>1.630405e+09</td>\n",
       "      <td>1.978299e+09</td>\n",
       "      <td>1.667038e+09</td>\n",
       "      <td>...</td>\n",
       "      <td>5.236534e+09</td>\n",
       "      <td>6.174367e+09</td>\n",
       "      <td>4.895103e+09</td>\n",
       "      <td>4.551503e+09</td>\n",
       "      <td>5.295596e+09</td>\n",
       "      <td>5.619806e+09</td>\n",
       "      <td>6.454687e+09</td>\n",
       "      <td>5.625416e+09</td>\n",
       "      <td>5.345948e+09</td>\n",
       "      <td>1.869602e+08</td>\n",
       "    </tr>\n",
       "    <tr>\n",
       "      <th>Oceania</th>\n",
       "      <td>981118.0</td>\n",
       "      <td>263575.0</td>\n",
       "      <td>179329.0</td>\n",
       "      <td>236528.0</td>\n",
       "      <td>346922.0</td>\n",
       "      <td>329263.0</td>\n",
       "      <td>3.435490e+05</td>\n",
       "      <td>4.244230e+05</td>\n",
       "      <td>3.892580e+05</td>\n",
       "      <td>4.929880e+05</td>\n",
       "      <td>...</td>\n",
       "      <td>6.344571e+06</td>\n",
       "      <td>6.481258e+06</td>\n",
       "      <td>6.484481e+06</td>\n",
       "      <td>5.499694e+06</td>\n",
       "      <td>6.399103e+06</td>\n",
       "      <td>1.216092e+07</td>\n",
       "      <td>9.947090e+06</td>\n",
       "      <td>8.159731e+06</td>\n",
       "      <td>8.891566e+06</td>\n",
       "      <td>NaN</td>\n",
       "    </tr>\n",
       "  </tbody>\n",
       "</table>\n",
       "<p>5 rows × 32 columns</p>\n",
       "</div>"
      ],
      "text/plain": [
       "Year            1988         1989         1990         1991         1992  \\\n",
       "Africa           NaN          NaN          NaN     572105.0    1944817.0   \n",
       "Americas         NaN   33847189.0   38439802.0   44099672.0   39999341.0   \n",
       "Asia      84981276.0  189457873.0  182257197.0  178398910.0  220703086.0   \n",
       "Europe    59869290.0  119171486.0  124005183.0  504019590.0  927868418.0   \n",
       "Oceania     981118.0     263575.0     179329.0     236528.0     346922.0   \n",
       "\n",
       "Year             1993          1994          1995          1996          1997  \\\n",
       "Africa      1259203.0  3.680804e+06  3.146172e+06  7.516860e+06  2.382868e+06   \n",
       "Americas   45966597.0  5.615292e+07  7.992683e+07  6.335198e+07  9.428702e+07   \n",
       "Asia      160839787.0  1.904380e+08  2.746586e+08  2.664382e+08  2.931037e+08   \n",
       "Europe    834262287.0  1.399687e+09  1.630405e+09  1.978299e+09  1.667038e+09   \n",
       "Oceania      329263.0  3.435490e+05  4.244230e+05  3.892580e+05  4.929880e+05   \n",
       "\n",
       "Year      ...          2010          2011          2012          2013  \\\n",
       "Africa    ...  2.724588e+07  1.652407e+09  3.124253e+07  8.429142e+07   \n",
       "Americas  ...  3.682923e+08  4.040635e+08  3.341691e+08  2.660147e+08   \n",
       "Asia      ...  2.001048e+09  2.129123e+09  1.814508e+09  1.587756e+09   \n",
       "Europe    ...  5.236534e+09  6.174367e+09  4.895103e+09  4.551503e+09   \n",
       "Oceania   ...  6.344571e+06  6.481258e+06  6.484481e+06  5.499694e+06   \n",
       "\n",
       "Year              2014          2015          2016          2017  \\\n",
       "Africa    3.864340e+07  1.710996e+07  1.977022e+07  1.946710e+07   \n",
       "Americas  4.241278e+08  3.429008e+08  4.908743e+08  4.319500e+08   \n",
       "Asia      2.195441e+09  1.741891e+09  1.812279e+09  1.972022e+09   \n",
       "Europe    5.295596e+09  5.619806e+09  6.454687e+09  5.625416e+09   \n",
       "Oceania   6.399103e+06  1.216092e+07  9.947090e+06  8.159731e+06   \n",
       "\n",
       "Year              2018          2019  \n",
       "Africa    1.238301e+06  3.180144e+03  \n",
       "Americas  4.580726e+08  2.265479e+08  \n",
       "Asia      2.074764e+09  1.474099e+08  \n",
       "Europe    5.345948e+09  1.869602e+08  \n",
       "Oceania   8.891566e+06           NaN  \n",
       "\n",
       "[5 rows x 32 columns]"
      ]
     },
     "execution_count": 78,
     "metadata": {},
     "output_type": "execute_result"
    }
   ],
   "source": [
    "pivot_imports.index.name = None\n",
    "pivot_imports"
   ]
  },
  {
   "cell_type": "code",
   "execution_count": 79,
   "metadata": {},
   "outputs": [],
   "source": [
    "pivot_export = pd.pivot_table(export, values = 'Trade (USD)', index = 'continent', columns = 'Year', aggfunc = np.sum)"
   ]
  },
  {
   "cell_type": "code",
   "execution_count": 80,
   "metadata": {},
   "outputs": [
    {
     "data": {
      "text/plain": [
       "Index(['Africa', 'Americas', 'Asia', 'Europe', 'Oceania'], dtype='object')"
      ]
     },
     "execution_count": 80,
     "metadata": {},
     "output_type": "execute_result"
    }
   ],
   "source": [
    "pivot_export.index.name = None\n",
    "pivot_export.index"
   ]
  },
  {
   "cell_type": "code",
   "execution_count": 81,
   "metadata": {
    "scrolled": false
   },
   "outputs": [],
   "source": [
    "#frame1 = []\n",
    "#frame2 = []\n",
    "\n",
    "frames = []\n",
    "\n",
    "for year in pivot_export.columns[1:]: # we do not include the first frame here\n",
    "    frames.append(dict(data=dict(type='bar',\n",
    "                                 x=pivot_export.index,\n",
    "                                 y=pivot_export[year],\n",
    "                                 name=year,\n",
    "                                ),\n",
    "                       layout=go.Layout(title_text='Exports in the year of ' + str(year))\n",
    "                      )\n",
    "                )\n",
    "\n",
    "#for year in pivot_imports.columns[1:]: # we do not include the first frame here\n",
    "#    frames.append(dict(data=dict(type='scatter',\n",
    "#                                 x=pivot_imports.index,\n",
    "#                                 y=pivot_imports[year],\n",
    "#                                 name=year,\n",
    "#                                ),\n",
    "#                       layout=go.Layout(title_text='Imports in the year of ' + str(year))\n",
    "#                      )\n",
    "#                )\n",
    "\n",
    "    \n",
    "#frames = [frame1, frame2]\n",
    "\n",
    "# First introduction to buttons\n",
    "fig_bar_layout = dict(title=dict(text='Exports by continent from 1988 to 2019'),\n",
    "                      yaxis=dict(title='Exports',\n",
    "                                 range=[0,9000000000]\n",
    "                                ),\n",
    "                      updatemenus=[dict(type=\"buttons\",\n",
    "                                    buttons=[dict(label=\"Play\",\n",
    "                                                  method=\"animate\",\n",
    "                                                  args=[None])\n",
    "                                            ]\n",
    "                                       )\n",
    "                                  ]\n",
    "                    )\n",
    "\n",
    "initial_data = dict(type='bar', \n",
    "                    x=pivot_export.index, \n",
    "                    y=pivot_export.values[0],\n",
    "                    name=str(1988))\n",
    "\n",
    "fig_bar = go.Figure(data = initial_data, layout = fig_bar_layout, frames=frames)\n",
    "\n",
    "#fig_bar.show(renderer='iframe')"
   ]
  },
  {
   "cell_type": "markdown",
   "metadata": {},
   "source": [
    "### ------------- BEA\n"
   ]
  },
  {
   "cell_type": "code",
   "execution_count": 82,
   "metadata": {},
   "outputs": [
    {
     "data": {
      "text/html": [
       "<div>\n",
       "<style scoped>\n",
       "    .dataframe tbody tr th:only-of-type {\n",
       "        vertical-align: middle;\n",
       "    }\n",
       "\n",
       "    .dataframe tbody tr th {\n",
       "        vertical-align: top;\n",
       "    }\n",
       "\n",
       "    .dataframe thead th {\n",
       "        text-align: right;\n",
       "    }\n",
       "</style>\n",
       "<table border=\"1\" class=\"dataframe\">\n",
       "  <thead>\n",
       "    <tr style=\"text-align: right;\">\n",
       "      <th></th>\n",
       "      <th>Country or Area</th>\n",
       "      <th>Year</th>\n",
       "      <th>Commodity</th>\n",
       "      <th>Flow</th>\n",
       "      <th>Quantity</th>\n",
       "      <th>Trade (USD)</th>\n",
       "      <th>country</th>\n",
       "      <th>continent</th>\n",
       "      <th>region</th>\n",
       "      <th>code_2</th>\n",
       "    </tr>\n",
       "  </thead>\n",
       "  <tbody>\n",
       "  </tbody>\n",
       "</table>\n",
       "</div>"
      ],
      "text/plain": [
       "Empty DataFrame\n",
       "Columns: [Country or Area, Year, Commodity, Flow, Quantity, Trade (USD), country, continent, region, code_2]\n",
       "Index: []"
      ]
     },
     "execution_count": 82,
     "metadata": {},
     "output_type": "execute_result"
    }
   ],
   "source": [
    "imports.loc[(imports['continent']=='nan') & (imports['Country or Area']!='nan')]"
   ]
  },
  {
   "cell_type": "code",
   "execution_count": 83,
   "metadata": {},
   "outputs": [
    {
     "data": {
      "text/plain": [
       "361"
      ]
     },
     "execution_count": 83,
     "metadata": {},
     "output_type": "execute_result"
    }
   ],
   "source": [
    "imports['country'].isna().sum()"
   ]
  },
  {
   "cell_type": "code",
   "execution_count": 84,
   "metadata": {},
   "outputs": [
    {
     "data": {
      "text/plain": [
       "361"
      ]
     },
     "execution_count": 84,
     "metadata": {},
     "output_type": "execute_result"
    }
   ],
   "source": [
    "imports['continent'].isna().sum()"
   ]
  },
  {
   "cell_type": "code",
   "execution_count": 85,
   "metadata": {},
   "outputs": [],
   "source": [
    "imports['Quantity'] = imports['Quantity']. fillna(0) #os que têm nans ficam considerados como 0 importação"
   ]
  },
  {
   "cell_type": "code",
   "execution_count": 86,
   "metadata": {},
   "outputs": [
    {
     "data": {
      "text/plain": [
       "Country or Area     object\n",
       "Year                 int64\n",
       "Commodity           object\n",
       "Flow                object\n",
       "Quantity           float64\n",
       "Trade (USD)        float64\n",
       "country             object\n",
       "continent           object\n",
       "region              object\n",
       "code_2              object\n",
       "dtype: object"
      ]
     },
     "execution_count": 86,
     "metadata": {},
     "output_type": "execute_result"
    }
   ],
   "source": [
    "imports.dtypes"
   ]
  },
  {
   "cell_type": "code",
   "execution_count": 87,
   "metadata": {},
   "outputs": [
    {
     "data": {
      "text/plain": [
       "0         130\n",
       "1        4524\n",
       "2          45\n",
       "3         262\n",
       "4        1606\n",
       "        ...  \n",
       "5050       40\n",
       "5051        8\n",
       "5052      257\n",
       "5054      221\n",
       "5056    14942\n",
       "Name: Quantity, Length: 2865, dtype: int32"
      ]
     },
     "execution_count": 87,
     "metadata": {},
     "output_type": "execute_result"
    }
   ],
   "source": [
    "imports['Quantity'].astype(int)"
   ]
  },
  {
   "cell_type": "code",
   "execution_count": 88,
   "metadata": {},
   "outputs": [],
   "source": [
    "#treemap: #px.Constant(\"continents\")"
   ]
  },
  {
   "cell_type": "code",
   "execution_count": 89,
   "metadata": {},
   "outputs": [],
   "source": [
    "imports=imports[imports['Country or Area'].isnull()!= True] #removing nulls from Country or Area Column"
   ]
  },
  {
   "cell_type": "code",
   "execution_count": 90,
   "metadata": {},
   "outputs": [],
   "source": [
    "# Mudar aqui:"
   ]
  },
  {
   "cell_type": "code",
   "execution_count": 91,
   "metadata": {},
   "outputs": [],
   "source": [
    "imports.loc[imports['Country or Area'] == 'Wallis and Futuna Isds', 'continent'] = 'Oceania'\n",
    "imports.loc[imports['Country or Area'] == 'Wallis and Futuna Isds','region'] = 'Polynesia'\n",
    "#imports.loc[imports['Country or Area'] == 'United Rep. of Tanzania','country'] = 'Tanzania'"
   ]
  },
  {
   "cell_type": "code",
   "execution_count": 92,
   "metadata": {},
   "outputs": [],
   "source": [
    "imports.loc[imports['Country or Area'] == 'Wallis and Futuna Isds', 'continent'] = 'Oceania'\n",
    "imports.loc[imports['Country or Area'] == 'Wallis and Futuna Isds','region'] = 'Polynesia'\n",
    "imports.loc[imports['Country or Area'] == 'Venezuela', 'continent'] = 'Americas'\n",
    "imports.loc[imports['Country or Area'] == 'Venezuela','region'] = 'Southern America'\n",
    "imports.loc[imports['Country or Area'] == 'United Rep. of Tanzania', 'continent'] = 'Africa'\n",
    "imports.loc[imports['Country or Area'] == 'United Rep. of Tanzania','region'] = 'Eastern Africa'\n",
    "imports.loc[imports['Country or Area'] == 'United Rep. of Tanzania','country'] = 'Tanzania'\n",
    "imports.loc[imports['Country or Area'] == 'United Kingdom', 'continent'] = 'Europe'\n",
    "imports.loc[imports['Country or Area'] == 'United Kingdom','region'] = 'Northern Europe'\n",
    "imports.loc[imports['Country or Area'] == 'USA', 'continent'] = 'Americas'\n",
    "imports.loc[imports['Country or Area'] == 'USA','region'] = 'Northern America'\n",
    "imports.loc[imports['Country or Area'] == 'USA','country'] = 'United States of America'\n",
    "imports.loc[imports['Country or Area'] == 'Turks and Caicos Isds', 'continent'] = 'Americas'\n",
    "imports.loc[imports['Country or Area'] == 'Turks and Caicos Isds','region'] = 'Central America'\n",
    "imports.loc[imports['Country or Area'] == 'TFYR of Macedonia', 'continent'] = 'Europe'\n",
    "imports.loc[imports['Country or Area'] == 'TFYR of Macedonia','region'] = 'Southern Europe'\n",
    "imports.loc[imports['Country or Area'] == 'TFYR of Macedonia','country'] = 'Macedonia'\n",
    "imports.loc[imports['Country or Area'] == 'Syria', 'continent'] = 'Asia'\n",
    "imports.loc[imports['Country or Area'] == 'Syria','region'] = 'Western Asia'\n",
    "imports.loc[imports['Country or Area'] == 'Solomon Isds', 'continent'] = 'Oceania'\n",
    "imports.loc[imports['Country or Area'] == 'Solomon Isds','region'] = 'Australia and New Zealand'\n",
    "imports.loc[imports['Country or Area'] == 'Serbia and Montenegro', 'continent'] = 'Europe'\n",
    "imports.loc[imports['Country or Area'] == 'Serbia and Montenegro','region'] = 'Southern Europe'\n",
    "imports.loc[imports['Country or Area'] == 'Rep. of Moldova', 'continent'] = 'Europe'\n",
    "imports.loc[imports['Country or Area'] == 'Rep. of Moldova','region'] = 'Eastern Europe'\n",
    "imports.loc[imports['Country or Area'] == 'Rep. of Moldova','country'] = 'Moldova'\n",
    "imports.loc[imports['Country or Area'] == 'Rep. of Korea', 'continent'] = 'Asia'\n",
    "imports.loc[imports['Country or Area'] == 'Rep. of Korea','region'] = 'Eastern Asia'\n",
    "imports.loc[imports['Country or Area'] == 'Rep. of Korea','country'] = 'South Korea'\n",
    "imports.loc[imports['Country or Area'] == 'Other Asia, nes', 'continent'] = 'Asia'\n",
    "imports.loc[imports['Country or Area'] == 'Other Asia, nes','region'] = 'Other'\n",
    "imports.loc[imports['Country or Area'] == 'Neth. Antilles', 'continent'] = 'Americas'\n",
    "imports.loc[imports['Country or Area'] == 'Neth. Antilles','region'] = 'Caribbean'\n",
    "imports.loc[imports['Country or Area'] == 'Lao People\\'s Dem. Rep.', 'continent'] = 'Asia'\n",
    "imports.loc[imports['Country or Area'] == 'Lao People\\'s Dem. Rep.','region'] = 'South-Eastern Asia'\n",
    "imports.loc[imports['Country or Area'] == 'Lao People\\'s Dem. Rep.','country'] = 'Laos'\n",
    "imports.loc[imports['Country or Area'] == 'Iran', 'continent'] = 'Asia'\n",
    "imports.loc[imports['Country or Area'] == 'Iran','region'] = 'South-Western Asia'\n",
    "imports.loc[imports['Country or Area'] == 'Fmr Fed. Rep. of Germany', 'continent'] = 'Europe'\n",
    "imports.loc[imports['Country or Area'] == 'Fmr Fed. Rep. of Germany','region'] = 'Central Europe'\n",
    "imports.loc[imports['Country or Area'] == 'Fmr Fed. Rep. of Germany','country'] = 'Germany'\n",
    "imports.loc[imports['Country or Area'] == 'Faeroe Isds', 'continent'] = 'Europe'\n",
    "imports.loc[imports['Country or Area'] == 'Faeroe Isds', 'region'] = 'Northern Europe'\n",
    "imports.loc[imports['Country or Area'] == 'FS Micronesia', 'continent'] = 'Oceania'\n",
    "imports.loc[imports['Country or Area'] == 'FS Micronesia', 'region'] = 'Micronesia'\n",
    "imports.loc[imports['Country or Area'] == 'Czech Rep.', 'continent'] = 'Europe'\n",
    "imports.loc[imports['Country or Area'] == 'Czech Rep.', 'region'] = 'Central Europe'\n",
    "imports.loc[imports['Country or Area'] == 'Bosnia Herzegovina', 'continent'] = 'Europe'\n",
    "imports.loc[imports['Country or Area'] == 'Bosnia Herzegovina', 'region'] = 'Southern Europe'\n",
    "imports.loc[imports['Country or Area'] == 'Central African Rep.', 'continent'] = 'Africa'\n",
    "imports.loc[imports['Country or Area'] == 'Central African Rep.', 'region'] = 'Middle Africa'\n",
    "imports.loc[imports['Country or Area'] == 'China, Hong Kong SAR', 'continent'] = 'Asia'\n",
    "imports.loc[imports['Country or Area'] == 'China, Hong Kong SAR', 'region'] = 'Eastern Asia'\n",
    "imports.loc[imports['Country or Area'] == 'China, Macao SAR', 'continent'] = 'Asia'\n",
    "imports.loc[imports['Country or Area'] == 'China, Macao SAR', 'region'] = 'Eastern Asia'\n",
    "imports.loc[imports['Country or Area'] == 'Cook Isds', 'continent'] = 'Oceania'\n",
    "imports.loc[imports['Country or Area'] == 'Cook Isds', 'region'] = 'Polynesia'\n",
    "imports.loc[imports['Country or Area'] == 'Dominican Rep.', 'continent'] = 'Americas'\n",
    "imports.loc[imports['Country or Area'] == 'Dominican Rep.', 'region'] = 'Caribbean'\n",
    "imports.loc[imports['Country or Area'] == 'Fmr Sudan', 'continent'] = 'Africa'\n",
    "imports.loc[imports['Country or Area'] == 'Fmr Sudan','region'] = 'Northern Africa'\n",
    "imports.loc[imports['Country or Area'] == 'Fmr Sudan','country'] = 'Sudan'"
   ]
  },
  {
   "cell_type": "code",
   "execution_count": 93,
   "metadata": {},
   "outputs": [],
   "source": [
    "imports= imports[~(imports['Country or Area'] == 'Belgium-Luxembourg')]"
   ]
  },
  {
   "cell_type": "code",
   "execution_count": 94,
   "metadata": {},
   "outputs": [],
   "source": [
    "imports= imports[~(imports['Country or Area'] == 'EU-28')]\n",
    "imports= imports[~(imports['Country or Area'] == 'So. African Customs Union')]"
   ]
  },
  {
   "cell_type": "code",
   "execution_count": 95,
   "metadata": {
    "scrolled": true
   },
   "outputs": [
    {
     "name": "stderr",
     "output_type": "stream",
     "text": [
      "C:\\Users\\Utilizador\\anaconda3\\envs\\datavisualization\\lib\\site-packages\\plotly\\express\\_core.py:1637: FutureWarning:\n",
      "\n",
      "The frame.append method is deprecated and will be removed from pandas in a future version. Use pandas.concat instead.\n",
      "\n",
      "C:\\Users\\Utilizador\\anaconda3\\envs\\datavisualization\\lib\\site-packages\\plotly\\express\\_core.py:1637: FutureWarning:\n",
      "\n",
      "The frame.append method is deprecated and will be removed from pandas in a future version. Use pandas.concat instead.\n",
      "\n",
      "C:\\Users\\Utilizador\\anaconda3\\envs\\datavisualization\\lib\\site-packages\\plotly\\express\\_core.py:1637: FutureWarning:\n",
      "\n",
      "The frame.append method is deprecated and will be removed from pandas in a future version. Use pandas.concat instead.\n",
      "\n"
     ]
    },
    {
     "data": {
      "application/vnd.plotly.v1+json": {
       "config": {
        "plotlyServerURL": "https://plot.ly"
       },
       "data": [
        {
         "branchvalues": "total",
         "customdata": [
          [
           7979.482940849249
          ],
          [
           4867718.519795696
          ],
          [
           682.1506384795831
          ],
          [
           22439.121323536125
          ],
          [
           511.67418263810595
          ],
          [
           781.3571367349779
          ],
          [
           1625356.476948674
          ],
          [
           1512519.5706019613
          ],
          [
           663.4144080503572
          ],
          [
           742602.1909391377
          ],
          [
           18971987.029589165
          ],
          [
           13876.658449533454
          ],
          [
           1579.515428958969
          ],
          [
           26974.339409201486
          ],
          [
           804.5332043842682
          ],
          [
           2783.0775857674466
          ],
          [
           6189857.68386983
          ],
          [
           211775297.7000385
          ],
          [
           3366.601171112557
          ],
          [
           14085.603237251486
          ],
          [
           82.90504926827973
          ],
          [
           81.1725888324873
          ],
          [
           186905.17725826448
          ],
          [
           717108.9460394137
          ],
          [
           142506.64388644026
          ],
          [
           59316198.83827661
          ],
          [
           1179.9822518025512
          ],
          [
           10122160.501771988
          ],
          [
           215186.296112325
          ],
          [
           220.04554455445543
          ],
          [
           477.6902356902357
          ],
          [
           81
          ],
          [
           5046.785405207187
          ],
          [
           60134873.57257611
          ],
          [
           375765.8601349817
          ],
          [
           227131.82139326696
          ],
          [
           34244161.5245869
          ],
          [
           169532.43059157225
          ],
          [
           22124.766470009832
          ],
          [
           6850844.610447581
          ],
          [
           9458.921327290116
          ],
          [
           2089.6738678853344
          ],
          [
           21.62857142857143
          ],
          [
           32713419.97023345
          ],
          [
           3532006.125494004
          ],
          [
           350
          ],
          [
           157976.8116609777
          ],
          [
           14505125.963841556
          ],
          [
           30211.81821139975
          ],
          [
           7875294.002402733
          ],
          [
           3
          ],
          [
           31799.220736342842
          ],
          [
           318875.5804362264
          ],
          [
           273600.0464243065
          ],
          [
           759254.8093226366
          ],
          [
           238
          ],
          [
           53938843.536572
          ],
          [
           5216.0513739545995
          ],
          [
           448.2472024415056
          ],
          [
           36.59183673469388
          ],
          [
           826.2310870126516
          ],
          [
           119824.70498572264
          ],
          [
           255976507.8705008
          ],
          [
           46850.34861954236
          ],
          [
           143248138.8452875
          ],
          [
           130.3380140421264
          ],
          [
           16.4
          ],
          [
           161588.56740948645
          ],
          [
           18286.203237376074
          ],
          [
           313295741.4585638
          ],
          [
           43204.45525737878
          ],
          [
           6406626.847958926
          ],
          [
           290.4761904761905
          ],
          [
           919.3928182807399
          ],
          [
           1570694.4924869698
          ],
          [
           1949253.715970551
          ],
          [
           90
          ],
          [
           67.63065637065637
          ],
          [
           1134067.3589717601
          ],
          [
           5250568.032340431
          ],
          [
           8620.153826384358
          ],
          [
           20649555.83931894
          ],
          [
           129806944.76887156
          ],
          [
           7942933.13014541
          ],
          [
           11396697.289625358
          ],
          [
           988593.7472462802
          ],
          [
           79430826.55701308
          ],
          [
           14181.18893637227
          ],
          [
           50391749.50592214
          ],
          [
           13786.950354820512
          ],
          [
           6476647.38461633
          ],
          [
           295859.368380111
          ],
          [
           45.27450980392157
          ],
          [
           15790.017877467413
          ],
          [
           7756.381703470031
          ],
          [
           1426.6285400658617
          ],
          [
           1690410.4660043763
          ],
          [
           41524.23472580301
          ],
          [
           24155.90025213497
          ],
          [
           5783.230935184317
          ],
          [
           3578920.0417459197
          ],
          [
           3094.7344494089775
          ],
          [
           36445.616427664674
          ],
          [
           22708.709391511846
          ],
          [
           318581896.3283955
          ],
          [
           19804.95017884517
          ],
          [
           468.9626090569173
          ],
          [
           12437.814070351758
          ],
          [
           7357.6435722867445
          ],
          [
           313.762509525019
          ],
          [
           48.92820512820513
          ],
          [
           23979661.95801677
          ],
          [
           1438.701524810036
          ],
          [
           243.70896889925402
          ],
          [
           4
          ],
          [
           460514.5385917067
          ],
          [
           25773.697451694203
          ],
          [
           19252.39611542585
          ],
          [
           40837.302309569124
          ],
          [
           16541.309578274384
          ],
          [
           142.21333333333334
          ],
          [
           608911571.601106
          ],
          [
           111726.68359558801
          ],
          [
           1449274.6981762515
          ],
          [
           18559.416317220366
          ],
          [
           5254.516313665499
          ],
          [
           30710586.152634103
          ],
          [
           2009541.1209384154
          ],
          [
           6937.5864378768965
          ],
          [
           14189.10509268893
          ],
          [
           118333.48535667013
          ],
          [
           404.4856490541422
          ],
          [
           463117.3212384006
          ],
          [
           149670265.6948087
          ],
          [
           120563.77599317672
          ],
          [
           1618963.757304457
          ],
          [
           7217954.954919936
          ],
          [
           25411392.878939494
          ],
          [
           145472.96804101934
          ],
          [
           176844.23244387485
          ],
          [
           4108030.036994778
          ],
          [
           547318.8483283968
          ],
          [
           3833427.0109961457
          ],
          [
           60397246.80341775
          ],
          [
           16572.837518134136
          ],
          [
           241.1911202735753
          ],
          [
           242.88222828798268
          ],
          [
           61.645833333333336
          ],
          [
           13836.150086956523
          ],
          [
           618.5050251256281
          ],
          [
           830964.5179680195
          ],
          [
           20158.23853426049
          ],
          [
           3206139.203676488
          ],
          [
           2762542.49308543
          ],
          [
           3125.1148178327844
          ],
          [
           457.40322676460556
          ],
          [
           75338668.53296208
          ],
          [
           8747787.28478966
          ],
          [
           210913.15684067682
          ],
          [
           59860.171037113985
          ],
          [
           3743795.0969796716
          ],
          [
           80925811.8225107
          ],
          [
           4096671.0698291017
          ],
          [
           45.3413103610583
          ],
          [
           986.8331558395456
          ],
          [
           115442.24403453797
          ],
          [
           202491.71152048442
          ],
          [
           34190562.40726108
          ],
          [
           40790.26842317132
          ],
          [
           284512.7694029874
          ],
          [
           16682164.418526065
          ],
          [
           816.3325740318907
          ],
          [
           2412468.8158952435
          ],
          [
           4298.760702524698
          ],
          [
           23816.20779220779
          ],
          [
           4576741.59465423
          ],
          [
           69546600.70232365
          ],
          [
           1105
          ],
          [
           1270.7268359643103
          ],
          [
           415326379.8557909
          ],
          [
           204855.87676945073
          ],
          [
           17047275.146117833
          ],
          [
           140337.86988054612
          ],
          [
           162954427.19799206
          ],
          [
           168107.7752580762
          ],
          [
           182556.49823182833
          ],
          [
           4595.023148148148
          ],
          [
           98
          ],
          [
           3068930.723225381
          ],
          [
           52897.07476318289
          ],
          [
           10
          ],
          [
           70795.8651098418
          ],
          [
           21358.833280532235
          ],
          [
           14066.505918647932
          ],
          [
           1253264.3773198908
          ],
          [
           21355.671837576672
          ],
          [
           23295855.418939065
          ],
          [
           6475595.49817349
          ],
          [
           212331915.60673463
          ],
          [
           187399.86495941487
          ],
          [
           42915292.26078377
          ],
          [
           39287315.02952464
          ],
          [
           149503693.6346336
          ],
          [
           418.2028603165787
          ],
          [
           342071.7138743782
          ],
          [
           4534440.780103292
          ],
          [
           375106515.6428515
          ],
          [
           127216246.02018748
          ],
          [
           14189.10509268893
          ],
          [
           10000.923462487071
          ],
          [
           53490732.568663634
          ],
          [
           229146436.8662221
          ],
          [
           7942933.13014541
          ],
          [
           3540828.940907268
          ],
          [
           3068930.723225381
          ],
          [
           19421737.206994824
          ],
          [
           75218630.84763162
          ],
          [
           27365250.960905552
          ],
          [
           67570761.80235015
          ],
          [
           406513433.1688521
          ],
          [
           9466492.04437368
          ],
          [
           337680991.8728337
          ],
          [
           168979092.72991225
          ],
          [
           315284728.1202363
          ],
          [
           123577860.38734345
          ]
         ],
         "domain": {
          "x": [
           0,
           1
          ],
          "y": [
           0,
           1
          ]
         },
         "hovertemplate": "labels=%{label}<br>Quantity_sum=%{value}<br>parent=%{parent}<br>id=%{id}<br>Quantity=%{color}<extra></extra>",
         "ids": [
          "Europe/Southern Europe/Albania",
          "Africa/Northern Africa/Algeria",
          "Europe/Southern Europe/Andorra",
          "Africa/Middle Africa/Angola",
          "Americas/Caribbean/Anguilla",
          "Americas/Caribbean/Antigua and Barbuda",
          "Americas/South America/Argentina",
          "Asia/Western Asia/Armenia",
          "Americas/Caribbean/Aruba",
          "Oceania/Australia and New Zealand/Australia",
          "Europe/Western Europe/Austria",
          "Asia/Western Asia/Azerbaijan",
          "Americas/Caribbean/Bahamas",
          "Asia/Western Asia/Bahrain",
          "Asia/Southern Asia/Bangladesh",
          "Americas/Caribbean/Barbados",
          "Europe/Eastern Europe/Belarus",
          "Europe/Western Europe/Belgium",
          "Americas/Central America/Belize",
          "Africa/Western Africa/Benin",
          "Americas/Northern America/Bermuda",
          "Asia/Southern Asia/Bhutan",
          "Americas/South America/Bolivia (Plurinational State of)",
          "Europe/Southern Europe/Bosnia Herzegovina",
          "Africa/Southern Africa/Botswana",
          "Americas/South America/Brazil",
          "Asia/South-Eastern Asia/Brunei Darussalam",
          "Europe/Eastern Europe/Bulgaria",
          "Africa/Western Africa/Burkina Faso",
          "Africa/Eastern Africa/Burundi",
          "Africa/Western Africa/Cabo Verde",
          "Asia/South-Eastern Asia/Cambodia",
          "Africa/Middle Africa/Cameroon",
          "Americas/Northern America/Canada",
          "Africa/Middle Africa/Central African Rep.",
          "Americas/South America/Chile",
          "Asia/Eastern Asia/China",
          "Asia/Eastern Asia/China, Hong Kong SAR",
          "Asia/Eastern Asia/China, Macao SAR",
          "Americas/South America/Colombia",
          "Africa/Eastern Africa/Comoros",
          "Africa/Middle Africa/Congo",
          "Oceania/Polynesia/Cook Isds",
          "Americas/Central America/Costa Rica",
          "Europe/Southern Europe/Croatia",
          "Americas/Caribbean/Cuba",
          "Asia/Western Asia/Cyprus",
          "Europe/Central Europe/Czech Rep.",
          "Africa/Western Africa/Côte d'Ivoire",
          "Europe/Northern Europe/Denmark",
          "Americas/Caribbean/Dominica",
          "Americas/Caribbean/Dominican Rep.",
          "Americas/South America/Ecuador",
          "Africa/Northern Africa/Egypt",
          "Americas/Central America/El Salvador",
          "Africa/Eastern Africa/Eritrea",
          "Europe/Northern Europe/Estonia",
          "Africa/Eastern Africa/Ethiopia",
          "Oceania/Micronesia/FS Micronesia",
          "Europe/Northern Europe/Faeroe Isds",
          "Oceania/Melanesia/Fiji",
          "Europe/Northern Europe/Finland",
          "Europe/Central Europe/Fmr Fed. Rep. of Germany",
          "Africa/Northern Africa/Fmr Sudan",
          "Europe/Western Europe/France",
          "Oceania/Polynesia/French Polynesia",
          "Africa/Middle Africa/Gabon",
          "Africa/Western Africa/Gambia",
          "Asia/Western Asia/Georgia",
          "Europe/Western Europe/Germany",
          "Africa/Western Africa/Ghana",
          "Europe/Southern Europe/Greece",
          "Americas/Northern America/Greenland",
          "Americas/Caribbean/Grenada",
          "Americas/Central America/Guatemala",
          "Africa/Western Africa/Guinea",
          "Africa/Western Africa/Guinea-Bissau",
          "Americas/South America/Guyana",
          "Americas/Central America/Honduras",
          "Europe/Eastern Europe/Hungary",
          "Europe/Northern Europe/Iceland",
          "Asia/Southern Asia/India",
          "Asia/South-Eastern Asia/Indonesia",
          "Asia/South-Western Asia/Iran",
          "Europe/Northern Europe/Ireland",
          "Asia/Western Asia/Israel",
          "Europe/Southern Europe/Italy",
          "Americas/Caribbean/Jamaica",
          "Asia/Eastern Asia/Japan",
          "Asia/Western Asia/Jordan",
          "Asia/Central Asia/Kazakhstan",
          "Africa/Eastern Africa/Kenya",
          "Oceania/Micronesia/Kiribati",
          "Asia/Western Asia/Kuwait",
          "Asia/Central Asia/Kyrgyzstan",
          "Asia/South-Eastern Asia/Lao People's Dem. Rep.",
          "Europe/Northern Europe/Latvia",
          "Asia/Western Asia/Lebanon",
          "Africa/Southern Africa/Lesotho",
          "Africa/Northern Africa/Libya",
          "Europe/Northern Europe/Lithuania",
          "Europe/Western Europe/Luxembourg",
          "Africa/Eastern Africa/Madagascar",
          "Africa/Eastern Africa/Malawi",
          "Asia/South-Eastern Asia/Malaysia",
          "Africa/Western Africa/Mali",
          "Europe/Southern Europe/Malta",
          "Americas/Caribbean/Martinique",
          "Africa/Western Africa/Mauritania",
          "Africa/Eastern Africa/Mauritius",
          "Africa/Eastern Africa/Mayotte",
          "Americas/Central America/Mexico",
          "Asia/Eastern Asia/Mongolia",
          "Europe/Southern Europe/Montenegro",
          "Americas/Caribbean/Montserrat",
          "Africa/Northern Africa/Morocco",
          "Africa/Eastern Africa/Mozambique",
          "Asia/South-Eastern Asia/Myanmar",
          "Africa/Southern Africa/Namibia",
          "Asia/Southern Asia/Nepal",
          "Americas/Caribbean/Neth. Antilles",
          "Europe/Western Europe/Netherlands",
          "Oceania/Melanesia/New Caledonia",
          "Oceania/Australia and New Zealand/New Zealand",
          "Americas/Central America/Nicaragua",
          "Africa/Western Africa/Niger",
          "Africa/Western Africa/Nigeria",
          "Europe/Northern Europe/Norway",
          "Asia/Western Asia/Oman",
          "Asia/Other/Other Asia, nes",
          "Asia/Southern Asia/Pakistan",
          "Oceania/Micronesia/Palau",
          "Americas/Central America/Panama",
          "Oceania/Melanesia/Papua New Guinea",
          "Americas/South America/Paraguay",
          "Americas/South America/Peru",
          "Asia/South-Eastern Asia/Philippines",
          "Europe/Eastern Europe/Poland",
          "Europe/Southern Europe/Portugal",
          "Asia/Western Asia/Qatar",
          "Asia/Eastern Asia/Rep. of Korea",
          "Europe/Eastern Europe/Rep. of Moldova",
          "Europe/Eastern Europe/Romania",
          "Europe/Eastern Europe/Russian Federation",
          "Africa/Eastern Africa/Rwanda",
          "Americas/Caribbean/Saint Kitts and Nevis",
          "Americas/Caribbean/Saint Lucia",
          "Americas/Caribbean/Saint Vincent and the Grenadines",
          "Oceania/Polynesia/Samoa",
          "Africa/Middle Africa/Sao Tome and Principe",
          "Asia/Western Asia/Saudi Arabia",
          "Africa/Western Africa/Senegal",
          "Europe/Southern Europe/Serbia",
          "Europe/Southern Europe/Serbia and Montenegro",
          "Africa/Eastern Africa/Seychelles",
          "Africa/Western Africa/Sierra Leone",
          "Asia/South-Eastern Asia/Singapore",
          "Europe/Eastern Europe/Slovakia",
          "Europe/Southern Europe/Slovenia",
          "Oceania/Australia and New Zealand/Solomon Isds",
          "Africa/Southern Africa/South Africa",
          "Europe/Southern Europe/Spain",
          "Asia/Southern Asia/Sri Lanka",
          "Africa/Northern Africa/Sudan",
          "Americas/South America/Suriname",
          "Africa/Southern Africa/Swaziland",
          "Europe/Northern Europe/Sweden",
          "Europe/Western Europe/Switzerland",
          "Asia/Western Asia/Syria",
          "Europe/Southern Europe/TFYR of Macedonia",
          "Asia/South-Eastern Asia/Thailand",
          "Asia/South-Eastern Asia/Timor-Leste",
          "Africa/Western Africa/Togo",
          "Oceania/Polynesia/Tonga",
          "Americas/Caribbean/Trinidad and Tobago",
          "Africa/Northern Africa/Tunisia",
          "Asia/Western Asia/Turkey",
          "Asia/Central Asia/Turkmenistan",
          "Americas/Central America/Turks and Caicos Isds",
          "Americas/Northern America/USA",
          "Africa/Eastern Africa/Uganda",
          "Europe/Eastern Europe/Ukraine",
          "Asia/Western Asia/United Arab Emirates",
          "Europe/Northern Europe/United Kingdom",
          "Africa/Eastern Africa/United Rep. of Tanzania",
          "Americas/South America/Uruguay",
          "Asia/Central Asia/Uzbekistan",
          "Oceania/Melanesia/Vanuatu",
          "Americas/Southern America/Venezuela",
          "Asia/South-Eastern Asia/Viet Nam",
          "Oceania/Polynesia/Wallis and Futuna Isds",
          "Asia/Western Asia/Yemen",
          "Africa/Eastern Africa/Zambia",
          "Africa/Eastern Africa/Zimbabwe",
          "Oceania/Australia and New Zealand",
          "Americas/Caribbean",
          "Americas/Central America",
          "Asia/Central Asia",
          "Europe/Central Europe",
          "Africa/Eastern Africa",
          "Asia/Eastern Asia",
          "Europe/Eastern Europe",
          "Oceania/Melanesia",
          "Oceania/Micronesia",
          "Africa/Middle Africa",
          "Africa/Northern Africa",
          "Americas/Northern America",
          "Europe/Northern Europe",
          "Asia/Other",
          "Oceania/Polynesia",
          "Americas/South America",
          "Asia/South-Eastern Asia",
          "Asia/South-Western Asia",
          "Africa/Southern Africa",
          "Americas/Southern America",
          "Asia/Southern Asia",
          "Europe/Southern Europe",
          "Africa/Western Africa",
          "Asia/Western Asia",
          "Europe/Western Europe",
          "Africa",
          "Americas",
          "Asia",
          "Europe",
          "Oceania"
         ],
         "labels": [
          "Albania",
          "Algeria",
          "Andorra",
          "Angola",
          "Anguilla",
          "Antigua and Barbuda",
          "Argentina",
          "Armenia",
          "Aruba",
          "Australia",
          "Austria",
          "Azerbaijan",
          "Bahamas",
          "Bahrain",
          "Bangladesh",
          "Barbados",
          "Belarus",
          "Belgium",
          "Belize",
          "Benin",
          "Bermuda",
          "Bhutan",
          "Bolivia (Plurinational State of)",
          "Bosnia Herzegovina",
          "Botswana",
          "Brazil",
          "Brunei Darussalam",
          "Bulgaria",
          "Burkina Faso",
          "Burundi",
          "Cabo Verde",
          "Cambodia",
          "Cameroon",
          "Canada",
          "Central African Rep.",
          "Chile",
          "China",
          "China, Hong Kong SAR",
          "China, Macao SAR",
          "Colombia",
          "Comoros",
          "Congo",
          "Cook Isds",
          "Costa Rica",
          "Croatia",
          "Cuba",
          "Cyprus",
          "Czech Rep.",
          "Côte d'Ivoire",
          "Denmark",
          "Dominica",
          "Dominican Rep.",
          "Ecuador",
          "Egypt",
          "El Salvador",
          "Eritrea",
          "Estonia",
          "Ethiopia",
          "FS Micronesia",
          "Faeroe Isds",
          "Fiji",
          "Finland",
          "Fmr Fed. Rep. of Germany",
          "Fmr Sudan",
          "France",
          "French Polynesia",
          "Gabon",
          "Gambia",
          "Georgia",
          "Germany",
          "Ghana",
          "Greece",
          "Greenland",
          "Grenada",
          "Guatemala",
          "Guinea",
          "Guinea-Bissau",
          "Guyana",
          "Honduras",
          "Hungary",
          "Iceland",
          "India",
          "Indonesia",
          "Iran",
          "Ireland",
          "Israel",
          "Italy",
          "Jamaica",
          "Japan",
          "Jordan",
          "Kazakhstan",
          "Kenya",
          "Kiribati",
          "Kuwait",
          "Kyrgyzstan",
          "Lao People's Dem. Rep.",
          "Latvia",
          "Lebanon",
          "Lesotho",
          "Libya",
          "Lithuania",
          "Luxembourg",
          "Madagascar",
          "Malawi",
          "Malaysia",
          "Mali",
          "Malta",
          "Martinique",
          "Mauritania",
          "Mauritius",
          "Mayotte",
          "Mexico",
          "Mongolia",
          "Montenegro",
          "Montserrat",
          "Morocco",
          "Mozambique",
          "Myanmar",
          "Namibia",
          "Nepal",
          "Neth. Antilles",
          "Netherlands",
          "New Caledonia",
          "New Zealand",
          "Nicaragua",
          "Niger",
          "Nigeria",
          "Norway",
          "Oman",
          "Other Asia, nes",
          "Pakistan",
          "Palau",
          "Panama",
          "Papua New Guinea",
          "Paraguay",
          "Peru",
          "Philippines",
          "Poland",
          "Portugal",
          "Qatar",
          "Rep. of Korea",
          "Rep. of Moldova",
          "Romania",
          "Russian Federation",
          "Rwanda",
          "Saint Kitts and Nevis",
          "Saint Lucia",
          "Saint Vincent and the Grenadines",
          "Samoa",
          "Sao Tome and Principe",
          "Saudi Arabia",
          "Senegal",
          "Serbia",
          "Serbia and Montenegro",
          "Seychelles",
          "Sierra Leone",
          "Singapore",
          "Slovakia",
          "Slovenia",
          "Solomon Isds",
          "South Africa",
          "Spain",
          "Sri Lanka",
          "Sudan",
          "Suriname",
          "Swaziland",
          "Sweden",
          "Switzerland",
          "Syria",
          "TFYR of Macedonia",
          "Thailand",
          "Timor-Leste",
          "Togo",
          "Tonga",
          "Trinidad and Tobago",
          "Tunisia",
          "Turkey",
          "Turkmenistan",
          "Turks and Caicos Isds",
          "USA",
          "Uganda",
          "Ukraine",
          "United Arab Emirates",
          "United Kingdom",
          "United Rep. of Tanzania",
          "Uruguay",
          "Uzbekistan",
          "Vanuatu",
          "Venezuela",
          "Viet Nam",
          "Wallis and Futuna Isds",
          "Yemen",
          "Zambia",
          "Zimbabwe",
          "Australia and New Zealand",
          "Caribbean",
          "Central America",
          "Central Asia",
          "Central Europe",
          "Eastern Africa",
          "Eastern Asia",
          "Eastern Europe",
          "Melanesia",
          "Micronesia",
          "Middle Africa",
          "Northern Africa",
          "Northern America",
          "Northern Europe",
          "Other",
          "Polynesia",
          "South America",
          "South-Eastern Asia",
          "South-Western Asia",
          "Southern Africa",
          "Southern America",
          "Southern Asia",
          "Southern Europe",
          "Western Africa",
          "Western Asia",
          "Western Europe",
          "Africa",
          "Americas",
          "Asia",
          "Europe",
          "Oceania"
         ],
         "marker": {
          "coloraxis": "coloraxis",
          "colors": [
           7979.482940849249,
           4867718.519795696,
           682.1506384795831,
           22439.121323536125,
           511.67418263810595,
           781.3571367349779,
           1625356.476948674,
           1512519.5706019613,
           663.4144080503572,
           742602.1909391377,
           18971987.029589165,
           13876.658449533454,
           1579.515428958969,
           26974.339409201486,
           804.5332043842682,
           2783.0775857674466,
           6189857.68386983,
           211775297.7000385,
           3366.601171112557,
           14085.603237251486,
           82.90504926827973,
           81.1725888324873,
           186905.17725826448,
           717108.9460394137,
           142506.64388644026,
           59316198.83827661,
           1179.9822518025512,
           10122160.501771988,
           215186.296112325,
           220.04554455445543,
           477.6902356902357,
           81,
           5046.785405207187,
           60134873.57257611,
           375765.8601349817,
           227131.82139326696,
           34244161.5245869,
           169532.43059157225,
           22124.766470009832,
           6850844.610447581,
           9458.921327290116,
           2089.6738678853344,
           21.62857142857143,
           32713419.97023345,
           3532006.125494004,
           350,
           157976.8116609777,
           14505125.963841556,
           30211.81821139975,
           7875294.002402733,
           3,
           31799.220736342842,
           318875.5804362264,
           273600.0464243065,
           759254.8093226366,
           238,
           53938843.536572,
           5216.0513739545995,
           448.2472024415056,
           36.59183673469388,
           826.2310870126516,
           119824.70498572264,
           255976507.8705008,
           46850.34861954236,
           143248138.8452875,
           130.3380140421264,
           16.4,
           161588.56740948645,
           18286.203237376074,
           313295741.4585638,
           43204.45525737878,
           6406626.847958926,
           290.4761904761905,
           919.3928182807399,
           1570694.4924869698,
           1949253.715970551,
           90,
           67.63065637065637,
           1134067.3589717601,
           5250568.032340431,
           8620.153826384358,
           20649555.83931894,
           129806944.76887156,
           7942933.13014541,
           11396697.289625358,
           988593.7472462802,
           79430826.55701308,
           14181.18893637227,
           50391749.50592214,
           13786.950354820512,
           6476647.38461633,
           295859.368380111,
           45.27450980392157,
           15790.017877467413,
           7756.381703470031,
           1426.6285400658617,
           1690410.4660043763,
           41524.23472580301,
           24155.90025213497,
           5783.230935184317,
           3578920.0417459197,
           3094.7344494089775,
           36445.616427664674,
           22708.709391511846,
           318581896.3283955,
           19804.95017884517,
           468.9626090569173,
           12437.814070351758,
           7357.6435722867445,
           313.762509525019,
           48.92820512820513,
           23979661.95801677,
           1438.701524810036,
           243.70896889925402,
           4,
           460514.5385917067,
           25773.697451694203,
           19252.39611542585,
           40837.302309569124,
           16541.309578274384,
           142.21333333333334,
           608911571.601106,
           111726.68359558801,
           1449274.6981762515,
           18559.416317220366,
           5254.516313665499,
           30710586.152634103,
           2009541.1209384154,
           6937.5864378768965,
           14189.10509268893,
           118333.48535667013,
           404.4856490541422,
           463117.3212384006,
           149670265.6948087,
           120563.77599317672,
           1618963.757304457,
           7217954.954919936,
           25411392.878939494,
           145472.96804101934,
           176844.23244387485,
           4108030.036994778,
           547318.8483283968,
           3833427.0109961457,
           60397246.80341775,
           16572.837518134136,
           241.1911202735753,
           242.88222828798268,
           61.645833333333336,
           13836.150086956523,
           618.5050251256281,
           830964.5179680195,
           20158.23853426049,
           3206139.203676488,
           2762542.49308543,
           3125.1148178327844,
           457.40322676460556,
           75338668.53296208,
           8747787.28478966,
           210913.15684067682,
           59860.171037113985,
           3743795.0969796716,
           80925811.8225107,
           4096671.0698291017,
           45.3413103610583,
           986.8331558395456,
           115442.24403453797,
           202491.71152048442,
           34190562.40726108,
           40790.26842317132,
           284512.7694029874,
           16682164.418526065,
           816.3325740318907,
           2412468.8158952435,
           4298.760702524698,
           23816.20779220779,
           4576741.59465423,
           69546600.70232365,
           1105,
           1270.7268359643103,
           415326379.8557909,
           204855.87676945073,
           17047275.146117833,
           140337.86988054612,
           162954427.19799206,
           168107.7752580762,
           182556.49823182833,
           4595.023148148148,
           98,
           3068930.723225381,
           52897.07476318289,
           10,
           70795.8651098418,
           21358.833280532235,
           14066.505918647932,
           1253264.3773198908,
           21355.671837576672,
           23295855.418939065,
           6475595.49817349,
           212331915.60673463,
           187399.86495941487,
           42915292.26078377,
           39287315.02952464,
           149503693.6346336,
           418.2028603165787,
           342071.7138743782,
           4534440.780103292,
           375106515.6428515,
           127216246.02018748,
           14189.10509268893,
           10000.923462487071,
           53490732.568663634,
           229146436.8662221,
           7942933.13014541,
           3540828.940907268,
           3068930.723225381,
           19421737.206994824,
           75218630.84763162,
           27365250.960905552,
           67570761.80235015,
           406513433.1688521,
           9466492.04437368,
           337680991.8728337,
           168979092.72991225,
           315284728.1202363,
           123577860.38734345
          ]
         },
         "name": "",
         "parents": [
          "Europe/Southern Europe",
          "Africa/Northern Africa",
          "Europe/Southern Europe",
          "Africa/Middle Africa",
          "Americas/Caribbean",
          "Americas/Caribbean",
          "Americas/South America",
          "Asia/Western Asia",
          "Americas/Caribbean",
          "Oceania/Australia and New Zealand",
          "Europe/Western Europe",
          "Asia/Western Asia",
          "Americas/Caribbean",
          "Asia/Western Asia",
          "Asia/Southern Asia",
          "Americas/Caribbean",
          "Europe/Eastern Europe",
          "Europe/Western Europe",
          "Americas/Central America",
          "Africa/Western Africa",
          "Americas/Northern America",
          "Asia/Southern Asia",
          "Americas/South America",
          "Europe/Southern Europe",
          "Africa/Southern Africa",
          "Americas/South America",
          "Asia/South-Eastern Asia",
          "Europe/Eastern Europe",
          "Africa/Western Africa",
          "Africa/Eastern Africa",
          "Africa/Western Africa",
          "Asia/South-Eastern Asia",
          "Africa/Middle Africa",
          "Americas/Northern America",
          "Africa/Middle Africa",
          "Americas/South America",
          "Asia/Eastern Asia",
          "Asia/Eastern Asia",
          "Asia/Eastern Asia",
          "Americas/South America",
          "Africa/Eastern Africa",
          "Africa/Middle Africa",
          "Oceania/Polynesia",
          "Americas/Central America",
          "Europe/Southern Europe",
          "Americas/Caribbean",
          "Asia/Western Asia",
          "Europe/Central Europe",
          "Africa/Western Africa",
          "Europe/Northern Europe",
          "Americas/Caribbean",
          "Americas/Caribbean",
          "Americas/South America",
          "Africa/Northern Africa",
          "Americas/Central America",
          "Africa/Eastern Africa",
          "Europe/Northern Europe",
          "Africa/Eastern Africa",
          "Oceania/Micronesia",
          "Europe/Northern Europe",
          "Oceania/Melanesia",
          "Europe/Northern Europe",
          "Europe/Central Europe",
          "Africa/Northern Africa",
          "Europe/Western Europe",
          "Oceania/Polynesia",
          "Africa/Middle Africa",
          "Africa/Western Africa",
          "Asia/Western Asia",
          "Europe/Western Europe",
          "Africa/Western Africa",
          "Europe/Southern Europe",
          "Americas/Northern America",
          "Americas/Caribbean",
          "Americas/Central America",
          "Africa/Western Africa",
          "Africa/Western Africa",
          "Americas/South America",
          "Americas/Central America",
          "Europe/Eastern Europe",
          "Europe/Northern Europe",
          "Asia/Southern Asia",
          "Asia/South-Eastern Asia",
          "Asia/South-Western Asia",
          "Europe/Northern Europe",
          "Asia/Western Asia",
          "Europe/Southern Europe",
          "Americas/Caribbean",
          "Asia/Eastern Asia",
          "Asia/Western Asia",
          "Asia/Central Asia",
          "Africa/Eastern Africa",
          "Oceania/Micronesia",
          "Asia/Western Asia",
          "Asia/Central Asia",
          "Asia/South-Eastern Asia",
          "Europe/Northern Europe",
          "Asia/Western Asia",
          "Africa/Southern Africa",
          "Africa/Northern Africa",
          "Europe/Northern Europe",
          "Europe/Western Europe",
          "Africa/Eastern Africa",
          "Africa/Eastern Africa",
          "Asia/South-Eastern Asia",
          "Africa/Western Africa",
          "Europe/Southern Europe",
          "Americas/Caribbean",
          "Africa/Western Africa",
          "Africa/Eastern Africa",
          "Africa/Eastern Africa",
          "Americas/Central America",
          "Asia/Eastern Asia",
          "Europe/Southern Europe",
          "Americas/Caribbean",
          "Africa/Northern Africa",
          "Africa/Eastern Africa",
          "Asia/South-Eastern Asia",
          "Africa/Southern Africa",
          "Asia/Southern Asia",
          "Americas/Caribbean",
          "Europe/Western Europe",
          "Oceania/Melanesia",
          "Oceania/Australia and New Zealand",
          "Americas/Central America",
          "Africa/Western Africa",
          "Africa/Western Africa",
          "Europe/Northern Europe",
          "Asia/Western Asia",
          "Asia/Other",
          "Asia/Southern Asia",
          "Oceania/Micronesia",
          "Americas/Central America",
          "Oceania/Melanesia",
          "Americas/South America",
          "Americas/South America",
          "Asia/South-Eastern Asia",
          "Europe/Eastern Europe",
          "Europe/Southern Europe",
          "Asia/Western Asia",
          "Asia/Eastern Asia",
          "Europe/Eastern Europe",
          "Europe/Eastern Europe",
          "Europe/Eastern Europe",
          "Africa/Eastern Africa",
          "Americas/Caribbean",
          "Americas/Caribbean",
          "Americas/Caribbean",
          "Oceania/Polynesia",
          "Africa/Middle Africa",
          "Asia/Western Asia",
          "Africa/Western Africa",
          "Europe/Southern Europe",
          "Europe/Southern Europe",
          "Africa/Eastern Africa",
          "Africa/Western Africa",
          "Asia/South-Eastern Asia",
          "Europe/Eastern Europe",
          "Europe/Southern Europe",
          "Oceania/Australia and New Zealand",
          "Africa/Southern Africa",
          "Europe/Southern Europe",
          "Asia/Southern Asia",
          "Africa/Northern Africa",
          "Americas/South America",
          "Africa/Southern Africa",
          "Europe/Northern Europe",
          "Europe/Western Europe",
          "Asia/Western Asia",
          "Europe/Southern Europe",
          "Asia/South-Eastern Asia",
          "Asia/South-Eastern Asia",
          "Africa/Western Africa",
          "Oceania/Polynesia",
          "Americas/Caribbean",
          "Africa/Northern Africa",
          "Asia/Western Asia",
          "Asia/Central Asia",
          "Americas/Central America",
          "Americas/Northern America",
          "Africa/Eastern Africa",
          "Europe/Eastern Europe",
          "Asia/Western Asia",
          "Europe/Northern Europe",
          "Africa/Eastern Africa",
          "Americas/South America",
          "Asia/Central Asia",
          "Oceania/Melanesia",
          "Americas/Southern America",
          "Asia/South-Eastern Asia",
          "Oceania/Polynesia",
          "Asia/Western Asia",
          "Africa/Eastern Africa",
          "Africa/Eastern Africa",
          "Oceania",
          "Americas",
          "Americas",
          "Asia",
          "Europe",
          "Africa",
          "Asia",
          "Europe",
          "Oceania",
          "Oceania",
          "Africa",
          "Africa",
          "Americas",
          "Europe",
          "Asia",
          "Oceania",
          "Americas",
          "Asia",
          "Asia",
          "Africa",
          "Americas",
          "Asia",
          "Europe",
          "Africa",
          "Asia",
          "Europe",
          "",
          "",
          "",
          "",
          ""
         ],
         "root": {
          "color": "lightgrey"
         },
         "type": "treemap",
         "values": [
          21572,
          76435908,
          4437.73,
          84793.53,
          887,
          7471.68,
          14900383.7,
          24067316.4,
          1645.0430570617093,
          8718008.02841979,
          422904374.8962534,
          72120.55,
          11796,
          131640.31,
          1551,
          19617,
          125148030,
          3719387990.47,
          6148,
          47633,
          376.51,
          197,
          818715,
          4533471.01,
          434485,
          1113065481,
          3606,
          24947124,
          432032,
          1010,
          594,
          81,
          13635,
          1455066025,
          973317,
          989176.98,
          841372970.9132147,
          633194,
          24408,
          104421567.5,
          24049,
          2407,
          35,
          66963391,
          81664211.26355714,
          350,
          165818,
          167575327.23761353,
          36878,
          152356022.9911869,
          3,
          129047.0329811782,
          1325000,
          617772.0325840104,
          16446132.82,
          238,
          1134585011.2,
          5859,
          983,
          98,
          3873,
          1727917.0105300462,
          759564640,
          210691,
          3515462718.983159,
          997,
          20,
          602838,
          118497.2,
          8478368649.210144,
          62544.59,
          128913691,
          420,
          1838,
          11072563,
          2053442,
          90,
          165.76,
          5327628,
          27877025,
          50583,
          260211112,
          1047861825,
          62625689,
          206666586,
          13123359.799093245,
          1936362072,
          42120,
          1558853032,
          33679,
          108682245.96000001,
          399799,
          51,
          62512.35,
          7925,
          4555,
          35203829.097766906,
          515870,
          179551.29708629372,
          10661,
          37982839.25,
          41378.26967540188,
          106345,
          35202,
          5519287799,
          23484,
          2407,
          24875,
          9988,
          3937,
          195,
          293253325,
          3921.8,
          1252.06,
          4,
          6266851.26,
          35710,
          61185.6,
          214825.8604268792,
          34098,
          150,
          14696074491.08263,
          163645,
          23079034.45611875,
          125648.49,
          21017.07314778952,
          50492599.65289192,
          5754466,
          56879,
          110531,
          155634,
          766.5,
          4326936,
          150330880,
          194628,
          12126294.2,
          63871672.370000005,
          534102199,
          3484404,
          744705.5522379203,
          111596674.79,
          6122715,
          32538466.133338,
          1367495006.37,
          26883,
          924.06,
          701.5699999999999,
          96,
          23000,
          796,
          3400820,
          51196,
          42815371.37673086,
          24285820,
          4065.77,
          996.54,
          1946502836.63085,
          190852547.76222786,
          1963889.24,
          60140.48529675183,
          24346220.1,
          2177326489.55,
          20606251,
          45.3413103610583,
          2817,
          607705.6135420869,
          767209.6581440147,
          994857930.9263762,
          77009,
          3548719,
          357399372.30199265,
          878,
          3271746,
          13665,
          26334,
          87055343,
          1446644560,
          1105,
          1457,
          11394987103,
          906496,
          378537919.44,
          331106.9,
          3789137313,
          327272.5535353535,
          652086,
          8640,
          98,
          3119036,
          57056.97065085186,
          10,
          176299,
          50504,
          29821,
          31857182.969835293,
          267859.3860382399,
          397523229.31,
          108699915.96000001,
          927139967.2376136,
          1957386.3235353536,
          2512484201.503215,
          2687621032.705566,
          150498496,
          1800.5,
          1074968.53,
          170597271.63389438,
          12850053924.51,
          5364231875.207628,
          110531,
          37707,
          1248496315.14,
          8935050867.873493,
          62625689,
          25782787.87105526,
          3119036,
          281008843,
          4404927807.230288,
          57107078.8560397,
          1489722193.0613313,
          31827097533.838238,
          256519493.2145247,
          14499460364.346039,
          13389702241.398039,
          45211018216.21933,
          182395186.4698353
         ]
        }
       ],
       "layout": {
        "coloraxis": {
         "colorbar": {
          "title": {
           "text": "Quantity"
          }
         },
         "colorscale": [
          [
           0,
           "rgb(243, 231, 155)"
          ],
          [
           0.16666666666666666,
           "rgb(250, 196, 132)"
          ],
          [
           0.3333333333333333,
           "rgb(248, 160, 126)"
          ],
          [
           0.5,
           "rgb(235, 127, 134)"
          ],
          [
           0.6666666666666666,
           "rgb(206, 102, 147)"
          ],
          [
           0.8333333333333334,
           "rgb(160, 89, 160)"
          ],
          [
           1,
           "rgb(92, 83, 165)"
          ]
         ]
        },
        "legend": {
         "tracegroupgap": 0
        },
        "margin": {
         "b": 25,
         "l": 25,
         "r": 25,
         "t": 50
        },
        "template": {
         "data": {
          "bar": [
           {
            "error_x": {
             "color": "#2a3f5f"
            },
            "error_y": {
             "color": "#2a3f5f"
            },
            "marker": {
             "line": {
              "color": "#E5ECF6",
              "width": 0.5
             },
             "pattern": {
              "fillmode": "overlay",
              "size": 10,
              "solidity": 0.2
             }
            },
            "type": "bar"
           }
          ],
          "barpolar": [
           {
            "marker": {
             "line": {
              "color": "#E5ECF6",
              "width": 0.5
             },
             "pattern": {
              "fillmode": "overlay",
              "size": 10,
              "solidity": 0.2
             }
            },
            "type": "barpolar"
           }
          ],
          "carpet": [
           {
            "aaxis": {
             "endlinecolor": "#2a3f5f",
             "gridcolor": "white",
             "linecolor": "white",
             "minorgridcolor": "white",
             "startlinecolor": "#2a3f5f"
            },
            "baxis": {
             "endlinecolor": "#2a3f5f",
             "gridcolor": "white",
             "linecolor": "white",
             "minorgridcolor": "white",
             "startlinecolor": "#2a3f5f"
            },
            "type": "carpet"
           }
          ],
          "choropleth": [
           {
            "colorbar": {
             "outlinewidth": 0,
             "ticks": ""
            },
            "type": "choropleth"
           }
          ],
          "contour": [
           {
            "colorbar": {
             "outlinewidth": 0,
             "ticks": ""
            },
            "colorscale": [
             [
              0,
              "#0d0887"
             ],
             [
              0.1111111111111111,
              "#46039f"
             ],
             [
              0.2222222222222222,
              "#7201a8"
             ],
             [
              0.3333333333333333,
              "#9c179e"
             ],
             [
              0.4444444444444444,
              "#bd3786"
             ],
             [
              0.5555555555555556,
              "#d8576b"
             ],
             [
              0.6666666666666666,
              "#ed7953"
             ],
             [
              0.7777777777777778,
              "#fb9f3a"
             ],
             [
              0.8888888888888888,
              "#fdca26"
             ],
             [
              1,
              "#f0f921"
             ]
            ],
            "type": "contour"
           }
          ],
          "contourcarpet": [
           {
            "colorbar": {
             "outlinewidth": 0,
             "ticks": ""
            },
            "type": "contourcarpet"
           }
          ],
          "heatmap": [
           {
            "colorbar": {
             "outlinewidth": 0,
             "ticks": ""
            },
            "colorscale": [
             [
              0,
              "#0d0887"
             ],
             [
              0.1111111111111111,
              "#46039f"
             ],
             [
              0.2222222222222222,
              "#7201a8"
             ],
             [
              0.3333333333333333,
              "#9c179e"
             ],
             [
              0.4444444444444444,
              "#bd3786"
             ],
             [
              0.5555555555555556,
              "#d8576b"
             ],
             [
              0.6666666666666666,
              "#ed7953"
             ],
             [
              0.7777777777777778,
              "#fb9f3a"
             ],
             [
              0.8888888888888888,
              "#fdca26"
             ],
             [
              1,
              "#f0f921"
             ]
            ],
            "type": "heatmap"
           }
          ],
          "heatmapgl": [
           {
            "colorbar": {
             "outlinewidth": 0,
             "ticks": ""
            },
            "colorscale": [
             [
              0,
              "#0d0887"
             ],
             [
              0.1111111111111111,
              "#46039f"
             ],
             [
              0.2222222222222222,
              "#7201a8"
             ],
             [
              0.3333333333333333,
              "#9c179e"
             ],
             [
              0.4444444444444444,
              "#bd3786"
             ],
             [
              0.5555555555555556,
              "#d8576b"
             ],
             [
              0.6666666666666666,
              "#ed7953"
             ],
             [
              0.7777777777777778,
              "#fb9f3a"
             ],
             [
              0.8888888888888888,
              "#fdca26"
             ],
             [
              1,
              "#f0f921"
             ]
            ],
            "type": "heatmapgl"
           }
          ],
          "histogram": [
           {
            "marker": {
             "pattern": {
              "fillmode": "overlay",
              "size": 10,
              "solidity": 0.2
             }
            },
            "type": "histogram"
           }
          ],
          "histogram2d": [
           {
            "colorbar": {
             "outlinewidth": 0,
             "ticks": ""
            },
            "colorscale": [
             [
              0,
              "#0d0887"
             ],
             [
              0.1111111111111111,
              "#46039f"
             ],
             [
              0.2222222222222222,
              "#7201a8"
             ],
             [
              0.3333333333333333,
              "#9c179e"
             ],
             [
              0.4444444444444444,
              "#bd3786"
             ],
             [
              0.5555555555555556,
              "#d8576b"
             ],
             [
              0.6666666666666666,
              "#ed7953"
             ],
             [
              0.7777777777777778,
              "#fb9f3a"
             ],
             [
              0.8888888888888888,
              "#fdca26"
             ],
             [
              1,
              "#f0f921"
             ]
            ],
            "type": "histogram2d"
           }
          ],
          "histogram2dcontour": [
           {
            "colorbar": {
             "outlinewidth": 0,
             "ticks": ""
            },
            "colorscale": [
             [
              0,
              "#0d0887"
             ],
             [
              0.1111111111111111,
              "#46039f"
             ],
             [
              0.2222222222222222,
              "#7201a8"
             ],
             [
              0.3333333333333333,
              "#9c179e"
             ],
             [
              0.4444444444444444,
              "#bd3786"
             ],
             [
              0.5555555555555556,
              "#d8576b"
             ],
             [
              0.6666666666666666,
              "#ed7953"
             ],
             [
              0.7777777777777778,
              "#fb9f3a"
             ],
             [
              0.8888888888888888,
              "#fdca26"
             ],
             [
              1,
              "#f0f921"
             ]
            ],
            "type": "histogram2dcontour"
           }
          ],
          "mesh3d": [
           {
            "colorbar": {
             "outlinewidth": 0,
             "ticks": ""
            },
            "type": "mesh3d"
           }
          ],
          "parcoords": [
           {
            "line": {
             "colorbar": {
              "outlinewidth": 0,
              "ticks": ""
             }
            },
            "type": "parcoords"
           }
          ],
          "pie": [
           {
            "automargin": true,
            "type": "pie"
           }
          ],
          "scatter": [
           {
            "marker": {
             "colorbar": {
              "outlinewidth": 0,
              "ticks": ""
             }
            },
            "type": "scatter"
           }
          ],
          "scatter3d": [
           {
            "line": {
             "colorbar": {
              "outlinewidth": 0,
              "ticks": ""
             }
            },
            "marker": {
             "colorbar": {
              "outlinewidth": 0,
              "ticks": ""
             }
            },
            "type": "scatter3d"
           }
          ],
          "scattercarpet": [
           {
            "marker": {
             "colorbar": {
              "outlinewidth": 0,
              "ticks": ""
             }
            },
            "type": "scattercarpet"
           }
          ],
          "scattergeo": [
           {
            "marker": {
             "colorbar": {
              "outlinewidth": 0,
              "ticks": ""
             }
            },
            "type": "scattergeo"
           }
          ],
          "scattergl": [
           {
            "marker": {
             "colorbar": {
              "outlinewidth": 0,
              "ticks": ""
             }
            },
            "type": "scattergl"
           }
          ],
          "scattermapbox": [
           {
            "marker": {
             "colorbar": {
              "outlinewidth": 0,
              "ticks": ""
             }
            },
            "type": "scattermapbox"
           }
          ],
          "scatterpolar": [
           {
            "marker": {
             "colorbar": {
              "outlinewidth": 0,
              "ticks": ""
             }
            },
            "type": "scatterpolar"
           }
          ],
          "scatterpolargl": [
           {
            "marker": {
             "colorbar": {
              "outlinewidth": 0,
              "ticks": ""
             }
            },
            "type": "scatterpolargl"
           }
          ],
          "scatterternary": [
           {
            "marker": {
             "colorbar": {
              "outlinewidth": 0,
              "ticks": ""
             }
            },
            "type": "scatterternary"
           }
          ],
          "surface": [
           {
            "colorbar": {
             "outlinewidth": 0,
             "ticks": ""
            },
            "colorscale": [
             [
              0,
              "#0d0887"
             ],
             [
              0.1111111111111111,
              "#46039f"
             ],
             [
              0.2222222222222222,
              "#7201a8"
             ],
             [
              0.3333333333333333,
              "#9c179e"
             ],
             [
              0.4444444444444444,
              "#bd3786"
             ],
             [
              0.5555555555555556,
              "#d8576b"
             ],
             [
              0.6666666666666666,
              "#ed7953"
             ],
             [
              0.7777777777777778,
              "#fb9f3a"
             ],
             [
              0.8888888888888888,
              "#fdca26"
             ],
             [
              1,
              "#f0f921"
             ]
            ],
            "type": "surface"
           }
          ],
          "table": [
           {
            "cells": {
             "fill": {
              "color": "#EBF0F8"
             },
             "line": {
              "color": "white"
             }
            },
            "header": {
             "fill": {
              "color": "#C8D4E3"
             },
             "line": {
              "color": "white"
             }
            },
            "type": "table"
           }
          ]
         },
         "layout": {
          "annotationdefaults": {
           "arrowcolor": "#2a3f5f",
           "arrowhead": 0,
           "arrowwidth": 1
          },
          "autotypenumbers": "strict",
          "coloraxis": {
           "colorbar": {
            "outlinewidth": 0,
            "ticks": ""
           }
          },
          "colorscale": {
           "diverging": [
            [
             0,
             "#8e0152"
            ],
            [
             0.1,
             "#c51b7d"
            ],
            [
             0.2,
             "#de77ae"
            ],
            [
             0.3,
             "#f1b6da"
            ],
            [
             0.4,
             "#fde0ef"
            ],
            [
             0.5,
             "#f7f7f7"
            ],
            [
             0.6,
             "#e6f5d0"
            ],
            [
             0.7,
             "#b8e186"
            ],
            [
             0.8,
             "#7fbc41"
            ],
            [
             0.9,
             "#4d9221"
            ],
            [
             1,
             "#276419"
            ]
           ],
           "sequential": [
            [
             0,
             "#0d0887"
            ],
            [
             0.1111111111111111,
             "#46039f"
            ],
            [
             0.2222222222222222,
             "#7201a8"
            ],
            [
             0.3333333333333333,
             "#9c179e"
            ],
            [
             0.4444444444444444,
             "#bd3786"
            ],
            [
             0.5555555555555556,
             "#d8576b"
            ],
            [
             0.6666666666666666,
             "#ed7953"
            ],
            [
             0.7777777777777778,
             "#fb9f3a"
            ],
            [
             0.8888888888888888,
             "#fdca26"
            ],
            [
             1,
             "#f0f921"
            ]
           ],
           "sequentialminus": [
            [
             0,
             "#0d0887"
            ],
            [
             0.1111111111111111,
             "#46039f"
            ],
            [
             0.2222222222222222,
             "#7201a8"
            ],
            [
             0.3333333333333333,
             "#9c179e"
            ],
            [
             0.4444444444444444,
             "#bd3786"
            ],
            [
             0.5555555555555556,
             "#d8576b"
            ],
            [
             0.6666666666666666,
             "#ed7953"
            ],
            [
             0.7777777777777778,
             "#fb9f3a"
            ],
            [
             0.8888888888888888,
             "#fdca26"
            ],
            [
             1,
             "#f0f921"
            ]
           ]
          },
          "colorway": [
           "#636efa",
           "#EF553B",
           "#00cc96",
           "#ab63fa",
           "#FFA15A",
           "#19d3f3",
           "#FF6692",
           "#B6E880",
           "#FF97FF",
           "#FECB52"
          ],
          "font": {
           "color": "#2a3f5f"
          },
          "geo": {
           "bgcolor": "white",
           "lakecolor": "white",
           "landcolor": "#E5ECF6",
           "showlakes": true,
           "showland": true,
           "subunitcolor": "white"
          },
          "hoverlabel": {
           "align": "left"
          },
          "hovermode": "closest",
          "mapbox": {
           "style": "light"
          },
          "paper_bgcolor": "white",
          "plot_bgcolor": "#E5ECF6",
          "polar": {
           "angularaxis": {
            "gridcolor": "white",
            "linecolor": "white",
            "ticks": ""
           },
           "bgcolor": "#E5ECF6",
           "radialaxis": {
            "gridcolor": "white",
            "linecolor": "white",
            "ticks": ""
           }
          },
          "scene": {
           "xaxis": {
            "backgroundcolor": "#E5ECF6",
            "gridcolor": "white",
            "gridwidth": 2,
            "linecolor": "white",
            "showbackground": true,
            "ticks": "",
            "zerolinecolor": "white"
           },
           "yaxis": {
            "backgroundcolor": "#E5ECF6",
            "gridcolor": "white",
            "gridwidth": 2,
            "linecolor": "white",
            "showbackground": true,
            "ticks": "",
            "zerolinecolor": "white"
           },
           "zaxis": {
            "backgroundcolor": "#E5ECF6",
            "gridcolor": "white",
            "gridwidth": 2,
            "linecolor": "white",
            "showbackground": true,
            "ticks": "",
            "zerolinecolor": "white"
           }
          },
          "shapedefaults": {
           "line": {
            "color": "#2a3f5f"
           }
          },
          "ternary": {
           "aaxis": {
            "gridcolor": "white",
            "linecolor": "white",
            "ticks": ""
           },
           "baxis": {
            "gridcolor": "white",
            "linecolor": "white",
            "ticks": ""
           },
           "bgcolor": "#E5ECF6",
           "caxis": {
            "gridcolor": "white",
            "linecolor": "white",
            "ticks": ""
           }
          },
          "title": {
           "x": 0.05
          },
          "xaxis": {
           "automargin": true,
           "gridcolor": "white",
           "linecolor": "white",
           "ticks": "",
           "title": {
            "standoff": 15
           },
           "zerolinecolor": "white",
           "zerolinewidth": 2
          },
          "yaxis": {
           "automargin": true,
           "gridcolor": "white",
           "linecolor": "white",
           "ticks": "",
           "title": {
            "standoff": 15
           },
           "zerolinecolor": "white",
           "zerolinewidth": 2
          }
         }
        }
       }
      }
     },
     "metadata": {},
     "output_type": "display_data"
    }
   ],
   "source": [
    "fig = px.treemap(imports, \n",
    "    path=['continent', 'region', 'Country or Area'],values='Quantity', color='Quantity', color_continuous_scale='sunset'\n",
    "\n",
    ")\n",
    "\n",
    "fig.update_traces(root_color=\"lightgrey\")\n",
    "\n",
    "fig.update_layout(margin = dict(t=50, l=25, r=25, b=25)) #,paper_bgcolor='rgb(233,233,233)')\n",
    "fig.show()\n"
   ]
  },
  {
   "cell_type": "markdown",
   "metadata": {},
   "source": [
    "# ----- Helena\n"
   ]
  },
  {
   "cell_type": "code",
   "execution_count": 96,
   "metadata": {},
   "outputs": [],
   "source": [
    "yes_ingredients = [{'label': 'Vanilla', 'value': 'vanilla'},\n",
    "           {'label': 'Lecithin', 'value': 'lecithin'},\n",
    "           {'label': 'Salt', 'value': 'salt'},\n",
    "           {'label': 'Sweetener without sugar', 'value': 'sweetener_without_sugar'},\n",
    "           {'label': 'Sugar', 'value': 'sugar'}]"
   ]
  },
  {
   "cell_type": "code",
   "execution_count": 97,
   "metadata": {},
   "outputs": [],
   "source": [
    "radio_sugar = [\n",
    "    {'label': 'Has Sugar', 'value': 'have_sugar'},\n",
    "    {'label': 'Has not Sugar', 'value': 'have_not_sugar'}\n",
    "]\n",
    "\n",
    "radio_vanilla = [\n",
    "    {'label': 'Has Vanilla', 'value': 'have_vanilla'},\n",
    "    {'label': 'Has not Vanilla', 'value': 'have_not_vanilla'}\n",
    "]\n",
    "\n",
    "radio_salt = [\n",
    "    {'label': 'Has Salt', 'value': 'have_salt'},\n",
    "    {'label': 'Has not Salt', 'value': 'have_not_salt'}\n",
    "]\n",
    "\n",
    "radio_lecithin = [\n",
    "    {'label': 'Has Lecithin', 'value': 'have_lecithin'},\n",
    "    {'label': 'Has not Lecithin', 'value': 'have_not_lecithin'}\n",
    "]\n"
   ]
  },
  {
   "cell_type": "code",
   "execution_count": 48,
   "metadata": {},
   "outputs": [],
   "source": [
    "ing_checkbox = dcc.Checklist(\n",
    "        id='ing_checkbox',\n",
    "        options=yes_ingredients,\n",
    "        value=['sugar']\n",
    "    ),"
   ]
  },
  {
   "cell_type": "code",
   "execution_count": 98,
   "metadata": {},
   "outputs": [],
   "source": [
    "\n",
    "ingredients = [\n",
    "    {'label': 'Has Sugar', 'value': 'have_sugar'},\n",
    "    {'label': 'Has not Sugar', 'value': 'have_not_sugar'},\n",
    "    {'label': 'Has Vanilla', 'value': 'have_vanila'},\n",
    "    {'label': 'Has not Vanilla', 'value': 'have_not_vanila'},\n",
    "    {'label': 'Has Salt', 'value': 'have_salt'},\n",
    "    {'label': 'Has not Salt', 'value': 'have_not_salt'},\n",
    "    {'label': 'Has Lecithin', 'value': 'have_lecithin'},\n",
    "    {'label': 'Has not Lecithin', 'value': 'have_not_lecithin'}\n",
    "]\n"
   ]
  },
  {
   "cell_type": "code",
   "execution_count": 99,
   "metadata": {},
   "outputs": [],
   "source": [
    "\n",
    "# The app itself\n",
    "\n",
    "app = dash.Dash(__name__)\n",
    "\n",
    "app.layout = html.Div([\n",
    "\n",
    "    html.H4('Choose your chocolate'),\n",
    "        \n",
    "        html.Div([\n",
    "                      \n",
    "            html.Div([\n",
    "                html.Label('The ingredients'),\n",
    "                    dcc.Dropdown(\n",
    "                                    id='drop_id',\n",
    "                                    options=ingredients,\n",
    "                                    value=['have_sugar'],\n",
    "                                    multi=True\n",
    "                                ),\n",
    "            ], className='box', style={'margin': '10px', 'padding-top':'15px', 'padding-bottom':'15px'}),\n",
    "            \n",
    "            html.Div([\n",
    "                html.Label('Cocoa Percentage'),\n",
    "                    dcc.RangeSlider(\n",
    "                                    id='percent_id',\n",
    "                                    min=42,\n",
    "                                    max=100,\n",
    "                                    value=[70, 80],\n",
    "                                    marks={'50': '50',\n",
    "                                        '60': '60',\n",
    "                                        '70': '70',\n",
    "                                        '80': '80',\n",
    "                                        '90': '90',\n",
    "                                        '100': '100'},\n",
    "                                    step=1\n",
    "                                )]),\n",
    "            \n",
    "            \n",
    "            html.Div([\n",
    "                html.Div([\n",
    "                    html.Label('Results', style={'font-size': 'medium'}),\n",
    "                    html.Br(),\n",
    "                    html.Br(),\n",
    "                    html.Div([\n",
    "                        \n",
    "                        html.Div([\n",
    "                            html.H4('Company', style={'font-weight':'normal'}),\n",
    "                            html.H3(id=\"name_company_id\")\n",
    "                        ],className='box_ing'),\n",
    "                        \n",
    "                        html.Div([\n",
    "                            html.H4('Rating', style={'font-weight':'normal'}),\n",
    "                            html.H3(id=\"rating_id\")]),\n",
    "                        ],className='box_ing'),\n",
    "\n",
    "                        html.Div([\n",
    "                            html.H4('Country', style={'font-weight':'normal'}),\n",
    "                             html.H3(id=\"country_id\"),\n",
    "                        ],className='box_ing'),\n",
    "                    \n",
    "                        ], style={'display': 'flex'}),\n",
    "\n",
    "                    ], className='box', style={'heigth':'10%'}),\n",
    " \n",
    "                html.Div([ \n",
    "                    html.Div([\n",
    "                        \n",
    "                        html.Div([\n",
    "                            html.Br(),\n",
    "                            html.Label(id='title_map', style={'font-size':'medium'}), \n",
    "                            html.Br(),\n",
    "                            html.Label('BLA BLA BLA', style={'font-size':'9px'}),\n",
    "                        ], style={'width': '70%'}),\n",
    "                        html.Div([\n",
    "\n",
    "                        ], style={'width': '5%'}),\n",
    "                       \n",
    "                    \n",
    "                    dcc.Graph(id='graph1'),\n",
    "\n",
    "                ], className='box', style={'padding-bottom': '0px'}), \n",
    "                    ]),\n",
    "                ], style={'width': '60%'}),           \n",
    "            ], className='row')\n",
    "    "
   ]
  },
  {
   "cell_type": "code",
   "execution_count": 100,
   "metadata": {},
   "outputs": [
    {
     "name": "stdout",
     "output_type": "stream",
     "text": [
      "Dash is running on http://127.0.0.1:8050/\n",
      "\n",
      "Dash is running on http://127.0.0.1:8050/\n",
      "\n",
      " * Serving Flask app '__main__' (lazy loading)\n",
      " * Environment: production\n",
      "\u001b[31m   WARNING: This is a development server. Do not use it in a production deployment.\u001b[0m\n",
      "\u001b[2m   Use a production WSGI server instead.\u001b[0m\n",
      " * Debug mode: on\n"
     ]
    }
   ],
   "source": [
    "@app.callback(\n",
    "   \n",
    "   [Output(\"name_company_id\", \"children\"),\n",
    "    Output(\"rating_id\", \"children\"),\n",
    "    Output(\"country_id\", \"children\"),\n",
    "    Output('graph1', 'figure')],\n",
    "   \n",
    "    [Input('drop_id', 'value'),\n",
    "     Input('percent_id','value')] )\n",
    "\n",
    "def update_graph(drop_id,percent_id):\n",
    "    \n",
    "    filtered=data\n",
    "    for each in drop_id:\n",
    "        filtered=filtered[filtered.isin([each]).any(1)] \n",
    "    \n",
    "    filtered = filtered[(filtered['cocoa_percent'] >= percent_id[0]) & (filtered['cocoa_percent'] <= percent_id[1])]\n",
    "\n",
    "    # maxi=np.max(filtered['rating'])\n",
    "    # filtered=filtered[filtered['rating']==maxi]\n",
    "    \n",
    "    data_inter = dict(type='bar', x=filtered['company'], y=filtered['rating'])\n",
    "   \n",
    "    layout_1 = dict(xaxis=dict(title='Companies'),\n",
    "                   yaxis=dict(title='Ratings'))\n",
    "    \n",
    "    fig = go.Figure(data=data_inter, layout=layout_1)  \n",
    "\n",
    "    if filtered.empty:\n",
    "        name_company = 'No company was found'\n",
    "        rating = 'No rating was found'\n",
    "        country= 'No country was found'\n",
    "        \n",
    "    else:\n",
    "        name_company=str(filtered.head(1)['company'].values[0])\n",
    "        rating=str(filtered.head(1)['rating'].values[0])\n",
    "        country=str(filtered.head(1)['company_location'].values[0])\n",
    "    \n",
    "    return name_company ,  \\\n",
    "           rating , \\\n",
    "           country , \\\n",
    "           fig\n",
    "\n",
    "if __name__ == '__main__':\n",
    "    app.run_server(debug=True, use_reloader=False)"
   ]
  },
  {
   "cell_type": "markdown",
   "metadata": {},
   "source": [
    "# ------- Filipa\n"
   ]
  },
  {
   "cell_type": "markdown",
   "metadata": {},
   "source": [
    "### Radar Plot\n"
   ]
  },
  {
   "cell_type": "code",
   "execution_count": 101,
   "metadata": {
    "scrolled": false
   },
   "outputs": [
    {
     "data": {
      "text/html": [
       "<div>\n",
       "<style scoped>\n",
       "    .dataframe tbody tr th:only-of-type {\n",
       "        vertical-align: middle;\n",
       "    }\n",
       "\n",
       "    .dataframe tbody tr th {\n",
       "        vertical-align: top;\n",
       "    }\n",
       "\n",
       "    .dataframe thead th {\n",
       "        text-align: right;\n",
       "    }\n",
       "</style>\n",
       "<table border=\"1\" class=\"dataframe\">\n",
       "  <thead>\n",
       "    <tr style=\"text-align: right;\">\n",
       "      <th></th>\n",
       "      <th>cocoa_percent</th>\n",
       "      <th>rating</th>\n",
       "      <th>counts_of_ingredients</th>\n",
       "      <th>company_name</th>\n",
       "    </tr>\n",
       "    <tr>\n",
       "      <th>company</th>\n",
       "      <th></th>\n",
       "      <th></th>\n",
       "      <th></th>\n",
       "      <th></th>\n",
       "    </tr>\n",
       "  </thead>\n",
       "  <tbody>\n",
       "    <tr>\n",
       "      <th>5150</th>\n",
       "      <td>0.7600</td>\n",
       "      <td>3.50</td>\n",
       "      <td>3.00</td>\n",
       "      <td>5150</td>\n",
       "    </tr>\n",
       "    <tr>\n",
       "      <th>A. Morin</th>\n",
       "      <td>0.6888</td>\n",
       "      <td>3.40</td>\n",
       "      <td>3.96</td>\n",
       "      <td>A. Morin</td>\n",
       "    </tr>\n",
       "    <tr>\n",
       "      <th>AMMA</th>\n",
       "      <td>0.6900</td>\n",
       "      <td>3.50</td>\n",
       "      <td>4.00</td>\n",
       "      <td>AMMA</td>\n",
       "    </tr>\n",
       "    <tr>\n",
       "      <th>Acalli</th>\n",
       "      <td>0.7100</td>\n",
       "      <td>3.56</td>\n",
       "      <td>2.00</td>\n",
       "      <td>Acalli</td>\n",
       "    </tr>\n",
       "    <tr>\n",
       "      <th>Adi aka Fijiana (Easy In Ltd)</th>\n",
       "      <td>0.7500</td>\n",
       "      <td>3.25</td>\n",
       "      <td>3.00</td>\n",
       "      <td>Adi aka Fijiana (Easy In Ltd)</td>\n",
       "    </tr>\n",
       "    <tr>\n",
       "      <th>...</th>\n",
       "      <td>...</td>\n",
       "      <td>...</td>\n",
       "      <td>...</td>\n",
       "      <td>...</td>\n",
       "    </tr>\n",
       "    <tr>\n",
       "      <th>Zotter</th>\n",
       "      <td>0.7035</td>\n",
       "      <td>3.35</td>\n",
       "      <td>3.82</td>\n",
       "      <td>Zotter</td>\n",
       "    </tr>\n",
       "    <tr>\n",
       "      <th>hello cocoa</th>\n",
       "      <td>0.6550</td>\n",
       "      <td>3.12</td>\n",
       "      <td>3.00</td>\n",
       "      <td>hello cocoa</td>\n",
       "    </tr>\n",
       "    <tr>\n",
       "      <th>hexx</th>\n",
       "      <td>0.7150</td>\n",
       "      <td>2.92</td>\n",
       "      <td>2.00</td>\n",
       "      <td>hexx</td>\n",
       "    </tr>\n",
       "    <tr>\n",
       "      <th>organicfair</th>\n",
       "      <td>0.7217</td>\n",
       "      <td>2.88</td>\n",
       "      <td>3.00</td>\n",
       "      <td>organicfair</td>\n",
       "    </tr>\n",
       "    <tr>\n",
       "      <th>twenty-four blackbirds</th>\n",
       "      <td>0.7371</td>\n",
       "      <td>3.07</td>\n",
       "      <td>2.00</td>\n",
       "      <td>twenty-four blackbirds</td>\n",
       "    </tr>\n",
       "  </tbody>\n",
       "</table>\n",
       "<p>488 rows × 4 columns</p>\n",
       "</div>"
      ],
      "text/plain": [
       "                               cocoa_percent  rating  counts_of_ingredients  \\\n",
       "company                                                                       \n",
       "5150                                  0.7600    3.50                   3.00   \n",
       "A. Morin                              0.6888    3.40                   3.96   \n",
       "AMMA                                  0.6900    3.50                   4.00   \n",
       "Acalli                                0.7100    3.56                   2.00   \n",
       "Adi aka Fijiana (Easy In Ltd)         0.7500    3.25                   3.00   \n",
       "...                                      ...     ...                    ...   \n",
       "Zotter                                0.7035    3.35                   3.82   \n",
       "hello cocoa                           0.6550    3.12                   3.00   \n",
       "hexx                                  0.7150    2.92                   2.00   \n",
       "organicfair                           0.7217    2.88                   3.00   \n",
       "twenty-four blackbirds                0.7371    3.07                   2.00   \n",
       "\n",
       "                                                company_name  \n",
       "company                                                       \n",
       "5150                                                    5150  \n",
       "A. Morin                                            A. Morin  \n",
       "AMMA                                                    AMMA  \n",
       "Acalli                                                Acalli  \n",
       "Adi aka Fijiana (Easy In Ltd)  Adi aka Fijiana (Easy In Ltd)  \n",
       "...                                                      ...  \n",
       "Zotter                                                Zotter  \n",
       "hello cocoa                                      hello cocoa  \n",
       "hexx                                                    hexx  \n",
       "organicfair                                      organicfair  \n",
       "twenty-four blackbirds                twenty-four blackbirds  \n",
       "\n",
       "[488 rows x 4 columns]"
      ]
     },
     "execution_count": 101,
     "metadata": {},
     "output_type": "execute_result"
    }
   ],
   "source": [
    "radar = pd.DataFrame(round(data.groupby(by = 'company')[['cocoa_percent', 'rating', 'counts_of_ingredients']].mean(),2))\n",
    "radar['company_name'] = radar.index\n",
    "radar['cocoa_percent'] = radar['cocoa_percent'] / 100\n",
    "radar"
   ]
  },
  {
   "cell_type": "code",
   "execution_count": 159,
   "metadata": {
    "scrolled": true
   },
   "outputs": [],
   "source": [
    "feat_radar = ['cocoa_percent', 'rating', 'counts_of_ingredients']"
   ]
  },
  {
   "cell_type": "code",
   "execution_count": 103,
   "metadata": {},
   "outputs": [],
   "source": [
    "def radar_plot(company1, company2):\n",
    "\n",
    "    # scatterpolar\n",
    "    company1_df = pd.DataFrame(radar[radar['company_name'] == company1][feat_radar].iloc[0])\n",
    "    company1_df.columns = ['total']\n",
    "    company2_df = pd.DataFrame(radar[radar['company_name'] == company2][feat_radar].iloc[0])\n",
    "    company2_df.columns = ['total']\n",
    "    total_list = [company1_df.index[i].capitalize() + ' = ' + str(company1_df['total'][i]) for i in range(len(company1_df))]\n",
    "    total1_text = company1\n",
    "    for i in total_list:\n",
    "        total1_text += '<br>' + i\n",
    "\n",
    "    total_list = [company2_df.index[i].capitalize() + ' = ' + str(company2_df['total'][i]) for i in range(len(company2_df))]\n",
    "    total2_text = company2\n",
    "    for i in total_list:\n",
    "        total2_text += '<br>' + i\n",
    "\n",
    "    fig = go.Figure(data=go.Scatterpolar(\n",
    "        r=company1_df['total'],\n",
    "        theta=company1_df.index,\n",
    "        fill='toself', \n",
    "        marker_color = 'rgb(45,0,198)',   \n",
    "        opacity =1, \n",
    "        hoverinfo = \"text\" ,\n",
    "        name = total1_text,\n",
    "        text  = [company1_df.index[i] +' = ' + str(company1_df['total'][i]) for i in range(len(company1_df))]\n",
    "    ))\n",
    "    fig.add_trace(go.Scatterpolar(\n",
    "        r=company2_df['total'],\n",
    "        theta=company2_df.index,\n",
    "        fill='toself',\n",
    "        marker_color = 'rgb(255,171,0)',\n",
    "        hoverinfo = \"text\" ,\n",
    "        name= total2_text,\n",
    "        text  = [company2_df.index[i] +' = ' + str(company2_df['total'][i]) for i in range(len(company2_df))]\n",
    "        ))\n",
    "\n",
    "    fig.update_layout(\n",
    "        polar=dict(\n",
    "            hole=0.1,\n",
    "            bgcolor=\"white\",\n",
    "            radialaxis=dict(\n",
    "                visible=True,\n",
    "                type='linear',\n",
    "                autotypenumbers='strict',\n",
    "                autorange=False,\n",
    "                range=[30, 100],\n",
    "                angle=90,\n",
    "                showline=False,\n",
    "                showticklabels=False, ticks='',\n",
    "                gridcolor='black'),\n",
    "                ),\n",
    "        width = 550,\n",
    "        height = 550,\n",
    "        margin=dict(l=80, r=80, t=20, b=20),\n",
    "        showlegend=False,\n",
    "        template=\"plotly_dark\",\n",
    "        plot_bgcolor = 'rgba(0, 0, 0, 0)',\n",
    "        paper_bgcolor = 'rgba(0, 0, 0, 0)',\n",
    "        font_color=\"black\",\n",
    "        font_size= 15\n",
    "    )\n",
    "    \n",
    "    return fig\n"
   ]
  },
  {
   "cell_type": "code",
   "execution_count": 116,
   "metadata": {},
   "outputs": [
    {
     "ename": "KeyError",
     "evalue": "\"['count_tastes'] not in index\"",
     "output_type": "error",
     "traceback": [
      "\u001b[1;31m---------------------------------------------------------------------------\u001b[0m",
      "\u001b[1;31mKeyError\u001b[0m                                  Traceback (most recent call last)",
      "\u001b[1;32mC:\\Users\\UTILIZ~1\\AppData\\Local\\Temp/ipykernel_25448/1873840520.py\u001b[0m in \u001b[0;36m<module>\u001b[1;34m\u001b[0m\n\u001b[0;32m      1\u001b[0m \u001b[0mcompany1\u001b[0m \u001b[1;33m=\u001b[0m \u001b[1;34m'5150'\u001b[0m\u001b[1;33m\u001b[0m\u001b[1;33m\u001b[0m\u001b[0m\n\u001b[0;32m      2\u001b[0m \u001b[0mcompany2\u001b[0m \u001b[1;33m=\u001b[0m \u001b[1;34m'A. Morin'\u001b[0m\u001b[1;33m\u001b[0m\u001b[1;33m\u001b[0m\u001b[0m\n\u001b[1;32m----> 3\u001b[1;33m \u001b[0mradar_plot\u001b[0m\u001b[1;33m(\u001b[0m\u001b[0mcompany1\u001b[0m\u001b[1;33m,\u001b[0m \u001b[0mcompany2\u001b[0m\u001b[1;33m)\u001b[0m\u001b[1;33m\u001b[0m\u001b[1;33m\u001b[0m\u001b[0m\n\u001b[0m",
      "\u001b[1;32mC:\\Users\\UTILIZ~1\\AppData\\Local\\Temp/ipykernel_25448/3774502141.py\u001b[0m in \u001b[0;36mradar_plot\u001b[1;34m(company1, company2)\u001b[0m\n\u001b[0;32m      2\u001b[0m \u001b[1;33m\u001b[0m\u001b[0m\n\u001b[0;32m      3\u001b[0m     \u001b[1;31m# scatterpolar\u001b[0m\u001b[1;33m\u001b[0m\u001b[1;33m\u001b[0m\u001b[1;33m\u001b[0m\u001b[0m\n\u001b[1;32m----> 4\u001b[1;33m     \u001b[0mcompany1_df\u001b[0m \u001b[1;33m=\u001b[0m \u001b[0mpd\u001b[0m\u001b[1;33m.\u001b[0m\u001b[0mDataFrame\u001b[0m\u001b[1;33m(\u001b[0m\u001b[0mradar\u001b[0m\u001b[1;33m[\u001b[0m\u001b[0mradar\u001b[0m\u001b[1;33m[\u001b[0m\u001b[1;34m'company_name'\u001b[0m\u001b[1;33m]\u001b[0m \u001b[1;33m==\u001b[0m \u001b[0mcompany1\u001b[0m\u001b[1;33m]\u001b[0m\u001b[1;33m[\u001b[0m\u001b[0mfeat_radar\u001b[0m\u001b[1;33m]\u001b[0m\u001b[1;33m.\u001b[0m\u001b[0miloc\u001b[0m\u001b[1;33m[\u001b[0m\u001b[1;36m0\u001b[0m\u001b[1;33m]\u001b[0m\u001b[1;33m)\u001b[0m\u001b[1;33m\u001b[0m\u001b[1;33m\u001b[0m\u001b[0m\n\u001b[0m\u001b[0;32m      5\u001b[0m     \u001b[0mcompany1_df\u001b[0m\u001b[1;33m.\u001b[0m\u001b[0mcolumns\u001b[0m \u001b[1;33m=\u001b[0m \u001b[1;33m[\u001b[0m\u001b[1;34m'total'\u001b[0m\u001b[1;33m]\u001b[0m\u001b[1;33m\u001b[0m\u001b[1;33m\u001b[0m\u001b[0m\n\u001b[0;32m      6\u001b[0m     \u001b[0mcompany2_df\u001b[0m \u001b[1;33m=\u001b[0m \u001b[0mpd\u001b[0m\u001b[1;33m.\u001b[0m\u001b[0mDataFrame\u001b[0m\u001b[1;33m(\u001b[0m\u001b[0mradar\u001b[0m\u001b[1;33m[\u001b[0m\u001b[0mradar\u001b[0m\u001b[1;33m[\u001b[0m\u001b[1;34m'company_name'\u001b[0m\u001b[1;33m]\u001b[0m \u001b[1;33m==\u001b[0m \u001b[0mcompany2\u001b[0m\u001b[1;33m]\u001b[0m\u001b[1;33m[\u001b[0m\u001b[0mfeat_radar\u001b[0m\u001b[1;33m]\u001b[0m\u001b[1;33m.\u001b[0m\u001b[0miloc\u001b[0m\u001b[1;33m[\u001b[0m\u001b[1;36m0\u001b[0m\u001b[1;33m]\u001b[0m\u001b[1;33m)\u001b[0m\u001b[1;33m\u001b[0m\u001b[1;33m\u001b[0m\u001b[0m\n",
      "\u001b[1;32m~\\anaconda3\\envs\\datavisualization\\lib\\site-packages\\pandas\\core\\frame.py\u001b[0m in \u001b[0;36m__getitem__\u001b[1;34m(self, key)\u001b[0m\n\u001b[0;32m   3509\u001b[0m             \u001b[1;32mif\u001b[0m \u001b[0mis_iterator\u001b[0m\u001b[1;33m(\u001b[0m\u001b[0mkey\u001b[0m\u001b[1;33m)\u001b[0m\u001b[1;33m:\u001b[0m\u001b[1;33m\u001b[0m\u001b[1;33m\u001b[0m\u001b[0m\n\u001b[0;32m   3510\u001b[0m                 \u001b[0mkey\u001b[0m \u001b[1;33m=\u001b[0m \u001b[0mlist\u001b[0m\u001b[1;33m(\u001b[0m\u001b[0mkey\u001b[0m\u001b[1;33m)\u001b[0m\u001b[1;33m\u001b[0m\u001b[1;33m\u001b[0m\u001b[0m\n\u001b[1;32m-> 3511\u001b[1;33m             \u001b[0mindexer\u001b[0m \u001b[1;33m=\u001b[0m \u001b[0mself\u001b[0m\u001b[1;33m.\u001b[0m\u001b[0mcolumns\u001b[0m\u001b[1;33m.\u001b[0m\u001b[0m_get_indexer_strict\u001b[0m\u001b[1;33m(\u001b[0m\u001b[0mkey\u001b[0m\u001b[1;33m,\u001b[0m \u001b[1;34m\"columns\"\u001b[0m\u001b[1;33m)\u001b[0m\u001b[1;33m[\u001b[0m\u001b[1;36m1\u001b[0m\u001b[1;33m]\u001b[0m\u001b[1;33m\u001b[0m\u001b[1;33m\u001b[0m\u001b[0m\n\u001b[0m\u001b[0;32m   3512\u001b[0m \u001b[1;33m\u001b[0m\u001b[0m\n\u001b[0;32m   3513\u001b[0m         \u001b[1;31m# take() does not accept boolean indexers\u001b[0m\u001b[1;33m\u001b[0m\u001b[1;33m\u001b[0m\u001b[1;33m\u001b[0m\u001b[0m\n",
      "\u001b[1;32m~\\anaconda3\\envs\\datavisualization\\lib\\site-packages\\pandas\\core\\indexes\\base.py\u001b[0m in \u001b[0;36m_get_indexer_strict\u001b[1;34m(self, key, axis_name)\u001b[0m\n\u001b[0;32m   5780\u001b[0m             \u001b[0mkeyarr\u001b[0m\u001b[1;33m,\u001b[0m \u001b[0mindexer\u001b[0m\u001b[1;33m,\u001b[0m \u001b[0mnew_indexer\u001b[0m \u001b[1;33m=\u001b[0m \u001b[0mself\u001b[0m\u001b[1;33m.\u001b[0m\u001b[0m_reindex_non_unique\u001b[0m\u001b[1;33m(\u001b[0m\u001b[0mkeyarr\u001b[0m\u001b[1;33m)\u001b[0m\u001b[1;33m\u001b[0m\u001b[1;33m\u001b[0m\u001b[0m\n\u001b[0;32m   5781\u001b[0m \u001b[1;33m\u001b[0m\u001b[0m\n\u001b[1;32m-> 5782\u001b[1;33m         \u001b[0mself\u001b[0m\u001b[1;33m.\u001b[0m\u001b[0m_raise_if_missing\u001b[0m\u001b[1;33m(\u001b[0m\u001b[0mkeyarr\u001b[0m\u001b[1;33m,\u001b[0m \u001b[0mindexer\u001b[0m\u001b[1;33m,\u001b[0m \u001b[0maxis_name\u001b[0m\u001b[1;33m)\u001b[0m\u001b[1;33m\u001b[0m\u001b[1;33m\u001b[0m\u001b[0m\n\u001b[0m\u001b[0;32m   5783\u001b[0m \u001b[1;33m\u001b[0m\u001b[0m\n\u001b[0;32m   5784\u001b[0m         \u001b[0mkeyarr\u001b[0m \u001b[1;33m=\u001b[0m \u001b[0mself\u001b[0m\u001b[1;33m.\u001b[0m\u001b[0mtake\u001b[0m\u001b[1;33m(\u001b[0m\u001b[0mindexer\u001b[0m\u001b[1;33m)\u001b[0m\u001b[1;33m\u001b[0m\u001b[1;33m\u001b[0m\u001b[0m\n",
      "\u001b[1;32m~\\anaconda3\\envs\\datavisualization\\lib\\site-packages\\pandas\\core\\indexes\\base.py\u001b[0m in \u001b[0;36m_raise_if_missing\u001b[1;34m(self, key, indexer, axis_name)\u001b[0m\n\u001b[0;32m   5843\u001b[0m \u001b[1;33m\u001b[0m\u001b[0m\n\u001b[0;32m   5844\u001b[0m             \u001b[0mnot_found\u001b[0m \u001b[1;33m=\u001b[0m \u001b[0mlist\u001b[0m\u001b[1;33m(\u001b[0m\u001b[0mensure_index\u001b[0m\u001b[1;33m(\u001b[0m\u001b[0mkey\u001b[0m\u001b[1;33m)\u001b[0m\u001b[1;33m[\u001b[0m\u001b[0mmissing_mask\u001b[0m\u001b[1;33m.\u001b[0m\u001b[0mnonzero\u001b[0m\u001b[1;33m(\u001b[0m\u001b[1;33m)\u001b[0m\u001b[1;33m[\u001b[0m\u001b[1;36m0\u001b[0m\u001b[1;33m]\u001b[0m\u001b[1;33m]\u001b[0m\u001b[1;33m.\u001b[0m\u001b[0munique\u001b[0m\u001b[1;33m(\u001b[0m\u001b[1;33m)\u001b[0m\u001b[1;33m)\u001b[0m\u001b[1;33m\u001b[0m\u001b[1;33m\u001b[0m\u001b[0m\n\u001b[1;32m-> 5845\u001b[1;33m             \u001b[1;32mraise\u001b[0m \u001b[0mKeyError\u001b[0m\u001b[1;33m(\u001b[0m\u001b[1;34mf\"{not_found} not in index\"\u001b[0m\u001b[1;33m)\u001b[0m\u001b[1;33m\u001b[0m\u001b[1;33m\u001b[0m\u001b[0m\n\u001b[0m\u001b[0;32m   5846\u001b[0m \u001b[1;33m\u001b[0m\u001b[0m\n\u001b[0;32m   5847\u001b[0m     \u001b[1;33m@\u001b[0m\u001b[0moverload\u001b[0m\u001b[1;33m\u001b[0m\u001b[1;33m\u001b[0m\u001b[0m\n",
      "\u001b[1;31mKeyError\u001b[0m: \"['count_tastes'] not in index\""
     ]
    }
   ],
   "source": [
    "company1 = '5150'\n",
    "company2 = 'A. Morin'\n",
    "radar_plot(company1, company2)"
   ]
  },
  {
   "cell_type": "code",
   "execution_count": 117,
   "metadata": {},
   "outputs": [
    {
     "data": {
      "text/plain": [
       "[0.76, 3.5, 3.0]"
      ]
     },
     "execution_count": 117,
     "metadata": {},
     "output_type": "execute_result"
    }
   ],
   "source": [
    "#company1_list = radar[radar['company_name'] == company1][feat_radar].values\n",
    "company1_list = []\n",
    "\n",
    "company1_df = pd.DataFrame(radar[radar['company_name'] == company1])\n",
    "for i in range(len(radar.columns)-1):\n",
    "    company1_list.append(radar[radar['company_name'] == company1].iloc[0,i])\n",
    "\n",
    "company1_list"
   ]
  },
  {
   "cell_type": "code",
   "execution_count": 118,
   "metadata": {},
   "outputs": [
    {
     "data": {
      "text/plain": [
       "[0.6888, 3.4, 3.96]"
      ]
     },
     "execution_count": 118,
     "metadata": {},
     "output_type": "execute_result"
    }
   ],
   "source": [
    "company2_list = []\n",
    "\n",
    "company2_df = pd.DataFrame(radar[radar['company_name'] == company2])\n",
    "for i in range(len(radar.columns)-1):\n",
    "    company2_list.append(radar[radar['company_name'] == company2].iloc[0,i])\n",
    "\n",
    "company2_list"
   ]
  },
  {
   "cell_type": "code",
   "execution_count": 60,
   "metadata": {
    "scrolled": false
   },
   "outputs": [
    {
     "data": {
      "application/vnd.plotly.v1+json": {
       "config": {
        "plotlyServerURL": "https://plot.ly"
       },
       "data": [
        {
         "fill": "toself",
         "hoverinfo": "text",
         "marker": {
          "color": "rgb(45,0,198)"
         },
         "name": "5150",
         "opacity": 1,
         "r": [
          0.76,
          3.5,
          3
         ],
         "theta": [
          "cocoa_percent",
          "rating",
          "counts_of_ingredients"
         ],
         "type": "scatterpolar"
        },
        {
         "fill": "toself",
         "hoverinfo": "text",
         "marker": {
          "color": "rgb(255,171,0)"
         },
         "name": "A. Morin",
         "r": [
          0.6888,
          3.4,
          3.96
         ],
         "theta": [
          "cocoa_percent",
          "rating",
          "counts_of_ingredients"
         ],
         "type": "scatterpolar"
        }
       ],
       "layout": {
        "polar": {
         "radialaxis": {
          "range": [
           0,
           5
          ],
          "visible": true
         }
        },
        "showlegend": false,
        "template": {
         "data": {
          "bar": [
           {
            "error_x": {
             "color": "#2a3f5f"
            },
            "error_y": {
             "color": "#2a3f5f"
            },
            "marker": {
             "line": {
              "color": "#E5ECF6",
              "width": 0.5
             },
             "pattern": {
              "fillmode": "overlay",
              "size": 10,
              "solidity": 0.2
             }
            },
            "type": "bar"
           }
          ],
          "barpolar": [
           {
            "marker": {
             "line": {
              "color": "#E5ECF6",
              "width": 0.5
             },
             "pattern": {
              "fillmode": "overlay",
              "size": 10,
              "solidity": 0.2
             }
            },
            "type": "barpolar"
           }
          ],
          "carpet": [
           {
            "aaxis": {
             "endlinecolor": "#2a3f5f",
             "gridcolor": "white",
             "linecolor": "white",
             "minorgridcolor": "white",
             "startlinecolor": "#2a3f5f"
            },
            "baxis": {
             "endlinecolor": "#2a3f5f",
             "gridcolor": "white",
             "linecolor": "white",
             "minorgridcolor": "white",
             "startlinecolor": "#2a3f5f"
            },
            "type": "carpet"
           }
          ],
          "choropleth": [
           {
            "colorbar": {
             "outlinewidth": 0,
             "ticks": ""
            },
            "type": "choropleth"
           }
          ],
          "contour": [
           {
            "colorbar": {
             "outlinewidth": 0,
             "ticks": ""
            },
            "colorscale": [
             [
              0,
              "#0d0887"
             ],
             [
              0.1111111111111111,
              "#46039f"
             ],
             [
              0.2222222222222222,
              "#7201a8"
             ],
             [
              0.3333333333333333,
              "#9c179e"
             ],
             [
              0.4444444444444444,
              "#bd3786"
             ],
             [
              0.5555555555555556,
              "#d8576b"
             ],
             [
              0.6666666666666666,
              "#ed7953"
             ],
             [
              0.7777777777777778,
              "#fb9f3a"
             ],
             [
              0.8888888888888888,
              "#fdca26"
             ],
             [
              1,
              "#f0f921"
             ]
            ],
            "type": "contour"
           }
          ],
          "contourcarpet": [
           {
            "colorbar": {
             "outlinewidth": 0,
             "ticks": ""
            },
            "type": "contourcarpet"
           }
          ],
          "heatmap": [
           {
            "colorbar": {
             "outlinewidth": 0,
             "ticks": ""
            },
            "colorscale": [
             [
              0,
              "#0d0887"
             ],
             [
              0.1111111111111111,
              "#46039f"
             ],
             [
              0.2222222222222222,
              "#7201a8"
             ],
             [
              0.3333333333333333,
              "#9c179e"
             ],
             [
              0.4444444444444444,
              "#bd3786"
             ],
             [
              0.5555555555555556,
              "#d8576b"
             ],
             [
              0.6666666666666666,
              "#ed7953"
             ],
             [
              0.7777777777777778,
              "#fb9f3a"
             ],
             [
              0.8888888888888888,
              "#fdca26"
             ],
             [
              1,
              "#f0f921"
             ]
            ],
            "type": "heatmap"
           }
          ],
          "heatmapgl": [
           {
            "colorbar": {
             "outlinewidth": 0,
             "ticks": ""
            },
            "colorscale": [
             [
              0,
              "#0d0887"
             ],
             [
              0.1111111111111111,
              "#46039f"
             ],
             [
              0.2222222222222222,
              "#7201a8"
             ],
             [
              0.3333333333333333,
              "#9c179e"
             ],
             [
              0.4444444444444444,
              "#bd3786"
             ],
             [
              0.5555555555555556,
              "#d8576b"
             ],
             [
              0.6666666666666666,
              "#ed7953"
             ],
             [
              0.7777777777777778,
              "#fb9f3a"
             ],
             [
              0.8888888888888888,
              "#fdca26"
             ],
             [
              1,
              "#f0f921"
             ]
            ],
            "type": "heatmapgl"
           }
          ],
          "histogram": [
           {
            "marker": {
             "pattern": {
              "fillmode": "overlay",
              "size": 10,
              "solidity": 0.2
             }
            },
            "type": "histogram"
           }
          ],
          "histogram2d": [
           {
            "colorbar": {
             "outlinewidth": 0,
             "ticks": ""
            },
            "colorscale": [
             [
              0,
              "#0d0887"
             ],
             [
              0.1111111111111111,
              "#46039f"
             ],
             [
              0.2222222222222222,
              "#7201a8"
             ],
             [
              0.3333333333333333,
              "#9c179e"
             ],
             [
              0.4444444444444444,
              "#bd3786"
             ],
             [
              0.5555555555555556,
              "#d8576b"
             ],
             [
              0.6666666666666666,
              "#ed7953"
             ],
             [
              0.7777777777777778,
              "#fb9f3a"
             ],
             [
              0.8888888888888888,
              "#fdca26"
             ],
             [
              1,
              "#f0f921"
             ]
            ],
            "type": "histogram2d"
           }
          ],
          "histogram2dcontour": [
           {
            "colorbar": {
             "outlinewidth": 0,
             "ticks": ""
            },
            "colorscale": [
             [
              0,
              "#0d0887"
             ],
             [
              0.1111111111111111,
              "#46039f"
             ],
             [
              0.2222222222222222,
              "#7201a8"
             ],
             [
              0.3333333333333333,
              "#9c179e"
             ],
             [
              0.4444444444444444,
              "#bd3786"
             ],
             [
              0.5555555555555556,
              "#d8576b"
             ],
             [
              0.6666666666666666,
              "#ed7953"
             ],
             [
              0.7777777777777778,
              "#fb9f3a"
             ],
             [
              0.8888888888888888,
              "#fdca26"
             ],
             [
              1,
              "#f0f921"
             ]
            ],
            "type": "histogram2dcontour"
           }
          ],
          "mesh3d": [
           {
            "colorbar": {
             "outlinewidth": 0,
             "ticks": ""
            },
            "type": "mesh3d"
           }
          ],
          "parcoords": [
           {
            "line": {
             "colorbar": {
              "outlinewidth": 0,
              "ticks": ""
             }
            },
            "type": "parcoords"
           }
          ],
          "pie": [
           {
            "automargin": true,
            "type": "pie"
           }
          ],
          "scatter": [
           {
            "marker": {
             "colorbar": {
              "outlinewidth": 0,
              "ticks": ""
             }
            },
            "type": "scatter"
           }
          ],
          "scatter3d": [
           {
            "line": {
             "colorbar": {
              "outlinewidth": 0,
              "ticks": ""
             }
            },
            "marker": {
             "colorbar": {
              "outlinewidth": 0,
              "ticks": ""
             }
            },
            "type": "scatter3d"
           }
          ],
          "scattercarpet": [
           {
            "marker": {
             "colorbar": {
              "outlinewidth": 0,
              "ticks": ""
             }
            },
            "type": "scattercarpet"
           }
          ],
          "scattergeo": [
           {
            "marker": {
             "colorbar": {
              "outlinewidth": 0,
              "ticks": ""
             }
            },
            "type": "scattergeo"
           }
          ],
          "scattergl": [
           {
            "marker": {
             "colorbar": {
              "outlinewidth": 0,
              "ticks": ""
             }
            },
            "type": "scattergl"
           }
          ],
          "scattermapbox": [
           {
            "marker": {
             "colorbar": {
              "outlinewidth": 0,
              "ticks": ""
             }
            },
            "type": "scattermapbox"
           }
          ],
          "scatterpolar": [
           {
            "marker": {
             "colorbar": {
              "outlinewidth": 0,
              "ticks": ""
             }
            },
            "type": "scatterpolar"
           }
          ],
          "scatterpolargl": [
           {
            "marker": {
             "colorbar": {
              "outlinewidth": 0,
              "ticks": ""
             }
            },
            "type": "scatterpolargl"
           }
          ],
          "scatterternary": [
           {
            "marker": {
             "colorbar": {
              "outlinewidth": 0,
              "ticks": ""
             }
            },
            "type": "scatterternary"
           }
          ],
          "surface": [
           {
            "colorbar": {
             "outlinewidth": 0,
             "ticks": ""
            },
            "colorscale": [
             [
              0,
              "#0d0887"
             ],
             [
              0.1111111111111111,
              "#46039f"
             ],
             [
              0.2222222222222222,
              "#7201a8"
             ],
             [
              0.3333333333333333,
              "#9c179e"
             ],
             [
              0.4444444444444444,
              "#bd3786"
             ],
             [
              0.5555555555555556,
              "#d8576b"
             ],
             [
              0.6666666666666666,
              "#ed7953"
             ],
             [
              0.7777777777777778,
              "#fb9f3a"
             ],
             [
              0.8888888888888888,
              "#fdca26"
             ],
             [
              1,
              "#f0f921"
             ]
            ],
            "type": "surface"
           }
          ],
          "table": [
           {
            "cells": {
             "fill": {
              "color": "#EBF0F8"
             },
             "line": {
              "color": "white"
             }
            },
            "header": {
             "fill": {
              "color": "#C8D4E3"
             },
             "line": {
              "color": "white"
             }
            },
            "type": "table"
           }
          ]
         },
         "layout": {
          "annotationdefaults": {
           "arrowcolor": "#2a3f5f",
           "arrowhead": 0,
           "arrowwidth": 1
          },
          "autotypenumbers": "strict",
          "coloraxis": {
           "colorbar": {
            "outlinewidth": 0,
            "ticks": ""
           }
          },
          "colorscale": {
           "diverging": [
            [
             0,
             "#8e0152"
            ],
            [
             0.1,
             "#c51b7d"
            ],
            [
             0.2,
             "#de77ae"
            ],
            [
             0.3,
             "#f1b6da"
            ],
            [
             0.4,
             "#fde0ef"
            ],
            [
             0.5,
             "#f7f7f7"
            ],
            [
             0.6,
             "#e6f5d0"
            ],
            [
             0.7,
             "#b8e186"
            ],
            [
             0.8,
             "#7fbc41"
            ],
            [
             0.9,
             "#4d9221"
            ],
            [
             1,
             "#276419"
            ]
           ],
           "sequential": [
            [
             0,
             "#0d0887"
            ],
            [
             0.1111111111111111,
             "#46039f"
            ],
            [
             0.2222222222222222,
             "#7201a8"
            ],
            [
             0.3333333333333333,
             "#9c179e"
            ],
            [
             0.4444444444444444,
             "#bd3786"
            ],
            [
             0.5555555555555556,
             "#d8576b"
            ],
            [
             0.6666666666666666,
             "#ed7953"
            ],
            [
             0.7777777777777778,
             "#fb9f3a"
            ],
            [
             0.8888888888888888,
             "#fdca26"
            ],
            [
             1,
             "#f0f921"
            ]
           ],
           "sequentialminus": [
            [
             0,
             "#0d0887"
            ],
            [
             0.1111111111111111,
             "#46039f"
            ],
            [
             0.2222222222222222,
             "#7201a8"
            ],
            [
             0.3333333333333333,
             "#9c179e"
            ],
            [
             0.4444444444444444,
             "#bd3786"
            ],
            [
             0.5555555555555556,
             "#d8576b"
            ],
            [
             0.6666666666666666,
             "#ed7953"
            ],
            [
             0.7777777777777778,
             "#fb9f3a"
            ],
            [
             0.8888888888888888,
             "#fdca26"
            ],
            [
             1,
             "#f0f921"
            ]
           ]
          },
          "colorway": [
           "#636efa",
           "#EF553B",
           "#00cc96",
           "#ab63fa",
           "#FFA15A",
           "#19d3f3",
           "#FF6692",
           "#B6E880",
           "#FF97FF",
           "#FECB52"
          ],
          "font": {
           "color": "#2a3f5f"
          },
          "geo": {
           "bgcolor": "white",
           "lakecolor": "white",
           "landcolor": "#E5ECF6",
           "showlakes": true,
           "showland": true,
           "subunitcolor": "white"
          },
          "hoverlabel": {
           "align": "left"
          },
          "hovermode": "closest",
          "mapbox": {
           "style": "light"
          },
          "paper_bgcolor": "white",
          "plot_bgcolor": "#E5ECF6",
          "polar": {
           "angularaxis": {
            "gridcolor": "white",
            "linecolor": "white",
            "ticks": ""
           },
           "bgcolor": "#E5ECF6",
           "radialaxis": {
            "gridcolor": "white",
            "linecolor": "white",
            "ticks": ""
           }
          },
          "scene": {
           "xaxis": {
            "backgroundcolor": "#E5ECF6",
            "gridcolor": "white",
            "gridwidth": 2,
            "linecolor": "white",
            "showbackground": true,
            "ticks": "",
            "zerolinecolor": "white"
           },
           "yaxis": {
            "backgroundcolor": "#E5ECF6",
            "gridcolor": "white",
            "gridwidth": 2,
            "linecolor": "white",
            "showbackground": true,
            "ticks": "",
            "zerolinecolor": "white"
           },
           "zaxis": {
            "backgroundcolor": "#E5ECF6",
            "gridcolor": "white",
            "gridwidth": 2,
            "linecolor": "white",
            "showbackground": true,
            "ticks": "",
            "zerolinecolor": "white"
           }
          },
          "shapedefaults": {
           "line": {
            "color": "#2a3f5f"
           }
          },
          "ternary": {
           "aaxis": {
            "gridcolor": "white",
            "linecolor": "white",
            "ticks": ""
           },
           "baxis": {
            "gridcolor": "white",
            "linecolor": "white",
            "ticks": ""
           },
           "bgcolor": "#E5ECF6",
           "caxis": {
            "gridcolor": "white",
            "linecolor": "white",
            "ticks": ""
           }
          },
          "title": {
           "x": 0.05
          },
          "xaxis": {
           "automargin": true,
           "gridcolor": "white",
           "linecolor": "white",
           "ticks": "",
           "title": {
            "standoff": 15
           },
           "zerolinecolor": "white",
           "zerolinewidth": 2
          },
          "yaxis": {
           "automargin": true,
           "gridcolor": "white",
           "linecolor": "white",
           "ticks": "",
           "title": {
            "standoff": 15
           },
           "zerolinecolor": "white",
           "zerolinewidth": 2
          }
         }
        }
       }
      },
      "text/html": [
       "<div>                            <div id=\"8986dd6c-71d5-4356-8d3a-b630d22d8d23\" class=\"plotly-graph-div\" style=\"height:525px; width:100%;\"></div>            <script type=\"text/javascript\">                require([\"plotly\"], function(Plotly) {                    window.PLOTLYENV=window.PLOTLYENV || {};                                    if (document.getElementById(\"8986dd6c-71d5-4356-8d3a-b630d22d8d23\")) {                    Plotly.newPlot(                        \"8986dd6c-71d5-4356-8d3a-b630d22d8d23\",                        [{\"fill\":\"toself\",\"hoverinfo\":\"text\",\"marker\":{\"color\":\"rgb(45,0,198)\"},\"name\":\"5150\",\"opacity\":1,\"r\":[0.76,3.5,3.0],\"theta\":[\"cocoa_percent\",\"rating\",\"counts_of_ingredients\"],\"type\":\"scatterpolar\"},{\"fill\":\"toself\",\"hoverinfo\":\"text\",\"marker\":{\"color\":\"rgb(255,171,0)\"},\"name\":\"A. Morin\",\"r\":[0.6888,3.4,3.96],\"theta\":[\"cocoa_percent\",\"rating\",\"counts_of_ingredients\"],\"type\":\"scatterpolar\"}],                        {\"polar\":{\"radialaxis\":{\"range\":[0,5],\"visible\":true}},\"showlegend\":false,\"template\":{\"data\":{\"bar\":[{\"error_x\":{\"color\":\"#2a3f5f\"},\"error_y\":{\"color\":\"#2a3f5f\"},\"marker\":{\"line\":{\"color\":\"#E5ECF6\",\"width\":0.5},\"pattern\":{\"fillmode\":\"overlay\",\"size\":10,\"solidity\":0.2}},\"type\":\"bar\"}],\"barpolar\":[{\"marker\":{\"line\":{\"color\":\"#E5ECF6\",\"width\":0.5},\"pattern\":{\"fillmode\":\"overlay\",\"size\":10,\"solidity\":0.2}},\"type\":\"barpolar\"}],\"carpet\":[{\"aaxis\":{\"endlinecolor\":\"#2a3f5f\",\"gridcolor\":\"white\",\"linecolor\":\"white\",\"minorgridcolor\":\"white\",\"startlinecolor\":\"#2a3f5f\"},\"baxis\":{\"endlinecolor\":\"#2a3f5f\",\"gridcolor\":\"white\",\"linecolor\":\"white\",\"minorgridcolor\":\"white\",\"startlinecolor\":\"#2a3f5f\"},\"type\":\"carpet\"}],\"choropleth\":[{\"colorbar\":{\"outlinewidth\":0,\"ticks\":\"\"},\"type\":\"choropleth\"}],\"contour\":[{\"colorbar\":{\"outlinewidth\":0,\"ticks\":\"\"},\"colorscale\":[[0.0,\"#0d0887\"],[0.1111111111111111,\"#46039f\"],[0.2222222222222222,\"#7201a8\"],[0.3333333333333333,\"#9c179e\"],[0.4444444444444444,\"#bd3786\"],[0.5555555555555556,\"#d8576b\"],[0.6666666666666666,\"#ed7953\"],[0.7777777777777778,\"#fb9f3a\"],[0.8888888888888888,\"#fdca26\"],[1.0,\"#f0f921\"]],\"type\":\"contour\"}],\"contourcarpet\":[{\"colorbar\":{\"outlinewidth\":0,\"ticks\":\"\"},\"type\":\"contourcarpet\"}],\"heatmap\":[{\"colorbar\":{\"outlinewidth\":0,\"ticks\":\"\"},\"colorscale\":[[0.0,\"#0d0887\"],[0.1111111111111111,\"#46039f\"],[0.2222222222222222,\"#7201a8\"],[0.3333333333333333,\"#9c179e\"],[0.4444444444444444,\"#bd3786\"],[0.5555555555555556,\"#d8576b\"],[0.6666666666666666,\"#ed7953\"],[0.7777777777777778,\"#fb9f3a\"],[0.8888888888888888,\"#fdca26\"],[1.0,\"#f0f921\"]],\"type\":\"heatmap\"}],\"heatmapgl\":[{\"colorbar\":{\"outlinewidth\":0,\"ticks\":\"\"},\"colorscale\":[[0.0,\"#0d0887\"],[0.1111111111111111,\"#46039f\"],[0.2222222222222222,\"#7201a8\"],[0.3333333333333333,\"#9c179e\"],[0.4444444444444444,\"#bd3786\"],[0.5555555555555556,\"#d8576b\"],[0.6666666666666666,\"#ed7953\"],[0.7777777777777778,\"#fb9f3a\"],[0.8888888888888888,\"#fdca26\"],[1.0,\"#f0f921\"]],\"type\":\"heatmapgl\"}],\"histogram\":[{\"marker\":{\"pattern\":{\"fillmode\":\"overlay\",\"size\":10,\"solidity\":0.2}},\"type\":\"histogram\"}],\"histogram2d\":[{\"colorbar\":{\"outlinewidth\":0,\"ticks\":\"\"},\"colorscale\":[[0.0,\"#0d0887\"],[0.1111111111111111,\"#46039f\"],[0.2222222222222222,\"#7201a8\"],[0.3333333333333333,\"#9c179e\"],[0.4444444444444444,\"#bd3786\"],[0.5555555555555556,\"#d8576b\"],[0.6666666666666666,\"#ed7953\"],[0.7777777777777778,\"#fb9f3a\"],[0.8888888888888888,\"#fdca26\"],[1.0,\"#f0f921\"]],\"type\":\"histogram2d\"}],\"histogram2dcontour\":[{\"colorbar\":{\"outlinewidth\":0,\"ticks\":\"\"},\"colorscale\":[[0.0,\"#0d0887\"],[0.1111111111111111,\"#46039f\"],[0.2222222222222222,\"#7201a8\"],[0.3333333333333333,\"#9c179e\"],[0.4444444444444444,\"#bd3786\"],[0.5555555555555556,\"#d8576b\"],[0.6666666666666666,\"#ed7953\"],[0.7777777777777778,\"#fb9f3a\"],[0.8888888888888888,\"#fdca26\"],[1.0,\"#f0f921\"]],\"type\":\"histogram2dcontour\"}],\"mesh3d\":[{\"colorbar\":{\"outlinewidth\":0,\"ticks\":\"\"},\"type\":\"mesh3d\"}],\"parcoords\":[{\"line\":{\"colorbar\":{\"outlinewidth\":0,\"ticks\":\"\"}},\"type\":\"parcoords\"}],\"pie\":[{\"automargin\":true,\"type\":\"pie\"}],\"scatter\":[{\"marker\":{\"colorbar\":{\"outlinewidth\":0,\"ticks\":\"\"}},\"type\":\"scatter\"}],\"scatter3d\":[{\"line\":{\"colorbar\":{\"outlinewidth\":0,\"ticks\":\"\"}},\"marker\":{\"colorbar\":{\"outlinewidth\":0,\"ticks\":\"\"}},\"type\":\"scatter3d\"}],\"scattercarpet\":[{\"marker\":{\"colorbar\":{\"outlinewidth\":0,\"ticks\":\"\"}},\"type\":\"scattercarpet\"}],\"scattergeo\":[{\"marker\":{\"colorbar\":{\"outlinewidth\":0,\"ticks\":\"\"}},\"type\":\"scattergeo\"}],\"scattergl\":[{\"marker\":{\"colorbar\":{\"outlinewidth\":0,\"ticks\":\"\"}},\"type\":\"scattergl\"}],\"scattermapbox\":[{\"marker\":{\"colorbar\":{\"outlinewidth\":0,\"ticks\":\"\"}},\"type\":\"scattermapbox\"}],\"scatterpolar\":[{\"marker\":{\"colorbar\":{\"outlinewidth\":0,\"ticks\":\"\"}},\"type\":\"scatterpolar\"}],\"scatterpolargl\":[{\"marker\":{\"colorbar\":{\"outlinewidth\":0,\"ticks\":\"\"}},\"type\":\"scatterpolargl\"}],\"scatterternary\":[{\"marker\":{\"colorbar\":{\"outlinewidth\":0,\"ticks\":\"\"}},\"type\":\"scatterternary\"}],\"surface\":[{\"colorbar\":{\"outlinewidth\":0,\"ticks\":\"\"},\"colorscale\":[[0.0,\"#0d0887\"],[0.1111111111111111,\"#46039f\"],[0.2222222222222222,\"#7201a8\"],[0.3333333333333333,\"#9c179e\"],[0.4444444444444444,\"#bd3786\"],[0.5555555555555556,\"#d8576b\"],[0.6666666666666666,\"#ed7953\"],[0.7777777777777778,\"#fb9f3a\"],[0.8888888888888888,\"#fdca26\"],[1.0,\"#f0f921\"]],\"type\":\"surface\"}],\"table\":[{\"cells\":{\"fill\":{\"color\":\"#EBF0F8\"},\"line\":{\"color\":\"white\"}},\"header\":{\"fill\":{\"color\":\"#C8D4E3\"},\"line\":{\"color\":\"white\"}},\"type\":\"table\"}]},\"layout\":{\"annotationdefaults\":{\"arrowcolor\":\"#2a3f5f\",\"arrowhead\":0,\"arrowwidth\":1},\"autotypenumbers\":\"strict\",\"coloraxis\":{\"colorbar\":{\"outlinewidth\":0,\"ticks\":\"\"}},\"colorscale\":{\"diverging\":[[0,\"#8e0152\"],[0.1,\"#c51b7d\"],[0.2,\"#de77ae\"],[0.3,\"#f1b6da\"],[0.4,\"#fde0ef\"],[0.5,\"#f7f7f7\"],[0.6,\"#e6f5d0\"],[0.7,\"#b8e186\"],[0.8,\"#7fbc41\"],[0.9,\"#4d9221\"],[1,\"#276419\"]],\"sequential\":[[0.0,\"#0d0887\"],[0.1111111111111111,\"#46039f\"],[0.2222222222222222,\"#7201a8\"],[0.3333333333333333,\"#9c179e\"],[0.4444444444444444,\"#bd3786\"],[0.5555555555555556,\"#d8576b\"],[0.6666666666666666,\"#ed7953\"],[0.7777777777777778,\"#fb9f3a\"],[0.8888888888888888,\"#fdca26\"],[1.0,\"#f0f921\"]],\"sequentialminus\":[[0.0,\"#0d0887\"],[0.1111111111111111,\"#46039f\"],[0.2222222222222222,\"#7201a8\"],[0.3333333333333333,\"#9c179e\"],[0.4444444444444444,\"#bd3786\"],[0.5555555555555556,\"#d8576b\"],[0.6666666666666666,\"#ed7953\"],[0.7777777777777778,\"#fb9f3a\"],[0.8888888888888888,\"#fdca26\"],[1.0,\"#f0f921\"]]},\"colorway\":[\"#636efa\",\"#EF553B\",\"#00cc96\",\"#ab63fa\",\"#FFA15A\",\"#19d3f3\",\"#FF6692\",\"#B6E880\",\"#FF97FF\",\"#FECB52\"],\"font\":{\"color\":\"#2a3f5f\"},\"geo\":{\"bgcolor\":\"white\",\"lakecolor\":\"white\",\"landcolor\":\"#E5ECF6\",\"showlakes\":true,\"showland\":true,\"subunitcolor\":\"white\"},\"hoverlabel\":{\"align\":\"left\"},\"hovermode\":\"closest\",\"mapbox\":{\"style\":\"light\"},\"paper_bgcolor\":\"white\",\"plot_bgcolor\":\"#E5ECF6\",\"polar\":{\"angularaxis\":{\"gridcolor\":\"white\",\"linecolor\":\"white\",\"ticks\":\"\"},\"bgcolor\":\"#E5ECF6\",\"radialaxis\":{\"gridcolor\":\"white\",\"linecolor\":\"white\",\"ticks\":\"\"}},\"scene\":{\"xaxis\":{\"backgroundcolor\":\"#E5ECF6\",\"gridcolor\":\"white\",\"gridwidth\":2,\"linecolor\":\"white\",\"showbackground\":true,\"ticks\":\"\",\"zerolinecolor\":\"white\"},\"yaxis\":{\"backgroundcolor\":\"#E5ECF6\",\"gridcolor\":\"white\",\"gridwidth\":2,\"linecolor\":\"white\",\"showbackground\":true,\"ticks\":\"\",\"zerolinecolor\":\"white\"},\"zaxis\":{\"backgroundcolor\":\"#E5ECF6\",\"gridcolor\":\"white\",\"gridwidth\":2,\"linecolor\":\"white\",\"showbackground\":true,\"ticks\":\"\",\"zerolinecolor\":\"white\"}},\"shapedefaults\":{\"line\":{\"color\":\"#2a3f5f\"}},\"ternary\":{\"aaxis\":{\"gridcolor\":\"white\",\"linecolor\":\"white\",\"ticks\":\"\"},\"baxis\":{\"gridcolor\":\"white\",\"linecolor\":\"white\",\"ticks\":\"\"},\"bgcolor\":\"#E5ECF6\",\"caxis\":{\"gridcolor\":\"white\",\"linecolor\":\"white\",\"ticks\":\"\"}},\"title\":{\"x\":0.05},\"xaxis\":{\"automargin\":true,\"gridcolor\":\"white\",\"linecolor\":\"white\",\"ticks\":\"\",\"title\":{\"standoff\":15},\"zerolinecolor\":\"white\",\"zerolinewidth\":2},\"yaxis\":{\"automargin\":true,\"gridcolor\":\"white\",\"linecolor\":\"white\",\"ticks\":\"\",\"title\":{\"standoff\":15},\"zerolinecolor\":\"white\",\"zerolinewidth\":2}}}},                        {\"responsive\": true}                    ).then(function(){\n",
       "                            \n",
       "var gd = document.getElementById('8986dd6c-71d5-4356-8d3a-b630d22d8d23');\n",
       "var x = new MutationObserver(function (mutations, observer) {{\n",
       "        var display = window.getComputedStyle(gd).display;\n",
       "        if (!display || display === 'none') {{\n",
       "            console.log([gd, 'removed!']);\n",
       "            Plotly.purge(gd);\n",
       "            observer.disconnect();\n",
       "        }}\n",
       "}});\n",
       "\n",
       "// Listen for the removal of the full notebook cells\n",
       "var notebookContainer = gd.closest('#notebook-container');\n",
       "if (notebookContainer) {{\n",
       "    x.observe(notebookContainer, {childList: true});\n",
       "}}\n",
       "\n",
       "// Listen for the clearing of the current output cell\n",
       "var outputEl = gd.closest('.output');\n",
       "if (outputEl) {{\n",
       "    x.observe(outputEl, {childList: true});\n",
       "}}\n",
       "\n",
       "                        })                };                });            </script>        </div>"
      ]
     },
     "metadata": {},
     "output_type": "display_data"
    }
   ],
   "source": [
    "\n",
    "fig = go.Figure(data=go.Scatterpolar(\n",
    "        r=company1_list,\n",
    "        theta=feat_radar,\n",
    "        fill='toself', \n",
    "        marker_color = 'rgb(45,0,198)',   \n",
    "        opacity =1, \n",
    "        hoverinfo = \"text\" ,\n",
    "        name = company1\n",
    "        #text  = [company1_df.index[i] +' = ' + str(company1_df['total'][i]) for i in range(len(company1_df))]\n",
    "    ))\n",
    "fig.add_trace(go.Scatterpolar(\n",
    "        r=company2_list,\n",
    "        theta=feat_radar,\n",
    "        fill='toself',\n",
    "        marker_color = 'rgb(255,171,0)',\n",
    "        hoverinfo = \"text\" ,\n",
    "        name= company2,\n",
    "        #text  = [radar.columns()[i] +' = ' + str(radar['total'][i]) for i in range(len(company2_df))]\n",
    "        ))\n",
    "\n",
    "fig.update_layout(\n",
    "  polar=dict(\n",
    "    radialaxis=dict(\n",
    "      visible=True,\n",
    "      range=[0, 5]\n",
    "    )),\n",
    "  showlegend=False\n",
    ")\n",
    "\n",
    "fig.show()"
   ]
  },
  {
   "cell_type": "markdown",
   "metadata": {},
   "source": [
    "### Column count_tastes\n"
   ]
  },
  {
   "cell_type": "code",
   "execution_count": 160,
   "metadata": {},
   "outputs": [
    {
     "data": {
      "text/html": [
       "<div>\n",
       "<style scoped>\n",
       "    .dataframe tbody tr th:only-of-type {\n",
       "        vertical-align: middle;\n",
       "    }\n",
       "\n",
       "    .dataframe tbody tr th {\n",
       "        vertical-align: top;\n",
       "    }\n",
       "\n",
       "    .dataframe thead th {\n",
       "        text-align: right;\n",
       "    }\n",
       "</style>\n",
       "<table border=\"1\" class=\"dataframe\">\n",
       "  <thead>\n",
       "    <tr style=\"text-align: right;\">\n",
       "      <th></th>\n",
       "      <th>ref</th>\n",
       "      <th>company</th>\n",
       "      <th>company_location</th>\n",
       "      <th>review_date</th>\n",
       "      <th>country_of_bean_origin</th>\n",
       "      <th>specific_bean_origin_or_bar_name</th>\n",
       "      <th>cocoa_percent</th>\n",
       "      <th>rating</th>\n",
       "      <th>counts_of_ingredients</th>\n",
       "      <th>beans</th>\n",
       "      <th>...</th>\n",
       "      <th>company_code_2</th>\n",
       "      <th>country_y</th>\n",
       "      <th>bean_continent</th>\n",
       "      <th>bean_region</th>\n",
       "      <th>bean_code_2</th>\n",
       "      <th>binFirst_taste</th>\n",
       "      <th>binSecond_taste</th>\n",
       "      <th>binThird_taste</th>\n",
       "      <th>binFourth_taste</th>\n",
       "      <th>count_tastes</th>\n",
       "    </tr>\n",
       "  </thead>\n",
       "  <tbody>\n",
       "    <tr>\n",
       "      <th>0</th>\n",
       "      <td>2454</td>\n",
       "      <td>5150</td>\n",
       "      <td>United States of America</td>\n",
       "      <td>2019</td>\n",
       "      <td>Madagascar</td>\n",
       "      <td>Bejofo Estate, batch 1</td>\n",
       "      <td>76.0</td>\n",
       "      <td>3.75</td>\n",
       "      <td>3</td>\n",
       "      <td>have_bean</td>\n",
       "      <td>...</td>\n",
       "      <td>US</td>\n",
       "      <td>Madagascar</td>\n",
       "      <td>Africa</td>\n",
       "      <td>Eastern Africa</td>\n",
       "      <td>MG</td>\n",
       "      <td>1</td>\n",
       "      <td>1</td>\n",
       "      <td>1</td>\n",
       "      <td>0</td>\n",
       "      <td>3</td>\n",
       "    </tr>\n",
       "    <tr>\n",
       "      <th>1</th>\n",
       "      <td>2458</td>\n",
       "      <td>5150</td>\n",
       "      <td>United States of America</td>\n",
       "      <td>2019</td>\n",
       "      <td>Dominican Republic</td>\n",
       "      <td>Zorzal, batch 1</td>\n",
       "      <td>76.0</td>\n",
       "      <td>3.50</td>\n",
       "      <td>3</td>\n",
       "      <td>have_bean</td>\n",
       "      <td>...</td>\n",
       "      <td>US</td>\n",
       "      <td>Dominican Republic</td>\n",
       "      <td>Americas</td>\n",
       "      <td>Caribbean</td>\n",
       "      <td>DO</td>\n",
       "      <td>1</td>\n",
       "      <td>1</td>\n",
       "      <td>1</td>\n",
       "      <td>0</td>\n",
       "      <td>3</td>\n",
       "    </tr>\n",
       "    <tr>\n",
       "      <th>2</th>\n",
       "      <td>2454</td>\n",
       "      <td>5150</td>\n",
       "      <td>United States of America</td>\n",
       "      <td>2019</td>\n",
       "      <td>Tanzania, United Republic of</td>\n",
       "      <td>Kokoa Kamili, batch 1</td>\n",
       "      <td>76.0</td>\n",
       "      <td>3.25</td>\n",
       "      <td>3</td>\n",
       "      <td>have_bean</td>\n",
       "      <td>...</td>\n",
       "      <td>US</td>\n",
       "      <td>Tanzania, United Republic of</td>\n",
       "      <td>Africa</td>\n",
       "      <td>Eastern Africa</td>\n",
       "      <td>TZ</td>\n",
       "      <td>1</td>\n",
       "      <td>1</td>\n",
       "      <td>1</td>\n",
       "      <td>0</td>\n",
       "      <td>3</td>\n",
       "    </tr>\n",
       "    <tr>\n",
       "      <th>3</th>\n",
       "      <td>797</td>\n",
       "      <td>A. Morin</td>\n",
       "      <td>France</td>\n",
       "      <td>2012</td>\n",
       "      <td>Peru</td>\n",
       "      <td>Peru</td>\n",
       "      <td>63.0</td>\n",
       "      <td>3.75</td>\n",
       "      <td>4</td>\n",
       "      <td>have_bean</td>\n",
       "      <td>...</td>\n",
       "      <td>FR</td>\n",
       "      <td>Peru</td>\n",
       "      <td>Americas</td>\n",
       "      <td>South America</td>\n",
       "      <td>PE</td>\n",
       "      <td>1</td>\n",
       "      <td>1</td>\n",
       "      <td>1</td>\n",
       "      <td>0</td>\n",
       "      <td>3</td>\n",
       "    </tr>\n",
       "    <tr>\n",
       "      <th>4</th>\n",
       "      <td>797</td>\n",
       "      <td>A. Morin</td>\n",
       "      <td>France</td>\n",
       "      <td>2012</td>\n",
       "      <td>Bolivia (Plurinational State of)</td>\n",
       "      <td>Bolivia</td>\n",
       "      <td>70.0</td>\n",
       "      <td>3.50</td>\n",
       "      <td>4</td>\n",
       "      <td>have_bean</td>\n",
       "      <td>...</td>\n",
       "      <td>FR</td>\n",
       "      <td>Bolivia (Plurinational State of)</td>\n",
       "      <td>Americas</td>\n",
       "      <td>South America</td>\n",
       "      <td>BO</td>\n",
       "      <td>1</td>\n",
       "      <td>1</td>\n",
       "      <td>0</td>\n",
       "      <td>0</td>\n",
       "      <td>2</td>\n",
       "    </tr>\n",
       "  </tbody>\n",
       "</table>\n",
       "<p>5 rows × 33 columns</p>\n",
       "</div>"
      ],
      "text/plain": [
       "    ref   company          company_location  review_date  \\\n",
       "0  2454      5150  United States of America         2019   \n",
       "1  2458      5150  United States of America         2019   \n",
       "2  2454      5150  United States of America         2019   \n",
       "3   797  A. Morin                    France         2012   \n",
       "4   797  A. Morin                    France         2012   \n",
       "\n",
       "             country_of_bean_origin specific_bean_origin_or_bar_name  \\\n",
       "0                        Madagascar           Bejofo Estate, batch 1   \n",
       "1                Dominican Republic                  Zorzal, batch 1   \n",
       "2      Tanzania, United Republic of            Kokoa Kamili, batch 1   \n",
       "3                              Peru                             Peru   \n",
       "4  Bolivia (Plurinational State of)                          Bolivia   \n",
       "\n",
       "   cocoa_percent  rating  counts_of_ingredients      beans  ...  \\\n",
       "0           76.0    3.75                      3  have_bean  ...   \n",
       "1           76.0    3.50                      3  have_bean  ...   \n",
       "2           76.0    3.25                      3  have_bean  ...   \n",
       "3           63.0    3.75                      4  have_bean  ...   \n",
       "4           70.0    3.50                      4  have_bean  ...   \n",
       "\n",
       "  company_code_2                         country_y bean_continent  \\\n",
       "0             US                        Madagascar         Africa   \n",
       "1             US                Dominican Republic       Americas   \n",
       "2             US      Tanzania, United Republic of         Africa   \n",
       "3             FR                              Peru       Americas   \n",
       "4             FR  Bolivia (Plurinational State of)       Americas   \n",
       "\n",
       "      bean_region bean_code_2 binFirst_taste binSecond_taste binThird_taste  \\\n",
       "0  Eastern Africa          MG              1               1              1   \n",
       "1       Caribbean          DO              1               1              1   \n",
       "2  Eastern Africa          TZ              1               1              1   \n",
       "3   South America          PE              1               1              1   \n",
       "4   South America          BO              1               1              0   \n",
       "\n",
       "  binFourth_taste count_tastes  \n",
       "0               0            3  \n",
       "1               0            3  \n",
       "2               0            3  \n",
       "3               0            3  \n",
       "4               0            2  \n",
       "\n",
       "[5 rows x 33 columns]"
      ]
     },
     "execution_count": 160,
     "metadata": {},
     "output_type": "execute_result"
    }
   ],
   "source": [
    "test_taste = data\n",
    "test_taste.head()"
   ]
  },
  {
   "cell_type": "code",
   "execution_count": 161,
   "metadata": {},
   "outputs": [],
   "source": [
    "test_taste['first_taste'].fillna(value = 0, inplace = True)\n",
    "test_taste['second_taste'].fillna(value = 0, inplace = True)\n",
    "test_taste['third_taste'].fillna(value = 0, inplace = True)\n",
    "test_taste['fourth_taste'].fillna(value = 0, inplace = True)"
   ]
  },
  {
   "cell_type": "code",
   "execution_count": 162,
   "metadata": {},
   "outputs": [],
   "source": [
    "#taste = lambda x: 1 if x.isna() == False else 0\n",
    "taste = lambda x: 1 if x != 0 else x"
   ]
  },
  {
   "cell_type": "code",
   "execution_count": 163,
   "metadata": {},
   "outputs": [],
   "source": [
    "test_taste['binFirst_taste'] = test_taste['first_taste'].apply(taste)\n",
    "test_taste['binSecond_taste'] = test_taste['second_taste'].apply(taste)\n",
    "test_taste['binThird_taste'] = test_taste['third_taste'].apply(taste)\n",
    "test_taste['binFourth_taste'] = test_taste['fourth_taste'].apply(taste)"
   ]
  },
  {
   "cell_type": "code",
   "execution_count": 164,
   "metadata": {},
   "outputs": [
    {
     "data": {
      "text/html": [
       "<div>\n",
       "<style scoped>\n",
       "    .dataframe tbody tr th:only-of-type {\n",
       "        vertical-align: middle;\n",
       "    }\n",
       "\n",
       "    .dataframe tbody tr th {\n",
       "        vertical-align: top;\n",
       "    }\n",
       "\n",
       "    .dataframe thead th {\n",
       "        text-align: right;\n",
       "    }\n",
       "</style>\n",
       "<table border=\"1\" class=\"dataframe\">\n",
       "  <thead>\n",
       "    <tr style=\"text-align: right;\">\n",
       "      <th></th>\n",
       "      <th>ref</th>\n",
       "      <th>company</th>\n",
       "      <th>company_location</th>\n",
       "      <th>review_date</th>\n",
       "      <th>country_of_bean_origin</th>\n",
       "      <th>specific_bean_origin_or_bar_name</th>\n",
       "      <th>cocoa_percent</th>\n",
       "      <th>rating</th>\n",
       "      <th>counts_of_ingredients</th>\n",
       "      <th>beans</th>\n",
       "      <th>...</th>\n",
       "      <th>company_code_2</th>\n",
       "      <th>country_y</th>\n",
       "      <th>bean_continent</th>\n",
       "      <th>bean_region</th>\n",
       "      <th>bean_code_2</th>\n",
       "      <th>binFirst_taste</th>\n",
       "      <th>binSecond_taste</th>\n",
       "      <th>binThird_taste</th>\n",
       "      <th>binFourth_taste</th>\n",
       "      <th>count_tastes</th>\n",
       "    </tr>\n",
       "  </thead>\n",
       "  <tbody>\n",
       "    <tr>\n",
       "      <th>4</th>\n",
       "      <td>797</td>\n",
       "      <td>A. Morin</td>\n",
       "      <td>France</td>\n",
       "      <td>2012</td>\n",
       "      <td>Bolivia (Plurinational State of)</td>\n",
       "      <td>Bolivia</td>\n",
       "      <td>70.0</td>\n",
       "      <td>3.50</td>\n",
       "      <td>4</td>\n",
       "      <td>have_bean</td>\n",
       "      <td>...</td>\n",
       "      <td>FR</td>\n",
       "      <td>Bolivia (Plurinational State of)</td>\n",
       "      <td>Americas</td>\n",
       "      <td>South America</td>\n",
       "      <td>BO</td>\n",
       "      <td>1</td>\n",
       "      <td>1</td>\n",
       "      <td>0</td>\n",
       "      <td>0</td>\n",
       "      <td>2</td>\n",
       "    </tr>\n",
       "    <tr>\n",
       "      <th>9</th>\n",
       "      <td>1011</td>\n",
       "      <td>A. Morin</td>\n",
       "      <td>France</td>\n",
       "      <td>2013</td>\n",
       "      <td>Brazil</td>\n",
       "      <td>Brazil</td>\n",
       "      <td>70.0</td>\n",
       "      <td>3.25</td>\n",
       "      <td>4</td>\n",
       "      <td>have_bean</td>\n",
       "      <td>...</td>\n",
       "      <td>FR</td>\n",
       "      <td>Brazil</td>\n",
       "      <td>Americas</td>\n",
       "      <td>South America</td>\n",
       "      <td>BR</td>\n",
       "      <td>1</td>\n",
       "      <td>0</td>\n",
       "      <td>0</td>\n",
       "      <td>0</td>\n",
       "      <td>1</td>\n",
       "    </tr>\n",
       "    <tr>\n",
       "      <th>10</th>\n",
       "      <td>1015</td>\n",
       "      <td>A. Morin</td>\n",
       "      <td>France</td>\n",
       "      <td>2013</td>\n",
       "      <td>Papua New Guinea</td>\n",
       "      <td>Papua New Guinea</td>\n",
       "      <td>70.0</td>\n",
       "      <td>3.25</td>\n",
       "      <td>4</td>\n",
       "      <td>have_bean</td>\n",
       "      <td>...</td>\n",
       "      <td>FR</td>\n",
       "      <td>Papua New Guinea</td>\n",
       "      <td>Oceania</td>\n",
       "      <td>Melanesia</td>\n",
       "      <td>PG</td>\n",
       "      <td>1</td>\n",
       "      <td>1</td>\n",
       "      <td>0</td>\n",
       "      <td>0</td>\n",
       "      <td>2</td>\n",
       "    </tr>\n",
       "    <tr>\n",
       "      <th>15</th>\n",
       "      <td>1015</td>\n",
       "      <td>A. Morin</td>\n",
       "      <td>France</td>\n",
       "      <td>2013</td>\n",
       "      <td>Colombia</td>\n",
       "      <td>Colombie</td>\n",
       "      <td>70.0</td>\n",
       "      <td>2.75</td>\n",
       "      <td>4</td>\n",
       "      <td>have_bean</td>\n",
       "      <td>...</td>\n",
       "      <td>FR</td>\n",
       "      <td>Colombia</td>\n",
       "      <td>Americas</td>\n",
       "      <td>South America</td>\n",
       "      <td>CO</td>\n",
       "      <td>1</td>\n",
       "      <td>1</td>\n",
       "      <td>0</td>\n",
       "      <td>0</td>\n",
       "      <td>2</td>\n",
       "    </tr>\n",
       "    <tr>\n",
       "      <th>18</th>\n",
       "      <td>1315</td>\n",
       "      <td>A. Morin</td>\n",
       "      <td>France</td>\n",
       "      <td>2014</td>\n",
       "      <td>Cuba</td>\n",
       "      <td>Cuba</td>\n",
       "      <td>70.0</td>\n",
       "      <td>3.50</td>\n",
       "      <td>4</td>\n",
       "      <td>have_bean</td>\n",
       "      <td>...</td>\n",
       "      <td>FR</td>\n",
       "      <td>Cuba</td>\n",
       "      <td>Americas</td>\n",
       "      <td>Caribbean</td>\n",
       "      <td>CU</td>\n",
       "      <td>1</td>\n",
       "      <td>1</td>\n",
       "      <td>0</td>\n",
       "      <td>0</td>\n",
       "      <td>2</td>\n",
       "    </tr>\n",
       "  </tbody>\n",
       "</table>\n",
       "<p>5 rows × 33 columns</p>\n",
       "</div>"
      ],
      "text/plain": [
       "     ref   company company_location  review_date  \\\n",
       "4    797  A. Morin           France         2012   \n",
       "9   1011  A. Morin           France         2013   \n",
       "10  1015  A. Morin           France         2013   \n",
       "15  1015  A. Morin           France         2013   \n",
       "18  1315  A. Morin           France         2014   \n",
       "\n",
       "              country_of_bean_origin specific_bean_origin_or_bar_name  \\\n",
       "4   Bolivia (Plurinational State of)                          Bolivia   \n",
       "9                             Brazil                           Brazil   \n",
       "10                  Papua New Guinea                 Papua New Guinea   \n",
       "15                          Colombia                         Colombie   \n",
       "18                              Cuba                             Cuba   \n",
       "\n",
       "    cocoa_percent  rating  counts_of_ingredients      beans  ...  \\\n",
       "4            70.0    3.50                      4  have_bean  ...   \n",
       "9            70.0    3.25                      4  have_bean  ...   \n",
       "10           70.0    3.25                      4  have_bean  ...   \n",
       "15           70.0    2.75                      4  have_bean  ...   \n",
       "18           70.0    3.50                      4  have_bean  ...   \n",
       "\n",
       "   company_code_2                         country_y bean_continent  \\\n",
       "4              FR  Bolivia (Plurinational State of)       Americas   \n",
       "9              FR                            Brazil       Americas   \n",
       "10             FR                  Papua New Guinea        Oceania   \n",
       "15             FR                          Colombia       Americas   \n",
       "18             FR                              Cuba       Americas   \n",
       "\n",
       "      bean_region bean_code_2 binFirst_taste binSecond_taste binThird_taste  \\\n",
       "4   South America          BO              1               1              0   \n",
       "9   South America          BR              1               0              0   \n",
       "10      Melanesia          PG              1               1              0   \n",
       "15  South America          CO              1               1              0   \n",
       "18      Caribbean          CU              1               1              0   \n",
       "\n",
       "   binFourth_taste count_tastes  \n",
       "4                0            2  \n",
       "9                0            1  \n",
       "10               0            2  \n",
       "15               0            2  \n",
       "18               0            2  \n",
       "\n",
       "[5 rows x 33 columns]"
      ]
     },
     "execution_count": 164,
     "metadata": {},
     "output_type": "execute_result"
    }
   ],
   "source": [
    "test_taste[test_taste['binThird_taste'] == 0].head()"
   ]
  },
  {
   "cell_type": "code",
   "execution_count": 165,
   "metadata": {},
   "outputs": [],
   "source": [
    "test_taste['count_tastes'] = test_taste['binFirst_taste'] + test_taste['binSecond_taste'] + test_taste['binThird_taste'] + test_taste['binFourth_taste']"
   ]
  },
  {
   "cell_type": "code",
   "execution_count": 166,
   "metadata": {},
   "outputs": [
    {
     "data": {
      "text/html": [
       "<div>\n",
       "<style scoped>\n",
       "    .dataframe tbody tr th:only-of-type {\n",
       "        vertical-align: middle;\n",
       "    }\n",
       "\n",
       "    .dataframe tbody tr th {\n",
       "        vertical-align: top;\n",
       "    }\n",
       "\n",
       "    .dataframe thead th {\n",
       "        text-align: right;\n",
       "    }\n",
       "</style>\n",
       "<table border=\"1\" class=\"dataframe\">\n",
       "  <thead>\n",
       "    <tr style=\"text-align: right;\">\n",
       "      <th></th>\n",
       "      <th>ref</th>\n",
       "      <th>company</th>\n",
       "      <th>company_location</th>\n",
       "      <th>review_date</th>\n",
       "      <th>country_of_bean_origin</th>\n",
       "      <th>specific_bean_origin_or_bar_name</th>\n",
       "      <th>cocoa_percent</th>\n",
       "      <th>rating</th>\n",
       "      <th>counts_of_ingredients</th>\n",
       "      <th>beans</th>\n",
       "      <th>...</th>\n",
       "      <th>company_code_2</th>\n",
       "      <th>country_y</th>\n",
       "      <th>bean_continent</th>\n",
       "      <th>bean_region</th>\n",
       "      <th>bean_code_2</th>\n",
       "      <th>binFirst_taste</th>\n",
       "      <th>binSecond_taste</th>\n",
       "      <th>binThird_taste</th>\n",
       "      <th>binFourth_taste</th>\n",
       "      <th>count_tastes</th>\n",
       "    </tr>\n",
       "  </thead>\n",
       "  <tbody>\n",
       "    <tr>\n",
       "      <th>0</th>\n",
       "      <td>2454</td>\n",
       "      <td>5150</td>\n",
       "      <td>United States of America</td>\n",
       "      <td>2019</td>\n",
       "      <td>Madagascar</td>\n",
       "      <td>Bejofo Estate, batch 1</td>\n",
       "      <td>76.0</td>\n",
       "      <td>3.75</td>\n",
       "      <td>3</td>\n",
       "      <td>have_bean</td>\n",
       "      <td>...</td>\n",
       "      <td>US</td>\n",
       "      <td>Madagascar</td>\n",
       "      <td>Africa</td>\n",
       "      <td>Eastern Africa</td>\n",
       "      <td>MG</td>\n",
       "      <td>1</td>\n",
       "      <td>1</td>\n",
       "      <td>1</td>\n",
       "      <td>0</td>\n",
       "      <td>3</td>\n",
       "    </tr>\n",
       "    <tr>\n",
       "      <th>1</th>\n",
       "      <td>2458</td>\n",
       "      <td>5150</td>\n",
       "      <td>United States of America</td>\n",
       "      <td>2019</td>\n",
       "      <td>Dominican Republic</td>\n",
       "      <td>Zorzal, batch 1</td>\n",
       "      <td>76.0</td>\n",
       "      <td>3.50</td>\n",
       "      <td>3</td>\n",
       "      <td>have_bean</td>\n",
       "      <td>...</td>\n",
       "      <td>US</td>\n",
       "      <td>Dominican Republic</td>\n",
       "      <td>Americas</td>\n",
       "      <td>Caribbean</td>\n",
       "      <td>DO</td>\n",
       "      <td>1</td>\n",
       "      <td>1</td>\n",
       "      <td>1</td>\n",
       "      <td>0</td>\n",
       "      <td>3</td>\n",
       "    </tr>\n",
       "    <tr>\n",
       "      <th>2</th>\n",
       "      <td>2454</td>\n",
       "      <td>5150</td>\n",
       "      <td>United States of America</td>\n",
       "      <td>2019</td>\n",
       "      <td>Tanzania, United Republic of</td>\n",
       "      <td>Kokoa Kamili, batch 1</td>\n",
       "      <td>76.0</td>\n",
       "      <td>3.25</td>\n",
       "      <td>3</td>\n",
       "      <td>have_bean</td>\n",
       "      <td>...</td>\n",
       "      <td>US</td>\n",
       "      <td>Tanzania, United Republic of</td>\n",
       "      <td>Africa</td>\n",
       "      <td>Eastern Africa</td>\n",
       "      <td>TZ</td>\n",
       "      <td>1</td>\n",
       "      <td>1</td>\n",
       "      <td>1</td>\n",
       "      <td>0</td>\n",
       "      <td>3</td>\n",
       "    </tr>\n",
       "    <tr>\n",
       "      <th>3</th>\n",
       "      <td>797</td>\n",
       "      <td>A. Morin</td>\n",
       "      <td>France</td>\n",
       "      <td>2012</td>\n",
       "      <td>Peru</td>\n",
       "      <td>Peru</td>\n",
       "      <td>63.0</td>\n",
       "      <td>3.75</td>\n",
       "      <td>4</td>\n",
       "      <td>have_bean</td>\n",
       "      <td>...</td>\n",
       "      <td>FR</td>\n",
       "      <td>Peru</td>\n",
       "      <td>Americas</td>\n",
       "      <td>South America</td>\n",
       "      <td>PE</td>\n",
       "      <td>1</td>\n",
       "      <td>1</td>\n",
       "      <td>1</td>\n",
       "      <td>0</td>\n",
       "      <td>3</td>\n",
       "    </tr>\n",
       "    <tr>\n",
       "      <th>4</th>\n",
       "      <td>797</td>\n",
       "      <td>A. Morin</td>\n",
       "      <td>France</td>\n",
       "      <td>2012</td>\n",
       "      <td>Bolivia (Plurinational State of)</td>\n",
       "      <td>Bolivia</td>\n",
       "      <td>70.0</td>\n",
       "      <td>3.50</td>\n",
       "      <td>4</td>\n",
       "      <td>have_bean</td>\n",
       "      <td>...</td>\n",
       "      <td>FR</td>\n",
       "      <td>Bolivia (Plurinational State of)</td>\n",
       "      <td>Americas</td>\n",
       "      <td>South America</td>\n",
       "      <td>BO</td>\n",
       "      <td>1</td>\n",
       "      <td>1</td>\n",
       "      <td>0</td>\n",
       "      <td>0</td>\n",
       "      <td>2</td>\n",
       "    </tr>\n",
       "  </tbody>\n",
       "</table>\n",
       "<p>5 rows × 33 columns</p>\n",
       "</div>"
      ],
      "text/plain": [
       "    ref   company          company_location  review_date  \\\n",
       "0  2454      5150  United States of America         2019   \n",
       "1  2458      5150  United States of America         2019   \n",
       "2  2454      5150  United States of America         2019   \n",
       "3   797  A. Morin                    France         2012   \n",
       "4   797  A. Morin                    France         2012   \n",
       "\n",
       "             country_of_bean_origin specific_bean_origin_or_bar_name  \\\n",
       "0                        Madagascar           Bejofo Estate, batch 1   \n",
       "1                Dominican Republic                  Zorzal, batch 1   \n",
       "2      Tanzania, United Republic of            Kokoa Kamili, batch 1   \n",
       "3                              Peru                             Peru   \n",
       "4  Bolivia (Plurinational State of)                          Bolivia   \n",
       "\n",
       "   cocoa_percent  rating  counts_of_ingredients      beans  ...  \\\n",
       "0           76.0    3.75                      3  have_bean  ...   \n",
       "1           76.0    3.50                      3  have_bean  ...   \n",
       "2           76.0    3.25                      3  have_bean  ...   \n",
       "3           63.0    3.75                      4  have_bean  ...   \n",
       "4           70.0    3.50                      4  have_bean  ...   \n",
       "\n",
       "  company_code_2                         country_y bean_continent  \\\n",
       "0             US                        Madagascar         Africa   \n",
       "1             US                Dominican Republic       Americas   \n",
       "2             US      Tanzania, United Republic of         Africa   \n",
       "3             FR                              Peru       Americas   \n",
       "4             FR  Bolivia (Plurinational State of)       Americas   \n",
       "\n",
       "      bean_region bean_code_2 binFirst_taste binSecond_taste binThird_taste  \\\n",
       "0  Eastern Africa          MG              1               1              1   \n",
       "1       Caribbean          DO              1               1              1   \n",
       "2  Eastern Africa          TZ              1               1              1   \n",
       "3   South America          PE              1               1              1   \n",
       "4   South America          BO              1               1              0   \n",
       "\n",
       "  binFourth_taste count_tastes  \n",
       "0               0            3  \n",
       "1               0            3  \n",
       "2               0            3  \n",
       "3               0            3  \n",
       "4               0            2  \n",
       "\n",
       "[5 rows x 33 columns]"
      ]
     },
     "execution_count": 166,
     "metadata": {},
     "output_type": "execute_result"
    }
   ],
   "source": [
    "test_taste.head()"
   ]
  },
  {
   "cell_type": "markdown",
   "metadata": {},
   "source": [
    "### Parallel Coordinates Plot\n"
   ]
  },
  {
   "cell_type": "code",
   "execution_count": 167,
   "metadata": {},
   "outputs": [],
   "source": [
    "company1 = 'Ah Cacao'\n",
    "company2 = 'Zotter'\n"
   ]
  },
  {
   "cell_type": "code",
   "execution_count": 152,
   "metadata": {},
   "outputs": [
    {
     "data": {
      "text/plain": [
       "0           5150\n",
       "1           5150\n",
       "2           5150\n",
       "3       A. Morin\n",
       "4       A. Morin\n",
       "          ...   \n",
       "2207      Zotter\n",
       "2208      Zotter\n",
       "2210      Zotter\n",
       "2211      Zotter\n",
       "2212      Zotter\n",
       "Name: company, Length: 2074, dtype: object"
      ]
     },
     "execution_count": 152,
     "metadata": {},
     "output_type": "execute_result"
    }
   ],
   "source": [
    "data.company"
   ]
  },
  {
   "cell_type": "code",
   "execution_count": 153,
   "metadata": {},
   "outputs": [
    {
     "data": {
      "text/plain": [
       "['cocoa_percent', 'rating', 'counts_of_ingredients', 'count_tastes']"
      ]
     },
     "execution_count": 153,
     "metadata": {},
     "output_type": "execute_result"
    }
   ],
   "source": [
    "# feat_radar.append('count_tastes')\n",
    "# feat_radar"
   ]
  },
  {
   "cell_type": "code",
   "execution_count": 168,
   "metadata": {},
   "outputs": [],
   "source": [
    "parallel_coord = test_taste[test_taste['company'].isin([company1,company2])]"
   ]
  },
  {
   "cell_type": "code",
   "execution_count": 169,
   "metadata": {},
   "outputs": [],
   "source": [
    "filter_company = lambda x: 1 if x == company1 else 2"
   ]
  },
  {
   "cell_type": "code",
   "execution_count": 170,
   "metadata": {},
   "outputs": [],
   "source": [
    "parallel_coord['company_number'] = parallel_coord['company'].apply(filter_company)"
   ]
  },
  {
   "cell_type": "code",
   "execution_count": 171,
   "metadata": {},
   "outputs": [
    {
     "data": {
      "text/html": [
       "<div>\n",
       "<style scoped>\n",
       "    .dataframe tbody tr th:only-of-type {\n",
       "        vertical-align: middle;\n",
       "    }\n",
       "\n",
       "    .dataframe tbody tr th {\n",
       "        vertical-align: top;\n",
       "    }\n",
       "\n",
       "    .dataframe thead th {\n",
       "        text-align: right;\n",
       "    }\n",
       "</style>\n",
       "<table border=\"1\" class=\"dataframe\">\n",
       "  <thead>\n",
       "    <tr style=\"text-align: right;\">\n",
       "      <th></th>\n",
       "      <th>ref</th>\n",
       "      <th>company</th>\n",
       "      <th>company_location</th>\n",
       "      <th>review_date</th>\n",
       "      <th>country_of_bean_origin</th>\n",
       "      <th>specific_bean_origin_or_bar_name</th>\n",
       "      <th>cocoa_percent</th>\n",
       "      <th>rating</th>\n",
       "      <th>counts_of_ingredients</th>\n",
       "      <th>beans</th>\n",
       "      <th>...</th>\n",
       "      <th>country_y</th>\n",
       "      <th>bean_continent</th>\n",
       "      <th>bean_region</th>\n",
       "      <th>bean_code_2</th>\n",
       "      <th>binFirst_taste</th>\n",
       "      <th>binSecond_taste</th>\n",
       "      <th>binThird_taste</th>\n",
       "      <th>binFourth_taste</th>\n",
       "      <th>count_tastes</th>\n",
       "      <th>company_number</th>\n",
       "    </tr>\n",
       "  </thead>\n",
       "  <tbody>\n",
       "    <tr>\n",
       "      <th>42</th>\n",
       "      <td>316</td>\n",
       "      <td>Ah Cacao</td>\n",
       "      <td>Mexico</td>\n",
       "      <td>2009</td>\n",
       "      <td>Mexico</td>\n",
       "      <td>Tabasco</td>\n",
       "      <td>70.0</td>\n",
       "      <td>3.00</td>\n",
       "      <td>3</td>\n",
       "      <td>have_bean</td>\n",
       "      <td>...</td>\n",
       "      <td>Mexico</td>\n",
       "      <td>Americas</td>\n",
       "      <td>Central America</td>\n",
       "      <td>MX</td>\n",
       "      <td>1</td>\n",
       "      <td>1</td>\n",
       "      <td>1</td>\n",
       "      <td>0</td>\n",
       "      <td>3</td>\n",
       "      <td>1</td>\n",
       "    </tr>\n",
       "    <tr>\n",
       "      <th>2193</th>\n",
       "      <td>486</td>\n",
       "      <td>Zotter</td>\n",
       "      <td>Austria</td>\n",
       "      <td>2010</td>\n",
       "      <td>Brazil</td>\n",
       "      <td>Brazil, Mitzi Blue</td>\n",
       "      <td>65.0</td>\n",
       "      <td>3.00</td>\n",
       "      <td>4</td>\n",
       "      <td>have_bean</td>\n",
       "      <td>...</td>\n",
       "      <td>Brazil</td>\n",
       "      <td>Americas</td>\n",
       "      <td>South America</td>\n",
       "      <td>BR</td>\n",
       "      <td>1</td>\n",
       "      <td>1</td>\n",
       "      <td>0</td>\n",
       "      <td>0</td>\n",
       "      <td>2</td>\n",
       "      <td>2</td>\n",
       "    </tr>\n",
       "    <tr>\n",
       "      <th>2194</th>\n",
       "      <td>647</td>\n",
       "      <td>Zotter</td>\n",
       "      <td>Austria</td>\n",
       "      <td>2011</td>\n",
       "      <td>Peru</td>\n",
       "      <td>Peru</td>\n",
       "      <td>70.0</td>\n",
       "      <td>3.75</td>\n",
       "      <td>4</td>\n",
       "      <td>have_bean</td>\n",
       "      <td>...</td>\n",
       "      <td>Peru</td>\n",
       "      <td>Americas</td>\n",
       "      <td>South America</td>\n",
       "      <td>PE</td>\n",
       "      <td>1</td>\n",
       "      <td>1</td>\n",
       "      <td>1</td>\n",
       "      <td>0</td>\n",
       "      <td>3</td>\n",
       "      <td>2</td>\n",
       "    </tr>\n",
       "    <tr>\n",
       "      <th>2195</th>\n",
       "      <td>749</td>\n",
       "      <td>Zotter</td>\n",
       "      <td>Austria</td>\n",
       "      <td>2011</td>\n",
       "      <td>India</td>\n",
       "      <td>Kerala State</td>\n",
       "      <td>65.0</td>\n",
       "      <td>3.50</td>\n",
       "      <td>4</td>\n",
       "      <td>have_bean</td>\n",
       "      <td>...</td>\n",
       "      <td>India</td>\n",
       "      <td>Asia</td>\n",
       "      <td>Southern Asia</td>\n",
       "      <td>IN</td>\n",
       "      <td>1</td>\n",
       "      <td>1</td>\n",
       "      <td>1</td>\n",
       "      <td>0</td>\n",
       "      <td>3</td>\n",
       "      <td>2</td>\n",
       "    </tr>\n",
       "    <tr>\n",
       "      <th>2196</th>\n",
       "      <td>781</td>\n",
       "      <td>Zotter</td>\n",
       "      <td>Austria</td>\n",
       "      <td>2011</td>\n",
       "      <td>India</td>\n",
       "      <td>Kerala State</td>\n",
       "      <td>62.0</td>\n",
       "      <td>3.25</td>\n",
       "      <td>4</td>\n",
       "      <td>have_bean</td>\n",
       "      <td>...</td>\n",
       "      <td>India</td>\n",
       "      <td>Asia</td>\n",
       "      <td>Southern Asia</td>\n",
       "      <td>IN</td>\n",
       "      <td>1</td>\n",
       "      <td>1</td>\n",
       "      <td>1</td>\n",
       "      <td>1</td>\n",
       "      <td>4</td>\n",
       "      <td>2</td>\n",
       "    </tr>\n",
       "  </tbody>\n",
       "</table>\n",
       "<p>5 rows × 34 columns</p>\n",
       "</div>"
      ],
      "text/plain": [
       "      ref   company company_location  review_date country_of_bean_origin  \\\n",
       "42    316  Ah Cacao           Mexico         2009                 Mexico   \n",
       "2193  486    Zotter          Austria         2010                 Brazil   \n",
       "2194  647    Zotter          Austria         2011                   Peru   \n",
       "2195  749    Zotter          Austria         2011                  India   \n",
       "2196  781    Zotter          Austria         2011                  India   \n",
       "\n",
       "     specific_bean_origin_or_bar_name  cocoa_percent  rating  \\\n",
       "42                            Tabasco           70.0    3.00   \n",
       "2193               Brazil, Mitzi Blue           65.0    3.00   \n",
       "2194                             Peru           70.0    3.75   \n",
       "2195                     Kerala State           65.0    3.50   \n",
       "2196                     Kerala State           62.0    3.25   \n",
       "\n",
       "      counts_of_ingredients      beans  ... country_y bean_continent  \\\n",
       "42                        3  have_bean  ...    Mexico       Americas   \n",
       "2193                      4  have_bean  ...    Brazil       Americas   \n",
       "2194                      4  have_bean  ...      Peru       Americas   \n",
       "2195                      4  have_bean  ...     India           Asia   \n",
       "2196                      4  have_bean  ...     India           Asia   \n",
       "\n",
       "          bean_region bean_code_2 binFirst_taste binSecond_taste  \\\n",
       "42    Central America          MX              1               1   \n",
       "2193    South America          BR              1               1   \n",
       "2194    South America          PE              1               1   \n",
       "2195    Southern Asia          IN              1               1   \n",
       "2196    Southern Asia          IN              1               1   \n",
       "\n",
       "     binThird_taste binFourth_taste count_tastes company_number  \n",
       "42                1               0            3              1  \n",
       "2193              0               0            2              2  \n",
       "2194              1               0            3              2  \n",
       "2195              1               0            3              2  \n",
       "2196              1               1            4              2  \n",
       "\n",
       "[5 rows x 34 columns]"
      ]
     },
     "execution_count": 171,
     "metadata": {},
     "output_type": "execute_result"
    }
   ],
   "source": [
    "parallel_coord.head()"
   ]
  },
  {
   "cell_type": "code",
   "execution_count": 172,
   "metadata": {},
   "outputs": [
    {
     "data": {
      "application/vnd.plotly.v1+json": {
       "config": {
        "plotlyServerURL": "https://plot.ly"
       },
       "data": [
        {
         "dimensions": [
          {
           "label": "Percentage of Cocoa (%)",
           "values": [
            70,
            65,
            70,
            65,
            62,
            65,
            62,
            70,
            72,
            70,
            90,
            68,
            70,
            75,
            75,
            75,
            72,
            70
           ]
          },
          {
           "label": "Rating",
           "values": [
            3,
            3,
            3.75,
            3.5,
            3.25,
            3,
            3.75,
            3.75,
            3.5,
            3.5,
            3.25,
            3.25,
            3,
            3,
            3,
            3.75,
            3.5,
            3.25
           ]
          },
          {
           "label": "Number of Ingredients",
           "values": [
            3,
            4,
            4,
            4,
            4,
            4,
            4,
            4,
            4,
            4,
            4,
            4,
            4,
            4,
            4,
            3,
            3,
            3
           ]
          }
         ],
         "domain": {
          "x": [
           0,
           1
          ],
          "y": [
           0,
           1
          ]
         },
         "line": {
          "color": [
           1,
           2,
           2,
           2,
           2,
           2,
           2,
           2,
           2,
           2,
           2,
           2,
           2,
           2,
           2,
           2,
           2,
           2
          ],
          "coloraxis": "coloraxis"
         },
         "name": "",
         "type": "parcoords"
        }
       ],
       "layout": {
        "coloraxis": {
         "cmax": 3.5,
         "cmid": 2,
         "cmin": 0.5,
         "colorbar": {
          "len": 100,
          "lenmode": "pixels",
          "ticktext": [
           "Ah Cacao",
           "Zotter"
          ],
          "tickvals": [
           1,
           2
          ],
          "title": {
           "text": "Company"
          }
         },
         "colorscale": [
          [
           0,
           "#AB63FA"
          ],
          [
           0.5,
           "#AB63FA"
          ],
          [
           0.5,
           "#FFA15A"
          ],
          [
           1,
           "#FFA15A"
          ]
         ]
        },
        "legend": {
         "tracegroupgap": 0
        },
        "template": {
         "data": {
          "bar": [
           {
            "error_x": {
             "color": "#2a3f5f"
            },
            "error_y": {
             "color": "#2a3f5f"
            },
            "marker": {
             "line": {
              "color": "#E5ECF6",
              "width": 0.5
             },
             "pattern": {
              "fillmode": "overlay",
              "size": 10,
              "solidity": 0.2
             }
            },
            "type": "bar"
           }
          ],
          "barpolar": [
           {
            "marker": {
             "line": {
              "color": "#E5ECF6",
              "width": 0.5
             },
             "pattern": {
              "fillmode": "overlay",
              "size": 10,
              "solidity": 0.2
             }
            },
            "type": "barpolar"
           }
          ],
          "carpet": [
           {
            "aaxis": {
             "endlinecolor": "#2a3f5f",
             "gridcolor": "white",
             "linecolor": "white",
             "minorgridcolor": "white",
             "startlinecolor": "#2a3f5f"
            },
            "baxis": {
             "endlinecolor": "#2a3f5f",
             "gridcolor": "white",
             "linecolor": "white",
             "minorgridcolor": "white",
             "startlinecolor": "#2a3f5f"
            },
            "type": "carpet"
           }
          ],
          "choropleth": [
           {
            "colorbar": {
             "outlinewidth": 0,
             "ticks": ""
            },
            "type": "choropleth"
           }
          ],
          "contour": [
           {
            "colorbar": {
             "outlinewidth": 0,
             "ticks": ""
            },
            "colorscale": [
             [
              0,
              "#0d0887"
             ],
             [
              0.1111111111111111,
              "#46039f"
             ],
             [
              0.2222222222222222,
              "#7201a8"
             ],
             [
              0.3333333333333333,
              "#9c179e"
             ],
             [
              0.4444444444444444,
              "#bd3786"
             ],
             [
              0.5555555555555556,
              "#d8576b"
             ],
             [
              0.6666666666666666,
              "#ed7953"
             ],
             [
              0.7777777777777778,
              "#fb9f3a"
             ],
             [
              0.8888888888888888,
              "#fdca26"
             ],
             [
              1,
              "#f0f921"
             ]
            ],
            "type": "contour"
           }
          ],
          "contourcarpet": [
           {
            "colorbar": {
             "outlinewidth": 0,
             "ticks": ""
            },
            "type": "contourcarpet"
           }
          ],
          "heatmap": [
           {
            "colorbar": {
             "outlinewidth": 0,
             "ticks": ""
            },
            "colorscale": [
             [
              0,
              "#0d0887"
             ],
             [
              0.1111111111111111,
              "#46039f"
             ],
             [
              0.2222222222222222,
              "#7201a8"
             ],
             [
              0.3333333333333333,
              "#9c179e"
             ],
             [
              0.4444444444444444,
              "#bd3786"
             ],
             [
              0.5555555555555556,
              "#d8576b"
             ],
             [
              0.6666666666666666,
              "#ed7953"
             ],
             [
              0.7777777777777778,
              "#fb9f3a"
             ],
             [
              0.8888888888888888,
              "#fdca26"
             ],
             [
              1,
              "#f0f921"
             ]
            ],
            "type": "heatmap"
           }
          ],
          "heatmapgl": [
           {
            "colorbar": {
             "outlinewidth": 0,
             "ticks": ""
            },
            "colorscale": [
             [
              0,
              "#0d0887"
             ],
             [
              0.1111111111111111,
              "#46039f"
             ],
             [
              0.2222222222222222,
              "#7201a8"
             ],
             [
              0.3333333333333333,
              "#9c179e"
             ],
             [
              0.4444444444444444,
              "#bd3786"
             ],
             [
              0.5555555555555556,
              "#d8576b"
             ],
             [
              0.6666666666666666,
              "#ed7953"
             ],
             [
              0.7777777777777778,
              "#fb9f3a"
             ],
             [
              0.8888888888888888,
              "#fdca26"
             ],
             [
              1,
              "#f0f921"
             ]
            ],
            "type": "heatmapgl"
           }
          ],
          "histogram": [
           {
            "marker": {
             "pattern": {
              "fillmode": "overlay",
              "size": 10,
              "solidity": 0.2
             }
            },
            "type": "histogram"
           }
          ],
          "histogram2d": [
           {
            "colorbar": {
             "outlinewidth": 0,
             "ticks": ""
            },
            "colorscale": [
             [
              0,
              "#0d0887"
             ],
             [
              0.1111111111111111,
              "#46039f"
             ],
             [
              0.2222222222222222,
              "#7201a8"
             ],
             [
              0.3333333333333333,
              "#9c179e"
             ],
             [
              0.4444444444444444,
              "#bd3786"
             ],
             [
              0.5555555555555556,
              "#d8576b"
             ],
             [
              0.6666666666666666,
              "#ed7953"
             ],
             [
              0.7777777777777778,
              "#fb9f3a"
             ],
             [
              0.8888888888888888,
              "#fdca26"
             ],
             [
              1,
              "#f0f921"
             ]
            ],
            "type": "histogram2d"
           }
          ],
          "histogram2dcontour": [
           {
            "colorbar": {
             "outlinewidth": 0,
             "ticks": ""
            },
            "colorscale": [
             [
              0,
              "#0d0887"
             ],
             [
              0.1111111111111111,
              "#46039f"
             ],
             [
              0.2222222222222222,
              "#7201a8"
             ],
             [
              0.3333333333333333,
              "#9c179e"
             ],
             [
              0.4444444444444444,
              "#bd3786"
             ],
             [
              0.5555555555555556,
              "#d8576b"
             ],
             [
              0.6666666666666666,
              "#ed7953"
             ],
             [
              0.7777777777777778,
              "#fb9f3a"
             ],
             [
              0.8888888888888888,
              "#fdca26"
             ],
             [
              1,
              "#f0f921"
             ]
            ],
            "type": "histogram2dcontour"
           }
          ],
          "mesh3d": [
           {
            "colorbar": {
             "outlinewidth": 0,
             "ticks": ""
            },
            "type": "mesh3d"
           }
          ],
          "parcoords": [
           {
            "line": {
             "colorbar": {
              "outlinewidth": 0,
              "ticks": ""
             }
            },
            "type": "parcoords"
           }
          ],
          "pie": [
           {
            "automargin": true,
            "type": "pie"
           }
          ],
          "scatter": [
           {
            "marker": {
             "colorbar": {
              "outlinewidth": 0,
              "ticks": ""
             }
            },
            "type": "scatter"
           }
          ],
          "scatter3d": [
           {
            "line": {
             "colorbar": {
              "outlinewidth": 0,
              "ticks": ""
             }
            },
            "marker": {
             "colorbar": {
              "outlinewidth": 0,
              "ticks": ""
             }
            },
            "type": "scatter3d"
           }
          ],
          "scattercarpet": [
           {
            "marker": {
             "colorbar": {
              "outlinewidth": 0,
              "ticks": ""
             }
            },
            "type": "scattercarpet"
           }
          ],
          "scattergeo": [
           {
            "marker": {
             "colorbar": {
              "outlinewidth": 0,
              "ticks": ""
             }
            },
            "type": "scattergeo"
           }
          ],
          "scattergl": [
           {
            "marker": {
             "colorbar": {
              "outlinewidth": 0,
              "ticks": ""
             }
            },
            "type": "scattergl"
           }
          ],
          "scattermapbox": [
           {
            "marker": {
             "colorbar": {
              "outlinewidth": 0,
              "ticks": ""
             }
            },
            "type": "scattermapbox"
           }
          ],
          "scatterpolar": [
           {
            "marker": {
             "colorbar": {
              "outlinewidth": 0,
              "ticks": ""
             }
            },
            "type": "scatterpolar"
           }
          ],
          "scatterpolargl": [
           {
            "marker": {
             "colorbar": {
              "outlinewidth": 0,
              "ticks": ""
             }
            },
            "type": "scatterpolargl"
           }
          ],
          "scatterternary": [
           {
            "marker": {
             "colorbar": {
              "outlinewidth": 0,
              "ticks": ""
             }
            },
            "type": "scatterternary"
           }
          ],
          "surface": [
           {
            "colorbar": {
             "outlinewidth": 0,
             "ticks": ""
            },
            "colorscale": [
             [
              0,
              "#0d0887"
             ],
             [
              0.1111111111111111,
              "#46039f"
             ],
             [
              0.2222222222222222,
              "#7201a8"
             ],
             [
              0.3333333333333333,
              "#9c179e"
             ],
             [
              0.4444444444444444,
              "#bd3786"
             ],
             [
              0.5555555555555556,
              "#d8576b"
             ],
             [
              0.6666666666666666,
              "#ed7953"
             ],
             [
              0.7777777777777778,
              "#fb9f3a"
             ],
             [
              0.8888888888888888,
              "#fdca26"
             ],
             [
              1,
              "#f0f921"
             ]
            ],
            "type": "surface"
           }
          ],
          "table": [
           {
            "cells": {
             "fill": {
              "color": "#EBF0F8"
             },
             "line": {
              "color": "white"
             }
            },
            "header": {
             "fill": {
              "color": "#C8D4E3"
             },
             "line": {
              "color": "white"
             }
            },
            "type": "table"
           }
          ]
         },
         "layout": {
          "annotationdefaults": {
           "arrowcolor": "#2a3f5f",
           "arrowhead": 0,
           "arrowwidth": 1
          },
          "autotypenumbers": "strict",
          "coloraxis": {
           "colorbar": {
            "outlinewidth": 0,
            "ticks": ""
           }
          },
          "colorscale": {
           "diverging": [
            [
             0,
             "#8e0152"
            ],
            [
             0.1,
             "#c51b7d"
            ],
            [
             0.2,
             "#de77ae"
            ],
            [
             0.3,
             "#f1b6da"
            ],
            [
             0.4,
             "#fde0ef"
            ],
            [
             0.5,
             "#f7f7f7"
            ],
            [
             0.6,
             "#e6f5d0"
            ],
            [
             0.7,
             "#b8e186"
            ],
            [
             0.8,
             "#7fbc41"
            ],
            [
             0.9,
             "#4d9221"
            ],
            [
             1,
             "#276419"
            ]
           ],
           "sequential": [
            [
             0,
             "#0d0887"
            ],
            [
             0.1111111111111111,
             "#46039f"
            ],
            [
             0.2222222222222222,
             "#7201a8"
            ],
            [
             0.3333333333333333,
             "#9c179e"
            ],
            [
             0.4444444444444444,
             "#bd3786"
            ],
            [
             0.5555555555555556,
             "#d8576b"
            ],
            [
             0.6666666666666666,
             "#ed7953"
            ],
            [
             0.7777777777777778,
             "#fb9f3a"
            ],
            [
             0.8888888888888888,
             "#fdca26"
            ],
            [
             1,
             "#f0f921"
            ]
           ],
           "sequentialminus": [
            [
             0,
             "#0d0887"
            ],
            [
             0.1111111111111111,
             "#46039f"
            ],
            [
             0.2222222222222222,
             "#7201a8"
            ],
            [
             0.3333333333333333,
             "#9c179e"
            ],
            [
             0.4444444444444444,
             "#bd3786"
            ],
            [
             0.5555555555555556,
             "#d8576b"
            ],
            [
             0.6666666666666666,
             "#ed7953"
            ],
            [
             0.7777777777777778,
             "#fb9f3a"
            ],
            [
             0.8888888888888888,
             "#fdca26"
            ],
            [
             1,
             "#f0f921"
            ]
           ]
          },
          "colorway": [
           "#636efa",
           "#EF553B",
           "#00cc96",
           "#ab63fa",
           "#FFA15A",
           "#19d3f3",
           "#FF6692",
           "#B6E880",
           "#FF97FF",
           "#FECB52"
          ],
          "font": {
           "color": "#2a3f5f"
          },
          "geo": {
           "bgcolor": "white",
           "lakecolor": "white",
           "landcolor": "#E5ECF6",
           "showlakes": true,
           "showland": true,
           "subunitcolor": "white"
          },
          "hoverlabel": {
           "align": "left"
          },
          "hovermode": "closest",
          "mapbox": {
           "style": "light"
          },
          "paper_bgcolor": "white",
          "plot_bgcolor": "#E5ECF6",
          "polar": {
           "angularaxis": {
            "gridcolor": "white",
            "linecolor": "white",
            "ticks": ""
           },
           "bgcolor": "#E5ECF6",
           "radialaxis": {
            "gridcolor": "white",
            "linecolor": "white",
            "ticks": ""
           }
          },
          "scene": {
           "xaxis": {
            "backgroundcolor": "#E5ECF6",
            "gridcolor": "white",
            "gridwidth": 2,
            "linecolor": "white",
            "showbackground": true,
            "ticks": "",
            "zerolinecolor": "white"
           },
           "yaxis": {
            "backgroundcolor": "#E5ECF6",
            "gridcolor": "white",
            "gridwidth": 2,
            "linecolor": "white",
            "showbackground": true,
            "ticks": "",
            "zerolinecolor": "white"
           },
           "zaxis": {
            "backgroundcolor": "#E5ECF6",
            "gridcolor": "white",
            "gridwidth": 2,
            "linecolor": "white",
            "showbackground": true,
            "ticks": "",
            "zerolinecolor": "white"
           }
          },
          "shapedefaults": {
           "line": {
            "color": "#2a3f5f"
           }
          },
          "ternary": {
           "aaxis": {
            "gridcolor": "white",
            "linecolor": "white",
            "ticks": ""
           },
           "baxis": {
            "gridcolor": "white",
            "linecolor": "white",
            "ticks": ""
           },
           "bgcolor": "#E5ECF6",
           "caxis": {
            "gridcolor": "white",
            "linecolor": "white",
            "ticks": ""
           }
          },
          "title": {
           "x": 0.05
          },
          "xaxis": {
           "automargin": true,
           "gridcolor": "white",
           "linecolor": "white",
           "ticks": "",
           "title": {
            "standoff": 15
           },
           "zerolinecolor": "white",
           "zerolinewidth": 2
          },
          "yaxis": {
           "automargin": true,
           "gridcolor": "white",
           "linecolor": "white",
           "ticks": "",
           "title": {
            "standoff": 15
           },
           "zerolinecolor": "white",
           "zerolinewidth": 2
          }
         }
        },
        "title": {
         "text": "Comparison between Ah Cacao and Zotter"
        }
       }
      }
     },
     "metadata": {},
     "output_type": "display_data"
    }
   ],
   "source": [
    "fig = px.parallel_coordinates(parallel_coord,\n",
    "                              dimensions = feat_radar,\n",
    "                              color= parallel_coord['company_number'],\n",
    "                              range_color=[0.5, 3.5],\n",
    "                              color_continuous_scale=[(0.00, '#AB63FA'),   (0.5,'#AB63FA'),\n",
    "                                                     (0.5, '#FFA15A'), (1, '#FFA15A')],\n",
    "                              labels={\"cocoa_percent\": \"Percentage of Cocoa (%)\", \n",
    "                                      \"rating\": \"Rating\",\n",
    "                                      \"counts_of_ingredients\": \"Number of Ingredients\", \n",
    "                                      \"count_tastes\": \"Number of Tastes\"},\n",
    "                             color_continuous_midpoint=2,\n",
    "                             title = f\"Comparison between {company1} and {company2}\"\n",
    "                             )\n",
    "fig.update_layout(\n",
    "    coloraxis_colorbar=dict(\n",
    "    title=\"Company\",\n",
    "    tickvals=[1,2],\n",
    "    ticktext=[company1,company2],\n",
    "    lenmode=\"pixels\", len=100\n",
    "))\n",
    "fig.show()\n"
   ]
  }
 ],
 "metadata": {
  "interpreter": {
   "hash": "0a2e937febbe5477c28200cac54be2d2da4f3456b8c1b7f6ca2a37fc549e7fbf"
  },
  "kernelspec": {
   "display_name": "Python 3 (ipykernel)",
   "language": "python",
   "name": "python3"
  },
  "language_info": {
   "codemirror_mode": {
    "name": "ipython",
    "version": 3
   },
   "file_extension": ".py",
   "mimetype": "text/x-python",
   "name": "python",
   "nbconvert_exporter": "python",
   "pygments_lexer": "ipython3",
   "version": "3.8.12"
  }
 },
 "nbformat": 4,
 "nbformat_minor": 2
}
