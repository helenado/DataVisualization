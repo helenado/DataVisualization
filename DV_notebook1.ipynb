{
 "cells": [
  {
   "cell_type": "code",
   "execution_count": 1,
   "metadata": {},
   "outputs": [],
   "source": [
    "import pandas as pd\n",
    "import plotly \n",
    "import numpy as np\n",
    "import plotly.figure_factory as ff\n",
    "import scipy\n",
    "import plotly.graph_objects as go\n",
    "import dash\n",
    "from dash import Dash, dcc, html, Input, Output\n",
    "import plotly.express as px\n",
    "import matplotlib.pyplot as plt\n",
    "import matplotlib.colors as mc\n",
    "import matplotlib.cm as cmx\n",
    "import plotly.graph_objs as go\n",
    "from plotly.graph_objs import *\n",
    "from plotly.offline import plot\n",
    "import random\n",
    "import dash_bootstrap_components as dbc\n",
    "import urllib.request, json \n",
    "import dash_daq as daq\n",
    "\n",
    "#pip install scipy\n",
    "#!pip install Dash"
   ]
  },
  {
   "cell_type": "code",
   "execution_count": 2,
   "metadata": {},
   "outputs": [],
   "source": [
    "# Import data\n",
    "\n",
    "data = pd.read_csv('chocolate.csv')\n",
    "continent = pd.read_csv('countryContinent.csv',encoding = \"ISO-8859-1\")\n",
    "imp_exp=pd.read_csv('UNdata_Export_20220301_151116452.csv')\n",
    "coord = pd.read_csv('country_points.csv', encoding = \"ISO-8859-1\")\n"
   ]
  },
  {
   "cell_type": "code",
   "execution_count": 3,
   "metadata": {},
   "outputs": [],
   "source": [
    "imp_exp=imp_exp[imp_exp['Commodity']=='Cocoa beans, whole or broken, raw or roasted'][['Country or Area','Year','Commodity','Flow','Quantity','Trade (USD)']]"
   ]
  },
  {
   "cell_type": "code",
   "execution_count": 4,
   "metadata": {},
   "outputs": [],
   "source": [
    "# Prepare the data for the merge\n",
    "data[\"company_location\"] = data[\"company_location\"].str.title()\n",
    "data[\"country_of_bean_origin\"] = data[\"country_of_bean_origin\"].str.title()\n",
    "data[\"company_location\"].replace({'U.S.A': 'United States of America','U.K.':'United Kingdom of Great Britain and Northern Ireland','Dominican republic':'Dominican Republic','El salvador':'El Salvador','Vietnam':'Viet Nam','Venezuela':'Venezuela (Bolivarian Republic of)','South Korea':'Korea (Republic of)','New Zealand':'New Zealand','Russia':'Russian Federation','Taiwan':'Taiwan, Province of China','Sao Tome':'Sao Tome and Principe','Sao Tome & Principe':'Sao Tome and Principe','St. Lucia':'Saint Lucia','U.A.E.':'United Arab Emirates','St.Vincent-Grenadines':'Saint Vincent and the Grenadines','Bolivia':'Bolivia (Plurinational State of)'}, inplace=True)\n",
    "data[\"country_of_bean_origin\"].replace({'U.S.A': 'United States of America','U.K.':'United Kingdom of Great Britain and Northern Ireland','Dominican republic':'Dominican Republic','El salvador':'El Salvador','Vietnam':'Viet Nam','Venezuela':'Venezuela (Bolivarian Republic of)','South Korea':'Korea (Republic of)','New Zealand':'New Zealand','Russia':'Russian Federation','Taiwan':'Taiwan, Province of China','Sao Tome':'Sao Tome and Principe','Sao Tome & Principe':'Sao Tome and Principe','St. Lucia':'Saint Lucia','U.A.E.':'United Arab Emirates','St.Vincent-Grenadines':'Saint Vincent and the Grenadines','Bolivia':'Bolivia (Plurinational State of)','Burma':'Myanmar','Tanzania':'Tanzania, United Republic of','Trinidad':'Trinidad and Tobago','Dr Congo':'Congo (Democratic Republic of the)'}, inplace=True)"
   ]
  },
  {
   "cell_type": "code",
   "execution_count": 5,
   "metadata": {},
   "outputs": [],
   "source": [
    "# removing Unnamed:0\n",
    "data=data.iloc[:,1:]"
   ]
  },
  {
   "cell_type": "code",
   "execution_count": 6,
   "metadata": {},
   "outputs": [],
   "source": [
    "teste=data.merge(continent[['country','continent','sub_region','code_2']].rename(columns={'continent':'company_continent','sub_region':'company_region','code_2':'company_code_2'}), left_on='company_location', right_on='country', how='left')"
   ]
  },
  {
   "cell_type": "code",
   "execution_count": 7,
   "metadata": {},
   "outputs": [
    {
     "data": {
      "text/plain": [
       "<bound method IndexOpsMixin.value_counts of 193        Wales\n",
       "486     Scotland\n",
       "487     Scotland\n",
       "488     Scotland\n",
       "489     Scotland\n",
       "490     Scotland\n",
       "491     Scotland\n",
       "1083    Scotland\n",
       "1084    Scotland\n",
       "1513    Scotland\n",
       "1514    Scotland\n",
       "Name: company_location, dtype: object>"
      ]
     },
     "execution_count": 7,
     "metadata": {},
     "output_type": "execute_result"
    }
   ],
   "source": [
    "teste[teste['company_continent'].isna()]['company_location'].value_counts"
   ]
  },
  {
   "cell_type": "code",
   "execution_count": 8,
   "metadata": {},
   "outputs": [],
   "source": [
    "teste=teste[teste['company_location']!= 'Scotland']"
   ]
  },
  {
   "cell_type": "code",
   "execution_count": 9,
   "metadata": {},
   "outputs": [],
   "source": [
    "teste=teste.merge(continent[['country','continent','sub_region','code_2']].rename(columns={'continent':'bean_continent','sub_region':'bean_region','code_2':'bean_code_2'}), left_on='country_of_bean_origin', right_on='country', how='left')"
   ]
  },
  {
   "cell_type": "code",
   "execution_count": 10,
   "metadata": {},
   "outputs": [
    {
     "data": {
      "text/plain": [
       "<bound method IndexOpsMixin.value_counts of 88      Blend\n",
       "92      Blend\n",
       "96      Blend\n",
       "100     Blend\n",
       "177     Blend\n",
       "        ...  \n",
       "2188    Blend\n",
       "2201    Blend\n",
       "2203    Blend\n",
       "2209    Blend\n",
       "2213    Blend\n",
       "Name: country_of_bean_origin, Length: 177, dtype: object>"
      ]
     },
     "execution_count": 10,
     "metadata": {},
     "output_type": "execute_result"
    }
   ],
   "source": [
    "teste[teste['bean_continent'].isna()]['country_of_bean_origin'].value_counts"
   ]
  },
  {
   "cell_type": "code",
   "execution_count": 11,
   "metadata": {},
   "outputs": [],
   "source": [
    "teste=teste[teste['country_of_bean_origin']!= 'Blend']"
   ]
  },
  {
   "cell_type": "code",
   "execution_count": 12,
   "metadata": {},
   "outputs": [],
   "source": [
    "data=teste"
   ]
  },
  {
   "cell_type": "code",
   "execution_count": 13,
   "metadata": {},
   "outputs": [],
   "source": [
    "data1=data.groupby(by=['company']).mean()\n"
   ]
  },
  {
   "cell_type": "code",
   "execution_count": 14,
   "metadata": {},
   "outputs": [],
   "source": [
    "imp_exp_regions = imp_exp.merge(continent[['country','continent','sub_region','code_2']].rename(columns={'sub_region':'region'}), left_on = 'Country or Area', right_on= 'country', how= 'left')"
   ]
  },
  {
   "cell_type": "markdown",
   "metadata": {},
   "source": [
    "### TREEMAP\n"
   ]
  },
  {
   "cell_type": "code",
   "execution_count": 15,
   "metadata": {},
   "outputs": [
    {
     "data": {
      "text/html": [
       "<div>\n",
       "<style scoped>\n",
       "    .dataframe tbody tr th:only-of-type {\n",
       "        vertical-align: middle;\n",
       "    }\n",
       "\n",
       "    .dataframe tbody tr th {\n",
       "        vertical-align: top;\n",
       "    }\n",
       "\n",
       "    .dataframe thead th {\n",
       "        text-align: right;\n",
       "    }\n",
       "</style>\n",
       "<table border=\"1\" class=\"dataframe\">\n",
       "  <thead>\n",
       "    <tr style=\"text-align: right;\">\n",
       "      <th></th>\n",
       "      <th>Country or Area</th>\n",
       "      <th>Year</th>\n",
       "      <th>Commodity</th>\n",
       "      <th>Flow</th>\n",
       "      <th>Quantity</th>\n",
       "      <th>Trade (USD)</th>\n",
       "      <th>country</th>\n",
       "      <th>continent</th>\n",
       "      <th>region</th>\n",
       "      <th>code_2</th>\n",
       "    </tr>\n",
       "  </thead>\n",
       "  <tbody>\n",
       "  </tbody>\n",
       "</table>\n",
       "</div>"
      ],
      "text/plain": [
       "Empty DataFrame\n",
       "Columns: [Country or Area, Year, Commodity, Flow, Quantity, Trade (USD), country, continent, region, code_2]\n",
       "Index: []"
      ]
     },
     "execution_count": 15,
     "metadata": {},
     "output_type": "execute_result"
    }
   ],
   "source": [
    "imp_exp_regions.loc[(imp_exp_regions['continent']=='nan') & (imp_exp_regions['Country or Area']!='nan')]"
   ]
  },
  {
   "cell_type": "code",
   "execution_count": 16,
   "metadata": {},
   "outputs": [
    {
     "data": {
      "text/plain": [
       "0"
      ]
     },
     "execution_count": 16,
     "metadata": {},
     "output_type": "execute_result"
    }
   ],
   "source": [
    "imp_exp_regions['Country or Area'].isna().sum()"
   ]
  },
  {
   "cell_type": "code",
   "execution_count": 17,
   "metadata": {},
   "outputs": [
    {
     "data": {
      "text/plain": [
       "648"
      ]
     },
     "execution_count": 17,
     "metadata": {},
     "output_type": "execute_result"
    }
   ],
   "source": [
    "imp_exp_regions['continent'].isna().sum()\n",
    "#imp_exp_regions[imp_exp_regions['Quantity'].isna()==True]"
   ]
  },
  {
   "cell_type": "code",
   "execution_count": 18,
   "metadata": {},
   "outputs": [],
   "source": [
    "imp_exp_regions= imp_exp_regions[~(imp_exp_regions['Flow'] == 'Re-Export')]\n",
    "imp_exp_regions= imp_exp_regions[~(imp_exp_regions['Flow'] == 'Re-Import')]"
   ]
  },
  {
   "cell_type": "code",
   "execution_count": 19,
   "metadata": {},
   "outputs": [
    {
     "data": {
      "text/plain": [
       "0         130\n",
       "1        4524\n",
       "2          45\n",
       "3         262\n",
       "4        1606\n",
       "        ...  \n",
       "5053       79\n",
       "5054      221\n",
       "5055      934\n",
       "5056    14942\n",
       "5057        9\n",
       "Name: Quantity, Length: 4898, dtype: int32"
      ]
     },
     "execution_count": 19,
     "metadata": {},
     "output_type": "execute_result"
    }
   ],
   "source": [
    "imp_exp_regions[\"Quantity\"]= imp_exp_regions[\"Quantity\"].fillna(imp_exp_regions.groupby('Country or Area')['Quantity'].transform('mean'))\n",
    "\n",
    "imp_exp_regions['Quantity'].astype(int)"
   ]
  },
  {
   "cell_type": "code",
   "execution_count": 20,
   "metadata": {},
   "outputs": [],
   "source": [
    "imp_exp_regions=imp_exp_regions[imp_exp_regions['Country or Area'].isnull()!= True] #removing nulls from Country or Area Column\n"
   ]
  },
  {
   "cell_type": "code",
   "execution_count": 21,
   "metadata": {},
   "outputs": [],
   "source": [
    "imp_exp_regions.loc[imp_exp_regions['Country or Area'] == 'State of Palestine', 'continent'] = 'Asia'\n",
    "imp_exp_regions.loc[imp_exp_regions['Country or Area'] == 'Wallis and Futuna Isds', 'continent'] = 'Oceania'\n",
    "imp_exp_regions.loc[imp_exp_regions['Country or Area'] == 'Wallis and Futuna Isds','region'] = 'Polynesia'\n",
    "imp_exp_regions.loc[imp_exp_regions['Country or Area'] == 'Venezuela', 'continent'] = 'Americas'\n",
    "imp_exp_regions.loc[imp_exp_regions['Country or Area'] == 'Venezuela','region'] = 'Southern America'\n",
    "imp_exp_regions.loc[imp_exp_regions['Country or Area'] == 'United Rep. of Tanzania', 'continent'] = 'Africa'\n",
    "imp_exp_regions.loc[imp_exp_regions['Country or Area'] == 'United Rep. of Tanzania','region'] = 'Eastern Africa'\n",
    "imp_exp_regions.loc[imp_exp_regions['Country or Area'] == 'United Rep. of Tanzania','country'] = 'Tanzania'\n",
    "imp_exp_regions.loc[imp_exp_regions['Country or Area'] == 'United Kingdom', 'continent'] = 'Europe'\n",
    "imp_exp_regions.loc[imp_exp_regions['Country or Area'] == 'United Kingdom','region'] = 'Northern Europe'\n",
    "imp_exp_regions.loc[imp_exp_regions['Country or Area'] == 'USA', 'continent'] = 'Americas'\n",
    "imp_exp_regions.loc[imp_exp_regions['Country or Area'] == 'USA','region'] = 'Northern America'\n",
    "imp_exp_regions.loc[imp_exp_regions['Country or Area'] == 'USA','country'] = 'United States of America'\n",
    "imp_exp_regions.loc[imp_exp_regions['Country or Area'] == 'Turks and Caicos Isds', 'continent'] = 'Americas'\n",
    "imp_exp_regions.loc[imp_exp_regions['Country or Area'] == 'Turks and Caicos Isds','region'] = 'Central America'\n",
    "imp_exp_regions.loc[imp_exp_regions['Country or Area'] == 'TFYR of Macedonia', 'continent'] = 'Europe'\n",
    "imp_exp_regions.loc[imp_exp_regions['Country or Area'] == 'TFYR of Macedonia','region'] = 'Southern Europe'\n",
    "imp_exp_regions.loc[imp_exp_regions['Country or Area'] == 'TFYR of Macedonia','country'] = 'Macedonia'\n",
    "imp_exp_regions.loc[imp_exp_regions['Country or Area'] == 'Syria', 'continent'] = 'Asia'\n",
    "imp_exp_regions.loc[imp_exp_regions['Country or Area'] == 'Syria','region'] = 'Western Asia'\n",
    "imp_exp_regions.loc[imp_exp_regions['Country or Area'] == 'Solomon Isds', 'continent'] = 'Oceania'\n",
    "imp_exp_regions.loc[imp_exp_regions['Country or Area'] == 'Solomon Isds','region'] = 'Australia and New Zealand'\n",
    "imp_exp_regions.loc[imp_exp_regions['Country or Area'] == 'Serbia and Montenegro', 'continent'] = 'Europe'\n",
    "imp_exp_regions.loc[imp_exp_regions['Country or Area'] == 'Serbia and Montenegro','region'] = 'Southern Europe'\n",
    "imp_exp_regions.loc[imp_exp_regions['Country or Area'] == 'Rep. of Moldova', 'continent'] = 'Europe'\n",
    "imp_exp_regions.loc[imp_exp_regions['Country or Area'] == 'Rep. of Moldova','region'] = 'Eastern Europe'\n",
    "imp_exp_regions.loc[imp_exp_regions['Country or Area'] == 'Rep. of Moldova','country'] = 'Moldova'\n",
    "imp_exp_regions.loc[imp_exp_regions['Country or Area'] == 'Rep. of Korea', 'continent'] = 'Asia'\n",
    "imp_exp_regions.loc[imp_exp_regions['Country or Area'] == 'Rep. of Korea','region'] = 'Eastern Asia'\n",
    "imp_exp_regions.loc[imp_exp_regions['Country or Area'] == 'Rep. of Korea','country'] = 'South Korea'\n",
    "imp_exp_regions.loc[imp_exp_regions['Country or Area'] == 'Other Asia, nes', 'continent'] = 'Asia'\n",
    "imp_exp_regions.loc[imp_exp_regions['Country or Area'] == 'Other Asia, nes','region'] = 'Other'\n",
    "imp_exp_regions.loc[imp_exp_regions['Country or Area'] == 'Neth. Antilles', 'continent'] = 'Americas'\n",
    "imp_exp_regions.loc[imp_exp_regions['Country or Area'] == 'Neth. Antilles','region'] = 'Caribbean'\n",
    "imp_exp_regions.loc[imp_exp_regions['Country or Area'] == 'Lao People\\'s Dem. Rep.', 'continent'] = 'Asia'\n",
    "imp_exp_regions.loc[imp_exp_regions['Country or Area'] == 'Lao People\\'s Dem. Rep.','region'] = 'South-Eastern Asia'\n",
    "imp_exp_regions.loc[imp_exp_regions['Country or Area'] == 'Lao People\\'s Dem. Rep.','country'] = 'Laos'\n",
    "imp_exp_regions.loc[imp_exp_regions['Country or Area'] == 'Iran', 'continent'] = 'Asia'\n",
    "imp_exp_regions.loc[imp_exp_regions['Country or Area'] == 'Iran','region'] = 'South-Western Asia'\n",
    "imp_exp_regions.loc[imp_exp_regions['Country or Area'] == 'Fmr Fed. Rep. of Germany', 'continent'] = 'Europe'\n",
    "imp_exp_regions.loc[imp_exp_regions['Country or Area'] == 'Fmr Fed. Rep. of Germany','region'] = 'Central Europe'\n",
    "imp_exp_regions.loc[imp_exp_regions['Country or Area'] == 'Fmr Fed. Rep. of Germany','country'] = 'Germany'\n",
    "imp_exp_regions.loc[imp_exp_regions['Country or Area'] == 'Faeroe Isds', 'continent'] = 'Europe'\n",
    "imp_exp_regions.loc[imp_exp_regions['Country or Area'] == 'Faeroe Isds', 'region'] = 'Northern Europe'\n",
    "imp_exp_regions.loc[imp_exp_regions['Country or Area'] == 'FS Micronesia', 'continent'] = 'Oceania'\n",
    "imp_exp_regions.loc[imp_exp_regions['Country or Area'] == 'FS Micronesia', 'region'] = 'Micronesia'\n",
    "imp_exp_regions.loc[imp_exp_regions['Country or Area'] == 'Czech Rep.', 'continent'] = 'Europe'\n",
    "imp_exp_regions.loc[imp_exp_regions['Country or Area'] == 'Czech Rep.', 'region'] = 'Central Europe'\n",
    "imp_exp_regions.loc[imp_exp_regions['Country or Area'] == 'Bosnia Herzegovina', 'continent'] = 'Europe'\n",
    "imp_exp_regions.loc[imp_exp_regions['Country or Area'] == 'Bosnia Herzegovina', 'region'] = 'Southern Europe'\n",
    "imp_exp_regions.loc[imp_exp_regions['Country or Area'] == 'Central African Rep.', 'continent'] = 'Africa'\n",
    "imp_exp_regions.loc[imp_exp_regions['Country or Area'] == 'Central African Rep.', 'region'] = 'Middle Africa'\n",
    "imp_exp_regions.loc[imp_exp_regions['Country or Area'] == 'China, Hong Kong SAR', 'continent'] = 'Asia'\n",
    "imp_exp_regions.loc[imp_exp_regions['Country or Area'] == 'China, Hong Kong SAR', 'region'] = 'Eastern Asia'\n",
    "imp_exp_regions.loc[imp_exp_regions['Country or Area'] == 'China, Macao SAR', 'continent'] = 'Asia'\n",
    "imp_exp_regions.loc[imp_exp_regions['Country or Area'] == 'China, Macao SAR', 'region'] = 'Eastern Asia'\n",
    "imp_exp_regions.loc[imp_exp_regions['Country or Area'] == 'Cook Isds', 'continent'] = 'Oceania'\n",
    "imp_exp_regions.loc[imp_exp_regions['Country or Area'] == 'Cook Isds', 'region'] = 'Polynesia'\n",
    "imp_exp_regions.loc[imp_exp_regions['Country or Area'] == 'Dominican Rep.', 'continent'] = 'Americas'\n",
    "imp_exp_regions.loc[imp_exp_regions['Country or Area'] == 'Dominican Rep.', 'region'] = 'Caribbean'\n",
    "imp_exp_regions.loc[imp_exp_regions['Country or Area'] == 'Fmr Sudan', 'continent'] = 'Africa'\n",
    "imp_exp_regions.loc[imp_exp_regions['Country or Area'] == 'Fmr Sudan','region'] = 'Northern Africa'\n",
    "imp_exp_regions.loc[imp_exp_regions['Country or Area'] == 'Fmr Sudan','country'] = 'Sudan'\n",
    "\n",
    "imp_exp_regions= imp_exp_regions[~(imp_exp_regions['Country or Area'] == 'Belgium-Luxembourg')]\n",
    "\n",
    "imp_exp_regions= imp_exp_regions[~(imp_exp_regions['Country or Area'] == 'EU-28')]\n",
    "imp_exp_regions= imp_exp_regions[~(imp_exp_regions['Country or Area'] == 'So. African Customs Union')]\n",
    "imp_exp_regions= imp_exp_regions[~(imp_exp_regions['Country or Area'] == 'China, Hong Kong SAR')]\n"
   ]
  },
  {
   "cell_type": "code",
   "execution_count": 22,
   "metadata": {},
   "outputs": [],
   "source": [
    "flows_df=imp_exp_regions.drop(columns=['country', 'code_2','region'])"
   ]
  },
  {
   "cell_type": "code",
   "execution_count": 23,
   "metadata": {},
   "outputs": [],
   "source": [
    "#convert data type and sort the data by Year\n",
    "flows_df=flows_df.sort_values(by=['Year'])"
   ]
  },
  {
   "cell_type": "code",
   "execution_count": 24,
   "metadata": {},
   "outputs": [],
   "source": [
    "flows_df=flows_df.dropna(how='any')"
   ]
  },
  {
   "cell_type": "code",
   "execution_count": 25,
   "metadata": {},
   "outputs": [],
   "source": [
    "#flows_df[flows_df['Quantity']<= 0]\n",
    "flows_df= flows_df[~(flows_df['Quantity'] <= 0)] "
   ]
  },
  {
   "cell_type": "code",
   "execution_count": 26,
   "metadata": {},
   "outputs": [],
   "source": [
    "#delete years until all continents have value for exports and imports\n",
    "\n",
    "flows_df=flows_df[flows_df['Year']!=1988]\n",
    "flows_df=flows_df[flows_df['Year']!=1989]\n",
    "flows_df=flows_df[flows_df['Year']!=1990]"
   ]
  },
  {
   "cell_type": "code",
   "execution_count": 27,
   "metadata": {},
   "outputs": [],
   "source": [
    "tree_variables = [\n",
    "                    {'label': 'Quantity', 'value': 'Quantity'},\n",
    "                    {'label': 'Trade (USD)', 'value': 'Trade (USD)'}\n",
    "                 ]\n",
    "\n",
    "tree_flows_Dict = [\n",
    "                    {'label': 'Export', 'value': 'Export'},\n",
    "                    {'label': 'Import', 'value': 'Import'}\n",
    "                 ]"
   ]
  },
  {
   "cell_type": "markdown",
   "metadata": {},
   "source": [
    "# ----- Helena\n"
   ]
  },
  {
   "cell_type": "code",
   "execution_count": 28,
   "metadata": {},
   "outputs": [],
   "source": [
    "\n",
    "ingredients = [\n",
    "    {'label': 'Has Sugar', 'value': 'have_sugar'},\n",
    "    {'label': 'Has not Sugar', 'value': 'have_not_sugar'},\n",
    "    {'label': 'Has Vanilla', 'value': 'have_vanila'},\n",
    "    {'label': 'Has not Vanilla', 'value': 'have_not_vanila'},\n",
    "    {'label': 'Has Salt', 'value': 'have_salt'},\n",
    "    {'label': 'Has not Salt', 'value': 'have_not_salt'},\n",
    "    {'label': 'Has Lecithin', 'value': 'have_lecithin'},\n",
    "    {'label': 'Has not Lecithin', 'value': 'have_not_lecithin'}\n",
    "]\n"
   ]
  },
  {
   "cell_type": "code",
   "execution_count": 29,
   "metadata": {},
   "outputs": [],
   "source": [
    "# @app.callback(\n",
    "   \n",
    "#    [Output(\"name_company_id\", \"children\"),\n",
    "#     Output(\"rating_id\", \"children\"),\n",
    "#     Output(\"country_id\", \"children\"),\n",
    "#     Output('graph1', 'figure')],\n",
    "   \n",
    "#     [Input('drop_id', 'value'),\n",
    "#      Input('percent_id','value')] )\n",
    "\n",
    "# def update_graph(drop_id,percent_id):\n",
    "    \n",
    "#     filtered=data\n",
    "#     for each in drop_id:\n",
    "#         filtered=filtered[filtered.isin([each]).any(1)] \n",
    "    \n",
    "#     filtered = filtered[(filtered['cocoa_percent'] >= percent_id[0]) & (filtered['cocoa_percent'] <= percent_id[1])]\n",
    "\n",
    "#     # maxi=np.max(filtered['rating'])\n",
    "#     # filtered=filtered[filtered['rating']==maxi]\n",
    "    \n",
    "#     data_inter = dict(type='bar', x=filtered['company'], y=filtered['rating'])\n",
    "   \n",
    "#     layout_1 = dict(xaxis=dict(title='Companies'),\n",
    "#                    yaxis=dict(title='Ratings'))\n",
    "    \n",
    "#     fig = go.Figure(data=data_inter, layout=layout_1)  \n",
    "\n",
    "#     if filtered.empty:\n",
    "#         name_company = 'No company was found'\n",
    "#         rating = 'No rating was found'\n",
    "#         country= 'No country was found'\n",
    "        \n",
    "#     else:\n",
    "#         name_company=str(filtered.head(1)['company'].values[0])\n",
    "#         rating=str(filtered.head(1)['rating'].values[0])\n",
    "#         country=str(filtered.head(1)['company_location'].values[0])\n",
    "    \n",
    "#     return name_company ,  \\\n",
    "#            rating , \\\n",
    "#            country , \\\n",
    "#            fig\n",
    "\n",
    "# if __name__ == '__main__':\n",
    "#     app.run_server(debug=True, use_reloader=False)"
   ]
  },
  {
   "cell_type": "markdown",
   "metadata": {},
   "source": [
    "# ------- Filipa\n"
   ]
  },
  {
   "cell_type": "markdown",
   "metadata": {},
   "source": [
    "### Column count_tastes\n"
   ]
  },
  {
   "cell_type": "code",
   "execution_count": 30,
   "metadata": {},
   "outputs": [],
   "source": [
    "test_taste = data"
   ]
  },
  {
   "cell_type": "code",
   "execution_count": 31,
   "metadata": {},
   "outputs": [],
   "source": [
    "test_taste['first_taste'].fillna(value = 0, inplace = True)\n",
    "test_taste['second_taste'].fillna(value = 0, inplace = True)\n",
    "test_taste['third_taste'].fillna(value = 0, inplace = True)\n",
    "test_taste['fourth_taste'].fillna(value = 0, inplace = True)"
   ]
  },
  {
   "cell_type": "code",
   "execution_count": 32,
   "metadata": {},
   "outputs": [],
   "source": [
    "#taste = lambda x: 1 if x.isna() == False else 0\n",
    "taste = lambda x: 1 if x != 0 else x"
   ]
  },
  {
   "cell_type": "code",
   "execution_count": 33,
   "metadata": {},
   "outputs": [],
   "source": [
    "test_taste['binFirst_taste'] = test_taste['first_taste'].apply(taste)\n",
    "test_taste['binSecond_taste'] = test_taste['second_taste'].apply(taste)\n",
    "test_taste['binThird_taste'] = test_taste['third_taste'].apply(taste)\n",
    "test_taste['binFourth_taste'] = test_taste['fourth_taste'].apply(taste)"
   ]
  },
  {
   "cell_type": "code",
   "execution_count": 34,
   "metadata": {},
   "outputs": [],
   "source": [
    "test_taste['count_tastes'] = test_taste['binFirst_taste'] + test_taste['binSecond_taste'] + test_taste['binThird_taste'] + test_taste['binFourth_taste']"
   ]
  },
  {
   "cell_type": "markdown",
   "metadata": {},
   "source": [
    "### Radar Plot\n"
   ]
  },
  {
   "cell_type": "code",
   "execution_count": 35,
   "metadata": {
    "scrolled": true
   },
   "outputs": [],
   "source": [
    "feat_radar = ['cocoa_percent', 'rating', 'counts_of_ingredients', 'count_tastes']"
   ]
  },
  {
   "cell_type": "code",
   "execution_count": 36,
   "metadata": {
    "scrolled": false
   },
   "outputs": [],
   "source": [
    "radar = pd.DataFrame(round(test_taste.groupby(by = 'company')[feat_radar].mean(),2))\n",
    "radar['company_name'] = radar.index\n",
    "radar.insert(0, 'cocoa_level', round((5 * radar['cocoa_percent']) / 100, 2))\n",
    "radar.drop(columns = {'cocoa_percent'}, inplace = True)\n"
   ]
  },
  {
   "cell_type": "code",
   "execution_count": 37,
   "metadata": {},
   "outputs": [],
   "source": [
    "feat_radar = ['cocoa_level', 'rating', 'counts_of_ingredients', 'count_tastes']"
   ]
  },
  {
   "cell_type": "code",
   "execution_count": 38,
   "metadata": {},
   "outputs": [],
   "source": [
    "company1 = '5150'\n",
    "company2 = 'A. Morin'"
   ]
  },
  {
   "cell_type": "code",
   "execution_count": 39,
   "metadata": {},
   "outputs": [
    {
     "data": {
      "text/plain": [
       "company\n",
       "5150                              True\n",
       "A. Morin                          True\n",
       "AMMA                             False\n",
       "Acalli                           False\n",
       "Adi aka Fijiana (Easy In Ltd)    False\n",
       "                                 ...  \n",
       "Zotter                           False\n",
       "hello cocoa                      False\n",
       "hexx                             False\n",
       "organicfair                      False\n",
       "twenty-four blackbirds           False\n",
       "Name: company_name, Length: 488, dtype: bool"
      ]
     },
     "execution_count": 39,
     "metadata": {},
     "output_type": "execute_result"
    }
   ],
   "source": [
    "radar['company_name'].isin([company1, company2])"
   ]
  },
  {
   "cell_type": "code",
   "execution_count": 40,
   "metadata": {},
   "outputs": [
    {
     "data": {
      "text/plain": [
       "[3.8, 3.5, 3.0, 3.0]"
      ]
     },
     "execution_count": 40,
     "metadata": {},
     "output_type": "execute_result"
    }
   ],
   "source": [
    "company1_list = []\n",
    "\n",
    "company1_df = pd.DataFrame(radar[radar['company_name'] == company1])\n",
    "for i in range(len(radar.columns)-1):\n",
    "    company1_list.append(radar[radar['company_name'] == company1].iloc[0,i])\n",
    "\n",
    "company1_list"
   ]
  },
  {
   "cell_type": "code",
   "execution_count": 41,
   "metadata": {},
   "outputs": [
    {
     "data": {
      "text/plain": [
       "[3.44, 3.4, 3.96, 2.88]"
      ]
     },
     "execution_count": 41,
     "metadata": {},
     "output_type": "execute_result"
    }
   ],
   "source": [
    "company2_list = []\n",
    "\n",
    "company2_df = pd.DataFrame(radar[radar['company_name'] == company2])\n",
    "for i in range(len(radar.columns)-1):\n",
    "    company2_list.append(radar[radar['company_name'] == company2].iloc[0,i])\n",
    "\n",
    "company2_list"
   ]
  },
  {
   "cell_type": "code",
   "execution_count": 42,
   "metadata": {},
   "outputs": [
    {
     "data": {
      "text/plain": [
       "['cocoa_level', 'rating', 'counts_of_ingredients', 'count_tastes']"
      ]
     },
     "execution_count": 42,
     "metadata": {},
     "output_type": "execute_result"
    }
   ],
   "source": [
    "feat_radar"
   ]
  },
  {
   "cell_type": "code",
   "execution_count": 43,
   "metadata": {
    "scrolled": false
   },
   "outputs": [
    {
     "data": {
      "application/vnd.plotly.v1+json": {
       "config": {
        "plotlyServerURL": "https://plot.ly"
       },
       "data": [
        {
         "fill": "toself",
         "hoverinfo": "text",
         "marker": {
          "color": "rgb(205,102,29)"
         },
         "name": "5150",
         "opacity": 1,
         "r": [
          3.8,
          3.5,
          3,
          3
         ],
         "text": [
          "cocoa_level = 3.8",
          "rating = 3.5",
          "counts_of_ingredients = 3.0",
          "count_tastes = 3.0"
         ],
         "theta": [
          "Level of Cocoa",
          "Rating",
          "Number of Ingredients",
          "Number of Tastes"
         ],
         "type": "scatterpolar"
        },
        {
         "fill": "toself",
         "hoverinfo": "text",
         "marker": {
          "color": "rgb(193,255,193)"
         },
         "name": "A. Morin",
         "r": [
          3.44,
          3.4,
          3.96,
          2.88
         ],
         "text": [
          "cocoa_level = 3.44",
          "rating = 3.4",
          "counts_of_ingredients = 3.96",
          "count_tastes = 2.88"
         ],
         "theta": [
          "Level of Cocoa",
          "Rating",
          "Number of Ingredients",
          "Number of Tastes"
         ],
         "type": "scatterpolar"
        }
       ],
       "layout": {
        "paper_bgcolor": "rgba(0,0,0,0)",
        "plot_bgcolor": "rgba(0,0,0,0)",
        "polar": {
         "radialaxis": {
          "range": [
           0,
           5
          ],
          "visible": true
         }
        },
        "showlegend": true,
        "template": {
         "data": {
          "bar": [
           {
            "error_x": {
             "color": "#2a3f5f"
            },
            "error_y": {
             "color": "#2a3f5f"
            },
            "marker": {
             "line": {
              "color": "#E5ECF6",
              "width": 0.5
             },
             "pattern": {
              "fillmode": "overlay",
              "size": 10,
              "solidity": 0.2
             }
            },
            "type": "bar"
           }
          ],
          "barpolar": [
           {
            "marker": {
             "line": {
              "color": "#E5ECF6",
              "width": 0.5
             },
             "pattern": {
              "fillmode": "overlay",
              "size": 10,
              "solidity": 0.2
             }
            },
            "type": "barpolar"
           }
          ],
          "carpet": [
           {
            "aaxis": {
             "endlinecolor": "#2a3f5f",
             "gridcolor": "white",
             "linecolor": "white",
             "minorgridcolor": "white",
             "startlinecolor": "#2a3f5f"
            },
            "baxis": {
             "endlinecolor": "#2a3f5f",
             "gridcolor": "white",
             "linecolor": "white",
             "minorgridcolor": "white",
             "startlinecolor": "#2a3f5f"
            },
            "type": "carpet"
           }
          ],
          "choropleth": [
           {
            "colorbar": {
             "outlinewidth": 0,
             "ticks": ""
            },
            "type": "choropleth"
           }
          ],
          "contour": [
           {
            "colorbar": {
             "outlinewidth": 0,
             "ticks": ""
            },
            "colorscale": [
             [
              0,
              "#0d0887"
             ],
             [
              0.1111111111111111,
              "#46039f"
             ],
             [
              0.2222222222222222,
              "#7201a8"
             ],
             [
              0.3333333333333333,
              "#9c179e"
             ],
             [
              0.4444444444444444,
              "#bd3786"
             ],
             [
              0.5555555555555556,
              "#d8576b"
             ],
             [
              0.6666666666666666,
              "#ed7953"
             ],
             [
              0.7777777777777778,
              "#fb9f3a"
             ],
             [
              0.8888888888888888,
              "#fdca26"
             ],
             [
              1,
              "#f0f921"
             ]
            ],
            "type": "contour"
           }
          ],
          "contourcarpet": [
           {
            "colorbar": {
             "outlinewidth": 0,
             "ticks": ""
            },
            "type": "contourcarpet"
           }
          ],
          "heatmap": [
           {
            "colorbar": {
             "outlinewidth": 0,
             "ticks": ""
            },
            "colorscale": [
             [
              0,
              "#0d0887"
             ],
             [
              0.1111111111111111,
              "#46039f"
             ],
             [
              0.2222222222222222,
              "#7201a8"
             ],
             [
              0.3333333333333333,
              "#9c179e"
             ],
             [
              0.4444444444444444,
              "#bd3786"
             ],
             [
              0.5555555555555556,
              "#d8576b"
             ],
             [
              0.6666666666666666,
              "#ed7953"
             ],
             [
              0.7777777777777778,
              "#fb9f3a"
             ],
             [
              0.8888888888888888,
              "#fdca26"
             ],
             [
              1,
              "#f0f921"
             ]
            ],
            "type": "heatmap"
           }
          ],
          "heatmapgl": [
           {
            "colorbar": {
             "outlinewidth": 0,
             "ticks": ""
            },
            "colorscale": [
             [
              0,
              "#0d0887"
             ],
             [
              0.1111111111111111,
              "#46039f"
             ],
             [
              0.2222222222222222,
              "#7201a8"
             ],
             [
              0.3333333333333333,
              "#9c179e"
             ],
             [
              0.4444444444444444,
              "#bd3786"
             ],
             [
              0.5555555555555556,
              "#d8576b"
             ],
             [
              0.6666666666666666,
              "#ed7953"
             ],
             [
              0.7777777777777778,
              "#fb9f3a"
             ],
             [
              0.8888888888888888,
              "#fdca26"
             ],
             [
              1,
              "#f0f921"
             ]
            ],
            "type": "heatmapgl"
           }
          ],
          "histogram": [
           {
            "marker": {
             "pattern": {
              "fillmode": "overlay",
              "size": 10,
              "solidity": 0.2
             }
            },
            "type": "histogram"
           }
          ],
          "histogram2d": [
           {
            "colorbar": {
             "outlinewidth": 0,
             "ticks": ""
            },
            "colorscale": [
             [
              0,
              "#0d0887"
             ],
             [
              0.1111111111111111,
              "#46039f"
             ],
             [
              0.2222222222222222,
              "#7201a8"
             ],
             [
              0.3333333333333333,
              "#9c179e"
             ],
             [
              0.4444444444444444,
              "#bd3786"
             ],
             [
              0.5555555555555556,
              "#d8576b"
             ],
             [
              0.6666666666666666,
              "#ed7953"
             ],
             [
              0.7777777777777778,
              "#fb9f3a"
             ],
             [
              0.8888888888888888,
              "#fdca26"
             ],
             [
              1,
              "#f0f921"
             ]
            ],
            "type": "histogram2d"
           }
          ],
          "histogram2dcontour": [
           {
            "colorbar": {
             "outlinewidth": 0,
             "ticks": ""
            },
            "colorscale": [
             [
              0,
              "#0d0887"
             ],
             [
              0.1111111111111111,
              "#46039f"
             ],
             [
              0.2222222222222222,
              "#7201a8"
             ],
             [
              0.3333333333333333,
              "#9c179e"
             ],
             [
              0.4444444444444444,
              "#bd3786"
             ],
             [
              0.5555555555555556,
              "#d8576b"
             ],
             [
              0.6666666666666666,
              "#ed7953"
             ],
             [
              0.7777777777777778,
              "#fb9f3a"
             ],
             [
              0.8888888888888888,
              "#fdca26"
             ],
             [
              1,
              "#f0f921"
             ]
            ],
            "type": "histogram2dcontour"
           }
          ],
          "mesh3d": [
           {
            "colorbar": {
             "outlinewidth": 0,
             "ticks": ""
            },
            "type": "mesh3d"
           }
          ],
          "parcoords": [
           {
            "line": {
             "colorbar": {
              "outlinewidth": 0,
              "ticks": ""
             }
            },
            "type": "parcoords"
           }
          ],
          "pie": [
           {
            "automargin": true,
            "type": "pie"
           }
          ],
          "scatter": [
           {
            "marker": {
             "colorbar": {
              "outlinewidth": 0,
              "ticks": ""
             }
            },
            "type": "scatter"
           }
          ],
          "scatter3d": [
           {
            "line": {
             "colorbar": {
              "outlinewidth": 0,
              "ticks": ""
             }
            },
            "marker": {
             "colorbar": {
              "outlinewidth": 0,
              "ticks": ""
             }
            },
            "type": "scatter3d"
           }
          ],
          "scattercarpet": [
           {
            "marker": {
             "colorbar": {
              "outlinewidth": 0,
              "ticks": ""
             }
            },
            "type": "scattercarpet"
           }
          ],
          "scattergeo": [
           {
            "marker": {
             "colorbar": {
              "outlinewidth": 0,
              "ticks": ""
             }
            },
            "type": "scattergeo"
           }
          ],
          "scattergl": [
           {
            "marker": {
             "colorbar": {
              "outlinewidth": 0,
              "ticks": ""
             }
            },
            "type": "scattergl"
           }
          ],
          "scattermapbox": [
           {
            "marker": {
             "colorbar": {
              "outlinewidth": 0,
              "ticks": ""
             }
            },
            "type": "scattermapbox"
           }
          ],
          "scatterpolar": [
           {
            "marker": {
             "colorbar": {
              "outlinewidth": 0,
              "ticks": ""
             }
            },
            "type": "scatterpolar"
           }
          ],
          "scatterpolargl": [
           {
            "marker": {
             "colorbar": {
              "outlinewidth": 0,
              "ticks": ""
             }
            },
            "type": "scatterpolargl"
           }
          ],
          "scatterternary": [
           {
            "marker": {
             "colorbar": {
              "outlinewidth": 0,
              "ticks": ""
             }
            },
            "type": "scatterternary"
           }
          ],
          "surface": [
           {
            "colorbar": {
             "outlinewidth": 0,
             "ticks": ""
            },
            "colorscale": [
             [
              0,
              "#0d0887"
             ],
             [
              0.1111111111111111,
              "#46039f"
             ],
             [
              0.2222222222222222,
              "#7201a8"
             ],
             [
              0.3333333333333333,
              "#9c179e"
             ],
             [
              0.4444444444444444,
              "#bd3786"
             ],
             [
              0.5555555555555556,
              "#d8576b"
             ],
             [
              0.6666666666666666,
              "#ed7953"
             ],
             [
              0.7777777777777778,
              "#fb9f3a"
             ],
             [
              0.8888888888888888,
              "#fdca26"
             ],
             [
              1,
              "#f0f921"
             ]
            ],
            "type": "surface"
           }
          ],
          "table": [
           {
            "cells": {
             "fill": {
              "color": "#EBF0F8"
             },
             "line": {
              "color": "white"
             }
            },
            "header": {
             "fill": {
              "color": "#C8D4E3"
             },
             "line": {
              "color": "white"
             }
            },
            "type": "table"
           }
          ]
         },
         "layout": {
          "annotationdefaults": {
           "arrowcolor": "#2a3f5f",
           "arrowhead": 0,
           "arrowwidth": 1
          },
          "autotypenumbers": "strict",
          "coloraxis": {
           "colorbar": {
            "outlinewidth": 0,
            "ticks": ""
           }
          },
          "colorscale": {
           "diverging": [
            [
             0,
             "#8e0152"
            ],
            [
             0.1,
             "#c51b7d"
            ],
            [
             0.2,
             "#de77ae"
            ],
            [
             0.3,
             "#f1b6da"
            ],
            [
             0.4,
             "#fde0ef"
            ],
            [
             0.5,
             "#f7f7f7"
            ],
            [
             0.6,
             "#e6f5d0"
            ],
            [
             0.7,
             "#b8e186"
            ],
            [
             0.8,
             "#7fbc41"
            ],
            [
             0.9,
             "#4d9221"
            ],
            [
             1,
             "#276419"
            ]
           ],
           "sequential": [
            [
             0,
             "#0d0887"
            ],
            [
             0.1111111111111111,
             "#46039f"
            ],
            [
             0.2222222222222222,
             "#7201a8"
            ],
            [
             0.3333333333333333,
             "#9c179e"
            ],
            [
             0.4444444444444444,
             "#bd3786"
            ],
            [
             0.5555555555555556,
             "#d8576b"
            ],
            [
             0.6666666666666666,
             "#ed7953"
            ],
            [
             0.7777777777777778,
             "#fb9f3a"
            ],
            [
             0.8888888888888888,
             "#fdca26"
            ],
            [
             1,
             "#f0f921"
            ]
           ],
           "sequentialminus": [
            [
             0,
             "#0d0887"
            ],
            [
             0.1111111111111111,
             "#46039f"
            ],
            [
             0.2222222222222222,
             "#7201a8"
            ],
            [
             0.3333333333333333,
             "#9c179e"
            ],
            [
             0.4444444444444444,
             "#bd3786"
            ],
            [
             0.5555555555555556,
             "#d8576b"
            ],
            [
             0.6666666666666666,
             "#ed7953"
            ],
            [
             0.7777777777777778,
             "#fb9f3a"
            ],
            [
             0.8888888888888888,
             "#fdca26"
            ],
            [
             1,
             "#f0f921"
            ]
           ]
          },
          "colorway": [
           "#636efa",
           "#EF553B",
           "#00cc96",
           "#ab63fa",
           "#FFA15A",
           "#19d3f3",
           "#FF6692",
           "#B6E880",
           "#FF97FF",
           "#FECB52"
          ],
          "font": {
           "color": "#2a3f5f"
          },
          "geo": {
           "bgcolor": "white",
           "lakecolor": "white",
           "landcolor": "#E5ECF6",
           "showlakes": true,
           "showland": true,
           "subunitcolor": "white"
          },
          "hoverlabel": {
           "align": "left"
          },
          "hovermode": "closest",
          "mapbox": {
           "style": "light"
          },
          "paper_bgcolor": "white",
          "plot_bgcolor": "#E5ECF6",
          "polar": {
           "angularaxis": {
            "gridcolor": "white",
            "linecolor": "white",
            "ticks": ""
           },
           "bgcolor": "#E5ECF6",
           "radialaxis": {
            "gridcolor": "white",
            "linecolor": "white",
            "ticks": ""
           }
          },
          "scene": {
           "xaxis": {
            "backgroundcolor": "#E5ECF6",
            "gridcolor": "white",
            "gridwidth": 2,
            "linecolor": "white",
            "showbackground": true,
            "ticks": "",
            "zerolinecolor": "white"
           },
           "yaxis": {
            "backgroundcolor": "#E5ECF6",
            "gridcolor": "white",
            "gridwidth": 2,
            "linecolor": "white",
            "showbackground": true,
            "ticks": "",
            "zerolinecolor": "white"
           },
           "zaxis": {
            "backgroundcolor": "#E5ECF6",
            "gridcolor": "white",
            "gridwidth": 2,
            "linecolor": "white",
            "showbackground": true,
            "ticks": "",
            "zerolinecolor": "white"
           }
          },
          "shapedefaults": {
           "line": {
            "color": "#2a3f5f"
           }
          },
          "ternary": {
           "aaxis": {
            "gridcolor": "white",
            "linecolor": "white",
            "ticks": ""
           },
           "baxis": {
            "gridcolor": "white",
            "linecolor": "white",
            "ticks": ""
           },
           "bgcolor": "#E5ECF6",
           "caxis": {
            "gridcolor": "white",
            "linecolor": "white",
            "ticks": ""
           }
          },
          "title": {
           "x": 0.05
          },
          "xaxis": {
           "automargin": true,
           "gridcolor": "white",
           "linecolor": "white",
           "ticks": "",
           "title": {
            "standoff": 15
           },
           "zerolinecolor": "white",
           "zerolinewidth": 2
          },
          "yaxis": {
           "automargin": true,
           "gridcolor": "white",
           "linecolor": "white",
           "ticks": "",
           "title": {
            "standoff": 15
           },
           "zerolinecolor": "white",
           "zerolinewidth": 2
          }
         }
        }
       }
      }
     },
     "metadata": {},
     "output_type": "display_data"
    }
   ],
   "source": [
    "\n",
    "fig = go.Figure(data=go.Scatterpolar(\n",
    "        r=company1_list,\n",
    "        theta=['Level of Cocoa', 'Rating', 'Number of Ingredients', 'Number of Tastes'],\n",
    "        fill='toself', \n",
    "        marker_color = 'rgb(205,102,29)',   \n",
    "        opacity =1, \n",
    "        hoverinfo = \"text\" ,\n",
    "        name = company1,\n",
    "        text  = [company1_df.columns[i] + ' = ' + str(company1_df.iloc[0,i]) for i in range(len(company1_list))]\n",
    "    ), layout = Layout(\n",
    "    paper_bgcolor='rgba(0,0,0,0)',\n",
    "    plot_bgcolor='rgba(0,0,0,0)'))\n",
    "fig.add_trace(go.Scatterpolar(\n",
    "        r=company2_list,\n",
    "        theta=['Level of Cocoa', 'Rating', 'Number of Ingredients', 'Number of Tastes'],\n",
    "        fill='toself',\n",
    "        marker_color = 'rgb(193,255,193)',\n",
    "        hoverinfo = \"text\" ,\n",
    "        name= company2,\n",
    "        text  = [company2_df.columns[i] + ' = ' + str(company2_df.iloc[0,i]) for i in range(len(company2_list))]\n",
    "        ))\n",
    "\n",
    "fig.update_layout(\n",
    "  polar=dict(\n",
    "    radialaxis=dict(\n",
    "      visible=True,\n",
    "      range=[0, 5]\n",
    "    )),\n",
    "  showlegend=True\n",
    ")\n",
    "\n",
    "fig.show()"
   ]
  },
  {
   "cell_type": "code",
   "execution_count": 44,
   "metadata": {},
   "outputs": [],
   "source": [
    "companies = list(data['company'].unique())\n",
    "#companies"
   ]
  },
  {
   "cell_type": "markdown",
   "metadata": {},
   "source": [
    "### Routes Dataframe"
   ]
  },
  {
   "cell_type": "code",
   "execution_count": 45,
   "metadata": {},
   "outputs": [
    {
     "data": {
      "text/html": [
       "<div>\n",
       "<style scoped>\n",
       "    .dataframe tbody tr th:only-of-type {\n",
       "        vertical-align: middle;\n",
       "    }\n",
       "\n",
       "    .dataframe tbody tr th {\n",
       "        vertical-align: top;\n",
       "    }\n",
       "\n",
       "    .dataframe thead th {\n",
       "        text-align: right;\n",
       "    }\n",
       "</style>\n",
       "<table border=\"1\" class=\"dataframe\">\n",
       "  <thead>\n",
       "    <tr style=\"text-align: right;\">\n",
       "      <th></th>\n",
       "      <th>country</th>\n",
       "      <th>latitude</th>\n",
       "      <th>longitude</th>\n",
       "      <th>name</th>\n",
       "    </tr>\n",
       "  </thead>\n",
       "  <tbody>\n",
       "    <tr>\n",
       "      <th>0</th>\n",
       "      <td>AD</td>\n",
       "      <td>42.546245</td>\n",
       "      <td>1.601554</td>\n",
       "      <td>Andorra</td>\n",
       "    </tr>\n",
       "    <tr>\n",
       "      <th>1</th>\n",
       "      <td>AE</td>\n",
       "      <td>23.424076</td>\n",
       "      <td>53.847818</td>\n",
       "      <td>United Arab Emirates</td>\n",
       "    </tr>\n",
       "    <tr>\n",
       "      <th>2</th>\n",
       "      <td>AF</td>\n",
       "      <td>33.939110</td>\n",
       "      <td>67.709953</td>\n",
       "      <td>Afghanistan</td>\n",
       "    </tr>\n",
       "    <tr>\n",
       "      <th>3</th>\n",
       "      <td>AG</td>\n",
       "      <td>17.060816</td>\n",
       "      <td>-61.796428</td>\n",
       "      <td>Antigua and Barbuda</td>\n",
       "    </tr>\n",
       "    <tr>\n",
       "      <th>4</th>\n",
       "      <td>AI</td>\n",
       "      <td>18.220554</td>\n",
       "      <td>-63.068615</td>\n",
       "      <td>Anguilla</td>\n",
       "    </tr>\n",
       "    <tr>\n",
       "      <th>...</th>\n",
       "      <td>...</td>\n",
       "      <td>...</td>\n",
       "      <td>...</td>\n",
       "      <td>...</td>\n",
       "    </tr>\n",
       "    <tr>\n",
       "      <th>239</th>\n",
       "      <td>YE</td>\n",
       "      <td>15.552727</td>\n",
       "      <td>48.516388</td>\n",
       "      <td>Yemen</td>\n",
       "    </tr>\n",
       "    <tr>\n",
       "      <th>240</th>\n",
       "      <td>YT</td>\n",
       "      <td>-12.827500</td>\n",
       "      <td>45.166244</td>\n",
       "      <td>Mayotte</td>\n",
       "    </tr>\n",
       "    <tr>\n",
       "      <th>241</th>\n",
       "      <td>ZA</td>\n",
       "      <td>-30.559482</td>\n",
       "      <td>22.937506</td>\n",
       "      <td>South Africa</td>\n",
       "    </tr>\n",
       "    <tr>\n",
       "      <th>242</th>\n",
       "      <td>ZM</td>\n",
       "      <td>-13.133897</td>\n",
       "      <td>27.849332</td>\n",
       "      <td>Zambia</td>\n",
       "    </tr>\n",
       "    <tr>\n",
       "      <th>243</th>\n",
       "      <td>ZW</td>\n",
       "      <td>-19.015438</td>\n",
       "      <td>29.154857</td>\n",
       "      <td>Zimbabwe</td>\n",
       "    </tr>\n",
       "  </tbody>\n",
       "</table>\n",
       "<p>244 rows × 4 columns</p>\n",
       "</div>"
      ],
      "text/plain": [
       "    country   latitude  longitude                  name\n",
       "0        AD  42.546245   1.601554               Andorra\n",
       "1        AE  23.424076  53.847818  United Arab Emirates\n",
       "2        AF  33.939110  67.709953           Afghanistan\n",
       "3        AG  17.060816 -61.796428   Antigua and Barbuda\n",
       "4        AI  18.220554 -63.068615              Anguilla\n",
       "..      ...        ...        ...                   ...\n",
       "239      YE  15.552727  48.516388                 Yemen\n",
       "240      YT -12.827500  45.166244               Mayotte\n",
       "241      ZA -30.559482  22.937506          South Africa\n",
       "242      ZM -13.133897  27.849332                Zambia\n",
       "243      ZW -19.015438  29.154857              Zimbabwe\n",
       "\n",
       "[244 rows x 4 columns]"
      ]
     },
     "execution_count": 45,
     "metadata": {},
     "output_type": "execute_result"
    }
   ],
   "source": [
    "coord"
   ]
  },
  {
   "cell_type": "code",
   "execution_count": 46,
   "metadata": {},
   "outputs": [
    {
     "data": {
      "text/html": [
       "<div>\n",
       "<style scoped>\n",
       "    .dataframe tbody tr th:only-of-type {\n",
       "        vertical-align: middle;\n",
       "    }\n",
       "\n",
       "    .dataframe tbody tr th {\n",
       "        vertical-align: top;\n",
       "    }\n",
       "\n",
       "    .dataframe thead th {\n",
       "        text-align: right;\n",
       "    }\n",
       "</style>\n",
       "<table border=\"1\" class=\"dataframe\">\n",
       "  <thead>\n",
       "    <tr style=\"text-align: right;\">\n",
       "      <th></th>\n",
       "      <th>index</th>\n",
       "      <th>company</th>\n",
       "      <th>company_location</th>\n",
       "      <th>company_code_2</th>\n",
       "      <th>country_of_bean_origin</th>\n",
       "      <th>bean_code_2</th>\n",
       "      <th>lat_company</th>\n",
       "      <th>long_company</th>\n",
       "      <th>lat_bean</th>\n",
       "      <th>long_bean</th>\n",
       "      <th>route</th>\n",
       "      <th>count</th>\n",
       "    </tr>\n",
       "  </thead>\n",
       "  <tbody>\n",
       "    <tr>\n",
       "      <th>0</th>\n",
       "      <td>15</td>\n",
       "      <td>A. Morin</td>\n",
       "      <td>France</td>\n",
       "      <td>FR</td>\n",
       "      <td>Colombia</td>\n",
       "      <td>CO</td>\n",
       "      <td>46.227638</td>\n",
       "      <td>2.213749</td>\n",
       "      <td>4.570868</td>\n",
       "      <td>-74.297333</td>\n",
       "      <td>(CO, FR)</td>\n",
       "      <td>45</td>\n",
       "    </tr>\n",
       "    <tr>\n",
       "      <th>1</th>\n",
       "      <td>31</td>\n",
       "      <td>Acalli</td>\n",
       "      <td>United States of America</td>\n",
       "      <td>US</td>\n",
       "      <td>Mexico</td>\n",
       "      <td>MX</td>\n",
       "      <td>37.090240</td>\n",
       "      <td>-95.712891</td>\n",
       "      <td>23.634501</td>\n",
       "      <td>-102.552784</td>\n",
       "      <td>(MX, US)</td>\n",
       "      <td>22</td>\n",
       "    </tr>\n",
       "    <tr>\n",
       "      <th>2</th>\n",
       "      <td>51</td>\n",
       "      <td>Alain Ducasse</td>\n",
       "      <td>France</td>\n",
       "      <td>FR</td>\n",
       "      <td>Mexico</td>\n",
       "      <td>MX</td>\n",
       "      <td>46.227638</td>\n",
       "      <td>2.213749</td>\n",
       "      <td>23.634501</td>\n",
       "      <td>-102.552784</td>\n",
       "      <td>(MX, FR)</td>\n",
       "      <td>25</td>\n",
       "    </tr>\n",
       "    <tr>\n",
       "      <th>3</th>\n",
       "      <td>80</td>\n",
       "      <td>Amazona</td>\n",
       "      <td>Peru</td>\n",
       "      <td>PE</td>\n",
       "      <td>Peru</td>\n",
       "      <td>PE</td>\n",
       "      <td>-9.189967</td>\n",
       "      <td>-75.015152</td>\n",
       "      <td>-9.189967</td>\n",
       "      <td>-75.015152</td>\n",
       "      <td>(PE, PE)</td>\n",
       "      <td>44</td>\n",
       "    </tr>\n",
       "    <tr>\n",
       "      <th>4</th>\n",
       "      <td>97</td>\n",
       "      <td>AMMA</td>\n",
       "      <td>Brazil</td>\n",
       "      <td>BR</td>\n",
       "      <td>Brazil</td>\n",
       "      <td>BR</td>\n",
       "      <td>-14.235004</td>\n",
       "      <td>-51.925280</td>\n",
       "      <td>-14.235004</td>\n",
       "      <td>-51.925280</td>\n",
       "      <td>(BR, BR)</td>\n",
       "      <td>21</td>\n",
       "    </tr>\n",
       "    <tr>\n",
       "      <th>5</th>\n",
       "      <td>132</td>\n",
       "      <td>Arete</td>\n",
       "      <td>United States of America</td>\n",
       "      <td>US</td>\n",
       "      <td>India</td>\n",
       "      <td>IN</td>\n",
       "      <td>37.090240</td>\n",
       "      <td>-95.712891</td>\n",
       "      <td>20.593684</td>\n",
       "      <td>78.962880</td>\n",
       "      <td>(IN, US)</td>\n",
       "      <td>15</td>\n",
       "    </tr>\n",
       "    <tr>\n",
       "      <th>6</th>\n",
       "      <td>146</td>\n",
       "      <td>Artisan du Chocolat</td>\n",
       "      <td>United Kingdom of Great Britain and Northern I...</td>\n",
       "      <td>GB</td>\n",
       "      <td>Madagascar</td>\n",
       "      <td>MG</td>\n",
       "      <td>55.378051</td>\n",
       "      <td>-3.435973</td>\n",
       "      <td>-18.766947</td>\n",
       "      <td>46.869107</td>\n",
       "      <td>(MG, GB)</td>\n",
       "      <td>26</td>\n",
       "    </tr>\n",
       "    <tr>\n",
       "      <th>7</th>\n",
       "      <td>157</td>\n",
       "      <td>Artisan du Chocolat</td>\n",
       "      <td>United Kingdom of Great Britain and Northern I...</td>\n",
       "      <td>GB</td>\n",
       "      <td>Colombia</td>\n",
       "      <td>CO</td>\n",
       "      <td>55.378051</td>\n",
       "      <td>-3.435973</td>\n",
       "      <td>4.570868</td>\n",
       "      <td>-74.297333</td>\n",
       "      <td>(CO, GB)</td>\n",
       "      <td>16</td>\n",
       "    </tr>\n",
       "    <tr>\n",
       "      <th>8</th>\n",
       "      <td>167</td>\n",
       "      <td>Auro</td>\n",
       "      <td>Philippines</td>\n",
       "      <td>PH</td>\n",
       "      <td>Philippines</td>\n",
       "      <td>PH</td>\n",
       "      <td>12.879721</td>\n",
       "      <td>121.774017</td>\n",
       "      <td>12.879721</td>\n",
       "      <td>121.774017</td>\n",
       "      <td>(PH, PH)</td>\n",
       "      <td>11</td>\n",
       "    </tr>\n",
       "    <tr>\n",
       "      <th>9</th>\n",
       "      <td>209</td>\n",
       "      <td>Benns</td>\n",
       "      <td>Singapore</td>\n",
       "      <td>SG</td>\n",
       "      <td>Viet Nam</td>\n",
       "      <td>VN</td>\n",
       "      <td>1.352083</td>\n",
       "      <td>103.819836</td>\n",
       "      <td>14.058324</td>\n",
       "      <td>108.277199</td>\n",
       "      <td>(VN, SG)</td>\n",
       "      <td>134</td>\n",
       "    </tr>\n",
       "    <tr>\n",
       "      <th>10</th>\n",
       "      <td>230</td>\n",
       "      <td>Bitacora</td>\n",
       "      <td>Venezuela (Bolivarian Republic of)</td>\n",
       "      <td>VE</td>\n",
       "      <td>Venezuela (Bolivarian Republic of)</td>\n",
       "      <td>VE</td>\n",
       "      <td>6.423750</td>\n",
       "      <td>-66.589730</td>\n",
       "      <td>6.423750</td>\n",
       "      <td>-66.589730</td>\n",
       "      <td>(VE, VE)</td>\n",
       "      <td>48</td>\n",
       "    </tr>\n",
       "    <tr>\n",
       "      <th>11</th>\n",
       "      <td>254</td>\n",
       "      <td>Blanxart</td>\n",
       "      <td>Spain</td>\n",
       "      <td>ES</td>\n",
       "      <td>Congo</td>\n",
       "      <td>CG</td>\n",
       "      <td>40.463667</td>\n",
       "      <td>-3.749220</td>\n",
       "      <td>-0.228021</td>\n",
       "      <td>15.827659</td>\n",
       "      <td>(CG, ES)</td>\n",
       "      <td>11</td>\n",
       "    </tr>\n",
       "    <tr>\n",
       "      <th>12</th>\n",
       "      <td>316</td>\n",
       "      <td>Bright</td>\n",
       "      <td>Australia</td>\n",
       "      <td>AU</td>\n",
       "      <td>Trinidad and Tobago</td>\n",
       "      <td>TT</td>\n",
       "      <td>-25.274398</td>\n",
       "      <td>133.775136</td>\n",
       "      <td>10.691803</td>\n",
       "      <td>-61.222503</td>\n",
       "      <td>(TT, AU)</td>\n",
       "      <td>76</td>\n",
       "    </tr>\n",
       "    <tr>\n",
       "      <th>13</th>\n",
       "      <td>405</td>\n",
       "      <td>Caribeans</td>\n",
       "      <td>Costa Rica</td>\n",
       "      <td>CR</td>\n",
       "      <td>Guatemala</td>\n",
       "      <td>GT</td>\n",
       "      <td>9.748917</td>\n",
       "      <td>-83.753428</td>\n",
       "      <td>15.783471</td>\n",
       "      <td>-90.230759</td>\n",
       "      <td>(GT, CR)</td>\n",
       "      <td>19</td>\n",
       "    </tr>\n",
       "    <tr>\n",
       "      <th>14</th>\n",
       "      <td>468</td>\n",
       "      <td>Chocolate Makers</td>\n",
       "      <td>Netherlands</td>\n",
       "      <td>NL</td>\n",
       "      <td>Congo</td>\n",
       "      <td>CG</td>\n",
       "      <td>52.132633</td>\n",
       "      <td>5.291266</td>\n",
       "      <td>-0.228021</td>\n",
       "      <td>15.827659</td>\n",
       "      <td>(CG, NL)</td>\n",
       "      <td>25</td>\n",
       "    </tr>\n",
       "    <tr>\n",
       "      <th>15</th>\n",
       "      <td>501</td>\n",
       "      <td>Cocoa Carib</td>\n",
       "      <td>Saint Lucia</td>\n",
       "      <td>LC</td>\n",
       "      <td>Saint Lucia</td>\n",
       "      <td>LC</td>\n",
       "      <td>13.909444</td>\n",
       "      <td>-60.978893</td>\n",
       "      <td>13.909444</td>\n",
       "      <td>-60.978893</td>\n",
       "      <td>(LC, LC)</td>\n",
       "      <td>13</td>\n",
       "    </tr>\n",
       "    <tr>\n",
       "      <th>16</th>\n",
       "      <td>670</td>\n",
       "      <td>Duffy's</td>\n",
       "      <td>United Kingdom of Great Britain and Northern I...</td>\n",
       "      <td>GB</td>\n",
       "      <td>Nigeria</td>\n",
       "      <td>NG</td>\n",
       "      <td>55.378051</td>\n",
       "      <td>-3.435973</td>\n",
       "      <td>9.081999</td>\n",
       "      <td>8.675277</td>\n",
       "      <td>(NG, GB)</td>\n",
       "      <td>14</td>\n",
       "    </tr>\n",
       "    <tr>\n",
       "      <th>17</th>\n",
       "      <td>740</td>\n",
       "      <td>Finnia</td>\n",
       "      <td>Canada</td>\n",
       "      <td>CA</td>\n",
       "      <td>Honduras</td>\n",
       "      <td>HN</td>\n",
       "      <td>56.130366</td>\n",
       "      <td>-106.346771</td>\n",
       "      <td>15.199999</td>\n",
       "      <td>-86.241905</td>\n",
       "      <td>(HN, CA)</td>\n",
       "      <td>10</td>\n",
       "    </tr>\n",
       "    <tr>\n",
       "      <th>18</th>\n",
       "      <td>752</td>\n",
       "      <td>FJAK</td>\n",
       "      <td>Norway</td>\n",
       "      <td>NO</td>\n",
       "      <td>Madagascar</td>\n",
       "      <td>MG</td>\n",
       "      <td>60.472024</td>\n",
       "      <td>8.468946</td>\n",
       "      <td>-18.766947</td>\n",
       "      <td>46.869107</td>\n",
       "      <td>(MG, NO)</td>\n",
       "      <td>12</td>\n",
       "    </tr>\n",
       "    <tr>\n",
       "      <th>19</th>\n",
       "      <td>754</td>\n",
       "      <td>Forteza (Cortes)</td>\n",
       "      <td>Puerto Rico</td>\n",
       "      <td>PR</td>\n",
       "      <td>Dominican Republic</td>\n",
       "      <td>DO</td>\n",
       "      <td>18.220833</td>\n",
       "      <td>-66.590149</td>\n",
       "      <td>18.735693</td>\n",
       "      <td>-70.162651</td>\n",
       "      <td>(DO, PR)</td>\n",
       "      <td>10</td>\n",
       "    </tr>\n",
       "    <tr>\n",
       "      <th>20</th>\n",
       "      <td>762</td>\n",
       "      <td>Fossa</td>\n",
       "      <td>Singapore</td>\n",
       "      <td>SG</td>\n",
       "      <td>Indonesia</td>\n",
       "      <td>ID</td>\n",
       "      <td>1.352083</td>\n",
       "      <td>103.819836</td>\n",
       "      <td>-0.789275</td>\n",
       "      <td>113.921327</td>\n",
       "      <td>(ID, SG)</td>\n",
       "      <td>13</td>\n",
       "    </tr>\n",
       "    <tr>\n",
       "      <th>21</th>\n",
       "      <td>771</td>\n",
       "      <td>Foundry</td>\n",
       "      <td>New Zealand</td>\n",
       "      <td>NZ</td>\n",
       "      <td>Vanuatu</td>\n",
       "      <td>VU</td>\n",
       "      <td>-40.900557</td>\n",
       "      <td>174.885971</td>\n",
       "      <td>-15.376706</td>\n",
       "      <td>166.959158</td>\n",
       "      <td>(VU, NZ)</td>\n",
       "      <td>63</td>\n",
       "    </tr>\n",
       "    <tr>\n",
       "      <th>22</th>\n",
       "      <td>897</td>\n",
       "      <td>Grenada Chocolate Co.</td>\n",
       "      <td>Grenada</td>\n",
       "      <td>GD</td>\n",
       "      <td>Grenada</td>\n",
       "      <td>GD</td>\n",
       "      <td>12.262776</td>\n",
       "      <td>-61.604171</td>\n",
       "      <td>12.262776</td>\n",
       "      <td>-61.604171</td>\n",
       "      <td>(GD, GD)</td>\n",
       "      <td>15</td>\n",
       "    </tr>\n",
       "    <tr>\n",
       "      <th>23</th>\n",
       "      <td>970</td>\n",
       "      <td>Holy Cacao</td>\n",
       "      <td>Israel</td>\n",
       "      <td>IL</td>\n",
       "      <td>Peru</td>\n",
       "      <td>PE</td>\n",
       "      <td>31.046051</td>\n",
       "      <td>34.851612</td>\n",
       "      <td>-9.189967</td>\n",
       "      <td>-75.015152</td>\n",
       "      <td>(PE, IL)</td>\n",
       "      <td>23</td>\n",
       "    </tr>\n",
       "    <tr>\n",
       "      <th>24</th>\n",
       "      <td>1016</td>\n",
       "      <td>Indah</td>\n",
       "      <td>India</td>\n",
       "      <td>IN</td>\n",
       "      <td>India</td>\n",
       "      <td>IN</td>\n",
       "      <td>20.593684</td>\n",
       "      <td>78.962880</td>\n",
       "      <td>20.593684</td>\n",
       "      <td>78.962880</td>\n",
       "      <td>(IN, IN)</td>\n",
       "      <td>29</td>\n",
       "    </tr>\n",
       "    <tr>\n",
       "      <th>25</th>\n",
       "      <td>1071</td>\n",
       "      <td>Krak</td>\n",
       "      <td>Netherlands</td>\n",
       "      <td>NL</td>\n",
       "      <td>Belize</td>\n",
       "      <td>BZ</td>\n",
       "      <td>52.132633</td>\n",
       "      <td>5.291266</td>\n",
       "      <td>17.189877</td>\n",
       "      <td>-88.497650</td>\n",
       "      <td>(BZ, NL)</td>\n",
       "      <td>15</td>\n",
       "    </tr>\n",
       "    <tr>\n",
       "      <th>26</th>\n",
       "      <td>1111</td>\n",
       "      <td>La Maison du Chocolat (Valrhona)</td>\n",
       "      <td>France</td>\n",
       "      <td>FR</td>\n",
       "      <td>Ghana</td>\n",
       "      <td>GH</td>\n",
       "      <td>46.227638</td>\n",
       "      <td>2.213749</td>\n",
       "      <td>7.946527</td>\n",
       "      <td>-1.023194</td>\n",
       "      <td>(GH, FR)</td>\n",
       "      <td>17</td>\n",
       "    </tr>\n",
       "    <tr>\n",
       "      <th>27</th>\n",
       "      <td>1218</td>\n",
       "      <td>Manufaktura Czekolady</td>\n",
       "      <td>Poland</td>\n",
       "      <td>PL</td>\n",
       "      <td>Ecuador</td>\n",
       "      <td>EC</td>\n",
       "      <td>51.919438</td>\n",
       "      <td>19.145136</td>\n",
       "      <td>-1.831239</td>\n",
       "      <td>-78.183406</td>\n",
       "      <td>(EC, PL)</td>\n",
       "      <td>19</td>\n",
       "    </tr>\n",
       "    <tr>\n",
       "      <th>28</th>\n",
       "      <td>1221</td>\n",
       "      <td>Manufaktura Czekolady</td>\n",
       "      <td>Poland</td>\n",
       "      <td>PL</td>\n",
       "      <td>Nicaragua</td>\n",
       "      <td>NI</td>\n",
       "      <td>51.919438</td>\n",
       "      <td>19.145136</td>\n",
       "      <td>12.865416</td>\n",
       "      <td>-85.207229</td>\n",
       "      <td>(NI, PL)</td>\n",
       "      <td>97</td>\n",
       "    </tr>\n",
       "    <tr>\n",
       "      <th>29</th>\n",
       "      <td>1329</td>\n",
       "      <td>Mike &amp; Becky</td>\n",
       "      <td>Belgium</td>\n",
       "      <td>BE</td>\n",
       "      <td>Dominican Republic</td>\n",
       "      <td>DO</td>\n",
       "      <td>50.503887</td>\n",
       "      <td>4.469936</td>\n",
       "      <td>18.735693</td>\n",
       "      <td>-70.162651</td>\n",
       "      <td>(DO, BE)</td>\n",
       "      <td>13</td>\n",
       "    </tr>\n",
       "    <tr>\n",
       "      <th>30</th>\n",
       "      <td>1480</td>\n",
       "      <td>Palette de Bine</td>\n",
       "      <td>Canada</td>\n",
       "      <td>CA</td>\n",
       "      <td>Haiti</td>\n",
       "      <td>HT</td>\n",
       "      <td>56.130366</td>\n",
       "      <td>-106.346771</td>\n",
       "      <td>18.971187</td>\n",
       "      <td>-72.285215</td>\n",
       "      <td>(HT, CA)</td>\n",
       "      <td>18</td>\n",
       "    </tr>\n",
       "    <tr>\n",
       "      <th>31</th>\n",
       "      <td>1666</td>\n",
       "      <td>Ruket</td>\n",
       "      <td>Italy</td>\n",
       "      <td>IT</td>\n",
       "      <td>Nicaragua</td>\n",
       "      <td>NI</td>\n",
       "      <td>41.871940</td>\n",
       "      <td>12.567380</td>\n",
       "      <td>12.865416</td>\n",
       "      <td>-85.207229</td>\n",
       "      <td>(NI, IT)</td>\n",
       "      <td>36</td>\n",
       "    </tr>\n",
       "    <tr>\n",
       "      <th>32</th>\n",
       "      <td>1735</td>\n",
       "      <td>Smooth Chocolator, The</td>\n",
       "      <td>Australia</td>\n",
       "      <td>AU</td>\n",
       "      <td>Peru</td>\n",
       "      <td>PE</td>\n",
       "      <td>-25.274398</td>\n",
       "      <td>133.775136</td>\n",
       "      <td>-9.189967</td>\n",
       "      <td>-75.015152</td>\n",
       "      <td>(PE, AU)</td>\n",
       "      <td>15</td>\n",
       "    </tr>\n",
       "    <tr>\n",
       "      <th>33</th>\n",
       "      <td>1736</td>\n",
       "      <td>Smooth Chocolator, The</td>\n",
       "      <td>Australia</td>\n",
       "      <td>AU</td>\n",
       "      <td>Bolivia (Plurinational State of)</td>\n",
       "      <td>BO</td>\n",
       "      <td>-25.274398</td>\n",
       "      <td>133.775136</td>\n",
       "      <td>-16.290154</td>\n",
       "      <td>-63.588653</td>\n",
       "      <td>(BO, AU)</td>\n",
       "      <td>16</td>\n",
       "    </tr>\n",
       "    <tr>\n",
       "      <th>34</th>\n",
       "      <td>1744</td>\n",
       "      <td>Smooth Chocolator, The</td>\n",
       "      <td>Australia</td>\n",
       "      <td>AU</td>\n",
       "      <td>Haiti</td>\n",
       "      <td>HT</td>\n",
       "      <td>-25.274398</td>\n",
       "      <td>133.775136</td>\n",
       "      <td>18.971187</td>\n",
       "      <td>-72.285215</td>\n",
       "      <td>(HT, AU)</td>\n",
       "      <td>25</td>\n",
       "    </tr>\n",
       "    <tr>\n",
       "      <th>35</th>\n",
       "      <td>1748</td>\n",
       "      <td>Soeka</td>\n",
       "      <td>Netherlands</td>\n",
       "      <td>NL</td>\n",
       "      <td>Sulawesi</td>\n",
       "      <td>NaN</td>\n",
       "      <td>52.132633</td>\n",
       "      <td>5.291266</td>\n",
       "      <td>-22.957640</td>\n",
       "      <td>18.490410</td>\n",
       "      <td>(nan, NL)</td>\n",
       "      <td>10</td>\n",
       "    </tr>\n",
       "    <tr>\n",
       "      <th>36</th>\n",
       "      <td>1781</td>\n",
       "      <td>Soma</td>\n",
       "      <td>Canada</td>\n",
       "      <td>CA</td>\n",
       "      <td>Jamaica</td>\n",
       "      <td>JM</td>\n",
       "      <td>56.130366</td>\n",
       "      <td>-106.346771</td>\n",
       "      <td>18.109581</td>\n",
       "      <td>-77.297508</td>\n",
       "      <td>(JM, CA)</td>\n",
       "      <td>18</td>\n",
       "    </tr>\n",
       "    <tr>\n",
       "      <th>37</th>\n",
       "      <td>1851</td>\n",
       "      <td>Sweet Escalier</td>\n",
       "      <td>Japan</td>\n",
       "      <td>JP</td>\n",
       "      <td>Tanzania, United Republic of</td>\n",
       "      <td>TZ</td>\n",
       "      <td>36.204824</td>\n",
       "      <td>138.252924</td>\n",
       "      <td>-6.369028</td>\n",
       "      <td>34.888822</td>\n",
       "      <td>(TZ, JP)</td>\n",
       "      <td>80</td>\n",
       "    </tr>\n",
       "    <tr>\n",
       "      <th>38</th>\n",
       "      <td>1857</td>\n",
       "      <td>Szanto Tibor</td>\n",
       "      <td>Hungary</td>\n",
       "      <td>HU</td>\n",
       "      <td>Peru</td>\n",
       "      <td>PE</td>\n",
       "      <td>47.162494</td>\n",
       "      <td>19.503304</td>\n",
       "      <td>-9.189967</td>\n",
       "      <td>-75.015152</td>\n",
       "      <td>(PE, HU)</td>\n",
       "      <td>31</td>\n",
       "    </tr>\n",
       "    <tr>\n",
       "      <th>39</th>\n",
       "      <td>2008</td>\n",
       "      <td>Wilkie's Organic</td>\n",
       "      <td>Ireland</td>\n",
       "      <td>IE</td>\n",
       "      <td>Peru</td>\n",
       "      <td>PE</td>\n",
       "      <td>53.412910</td>\n",
       "      <td>-8.243890</td>\n",
       "      <td>-9.189967</td>\n",
       "      <td>-75.015152</td>\n",
       "      <td>(PE, IE)</td>\n",
       "      <td>19</td>\n",
       "    </tr>\n",
       "    <tr>\n",
       "      <th>40</th>\n",
       "      <td>2033</td>\n",
       "      <td>Xocolatisimo</td>\n",
       "      <td>El Salvador</td>\n",
       "      <td>SV</td>\n",
       "      <td>El Salvador</td>\n",
       "      <td>SV</td>\n",
       "      <td>13.794185</td>\n",
       "      <td>-88.896530</td>\n",
       "      <td>13.794185</td>\n",
       "      <td>-88.896530</td>\n",
       "      <td>(SV, SV)</td>\n",
       "      <td>15</td>\n",
       "    </tr>\n",
       "    <tr>\n",
       "      <th>41</th>\n",
       "      <td>2072</td>\n",
       "      <td>Zotter</td>\n",
       "      <td>Austria</td>\n",
       "      <td>AT</td>\n",
       "      <td>Belize</td>\n",
       "      <td>BZ</td>\n",
       "      <td>47.516231</td>\n",
       "      <td>14.550072</td>\n",
       "      <td>17.189877</td>\n",
       "      <td>-88.497650</td>\n",
       "      <td>(BZ, AT)</td>\n",
       "      <td>28</td>\n",
       "    </tr>\n",
       "  </tbody>\n",
       "</table>\n",
       "</div>"
      ],
      "text/plain": [
       "    index                           company  \\\n",
       "0      15                          A. Morin   \n",
       "1      31                            Acalli   \n",
       "2      51                     Alain Ducasse   \n",
       "3      80                           Amazona   \n",
       "4      97                              AMMA   \n",
       "5     132                             Arete   \n",
       "6     146               Artisan du Chocolat   \n",
       "7     157               Artisan du Chocolat   \n",
       "8     167                              Auro   \n",
       "9     209                             Benns   \n",
       "10    230                          Bitacora   \n",
       "11    254                          Blanxart   \n",
       "12    316                            Bright   \n",
       "13    405                         Caribeans   \n",
       "14    468                  Chocolate Makers   \n",
       "15    501                       Cocoa Carib   \n",
       "16    670                           Duffy's   \n",
       "17    740                            Finnia   \n",
       "18    752                              FJAK   \n",
       "19    754                  Forteza (Cortes)   \n",
       "20    762                             Fossa   \n",
       "21    771                           Foundry   \n",
       "22    897             Grenada Chocolate Co.   \n",
       "23    970                        Holy Cacao   \n",
       "24   1016                             Indah   \n",
       "25   1071                              Krak   \n",
       "26   1111  La Maison du Chocolat (Valrhona)   \n",
       "27   1218             Manufaktura Czekolady   \n",
       "28   1221             Manufaktura Czekolady   \n",
       "29   1329                      Mike & Becky   \n",
       "30   1480                   Palette de Bine   \n",
       "31   1666                             Ruket   \n",
       "32   1735            Smooth Chocolator, The   \n",
       "33   1736            Smooth Chocolator, The   \n",
       "34   1744            Smooth Chocolator, The   \n",
       "35   1748                             Soeka   \n",
       "36   1781                              Soma   \n",
       "37   1851                    Sweet Escalier   \n",
       "38   1857                      Szanto Tibor   \n",
       "39   2008                  Wilkie's Organic   \n",
       "40   2033                      Xocolatisimo   \n",
       "41   2072                            Zotter   \n",
       "\n",
       "                                     company_location company_code_2  \\\n",
       "0                                              France             FR   \n",
       "1                            United States of America             US   \n",
       "2                                              France             FR   \n",
       "3                                                Peru             PE   \n",
       "4                                              Brazil             BR   \n",
       "5                            United States of America             US   \n",
       "6   United Kingdom of Great Britain and Northern I...             GB   \n",
       "7   United Kingdom of Great Britain and Northern I...             GB   \n",
       "8                                         Philippines             PH   \n",
       "9                                           Singapore             SG   \n",
       "10                 Venezuela (Bolivarian Republic of)             VE   \n",
       "11                                              Spain             ES   \n",
       "12                                          Australia             AU   \n",
       "13                                         Costa Rica             CR   \n",
       "14                                        Netherlands             NL   \n",
       "15                                        Saint Lucia             LC   \n",
       "16  United Kingdom of Great Britain and Northern I...             GB   \n",
       "17                                             Canada             CA   \n",
       "18                                             Norway             NO   \n",
       "19                                        Puerto Rico             PR   \n",
       "20                                          Singapore             SG   \n",
       "21                                        New Zealand             NZ   \n",
       "22                                            Grenada             GD   \n",
       "23                                             Israel             IL   \n",
       "24                                              India             IN   \n",
       "25                                        Netherlands             NL   \n",
       "26                                             France             FR   \n",
       "27                                             Poland             PL   \n",
       "28                                             Poland             PL   \n",
       "29                                            Belgium             BE   \n",
       "30                                             Canada             CA   \n",
       "31                                              Italy             IT   \n",
       "32                                          Australia             AU   \n",
       "33                                          Australia             AU   \n",
       "34                                          Australia             AU   \n",
       "35                                        Netherlands             NL   \n",
       "36                                             Canada             CA   \n",
       "37                                              Japan             JP   \n",
       "38                                            Hungary             HU   \n",
       "39                                            Ireland             IE   \n",
       "40                                        El Salvador             SV   \n",
       "41                                            Austria             AT   \n",
       "\n",
       "                country_of_bean_origin bean_code_2  lat_company  long_company  \\\n",
       "0                             Colombia          CO    46.227638      2.213749   \n",
       "1                               Mexico          MX    37.090240    -95.712891   \n",
       "2                               Mexico          MX    46.227638      2.213749   \n",
       "3                                 Peru          PE    -9.189967    -75.015152   \n",
       "4                               Brazil          BR   -14.235004    -51.925280   \n",
       "5                                India          IN    37.090240    -95.712891   \n",
       "6                           Madagascar          MG    55.378051     -3.435973   \n",
       "7                             Colombia          CO    55.378051     -3.435973   \n",
       "8                          Philippines          PH    12.879721    121.774017   \n",
       "9                             Viet Nam          VN     1.352083    103.819836   \n",
       "10  Venezuela (Bolivarian Republic of)          VE     6.423750    -66.589730   \n",
       "11                               Congo          CG    40.463667     -3.749220   \n",
       "12                 Trinidad and Tobago          TT   -25.274398    133.775136   \n",
       "13                           Guatemala          GT     9.748917    -83.753428   \n",
       "14                               Congo          CG    52.132633      5.291266   \n",
       "15                         Saint Lucia          LC    13.909444    -60.978893   \n",
       "16                             Nigeria          NG    55.378051     -3.435973   \n",
       "17                            Honduras          HN    56.130366   -106.346771   \n",
       "18                          Madagascar          MG    60.472024      8.468946   \n",
       "19                  Dominican Republic          DO    18.220833    -66.590149   \n",
       "20                           Indonesia          ID     1.352083    103.819836   \n",
       "21                             Vanuatu          VU   -40.900557    174.885971   \n",
       "22                             Grenada          GD    12.262776    -61.604171   \n",
       "23                                Peru          PE    31.046051     34.851612   \n",
       "24                               India          IN    20.593684     78.962880   \n",
       "25                              Belize          BZ    52.132633      5.291266   \n",
       "26                               Ghana          GH    46.227638      2.213749   \n",
       "27                             Ecuador          EC    51.919438     19.145136   \n",
       "28                           Nicaragua          NI    51.919438     19.145136   \n",
       "29                  Dominican Republic          DO    50.503887      4.469936   \n",
       "30                               Haiti          HT    56.130366   -106.346771   \n",
       "31                           Nicaragua          NI    41.871940     12.567380   \n",
       "32                                Peru          PE   -25.274398    133.775136   \n",
       "33    Bolivia (Plurinational State of)          BO   -25.274398    133.775136   \n",
       "34                               Haiti          HT   -25.274398    133.775136   \n",
       "35                            Sulawesi         NaN    52.132633      5.291266   \n",
       "36                             Jamaica          JM    56.130366   -106.346771   \n",
       "37        Tanzania, United Republic of          TZ    36.204824    138.252924   \n",
       "38                                Peru          PE    47.162494     19.503304   \n",
       "39                                Peru          PE    53.412910     -8.243890   \n",
       "40                         El Salvador          SV    13.794185    -88.896530   \n",
       "41                              Belize          BZ    47.516231     14.550072   \n",
       "\n",
       "     lat_bean   long_bean      route  count  \n",
       "0    4.570868  -74.297333   (CO, FR)     45  \n",
       "1   23.634501 -102.552784   (MX, US)     22  \n",
       "2   23.634501 -102.552784   (MX, FR)     25  \n",
       "3   -9.189967  -75.015152   (PE, PE)     44  \n",
       "4  -14.235004  -51.925280   (BR, BR)     21  \n",
       "5   20.593684   78.962880   (IN, US)     15  \n",
       "6  -18.766947   46.869107   (MG, GB)     26  \n",
       "7    4.570868  -74.297333   (CO, GB)     16  \n",
       "8   12.879721  121.774017   (PH, PH)     11  \n",
       "9   14.058324  108.277199   (VN, SG)    134  \n",
       "10   6.423750  -66.589730   (VE, VE)     48  \n",
       "11  -0.228021   15.827659   (CG, ES)     11  \n",
       "12  10.691803  -61.222503   (TT, AU)     76  \n",
       "13  15.783471  -90.230759   (GT, CR)     19  \n",
       "14  -0.228021   15.827659   (CG, NL)     25  \n",
       "15  13.909444  -60.978893   (LC, LC)     13  \n",
       "16   9.081999    8.675277   (NG, GB)     14  \n",
       "17  15.199999  -86.241905   (HN, CA)     10  \n",
       "18 -18.766947   46.869107   (MG, NO)     12  \n",
       "19  18.735693  -70.162651   (DO, PR)     10  \n",
       "20  -0.789275  113.921327   (ID, SG)     13  \n",
       "21 -15.376706  166.959158   (VU, NZ)     63  \n",
       "22  12.262776  -61.604171   (GD, GD)     15  \n",
       "23  -9.189967  -75.015152   (PE, IL)     23  \n",
       "24  20.593684   78.962880   (IN, IN)     29  \n",
       "25  17.189877  -88.497650   (BZ, NL)     15  \n",
       "26   7.946527   -1.023194   (GH, FR)     17  \n",
       "27  -1.831239  -78.183406   (EC, PL)     19  \n",
       "28  12.865416  -85.207229   (NI, PL)     97  \n",
       "29  18.735693  -70.162651   (DO, BE)     13  \n",
       "30  18.971187  -72.285215   (HT, CA)     18  \n",
       "31  12.865416  -85.207229   (NI, IT)     36  \n",
       "32  -9.189967  -75.015152   (PE, AU)     15  \n",
       "33 -16.290154  -63.588653   (BO, AU)     16  \n",
       "34  18.971187  -72.285215   (HT, AU)     25  \n",
       "35 -22.957640   18.490410  (nan, NL)     10  \n",
       "36  18.109581  -77.297508   (JM, CA)     18  \n",
       "37  -6.369028   34.888822   (TZ, JP)     80  \n",
       "38  -9.189967  -75.015152   (PE, HU)     31  \n",
       "39  -9.189967  -75.015152   (PE, IE)     19  \n",
       "40  13.794185  -88.896530   (SV, SV)     15  \n",
       "41  17.189877  -88.497650   (BZ, AT)     28  "
      ]
     },
     "execution_count": 46,
     "metadata": {},
     "output_type": "execute_result"
    }
   ],
   "source": [
    "routes_bean = pd.DataFrame(data[['company', 'company_location', 'company_code_2', 'country_of_bean_origin', 'bean_code_2']])\n",
    "\n",
    "routes_bean = routes_bean.merge(coord[['latitude', 'longitude', 'country']], left_on = 'company_code_2', right_on = 'country', how = 'left').rename(columns = {'latitude': 'lat_company', 'longitude' : 'long_company'})\n",
    "routes_bean.drop(columns = {'country'}, inplace = True)\n",
    "routes_bean = routes_bean.merge(coord[['latitude', 'longitude', 'country']], left_on = 'bean_code_2', right_on = 'country', how = 'left').rename(columns = {'latitude': 'lat_bean', 'longitude' : 'long_bean'})\n",
    "routes_bean.drop(columns = {'country'}, inplace = True)\n",
    "\n",
    "routes_bean['route'] = tuple(zip(routes_bean['bean_code_2'], routes_bean['company_code_2']))\n",
    "count_routes = routes_bean.copy()\n",
    "count_routes = count_routes.drop_duplicates(subset='route')\n",
    "count_routes['count'] = routes_bean.groupby(['route']).size().values\n",
    "\n",
    "\n",
    "# Pick the routes with most flights\n",
    "count_routes = count_routes.loc[count_routes['count'] > np.quantile(count_routes['count'], q = 0.9)]\n",
    "count_routes = count_routes.reset_index()\n",
    "\n",
    "count_routes"
   ]
  },
  {
   "cell_type": "code",
   "execution_count": 47,
   "metadata": {},
   "outputs": [
    {
     "name": "stderr",
     "output_type": "stream",
     "text": [
      "C:\\Users\\filip\\anaconda3\\lib\\site-packages\\plotly\\graph_objs\\_deprecations.py:173: DeprecationWarning:\n",
      "\n",
      "plotly.graph_objs.ColorBar is deprecated.\n",
      "Please replace it with one of the following more specific types\n",
      "  - plotly.graph_objs.scatter.marker.ColorBar\n",
      "  - plotly.graph_objs.surface.ColorBar\n",
      "  - etc.\n",
      "\n",
      "\n"
     ]
    },
    {
     "data": {
      "application/vnd.plotly.v1+json": {
       "config": {
        "plotlyServerURL": "https://plot.ly"
       },
       "data": [
        {
         "hoverinfo": "text",
         "lat": [
          46.227638,
          37.09024,
          46.227638,
          -9.189967,
          -14.235004,
          37.09024,
          55.378051,
          55.378051,
          12.879721,
          1.352083,
          6.42375,
          40.463667,
          -25.274398,
          9.748917,
          52.132633,
          13.909444,
          55.378051,
          56.130366,
          60.472024,
          18.220833,
          1.352083,
          -40.900557,
          12.262776,
          31.046051,
          20.593684,
          52.132633,
          46.227638,
          51.919438,
          51.919438,
          50.503887,
          56.130366,
          41.87194,
          -25.274398,
          -25.274398,
          -25.274398,
          52.132633,
          56.130366,
          36.204824,
          47.162494,
          53.41291,
          13.794185,
          47.516231
         ],
         "locationmode": "geojson-id",
         "lon": [
          2.213749,
          -95.712891,
          2.213749,
          -75.015152,
          -51.92528,
          -95.712891,
          -3.435973,
          -3.435973,
          121.774017,
          103.819836,
          -66.58973,
          -3.74922,
          133.775136,
          -83.753428,
          5.291266,
          -60.978893,
          -3.435973,
          -106.346771,
          8.468946,
          -66.590149,
          103.819836,
          174.885971,
          -61.604171,
          34.851612,
          78.96288,
          5.291266,
          2.213749,
          19.145136,
          19.145136,
          4.469936,
          -106.346771,
          12.56738,
          133.775136,
          133.775136,
          133.775136,
          5.291266,
          -106.346771,
          138.252924,
          19.503304,
          -8.24389,
          -88.89653,
          14.550072
         ],
         "marker": {
          "cmax": 140,
          "cmin": 9,
          "color": [
           45,
           22,
           25,
           44,
           21,
           15,
           26,
           16,
           11,
           134,
           48,
           11,
           76,
           19,
           25,
           13,
           14,
           10,
           12,
           10,
           13,
           63,
           15,
           23,
           29,
           15,
           17,
           19,
           97,
           13,
           18,
           36,
           15,
           16,
           25,
           10,
           18,
           80,
           31,
           19,
           15,
           28
          ],
          "colorbar": {
           "title": {
            "text": "Number of Routes"
           }
          },
          "colorscale": [
           [
            0,
            "rgb(237, 229, 207)"
           ],
           [
            0.16666666666666666,
            "rgb(224, 194, 162)"
           ],
           [
            0.3333333333333333,
            "rgb(211, 156, 131)"
           ],
           [
            0.5,
            "rgb(193, 118, 111)"
           ],
           [
            0.6666666666666666,
            "rgb(166, 84, 97)"
           ],
           [
            0.8333333333333334,
            "rgb(129, 55, 83)"
           ],
           [
            1,
            "rgb(84, 31, 63)"
           ]
          ],
          "opacity": 0.2
         },
         "mode": "markers",
         "text": [
          "A. Morin",
          "Acalli",
          "Alain Ducasse",
          "Amazona",
          "AMMA",
          "Arete",
          "Artisan du Chocolat",
          "Artisan du Chocolat",
          "Auro",
          "Benns",
          "Bitacora",
          "Blanxart",
          "Bright",
          "Caribeans",
          "Chocolate Makers",
          "Cocoa Carib",
          "Duffy's",
          "Finnia",
          "FJAK",
          "Forteza (Cortes)",
          "Fossa",
          "Foundry",
          "Grenada Chocolate Co.",
          "Holy Cacao",
          "Indah",
          "Krak",
          "La Maison du Chocolat (Valrhona)",
          "Manufaktura Czekolady",
          "Manufaktura Czekolady",
          "Mike & Becky",
          "Palette de Bine",
          "Ruket",
          "Smooth Chocolator, The",
          "Smooth Chocolator, The",
          "Smooth Chocolator, The",
          "Soeka",
          "Soma",
          "Sweet Escalier",
          "Szanto Tibor",
          "Wilkie's Organic",
          "Xocolatisimo",
          "Zotter"
         ],
         "type": "scattergeo"
        },
        {
         "hoverinfo": "text",
         "lat": [
          4.570868,
          46.227638
         ],
         "line": {
          "color": "rgba(251, 187, 189, 255)",
          "width": 1.25
         },
         "locationmode": "geojson-id",
         "lon": [
          -74.297333,
          2.213749
         ],
         "mode": "lines",
         "text": "<b>Bean Origin: </b>Colombia<br><b>Bean Destiny: </b>France<br><b>Times with this route: </b>45",
         "type": "scattergeo"
        },
        {
         "hoverinfo": "text",
         "lat": [
          23.634501,
          37.09024
         ],
         "line": {
          "color": "rgba(253, 229, 226, 255)",
          "width": 1.25
         },
         "locationmode": "geojson-id",
         "lon": [
          -102.552784,
          -95.712891
         ],
         "mode": "lines",
         "text": "<b>Bean Origin: </b>Mexico<br><b>Bean Destiny: </b>United States of America<br><b>Times with this route: </b>22",
         "type": "scattergeo"
        },
        {
         "hoverinfo": "text",
         "lat": [
          23.634501,
          46.227638
         ],
         "line": {
          "color": "rgba(253, 225, 222, 255)",
          "width": 1.25
         },
         "locationmode": "geojson-id",
         "lon": [
          -102.552784,
          2.213749
         ],
         "mode": "lines",
         "text": "<b>Bean Origin: </b>Mexico<br><b>Bean Destiny: </b>France<br><b>Times with this route: </b>25",
         "type": "scattergeo"
        },
        {
         "hoverinfo": "text",
         "lat": [
          -9.189967,
          -9.189967
         ],
         "line": {
          "color": "rgba(251, 189, 189, 255)",
          "width": 1.25
         },
         "locationmode": "geojson-id",
         "lon": [
          -75.015152,
          -75.015152
         ],
         "mode": "lines",
         "text": "<b>Bean Origin: </b>Peru<br><b>Bean Destiny: </b>Peru<br><b>Times with this route: </b>44",
         "type": "scattergeo"
        },
        {
         "hoverinfo": "text",
         "lat": [
          -14.235004,
          -14.235004
         ],
         "line": {
          "color": "rgba(253, 231, 227, 255)",
          "width": 1.25
         },
         "locationmode": "geojson-id",
         "lon": [
          -51.92528,
          -51.92528
         ],
         "mode": "lines",
         "text": "<b>Bean Origin: </b>Brazil<br><b>Bean Destiny: </b>Brazil<br><b>Times with this route: </b>21",
         "type": "scattergeo"
        },
        {
         "hoverinfo": "text",
         "lat": [
          20.593684,
          37.09024
         ],
         "line": {
          "color": "rgba(254, 239, 236, 255)",
          "width": 1.25
         },
         "locationmode": "geojson-id",
         "lon": [
          78.96288,
          -95.712891
         ],
         "mode": "lines",
         "text": "<b>Bean Origin: </b>India<br><b>Bean Destiny: </b>United States of America<br><b>Times with this route: </b>15",
         "type": "scattergeo"
        },
        {
         "hoverinfo": "text",
         "lat": [
          -18.766947,
          55.378051
         ],
         "line": {
          "color": "rgba(252, 223, 219, 255)",
          "width": 1.25
         },
         "locationmode": "geojson-id",
         "lon": [
          46.869107,
          -3.435973
         ],
         "mode": "lines",
         "text": "<b>Bean Origin: </b>Madagascar<br><b>Bean Destiny: </b>United Kingdom of Great Britain and Northern Ireland<br><b>Times with this route: </b>26",
         "type": "scattergeo"
        },
        {
         "hoverinfo": "text",
         "lat": [
          4.570868,
          55.378051
         ],
         "line": {
          "color": "rgba(254, 238, 234, 255)",
          "width": 1.25
         },
         "locationmode": "geojson-id",
         "lon": [
          -74.297333,
          -3.435973
         ],
         "mode": "lines",
         "text": "<b>Bean Origin: </b>Colombia<br><b>Bean Destiny: </b>United Kingdom of Great Britain and Northern Ireland<br><b>Times with this route: </b>16",
         "type": "scattergeo"
        },
        {
         "hoverinfo": "text",
         "lat": [
          12.879721,
          12.879721
         ],
         "line": {
          "color": "rgba(254, 245, 241, 255)",
          "width": 1.25
         },
         "locationmode": "geojson-id",
         "lon": [
          121.774017,
          121.774017
         ],
         "mode": "lines",
         "text": "<b>Bean Origin: </b>Philippines<br><b>Bean Destiny: </b>Philippines<br><b>Times with this route: </b>11",
         "type": "scattergeo"
        },
        {
         "hoverinfo": "text",
         "lat": [
          14.058324,
          1.352083
         ],
         "line": {
          "color": "rgba(73, 0, 106, 255)",
          "width": 1.25
         },
         "locationmode": "geojson-id",
         "lon": [
          108.277199,
          103.819836
         ],
         "mode": "lines",
         "text": "<b>Bean Origin: </b>Viet Nam<br><b>Bean Destiny: </b>Singapore<br><b>Times with this route: </b>134",
         "type": "scattergeo"
        },
        {
         "hoverinfo": "text",
         "lat": [
          6.42375,
          6.42375
         ],
         "line": {
          "color": "rgba(251, 180, 187, 255)",
          "width": 1.25
         },
         "locationmode": "geojson-id",
         "lon": [
          -66.58973,
          -66.58973
         ],
         "mode": "lines",
         "text": "<b>Bean Origin: </b>Venezuela (Bolivarian Republic of)<br><b>Bean Destiny: </b>Venezuela (Bolivarian Republic of)<br><b>Times with this route: </b>48",
         "type": "scattergeo"
        },
        {
         "hoverinfo": "text",
         "lat": [
          -0.228021,
          40.463667
         ],
         "line": {
          "color": "rgba(254, 245, 241, 255)",
          "width": 1.25
         },
         "locationmode": "geojson-id",
         "lon": [
          15.827659,
          -3.74922
         ],
         "mode": "lines",
         "text": "<b>Bean Origin: </b>Congo<br><b>Bean Destiny: </b>Spain<br><b>Times with this route: </b>11",
         "type": "scattergeo"
        },
        {
         "hoverinfo": "text",
         "lat": [
          10.691803,
          -25.274398
         ],
         "line": {
          "color": "rgba(240, 90, 158, 255)",
          "width": 1.25
         },
         "locationmode": "geojson-id",
         "lon": [
          -61.222503,
          133.775136
         ],
         "mode": "lines",
         "text": "<b>Bean Origin: </b>Trinidad and Tobago<br><b>Bean Destiny: </b>Australia<br><b>Times with this route: </b>76",
         "type": "scattergeo"
        },
        {
         "hoverinfo": "text",
         "lat": [
          15.783471,
          9.748917
         ],
         "line": {
          "color": "rgba(253, 234, 230, 255)",
          "width": 1.25
         },
         "locationmode": "geojson-id",
         "lon": [
          -90.230759,
          -83.753428
         ],
         "mode": "lines",
         "text": "<b>Bean Origin: </b>Guatemala<br><b>Bean Destiny: </b>Costa Rica<br><b>Times with this route: </b>19",
         "type": "scattergeo"
        },
        {
         "hoverinfo": "text",
         "lat": [
          -0.228021,
          52.132633
         ],
         "line": {
          "color": "rgba(253, 225, 222, 255)",
          "width": 1.25
         },
         "locationmode": "geojson-id",
         "lon": [
          15.827659,
          5.291266
         ],
         "mode": "lines",
         "text": "<b>Bean Origin: </b>Congo<br><b>Bean Destiny: </b>Netherlands<br><b>Times with this route: </b>25",
         "type": "scattergeo"
        },
        {
         "hoverinfo": "text",
         "lat": [
          13.909444,
          13.909444
         ],
         "line": {
          "color": "rgba(254, 242, 238, 255)",
          "width": 1.25
         },
         "locationmode": "geojson-id",
         "lon": [
          -60.978893,
          -60.978893
         ],
         "mode": "lines",
         "text": "<b>Bean Origin: </b>Saint Lucia<br><b>Bean Destiny: </b>Saint Lucia<br><b>Times with this route: </b>13",
         "type": "scattergeo"
        },
        {
         "hoverinfo": "text",
         "lat": [
          9.081999,
          55.378051
         ],
         "line": {
          "color": "rgba(254, 241, 237, 255)",
          "width": 1.25
         },
         "locationmode": "geojson-id",
         "lon": [
          8.675277,
          -3.435973
         ],
         "mode": "lines",
         "text": "<b>Bean Origin: </b>Nigeria<br><b>Bean Destiny: </b>United Kingdom of Great Britain and Northern Ireland<br><b>Times with this route: </b>14",
         "type": "scattergeo"
        },
        {
         "hoverinfo": "text",
         "lat": [
          15.199999,
          56.130366
         ],
         "line": {
          "color": "rgba(255, 247, 243, 255)",
          "width": 1.25
         },
         "locationmode": "geojson-id",
         "lon": [
          -86.241905,
          -106.346771
         ],
         "mode": "lines",
         "text": "<b>Bean Origin: </b>Honduras<br><b>Bean Destiny: </b>Canada<br><b>Times with this route: </b>10",
         "type": "scattergeo"
        },
        {
         "hoverinfo": "text",
         "lat": [
          -18.766947,
          60.472024
         ],
         "line": {
          "color": "rgba(254, 244, 240, 255)",
          "width": 1.25
         },
         "locationmode": "geojson-id",
         "lon": [
          46.869107,
          8.468946
         ],
         "mode": "lines",
         "text": "<b>Bean Origin: </b>Madagascar<br><b>Bean Destiny: </b>Norway<br><b>Times with this route: </b>12",
         "type": "scattergeo"
        },
        {
         "hoverinfo": "text",
         "lat": [
          18.735693,
          18.220833
         ],
         "line": {
          "color": "rgba(255, 247, 243, 255)",
          "width": 1.25
         },
         "locationmode": "geojson-id",
         "lon": [
          -70.162651,
          -66.590149
         ],
         "mode": "lines",
         "text": "<b>Bean Origin: </b>Dominican Republic<br><b>Bean Destiny: </b>Puerto Rico<br><b>Times with this route: </b>10",
         "type": "scattergeo"
        },
        {
         "hoverinfo": "text",
         "lat": [
          -0.789275,
          1.352083
         ],
         "line": {
          "color": "rgba(254, 242, 238, 255)",
          "width": 1.25
         },
         "locationmode": "geojson-id",
         "lon": [
          113.921327,
          103.819836
         ],
         "mode": "lines",
         "text": "<b>Bean Origin: </b>Indonesia<br><b>Bean Destiny: </b>Singapore<br><b>Times with this route: </b>13",
         "type": "scattergeo"
        },
        {
         "hoverinfo": "text",
         "lat": [
          -15.376706,
          -40.900557
         ],
         "line": {
          "color": "rgba(248, 135, 172, 255)",
          "width": 1.25
         },
         "locationmode": "geojson-id",
         "lon": [
          166.959158,
          174.885971
         ],
         "mode": "lines",
         "text": "<b>Bean Origin: </b>Vanuatu<br><b>Bean Destiny: </b>New Zealand<br><b>Times with this route: </b>63",
         "type": "scattergeo"
        },
        {
         "hoverinfo": "text",
         "lat": [
          12.262776,
          12.262776
         ],
         "line": {
          "color": "rgba(254, 239, 236, 255)",
          "width": 1.25
         },
         "locationmode": "geojson-id",
         "lon": [
          -61.604171,
          -61.604171
         ],
         "mode": "lines",
         "text": "<b>Bean Origin: </b>Grenada<br><b>Bean Destiny: </b>Grenada<br><b>Times with this route: </b>15",
         "type": "scattergeo"
        },
        {
         "hoverinfo": "text",
         "lat": [
          -9.189967,
          31.046051
         ],
         "line": {
          "color": "rgba(253, 228, 225, 255)",
          "width": 1.25
         },
         "locationmode": "geojson-id",
         "lon": [
          -75.015152,
          34.851612
         ],
         "mode": "lines",
         "text": "<b>Bean Origin: </b>Peru<br><b>Bean Destiny: </b>Israel<br><b>Times with this route: </b>23",
         "type": "scattergeo"
        },
        {
         "hoverinfo": "text",
         "lat": [
          20.593684,
          20.593684
         ],
         "line": {
          "color": "rgba(252, 217, 214, 255)",
          "width": 1.25
         },
         "locationmode": "geojson-id",
         "lon": [
          78.96288,
          78.96288
         ],
         "mode": "lines",
         "text": "<b>Bean Origin: </b>India<br><b>Bean Destiny: </b>India<br><b>Times with this route: </b>29",
         "type": "scattergeo"
        },
        {
         "hoverinfo": "text",
         "lat": [
          17.189877,
          52.132633
         ],
         "line": {
          "color": "rgba(254, 239, 236, 255)",
          "width": 1.25
         },
         "locationmode": "geojson-id",
         "lon": [
          -88.49765,
          5.291266
         ],
         "mode": "lines",
         "text": "<b>Bean Origin: </b>Belize<br><b>Bean Destiny: </b>Netherlands<br><b>Times with this route: </b>15",
         "type": "scattergeo"
        },
        {
         "hoverinfo": "text",
         "lat": [
          7.946527,
          46.227638
         ],
         "line": {
          "color": "rgba(254, 236, 233, 255)",
          "width": 1.25
         },
         "locationmode": "geojson-id",
         "lon": [
          -1.023194,
          2.213749
         ],
         "mode": "lines",
         "text": "<b>Bean Origin: </b>Ghana<br><b>Bean Destiny: </b>France<br><b>Times with this route: </b>17",
         "type": "scattergeo"
        },
        {
         "hoverinfo": "text",
         "lat": [
          -1.831239,
          51.919438
         ],
         "line": {
          "color": "rgba(253, 234, 230, 255)",
          "width": 1.25
         },
         "locationmode": "geojson-id",
         "lon": [
          -78.183406,
          19.145136
         ],
         "mode": "lines",
         "text": "<b>Bean Origin: </b>Ecuador<br><b>Bean Destiny: </b>Poland<br><b>Times with this route: </b>19",
         "type": "scattergeo"
        },
        {
         "hoverinfo": "text",
         "lat": [
          12.865416,
          51.919438
         ],
         "line": {
          "color": "rgba(192, 20, 135, 255)",
          "width": 1.25
         },
         "locationmode": "geojson-id",
         "lon": [
          -85.207229,
          19.145136
         ],
         "mode": "lines",
         "text": "<b>Bean Origin: </b>Nicaragua<br><b>Bean Destiny: </b>Poland<br><b>Times with this route: </b>97",
         "type": "scattergeo"
        },
        {
         "hoverinfo": "text",
         "lat": [
          18.735693,
          50.503887
         ],
         "line": {
          "color": "rgba(254, 242, 238, 255)",
          "width": 1.25
         },
         "locationmode": "geojson-id",
         "lon": [
          -70.162651,
          4.469936
         ],
         "mode": "lines",
         "text": "<b>Bean Origin: </b>Dominican Republic<br><b>Bean Destiny: </b>Belgium<br><b>Times with this route: </b>13",
         "type": "scattergeo"
        },
        {
         "hoverinfo": "text",
         "lat": [
          18.971187,
          56.130366
         ],
         "line": {
          "color": "rgba(253, 235, 231, 255)",
          "width": 1.25
         },
         "locationmode": "geojson-id",
         "lon": [
          -72.285215,
          -106.346771
         ],
         "mode": "lines",
         "text": "<b>Bean Origin: </b>Haiti<br><b>Bean Destiny: </b>Canada<br><b>Times with this route: </b>18",
         "type": "scattergeo"
        },
        {
         "hoverinfo": "text",
         "lat": [
          12.865416,
          41.87194
         ],
         "line": {
          "color": "rgba(252, 206, 201, 255)",
          "width": 1.25
         },
         "locationmode": "geojson-id",
         "lon": [
          -85.207229,
          12.56738
         ],
         "mode": "lines",
         "text": "<b>Bean Origin: </b>Nicaragua<br><b>Bean Destiny: </b>Italy<br><b>Times with this route: </b>36",
         "type": "scattergeo"
        },
        {
         "hoverinfo": "text",
         "lat": [
          -9.189967,
          -25.274398
         ],
         "line": {
          "color": "rgba(254, 239, 236, 255)",
          "width": 1.25
         },
         "locationmode": "geojson-id",
         "lon": [
          -75.015152,
          133.775136
         ],
         "mode": "lines",
         "text": "<b>Bean Origin: </b>Peru<br><b>Bean Destiny: </b>Australia<br><b>Times with this route: </b>15",
         "type": "scattergeo"
        },
        {
         "hoverinfo": "text",
         "lat": [
          -16.290154,
          -25.274398
         ],
         "line": {
          "color": "rgba(254, 238, 234, 255)",
          "width": 1.25
         },
         "locationmode": "geojson-id",
         "lon": [
          -63.588653,
          133.775136
         ],
         "mode": "lines",
         "text": "<b>Bean Origin: </b>Bolivia (Plurinational State of)<br><b>Bean Destiny: </b>Australia<br><b>Times with this route: </b>16",
         "type": "scattergeo"
        },
        {
         "hoverinfo": "text",
         "lat": [
          18.971187,
          -25.274398
         ],
         "line": {
          "color": "rgba(253, 225, 222, 255)",
          "width": 1.25
         },
         "locationmode": "geojson-id",
         "lon": [
          -72.285215,
          133.775136
         ],
         "mode": "lines",
         "text": "<b>Bean Origin: </b>Haiti<br><b>Bean Destiny: </b>Australia<br><b>Times with this route: </b>25",
         "type": "scattergeo"
        },
        {
         "hoverinfo": "text",
         "lat": [
          -22.95764,
          52.132633
         ],
         "line": {
          "color": "rgba(255, 247, 243, 255)",
          "width": 1.25
         },
         "locationmode": "geojson-id",
         "lon": [
          18.49041,
          5.291266
         ],
         "mode": "lines",
         "text": "<b>Bean Origin: </b>Sulawesi<br><b>Bean Destiny: </b>Netherlands<br><b>Times with this route: </b>10",
         "type": "scattergeo"
        },
        {
         "hoverinfo": "text",
         "lat": [
          18.109581,
          56.130366
         ],
         "line": {
          "color": "rgba(253, 235, 231, 255)",
          "width": 1.25
         },
         "locationmode": "geojson-id",
         "lon": [
          -77.297508,
          -106.346771
         ],
         "mode": "lines",
         "text": "<b>Bean Origin: </b>Jamaica<br><b>Bean Destiny: </b>Canada<br><b>Times with this route: </b>18",
         "type": "scattergeo"
        },
        {
         "hoverinfo": "text",
         "lat": [
          -6.369028,
          36.204824
         ],
         "line": {
          "color": "rgba(233, 77, 155, 255)",
          "width": 1.25
         },
         "locationmode": "geojson-id",
         "lon": [
          34.888822,
          138.252924
         ],
         "mode": "lines",
         "text": "<b>Bean Origin: </b>Tanzania, United Republic of<br><b>Bean Destiny: </b>Japan<br><b>Times with this route: </b>80",
         "type": "scattergeo"
        },
        {
         "hoverinfo": "text",
         "lat": [
          -9.189967,
          47.162494
         ],
         "line": {
          "color": "rgba(252, 214, 210, 255)",
          "width": 1.25
         },
         "locationmode": "geojson-id",
         "lon": [
          -75.015152,
          19.503304
         ],
         "mode": "lines",
         "text": "<b>Bean Origin: </b>Peru<br><b>Bean Destiny: </b>Hungary<br><b>Times with this route: </b>31",
         "type": "scattergeo"
        },
        {
         "hoverinfo": "text",
         "lat": [
          -9.189967,
          53.41291
         ],
         "line": {
          "color": "rgba(253, 234, 230, 255)",
          "width": 1.25
         },
         "locationmode": "geojson-id",
         "lon": [
          -75.015152,
          -8.24389
         ],
         "mode": "lines",
         "text": "<b>Bean Origin: </b>Peru<br><b>Bean Destiny: </b>Ireland<br><b>Times with this route: </b>19",
         "type": "scattergeo"
        },
        {
         "hoverinfo": "text",
         "lat": [
          13.794185,
          13.794185
         ],
         "line": {
          "color": "rgba(254, 239, 236, 255)",
          "width": 1.25
         },
         "locationmode": "geojson-id",
         "lon": [
          -88.89653,
          -88.89653
         ],
         "mode": "lines",
         "text": "<b>Bean Origin: </b>El Salvador<br><b>Bean Destiny: </b>El Salvador<br><b>Times with this route: </b>15",
         "type": "scattergeo"
        },
        {
         "hoverinfo": "text",
         "lat": [
          17.189877,
          47.516231
         ],
         "line": {
          "color": "rgba(252, 219, 216, 255)",
          "width": 1.25
         },
         "locationmode": "geojson-id",
         "lon": [
          -88.49765,
          14.550072
         ],
         "mode": "lines",
         "text": "<b>Bean Origin: </b>Belize<br><b>Bean Destiny: </b>Austria<br><b>Times with this route: </b>28",
         "type": "scattergeo"
        }
       ],
       "layout": {
        "geo": {
         "countrycolor": "rgba(68,68,68,255)",
         "landcolor": "rgb(209,190,168)",
         "oceancolor": "rgb(95,158,160)",
         "projection": {
          "type": "equirectangular"
         },
         "scope": "world",
         "showcountries": true,
         "showland": true,
         "showocean": true
        },
        "height": 400,
        "margin": {
         "b": 0,
         "l": 40,
         "r": 40,
         "t": 0
        },
        "paper_bgcolor": "rgba(0,0,0,0)",
        "plot_bgcolor": "rgba(0,0,0,0)",
        "showlegend": false,
        "template": {
         "data": {
          "bar": [
           {
            "error_x": {
             "color": "#2a3f5f"
            },
            "error_y": {
             "color": "#2a3f5f"
            },
            "marker": {
             "line": {
              "color": "#E5ECF6",
              "width": 0.5
             },
             "pattern": {
              "fillmode": "overlay",
              "size": 10,
              "solidity": 0.2
             }
            },
            "type": "bar"
           }
          ],
          "barpolar": [
           {
            "marker": {
             "line": {
              "color": "#E5ECF6",
              "width": 0.5
             },
             "pattern": {
              "fillmode": "overlay",
              "size": 10,
              "solidity": 0.2
             }
            },
            "type": "barpolar"
           }
          ],
          "carpet": [
           {
            "aaxis": {
             "endlinecolor": "#2a3f5f",
             "gridcolor": "white",
             "linecolor": "white",
             "minorgridcolor": "white",
             "startlinecolor": "#2a3f5f"
            },
            "baxis": {
             "endlinecolor": "#2a3f5f",
             "gridcolor": "white",
             "linecolor": "white",
             "minorgridcolor": "white",
             "startlinecolor": "#2a3f5f"
            },
            "type": "carpet"
           }
          ],
          "choropleth": [
           {
            "colorbar": {
             "outlinewidth": 0,
             "ticks": ""
            },
            "type": "choropleth"
           }
          ],
          "contour": [
           {
            "colorbar": {
             "outlinewidth": 0,
             "ticks": ""
            },
            "colorscale": [
             [
              0,
              "#0d0887"
             ],
             [
              0.1111111111111111,
              "#46039f"
             ],
             [
              0.2222222222222222,
              "#7201a8"
             ],
             [
              0.3333333333333333,
              "#9c179e"
             ],
             [
              0.4444444444444444,
              "#bd3786"
             ],
             [
              0.5555555555555556,
              "#d8576b"
             ],
             [
              0.6666666666666666,
              "#ed7953"
             ],
             [
              0.7777777777777778,
              "#fb9f3a"
             ],
             [
              0.8888888888888888,
              "#fdca26"
             ],
             [
              1,
              "#f0f921"
             ]
            ],
            "type": "contour"
           }
          ],
          "contourcarpet": [
           {
            "colorbar": {
             "outlinewidth": 0,
             "ticks": ""
            },
            "type": "contourcarpet"
           }
          ],
          "heatmap": [
           {
            "colorbar": {
             "outlinewidth": 0,
             "ticks": ""
            },
            "colorscale": [
             [
              0,
              "#0d0887"
             ],
             [
              0.1111111111111111,
              "#46039f"
             ],
             [
              0.2222222222222222,
              "#7201a8"
             ],
             [
              0.3333333333333333,
              "#9c179e"
             ],
             [
              0.4444444444444444,
              "#bd3786"
             ],
             [
              0.5555555555555556,
              "#d8576b"
             ],
             [
              0.6666666666666666,
              "#ed7953"
             ],
             [
              0.7777777777777778,
              "#fb9f3a"
             ],
             [
              0.8888888888888888,
              "#fdca26"
             ],
             [
              1,
              "#f0f921"
             ]
            ],
            "type": "heatmap"
           }
          ],
          "heatmapgl": [
           {
            "colorbar": {
             "outlinewidth": 0,
             "ticks": ""
            },
            "colorscale": [
             [
              0,
              "#0d0887"
             ],
             [
              0.1111111111111111,
              "#46039f"
             ],
             [
              0.2222222222222222,
              "#7201a8"
             ],
             [
              0.3333333333333333,
              "#9c179e"
             ],
             [
              0.4444444444444444,
              "#bd3786"
             ],
             [
              0.5555555555555556,
              "#d8576b"
             ],
             [
              0.6666666666666666,
              "#ed7953"
             ],
             [
              0.7777777777777778,
              "#fb9f3a"
             ],
             [
              0.8888888888888888,
              "#fdca26"
             ],
             [
              1,
              "#f0f921"
             ]
            ],
            "type": "heatmapgl"
           }
          ],
          "histogram": [
           {
            "marker": {
             "pattern": {
              "fillmode": "overlay",
              "size": 10,
              "solidity": 0.2
             }
            },
            "type": "histogram"
           }
          ],
          "histogram2d": [
           {
            "colorbar": {
             "outlinewidth": 0,
             "ticks": ""
            },
            "colorscale": [
             [
              0,
              "#0d0887"
             ],
             [
              0.1111111111111111,
              "#46039f"
             ],
             [
              0.2222222222222222,
              "#7201a8"
             ],
             [
              0.3333333333333333,
              "#9c179e"
             ],
             [
              0.4444444444444444,
              "#bd3786"
             ],
             [
              0.5555555555555556,
              "#d8576b"
             ],
             [
              0.6666666666666666,
              "#ed7953"
             ],
             [
              0.7777777777777778,
              "#fb9f3a"
             ],
             [
              0.8888888888888888,
              "#fdca26"
             ],
             [
              1,
              "#f0f921"
             ]
            ],
            "type": "histogram2d"
           }
          ],
          "histogram2dcontour": [
           {
            "colorbar": {
             "outlinewidth": 0,
             "ticks": ""
            },
            "colorscale": [
             [
              0,
              "#0d0887"
             ],
             [
              0.1111111111111111,
              "#46039f"
             ],
             [
              0.2222222222222222,
              "#7201a8"
             ],
             [
              0.3333333333333333,
              "#9c179e"
             ],
             [
              0.4444444444444444,
              "#bd3786"
             ],
             [
              0.5555555555555556,
              "#d8576b"
             ],
             [
              0.6666666666666666,
              "#ed7953"
             ],
             [
              0.7777777777777778,
              "#fb9f3a"
             ],
             [
              0.8888888888888888,
              "#fdca26"
             ],
             [
              1,
              "#f0f921"
             ]
            ],
            "type": "histogram2dcontour"
           }
          ],
          "mesh3d": [
           {
            "colorbar": {
             "outlinewidth": 0,
             "ticks": ""
            },
            "type": "mesh3d"
           }
          ],
          "parcoords": [
           {
            "line": {
             "colorbar": {
              "outlinewidth": 0,
              "ticks": ""
             }
            },
            "type": "parcoords"
           }
          ],
          "pie": [
           {
            "automargin": true,
            "type": "pie"
           }
          ],
          "scatter": [
           {
            "marker": {
             "colorbar": {
              "outlinewidth": 0,
              "ticks": ""
             }
            },
            "type": "scatter"
           }
          ],
          "scatter3d": [
           {
            "line": {
             "colorbar": {
              "outlinewidth": 0,
              "ticks": ""
             }
            },
            "marker": {
             "colorbar": {
              "outlinewidth": 0,
              "ticks": ""
             }
            },
            "type": "scatter3d"
           }
          ],
          "scattercarpet": [
           {
            "marker": {
             "colorbar": {
              "outlinewidth": 0,
              "ticks": ""
             }
            },
            "type": "scattercarpet"
           }
          ],
          "scattergeo": [
           {
            "marker": {
             "colorbar": {
              "outlinewidth": 0,
              "ticks": ""
             }
            },
            "type": "scattergeo"
           }
          ],
          "scattergl": [
           {
            "marker": {
             "colorbar": {
              "outlinewidth": 0,
              "ticks": ""
             }
            },
            "type": "scattergl"
           }
          ],
          "scattermapbox": [
           {
            "marker": {
             "colorbar": {
              "outlinewidth": 0,
              "ticks": ""
             }
            },
            "type": "scattermapbox"
           }
          ],
          "scatterpolar": [
           {
            "marker": {
             "colorbar": {
              "outlinewidth": 0,
              "ticks": ""
             }
            },
            "type": "scatterpolar"
           }
          ],
          "scatterpolargl": [
           {
            "marker": {
             "colorbar": {
              "outlinewidth": 0,
              "ticks": ""
             }
            },
            "type": "scatterpolargl"
           }
          ],
          "scatterternary": [
           {
            "marker": {
             "colorbar": {
              "outlinewidth": 0,
              "ticks": ""
             }
            },
            "type": "scatterternary"
           }
          ],
          "surface": [
           {
            "colorbar": {
             "outlinewidth": 0,
             "ticks": ""
            },
            "colorscale": [
             [
              0,
              "#0d0887"
             ],
             [
              0.1111111111111111,
              "#46039f"
             ],
             [
              0.2222222222222222,
              "#7201a8"
             ],
             [
              0.3333333333333333,
              "#9c179e"
             ],
             [
              0.4444444444444444,
              "#bd3786"
             ],
             [
              0.5555555555555556,
              "#d8576b"
             ],
             [
              0.6666666666666666,
              "#ed7953"
             ],
             [
              0.7777777777777778,
              "#fb9f3a"
             ],
             [
              0.8888888888888888,
              "#fdca26"
             ],
             [
              1,
              "#f0f921"
             ]
            ],
            "type": "surface"
           }
          ],
          "table": [
           {
            "cells": {
             "fill": {
              "color": "#EBF0F8"
             },
             "line": {
              "color": "white"
             }
            },
            "header": {
             "fill": {
              "color": "#C8D4E3"
             },
             "line": {
              "color": "white"
             }
            },
            "type": "table"
           }
          ]
         },
         "layout": {
          "annotationdefaults": {
           "arrowcolor": "#2a3f5f",
           "arrowhead": 0,
           "arrowwidth": 1
          },
          "autotypenumbers": "strict",
          "coloraxis": {
           "colorbar": {
            "outlinewidth": 0,
            "ticks": ""
           }
          },
          "colorscale": {
           "diverging": [
            [
             0,
             "#8e0152"
            ],
            [
             0.1,
             "#c51b7d"
            ],
            [
             0.2,
             "#de77ae"
            ],
            [
             0.3,
             "#f1b6da"
            ],
            [
             0.4,
             "#fde0ef"
            ],
            [
             0.5,
             "#f7f7f7"
            ],
            [
             0.6,
             "#e6f5d0"
            ],
            [
             0.7,
             "#b8e186"
            ],
            [
             0.8,
             "#7fbc41"
            ],
            [
             0.9,
             "#4d9221"
            ],
            [
             1,
             "#276419"
            ]
           ],
           "sequential": [
            [
             0,
             "#0d0887"
            ],
            [
             0.1111111111111111,
             "#46039f"
            ],
            [
             0.2222222222222222,
             "#7201a8"
            ],
            [
             0.3333333333333333,
             "#9c179e"
            ],
            [
             0.4444444444444444,
             "#bd3786"
            ],
            [
             0.5555555555555556,
             "#d8576b"
            ],
            [
             0.6666666666666666,
             "#ed7953"
            ],
            [
             0.7777777777777778,
             "#fb9f3a"
            ],
            [
             0.8888888888888888,
             "#fdca26"
            ],
            [
             1,
             "#f0f921"
            ]
           ],
           "sequentialminus": [
            [
             0,
             "#0d0887"
            ],
            [
             0.1111111111111111,
             "#46039f"
            ],
            [
             0.2222222222222222,
             "#7201a8"
            ],
            [
             0.3333333333333333,
             "#9c179e"
            ],
            [
             0.4444444444444444,
             "#bd3786"
            ],
            [
             0.5555555555555556,
             "#d8576b"
            ],
            [
             0.6666666666666666,
             "#ed7953"
            ],
            [
             0.7777777777777778,
             "#fb9f3a"
            ],
            [
             0.8888888888888888,
             "#fdca26"
            ],
            [
             1,
             "#f0f921"
            ]
           ]
          },
          "colorway": [
           "#636efa",
           "#EF553B",
           "#00cc96",
           "#ab63fa",
           "#FFA15A",
           "#19d3f3",
           "#FF6692",
           "#B6E880",
           "#FF97FF",
           "#FECB52"
          ],
          "font": {
           "color": "#2a3f5f"
          },
          "geo": {
           "bgcolor": "white",
           "lakecolor": "white",
           "landcolor": "#E5ECF6",
           "showlakes": true,
           "showland": true,
           "subunitcolor": "white"
          },
          "hoverlabel": {
           "align": "left"
          },
          "hovermode": "closest",
          "mapbox": {
           "style": "light"
          },
          "paper_bgcolor": "white",
          "plot_bgcolor": "#E5ECF6",
          "polar": {
           "angularaxis": {
            "gridcolor": "white",
            "linecolor": "white",
            "ticks": ""
           },
           "bgcolor": "#E5ECF6",
           "radialaxis": {
            "gridcolor": "white",
            "linecolor": "white",
            "ticks": ""
           }
          },
          "scene": {
           "xaxis": {
            "backgroundcolor": "#E5ECF6",
            "gridcolor": "white",
            "gridwidth": 2,
            "linecolor": "white",
            "showbackground": true,
            "ticks": "",
            "zerolinecolor": "white"
           },
           "yaxis": {
            "backgroundcolor": "#E5ECF6",
            "gridcolor": "white",
            "gridwidth": 2,
            "linecolor": "white",
            "showbackground": true,
            "ticks": "",
            "zerolinecolor": "white"
           },
           "zaxis": {
            "backgroundcolor": "#E5ECF6",
            "gridcolor": "white",
            "gridwidth": 2,
            "linecolor": "white",
            "showbackground": true,
            "ticks": "",
            "zerolinecolor": "white"
           }
          },
          "shapedefaults": {
           "line": {
            "color": "#2a3f5f"
           }
          },
          "ternary": {
           "aaxis": {
            "gridcolor": "white",
            "linecolor": "white",
            "ticks": ""
           },
           "baxis": {
            "gridcolor": "white",
            "linecolor": "white",
            "ticks": ""
           },
           "bgcolor": "#E5ECF6",
           "caxis": {
            "gridcolor": "white",
            "linecolor": "white",
            "ticks": ""
           }
          },
          "title": {
           "x": 0.05
          },
          "xaxis": {
           "automargin": true,
           "gridcolor": "white",
           "linecolor": "white",
           "ticks": "",
           "title": {
            "standoff": 15
           },
           "zerolinecolor": "white",
           "zerolinewidth": 2
          },
          "yaxis": {
           "automargin": true,
           "gridcolor": "white",
           "linecolor": "white",
           "ticks": "",
           "title": {
            "standoff": 15
           },
           "zerolinecolor": "white",
           "zerolinewidth": 2
          }
         }
        },
        "title": {
         "text": "Routes of Cocoa's bean"
        }
       }
      }
     },
     "metadata": {},
     "output_type": "display_data"
    }
   ],
   "source": [
    "fig_routes = go.Figure()\n",
    "\n",
    "fig_routes.add_trace(go.Scattergeo(\n",
    "    locationmode = 'geojson-id',\n",
    "    lon = count_routes['long_company'],\n",
    "    lat = count_routes['lat_company'],\n",
    "    hoverinfo = 'text',\n",
    "    text = count_routes['company'],\n",
    "    mode = 'markers',\n",
    "    marker = dict(\n",
    "                color = np.array(count_routes['count']),\n",
    "                cmin = 9,\n",
    "                cmax = 140,\n",
    "                colorscale = 'brwnyl',\n",
    "                colorbar=go.ColorBar(\n",
    "                    title='Number of Routes'\n",
    "                ),\n",
    "                opacity = 0.2\n",
    "            )\n",
    "    ))\n",
    "\n",
    "cmap = plt.cm.RdPu\n",
    "color = cmx.ScalarMappable(cmap = cmap).to_rgba(count_routes['count'], bytes = True)\n",
    "color = ['rgba(' + str(x[0]) + ', ' + str(x[1]) + ', ' + str(x[2]) + ', ' + str(x[3]) + ')' for x in color]\n",
    "\n",
    "#maxcount_f = max(count_routes['count'])\n",
    "\n",
    "#bean_paths = []\n",
    "for i in range(len(count_routes)): #routes_bean\n",
    "    fig_routes.add_trace(\n",
    "        go.Scattergeo(\n",
    "            locationmode = 'geojson-id',\n",
    "            lon = [count_routes['long_bean'][i], count_routes['long_company'][i]],\n",
    "            lat = [count_routes['lat_bean'][i], count_routes['lat_company'][i]],\n",
    "            mode = 'lines',\n",
    "            hoverinfo = 'text',\n",
    "            text = '<b>Bean Origin: </b>' + str(count_routes['country_of_bean_origin'][i]) \\\n",
    "                    + '<br><b>Bean Destiny: </b>' + str(count_routes['company_location'][i]) \\\n",
    "                    + '<br><b>Times with this route: </b>' + str(count_routes['count'][i]),\n",
    "            line = dict(\n",
    "                width = 1.25,\n",
    "                color = color[i]\n",
    "                )\n",
    "            )\n",
    "        )\n",
    "\n",
    "fig_routes.update_layout(\n",
    "    title_text = 'Routes of Cocoa\\'s bean',\n",
    "    showlegend = False,\n",
    "    paper_bgcolor='rgba(0,0,0,0)',\n",
    "    plot_bgcolor='rgba(0,0,0,0)',\n",
    "    geo = dict(\n",
    "        scope = 'world',\n",
    "        projection_type = 'equirectangular',\n",
    "        showland = True,\n",
    "        showcountries = True,\n",
    "        showocean = True,\n",
    "        landcolor = 'rgb(209,190,168)',\n",
    "        countrycolor = 'rgba(68,68,68,255)',\n",
    "        oceancolor = 'rgb(95,158,160)',\n",
    "    ),\n",
    ")\n",
    "\n",
    "fig_routes.update_layout(height=400, margin={\"r\":40,\"t\":0,\"l\":40,\"b\":0})"
   ]
  },
  {
   "cell_type": "code",
   "execution_count": null,
   "metadata": {},
   "outputs": [],
   "source": []
  },
  {
   "cell_type": "code",
   "execution_count": 48,
   "metadata": {},
   "outputs": [],
   "source": [
    "# if __name__ == '__main__':\n",
    "#     app.run_server()"
   ]
  },
  {
   "cell_type": "markdown",
   "metadata": {},
   "source": [
    "MAP"
   ]
  },
  {
   "cell_type": "code",
   "execution_count": 49,
   "metadata": {},
   "outputs": [],
   "source": [
    "path_geo = ''\n",
    "\n",
    "data_geo = dict()\n",
    "\n",
    "with open(path_geo + 'world.geojson') as json_file:\n",
    "\n",
    "    data_geo = json.load(json_file)\n",
    "    \n",
    "\n",
    "data_company=data.groupby(by=[\"company_location\"]).agg({\"rating\":\"mean\",\"ref\":\"count\"})\n",
    "\n",
    "data_company.reset_index(inplace=True)\n",
    "\n",
    "data_origin=data.groupby(by=['country_of_bean_origin']).agg({\"rating\":\"mean\",\"ref\":\"count\"})\n",
    "\n",
    "data_origin.reset_index(inplace=True)\n",
    "\n",
    "data_company.rename(columns={'company_location': 'country'}, inplace=True)\n",
    "\n",
    "data_origin.rename(columns={'country_of_bean_origin': 'country'}, inplace=True)\n",
    "\n",
    "\n",
    "\n",
    "for feature in data_geo['features']:\n",
    "    feature['id'] = feature['properties']['NAME']\n",
    "\n",
    "i=0\n",
    "\n",
    "pays=[]\n",
    "\n",
    "while i<len(data_geo['features']):\n",
    "\n",
    "    pays.append(data_geo['features'][i]['id'])\n",
    "\n",
    "    i+=1\n",
    "\n",
    "\n",
    "missing1=[]\n",
    "\n",
    "for country in data_origin[\"country\"].values:\n",
    "    if country not in pays:\n",
    "        missing1.append(country)\n",
    "\n",
    "missing2=[]\n",
    "\n",
    "for country in data_company[\"country\"].values:\n",
    "\n",
    "    if country not in pays:\n",
    "\n",
    "        missing2.append(country)\n",
    "\n",
    "\n",
    "\n",
    "data_origin[\"country\"] = np.where(data_origin[\"country\"] == \"Venezuela (Bolivarian Republic of)\", \"Venezuela\", data_origin[\"country\"])\n",
    "\n",
    "data_origin[\"country\"] = np.where(data_origin[\"country\"] == \"Tanzania, United Republic of\", \"Tanzania\", data_origin[\"country\"])\n",
    "\n",
    "data_origin[\"country\"] = np.where(data_origin[\"country\"] == \"Bolivia (Plurinational State of)\", \"Bolivia\", data_origin[\"country\"])\n",
    "\n",
    "data_origin[\"country\"] = np.where(data_origin[\"country\"] == \"Bolvia\", \"Bolivia\", data_origin[\"country\"])\n",
    "\n",
    "data_origin[\"country\"] = np.where(data_origin[\"country\"] == \"U.S.A.\", \"United States\", data_origin[\"country\"])\n",
    "\n",
    "data_origin[\"country\"] = np.where(data_origin[\"country\"] == \"Taiwan, Province of China\", \"Taiwan\", data_origin[\"country\"])\n",
    "\n",
    "data_origin[\"country\"] = np.where(data_origin[\"country\"] == \"Martinique\", \"France\", data_origin[\"country\"]) #colÃ³nia francesa\n",
    "\n",
    "data_origin[\"country\"] = np.where(data_origin[\"country\"] == \"Sulawesi\", \"Indonesia\", data_origin[\"country\"]) #parte da indonÃ©sia\n",
    "\n",
    "data_origin[\"country\"] = np.where(data_origin[\"country\"] == \"Principe\", \"SÃ£o TomÃ© and Principe\", data_origin[\"country\"])\n",
    "\n",
    "data_origin[\"country\"] = np.where(data_origin[\"country\"] == \"Sao Tome and Principe\", \"SÃ£o TomÃ© and Principe\", data_origin[\"country\"])\n",
    "\n",
    "data_origin[\"country\"] = np.where(data_origin[\"country\"] == \"Sumatra\", \"Indonesia\", data_origin[\"country\"]) #parte da indonÃ©sia\n",
    "\n",
    "data_origin[\"country\"] = np.where(data_origin[\"country\"] == \"Tobago\", \"Trinidad and Tobago\", data_origin[\"country\"])\n",
    "\n",
    "data_origin[\"country\"] = np.where(data_origin[\"country\"] == \"Sao TomÃ© and Principe\", \"SÃ£o TomÃ© and Principe\", data_origin[\"country\"])\n",
    "\n",
    "data_origin[\"country\"] = np.where(data_origin[\"country\"] == \"Congo (Democratic Republic of the)\", \"Dem. Rep. Congo\", data_origin[\"country\"])\n",
    "\n",
    "data_origin[\"country\"] = np.where(data_origin[\"country\"] == \"Viet Nam\", \"Vietnam\", data_origin[\"country\"])\n",
    "\n",
    "data_origin[\"country\"] = np.where(data_origin[\"country\"] == \"Ivory Coast\", \"CÃ´te d'Ivoire\", data_origin[\"country\"])\n",
    "\n",
    "data_origin[\"country\"] = np.where(data_origin[\"country\"] == \"Solomon Islands\", \"Solomon Is.\", data_origin[\"country\"])\n",
    "\n",
    "data_origin[\"country\"] = np.where(data_origin[\"country\"] == \"Dominican Republic\", \"Dominican Rep.\", data_origin[\"country\"])\n",
    "\n",
    "\n",
    "\n",
    "data_company[\"country\"] = np.where(data_company[\"country\"] == \"United Kingdom of Great Britain and Northern Ireland\", \"United Kingdom\", data_company[\"country\"])\n",
    "\n",
    "data_company[\"country\"] = np.where(data_company[\"country\"] == \"Venezuela (Bolivarian Republic of)\", \"Venezuela\", data_company[\"country\"])\n",
    "\n",
    "data_company[\"country\"] = np.where(data_company[\"country\"] == \"Wales\", \"United Kingdom\", data_company[\"country\"])\n",
    "\n",
    "data_company[\"country\"] = np.where(data_company[\"country\"] == \"Bolivia (Plurinational State of)\", \"Bolivia\", data_company[\"country\"])\n",
    "\n",
    "data_company[\"country\"] = np.where(data_company[\"country\"] == \"Russian Federation\", \"Russia\", data_company[\"country\"])\n",
    "\n",
    "data_company[\"country\"] = np.where(data_company[\"country\"] == \"Martinique\", \"France\", data_company[\"country\"])\n",
    "\n",
    "data_company[\"country\"] = np.where(data_company[\"country\"] == \"Taiwan, Province of China\", \"Taiwan\", data_company[\"country\"])\n",
    "\n",
    "data_company[\"country\"] = np.where(data_company[\"country\"] == \"Korea (Republic of)\", \"South Korea\", data_company[\"country\"])\n",
    "\n",
    "data_company[\"country\"] = np.where(data_company[\"country\"] == \"Viet Nam\", \"Vietnam\", data_company[\"country\"])\n",
    "\n",
    "data_company[\"country\"] = np.where(data_company[\"country\"] == \"United States of America\", \"United States\", data_company[\"country\"])\n",
    "\n",
    "data_company[\"country\"] = np.where(data_company[\"country\"] == \"Dominican Republic\", \"Dominican Rep.\", data_company[\"country\"])\n",
    "\n",
    "data_company[\"country\"] = np.where(data_company[\"country\"] == \"Sao Tome and Principe\", \"SÃ£o TomÃ© and Principe\", data_company[\"country\"])\n",
    "\n",
    "data_company[\"country\"] = np.where(data_company[\"country\"] == \"Czech Republic\", \"Czechia\", data_company[\"country\"])\n",
    "\n",
    "\n",
    "\n",
    "data_company.drop(data_company[data_company[\"country\"]==\"Grenada\"].index, inplace=True)\n",
    "\n",
    "data_company.drop(data_company[data_company[\"country\"]==\"Saint Vincent and the Grenadines\"].index, inplace=True)\n",
    "\n",
    "\n",
    "\n",
    "data_origin.drop(data_origin[data_origin[\"country\"]==\"Samoa\"].index, inplace=True)\n",
    "data_origin.drop(data_origin[data_origin[\"country\"]==\"Grenada\"].index, inplace=True)\n",
    "\n",
    "data_origin.drop(data_origin[data_origin[\"country\"]==\"Saint Vincent and the Grenadines\"].index, inplace=True)\n"
   ]
  },
  {
   "cell_type": "code",
   "execution_count": null,
   "metadata": {},
   "outputs": [],
   "source": []
  },
  {
   "cell_type": "markdown",
   "metadata": {},
   "source": [
    "# -------------------APP------------------"
   ]
  },
  {
   "cell_type": "code",
   "execution_count": 57,
   "metadata": {},
   "outputs": [],
   "source": [
    "#!pip install dash_daq"
   ]
  },
  {
   "cell_type": "code",
   "execution_count": 79,
   "metadata": {},
   "outputs": [],
   "source": [
    "app = dash.Dash(__name__, meta_tags=[{'content': 'width=device-width, initial-scale=1'}])\n",
    "\n",
    "server = app.server\n",
    "app.title = 'Diving into Chocolate'\n",
    "\n",
    "app.layout = html.Div([\n",
    "                        html.Br(),\n",
    "                        html.Br(),\n",
    "                        html.Br(),\n",
    "                        html.Div([\n",
    "                                \n",
    "                                html.H1('Diving into Chocolate', style={\"margin-top\": \"0\",\"font-weight\": \"bold\",\"text-align\": \"center\", 'font-size' : '60px'}),\n",
    "                                html.H2('Taking a closer look into the Chocolate Industry', style={\"margin-top\": \"0\",\"font-weight\": \"bold\",\"text-align\": \"center\"}),\n",
    "                                html.P('Having in mind our love for chocolate, we created a dashboard with information about different chocolates and cocoa trade around the world.', style = {\"text-align\": \"center\"}),\n",
    "                                ]),\n",
    "                                \n",
    "                        \n",
    "                        html.Br(),\n",
    "                        html.Br(), \n",
    "                                          \n",
    "                        html.Div([ \n",
    "                                #WORLD MAP\n",
    "                                html.Div([\n",
    "                                         html.Div([\n",
    "                                                html.H3(\"Cocoa Around the World\", style={\"margin-top\": \"0\",\"font-weight\": \"bold\",\"text-align\": \"center\"}),\n",
    "                                                ]),\n",
    "                                         \n",
    "                                        html.Div([\n",
    "                                               \n",
    "                                                #FILTROS\n",
    "                                                html.Div([ \n",
    "                                                        html.H4(\"Choose what you want to see in this map:\"),\n",
    "                                                        html.Div([\n",
    "                                                                html.Div([\n",
    "                                                                        dbc.RadioItems(\n",
    "                                                                                id=\"country_radio\",\n",
    "                                                                                options=[dict(label=\"Bean origin\", value=\"country_of_bean_origin\"), dict(label=\"Company location\", value=\"company_location\")],\n",
    "                                                                                className='radio',\n",
    "                                                                                value=\"country_of_bean_origin\",\n",
    "                                                                                style={'display':'block'}\n",
    "                                                                                ),\n",
    "                                                                        ]),\n",
    "                                                                html.Br(),\n",
    "                                                                html.Div([\n",
    "                                                                        dbc.RadioItems(\n",
    "                                                                                id=\"number_radio\",\n",
    "                                                                                options=[dict(label=\"Ratings\", value=\"rating\"),dict(label=\"Frequency\",value=\"ref\")],\n",
    "                                                                                value=\"rating\",\n",
    "                                                                                className='radio',\n",
    "                                                                                style={'display':'block'}\n",
    "                                                                                ),\n",
    "                                                                        ]),\n",
    "                                                                ], style = {'padding-right':'10px'}),\n",
    "                                                                html.Br(),\n",
    "                                                                html.Div([\n",
    "                                                                      html.P('In this map, you can see either the country where the cocoa beans are originally from or the nationality of the companies that produce the chocolates in the dataset, according to the average ratings of the chocolates or the number of chocolates they have.')  \n",
    "                                                                ],style={\"text-align\": \"justify\"})\n",
    "                                                                ],style={'width': '20%', 'padding-right':'10px'}) ,\n",
    "                                        \n",
    "                                                # VIS WORLD\n",
    "                                                html.Div([ \n",
    "                                                        dcc.Graph(id=\"choroplethmapbox\")\n",
    "                                                        ],style={'width': '80%','padding-bottom':'15px','padding-top':'20px'}),\n",
    "                                                \n",
    "                                                ], id='world_view', style={'display': 'flex'}), \n",
    "                                           \n",
    "                                ],className='box'),  \n",
    "                                \n",
    "                                #WORD CLOUD\n",
    "                                html.Div([ \n",
    "                                          html.Div([\n",
    "                                                html.H3(\"Where to get your favorite chocolate?\"),\n",
    "                                                ],className='title_vis'),\n",
    "                                \n",
    "                                        html.Div([ \n",
    "                                                \n",
    "                                        #FILTROS\n",
    "                                        html.Div([ \n",
    "                                                html.Div([ \n",
    "                                                        html.P('Here you have the chance to find the company which sells your dream chocolate according to its rating. If the names of the companies are colored, then they sell the chocolate with the highest review rank. The number of times the company takes place in the visualization, corresponds to the number of chocolates owned with the given filters. The words’ size corresponds to the ranking of the chocolate.')\n",
    "                                                        ],style={\"text-align\": \"justify\"}),  \n",
    "                                                html.Div([\n",
    "                                                       html.P('Note: If there are company names overlapping in the visualization, you can zoom in a specific area.') \n",
    "                                                ],style={\"font-size\": '12px',\"text-align\": \"justify\"}),\n",
    "                                                html.H4('Choose the ingredients you like a chocolate to have:'),\n",
    "                                                html.Div([ \n",
    "                                                        \n",
    "                                                        dcc.Dropdown(\n",
    "                                                                id='drop_id',\n",
    "                                                                options=ingredients,\n",
    "                                                                value=['have_sugar','have_vanila'],\n",
    "                                                                clearable=False,\n",
    "                                                                #searchable=False, \n",
    "                                                                multi=True,\n",
    "                                                                style= {'box-shadow': '0px 0px #ebb36a'},\n",
    "                                                                \n",
    "                                                                ),\n",
    "                                                                        ], className=\"custom-dropdown\", style={'margin': '10px', 'padding-top':'15px', 'padding-bottom':'15px'}),\n",
    "                                                html.Div([ \n",
    "                                                        html.Br(),\n",
    "                                                        html.H4('Choose the desired Cocoa percentage range:'),\n",
    "                                                        dcc.RangeSlider(\n",
    "                                                                        id='percent_id',\n",
    "                                                                        min=42,\n",
    "                                                                        max=100,\n",
    "                                                                        value=[50, 58],\n",
    "                                                                        marks={'50': '50',\n",
    "                                                                                '60': '60',\n",
    "                                                                                '70': '70',\n",
    "                                                                                '80': '80',\n",
    "                                                                                '90': '90',\n",
    "                                                                                '100': '100'},\n",
    "                                                                        step=1,\n",
    "                                                                        tooltip={\"placement\": \"bottom\", \"always_visible\": True},\n",
    "                                                                        className='rc'\n",
    "                                                                        )\n",
    "                                                        ]) ,\n",
    "                                                        \n",
    "                                                 ],style={'width': '40%'}) ,\n",
    "                                    \n",
    "                                        # VIS WORD\n",
    "                                                html.Div([\n",
    "                                                        html.Div([ \n",
    "                                                                dcc.Graph(id='graph1'),\n",
    "                                                        ]) ,\n",
    "                                                html.Div([        \n",
    "                                                        html.Div([\n",
    "                                                        html.H4('Company', style={'font-weight':'normal'}),\n",
    "                                                        html.H3(id=\"name_company_id\")\n",
    "                                                        ],className='box_info', style = {'height': '20%'}),\n",
    "                                                        \n",
    "                                                        html.Div([\n",
    "                                                        html.H4('Rating', style={'font-weight':'normal'}),\n",
    "                                                        html.H3(id=\"rating_id\")\n",
    "                                                        ],className='box_info', style = {'height': '20%'}),\n",
    "                                \n",
    "                                                        html.Div([\n",
    "                                                        html.H4('Country', style={'font-weight':'normal'}),\n",
    "                                                        html.H3(id=\"country_id\"),\n",
    "                                                        ],className='box_info', style = {'height': '20%'}),\n",
    "                                                        \n",
    "                                                        ],style={'display': 'flex','padding-left':'100px'}) ,\n",
    "                                                ], style = {'width': '60%'})\n",
    "                                                \n",
    "                                                \n",
    "                                        ],style={'display': 'flex'}),  \n",
    "                                ], className='box', id='word_cloud'), \n",
    "                                \n",
    "                                #RADAR\n",
    "                                html.Div([\n",
    "                                         \n",
    "                                        html.Div([\n",
    "                                                html.H3(\"Which company would you find better?\"),\n",
    "                                                ],className='title_vis'),\n",
    "                                        \n",
    "                                        html.Div([\n",
    "                                                #FILTROS\n",
    "                                                html.Div([\n",
    "                                                        html.Div([ \n",
    "                                                          html.P('Compare two companies of your choice according to the number of ingredients of their chocolates, their rating, the number of tastes and the level of cocoa (from 1 to 5). All these variables are an average of the values in all the chocolates owned by the company')\n",
    "                                                          ],style={\"text-align\": \"justify\"}),\n",
    "\n",
    "                                                html.Div([ \n",
    "                                                        html.H4('Company 1'),\n",
    "                                                        dcc.Dropdown(\n",
    "                                                                id='drop_comp1_id',\n",
    "                                                                options=companies,\n",
    "                                                                value='5150',\n",
    "                                                                multi=False\n",
    "                                                                ),\n",
    "                                                                ], style={'margin': '10px', 'padding-top':'15px', 'padding-bottom':'15px'}) ,\n",
    "                                        \n",
    "                                \n",
    "                                                html.Div([ \n",
    "                        \n",
    "                                                        html.H4('Company 2'),\n",
    "                                                        dcc.Dropdown(\n",
    "                                                                id='drop_comp2_id',\n",
    "                                                                options=companies,\n",
    "                                                                value='A. Morin',\n",
    "                                                                multi=False\n",
    "                                                                ),\n",
    "                                                                ], style={'margin': '10px', 'padding-bottom':'15px'}) ,\n",
    "\n",
    "                                                # html.Div([\n",
    "                                                #           html.Img(src=app.get_asset_url('chocochoco.png'), style={'position': 'relative', 'width': '50%', 'top': '-20px'})\n",
    "                                                # ])\n",
    "                                                \n",
    "                                                ],style={'width': '35%'}),\n",
    "                                                \n",
    "                                                # VIS RADAR\n",
    "                                                html.Div([ \n",
    "                                                        dcc.Graph(id='radar')\n",
    "                                                        ], style={'width': '65%','padding-bottom': '0px'}) ,\n",
    "\n",
    "                                                 \n",
    "                                                ], id='radar_view', style={'display': 'flex'}),\n",
    "\n",
    "                                               \n",
    "                                ],className='box'),\n",
    "                                #---------------------\n",
    "                                \n",
    "                             # TREEMAP\n",
    "                               html.Div([ \n",
    "                                        html.Div([\n",
    "                                                html.H3(\"Exports vs Imports of Cocoa\", style={\"margin-top\": \"0\",\"font-weight\": \"bold\",\"text-align\": \"center\"}),\n",
    "                                                ]),\n",
    "                                        \n",
    "                                        #FILTROS\n",
    "                                        html.Div([\n",
    "                                                html.Div([\n",
    "                                                        html.Br(),\n",
    "                                                        html.P('Here you can have a simple overview of the main international traders of Cocoa in a year between 1991 to 2019. You can choose to look over Quantity traded or Trade in USD, between Imports or Exports and a specific year.')\n",
    "                                                ], style={\"text-align\": \"justify\", 'width': '35%','padding-left':'75px'}), \n",
    "                                                    \n",
    "                                                html.Div([ \n",
    "                                                        html.H4('What variable do you want to analyze?'),\n",
    "                                                        dbc.RadioItems(\n",
    "                                                                id='dropvartree_id', \n",
    "                                                                options=tree_variables, \n",
    "                                                                value='Quantity',\n",
    "                                                                className='radio',\n",
    "                                                                style={'display':'block'}\n",
    "                                                                ),\n",
    "                                                        ], style={'padding-bottom':'15px','width': '20%','padding-left': '120px'}),\n",
    "                                                \n",
    "                                                html.Div([                                                       \n",
    "                                                        html.H4(\"Pick a Flow:\"),\n",
    "                                                        html.Br(),\n",
    "                                                        dbc.RadioItems(\n",
    "                                                                id=\"radioflowtree_id\",\n",
    "                                                                options=tree_flows_Dict, \n",
    "                                                                value='Export',\n",
    "                                                                className='radio',\n",
    "                                                                style={'display':'block'}\n",
    "                                                                ) ,\n",
    "                                                        \n",
    "                                                        ], style={'padding-bottom':'15px','width': '20%','padding-left': '110px'}),\n",
    "\n",
    "                                                html.Div([\n",
    "                                                          html.Img(src=app.get_asset_url('tree.png'), style={'position': 'relative', 'width': '70%'})\n",
    "                                                ], style={'width': '20%','padding-left':'60px'}),\n",
    "\n",
    "                                        ],style={'width': '100%','display': 'flex','justify-content': 'center'}),\n",
    "                                                \n",
    "                                        # VIS TREEMAP\n",
    "                \n",
    "                                        html.Div([\n",
    "                                                dcc.Graph(id='treemap_vis'),\n",
    "                                                dcc.Slider(\n",
    "                                                        flows_df['Year'].min(), \n",
    "                                                        flows_df['Year'].max(),\n",
    "                                                        step=None,\n",
    "                                                        value=flows_df['Year'].min(),\n",
    "                                                        marks={str(year): str(year) for year in flows_df['Year'].unique()},\n",
    "                                                        included=False,\n",
    "                                                        id='treeyear_slider',\n",
    "                                                        )\n",
    "                                                ])\n",
    "                                                \n",
    "                                        ],className='box' ),\n",
    "                               \n",
    "                                ]),\n",
    "                        \n",
    "                        # Bean Routes\n",
    "                        html.Div([\n",
    "                                html.Div([\n",
    "                                        html.H3(\"Bean Routes Around the World\", style={\"margin-top\": \"0\",\"font-weight\": \"bold\",\"text-align\": \"center\"}),\n",
    "                                        ]),\n",
    "                                \n",
    "                                html.Div([\n",
    "                                        html.Div([\n",
    "                                                html.P('In this visualization you can see which are the main routes of cocoa beans around the world. The origin of the bean is the country where it is produced and the destination is the country of the company that uses thoses beans. Only the 10% most frequent routes  were chosen to be present in this visualization'),\n",
    "                                                html.Div([\n",
    "                                                       html.P('Note: To see information about each route, hover over the countries and not the lines.') \n",
    "                                                ],style={\"font-size\": '12px',\"text-align\": \"justify\"}),\n",
    "                                                html.Br(),\n",
    "                                                html.Br(),\n",
    "                                                html.Br(),\n",
    "                                                html.Img(src=app.get_asset_url('Cocoa-Bean-PNG-Image.png'), style={'margin-left': 'auto','margin-right': 'auto','display': 'block', 'width': '70%'})\n",
    "                                        ], style={\"text-align\": \"justify\", 'width': '25%','padding-left':'15px'}),\n",
    "\n",
    "                                        # Visualization Routes\n",
    "                                        html.Div([\n",
    "                                                dcc.Graph(figure = fig_routes)\n",
    "                                        ], style={\"text-align\": \"justify\", 'width': '75%'})\n",
    "                                ], style = {'display': 'flex'})\n",
    "                                \n",
    "                                \n",
    "                        ], className = 'box'),\n",
    "                        html.Div([\n",
    "                        html.Div([\n",
    "                                html.H3('Authors:'),\n",
    "                                html.P('Beatriz Vizoso | Filipa Alves'),\n",
    "                                html.P('Helena Oliveira | Maria Almeida'),\n",
    "                                ],className='box', style={'width': '25%'}),\n",
    "                        \n",
    "                        html.Div([\n",
    "                                html.H3('Sources:'),\n",
    "                                dcc.Markdown(\"\"\"\\\n",
    "                                        - Chocolate dataset:\n",
    "                                                https://www.kaggle.com/datasets/rtatman/chocolate-bar-ratings\n",
    "                                        \n",
    "                                        - Cocoa Imports and Exports: \n",
    "                                                https://wits.worldbank.org/trade/comtrade/en/country/ALL/year/2019/tradeflow/Exports/partner/WLD/product/180100 \"\"\"),\n",
    "        \n",
    "                                ], className='box', style={'width': '75%'}),\n",
    "                        ],style={'display':'flex'})\n",
    "                        \n",
    "                ],style={'margin':'80px'})\n",
    "\n"
   ]
  },
  {
   "cell_type": "code",
   "execution_count": 80,
   "metadata": {},
   "outputs": [
    {
     "name": "stdout",
     "output_type": "stream",
     "text": [
      "Dash is running on http://127.0.0.1:8050/\n",
      "\n",
      "Dash is running on http://127.0.0.1:8050/\n",
      "\n",
      "Dash is running on http://127.0.0.1:8050/\n",
      "\n",
      "Dash is running on http://127.0.0.1:8050/\n",
      "\n",
      "Dash is running on http://127.0.0.1:8050/\n",
      "\n",
      "Dash is running on http://127.0.0.1:8050/\n",
      "\n",
      "Dash is running on http://127.0.0.1:8050/\n",
      "\n",
      "Dash is running on http://127.0.0.1:8050/\n",
      "\n",
      "Dash is running on http://127.0.0.1:8050/\n",
      "\n",
      "Dash is running on http://127.0.0.1:8050/\n",
      "\n",
      "Dash is running on http://127.0.0.1:8050/\n",
      "\n",
      "Dash is running on http://127.0.0.1:8050/\n",
      "\n",
      "Dash is running on http://127.0.0.1:8050/\n",
      "\n",
      "Dash is running on http://127.0.0.1:8050/\n",
      "\n",
      "Dash is running on http://127.0.0.1:8050/\n",
      "\n",
      "Dash is running on http://127.0.0.1:8050/\n",
      "\n",
      " * Serving Flask app \"__main__\" (lazy loading)\n",
      " * Environment: production\n",
      "   WARNING: This is a development server. Do not use it in a production deployment.\n",
      "   Use a production WSGI server instead.\n",
      " * Debug mode: off\n"
     ]
    },
    {
     "name": "stderr",
     "output_type": "stream",
     "text": [
      " * Running on http://127.0.0.1:8050/ (Press CTRL+C to quit)\n",
      "127.0.0.1 - - [13/Apr/2022 15:55:17] \"GET / HTTP/1.1\" 200 -\n",
      "127.0.0.1 - - [13/Apr/2022 15:55:17] \"GET /assets/style.css?m=1649861690.4328427 HTTP/1.1\" 200 -\n",
      "127.0.0.1 - - [13/Apr/2022 15:55:18] \"GET /_dash-layout HTTP/1.1\" 200 -\n",
      "127.0.0.1 - - [13/Apr/2022 15:55:18] \"GET /_dash-dependencies HTTP/1.1\" 200 -\n",
      "127.0.0.1 - - [13/Apr/2022 15:55:18] \"GET /_dash-component-suites/dash/dcc/async-graph.js HTTP/1.1\" 200 -\n",
      "127.0.0.1 - - [13/Apr/2022 15:55:18] \"GET /_dash-component-suites/dash/dcc/async-dropdown.js HTTP/1.1\" 200 -\n",
      "127.0.0.1 - - [13/Apr/2022 15:55:18] \"GET /_dash-component-suites/dash/dcc/async-slider.js HTTP/1.1\" 200 -\n",
      "127.0.0.1 - - [13/Apr/2022 15:55:18] \"GET /_dash-component-suites/dash/dcc/async-plotlyjs.js HTTP/1.1\" 200 -\n",
      "127.0.0.1 - - [13/Apr/2022 15:55:18] \"GET /_dash-component-suites/dash/dcc/async-markdown.js HTTP/1.1\" 200 -\n",
      "127.0.0.1 - - [13/Apr/2022 15:55:18] \"POST /_dash-update-component HTTP/1.1\" 200 -\n",
      "127.0.0.1 - - [13/Apr/2022 15:55:18] \"POST /_dash-update-component HTTP/1.1\" 200 -\n",
      "127.0.0.1 - - [13/Apr/2022 15:55:18] \"GET /_dash-component-suites/dash/dcc/async-highlight.js HTTP/1.1\" 200 -\n",
      "127.0.0.1 - - [13/Apr/2022 15:55:19] \"POST /_dash-update-component HTTP/1.1\" 200 -\n",
      "127.0.0.1 - - [13/Apr/2022 15:55:19] \"POST /_dash-update-component HTTP/1.1\" 200 -\n",
      "127.0.0.1 - - [13/Apr/2022 15:55:27] \"POST /_dash-update-component HTTP/1.1\" 200 -\n",
      "127.0.0.1 - - [13/Apr/2022 15:55:29] \"POST /_dash-update-component HTTP/1.1\" 200 -\n",
      "127.0.0.1 - - [13/Apr/2022 15:55:32] \"POST /_dash-update-component HTTP/1.1\" 200 -\n",
      "127.0.0.1 - - [13/Apr/2022 15:55:34] \"POST /_dash-update-component HTTP/1.1\" 200 -\n",
      "127.0.0.1 - - [13/Apr/2022 15:55:36] \"POST /_dash-update-component HTTP/1.1\" 200 -\n",
      "127.0.0.1 - - [13/Apr/2022 15:55:37] \"POST /_dash-update-component HTTP/1.1\" 200 -\n",
      "127.0.0.1 - - [13/Apr/2022 15:55:39] \"POST /_dash-update-component HTTP/1.1\" 200 -\n",
      "127.0.0.1 - - [13/Apr/2022 15:55:41] \"POST /_dash-update-component HTTP/1.1\" 200 -\n",
      "127.0.0.1 - - [13/Apr/2022 15:55:42] \"POST /_dash-update-component HTTP/1.1\" 200 -\n"
     ]
    }
   ],
   "source": [
    "\n",
    "@app.callback(\n",
    "   \n",
    "   Output('radar', 'figure'),\n",
    "   \n",
    "    [Input('drop_comp1_id', 'value'),\n",
    "     Input('drop_comp2_id','value')] )\n",
    "\n",
    "\n",
    "def update_radar(drop_comp1_id,drop_comp2_id):\n",
    "    company1 = drop_comp1_id\n",
    "    company2 = drop_comp2_id\n",
    "    \n",
    "    feat_radar = ['cocoa_percent', 'rating', 'counts_of_ingredients', 'count_tastes']\n",
    "    companies = list(data['company'].unique())\n",
    "    \n",
    "    radar = pd.DataFrame(round(test_taste.groupby(by = 'company')[feat_radar].mean(),2))\n",
    "    radar['company_name'] = radar.index\n",
    "    radar.insert(0, 'cocoa_level', round((5 * radar['cocoa_percent']) / 100, 2))\n",
    "    radar.drop(columns = {'cocoa_percent'}, inplace = True)\n",
    "    \n",
    "    radar = radar.merge(test_taste[['company_location', 'company']], left_on='company_name', right_on='company', how='left')\n",
    "    radar.drop(columns={'company'}, axis = 1, inplace = True)\n",
    "    \n",
    "    radar.drop_duplicates(inplace = True)\n",
    "\n",
    "    radar['company_name'].isin([company1, company2])\n",
    "    company1_list = []\n",
    "\n",
    "    company1_df = pd.DataFrame(radar[radar['company_name'] == company1])\n",
    "    for i in range(len(radar.columns)-2):\n",
    "        company1_list.append(radar[radar['company_name'] == company1].iloc[0,i])\n",
    "\n",
    "    \n",
    "    company2_list = []\n",
    "\n",
    "    company2_df = pd.DataFrame(radar[radar['company_name'] == company2])\n",
    "    for i in range(len(radar.columns)-2):\n",
    "        company2_list.append(radar[radar['company_name'] == company2].iloc[0,i])\n",
    "\n",
    "    \n",
    "    labels_radar = ['Level of Cocoa', 'Rating', 'Number of Ingredients', 'Number of Tastes']\n",
    "    fig = go.Figure(data=go.Scatterpolar(\n",
    "            r=company1_list,\n",
    "            theta = labels_radar,\n",
    "            fill='toself', \n",
    "            marker_color = 'rgb(128, 0, 32)',   \n",
    "            opacity =1, \n",
    "            hoverinfo = \"text\" ,\n",
    "            name = company1,\n",
    "            text  = ['<b>' + str(company1) + '</b><br>' + labels_radar[i] + ' = ' + str(company1_df.iloc[0,i]) + '; <br>Country: ' + str(radar[radar['company_name'] == company1].iloc[0,5]) for i in range(len(company1_list))]\n",
    "        ), layout = Layout(\n",
    "        paper_bgcolor='rgba(0,0,0,0)',\n",
    "        plot_bgcolor='rgba(0,0,0,0)'))\n",
    "    fig.add_trace(go.Scatterpolar(\n",
    "            r=company2_list,\n",
    "            theta=['Level of Cocoa', 'Rating', 'Number of Ingredients', 'Number of Tastes'],\n",
    "            fill='toself',\n",
    "            marker_color = 'rgb(218, 160, 109)',\n",
    "            hoverinfo = \"text\" ,\n",
    "            name= company2,\n",
    "            text = ['<b>' + str(company2) + '</b><br>' + labels_radar[i] + ' = ' + str(company2_df.iloc[0,i]) + '; <br>Country: ' + str(radar[radar['company_name'] == company2].iloc[0,5]) for i in range(len(company2_list))]\n",
    "            ))\n",
    "\n",
    "    fig.update_layout(\n",
    "        title = {'text': str(company1) + ' vs. ' + str(company2),'y':0.9,'x':0.5,'xanchor': 'center','yanchor': 'top'},\n",
    "        polar=dict(\n",
    "            radialaxis=dict(\n",
    "            visible=True,\n",
    "            range=[0, 5]\n",
    "            )),\n",
    "        showlegend=True\n",
    "    )\n",
    "    return fig\n",
    "\n",
    "@app.callback(\n",
    "   \n",
    "   [Output(\"name_company_id\", \"children\"),\n",
    "    Output(\"rating_id\", \"children\"),\n",
    "    Output(\"country_id\", \"children\"),\n",
    "    Output('graph1', 'figure')],\n",
    "   \n",
    "    [Input('drop_id', 'value'),\n",
    "     Input('percent_id','value')] )\n",
    "\n",
    "def update_graph(drop_id,percent_id):\n",
    "    \n",
    "    filtered=data\n",
    "    \n",
    "    for each in drop_id:\n",
    "        filtered=filtered[filtered.isin([each]).any(1)] \n",
    "    \n",
    "    filtered = filtered[(filtered['cocoa_percent'] >= percent_id[0]) & (filtered['cocoa_percent'] <= percent_id[1])]\n",
    "    maxi=np.max(filtered['rating'])\n",
    "   \n",
    "    filtered['color_max'] = np.where((filtered['rating'] == maxi), 1, 0)\n",
    "    filtered=filtered.sort_values(by=['color_max'], ascending=False)\n",
    " \n",
    "    group_=filtered[filtered['rating']==maxi].groupby(by=['company'])['rating'].mean().sort_values(ascending=False)\n",
    "    filtered=filtered.head(15)\n",
    "    ratings = filtered.rating.to_list()\n",
    "    countries=filtered.company_location.to_list()\n",
    "    initial_weights=filtered.rating.to_list()\n",
    "    words = filtered.company.to_list()\n",
    "\n",
    "    w_max= max(initial_weights)\n",
    "    w_min=min(initial_weights)\n",
    "    upper=15\n",
    "    lower=4\n",
    "    \n",
    "    if (w_max-w_min) ==0:\n",
    "        weights=[upper for x in initial_weights] \n",
    "    else:\n",
    "        weights=[lower+((x-w_min)*(upper-lower))/(w_max-w_min) for x in initial_weights]\n",
    "\n",
    "    nr_companies=len(filtered[filtered['color_max']==1])\n",
    "    colors = [px.colors.qualitative.Antique[2] for i in range(nr_companies)]\n",
    "    colors.extend(px.colors.qualitative.Antique[0] for i in range(len(filtered)-nr_companies))\n",
    "    \n",
    "    \n",
    "    if len(filtered)>1:\n",
    "        group_=pd.DataFrame(filtered[filtered['rating']==maxi].groupby(by=['company'])['rating'].mean().sort_values(ascending=False))\n",
    "        name_company=str(group_.index[0])\n",
    "        rating=str(group_.head(1)['rating'].values[0])\n",
    "        country=str(filtered[filtered['company']==name_company].company_location.values[0])\n",
    "    \n",
    "    elif filtered.empty:\n",
    "        name_company = 'No company was found'\n",
    "        rating = 'No rating was found'\n",
    "        country= 'No country was found'\n",
    "        \n",
    "    else:\n",
    "        name_company=str(filtered.head(1)['company'].values[0])\n",
    "        rating=str(filtered.head(1)['rating'].values[0])\n",
    "        country=str(filtered.head(1)['company_location'].values[0])\n",
    "        \n",
    "        \n",
    "    data_inter = go.Scatter(x=random.choices(range(2000), k=len(filtered)),\n",
    "                            y=random.choices(range(2000), k=len(filtered)),\n",
    "                            mode='text',\n",
    "                            text=words,\n",
    "                            marker={'opacity': 0.3},\n",
    "                            textfont={'size': weights, 'color': colors},\n",
    "                            hovertext=['Rating: '+str(f)+'<br>Country: ' + str(p) for f, p in zip(ratings, countries)],\n",
    "                            hoverinfo='text')\n",
    "                                \n",
    "\n",
    "    layout_1 = go.Layout({'xaxis': {'showgrid': False, 'showticklabels': False, 'zeroline': False},\n",
    "            'yaxis': {'showgrid': False, 'showticklabels': False, 'zeroline': False}} )\n",
    "    \n",
    "    fig = go.Figure(data=[data_inter], layout=layout_1)\n",
    "\n",
    "    fig.update_layout(paper_bgcolor='rgba(0,0,0,0)', plot_bgcolor='rgba(0,0,0,0)', title={'text':'Word Cloud <br><sup>Companies that sell the chocolate desired</sup>','y':0.9,\n",
    "                      'x':0.5,'xanchor': 'center','yanchor': 'top'},title_font_size=25)\n",
    "    \n",
    "    return name_company ,  \\\n",
    "           rating , \\\n",
    "           country , \\\n",
    "           fig\n",
    "\n",
    "@app.callback(\n",
    "    Output(\"choroplethmapbox\", \"figure\"),\n",
    "    [\n",
    "        Input(\"country_radio\", \"value\"),\n",
    "        Input(\"number_radio\", \"value\")\n",
    "    ]\n",
    ")\n",
    "\n",
    "def make_choroplethmap(country_radio,number_radio):\n",
    "    if country_radio == 'country_of_bean_origin':\n",
    "        df = data_origin\n",
    "        main_title1=\"Country of Bean Origin\"\n",
    "    elif country_radio == \"company_location\":\n",
    "        df = data_company\n",
    "        main_title1 = \"Location of Company\"\n",
    "\n",
    "    if number_radio == \"rating\":\n",
    "        legend_title=\"Ratings\"\n",
    "    elif number_radio == \"ref\":\n",
    "        legend_title=\"Frequency\"\n",
    "    \n",
    "\n",
    "    data_choroplethmap = dict(type='choroplethmapbox', \n",
    "                            geojson=data_geo,\n",
    "                            locations=df[\"country\"], \n",
    "                            #locationmode=\"country names\",\n",
    "                            z=df[number_radio],                         \n",
    "                            colorscale='brwnyl',\n",
    "                            colorbar=dict(title=legend_title),\n",
    "                            )\n",
    "\n",
    "    layout_choroplethmap = dict(mapbox=dict(style='white-bg',\n",
    "                                layers=[dict(source=feature,\n",
    "                                            below='traces',\n",
    "                                            type='fill',\n",
    "                                            fill=dict(outlinecolor='gray')\n",
    "                                            ) for feature in data_geo['features']]\n",
    "                                            ),\n",
    "                                title=dict(text=main_title1,\n",
    "                                        x=.5 # Title relative position according to the xaxis, range (0,1)\n",
    "                                        )\n",
    "                            )\n",
    "    \n",
    "    fig_choroplethmap = go.Figure(data=data_choroplethmap, layout=layout_choroplethmap)\n",
    "    fig_choroplethmap.update_layout(paper_bgcolor='rgba(0,0,0,0)', \n",
    "                                    plot_bgcolor='rgba(0,0,0,0)',\n",
    "                                    )\n",
    "    fig_choroplethmap.update_layout(geo = dict(\n",
    "        showland = True,\n",
    "        showcountries = True,\n",
    "        showocean = True,\n",
    "        landcolor = 'rgb(209,190,168)',\n",
    "        countrycolor = 'rgba(68,68,68,255)',\n",
    "        oceancolor = 'rgb(95,158,160)',\n",
    "        ))\n",
    "\n",
    "    fig_choroplethmap.update_layout(height=450, margin={\"r\":0,\"t\":0,\"l\":20,\"b\":0})\n",
    "\n",
    "    return fig_choroplethmap\n",
    "\n",
    "\n",
    "@app.callback(\n",
    "    Output(\"treemap_vis\", \"figure\"), \n",
    "    \n",
    "    [Input('dropvartree_id', 'value'),\n",
    "    Input('radioflowtree_id','value'),\n",
    "    Input('treeyear_slider','value')] \n",
    "    \n",
    "    )\n",
    "\n",
    "def update_treemap(selected_var, selected_flow, selected_year):\n",
    "    filtered_df= flows_df[(flows_df['Flow']==selected_flow) & (flows_df['Year']==selected_year)]\n",
    "    fig = px.treemap(filtered_df, path=['Country or Area'],values=selected_var, color=selected_var, color_continuous_scale='brwnyl')\n",
    "    #title=(str(selected_var) + ' of Cocoa ' + str(selected_flow) + 'ed by Country in ' + str(selected_year))) \n",
    "    \n",
    "    fig.data[0].hovertemplate = '%{label}<br>%{value}'\n",
    "    \n",
    "    fig.update_layout(paper_bgcolor='rgba(0,0,0,0)', plot_bgcolor='rgba(0,0,0,0)',\n",
    "                      title={'text':str(selected_var) + ' of Cocoa ' + str(selected_flow) + 'ed by Country in ' + str(selected_year),'y':0.95,'x':0.5,'xanchor': 'center','yanchor': 'top'})\n",
    "   \n",
    "    \n",
    "    return fig\n",
    "\n",
    "# @app.callback(\n",
    "   \n",
    "#    Output('routes_vis', 'figure')\n",
    "# )\n",
    "\n",
    "\n",
    "\n",
    "\n",
    "\n",
    "if __name__ == '__main__':\n",
    "    app.run_server()"
   ]
  },
  {
   "cell_type": "code",
   "execution_count": null,
   "metadata": {},
   "outputs": [],
   "source": []
  },
  {
   "cell_type": "code",
   "execution_count": null,
   "metadata": {},
   "outputs": [],
   "source": []
  }
 ],
 "metadata": {
  "interpreter": {
   "hash": "0a2e937febbe5477c28200cac54be2d2da4f3456b8c1b7f6ca2a37fc549e7fbf"
  },
  "kernelspec": {
   "display_name": "Python 3",
   "language": "python",
   "name": "python3"
  },
  "language_info": {
   "codemirror_mode": {
    "name": "ipython",
    "version": 3
   },
   "file_extension": ".py",
   "mimetype": "text/x-python",
   "name": "python",
   "nbconvert_exporter": "python",
   "pygments_lexer": "ipython3",
   "version": "3.8.12"
  }
 },
 "nbformat": 4,
 "nbformat_minor": 2
}
