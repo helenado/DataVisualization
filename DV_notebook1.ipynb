{
 "cells": [
  {
   "cell_type": "code",
   "execution_count": 1,
   "metadata": {},
   "outputs": [],
   "source": [
    "import pandas as pd\n",
    "import plotly \n",
    "import numpy as np\n",
    "import plotly.figure_factory as ff\n",
    "import scipy\n",
    "import plotly.graph_objects as go\n",
    "import dash\n",
    "from dash import Dash, dcc, html, Input, Output\n",
    "import plotly.express as px\n",
    "import matplotlib.pyplot as plt\n",
    "import matplotlib.colors as mc\n",
    "import matplotlib.cm as cmx\n",
    "import plotly.graph_objs as go\n",
    "from plotly.graph_objs import *\n",
    "from plotly.offline import plot\n",
    "import random\n",
    "import dash_bootstrap_components as dbc\n",
    "import urllib.request, json \n",
    "import dash_daq as daq\n",
    "\n",
    "#pip install scipy\n",
    "#!pip install Dash"
   ]
  },
  {
   "cell_type": "code",
   "execution_count": 2,
   "metadata": {},
   "outputs": [],
   "source": [
    "# Import data\n",
    "\n",
    "data = pd.read_csv('chocolate.csv')\n",
    "continent = pd.read_csv('countryContinent.csv',encoding = \"ISO-8859-1\")\n",
    "imp_exp=pd.read_csv('UNdata_Export_20220301_151116452.csv')\n",
    "coord = pd.read_csv('country_points.csv', encoding = \"ISO-8859-1\")\n"
   ]
  },
  {
   "cell_type": "code",
   "execution_count": 3,
   "metadata": {},
   "outputs": [],
   "source": [
    "imp_exp=imp_exp[imp_exp['Commodity']=='Cocoa beans, whole or broken, raw or roasted'][['Country or Area','Year','Commodity','Flow','Quantity','Trade (USD)']]"
   ]
  },
  {
   "cell_type": "code",
   "execution_count": 4,
   "metadata": {},
   "outputs": [],
   "source": [
    "# Prepare the data for the merge\n",
    "data[\"company_location\"] = data[\"company_location\"].str.title()\n",
    "data[\"country_of_bean_origin\"] = data[\"country_of_bean_origin\"].str.title()\n",
    "data[\"company_location\"].replace({'U.S.A': 'United States of America','U.K.':'United Kingdom of Great Britain and Northern Ireland','Dominican republic':'Dominican Republic','El salvador':'El Salvador','Vietnam':'Viet Nam','Venezuela':'Venezuela (Bolivarian Republic of)','South Korea':'Korea (Republic of)','New Zealand':'New Zealand','Russia':'Russian Federation','Taiwan':'Taiwan, Province of China','Sao Tome':'Sao Tome and Principe','Sao Tome & Principe':'Sao Tome and Principe','St. Lucia':'Saint Lucia','U.A.E.':'United Arab Emirates','St.Vincent-Grenadines':'Saint Vincent and the Grenadines','Bolivia':'Bolivia (Plurinational State of)'}, inplace=True)\n",
    "data[\"country_of_bean_origin\"].replace({'U.S.A': 'United States of America','U.K.':'United Kingdom of Great Britain and Northern Ireland','Dominican republic':'Dominican Republic','El salvador':'El Salvador','Vietnam':'Viet Nam','Venezuela':'Venezuela (Bolivarian Republic of)','South Korea':'Korea (Republic of)','New Zealand':'New Zealand','Russia':'Russian Federation','Taiwan':'Taiwan, Province of China','Sao Tome':'Sao Tome and Principe','Sao Tome & Principe':'Sao Tome and Principe','St. Lucia':'Saint Lucia','U.A.E.':'United Arab Emirates','St.Vincent-Grenadines':'Saint Vincent and the Grenadines','Bolivia':'Bolivia (Plurinational State of)','Burma':'Myanmar','Tanzania':'Tanzania, United Republic of','Trinidad':'Trinidad and Tobago','Dr Congo':'Congo (Democratic Republic of the)'}, inplace=True)"
   ]
  },
  {
   "cell_type": "code",
   "execution_count": 5,
   "metadata": {},
   "outputs": [],
   "source": [
    "# removing Unnamed:0\n",
    "data=data.iloc[:,1:]"
   ]
  },
  {
   "cell_type": "code",
   "execution_count": 6,
   "metadata": {},
   "outputs": [],
   "source": [
    "teste=data.merge(continent[['country','continent','sub_region','code_2']].rename(columns={'continent':'company_continent','sub_region':'company_region','code_2':'company_code_2'}), left_on='company_location', right_on='country', how='left')"
   ]
  },
  {
   "cell_type": "code",
   "execution_count": 7,
   "metadata": {},
   "outputs": [
    {
     "data": {
      "text/plain": [
       "<bound method IndexOpsMixin.value_counts of 193        Wales\n",
       "486     Scotland\n",
       "487     Scotland\n",
       "488     Scotland\n",
       "489     Scotland\n",
       "490     Scotland\n",
       "491     Scotland\n",
       "1083    Scotland\n",
       "1084    Scotland\n",
       "1513    Scotland\n",
       "1514    Scotland\n",
       "Name: company_location, dtype: object>"
      ]
     },
     "execution_count": 7,
     "metadata": {},
     "output_type": "execute_result"
    }
   ],
   "source": [
    "teste[teste['company_continent'].isna()]['company_location'].value_counts"
   ]
  },
  {
   "cell_type": "code",
   "execution_count": 8,
   "metadata": {},
   "outputs": [],
   "source": [
    "teste=teste[teste['company_location']!= 'Scotland']"
   ]
  },
  {
   "cell_type": "code",
   "execution_count": 9,
   "metadata": {},
   "outputs": [],
   "source": [
    "teste=teste.merge(continent[['country','continent','sub_region','code_2']].rename(columns={'continent':'bean_continent','sub_region':'bean_region','code_2':'bean_code_2'}), left_on='country_of_bean_origin', right_on='country', how='left')"
   ]
  },
  {
   "cell_type": "code",
   "execution_count": 10,
   "metadata": {},
   "outputs": [
    {
     "data": {
      "text/plain": [
       "<bound method IndexOpsMixin.value_counts of 88      Blend\n",
       "92      Blend\n",
       "96      Blend\n",
       "100     Blend\n",
       "177     Blend\n",
       "        ...  \n",
       "2188    Blend\n",
       "2201    Blend\n",
       "2203    Blend\n",
       "2209    Blend\n",
       "2213    Blend\n",
       "Name: country_of_bean_origin, Length: 177, dtype: object>"
      ]
     },
     "execution_count": 10,
     "metadata": {},
     "output_type": "execute_result"
    }
   ],
   "source": [
    "teste[teste['bean_continent'].isna()]['country_of_bean_origin'].value_counts"
   ]
  },
  {
   "cell_type": "code",
   "execution_count": 11,
   "metadata": {},
   "outputs": [],
   "source": [
    "teste=teste[teste['country_of_bean_origin']!= 'Blend']"
   ]
  },
  {
   "cell_type": "code",
   "execution_count": 12,
   "metadata": {},
   "outputs": [],
   "source": [
    "data=teste"
   ]
  },
  {
   "cell_type": "code",
   "execution_count": 13,
   "metadata": {},
   "outputs": [],
   "source": [
    "data1=data.groupby(by=['company']).mean()\n"
   ]
  },
  {
   "cell_type": "code",
   "execution_count": 14,
   "metadata": {},
   "outputs": [],
   "source": [
    "imp_exp_regions = imp_exp.merge(continent[['country','continent','sub_region','code_2']].rename(columns={'sub_region':'region'}), left_on = 'Country or Area', right_on= 'country', how= 'left')"
   ]
  },
  {
   "cell_type": "markdown",
   "metadata": {},
   "source": [
    "### TREEMAP\n"
   ]
  },
  {
   "cell_type": "code",
   "execution_count": 15,
   "metadata": {},
   "outputs": [
    {
     "data": {
      "text/html": [
       "<div>\n",
       "<style scoped>\n",
       "    .dataframe tbody tr th:only-of-type {\n",
       "        vertical-align: middle;\n",
       "    }\n",
       "\n",
       "    .dataframe tbody tr th {\n",
       "        vertical-align: top;\n",
       "    }\n",
       "\n",
       "    .dataframe thead th {\n",
       "        text-align: right;\n",
       "    }\n",
       "</style>\n",
       "<table border=\"1\" class=\"dataframe\">\n",
       "  <thead>\n",
       "    <tr style=\"text-align: right;\">\n",
       "      <th></th>\n",
       "      <th>Country or Area</th>\n",
       "      <th>Year</th>\n",
       "      <th>Commodity</th>\n",
       "      <th>Flow</th>\n",
       "      <th>Quantity</th>\n",
       "      <th>Trade (USD)</th>\n",
       "      <th>country</th>\n",
       "      <th>continent</th>\n",
       "      <th>region</th>\n",
       "      <th>code_2</th>\n",
       "    </tr>\n",
       "  </thead>\n",
       "  <tbody>\n",
       "  </tbody>\n",
       "</table>\n",
       "</div>"
      ],
      "text/plain": [
       "Empty DataFrame\n",
       "Columns: [Country or Area, Year, Commodity, Flow, Quantity, Trade (USD), country, continent, region, code_2]\n",
       "Index: []"
      ]
     },
     "execution_count": 15,
     "metadata": {},
     "output_type": "execute_result"
    }
   ],
   "source": [
    "imp_exp_regions.loc[(imp_exp_regions['continent']=='nan') & (imp_exp_regions['Country or Area']!='nan')]"
   ]
  },
  {
   "cell_type": "code",
   "execution_count": 16,
   "metadata": {},
   "outputs": [
    {
     "data": {
      "text/plain": [
       "0"
      ]
     },
     "execution_count": 16,
     "metadata": {},
     "output_type": "execute_result"
    }
   ],
   "source": [
    "imp_exp_regions['Country or Area'].isna().sum()"
   ]
  },
  {
   "cell_type": "code",
   "execution_count": 17,
   "metadata": {},
   "outputs": [
    {
     "data": {
      "text/plain": [
       "648"
      ]
     },
     "execution_count": 17,
     "metadata": {},
     "output_type": "execute_result"
    }
   ],
   "source": [
    "imp_exp_regions['continent'].isna().sum()\n",
    "#imp_exp_regions[imp_exp_regions['Quantity'].isna()==True]"
   ]
  },
  {
   "cell_type": "code",
   "execution_count": 18,
   "metadata": {},
   "outputs": [],
   "source": [
    "imp_exp_regions= imp_exp_regions[~(imp_exp_regions['Flow'] == 'Re-Export')]\n",
    "imp_exp_regions= imp_exp_regions[~(imp_exp_regions['Flow'] == 'Re-Import')]"
   ]
  },
  {
   "cell_type": "code",
   "execution_count": 19,
   "metadata": {},
   "outputs": [
    {
     "data": {
      "text/plain": [
       "0         130\n",
       "1        4524\n",
       "2          45\n",
       "3         262\n",
       "4        1606\n",
       "        ...  \n",
       "5053       79\n",
       "5054      221\n",
       "5055      934\n",
       "5056    14942\n",
       "5057        9\n",
       "Name: Quantity, Length: 4898, dtype: int32"
      ]
     },
     "execution_count": 19,
     "metadata": {},
     "output_type": "execute_result"
    }
   ],
   "source": [
    "imp_exp_regions[\"Quantity\"]= imp_exp_regions[\"Quantity\"].fillna(imp_exp_regions.groupby('Country or Area')['Quantity'].transform('mean'))\n",
    "\n",
    "imp_exp_regions['Quantity'].astype(int)"
   ]
  },
  {
   "cell_type": "code",
   "execution_count": 20,
   "metadata": {},
   "outputs": [],
   "source": [
    "imp_exp_regions=imp_exp_regions[imp_exp_regions['Country or Area'].isnull()!= True] #removing nulls from Country or Area Column\n"
   ]
  },
  {
   "cell_type": "code",
   "execution_count": 120,
   "metadata": {},
   "outputs": [],
   "source": [
    "imp_exp_regions.loc[imp_exp_regions['Country or Area'] == 'State of Palestine', 'continent'] = 'Asia'\n",
    "imp_exp_regions.loc[imp_exp_regions['Country or Area'] == 'Wallis and Futuna Isds', 'continent'] = 'Oceania'\n",
    "imp_exp_regions.loc[imp_exp_regions['Country or Area'] == 'Wallis and Futuna Isds','region'] = 'Polynesia'\n",
    "imp_exp_regions.loc[imp_exp_regions['Country or Area'] == 'Venezuela', 'continent'] = 'Americas'\n",
    "imp_exp_regions.loc[imp_exp_regions['Country or Area'] == 'Venezuela','region'] = 'Southern America'\n",
    "imp_exp_regions.loc[imp_exp_regions['Country or Area'] == 'United Rep. of Tanzania', 'continent'] = 'Africa'\n",
    "imp_exp_regions.loc[imp_exp_regions['Country or Area'] == 'United Rep. of Tanzania','region'] = 'Eastern Africa'\n",
    "imp_exp_regions.loc[imp_exp_regions['Country or Area'] == 'United Rep. of Tanzania','country'] = 'Tanzania'\n",
    "imp_exp_regions.loc[imp_exp_regions['Country or Area'] == 'United Kingdom', 'continent'] = 'Europe'\n",
    "imp_exp_regions.loc[imp_exp_regions['Country or Area'] == 'United Kingdom','region'] = 'Northern Europe'\n",
    "imp_exp_regions.loc[imp_exp_regions['Country or Area'] == 'USA', 'continent'] = 'Americas'\n",
    "imp_exp_regions.loc[imp_exp_regions['Country or Area'] == 'USA','region'] = 'Northern America'\n",
    "imp_exp_regions.loc[imp_exp_regions['Country or Area'] == 'USA','country'] = 'United States of America'\n",
    "imp_exp_regions.loc[imp_exp_regions['Country or Area'] == 'Turks and Caicos Isds', 'continent'] = 'Americas'\n",
    "imp_exp_regions.loc[imp_exp_regions['Country or Area'] == 'Turks and Caicos Isds','region'] = 'Central America'\n",
    "imp_exp_regions.loc[imp_exp_regions['Country or Area'] == 'TFYR of Macedonia', 'continent'] = 'Europe'\n",
    "imp_exp_regions.loc[imp_exp_regions['Country or Area'] == 'TFYR of Macedonia','region'] = 'Southern Europe'\n",
    "imp_exp_regions.loc[imp_exp_regions['Country or Area'] == 'TFYR of Macedonia','country'] = 'Macedonia'\n",
    "imp_exp_regions.loc[imp_exp_regions['Country or Area'] == 'Syria', 'continent'] = 'Asia'\n",
    "imp_exp_regions.loc[imp_exp_regions['Country or Area'] == 'Syria','region'] = 'Western Asia'\n",
    "imp_exp_regions.loc[imp_exp_regions['Country or Area'] == 'Solomon Isds', 'continent'] = 'Oceania'\n",
    "imp_exp_regions.loc[imp_exp_regions['Country or Area'] == 'Solomon Isds','region'] = 'Australia and New Zealand'\n",
    "imp_exp_regions.loc[imp_exp_regions['Country or Area'] == 'Serbia and Montenegro', 'continent'] = 'Europe'\n",
    "imp_exp_regions.loc[imp_exp_regions['Country or Area'] == 'Serbia and Montenegro','region'] = 'Southern Europe'\n",
    "imp_exp_regions.loc[imp_exp_regions['Country or Area'] == 'Rep. of Moldova', 'continent'] = 'Europe'\n",
    "imp_exp_regions.loc[imp_exp_regions['Country or Area'] == 'Rep. of Moldova','region'] = 'Eastern Europe'\n",
    "imp_exp_regions.loc[imp_exp_regions['Country or Area'] == 'Rep. of Moldova','country'] = 'Moldova'\n",
    "imp_exp_regions.loc[imp_exp_regions['Country or Area'] == 'Rep. of Korea', 'continent'] = 'Asia'\n",
    "imp_exp_regions.loc[imp_exp_regions['Country or Area'] == 'Rep. of Korea','region'] = 'Eastern Asia'\n",
    "imp_exp_regions.loc[imp_exp_regions['Country or Area'] == 'Rep. of Korea','country'] = 'South Korea'\n",
    "imp_exp_regions.loc[imp_exp_regions['Country or Area'] == 'Other Asia, nes', 'continent'] = 'Asia'\n",
    "imp_exp_regions.loc[imp_exp_regions['Country or Area'] == 'Other Asia, nes','region'] = 'Other'\n",
    "imp_exp_regions.loc[imp_exp_regions['Country or Area'] == 'Neth. Antilles', 'continent'] = 'Americas'\n",
    "imp_exp_regions.loc[imp_exp_regions['Country or Area'] == 'Neth. Antilles','region'] = 'Caribbean'\n",
    "imp_exp_regions.loc[imp_exp_regions['Country or Area'] == 'Lao People\\'s Dem. Rep.', 'continent'] = 'Asia'\n",
    "imp_exp_regions.loc[imp_exp_regions['Country or Area'] == 'Lao People\\'s Dem. Rep.','region'] = 'South-Eastern Asia'\n",
    "imp_exp_regions.loc[imp_exp_regions['Country or Area'] == 'Lao People\\'s Dem. Rep.','country'] = 'Laos'\n",
    "imp_exp_regions.loc[imp_exp_regions['Country or Area'] == 'Iran', 'continent'] = 'Asia'\n",
    "imp_exp_regions.loc[imp_exp_regions['Country or Area'] == 'Iran','region'] = 'South-Western Asia'\n",
    "imp_exp_regions.loc[imp_exp_regions['Country or Area'] == 'Fmr Fed. Rep. of Germany', 'continent'] = 'Europe'\n",
    "imp_exp_regions.loc[imp_exp_regions['Country or Area'] == 'Fmr Fed. Rep. of Germany','region'] = 'Central Europe'\n",
    "imp_exp_regions.loc[imp_exp_regions['Country or Area'] == 'Fmr Fed. Rep. of Germany','country'] = 'Germany'\n",
    "imp_exp_regions.loc[imp_exp_regions['Country or Area'] == 'Faeroe Isds', 'continent'] = 'Europe'\n",
    "imp_exp_regions.loc[imp_exp_regions['Country or Area'] == 'Faeroe Isds', 'region'] = 'Northern Europe'\n",
    "imp_exp_regions.loc[imp_exp_regions['Country or Area'] == 'FS Micronesia', 'continent'] = 'Oceania'\n",
    "imp_exp_regions.loc[imp_exp_regions['Country or Area'] == 'FS Micronesia', 'region'] = 'Micronesia'\n",
    "imp_exp_regions.loc[imp_exp_regions['Country or Area'] == 'Czech Rep.', 'continent'] = 'Europe'\n",
    "imp_exp_regions.loc[imp_exp_regions['Country or Area'] == 'Czech Rep.', 'region'] = 'Central Europe'\n",
    "imp_exp_regions.loc[imp_exp_regions['Country or Area'] == 'Bosnia Herzegovina', 'continent'] = 'Europe'\n",
    "imp_exp_regions.loc[imp_exp_regions['Country or Area'] == 'Bosnia Herzegovina', 'region'] = 'Southern Europe'\n",
    "imp_exp_regions.loc[imp_exp_regions['Country or Area'] == 'Central African Rep.', 'continent'] = 'Africa'\n",
    "imp_exp_regions.loc[imp_exp_regions['Country or Area'] == 'Central African Rep.', 'region'] = 'Middle Africa'\n",
    "imp_exp_regions.loc[imp_exp_regions['Country or Area'] == 'China, Hong Kong SAR', 'continent'] = 'Asia'\n",
    "imp_exp_regions.loc[imp_exp_regions['Country or Area'] == 'China, Hong Kong SAR', 'region'] = 'Eastern Asia'\n",
    "imp_exp_regions.loc[imp_exp_regions['Country or Area'] == 'China, Macao SAR', 'continent'] = 'Asia'\n",
    "imp_exp_regions.loc[imp_exp_regions['Country or Area'] == 'China, Macao SAR', 'region'] = 'Eastern Asia'\n",
    "imp_exp_regions.loc[imp_exp_regions['Country or Area'] == 'Cook Isds', 'continent'] = 'Oceania'\n",
    "imp_exp_regions.loc[imp_exp_regions['Country or Area'] == 'Cook Isds', 'region'] = 'Polynesia'\n",
    "imp_exp_regions.loc[imp_exp_regions['Country or Area'] == 'Dominican Rep.', 'continent'] = 'Americas'\n",
    "imp_exp_regions.loc[imp_exp_regions['Country or Area'] == 'Dominican Rep.', 'region'] = 'Caribbean'\n",
    "imp_exp_regions.loc[imp_exp_regions['Country or Area'] == 'Fmr Sudan', 'continent'] = 'Africa'\n",
    "imp_exp_regions.loc[imp_exp_regions['Country or Area'] == 'Fmr Sudan','region'] = 'Northern Africa'\n",
    "imp_exp_regions.loc[imp_exp_regions['Country or Area'] == 'Fmr Sudan','country'] = 'Sudan'\n",
    "\n",
    "imp_exp_regions= imp_exp_regions[~(imp_exp_regions['Country or Area'] == 'Belgium-Luxembourg')]\n",
    "\n",
    "imp_exp_regions= imp_exp_regions[~(imp_exp_regions['Country or Area'] == 'EU-28')]\n",
    "imp_exp_regions= imp_exp_regions[~(imp_exp_regions['Country or Area'] == 'So. African Customs Union')]\n",
    "imp_exp_regions= imp_exp_regions[~(imp_exp_regions['Country or Area'] == 'China, Hong Kong SAR')]\n"
   ]
  },
  {
   "cell_type": "code",
   "execution_count": 123,
   "metadata": {},
   "outputs": [],
   "source": [
    "flows_df=imp_exp_regions.drop(columns=['country', 'code_2','region'])"
   ]
  },
  {
   "cell_type": "code",
   "execution_count": 127,
   "metadata": {},
   "outputs": [],
   "source": [
    "#convert data type and sort the data by Year\n",
    "flows_df=flows_df.sort_values(by=['Year'])"
   ]
  },
  {
   "cell_type": "code",
   "execution_count": 125,
   "metadata": {},
   "outputs": [],
   "source": [
    "flows_df=flows_df.dropna(how='any')"
   ]
  },
  {
   "cell_type": "code",
   "execution_count": 131,
   "metadata": {},
   "outputs": [],
   "source": [
    "#flows_df[flows_df['Quantity']<= 0]\n",
    "flows_df= flows_df[~(flows_df['Quantity'] <= 0)] "
   ]
  },
  {
   "cell_type": "code",
   "execution_count": 133,
   "metadata": {},
   "outputs": [],
   "source": [
    "#delete years until all continents have value for exports and imports\n",
    "\n",
    "flows_df=flows_df[flows_df['Year']!=1988]\n",
    "flows_df=flows_df[flows_df['Year']!=1989]\n",
    "flows_df=flows_df[flows_df['Year']!=1990]"
   ]
  },
  {
   "cell_type": "code",
   "execution_count": 141,
   "metadata": {},
   "outputs": [],
   "source": [
    "tree_variables = [\n",
    "                    {'label': 'Quantity', 'value': 'Quantity'},\n",
    "                    {'label': 'Trade (USD)', 'value': 'Trade (USD)'}\n",
    "                 ]\n",
    "\n",
    "tree_flows_Dict = [\n",
    "                    {'label': 'Export', 'value': 'Export'},\n",
    "                    {'label': 'Import', 'value': 'Import'}\n",
    "                 ]"
   ]
  },
  {
   "cell_type": "markdown",
   "metadata": {},
   "source": [
    "# ----- Helena\n"
   ]
  },
  {
   "cell_type": "code",
   "execution_count": 35,
   "metadata": {},
   "outputs": [],
   "source": [
    "\n",
    "ingredients = [\n",
    "    {'label': 'Has Sugar', 'value': 'have_sugar'},\n",
    "    {'label': 'Has not Sugar', 'value': 'have_not_sugar'},\n",
    "    {'label': 'Has Vanilla', 'value': 'have_vanila'},\n",
    "    {'label': 'Has not Vanilla', 'value': 'have_not_vanila'},\n",
    "    {'label': 'Has Salt', 'value': 'have_salt'},\n",
    "    {'label': 'Has not Salt', 'value': 'have_not_salt'},\n",
    "    {'label': 'Has Lecithin', 'value': 'have_lecithin'},\n",
    "    {'label': 'Has not Lecithin', 'value': 'have_not_lecithin'}\n",
    "]\n"
   ]
  },
  {
   "cell_type": "code",
   "execution_count": 36,
   "metadata": {},
   "outputs": [],
   "source": [
    "# @app.callback(\n",
    "   \n",
    "#    [Output(\"name_company_id\", \"children\"),\n",
    "#     Output(\"rating_id\", \"children\"),\n",
    "#     Output(\"country_id\", \"children\"),\n",
    "#     Output('graph1', 'figure')],\n",
    "   \n",
    "#     [Input('drop_id', 'value'),\n",
    "#      Input('percent_id','value')] )\n",
    "\n",
    "# def update_graph(drop_id,percent_id):\n",
    "    \n",
    "#     filtered=data\n",
    "#     for each in drop_id:\n",
    "#         filtered=filtered[filtered.isin([each]).any(1)] \n",
    "    \n",
    "#     filtered = filtered[(filtered['cocoa_percent'] >= percent_id[0]) & (filtered['cocoa_percent'] <= percent_id[1])]\n",
    "\n",
    "#     # maxi=np.max(filtered['rating'])\n",
    "#     # filtered=filtered[filtered['rating']==maxi]\n",
    "    \n",
    "#     data_inter = dict(type='bar', x=filtered['company'], y=filtered['rating'])\n",
    "   \n",
    "#     layout_1 = dict(xaxis=dict(title='Companies'),\n",
    "#                    yaxis=dict(title='Ratings'))\n",
    "    \n",
    "#     fig = go.Figure(data=data_inter, layout=layout_1)  \n",
    "\n",
    "#     if filtered.empty:\n",
    "#         name_company = 'No company was found'\n",
    "#         rating = 'No rating was found'\n",
    "#         country= 'No country was found'\n",
    "        \n",
    "#     else:\n",
    "#         name_company=str(filtered.head(1)['company'].values[0])\n",
    "#         rating=str(filtered.head(1)['rating'].values[0])\n",
    "#         country=str(filtered.head(1)['company_location'].values[0])\n",
    "    \n",
    "#     return name_company ,  \\\n",
    "#            rating , \\\n",
    "#            country , \\\n",
    "#            fig\n",
    "\n",
    "# if __name__ == '__main__':\n",
    "#     app.run_server(debug=True, use_reloader=False)"
   ]
  },
  {
   "cell_type": "markdown",
   "metadata": {},
   "source": [
    "# ------- Filipa\n"
   ]
  },
  {
   "cell_type": "markdown",
   "metadata": {},
   "source": [
    "### Column count_tastes\n"
   ]
  },
  {
   "cell_type": "code",
   "execution_count": 37,
   "metadata": {},
   "outputs": [],
   "source": [
    "test_taste = data"
   ]
  },
  {
   "cell_type": "code",
   "execution_count": 38,
   "metadata": {},
   "outputs": [],
   "source": [
    "test_taste['first_taste'].fillna(value = 0, inplace = True)\n",
    "test_taste['second_taste'].fillna(value = 0, inplace = True)\n",
    "test_taste['third_taste'].fillna(value = 0, inplace = True)\n",
    "test_taste['fourth_taste'].fillna(value = 0, inplace = True)"
   ]
  },
  {
   "cell_type": "code",
   "execution_count": 39,
   "metadata": {},
   "outputs": [],
   "source": [
    "#taste = lambda x: 1 if x.isna() == False else 0\n",
    "taste = lambda x: 1 if x != 0 else x"
   ]
  },
  {
   "cell_type": "code",
   "execution_count": 40,
   "metadata": {},
   "outputs": [],
   "source": [
    "test_taste['binFirst_taste'] = test_taste['first_taste'].apply(taste)\n",
    "test_taste['binSecond_taste'] = test_taste['second_taste'].apply(taste)\n",
    "test_taste['binThird_taste'] = test_taste['third_taste'].apply(taste)\n",
    "test_taste['binFourth_taste'] = test_taste['fourth_taste'].apply(taste)"
   ]
  },
  {
   "cell_type": "code",
   "execution_count": 41,
   "metadata": {},
   "outputs": [],
   "source": [
    "test_taste['count_tastes'] = test_taste['binFirst_taste'] + test_taste['binSecond_taste'] + test_taste['binThird_taste'] + test_taste['binFourth_taste']"
   ]
  },
  {
   "cell_type": "markdown",
   "metadata": {},
   "source": [
    "### Radar Plot\n"
   ]
  },
  {
   "cell_type": "code",
   "execution_count": 42,
   "metadata": {
    "scrolled": true
   },
   "outputs": [],
   "source": [
    "feat_radar = ['cocoa_percent', 'rating', 'counts_of_ingredients', 'count_tastes']"
   ]
  },
  {
   "cell_type": "code",
   "execution_count": 43,
   "metadata": {
    "scrolled": false
   },
   "outputs": [],
   "source": [
    "radar = pd.DataFrame(round(test_taste.groupby(by = 'company')[feat_radar].mean(),2))\n",
    "radar['company_name'] = radar.index\n",
    "radar.insert(0, 'cocoa_level', round((5 * radar['cocoa_percent']) / 100, 2))\n",
    "radar.drop(columns = {'cocoa_percent'}, inplace = True)\n"
   ]
  },
  {
   "cell_type": "code",
   "execution_count": 44,
   "metadata": {},
   "outputs": [],
   "source": [
    "feat_radar = ['cocoa_level', 'rating', 'counts_of_ingredients', 'count_tastes']"
   ]
  },
  {
   "cell_type": "code",
   "execution_count": 45,
   "metadata": {},
   "outputs": [],
   "source": [
    "company1 = '5150'\n",
    "company2 = 'A. Morin'"
   ]
  },
  {
   "cell_type": "code",
   "execution_count": 46,
   "metadata": {},
   "outputs": [
    {
     "data": {
      "text/plain": [
       "company\n",
       "5150                              True\n",
       "A. Morin                          True\n",
       "AMMA                             False\n",
       "Acalli                           False\n",
       "Adi aka Fijiana (Easy In Ltd)    False\n",
       "                                 ...  \n",
       "Zotter                           False\n",
       "hello cocoa                      False\n",
       "hexx                             False\n",
       "organicfair                      False\n",
       "twenty-four blackbirds           False\n",
       "Name: company_name, Length: 488, dtype: bool"
      ]
     },
     "execution_count": 46,
     "metadata": {},
     "output_type": "execute_result"
    }
   ],
   "source": [
    "radar['company_name'].isin([company1, company2])"
   ]
  },
  {
   "cell_type": "code",
   "execution_count": 47,
   "metadata": {},
   "outputs": [
    {
     "data": {
      "text/plain": [
       "[3.8, 3.5, 3.0, 3.0]"
      ]
     },
     "execution_count": 47,
     "metadata": {},
     "output_type": "execute_result"
    }
   ],
   "source": [
    "company1_list = []\n",
    "\n",
    "company1_df = pd.DataFrame(radar[radar['company_name'] == company1])\n",
    "for i in range(len(radar.columns)-1):\n",
    "    company1_list.append(radar[radar['company_name'] == company1].iloc[0,i])\n",
    "\n",
    "company1_list"
   ]
  },
  {
   "cell_type": "code",
   "execution_count": 48,
   "metadata": {},
   "outputs": [
    {
     "data": {
      "text/plain": [
       "[3.44, 3.4, 3.96, 2.88]"
      ]
     },
     "execution_count": 48,
     "metadata": {},
     "output_type": "execute_result"
    }
   ],
   "source": [
    "company2_list = []\n",
    "\n",
    "company2_df = pd.DataFrame(radar[radar['company_name'] == company2])\n",
    "for i in range(len(radar.columns)-1):\n",
    "    company2_list.append(radar[radar['company_name'] == company2].iloc[0,i])\n",
    "\n",
    "company2_list"
   ]
  },
  {
   "cell_type": "code",
   "execution_count": 49,
   "metadata": {},
   "outputs": [
    {
     "data": {
      "text/plain": [
       "['cocoa_level', 'rating', 'counts_of_ingredients', 'count_tastes']"
      ]
     },
     "execution_count": 49,
     "metadata": {},
     "output_type": "execute_result"
    }
   ],
   "source": [
    "feat_radar"
   ]
  },
  {
   "cell_type": "code",
   "execution_count": 50,
   "metadata": {
    "scrolled": false
   },
   "outputs": [
    {
     "data": {
      "application/vnd.plotly.v1+json": {
       "config": {
        "plotlyServerURL": "https://plot.ly"
       },
       "data": [
        {
         "fill": "toself",
         "hoverinfo": "text",
         "marker": {
          "color": "rgb(205,102,29)"
         },
         "name": "5150",
         "opacity": 1,
         "r": [
          3.8,
          3.5,
          3,
          3
         ],
         "text": [
          "cocoa_level = 3.8",
          "rating = 3.5",
          "counts_of_ingredients = 3.0",
          "count_tastes = 3.0"
         ],
         "theta": [
          "Level of Cocoa",
          "Rating",
          "Number of Ingredients",
          "Number of Tastes"
         ],
         "type": "scatterpolar"
        },
        {
         "fill": "toself",
         "hoverinfo": "text",
         "marker": {
          "color": "rgb(193,255,193)"
         },
         "name": "A. Morin",
         "r": [
          3.44,
          3.4,
          3.96,
          2.88
         ],
         "text": [
          "cocoa_level = 3.44",
          "rating = 3.4",
          "counts_of_ingredients = 3.96",
          "count_tastes = 2.88"
         ],
         "theta": [
          "Level of Cocoa",
          "Rating",
          "Number of Ingredients",
          "Number of Tastes"
         ],
         "type": "scatterpolar"
        }
       ],
       "layout": {
        "paper_bgcolor": "rgba(0,0,0,0)",
        "plot_bgcolor": "rgba(0,0,0,0)",
        "polar": {
         "radialaxis": {
          "range": [
           0,
           5
          ],
          "visible": true
         }
        },
        "showlegend": true,
        "template": {
         "data": {
          "bar": [
           {
            "error_x": {
             "color": "#2a3f5f"
            },
            "error_y": {
             "color": "#2a3f5f"
            },
            "marker": {
             "line": {
              "color": "#E5ECF6",
              "width": 0.5
             },
             "pattern": {
              "fillmode": "overlay",
              "size": 10,
              "solidity": 0.2
             }
            },
            "type": "bar"
           }
          ],
          "barpolar": [
           {
            "marker": {
             "line": {
              "color": "#E5ECF6",
              "width": 0.5
             },
             "pattern": {
              "fillmode": "overlay",
              "size": 10,
              "solidity": 0.2
             }
            },
            "type": "barpolar"
           }
          ],
          "carpet": [
           {
            "aaxis": {
             "endlinecolor": "#2a3f5f",
             "gridcolor": "white",
             "linecolor": "white",
             "minorgridcolor": "white",
             "startlinecolor": "#2a3f5f"
            },
            "baxis": {
             "endlinecolor": "#2a3f5f",
             "gridcolor": "white",
             "linecolor": "white",
             "minorgridcolor": "white",
             "startlinecolor": "#2a3f5f"
            },
            "type": "carpet"
           }
          ],
          "choropleth": [
           {
            "colorbar": {
             "outlinewidth": 0,
             "ticks": ""
            },
            "type": "choropleth"
           }
          ],
          "contour": [
           {
            "colorbar": {
             "outlinewidth": 0,
             "ticks": ""
            },
            "colorscale": [
             [
              0,
              "#0d0887"
             ],
             [
              0.1111111111111111,
              "#46039f"
             ],
             [
              0.2222222222222222,
              "#7201a8"
             ],
             [
              0.3333333333333333,
              "#9c179e"
             ],
             [
              0.4444444444444444,
              "#bd3786"
             ],
             [
              0.5555555555555556,
              "#d8576b"
             ],
             [
              0.6666666666666666,
              "#ed7953"
             ],
             [
              0.7777777777777778,
              "#fb9f3a"
             ],
             [
              0.8888888888888888,
              "#fdca26"
             ],
             [
              1,
              "#f0f921"
             ]
            ],
            "type": "contour"
           }
          ],
          "contourcarpet": [
           {
            "colorbar": {
             "outlinewidth": 0,
             "ticks": ""
            },
            "type": "contourcarpet"
           }
          ],
          "heatmap": [
           {
            "colorbar": {
             "outlinewidth": 0,
             "ticks": ""
            },
            "colorscale": [
             [
              0,
              "#0d0887"
             ],
             [
              0.1111111111111111,
              "#46039f"
             ],
             [
              0.2222222222222222,
              "#7201a8"
             ],
             [
              0.3333333333333333,
              "#9c179e"
             ],
             [
              0.4444444444444444,
              "#bd3786"
             ],
             [
              0.5555555555555556,
              "#d8576b"
             ],
             [
              0.6666666666666666,
              "#ed7953"
             ],
             [
              0.7777777777777778,
              "#fb9f3a"
             ],
             [
              0.8888888888888888,
              "#fdca26"
             ],
             [
              1,
              "#f0f921"
             ]
            ],
            "type": "heatmap"
           }
          ],
          "heatmapgl": [
           {
            "colorbar": {
             "outlinewidth": 0,
             "ticks": ""
            },
            "colorscale": [
             [
              0,
              "#0d0887"
             ],
             [
              0.1111111111111111,
              "#46039f"
             ],
             [
              0.2222222222222222,
              "#7201a8"
             ],
             [
              0.3333333333333333,
              "#9c179e"
             ],
             [
              0.4444444444444444,
              "#bd3786"
             ],
             [
              0.5555555555555556,
              "#d8576b"
             ],
             [
              0.6666666666666666,
              "#ed7953"
             ],
             [
              0.7777777777777778,
              "#fb9f3a"
             ],
             [
              0.8888888888888888,
              "#fdca26"
             ],
             [
              1,
              "#f0f921"
             ]
            ],
            "type": "heatmapgl"
           }
          ],
          "histogram": [
           {
            "marker": {
             "pattern": {
              "fillmode": "overlay",
              "size": 10,
              "solidity": 0.2
             }
            },
            "type": "histogram"
           }
          ],
          "histogram2d": [
           {
            "colorbar": {
             "outlinewidth": 0,
             "ticks": ""
            },
            "colorscale": [
             [
              0,
              "#0d0887"
             ],
             [
              0.1111111111111111,
              "#46039f"
             ],
             [
              0.2222222222222222,
              "#7201a8"
             ],
             [
              0.3333333333333333,
              "#9c179e"
             ],
             [
              0.4444444444444444,
              "#bd3786"
             ],
             [
              0.5555555555555556,
              "#d8576b"
             ],
             [
              0.6666666666666666,
              "#ed7953"
             ],
             [
              0.7777777777777778,
              "#fb9f3a"
             ],
             [
              0.8888888888888888,
              "#fdca26"
             ],
             [
              1,
              "#f0f921"
             ]
            ],
            "type": "histogram2d"
           }
          ],
          "histogram2dcontour": [
           {
            "colorbar": {
             "outlinewidth": 0,
             "ticks": ""
            },
            "colorscale": [
             [
              0,
              "#0d0887"
             ],
             [
              0.1111111111111111,
              "#46039f"
             ],
             [
              0.2222222222222222,
              "#7201a8"
             ],
             [
              0.3333333333333333,
              "#9c179e"
             ],
             [
              0.4444444444444444,
              "#bd3786"
             ],
             [
              0.5555555555555556,
              "#d8576b"
             ],
             [
              0.6666666666666666,
              "#ed7953"
             ],
             [
              0.7777777777777778,
              "#fb9f3a"
             ],
             [
              0.8888888888888888,
              "#fdca26"
             ],
             [
              1,
              "#f0f921"
             ]
            ],
            "type": "histogram2dcontour"
           }
          ],
          "mesh3d": [
           {
            "colorbar": {
             "outlinewidth": 0,
             "ticks": ""
            },
            "type": "mesh3d"
           }
          ],
          "parcoords": [
           {
            "line": {
             "colorbar": {
              "outlinewidth": 0,
              "ticks": ""
             }
            },
            "type": "parcoords"
           }
          ],
          "pie": [
           {
            "automargin": true,
            "type": "pie"
           }
          ],
          "scatter": [
           {
            "marker": {
             "colorbar": {
              "outlinewidth": 0,
              "ticks": ""
             }
            },
            "type": "scatter"
           }
          ],
          "scatter3d": [
           {
            "line": {
             "colorbar": {
              "outlinewidth": 0,
              "ticks": ""
             }
            },
            "marker": {
             "colorbar": {
              "outlinewidth": 0,
              "ticks": ""
             }
            },
            "type": "scatter3d"
           }
          ],
          "scattercarpet": [
           {
            "marker": {
             "colorbar": {
              "outlinewidth": 0,
              "ticks": ""
             }
            },
            "type": "scattercarpet"
           }
          ],
          "scattergeo": [
           {
            "marker": {
             "colorbar": {
              "outlinewidth": 0,
              "ticks": ""
             }
            },
            "type": "scattergeo"
           }
          ],
          "scattergl": [
           {
            "marker": {
             "colorbar": {
              "outlinewidth": 0,
              "ticks": ""
             }
            },
            "type": "scattergl"
           }
          ],
          "scattermapbox": [
           {
            "marker": {
             "colorbar": {
              "outlinewidth": 0,
              "ticks": ""
             }
            },
            "type": "scattermapbox"
           }
          ],
          "scatterpolar": [
           {
            "marker": {
             "colorbar": {
              "outlinewidth": 0,
              "ticks": ""
             }
            },
            "type": "scatterpolar"
           }
          ],
          "scatterpolargl": [
           {
            "marker": {
             "colorbar": {
              "outlinewidth": 0,
              "ticks": ""
             }
            },
            "type": "scatterpolargl"
           }
          ],
          "scatterternary": [
           {
            "marker": {
             "colorbar": {
              "outlinewidth": 0,
              "ticks": ""
             }
            },
            "type": "scatterternary"
           }
          ],
          "surface": [
           {
            "colorbar": {
             "outlinewidth": 0,
             "ticks": ""
            },
            "colorscale": [
             [
              0,
              "#0d0887"
             ],
             [
              0.1111111111111111,
              "#46039f"
             ],
             [
              0.2222222222222222,
              "#7201a8"
             ],
             [
              0.3333333333333333,
              "#9c179e"
             ],
             [
              0.4444444444444444,
              "#bd3786"
             ],
             [
              0.5555555555555556,
              "#d8576b"
             ],
             [
              0.6666666666666666,
              "#ed7953"
             ],
             [
              0.7777777777777778,
              "#fb9f3a"
             ],
             [
              0.8888888888888888,
              "#fdca26"
             ],
             [
              1,
              "#f0f921"
             ]
            ],
            "type": "surface"
           }
          ],
          "table": [
           {
            "cells": {
             "fill": {
              "color": "#EBF0F8"
             },
             "line": {
              "color": "white"
             }
            },
            "header": {
             "fill": {
              "color": "#C8D4E3"
             },
             "line": {
              "color": "white"
             }
            },
            "type": "table"
           }
          ]
         },
         "layout": {
          "annotationdefaults": {
           "arrowcolor": "#2a3f5f",
           "arrowhead": 0,
           "arrowwidth": 1
          },
          "autotypenumbers": "strict",
          "coloraxis": {
           "colorbar": {
            "outlinewidth": 0,
            "ticks": ""
           }
          },
          "colorscale": {
           "diverging": [
            [
             0,
             "#8e0152"
            ],
            [
             0.1,
             "#c51b7d"
            ],
            [
             0.2,
             "#de77ae"
            ],
            [
             0.3,
             "#f1b6da"
            ],
            [
             0.4,
             "#fde0ef"
            ],
            [
             0.5,
             "#f7f7f7"
            ],
            [
             0.6,
             "#e6f5d0"
            ],
            [
             0.7,
             "#b8e186"
            ],
            [
             0.8,
             "#7fbc41"
            ],
            [
             0.9,
             "#4d9221"
            ],
            [
             1,
             "#276419"
            ]
           ],
           "sequential": [
            [
             0,
             "#0d0887"
            ],
            [
             0.1111111111111111,
             "#46039f"
            ],
            [
             0.2222222222222222,
             "#7201a8"
            ],
            [
             0.3333333333333333,
             "#9c179e"
            ],
            [
             0.4444444444444444,
             "#bd3786"
            ],
            [
             0.5555555555555556,
             "#d8576b"
            ],
            [
             0.6666666666666666,
             "#ed7953"
            ],
            [
             0.7777777777777778,
             "#fb9f3a"
            ],
            [
             0.8888888888888888,
             "#fdca26"
            ],
            [
             1,
             "#f0f921"
            ]
           ],
           "sequentialminus": [
            [
             0,
             "#0d0887"
            ],
            [
             0.1111111111111111,
             "#46039f"
            ],
            [
             0.2222222222222222,
             "#7201a8"
            ],
            [
             0.3333333333333333,
             "#9c179e"
            ],
            [
             0.4444444444444444,
             "#bd3786"
            ],
            [
             0.5555555555555556,
             "#d8576b"
            ],
            [
             0.6666666666666666,
             "#ed7953"
            ],
            [
             0.7777777777777778,
             "#fb9f3a"
            ],
            [
             0.8888888888888888,
             "#fdca26"
            ],
            [
             1,
             "#f0f921"
            ]
           ]
          },
          "colorway": [
           "#636efa",
           "#EF553B",
           "#00cc96",
           "#ab63fa",
           "#FFA15A",
           "#19d3f3",
           "#FF6692",
           "#B6E880",
           "#FF97FF",
           "#FECB52"
          ],
          "font": {
           "color": "#2a3f5f"
          },
          "geo": {
           "bgcolor": "white",
           "lakecolor": "white",
           "landcolor": "#E5ECF6",
           "showlakes": true,
           "showland": true,
           "subunitcolor": "white"
          },
          "hoverlabel": {
           "align": "left"
          },
          "hovermode": "closest",
          "mapbox": {
           "style": "light"
          },
          "paper_bgcolor": "white",
          "plot_bgcolor": "#E5ECF6",
          "polar": {
           "angularaxis": {
            "gridcolor": "white",
            "linecolor": "white",
            "ticks": ""
           },
           "bgcolor": "#E5ECF6",
           "radialaxis": {
            "gridcolor": "white",
            "linecolor": "white",
            "ticks": ""
           }
          },
          "scene": {
           "xaxis": {
            "backgroundcolor": "#E5ECF6",
            "gridcolor": "white",
            "gridwidth": 2,
            "linecolor": "white",
            "showbackground": true,
            "ticks": "",
            "zerolinecolor": "white"
           },
           "yaxis": {
            "backgroundcolor": "#E5ECF6",
            "gridcolor": "white",
            "gridwidth": 2,
            "linecolor": "white",
            "showbackground": true,
            "ticks": "",
            "zerolinecolor": "white"
           },
           "zaxis": {
            "backgroundcolor": "#E5ECF6",
            "gridcolor": "white",
            "gridwidth": 2,
            "linecolor": "white",
            "showbackground": true,
            "ticks": "",
            "zerolinecolor": "white"
           }
          },
          "shapedefaults": {
           "line": {
            "color": "#2a3f5f"
           }
          },
          "ternary": {
           "aaxis": {
            "gridcolor": "white",
            "linecolor": "white",
            "ticks": ""
           },
           "baxis": {
            "gridcolor": "white",
            "linecolor": "white",
            "ticks": ""
           },
           "bgcolor": "#E5ECF6",
           "caxis": {
            "gridcolor": "white",
            "linecolor": "white",
            "ticks": ""
           }
          },
          "title": {
           "x": 0.05
          },
          "xaxis": {
           "automargin": true,
           "gridcolor": "white",
           "linecolor": "white",
           "ticks": "",
           "title": {
            "standoff": 15
           },
           "zerolinecolor": "white",
           "zerolinewidth": 2
          },
          "yaxis": {
           "automargin": true,
           "gridcolor": "white",
           "linecolor": "white",
           "ticks": "",
           "title": {
            "standoff": 15
           },
           "zerolinecolor": "white",
           "zerolinewidth": 2
          }
         }
        }
       }
      }
     },
     "metadata": {},
     "output_type": "display_data"
    }
   ],
   "source": [
    "\n",
    "fig = go.Figure(data=go.Scatterpolar(\n",
    "        r=company1_list,\n",
    "        theta=['Level of Cocoa', 'Rating', 'Number of Ingredients', 'Number of Tastes'],\n",
    "        fill='toself', \n",
    "        marker_color = 'rgb(205,102,29)',   \n",
    "        opacity =1, \n",
    "        hoverinfo = \"text\" ,\n",
    "        name = company1,\n",
    "        text  = [company1_df.columns[i] + ' = ' + str(company1_df.iloc[0,i]) for i in range(len(company1_list))]\n",
    "    ), layout = Layout(\n",
    "    paper_bgcolor='rgba(0,0,0,0)',\n",
    "    plot_bgcolor='rgba(0,0,0,0)'))\n",
    "fig.add_trace(go.Scatterpolar(\n",
    "        r=company2_list,\n",
    "        theta=['Level of Cocoa', 'Rating', 'Number of Ingredients', 'Number of Tastes'],\n",
    "        fill='toself',\n",
    "        marker_color = 'rgb(193,255,193)',\n",
    "        hoverinfo = \"text\" ,\n",
    "        name= company2,\n",
    "        text  = [company2_df.columns[i] + ' = ' + str(company2_df.iloc[0,i]) for i in range(len(company2_list))]\n",
    "        ))\n",
    "\n",
    "fig.update_layout(\n",
    "  polar=dict(\n",
    "    radialaxis=dict(\n",
    "      visible=True,\n",
    "      range=[0, 5]\n",
    "    )),\n",
    "  showlegend=True\n",
    ")\n",
    "\n",
    "fig.show()"
   ]
  },
  {
   "cell_type": "code",
   "execution_count": 51,
   "metadata": {},
   "outputs": [],
   "source": [
    "companies = list(data['company'].unique())\n",
    "#companies"
   ]
  },
  {
   "cell_type": "markdown",
   "metadata": {},
   "source": [
    "### Routes Dataframe"
   ]
  },
  {
   "cell_type": "code",
   "execution_count": 52,
   "metadata": {},
   "outputs": [
    {
     "data": {
      "text/html": [
       "<div>\n",
       "<style scoped>\n",
       "    .dataframe tbody tr th:only-of-type {\n",
       "        vertical-align: middle;\n",
       "    }\n",
       "\n",
       "    .dataframe tbody tr th {\n",
       "        vertical-align: top;\n",
       "    }\n",
       "\n",
       "    .dataframe thead th {\n",
       "        text-align: right;\n",
       "    }\n",
       "</style>\n",
       "<table border=\"1\" class=\"dataframe\">\n",
       "  <thead>\n",
       "    <tr style=\"text-align: right;\">\n",
       "      <th></th>\n",
       "      <th>country</th>\n",
       "      <th>latitude</th>\n",
       "      <th>longitude</th>\n",
       "      <th>name</th>\n",
       "    </tr>\n",
       "  </thead>\n",
       "  <tbody>\n",
       "    <tr>\n",
       "      <th>0</th>\n",
       "      <td>AD</td>\n",
       "      <td>42.546245</td>\n",
       "      <td>1.601554</td>\n",
       "      <td>Andorra</td>\n",
       "    </tr>\n",
       "    <tr>\n",
       "      <th>1</th>\n",
       "      <td>AE</td>\n",
       "      <td>23.424076</td>\n",
       "      <td>53.847818</td>\n",
       "      <td>United Arab Emirates</td>\n",
       "    </tr>\n",
       "    <tr>\n",
       "      <th>2</th>\n",
       "      <td>AF</td>\n",
       "      <td>33.939110</td>\n",
       "      <td>67.709953</td>\n",
       "      <td>Afghanistan</td>\n",
       "    </tr>\n",
       "    <tr>\n",
       "      <th>3</th>\n",
       "      <td>AG</td>\n",
       "      <td>17.060816</td>\n",
       "      <td>-61.796428</td>\n",
       "      <td>Antigua and Barbuda</td>\n",
       "    </tr>\n",
       "    <tr>\n",
       "      <th>4</th>\n",
       "      <td>AI</td>\n",
       "      <td>18.220554</td>\n",
       "      <td>-63.068615</td>\n",
       "      <td>Anguilla</td>\n",
       "    </tr>\n",
       "    <tr>\n",
       "      <th>...</th>\n",
       "      <td>...</td>\n",
       "      <td>...</td>\n",
       "      <td>...</td>\n",
       "      <td>...</td>\n",
       "    </tr>\n",
       "    <tr>\n",
       "      <th>239</th>\n",
       "      <td>YE</td>\n",
       "      <td>15.552727</td>\n",
       "      <td>48.516388</td>\n",
       "      <td>Yemen</td>\n",
       "    </tr>\n",
       "    <tr>\n",
       "      <th>240</th>\n",
       "      <td>YT</td>\n",
       "      <td>-12.827500</td>\n",
       "      <td>45.166244</td>\n",
       "      <td>Mayotte</td>\n",
       "    </tr>\n",
       "    <tr>\n",
       "      <th>241</th>\n",
       "      <td>ZA</td>\n",
       "      <td>-30.559482</td>\n",
       "      <td>22.937506</td>\n",
       "      <td>South Africa</td>\n",
       "    </tr>\n",
       "    <tr>\n",
       "      <th>242</th>\n",
       "      <td>ZM</td>\n",
       "      <td>-13.133897</td>\n",
       "      <td>27.849332</td>\n",
       "      <td>Zambia</td>\n",
       "    </tr>\n",
       "    <tr>\n",
       "      <th>243</th>\n",
       "      <td>ZW</td>\n",
       "      <td>-19.015438</td>\n",
       "      <td>29.154857</td>\n",
       "      <td>Zimbabwe</td>\n",
       "    </tr>\n",
       "  </tbody>\n",
       "</table>\n",
       "<p>244 rows × 4 columns</p>\n",
       "</div>"
      ],
      "text/plain": [
       "    country   latitude  longitude                  name\n",
       "0        AD  42.546245   1.601554               Andorra\n",
       "1        AE  23.424076  53.847818  United Arab Emirates\n",
       "2        AF  33.939110  67.709953           Afghanistan\n",
       "3        AG  17.060816 -61.796428   Antigua and Barbuda\n",
       "4        AI  18.220554 -63.068615              Anguilla\n",
       "..      ...        ...        ...                   ...\n",
       "239      YE  15.552727  48.516388                 Yemen\n",
       "240      YT -12.827500  45.166244               Mayotte\n",
       "241      ZA -30.559482  22.937506          South Africa\n",
       "242      ZM -13.133897  27.849332                Zambia\n",
       "243      ZW -19.015438  29.154857              Zimbabwe\n",
       "\n",
       "[244 rows x 4 columns]"
      ]
     },
     "execution_count": 52,
     "metadata": {},
     "output_type": "execute_result"
    }
   ],
   "source": [
    "coord"
   ]
  },
  {
   "cell_type": "code",
   "execution_count": 53,
   "metadata": {},
   "outputs": [
    {
     "ename": "TypeError",
     "evalue": "'<' not supported between instances of 'str' and 'float'",
     "output_type": "error",
     "traceback": [
      "\u001b[1;31m---------------------------------------------------------------------------\u001b[0m",
      "\u001b[1;31mTypeError\u001b[0m                                 Traceback (most recent call last)",
      "\u001b[1;32m~\\anaconda3\\lib\\site-packages\\pandas\\core\\algorithms.py\u001b[0m in \u001b[0;36msafe_sort\u001b[1;34m(values, codes, na_sentinel, assume_unique, verify)\u001b[0m\n\u001b[0;32m   2065\u001b[0m         \u001b[1;32mtry\u001b[0m\u001b[1;33m:\u001b[0m\u001b[1;33m\u001b[0m\u001b[1;33m\u001b[0m\u001b[0m\n\u001b[1;32m-> 2066\u001b[1;33m             \u001b[0msorter\u001b[0m \u001b[1;33m=\u001b[0m \u001b[0mvalues\u001b[0m\u001b[1;33m.\u001b[0m\u001b[0margsort\u001b[0m\u001b[1;33m(\u001b[0m\u001b[1;33m)\u001b[0m\u001b[1;33m\u001b[0m\u001b[1;33m\u001b[0m\u001b[0m\n\u001b[0m\u001b[0;32m   2067\u001b[0m             \u001b[0mordered\u001b[0m \u001b[1;33m=\u001b[0m \u001b[0mvalues\u001b[0m\u001b[1;33m.\u001b[0m\u001b[0mtake\u001b[0m\u001b[1;33m(\u001b[0m\u001b[0msorter\u001b[0m\u001b[1;33m)\u001b[0m\u001b[1;33m\u001b[0m\u001b[1;33m\u001b[0m\u001b[0m\n",
      "\u001b[1;31mTypeError\u001b[0m: '<' not supported between instances of 'str' and 'float'",
      "\nDuring handling of the above exception, another exception occurred:\n",
      "\u001b[1;31mTypeError\u001b[0m                                 Traceback (most recent call last)",
      "\u001b[1;32m<ipython-input-53-790d03b669f6>\u001b[0m in \u001b[0;36m<module>\u001b[1;34m\u001b[0m\n\u001b[0;32m      9\u001b[0m \u001b[0mcount_routes\u001b[0m \u001b[1;33m=\u001b[0m \u001b[0mroutes_bean\u001b[0m\u001b[1;33m.\u001b[0m\u001b[0mcopy\u001b[0m\u001b[1;33m(\u001b[0m\u001b[1;33m)\u001b[0m\u001b[1;33m\u001b[0m\u001b[1;33m\u001b[0m\u001b[0m\n\u001b[0;32m     10\u001b[0m \u001b[0mcount_routes\u001b[0m \u001b[1;33m=\u001b[0m \u001b[0mcount_routes\u001b[0m\u001b[1;33m.\u001b[0m\u001b[0mdrop_duplicates\u001b[0m\u001b[1;33m(\u001b[0m\u001b[0msubset\u001b[0m\u001b[1;33m=\u001b[0m\u001b[1;34m'route'\u001b[0m\u001b[1;33m)\u001b[0m\u001b[1;33m\u001b[0m\u001b[1;33m\u001b[0m\u001b[0m\n\u001b[1;32m---> 11\u001b[1;33m \u001b[0mcount_routes\u001b[0m\u001b[1;33m[\u001b[0m\u001b[1;34m'count'\u001b[0m\u001b[1;33m]\u001b[0m \u001b[1;33m=\u001b[0m \u001b[0mroutes_bean\u001b[0m\u001b[1;33m.\u001b[0m\u001b[0mgroupby\u001b[0m\u001b[1;33m(\u001b[0m\u001b[1;33m[\u001b[0m\u001b[1;34m'route'\u001b[0m\u001b[1;33m]\u001b[0m\u001b[1;33m)\u001b[0m\u001b[1;33m.\u001b[0m\u001b[0msize\u001b[0m\u001b[1;33m(\u001b[0m\u001b[1;33m)\u001b[0m\u001b[1;33m.\u001b[0m\u001b[0mvalues\u001b[0m\u001b[1;33m\u001b[0m\u001b[1;33m\u001b[0m\u001b[0m\n\u001b[0m\u001b[0;32m     12\u001b[0m \u001b[1;33m\u001b[0m\u001b[0m\n\u001b[0;32m     13\u001b[0m \u001b[1;33m\u001b[0m\u001b[0m\n",
      "\u001b[1;32m~\\anaconda3\\lib\\site-packages\\pandas\\core\\groupby\\groupby.py\u001b[0m in \u001b[0;36msize\u001b[1;34m(self)\u001b[0m\n\u001b[0;32m   1522\u001b[0m             \u001b[1;32mor\u001b[0m \u001b[0ma\u001b[0m \u001b[0mDataFrame\u001b[0m \u001b[1;32mif\u001b[0m \u001b[0mas_index\u001b[0m \u001b[1;32mis\u001b[0m \u001b[1;32mFalse\u001b[0m\u001b[1;33m.\u001b[0m\u001b[1;33m\u001b[0m\u001b[1;33m\u001b[0m\u001b[0m\n\u001b[0;32m   1523\u001b[0m         \"\"\"\n\u001b[1;32m-> 1524\u001b[1;33m         \u001b[0mresult\u001b[0m \u001b[1;33m=\u001b[0m \u001b[0mself\u001b[0m\u001b[1;33m.\u001b[0m\u001b[0mgrouper\u001b[0m\u001b[1;33m.\u001b[0m\u001b[0msize\u001b[0m\u001b[1;33m(\u001b[0m\u001b[1;33m)\u001b[0m\u001b[1;33m\u001b[0m\u001b[1;33m\u001b[0m\u001b[0m\n\u001b[0m\u001b[0;32m   1525\u001b[0m \u001b[1;33m\u001b[0m\u001b[0m\n\u001b[0;32m   1526\u001b[0m         \u001b[1;31m# GH28330 preserve subclassed Series/DataFrames through calls\u001b[0m\u001b[1;33m\u001b[0m\u001b[1;33m\u001b[0m\u001b[1;33m\u001b[0m\u001b[0m\n",
      "\u001b[1;32m~\\anaconda3\\lib\\site-packages\\pandas\\core\\groupby\\ops.py\u001b[0m in \u001b[0;36msize\u001b[1;34m(self)\u001b[0m\n\u001b[0;32m    244\u001b[0m         \u001b[0mCompute\u001b[0m \u001b[0mgroup\u001b[0m \u001b[0msizes\u001b[0m\u001b[1;33m.\u001b[0m\u001b[1;33m\u001b[0m\u001b[1;33m\u001b[0m\u001b[0m\n\u001b[0;32m    245\u001b[0m         \"\"\"\n\u001b[1;32m--> 246\u001b[1;33m         \u001b[0mids\u001b[0m\u001b[1;33m,\u001b[0m \u001b[0m_\u001b[0m\u001b[1;33m,\u001b[0m \u001b[0mngroup\u001b[0m \u001b[1;33m=\u001b[0m \u001b[0mself\u001b[0m\u001b[1;33m.\u001b[0m\u001b[0mgroup_info\u001b[0m\u001b[1;33m\u001b[0m\u001b[1;33m\u001b[0m\u001b[0m\n\u001b[0m\u001b[0;32m    247\u001b[0m         \u001b[0mids\u001b[0m \u001b[1;33m=\u001b[0m \u001b[0mensure_platform_int\u001b[0m\u001b[1;33m(\u001b[0m\u001b[0mids\u001b[0m\u001b[1;33m)\u001b[0m\u001b[1;33m\u001b[0m\u001b[1;33m\u001b[0m\u001b[0m\n\u001b[0;32m    248\u001b[0m         \u001b[1;32mif\u001b[0m \u001b[0mngroup\u001b[0m\u001b[1;33m:\u001b[0m\u001b[1;33m\u001b[0m\u001b[1;33m\u001b[0m\u001b[0m\n",
      "\u001b[1;32mpandas\\_libs\\properties.pyx\u001b[0m in \u001b[0;36mpandas._libs.properties.CachedProperty.__get__\u001b[1;34m()\u001b[0m\n",
      "\u001b[1;32m~\\anaconda3\\lib\\site-packages\\pandas\\core\\groupby\\ops.py\u001b[0m in \u001b[0;36mgroup_info\u001b[1;34m(self)\u001b[0m\n\u001b[0;32m    269\u001b[0m     \u001b[1;33m@\u001b[0m\u001b[0mcache_readonly\u001b[0m\u001b[1;33m\u001b[0m\u001b[1;33m\u001b[0m\u001b[0m\n\u001b[0;32m    270\u001b[0m     \u001b[1;32mdef\u001b[0m \u001b[0mgroup_info\u001b[0m\u001b[1;33m(\u001b[0m\u001b[0mself\u001b[0m\u001b[1;33m)\u001b[0m\u001b[1;33m:\u001b[0m\u001b[1;33m\u001b[0m\u001b[1;33m\u001b[0m\u001b[0m\n\u001b[1;32m--> 271\u001b[1;33m         \u001b[0mcomp_ids\u001b[0m\u001b[1;33m,\u001b[0m \u001b[0mobs_group_ids\u001b[0m \u001b[1;33m=\u001b[0m \u001b[0mself\u001b[0m\u001b[1;33m.\u001b[0m\u001b[0m_get_compressed_codes\u001b[0m\u001b[1;33m(\u001b[0m\u001b[1;33m)\u001b[0m\u001b[1;33m\u001b[0m\u001b[1;33m\u001b[0m\u001b[0m\n\u001b[0m\u001b[0;32m    272\u001b[0m \u001b[1;33m\u001b[0m\u001b[0m\n\u001b[0;32m    273\u001b[0m         \u001b[0mngroups\u001b[0m \u001b[1;33m=\u001b[0m \u001b[0mlen\u001b[0m\u001b[1;33m(\u001b[0m\u001b[0mobs_group_ids\u001b[0m\u001b[1;33m)\u001b[0m\u001b[1;33m\u001b[0m\u001b[1;33m\u001b[0m\u001b[0m\n",
      "\u001b[1;32m~\\anaconda3\\lib\\site-packages\\pandas\\core\\groupby\\ops.py\u001b[0m in \u001b[0;36m_get_compressed_codes\u001b[1;34m(self)\u001b[0m\n\u001b[0;32m    285\u001b[0m \u001b[1;33m\u001b[0m\u001b[0m\n\u001b[0;32m    286\u001b[0m     \u001b[1;32mdef\u001b[0m \u001b[0m_get_compressed_codes\u001b[0m\u001b[1;33m(\u001b[0m\u001b[0mself\u001b[0m\u001b[1;33m)\u001b[0m \u001b[1;33m->\u001b[0m \u001b[0mTuple\u001b[0m\u001b[1;33m[\u001b[0m\u001b[0mnp\u001b[0m\u001b[1;33m.\u001b[0m\u001b[0mndarray\u001b[0m\u001b[1;33m,\u001b[0m \u001b[0mnp\u001b[0m\u001b[1;33m.\u001b[0m\u001b[0mndarray\u001b[0m\u001b[1;33m]\u001b[0m\u001b[1;33m:\u001b[0m\u001b[1;33m\u001b[0m\u001b[1;33m\u001b[0m\u001b[0m\n\u001b[1;32m--> 287\u001b[1;33m         \u001b[0mall_codes\u001b[0m \u001b[1;33m=\u001b[0m \u001b[0mself\u001b[0m\u001b[1;33m.\u001b[0m\u001b[0mcodes\u001b[0m\u001b[1;33m\u001b[0m\u001b[1;33m\u001b[0m\u001b[0m\n\u001b[0m\u001b[0;32m    288\u001b[0m         \u001b[1;32mif\u001b[0m \u001b[0mlen\u001b[0m\u001b[1;33m(\u001b[0m\u001b[0mall_codes\u001b[0m\u001b[1;33m)\u001b[0m \u001b[1;33m>\u001b[0m \u001b[1;36m1\u001b[0m\u001b[1;33m:\u001b[0m\u001b[1;33m\u001b[0m\u001b[1;33m\u001b[0m\u001b[0m\n\u001b[0;32m    289\u001b[0m             \u001b[0mgroup_index\u001b[0m \u001b[1;33m=\u001b[0m \u001b[0mget_group_index\u001b[0m\u001b[1;33m(\u001b[0m\u001b[0mall_codes\u001b[0m\u001b[1;33m,\u001b[0m \u001b[0mself\u001b[0m\u001b[1;33m.\u001b[0m\u001b[0mshape\u001b[0m\u001b[1;33m,\u001b[0m \u001b[0msort\u001b[0m\u001b[1;33m=\u001b[0m\u001b[1;32mTrue\u001b[0m\u001b[1;33m,\u001b[0m \u001b[0mxnull\u001b[0m\u001b[1;33m=\u001b[0m\u001b[1;32mTrue\u001b[0m\u001b[1;33m)\u001b[0m\u001b[1;33m\u001b[0m\u001b[1;33m\u001b[0m\u001b[0m\n",
      "\u001b[1;32m~\\anaconda3\\lib\\site-packages\\pandas\\core\\groupby\\ops.py\u001b[0m in \u001b[0;36mcodes\u001b[1;34m(self)\u001b[0m\n\u001b[0;32m    230\u001b[0m     \u001b[1;33m@\u001b[0m\u001b[0mproperty\u001b[0m\u001b[1;33m\u001b[0m\u001b[1;33m\u001b[0m\u001b[0m\n\u001b[0;32m    231\u001b[0m     \u001b[1;32mdef\u001b[0m \u001b[0mcodes\u001b[0m\u001b[1;33m(\u001b[0m\u001b[0mself\u001b[0m\u001b[1;33m)\u001b[0m \u001b[1;33m->\u001b[0m \u001b[0mList\u001b[0m\u001b[1;33m[\u001b[0m\u001b[0mnp\u001b[0m\u001b[1;33m.\u001b[0m\u001b[0mndarray\u001b[0m\u001b[1;33m]\u001b[0m\u001b[1;33m:\u001b[0m\u001b[1;33m\u001b[0m\u001b[1;33m\u001b[0m\u001b[0m\n\u001b[1;32m--> 232\u001b[1;33m         \u001b[1;32mreturn\u001b[0m \u001b[1;33m[\u001b[0m\u001b[0mping\u001b[0m\u001b[1;33m.\u001b[0m\u001b[0mcodes\u001b[0m \u001b[1;32mfor\u001b[0m \u001b[0mping\u001b[0m \u001b[1;32min\u001b[0m \u001b[0mself\u001b[0m\u001b[1;33m.\u001b[0m\u001b[0mgroupings\u001b[0m\u001b[1;33m]\u001b[0m\u001b[1;33m\u001b[0m\u001b[1;33m\u001b[0m\u001b[0m\n\u001b[0m\u001b[0;32m    233\u001b[0m \u001b[1;33m\u001b[0m\u001b[0m\n\u001b[0;32m    234\u001b[0m     \u001b[1;33m@\u001b[0m\u001b[0mproperty\u001b[0m\u001b[1;33m\u001b[0m\u001b[1;33m\u001b[0m\u001b[0m\n",
      "\u001b[1;32m~\\anaconda3\\lib\\site-packages\\pandas\\core\\groupby\\ops.py\u001b[0m in \u001b[0;36m<listcomp>\u001b[1;34m(.0)\u001b[0m\n\u001b[0;32m    230\u001b[0m     \u001b[1;33m@\u001b[0m\u001b[0mproperty\u001b[0m\u001b[1;33m\u001b[0m\u001b[1;33m\u001b[0m\u001b[0m\n\u001b[0;32m    231\u001b[0m     \u001b[1;32mdef\u001b[0m \u001b[0mcodes\u001b[0m\u001b[1;33m(\u001b[0m\u001b[0mself\u001b[0m\u001b[1;33m)\u001b[0m \u001b[1;33m->\u001b[0m \u001b[0mList\u001b[0m\u001b[1;33m[\u001b[0m\u001b[0mnp\u001b[0m\u001b[1;33m.\u001b[0m\u001b[0mndarray\u001b[0m\u001b[1;33m]\u001b[0m\u001b[1;33m:\u001b[0m\u001b[1;33m\u001b[0m\u001b[1;33m\u001b[0m\u001b[0m\n\u001b[1;32m--> 232\u001b[1;33m         \u001b[1;32mreturn\u001b[0m \u001b[1;33m[\u001b[0m\u001b[0mping\u001b[0m\u001b[1;33m.\u001b[0m\u001b[0mcodes\u001b[0m \u001b[1;32mfor\u001b[0m \u001b[0mping\u001b[0m \u001b[1;32min\u001b[0m \u001b[0mself\u001b[0m\u001b[1;33m.\u001b[0m\u001b[0mgroupings\u001b[0m\u001b[1;33m]\u001b[0m\u001b[1;33m\u001b[0m\u001b[1;33m\u001b[0m\u001b[0m\n\u001b[0m\u001b[0;32m    233\u001b[0m \u001b[1;33m\u001b[0m\u001b[0m\n\u001b[0;32m    234\u001b[0m     \u001b[1;33m@\u001b[0m\u001b[0mproperty\u001b[0m\u001b[1;33m\u001b[0m\u001b[1;33m\u001b[0m\u001b[0m\n",
      "\u001b[1;32m~\\anaconda3\\lib\\site-packages\\pandas\\core\\groupby\\grouper.py\u001b[0m in \u001b[0;36mcodes\u001b[1;34m(self)\u001b[0m\n\u001b[0;32m    563\u001b[0m     \u001b[1;32mdef\u001b[0m \u001b[0mcodes\u001b[0m\u001b[1;33m(\u001b[0m\u001b[0mself\u001b[0m\u001b[1;33m)\u001b[0m \u001b[1;33m->\u001b[0m \u001b[0mnp\u001b[0m\u001b[1;33m.\u001b[0m\u001b[0mndarray\u001b[0m\u001b[1;33m:\u001b[0m\u001b[1;33m\u001b[0m\u001b[1;33m\u001b[0m\u001b[0m\n\u001b[0;32m    564\u001b[0m         \u001b[1;32mif\u001b[0m \u001b[0mself\u001b[0m\u001b[1;33m.\u001b[0m\u001b[0m_codes\u001b[0m \u001b[1;32mis\u001b[0m \u001b[1;32mNone\u001b[0m\u001b[1;33m:\u001b[0m\u001b[1;33m\u001b[0m\u001b[1;33m\u001b[0m\u001b[0m\n\u001b[1;32m--> 565\u001b[1;33m             \u001b[0mself\u001b[0m\u001b[1;33m.\u001b[0m\u001b[0m_make_codes\u001b[0m\u001b[1;33m(\u001b[0m\u001b[1;33m)\u001b[0m\u001b[1;33m\u001b[0m\u001b[1;33m\u001b[0m\u001b[0m\n\u001b[0m\u001b[0;32m    566\u001b[0m         \u001b[1;32mreturn\u001b[0m \u001b[0mself\u001b[0m\u001b[1;33m.\u001b[0m\u001b[0m_codes\u001b[0m\u001b[1;33m\u001b[0m\u001b[1;33m\u001b[0m\u001b[0m\n\u001b[0;32m    567\u001b[0m \u001b[1;33m\u001b[0m\u001b[0m\n",
      "\u001b[1;32m~\\anaconda3\\lib\\site-packages\\pandas\\core\\groupby\\grouper.py\u001b[0m in \u001b[0;36m_make_codes\u001b[1;34m(self)\u001b[0m\n\u001b[0;32m    591\u001b[0m                 \u001b[1;32melse\u001b[0m\u001b[1;33m:\u001b[0m\u001b[1;33m\u001b[0m\u001b[1;33m\u001b[0m\u001b[0m\n\u001b[0;32m    592\u001b[0m                     \u001b[0mna_sentinel\u001b[0m \u001b[1;33m=\u001b[0m \u001b[1;33m-\u001b[0m\u001b[1;36m1\u001b[0m\u001b[1;33m\u001b[0m\u001b[1;33m\u001b[0m\u001b[0m\n\u001b[1;32m--> 593\u001b[1;33m                 codes, uniques = algorithms.factorize(\n\u001b[0m\u001b[0;32m    594\u001b[0m                     \u001b[0mself\u001b[0m\u001b[1;33m.\u001b[0m\u001b[0mgrouper\u001b[0m\u001b[1;33m,\u001b[0m \u001b[0msort\u001b[0m\u001b[1;33m=\u001b[0m\u001b[0mself\u001b[0m\u001b[1;33m.\u001b[0m\u001b[0msort\u001b[0m\u001b[1;33m,\u001b[0m \u001b[0mna_sentinel\u001b[0m\u001b[1;33m=\u001b[0m\u001b[0mna_sentinel\u001b[0m\u001b[1;33m\u001b[0m\u001b[1;33m\u001b[0m\u001b[0m\n\u001b[0;32m    595\u001b[0m                 )\n",
      "\u001b[1;32m~\\anaconda3\\lib\\site-packages\\pandas\\core\\algorithms.py\u001b[0m in \u001b[0;36mfactorize\u001b[1;34m(values, sort, na_sentinel, size_hint)\u001b[0m\n\u001b[0;32m    680\u001b[0m \u001b[1;33m\u001b[0m\u001b[0m\n\u001b[0;32m    681\u001b[0m     \u001b[1;32mif\u001b[0m \u001b[0msort\u001b[0m \u001b[1;32mand\u001b[0m \u001b[0mlen\u001b[0m\u001b[1;33m(\u001b[0m\u001b[0muniques\u001b[0m\u001b[1;33m)\u001b[0m \u001b[1;33m>\u001b[0m \u001b[1;36m0\u001b[0m\u001b[1;33m:\u001b[0m\u001b[1;33m\u001b[0m\u001b[1;33m\u001b[0m\u001b[0m\n\u001b[1;32m--> 682\u001b[1;33m         uniques, codes = safe_sort(\n\u001b[0m\u001b[0;32m    683\u001b[0m             \u001b[0muniques\u001b[0m\u001b[1;33m,\u001b[0m \u001b[0mcodes\u001b[0m\u001b[1;33m,\u001b[0m \u001b[0mna_sentinel\u001b[0m\u001b[1;33m=\u001b[0m\u001b[0mna_sentinel\u001b[0m\u001b[1;33m,\u001b[0m \u001b[0massume_unique\u001b[0m\u001b[1;33m=\u001b[0m\u001b[1;32mTrue\u001b[0m\u001b[1;33m,\u001b[0m \u001b[0mverify\u001b[0m\u001b[1;33m=\u001b[0m\u001b[1;32mFalse\u001b[0m\u001b[1;33m\u001b[0m\u001b[1;33m\u001b[0m\u001b[0m\n\u001b[0;32m    684\u001b[0m         )\n",
      "\u001b[1;32m~\\anaconda3\\lib\\site-packages\\pandas\\core\\algorithms.py\u001b[0m in \u001b[0;36msafe_sort\u001b[1;34m(values, codes, na_sentinel, assume_unique, verify)\u001b[0m\n\u001b[0;32m   2068\u001b[0m         \u001b[1;32mexcept\u001b[0m \u001b[0mTypeError\u001b[0m\u001b[1;33m:\u001b[0m\u001b[1;33m\u001b[0m\u001b[1;33m\u001b[0m\u001b[0m\n\u001b[0;32m   2069\u001b[0m             \u001b[1;31m# try this anyway\u001b[0m\u001b[1;33m\u001b[0m\u001b[1;33m\u001b[0m\u001b[1;33m\u001b[0m\u001b[0m\n\u001b[1;32m-> 2070\u001b[1;33m             \u001b[0mordered\u001b[0m \u001b[1;33m=\u001b[0m \u001b[0msort_mixed\u001b[0m\u001b[1;33m(\u001b[0m\u001b[0mvalues\u001b[0m\u001b[1;33m)\u001b[0m\u001b[1;33m\u001b[0m\u001b[1;33m\u001b[0m\u001b[0m\n\u001b[0m\u001b[0;32m   2071\u001b[0m \u001b[1;33m\u001b[0m\u001b[0m\n\u001b[0;32m   2072\u001b[0m     \u001b[1;31m# codes:\u001b[0m\u001b[1;33m\u001b[0m\u001b[1;33m\u001b[0m\u001b[1;33m\u001b[0m\u001b[0m\n",
      "\u001b[1;32m~\\anaconda3\\lib\\site-packages\\pandas\\core\\algorithms.py\u001b[0m in \u001b[0;36msort_mixed\u001b[1;34m(values)\u001b[0m\n\u001b[0;32m   2051\u001b[0m         \u001b[1;31m# order ints before strings, safe in py3\u001b[0m\u001b[1;33m\u001b[0m\u001b[1;33m\u001b[0m\u001b[1;33m\u001b[0m\u001b[0m\n\u001b[0;32m   2052\u001b[0m         \u001b[0mstr_pos\u001b[0m \u001b[1;33m=\u001b[0m \u001b[0mnp\u001b[0m\u001b[1;33m.\u001b[0m\u001b[0marray\u001b[0m\u001b[1;33m(\u001b[0m\u001b[1;33m[\u001b[0m\u001b[0misinstance\u001b[0m\u001b[1;33m(\u001b[0m\u001b[0mx\u001b[0m\u001b[1;33m,\u001b[0m \u001b[0mstr\u001b[0m\u001b[1;33m)\u001b[0m \u001b[1;32mfor\u001b[0m \u001b[0mx\u001b[0m \u001b[1;32min\u001b[0m \u001b[0mvalues\u001b[0m\u001b[1;33m]\u001b[0m\u001b[1;33m,\u001b[0m \u001b[0mdtype\u001b[0m\u001b[1;33m=\u001b[0m\u001b[0mbool\u001b[0m\u001b[1;33m)\u001b[0m\u001b[1;33m\u001b[0m\u001b[1;33m\u001b[0m\u001b[0m\n\u001b[1;32m-> 2053\u001b[1;33m         \u001b[0mnums\u001b[0m \u001b[1;33m=\u001b[0m \u001b[0mnp\u001b[0m\u001b[1;33m.\u001b[0m\u001b[0msort\u001b[0m\u001b[1;33m(\u001b[0m\u001b[0mvalues\u001b[0m\u001b[1;33m[\u001b[0m\u001b[1;33m~\u001b[0m\u001b[0mstr_pos\u001b[0m\u001b[1;33m]\u001b[0m\u001b[1;33m)\u001b[0m\u001b[1;33m\u001b[0m\u001b[1;33m\u001b[0m\u001b[0m\n\u001b[0m\u001b[0;32m   2054\u001b[0m         \u001b[0mstrs\u001b[0m \u001b[1;33m=\u001b[0m \u001b[0mnp\u001b[0m\u001b[1;33m.\u001b[0m\u001b[0msort\u001b[0m\u001b[1;33m(\u001b[0m\u001b[0mvalues\u001b[0m\u001b[1;33m[\u001b[0m\u001b[0mstr_pos\u001b[0m\u001b[1;33m]\u001b[0m\u001b[1;33m)\u001b[0m\u001b[1;33m\u001b[0m\u001b[1;33m\u001b[0m\u001b[0m\n\u001b[0;32m   2055\u001b[0m         \u001b[1;32mreturn\u001b[0m \u001b[0mnp\u001b[0m\u001b[1;33m.\u001b[0m\u001b[0mconcatenate\u001b[0m\u001b[1;33m(\u001b[0m\u001b[1;33m[\u001b[0m\u001b[0mnums\u001b[0m\u001b[1;33m,\u001b[0m \u001b[0mnp\u001b[0m\u001b[1;33m.\u001b[0m\u001b[0masarray\u001b[0m\u001b[1;33m(\u001b[0m\u001b[0mstrs\u001b[0m\u001b[1;33m,\u001b[0m \u001b[0mdtype\u001b[0m\u001b[1;33m=\u001b[0m\u001b[0mobject\u001b[0m\u001b[1;33m)\u001b[0m\u001b[1;33m]\u001b[0m\u001b[1;33m)\u001b[0m\u001b[1;33m\u001b[0m\u001b[1;33m\u001b[0m\u001b[0m\n",
      "\u001b[1;32m<__array_function__ internals>\u001b[0m in \u001b[0;36msort\u001b[1;34m(*args, **kwargs)\u001b[0m\n",
      "\u001b[1;32m~\\anaconda3\\lib\\site-packages\\numpy\\core\\fromnumeric.py\u001b[0m in \u001b[0;36msort\u001b[1;34m(a, axis, kind, order)\u001b[0m\n\u001b[0;32m    989\u001b[0m     \u001b[1;32melse\u001b[0m\u001b[1;33m:\u001b[0m\u001b[1;33m\u001b[0m\u001b[1;33m\u001b[0m\u001b[0m\n\u001b[0;32m    990\u001b[0m         \u001b[0ma\u001b[0m \u001b[1;33m=\u001b[0m \u001b[0masanyarray\u001b[0m\u001b[1;33m(\u001b[0m\u001b[0ma\u001b[0m\u001b[1;33m)\u001b[0m\u001b[1;33m.\u001b[0m\u001b[0mcopy\u001b[0m\u001b[1;33m(\u001b[0m\u001b[0morder\u001b[0m\u001b[1;33m=\u001b[0m\u001b[1;34m\"K\"\u001b[0m\u001b[1;33m)\u001b[0m\u001b[1;33m\u001b[0m\u001b[1;33m\u001b[0m\u001b[0m\n\u001b[1;32m--> 991\u001b[1;33m     \u001b[0ma\u001b[0m\u001b[1;33m.\u001b[0m\u001b[0msort\u001b[0m\u001b[1;33m(\u001b[0m\u001b[0maxis\u001b[0m\u001b[1;33m=\u001b[0m\u001b[0maxis\u001b[0m\u001b[1;33m,\u001b[0m \u001b[0mkind\u001b[0m\u001b[1;33m=\u001b[0m\u001b[0mkind\u001b[0m\u001b[1;33m,\u001b[0m \u001b[0morder\u001b[0m\u001b[1;33m=\u001b[0m\u001b[0morder\u001b[0m\u001b[1;33m)\u001b[0m\u001b[1;33m\u001b[0m\u001b[1;33m\u001b[0m\u001b[0m\n\u001b[0m\u001b[0;32m    992\u001b[0m     \u001b[1;32mreturn\u001b[0m \u001b[0ma\u001b[0m\u001b[1;33m\u001b[0m\u001b[1;33m\u001b[0m\u001b[0m\n\u001b[0;32m    993\u001b[0m \u001b[1;33m\u001b[0m\u001b[0m\n",
      "\u001b[1;31mTypeError\u001b[0m: '<' not supported between instances of 'str' and 'float'"
     ]
    }
   ],
   "source": [
    "routes_bean = pd.DataFrame(data[['company', 'company_location', 'company_code_2', 'country_of_bean_origin', 'bean_code_2']])\n",
    "\n",
    "routes_bean = routes_bean.merge(coord[['latitude', 'longitude', 'country']], left_on = 'company_code_2', right_on = 'country', how = 'left').rename(columns = {'latitude': 'lat_company', 'longitude' : 'long_company'})\n",
    "routes_bean.drop(columns = {'country'}, inplace = True)\n",
    "routes_bean = routes_bean.merge(coord[['latitude', 'longitude', 'country']], left_on = 'bean_code_2', right_on = 'country', how = 'left').rename(columns = {'latitude': 'lat_bean', 'longitude' : 'long_bean'})\n",
    "routes_bean.drop(columns = {'country'}, inplace = True)\n",
    "\n",
    "routes_bean['route'] = tuple(zip(routes_bean['bean_code_2'], routes_bean['company_code_2']))\n",
    "count_routes = routes_bean.copy()\n",
    "count_routes = count_routes.drop_duplicates(subset='route')\n",
    "count_routes['count'] = routes_bean.groupby(['route']).size().values\n",
    "\n",
    "\n",
    "# Pick the routes with most flights\n",
    "count_routes = count_routes.loc[count_routes['count'] > np.quantile(count_routes['count'], q = 0.9)]\n",
    "count_routes = count_routes.reset_index()\n",
    "\n",
    "count_routes"
   ]
  },
  {
   "cell_type": "code",
   "execution_count": 54,
   "metadata": {},
   "outputs": [
    {
     "ename": "KeyError",
     "evalue": "'count'",
     "output_type": "error",
     "traceback": [
      "\u001b[1;31m---------------------------------------------------------------------------\u001b[0m",
      "\u001b[1;31mKeyError\u001b[0m                                  Traceback (most recent call last)",
      "\u001b[1;32m~\\anaconda3\\lib\\site-packages\\pandas\\core\\indexes\\base.py\u001b[0m in \u001b[0;36mget_loc\u001b[1;34m(self, key, method, tolerance)\u001b[0m\n\u001b[0;32m   2894\u001b[0m             \u001b[1;32mtry\u001b[0m\u001b[1;33m:\u001b[0m\u001b[1;33m\u001b[0m\u001b[1;33m\u001b[0m\u001b[0m\n\u001b[1;32m-> 2895\u001b[1;33m                 \u001b[1;32mreturn\u001b[0m \u001b[0mself\u001b[0m\u001b[1;33m.\u001b[0m\u001b[0m_engine\u001b[0m\u001b[1;33m.\u001b[0m\u001b[0mget_loc\u001b[0m\u001b[1;33m(\u001b[0m\u001b[0mcasted_key\u001b[0m\u001b[1;33m)\u001b[0m\u001b[1;33m\u001b[0m\u001b[1;33m\u001b[0m\u001b[0m\n\u001b[0m\u001b[0;32m   2896\u001b[0m             \u001b[1;32mexcept\u001b[0m \u001b[0mKeyError\u001b[0m \u001b[1;32mas\u001b[0m \u001b[0merr\u001b[0m\u001b[1;33m:\u001b[0m\u001b[1;33m\u001b[0m\u001b[1;33m\u001b[0m\u001b[0m\n",
      "\u001b[1;32mpandas\\_libs\\index.pyx\u001b[0m in \u001b[0;36mpandas._libs.index.IndexEngine.get_loc\u001b[1;34m()\u001b[0m\n",
      "\u001b[1;32mpandas\\_libs\\index.pyx\u001b[0m in \u001b[0;36mpandas._libs.index.IndexEngine.get_loc\u001b[1;34m()\u001b[0m\n",
      "\u001b[1;32mpandas\\_libs\\hashtable_class_helper.pxi\u001b[0m in \u001b[0;36mpandas._libs.hashtable.PyObjectHashTable.get_item\u001b[1;34m()\u001b[0m\n",
      "\u001b[1;32mpandas\\_libs\\hashtable_class_helper.pxi\u001b[0m in \u001b[0;36mpandas._libs.hashtable.PyObjectHashTable.get_item\u001b[1;34m()\u001b[0m\n",
      "\u001b[1;31mKeyError\u001b[0m: 'count'",
      "\nThe above exception was the direct cause of the following exception:\n",
      "\u001b[1;31mKeyError\u001b[0m                                  Traceback (most recent call last)",
      "\u001b[1;32m<ipython-input-54-4616fe799520>\u001b[0m in \u001b[0;36m<module>\u001b[1;34m\u001b[0m\n\u001b[0;32m      9\u001b[0m     \u001b[0mmode\u001b[0m \u001b[1;33m=\u001b[0m \u001b[1;34m'markers'\u001b[0m\u001b[1;33m,\u001b[0m\u001b[1;33m\u001b[0m\u001b[1;33m\u001b[0m\u001b[0m\n\u001b[0;32m     10\u001b[0m     marker = dict(\n\u001b[1;32m---> 11\u001b[1;33m                 \u001b[0mcolor\u001b[0m \u001b[1;33m=\u001b[0m \u001b[0mnp\u001b[0m\u001b[1;33m.\u001b[0m\u001b[0marray\u001b[0m\u001b[1;33m(\u001b[0m\u001b[0mcount_routes\u001b[0m\u001b[1;33m[\u001b[0m\u001b[1;34m'count'\u001b[0m\u001b[1;33m]\u001b[0m\u001b[1;33m)\u001b[0m\u001b[1;33m,\u001b[0m\u001b[1;33m\u001b[0m\u001b[1;33m\u001b[0m\u001b[0m\n\u001b[0m\u001b[0;32m     12\u001b[0m                 \u001b[0mcmin\u001b[0m \u001b[1;33m=\u001b[0m \u001b[1;36m9\u001b[0m\u001b[1;33m,\u001b[0m\u001b[1;33m\u001b[0m\u001b[1;33m\u001b[0m\u001b[0m\n\u001b[0;32m     13\u001b[0m                 \u001b[0mcmax\u001b[0m \u001b[1;33m=\u001b[0m \u001b[1;36m140\u001b[0m\u001b[1;33m,\u001b[0m\u001b[1;33m\u001b[0m\u001b[1;33m\u001b[0m\u001b[0m\n",
      "\u001b[1;32m~\\anaconda3\\lib\\site-packages\\pandas\\core\\frame.py\u001b[0m in \u001b[0;36m__getitem__\u001b[1;34m(self, key)\u001b[0m\n\u001b[0;32m   2900\u001b[0m             \u001b[1;32mif\u001b[0m \u001b[0mself\u001b[0m\u001b[1;33m.\u001b[0m\u001b[0mcolumns\u001b[0m\u001b[1;33m.\u001b[0m\u001b[0mnlevels\u001b[0m \u001b[1;33m>\u001b[0m \u001b[1;36m1\u001b[0m\u001b[1;33m:\u001b[0m\u001b[1;33m\u001b[0m\u001b[1;33m\u001b[0m\u001b[0m\n\u001b[0;32m   2901\u001b[0m                 \u001b[1;32mreturn\u001b[0m \u001b[0mself\u001b[0m\u001b[1;33m.\u001b[0m\u001b[0m_getitem_multilevel\u001b[0m\u001b[1;33m(\u001b[0m\u001b[0mkey\u001b[0m\u001b[1;33m)\u001b[0m\u001b[1;33m\u001b[0m\u001b[1;33m\u001b[0m\u001b[0m\n\u001b[1;32m-> 2902\u001b[1;33m             \u001b[0mindexer\u001b[0m \u001b[1;33m=\u001b[0m \u001b[0mself\u001b[0m\u001b[1;33m.\u001b[0m\u001b[0mcolumns\u001b[0m\u001b[1;33m.\u001b[0m\u001b[0mget_loc\u001b[0m\u001b[1;33m(\u001b[0m\u001b[0mkey\u001b[0m\u001b[1;33m)\u001b[0m\u001b[1;33m\u001b[0m\u001b[1;33m\u001b[0m\u001b[0m\n\u001b[0m\u001b[0;32m   2903\u001b[0m             \u001b[1;32mif\u001b[0m \u001b[0mis_integer\u001b[0m\u001b[1;33m(\u001b[0m\u001b[0mindexer\u001b[0m\u001b[1;33m)\u001b[0m\u001b[1;33m:\u001b[0m\u001b[1;33m\u001b[0m\u001b[1;33m\u001b[0m\u001b[0m\n\u001b[0;32m   2904\u001b[0m                 \u001b[0mindexer\u001b[0m \u001b[1;33m=\u001b[0m \u001b[1;33m[\u001b[0m\u001b[0mindexer\u001b[0m\u001b[1;33m]\u001b[0m\u001b[1;33m\u001b[0m\u001b[1;33m\u001b[0m\u001b[0m\n",
      "\u001b[1;32m~\\anaconda3\\lib\\site-packages\\pandas\\core\\indexes\\base.py\u001b[0m in \u001b[0;36mget_loc\u001b[1;34m(self, key, method, tolerance)\u001b[0m\n\u001b[0;32m   2895\u001b[0m                 \u001b[1;32mreturn\u001b[0m \u001b[0mself\u001b[0m\u001b[1;33m.\u001b[0m\u001b[0m_engine\u001b[0m\u001b[1;33m.\u001b[0m\u001b[0mget_loc\u001b[0m\u001b[1;33m(\u001b[0m\u001b[0mcasted_key\u001b[0m\u001b[1;33m)\u001b[0m\u001b[1;33m\u001b[0m\u001b[1;33m\u001b[0m\u001b[0m\n\u001b[0;32m   2896\u001b[0m             \u001b[1;32mexcept\u001b[0m \u001b[0mKeyError\u001b[0m \u001b[1;32mas\u001b[0m \u001b[0merr\u001b[0m\u001b[1;33m:\u001b[0m\u001b[1;33m\u001b[0m\u001b[1;33m\u001b[0m\u001b[0m\n\u001b[1;32m-> 2897\u001b[1;33m                 \u001b[1;32mraise\u001b[0m \u001b[0mKeyError\u001b[0m\u001b[1;33m(\u001b[0m\u001b[0mkey\u001b[0m\u001b[1;33m)\u001b[0m \u001b[1;32mfrom\u001b[0m \u001b[0merr\u001b[0m\u001b[1;33m\u001b[0m\u001b[1;33m\u001b[0m\u001b[0m\n\u001b[0m\u001b[0;32m   2898\u001b[0m \u001b[1;33m\u001b[0m\u001b[0m\n\u001b[0;32m   2899\u001b[0m         \u001b[1;32mif\u001b[0m \u001b[0mtolerance\u001b[0m \u001b[1;32mis\u001b[0m \u001b[1;32mnot\u001b[0m \u001b[1;32mNone\u001b[0m\u001b[1;33m:\u001b[0m\u001b[1;33m\u001b[0m\u001b[1;33m\u001b[0m\u001b[0m\n",
      "\u001b[1;31mKeyError\u001b[0m: 'count'"
     ]
    }
   ],
   "source": [
    "fig_routes = go.Figure()\n",
    "\n",
    "fig_routes.add_trace(go.Scattergeo(\n",
    "    locationmode = 'geojson-id',\n",
    "    lon = count_routes['long_company'],\n",
    "    lat = count_routes['lat_company'],\n",
    "    hoverinfo = 'text',\n",
    "    text = count_routes['company'],\n",
    "    mode = 'markers',\n",
    "    marker = dict(\n",
    "                color = np.array(count_routes['count']),\n",
    "                cmin = 9,\n",
    "                cmax = 140,\n",
    "                colorscale = 'brwnyl',\n",
    "                colorbar=go.ColorBar(\n",
    "                    title='Number of Routes'\n",
    "                ),\n",
    "                opacity = 0.2\n",
    "            )\n",
    "    ))\n",
    "\n",
    "cmap = plt.cm.RdPu\n",
    "color = cmx.ScalarMappable(cmap = cmap).to_rgba(count_routes['count'], bytes = True)\n",
    "color = ['rgba(' + str(x[0]) + ', ' + str(x[1]) + ', ' + str(x[2]) + ', ' + str(x[3]) + ')' for x in color]\n",
    "\n",
    "#maxcount_f = max(count_routes['count'])\n",
    "\n",
    "#bean_paths = []\n",
    "for i in range(len(count_routes)): #routes_bean\n",
    "    fig_routes.add_trace(\n",
    "        go.Scattergeo(\n",
    "            locationmode = 'geojson-id',\n",
    "            lon = [count_routes['long_bean'][i], count_routes['long_company'][i]],\n",
    "            lat = [count_routes['lat_bean'][i], count_routes['lat_company'][i]],\n",
    "            mode = 'lines',\n",
    "            hoverinfo = 'text',\n",
    "            text = '<b>Bean Origin: </b>' + str(count_routes['country_of_bean_origin'][i]) \\\n",
    "                    + '<br><b>Bean Destiny: </b>' + str(count_routes['company_location'][i]) \\\n",
    "                    + '<br><b>Times with this route: </b>' + str(count_routes['count'][i]),\n",
    "            line = dict(\n",
    "                width = 1.25,\n",
    "                color = color[i]\n",
    "                )\n",
    "            )\n",
    "        )\n",
    "\n",
    "fig_routes.update_layout(\n",
    "    title_text = 'Routes of Cocoa\\'s bean',\n",
    "    showlegend = False,\n",
    "    paper_bgcolor='rgba(0,0,0,0)',\n",
    "    plot_bgcolor='rgba(0,0,0,0)',\n",
    "    geo = dict(\n",
    "        scope = 'world',\n",
    "        projection_type = 'equirectangular',\n",
    "        showland = True,\n",
    "        showcountries = True,\n",
    "        showocean = True,\n",
    "        landcolor = 'rgb(209,190,168)',\n",
    "        countrycolor = 'rgba(68,68,68,255)',\n",
    "        oceancolor = 'rgb(95,158,160)',\n",
    "    ),\n",
    ")\n",
    "\n",
    "fig_routes.update_layout(height=400, margin={\"r\":40,\"t\":0,\"l\":40,\"b\":0})"
   ]
  },
  {
   "cell_type": "code",
   "execution_count": null,
   "metadata": {},
   "outputs": [],
   "source": []
  },
  {
   "cell_type": "code",
   "execution_count": 55,
   "metadata": {},
   "outputs": [],
   "source": [
    "# if __name__ == '__main__':\n",
    "#     app.run_server()"
   ]
  },
  {
   "cell_type": "markdown",
   "metadata": {},
   "source": [
    "MAP"
   ]
  },
  {
   "cell_type": "code",
   "execution_count": 56,
   "metadata": {},
   "outputs": [],
   "source": [
    "path_geo = ''\n",
    "\n",
    "data_geo = dict()\n",
    "\n",
    "with open(path_geo + 'world.geojson') as json_file:\n",
    "\n",
    "    data_geo = json.load(json_file)\n",
    "    \n",
    "\n",
    "data_company=data.groupby(by=[\"company_location\"]).agg({\"rating\":\"mean\",\"ref\":\"count\"})\n",
    "\n",
    "data_company.reset_index(inplace=True)\n",
    "\n",
    "data_origin=data.groupby(by=['country_of_bean_origin']).agg({\"rating\":\"mean\",\"ref\":\"count\"})\n",
    "\n",
    "data_origin.reset_index(inplace=True)\n",
    "\n",
    "data_company.rename(columns={'company_location': 'country'}, inplace=True)\n",
    "\n",
    "data_origin.rename(columns={'country_of_bean_origin': 'country'}, inplace=True)\n",
    "\n",
    "\n",
    "\n",
    "for feature in data_geo['features']:\n",
    "    feature['id'] = feature['properties']['NAME']\n",
    "\n",
    "i=0\n",
    "\n",
    "pays=[]\n",
    "\n",
    "while i<len(data_geo['features']):\n",
    "\n",
    "    pays.append(data_geo['features'][i]['id'])\n",
    "\n",
    "    i+=1\n",
    "\n",
    "\n",
    "missing1=[]\n",
    "\n",
    "for country in data_origin[\"country\"].values:\n",
    "    if country not in pays:\n",
    "        missing1.append(country)\n",
    "\n",
    "missing2=[]\n",
    "\n",
    "for country in data_company[\"country\"].values:\n",
    "\n",
    "    if country not in pays:\n",
    "\n",
    "        missing2.append(country)\n",
    "\n",
    "\n",
    "\n",
    "data_origin[\"country\"] = np.where(data_origin[\"country\"] == \"Venezuela (Bolivarian Republic of)\", \"Venezuela\", data_origin[\"country\"])\n",
    "\n",
    "data_origin[\"country\"] = np.where(data_origin[\"country\"] == \"Tanzania, United Republic of\", \"Tanzania\", data_origin[\"country\"])\n",
    "\n",
    "data_origin[\"country\"] = np.where(data_origin[\"country\"] == \"Bolivia (Plurinational State of)\", \"Bolivia\", data_origin[\"country\"])\n",
    "\n",
    "data_origin[\"country\"] = np.where(data_origin[\"country\"] == \"Bolvia\", \"Bolivia\", data_origin[\"country\"])\n",
    "\n",
    "data_origin[\"country\"] = np.where(data_origin[\"country\"] == \"U.S.A.\", \"United States\", data_origin[\"country\"])\n",
    "\n",
    "data_origin[\"country\"] = np.where(data_origin[\"country\"] == \"Taiwan, Province of China\", \"Taiwan\", data_origin[\"country\"])\n",
    "\n",
    "data_origin[\"country\"] = np.where(data_origin[\"country\"] == \"Martinique\", \"France\", data_origin[\"country\"]) #colÃ³nia francesa\n",
    "\n",
    "data_origin[\"country\"] = np.where(data_origin[\"country\"] == \"Sulawesi\", \"Indonesia\", data_origin[\"country\"]) #parte da indonÃ©sia\n",
    "\n",
    "data_origin[\"country\"] = np.where(data_origin[\"country\"] == \"Principe\", \"SÃ£o TomÃ© and Principe\", data_origin[\"country\"])\n",
    "\n",
    "data_origin[\"country\"] = np.where(data_origin[\"country\"] == \"Sao Tome and Principe\", \"SÃ£o TomÃ© and Principe\", data_origin[\"country\"])\n",
    "\n",
    "data_origin[\"country\"] = np.where(data_origin[\"country\"] == \"Sumatra\", \"Indonesia\", data_origin[\"country\"]) #parte da indonÃ©sia\n",
    "\n",
    "data_origin[\"country\"] = np.where(data_origin[\"country\"] == \"Tobago\", \"Trinidad and Tobago\", data_origin[\"country\"])\n",
    "\n",
    "data_origin[\"country\"] = np.where(data_origin[\"country\"] == \"Sao TomÃ© and Principe\", \"SÃ£o TomÃ© and Principe\", data_origin[\"country\"])\n",
    "\n",
    "data_origin[\"country\"] = np.where(data_origin[\"country\"] == \"Congo (Democratic Republic of the)\", \"Dem. Rep. Congo\", data_origin[\"country\"])\n",
    "\n",
    "data_origin[\"country\"] = np.where(data_origin[\"country\"] == \"Viet Nam\", \"Vietnam\", data_origin[\"country\"])\n",
    "\n",
    "data_origin[\"country\"] = np.where(data_origin[\"country\"] == \"Ivory Coast\", \"CÃ´te d'Ivoire\", data_origin[\"country\"])\n",
    "\n",
    "data_origin[\"country\"] = np.where(data_origin[\"country\"] == \"Solomon Islands\", \"Solomon Is.\", data_origin[\"country\"])\n",
    "\n",
    "data_origin[\"country\"] = np.where(data_origin[\"country\"] == \"Dominican Republic\", \"Dominican Rep.\", data_origin[\"country\"])\n",
    "\n",
    "\n",
    "\n",
    "data_company[\"country\"] = np.where(data_company[\"country\"] == \"United Kingdom of Great Britain and Northern Ireland\", \"United Kingdom\", data_company[\"country\"])\n",
    "\n",
    "data_company[\"country\"] = np.where(data_company[\"country\"] == \"Venezuela (Bolivarian Republic of)\", \"Venezuela\", data_company[\"country\"])\n",
    "\n",
    "data_company[\"country\"] = np.where(data_company[\"country\"] == \"Wales\", \"United Kingdom\", data_company[\"country\"])\n",
    "\n",
    "data_company[\"country\"] = np.where(data_company[\"country\"] == \"Bolivia (Plurinational State of)\", \"Bolivia\", data_company[\"country\"])\n",
    "\n",
    "data_company[\"country\"] = np.where(data_company[\"country\"] == \"Russian Federation\", \"Russia\", data_company[\"country\"])\n",
    "\n",
    "data_company[\"country\"] = np.where(data_company[\"country\"] == \"Martinique\", \"France\", data_company[\"country\"])\n",
    "\n",
    "data_company[\"country\"] = np.where(data_company[\"country\"] == \"Taiwan, Province of China\", \"Taiwan\", data_company[\"country\"])\n",
    "\n",
    "data_company[\"country\"] = np.where(data_company[\"country\"] == \"Korea (Republic of)\", \"South Korea\", data_company[\"country\"])\n",
    "\n",
    "data_company[\"country\"] = np.where(data_company[\"country\"] == \"Viet Nam\", \"Vietnam\", data_company[\"country\"])\n",
    "\n",
    "data_company[\"country\"] = np.where(data_company[\"country\"] == \"United States of America\", \"United States\", data_company[\"country\"])\n",
    "\n",
    "data_company[\"country\"] = np.where(data_company[\"country\"] == \"Dominican Republic\", \"Dominican Rep.\", data_company[\"country\"])\n",
    "\n",
    "data_company[\"country\"] = np.where(data_company[\"country\"] == \"Sao Tome and Principe\", \"SÃ£o TomÃ© and Principe\", data_company[\"country\"])\n",
    "\n",
    "data_company[\"country\"] = np.where(data_company[\"country\"] == \"Czech Republic\", \"Czechia\", data_company[\"country\"])\n",
    "\n",
    "\n",
    "\n",
    "data_company.drop(data_company[data_company[\"country\"]==\"Grenada\"].index, inplace=True)\n",
    "\n",
    "data_company.drop(data_company[data_company[\"country\"]==\"Saint Vincent and the Grenadines\"].index, inplace=True)\n",
    "\n",
    "\n",
    "\n",
    "data_origin.drop(data_origin[data_origin[\"country\"]==\"Samoa\"].index, inplace=True)\n",
    "data_origin.drop(data_origin[data_origin[\"country\"]==\"Grenada\"].index, inplace=True)\n",
    "\n",
    "data_origin.drop(data_origin[data_origin[\"country\"]==\"Saint Vincent and the Grenadines\"].index, inplace=True)\n"
   ]
  },
  {
   "cell_type": "code",
   "execution_count": null,
   "metadata": {},
   "outputs": [],
   "source": []
  },
  {
   "cell_type": "markdown",
   "metadata": {},
   "source": [
    "# -------------------APP------------------"
   ]
  },
  {
   "cell_type": "code",
   "execution_count": 57,
   "metadata": {},
   "outputs": [],
   "source": [
    "#!pip install dash_daq"
   ]
  },
  {
   "cell_type": "code",
   "execution_count": 142,
   "metadata": {},
   "outputs": [],
   "source": [
    "app = dash.Dash(__name__, meta_tags=[{'content': 'width=device-width, initial-scale=1'}])\n",
    "\n",
    "server = app.server\n",
    "app.title = 'Diving into Chocolate'\n",
    "\n",
    "app.layout = html.Div([\n",
    "                        html.Br(),\n",
    "                        html.Br(),\n",
    "                        html.Br(),\n",
    "                        html.Div([\n",
    "                                \n",
    "                                html.H1('Diving into Chocolate',style={\"margin-top\": \"0\",\"font-weight\": \"bold\",\"text-align\": \"center\", 'font-size' : '50px'}),\n",
    "                                html.H3('Taking a closer look into the Chocolate Industry',style={\"margin-top\": \"0\",\"font-weight\": \"bold\",\"text-align\": \"center\"}),\n",
    "                                ]),\n",
    "                        \n",
    "                        html.Br(),\n",
    "                        html.Br(), \n",
    "                                          \n",
    "                        html.Div([ \n",
    "                                #WORLD MAP\n",
    "                                html.Div([\n",
    "                                         html.Div([\n",
    "                                                html.H3(\"Cocoa Around the World\", style={\"margin-top\": \"0\",\"font-weight\": \"bold\",\"text-align\": \"center\"}),\n",
    "                                                ]),\n",
    "                                         \n",
    "                                        html.Div([\n",
    "                                               \n",
    "                                                #FILTROS\n",
    "                                                html.Div([ \n",
    "                                                        html.H4(\"Choose what you want to see in this map:\"),\n",
    "                                                        html.Div([\n",
    "                                                                html.Div([\n",
    "                                                                        dbc.RadioItems(\n",
    "                                                                                id=\"country_radio\",\n",
    "                                                                                options=[dict(label=\"Bean origin\", value=\"country_of_bean_origin\"), dict(label=\"Company location\", value=\"company_location\")],\n",
    "                                                                                className='radio',\n",
    "                                                                                value=\"country_of_bean_origin\",\n",
    "                                                                                style={'display':'block'}\n",
    "                                                                                ),\n",
    "                                                                        ]),\n",
    "                                                                html.Br(),\n",
    "                                                                html.Div([\n",
    "                                                                        dbc.RadioItems(\n",
    "                                                                                id=\"number_radio\",\n",
    "                                                                                options=[dict(label=\"Ratings\", value=\"rating\"),dict(label=\"Frequency\",value=\"ref\")],\n",
    "                                                                                value=\"rating\",\n",
    "                                                                                className='radio',\n",
    "                                                                                style={'display':'block'}\n",
    "                                                                                ),\n",
    "                                                                        ]),\n",
    "                                                                ], style = {'padding-right':'10px'}),\n",
    "                                                                html.Br(),\n",
    "                                                                html.Div([\n",
    "                                                                      html.P('In this map, you can see either the country where the cocoa beans are originally from or the nationality of the companies that produce the chocolates in the dataset, according to the average ratings of the chocolates or the number of chocolates they have.')  \n",
    "                                                                ],style={\"text-align\": \"justify\"})\n",
    "                                                                ],style={'width': '20%', 'padding-right':'10px'}) ,\n",
    "                                        \n",
    "                                                # VIS WORLD\n",
    "                                                html.Div([ \n",
    "                                                        dcc.Graph(id=\"choroplethmapbox\")\n",
    "                                                        ],style={'width': '80%','padding-bottom':'15px','padding-top':'20px'}),\n",
    "                                                \n",
    "                                                ], id='world_view', style={'display': 'flex'}), \n",
    "                                           \n",
    "                                ],className='box'),  \n",
    "                                \n",
    "                                #WORD CLOUD\n",
    "                                html.Div([ \n",
    "                                          html.Div([\n",
    "                                                html.H3(\"Where to get your favorite chocolate?\"),\n",
    "                                                ],className='title_vis'),\n",
    "                                \n",
    "                                        html.Div([ \n",
    "                                                \n",
    "                                        #FILTROS\n",
    "                                        html.Div([ \n",
    "                                                html.Div([ \n",
    "                                                        html.P('Here you have the chance to find the company which sells your dream chocolate according to its rating. If the names of the companies are colored, then they sell the chocolate with the highest review rank. The number of times the company takes place in the visualization, corresponds to the number of chocolates owned with the given filters. The words’ size corresponds to the ranking of the chocolate.')\n",
    "                                                        ],style={\"text-align\": \"justify\"}),  \n",
    "                                                html.Div([\n",
    "                                                       html.P('Note: If there are company names overlapping in the visualization, you can zoom in a specific area.') \n",
    "                                                ],style={\"font-size\": '12px',\"text-align\": \"justify\"}),\n",
    "                                                html.H4('Choose the ingredients you like a chocolate to have:'),\n",
    "                                                html.Div([ \n",
    "                                                        \n",
    "                                                        dcc.Dropdown(\n",
    "                                                                id='drop_id',\n",
    "                                                                options=ingredients,\n",
    "                                                                value=['have_sugar','have_vanila'],\n",
    "                                                                clearable=False,\n",
    "                                                                #searchable=False, \n",
    "                                                                multi=True,\n",
    "                                                                style= {'box-shadow': '0px 0px #ebb36a'},\n",
    "                                                                \n",
    "                                                                ),\n",
    "                                                                        ], className=\"custom-dropdown\", style={'margin': '10px', 'padding-top':'15px', 'padding-bottom':'15px'}),\n",
    "                                                html.Div([ \n",
    "                                                        html.Br(),\n",
    "                                                        html.H4('Choose the desired Cocoa percentage range:'),\n",
    "                                                        dcc.RangeSlider(\n",
    "                                                                        id='percent_id',\n",
    "                                                                        min=42,\n",
    "                                                                        max=100,\n",
    "                                                                        value=[50, 58],\n",
    "                                                                        marks={'50': '50',\n",
    "                                                                                '60': '60',\n",
    "                                                                                '70': '70',\n",
    "                                                                                '80': '80',\n",
    "                                                                                '90': '90',\n",
    "                                                                                '100': '100'},\n",
    "                                                                        step=1,\n",
    "                                                                        tooltip={\"placement\": \"bottom\", \"always_visible\": True},\n",
    "                                                                        className='rc'\n",
    "                                                                        )\n",
    "                                                        ]) ,\n",
    "                                                        \n",
    "                                                 ],style={'width': '40%'}) ,\n",
    "                                    \n",
    "                                        # VIS WORD\n",
    "                                                html.Div([\n",
    "                                                        html.Div([ \n",
    "                                                                dcc.Graph(id='graph1'),\n",
    "                                                        ]) ,\n",
    "                                                html.Div([        \n",
    "                                                        html.Div([\n",
    "                                                        html.H4('Company', style={'font-weight':'normal'}),\n",
    "                                                        html.H3(id=\"name_company_id\")\n",
    "                                                        ],className='box_info', style = {'height': '20%'}),\n",
    "                                                        \n",
    "                                                        html.Div([\n",
    "                                                        html.H4('Rating', style={'font-weight':'normal'}),\n",
    "                                                        html.H3(id=\"rating_id\")\n",
    "                                                        ],className='box_info', style = {'height': '20%'}),\n",
    "                                \n",
    "                                                        html.Div([\n",
    "                                                        html.H4('Country', style={'font-weight':'normal'}),\n",
    "                                                        html.H3(id=\"country_id\"),\n",
    "                                                        ],className='box_info', style = {'height': '20%'}),\n",
    "                                                        \n",
    "                                                        ],style={'display': 'flex','padding-left':'100px'}) ,\n",
    "                                                ], style = {'width': '60%'})\n",
    "                                                \n",
    "                                                \n",
    "                                        ],style={'display': 'flex'}),  \n",
    "                                ], className='box', id='word_cloud'), \n",
    "                                \n",
    "                                #RADAR\n",
    "                                html.Div([\n",
    "                                         \n",
    "                                        html.Div([\n",
    "                                                html.H3(\"Which company would you find better?\"),\n",
    "                                                ],className='title_vis'),\n",
    "                                        \n",
    "                                        html.Div([\n",
    "                                                #FILTROS\n",
    "                                                html.Div([\n",
    "                                                        html.Div([ \n",
    "                                                          html.P('Compare two companies of your choice according to the number of ingredients of their chocolates, their rating, the number of tastes and the level of cocoa (from 1 to 5). All these variables are an average of the values in all the chocolates owned by the company')\n",
    "                                                          ],style={\"text-align\": \"justify\"}),\n",
    "\n",
    "                                                html.Div([ \n",
    "                                                        html.H4('Company 1'),\n",
    "                                                        dcc.Dropdown(\n",
    "                                                                id='drop_comp1_id',\n",
    "                                                                options=companies,\n",
    "                                                                value='5150',\n",
    "                                                                multi=False\n",
    "                                                                ),\n",
    "                                                                ], style={'margin': '10px', 'padding-top':'15px', 'padding-bottom':'15px'}) ,\n",
    "                                        \n",
    "                                \n",
    "                                                html.Div([ \n",
    "                        \n",
    "                                                        html.H4('Company 2'),\n",
    "                                                        dcc.Dropdown(\n",
    "                                                                id='drop_comp2_id',\n",
    "                                                                options=companies,\n",
    "                                                                value='A. Morin',\n",
    "                                                                multi=False\n",
    "                                                                ),\n",
    "                                                                ], style={'margin': '10px', 'padding-bottom':'15px'}) ,\n",
    "\n",
    "                                                # html.Div([\n",
    "                                                #           html.Img(src=app.get_asset_url('chocochoco.png'), style={'position': 'relative', 'width': '50%', 'top': '-20px'})\n",
    "                                                # ])\n",
    "                                                \n",
    "                                                ],style={'width': '35%'}),\n",
    "                                                \n",
    "                                                # VIS RADAR\n",
    "                                                html.Div([ \n",
    "                                                        dcc.Graph(id='radar')\n",
    "                                                        ], style={'width': '65%','padding-bottom': '0px'}) ,\n",
    "\n",
    "                                                 \n",
    "                                                ], id='radar_view', style={'display': 'flex'}),\n",
    "\n",
    "                                               \n",
    "                                ],className='box'),\n",
    "                                #---------------------\n",
    "                                \n",
    "                             # TREEMAP\n",
    "                               html.Div([ \n",
    "                                        html.Div([\n",
    "                                                html.H3(\"Exports vs Imports of Cocoa\", style={\"margin-top\": \"0\",\"font-weight\": \"bold\",\"text-align\": \"center\"}),\n",
    "                                                ]),\n",
    "                                        \n",
    "                                        #FILTROS\n",
    "                                        html.Div([\n",
    "                                                html.Div([\n",
    "                                                        html.Br(),\n",
    "                                                        html.P('Here you can have a simple overview of the main international traders of Cocoa in a year between 1991 to 2019. You can choose to look over Quantity traded or Trade in USD, between Imports or Exports and a specific year.')\n",
    "                                                ], style={\"text-align\": \"justify\", 'width': '35%','padding-left':'75px'}), \n",
    "                                                    \n",
    "                                                html.Div([ \n",
    "                                                        html.H4('What variable do you want to analyze?'),\n",
    "                                                        dbc.RadioItems(\n",
    "                                                                id='dropvartree_id', \n",
    "                                                                options=tree_variables, \n",
    "                                                                value='Quantity',\n",
    "                                                                className='radio',\n",
    "                                                                style={'display':'block'}\n",
    "                                                                ),\n",
    "                                                        ], style={'padding-bottom':'15px','width': '20%','padding-left': '120px'}),\n",
    "                                                \n",
    "                                                html.Div([                                                       \n",
    "                                                        html.H4(\"Pick a Flow:\"),\n",
    "                                                        html.Br(),\n",
    "                                                        dbc.RadioItems(\n",
    "                                                                id=\"radioflowtree_id\",\n",
    "                                                                options=tree_flows_Dict, \n",
    "                                                                value='Export',\n",
    "                                                                className='radio',\n",
    "                                                                style={'display':'block'}\n",
    "                                                                ) ,\n",
    "                                                        \n",
    "                                                        ], style={'padding-bottom':'15px','width': '20%','padding-left': '110px'}),\n",
    "\n",
    "                                                html.Div([\n",
    "                                                          html.Img(src=app.get_asset_url('tree.png'), style={'position': 'relative', 'width': '70%'})\n",
    "                                                ], style={'width': '20%','padding-left':'60px'}),\n",
    "\n",
    "                                        ],style={'width': '100%','display': 'flex','justify-content': 'center'}),\n",
    "                                                \n",
    "                                        # VIS TREEMAP\n",
    "                \n",
    "                                        html.Div([\n",
    "                                                dcc.Graph(id='treemap_vis'),\n",
    "                                                dcc.Slider(\n",
    "                                                        flows_df['Year'].min(), \n",
    "                                                        flows_df['Year'].max(),\n",
    "                                                        step=None,\n",
    "                                                        value=flows_df['Year'].min(),\n",
    "                                                        marks={str(year): str(year) for year in flows_df['Year'].unique()},\n",
    "                                                        included=False,\n",
    "                                                        id='treeyear_slider',\n",
    "                                                        )\n",
    "                                                ])\n",
    "                                                \n",
    "                                        ],className='box' ),\n",
    "                               \n",
    "                                ]),\n",
    "                        \n",
    "                        # Bean Routes\n",
    "                        html.Div([\n",
    "                                html.Div([\n",
    "                                        html.H3(\"Bean Routes Around the World\", style={\"margin-top\": \"0\",\"font-weight\": \"bold\",\"text-align\": \"center\"}),\n",
    "                                        ]),\n",
    "                                \n",
    "                                html.Div([\n",
    "                                        html.Div([\n",
    "                                                html.P('In this visualization you can see which are the main routes of cocoa beans around the world. The origin of the bean is the country where it is produced and the destination is the country of the company that uses thoses beans. Only the 10% most frequent routes  were chosen to be present in this visualization'),\n",
    "                                                html.Div([\n",
    "                                                       html.P('Note: To see information about each route, hover over the countries and not the lines.') \n",
    "                                                ],style={\"font-size\": '12px',\"text-align\": \"justify\"}),\n",
    "                                                html.Br(),\n",
    "                                                html.Br(),\n",
    "                                                html.Br(),\n",
    "                                                html.Img(src=app.get_asset_url('Cocoa-Bean-PNG-Image.png'), style={'margin-left': 'auto','margin-right': 'auto','display': 'block', 'width': '70%'})\n",
    "                                        ], style={\"text-align\": \"justify\", 'width': '25%','padding-left':'15px'}),\n",
    "\n",
    "                                        # Visualization Routes\n",
    "                                        html.Div([\n",
    "                                                dcc.Graph(figure = fig_routes)\n",
    "                                        ], style={\"text-align\": \"justify\", 'width': '75%'})\n",
    "                                ], style = {'display': 'flex'})\n",
    "                                \n",
    "                                \n",
    "                        ], className = 'box'),\n",
    "                        html.Div([\n",
    "                        html.Div([\n",
    "                                html.H3('Authors:'),\n",
    "                                html.P('Beatriz Vizoso | Filipa Alves'),\n",
    "                                html.P('Helena Oliveira | Maria Almeida'),\n",
    "                                ],className='box', style={'width': '25%'}),\n",
    "                        \n",
    "                        html.Div([\n",
    "                                html.H3('Sources:'),\n",
    "                                dcc.Markdown(\"\"\"\\\n",
    "                                        - Chocolate dataset:\n",
    "                                                https://www.kaggle.com/datasets/rtatman/chocolate-bar-ratings\n",
    "                                        \n",
    "                                        - Cocoa Imports and Exports: \n",
    "                                                https://wits.worldbank.org/trade/comtrade/en/country/ALL/year/2019/tradeflow/Exports/partner/WLD/product/180100 \"\"\"),\n",
    "        \n",
    "                                ], className='box', style={'width': '75%'}),\n",
    "                        ],style={'display':'flex'})\n",
    "                        \n",
    "                ],style={'margin':'80px'})\n",
    "\n"
   ]
  },
  {
   "cell_type": "code",
   "execution_count": 143,
   "metadata": {},
   "outputs": [
    {
     "name": "stdout",
     "output_type": "stream",
     "text": [
      "Dash is running on http://127.0.0.1:8050/\n",
      "\n",
      "Dash is running on http://127.0.0.1:8050/\n",
      "\n",
      "Dash is running on http://127.0.0.1:8050/\n",
      "\n",
      "Dash is running on http://127.0.0.1:8050/\n",
      "\n",
      "Dash is running on http://127.0.0.1:8050/\n",
      "\n",
      "Dash is running on http://127.0.0.1:8050/\n",
      "\n",
      "Dash is running on http://127.0.0.1:8050/\n",
      "\n",
      "Dash is running on http://127.0.0.1:8050/\n",
      "\n",
      "Dash is running on http://127.0.0.1:8050/\n",
      "\n",
      "Dash is running on http://127.0.0.1:8050/\n",
      "\n",
      " * Serving Flask app \"__main__\" (lazy loading)\n",
      " * Environment: production\n",
      "   WARNING: This is a development server. Do not use it in a production deployment.\n",
      "   Use a production WSGI server instead.\n",
      " * Debug mode: off\n"
     ]
    },
    {
     "name": "stderr",
     "output_type": "stream",
     "text": [
      " * Running on http://127.0.0.1:8050/ (Press CTRL+C to quit)\n",
      "127.0.0.1 - - [12/Apr/2022 20:17:52] \"\u001b[37mGET / HTTP/1.1\u001b[0m\" 200 -\n",
      "127.0.0.1 - - [12/Apr/2022 20:17:52] \"\u001b[37mGET /_dash-layout HTTP/1.1\u001b[0m\" 200 -\n",
      "127.0.0.1 - - [12/Apr/2022 20:17:52] \"\u001b[37mGET /_dash-dependencies HTTP/1.1\u001b[0m\" 200 -\n",
      "127.0.0.1 - - [12/Apr/2022 20:17:52] \"\u001b[37mGET /_dash-component-suites/dash/dcc/async-dropdown.js HTTP/1.1\u001b[0m\" 200 -\n",
      "127.0.0.1 - - [12/Apr/2022 20:17:52] \"\u001b[37mGET /_dash-component-suites/dash/dcc/async-plotlyjs.js HTTP/1.1\u001b[0m\" 200 -\n",
      "127.0.0.1 - - [12/Apr/2022 20:17:52] \"\u001b[37mGET /_dash-component-suites/dash/dcc/async-slider.js HTTP/1.1\u001b[0m\" 200 -\n",
      "127.0.0.1 - - [12/Apr/2022 20:17:52] \"\u001b[37mGET /_dash-component-suites/dash/dcc/async-graph.js HTTP/1.1\u001b[0m\" 200 -\n",
      "127.0.0.1 - - [12/Apr/2022 20:17:52] \"\u001b[37mGET /_dash-component-suites/dash/dcc/async-markdown.js HTTP/1.1\u001b[0m\" 200 -\n",
      "127.0.0.1 - - [12/Apr/2022 20:17:53] \"\u001b[37mGET /_dash-component-suites/dash/dcc/async-highlight.js HTTP/1.1\u001b[0m\" 200 -\n",
      "127.0.0.1 - - [12/Apr/2022 20:17:53] \"\u001b[37mPOST /_dash-update-component HTTP/1.1\u001b[0m\" 200 -\n",
      "127.0.0.1 - - [12/Apr/2022 20:17:53] \"\u001b[37mPOST /_dash-update-component HTTP/1.1\u001b[0m\" 200 -\n",
      "127.0.0.1 - - [12/Apr/2022 20:17:54] \"\u001b[37mPOST /_dash-update-component HTTP/1.1\u001b[0m\" 200 -\n",
      "127.0.0.1 - - [12/Apr/2022 20:17:54] \"\u001b[37mPOST /_dash-update-component HTTP/1.1\u001b[0m\" 200 -\n",
      "127.0.0.1 - - [12/Apr/2022 20:18:01] \"\u001b[37mPOST /_dash-update-component HTTP/1.1\u001b[0m\" 200 -\n",
      "127.0.0.1 - - [12/Apr/2022 20:18:02] \"\u001b[37mPOST /_dash-update-component HTTP/1.1\u001b[0m\" 200 -\n",
      "127.0.0.1 - - [12/Apr/2022 20:18:02] \"\u001b[37mPOST /_dash-update-component HTTP/1.1\u001b[0m\" 200 -\n",
      "127.0.0.1 - - [12/Apr/2022 20:18:11] \"\u001b[37mPOST /_dash-update-component HTTP/1.1\u001b[0m\" 200 -\n",
      "127.0.0.1 - - [12/Apr/2022 20:18:12] \"\u001b[37mPOST /_dash-update-component HTTP/1.1\u001b[0m\" 200 -\n",
      "127.0.0.1 - - [12/Apr/2022 20:18:13] \"\u001b[37mPOST /_dash-update-component HTTP/1.1\u001b[0m\" 200 -\n",
      "127.0.0.1 - - [12/Apr/2022 20:18:14] \"\u001b[37mPOST /_dash-update-component HTTP/1.1\u001b[0m\" 200 -\n",
      "127.0.0.1 - - [12/Apr/2022 20:18:15] \"\u001b[37mPOST /_dash-update-component HTTP/1.1\u001b[0m\" 200 -\n",
      "127.0.0.1 - - [12/Apr/2022 20:18:15] \"\u001b[37mPOST /_dash-update-component HTTP/1.1\u001b[0m\" 200 -\n",
      "127.0.0.1 - - [12/Apr/2022 20:18:17] \"\u001b[37mPOST /_dash-update-component HTTP/1.1\u001b[0m\" 200 -\n",
      "127.0.0.1 - - [12/Apr/2022 20:18:18] \"\u001b[37mPOST /_dash-update-component HTTP/1.1\u001b[0m\" 200 -\n"
     ]
    }
   ],
   "source": [
    "\n",
    "@app.callback(\n",
    "   \n",
    "   Output('radar', 'figure'),\n",
    "   \n",
    "    [Input('drop_comp1_id', 'value'),\n",
    "     Input('drop_comp2_id','value')] )\n",
    "\n",
    "\n",
    "def update_radar(drop_comp1_id,drop_comp2_id):\n",
    "    company1 = drop_comp1_id\n",
    "    company2 = drop_comp2_id\n",
    "    \n",
    "    feat_radar = ['cocoa_percent', 'rating', 'counts_of_ingredients', 'count_tastes']\n",
    "    companies = list(data['company'].unique())\n",
    "    \n",
    "    radar = pd.DataFrame(round(test_taste.groupby(by = 'company')[feat_radar].mean(),2))\n",
    "    radar['company_name'] = radar.index\n",
    "    radar.insert(0, 'cocoa_level', round((5 * radar['cocoa_percent']) / 100, 2))\n",
    "    radar.drop(columns = {'cocoa_percent'}, inplace = True)\n",
    "    \n",
    "    radar = radar.merge(test_taste[['company_location', 'company']], left_on='company_name', right_on='company', how='left')\n",
    "    radar.drop(columns={'company'}, axis = 1, inplace = True)\n",
    "    \n",
    "    radar.drop_duplicates(inplace = True)\n",
    "\n",
    "    radar['company_name'].isin([company1, company2])\n",
    "    company1_list = []\n",
    "\n",
    "    company1_df = pd.DataFrame(radar[radar['company_name'] == company1])\n",
    "    for i in range(len(radar.columns)-2):\n",
    "        company1_list.append(radar[radar['company_name'] == company1].iloc[0,i])\n",
    "\n",
    "    \n",
    "    company2_list = []\n",
    "\n",
    "    company2_df = pd.DataFrame(radar[radar['company_name'] == company2])\n",
    "    for i in range(len(radar.columns)-2):\n",
    "        company2_list.append(radar[radar['company_name'] == company2].iloc[0,i])\n",
    "\n",
    "    \n",
    "    labels_radar = ['Level of Cocoa', 'Rating', 'Number of Ingredients', 'Number of Tastes']\n",
    "    fig = go.Figure(data=go.Scatterpolar(\n",
    "            r=company1_list,\n",
    "            theta = labels_radar,\n",
    "            fill='toself', \n",
    "            marker_color = 'rgb(128, 0, 32)',   \n",
    "            opacity =1, \n",
    "            hoverinfo = \"text\" ,\n",
    "            name = company1,\n",
    "            text  = ['<b>' + str(company1) + '</b><br>' + labels_radar[i] + ' = ' + str(company1_df.iloc[0,i]) + '; <br>Country: ' + str(radar[radar['company_name'] == company1].iloc[0,5]) for i in range(len(company1_list))]\n",
    "        ), layout = Layout(\n",
    "        paper_bgcolor='rgba(0,0,0,0)',\n",
    "        plot_bgcolor='rgba(0,0,0,0)'))\n",
    "    fig.add_trace(go.Scatterpolar(\n",
    "            r=company2_list,\n",
    "            theta=['Level of Cocoa', 'Rating', 'Number of Ingredients', 'Number of Tastes'],\n",
    "            fill='toself',\n",
    "            marker_color = 'rgb(218, 160, 109)',\n",
    "            hoverinfo = \"text\" ,\n",
    "            name= company2,\n",
    "            text = ['<b>' + str(company2) + '</b><br>' + labels_radar[i] + ' = ' + str(company2_df.iloc[0,i]) + '; <br>Country: ' + str(radar[radar['company_name'] == company2].iloc[0,5]) for i in range(len(company2_list))]\n",
    "            ))\n",
    "\n",
    "    fig.update_layout(\n",
    "        title = {'text': str(company1) + ' vs. ' + str(company2),'y':0.9,'x':0.5,'xanchor': 'center','yanchor': 'top'},\n",
    "        polar=dict(\n",
    "            radialaxis=dict(\n",
    "            visible=True,\n",
    "            range=[0, 5]\n",
    "            )),\n",
    "        showlegend=True\n",
    "    )\n",
    "    return fig\n",
    "\n",
    "@app.callback(\n",
    "   \n",
    "   [Output(\"name_company_id\", \"children\"),\n",
    "    Output(\"rating_id\", \"children\"),\n",
    "    Output(\"country_id\", \"children\"),\n",
    "    Output('graph1', 'figure')],\n",
    "   \n",
    "    [Input('drop_id', 'value'),\n",
    "     Input('percent_id','value')] )\n",
    "\n",
    "def update_graph(drop_id,percent_id):\n",
    "    \n",
    "    filtered=data\n",
    "    \n",
    "    for each in drop_id:\n",
    "        filtered=filtered[filtered.isin([each]).any(1)] \n",
    "    \n",
    "    filtered = filtered[(filtered['cocoa_percent'] >= percent_id[0]) & (filtered['cocoa_percent'] <= percent_id[1])]\n",
    "    maxi=np.max(filtered['rating'])\n",
    "   \n",
    "    filtered['color_max'] = np.where((filtered['rating'] == maxi), 1, 0)\n",
    "    filtered=filtered.sort_values(by=['color_max'], ascending=False)\n",
    " \n",
    "    group_=filtered[filtered['rating']==maxi].groupby(by=['company'])['rating'].mean().sort_values(ascending=False)\n",
    "    filtered=filtered.head(15)\n",
    "    ratings = filtered.rating.to_list()\n",
    "    countries=filtered.company_location.to_list()\n",
    "    initial_weights=filtered.rating.to_list()\n",
    "    words = filtered.company.to_list()\n",
    "\n",
    "    w_max= max(initial_weights)\n",
    "    w_min=min(initial_weights)\n",
    "    upper=15\n",
    "    lower=4\n",
    "    \n",
    "    if (w_max-w_min) ==0:\n",
    "        weights=[upper for x in initial_weights] \n",
    "    else:\n",
    "        weights=[lower+((x-w_min)*(upper-lower))/(w_max-w_min) for x in initial_weights]\n",
    "\n",
    "    nr_companies=len(filtered[filtered['color_max']==1])\n",
    "    colors = [px.colors.qualitative.Antique[2] for i in range(nr_companies)]\n",
    "    colors.extend(px.colors.qualitative.Antique[0] for i in range(len(filtered)-nr_companies))\n",
    "    \n",
    "    \n",
    "    if len(filtered)>1:\n",
    "        group_=pd.DataFrame(filtered[filtered['rating']==maxi].groupby(by=['company'])['rating'].mean().sort_values(ascending=False))\n",
    "        name_company=str(group_.index[0])\n",
    "        rating=str(group_.head(1)['rating'].values[0])\n",
    "        country=str(filtered[filtered['company']==name_company].company_location.values[0])\n",
    "    \n",
    "    elif filtered.empty:\n",
    "        name_company = 'No company was found'\n",
    "        rating = 'No rating was found'\n",
    "        country= 'No country was found'\n",
    "        \n",
    "    else:\n",
    "        name_company=str(filtered.head(1)['company'].values[0])\n",
    "        rating=str(filtered.head(1)['rating'].values[0])\n",
    "        country=str(filtered.head(1)['company_location'].values[0])\n",
    "        \n",
    "        \n",
    "    data_inter = go.Scatter(x=random.choices(range(2000), k=len(filtered)),\n",
    "                            y=random.choices(range(2000), k=len(filtered)),\n",
    "                            mode='text',\n",
    "                            text=words,\n",
    "                            marker={'opacity': 0.3},\n",
    "                            textfont={'size': weights, 'color': colors},\n",
    "                            hovertext=['Rating: '+str(f)+'<br>Country: ' + str(p) for f, p in zip(ratings, countries)],\n",
    "                            hoverinfo='text')\n",
    "                                \n",
    "\n",
    "    layout_1 = go.Layout({'xaxis': {'showgrid': False, 'showticklabels': False, 'zeroline': False},\n",
    "            'yaxis': {'showgrid': False, 'showticklabels': False, 'zeroline': False}} )\n",
    "    \n",
    "    fig = go.Figure(data=[data_inter], layout=layout_1)\n",
    "\n",
    "    fig.update_layout(paper_bgcolor='rgba(0,0,0,0)', plot_bgcolor='rgba(0,0,0,0)', title={'text':'Word Cloud <br><sup>Companies that sell the chocolate desired</sup>','y':0.9,\n",
    "                      'x':0.5,'xanchor': 'center','yanchor': 'top'},title_font_size=25)\n",
    "    \n",
    "    return name_company ,  \\\n",
    "           rating , \\\n",
    "           country , \\\n",
    "           fig\n",
    "\n",
    "@app.callback(\n",
    "    Output(\"choroplethmapbox\", \"figure\"),\n",
    "    [\n",
    "        Input(\"country_radio\", \"value\"),\n",
    "        Input(\"number_radio\", \"value\")\n",
    "    ]\n",
    ")\n",
    "\n",
    "def make_choroplethmap(country_radio,number_radio):\n",
    "    if country_radio == 'country_of_bean_origin':\n",
    "        df = data_origin\n",
    "        main_title1=\"Country of Bean Origin\"\n",
    "    elif country_radio == \"company_location\":\n",
    "        df = data_company\n",
    "        main_title1 = \"Location of Company\"\n",
    "\n",
    "    if number_radio == \"rating\":\n",
    "        legend_title=\"Ratings\"\n",
    "    elif number_radio == \"ref\":\n",
    "        legend_title=\"Frequency\"\n",
    "    \n",
    "\n",
    "    data_choroplethmap = dict(type='choroplethmapbox', \n",
    "                            geojson=data_geo,\n",
    "                            locations=df[\"country\"], \n",
    "                            #locationmode=\"country names\",\n",
    "                            z=df[number_radio],                         \n",
    "                            colorscale='brwnyl',\n",
    "                            colorbar=dict(title=legend_title),\n",
    "                            )\n",
    "\n",
    "    layout_choroplethmap = dict(mapbox=dict(style='white-bg',\n",
    "                                layers=[dict(source=feature,\n",
    "                                            below='traces',\n",
    "                                            type='fill',\n",
    "                                            fill=dict(outlinecolor='gray')\n",
    "                                            ) for feature in data_geo['features']]\n",
    "                                            ),\n",
    "                                title=dict(text=main_title1,\n",
    "                                        x=.5 # Title relative position according to the xaxis, range (0,1)\n",
    "                                        )\n",
    "                            )\n",
    "    \n",
    "    fig_choroplethmap = go.Figure(data=data_choroplethmap, layout=layout_choroplethmap)\n",
    "    fig_choroplethmap.update_layout(paper_bgcolor='rgba(0,0,0,0)', \n",
    "                                    plot_bgcolor='rgba(0,0,0,0)',\n",
    "                                    )\n",
    "    fig_choroplethmap.update_layout(geo = dict(\n",
    "        showland = True,\n",
    "        showcountries = True,\n",
    "        showocean = True,\n",
    "        landcolor = 'rgb(209,190,168)',\n",
    "        countrycolor = 'rgba(68,68,68,255)',\n",
    "        oceancolor = 'rgb(95,158,160)',\n",
    "        ))\n",
    "\n",
    "    fig_choroplethmap.update_layout(height=450, margin={\"r\":0,\"t\":0,\"l\":20,\"b\":0})\n",
    "\n",
    "    return fig_choroplethmap\n",
    "\n",
    "\n",
    "@app.callback(\n",
    "    Output(\"treemap_vis\", \"figure\"), \n",
    "    \n",
    "    [Input('dropvartree_id', 'value'),\n",
    "    Input('radioflowtree_id','value'),\n",
    "    Input('treeyear_slider','value')] \n",
    "    \n",
    "    )\n",
    "\n",
    "def update_treemap(selected_var, selected_flow, selected_year):\n",
    "    filtered_df= flows_df[(flows_df['Flow']==selected_flow) & (flows_df['Year']==selected_year)]\n",
    "    fig = px.treemap(filtered_df, path=['Country or Area'],values=selected_var, color=selected_var, color_continuous_scale='brwnyl')\n",
    "    #title=(str(selected_var) + ' of Cocoa ' + str(selected_flow) + 'ed by Country in ' + str(selected_year))) \n",
    "    \n",
    "    fig.data[0].hovertemplate = '%{label}<br>%{value}'\n",
    "    \n",
    "    fig.update_layout(paper_bgcolor='rgba(0,0,0,0)', plot_bgcolor='rgba(0,0,0,0)',\n",
    "                      title={'text':str(selected_var) + ' of Cocoa ' + str(selected_flow) + 'ed by Country in ' + str(selected_year),'y':0.95,'x':0.5,'xanchor': 'center','yanchor': 'top'})\n",
    "   \n",
    "    \n",
    "    return fig\n",
    "\n",
    "# @app.callback(\n",
    "   \n",
    "#    Output('routes_vis', 'figure')\n",
    "# )\n",
    "\n",
    "\n",
    "\n",
    "\n",
    "\n",
    "if __name__ == '__main__':\n",
    "    app.run_server()"
   ]
  },
  {
   "cell_type": "code",
   "execution_count": null,
   "metadata": {},
   "outputs": [],
   "source": []
  },
  {
   "cell_type": "code",
   "execution_count": null,
   "metadata": {},
   "outputs": [],
   "source": []
  }
 ],
 "metadata": {
  "interpreter": {
   "hash": "0a2e937febbe5477c28200cac54be2d2da4f3456b8c1b7f6ca2a37fc549e7fbf"
  },
  "kernelspec": {
   "display_name": "Python 3",
   "language": "python",
   "name": "python3"
  },
  "language_info": {
   "codemirror_mode": {
    "name": "ipython",
    "version": 3
   },
   "file_extension": ".py",
   "mimetype": "text/x-python",
   "name": "python",
   "nbconvert_exporter": "python",
   "pygments_lexer": "ipython3",
   "version": "3.8.5"
  }
 },
 "nbformat": 4,
 "nbformat_minor": 2
}
