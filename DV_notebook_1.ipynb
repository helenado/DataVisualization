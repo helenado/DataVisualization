{
 "cells": [
  {
   "cell_type": "code",
   "execution_count": 141,
   "metadata": {},
   "outputs": [],
   "source": [
    "import pandas as pd\n",
    "import plotly \n",
    "import numpy as np\n",
    "import plotly.figure_factory as ff\n",
    "import scipy\n",
    "import plotly.graph_objects as go\n",
    "import dash\n",
    "from dash import Dash, dcc, html, Input, Output\n",
    "import plotly.express as px\n",
    "import matplotlib.pyplot as plt\n",
    "import plotly.graph_objs as go\n",
    "from plotly.graph_objs import *\n",
    "from plotly.offline import plot\n",
    "import random\n",
    "\n",
    "#pip install scipy\n",
    "#!pip install Dash"
   ]
  },
  {
   "cell_type": "code",
   "execution_count": 142,
   "metadata": {},
   "outputs": [],
   "source": [
    "# Import data\n",
    "\n",
    "data = pd.read_csv('chocolate.csv')\n",
    "continent = pd.read_csv('countryContinent.csv',encoding = \"ISO-8859-1\")\n",
    "imp_exp=pd.read_csv('UNdata_Export_20220301_151116452.csv')\n",
    "coord=pd.read_csv('country_points.csv',encoding = \"ISO-8859-1\")\n",
    "\n",
    "path_datasets = 'https://raw.githubusercontent.com/nalpalhao/DV_Practival/master/datasets/'\n",
    "geo_path = path_datasets + 'Lesson_4/'\n",
    "\n",
    "import urllib.request, json \n",
    "\n",
    "with urllib.request.urlopen(geo_path + 'countries.geojson') as url:\n",
    "    data_geo = json.loads(url.read().decode())\n"
   ]
  },
  {
   "cell_type": "code",
   "execution_count": 143,
   "metadata": {},
   "outputs": [
    {
     "data": {
      "text/html": [
       "<div>\n",
       "<style scoped>\n",
       "    .dataframe tbody tr th:only-of-type {\n",
       "        vertical-align: middle;\n",
       "    }\n",
       "\n",
       "    .dataframe tbody tr th {\n",
       "        vertical-align: top;\n",
       "    }\n",
       "\n",
       "    .dataframe thead th {\n",
       "        text-align: right;\n",
       "    }\n",
       "</style>\n",
       "<table border=\"1\" class=\"dataframe\">\n",
       "  <thead>\n",
       "    <tr style=\"text-align: right;\">\n",
       "      <th></th>\n",
       "      <th>country</th>\n",
       "      <th>latitude</th>\n",
       "      <th>longitude</th>\n",
       "      <th>name</th>\n",
       "    </tr>\n",
       "  </thead>\n",
       "  <tbody>\n",
       "    <tr>\n",
       "      <th>0</th>\n",
       "      <td>AD</td>\n",
       "      <td>42.546245</td>\n",
       "      <td>1.601554</td>\n",
       "      <td>Andorra</td>\n",
       "    </tr>\n",
       "    <tr>\n",
       "      <th>1</th>\n",
       "      <td>AE</td>\n",
       "      <td>23.424076</td>\n",
       "      <td>53.847818</td>\n",
       "      <td>United Arab Emirates</td>\n",
       "    </tr>\n",
       "    <tr>\n",
       "      <th>2</th>\n",
       "      <td>AF</td>\n",
       "      <td>33.939110</td>\n",
       "      <td>67.709953</td>\n",
       "      <td>Afghanistan</td>\n",
       "    </tr>\n",
       "    <tr>\n",
       "      <th>3</th>\n",
       "      <td>AG</td>\n",
       "      <td>17.060816</td>\n",
       "      <td>-61.796428</td>\n",
       "      <td>Antigua and Barbuda</td>\n",
       "    </tr>\n",
       "    <tr>\n",
       "      <th>4</th>\n",
       "      <td>AI</td>\n",
       "      <td>18.220554</td>\n",
       "      <td>-63.068615</td>\n",
       "      <td>Anguilla</td>\n",
       "    </tr>\n",
       "  </tbody>\n",
       "</table>\n",
       "</div>"
      ],
      "text/plain": [
       "  country   latitude  longitude                  name\n",
       "0      AD  42.546245   1.601554               Andorra\n",
       "1      AE  23.424076  53.847818  United Arab Emirates\n",
       "2      AF  33.939110  67.709953           Afghanistan\n",
       "3      AG  17.060816 -61.796428   Antigua and Barbuda\n",
       "4      AI  18.220554 -63.068615              Anguilla"
      ]
     },
     "execution_count": 143,
     "metadata": {},
     "output_type": "execute_result"
    }
   ],
   "source": [
    "coord.head()"
   ]
  },
  {
   "cell_type": "code",
   "execution_count": 144,
   "metadata": {},
   "outputs": [
    {
     "data": {
      "text/html": [
       "<div>\n",
       "<style scoped>\n",
       "    .dataframe tbody tr th:only-of-type {\n",
       "        vertical-align: middle;\n",
       "    }\n",
       "\n",
       "    .dataframe tbody tr th {\n",
       "        vertical-align: top;\n",
       "    }\n",
       "\n",
       "    .dataframe thead th {\n",
       "        text-align: right;\n",
       "    }\n",
       "</style>\n",
       "<table border=\"1\" class=\"dataframe\">\n",
       "  <thead>\n",
       "    <tr style=\"text-align: right;\">\n",
       "      <th></th>\n",
       "      <th>country</th>\n",
       "      <th>code_2</th>\n",
       "      <th>code_3</th>\n",
       "      <th>country_code</th>\n",
       "      <th>iso_3166_2</th>\n",
       "      <th>continent</th>\n",
       "      <th>sub_region</th>\n",
       "      <th>region_code</th>\n",
       "      <th>sub_region_code</th>\n",
       "    </tr>\n",
       "  </thead>\n",
       "  <tbody>\n",
       "    <tr>\n",
       "      <th>0</th>\n",
       "      <td>Afghanistan</td>\n",
       "      <td>AF</td>\n",
       "      <td>AFG</td>\n",
       "      <td>4</td>\n",
       "      <td>ISO 3166-2:AF</td>\n",
       "      <td>Asia</td>\n",
       "      <td>Southern Asia</td>\n",
       "      <td>142.0</td>\n",
       "      <td>34.0</td>\n",
       "    </tr>\n",
       "    <tr>\n",
       "      <th>1</th>\n",
       "      <td>Åland Islands</td>\n",
       "      <td>AX</td>\n",
       "      <td>ALA</td>\n",
       "      <td>248</td>\n",
       "      <td>ISO 3166-2:AX</td>\n",
       "      <td>Europe</td>\n",
       "      <td>Northern Europe</td>\n",
       "      <td>150.0</td>\n",
       "      <td>154.0</td>\n",
       "    </tr>\n",
       "    <tr>\n",
       "      <th>2</th>\n",
       "      <td>Albania</td>\n",
       "      <td>AL</td>\n",
       "      <td>ALB</td>\n",
       "      <td>8</td>\n",
       "      <td>ISO 3166-2:AL</td>\n",
       "      <td>Europe</td>\n",
       "      <td>Southern Europe</td>\n",
       "      <td>150.0</td>\n",
       "      <td>39.0</td>\n",
       "    </tr>\n",
       "    <tr>\n",
       "      <th>3</th>\n",
       "      <td>Algeria</td>\n",
       "      <td>DZ</td>\n",
       "      <td>DZA</td>\n",
       "      <td>12</td>\n",
       "      <td>ISO 3166-2:DZ</td>\n",
       "      <td>Africa</td>\n",
       "      <td>Northern Africa</td>\n",
       "      <td>2.0</td>\n",
       "      <td>15.0</td>\n",
       "    </tr>\n",
       "    <tr>\n",
       "      <th>4</th>\n",
       "      <td>American Samoa</td>\n",
       "      <td>AS</td>\n",
       "      <td>ASM</td>\n",
       "      <td>16</td>\n",
       "      <td>ISO 3166-2:AS</td>\n",
       "      <td>Oceania</td>\n",
       "      <td>Polynesia</td>\n",
       "      <td>9.0</td>\n",
       "      <td>61.0</td>\n",
       "    </tr>\n",
       "  </tbody>\n",
       "</table>\n",
       "</div>"
      ],
      "text/plain": [
       "          country code_2 code_3  country_code     iso_3166_2 continent  \\\n",
       "0     Afghanistan     AF    AFG             4  ISO 3166-2:AF      Asia   \n",
       "1   Åland Islands     AX    ALA           248  ISO 3166-2:AX    Europe   \n",
       "2         Albania     AL    ALB             8  ISO 3166-2:AL    Europe   \n",
       "3         Algeria     DZ    DZA            12  ISO 3166-2:DZ    Africa   \n",
       "4  American Samoa     AS    ASM            16  ISO 3166-2:AS   Oceania   \n",
       "\n",
       "        sub_region  region_code  sub_region_code  \n",
       "0    Southern Asia        142.0             34.0  \n",
       "1  Northern Europe        150.0            154.0  \n",
       "2  Southern Europe        150.0             39.0  \n",
       "3  Northern Africa          2.0             15.0  \n",
       "4        Polynesia          9.0             61.0  "
      ]
     },
     "execution_count": 144,
     "metadata": {},
     "output_type": "execute_result"
    }
   ],
   "source": [
    "continent.head()"
   ]
  },
  {
   "cell_type": "code",
   "execution_count": 145,
   "metadata": {},
   "outputs": [
    {
     "data": {
      "text/html": [
       "<div>\n",
       "<style scoped>\n",
       "    .dataframe tbody tr th:only-of-type {\n",
       "        vertical-align: middle;\n",
       "    }\n",
       "\n",
       "    .dataframe tbody tr th {\n",
       "        vertical-align: top;\n",
       "    }\n",
       "\n",
       "    .dataframe thead th {\n",
       "        text-align: right;\n",
       "    }\n",
       "</style>\n",
       "<table border=\"1\" class=\"dataframe\">\n",
       "  <thead>\n",
       "    <tr style=\"text-align: right;\">\n",
       "      <th></th>\n",
       "      <th>Table Code</th>\n",
       "      <th>Country or Area Code</th>\n",
       "      <th>Country or Area</th>\n",
       "      <th>Year</th>\n",
       "      <th>Comm. Code</th>\n",
       "      <th>Commodity</th>\n",
       "      <th>Flow Code</th>\n",
       "      <th>Flow</th>\n",
       "      <th>Trade (USD)</th>\n",
       "      <th>Weight (kg)</th>\n",
       "      <th>Quantity Code</th>\n",
       "      <th>Quantity Name</th>\n",
       "      <th>Quantity</th>\n",
       "    </tr>\n",
       "  </thead>\n",
       "  <tbody>\n",
       "    <tr>\n",
       "      <th>0</th>\n",
       "      <td>19</td>\n",
       "      <td>4</td>\n",
       "      <td>Afghanistan</td>\n",
       "      <td>2018</td>\n",
       "      <td>180500</td>\n",
       "      <td>Cocoa powder, unsweetened</td>\n",
       "      <td>1</td>\n",
       "      <td>Import</td>\n",
       "      <td>7.247329e+04</td>\n",
       "      <td>8.070000e+04</td>\n",
       "      <td>8</td>\n",
       "      <td>Weight in kilograms</td>\n",
       "      <td>8.070000e+04</td>\n",
       "    </tr>\n",
       "    <tr>\n",
       "      <th>1</th>\n",
       "      <td>19</td>\n",
       "      <td>4</td>\n",
       "      <td>Afghanistan</td>\n",
       "      <td>2018</td>\n",
       "      <td>180690</td>\n",
       "      <td>Chocolate/cocoa food preparations nes</td>\n",
       "      <td>1</td>\n",
       "      <td>Import</td>\n",
       "      <td>3.281740e+07</td>\n",
       "      <td>5.662823e+06</td>\n",
       "      <td>8</td>\n",
       "      <td>Weight in kilograms</td>\n",
       "      <td>5.662823e+06</td>\n",
       "    </tr>\n",
       "    <tr>\n",
       "      <th>2</th>\n",
       "      <td>19</td>\n",
       "      <td>4</td>\n",
       "      <td>Afghanistan</td>\n",
       "      <td>2018</td>\n",
       "      <td>180690</td>\n",
       "      <td>Chocolate/cocoa food preparations nes</td>\n",
       "      <td>2</td>\n",
       "      <td>Export</td>\n",
       "      <td>4.327404e+06</td>\n",
       "      <td>0.000000e+00</td>\n",
       "      <td>8</td>\n",
       "      <td>Weight in kilograms</td>\n",
       "      <td>6.239175e+06</td>\n",
       "    </tr>\n",
       "    <tr>\n",
       "      <th>3</th>\n",
       "      <td>19</td>\n",
       "      <td>4</td>\n",
       "      <td>Afghanistan</td>\n",
       "      <td>2018</td>\n",
       "      <td>180690</td>\n",
       "      <td>Chocolate/cocoa food preparations nes</td>\n",
       "      <td>3</td>\n",
       "      <td>Re-Export</td>\n",
       "      <td>7.452492e+04</td>\n",
       "      <td>0.000000e+00</td>\n",
       "      <td>8</td>\n",
       "      <td>Weight in kilograms</td>\n",
       "      <td>0.000000e+00</td>\n",
       "    </tr>\n",
       "    <tr>\n",
       "      <th>4</th>\n",
       "      <td>19</td>\n",
       "      <td>4</td>\n",
       "      <td>Afghanistan</td>\n",
       "      <td>2016</td>\n",
       "      <td>180690</td>\n",
       "      <td>Chocolate/cocoa food preparations nes</td>\n",
       "      <td>1</td>\n",
       "      <td>Import</td>\n",
       "      <td>1.568728e+08</td>\n",
       "      <td>2.677301e+07</td>\n",
       "      <td>8</td>\n",
       "      <td>Weight in kilograms</td>\n",
       "      <td>2.677301e+07</td>\n",
       "    </tr>\n",
       "  </tbody>\n",
       "</table>\n",
       "</div>"
      ],
      "text/plain": [
       "   Table Code  Country or Area Code Country or Area  Year  Comm. Code  \\\n",
       "0          19                     4     Afghanistan  2018      180500   \n",
       "1          19                     4     Afghanistan  2018      180690   \n",
       "2          19                     4     Afghanistan  2018      180690   \n",
       "3          19                     4     Afghanistan  2018      180690   \n",
       "4          19                     4     Afghanistan  2016      180690   \n",
       "\n",
       "                               Commodity  Flow Code       Flow   Trade (USD)  \\\n",
       "0              Cocoa powder, unsweetened          1     Import  7.247329e+04   \n",
       "1  Chocolate/cocoa food preparations nes          1     Import  3.281740e+07   \n",
       "2  Chocolate/cocoa food preparations nes          2     Export  4.327404e+06   \n",
       "3  Chocolate/cocoa food preparations nes          3  Re-Export  7.452492e+04   \n",
       "4  Chocolate/cocoa food preparations nes          1     Import  1.568728e+08   \n",
       "\n",
       "    Weight (kg)  Quantity Code        Quantity Name      Quantity  \n",
       "0  8.070000e+04              8  Weight in kilograms  8.070000e+04  \n",
       "1  5.662823e+06              8  Weight in kilograms  5.662823e+06  \n",
       "2  0.000000e+00              8  Weight in kilograms  6.239175e+06  \n",
       "3  0.000000e+00              8  Weight in kilograms  0.000000e+00  \n",
       "4  2.677301e+07              8  Weight in kilograms  2.677301e+07  "
      ]
     },
     "execution_count": 145,
     "metadata": {},
     "output_type": "execute_result"
    }
   ],
   "source": [
    "imp_exp.head()"
   ]
  },
  {
   "cell_type": "code",
   "execution_count": 146,
   "metadata": {},
   "outputs": [
    {
     "data": {
      "text/html": [
       "<div>\n",
       "<style scoped>\n",
       "    .dataframe tbody tr th:only-of-type {\n",
       "        vertical-align: middle;\n",
       "    }\n",
       "\n",
       "    .dataframe tbody tr th {\n",
       "        vertical-align: top;\n",
       "    }\n",
       "\n",
       "    .dataframe thead th {\n",
       "        text-align: right;\n",
       "    }\n",
       "</style>\n",
       "<table border=\"1\" class=\"dataframe\">\n",
       "  <thead>\n",
       "    <tr style=\"text-align: right;\">\n",
       "      <th></th>\n",
       "      <th>Country or Area</th>\n",
       "      <th>Year</th>\n",
       "      <th>Commodity</th>\n",
       "      <th>Flow</th>\n",
       "      <th>Quantity</th>\n",
       "      <th>Trade (USD)</th>\n",
       "    </tr>\n",
       "  </thead>\n",
       "  <tbody>\n",
       "    <tr>\n",
       "      <th>60</th>\n",
       "      <td>Albania</td>\n",
       "      <td>2012</td>\n",
       "      <td>Cocoa beans, whole or broken, raw or roasted</td>\n",
       "      <td>Import</td>\n",
       "      <td>130.0</td>\n",
       "      <td>874.0</td>\n",
       "    </tr>\n",
       "    <tr>\n",
       "      <th>71</th>\n",
       "      <td>Albania</td>\n",
       "      <td>2011</td>\n",
       "      <td>Cocoa beans, whole or broken, raw or roasted</td>\n",
       "      <td>Import</td>\n",
       "      <td>4524.0</td>\n",
       "      <td>19877.0</td>\n",
       "    </tr>\n",
       "    <tr>\n",
       "      <th>83</th>\n",
       "      <td>Albania</td>\n",
       "      <td>2010</td>\n",
       "      <td>Cocoa beans, whole or broken, raw or roasted</td>\n",
       "      <td>Import</td>\n",
       "      <td>45.0</td>\n",
       "      <td>295.0</td>\n",
       "    </tr>\n",
       "    <tr>\n",
       "      <th>94</th>\n",
       "      <td>Albania</td>\n",
       "      <td>2009</td>\n",
       "      <td>Cocoa beans, whole or broken, raw or roasted</td>\n",
       "      <td>Import</td>\n",
       "      <td>262.0</td>\n",
       "      <td>1919.0</td>\n",
       "    </tr>\n",
       "    <tr>\n",
       "      <th>149</th>\n",
       "      <td>Albania</td>\n",
       "      <td>2004</td>\n",
       "      <td>Cocoa beans, whole or broken, raw or roasted</td>\n",
       "      <td>Import</td>\n",
       "      <td>1606.0</td>\n",
       "      <td>2729.0</td>\n",
       "    </tr>\n",
       "  </tbody>\n",
       "</table>\n",
       "</div>"
      ],
      "text/plain": [
       "    Country or Area  Year                                     Commodity  \\\n",
       "60          Albania  2012  Cocoa beans, whole or broken, raw or roasted   \n",
       "71          Albania  2011  Cocoa beans, whole or broken, raw or roasted   \n",
       "83          Albania  2010  Cocoa beans, whole or broken, raw or roasted   \n",
       "94          Albania  2009  Cocoa beans, whole or broken, raw or roasted   \n",
       "149         Albania  2004  Cocoa beans, whole or broken, raw or roasted   \n",
       "\n",
       "       Flow  Quantity  Trade (USD)  \n",
       "60   Import     130.0        874.0  \n",
       "71   Import    4524.0      19877.0  \n",
       "83   Import      45.0        295.0  \n",
       "94   Import     262.0       1919.0  \n",
       "149  Import    1606.0       2729.0  "
      ]
     },
     "execution_count": 146,
     "metadata": {},
     "output_type": "execute_result"
    }
   ],
   "source": [
    "imp_exp=imp_exp[imp_exp['Commodity']=='Cocoa beans, whole or broken, raw or roasted'][['Country or Area','Year','Commodity','Flow','Quantity','Trade (USD)']]\n",
    "imp_exp.head()"
   ]
  },
  {
   "cell_type": "code",
   "execution_count": 147,
   "metadata": {},
   "outputs": [],
   "source": [
    "# Prepare the data for the merge\n",
    "data[\"company_location\"] = data[\"company_location\"].str.title()\n",
    "data[\"country_of_bean_origin\"] = data[\"country_of_bean_origin\"].str.title()\n",
    "data[\"company_location\"].replace({'U.S.A': 'United States of America','U.K.':'United Kingdom of Great Britain and Northern Ireland','Dominican republic':'Dominican Republic','El salvador':'El Salvador','Vietnam':'Viet Nam','Venezuela':'Venezuela (Bolivarian Republic of)','South Korea':'Korea (Republic of)','New Zealand':'New Zealand','Russia':'Russian Federation','Taiwan':'Taiwan, Province of China','Sao Tome':'Sao Tome and Principe','Sao Tome & Principe':'Sao Tome and Principe','St. Lucia':'Saint Lucia','U.A.E.':'United Arab Emirates','St.Vincent-Grenadines':'Saint Vincent and the Grenadines','Bolivia':'Bolivia (Plurinational State of)'}, inplace=True)\n",
    "data[\"country_of_bean_origin\"].replace({'U.S.A': 'United States of America','U.K.':'United Kingdom of Great Britain and Northern Ireland','Dominican republic':'Dominican Republic','El salvador':'El Salvador','Vietnam':'Viet Nam','Venezuela':'Venezuela (Bolivarian Republic of)','South Korea':'Korea (Republic of)','New Zealand':'New Zealand','Russia':'Russian Federation','Taiwan':'Taiwan, Province of China','Sao Tome':'Sao Tome and Principe','Sao Tome & Principe':'Sao Tome and Principe','St. Lucia':'Saint Lucia','U.A.E.':'United Arab Emirates','St.Vincent-Grenadines':'Saint Vincent and the Grenadines','Bolivia':'Bolivia (Plurinational State of)','Burma':'Myanmar','Tanzania':'Tanzania, United Republic of','Trinidad':'Trinidad and Tobago','Dr Congo':'Congo (Democratic Republic of the)'}, inplace=True)"
   ]
  },
  {
   "cell_type": "code",
   "execution_count": 148,
   "metadata": {},
   "outputs": [],
   "source": [
    "# removing Unnamed:0\n",
    "data=data.iloc[:,1:]"
   ]
  },
  {
   "cell_type": "code",
   "execution_count": 149,
   "metadata": {},
   "outputs": [],
   "source": [
    "teste=data.merge(continent[['country','continent','sub_region','code_2']].rename(columns={'continent':'company_continent','sub_region':'company_region','code_2':'company_code_2'}), left_on='company_location', right_on='country', how='left')"
   ]
  },
  {
   "cell_type": "code",
   "execution_count": 150,
   "metadata": {},
   "outputs": [
    {
     "data": {
      "text/plain": [
       "<bound method IndexOpsMixin.value_counts of 193        Wales\n",
       "486     Scotland\n",
       "487     Scotland\n",
       "488     Scotland\n",
       "489     Scotland\n",
       "490     Scotland\n",
       "491     Scotland\n",
       "1083    Scotland\n",
       "1084    Scotland\n",
       "1513    Scotland\n",
       "1514    Scotland\n",
       "Name: company_location, dtype: object>"
      ]
     },
     "execution_count": 150,
     "metadata": {},
     "output_type": "execute_result"
    }
   ],
   "source": [
    "teste[teste['company_continent'].isna()]['company_location'].value_counts"
   ]
  },
  {
   "cell_type": "code",
   "execution_count": 151,
   "metadata": {},
   "outputs": [],
   "source": [
    "teste=teste[teste['company_location']!= 'Scotland']"
   ]
  },
  {
   "cell_type": "code",
   "execution_count": 152,
   "metadata": {},
   "outputs": [],
   "source": [
    "teste=teste.merge(continent[['country','continent','sub_region','code_2']].rename(columns={'continent':'bean_continent','sub_region':'bean_region','code_2':'bean_code_2'}), left_on='country_of_bean_origin', right_on='country', how='left')"
   ]
  },
  {
   "cell_type": "code",
   "execution_count": 153,
   "metadata": {},
   "outputs": [
    {
     "data": {
      "text/plain": [
       "<bound method IndexOpsMixin.value_counts of 88      Blend\n",
       "92      Blend\n",
       "96      Blend\n",
       "100     Blend\n",
       "177     Blend\n",
       "        ...  \n",
       "2188    Blend\n",
       "2201    Blend\n",
       "2203    Blend\n",
       "2209    Blend\n",
       "2213    Blend\n",
       "Name: country_of_bean_origin, Length: 177, dtype: object>"
      ]
     },
     "execution_count": 153,
     "metadata": {},
     "output_type": "execute_result"
    }
   ],
   "source": [
    "teste[teste['bean_continent'].isna()]['country_of_bean_origin'].value_counts"
   ]
  },
  {
   "cell_type": "code",
   "execution_count": 154,
   "metadata": {},
   "outputs": [],
   "source": [
    "teste=teste[teste['country_of_bean_origin']!= 'Blend']"
   ]
  },
  {
   "cell_type": "code",
   "execution_count": 155,
   "metadata": {},
   "outputs": [],
   "source": [
    "data=teste"
   ]
  },
  {
   "cell_type": "code",
   "execution_count": 156,
   "metadata": {},
   "outputs": [
    {
     "data": {
      "text/plain": [
       "Index(['ref', 'company', 'company_location', 'review_date',\n",
       "       'country_of_bean_origin', 'specific_bean_origin_or_bar_name',\n",
       "       'cocoa_percent', 'rating', 'counts_of_ingredients', 'beans',\n",
       "       'cocoa_butter', 'vanilla', 'lecithin', 'salt', 'sugar',\n",
       "       'sweetener_without_sugar', 'first_taste', 'second_taste', 'third_taste',\n",
       "       'fourth_taste', 'country_x', 'company_continent', 'company_region',\n",
       "       'company_code_2', 'country_y', 'bean_continent', 'bean_region',\n",
       "       'bean_code_2'],\n",
       "      dtype='object')"
      ]
     },
     "execution_count": 156,
     "metadata": {},
     "output_type": "execute_result"
    }
   ],
   "source": [
    "data.columns"
   ]
  },
  {
   "cell_type": "code",
   "execution_count": 157,
   "metadata": {},
   "outputs": [
    {
     "data": {
      "text/html": [
       "<div>\n",
       "<style scoped>\n",
       "    .dataframe tbody tr th:only-of-type {\n",
       "        vertical-align: middle;\n",
       "    }\n",
       "\n",
       "    .dataframe tbody tr th {\n",
       "        vertical-align: top;\n",
       "    }\n",
       "\n",
       "    .dataframe thead th {\n",
       "        text-align: right;\n",
       "    }\n",
       "</style>\n",
       "<table border=\"1\" class=\"dataframe\">\n",
       "  <thead>\n",
       "    <tr style=\"text-align: right;\">\n",
       "      <th></th>\n",
       "      <th>country</th>\n",
       "      <th>latitude</th>\n",
       "      <th>longitude</th>\n",
       "      <th>name</th>\n",
       "    </tr>\n",
       "  </thead>\n",
       "  <tbody>\n",
       "    <tr>\n",
       "      <th>0</th>\n",
       "      <td>AD</td>\n",
       "      <td>42.546245</td>\n",
       "      <td>1.601554</td>\n",
       "      <td>Andorra</td>\n",
       "    </tr>\n",
       "    <tr>\n",
       "      <th>1</th>\n",
       "      <td>AE</td>\n",
       "      <td>23.424076</td>\n",
       "      <td>53.847818</td>\n",
       "      <td>United Arab Emirates</td>\n",
       "    </tr>\n",
       "    <tr>\n",
       "      <th>2</th>\n",
       "      <td>AF</td>\n",
       "      <td>33.939110</td>\n",
       "      <td>67.709953</td>\n",
       "      <td>Afghanistan</td>\n",
       "    </tr>\n",
       "    <tr>\n",
       "      <th>3</th>\n",
       "      <td>AG</td>\n",
       "      <td>17.060816</td>\n",
       "      <td>-61.796428</td>\n",
       "      <td>Antigua and Barbuda</td>\n",
       "    </tr>\n",
       "    <tr>\n",
       "      <th>4</th>\n",
       "      <td>AI</td>\n",
       "      <td>18.220554</td>\n",
       "      <td>-63.068615</td>\n",
       "      <td>Anguilla</td>\n",
       "    </tr>\n",
       "  </tbody>\n",
       "</table>\n",
       "</div>"
      ],
      "text/plain": [
       "  country   latitude  longitude                  name\n",
       "0      AD  42.546245   1.601554               Andorra\n",
       "1      AE  23.424076  53.847818  United Arab Emirates\n",
       "2      AF  33.939110  67.709953           Afghanistan\n",
       "3      AG  17.060816 -61.796428   Antigua and Barbuda\n",
       "4      AI  18.220554 -63.068615              Anguilla"
      ]
     },
     "execution_count": 157,
     "metadata": {},
     "output_type": "execute_result"
    }
   ],
   "source": [
    "# Add the coordinates both for bean_origin and company_location\n",
    "coord.head()"
   ]
  },
  {
   "cell_type": "code",
   "execution_count": 158,
   "metadata": {},
   "outputs": [],
   "source": [
    "teste1=data.merge(coord.iloc[:,:-1], left_on='bean_code_2', right_on='country', how='left').rename(columns={'latitude':'bean_lat','longitude':'bean_lon'})\n",
    "teste2=data.merge(coord.iloc[:,:-1], left_on='company_code_2', right_on='country', how='left').rename(columns={'latitude':'country_lat','longitude':'country_lon'})"
   ]
  },
  {
   "cell_type": "code",
   "execution_count": 159,
   "metadata": {},
   "outputs": [
    {
     "data": {
      "text/html": [
       "<div>\n",
       "<style scoped>\n",
       "    .dataframe tbody tr th:only-of-type {\n",
       "        vertical-align: middle;\n",
       "    }\n",
       "\n",
       "    .dataframe tbody tr th {\n",
       "        vertical-align: top;\n",
       "    }\n",
       "\n",
       "    .dataframe thead th {\n",
       "        text-align: right;\n",
       "    }\n",
       "</style>\n",
       "<table border=\"1\" class=\"dataframe\">\n",
       "  <thead>\n",
       "    <tr style=\"text-align: right;\">\n",
       "      <th></th>\n",
       "      <th>ref</th>\n",
       "      <th>review_date</th>\n",
       "      <th>cocoa_percent</th>\n",
       "      <th>rating</th>\n",
       "      <th>counts_of_ingredients</th>\n",
       "    </tr>\n",
       "    <tr>\n",
       "      <th>company</th>\n",
       "      <th></th>\n",
       "      <th></th>\n",
       "      <th></th>\n",
       "      <th></th>\n",
       "      <th></th>\n",
       "    </tr>\n",
       "  </thead>\n",
       "  <tbody>\n",
       "    <tr>\n",
       "      <th>5150</th>\n",
       "      <td>2455.333333</td>\n",
       "      <td>2019.000000</td>\n",
       "      <td>76.000000</td>\n",
       "      <td>3.500000</td>\n",
       "      <td>3.000000</td>\n",
       "    </tr>\n",
       "    <tr>\n",
       "      <th>A. Morin</th>\n",
       "      <td>1294.480000</td>\n",
       "      <td>2013.960000</td>\n",
       "      <td>68.880000</td>\n",
       "      <td>3.400000</td>\n",
       "      <td>3.960000</td>\n",
       "    </tr>\n",
       "    <tr>\n",
       "      <th>AMMA</th>\n",
       "      <td>670.600000</td>\n",
       "      <td>2010.600000</td>\n",
       "      <td>69.000000</td>\n",
       "      <td>3.500000</td>\n",
       "      <td>4.000000</td>\n",
       "    </tr>\n",
       "    <tr>\n",
       "      <th>Acalli</th>\n",
       "      <td>1966.000000</td>\n",
       "      <td>2017.500000</td>\n",
       "      <td>71.000000</td>\n",
       "      <td>3.562500</td>\n",
       "      <td>2.000000</td>\n",
       "    </tr>\n",
       "    <tr>\n",
       "      <th>Adi aka Fijiana (Easy In Ltd)</th>\n",
       "      <td>705.000000</td>\n",
       "      <td>2011.000000</td>\n",
       "      <td>75.000000</td>\n",
       "      <td>3.250000</td>\n",
       "      <td>3.000000</td>\n",
       "    </tr>\n",
       "    <tr>\n",
       "      <th>...</th>\n",
       "      <td>...</td>\n",
       "      <td>...</td>\n",
       "      <td>...</td>\n",
       "      <td>...</td>\n",
       "      <td>...</td>\n",
       "    </tr>\n",
       "    <tr>\n",
       "      <th>Zotter</th>\n",
       "      <td>1033.705882</td>\n",
       "      <td>2012.647059</td>\n",
       "      <td>70.352941</td>\n",
       "      <td>3.352941</td>\n",
       "      <td>3.823529</td>\n",
       "    </tr>\n",
       "    <tr>\n",
       "      <th>hello cocoa</th>\n",
       "      <td>1460.000000</td>\n",
       "      <td>2015.000000</td>\n",
       "      <td>65.500000</td>\n",
       "      <td>3.125000</td>\n",
       "      <td>3.000000</td>\n",
       "    </tr>\n",
       "    <tr>\n",
       "      <th>hexx</th>\n",
       "      <td>1848.000000</td>\n",
       "      <td>2016.500000</td>\n",
       "      <td>71.500000</td>\n",
       "      <td>2.925000</td>\n",
       "      <td>2.000000</td>\n",
       "    </tr>\n",
       "    <tr>\n",
       "      <th>organicfair</th>\n",
       "      <td>1316.166667</td>\n",
       "      <td>2013.833333</td>\n",
       "      <td>72.166667</td>\n",
       "      <td>2.875000</td>\n",
       "      <td>3.000000</td>\n",
       "    </tr>\n",
       "    <tr>\n",
       "      <th>twenty-four blackbirds</th>\n",
       "      <td>1347.428571</td>\n",
       "      <td>2014.000000</td>\n",
       "      <td>73.714286</td>\n",
       "      <td>3.071429</td>\n",
       "      <td>2.000000</td>\n",
       "    </tr>\n",
       "  </tbody>\n",
       "</table>\n",
       "<p>488 rows × 5 columns</p>\n",
       "</div>"
      ],
      "text/plain": [
       "                                       ref  review_date  cocoa_percent  \\\n",
       "company                                                                  \n",
       "5150                           2455.333333  2019.000000      76.000000   \n",
       "A. Morin                       1294.480000  2013.960000      68.880000   \n",
       "AMMA                            670.600000  2010.600000      69.000000   \n",
       "Acalli                         1966.000000  2017.500000      71.000000   \n",
       "Adi aka Fijiana (Easy In Ltd)   705.000000  2011.000000      75.000000   \n",
       "...                                    ...          ...            ...   \n",
       "Zotter                         1033.705882  2012.647059      70.352941   \n",
       "hello cocoa                    1460.000000  2015.000000      65.500000   \n",
       "hexx                           1848.000000  2016.500000      71.500000   \n",
       "organicfair                    1316.166667  2013.833333      72.166667   \n",
       "twenty-four blackbirds         1347.428571  2014.000000      73.714286   \n",
       "\n",
       "                                 rating  counts_of_ingredients  \n",
       "company                                                         \n",
       "5150                           3.500000               3.000000  \n",
       "A. Morin                       3.400000               3.960000  \n",
       "AMMA                           3.500000               4.000000  \n",
       "Acalli                         3.562500               2.000000  \n",
       "Adi aka Fijiana (Easy In Ltd)  3.250000               3.000000  \n",
       "...                                 ...                    ...  \n",
       "Zotter                         3.352941               3.823529  \n",
       "hello cocoa                    3.125000               3.000000  \n",
       "hexx                           2.925000               2.000000  \n",
       "organicfair                    2.875000               3.000000  \n",
       "twenty-four blackbirds         3.071429               2.000000  \n",
       "\n",
       "[488 rows x 5 columns]"
      ]
     },
     "execution_count": 159,
     "metadata": {},
     "output_type": "execute_result"
    }
   ],
   "source": [
    "data1=data.groupby(by=['company']).mean()\n",
    "data1"
   ]
  },
  {
   "cell_type": "code",
   "execution_count": 160,
   "metadata": {},
   "outputs": [],
   "source": [
    "imp_exp_regions = imp_exp.merge(continent[['country','continent','sub_region','code_2']].rename(columns={'sub_region':'region'}), left_on = 'Country or Area', right_on= 'country', how= 'left')"
   ]
  },
  {
   "cell_type": "markdown",
   "metadata": {},
   "source": [
    "### ------------- BEA\n"
   ]
  },
  {
   "cell_type": "code",
   "execution_count": 161,
   "metadata": {},
   "outputs": [
    {
     "data": {
      "text/html": [
       "<div>\n",
       "<style scoped>\n",
       "    .dataframe tbody tr th:only-of-type {\n",
       "        vertical-align: middle;\n",
       "    }\n",
       "\n",
       "    .dataframe tbody tr th {\n",
       "        vertical-align: top;\n",
       "    }\n",
       "\n",
       "    .dataframe thead th {\n",
       "        text-align: right;\n",
       "    }\n",
       "</style>\n",
       "<table border=\"1\" class=\"dataframe\">\n",
       "  <thead>\n",
       "    <tr style=\"text-align: right;\">\n",
       "      <th></th>\n",
       "      <th>Country or Area</th>\n",
       "      <th>Year</th>\n",
       "      <th>Commodity</th>\n",
       "      <th>Flow</th>\n",
       "      <th>Quantity</th>\n",
       "      <th>Trade (USD)</th>\n",
       "      <th>country</th>\n",
       "      <th>continent</th>\n",
       "      <th>region</th>\n",
       "      <th>code_2</th>\n",
       "    </tr>\n",
       "  </thead>\n",
       "  <tbody>\n",
       "  </tbody>\n",
       "</table>\n",
       "</div>"
      ],
      "text/plain": [
       "Empty DataFrame\n",
       "Columns: [Country or Area, Year, Commodity, Flow, Quantity, Trade (USD), country, continent, region, code_2]\n",
       "Index: []"
      ]
     },
     "execution_count": 161,
     "metadata": {},
     "output_type": "execute_result"
    }
   ],
   "source": [
    "imp_exp_regions.loc[(imp_exp_regions['continent']=='nan') & (imp_exp_regions['Country or Area']!='nan')]"
   ]
  },
  {
   "cell_type": "code",
   "execution_count": 162,
   "metadata": {},
   "outputs": [
    {
     "data": {
      "text/plain": [
       "648"
      ]
     },
     "execution_count": 162,
     "metadata": {},
     "output_type": "execute_result"
    }
   ],
   "source": [
    "imp_exp_regions['country'].isna().sum()"
   ]
  },
  {
   "cell_type": "code",
   "execution_count": 163,
   "metadata": {},
   "outputs": [
    {
     "data": {
      "text/plain": [
       "648"
      ]
     },
     "execution_count": 163,
     "metadata": {},
     "output_type": "execute_result"
    }
   ],
   "source": [
    "imp_exp_regions['continent'].isna().sum()\n",
    "#imp_exp_regions[imp_exp_regions['Quantity'].isna()==True]"
   ]
  },
  {
   "cell_type": "code",
   "execution_count": 164,
   "metadata": {},
   "outputs": [],
   "source": [
    "imp_exp_regions= imp_exp_regions[~(imp_exp_regions['Flow'] == 'Re-Export')]\n",
    "imp_exp_regions= imp_exp_regions[~(imp_exp_regions['Flow'] == 'Re-Import')]"
   ]
  },
  {
   "cell_type": "code",
   "execution_count": 165,
   "metadata": {},
   "outputs": [
    {
     "data": {
      "text/plain": [
       "0         130\n",
       "1        4524\n",
       "2          45\n",
       "3         262\n",
       "4        1606\n",
       "        ...  \n",
       "5053       79\n",
       "5054      221\n",
       "5055      934\n",
       "5056    14942\n",
       "5057        9\n",
       "Name: Quantity, Length: 4898, dtype: int32"
      ]
     },
     "execution_count": 165,
     "metadata": {},
     "output_type": "execute_result"
    }
   ],
   "source": [
    "imp_exp_regions[\"Quantity\"]= imp_exp_regions[\"Quantity\"].fillna(imp_exp_regions.groupby('Country or Area')['Quantity'].transform('mean'))\n",
    "\n",
    "imp_exp_regions['Quantity'].astype(int)"
   ]
  },
  {
   "cell_type": "code",
   "execution_count": 166,
   "metadata": {},
   "outputs": [],
   "source": [
    "imp_exp_regions=imp_exp_regions[imp_exp_regions['Country or Area'].isnull()!= True] #removing nulls from Country or Area Column\n"
   ]
  },
  {
   "cell_type": "code",
   "execution_count": 167,
   "metadata": {},
   "outputs": [],
   "source": [
    "imp_exp_regions.loc[imp_exp_regions['Country or Area'] == 'Wallis and Futuna Isds', 'continent'] = 'Oceania'\n",
    "imp_exp_regions.loc[imp_exp_regions['Country or Area'] == 'Wallis and Futuna Isds','region'] = 'Polynesia'\n",
    "imp_exp_regions.loc[imp_exp_regions['Country or Area'] == 'Venezuela', 'continent'] = 'Americas'\n",
    "imp_exp_regions.loc[imp_exp_regions['Country or Area'] == 'Venezuela','region'] = 'Southern America'\n",
    "imp_exp_regions.loc[imp_exp_regions['Country or Area'] == 'United Rep. of Tanzania', 'continent'] = 'Africa'\n",
    "imp_exp_regions.loc[imp_exp_regions['Country or Area'] == 'United Rep. of Tanzania','region'] = 'Eastern Africa'\n",
    "imp_exp_regions.loc[imp_exp_regions['Country or Area'] == 'United Rep. of Tanzania','country'] = 'Tanzania'\n",
    "imp_exp_regions.loc[imp_exp_regions['Country or Area'] == 'United Kingdom', 'continent'] = 'Europe'\n",
    "imp_exp_regions.loc[imp_exp_regions['Country or Area'] == 'United Kingdom','region'] = 'Northern Europe'\n",
    "imp_exp_regions.loc[imp_exp_regions['Country or Area'] == 'USA', 'continent'] = 'Americas'\n",
    "imp_exp_regions.loc[imp_exp_regions['Country or Area'] == 'USA','region'] = 'Northern America'\n",
    "imp_exp_regions.loc[imp_exp_regions['Country or Area'] == 'USA','country'] = 'United States of America'\n",
    "imp_exp_regions.loc[imp_exp_regions['Country or Area'] == 'Turks and Caicos Isds', 'continent'] = 'Americas'\n",
    "imp_exp_regions.loc[imp_exp_regions['Country or Area'] == 'Turks and Caicos Isds','region'] = 'Central America'\n",
    "imp_exp_regions.loc[imp_exp_regions['Country or Area'] == 'TFYR of Macedonia', 'continent'] = 'Europe'\n",
    "imp_exp_regions.loc[imp_exp_regions['Country or Area'] == 'TFYR of Macedonia','region'] = 'Southern Europe'\n",
    "imp_exp_regions.loc[imp_exp_regions['Country or Area'] == 'TFYR of Macedonia','country'] = 'Macedonia'\n",
    "imp_exp_regions.loc[imp_exp_regions['Country or Area'] == 'Syria', 'continent'] = 'Asia'\n",
    "imp_exp_regions.loc[imp_exp_regions['Country or Area'] == 'Syria','region'] = 'Western Asia'\n",
    "imp_exp_regions.loc[imp_exp_regions['Country or Area'] == 'Solomon Isds', 'continent'] = 'Oceania'\n",
    "imp_exp_regions.loc[imp_exp_regions['Country or Area'] == 'Solomon Isds','region'] = 'Australia and New Zealand'\n",
    "imp_exp_regions.loc[imp_exp_regions['Country or Area'] == 'Serbia and Montenegro', 'continent'] = 'Europe'\n",
    "imp_exp_regions.loc[imp_exp_regions['Country or Area'] == 'Serbia and Montenegro','region'] = 'Southern Europe'\n",
    "imp_exp_regions.loc[imp_exp_regions['Country or Area'] == 'Rep. of Moldova', 'continent'] = 'Europe'\n",
    "imp_exp_regions.loc[imp_exp_regions['Country or Area'] == 'Rep. of Moldova','region'] = 'Eastern Europe'\n",
    "imp_exp_regions.loc[imp_exp_regions['Country or Area'] == 'Rep. of Moldova','country'] = 'Moldova'\n",
    "imp_exp_regions.loc[imp_exp_regions['Country or Area'] == 'Rep. of Korea', 'continent'] = 'Asia'\n",
    "imp_exp_regions.loc[imp_exp_regions['Country or Area'] == 'Rep. of Korea','region'] = 'Eastern Asia'\n",
    "imp_exp_regions.loc[imp_exp_regions['Country or Area'] == 'Rep. of Korea','country'] = 'South Korea'\n",
    "imp_exp_regions.loc[imp_exp_regions['Country or Area'] == 'Other Asia, nes', 'continent'] = 'Asia'\n",
    "imp_exp_regions.loc[imp_exp_regions['Country or Area'] == 'Other Asia, nes','region'] = 'Other'\n",
    "imp_exp_regions.loc[imp_exp_regions['Country or Area'] == 'Neth. Antilles', 'continent'] = 'Americas'\n",
    "imp_exp_regions.loc[imp_exp_regions['Country or Area'] == 'Neth. Antilles','region'] = 'Caribbean'\n",
    "imp_exp_regions.loc[imp_exp_regions['Country or Area'] == 'Lao People\\'s Dem. Rep.', 'continent'] = 'Asia'\n",
    "imp_exp_regions.loc[imp_exp_regions['Country or Area'] == 'Lao People\\'s Dem. Rep.','region'] = 'South-Eastern Asia'\n",
    "imp_exp_regions.loc[imp_exp_regions['Country or Area'] == 'Lao People\\'s Dem. Rep.','country'] = 'Laos'\n",
    "imp_exp_regions.loc[imp_exp_regions['Country or Area'] == 'Iran', 'continent'] = 'Asia'\n",
    "imp_exp_regions.loc[imp_exp_regions['Country or Area'] == 'Iran','region'] = 'South-Western Asia'\n",
    "imp_exp_regions.loc[imp_exp_regions['Country or Area'] == 'Fmr Fed. Rep. of Germany', 'continent'] = 'Europe'\n",
    "imp_exp_regions.loc[imp_exp_regions['Country or Area'] == 'Fmr Fed. Rep. of Germany','region'] = 'Central Europe'\n",
    "imp_exp_regions.loc[imp_exp_regions['Country or Area'] == 'Fmr Fed. Rep. of Germany','country'] = 'Germany'\n",
    "imp_exp_regions.loc[imp_exp_regions['Country or Area'] == 'Faeroe Isds', 'continent'] = 'Europe'\n",
    "imp_exp_regions.loc[imp_exp_regions['Country or Area'] == 'Faeroe Isds', 'region'] = 'Northern Europe'\n",
    "imp_exp_regions.loc[imp_exp_regions['Country or Area'] == 'FS Micronesia', 'continent'] = 'Oceania'\n",
    "imp_exp_regions.loc[imp_exp_regions['Country or Area'] == 'FS Micronesia', 'region'] = 'Micronesia'\n",
    "imp_exp_regions.loc[imp_exp_regions['Country or Area'] == 'Czech Rep.', 'continent'] = 'Europe'\n",
    "imp_exp_regions.loc[imp_exp_regions['Country or Area'] == 'Czech Rep.', 'region'] = 'Central Europe'\n",
    "imp_exp_regions.loc[imp_exp_regions['Country or Area'] == 'Bosnia Herzegovina', 'continent'] = 'Europe'\n",
    "imp_exp_regions.loc[imp_exp_regions['Country or Area'] == 'Bosnia Herzegovina', 'region'] = 'Southern Europe'\n",
    "imp_exp_regions.loc[imp_exp_regions['Country or Area'] == 'Central African Rep.', 'continent'] = 'Africa'\n",
    "imp_exp_regions.loc[imp_exp_regions['Country or Area'] == 'Central African Rep.', 'region'] = 'Middle Africa'\n",
    "imp_exp_regions.loc[imp_exp_regions['Country or Area'] == 'China, Hong Kong SAR', 'continent'] = 'Asia'\n",
    "imp_exp_regions.loc[imp_exp_regions['Country or Area'] == 'China, Hong Kong SAR', 'region'] = 'Eastern Asia'\n",
    "imp_exp_regions.loc[imp_exp_regions['Country or Area'] == 'China, Macao SAR', 'continent'] = 'Asia'\n",
    "imp_exp_regions.loc[imp_exp_regions['Country or Area'] == 'China, Macao SAR', 'region'] = 'Eastern Asia'\n",
    "imp_exp_regions.loc[imp_exp_regions['Country or Area'] == 'Cook Isds', 'continent'] = 'Oceania'\n",
    "imp_exp_regions.loc[imp_exp_regions['Country or Area'] == 'Cook Isds', 'region'] = 'Polynesia'\n",
    "imp_exp_regions.loc[imp_exp_regions['Country or Area'] == 'Dominican Rep.', 'continent'] = 'Americas'\n",
    "imp_exp_regions.loc[imp_exp_regions['Country or Area'] == 'Dominican Rep.', 'region'] = 'Caribbean'\n",
    "imp_exp_regions.loc[imp_exp_regions['Country or Area'] == 'Fmr Sudan', 'continent'] = 'Africa'\n",
    "imp_exp_regions.loc[imp_exp_regions['Country or Area'] == 'Fmr Sudan','region'] = 'Northern Africa'\n",
    "imp_exp_regions.loc[imp_exp_regions['Country or Area'] == 'Fmr Sudan','country'] = 'Sudan'\n",
    "\n",
    "imp_exp_regions= imp_exp_regions[~(imp_exp_regions['Country or Area'] == 'Belgium-Luxembourg')]\n",
    "\n",
    "imp_exp_regions= imp_exp_regions[~(imp_exp_regions['Country or Area'] == 'EU-28')]\n",
    "imp_exp_regions= imp_exp_regions[~(imp_exp_regions['Country or Area'] == 'So. African Customs Union')]\n",
    "imp_exp_regions= imp_exp_regions[~(imp_exp_regions['Country or Area'] == 'China, Hong Kong SAR')]\n"
   ]
  },
  {
   "cell_type": "code",
   "execution_count": 168,
   "metadata": {},
   "outputs": [],
   "source": [
    "flows_df=imp_exp_regions.drop(columns=['country', 'code_2'])"
   ]
  },
  {
   "cell_type": "code",
   "execution_count": 169,
   "metadata": {},
   "outputs": [],
   "source": [
    "#convert data type and sort the data by Year\n",
    "flows_df=flows_df.sort_values(by=['Year'])"
   ]
  },
  {
   "cell_type": "code",
   "execution_count": 170,
   "metadata": {},
   "outputs": [],
   "source": [
    "flows_df=flows_df.dropna(how='any')"
   ]
  },
  {
   "cell_type": "code",
   "execution_count": 171,
   "metadata": {},
   "outputs": [
    {
     "data": {
      "text/html": [
       "<div>\n",
       "<style scoped>\n",
       "    .dataframe tbody tr th:only-of-type {\n",
       "        vertical-align: middle;\n",
       "    }\n",
       "\n",
       "    .dataframe tbody tr th {\n",
       "        vertical-align: top;\n",
       "    }\n",
       "\n",
       "    .dataframe thead th {\n",
       "        text-align: right;\n",
       "    }\n",
       "</style>\n",
       "<table border=\"1\" class=\"dataframe\">\n",
       "  <thead>\n",
       "    <tr style=\"text-align: right;\">\n",
       "      <th></th>\n",
       "      <th>Year</th>\n",
       "      <th>continent</th>\n",
       "      <th>region</th>\n",
       "      <th>Country or Area</th>\n",
       "      <th>Flow</th>\n",
       "      <th>Quantity</th>\n",
       "      <th>Trade (USD)</th>\n",
       "    </tr>\n",
       "  </thead>\n",
       "  <tbody>\n",
       "    <tr>\n",
       "      <th>0</th>\n",
       "      <td>1988</td>\n",
       "      <td>Americas</td>\n",
       "      <td>Caribbean</td>\n",
       "      <td>Haiti</td>\n",
       "      <td>Export</td>\n",
       "      <td>2.720937e+06</td>\n",
       "      <td>3.995150e+06</td>\n",
       "    </tr>\n",
       "    <tr>\n",
       "      <th>1</th>\n",
       "      <td>1988</td>\n",
       "      <td>Asia</td>\n",
       "      <td>Eastern Asia</td>\n",
       "      <td>Japan</td>\n",
       "      <td>Import</td>\n",
       "      <td>4.097251e+07</td>\n",
       "      <td>8.498128e+07</td>\n",
       "    </tr>\n",
       "    <tr>\n",
       "      <th>2</th>\n",
       "      <td>1988</td>\n",
       "      <td>Asia</td>\n",
       "      <td>Eastern Asia</td>\n",
       "      <td>Rep. of Korea</td>\n",
       "      <td>Import</td>\n",
       "      <td>1.978812e+06</td>\n",
       "      <td>4.450443e+06</td>\n",
       "    </tr>\n",
       "    <tr>\n",
       "      <th>3</th>\n",
       "      <td>1988</td>\n",
       "      <td>Europe</td>\n",
       "      <td>Central Europe</td>\n",
       "      <td>Fmr Fed. Rep. of Germany</td>\n",
       "      <td>Export</td>\n",
       "      <td>1.824422e+06</td>\n",
       "      <td>3.625000e+06</td>\n",
       "    </tr>\n",
       "    <tr>\n",
       "      <th>4</th>\n",
       "      <td>1988</td>\n",
       "      <td>Europe</td>\n",
       "      <td>Central Europe</td>\n",
       "      <td>Fmr Fed. Rep. of Germany</td>\n",
       "      <td>Import</td>\n",
       "      <td>2.223116e+08</td>\n",
       "      <td>4.471900e+08</td>\n",
       "    </tr>\n",
       "    <tr>\n",
       "      <th>...</th>\n",
       "      <td>...</td>\n",
       "      <td>...</td>\n",
       "      <td>...</td>\n",
       "      <td>...</td>\n",
       "      <td>...</td>\n",
       "      <td>...</td>\n",
       "      <td>...</td>\n",
       "    </tr>\n",
       "    <tr>\n",
       "      <th>4801</th>\n",
       "      <td>2019</td>\n",
       "      <td>Europe</td>\n",
       "      <td>Southern Europe</td>\n",
       "      <td>Greece</td>\n",
       "      <td>Import</td>\n",
       "      <td>3.279127e+06</td>\n",
       "      <td>8.264908e+06</td>\n",
       "    </tr>\n",
       "    <tr>\n",
       "      <th>4802</th>\n",
       "      <td>2019</td>\n",
       "      <td>Europe</td>\n",
       "      <td>Southern Europe</td>\n",
       "      <td>TFYR of Macedonia</td>\n",
       "      <td>Export</td>\n",
       "      <td>3.000000e+00</td>\n",
       "      <td>4.538000e+01</td>\n",
       "    </tr>\n",
       "    <tr>\n",
       "      <th>4803</th>\n",
       "      <td>2019</td>\n",
       "      <td>Europe</td>\n",
       "      <td>Southern Europe</td>\n",
       "      <td>TFYR of Macedonia</td>\n",
       "      <td>Import</td>\n",
       "      <td>4.660000e+02</td>\n",
       "      <td>4.885310e+03</td>\n",
       "    </tr>\n",
       "    <tr>\n",
       "      <th>4804</th>\n",
       "      <td>2019</td>\n",
       "      <td>Europe</td>\n",
       "      <td>Western Europe</td>\n",
       "      <td>Switzerland</td>\n",
       "      <td>Export</td>\n",
       "      <td>3.428100e+05</td>\n",
       "      <td>1.724814e+06</td>\n",
       "    </tr>\n",
       "    <tr>\n",
       "      <th>4805</th>\n",
       "      <td>2019</td>\n",
       "      <td>Europe</td>\n",
       "      <td>Western Europe</td>\n",
       "      <td>Switzerland</td>\n",
       "      <td>Import</td>\n",
       "      <td>4.915868e+07</td>\n",
       "      <td>1.328853e+08</td>\n",
       "    </tr>\n",
       "  </tbody>\n",
       "</table>\n",
       "<p>4806 rows × 7 columns</p>\n",
       "</div>"
      ],
      "text/plain": [
       "      Year continent           region           Country or Area    Flow  \\\n",
       "0     1988  Americas        Caribbean                     Haiti  Export   \n",
       "1     1988      Asia     Eastern Asia                     Japan  Import   \n",
       "2     1988      Asia     Eastern Asia             Rep. of Korea  Import   \n",
       "3     1988    Europe   Central Europe  Fmr Fed. Rep. of Germany  Export   \n",
       "4     1988    Europe   Central Europe  Fmr Fed. Rep. of Germany  Import   \n",
       "...    ...       ...              ...                       ...     ...   \n",
       "4801  2019    Europe  Southern Europe                    Greece  Import   \n",
       "4802  2019    Europe  Southern Europe         TFYR of Macedonia  Export   \n",
       "4803  2019    Europe  Southern Europe         TFYR of Macedonia  Import   \n",
       "4804  2019    Europe   Western Europe               Switzerland  Export   \n",
       "4805  2019    Europe   Western Europe               Switzerland  Import   \n",
       "\n",
       "          Quantity   Trade (USD)  \n",
       "0     2.720937e+06  3.995150e+06  \n",
       "1     4.097251e+07  8.498128e+07  \n",
       "2     1.978812e+06  4.450443e+06  \n",
       "3     1.824422e+06  3.625000e+06  \n",
       "4     2.223116e+08  4.471900e+08  \n",
       "...            ...           ...  \n",
       "4801  3.279127e+06  8.264908e+06  \n",
       "4802  3.000000e+00  4.538000e+01  \n",
       "4803  4.660000e+02  4.885310e+03  \n",
       "4804  3.428100e+05  1.724814e+06  \n",
       "4805  4.915868e+07  1.328853e+08  \n",
       "\n",
       "[4806 rows x 7 columns]"
      ]
     },
     "execution_count": 171,
     "metadata": {},
     "output_type": "execute_result"
    }
   ],
   "source": [
    "groupby_flows=flows_df.groupby(['Year','continent', 'region', 'Country or Area', 'Flow']).mean(['Trade (USD)','Quantity'])\n",
    "groupby_flows.reset_index(inplace=True)\n",
    "groupby_flows"
   ]
  },
  {
   "cell_type": "code",
   "execution_count": 172,
   "metadata": {},
   "outputs": [],
   "source": [
    "groupby_flows=groupby_flows[groupby_flows['Year']!=1988]\n",
    "groupby_flows=groupby_flows[groupby_flows['Year']!=1989]\n",
    "groupby_flows=groupby_flows[groupby_flows['Year']!=1990]\n",
    "#delete years until all continents have value for exports and imports\n",
    "\n",
    "flows_df=flows_df[flows_df['Year']!=1988]\n",
    "flows_df=flows_df[flows_df['Year']!=1989]\n",
    "flows_df=flows_df[flows_df['Year']!=1990]"
   ]
  },
  {
   "cell_type": "code",
   "execution_count": 173,
   "metadata": {},
   "outputs": [
    {
     "name": "stdout",
     "output_type": "stream",
     "text": [
      "Africa has: 49 countries\n",
      "Americas has: 43 countries\n",
      "Asia has: 44 countries\n",
      "Europe has: 42 countries\n",
      "Oceania has: 15 countries\n"
     ]
    }
   ],
   "source": [
    "africa_count= len(flows_df.groupby('continent')['Country or Area'].unique()[0])\n",
    "americas_count= len(flows_df.groupby('continent')['Country or Area'].unique()[1])\n",
    "asia_count= len(flows_df.groupby('continent')['Country or Area'].unique()[2])\n",
    "europe_count= len(flows_df.groupby('continent')['Country or Area'].unique()[3])\n",
    "oceania_count= len(flows_df.groupby('continent')['Country or Area'].unique()[4])\n",
    "\n",
    "print('Africa has: ' + str(africa_count) + ' countries')\n",
    "print('Americas has: ' + str(americas_count) + ' countries')\n",
    "print('Asia has: ' + str(asia_count) + ' countries')\n",
    "print('Europe has: ' + str(europe_count) + ' countries')\n",
    "print('Oceania has: ' + str(oceania_count) + ' countries')"
   ]
  },
  {
   "cell_type": "code",
   "execution_count": 174,
   "metadata": {},
   "outputs": [
    {
     "name": "stdout",
     "output_type": "stream",
     "text": [
      "  Continent  Nr of Countries\n",
      "0    Africa               49\n",
      "1  Americas               43\n",
      "2      Asia               44\n",
      "3    Europe               42\n",
      "4   Oceania               15\n"
     ]
    }
   ],
   "source": [
    "nr_countries = [['Africa', africa_count],\n",
    "                ['Americas', americas_count], \n",
    "                ['Asia', asia_count],\n",
    "                ['Europe', europe_count],\n",
    "                ['Oceania', oceania_count]]\n",
    "\n",
    "df_nr_countries = pd.DataFrame(nr_countries, columns = ['Continent', 'Nr of Countries'])\n",
    "print(df_nr_countries)"
   ]
  },
  {
   "cell_type": "code",
   "execution_count": 175,
   "metadata": {},
   "outputs": [
    {
     "data": {
      "text/html": [
       "<div>\n",
       "<style scoped>\n",
       "    .dataframe tbody tr th:only-of-type {\n",
       "        vertical-align: middle;\n",
       "    }\n",
       "\n",
       "    .dataframe tbody tr th {\n",
       "        vertical-align: top;\n",
       "    }\n",
       "\n",
       "    .dataframe thead th {\n",
       "        text-align: right;\n",
       "    }\n",
       "</style>\n",
       "<table border=\"1\" class=\"dataframe\">\n",
       "  <thead>\n",
       "    <tr style=\"text-align: right;\">\n",
       "      <th></th>\n",
       "      <th>Continent</th>\n",
       "      <th>Nr of Countries</th>\n",
       "      <th>Year</th>\n",
       "      <th>region</th>\n",
       "      <th>Country or Area</th>\n",
       "      <th>Flow</th>\n",
       "      <th>Quantity</th>\n",
       "      <th>Trade (USD)</th>\n",
       "    </tr>\n",
       "  </thead>\n",
       "  <tbody>\n",
       "    <tr>\n",
       "      <th>0</th>\n",
       "      <td>Africa</td>\n",
       "      <td>49</td>\n",
       "      <td>1991</td>\n",
       "      <td>Eastern Africa</td>\n",
       "      <td>Madagascar</td>\n",
       "      <td>Export</td>\n",
       "      <td>4272629.0</td>\n",
       "      <td>3.971947e+06</td>\n",
       "    </tr>\n",
       "    <tr>\n",
       "      <th>1</th>\n",
       "      <td>Africa</td>\n",
       "      <td>49</td>\n",
       "      <td>1991</td>\n",
       "      <td>Eastern Africa</td>\n",
       "      <td>Malawi</td>\n",
       "      <td>Import</td>\n",
       "      <td>101.0</td>\n",
       "      <td>2.920000e+02</td>\n",
       "    </tr>\n",
       "    <tr>\n",
       "      <th>2</th>\n",
       "      <td>Africa</td>\n",
       "      <td>49</td>\n",
       "      <td>1991</td>\n",
       "      <td>Northern Africa</td>\n",
       "      <td>Tunisia</td>\n",
       "      <td>Import</td>\n",
       "      <td>355500.0</td>\n",
       "      <td>5.718130e+05</td>\n",
       "    </tr>\n",
       "    <tr>\n",
       "      <th>3</th>\n",
       "      <td>Africa</td>\n",
       "      <td>49</td>\n",
       "      <td>1992</td>\n",
       "      <td>Eastern Africa</td>\n",
       "      <td>Kenya</td>\n",
       "      <td>Export</td>\n",
       "      <td>810.0</td>\n",
       "      <td>1.379000e+03</td>\n",
       "    </tr>\n",
       "    <tr>\n",
       "      <th>4</th>\n",
       "      <td>Africa</td>\n",
       "      <td>49</td>\n",
       "      <td>1992</td>\n",
       "      <td>Eastern Africa</td>\n",
       "      <td>Kenya</td>\n",
       "      <td>Import</td>\n",
       "      <td>342375.0</td>\n",
       "      <td>5.445820e+05</td>\n",
       "    </tr>\n",
       "    <tr>\n",
       "      <th>...</th>\n",
       "      <td>...</td>\n",
       "      <td>...</td>\n",
       "      <td>...</td>\n",
       "      <td>...</td>\n",
       "      <td>...</td>\n",
       "      <td>...</td>\n",
       "      <td>...</td>\n",
       "      <td>...</td>\n",
       "    </tr>\n",
       "    <tr>\n",
       "      <th>4717</th>\n",
       "      <td>Oceania</td>\n",
       "      <td>15</td>\n",
       "      <td>2018</td>\n",
       "      <td>Melanesia</td>\n",
       "      <td>Fiji</td>\n",
       "      <td>Export</td>\n",
       "      <td>8270.0</td>\n",
       "      <td>2.248422e+04</td>\n",
       "    </tr>\n",
       "    <tr>\n",
       "      <th>4718</th>\n",
       "      <td>Oceania</td>\n",
       "      <td>15</td>\n",
       "      <td>2018</td>\n",
       "      <td>Melanesia</td>\n",
       "      <td>Fiji</td>\n",
       "      <td>Import</td>\n",
       "      <td>528.0</td>\n",
       "      <td>3.499561e+03</td>\n",
       "    </tr>\n",
       "    <tr>\n",
       "      <th>4719</th>\n",
       "      <td>Oceania</td>\n",
       "      <td>15</td>\n",
       "      <td>2018</td>\n",
       "      <td>Micronesia</td>\n",
       "      <td>Palau</td>\n",
       "      <td>Import</td>\n",
       "      <td>4.5</td>\n",
       "      <td>5.595000e+01</td>\n",
       "    </tr>\n",
       "    <tr>\n",
       "      <th>4720</th>\n",
       "      <td>Oceania</td>\n",
       "      <td>15</td>\n",
       "      <td>2018</td>\n",
       "      <td>Polynesia</td>\n",
       "      <td>Samoa</td>\n",
       "      <td>Export</td>\n",
       "      <td>34976.6</td>\n",
       "      <td>2.608072e+05</td>\n",
       "    </tr>\n",
       "    <tr>\n",
       "      <th>4721</th>\n",
       "      <td>Oceania</td>\n",
       "      <td>15</td>\n",
       "      <td>2018</td>\n",
       "      <td>Polynesia</td>\n",
       "      <td>Samoa</td>\n",
       "      <td>Import</td>\n",
       "      <td>80.0</td>\n",
       "      <td>2.918733e+03</td>\n",
       "    </tr>\n",
       "  </tbody>\n",
       "</table>\n",
       "<p>4722 rows × 8 columns</p>\n",
       "</div>"
      ],
      "text/plain": [
       "     Continent  Nr of Countries  Year           region Country or Area  \\\n",
       "0       Africa               49  1991   Eastern Africa      Madagascar   \n",
       "1       Africa               49  1991   Eastern Africa          Malawi   \n",
       "2       Africa               49  1991  Northern Africa         Tunisia   \n",
       "3       Africa               49  1992   Eastern Africa           Kenya   \n",
       "4       Africa               49  1992   Eastern Africa           Kenya   \n",
       "...        ...              ...   ...              ...             ...   \n",
       "4717   Oceania               15  2018        Melanesia            Fiji   \n",
       "4718   Oceania               15  2018        Melanesia            Fiji   \n",
       "4719   Oceania               15  2018       Micronesia           Palau   \n",
       "4720   Oceania               15  2018        Polynesia           Samoa   \n",
       "4721   Oceania               15  2018        Polynesia           Samoa   \n",
       "\n",
       "        Flow   Quantity   Trade (USD)  \n",
       "0     Export  4272629.0  3.971947e+06  \n",
       "1     Import      101.0  2.920000e+02  \n",
       "2     Import   355500.0  5.718130e+05  \n",
       "3     Export      810.0  1.379000e+03  \n",
       "4     Import   342375.0  5.445820e+05  \n",
       "...      ...        ...           ...  \n",
       "4717  Export     8270.0  2.248422e+04  \n",
       "4718  Import      528.0  3.499561e+03  \n",
       "4719  Import        4.5  5.595000e+01  \n",
       "4720  Export    34976.6  2.608072e+05  \n",
       "4721  Import       80.0  2.918733e+03  \n",
       "\n",
       "[4722 rows x 8 columns]"
      ]
     },
     "execution_count": 175,
     "metadata": {},
     "output_type": "execute_result"
    }
   ],
   "source": [
    "groupby_flows= pd.merge(df_nr_countries, groupby_flows, left_on='Continent', right_on='continent')\n",
    "groupby_flows.drop(columns='continent', inplace=True)\n",
    "groupby_flows"
   ]
  },
  {
   "cell_type": "code",
   "execution_count": 176,
   "metadata": {},
   "outputs": [],
   "source": [
    "#groupby_flows['Q_avg_pond']=groupby_flows.apply(lambda row: row['Quantity']/row['Nr of Countries'], axis=1)\n",
    "#groupby_flows['T_avg_pond']=groupby_flows.apply(lambda row: row['Trade (USD)']/row['Nr of Countries'], axis=1)\n",
    "#TO TEST VISUALIZATIONS WITH MEDIA PONDERADA - not used so far"
   ]
  },
  {
   "cell_type": "code",
   "execution_count": 177,
   "metadata": {},
   "outputs": [],
   "source": [
    "groupby_flows = groupby_flows.sort_values('Year', ascending=True)"
   ]
  },
  {
   "cell_type": "code",
   "execution_count": 178,
   "metadata": {},
   "outputs": [
    {
     "data": {
      "text/html": [
       "<div>\n",
       "<style scoped>\n",
       "    .dataframe tbody tr th:only-of-type {\n",
       "        vertical-align: middle;\n",
       "    }\n",
       "\n",
       "    .dataframe tbody tr th {\n",
       "        vertical-align: top;\n",
       "    }\n",
       "\n",
       "    .dataframe thead th {\n",
       "        text-align: right;\n",
       "    }\n",
       "</style>\n",
       "<table border=\"1\" class=\"dataframe\">\n",
       "  <thead>\n",
       "    <tr style=\"text-align: right;\">\n",
       "      <th></th>\n",
       "      <th>Continent</th>\n",
       "      <th>Nr of Countries</th>\n",
       "      <th>Year</th>\n",
       "      <th>region</th>\n",
       "      <th>Country or Area</th>\n",
       "      <th>Flow</th>\n",
       "      <th>Quantity</th>\n",
       "      <th>Trade (USD)</th>\n",
       "    </tr>\n",
       "  </thead>\n",
       "  <tbody>\n",
       "    <tr>\n",
       "      <th>0</th>\n",
       "      <td>Africa</td>\n",
       "      <td>49</td>\n",
       "      <td>1991</td>\n",
       "      <td>Eastern Africa</td>\n",
       "      <td>Madagascar</td>\n",
       "      <td>Export</td>\n",
       "      <td>4.272629e+06</td>\n",
       "      <td>3.971947e+06</td>\n",
       "    </tr>\n",
       "    <tr>\n",
       "      <th>2989</th>\n",
       "      <td>Europe</td>\n",
       "      <td>42</td>\n",
       "      <td>1991</td>\n",
       "      <td>Western Europe</td>\n",
       "      <td>Germany</td>\n",
       "      <td>Import</td>\n",
       "      <td>3.029256e+08</td>\n",
       "      <td>4.028630e+08</td>\n",
       "    </tr>\n",
       "    <tr>\n",
       "      <th>2990</th>\n",
       "      <td>Europe</td>\n",
       "      <td>42</td>\n",
       "      <td>1991</td>\n",
       "      <td>Western Europe</td>\n",
       "      <td>Switzerland</td>\n",
       "      <td>Export</td>\n",
       "      <td>1.091840e+05</td>\n",
       "      <td>1.463250e+05</td>\n",
       "    </tr>\n",
       "    <tr>\n",
       "      <th>2991</th>\n",
       "      <td>Europe</td>\n",
       "      <td>42</td>\n",
       "      <td>1991</td>\n",
       "      <td>Western Europe</td>\n",
       "      <td>Switzerland</td>\n",
       "      <td>Import</td>\n",
       "      <td>1.981536e+07</td>\n",
       "      <td>3.095994e+07</td>\n",
       "    </tr>\n",
       "    <tr>\n",
       "      <th>1981</th>\n",
       "      <td>Asia</td>\n",
       "      <td>44</td>\n",
       "      <td>1991</td>\n",
       "      <td>Eastern Asia</td>\n",
       "      <td>China, Macao SAR</td>\n",
       "      <td>Import</td>\n",
       "      <td>1.790000e+02</td>\n",
       "      <td>3.710000e+02</td>\n",
       "    </tr>\n",
       "    <tr>\n",
       "      <th>...</th>\n",
       "      <td>...</td>\n",
       "      <td>...</td>\n",
       "      <td>...</td>\n",
       "      <td>...</td>\n",
       "      <td>...</td>\n",
       "      <td>...</td>\n",
       "      <td>...</td>\n",
       "      <td>...</td>\n",
       "    </tr>\n",
       "    <tr>\n",
       "      <th>1978</th>\n",
       "      <td>Americas</td>\n",
       "      <td>43</td>\n",
       "      <td>2019</td>\n",
       "      <td>South America</td>\n",
       "      <td>Chile</td>\n",
       "      <td>Export</td>\n",
       "      <td>1.298480e+03</td>\n",
       "      <td>1.720731e+04</td>\n",
       "    </tr>\n",
       "    <tr>\n",
       "      <th>1977</th>\n",
       "      <td>Americas</td>\n",
       "      <td>43</td>\n",
       "      <td>2019</td>\n",
       "      <td>Northern America</td>\n",
       "      <td>Canada</td>\n",
       "      <td>Import</td>\n",
       "      <td>9.102900e+07</td>\n",
       "      <td>2.250315e+08</td>\n",
       "    </tr>\n",
       "    <tr>\n",
       "      <th>1976</th>\n",
       "      <td>Americas</td>\n",
       "      <td>43</td>\n",
       "      <td>2019</td>\n",
       "      <td>Northern America</td>\n",
       "      <td>Canada</td>\n",
       "      <td>Export</td>\n",
       "      <td>1.051203e+07</td>\n",
       "      <td>2.256409e+07</td>\n",
       "    </tr>\n",
       "    <tr>\n",
       "      <th>1974</th>\n",
       "      <td>Americas</td>\n",
       "      <td>43</td>\n",
       "      <td>2019</td>\n",
       "      <td>Central America</td>\n",
       "      <td>El Salvador</td>\n",
       "      <td>Export</td>\n",
       "      <td>4.133070e+03</td>\n",
       "      <td>2.499735e+04</td>\n",
       "    </tr>\n",
       "    <tr>\n",
       "      <th>885</th>\n",
       "      <td>Africa</td>\n",
       "      <td>49</td>\n",
       "      <td>2019</td>\n",
       "      <td>Western Africa</td>\n",
       "      <td>Senegal</td>\n",
       "      <td>Import</td>\n",
       "      <td>1.708000e+03</td>\n",
       "      <td>3.180144e+03</td>\n",
       "    </tr>\n",
       "  </tbody>\n",
       "</table>\n",
       "<p>4722 rows × 8 columns</p>\n",
       "</div>"
      ],
      "text/plain": [
       "     Continent  Nr of Countries  Year            region   Country or Area  \\\n",
       "0       Africa               49  1991    Eastern Africa        Madagascar   \n",
       "2989    Europe               42  1991    Western Europe           Germany   \n",
       "2990    Europe               42  1991    Western Europe       Switzerland   \n",
       "2991    Europe               42  1991    Western Europe       Switzerland   \n",
       "1981      Asia               44  1991      Eastern Asia  China, Macao SAR   \n",
       "...        ...              ...   ...               ...               ...   \n",
       "1978  Americas               43  2019     South America             Chile   \n",
       "1977  Americas               43  2019  Northern America            Canada   \n",
       "1976  Americas               43  2019  Northern America            Canada   \n",
       "1974  Americas               43  2019   Central America       El Salvador   \n",
       "885     Africa               49  2019    Western Africa           Senegal   \n",
       "\n",
       "        Flow      Quantity   Trade (USD)  \n",
       "0     Export  4.272629e+06  3.971947e+06  \n",
       "2989  Import  3.029256e+08  4.028630e+08  \n",
       "2990  Export  1.091840e+05  1.463250e+05  \n",
       "2991  Import  1.981536e+07  3.095994e+07  \n",
       "1981  Import  1.790000e+02  3.710000e+02  \n",
       "...      ...           ...           ...  \n",
       "1978  Export  1.298480e+03  1.720731e+04  \n",
       "1977  Import  9.102900e+07  2.250315e+08  \n",
       "1976  Export  1.051203e+07  2.256409e+07  \n",
       "1974  Export  4.133070e+03  2.499735e+04  \n",
       "885   Import  1.708000e+03  3.180144e+03  \n",
       "\n",
       "[4722 rows x 8 columns]"
      ]
     },
     "execution_count": 178,
     "metadata": {},
     "output_type": "execute_result"
    }
   ],
   "source": [
    "groupby_flows"
   ]
  },
  {
   "cell_type": "code",
   "execution_count": 179,
   "metadata": {},
   "outputs": [],
   "source": [
    "#def scatter_flows(flow):\n",
    " #   fig = px.scatter(groupby_flows[groupby_flows['Flow']==flow],\n",
    "  #               x='Quantity',\n",
    "   #              y='Trade (USD)',\n",
    "    #             animation_frame='Year', \n",
    "     #            animation_group='Continent', \n",
    "      #           size='Nr of Countries', \n",
    "       #          color='Continent',\n",
    "        #         hover_name='Continent',\n",
    "         #        )\n",
    "    #fig.update_layout(\n",
    "     #               title=('Quantity of Cacao ' + str(flow) + 'ed vs Trade (USD) by Continents in 1988 - 2019'),\n",
    "      #              xaxis=dict(title=('Quantity '+ str(flow) + 'ed')),\n",
    "       #             yaxis=dict(title=(str(flow) + ' Trade (USD) of Cacao')),\n",
    "        #            #paper_bgcolor='rgb(500, 500, 500)'#,\n",
    "         #           #plot_bgcolor='rgb(243, 243, 243)'\n",
    "          #          )\n",
    "                    \n",
    "    #fig.layout.updatemenus[0].buttons[0].args[1]['transition']['duration'] = 3000\n",
    "    #return fig.show()"
   ]
  },
  {
   "cell_type": "code",
   "execution_count": 180,
   "metadata": {},
   "outputs": [],
   "source": [
    "#scatter_flows(flow='Export')"
   ]
  },
  {
   "cell_type": "code",
   "execution_count": 181,
   "metadata": {},
   "outputs": [],
   "source": [
    "#scatter_flows(flow='Import')"
   ]
  },
  {
   "cell_type": "code",
   "execution_count": 182,
   "metadata": {},
   "outputs": [],
   "source": [
    "#n_years= 2019-1988\n",
    "#n_years"
   ]
  },
  {
   "cell_type": "code",
   "execution_count": 183,
   "metadata": {},
   "outputs": [
    {
     "data": {
      "text/html": [
       "<div>\n",
       "<style scoped>\n",
       "    .dataframe tbody tr th:only-of-type {\n",
       "        vertical-align: middle;\n",
       "    }\n",
       "\n",
       "    .dataframe tbody tr th {\n",
       "        vertical-align: top;\n",
       "    }\n",
       "\n",
       "    .dataframe thead th {\n",
       "        text-align: right;\n",
       "    }\n",
       "</style>\n",
       "<table border=\"1\" class=\"dataframe\">\n",
       "  <thead>\n",
       "    <tr style=\"text-align: right;\">\n",
       "      <th></th>\n",
       "      <th>Flow</th>\n",
       "      <th>Continent</th>\n",
       "      <th>region</th>\n",
       "      <th>Country or Area</th>\n",
       "      <th>Nr of Countries</th>\n",
       "      <th>Year</th>\n",
       "      <th>Quantity</th>\n",
       "      <th>Trade (USD)</th>\n",
       "    </tr>\n",
       "  </thead>\n",
       "  <tbody>\n",
       "    <tr>\n",
       "      <th>0</th>\n",
       "      <td>Export</td>\n",
       "      <td>Africa</td>\n",
       "      <td>Eastern Africa</td>\n",
       "      <td>Kenya</td>\n",
       "      <td>49.0</td>\n",
       "      <td>2004.857143</td>\n",
       "      <td>2.009929e+03</td>\n",
       "      <td>1.265276e+03</td>\n",
       "    </tr>\n",
       "    <tr>\n",
       "      <th>1</th>\n",
       "      <td>Export</td>\n",
       "      <td>Africa</td>\n",
       "      <td>Eastern Africa</td>\n",
       "      <td>Madagascar</td>\n",
       "      <td>49.0</td>\n",
       "      <td>2004.500000</td>\n",
       "      <td>5.113197e+06</td>\n",
       "      <td>9.890885e+06</td>\n",
       "    </tr>\n",
       "    <tr>\n",
       "      <th>2</th>\n",
       "      <td>Export</td>\n",
       "      <td>Africa</td>\n",
       "      <td>Eastern Africa</td>\n",
       "      <td>Malawi</td>\n",
       "      <td>49.0</td>\n",
       "      <td>2008.333333</td>\n",
       "      <td>3.991800e+05</td>\n",
       "      <td>3.096376e+06</td>\n",
       "    </tr>\n",
       "    <tr>\n",
       "      <th>3</th>\n",
       "      <td>Export</td>\n",
       "      <td>Africa</td>\n",
       "      <td>Eastern Africa</td>\n",
       "      <td>Mozambique</td>\n",
       "      <td>49.0</td>\n",
       "      <td>2003.000000</td>\n",
       "      <td>2.000000e+00</td>\n",
       "      <td>5.540000e+02</td>\n",
       "    </tr>\n",
       "    <tr>\n",
       "      <th>4</th>\n",
       "      <td>Export</td>\n",
       "      <td>Africa</td>\n",
       "      <td>Eastern Africa</td>\n",
       "      <td>Rwanda</td>\n",
       "      <td>49.0</td>\n",
       "      <td>2016.000000</td>\n",
       "      <td>2.675000e+03</td>\n",
       "      <td>7.440000e+03</td>\n",
       "    </tr>\n",
       "    <tr>\n",
       "      <th>...</th>\n",
       "      <td>...</td>\n",
       "      <td>...</td>\n",
       "      <td>...</td>\n",
       "      <td>...</td>\n",
       "      <td>...</td>\n",
       "      <td>...</td>\n",
       "      <td>...</td>\n",
       "      <td>...</td>\n",
       "    </tr>\n",
       "    <tr>\n",
       "      <th>335</th>\n",
       "      <td>Import</td>\n",
       "      <td>Oceania</td>\n",
       "      <td>Polynesia</td>\n",
       "      <td>Cook Isds</td>\n",
       "      <td>15.0</td>\n",
       "      <td>2008.000000</td>\n",
       "      <td>1.750000e+01</td>\n",
       "      <td>3.550000e+01</td>\n",
       "    </tr>\n",
       "    <tr>\n",
       "      <th>336</th>\n",
       "      <td>Import</td>\n",
       "      <td>Oceania</td>\n",
       "      <td>Polynesia</td>\n",
       "      <td>French Polynesia</td>\n",
       "      <td>15.0</td>\n",
       "      <td>2009.000000</td>\n",
       "      <td>8.308333e+01</td>\n",
       "      <td>8.285833e+02</td>\n",
       "    </tr>\n",
       "    <tr>\n",
       "      <th>337</th>\n",
       "      <td>Import</td>\n",
       "      <td>Oceania</td>\n",
       "      <td>Polynesia</td>\n",
       "      <td>Samoa</td>\n",
       "      <td>15.0</td>\n",
       "      <td>2011.222222</td>\n",
       "      <td>2.555556e+03</td>\n",
       "      <td>5.615024e+03</td>\n",
       "    </tr>\n",
       "    <tr>\n",
       "      <th>338</th>\n",
       "      <td>Import</td>\n",
       "      <td>Oceania</td>\n",
       "      <td>Polynesia</td>\n",
       "      <td>Tonga</td>\n",
       "      <td>15.0</td>\n",
       "      <td>2006.000000</td>\n",
       "      <td>1.051154e+03</td>\n",
       "      <td>2.947154e+03</td>\n",
       "    </tr>\n",
       "    <tr>\n",
       "      <th>339</th>\n",
       "      <td>Import</td>\n",
       "      <td>Oceania</td>\n",
       "      <td>Polynesia</td>\n",
       "      <td>Wallis and Futuna Isds</td>\n",
       "      <td>15.0</td>\n",
       "      <td>2006.000000</td>\n",
       "      <td>1.000000e+01</td>\n",
       "      <td>3.700000e+01</td>\n",
       "    </tr>\n",
       "  </tbody>\n",
       "</table>\n",
       "<p>340 rows × 8 columns</p>\n",
       "</div>"
      ],
      "text/plain": [
       "       Flow Continent          region         Country or Area  \\\n",
       "0    Export    Africa  Eastern Africa                   Kenya   \n",
       "1    Export    Africa  Eastern Africa              Madagascar   \n",
       "2    Export    Africa  Eastern Africa                  Malawi   \n",
       "3    Export    Africa  Eastern Africa              Mozambique   \n",
       "4    Export    Africa  Eastern Africa                  Rwanda   \n",
       "..      ...       ...             ...                     ...   \n",
       "335  Import   Oceania       Polynesia               Cook Isds   \n",
       "336  Import   Oceania       Polynesia        French Polynesia   \n",
       "337  Import   Oceania       Polynesia                   Samoa   \n",
       "338  Import   Oceania       Polynesia                   Tonga   \n",
       "339  Import   Oceania       Polynesia  Wallis and Futuna Isds   \n",
       "\n",
       "     Nr of Countries         Year      Quantity   Trade (USD)  \n",
       "0               49.0  2004.857143  2.009929e+03  1.265276e+03  \n",
       "1               49.0  2004.500000  5.113197e+06  9.890885e+06  \n",
       "2               49.0  2008.333333  3.991800e+05  3.096376e+06  \n",
       "3               49.0  2003.000000  2.000000e+00  5.540000e+02  \n",
       "4               49.0  2016.000000  2.675000e+03  7.440000e+03  \n",
       "..               ...          ...           ...           ...  \n",
       "335             15.0  2008.000000  1.750000e+01  3.550000e+01  \n",
       "336             15.0  2009.000000  8.308333e+01  8.285833e+02  \n",
       "337             15.0  2011.222222  2.555556e+03  5.615024e+03  \n",
       "338             15.0  2006.000000  1.051154e+03  2.947154e+03  \n",
       "339             15.0  2006.000000  1.000000e+01  3.700000e+01  \n",
       "\n",
       "[340 rows x 8 columns]"
      ]
     },
     "execution_count": 183,
     "metadata": {},
     "output_type": "execute_result"
    }
   ],
   "source": [
    "tree_flows_GB=groupby_flows.groupby(['Flow','Continent','region', 'Country or Area']).mean(['Quantity','Trade (USD)'])\n",
    "tree_flows_GB.reset_index(inplace=True)\n",
    "tree_flows_GB"
   ]
  },
  {
   "cell_type": "code",
   "execution_count": 184,
   "metadata": {},
   "outputs": [],
   "source": [
    "def tree_flows(flow, variable, year):\n",
    "    fig = px.treemap(groupby_flows[(groupby_flows['Flow']==flow) & (groupby_flows['Year']==year) ], \n",
    "                     path=['Country or Area'],\n",
    "                     values=variable, color=variable, color_continuous_scale='sunset'\n",
    "                    )\n",
    "            \n",
    "    return fig.show()"
   ]
  },
  {
   "cell_type": "code",
   "execution_count": 271,
   "metadata": {},
   "outputs": [],
   "source": [
    "def tree_flows(flow, variable, year):\n",
    "    fig = px.treemap(groupby_flows[(groupby_flows['Flow']==flow) & (groupby_flows['Year']==year) ], \n",
    "                     path=['Country or Area'],\n",
    "                     values=variable, color=variable, color_continuous_scale='sunset', \n",
    "                     title=('Quantity of Cacao ' + str(flow) + 'ed by Country in ' + str(year))\n",
    "                    )\n",
    "    fig.data[0].hovertemplate = '%{label}<br>%{value}'\n",
    "            \n",
    "    return fig.show()\n",
    "\n"
   ]
  },
  {
   "cell_type": "code",
   "execution_count": 272,
   "metadata": {},
   "outputs": [
    {
     "data": {
      "application/vnd.plotly.v1+json": {
       "config": {
        "plotlyServerURL": "https://plot.ly"
       },
       "data": [
        {
         "branchvalues": "total",
         "customdata": [
          [
           1909
          ],
          [
           95114
          ],
          [
           82262501
          ],
          [
           4503
          ],
          [
           694214
          ],
          [
           59
          ],
          [
           242672
          ],
          [
           193880947
          ],
          [
           353072
          ],
          [
           22500
          ],
          [
           4516846
          ],
          [
           170245
          ],
          [
           315413
          ],
          [
           645
          ],
          [
           790912268
          ],
          [
           567
          ],
          [
           480
          ],
          [
           52208883
          ],
          [
           116317686
          ],
          [
           3175.66
          ],
          [
           42982196
          ],
          [
           7514
          ],
          [
           1269100
          ],
          [
           15145481
          ],
          [
           281437000
          ],
          [
           32074
          ],
          [
           231887
          ],
          [
           477369
          ],
          [
           432426847
          ],
          [
           64063
          ],
          [
           250
          ],
          [
           436376
          ],
          [
           378816
          ],
          [
           103142
          ],
          [
           16796
          ],
          [
           13
          ],
          [
           294
          ],
          [
           5175977
          ],
          [
           23707535
          ],
          [
           324491
          ],
          [
           5
          ],
          [
           111645342.99999999
          ],
          [
           96593.27223230491
          ],
          [
           1847837
          ],
          [
           588438204
          ],
          [
           29
          ],
          [
           1360
          ],
          [
           1246483
          ],
          [
           11322782.18
          ],
          [
           196147
          ],
          [
           331
          ],
          [
           20
          ],
          [
           5
          ],
          [
           33387
          ],
          [
           119
          ],
          [
           2413332
          ],
          [
           21624
          ],
          [
           6982731
          ],
          [
           121205.579016545
          ],
          [
           7830053
          ],
          [
           254550
          ],
          [
           2349
          ],
          [
           388848
          ],
          [
           11150
          ],
          [
           18
          ],
          [
           11790995
          ],
          [
           536400
          ],
          [
           1507503
          ],
          [
           24609760
          ],
          [
           16849987
          ],
          [
           100
          ],
          [
           4069361
          ],
          [
           7381865
          ],
          [
           1525242
          ],
          [
           3016839
          ],
          [
           1551322
          ]
         ],
         "domain": {
          "x": [
           0,
           1
          ],
          "y": [
           0,
           1
          ]
         },
         "hovertemplate": "%{label}<br>%{value}",
         "ids": [
          "Australia",
          "Austria",
          "Belgium",
          "Belize",
          "Bolivia (Plurinational State of)",
          "Botswana",
          "Brazil",
          "Cameroon",
          "Canada",
          "Central African Rep.",
          "Colombia",
          "Congo",
          "Costa Rica",
          "Czech Rep.",
          "Côte d'Ivoire",
          "Denmark",
          "Dominica",
          "Dominican Rep.",
          "Ecuador",
          "El Salvador",
          "Estonia",
          "Fiji",
          "France",
          "Germany",
          "Ghana",
          "Guatemala",
          "Honduras",
          "India",
          "Indonesia",
          "Ireland",
          "Israel",
          "Italy",
          "Jamaica",
          "Japan",
          "Kenya",
          "Lebanon",
          "Luxembourg",
          "Madagascar",
          "Malaysia",
          "Mexico",
          "Namibia",
          "Netherlands",
          "New Zealand",
          "Nicaragua",
          "Nigeria",
          "Norway",
          "Other Asia, nes",
          "Panama",
          "Peru",
          "Philippines",
          "Poland",
          "Portugal",
          "Romania",
          "Saint Lucia",
          "Samoa",
          "Sao Tome and Principe",
          "Serbia",
          "Singapore",
          "South Africa",
          "Spain",
          "Sri Lanka",
          "Sweden",
          "Switzerland",
          "Syria",
          "Thailand",
          "Togo",
          "Trinidad and Tobago",
          "Turkey",
          "USA",
          "Uganda",
          "Ukraine",
          "United Kingdom",
          "United Rep. of Tanzania",
          "Vanuatu",
          "Venezuela",
          "Viet Nam"
         ],
         "labels": [
          "Australia",
          "Austria",
          "Belgium",
          "Belize",
          "Bolivia (Plurinational State of)",
          "Botswana",
          "Brazil",
          "Cameroon",
          "Canada",
          "Central African Rep.",
          "Colombia",
          "Congo",
          "Costa Rica",
          "Czech Rep.",
          "Côte d'Ivoire",
          "Denmark",
          "Dominica",
          "Dominican Rep.",
          "Ecuador",
          "El Salvador",
          "Estonia",
          "Fiji",
          "France",
          "Germany",
          "Ghana",
          "Guatemala",
          "Honduras",
          "India",
          "Indonesia",
          "Ireland",
          "Israel",
          "Italy",
          "Jamaica",
          "Japan",
          "Kenya",
          "Lebanon",
          "Luxembourg",
          "Madagascar",
          "Malaysia",
          "Mexico",
          "Namibia",
          "Netherlands",
          "New Zealand",
          "Nicaragua",
          "Nigeria",
          "Norway",
          "Other Asia, nes",
          "Panama",
          "Peru",
          "Philippines",
          "Poland",
          "Portugal",
          "Romania",
          "Saint Lucia",
          "Samoa",
          "Sao Tome and Principe",
          "Serbia",
          "Singapore",
          "South Africa",
          "Spain",
          "Sri Lanka",
          "Sweden",
          "Switzerland",
          "Syria",
          "Thailand",
          "Togo",
          "Trinidad and Tobago",
          "Turkey",
          "USA",
          "Uganda",
          "Ukraine",
          "United Kingdom",
          "United Rep. of Tanzania",
          "Vanuatu",
          "Venezuela",
          "Viet Nam"
         ],
         "marker": {
          "coloraxis": "coloraxis",
          "colors": [
           1909,
           95114,
           82262501,
           4503,
           694214,
           59,
           242672,
           193880947,
           353072,
           22500,
           4516846,
           170245,
           315413,
           645,
           790912268,
           567,
           480,
           52208883,
           116317686,
           3175.66,
           42982196,
           7514,
           1269100,
           15145481,
           281437000,
           32074,
           231887,
           477369,
           432426847,
           64063,
           250,
           436376,
           378816,
           103142,
           16796,
           13,
           294,
           5175977,
           23707535,
           324491,
           5,
           111645342.99999999,
           96593.27223230491,
           1847837,
           588438204,
           29,
           1360,
           1246483,
           11322782.18,
           196147,
           331,
           20,
           5,
           33387,
           119,
           2413332,
           21624,
           6982731,
           121205.579016545,
           7830053,
           254550,
           2349,
           388848,
           11150,
           18,
           11790995,
           536400,
           1507503,
           24609760,
           16849987,
           100,
           4069361,
           7381865,
           1525242,
           3016839,
           1551322
          ]
         },
         "name": "",
         "parents": [
          "",
          "",
          "",
          "",
          "",
          "",
          "",
          "",
          "",
          "",
          "",
          "",
          "",
          "",
          "",
          "",
          "",
          "",
          "",
          "",
          "",
          "",
          "",
          "",
          "",
          "",
          "",
          "",
          "",
          "",
          "",
          "",
          "",
          "",
          "",
          "",
          "",
          "",
          "",
          "",
          "",
          "",
          "",
          "",
          "",
          "",
          "",
          "",
          "",
          "",
          "",
          "",
          "",
          "",
          "",
          "",
          "",
          "",
          "",
          "",
          "",
          "",
          "",
          "",
          "",
          "",
          "",
          "",
          "",
          "",
          "",
          "",
          "",
          "",
          "",
          ""
         ],
         "type": "treemap",
         "values": [
          1909,
          95114,
          82262501,
          4503,
          694214,
          59,
          242672,
          193880947,
          353072,
          22500,
          4516846,
          170245,
          315413,
          645,
          790912268,
          567,
          480,
          52208883,
          116317686,
          3175.66,
          42982196,
          7514,
          1269100,
          15145481,
          281437000,
          32074,
          231887,
          477369,
          432426847,
          64063,
          250,
          436376,
          378816,
          103142,
          16796,
          13,
          294,
          5175977,
          23707535,
          324491,
          5,
          111645343,
          96593.27223230491,
          1847837,
          588438204,
          29,
          1360,
          1246483,
          11322782.18,
          196147,
          331,
          20,
          5,
          33387,
          119,
          2413332,
          21624,
          6982731,
          121205.579016545,
          7830053,
          254550,
          2349,
          388848,
          11150,
          18,
          11790995,
          536400,
          1507503,
          24609760,
          16849987,
          100,
          4069361,
          7381865,
          1525242,
          3016839,
          1551322
         ]
        }
       ],
       "layout": {
        "coloraxis": {
         "colorbar": {
          "title": {
           "text": "Quantity"
          }
         },
         "colorscale": [
          [
           0,
           "rgb(243, 231, 155)"
          ],
          [
           0.16666666666666666,
           "rgb(250, 196, 132)"
          ],
          [
           0.3333333333333333,
           "rgb(248, 160, 126)"
          ],
          [
           0.5,
           "rgb(235, 127, 134)"
          ],
          [
           0.6666666666666666,
           "rgb(206, 102, 147)"
          ],
          [
           0.8333333333333334,
           "rgb(160, 89, 160)"
          ],
          [
           1,
           "rgb(92, 83, 165)"
          ]
         ]
        },
        "legend": {
         "tracegroupgap": 0
        },
        "template": {
         "data": {
          "bar": [
           {
            "error_x": {
             "color": "#2a3f5f"
            },
            "error_y": {
             "color": "#2a3f5f"
            },
            "marker": {
             "line": {
              "color": "#E5ECF6",
              "width": 0.5
             },
             "pattern": {
              "fillmode": "overlay",
              "size": 10,
              "solidity": 0.2
             }
            },
            "type": "bar"
           }
          ],
          "barpolar": [
           {
            "marker": {
             "line": {
              "color": "#E5ECF6",
              "width": 0.5
             },
             "pattern": {
              "fillmode": "overlay",
              "size": 10,
              "solidity": 0.2
             }
            },
            "type": "barpolar"
           }
          ],
          "carpet": [
           {
            "aaxis": {
             "endlinecolor": "#2a3f5f",
             "gridcolor": "white",
             "linecolor": "white",
             "minorgridcolor": "white",
             "startlinecolor": "#2a3f5f"
            },
            "baxis": {
             "endlinecolor": "#2a3f5f",
             "gridcolor": "white",
             "linecolor": "white",
             "minorgridcolor": "white",
             "startlinecolor": "#2a3f5f"
            },
            "type": "carpet"
           }
          ],
          "choropleth": [
           {
            "colorbar": {
             "outlinewidth": 0,
             "ticks": ""
            },
            "type": "choropleth"
           }
          ],
          "contour": [
           {
            "colorbar": {
             "outlinewidth": 0,
             "ticks": ""
            },
            "colorscale": [
             [
              0,
              "#0d0887"
             ],
             [
              0.1111111111111111,
              "#46039f"
             ],
             [
              0.2222222222222222,
              "#7201a8"
             ],
             [
              0.3333333333333333,
              "#9c179e"
             ],
             [
              0.4444444444444444,
              "#bd3786"
             ],
             [
              0.5555555555555556,
              "#d8576b"
             ],
             [
              0.6666666666666666,
              "#ed7953"
             ],
             [
              0.7777777777777778,
              "#fb9f3a"
             ],
             [
              0.8888888888888888,
              "#fdca26"
             ],
             [
              1,
              "#f0f921"
             ]
            ],
            "type": "contour"
           }
          ],
          "contourcarpet": [
           {
            "colorbar": {
             "outlinewidth": 0,
             "ticks": ""
            },
            "type": "contourcarpet"
           }
          ],
          "heatmap": [
           {
            "colorbar": {
             "outlinewidth": 0,
             "ticks": ""
            },
            "colorscale": [
             [
              0,
              "#0d0887"
             ],
             [
              0.1111111111111111,
              "#46039f"
             ],
             [
              0.2222222222222222,
              "#7201a8"
             ],
             [
              0.3333333333333333,
              "#9c179e"
             ],
             [
              0.4444444444444444,
              "#bd3786"
             ],
             [
              0.5555555555555556,
              "#d8576b"
             ],
             [
              0.6666666666666666,
              "#ed7953"
             ],
             [
              0.7777777777777778,
              "#fb9f3a"
             ],
             [
              0.8888888888888888,
              "#fdca26"
             ],
             [
              1,
              "#f0f921"
             ]
            ],
            "type": "heatmap"
           }
          ],
          "heatmapgl": [
           {
            "colorbar": {
             "outlinewidth": 0,
             "ticks": ""
            },
            "colorscale": [
             [
              0,
              "#0d0887"
             ],
             [
              0.1111111111111111,
              "#46039f"
             ],
             [
              0.2222222222222222,
              "#7201a8"
             ],
             [
              0.3333333333333333,
              "#9c179e"
             ],
             [
              0.4444444444444444,
              "#bd3786"
             ],
             [
              0.5555555555555556,
              "#d8576b"
             ],
             [
              0.6666666666666666,
              "#ed7953"
             ],
             [
              0.7777777777777778,
              "#fb9f3a"
             ],
             [
              0.8888888888888888,
              "#fdca26"
             ],
             [
              1,
              "#f0f921"
             ]
            ],
            "type": "heatmapgl"
           }
          ],
          "histogram": [
           {
            "marker": {
             "pattern": {
              "fillmode": "overlay",
              "size": 10,
              "solidity": 0.2
             }
            },
            "type": "histogram"
           }
          ],
          "histogram2d": [
           {
            "colorbar": {
             "outlinewidth": 0,
             "ticks": ""
            },
            "colorscale": [
             [
              0,
              "#0d0887"
             ],
             [
              0.1111111111111111,
              "#46039f"
             ],
             [
              0.2222222222222222,
              "#7201a8"
             ],
             [
              0.3333333333333333,
              "#9c179e"
             ],
             [
              0.4444444444444444,
              "#bd3786"
             ],
             [
              0.5555555555555556,
              "#d8576b"
             ],
             [
              0.6666666666666666,
              "#ed7953"
             ],
             [
              0.7777777777777778,
              "#fb9f3a"
             ],
             [
              0.8888888888888888,
              "#fdca26"
             ],
             [
              1,
              "#f0f921"
             ]
            ],
            "type": "histogram2d"
           }
          ],
          "histogram2dcontour": [
           {
            "colorbar": {
             "outlinewidth": 0,
             "ticks": ""
            },
            "colorscale": [
             [
              0,
              "#0d0887"
             ],
             [
              0.1111111111111111,
              "#46039f"
             ],
             [
              0.2222222222222222,
              "#7201a8"
             ],
             [
              0.3333333333333333,
              "#9c179e"
             ],
             [
              0.4444444444444444,
              "#bd3786"
             ],
             [
              0.5555555555555556,
              "#d8576b"
             ],
             [
              0.6666666666666666,
              "#ed7953"
             ],
             [
              0.7777777777777778,
              "#fb9f3a"
             ],
             [
              0.8888888888888888,
              "#fdca26"
             ],
             [
              1,
              "#f0f921"
             ]
            ],
            "type": "histogram2dcontour"
           }
          ],
          "mesh3d": [
           {
            "colorbar": {
             "outlinewidth": 0,
             "ticks": ""
            },
            "type": "mesh3d"
           }
          ],
          "parcoords": [
           {
            "line": {
             "colorbar": {
              "outlinewidth": 0,
              "ticks": ""
             }
            },
            "type": "parcoords"
           }
          ],
          "pie": [
           {
            "automargin": true,
            "type": "pie"
           }
          ],
          "scatter": [
           {
            "marker": {
             "colorbar": {
              "outlinewidth": 0,
              "ticks": ""
             }
            },
            "type": "scatter"
           }
          ],
          "scatter3d": [
           {
            "line": {
             "colorbar": {
              "outlinewidth": 0,
              "ticks": ""
             }
            },
            "marker": {
             "colorbar": {
              "outlinewidth": 0,
              "ticks": ""
             }
            },
            "type": "scatter3d"
           }
          ],
          "scattercarpet": [
           {
            "marker": {
             "colorbar": {
              "outlinewidth": 0,
              "ticks": ""
             }
            },
            "type": "scattercarpet"
           }
          ],
          "scattergeo": [
           {
            "marker": {
             "colorbar": {
              "outlinewidth": 0,
              "ticks": ""
             }
            },
            "type": "scattergeo"
           }
          ],
          "scattergl": [
           {
            "marker": {
             "colorbar": {
              "outlinewidth": 0,
              "ticks": ""
             }
            },
            "type": "scattergl"
           }
          ],
          "scattermapbox": [
           {
            "marker": {
             "colorbar": {
              "outlinewidth": 0,
              "ticks": ""
             }
            },
            "type": "scattermapbox"
           }
          ],
          "scatterpolar": [
           {
            "marker": {
             "colorbar": {
              "outlinewidth": 0,
              "ticks": ""
             }
            },
            "type": "scatterpolar"
           }
          ],
          "scatterpolargl": [
           {
            "marker": {
             "colorbar": {
              "outlinewidth": 0,
              "ticks": ""
             }
            },
            "type": "scatterpolargl"
           }
          ],
          "scatterternary": [
           {
            "marker": {
             "colorbar": {
              "outlinewidth": 0,
              "ticks": ""
             }
            },
            "type": "scatterternary"
           }
          ],
          "surface": [
           {
            "colorbar": {
             "outlinewidth": 0,
             "ticks": ""
            },
            "colorscale": [
             [
              0,
              "#0d0887"
             ],
             [
              0.1111111111111111,
              "#46039f"
             ],
             [
              0.2222222222222222,
              "#7201a8"
             ],
             [
              0.3333333333333333,
              "#9c179e"
             ],
             [
              0.4444444444444444,
              "#bd3786"
             ],
             [
              0.5555555555555556,
              "#d8576b"
             ],
             [
              0.6666666666666666,
              "#ed7953"
             ],
             [
              0.7777777777777778,
              "#fb9f3a"
             ],
             [
              0.8888888888888888,
              "#fdca26"
             ],
             [
              1,
              "#f0f921"
             ]
            ],
            "type": "surface"
           }
          ],
          "table": [
           {
            "cells": {
             "fill": {
              "color": "#EBF0F8"
             },
             "line": {
              "color": "white"
             }
            },
            "header": {
             "fill": {
              "color": "#C8D4E3"
             },
             "line": {
              "color": "white"
             }
            },
            "type": "table"
           }
          ]
         },
         "layout": {
          "annotationdefaults": {
           "arrowcolor": "#2a3f5f",
           "arrowhead": 0,
           "arrowwidth": 1
          },
          "autotypenumbers": "strict",
          "coloraxis": {
           "colorbar": {
            "outlinewidth": 0,
            "ticks": ""
           }
          },
          "colorscale": {
           "diverging": [
            [
             0,
             "#8e0152"
            ],
            [
             0.1,
             "#c51b7d"
            ],
            [
             0.2,
             "#de77ae"
            ],
            [
             0.3,
             "#f1b6da"
            ],
            [
             0.4,
             "#fde0ef"
            ],
            [
             0.5,
             "#f7f7f7"
            ],
            [
             0.6,
             "#e6f5d0"
            ],
            [
             0.7,
             "#b8e186"
            ],
            [
             0.8,
             "#7fbc41"
            ],
            [
             0.9,
             "#4d9221"
            ],
            [
             1,
             "#276419"
            ]
           ],
           "sequential": [
            [
             0,
             "#0d0887"
            ],
            [
             0.1111111111111111,
             "#46039f"
            ],
            [
             0.2222222222222222,
             "#7201a8"
            ],
            [
             0.3333333333333333,
             "#9c179e"
            ],
            [
             0.4444444444444444,
             "#bd3786"
            ],
            [
             0.5555555555555556,
             "#d8576b"
            ],
            [
             0.6666666666666666,
             "#ed7953"
            ],
            [
             0.7777777777777778,
             "#fb9f3a"
            ],
            [
             0.8888888888888888,
             "#fdca26"
            ],
            [
             1,
             "#f0f921"
            ]
           ],
           "sequentialminus": [
            [
             0,
             "#0d0887"
            ],
            [
             0.1111111111111111,
             "#46039f"
            ],
            [
             0.2222222222222222,
             "#7201a8"
            ],
            [
             0.3333333333333333,
             "#9c179e"
            ],
            [
             0.4444444444444444,
             "#bd3786"
            ],
            [
             0.5555555555555556,
             "#d8576b"
            ],
            [
             0.6666666666666666,
             "#ed7953"
            ],
            [
             0.7777777777777778,
             "#fb9f3a"
            ],
            [
             0.8888888888888888,
             "#fdca26"
            ],
            [
             1,
             "#f0f921"
            ]
           ]
          },
          "colorway": [
           "#636efa",
           "#EF553B",
           "#00cc96",
           "#ab63fa",
           "#FFA15A",
           "#19d3f3",
           "#FF6692",
           "#B6E880",
           "#FF97FF",
           "#FECB52"
          ],
          "font": {
           "color": "#2a3f5f"
          },
          "geo": {
           "bgcolor": "white",
           "lakecolor": "white",
           "landcolor": "#E5ECF6",
           "showlakes": true,
           "showland": true,
           "subunitcolor": "white"
          },
          "hoverlabel": {
           "align": "left"
          },
          "hovermode": "closest",
          "mapbox": {
           "style": "light"
          },
          "paper_bgcolor": "white",
          "plot_bgcolor": "#E5ECF6",
          "polar": {
           "angularaxis": {
            "gridcolor": "white",
            "linecolor": "white",
            "ticks": ""
           },
           "bgcolor": "#E5ECF6",
           "radialaxis": {
            "gridcolor": "white",
            "linecolor": "white",
            "ticks": ""
           }
          },
          "scene": {
           "xaxis": {
            "backgroundcolor": "#E5ECF6",
            "gridcolor": "white",
            "gridwidth": 2,
            "linecolor": "white",
            "showbackground": true,
            "ticks": "",
            "zerolinecolor": "white"
           },
           "yaxis": {
            "backgroundcolor": "#E5ECF6",
            "gridcolor": "white",
            "gridwidth": 2,
            "linecolor": "white",
            "showbackground": true,
            "ticks": "",
            "zerolinecolor": "white"
           },
           "zaxis": {
            "backgroundcolor": "#E5ECF6",
            "gridcolor": "white",
            "gridwidth": 2,
            "linecolor": "white",
            "showbackground": true,
            "ticks": "",
            "zerolinecolor": "white"
           }
          },
          "shapedefaults": {
           "line": {
            "color": "#2a3f5f"
           }
          },
          "ternary": {
           "aaxis": {
            "gridcolor": "white",
            "linecolor": "white",
            "ticks": ""
           },
           "baxis": {
            "gridcolor": "white",
            "linecolor": "white",
            "ticks": ""
           },
           "bgcolor": "#E5ECF6",
           "caxis": {
            "gridcolor": "white",
            "linecolor": "white",
            "ticks": ""
           }
          },
          "title": {
           "x": 0.05
          },
          "xaxis": {
           "automargin": true,
           "gridcolor": "white",
           "linecolor": "white",
           "ticks": "",
           "title": {
            "standoff": 15
           },
           "zerolinecolor": "white",
           "zerolinewidth": 2
          },
          "yaxis": {
           "automargin": true,
           "gridcolor": "white",
           "linecolor": "white",
           "ticks": "",
           "title": {
            "standoff": 15
           },
           "zerolinecolor": "white",
           "zerolinewidth": 2
          }
         }
        },
        "title": {
         "text": "Quantity of Cacao Exported by Country in 2010"
        }
       }
      }
     },
     "metadata": {},
     "output_type": "display_data"
    }
   ],
   "source": [
    "tree_flows(flow='Export', variable='Quantity', year=2010)"
   ]
  },
  {
   "cell_type": "code",
   "execution_count": 186,
   "metadata": {},
   "outputs": [],
   "source": [
    "#nao sei se isto é mesmo necessario\n",
    "\n",
    "tree_variables = [\n",
    "                    {'label': 'Quantity', 'value': 'Quantity'},\n",
    "                    {'label': 'Trade (USD)', 'value': 'Trade (USD)'}\n",
    "                 ]\n",
    "\n",
    "tree_flows_Dict = [\n",
    "                    {'label': 'Export', 'value': 'Export'},\n",
    "                    {'label': 'Import', 'value': 'Import'}\n",
    "                 ]\n"
   ]
  },
  {
   "cell_type": "markdown",
   "metadata": {},
   "source": [
    "# ----- Helena\n"
   ]
  },
  {
   "cell_type": "code",
   "execution_count": 187,
   "metadata": {},
   "outputs": [],
   "source": [
    "\n",
    "ingredients = [\n",
    "    {'label': 'Has Sugar', 'value': 'have_sugar'},\n",
    "    {'label': 'Has not Sugar', 'value': 'have_not_sugar'},\n",
    "    {'label': 'Has Vanilla', 'value': 'have_vanila'},\n",
    "    {'label': 'Has not Vanilla', 'value': 'have_not_vanila'},\n",
    "    {'label': 'Has Salt', 'value': 'have_salt'},\n",
    "    {'label': 'Has not Salt', 'value': 'have_not_salt'},\n",
    "    {'label': 'Has Lecithin', 'value': 'have_lecithin'},\n",
    "    {'label': 'Has not Lecithin', 'value': 'have_not_lecithin'}\n",
    "]\n"
   ]
  },
  {
   "cell_type": "markdown",
   "metadata": {},
   "source": [
    "# ------- Filipa\n"
   ]
  },
  {
   "cell_type": "markdown",
   "metadata": {},
   "source": [
    "### Column count_tastes\n"
   ]
  },
  {
   "cell_type": "code",
   "execution_count": 188,
   "metadata": {},
   "outputs": [
    {
     "data": {
      "text/html": [
       "<div>\n",
       "<style scoped>\n",
       "    .dataframe tbody tr th:only-of-type {\n",
       "        vertical-align: middle;\n",
       "    }\n",
       "\n",
       "    .dataframe tbody tr th {\n",
       "        vertical-align: top;\n",
       "    }\n",
       "\n",
       "    .dataframe thead th {\n",
       "        text-align: right;\n",
       "    }\n",
       "</style>\n",
       "<table border=\"1\" class=\"dataframe\">\n",
       "  <thead>\n",
       "    <tr style=\"text-align: right;\">\n",
       "      <th></th>\n",
       "      <th>ref</th>\n",
       "      <th>company</th>\n",
       "      <th>company_location</th>\n",
       "      <th>review_date</th>\n",
       "      <th>country_of_bean_origin</th>\n",
       "      <th>specific_bean_origin_or_bar_name</th>\n",
       "      <th>cocoa_percent</th>\n",
       "      <th>rating</th>\n",
       "      <th>counts_of_ingredients</th>\n",
       "      <th>beans</th>\n",
       "      <th>...</th>\n",
       "      <th>third_taste</th>\n",
       "      <th>fourth_taste</th>\n",
       "      <th>country_x</th>\n",
       "      <th>company_continent</th>\n",
       "      <th>company_region</th>\n",
       "      <th>company_code_2</th>\n",
       "      <th>country_y</th>\n",
       "      <th>bean_continent</th>\n",
       "      <th>bean_region</th>\n",
       "      <th>bean_code_2</th>\n",
       "    </tr>\n",
       "  </thead>\n",
       "  <tbody>\n",
       "    <tr>\n",
       "      <th>0</th>\n",
       "      <td>2454</td>\n",
       "      <td>5150</td>\n",
       "      <td>United States of America</td>\n",
       "      <td>2019</td>\n",
       "      <td>Madagascar</td>\n",
       "      <td>Bejofo Estate, batch 1</td>\n",
       "      <td>76.0</td>\n",
       "      <td>3.75</td>\n",
       "      <td>3</td>\n",
       "      <td>have_bean</td>\n",
       "      <td>...</td>\n",
       "      <td>full body</td>\n",
       "      <td>NaN</td>\n",
       "      <td>United States of America</td>\n",
       "      <td>Americas</td>\n",
       "      <td>Northern America</td>\n",
       "      <td>US</td>\n",
       "      <td>Madagascar</td>\n",
       "      <td>Africa</td>\n",
       "      <td>Eastern Africa</td>\n",
       "      <td>MG</td>\n",
       "    </tr>\n",
       "    <tr>\n",
       "      <th>1</th>\n",
       "      <td>2458</td>\n",
       "      <td>5150</td>\n",
       "      <td>United States of America</td>\n",
       "      <td>2019</td>\n",
       "      <td>Dominican Republic</td>\n",
       "      <td>Zorzal, batch 1</td>\n",
       "      <td>76.0</td>\n",
       "      <td>3.50</td>\n",
       "      <td>3</td>\n",
       "      <td>have_bean</td>\n",
       "      <td>...</td>\n",
       "      <td>savory</td>\n",
       "      <td>NaN</td>\n",
       "      <td>United States of America</td>\n",
       "      <td>Americas</td>\n",
       "      <td>Northern America</td>\n",
       "      <td>US</td>\n",
       "      <td>Dominican Republic</td>\n",
       "      <td>Americas</td>\n",
       "      <td>Caribbean</td>\n",
       "      <td>DO</td>\n",
       "    </tr>\n",
       "    <tr>\n",
       "      <th>2</th>\n",
       "      <td>2454</td>\n",
       "      <td>5150</td>\n",
       "      <td>United States of America</td>\n",
       "      <td>2019</td>\n",
       "      <td>Tanzania, United Republic of</td>\n",
       "      <td>Kokoa Kamili, batch 1</td>\n",
       "      <td>76.0</td>\n",
       "      <td>3.25</td>\n",
       "      <td>3</td>\n",
       "      <td>have_bean</td>\n",
       "      <td>...</td>\n",
       "      <td>bready</td>\n",
       "      <td>NaN</td>\n",
       "      <td>United States of America</td>\n",
       "      <td>Americas</td>\n",
       "      <td>Northern America</td>\n",
       "      <td>US</td>\n",
       "      <td>Tanzania, United Republic of</td>\n",
       "      <td>Africa</td>\n",
       "      <td>Eastern Africa</td>\n",
       "      <td>TZ</td>\n",
       "    </tr>\n",
       "    <tr>\n",
       "      <th>3</th>\n",
       "      <td>797</td>\n",
       "      <td>A. Morin</td>\n",
       "      <td>France</td>\n",
       "      <td>2012</td>\n",
       "      <td>Peru</td>\n",
       "      <td>Peru</td>\n",
       "      <td>63.0</td>\n",
       "      <td>3.75</td>\n",
       "      <td>4</td>\n",
       "      <td>have_bean</td>\n",
       "      <td>...</td>\n",
       "      <td>roasty</td>\n",
       "      <td>NaN</td>\n",
       "      <td>France</td>\n",
       "      <td>Europe</td>\n",
       "      <td>Western Europe</td>\n",
       "      <td>FR</td>\n",
       "      <td>Peru</td>\n",
       "      <td>Americas</td>\n",
       "      <td>South America</td>\n",
       "      <td>PE</td>\n",
       "    </tr>\n",
       "    <tr>\n",
       "      <th>4</th>\n",
       "      <td>797</td>\n",
       "      <td>A. Morin</td>\n",
       "      <td>France</td>\n",
       "      <td>2012</td>\n",
       "      <td>Bolivia (Plurinational State of)</td>\n",
       "      <td>Bolivia</td>\n",
       "      <td>70.0</td>\n",
       "      <td>3.50</td>\n",
       "      <td>4</td>\n",
       "      <td>have_bean</td>\n",
       "      <td>...</td>\n",
       "      <td>NaN</td>\n",
       "      <td>NaN</td>\n",
       "      <td>France</td>\n",
       "      <td>Europe</td>\n",
       "      <td>Western Europe</td>\n",
       "      <td>FR</td>\n",
       "      <td>Bolivia (Plurinational State of)</td>\n",
       "      <td>Americas</td>\n",
       "      <td>South America</td>\n",
       "      <td>BO</td>\n",
       "    </tr>\n",
       "  </tbody>\n",
       "</table>\n",
       "<p>5 rows × 28 columns</p>\n",
       "</div>"
      ],
      "text/plain": [
       "    ref   company          company_location  review_date  \\\n",
       "0  2454      5150  United States of America         2019   \n",
       "1  2458      5150  United States of America         2019   \n",
       "2  2454      5150  United States of America         2019   \n",
       "3   797  A. Morin                    France         2012   \n",
       "4   797  A. Morin                    France         2012   \n",
       "\n",
       "             country_of_bean_origin specific_bean_origin_or_bar_name  \\\n",
       "0                        Madagascar           Bejofo Estate, batch 1   \n",
       "1                Dominican Republic                  Zorzal, batch 1   \n",
       "2      Tanzania, United Republic of            Kokoa Kamili, batch 1   \n",
       "3                              Peru                             Peru   \n",
       "4  Bolivia (Plurinational State of)                          Bolivia   \n",
       "\n",
       "   cocoa_percent  rating  counts_of_ingredients      beans  ... third_taste  \\\n",
       "0           76.0    3.75                      3  have_bean  ...   full body   \n",
       "1           76.0    3.50                      3  have_bean  ...      savory   \n",
       "2           76.0    3.25                      3  have_bean  ...      bready   \n",
       "3           63.0    3.75                      4  have_bean  ...      roasty   \n",
       "4           70.0    3.50                      4  have_bean  ...         NaN   \n",
       "\n",
       "  fourth_taste                 country_x company_continent    company_region  \\\n",
       "0          NaN  United States of America          Americas  Northern America   \n",
       "1          NaN  United States of America          Americas  Northern America   \n",
       "2          NaN  United States of America          Americas  Northern America   \n",
       "3          NaN                    France            Europe    Western Europe   \n",
       "4          NaN                    France            Europe    Western Europe   \n",
       "\n",
       "  company_code_2                         country_y bean_continent  \\\n",
       "0             US                        Madagascar         Africa   \n",
       "1             US                Dominican Republic       Americas   \n",
       "2             US      Tanzania, United Republic of         Africa   \n",
       "3             FR                              Peru       Americas   \n",
       "4             FR  Bolivia (Plurinational State of)       Americas   \n",
       "\n",
       "      bean_region bean_code_2  \n",
       "0  Eastern Africa          MG  \n",
       "1       Caribbean          DO  \n",
       "2  Eastern Africa          TZ  \n",
       "3   South America          PE  \n",
       "4   South America          BO  \n",
       "\n",
       "[5 rows x 28 columns]"
      ]
     },
     "execution_count": 188,
     "metadata": {},
     "output_type": "execute_result"
    }
   ],
   "source": [
    "test_taste = data\n",
    "test_taste.head()"
   ]
  },
  {
   "cell_type": "code",
   "execution_count": 189,
   "metadata": {},
   "outputs": [],
   "source": [
    "test_taste['first_taste'].fillna(value = 0, inplace = True)\n",
    "test_taste['second_taste'].fillna(value = 0, inplace = True)\n",
    "test_taste['third_taste'].fillna(value = 0, inplace = True)\n",
    "test_taste['fourth_taste'].fillna(value = 0, inplace = True)"
   ]
  },
  {
   "cell_type": "code",
   "execution_count": 190,
   "metadata": {},
   "outputs": [],
   "source": [
    "#taste = lambda x: 1 if x.isna() == False else 0\n",
    "taste = lambda x: 1 if x != 0 else x"
   ]
  },
  {
   "cell_type": "code",
   "execution_count": 191,
   "metadata": {},
   "outputs": [],
   "source": [
    "test_taste['binFirst_taste'] = test_taste['first_taste'].apply(taste)\n",
    "test_taste['binSecond_taste'] = test_taste['second_taste'].apply(taste)\n",
    "test_taste['binThird_taste'] = test_taste['third_taste'].apply(taste)\n",
    "test_taste['binFourth_taste'] = test_taste['fourth_taste'].apply(taste)"
   ]
  },
  {
   "cell_type": "code",
   "execution_count": 192,
   "metadata": {},
   "outputs": [
    {
     "data": {
      "text/html": [
       "<div>\n",
       "<style scoped>\n",
       "    .dataframe tbody tr th:only-of-type {\n",
       "        vertical-align: middle;\n",
       "    }\n",
       "\n",
       "    .dataframe tbody tr th {\n",
       "        vertical-align: top;\n",
       "    }\n",
       "\n",
       "    .dataframe thead th {\n",
       "        text-align: right;\n",
       "    }\n",
       "</style>\n",
       "<table border=\"1\" class=\"dataframe\">\n",
       "  <thead>\n",
       "    <tr style=\"text-align: right;\">\n",
       "      <th></th>\n",
       "      <th>ref</th>\n",
       "      <th>company</th>\n",
       "      <th>company_location</th>\n",
       "      <th>review_date</th>\n",
       "      <th>country_of_bean_origin</th>\n",
       "      <th>specific_bean_origin_or_bar_name</th>\n",
       "      <th>cocoa_percent</th>\n",
       "      <th>rating</th>\n",
       "      <th>counts_of_ingredients</th>\n",
       "      <th>beans</th>\n",
       "      <th>...</th>\n",
       "      <th>company_region</th>\n",
       "      <th>company_code_2</th>\n",
       "      <th>country_y</th>\n",
       "      <th>bean_continent</th>\n",
       "      <th>bean_region</th>\n",
       "      <th>bean_code_2</th>\n",
       "      <th>binFirst_taste</th>\n",
       "      <th>binSecond_taste</th>\n",
       "      <th>binThird_taste</th>\n",
       "      <th>binFourth_taste</th>\n",
       "    </tr>\n",
       "  </thead>\n",
       "  <tbody>\n",
       "    <tr>\n",
       "      <th>4</th>\n",
       "      <td>797</td>\n",
       "      <td>A. Morin</td>\n",
       "      <td>France</td>\n",
       "      <td>2012</td>\n",
       "      <td>Bolivia (Plurinational State of)</td>\n",
       "      <td>Bolivia</td>\n",
       "      <td>70.0</td>\n",
       "      <td>3.50</td>\n",
       "      <td>4</td>\n",
       "      <td>have_bean</td>\n",
       "      <td>...</td>\n",
       "      <td>Western Europe</td>\n",
       "      <td>FR</td>\n",
       "      <td>Bolivia (Plurinational State of)</td>\n",
       "      <td>Americas</td>\n",
       "      <td>South America</td>\n",
       "      <td>BO</td>\n",
       "      <td>1</td>\n",
       "      <td>1</td>\n",
       "      <td>0</td>\n",
       "      <td>0</td>\n",
       "    </tr>\n",
       "    <tr>\n",
       "      <th>9</th>\n",
       "      <td>1011</td>\n",
       "      <td>A. Morin</td>\n",
       "      <td>France</td>\n",
       "      <td>2013</td>\n",
       "      <td>Brazil</td>\n",
       "      <td>Brazil</td>\n",
       "      <td>70.0</td>\n",
       "      <td>3.25</td>\n",
       "      <td>4</td>\n",
       "      <td>have_bean</td>\n",
       "      <td>...</td>\n",
       "      <td>Western Europe</td>\n",
       "      <td>FR</td>\n",
       "      <td>Brazil</td>\n",
       "      <td>Americas</td>\n",
       "      <td>South America</td>\n",
       "      <td>BR</td>\n",
       "      <td>1</td>\n",
       "      <td>0</td>\n",
       "      <td>0</td>\n",
       "      <td>0</td>\n",
       "    </tr>\n",
       "    <tr>\n",
       "      <th>10</th>\n",
       "      <td>1015</td>\n",
       "      <td>A. Morin</td>\n",
       "      <td>France</td>\n",
       "      <td>2013</td>\n",
       "      <td>Papua New Guinea</td>\n",
       "      <td>Papua New Guinea</td>\n",
       "      <td>70.0</td>\n",
       "      <td>3.25</td>\n",
       "      <td>4</td>\n",
       "      <td>have_bean</td>\n",
       "      <td>...</td>\n",
       "      <td>Western Europe</td>\n",
       "      <td>FR</td>\n",
       "      <td>Papua New Guinea</td>\n",
       "      <td>Oceania</td>\n",
       "      <td>Melanesia</td>\n",
       "      <td>PG</td>\n",
       "      <td>1</td>\n",
       "      <td>1</td>\n",
       "      <td>0</td>\n",
       "      <td>0</td>\n",
       "    </tr>\n",
       "    <tr>\n",
       "      <th>15</th>\n",
       "      <td>1015</td>\n",
       "      <td>A. Morin</td>\n",
       "      <td>France</td>\n",
       "      <td>2013</td>\n",
       "      <td>Colombia</td>\n",
       "      <td>Colombie</td>\n",
       "      <td>70.0</td>\n",
       "      <td>2.75</td>\n",
       "      <td>4</td>\n",
       "      <td>have_bean</td>\n",
       "      <td>...</td>\n",
       "      <td>Western Europe</td>\n",
       "      <td>FR</td>\n",
       "      <td>Colombia</td>\n",
       "      <td>Americas</td>\n",
       "      <td>South America</td>\n",
       "      <td>CO</td>\n",
       "      <td>1</td>\n",
       "      <td>1</td>\n",
       "      <td>0</td>\n",
       "      <td>0</td>\n",
       "    </tr>\n",
       "    <tr>\n",
       "      <th>18</th>\n",
       "      <td>1315</td>\n",
       "      <td>A. Morin</td>\n",
       "      <td>France</td>\n",
       "      <td>2014</td>\n",
       "      <td>Cuba</td>\n",
       "      <td>Cuba</td>\n",
       "      <td>70.0</td>\n",
       "      <td>3.50</td>\n",
       "      <td>4</td>\n",
       "      <td>have_bean</td>\n",
       "      <td>...</td>\n",
       "      <td>Western Europe</td>\n",
       "      <td>FR</td>\n",
       "      <td>Cuba</td>\n",
       "      <td>Americas</td>\n",
       "      <td>Caribbean</td>\n",
       "      <td>CU</td>\n",
       "      <td>1</td>\n",
       "      <td>1</td>\n",
       "      <td>0</td>\n",
       "      <td>0</td>\n",
       "    </tr>\n",
       "  </tbody>\n",
       "</table>\n",
       "<p>5 rows × 32 columns</p>\n",
       "</div>"
      ],
      "text/plain": [
       "     ref   company company_location  review_date  \\\n",
       "4    797  A. Morin           France         2012   \n",
       "9   1011  A. Morin           France         2013   \n",
       "10  1015  A. Morin           France         2013   \n",
       "15  1015  A. Morin           France         2013   \n",
       "18  1315  A. Morin           France         2014   \n",
       "\n",
       "              country_of_bean_origin specific_bean_origin_or_bar_name  \\\n",
       "4   Bolivia (Plurinational State of)                          Bolivia   \n",
       "9                             Brazil                           Brazil   \n",
       "10                  Papua New Guinea                 Papua New Guinea   \n",
       "15                          Colombia                         Colombie   \n",
       "18                              Cuba                             Cuba   \n",
       "\n",
       "    cocoa_percent  rating  counts_of_ingredients      beans  ...  \\\n",
       "4            70.0    3.50                      4  have_bean  ...   \n",
       "9            70.0    3.25                      4  have_bean  ...   \n",
       "10           70.0    3.25                      4  have_bean  ...   \n",
       "15           70.0    2.75                      4  have_bean  ...   \n",
       "18           70.0    3.50                      4  have_bean  ...   \n",
       "\n",
       "    company_region company_code_2                         country_y  \\\n",
       "4   Western Europe             FR  Bolivia (Plurinational State of)   \n",
       "9   Western Europe             FR                            Brazil   \n",
       "10  Western Europe             FR                  Papua New Guinea   \n",
       "15  Western Europe             FR                          Colombia   \n",
       "18  Western Europe             FR                              Cuba   \n",
       "\n",
       "   bean_continent    bean_region bean_code_2 binFirst_taste binSecond_taste  \\\n",
       "4        Americas  South America          BO              1               1   \n",
       "9        Americas  South America          BR              1               0   \n",
       "10        Oceania      Melanesia          PG              1               1   \n",
       "15       Americas  South America          CO              1               1   \n",
       "18       Americas      Caribbean          CU              1               1   \n",
       "\n",
       "   binThird_taste binFourth_taste  \n",
       "4               0               0  \n",
       "9               0               0  \n",
       "10              0               0  \n",
       "15              0               0  \n",
       "18              0               0  \n",
       "\n",
       "[5 rows x 32 columns]"
      ]
     },
     "execution_count": 192,
     "metadata": {},
     "output_type": "execute_result"
    }
   ],
   "source": [
    "test_taste[test_taste['binThird_taste'] == 0].head()"
   ]
  },
  {
   "cell_type": "code",
   "execution_count": 193,
   "metadata": {},
   "outputs": [],
   "source": [
    "test_taste['count_tastes'] = test_taste['binFirst_taste'] + test_taste['binSecond_taste'] + test_taste['binThird_taste'] + test_taste['binFourth_taste']"
   ]
  },
  {
   "cell_type": "code",
   "execution_count": 194,
   "metadata": {},
   "outputs": [
    {
     "data": {
      "text/html": [
       "<div>\n",
       "<style scoped>\n",
       "    .dataframe tbody tr th:only-of-type {\n",
       "        vertical-align: middle;\n",
       "    }\n",
       "\n",
       "    .dataframe tbody tr th {\n",
       "        vertical-align: top;\n",
       "    }\n",
       "\n",
       "    .dataframe thead th {\n",
       "        text-align: right;\n",
       "    }\n",
       "</style>\n",
       "<table border=\"1\" class=\"dataframe\">\n",
       "  <thead>\n",
       "    <tr style=\"text-align: right;\">\n",
       "      <th></th>\n",
       "      <th>ref</th>\n",
       "      <th>company</th>\n",
       "      <th>company_location</th>\n",
       "      <th>review_date</th>\n",
       "      <th>country_of_bean_origin</th>\n",
       "      <th>specific_bean_origin_or_bar_name</th>\n",
       "      <th>cocoa_percent</th>\n",
       "      <th>rating</th>\n",
       "      <th>counts_of_ingredients</th>\n",
       "      <th>beans</th>\n",
       "      <th>...</th>\n",
       "      <th>company_code_2</th>\n",
       "      <th>country_y</th>\n",
       "      <th>bean_continent</th>\n",
       "      <th>bean_region</th>\n",
       "      <th>bean_code_2</th>\n",
       "      <th>binFirst_taste</th>\n",
       "      <th>binSecond_taste</th>\n",
       "      <th>binThird_taste</th>\n",
       "      <th>binFourth_taste</th>\n",
       "      <th>count_tastes</th>\n",
       "    </tr>\n",
       "  </thead>\n",
       "  <tbody>\n",
       "    <tr>\n",
       "      <th>0</th>\n",
       "      <td>2454</td>\n",
       "      <td>5150</td>\n",
       "      <td>United States of America</td>\n",
       "      <td>2019</td>\n",
       "      <td>Madagascar</td>\n",
       "      <td>Bejofo Estate, batch 1</td>\n",
       "      <td>76.0</td>\n",
       "      <td>3.75</td>\n",
       "      <td>3</td>\n",
       "      <td>have_bean</td>\n",
       "      <td>...</td>\n",
       "      <td>US</td>\n",
       "      <td>Madagascar</td>\n",
       "      <td>Africa</td>\n",
       "      <td>Eastern Africa</td>\n",
       "      <td>MG</td>\n",
       "      <td>1</td>\n",
       "      <td>1</td>\n",
       "      <td>1</td>\n",
       "      <td>0</td>\n",
       "      <td>3</td>\n",
       "    </tr>\n",
       "    <tr>\n",
       "      <th>1</th>\n",
       "      <td>2458</td>\n",
       "      <td>5150</td>\n",
       "      <td>United States of America</td>\n",
       "      <td>2019</td>\n",
       "      <td>Dominican Republic</td>\n",
       "      <td>Zorzal, batch 1</td>\n",
       "      <td>76.0</td>\n",
       "      <td>3.50</td>\n",
       "      <td>3</td>\n",
       "      <td>have_bean</td>\n",
       "      <td>...</td>\n",
       "      <td>US</td>\n",
       "      <td>Dominican Republic</td>\n",
       "      <td>Americas</td>\n",
       "      <td>Caribbean</td>\n",
       "      <td>DO</td>\n",
       "      <td>1</td>\n",
       "      <td>1</td>\n",
       "      <td>1</td>\n",
       "      <td>0</td>\n",
       "      <td>3</td>\n",
       "    </tr>\n",
       "    <tr>\n",
       "      <th>2</th>\n",
       "      <td>2454</td>\n",
       "      <td>5150</td>\n",
       "      <td>United States of America</td>\n",
       "      <td>2019</td>\n",
       "      <td>Tanzania, United Republic of</td>\n",
       "      <td>Kokoa Kamili, batch 1</td>\n",
       "      <td>76.0</td>\n",
       "      <td>3.25</td>\n",
       "      <td>3</td>\n",
       "      <td>have_bean</td>\n",
       "      <td>...</td>\n",
       "      <td>US</td>\n",
       "      <td>Tanzania, United Republic of</td>\n",
       "      <td>Africa</td>\n",
       "      <td>Eastern Africa</td>\n",
       "      <td>TZ</td>\n",
       "      <td>1</td>\n",
       "      <td>1</td>\n",
       "      <td>1</td>\n",
       "      <td>0</td>\n",
       "      <td>3</td>\n",
       "    </tr>\n",
       "    <tr>\n",
       "      <th>3</th>\n",
       "      <td>797</td>\n",
       "      <td>A. Morin</td>\n",
       "      <td>France</td>\n",
       "      <td>2012</td>\n",
       "      <td>Peru</td>\n",
       "      <td>Peru</td>\n",
       "      <td>63.0</td>\n",
       "      <td>3.75</td>\n",
       "      <td>4</td>\n",
       "      <td>have_bean</td>\n",
       "      <td>...</td>\n",
       "      <td>FR</td>\n",
       "      <td>Peru</td>\n",
       "      <td>Americas</td>\n",
       "      <td>South America</td>\n",
       "      <td>PE</td>\n",
       "      <td>1</td>\n",
       "      <td>1</td>\n",
       "      <td>1</td>\n",
       "      <td>0</td>\n",
       "      <td>3</td>\n",
       "    </tr>\n",
       "    <tr>\n",
       "      <th>4</th>\n",
       "      <td>797</td>\n",
       "      <td>A. Morin</td>\n",
       "      <td>France</td>\n",
       "      <td>2012</td>\n",
       "      <td>Bolivia (Plurinational State of)</td>\n",
       "      <td>Bolivia</td>\n",
       "      <td>70.0</td>\n",
       "      <td>3.50</td>\n",
       "      <td>4</td>\n",
       "      <td>have_bean</td>\n",
       "      <td>...</td>\n",
       "      <td>FR</td>\n",
       "      <td>Bolivia (Plurinational State of)</td>\n",
       "      <td>Americas</td>\n",
       "      <td>South America</td>\n",
       "      <td>BO</td>\n",
       "      <td>1</td>\n",
       "      <td>1</td>\n",
       "      <td>0</td>\n",
       "      <td>0</td>\n",
       "      <td>2</td>\n",
       "    </tr>\n",
       "  </tbody>\n",
       "</table>\n",
       "<p>5 rows × 33 columns</p>\n",
       "</div>"
      ],
      "text/plain": [
       "    ref   company          company_location  review_date  \\\n",
       "0  2454      5150  United States of America         2019   \n",
       "1  2458      5150  United States of America         2019   \n",
       "2  2454      5150  United States of America         2019   \n",
       "3   797  A. Morin                    France         2012   \n",
       "4   797  A. Morin                    France         2012   \n",
       "\n",
       "             country_of_bean_origin specific_bean_origin_or_bar_name  \\\n",
       "0                        Madagascar           Bejofo Estate, batch 1   \n",
       "1                Dominican Republic                  Zorzal, batch 1   \n",
       "2      Tanzania, United Republic of            Kokoa Kamili, batch 1   \n",
       "3                              Peru                             Peru   \n",
       "4  Bolivia (Plurinational State of)                          Bolivia   \n",
       "\n",
       "   cocoa_percent  rating  counts_of_ingredients      beans  ...  \\\n",
       "0           76.0    3.75                      3  have_bean  ...   \n",
       "1           76.0    3.50                      3  have_bean  ...   \n",
       "2           76.0    3.25                      3  have_bean  ...   \n",
       "3           63.0    3.75                      4  have_bean  ...   \n",
       "4           70.0    3.50                      4  have_bean  ...   \n",
       "\n",
       "  company_code_2                         country_y bean_continent  \\\n",
       "0             US                        Madagascar         Africa   \n",
       "1             US                Dominican Republic       Americas   \n",
       "2             US      Tanzania, United Republic of         Africa   \n",
       "3             FR                              Peru       Americas   \n",
       "4             FR  Bolivia (Plurinational State of)       Americas   \n",
       "\n",
       "      bean_region bean_code_2 binFirst_taste binSecond_taste binThird_taste  \\\n",
       "0  Eastern Africa          MG              1               1              1   \n",
       "1       Caribbean          DO              1               1              1   \n",
       "2  Eastern Africa          TZ              1               1              1   \n",
       "3   South America          PE              1               1              1   \n",
       "4   South America          BO              1               1              0   \n",
       "\n",
       "  binFourth_taste count_tastes  \n",
       "0               0            3  \n",
       "1               0            3  \n",
       "2               0            3  \n",
       "3               0            3  \n",
       "4               0            2  \n",
       "\n",
       "[5 rows x 33 columns]"
      ]
     },
     "execution_count": 194,
     "metadata": {},
     "output_type": "execute_result"
    }
   ],
   "source": [
    "test_taste.head()"
   ]
  },
  {
   "cell_type": "markdown",
   "metadata": {},
   "source": [
    "### Radar Plot\n"
   ]
  },
  {
   "cell_type": "code",
   "execution_count": 195,
   "metadata": {
    "scrolled": true
   },
   "outputs": [],
   "source": [
    "feat_radar = ['cocoa_percent', 'rating', 'counts_of_ingredients', 'count_tastes']"
   ]
  },
  {
   "cell_type": "code",
   "execution_count": 196,
   "metadata": {
    "scrolled": false
   },
   "outputs": [
    {
     "data": {
      "text/html": [
       "<div>\n",
       "<style scoped>\n",
       "    .dataframe tbody tr th:only-of-type {\n",
       "        vertical-align: middle;\n",
       "    }\n",
       "\n",
       "    .dataframe tbody tr th {\n",
       "        vertical-align: top;\n",
       "    }\n",
       "\n",
       "    .dataframe thead th {\n",
       "        text-align: right;\n",
       "    }\n",
       "</style>\n",
       "<table border=\"1\" class=\"dataframe\">\n",
       "  <thead>\n",
       "    <tr style=\"text-align: right;\">\n",
       "      <th></th>\n",
       "      <th>cocoa_level</th>\n",
       "      <th>rating</th>\n",
       "      <th>counts_of_ingredients</th>\n",
       "      <th>count_tastes</th>\n",
       "      <th>company_name</th>\n",
       "    </tr>\n",
       "    <tr>\n",
       "      <th>company</th>\n",
       "      <th></th>\n",
       "      <th></th>\n",
       "      <th></th>\n",
       "      <th></th>\n",
       "      <th></th>\n",
       "    </tr>\n",
       "  </thead>\n",
       "  <tbody>\n",
       "    <tr>\n",
       "      <th>5150</th>\n",
       "      <td>3.80</td>\n",
       "      <td>3.50</td>\n",
       "      <td>3.00</td>\n",
       "      <td>3.00</td>\n",
       "      <td>5150</td>\n",
       "    </tr>\n",
       "    <tr>\n",
       "      <th>A. Morin</th>\n",
       "      <td>3.44</td>\n",
       "      <td>3.40</td>\n",
       "      <td>3.96</td>\n",
       "      <td>2.88</td>\n",
       "      <td>A. Morin</td>\n",
       "    </tr>\n",
       "    <tr>\n",
       "      <th>AMMA</th>\n",
       "      <td>3.45</td>\n",
       "      <td>3.50</td>\n",
       "      <td>4.00</td>\n",
       "      <td>3.40</td>\n",
       "      <td>AMMA</td>\n",
       "    </tr>\n",
       "    <tr>\n",
       "      <th>Acalli</th>\n",
       "      <td>3.55</td>\n",
       "      <td>3.56</td>\n",
       "      <td>2.00</td>\n",
       "      <td>2.75</td>\n",
       "      <td>Acalli</td>\n",
       "    </tr>\n",
       "    <tr>\n",
       "      <th>Adi aka Fijiana (Easy In Ltd)</th>\n",
       "      <td>3.75</td>\n",
       "      <td>3.25</td>\n",
       "      <td>3.00</td>\n",
       "      <td>1.75</td>\n",
       "      <td>Adi aka Fijiana (Easy In Ltd)</td>\n",
       "    </tr>\n",
       "    <tr>\n",
       "      <th>...</th>\n",
       "      <td>...</td>\n",
       "      <td>...</td>\n",
       "      <td>...</td>\n",
       "      <td>...</td>\n",
       "      <td>...</td>\n",
       "    </tr>\n",
       "    <tr>\n",
       "      <th>Zotter</th>\n",
       "      <td>3.52</td>\n",
       "      <td>3.35</td>\n",
       "      <td>3.82</td>\n",
       "      <td>2.88</td>\n",
       "      <td>Zotter</td>\n",
       "    </tr>\n",
       "    <tr>\n",
       "      <th>hello cocoa</th>\n",
       "      <td>3.28</td>\n",
       "      <td>3.12</td>\n",
       "      <td>3.00</td>\n",
       "      <td>3.00</td>\n",
       "      <td>hello cocoa</td>\n",
       "    </tr>\n",
       "    <tr>\n",
       "      <th>hexx</th>\n",
       "      <td>3.58</td>\n",
       "      <td>2.92</td>\n",
       "      <td>2.00</td>\n",
       "      <td>2.90</td>\n",
       "      <td>hexx</td>\n",
       "    </tr>\n",
       "    <tr>\n",
       "      <th>organicfair</th>\n",
       "      <td>3.61</td>\n",
       "      <td>2.88</td>\n",
       "      <td>3.00</td>\n",
       "      <td>3.00</td>\n",
       "      <td>organicfair</td>\n",
       "    </tr>\n",
       "    <tr>\n",
       "      <th>twenty-four blackbirds</th>\n",
       "      <td>3.69</td>\n",
       "      <td>3.07</td>\n",
       "      <td>2.00</td>\n",
       "      <td>2.86</td>\n",
       "      <td>twenty-four blackbirds</td>\n",
       "    </tr>\n",
       "  </tbody>\n",
       "</table>\n",
       "<p>488 rows × 5 columns</p>\n",
       "</div>"
      ],
      "text/plain": [
       "                               cocoa_level  rating  counts_of_ingredients  \\\n",
       "company                                                                     \n",
       "5150                                  3.80    3.50                   3.00   \n",
       "A. Morin                              3.44    3.40                   3.96   \n",
       "AMMA                                  3.45    3.50                   4.00   \n",
       "Acalli                                3.55    3.56                   2.00   \n",
       "Adi aka Fijiana (Easy In Ltd)         3.75    3.25                   3.00   \n",
       "...                                    ...     ...                    ...   \n",
       "Zotter                                3.52    3.35                   3.82   \n",
       "hello cocoa                           3.28    3.12                   3.00   \n",
       "hexx                                  3.58    2.92                   2.00   \n",
       "organicfair                           3.61    2.88                   3.00   \n",
       "twenty-four blackbirds                3.69    3.07                   2.00   \n",
       "\n",
       "                               count_tastes                   company_name  \n",
       "company                                                                     \n",
       "5150                                   3.00                           5150  \n",
       "A. Morin                               2.88                       A. Morin  \n",
       "AMMA                                   3.40                           AMMA  \n",
       "Acalli                                 2.75                         Acalli  \n",
       "Adi aka Fijiana (Easy In Ltd)          1.75  Adi aka Fijiana (Easy In Ltd)  \n",
       "...                                     ...                            ...  \n",
       "Zotter                                 2.88                         Zotter  \n",
       "hello cocoa                            3.00                    hello cocoa  \n",
       "hexx                                   2.90                           hexx  \n",
       "organicfair                            3.00                    organicfair  \n",
       "twenty-four blackbirds                 2.86         twenty-four blackbirds  \n",
       "\n",
       "[488 rows x 5 columns]"
      ]
     },
     "execution_count": 196,
     "metadata": {},
     "output_type": "execute_result"
    }
   ],
   "source": [
    "radar = pd.DataFrame(round(test_taste.groupby(by = 'company')[feat_radar].mean(),2))\n",
    "radar['company_name'] = radar.index\n",
    "radar.insert(0, 'cocoa_level', round((5 * radar['cocoa_percent']) / 100, 2))\n",
    "radar.drop(columns = {'cocoa_percent'}, inplace = True)\n",
    "radar"
   ]
  },
  {
   "cell_type": "code",
   "execution_count": 197,
   "metadata": {},
   "outputs": [],
   "source": [
    "feat_radar = ['cocoa_level', 'rating', 'counts_of_ingredients', 'count_tastes']"
   ]
  },
  {
   "cell_type": "code",
   "execution_count": 198,
   "metadata": {},
   "outputs": [],
   "source": [
    "company1 = '5150'\n",
    "company2 = 'A. Morin'"
   ]
  },
  {
   "cell_type": "code",
   "execution_count": 199,
   "metadata": {},
   "outputs": [
    {
     "data": {
      "text/plain": [
       "company\n",
       "5150                              True\n",
       "A. Morin                          True\n",
       "AMMA                             False\n",
       "Acalli                           False\n",
       "Adi aka Fijiana (Easy In Ltd)    False\n",
       "                                 ...  \n",
       "Zotter                           False\n",
       "hello cocoa                      False\n",
       "hexx                             False\n",
       "organicfair                      False\n",
       "twenty-four blackbirds           False\n",
       "Name: company_name, Length: 488, dtype: bool"
      ]
     },
     "execution_count": 199,
     "metadata": {},
     "output_type": "execute_result"
    }
   ],
   "source": [
    "radar['company_name'].isin([company1, company2])"
   ]
  },
  {
   "cell_type": "code",
   "execution_count": 200,
   "metadata": {},
   "outputs": [
    {
     "data": {
      "text/plain": [
       "[3.8, 3.5, 3.0, 3.0]"
      ]
     },
     "execution_count": 200,
     "metadata": {},
     "output_type": "execute_result"
    }
   ],
   "source": [
    "company1_list = []\n",
    "\n",
    "company1_df = pd.DataFrame(radar[radar['company_name'] == company1])\n",
    "for i in range(len(radar.columns)-1):\n",
    "    company1_list.append(radar[radar['company_name'] == company1].iloc[0,i])\n",
    "\n",
    "company1_list"
   ]
  },
  {
   "cell_type": "code",
   "execution_count": 201,
   "metadata": {},
   "outputs": [
    {
     "data": {
      "text/plain": [
       "[3.44, 3.4, 3.96, 2.88]"
      ]
     },
     "execution_count": 201,
     "metadata": {},
     "output_type": "execute_result"
    }
   ],
   "source": [
    "company2_list = []\n",
    "\n",
    "company2_df = pd.DataFrame(radar[radar['company_name'] == company2])\n",
    "for i in range(len(radar.columns)-1):\n",
    "    company2_list.append(radar[radar['company_name'] == company2].iloc[0,i])\n",
    "\n",
    "company2_list"
   ]
  },
  {
   "cell_type": "code",
   "execution_count": 202,
   "metadata": {},
   "outputs": [
    {
     "data": {
      "text/plain": [
       "['cocoa_level', 'rating', 'counts_of_ingredients', 'count_tastes']"
      ]
     },
     "execution_count": 202,
     "metadata": {},
     "output_type": "execute_result"
    }
   ],
   "source": [
    "feat_radar"
   ]
  },
  {
   "cell_type": "code",
   "execution_count": 203,
   "metadata": {
    "scrolled": false
   },
   "outputs": [
    {
     "data": {
      "application/vnd.plotly.v1+json": {
       "config": {
        "plotlyServerURL": "https://plot.ly"
       },
       "data": [
        {
         "fill": "toself",
         "hoverinfo": "text",
         "marker": {
          "color": "rgb(205,102,29)"
         },
         "name": "5150",
         "opacity": 1,
         "r": [
          3.8,
          3.5,
          3,
          3
         ],
         "text": [
          "cocoa_level = 3.8",
          "rating = 3.5",
          "counts_of_ingredients = 3.0",
          "count_tastes = 3.0"
         ],
         "theta": [
          "Level of Cocoa",
          "Rating",
          "Number of Ingredients",
          "Number of Tastes"
         ],
         "type": "scatterpolar"
        },
        {
         "fill": "toself",
         "hoverinfo": "text",
         "marker": {
          "color": "rgb(193,255,193)"
         },
         "name": "A. Morin",
         "r": [
          3.44,
          3.4,
          3.96,
          2.88
         ],
         "text": [
          "cocoa_level = 3.44",
          "rating = 3.4",
          "counts_of_ingredients = 3.96",
          "count_tastes = 2.88"
         ],
         "theta": [
          "Level of Cocoa",
          "Rating",
          "Number of Ingredients",
          "Number of Tastes"
         ],
         "type": "scatterpolar"
        }
       ],
       "layout": {
        "paper_bgcolor": "rgba(0,0,0,0)",
        "plot_bgcolor": "rgba(0,0,0,0)",
        "polar": {
         "radialaxis": {
          "range": [
           0,
           5
          ],
          "visible": true
         }
        },
        "showlegend": true,
        "template": {
         "data": {
          "bar": [
           {
            "error_x": {
             "color": "#2a3f5f"
            },
            "error_y": {
             "color": "#2a3f5f"
            },
            "marker": {
             "line": {
              "color": "#E5ECF6",
              "width": 0.5
             },
             "pattern": {
              "fillmode": "overlay",
              "size": 10,
              "solidity": 0.2
             }
            },
            "type": "bar"
           }
          ],
          "barpolar": [
           {
            "marker": {
             "line": {
              "color": "#E5ECF6",
              "width": 0.5
             },
             "pattern": {
              "fillmode": "overlay",
              "size": 10,
              "solidity": 0.2
             }
            },
            "type": "barpolar"
           }
          ],
          "carpet": [
           {
            "aaxis": {
             "endlinecolor": "#2a3f5f",
             "gridcolor": "white",
             "linecolor": "white",
             "minorgridcolor": "white",
             "startlinecolor": "#2a3f5f"
            },
            "baxis": {
             "endlinecolor": "#2a3f5f",
             "gridcolor": "white",
             "linecolor": "white",
             "minorgridcolor": "white",
             "startlinecolor": "#2a3f5f"
            },
            "type": "carpet"
           }
          ],
          "choropleth": [
           {
            "colorbar": {
             "outlinewidth": 0,
             "ticks": ""
            },
            "type": "choropleth"
           }
          ],
          "contour": [
           {
            "colorbar": {
             "outlinewidth": 0,
             "ticks": ""
            },
            "colorscale": [
             [
              0,
              "#0d0887"
             ],
             [
              0.1111111111111111,
              "#46039f"
             ],
             [
              0.2222222222222222,
              "#7201a8"
             ],
             [
              0.3333333333333333,
              "#9c179e"
             ],
             [
              0.4444444444444444,
              "#bd3786"
             ],
             [
              0.5555555555555556,
              "#d8576b"
             ],
             [
              0.6666666666666666,
              "#ed7953"
             ],
             [
              0.7777777777777778,
              "#fb9f3a"
             ],
             [
              0.8888888888888888,
              "#fdca26"
             ],
             [
              1,
              "#f0f921"
             ]
            ],
            "type": "contour"
           }
          ],
          "contourcarpet": [
           {
            "colorbar": {
             "outlinewidth": 0,
             "ticks": ""
            },
            "type": "contourcarpet"
           }
          ],
          "heatmap": [
           {
            "colorbar": {
             "outlinewidth": 0,
             "ticks": ""
            },
            "colorscale": [
             [
              0,
              "#0d0887"
             ],
             [
              0.1111111111111111,
              "#46039f"
             ],
             [
              0.2222222222222222,
              "#7201a8"
             ],
             [
              0.3333333333333333,
              "#9c179e"
             ],
             [
              0.4444444444444444,
              "#bd3786"
             ],
             [
              0.5555555555555556,
              "#d8576b"
             ],
             [
              0.6666666666666666,
              "#ed7953"
             ],
             [
              0.7777777777777778,
              "#fb9f3a"
             ],
             [
              0.8888888888888888,
              "#fdca26"
             ],
             [
              1,
              "#f0f921"
             ]
            ],
            "type": "heatmap"
           }
          ],
          "heatmapgl": [
           {
            "colorbar": {
             "outlinewidth": 0,
             "ticks": ""
            },
            "colorscale": [
             [
              0,
              "#0d0887"
             ],
             [
              0.1111111111111111,
              "#46039f"
             ],
             [
              0.2222222222222222,
              "#7201a8"
             ],
             [
              0.3333333333333333,
              "#9c179e"
             ],
             [
              0.4444444444444444,
              "#bd3786"
             ],
             [
              0.5555555555555556,
              "#d8576b"
             ],
             [
              0.6666666666666666,
              "#ed7953"
             ],
             [
              0.7777777777777778,
              "#fb9f3a"
             ],
             [
              0.8888888888888888,
              "#fdca26"
             ],
             [
              1,
              "#f0f921"
             ]
            ],
            "type": "heatmapgl"
           }
          ],
          "histogram": [
           {
            "marker": {
             "pattern": {
              "fillmode": "overlay",
              "size": 10,
              "solidity": 0.2
             }
            },
            "type": "histogram"
           }
          ],
          "histogram2d": [
           {
            "colorbar": {
             "outlinewidth": 0,
             "ticks": ""
            },
            "colorscale": [
             [
              0,
              "#0d0887"
             ],
             [
              0.1111111111111111,
              "#46039f"
             ],
             [
              0.2222222222222222,
              "#7201a8"
             ],
             [
              0.3333333333333333,
              "#9c179e"
             ],
             [
              0.4444444444444444,
              "#bd3786"
             ],
             [
              0.5555555555555556,
              "#d8576b"
             ],
             [
              0.6666666666666666,
              "#ed7953"
             ],
             [
              0.7777777777777778,
              "#fb9f3a"
             ],
             [
              0.8888888888888888,
              "#fdca26"
             ],
             [
              1,
              "#f0f921"
             ]
            ],
            "type": "histogram2d"
           }
          ],
          "histogram2dcontour": [
           {
            "colorbar": {
             "outlinewidth": 0,
             "ticks": ""
            },
            "colorscale": [
             [
              0,
              "#0d0887"
             ],
             [
              0.1111111111111111,
              "#46039f"
             ],
             [
              0.2222222222222222,
              "#7201a8"
             ],
             [
              0.3333333333333333,
              "#9c179e"
             ],
             [
              0.4444444444444444,
              "#bd3786"
             ],
             [
              0.5555555555555556,
              "#d8576b"
             ],
             [
              0.6666666666666666,
              "#ed7953"
             ],
             [
              0.7777777777777778,
              "#fb9f3a"
             ],
             [
              0.8888888888888888,
              "#fdca26"
             ],
             [
              1,
              "#f0f921"
             ]
            ],
            "type": "histogram2dcontour"
           }
          ],
          "mesh3d": [
           {
            "colorbar": {
             "outlinewidth": 0,
             "ticks": ""
            },
            "type": "mesh3d"
           }
          ],
          "parcoords": [
           {
            "line": {
             "colorbar": {
              "outlinewidth": 0,
              "ticks": ""
             }
            },
            "type": "parcoords"
           }
          ],
          "pie": [
           {
            "automargin": true,
            "type": "pie"
           }
          ],
          "scatter": [
           {
            "marker": {
             "colorbar": {
              "outlinewidth": 0,
              "ticks": ""
             }
            },
            "type": "scatter"
           }
          ],
          "scatter3d": [
           {
            "line": {
             "colorbar": {
              "outlinewidth": 0,
              "ticks": ""
             }
            },
            "marker": {
             "colorbar": {
              "outlinewidth": 0,
              "ticks": ""
             }
            },
            "type": "scatter3d"
           }
          ],
          "scattercarpet": [
           {
            "marker": {
             "colorbar": {
              "outlinewidth": 0,
              "ticks": ""
             }
            },
            "type": "scattercarpet"
           }
          ],
          "scattergeo": [
           {
            "marker": {
             "colorbar": {
              "outlinewidth": 0,
              "ticks": ""
             }
            },
            "type": "scattergeo"
           }
          ],
          "scattergl": [
           {
            "marker": {
             "colorbar": {
              "outlinewidth": 0,
              "ticks": ""
             }
            },
            "type": "scattergl"
           }
          ],
          "scattermapbox": [
           {
            "marker": {
             "colorbar": {
              "outlinewidth": 0,
              "ticks": ""
             }
            },
            "type": "scattermapbox"
           }
          ],
          "scatterpolar": [
           {
            "marker": {
             "colorbar": {
              "outlinewidth": 0,
              "ticks": ""
             }
            },
            "type": "scatterpolar"
           }
          ],
          "scatterpolargl": [
           {
            "marker": {
             "colorbar": {
              "outlinewidth": 0,
              "ticks": ""
             }
            },
            "type": "scatterpolargl"
           }
          ],
          "scatterternary": [
           {
            "marker": {
             "colorbar": {
              "outlinewidth": 0,
              "ticks": ""
             }
            },
            "type": "scatterternary"
           }
          ],
          "surface": [
           {
            "colorbar": {
             "outlinewidth": 0,
             "ticks": ""
            },
            "colorscale": [
             [
              0,
              "#0d0887"
             ],
             [
              0.1111111111111111,
              "#46039f"
             ],
             [
              0.2222222222222222,
              "#7201a8"
             ],
             [
              0.3333333333333333,
              "#9c179e"
             ],
             [
              0.4444444444444444,
              "#bd3786"
             ],
             [
              0.5555555555555556,
              "#d8576b"
             ],
             [
              0.6666666666666666,
              "#ed7953"
             ],
             [
              0.7777777777777778,
              "#fb9f3a"
             ],
             [
              0.8888888888888888,
              "#fdca26"
             ],
             [
              1,
              "#f0f921"
             ]
            ],
            "type": "surface"
           }
          ],
          "table": [
           {
            "cells": {
             "fill": {
              "color": "#EBF0F8"
             },
             "line": {
              "color": "white"
             }
            },
            "header": {
             "fill": {
              "color": "#C8D4E3"
             },
             "line": {
              "color": "white"
             }
            },
            "type": "table"
           }
          ]
         },
         "layout": {
          "annotationdefaults": {
           "arrowcolor": "#2a3f5f",
           "arrowhead": 0,
           "arrowwidth": 1
          },
          "autotypenumbers": "strict",
          "coloraxis": {
           "colorbar": {
            "outlinewidth": 0,
            "ticks": ""
           }
          },
          "colorscale": {
           "diverging": [
            [
             0,
             "#8e0152"
            ],
            [
             0.1,
             "#c51b7d"
            ],
            [
             0.2,
             "#de77ae"
            ],
            [
             0.3,
             "#f1b6da"
            ],
            [
             0.4,
             "#fde0ef"
            ],
            [
             0.5,
             "#f7f7f7"
            ],
            [
             0.6,
             "#e6f5d0"
            ],
            [
             0.7,
             "#b8e186"
            ],
            [
             0.8,
             "#7fbc41"
            ],
            [
             0.9,
             "#4d9221"
            ],
            [
             1,
             "#276419"
            ]
           ],
           "sequential": [
            [
             0,
             "#0d0887"
            ],
            [
             0.1111111111111111,
             "#46039f"
            ],
            [
             0.2222222222222222,
             "#7201a8"
            ],
            [
             0.3333333333333333,
             "#9c179e"
            ],
            [
             0.4444444444444444,
             "#bd3786"
            ],
            [
             0.5555555555555556,
             "#d8576b"
            ],
            [
             0.6666666666666666,
             "#ed7953"
            ],
            [
             0.7777777777777778,
             "#fb9f3a"
            ],
            [
             0.8888888888888888,
             "#fdca26"
            ],
            [
             1,
             "#f0f921"
            ]
           ],
           "sequentialminus": [
            [
             0,
             "#0d0887"
            ],
            [
             0.1111111111111111,
             "#46039f"
            ],
            [
             0.2222222222222222,
             "#7201a8"
            ],
            [
             0.3333333333333333,
             "#9c179e"
            ],
            [
             0.4444444444444444,
             "#bd3786"
            ],
            [
             0.5555555555555556,
             "#d8576b"
            ],
            [
             0.6666666666666666,
             "#ed7953"
            ],
            [
             0.7777777777777778,
             "#fb9f3a"
            ],
            [
             0.8888888888888888,
             "#fdca26"
            ],
            [
             1,
             "#f0f921"
            ]
           ]
          },
          "colorway": [
           "#636efa",
           "#EF553B",
           "#00cc96",
           "#ab63fa",
           "#FFA15A",
           "#19d3f3",
           "#FF6692",
           "#B6E880",
           "#FF97FF",
           "#FECB52"
          ],
          "font": {
           "color": "#2a3f5f"
          },
          "geo": {
           "bgcolor": "white",
           "lakecolor": "white",
           "landcolor": "#E5ECF6",
           "showlakes": true,
           "showland": true,
           "subunitcolor": "white"
          },
          "hoverlabel": {
           "align": "left"
          },
          "hovermode": "closest",
          "mapbox": {
           "style": "light"
          },
          "paper_bgcolor": "white",
          "plot_bgcolor": "#E5ECF6",
          "polar": {
           "angularaxis": {
            "gridcolor": "white",
            "linecolor": "white",
            "ticks": ""
           },
           "bgcolor": "#E5ECF6",
           "radialaxis": {
            "gridcolor": "white",
            "linecolor": "white",
            "ticks": ""
           }
          },
          "scene": {
           "xaxis": {
            "backgroundcolor": "#E5ECF6",
            "gridcolor": "white",
            "gridwidth": 2,
            "linecolor": "white",
            "showbackground": true,
            "ticks": "",
            "zerolinecolor": "white"
           },
           "yaxis": {
            "backgroundcolor": "#E5ECF6",
            "gridcolor": "white",
            "gridwidth": 2,
            "linecolor": "white",
            "showbackground": true,
            "ticks": "",
            "zerolinecolor": "white"
           },
           "zaxis": {
            "backgroundcolor": "#E5ECF6",
            "gridcolor": "white",
            "gridwidth": 2,
            "linecolor": "white",
            "showbackground": true,
            "ticks": "",
            "zerolinecolor": "white"
           }
          },
          "shapedefaults": {
           "line": {
            "color": "#2a3f5f"
           }
          },
          "ternary": {
           "aaxis": {
            "gridcolor": "white",
            "linecolor": "white",
            "ticks": ""
           },
           "baxis": {
            "gridcolor": "white",
            "linecolor": "white",
            "ticks": ""
           },
           "bgcolor": "#E5ECF6",
           "caxis": {
            "gridcolor": "white",
            "linecolor": "white",
            "ticks": ""
           }
          },
          "title": {
           "x": 0.05
          },
          "xaxis": {
           "automargin": true,
           "gridcolor": "white",
           "linecolor": "white",
           "ticks": "",
           "title": {
            "standoff": 15
           },
           "zerolinecolor": "white",
           "zerolinewidth": 2
          },
          "yaxis": {
           "automargin": true,
           "gridcolor": "white",
           "linecolor": "white",
           "ticks": "",
           "title": {
            "standoff": 15
           },
           "zerolinecolor": "white",
           "zerolinewidth": 2
          }
         }
        }
       }
      }
     },
     "metadata": {},
     "output_type": "display_data"
    }
   ],
   "source": [
    "\n",
    "fig = go.Figure(data=go.Scatterpolar(\n",
    "        r=company1_list,\n",
    "        theta=['Level of Cocoa', 'Rating', 'Number of Ingredients', 'Number of Tastes'],\n",
    "        fill='toself', \n",
    "        marker_color = 'rgb(205,102,29)',   \n",
    "        opacity =1, \n",
    "        hoverinfo = \"text\" ,\n",
    "        name = company1,\n",
    "        text  = [company1_df.columns[i] + ' = ' + str(company1_df.iloc[0,i]) for i in range(len(company1_list))]\n",
    "    ), layout = Layout(\n",
    "    paper_bgcolor='rgba(0,0,0,0)',\n",
    "    plot_bgcolor='rgba(0,0,0,0)'))\n",
    "fig.add_trace(go.Scatterpolar(\n",
    "        r=company2_list,\n",
    "        theta=['Level of Cocoa', 'Rating', 'Number of Ingredients', 'Number of Tastes'],\n",
    "        fill='toself',\n",
    "        marker_color = 'rgb(193,255,193)',\n",
    "        hoverinfo = \"text\" ,\n",
    "        name= company2,\n",
    "        text  = [company2_df.columns[i] + ' = ' + str(company2_df.iloc[0,i]) for i in range(len(company2_list))]\n",
    "        ))\n",
    "\n",
    "fig.update_layout(\n",
    "  polar=dict(\n",
    "    radialaxis=dict(\n",
    "      visible=True,\n",
    "      range=[0, 5]\n",
    "    )),\n",
    "  showlegend=True\n",
    ")\n",
    "\n",
    "fig.show()"
   ]
  },
  {
   "cell_type": "code",
   "execution_count": 204,
   "metadata": {},
   "outputs": [],
   "source": [
    "companies = list(data['company'].unique())\n",
    "#companies"
   ]
  },
  {
   "cell_type": "markdown",
   "metadata": {},
   "source": [
    "### Radar plot - MatplotLib"
   ]
  },
  {
   "cell_type": "code",
   "execution_count": 205,
   "metadata": {},
   "outputs": [
    {
     "data": {
      "image/png": "[encoded data removed]",
      "text/plain": [
       "<Figure size 576x576 with 1 Axes>"
      ]
     },
     "metadata": {
      "needs_background": "light"
     },
     "output_type": "display_data"
    }
   ],
   "source": [
    "#categories = ['Food Quality', 'Food Variety', 'Service Quality', 'Ambiance', 'Affordability']\n",
    "\n",
    "\n",
    "label_loc = np.linspace(start=0, stop=2 * np.pi, num=len(feat_radar))\n",
    "\n",
    "plt.figure(figsize=(8, 8))\n",
    "plt.subplot(polar=True)\n",
    "plt.plot(label_loc, company1_list, label=company1)\n",
    "plt.plot(label_loc, company2_list, label=company2)\n",
    "plt.title('Company comparison', size=20)\n",
    "lines, labels = plt.thetagrids(np.degrees(label_loc), labels=feat_radar)\n",
    "plt.legend()\n",
    "plt.show()"
   ]
  },
  {
   "cell_type": "code",
   "execution_count": 206,
   "metadata": {},
   "outputs": [
    {
     "data": {
      "image/png": "[encoded data removed]",
      "text/plain": [
       "<Figure size 432x288 with 1 Axes>"
      ]
     },
     "metadata": {},
     "output_type": "display_data"
    }
   ],
   "source": [
    "# number of variable\n",
    "categories=list(radar)[1:]\n",
    "N = len(categories)\n",
    " \n",
    "# What will be the angle of each axis in the plot? (we divide the plot / number of variable)\n",
    "angles = [n / float(N) * 2 * np.pi for n in range(N)]\n",
    "angles += angles[:1]\n",
    " \n",
    "# Initialise the spider plot\n",
    "ax = plt.subplot(111, polar=True)\n",
    " \n",
    "# If you want the first axis to be on top:\n",
    "ax.set_theta_offset(np.pi / 2)\n",
    "ax.set_theta_direction(-1)\n",
    " \n",
    "# Draw one axe per variable + add labels\n",
    "plt.xticks(angles[:-1], categories)\n",
    " \n",
    "# Draw ylabels\n",
    "ax.set_rlabel_position(0)\n",
    "plt.yticks([10,20,30], [\"10\",\"20\",\"30\"], color=\"grey\", size=7)\n",
    "plt.ylim(0,40)\n",
    " \n",
    "# labels = [\n",
    "#     range(0,101), range(0,6), range(0,11), \n",
    "#    range(0,5)]\n",
    "\n",
    "# ------- PART 2: Add plots\n",
    " \n",
    "# Plot each individual = each line of the data\n",
    "# I don't make a loop, because plotting more than 3 groups makes the chart unreadable\n",
    " \n",
    "# Ind1\n",
    "values=radar.iloc[0].drop('company_name').values.flatten().tolist()\n",
    "values += values[:1]\n",
    "ax.plot(angles, values, linewidth=1, linestyle='solid', label=company1)\n",
    "ax.fill(angles, values, 'b', alpha=0.1)\n",
    " \n",
    "# Ind2\n",
    "values=radar.iloc[1].drop('company_name').values.flatten().tolist()\n",
    "values += values[:1]\n",
    "ax.plot(angles, values, linewidth=1, linestyle='solid', label=company2)\n",
    "ax.fill(angles, values, 'r', alpha=0.1)\n",
    " \n",
    "# Add legend\n",
    "plt.legend(loc='upper right', bbox_to_anchor=(0.1, 0.1))\n",
    "\n",
    "# Show the graph\n",
    "plt.show()"
   ]
  },
  {
   "cell_type": "code",
   "execution_count": 207,
   "metadata": {},
   "outputs": [
    {
     "data": {
      "text/plain": [
       "cocoa_level               3.8\n",
       "rating                    3.5\n",
       "counts_of_ingredients       3\n",
       "count_tastes                3\n",
       "company_name             5150\n",
       "Name: 5150, dtype: object"
      ]
     },
     "execution_count": 207,
     "metadata": {},
     "output_type": "execute_result"
    }
   ],
   "source": [
    "radar.iloc[0]"
   ]
  },
  {
   "cell_type": "markdown",
   "metadata": {},
   "source": [
    "### Parallel Coordinates Plot\n"
   ]
  },
  {
   "cell_type": "code",
   "execution_count": 208,
   "metadata": {},
   "outputs": [],
   "source": [
    "company1 = 'Ah Cacao'\n",
    "company2 = 'Zotter'\n"
   ]
  },
  {
   "cell_type": "code",
   "execution_count": 209,
   "metadata": {},
   "outputs": [
    {
     "data": {
      "text/plain": [
       "0           5150\n",
       "1           5150\n",
       "2           5150\n",
       "3       A. Morin\n",
       "4       A. Morin\n",
       "          ...   \n",
       "2207      Zotter\n",
       "2208      Zotter\n",
       "2210      Zotter\n",
       "2211      Zotter\n",
       "2212      Zotter\n",
       "Name: company, Length: 2074, dtype: object"
      ]
     },
     "execution_count": 209,
     "metadata": {},
     "output_type": "execute_result"
    }
   ],
   "source": [
    "data.company"
   ]
  },
  {
   "cell_type": "code",
   "execution_count": 210,
   "metadata": {},
   "outputs": [],
   "source": [
    "parallel_coord = test_taste[test_taste['company'].isin([company1,company2])]"
   ]
  },
  {
   "cell_type": "code",
   "execution_count": 211,
   "metadata": {},
   "outputs": [],
   "source": [
    "filter_company = lambda x: 1 if x == company1 else 2"
   ]
  },
  {
   "cell_type": "code",
   "execution_count": 212,
   "metadata": {},
   "outputs": [],
   "source": [
    "parallel_coord['company_number'] = parallel_coord['company'].apply(filter_company)"
   ]
  },
  {
   "cell_type": "code",
   "execution_count": 213,
   "metadata": {},
   "outputs": [
    {
     "data": {
      "text/html": [
       "<div>\n",
       "<style scoped>\n",
       "    .dataframe tbody tr th:only-of-type {\n",
       "        vertical-align: middle;\n",
       "    }\n",
       "\n",
       "    .dataframe tbody tr th {\n",
       "        vertical-align: top;\n",
       "    }\n",
       "\n",
       "    .dataframe thead th {\n",
       "        text-align: right;\n",
       "    }\n",
       "</style>\n",
       "<table border=\"1\" class=\"dataframe\">\n",
       "  <thead>\n",
       "    <tr style=\"text-align: right;\">\n",
       "      <th></th>\n",
       "      <th>ref</th>\n",
       "      <th>company</th>\n",
       "      <th>company_location</th>\n",
       "      <th>review_date</th>\n",
       "      <th>country_of_bean_origin</th>\n",
       "      <th>specific_bean_origin_or_bar_name</th>\n",
       "      <th>cocoa_percent</th>\n",
       "      <th>rating</th>\n",
       "      <th>counts_of_ingredients</th>\n",
       "      <th>beans</th>\n",
       "      <th>...</th>\n",
       "      <th>country_y</th>\n",
       "      <th>bean_continent</th>\n",
       "      <th>bean_region</th>\n",
       "      <th>bean_code_2</th>\n",
       "      <th>binFirst_taste</th>\n",
       "      <th>binSecond_taste</th>\n",
       "      <th>binThird_taste</th>\n",
       "      <th>binFourth_taste</th>\n",
       "      <th>count_tastes</th>\n",
       "      <th>company_number</th>\n",
       "    </tr>\n",
       "  </thead>\n",
       "  <tbody>\n",
       "    <tr>\n",
       "      <th>42</th>\n",
       "      <td>316</td>\n",
       "      <td>Ah Cacao</td>\n",
       "      <td>Mexico</td>\n",
       "      <td>2009</td>\n",
       "      <td>Mexico</td>\n",
       "      <td>Tabasco</td>\n",
       "      <td>70.0</td>\n",
       "      <td>3.00</td>\n",
       "      <td>3</td>\n",
       "      <td>have_bean</td>\n",
       "      <td>...</td>\n",
       "      <td>Mexico</td>\n",
       "      <td>Americas</td>\n",
       "      <td>Central America</td>\n",
       "      <td>MX</td>\n",
       "      <td>1</td>\n",
       "      <td>1</td>\n",
       "      <td>1</td>\n",
       "      <td>0</td>\n",
       "      <td>3</td>\n",
       "      <td>1</td>\n",
       "    </tr>\n",
       "    <tr>\n",
       "      <th>2193</th>\n",
       "      <td>486</td>\n",
       "      <td>Zotter</td>\n",
       "      <td>Austria</td>\n",
       "      <td>2010</td>\n",
       "      <td>Brazil</td>\n",
       "      <td>Brazil, Mitzi Blue</td>\n",
       "      <td>65.0</td>\n",
       "      <td>3.00</td>\n",
       "      <td>4</td>\n",
       "      <td>have_bean</td>\n",
       "      <td>...</td>\n",
       "      <td>Brazil</td>\n",
       "      <td>Americas</td>\n",
       "      <td>South America</td>\n",
       "      <td>BR</td>\n",
       "      <td>1</td>\n",
       "      <td>1</td>\n",
       "      <td>0</td>\n",
       "      <td>0</td>\n",
       "      <td>2</td>\n",
       "      <td>2</td>\n",
       "    </tr>\n",
       "    <tr>\n",
       "      <th>2194</th>\n",
       "      <td>647</td>\n",
       "      <td>Zotter</td>\n",
       "      <td>Austria</td>\n",
       "      <td>2011</td>\n",
       "      <td>Peru</td>\n",
       "      <td>Peru</td>\n",
       "      <td>70.0</td>\n",
       "      <td>3.75</td>\n",
       "      <td>4</td>\n",
       "      <td>have_bean</td>\n",
       "      <td>...</td>\n",
       "      <td>Peru</td>\n",
       "      <td>Americas</td>\n",
       "      <td>South America</td>\n",
       "      <td>PE</td>\n",
       "      <td>1</td>\n",
       "      <td>1</td>\n",
       "      <td>1</td>\n",
       "      <td>0</td>\n",
       "      <td>3</td>\n",
       "      <td>2</td>\n",
       "    </tr>\n",
       "    <tr>\n",
       "      <th>2195</th>\n",
       "      <td>749</td>\n",
       "      <td>Zotter</td>\n",
       "      <td>Austria</td>\n",
       "      <td>2011</td>\n",
       "      <td>India</td>\n",
       "      <td>Kerala State</td>\n",
       "      <td>65.0</td>\n",
       "      <td>3.50</td>\n",
       "      <td>4</td>\n",
       "      <td>have_bean</td>\n",
       "      <td>...</td>\n",
       "      <td>India</td>\n",
       "      <td>Asia</td>\n",
       "      <td>Southern Asia</td>\n",
       "      <td>IN</td>\n",
       "      <td>1</td>\n",
       "      <td>1</td>\n",
       "      <td>1</td>\n",
       "      <td>0</td>\n",
       "      <td>3</td>\n",
       "      <td>2</td>\n",
       "    </tr>\n",
       "    <tr>\n",
       "      <th>2196</th>\n",
       "      <td>781</td>\n",
       "      <td>Zotter</td>\n",
       "      <td>Austria</td>\n",
       "      <td>2011</td>\n",
       "      <td>India</td>\n",
       "      <td>Kerala State</td>\n",
       "      <td>62.0</td>\n",
       "      <td>3.25</td>\n",
       "      <td>4</td>\n",
       "      <td>have_bean</td>\n",
       "      <td>...</td>\n",
       "      <td>India</td>\n",
       "      <td>Asia</td>\n",
       "      <td>Southern Asia</td>\n",
       "      <td>IN</td>\n",
       "      <td>1</td>\n",
       "      <td>1</td>\n",
       "      <td>1</td>\n",
       "      <td>1</td>\n",
       "      <td>4</td>\n",
       "      <td>2</td>\n",
       "    </tr>\n",
       "  </tbody>\n",
       "</table>\n",
       "<p>5 rows × 34 columns</p>\n",
       "</div>"
      ],
      "text/plain": [
       "      ref   company company_location  review_date country_of_bean_origin  \\\n",
       "42    316  Ah Cacao           Mexico         2009                 Mexico   \n",
       "2193  486    Zotter          Austria         2010                 Brazil   \n",
       "2194  647    Zotter          Austria         2011                   Peru   \n",
       "2195  749    Zotter          Austria         2011                  India   \n",
       "2196  781    Zotter          Austria         2011                  India   \n",
       "\n",
       "     specific_bean_origin_or_bar_name  cocoa_percent  rating  \\\n",
       "42                            Tabasco           70.0    3.00   \n",
       "2193               Brazil, Mitzi Blue           65.0    3.00   \n",
       "2194                             Peru           70.0    3.75   \n",
       "2195                     Kerala State           65.0    3.50   \n",
       "2196                     Kerala State           62.0    3.25   \n",
       "\n",
       "      counts_of_ingredients      beans  ... country_y bean_continent  \\\n",
       "42                        3  have_bean  ...    Mexico       Americas   \n",
       "2193                      4  have_bean  ...    Brazil       Americas   \n",
       "2194                      4  have_bean  ...      Peru       Americas   \n",
       "2195                      4  have_bean  ...     India           Asia   \n",
       "2196                      4  have_bean  ...     India           Asia   \n",
       "\n",
       "          bean_region bean_code_2 binFirst_taste binSecond_taste  \\\n",
       "42    Central America          MX              1               1   \n",
       "2193    South America          BR              1               1   \n",
       "2194    South America          PE              1               1   \n",
       "2195    Southern Asia          IN              1               1   \n",
       "2196    Southern Asia          IN              1               1   \n",
       "\n",
       "     binThird_taste binFourth_taste count_tastes company_number  \n",
       "42                1               0            3              1  \n",
       "2193              0               0            2              2  \n",
       "2194              1               0            3              2  \n",
       "2195              1               0            3              2  \n",
       "2196              1               1            4              2  \n",
       "\n",
       "[5 rows x 34 columns]"
      ]
     },
     "execution_count": 213,
     "metadata": {},
     "output_type": "execute_result"
    }
   ],
   "source": [
    "parallel_coord.head()"
   ]
  },
  {
   "cell_type": "markdown",
   "metadata": {},
   "source": [
    "### Scatter Plot"
   ]
  },
  {
   "cell_type": "code",
   "execution_count": 214,
   "metadata": {},
   "outputs": [
    {
     "data": {
      "application/vnd.plotly.v1+json": {
       "config": {
        "plotlyServerURL": "https://plot.ly"
       },
       "data": [
        {
         "customdata": [
          [
           "Ah Cacao"
          ]
         ],
         "hovertemplate": "company_number=1<br>count_tastes=%{x}<br>counts_of_ingredients=%{y}<br>rating=%{marker.size}<br>company=%{customdata[0]}<br>cocoa_percent=%{marker.color}<extra></extra>",
         "legendgroup": "1",
         "marker": {
          "color": [
           70
          ],
          "coloraxis": "coloraxis",
          "size": [
           3
          ],
          "sizemode": "area",
          "sizeref": 0.009375,
          "symbol": "circle"
         },
         "mode": "markers",
         "name": "1",
         "orientation": "v",
         "showlegend": true,
         "type": "scatter",
         "x": [
          3
         ],
         "xaxis": "x",
         "y": [
          3
         ],
         "yaxis": "y"
        },
        {
         "customdata": [
          [
           "Zotter"
          ],
          [
           "Zotter"
          ],
          [
           "Zotter"
          ],
          [
           "Zotter"
          ],
          [
           "Zotter"
          ],
          [
           "Zotter"
          ],
          [
           "Zotter"
          ],
          [
           "Zotter"
          ],
          [
           "Zotter"
          ],
          [
           "Zotter"
          ],
          [
           "Zotter"
          ],
          [
           "Zotter"
          ],
          [
           "Zotter"
          ],
          [
           "Zotter"
          ],
          [
           "Zotter"
          ],
          [
           "Zotter"
          ],
          [
           "Zotter"
          ]
         ],
         "hovertemplate": "company_number=2<br>count_tastes=%{x}<br>counts_of_ingredients=%{y}<br>rating=%{marker.size}<br>company=%{customdata[0]}<br>cocoa_percent=%{marker.color}<extra></extra>",
         "legendgroup": "2",
         "marker": {
          "color": [
           65,
           70,
           65,
           62,
           65,
           62,
           70,
           72,
           70,
           90,
           68,
           70,
           75,
           75,
           75,
           72,
           70
          ],
          "coloraxis": "coloraxis",
          "size": [
           3,
           3.75,
           3.5,
           3.25,
           3,
           3.75,
           3.75,
           3.5,
           3.5,
           3.25,
           3.25,
           3,
           3,
           3,
           3.75,
           3.5,
           3.25
          ],
          "sizemode": "area",
          "sizeref": 0.009375,
          "symbol": "diamond"
         },
         "mode": "markers",
         "name": "2",
         "orientation": "v",
         "showlegend": true,
         "type": "scatter",
         "x": [
          2,
          3,
          3,
          4,
          3,
          4,
          2,
          4,
          2,
          2,
          4,
          3,
          3,
          2,
          2,
          3,
          3
         ],
         "xaxis": "x",
         "y": [
          4,
          4,
          4,
          4,
          4,
          4,
          4,
          4,
          4,
          4,
          4,
          4,
          4,
          4,
          3,
          3,
          3
         ],
         "yaxis": "y"
        }
       ],
       "layout": {
        "coloraxis": {
         "colorbar": {
          "title": {
           "text": "cocoa_percent"
          }
         },
         "colorscale": [
          [
           0,
           "#0d0887"
          ],
          [
           0.1111111111111111,
           "#46039f"
          ],
          [
           0.2222222222222222,
           "#7201a8"
          ],
          [
           0.3333333333333333,
           "#9c179e"
          ],
          [
           0.4444444444444444,
           "#bd3786"
          ],
          [
           0.5555555555555556,
           "#d8576b"
          ],
          [
           0.6666666666666666,
           "#ed7953"
          ],
          [
           0.7777777777777778,
           "#fb9f3a"
          ],
          [
           0.8888888888888888,
           "#fdca26"
          ],
          [
           1,
           "#f0f921"
          ]
         ]
        },
        "legend": {
         "itemsizing": "constant",
         "title": {
          "text": "company_number"
         },
         "tracegroupgap": 0
        },
        "margin": {
         "t": 60
        },
        "template": {
         "data": {
          "bar": [
           {
            "error_x": {
             "color": "#2a3f5f"
            },
            "error_y": {
             "color": "#2a3f5f"
            },
            "marker": {
             "line": {
              "color": "#E5ECF6",
              "width": 0.5
             },
             "pattern": {
              "fillmode": "overlay",
              "size": 10,
              "solidity": 0.2
             }
            },
            "type": "bar"
           }
          ],
          "barpolar": [
           {
            "marker": {
             "line": {
              "color": "#E5ECF6",
              "width": 0.5
             },
             "pattern": {
              "fillmode": "overlay",
              "size": 10,
              "solidity": 0.2
             }
            },
            "type": "barpolar"
           }
          ],
          "carpet": [
           {
            "aaxis": {
             "endlinecolor": "#2a3f5f",
             "gridcolor": "white",
             "linecolor": "white",
             "minorgridcolor": "white",
             "startlinecolor": "#2a3f5f"
            },
            "baxis": {
             "endlinecolor": "#2a3f5f",
             "gridcolor": "white",
             "linecolor": "white",
             "minorgridcolor": "white",
             "startlinecolor": "#2a3f5f"
            },
            "type": "carpet"
           }
          ],
          "choropleth": [
           {
            "colorbar": {
             "outlinewidth": 0,
             "ticks": ""
            },
            "type": "choropleth"
           }
          ],
          "contour": [
           {
            "colorbar": {
             "outlinewidth": 0,
             "ticks": ""
            },
            "colorscale": [
             [
              0,
              "#0d0887"
             ],
             [
              0.1111111111111111,
              "#46039f"
             ],
             [
              0.2222222222222222,
              "#7201a8"
             ],
             [
              0.3333333333333333,
              "#9c179e"
             ],
             [
              0.4444444444444444,
              "#bd3786"
             ],
             [
              0.5555555555555556,
              "#d8576b"
             ],
             [
              0.6666666666666666,
              "#ed7953"
             ],
             [
              0.7777777777777778,
              "#fb9f3a"
             ],
             [
              0.8888888888888888,
              "#fdca26"
             ],
             [
              1,
              "#f0f921"
             ]
            ],
            "type": "contour"
           }
          ],
          "contourcarpet": [
           {
            "colorbar": {
             "outlinewidth": 0,
             "ticks": ""
            },
            "type": "contourcarpet"
           }
          ],
          "heatmap": [
           {
            "colorbar": {
             "outlinewidth": 0,
             "ticks": ""
            },
            "colorscale": [
             [
              0,
              "#0d0887"
             ],
             [
              0.1111111111111111,
              "#46039f"
             ],
             [
              0.2222222222222222,
              "#7201a8"
             ],
             [
              0.3333333333333333,
              "#9c179e"
             ],
             [
              0.4444444444444444,
              "#bd3786"
             ],
             [
              0.5555555555555556,
              "#d8576b"
             ],
             [
              0.6666666666666666,
              "#ed7953"
             ],
             [
              0.7777777777777778,
              "#fb9f3a"
             ],
             [
              0.8888888888888888,
              "#fdca26"
             ],
             [
              1,
              "#f0f921"
             ]
            ],
            "type": "heatmap"
           }
          ],
          "heatmapgl": [
           {
            "colorbar": {
             "outlinewidth": 0,
             "ticks": ""
            },
            "colorscale": [
             [
              0,
              "#0d0887"
             ],
             [
              0.1111111111111111,
              "#46039f"
             ],
             [
              0.2222222222222222,
              "#7201a8"
             ],
             [
              0.3333333333333333,
              "#9c179e"
             ],
             [
              0.4444444444444444,
              "#bd3786"
             ],
             [
              0.5555555555555556,
              "#d8576b"
             ],
             [
              0.6666666666666666,
              "#ed7953"
             ],
             [
              0.7777777777777778,
              "#fb9f3a"
             ],
             [
              0.8888888888888888,
              "#fdca26"
             ],
             [
              1,
              "#f0f921"
             ]
            ],
            "type": "heatmapgl"
           }
          ],
          "histogram": [
           {
            "marker": {
             "pattern": {
              "fillmode": "overlay",
              "size": 10,
              "solidity": 0.2
             }
            },
            "type": "histogram"
           }
          ],
          "histogram2d": [
           {
            "colorbar": {
             "outlinewidth": 0,
             "ticks": ""
            },
            "colorscale": [
             [
              0,
              "#0d0887"
             ],
             [
              0.1111111111111111,
              "#46039f"
             ],
             [
              0.2222222222222222,
              "#7201a8"
             ],
             [
              0.3333333333333333,
              "#9c179e"
             ],
             [
              0.4444444444444444,
              "#bd3786"
             ],
             [
              0.5555555555555556,
              "#d8576b"
             ],
             [
              0.6666666666666666,
              "#ed7953"
             ],
             [
              0.7777777777777778,
              "#fb9f3a"
             ],
             [
              0.8888888888888888,
              "#fdca26"
             ],
             [
              1,
              "#f0f921"
             ]
            ],
            "type": "histogram2d"
           }
          ],
          "histogram2dcontour": [
           {
            "colorbar": {
             "outlinewidth": 0,
             "ticks": ""
            },
            "colorscale": [
             [
              0,
              "#0d0887"
             ],
             [
              0.1111111111111111,
              "#46039f"
             ],
             [
              0.2222222222222222,
              "#7201a8"
             ],
             [
              0.3333333333333333,
              "#9c179e"
             ],
             [
              0.4444444444444444,
              "#bd3786"
             ],
             [
              0.5555555555555556,
              "#d8576b"
             ],
             [
              0.6666666666666666,
              "#ed7953"
             ],
             [
              0.7777777777777778,
              "#fb9f3a"
             ],
             [
              0.8888888888888888,
              "#fdca26"
             ],
             [
              1,
              "#f0f921"
             ]
            ],
            "type": "histogram2dcontour"
           }
          ],
          "mesh3d": [
           {
            "colorbar": {
             "outlinewidth": 0,
             "ticks": ""
            },
            "type": "mesh3d"
           }
          ],
          "parcoords": [
           {
            "line": {
             "colorbar": {
              "outlinewidth": 0,
              "ticks": ""
             }
            },
            "type": "parcoords"
           }
          ],
          "pie": [
           {
            "automargin": true,
            "type": "pie"
           }
          ],
          "scatter": [
           {
            "marker": {
             "colorbar": {
              "outlinewidth": 0,
              "ticks": ""
             }
            },
            "type": "scatter"
           }
          ],
          "scatter3d": [
           {
            "line": {
             "colorbar": {
              "outlinewidth": 0,
              "ticks": ""
             }
            },
            "marker": {
             "colorbar": {
              "outlinewidth": 0,
              "ticks": ""
             }
            },
            "type": "scatter3d"
           }
          ],
          "scattercarpet": [
           {
            "marker": {
             "colorbar": {
              "outlinewidth": 0,
              "ticks": ""
             }
            },
            "type": "scattercarpet"
           }
          ],
          "scattergeo": [
           {
            "marker": {
             "colorbar": {
              "outlinewidth": 0,
              "ticks": ""
             }
            },
            "type": "scattergeo"
           }
          ],
          "scattergl": [
           {
            "marker": {
             "colorbar": {
              "outlinewidth": 0,
              "ticks": ""
             }
            },
            "type": "scattergl"
           }
          ],
          "scattermapbox": [
           {
            "marker": {
             "colorbar": {
              "outlinewidth": 0,
              "ticks": ""
             }
            },
            "type": "scattermapbox"
           }
          ],
          "scatterpolar": [
           {
            "marker": {
             "colorbar": {
              "outlinewidth": 0,
              "ticks": ""
             }
            },
            "type": "scatterpolar"
           }
          ],
          "scatterpolargl": [
           {
            "marker": {
             "colorbar": {
              "outlinewidth": 0,
              "ticks": ""
             }
            },
            "type": "scatterpolargl"
           }
          ],
          "scatterternary": [
           {
            "marker": {
             "colorbar": {
              "outlinewidth": 0,
              "ticks": ""
             }
            },
            "type": "scatterternary"
           }
          ],
          "surface": [
           {
            "colorbar": {
             "outlinewidth": 0,
             "ticks": ""
            },
            "colorscale": [
             [
              0,
              "#0d0887"
             ],
             [
              0.1111111111111111,
              "#46039f"
             ],
             [
              0.2222222222222222,
              "#7201a8"
             ],
             [
              0.3333333333333333,
              "#9c179e"
             ],
             [
              0.4444444444444444,
              "#bd3786"
             ],
             [
              0.5555555555555556,
              "#d8576b"
             ],
             [
              0.6666666666666666,
              "#ed7953"
             ],
             [
              0.7777777777777778,
              "#fb9f3a"
             ],
             [
              0.8888888888888888,
              "#fdca26"
             ],
             [
              1,
              "#f0f921"
             ]
            ],
            "type": "surface"
           }
          ],
          "table": [
           {
            "cells": {
             "fill": {
              "color": "#EBF0F8"
             },
             "line": {
              "color": "white"
             }
            },
            "header": {
             "fill": {
              "color": "#C8D4E3"
             },
             "line": {
              "color": "white"
             }
            },
            "type": "table"
           }
          ]
         },
         "layout": {
          "annotationdefaults": {
           "arrowcolor": "#2a3f5f",
           "arrowhead": 0,
           "arrowwidth": 1
          },
          "autotypenumbers": "strict",
          "coloraxis": {
           "colorbar": {
            "outlinewidth": 0,
            "ticks": ""
           }
          },
          "colorscale": {
           "diverging": [
            [
             0,
             "#8e0152"
            ],
            [
             0.1,
             "#c51b7d"
            ],
            [
             0.2,
             "#de77ae"
            ],
            [
             0.3,
             "#f1b6da"
            ],
            [
             0.4,
             "#fde0ef"
            ],
            [
             0.5,
             "#f7f7f7"
            ],
            [
             0.6,
             "#e6f5d0"
            ],
            [
             0.7,
             "#b8e186"
            ],
            [
             0.8,
             "#7fbc41"
            ],
            [
             0.9,
             "#4d9221"
            ],
            [
             1,
             "#276419"
            ]
           ],
           "sequential": [
            [
             0,
             "#0d0887"
            ],
            [
             0.1111111111111111,
             "#46039f"
            ],
            [
             0.2222222222222222,
             "#7201a8"
            ],
            [
             0.3333333333333333,
             "#9c179e"
            ],
            [
             0.4444444444444444,
             "#bd3786"
            ],
            [
             0.5555555555555556,
             "#d8576b"
            ],
            [
             0.6666666666666666,
             "#ed7953"
            ],
            [
             0.7777777777777778,
             "#fb9f3a"
            ],
            [
             0.8888888888888888,
             "#fdca26"
            ],
            [
             1,
             "#f0f921"
            ]
           ],
           "sequentialminus": [
            [
             0,
             "#0d0887"
            ],
            [
             0.1111111111111111,
             "#46039f"
            ],
            [
             0.2222222222222222,
             "#7201a8"
            ],
            [
             0.3333333333333333,
             "#9c179e"
            ],
            [
             0.4444444444444444,
             "#bd3786"
            ],
            [
             0.5555555555555556,
             "#d8576b"
            ],
            [
             0.6666666666666666,
             "#ed7953"
            ],
            [
             0.7777777777777778,
             "#fb9f3a"
            ],
            [
             0.8888888888888888,
             "#fdca26"
            ],
            [
             1,
             "#f0f921"
            ]
           ]
          },
          "colorway": [
           "#636efa",
           "#EF553B",
           "#00cc96",
           "#ab63fa",
           "#FFA15A",
           "#19d3f3",
           "#FF6692",
           "#B6E880",
           "#FF97FF",
           "#FECB52"
          ],
          "font": {
           "color": "#2a3f5f"
          },
          "geo": {
           "bgcolor": "white",
           "lakecolor": "white",
           "landcolor": "#E5ECF6",
           "showlakes": true,
           "showland": true,
           "subunitcolor": "white"
          },
          "hoverlabel": {
           "align": "left"
          },
          "hovermode": "closest",
          "mapbox": {
           "style": "light"
          },
          "paper_bgcolor": "white",
          "plot_bgcolor": "#E5ECF6",
          "polar": {
           "angularaxis": {
            "gridcolor": "white",
            "linecolor": "white",
            "ticks": ""
           },
           "bgcolor": "#E5ECF6",
           "radialaxis": {
            "gridcolor": "white",
            "linecolor": "white",
            "ticks": ""
           }
          },
          "scene": {
           "xaxis": {
            "backgroundcolor": "#E5ECF6",
            "gridcolor": "white",
            "gridwidth": 2,
            "linecolor": "white",
            "showbackground": true,
            "ticks": "",
            "zerolinecolor": "white"
           },
           "yaxis": {
            "backgroundcolor": "#E5ECF6",
            "gridcolor": "white",
            "gridwidth": 2,
            "linecolor": "white",
            "showbackground": true,
            "ticks": "",
            "zerolinecolor": "white"
           },
           "zaxis": {
            "backgroundcolor": "#E5ECF6",
            "gridcolor": "white",
            "gridwidth": 2,
            "linecolor": "white",
            "showbackground": true,
            "ticks": "",
            "zerolinecolor": "white"
           }
          },
          "shapedefaults": {
           "line": {
            "color": "#2a3f5f"
           }
          },
          "ternary": {
           "aaxis": {
            "gridcolor": "white",
            "linecolor": "white",
            "ticks": ""
           },
           "baxis": {
            "gridcolor": "white",
            "linecolor": "white",
            "ticks": ""
           },
           "bgcolor": "#E5ECF6",
           "caxis": {
            "gridcolor": "white",
            "linecolor": "white",
            "ticks": ""
           }
          },
          "title": {
           "x": 0.05
          },
          "xaxis": {
           "automargin": true,
           "gridcolor": "white",
           "linecolor": "white",
           "ticks": "",
           "title": {
            "standoff": 15
           },
           "zerolinecolor": "white",
           "zerolinewidth": 2
          },
          "yaxis": {
           "automargin": true,
           "gridcolor": "white",
           "linecolor": "white",
           "ticks": "",
           "title": {
            "standoff": 15
           },
           "zerolinecolor": "white",
           "zerolinewidth": 2
          }
         }
        },
        "xaxis": {
         "anchor": "y",
         "domain": [
          0,
          1
         ],
         "title": {
          "text": "count_tastes"
         }
        },
        "yaxis": {
         "anchor": "x",
         "domain": [
          0,
          1
         ],
         "title": {
          "text": "counts_of_ingredients"
         }
        }
       }
      }
     },
     "metadata": {},
     "output_type": "display_data"
    }
   ],
   "source": [
    "scatter = px.scatter(parallel_coord, x=\"count_tastes\", y=\"counts_of_ingredients\", color=\"cocoa_percent\", \n",
    "                 symbol = 'company_number', size='rating', hover_data=['company'])\n",
    "\n",
    "scatter.show()"
   ]
  },
  {
   "cell_type": "code",
   "execution_count": 215,
   "metadata": {},
   "outputs": [
    {
     "data": {
      "application/vnd.plotly.v1+json": {
       "config": {
        "plotlyServerURL": "https://plot.ly"
       },
       "data": [
        {
         "customdata": [
          [
           "Ah Cacao"
          ]
         ],
         "hovertemplate": "company_number=1<br>count_tastes=%{x}<br>counts_of_ingredients=%{y}<br>rating=%{marker.size}<br>company=%{customdata[0]}<br>cocoa_percent=%{marker.color}<extra></extra>",
         "legendgroup": "",
         "marker": {
          "color": [
           70
          ],
          "coloraxis": "coloraxis",
          "size": [
           3
          ],
          "sizemode": "area",
          "sizeref": 0.009375,
          "symbol": "circle"
         },
         "mode": "markers",
         "name": "",
         "orientation": "v",
         "showlegend": false,
         "type": "scatter",
         "x": [
          3
         ],
         "xaxis": "x",
         "y": [
          3
         ],
         "yaxis": "y"
        },
        {
         "customdata": [
          [
           "Zotter"
          ],
          [
           "Zotter"
          ],
          [
           "Zotter"
          ],
          [
           "Zotter"
          ],
          [
           "Zotter"
          ],
          [
           "Zotter"
          ],
          [
           "Zotter"
          ],
          [
           "Zotter"
          ],
          [
           "Zotter"
          ],
          [
           "Zotter"
          ],
          [
           "Zotter"
          ],
          [
           "Zotter"
          ],
          [
           "Zotter"
          ],
          [
           "Zotter"
          ],
          [
           "Zotter"
          ],
          [
           "Zotter"
          ],
          [
           "Zotter"
          ]
         ],
         "hovertemplate": "company_number=2<br>count_tastes=%{x}<br>counts_of_ingredients=%{y}<br>rating=%{marker.size}<br>company=%{customdata[0]}<br>cocoa_percent=%{marker.color}<extra></extra>",
         "legendgroup": "",
         "marker": {
          "color": [
           65,
           70,
           65,
           62,
           65,
           62,
           70,
           72,
           70,
           90,
           68,
           70,
           75,
           75,
           75,
           72,
           70
          ],
          "coloraxis": "coloraxis",
          "size": [
           3,
           3.75,
           3.5,
           3.25,
           3,
           3.75,
           3.75,
           3.5,
           3.5,
           3.25,
           3.25,
           3,
           3,
           3,
           3.75,
           3.5,
           3.25
          ],
          "sizemode": "area",
          "sizeref": 0.009375,
          "symbol": "circle"
         },
         "mode": "markers",
         "name": "",
         "orientation": "v",
         "showlegend": false,
         "type": "scatter",
         "x": [
          2,
          3,
          3,
          4,
          3,
          4,
          2,
          4,
          2,
          2,
          4,
          3,
          3,
          2,
          2,
          3,
          3
         ],
         "xaxis": "x2",
         "y": [
          4,
          4,
          4,
          4,
          4,
          4,
          4,
          4,
          4,
          4,
          4,
          4,
          4,
          4,
          3,
          3,
          3
         ],
         "yaxis": "y2"
        }
       ],
       "layout": {
        "annotations": [
         {
          "font": {},
          "showarrow": false,
          "text": "company_number=1",
          "x": 0.245,
          "xanchor": "center",
          "xref": "paper",
          "y": 1,
          "yanchor": "bottom",
          "yref": "paper"
         },
         {
          "font": {},
          "showarrow": false,
          "text": "company_number=2",
          "x": 0.755,
          "xanchor": "center",
          "xref": "paper",
          "y": 1,
          "yanchor": "bottom",
          "yref": "paper"
         }
        ],
        "coloraxis": {
         "colorbar": {
          "title": {
           "text": "cocoa_percent"
          }
         },
         "colorscale": [
          [
           0,
           "#0d0887"
          ],
          [
           0.1111111111111111,
           "#46039f"
          ],
          [
           0.2222222222222222,
           "#7201a8"
          ],
          [
           0.3333333333333333,
           "#9c179e"
          ],
          [
           0.4444444444444444,
           "#bd3786"
          ],
          [
           0.5555555555555556,
           "#d8576b"
          ],
          [
           0.6666666666666666,
           "#ed7953"
          ],
          [
           0.7777777777777778,
           "#fb9f3a"
          ],
          [
           0.8888888888888888,
           "#fdca26"
          ],
          [
           1,
           "#f0f921"
          ]
         ]
        },
        "legend": {
         "itemsizing": "constant",
         "tracegroupgap": 0
        },
        "margin": {
         "t": 60
        },
        "template": {
         "data": {
          "bar": [
           {
            "error_x": {
             "color": "#2a3f5f"
            },
            "error_y": {
             "color": "#2a3f5f"
            },
            "marker": {
             "line": {
              "color": "#E5ECF6",
              "width": 0.5
             },
             "pattern": {
              "fillmode": "overlay",
              "size": 10,
              "solidity": 0.2
             }
            },
            "type": "bar"
           }
          ],
          "barpolar": [
           {
            "marker": {
             "line": {
              "color": "#E5ECF6",
              "width": 0.5
             },
             "pattern": {
              "fillmode": "overlay",
              "size": 10,
              "solidity": 0.2
             }
            },
            "type": "barpolar"
           }
          ],
          "carpet": [
           {
            "aaxis": {
             "endlinecolor": "#2a3f5f",
             "gridcolor": "white",
             "linecolor": "white",
             "minorgridcolor": "white",
             "startlinecolor": "#2a3f5f"
            },
            "baxis": {
             "endlinecolor": "#2a3f5f",
             "gridcolor": "white",
             "linecolor": "white",
             "minorgridcolor": "white",
             "startlinecolor": "#2a3f5f"
            },
            "type": "carpet"
           }
          ],
          "choropleth": [
           {
            "colorbar": {
             "outlinewidth": 0,
             "ticks": ""
            },
            "type": "choropleth"
           }
          ],
          "contour": [
           {
            "colorbar": {
             "outlinewidth": 0,
             "ticks": ""
            },
            "colorscale": [
             [
              0,
              "#0d0887"
             ],
             [
              0.1111111111111111,
              "#46039f"
             ],
             [
              0.2222222222222222,
              "#7201a8"
             ],
             [
              0.3333333333333333,
              "#9c179e"
             ],
             [
              0.4444444444444444,
              "#bd3786"
             ],
             [
              0.5555555555555556,
              "#d8576b"
             ],
             [
              0.6666666666666666,
              "#ed7953"
             ],
             [
              0.7777777777777778,
              "#fb9f3a"
             ],
             [
              0.8888888888888888,
              "#fdca26"
             ],
             [
              1,
              "#f0f921"
             ]
            ],
            "type": "contour"
           }
          ],
          "contourcarpet": [
           {
            "colorbar": {
             "outlinewidth": 0,
             "ticks": ""
            },
            "type": "contourcarpet"
           }
          ],
          "heatmap": [
           {
            "colorbar": {
             "outlinewidth": 0,
             "ticks": ""
            },
            "colorscale": [
             [
              0,
              "#0d0887"
             ],
             [
              0.1111111111111111,
              "#46039f"
             ],
             [
              0.2222222222222222,
              "#7201a8"
             ],
             [
              0.3333333333333333,
              "#9c179e"
             ],
             [
              0.4444444444444444,
              "#bd3786"
             ],
             [
              0.5555555555555556,
              "#d8576b"
             ],
             [
              0.6666666666666666,
              "#ed7953"
             ],
             [
              0.7777777777777778,
              "#fb9f3a"
             ],
             [
              0.8888888888888888,
              "#fdca26"
             ],
             [
              1,
              "#f0f921"
             ]
            ],
            "type": "heatmap"
           }
          ],
          "heatmapgl": [
           {
            "colorbar": {
             "outlinewidth": 0,
             "ticks": ""
            },
            "colorscale": [
             [
              0,
              "#0d0887"
             ],
             [
              0.1111111111111111,
              "#46039f"
             ],
             [
              0.2222222222222222,
              "#7201a8"
             ],
             [
              0.3333333333333333,
              "#9c179e"
             ],
             [
              0.4444444444444444,
              "#bd3786"
             ],
             [
              0.5555555555555556,
              "#d8576b"
             ],
             [
              0.6666666666666666,
              "#ed7953"
             ],
             [
              0.7777777777777778,
              "#fb9f3a"
             ],
             [
              0.8888888888888888,
              "#fdca26"
             ],
             [
              1,
              "#f0f921"
             ]
            ],
            "type": "heatmapgl"
           }
          ],
          "histogram": [
           {
            "marker": {
             "pattern": {
              "fillmode": "overlay",
              "size": 10,
              "solidity": 0.2
             }
            },
            "type": "histogram"
           }
          ],
          "histogram2d": [
           {
            "colorbar": {
             "outlinewidth": 0,
             "ticks": ""
            },
            "colorscale": [
             [
              0,
              "#0d0887"
             ],
             [
              0.1111111111111111,
              "#46039f"
             ],
             [
              0.2222222222222222,
              "#7201a8"
             ],
             [
              0.3333333333333333,
              "#9c179e"
             ],
             [
              0.4444444444444444,
              "#bd3786"
             ],
             [
              0.5555555555555556,
              "#d8576b"
             ],
             [
              0.6666666666666666,
              "#ed7953"
             ],
             [
              0.7777777777777778,
              "#fb9f3a"
             ],
             [
              0.8888888888888888,
              "#fdca26"
             ],
             [
              1,
              "#f0f921"
             ]
            ],
            "type": "histogram2d"
           }
          ],
          "histogram2dcontour": [
           {
            "colorbar": {
             "outlinewidth": 0,
             "ticks": ""
            },
            "colorscale": [
             [
              0,
              "#0d0887"
             ],
             [
              0.1111111111111111,
              "#46039f"
             ],
             [
              0.2222222222222222,
              "#7201a8"
             ],
             [
              0.3333333333333333,
              "#9c179e"
             ],
             [
              0.4444444444444444,
              "#bd3786"
             ],
             [
              0.5555555555555556,
              "#d8576b"
             ],
             [
              0.6666666666666666,
              "#ed7953"
             ],
             [
              0.7777777777777778,
              "#fb9f3a"
             ],
             [
              0.8888888888888888,
              "#fdca26"
             ],
             [
              1,
              "#f0f921"
             ]
            ],
            "type": "histogram2dcontour"
           }
          ],
          "mesh3d": [
           {
            "colorbar": {
             "outlinewidth": 0,
             "ticks": ""
            },
            "type": "mesh3d"
           }
          ],
          "parcoords": [
           {
            "line": {
             "colorbar": {
              "outlinewidth": 0,
              "ticks": ""
             }
            },
            "type": "parcoords"
           }
          ],
          "pie": [
           {
            "automargin": true,
            "type": "pie"
           }
          ],
          "scatter": [
           {
            "marker": {
             "colorbar": {
              "outlinewidth": 0,
              "ticks": ""
             }
            },
            "type": "scatter"
           }
          ],
          "scatter3d": [
           {
            "line": {
             "colorbar": {
              "outlinewidth": 0,
              "ticks": ""
             }
            },
            "marker": {
             "colorbar": {
              "outlinewidth": 0,
              "ticks": ""
             }
            },
            "type": "scatter3d"
           }
          ],
          "scattercarpet": [
           {
            "marker": {
             "colorbar": {
              "outlinewidth": 0,
              "ticks": ""
             }
            },
            "type": "scattercarpet"
           }
          ],
          "scattergeo": [
           {
            "marker": {
             "colorbar": {
              "outlinewidth": 0,
              "ticks": ""
             }
            },
            "type": "scattergeo"
           }
          ],
          "scattergl": [
           {
            "marker": {
             "colorbar": {
              "outlinewidth": 0,
              "ticks": ""
             }
            },
            "type": "scattergl"
           }
          ],
          "scattermapbox": [
           {
            "marker": {
             "colorbar": {
              "outlinewidth": 0,
              "ticks": ""
             }
            },
            "type": "scattermapbox"
           }
          ],
          "scatterpolar": [
           {
            "marker": {
             "colorbar": {
              "outlinewidth": 0,
              "ticks": ""
             }
            },
            "type": "scatterpolar"
           }
          ],
          "scatterpolargl": [
           {
            "marker": {
             "colorbar": {
              "outlinewidth": 0,
              "ticks": ""
             }
            },
            "type": "scatterpolargl"
           }
          ],
          "scatterternary": [
           {
            "marker": {
             "colorbar": {
              "outlinewidth": 0,
              "ticks": ""
             }
            },
            "type": "scatterternary"
           }
          ],
          "surface": [
           {
            "colorbar": {
             "outlinewidth": 0,
             "ticks": ""
            },
            "colorscale": [
             [
              0,
              "#0d0887"
             ],
             [
              0.1111111111111111,
              "#46039f"
             ],
             [
              0.2222222222222222,
              "#7201a8"
             ],
             [
              0.3333333333333333,
              "#9c179e"
             ],
             [
              0.4444444444444444,
              "#bd3786"
             ],
             [
              0.5555555555555556,
              "#d8576b"
             ],
             [
              0.6666666666666666,
              "#ed7953"
             ],
             [
              0.7777777777777778,
              "#fb9f3a"
             ],
             [
              0.8888888888888888,
              "#fdca26"
             ],
             [
              1,
              "#f0f921"
             ]
            ],
            "type": "surface"
           }
          ],
          "table": [
           {
            "cells": {
             "fill": {
              "color": "#EBF0F8"
             },
             "line": {
              "color": "white"
             }
            },
            "header": {
             "fill": {
              "color": "#C8D4E3"
             },
             "line": {
              "color": "white"
             }
            },
            "type": "table"
           }
          ]
         },
         "layout": {
          "annotationdefaults": {
           "arrowcolor": "#2a3f5f",
           "arrowhead": 0,
           "arrowwidth": 1
          },
          "autotypenumbers": "strict",
          "coloraxis": {
           "colorbar": {
            "outlinewidth": 0,
            "ticks": ""
           }
          },
          "colorscale": {
           "diverging": [
            [
             0,
             "#8e0152"
            ],
            [
             0.1,
             "#c51b7d"
            ],
            [
             0.2,
             "#de77ae"
            ],
            [
             0.3,
             "#f1b6da"
            ],
            [
             0.4,
             "#fde0ef"
            ],
            [
             0.5,
             "#f7f7f7"
            ],
            [
             0.6,
             "#e6f5d0"
            ],
            [
             0.7,
             "#b8e186"
            ],
            [
             0.8,
             "#7fbc41"
            ],
            [
             0.9,
             "#4d9221"
            ],
            [
             1,
             "#276419"
            ]
           ],
           "sequential": [
            [
             0,
             "#0d0887"
            ],
            [
             0.1111111111111111,
             "#46039f"
            ],
            [
             0.2222222222222222,
             "#7201a8"
            ],
            [
             0.3333333333333333,
             "#9c179e"
            ],
            [
             0.4444444444444444,
             "#bd3786"
            ],
            [
             0.5555555555555556,
             "#d8576b"
            ],
            [
             0.6666666666666666,
             "#ed7953"
            ],
            [
             0.7777777777777778,
             "#fb9f3a"
            ],
            [
             0.8888888888888888,
             "#fdca26"
            ],
            [
             1,
             "#f0f921"
            ]
           ],
           "sequentialminus": [
            [
             0,
             "#0d0887"
            ],
            [
             0.1111111111111111,
             "#46039f"
            ],
            [
             0.2222222222222222,
             "#7201a8"
            ],
            [
             0.3333333333333333,
             "#9c179e"
            ],
            [
             0.4444444444444444,
             "#bd3786"
            ],
            [
             0.5555555555555556,
             "#d8576b"
            ],
            [
             0.6666666666666666,
             "#ed7953"
            ],
            [
             0.7777777777777778,
             "#fb9f3a"
            ],
            [
             0.8888888888888888,
             "#fdca26"
            ],
            [
             1,
             "#f0f921"
            ]
           ]
          },
          "colorway": [
           "#636efa",
           "#EF553B",
           "#00cc96",
           "#ab63fa",
           "#FFA15A",
           "#19d3f3",
           "#FF6692",
           "#B6E880",
           "#FF97FF",
           "#FECB52"
          ],
          "font": {
           "color": "#2a3f5f"
          },
          "geo": {
           "bgcolor": "white",
           "lakecolor": "white",
           "landcolor": "#E5ECF6",
           "showlakes": true,
           "showland": true,
           "subunitcolor": "white"
          },
          "hoverlabel": {
           "align": "left"
          },
          "hovermode": "closest",
          "mapbox": {
           "style": "light"
          },
          "paper_bgcolor": "white",
          "plot_bgcolor": "#E5ECF6",
          "polar": {
           "angularaxis": {
            "gridcolor": "white",
            "linecolor": "white",
            "ticks": ""
           },
           "bgcolor": "#E5ECF6",
           "radialaxis": {
            "gridcolor": "white",
            "linecolor": "white",
            "ticks": ""
           }
          },
          "scene": {
           "xaxis": {
            "backgroundcolor": "#E5ECF6",
            "gridcolor": "white",
            "gridwidth": 2,
            "linecolor": "white",
            "showbackground": true,
            "ticks": "",
            "zerolinecolor": "white"
           },
           "yaxis": {
            "backgroundcolor": "#E5ECF6",
            "gridcolor": "white",
            "gridwidth": 2,
            "linecolor": "white",
            "showbackground": true,
            "ticks": "",
            "zerolinecolor": "white"
           },
           "zaxis": {
            "backgroundcolor": "#E5ECF6",
            "gridcolor": "white",
            "gridwidth": 2,
            "linecolor": "white",
            "showbackground": true,
            "ticks": "",
            "zerolinecolor": "white"
           }
          },
          "shapedefaults": {
           "line": {
            "color": "#2a3f5f"
           }
          },
          "ternary": {
           "aaxis": {
            "gridcolor": "white",
            "linecolor": "white",
            "ticks": ""
           },
           "baxis": {
            "gridcolor": "white",
            "linecolor": "white",
            "ticks": ""
           },
           "bgcolor": "#E5ECF6",
           "caxis": {
            "gridcolor": "white",
            "linecolor": "white",
            "ticks": ""
           }
          },
          "title": {
           "x": 0.05
          },
          "xaxis": {
           "automargin": true,
           "gridcolor": "white",
           "linecolor": "white",
           "ticks": "",
           "title": {
            "standoff": 15
           },
           "zerolinecolor": "white",
           "zerolinewidth": 2
          },
          "yaxis": {
           "automargin": true,
           "gridcolor": "white",
           "linecolor": "white",
           "ticks": "",
           "title": {
            "standoff": 15
           },
           "zerolinecolor": "white",
           "zerolinewidth": 2
          }
         }
        },
        "xaxis": {
         "anchor": "y",
         "domain": [
          0,
          0.49
         ],
         "title": {
          "text": "count_tastes"
         }
        },
        "xaxis2": {
         "anchor": "y2",
         "domain": [
          0.51,
          1
         ],
         "matches": "x",
         "title": {
          "text": "count_tastes"
         }
        },
        "yaxis": {
         "anchor": "x",
         "domain": [
          0,
          1
         ],
         "title": {
          "text": "counts_of_ingredients"
         }
        },
        "yaxis2": {
         "anchor": "x2",
         "domain": [
          0,
          1
         ],
         "matches": "y",
         "showticklabels": false
        }
       }
      }
     },
     "metadata": {},
     "output_type": "display_data"
    }
   ],
   "source": [
    "scatter2 = px.scatter(parallel_coord, x=\"count_tastes\", y=\"counts_of_ingredients\", color=\"cocoa_percent\", \n",
    "                 facet_col = 'company_number', size='rating', hover_data=['company'])\n",
    "\n",
    "scatter2.show()"
   ]
  },
  {
   "cell_type": "code",
   "execution_count": 216,
   "metadata": {},
   "outputs": [
    {
     "data": {
      "application/vnd.plotly.v1+json": {
       "config": {
        "plotlyServerURL": "https://plot.ly"
       },
       "data": [
        {
         "customdata": [
          [
           "Ah Cacao"
          ]
         ],
         "hovertemplate": "company_number=1<br>rating=%{x}<br>cocoa_percent=%{y}<br>count_tastes=%{marker.size}<br>company=%{customdata[0]}<br>counts_of_ingredients=%{marker.color}<extra></extra>",
         "legendgroup": "1",
         "marker": {
          "color": [
           3
          ],
          "coloraxis": "coloraxis",
          "size": [
           3
          ],
          "sizemode": "area",
          "sizeref": 0.01,
          "symbol": "circle"
         },
         "mode": "markers",
         "name": "1",
         "orientation": "v",
         "showlegend": true,
         "type": "scatter",
         "x": [
          3
         ],
         "xaxis": "x",
         "y": [
          70
         ],
         "yaxis": "y"
        },
        {
         "customdata": [
          [
           "Zotter"
          ],
          [
           "Zotter"
          ],
          [
           "Zotter"
          ],
          [
           "Zotter"
          ],
          [
           "Zotter"
          ],
          [
           "Zotter"
          ],
          [
           "Zotter"
          ],
          [
           "Zotter"
          ],
          [
           "Zotter"
          ],
          [
           "Zotter"
          ],
          [
           "Zotter"
          ],
          [
           "Zotter"
          ],
          [
           "Zotter"
          ],
          [
           "Zotter"
          ],
          [
           "Zotter"
          ],
          [
           "Zotter"
          ],
          [
           "Zotter"
          ]
         ],
         "hovertemplate": "company_number=2<br>rating=%{x}<br>cocoa_percent=%{y}<br>count_tastes=%{marker.size}<br>company=%{customdata[0]}<br>counts_of_ingredients=%{marker.color}<extra></extra>",
         "legendgroup": "2",
         "marker": {
          "color": [
           4,
           4,
           4,
           4,
           4,
           4,
           4,
           4,
           4,
           4,
           4,
           4,
           4,
           4,
           3,
           3,
           3
          ],
          "coloraxis": "coloraxis",
          "size": [
           2,
           3,
           3,
           4,
           3,
           4,
           2,
           4,
           2,
           2,
           4,
           3,
           3,
           2,
           2,
           3,
           3
          ],
          "sizemode": "area",
          "sizeref": 0.01,
          "symbol": "diamond"
         },
         "mode": "markers",
         "name": "2",
         "orientation": "v",
         "showlegend": true,
         "type": "scatter",
         "x": [
          3,
          3.75,
          3.5,
          3.25,
          3,
          3.75,
          3.75,
          3.5,
          3.5,
          3.25,
          3.25,
          3,
          3,
          3,
          3.75,
          3.5,
          3.25
         ],
         "xaxis": "x",
         "y": [
          65,
          70,
          65,
          62,
          65,
          62,
          70,
          72,
          70,
          90,
          68,
          70,
          75,
          75,
          75,
          72,
          70
         ],
         "yaxis": "y"
        }
       ],
       "layout": {
        "coloraxis": {
         "colorbar": {
          "title": {
           "text": "counts_of_ingredients"
          }
         },
         "colorscale": [
          [
           0,
           "#0d0887"
          ],
          [
           0.1111111111111111,
           "#46039f"
          ],
          [
           0.2222222222222222,
           "#7201a8"
          ],
          [
           0.3333333333333333,
           "#9c179e"
          ],
          [
           0.4444444444444444,
           "#bd3786"
          ],
          [
           0.5555555555555556,
           "#d8576b"
          ],
          [
           0.6666666666666666,
           "#ed7953"
          ],
          [
           0.7777777777777778,
           "#fb9f3a"
          ],
          [
           0.8888888888888888,
           "#fdca26"
          ],
          [
           1,
           "#f0f921"
          ]
         ]
        },
        "legend": {
         "itemsizing": "constant",
         "title": {
          "text": "company_number"
         },
         "tracegroupgap": 0
        },
        "margin": {
         "t": 60
        },
        "template": {
         "data": {
          "bar": [
           {
            "error_x": {
             "color": "#2a3f5f"
            },
            "error_y": {
             "color": "#2a3f5f"
            },
            "marker": {
             "line": {
              "color": "#E5ECF6",
              "width": 0.5
             },
             "pattern": {
              "fillmode": "overlay",
              "size": 10,
              "solidity": 0.2
             }
            },
            "type": "bar"
           }
          ],
          "barpolar": [
           {
            "marker": {
             "line": {
              "color": "#E5ECF6",
              "width": 0.5
             },
             "pattern": {
              "fillmode": "overlay",
              "size": 10,
              "solidity": 0.2
             }
            },
            "type": "barpolar"
           }
          ],
          "carpet": [
           {
            "aaxis": {
             "endlinecolor": "#2a3f5f",
             "gridcolor": "white",
             "linecolor": "white",
             "minorgridcolor": "white",
             "startlinecolor": "#2a3f5f"
            },
            "baxis": {
             "endlinecolor": "#2a3f5f",
             "gridcolor": "white",
             "linecolor": "white",
             "minorgridcolor": "white",
             "startlinecolor": "#2a3f5f"
            },
            "type": "carpet"
           }
          ],
          "choropleth": [
           {
            "colorbar": {
             "outlinewidth": 0,
             "ticks": ""
            },
            "type": "choropleth"
           }
          ],
          "contour": [
           {
            "colorbar": {
             "outlinewidth": 0,
             "ticks": ""
            },
            "colorscale": [
             [
              0,
              "#0d0887"
             ],
             [
              0.1111111111111111,
              "#46039f"
             ],
             [
              0.2222222222222222,
              "#7201a8"
             ],
             [
              0.3333333333333333,
              "#9c179e"
             ],
             [
              0.4444444444444444,
              "#bd3786"
             ],
             [
              0.5555555555555556,
              "#d8576b"
             ],
             [
              0.6666666666666666,
              "#ed7953"
             ],
             [
              0.7777777777777778,
              "#fb9f3a"
             ],
             [
              0.8888888888888888,
              "#fdca26"
             ],
             [
              1,
              "#f0f921"
             ]
            ],
            "type": "contour"
           }
          ],
          "contourcarpet": [
           {
            "colorbar": {
             "outlinewidth": 0,
             "ticks": ""
            },
            "type": "contourcarpet"
           }
          ],
          "heatmap": [
           {
            "colorbar": {
             "outlinewidth": 0,
             "ticks": ""
            },
            "colorscale": [
             [
              0,
              "#0d0887"
             ],
             [
              0.1111111111111111,
              "#46039f"
             ],
             [
              0.2222222222222222,
              "#7201a8"
             ],
             [
              0.3333333333333333,
              "#9c179e"
             ],
             [
              0.4444444444444444,
              "#bd3786"
             ],
             [
              0.5555555555555556,
              "#d8576b"
             ],
             [
              0.6666666666666666,
              "#ed7953"
             ],
             [
              0.7777777777777778,
              "#fb9f3a"
             ],
             [
              0.8888888888888888,
              "#fdca26"
             ],
             [
              1,
              "#f0f921"
             ]
            ],
            "type": "heatmap"
           }
          ],
          "heatmapgl": [
           {
            "colorbar": {
             "outlinewidth": 0,
             "ticks": ""
            },
            "colorscale": [
             [
              0,
              "#0d0887"
             ],
             [
              0.1111111111111111,
              "#46039f"
             ],
             [
              0.2222222222222222,
              "#7201a8"
             ],
             [
              0.3333333333333333,
              "#9c179e"
             ],
             [
              0.4444444444444444,
              "#bd3786"
             ],
             [
              0.5555555555555556,
              "#d8576b"
             ],
             [
              0.6666666666666666,
              "#ed7953"
             ],
             [
              0.7777777777777778,
              "#fb9f3a"
             ],
             [
              0.8888888888888888,
              "#fdca26"
             ],
             [
              1,
              "#f0f921"
             ]
            ],
            "type": "heatmapgl"
           }
          ],
          "histogram": [
           {
            "marker": {
             "pattern": {
              "fillmode": "overlay",
              "size": 10,
              "solidity": 0.2
             }
            },
            "type": "histogram"
           }
          ],
          "histogram2d": [
           {
            "colorbar": {
             "outlinewidth": 0,
             "ticks": ""
            },
            "colorscale": [
             [
              0,
              "#0d0887"
             ],
             [
              0.1111111111111111,
              "#46039f"
             ],
             [
              0.2222222222222222,
              "#7201a8"
             ],
             [
              0.3333333333333333,
              "#9c179e"
             ],
             [
              0.4444444444444444,
              "#bd3786"
             ],
             [
              0.5555555555555556,
              "#d8576b"
             ],
             [
              0.6666666666666666,
              "#ed7953"
             ],
             [
              0.7777777777777778,
              "#fb9f3a"
             ],
             [
              0.8888888888888888,
              "#fdca26"
             ],
             [
              1,
              "#f0f921"
             ]
            ],
            "type": "histogram2d"
           }
          ],
          "histogram2dcontour": [
           {
            "colorbar": {
             "outlinewidth": 0,
             "ticks": ""
            },
            "colorscale": [
             [
              0,
              "#0d0887"
             ],
             [
              0.1111111111111111,
              "#46039f"
             ],
             [
              0.2222222222222222,
              "#7201a8"
             ],
             [
              0.3333333333333333,
              "#9c179e"
             ],
             [
              0.4444444444444444,
              "#bd3786"
             ],
             [
              0.5555555555555556,
              "#d8576b"
             ],
             [
              0.6666666666666666,
              "#ed7953"
             ],
             [
              0.7777777777777778,
              "#fb9f3a"
             ],
             [
              0.8888888888888888,
              "#fdca26"
             ],
             [
              1,
              "#f0f921"
             ]
            ],
            "type": "histogram2dcontour"
           }
          ],
          "mesh3d": [
           {
            "colorbar": {
             "outlinewidth": 0,
             "ticks": ""
            },
            "type": "mesh3d"
           }
          ],
          "parcoords": [
           {
            "line": {
             "colorbar": {
              "outlinewidth": 0,
              "ticks": ""
             }
            },
            "type": "parcoords"
           }
          ],
          "pie": [
           {
            "automargin": true,
            "type": "pie"
           }
          ],
          "scatter": [
           {
            "marker": {
             "colorbar": {
              "outlinewidth": 0,
              "ticks": ""
             }
            },
            "type": "scatter"
           }
          ],
          "scatter3d": [
           {
            "line": {
             "colorbar": {
              "outlinewidth": 0,
              "ticks": ""
             }
            },
            "marker": {
             "colorbar": {
              "outlinewidth": 0,
              "ticks": ""
             }
            },
            "type": "scatter3d"
           }
          ],
          "scattercarpet": [
           {
            "marker": {
             "colorbar": {
              "outlinewidth": 0,
              "ticks": ""
             }
            },
            "type": "scattercarpet"
           }
          ],
          "scattergeo": [
           {
            "marker": {
             "colorbar": {
              "outlinewidth": 0,
              "ticks": ""
             }
            },
            "type": "scattergeo"
           }
          ],
          "scattergl": [
           {
            "marker": {
             "colorbar": {
              "outlinewidth": 0,
              "ticks": ""
             }
            },
            "type": "scattergl"
           }
          ],
          "scattermapbox": [
           {
            "marker": {
             "colorbar": {
              "outlinewidth": 0,
              "ticks": ""
             }
            },
            "type": "scattermapbox"
           }
          ],
          "scatterpolar": [
           {
            "marker": {
             "colorbar": {
              "outlinewidth": 0,
              "ticks": ""
             }
            },
            "type": "scatterpolar"
           }
          ],
          "scatterpolargl": [
           {
            "marker": {
             "colorbar": {
              "outlinewidth": 0,
              "ticks": ""
             }
            },
            "type": "scatterpolargl"
           }
          ],
          "scatterternary": [
           {
            "marker": {
             "colorbar": {
              "outlinewidth": 0,
              "ticks": ""
             }
            },
            "type": "scatterternary"
           }
          ],
          "surface": [
           {
            "colorbar": {
             "outlinewidth": 0,
             "ticks": ""
            },
            "colorscale": [
             [
              0,
              "#0d0887"
             ],
             [
              0.1111111111111111,
              "#46039f"
             ],
             [
              0.2222222222222222,
              "#7201a8"
             ],
             [
              0.3333333333333333,
              "#9c179e"
             ],
             [
              0.4444444444444444,
              "#bd3786"
             ],
             [
              0.5555555555555556,
              "#d8576b"
             ],
             [
              0.6666666666666666,
              "#ed7953"
             ],
             [
              0.7777777777777778,
              "#fb9f3a"
             ],
             [
              0.8888888888888888,
              "#fdca26"
             ],
             [
              1,
              "#f0f921"
             ]
            ],
            "type": "surface"
           }
          ],
          "table": [
           {
            "cells": {
             "fill": {
              "color": "#EBF0F8"
             },
             "line": {
              "color": "white"
             }
            },
            "header": {
             "fill": {
              "color": "#C8D4E3"
             },
             "line": {
              "color": "white"
             }
            },
            "type": "table"
           }
          ]
         },
         "layout": {
          "annotationdefaults": {
           "arrowcolor": "#2a3f5f",
           "arrowhead": 0,
           "arrowwidth": 1
          },
          "autotypenumbers": "strict",
          "coloraxis": {
           "colorbar": {
            "outlinewidth": 0,
            "ticks": ""
           }
          },
          "colorscale": {
           "diverging": [
            [
             0,
             "#8e0152"
            ],
            [
             0.1,
             "#c51b7d"
            ],
            [
             0.2,
             "#de77ae"
            ],
            [
             0.3,
             "#f1b6da"
            ],
            [
             0.4,
             "#fde0ef"
            ],
            [
             0.5,
             "#f7f7f7"
            ],
            [
             0.6,
             "#e6f5d0"
            ],
            [
             0.7,
             "#b8e186"
            ],
            [
             0.8,
             "#7fbc41"
            ],
            [
             0.9,
             "#4d9221"
            ],
            [
             1,
             "#276419"
            ]
           ],
           "sequential": [
            [
             0,
             "#0d0887"
            ],
            [
             0.1111111111111111,
             "#46039f"
            ],
            [
             0.2222222222222222,
             "#7201a8"
            ],
            [
             0.3333333333333333,
             "#9c179e"
            ],
            [
             0.4444444444444444,
             "#bd3786"
            ],
            [
             0.5555555555555556,
             "#d8576b"
            ],
            [
             0.6666666666666666,
             "#ed7953"
            ],
            [
             0.7777777777777778,
             "#fb9f3a"
            ],
            [
             0.8888888888888888,
             "#fdca26"
            ],
            [
             1,
             "#f0f921"
            ]
           ],
           "sequentialminus": [
            [
             0,
             "#0d0887"
            ],
            [
             0.1111111111111111,
             "#46039f"
            ],
            [
             0.2222222222222222,
             "#7201a8"
            ],
            [
             0.3333333333333333,
             "#9c179e"
            ],
            [
             0.4444444444444444,
             "#bd3786"
            ],
            [
             0.5555555555555556,
             "#d8576b"
            ],
            [
             0.6666666666666666,
             "#ed7953"
            ],
            [
             0.7777777777777778,
             "#fb9f3a"
            ],
            [
             0.8888888888888888,
             "#fdca26"
            ],
            [
             1,
             "#f0f921"
            ]
           ]
          },
          "colorway": [
           "#636efa",
           "#EF553B",
           "#00cc96",
           "#ab63fa",
           "#FFA15A",
           "#19d3f3",
           "#FF6692",
           "#B6E880",
           "#FF97FF",
           "#FECB52"
          ],
          "font": {
           "color": "#2a3f5f"
          },
          "geo": {
           "bgcolor": "white",
           "lakecolor": "white",
           "landcolor": "#E5ECF6",
           "showlakes": true,
           "showland": true,
           "subunitcolor": "white"
          },
          "hoverlabel": {
           "align": "left"
          },
          "hovermode": "closest",
          "mapbox": {
           "style": "light"
          },
          "paper_bgcolor": "white",
          "plot_bgcolor": "#E5ECF6",
          "polar": {
           "angularaxis": {
            "gridcolor": "white",
            "linecolor": "white",
            "ticks": ""
           },
           "bgcolor": "#E5ECF6",
           "radialaxis": {
            "gridcolor": "white",
            "linecolor": "white",
            "ticks": ""
           }
          },
          "scene": {
           "xaxis": {
            "backgroundcolor": "#E5ECF6",
            "gridcolor": "white",
            "gridwidth": 2,
            "linecolor": "white",
            "showbackground": true,
            "ticks": "",
            "zerolinecolor": "white"
           },
           "yaxis": {
            "backgroundcolor": "#E5ECF6",
            "gridcolor": "white",
            "gridwidth": 2,
            "linecolor": "white",
            "showbackground": true,
            "ticks": "",
            "zerolinecolor": "white"
           },
           "zaxis": {
            "backgroundcolor": "#E5ECF6",
            "gridcolor": "white",
            "gridwidth": 2,
            "linecolor": "white",
            "showbackground": true,
            "ticks": "",
            "zerolinecolor": "white"
           }
          },
          "shapedefaults": {
           "line": {
            "color": "#2a3f5f"
           }
          },
          "ternary": {
           "aaxis": {
            "gridcolor": "white",
            "linecolor": "white",
            "ticks": ""
           },
           "baxis": {
            "gridcolor": "white",
            "linecolor": "white",
            "ticks": ""
           },
           "bgcolor": "#E5ECF6",
           "caxis": {
            "gridcolor": "white",
            "linecolor": "white",
            "ticks": ""
           }
          },
          "title": {
           "x": 0.05
          },
          "xaxis": {
           "automargin": true,
           "gridcolor": "white",
           "linecolor": "white",
           "ticks": "",
           "title": {
            "standoff": 15
           },
           "zerolinecolor": "white",
           "zerolinewidth": 2
          },
          "yaxis": {
           "automargin": true,
           "gridcolor": "white",
           "linecolor": "white",
           "ticks": "",
           "title": {
            "standoff": 15
           },
           "zerolinecolor": "white",
           "zerolinewidth": 2
          }
         }
        },
        "xaxis": {
         "anchor": "y",
         "domain": [
          0,
          1
         ],
         "title": {
          "text": "rating"
         }
        },
        "yaxis": {
         "anchor": "x",
         "domain": [
          0,
          1
         ],
         "title": {
          "text": "cocoa_percent"
         }
        }
       }
      }
     },
     "metadata": {},
     "output_type": "display_data"
    }
   ],
   "source": [
    "scatter3 = px.scatter(parallel_coord, x=\"rating\", y=\"cocoa_percent\", color=\"counts_of_ingredients\", \n",
    "                 symbol = 'company_number', size='count_tastes', hover_data=['company'])\n",
    "\n",
    "\n",
    "scatter.update_layout(\n",
    "    coloraxis_colorbar=dict(\n",
    "    title=\"Count of ingredients\",\n",
    "    lenmode=\"pixels\", len=100\n",
    "))\n",
    "\n",
    "scatter3.show()"
   ]
  },
  {
   "cell_type": "markdown",
   "metadata": {},
   "source": [
    "MAP"
   ]
  },
  {
   "cell_type": "code",
   "execution_count": 217,
   "metadata": {},
   "outputs": [],
   "source": [
    "data_company=data.groupby(by=[\"company_location\"]).agg({\"rating\":\"mean\",\"ref\":\"count\"})\n",
    "data_company.reset_index(inplace=True)\n",
    "data_origin=data.groupby(by=['country_of_bean_origin']).agg({\"rating\":\"mean\",\"ref\":\"count\"})\n",
    "data_origin.reset_index(inplace=True)\n",
    "\n",
    "for feature in data_geo['features']:\n",
    "    feature['id'] = feature['properties']['ADMIN']\n",
    "\n",
    "i=0\n",
    "pays=[]\n",
    "while i<=254:\n",
    "    pays.append(data_geo['features'][i]['id'])\n",
    "    i+=1\n",
    "\n",
    "data_origin[\"country_of_bean_origin\"] = np.where(data_origin[\"country_of_bean_origin\"] == \"Venezuela (Bolivarian Republic of)\", \"Venezuela\", data_origin[\"country_of_bean_origin\"])\n",
    "data_origin[\"country_of_bean_origin\"] = np.where(data_origin[\"country_of_bean_origin\"] == \"Tanzania, United Republic of\", \"United Republic of Tanzania\", data_origin[\"country_of_bean_origin\"])\n",
    "data_origin[\"country_of_bean_origin\"] = np.where(data_origin[\"country_of_bean_origin\"] == \"Bolivia (Plurinational State of)\", \"Bolivia\", data_origin[\"country_of_bean_origin\"])\n",
    "data_origin[\"country_of_bean_origin\"] = np.where(data_origin[\"country_of_bean_origin\"] == \"Bolvia\", \"Bolivia\", data_origin[\"country_of_bean_origin\"])\n",
    "data_origin[\"country_of_bean_origin\"] = np.where(data_origin[\"country_of_bean_origin\"] == \"U.S.A.\", \"United States of America\", data_origin[\"country_of_bean_origin\"])\n",
    "data_origin[\"country_of_bean_origin\"] = np.where(data_origin[\"country_of_bean_origin\"] == \"Taiwan, Province of China\", \"Taiwan\", data_origin[\"country_of_bean_origin\"])\n",
    "data_origin[\"country_of_bean_origin\"] = np.where(data_origin[\"country_of_bean_origin\"] == \"Martinique\", \"France\", data_origin[\"country_of_bean_origin\"]) #colónia francesa\n",
    "data_origin[\"country_of_bean_origin\"] = np.where(data_origin[\"country_of_bean_origin\"] == \"Sulawesi\", \"Indonesia\", data_origin[\"country_of_bean_origin\"]) #parte da indonésia\n",
    "data_origin[\"country_of_bean_origin\"] = np.where(data_origin[\"country_of_bean_origin\"] == \"Principe\", \"Sao Tome and Principe\", data_origin[\"country_of_bean_origin\"])\n",
    "data_origin[\"country_of_bean_origin\"] = np.where(data_origin[\"country_of_bean_origin\"] == \"Sumatra\", \"Indonesia\", data_origin[\"country_of_bean_origin\"]) #parte da indonésia\n",
    "data_origin[\"country_of_bean_origin\"] = np.where(data_origin[\"country_of_bean_origin\"] == \"Tobago\", \"Trinidad and Tobago\", data_origin[\"country_of_bean_origin\"])\n",
    "data_origin[\"country_of_bean_origin\"] = np.where(data_origin[\"country_of_bean_origin\"] == \"Congo (Democratic Republic of the)\", \"Democratic Republic of the Congo\", data_origin[\"country_of_bean_origin\"])\n",
    "data_origin[\"country_of_bean_origin\"] = np.where(data_origin[\"country_of_bean_origin\"] == \"Congo\", \"Republic of Congo\", data_origin[\"country_of_bean_origin\"])\n",
    "data_origin[\"country_of_bean_origin\"] = np.where(data_origin[\"country_of_bean_origin\"] == \"Viet Nam\", \"Vietnam\", data_origin[\"country_of_bean_origin\"])\n",
    "\n",
    "data_company[\"company_location\"] = np.where(data_company[\"company_location\"] == \"United Kingdom of Great Britain and Northern Ireland\", \"United Kingdom\", data_company[\"company_location\"])\n",
    "data_company[\"company_location\"] = np.where(data_company[\"company_location\"] == \"Venezuela (Bolivarian Republic of)\", \"Venezuela\", data_company[\"company_location\"])\n",
    "data_company[\"company_location\"] = np.where(data_company[\"company_location\"] == \"Wales\", \"United Kingdom\", data_company[\"company_location\"])\n",
    "data_company[\"company_location\"] = np.where(data_company[\"company_location\"] == \"Bolivia (Plurinational State of)\", \"Bolivia\", data_company[\"company_location\"])\n",
    "data_company[\"company_location\"] = np.where(data_company[\"company_location\"] == \"Russian Federation\", \"Russia\", data_company[\"company_location\"])\n",
    "data_company[\"company_location\"] = np.where(data_company[\"company_location\"] == \"Martinique\", \"France\", data_company[\"company_location\"])\n",
    "data_company[\"company_location\"] = np.where(data_company[\"company_location\"] == \"Taiwan, Province of China\", \"Taiwan\", data_company[\"company_location\"])\n",
    "data_company[\"company_location\"] = np.where(data_company[\"company_location\"] == \"Korea (Republic of)\", \"South Korea\", data_company[\"company_location\"])\n",
    "data_company[\"company_location\"] = np.where(data_company[\"company_location\"] == \"Viet Nam\", \"Vietnam\", data_company[\"company_location\"])\n",
    "\n",
    "data_company.rename(columns={'company_location': 'country'}, inplace=True)\n",
    "data_origin.rename(columns={'country_of_bean_origin': 'country'}, inplace=True)\n"
   ]
  },
  {
   "cell_type": "code",
   "execution_count": null,
   "metadata": {},
   "outputs": [],
   "source": []
  },
  {
   "cell_type": "code",
   "execution_count": null,
   "metadata": {},
   "outputs": [],
   "source": []
  },
  {
   "cell_type": "markdown",
   "metadata": {},
   "source": [
    "# -------------------APP------------------"
   ]
  },
  {
   "cell_type": "code",
   "execution_count": 276,
   "metadata": {},
   "outputs": [],
   "source": [
    "app = dash.Dash(__name__)\n",
    "\n",
    "server = app.server\n",
    "\n",
    "app.layout = html.Div([\n",
    "\n",
    "\n",
    "                        html.Div([\n",
    "                                html.H1('TITLE'),\n",
    "                            ], id='title_id'),\n",
    "                                            \n",
    "                        html.Div([ \n",
    "                                #WORLD MAP\n",
    "                                html.Div([ \n",
    "                                            #FILTROS\n",
    "                                            html.Div([ \n",
    "                                                        html.H4(\"Choose what you want to see in this map\"),\n",
    "                                                        html.Div([\n",
    "                                                                html.Div([\n",
    "                                                                        dcc.RadioItems(\n",
    "                                                                                id=\"country_radio\",\n",
    "                                                                                options=[dict(label=\"Bean origin\", value=\"country_of_bean_origin\"), dict(label=\"Company location\", value=\"company_location\")],\n",
    "                                                                                value=\"country_of_bean_origin\"\n",
    "                                                                                ),\n",
    "                                                                        ]),\n",
    "                                                                html.Div([\n",
    "                                                                        dcc.RadioItems(\n",
    "                                                                                id=\"number_radio\",\n",
    "                                                                                options=[dict(label=\"Ratings\", value=\"rating\"),dict(label=\"Frequency\",value=\"ref\")],\n",
    "                                                                                value=\"rating\"\n",
    "                                                                                ),\n",
    "                                                                        ]),\n",
    "                                                                ]),\n",
    "                                                                ]) ,\n",
    "                                    \n",
    "                                            # VIS WORLD\n",
    "                                            html.Div([ \n",
    "                                                    dcc.Graph(id=\"choroplethmapbox\")\n",
    "                                                ]),\n",
    "                                            \n",
    "                                        ], id='world_view', style={'display': 'flex'}),      \n",
    "                                #RADAR\n",
    "                                html.Div([ \n",
    "                                        #FILTROS\n",
    "                                        html.Div([ html.Label('Company 1'),\n",
    "                                                dcc.Dropdown(\n",
    "                                                        id='drop_comp1_id',\n",
    "                                                        options=companies,\n",
    "                                                        value='5150',\n",
    "                                                        multi=False\n",
    "                                                        ),\n",
    "                                                        ],className='box', style={'width': '20%','margin': '10px', 'padding-top':'15px', 'padding-bottom':'15px'}) ,\n",
    "                                    \n",
    "                                        \n",
    "                                        # VIS RADAR\n",
    "                                        html.Div([ \n",
    "                                                dcc.Graph(id='radar'),],className='box', style={'width': '60%','padding-bottom': '0px'}) ,\n",
    "                                        # FILTRO3\n",
    "                                        html.Div([ \n",
    "                                        \n",
    "                                                html.Label('Company 2'),\n",
    "                                                dcc.Dropdown(\n",
    "                                                        id='drop_comp2_id',\n",
    "                                                        options=companies,\n",
    "                                                        value='A. Morin',\n",
    "                                                        multi=False\n",
    "                                                        ),\n",
    "                                                        ],className='box', style={'width': '20%','margin': '10px', 'padding-top':'15px', 'padding-bottom':'15px'}) ,\n",
    "                                        \n",
    "                                        ], id='radar_view', style={'display': 'flex','width': '100%'}),\n",
    "                                \n",
    "                                #---------------------\n",
    "                                #WORD CLOUD\n",
    "                                html.Div([ \n",
    "                                \n",
    "                                        html.Div([ \n",
    "                                                \n",
    "                                                #FILTROS\n",
    "                                                html.Div([ \n",
    "                                                          html.Label('CHOSE CHOCOLATE'),\n",
    "                                                          html.Br(),\n",
    "                                                html.Div([ \n",
    "                                                        \n",
    "                                                        dcc.Dropdown(\n",
    "                                                                id='drop_id',\n",
    "                                                                options=ingredients,\n",
    "                                                                value=['have_sugar'],\n",
    "                                                                multi=True\n",
    "                                                                ),\n",
    "                                                                        ], className='box', style={'margin': '10px', 'padding-top':'15px', 'padding-bottom':'15px'}),\n",
    "                                                html.Div([ \n",
    "                                                        html.Label('Cocoa Percentage'),\n",
    "                                                        dcc.RangeSlider(\n",
    "                                                                        id='percent_id',\n",
    "                                                                        min=42,\n",
    "                                                                        max=100,\n",
    "                                                                        value=[70, 80],\n",
    "                                                                        marks={'50': '50',\n",
    "                                                                                '60': '60',\n",
    "                                                                                '70': '70',\n",
    "                                                                                '80': '80',\n",
    "                                                                                '90': '90',\n",
    "                                                                                '100': '100'},\n",
    "                                                                        step=1\n",
    "                                                                        )\n",
    "        \n",
    "                                                        ]) ,\n",
    "                                                        html.Div([\n",
    "                                                        html.H4('Company', style={'font-weight':'normal'}),\n",
    "                                                        html.H3(id=\"name_company_id\")\n",
    "                                                        ],className='box_ing'),\n",
    "                                                        \n",
    "                                                        html.Div([\n",
    "                                                        html.H4('Rating', style={'font-weight':'normal'}),\n",
    "                                                        html.H3(id=\"rating_id\")],className='box_ing'),\n",
    "                                \n",
    "                                                        html.Div([\n",
    "                                                        html.H4('Country', style={'font-weight':'normal'}),\n",
    "                                                        html.H3(id=\"country_id\"),\n",
    "                                                        ],className='box_ing'),\n",
    "                                                 ],style={'width': '50%'}) ,\n",
    "                                    \n",
    "                                        # VIS WORD\n",
    "                                         \n",
    "                                                html.Div([ \n",
    "                                                        dcc.Graph(id='graph1'),\n",
    "                                                ]) ,\n",
    "                                                \n",
    "                                        # BOXES OF INFO\n",
    "                                                # html.Div([ \n",
    "                                                #         html.Div([\n",
    "                                                #         html.H4('Company', style={'font-weight':'normal'}),\n",
    "                                                #         html.H3(id=\"name_company_id\")\n",
    "                                                #         ],className='box_ing'),\n",
    "                                                        \n",
    "                                                #         html.Div([\n",
    "                                                #         html.H4('Rating', style={'font-weight':'normal'}),\n",
    "                                                #         html.H3(id=\"rating_id\")],className='box_ing'),\n",
    "                                \n",
    "                                                #         html.Div([\n",
    "                                                #         html.H4('Country', style={'font-weight':'normal'}),\n",
    "                                                #         html.H3(id=\"country_id\"),\n",
    "                                                #         ],className='box_ing'),\n",
    "                                                                \n",
    "                                                #         ]) ,\n",
    "                                               \n",
    "                                        \n",
    "                                                # ],style={'display': 'flex'}) ,\n",
    "                                        \n",
    "                                      ],style={'display': 'flex'}),\n",
    "                                      ], id='visualizations'),\n",
    "\n",
    "                                #TREEMAP\n",
    "                                html.Div([ \n",
    "\n",
    "                                        html.Div([ \n",
    "                                                \n",
    "                                                #FILTROS\n",
    "                                                html.Div([ \n",
    "                                                          html.Label('What variable do you want to analyze?'),\n",
    "                                                          html.Br(),\n",
    "                                                html.Div([ \n",
    "                                                        \n",
    "                                                        dcc.Dropdown(\n",
    "                                                                id='dropvartree_id', \n",
    "                                                                options=tree_variables, \n",
    "                                                                value=['Quantity'],\n",
    "                                                                multi=False\n",
    "                                                                ),\n",
    "                                                                        ], className='box', style={'margin': '10px', 'padding-top':'15px', 'padding-bottom':'15px'}),\n",
    "\n",
    "                                                #html.Div([ \n",
    "                                                #        html.Label('Year'),\n",
    "                                                #        dcc.Slider(min=1991, \n",
    "                                                #                   max=2019,\n",
    "                                                #                   step=1,\n",
    "                                                #                   value=2010,\n",
    "                                                #                   id='sliceryeartree_id',\n",
    "                                                 #                 )\n",
    "        \n",
    "                                                 #       ]) ,\n",
    "                                                \n",
    "                                                \n",
    "\n",
    "\n",
    "                                                html.H4(\"Pick a Flow:\"),\n",
    "                                                        html.Div([\n",
    "                                                                html.Div([\n",
    "                                                                        dcc.RadioItems(\n",
    "                                                                                id=\"radioflowtree_id\",\n",
    "                                                                                options=tree_flows_Dict, \n",
    "                                                                                value='Export'\n",
    "                                                                                ),\n",
    "                                                                        ]),\n",
    "                                \n",
    "                                                        ]),\n",
    "                                                       # ]),\n",
    "                                                ],style={'width': '50%'}) ,\n",
    "                                        # VIS TREEMAP\n",
    "                                         \n",
    "                                               # html.Div([ \n",
    "                                               #         dcc.Graph(id='treemap_vis'),\n",
    "                                               # ]) ,\n",
    "                                                html.Div([\n",
    "                                                        dcc.Graph(id='treemap_vis'),\n",
    "                                                        dcc.Slider(\n",
    "                                                                groupby_flows['Year'].min(),  ################\n",
    "                                                                groupby_flows['Year'].max(),\n",
    "                                                                step=None,\n",
    "                                                                value=groupby_flows['Year'].min(),\n",
    "                                                                marks={str(year): str(year) for year in groupby_flows['Year'].unique()},\n",
    "                                                                id='treeyear_slider'\n",
    "                                                                )\n",
    "                                                        ]) ,\n",
    "                                                \n",
    "                                                ]),\n",
    "\n",
    "                                \n",
    "                         \n",
    "                                        ]),\n",
    "                                ]),\n",
    "                        ])\n"
   ]
  },
  {
   "cell_type": "code",
   "execution_count": 277,
   "metadata": {},
   "outputs": [],
   "source": [
    "\n",
    "@app.callback(\n",
    "   \n",
    "   Output('radar', 'figure'),\n",
    "   \n",
    "    [Input('drop_comp1_id', 'value'),\n",
    "     Input('drop_comp2_id','value')] )\n",
    "\n",
    "def update_radar(company1,company2):\n",
    "\n",
    "    feat_radar = ['cocoa_percent', 'rating', 'counts_of_ingredients', 'count_tastes']\n",
    "\n",
    "    radar = pd.DataFrame(round(test_taste.groupby(by = 'company')[feat_radar].mean(),2))\n",
    "    radar['company_name'] = radar.index\n",
    "    radar.insert(0, 'cocoa_level', round((5 * radar['cocoa_percent']) / 100, 2))\n",
    "    radar.drop(columns = {'cocoa_percent'}, inplace = True)\n",
    "    \n",
    "    feat_radar = ['cocoa_level', 'rating', 'counts_of_ingredients', 'count_tastes']\n",
    "\n",
    "    company1_list = []\n",
    "\n",
    "    company1_df = pd.DataFrame(radar[radar['company_name'] == company1])\n",
    "    for i in range(len(radar.columns)-1):\n",
    "        company1_list.append(radar[radar['company_name'] == company1].iloc[0,i])\n",
    "\n",
    "    company2_list = []\n",
    "\n",
    "    company2_df = pd.DataFrame(radar[radar['company_name'] == company2])\n",
    "    for i in range(len(radar.columns)-1):\n",
    "        company2_list.append(radar[radar['company_name'] == company2].iloc[0,i])\n",
    "\n",
    "\n",
    "    fig = go.Figure(data=go.Scatterpolar(\n",
    "            r=company1_list,\n",
    "            theta=['Level of Cocoa', 'Rating', 'Number of Ingredients', 'Number of Tastes'],\n",
    "            fill='toself', \n",
    "            marker_color = 'rgb(205,102,29)',   \n",
    "            opacity =1, \n",
    "            hoverinfo = \"text\" ,\n",
    "            name = company1,\n",
    "            text  = [company1_df.columns[i] + ' = ' + str(company1_df.iloc[0,i]) for i in range(len(company1_list))]\n",
    "        ), layout = Layout(\n",
    "        paper_bgcolor='rgba(0,0,0,0)',\n",
    "        plot_bgcolor='rgba(0,0,0,0)'))\n",
    "    \n",
    "    fig.add_trace(go.Scatterpolar(\n",
    "            r=company2_list,\n",
    "            theta=['Level of Cocoa', 'Rating', 'Number of Ingredients', 'Number of Tastes'],\n",
    "            fill='toself',\n",
    "            marker_color = 'rgb(193,255,193)',\n",
    "            hoverinfo = \"text\" ,\n",
    "            name= company2,\n",
    "            text  = [company2_df.columns[i] + ' = ' + str(company2_df.iloc[0,i]) for i in range(len(company2_list))]\n",
    "            ))\n",
    "\n",
    "    fig.update_layout(\n",
    "    polar=dict(\n",
    "        radialaxis=dict(\n",
    "        visible=True,\n",
    "        range=[0, 5]\n",
    "        )),\n",
    "    showlegend=True\n",
    "    )\n",
    "\n",
    "    return fig\n",
    "\n",
    "\n",
    "@app.callback(\n",
    "   \n",
    "   [Output(\"name_company_id\", \"children\"),\n",
    "    Output(\"rating_id\", \"children\"),\n",
    "    Output(\"country_id\", \"children\"),\n",
    "    Output('graph1', 'figure')],\n",
    "   \n",
    "    [Input('drop_id', 'value'),\n",
    "     Input('percent_id','value')] )\n",
    "\n",
    "def update_graph(drop_id,percent_id):\n",
    "    \n",
    "    filtered=data\n",
    "    \n",
    "    for each in drop_id:\n",
    "        filtered=filtered[filtered.isin([each]).any(1)] \n",
    "    \n",
    "    filtered = filtered[(filtered['cocoa_percent'] >= percent_id[0]) & (filtered['cocoa_percent'] <= percent_id[1])]\n",
    "    maxi=np.max(filtered['rating'])\n",
    "   \n",
    "    filtered['color_max'] = np.where((filtered['rating'] == maxi), 1, 0)\n",
    "    filtered=filtered.sort_values(by=['color_max'], ascending=False)\n",
    " \n",
    "    group_=filtered[filtered['rating']==maxi].groupby(by=['company'])['rating'].mean().sort_values(ascending=False)\n",
    "    filtered=filtered.head(15)\n",
    "    ratings = filtered.rating.to_list()\n",
    "    countries=filtered.company_location.to_list()\n",
    "    initial_weights=filtered.rating.to_list()\n",
    "    words = filtered.company.to_list()\n",
    "\n",
    "    w_max= max(initial_weights)\n",
    "    w_min=min(initial_weights)\n",
    "    upper=15\n",
    "    lower=4\n",
    "    \n",
    "    if (w_max-w_min) ==0:\n",
    "        weights=[upper for x in initial_weights] \n",
    "    else:\n",
    "        weights=[lower+((x-w_min)*(upper-lower))/(w_max-w_min) for x in initial_weights]\n",
    "\n",
    "    nr_companies=len(filtered[filtered['color_max']==1])\n",
    "    colors = [plotly.colors.DEFAULT_PLOTLY_COLORS[1] for i in range(nr_companies)]\n",
    "    colors.extend(plotly.colors.DEFAULT_PLOTLY_COLORS[7] for i in range(len(filtered)-nr_companies))\n",
    "    \n",
    "    \n",
    "    \n",
    "    if len(filtered)>1:\n",
    "        group_=pd.DataFrame(filtered[filtered['rating']==maxi].groupby(by=['company'])['rating'].mean().sort_values(ascending=False))\n",
    "        name_company=str(group_.index[0])\n",
    "        rating=str(group_.head(1)['rating'].values[0])\n",
    "        country=str(filtered[filtered['company']==name_company].company_location.values[0])\n",
    "    \n",
    "    elif filtered.empty:\n",
    "        name_company = 'No company was found'\n",
    "        rating = 'No rating was found'\n",
    "        country= 'No country was found'\n",
    "        \n",
    "    else:\n",
    "        name_company=str(filtered.head(1)['company'].values[0])\n",
    "        rating=str(filtered.head(1)['rating'].values[0])\n",
    "        country=str(filtered.head(1)['company_location'].values[0])\n",
    "        \n",
    "        \n",
    "    data_inter = go.Scatter(x=random.choices(range(2000), k=len(filtered)),\n",
    "                            y=random.choices(range(2000), k=len(filtered)),\n",
    "                            mode='text',\n",
    "                            text=words,\n",
    "                            marker={'opacity': 0.3},\n",
    "                            textfont={'size': weights, 'color': colors},\n",
    "                            hovertext=['Rating: '+str(f)+'; Country: ' + str(p) for f, p in zip(ratings, countries)],\n",
    "                            hoverinfo='text')\n",
    "                                  #'Country' + str(filtered[filtered['company']==i]['company_location'].values[0] for i in words)\n",
    "                                \n",
    "\n",
    "    layout_1 = go.Layout({'xaxis': {'showgrid': False, 'showticklabels': False, 'zeroline': False},\n",
    "            'yaxis': {'showgrid': False, 'showticklabels': False, 'zeroline': False}} )\n",
    "    \n",
    "    fig = go.Figure(data=[data_inter], layout=layout_1)\n",
    "\n",
    "    fig.update_layout(paper_bgcolor='rgba(0,0,0,0)', plot_bgcolor='rgba(0,0,0,0)', title='Word Cloud')\n",
    "    \n",
    "    return name_company ,  \\\n",
    "           rating , \\\n",
    "           country , \\\n",
    "           fig\n",
    "\n",
    "@app.callback(\n",
    "    Output(\"choroplethmapbox\", \"figure\"),\n",
    "    [\n",
    "        Input(\"country_radio\", \"value\"),\n",
    "        Input(\"number_radio\", \"value\")\n",
    "\n",
    "    ]\n",
    ")\n",
    "\n",
    "def make_choroplethmap(country_radio,number_radio):\n",
    "    if country_radio == 'country_of_bean_origin':\n",
    "        df = data_origin\n",
    "        main_title1=\"Country of Bean Origin\"\n",
    "    elif country_radio == \"company_location\":\n",
    "        df = data_company\n",
    "        main_title1 = \"Location of Company\"\n",
    "\n",
    "    if number_radio == \"rating\":\n",
    "        legend_title=\"Average rating of chocolates\"\n",
    "    elif number_radio == \"ref\":\n",
    "        legend_title=\"Frequency\"\n",
    "    \n",
    "\n",
    "    data_choroplethmap = dict(type='choroplethmapbox', \n",
    "                            geojson=data_geo,\n",
    "                            locations=df[\"country\"], \n",
    "                            #locationmode=\"country names\",\n",
    "                            z=df[number_radio],                         \n",
    "                            colorscale='brwnyl',\n",
    "                            colorbar=dict(title=legend_title),\n",
    "                            )\n",
    "\n",
    "    layout_choroplethmap = dict(mapbox=dict(style='white-bg',\n",
    "                                layers=[dict(source=feature,\n",
    "                                            below='traces',\n",
    "                                            type='fill',\n",
    "                                            fill=dict(outlinecolor='gray')\n",
    "                                            ) for feature in data_geo['features']]\n",
    "                                            ),\n",
    "                                title=dict(text=main_title1,\n",
    "                                        x=.5 # Title relative position according to the xaxis, range (0,1)\n",
    "                                        )\n",
    "                            )\n",
    "    \n",
    "    fig_choroplethmap = go.Figure(data=data_choroplethmap, layout=layout_choroplethmap)\n",
    "\n",
    "    return fig_choroplethmap\n",
    "\n",
    "\n"
   ]
  },
  {
   "cell_type": "code",
   "execution_count": 278,
   "metadata": {},
   "outputs": [
    {
     "name": "stdout",
     "output_type": "stream",
     "text": [
      "Dash is running on http://127.0.0.1:8050/\n",
      "\n",
      "Dash is running on http://127.0.0.1:8050/\n",
      "\n",
      "Dash is running on http://127.0.0.1:8050/\n",
      "\n",
      "Dash is running on http://127.0.0.1:8050/\n",
      "\n",
      "Dash is running on http://127.0.0.1:8050/\n",
      "\n",
      "Dash is running on http://127.0.0.1:8050/\n",
      "\n",
      "Dash is running on http://127.0.0.1:8050/\n",
      "\n",
      "Dash is running on http://127.0.0.1:8050/\n",
      "\n",
      "Dash is running on http://127.0.0.1:8050/\n",
      "\n",
      "Dash is running on http://127.0.0.1:8050/\n",
      "\n",
      "Dash is running on http://127.0.0.1:8050/\n",
      "\n",
      "Dash is running on http://127.0.0.1:8050/\n",
      "\n",
      "Dash is running on http://127.0.0.1:8050/\n",
      "\n",
      "Dash is running on http://127.0.0.1:8050/\n",
      "\n",
      "Dash is running on http://127.0.0.1:8050/\n",
      "\n",
      "Dash is running on http://127.0.0.1:8050/\n",
      "\n",
      "Dash is running on http://127.0.0.1:8050/\n",
      "\n",
      "Dash is running on http://127.0.0.1:8050/\n",
      "\n",
      "Dash is running on http://127.0.0.1:8050/\n",
      "\n",
      "Dash is running on http://127.0.0.1:8050/\n",
      "\n",
      "Dash is running on http://127.0.0.1:8050/\n",
      "\n",
      "Dash is running on http://127.0.0.1:8050/\n",
      "\n",
      "Dash is running on http://127.0.0.1:8050/\n",
      "\n",
      "Dash is running on http://127.0.0.1:8050/\n",
      "\n",
      " * Serving Flask app \"__main__\" (lazy loading)\n",
      " * Environment: production\n",
      "   WARNING: This is a development server. Do not use it in a production deployment.\n",
      "   Use a production WSGI server instead.\n",
      " * Debug mode: off\n"
     ]
    },
    {
     "name": "stderr",
     "output_type": "stream",
     "text": [
      " * Running on http://127.0.0.1:8050/ (Press CTRL+C to quit)\n",
      "127.0.0.1 - - [04/Apr/2022 21:49:05] \"\u001b[37mGET / HTTP/1.1\u001b[0m\" 200 -\n",
      "127.0.0.1 - - [04/Apr/2022 21:49:06] \"\u001b[37mGET /_dash-layout HTTP/1.1\u001b[0m\" 200 -\n",
      "127.0.0.1 - - [04/Apr/2022 21:49:06] \"\u001b[37mGET /_dash-dependencies HTTP/1.1\u001b[0m\" 200 -\n",
      "127.0.0.1 - - [04/Apr/2022 21:49:06] \"\u001b[37mGET /_favicon.ico?v=2.3.0 HTTP/1.1\u001b[0m\" 200 -\n",
      "127.0.0.1 - - [04/Apr/2022 21:49:06] \"\u001b[37mGET /_dash-component-suites/dash/dcc/async-graph.js HTTP/1.1\u001b[0m\" 200 -\n",
      "127.0.0.1 - - [04/Apr/2022 21:49:06] \"\u001b[37mGET /_dash-component-suites/dash/dcc/async-plotlyjs.js HTTP/1.1\u001b[0m\" 200 -\n",
      "127.0.0.1 - - [04/Apr/2022 21:49:06] \"\u001b[37mGET /_dash-component-suites/dash/dcc/async-dropdown.js HTTP/1.1\u001b[0m\" 200 -\n",
      "127.0.0.1 - - [04/Apr/2022 21:49:06] \"\u001b[37mGET /_dash-component-suites/dash/dcc/async-slider.js HTTP/1.1\u001b[0m\" 200 -\n",
      "127.0.0.1 - - [04/Apr/2022 21:49:06] \"\u001b[37mPOST /_dash-update-component HTTP/1.1\u001b[0m\" 200 -\n",
      "127.0.0.1 - - [04/Apr/2022 21:49:06] \"\u001b[37mPOST /_dash-update-component HTTP/1.1\u001b[0m\" 200 -\n"
     ]
    },
    {
     "name": "stdout",
     "output_type": "stream",
     "text": [
      "Exception on /_dash-update-component [POST]\n",
      "Traceback (most recent call last):\n",
      "  File \"C:\\Users\\beatr\\anaconda3\\lib\\site-packages\\flask\\app.py\", line 2447, in wsgi_app\n",
      "    response = self.full_dispatch_request()\n",
      "  File \"C:\\Users\\beatr\\anaconda3\\lib\\site-packages\\flask\\app.py\", line 1952, in full_dispatch_request\n",
      "    rv = self.handle_user_exception(e)\n",
      "  File \"C:\\Users\\beatr\\anaconda3\\lib\\site-packages\\flask\\app.py\", line 1821, in handle_user_exception\n",
      "    reraise(exc_type, exc_value, tb)\n",
      "  File \"C:\\Users\\beatr\\anaconda3\\lib\\site-packages\\flask\\_compat.py\", line 39, in reraise\n",
      "    raise value\n",
      "  File \"C:\\Users\\beatr\\anaconda3\\lib\\site-packages\\flask\\app.py\", line 1950, in full_dispatch_request\n",
      "    rv = self.dispatch_request()\n",
      "  File \"C:\\Users\\beatr\\anaconda3\\lib\\site-packages\\flask\\app.py\", line 1936, in dispatch_request\n",
      "    return self.view_functions[rule.endpoint](**req.view_args)\n",
      "  File \"C:\\Users\\beatr\\anaconda3\\lib\\site-packages\\dash\\dash.py\", line 1345, in dispatch\n",
      "    response.set_data(func(*args, outputs_list=outputs_list))\n",
      "  File \"C:\\Users\\beatr\\anaconda3\\lib\\site-packages\\dash\\_callback.py\", line 151, in add_context\n",
      "    output_value = func(*func_args, **func_kwargs)  # %% callback invoked %%\n",
      "  File \"<ipython-input-278-d2cfb6ae60dd>\", line 12, in update_treemap\n",
      "    fig = px.treemap(filtered_df, path=['Country or Area'],values=selected_var, color=selected_var, color_continuous_scale='brwnyl',\n",
      "  File \"C:\\Users\\beatr\\anaconda3\\lib\\site-packages\\plotly\\express\\_chart_types.py\", line 1473, in treemap\n",
      "    return make_figure(\n",
      "  File \"C:\\Users\\beatr\\anaconda3\\lib\\site-packages\\plotly\\express\\_core.py\", line 1879, in make_figure\n",
      "    args = build_dataframe(args, constructor)\n",
      "  File \"C:\\Users\\beatr\\anaconda3\\lib\\site-packages\\plotly\\express\\_core.py\", line 1399, in build_dataframe\n",
      "    df_output, wide_id_vars = process_args_into_dataframe(\n",
      "  File \"C:\\Users\\beatr\\anaconda3\\lib\\site-packages\\plotly\\express\\_core.py\", line 1207, in process_args_into_dataframe\n",
      "    raise ValueError(\n",
      "ValueError: All arguments should have the same length. The length of column argument `df[path_0]` is 22, whereas the length of  previously-processed arguments ['values'] is 1\n",
      "Exception on /_dash-update-component [POST]\n",
      "Traceback (most recent call last):\n",
      "  File \"C:\\Users\\beatr\\anaconda3\\lib\\site-packages\\flask\\app.py\", line 2447, in wsgi_app\n",
      "    response = self.full_dispatch_request()\n",
      "  File \"C:\\Users\\beatr\\anaconda3\\lib\\site-packages\\flask\\app.py\", line 1952, in full_dispatch_request\n",
      "    rv = self.handle_user_exception(e)\n",
      "  File \"C:\\Users\\beatr\\anaconda3\\lib\\site-packages\\flask\\app.py\", line 1821, in handle_user_exception\n",
      "    reraise(exc_type, exc_value, tb)\n",
      "  File \"C:\\Users\\beatr\\anaconda3\\lib\\site-packages\\flask\\_compat.py\", line 39, in reraise\n",
      "    raise value\n",
      "  File \"C:\\Users\\beatr\\anaconda3\\lib\\site-packages\\flask\\app.py\", line 1950, in full_dispatch_request\n",
      "    rv = self.dispatch_request()\n",
      "  File \"C:\\Users\\beatr\\anaconda3\\lib\\site-packages\\flask\\app.py\", line 1936, in dispatch_request\n",
      "    return self.view_functions[rule.endpoint](**req.view_args)\n",
      "  File \"C:\\Users\\beatr\\anaconda3\\lib\\site-packages\\dash\\dash.py\", line 1345, in dispatch\n",
      "    response.set_data(func(*args, outputs_list=outputs_list))\n",
      "  File \"C:\\Users\\beatr\\anaconda3\\lib\\site-packages\\dash\\_callback.py\", line 151, in add_context\n",
      "    output_value = func(*func_args, **func_kwargs)  # %% callback invoked %%\n",
      "  File \"<ipython-input-278-d2cfb6ae60dd>\", line 12, in update_treemap\n",
      "    fig = px.treemap(filtered_df, path=['Country or Area'],values=selected_var, color=selected_var, color_continuous_scale='brwnyl',\n",
      "  File \"C:\\Users\\beatr\\anaconda3\\lib\\site-packages\\plotly\\express\\_chart_types.py\", line 1473, in treemap\n",
      "    return make_figure(\n",
      "  File \"C:\\Users\\beatr\\anaconda3\\lib\\site-packages\\plotly\\express\\_core.py\", line 1879, in make_figure\n",
      "    args = build_dataframe(args, constructor)\n",
      "  File \"C:\\Users\\beatr\\anaconda3\\lib\\site-packages\\plotly\\express\\_core.py\", line 1399, in build_dataframe\n",
      "    df_output, wide_id_vars = process_args_into_dataframe(\n",
      "  File \"C:\\Users\\beatr\\anaconda3\\lib\\site-packages\\plotly\\express\\_core.py\", line 1207, in process_args_into_dataframe\n",
      "    raise ValueError(\n",
      "ValueError: All arguments should have the same length. The length of column argument `df[path_0]` is 22, whereas the length of  previously-processed arguments ['values'] is 1\n",
      "Exception on /_dash-update-component [POST]\n",
      "Traceback (most recent call last):\n",
      "  File \"C:\\Users\\beatr\\anaconda3\\lib\\site-packages\\flask\\app.py\", line 2447, in wsgi_app\n",
      "    response = self.full_dispatch_request()\n",
      "  File \"C:\\Users\\beatr\\anaconda3\\lib\\site-packages\\flask\\app.py\", line 1952, in full_dispatch_request\n",
      "    rv = self.handle_user_exception(e)\n",
      "  File \"C:\\Users\\beatr\\anaconda3\\lib\\site-packages\\flask\\app.py\", line 1821, in handle_user_exception\n",
      "    reraise(exc_type, exc_value, tb)\n",
      "  File \"C:\\Users\\beatr\\anaconda3\\lib\\site-packages\\flask\\_compat.py\", line 39, in reraise\n",
      "    raise value\n",
      "  File \"C:\\Users\\beatr\\anaconda3\\lib\\site-packages\\flask\\app.py\", line 1950, in full_dispatch_request\n",
      "    rv = self.dispatch_request()\n",
      "  File \"C:\\Users\\beatr\\anaconda3\\lib\\site-packages\\flask\\app.py\", line 1936, in dispatch_request\n",
      "    return self.view_functions[rule.endpoint](**req.view_args)\n",
      "  File \"C:\\Users\\beatr\\anaconda3\\lib\\site-packages\\dash\\dash.py\", line 1345, in dispatch\n",
      "    response.set_data(func(*args, outputs_list=outputs_list))\n",
      "  File \"C:\\Users\\beatr\\anaconda3\\lib\\site-packages\\dash\\_callback.py\", line 151, in add_context\n",
      "    output_value = func(*func_args, **func_kwargs)  # %% callback invoked %%\n",
      "  File \"<ipython-input-278-d2cfb6ae60dd>\", line 12, in update_treemap\n",
      "    fig = px.treemap(filtered_df, path=['Country or Area'],values=selected_var, color=selected_var, color_continuous_scale='brwnyl',\n",
      "  File \"C:\\Users\\beatr\\anaconda3\\lib\\site-packages\\plotly\\express\\_chart_types.py\", line 1473, in treemap\n",
      "    return make_figure(\n",
      "  File \"C:\\Users\\beatr\\anaconda3\\lib\\site-packages\\plotly\\express\\_core.py\", line 1879, in make_figure\n",
      "    args = build_dataframe(args, constructor)\n",
      "  File \"C:\\Users\\beatr\\anaconda3\\lib\\site-packages\\plotly\\express\\_core.py\", line 1399, in build_dataframe\n",
      "    df_output, wide_id_vars = process_args_into_dataframe(\n",
      "  File \"C:\\Users\\beatr\\anaconda3\\lib\\site-packages\\plotly\\express\\_core.py\", line 1207, in process_args_into_dataframe\n",
      "    raise ValueError(\n",
      "ValueError: All arguments should have the same length. The length of column argument `df[path_0]` is 22, whereas the length of  previously-processed arguments ['values'] is 1\n",
      "Exception on /_dash-update-component [POST]\n",
      "Traceback (most recent call last):\n",
      "  File \"C:\\Users\\beatr\\anaconda3\\lib\\site-packages\\flask\\app.py\", line 2447, in wsgi_app\n",
      "    response = self.full_dispatch_request()\n",
      "  File \"C:\\Users\\beatr\\anaconda3\\lib\\site-packages\\flask\\app.py\", line 1952, in full_dispatch_request\n",
      "    rv = self.handle_user_exception(e)\n",
      "  File \"C:\\Users\\beatr\\anaconda3\\lib\\site-packages\\flask\\app.py\", line 1821, in handle_user_exception\n",
      "    reraise(exc_type, exc_value, tb)\n",
      "  File \"C:\\Users\\beatr\\anaconda3\\lib\\site-packages\\flask\\_compat.py\", line 39, in reraise\n",
      "    raise value\n",
      "  File \"C:\\Users\\beatr\\anaconda3\\lib\\site-packages\\flask\\app.py\", line 1950, in full_dispatch_request\n",
      "    rv = self.dispatch_request()\n",
      "  File \"C:\\Users\\beatr\\anaconda3\\lib\\site-packages\\flask\\app.py\", line 1936, in dispatch_request\n",
      "    return self.view_functions[rule.endpoint](**req.view_args)\n",
      "  File \"C:\\Users\\beatr\\anaconda3\\lib\\site-packages\\dash\\dash.py\", line 1345, in dispatch\n",
      "    response.set_data(func(*args, outputs_list=outputs_list))\n",
      "  File \"C:\\Users\\beatr\\anaconda3\\lib\\site-packages\\dash\\_callback.py\", line 151, in add_context\n",
      "    output_value = func(*func_args, **func_kwargs)  # %% callback invoked %%\n",
      "  File \"<ipython-input-278-d2cfb6ae60dd>\", line 12, in update_treemap\n",
      "    fig = px.treemap(filtered_df, path=['Country or Area'],values=selected_var, color=selected_var, color_continuous_scale='brwnyl',\n",
      "  File \"C:\\Users\\beatr\\anaconda3\\lib\\site-packages\\plotly\\express\\_chart_types.py\", line 1473, in treemap\n",
      "    return make_figure(\n",
      "  File \"C:\\Users\\beatr\\anaconda3\\lib\\site-packages\\plotly\\express\\_core.py\", line 1879, in make_figure\n",
      "    args = build_dataframe(args, constructor)\n",
      "  File \"C:\\Users\\beatr\\anaconda3\\lib\\site-packages\\plotly\\express\\_core.py\", line 1399, in build_dataframe\n",
      "    df_output, wide_id_vars = process_args_into_dataframe(\n",
      "  File \"C:\\Users\\beatr\\anaconda3\\lib\\site-packages\\plotly\\express\\_core.py\", line 1207, in process_args_into_dataframe\n",
      "    raise ValueError(\n",
      "ValueError: All arguments should have the same length. The length of column argument `df[path_0]` is 22, whereas the length of  previously-processed arguments ['values'] is 1\n",
      "Exception on /_dash-update-component [POST]\n",
      "Traceback (most recent call last):\n",
      "  File \"C:\\Users\\beatr\\anaconda3\\lib\\site-packages\\flask\\app.py\", line 2447, in wsgi_app\n",
      "    response = self.full_dispatch_request()\n",
      "  File \"C:\\Users\\beatr\\anaconda3\\lib\\site-packages\\flask\\app.py\", line 1952, in full_dispatch_request\n",
      "    rv = self.handle_user_exception(e)\n",
      "  File \"C:\\Users\\beatr\\anaconda3\\lib\\site-packages\\flask\\app.py\", line 1821, in handle_user_exception\n",
      "    reraise(exc_type, exc_value, tb)\n",
      "  File \"C:\\Users\\beatr\\anaconda3\\lib\\site-packages\\flask\\_compat.py\", line 39, in reraise\n",
      "    raise value\n",
      "  File \"C:\\Users\\beatr\\anaconda3\\lib\\site-packages\\flask\\app.py\", line 1950, in full_dispatch_request\n",
      "    rv = self.dispatch_request()\n",
      "  File \"C:\\Users\\beatr\\anaconda3\\lib\\site-packages\\flask\\app.py\", line 1936, in dispatch_request\n",
      "    return self.view_functions[rule.endpoint](**req.view_args)\n",
      "  File \"C:\\Users\\beatr\\anaconda3\\lib\\site-packages\\dash\\dash.py\", line 1345, in dispatch\n",
      "    response.set_data(func(*args, outputs_list=outputs_list))\n",
      "  File \"C:\\Users\\beatr\\anaconda3\\lib\\site-packages\\dash\\_callback.py\", line 151, in add_context\n",
      "    output_value = func(*func_args, **func_kwargs)  # %% callback invoked %%\n",
      "  File \"<ipython-input-278-d2cfb6ae60dd>\", line 12, in update_treemap\n",
      "    fig = px.treemap(filtered_df, path=['Country or Area'],values=selected_var, color=selected_var, color_continuous_scale='brwnyl',\n",
      "  File \"C:\\Users\\beatr\\anaconda3\\lib\\site-packages\\plotly\\express\\_chart_types.py\", line 1473, in treemap\n",
      "    return make_figure(\n",
      "  File \"C:\\Users\\beatr\\anaconda3\\lib\\site-packages\\plotly\\express\\_core.py\", line 1879, in make_figure\n",
      "    args = build_dataframe(args, constructor)\n",
      "  File \"C:\\Users\\beatr\\anaconda3\\lib\\site-packages\\plotly\\express\\_core.py\", line 1399, in build_dataframe\n",
      "    df_output, wide_id_vars = process_args_into_dataframe(\n",
      "  File \"C:\\Users\\beatr\\anaconda3\\lib\\site-packages\\plotly\\express\\_core.py\", line 1207, in process_args_into_dataframe\n",
      "    raise ValueError(\n",
      "ValueError: All arguments should have the same length. The length of column argument `df[path_0]` is 22, whereas the length of  previously-processed arguments ['values'] is 1\n",
      "Exception on /_dash-update-component [POST]\n",
      "Traceback (most recent call last):\n",
      "  File \"C:\\Users\\beatr\\anaconda3\\lib\\site-packages\\flask\\app.py\", line 2447, in wsgi_app\n",
      "    response = self.full_dispatch_request()\n",
      "  File \"C:\\Users\\beatr\\anaconda3\\lib\\site-packages\\flask\\app.py\", line 1952, in full_dispatch_request\n",
      "    rv = self.handle_user_exception(e)\n",
      "  File \"C:\\Users\\beatr\\anaconda3\\lib\\site-packages\\flask\\app.py\", line 1821, in handle_user_exception\n",
      "    reraise(exc_type, exc_value, tb)\n",
      "  File \"C:\\Users\\beatr\\anaconda3\\lib\\site-packages\\flask\\_compat.py\", line 39, in reraise\n",
      "    raise value\n",
      "  File \"C:\\Users\\beatr\\anaconda3\\lib\\site-packages\\flask\\app.py\", line 1950, in full_dispatch_request\n",
      "    rv = self.dispatch_request()\n",
      "  File \"C:\\Users\\beatr\\anaconda3\\lib\\site-packages\\flask\\app.py\", line 1936, in dispatch_request\n",
      "    return self.view_functions[rule.endpoint](**req.view_args)\n",
      "  File \"C:\\Users\\beatr\\anaconda3\\lib\\site-packages\\dash\\dash.py\", line 1345, in dispatch\n",
      "    response.set_data(func(*args, outputs_list=outputs_list))\n",
      "  File \"C:\\Users\\beatr\\anaconda3\\lib\\site-packages\\dash\\_callback.py\", line 151, in add_context\n",
      "    output_value = func(*func_args, **func_kwargs)  # %% callback invoked %%\n",
      "  File \"<ipython-input-278-d2cfb6ae60dd>\", line 12, in update_treemap\n",
      "    fig = px.treemap(filtered_df, path=['Country or Area'],values=selected_var, color=selected_var, color_continuous_scale='brwnyl',\n",
      "  File \"C:\\Users\\beatr\\anaconda3\\lib\\site-packages\\plotly\\express\\_chart_types.py\", line 1473, in treemap\n",
      "    return make_figure(\n",
      "  File \"C:\\Users\\beatr\\anaconda3\\lib\\site-packages\\plotly\\express\\_core.py\", line 1879, in make_figure\n",
      "    args = build_dataframe(args, constructor)\n",
      "  File \"C:\\Users\\beatr\\anaconda3\\lib\\site-packages\\plotly\\express\\_core.py\", line 1399, in build_dataframe\n",
      "    df_output, wide_id_vars = process_args_into_dataframe(\n",
      "  File \"C:\\Users\\beatr\\anaconda3\\lib\\site-packages\\plotly\\express\\_core.py\", line 1207, in process_args_into_dataframe\n",
      "    raise ValueError(\n",
      "ValueError: All arguments should have the same length. The length of column argument `df[path_0]` is 22, whereas the length of  previously-processed arguments ['values'] is 1\n",
      "Exception on /_dash-update-component [POST]\n",
      "Traceback (most recent call last):\n",
      "  File \"C:\\Users\\beatr\\anaconda3\\lib\\site-packages\\flask\\app.py\", line 2447, in wsgi_app\n",
      "    response = self.full_dispatch_request()\n",
      "  File \"C:\\Users\\beatr\\anaconda3\\lib\\site-packages\\flask\\app.py\", line 1952, in full_dispatch_request\n",
      "    rv = self.handle_user_exception(e)\n",
      "  File \"C:\\Users\\beatr\\anaconda3\\lib\\site-packages\\flask\\app.py\", line 1821, in handle_user_exception\n",
      "    reraise(exc_type, exc_value, tb)\n",
      "  File \"C:\\Users\\beatr\\anaconda3\\lib\\site-packages\\flask\\_compat.py\", line 39, in reraise\n",
      "    raise value\n",
      "  File \"C:\\Users\\beatr\\anaconda3\\lib\\site-packages\\flask\\app.py\", line 1950, in full_dispatch_request\n",
      "    rv = self.dispatch_request()\n",
      "  File \"C:\\Users\\beatr\\anaconda3\\lib\\site-packages\\flask\\app.py\", line 1936, in dispatch_request\n",
      "    return self.view_functions[rule.endpoint](**req.view_args)\n",
      "  File \"C:\\Users\\beatr\\anaconda3\\lib\\site-packages\\dash\\dash.py\", line 1345, in dispatch\n",
      "    response.set_data(func(*args, outputs_list=outputs_list))\n",
      "  File \"C:\\Users\\beatr\\anaconda3\\lib\\site-packages\\dash\\_callback.py\", line 151, in add_context\n",
      "    output_value = func(*func_args, **func_kwargs)  # %% callback invoked %%\n",
      "  File \"<ipython-input-278-d2cfb6ae60dd>\", line 12, in update_treemap\n",
      "    fig = px.treemap(filtered_df, path=['Country or Area'],values=selected_var, color=selected_var, color_continuous_scale='brwnyl',\n",
      "  File \"C:\\Users\\beatr\\anaconda3\\lib\\site-packages\\plotly\\express\\_chart_types.py\", line 1473, in treemap\n",
      "    return make_figure(\n",
      "  File \"C:\\Users\\beatr\\anaconda3\\lib\\site-packages\\plotly\\express\\_core.py\", line 1879, in make_figure\n",
      "    args = build_dataframe(args, constructor)\n",
      "  File \"C:\\Users\\beatr\\anaconda3\\lib\\site-packages\\plotly\\express\\_core.py\", line 1399, in build_dataframe\n",
      "    df_output, wide_id_vars = process_args_into_dataframe(\n",
      "  File \"C:\\Users\\beatr\\anaconda3\\lib\\site-packages\\plotly\\express\\_core.py\", line 1207, in process_args_into_dataframe\n",
      "    raise ValueError(\n",
      "ValueError: All arguments should have the same length. The length of column argument `df[path_0]` is 22, whereas the length of  previously-processed arguments ['values'] is 1\n",
      "Exception on /_dash-update-component [POST]\n",
      "Traceback (most recent call last):\n",
      "  File \"C:\\Users\\beatr\\anaconda3\\lib\\site-packages\\flask\\app.py\", line 2447, in wsgi_app\n",
      "    response = self.full_dispatch_request()\n",
      "  File \"C:\\Users\\beatr\\anaconda3\\lib\\site-packages\\flask\\app.py\", line 1952, in full_dispatch_request\n",
      "    rv = self.handle_user_exception(e)\n",
      "  File \"C:\\Users\\beatr\\anaconda3\\lib\\site-packages\\flask\\app.py\", line 1821, in handle_user_exception\n",
      "    reraise(exc_type, exc_value, tb)\n",
      "  File \"C:\\Users\\beatr\\anaconda3\\lib\\site-packages\\flask\\_compat.py\", line 39, in reraise\n",
      "    raise value\n",
      "  File \"C:\\Users\\beatr\\anaconda3\\lib\\site-packages\\flask\\app.py\", line 1950, in full_dispatch_request\n",
      "    rv = self.dispatch_request()\n",
      "  File \"C:\\Users\\beatr\\anaconda3\\lib\\site-packages\\flask\\app.py\", line 1936, in dispatch_request\n",
      "    return self.view_functions[rule.endpoint](**req.view_args)\n",
      "  File \"C:\\Users\\beatr\\anaconda3\\lib\\site-packages\\dash\\dash.py\", line 1345, in dispatch\n",
      "    response.set_data(func(*args, outputs_list=outputs_list))\n",
      "  File \"C:\\Users\\beatr\\anaconda3\\lib\\site-packages\\dash\\_callback.py\", line 151, in add_context\n",
      "    output_value = func(*func_args, **func_kwargs)  # %% callback invoked %%\n",
      "  File \"<ipython-input-278-d2cfb6ae60dd>\", line 12, in update_treemap\n",
      "    fig = px.treemap(filtered_df, path=['Country or Area'],values=selected_var, color=selected_var, color_continuous_scale='brwnyl',\n",
      "  File \"C:\\Users\\beatr\\anaconda3\\lib\\site-packages\\plotly\\express\\_chart_types.py\", line 1473, in treemap\n",
      "    return make_figure(\n",
      "  File \"C:\\Users\\beatr\\anaconda3\\lib\\site-packages\\plotly\\express\\_core.py\", line 1879, in make_figure\n",
      "    args = build_dataframe(args, constructor)\n",
      "  File \"C:\\Users\\beatr\\anaconda3\\lib\\site-packages\\plotly\\express\\_core.py\", line 1399, in build_dataframe\n",
      "    df_output, wide_id_vars = process_args_into_dataframe(\n",
      "  File \"C:\\Users\\beatr\\anaconda3\\lib\\site-packages\\plotly\\express\\_core.py\", line 1207, in process_args_into_dataframe\n",
      "    raise ValueError(\n",
      "ValueError: All arguments should have the same length. The length of column argument `df[path_0]` is 22, whereas the length of  previously-processed arguments ['values'] is 1\n",
      "Exception on /_dash-update-component [POST]\n",
      "Traceback (most recent call last):\n",
      "  File \"C:\\Users\\beatr\\anaconda3\\lib\\site-packages\\flask\\app.py\", line 2447, in wsgi_app\n",
      "    response = self.full_dispatch_request()\n",
      "  File \"C:\\Users\\beatr\\anaconda3\\lib\\site-packages\\flask\\app.py\", line 1952, in full_dispatch_request\n",
      "    rv = self.handle_user_exception(e)\n",
      "  File \"C:\\Users\\beatr\\anaconda3\\lib\\site-packages\\flask\\app.py\", line 1821, in handle_user_exception\n",
      "    reraise(exc_type, exc_value, tb)\n",
      "  File \"C:\\Users\\beatr\\anaconda3\\lib\\site-packages\\flask\\_compat.py\", line 39, in reraise\n",
      "    raise value\n",
      "  File \"C:\\Users\\beatr\\anaconda3\\lib\\site-packages\\flask\\app.py\", line 1950, in full_dispatch_request\n",
      "    rv = self.dispatch_request()\n",
      "  File \"C:\\Users\\beatr\\anaconda3\\lib\\site-packages\\flask\\app.py\", line 1936, in dispatch_request\n",
      "    return self.view_functions[rule.endpoint](**req.view_args)\n",
      "  File \"C:\\Users\\beatr\\anaconda3\\lib\\site-packages\\dash\\dash.py\", line 1345, in dispatch\n",
      "    response.set_data(func(*args, outputs_list=outputs_list))\n",
      "  File \"C:\\Users\\beatr\\anaconda3\\lib\\site-packages\\dash\\_callback.py\", line 151, in add_context\n",
      "    output_value = func(*func_args, **func_kwargs)  # %% callback invoked %%\n",
      "  File \"<ipython-input-278-d2cfb6ae60dd>\", line 12, in update_treemap\n",
      "    fig = px.treemap(filtered_df, path=['Country or Area'],values=selected_var, color=selected_var, color_continuous_scale='brwnyl',\n",
      "  File \"C:\\Users\\beatr\\anaconda3\\lib\\site-packages\\plotly\\express\\_chart_types.py\", line 1473, in treemap\n",
      "    return make_figure(\n",
      "  File \"C:\\Users\\beatr\\anaconda3\\lib\\site-packages\\plotly\\express\\_core.py\", line 1879, in make_figure\n",
      "    args = build_dataframe(args, constructor)\n",
      "  File \"C:\\Users\\beatr\\anaconda3\\lib\\site-packages\\plotly\\express\\_core.py\", line 1399, in build_dataframe\n",
      "    df_output, wide_id_vars = process_args_into_dataframe(\n",
      "  File \"C:\\Users\\beatr\\anaconda3\\lib\\site-packages\\plotly\\express\\_core.py\", line 1207, in process_args_into_dataframe\n",
      "    raise ValueError(\n",
      "ValueError: All arguments should have the same length. The length of column argument `df[path_0]` is 22, whereas the length of  previously-processed arguments ['values'] is 1\n",
      "Exception on /_dash-update-component [POST]\n",
      "Traceback (most recent call last):\n",
      "  File \"C:\\Users\\beatr\\anaconda3\\lib\\site-packages\\flask\\app.py\", line 2447, in wsgi_app\n",
      "    response = self.full_dispatch_request()\n",
      "  File \"C:\\Users\\beatr\\anaconda3\\lib\\site-packages\\flask\\app.py\", line 1952, in full_dispatch_request\n",
      "    rv = self.handle_user_exception(e)\n",
      "  File \"C:\\Users\\beatr\\anaconda3\\lib\\site-packages\\flask\\app.py\", line 1821, in handle_user_exception\n",
      "    reraise(exc_type, exc_value, tb)\n",
      "  File \"C:\\Users\\beatr\\anaconda3\\lib\\site-packages\\flask\\_compat.py\", line 39, in reraise\n",
      "    raise value\n",
      "  File \"C:\\Users\\beatr\\anaconda3\\lib\\site-packages\\flask\\app.py\", line 1950, in full_dispatch_request\n",
      "    rv = self.dispatch_request()\n",
      "  File \"C:\\Users\\beatr\\anaconda3\\lib\\site-packages\\flask\\app.py\", line 1936, in dispatch_request\n",
      "    return self.view_functions[rule.endpoint](**req.view_args)\n",
      "  File \"C:\\Users\\beatr\\anaconda3\\lib\\site-packages\\dash\\dash.py\", line 1345, in dispatch\n",
      "    response.set_data(func(*args, outputs_list=outputs_list))\n",
      "  File \"C:\\Users\\beatr\\anaconda3\\lib\\site-packages\\dash\\_callback.py\", line 151, in add_context\n",
      "    output_value = func(*func_args, **func_kwargs)  # %% callback invoked %%\n",
      "  File \"<ipython-input-278-d2cfb6ae60dd>\", line 12, in update_treemap\n",
      "    fig = px.treemap(filtered_df, path=['Country or Area'],values=selected_var, color=selected_var, color_continuous_scale='brwnyl',\n",
      "  File \"C:\\Users\\beatr\\anaconda3\\lib\\site-packages\\plotly\\express\\_chart_types.py\", line 1473, in treemap\n",
      "    return make_figure(\n",
      "  File \"C:\\Users\\beatr\\anaconda3\\lib\\site-packages\\plotly\\express\\_core.py\", line 1879, in make_figure\n",
      "    args = build_dataframe(args, constructor)\n",
      "  File \"C:\\Users\\beatr\\anaconda3\\lib\\site-packages\\plotly\\express\\_core.py\", line 1399, in build_dataframe\n",
      "    df_output, wide_id_vars = process_args_into_dataframe(\n",
      "  File \"C:\\Users\\beatr\\anaconda3\\lib\\site-packages\\plotly\\express\\_core.py\", line 1207, in process_args_into_dataframe\n",
      "    raise ValueError(\n",
      "ValueError: All arguments should have the same length. The length of column argument `df[path_0]` is 22, whereas the length of  previously-processed arguments ['values'] is 1\n",
      "Exception on /_dash-update-component [POST]\n",
      "Traceback (most recent call last):\n",
      "  File \"C:\\Users\\beatr\\anaconda3\\lib\\site-packages\\flask\\app.py\", line 2447, in wsgi_app\n",
      "    response = self.full_dispatch_request()\n",
      "  File \"C:\\Users\\beatr\\anaconda3\\lib\\site-packages\\flask\\app.py\", line 1952, in full_dispatch_request\n",
      "    rv = self.handle_user_exception(e)\n",
      "  File \"C:\\Users\\beatr\\anaconda3\\lib\\site-packages\\flask\\app.py\", line 1821, in handle_user_exception\n",
      "    reraise(exc_type, exc_value, tb)\n",
      "  File \"C:\\Users\\beatr\\anaconda3\\lib\\site-packages\\flask\\_compat.py\", line 39, in reraise\n",
      "    raise value\n",
      "  File \"C:\\Users\\beatr\\anaconda3\\lib\\site-packages\\flask\\app.py\", line 1950, in full_dispatch_request\n",
      "    rv = self.dispatch_request()\n",
      "  File \"C:\\Users\\beatr\\anaconda3\\lib\\site-packages\\flask\\app.py\", line 1936, in dispatch_request\n",
      "    return self.view_functions[rule.endpoint](**req.view_args)\n",
      "  File \"C:\\Users\\beatr\\anaconda3\\lib\\site-packages\\dash\\dash.py\", line 1345, in dispatch\n",
      "    response.set_data(func(*args, outputs_list=outputs_list))\n",
      "  File \"C:\\Users\\beatr\\anaconda3\\lib\\site-packages\\dash\\_callback.py\", line 151, in add_context\n",
      "    output_value = func(*func_args, **func_kwargs)  # %% callback invoked %%\n",
      "  File \"<ipython-input-278-d2cfb6ae60dd>\", line 12, in update_treemap\n",
      "    fig = px.treemap(filtered_df, path=['Country or Area'],values=selected_var, color=selected_var, color_continuous_scale='brwnyl',\n",
      "  File \"C:\\Users\\beatr\\anaconda3\\lib\\site-packages\\plotly\\express\\_chart_types.py\", line 1473, in treemap\n",
      "    return make_figure(\n",
      "  File \"C:\\Users\\beatr\\anaconda3\\lib\\site-packages\\plotly\\express\\_core.py\", line 1879, in make_figure\n",
      "    args = build_dataframe(args, constructor)\n",
      "  File \"C:\\Users\\beatr\\anaconda3\\lib\\site-packages\\plotly\\express\\_core.py\", line 1399, in build_dataframe\n",
      "    df_output, wide_id_vars = process_args_into_dataframe(\n",
      "  File \"C:\\Users\\beatr\\anaconda3\\lib\\site-packages\\plotly\\express\\_core.py\", line 1207, in process_args_into_dataframe\n",
      "    raise ValueError(\n",
      "ValueError: All arguments should have the same length. The length of column argument `df[path_0]` is 22, whereas the length of  previously-processed arguments ['values'] is 1\n",
      "Exception on /_dash-update-component [POST]\n",
      "Traceback (most recent call last):\n",
      "  File \"C:\\Users\\beatr\\anaconda3\\lib\\site-packages\\flask\\app.py\", line 2447, in wsgi_app\n",
      "    response = self.full_dispatch_request()\n",
      "  File \"C:\\Users\\beatr\\anaconda3\\lib\\site-packages\\flask\\app.py\", line 1952, in full_dispatch_request\n",
      "    rv = self.handle_user_exception(e)\n",
      "  File \"C:\\Users\\beatr\\anaconda3\\lib\\site-packages\\flask\\app.py\", line 1821, in handle_user_exception\n",
      "    reraise(exc_type, exc_value, tb)\n",
      "  File \"C:\\Users\\beatr\\anaconda3\\lib\\site-packages\\flask\\_compat.py\", line 39, in reraise\n",
      "    raise value\n",
      "  File \"C:\\Users\\beatr\\anaconda3\\lib\\site-packages\\flask\\app.py\", line 1950, in full_dispatch_request\n",
      "    rv = self.dispatch_request()\n",
      "  File \"C:\\Users\\beatr\\anaconda3\\lib\\site-packages\\flask\\app.py\", line 1936, in dispatch_request\n",
      "    return self.view_functions[rule.endpoint](**req.view_args)\n",
      "  File \"C:\\Users\\beatr\\anaconda3\\lib\\site-packages\\dash\\dash.py\", line 1345, in dispatch\n",
      "    response.set_data(func(*args, outputs_list=outputs_list))\n",
      "  File \"C:\\Users\\beatr\\anaconda3\\lib\\site-packages\\dash\\_callback.py\", line 151, in add_context\n",
      "    output_value = func(*func_args, **func_kwargs)  # %% callback invoked %%\n",
      "  File \"<ipython-input-278-d2cfb6ae60dd>\", line 12, in update_treemap\n",
      "    fig = px.treemap(filtered_df, path=['Country or Area'],values=selected_var, color=selected_var, color_continuous_scale='brwnyl',\n",
      "  File \"C:\\Users\\beatr\\anaconda3\\lib\\site-packages\\plotly\\express\\_chart_types.py\", line 1473, in treemap\n",
      "    return make_figure(\n",
      "  File \"C:\\Users\\beatr\\anaconda3\\lib\\site-packages\\plotly\\express\\_core.py\", line 1879, in make_figure\n",
      "    args = build_dataframe(args, constructor)\n",
      "  File \"C:\\Users\\beatr\\anaconda3\\lib\\site-packages\\plotly\\express\\_core.py\", line 1399, in build_dataframe\n",
      "    df_output, wide_id_vars = process_args_into_dataframe(\n",
      "  File \"C:\\Users\\beatr\\anaconda3\\lib\\site-packages\\plotly\\express\\_core.py\", line 1207, in process_args_into_dataframe\n",
      "    raise ValueError(\n",
      "ValueError: All arguments should have the same length. The length of column argument `df[path_0]` is 22, whereas the length of  previously-processed arguments ['values'] is 1\n",
      "Exception on /_dash-update-component [POST]\n",
      "Traceback (most recent call last):\n",
      "  File \"C:\\Users\\beatr\\anaconda3\\lib\\site-packages\\flask\\app.py\", line 2447, in wsgi_app\n",
      "    response = self.full_dispatch_request()\n",
      "  File \"C:\\Users\\beatr\\anaconda3\\lib\\site-packages\\flask\\app.py\", line 1952, in full_dispatch_request\n",
      "    rv = self.handle_user_exception(e)\n",
      "  File \"C:\\Users\\beatr\\anaconda3\\lib\\site-packages\\flask\\app.py\", line 1821, in handle_user_exception\n",
      "    reraise(exc_type, exc_value, tb)\n",
      "  File \"C:\\Users\\beatr\\anaconda3\\lib\\site-packages\\flask\\_compat.py\", line 39, in reraise\n",
      "    raise value\n",
      "  File \"C:\\Users\\beatr\\anaconda3\\lib\\site-packages\\flask\\app.py\", line 1950, in full_dispatch_request\n",
      "    rv = self.dispatch_request()\n",
      "  File \"C:\\Users\\beatr\\anaconda3\\lib\\site-packages\\flask\\app.py\", line 1936, in dispatch_request\n",
      "    return self.view_functions[rule.endpoint](**req.view_args)\n",
      "  File \"C:\\Users\\beatr\\anaconda3\\lib\\site-packages\\dash\\dash.py\", line 1345, in dispatch\n",
      "    response.set_data(func(*args, outputs_list=outputs_list))\n",
      "  File \"C:\\Users\\beatr\\anaconda3\\lib\\site-packages\\dash\\_callback.py\", line 151, in add_context\n",
      "    output_value = func(*func_args, **func_kwargs)  # %% callback invoked %%\n",
      "  File \"<ipython-input-278-d2cfb6ae60dd>\", line 12, in update_treemap\n",
      "    fig = px.treemap(filtered_df, path=['Country or Area'],values=selected_var, color=selected_var, color_continuous_scale='brwnyl',\n",
      "  File \"C:\\Users\\beatr\\anaconda3\\lib\\site-packages\\plotly\\express\\_chart_types.py\", line 1473, in treemap\n",
      "    return make_figure(\n",
      "  File \"C:\\Users\\beatr\\anaconda3\\lib\\site-packages\\plotly\\express\\_core.py\", line 1879, in make_figure\n",
      "    args = build_dataframe(args, constructor)\n",
      "  File \"C:\\Users\\beatr\\anaconda3\\lib\\site-packages\\plotly\\express\\_core.py\", line 1399, in build_dataframe\n",
      "    df_output, wide_id_vars = process_args_into_dataframe(\n",
      "  File \"C:\\Users\\beatr\\anaconda3\\lib\\site-packages\\plotly\\express\\_core.py\", line 1207, in process_args_into_dataframe\n",
      "    raise ValueError(\n",
      "ValueError: All arguments should have the same length. The length of column argument `df[path_0]` is 22, whereas the length of  previously-processed arguments ['values'] is 1\n",
      "Exception on /_dash-update-component [POST]\n",
      "Traceback (most recent call last):\n",
      "  File \"C:\\Users\\beatr\\anaconda3\\lib\\site-packages\\flask\\app.py\", line 2447, in wsgi_app\n",
      "    response = self.full_dispatch_request()\n",
      "  File \"C:\\Users\\beatr\\anaconda3\\lib\\site-packages\\flask\\app.py\", line 1952, in full_dispatch_request\n",
      "    rv = self.handle_user_exception(e)\n",
      "  File \"C:\\Users\\beatr\\anaconda3\\lib\\site-packages\\flask\\app.py\", line 1821, in handle_user_exception\n",
      "    reraise(exc_type, exc_value, tb)\n",
      "  File \"C:\\Users\\beatr\\anaconda3\\lib\\site-packages\\flask\\_compat.py\", line 39, in reraise\n",
      "    raise value\n",
      "  File \"C:\\Users\\beatr\\anaconda3\\lib\\site-packages\\flask\\app.py\", line 1950, in full_dispatch_request\n",
      "    rv = self.dispatch_request()\n",
      "  File \"C:\\Users\\beatr\\anaconda3\\lib\\site-packages\\flask\\app.py\", line 1936, in dispatch_request\n",
      "    return self.view_functions[rule.endpoint](**req.view_args)\n",
      "  File \"C:\\Users\\beatr\\anaconda3\\lib\\site-packages\\dash\\dash.py\", line 1345, in dispatch\n",
      "    response.set_data(func(*args, outputs_list=outputs_list))\n",
      "  File \"C:\\Users\\beatr\\anaconda3\\lib\\site-packages\\dash\\_callback.py\", line 151, in add_context\n",
      "    output_value = func(*func_args, **func_kwargs)  # %% callback invoked %%\n",
      "  File \"<ipython-input-278-d2cfb6ae60dd>\", line 12, in update_treemap\n",
      "    fig = px.treemap(filtered_df, path=['Country or Area'],values=selected_var, color=selected_var, color_continuous_scale='brwnyl',\n",
      "  File \"C:\\Users\\beatr\\anaconda3\\lib\\site-packages\\plotly\\express\\_chart_types.py\", line 1473, in treemap\n",
      "    return make_figure(\n",
      "  File \"C:\\Users\\beatr\\anaconda3\\lib\\site-packages\\plotly\\express\\_core.py\", line 1879, in make_figure\n",
      "    args = build_dataframe(args, constructor)\n",
      "  File \"C:\\Users\\beatr\\anaconda3\\lib\\site-packages\\plotly\\express\\_core.py\", line 1399, in build_dataframe\n",
      "    df_output, wide_id_vars = process_args_into_dataframe(\n",
      "  File \"C:\\Users\\beatr\\anaconda3\\lib\\site-packages\\plotly\\express\\_core.py\", line 1207, in process_args_into_dataframe\n",
      "    raise ValueError(\n",
      "ValueError: All arguments should have the same length. The length of column argument `df[path_0]` is 22, whereas the length of  previously-processed arguments ['values'] is 1\n",
      "Exception on /_dash-update-component [POST]\n",
      "Traceback (most recent call last):\n",
      "  File \"C:\\Users\\beatr\\anaconda3\\lib\\site-packages\\flask\\app.py\", line 2447, in wsgi_app\n",
      "    response = self.full_dispatch_request()\n",
      "  File \"C:\\Users\\beatr\\anaconda3\\lib\\site-packages\\flask\\app.py\", line 1952, in full_dispatch_request\n",
      "    rv = self.handle_user_exception(e)\n",
      "  File \"C:\\Users\\beatr\\anaconda3\\lib\\site-packages\\flask\\app.py\", line 1821, in handle_user_exception\n",
      "    reraise(exc_type, exc_value, tb)\n",
      "  File \"C:\\Users\\beatr\\anaconda3\\lib\\site-packages\\flask\\_compat.py\", line 39, in reraise\n",
      "    raise value\n",
      "  File \"C:\\Users\\beatr\\anaconda3\\lib\\site-packages\\flask\\app.py\", line 1950, in full_dispatch_request\n",
      "    rv = self.dispatch_request()\n",
      "  File \"C:\\Users\\beatr\\anaconda3\\lib\\site-packages\\flask\\app.py\", line 1936, in dispatch_request\n",
      "    return self.view_functions[rule.endpoint](**req.view_args)\n",
      "  File \"C:\\Users\\beatr\\anaconda3\\lib\\site-packages\\dash\\dash.py\", line 1345, in dispatch\n",
      "    response.set_data(func(*args, outputs_list=outputs_list))\n",
      "  File \"C:\\Users\\beatr\\anaconda3\\lib\\site-packages\\dash\\_callback.py\", line 151, in add_context\n",
      "    output_value = func(*func_args, **func_kwargs)  # %% callback invoked %%\n",
      "  File \"<ipython-input-278-d2cfb6ae60dd>\", line 12, in update_treemap\n",
      "    fig = px.treemap(filtered_df, path=['Country or Area'],values=selected_var, color=selected_var, color_continuous_scale='brwnyl',\n",
      "  File \"C:\\Users\\beatr\\anaconda3\\lib\\site-packages\\plotly\\express\\_chart_types.py\", line 1473, in treemap\n",
      "    return make_figure(\n",
      "  File \"C:\\Users\\beatr\\anaconda3\\lib\\site-packages\\plotly\\express\\_core.py\", line 1879, in make_figure\n",
      "    args = build_dataframe(args, constructor)\n",
      "  File \"C:\\Users\\beatr\\anaconda3\\lib\\site-packages\\plotly\\express\\_core.py\", line 1399, in build_dataframe\n",
      "    df_output, wide_id_vars = process_args_into_dataframe(\n",
      "  File \"C:\\Users\\beatr\\anaconda3\\lib\\site-packages\\plotly\\express\\_core.py\", line 1207, in process_args_into_dataframe\n",
      "    raise ValueError(\n",
      "ValueError: All arguments should have the same length. The length of column argument `df[path_0]` is 22, whereas the length of  previously-processed arguments ['values'] is 1\n",
      "Exception on /_dash-update-component [POST]\n",
      "Traceback (most recent call last):\n",
      "  File \"C:\\Users\\beatr\\anaconda3\\lib\\site-packages\\flask\\app.py\", line 2447, in wsgi_app\n",
      "    response = self.full_dispatch_request()\n",
      "  File \"C:\\Users\\beatr\\anaconda3\\lib\\site-packages\\flask\\app.py\", line 1952, in full_dispatch_request\n",
      "    rv = self.handle_user_exception(e)\n",
      "  File \"C:\\Users\\beatr\\anaconda3\\lib\\site-packages\\flask\\app.py\", line 1821, in handle_user_exception\n",
      "    reraise(exc_type, exc_value, tb)\n",
      "  File \"C:\\Users\\beatr\\anaconda3\\lib\\site-packages\\flask\\_compat.py\", line 39, in reraise\n",
      "    raise value\n",
      "  File \"C:\\Users\\beatr\\anaconda3\\lib\\site-packages\\flask\\app.py\", line 1950, in full_dispatch_request\n",
      "    rv = self.dispatch_request()\n",
      "  File \"C:\\Users\\beatr\\anaconda3\\lib\\site-packages\\flask\\app.py\", line 1936, in dispatch_request\n",
      "    return self.view_functions[rule.endpoint](**req.view_args)\n",
      "  File \"C:\\Users\\beatr\\anaconda3\\lib\\site-packages\\dash\\dash.py\", line 1345, in dispatch\n",
      "    response.set_data(func(*args, outputs_list=outputs_list))\n",
      "  File \"C:\\Users\\beatr\\anaconda3\\lib\\site-packages\\dash\\_callback.py\", line 151, in add_context\n",
      "    output_value = func(*func_args, **func_kwargs)  # %% callback invoked %%\n",
      "  File \"<ipython-input-278-d2cfb6ae60dd>\", line 12, in update_treemap\n",
      "    fig = px.treemap(filtered_df, path=['Country or Area'],values=selected_var, color=selected_var, color_continuous_scale='brwnyl',\n",
      "  File \"C:\\Users\\beatr\\anaconda3\\lib\\site-packages\\plotly\\express\\_chart_types.py\", line 1473, in treemap\n",
      "    return make_figure(\n",
      "  File \"C:\\Users\\beatr\\anaconda3\\lib\\site-packages\\plotly\\express\\_core.py\", line 1879, in make_figure\n",
      "    args = build_dataframe(args, constructor)\n",
      "  File \"C:\\Users\\beatr\\anaconda3\\lib\\site-packages\\plotly\\express\\_core.py\", line 1399, in build_dataframe\n",
      "    df_output, wide_id_vars = process_args_into_dataframe(\n",
      "  File \"C:\\Users\\beatr\\anaconda3\\lib\\site-packages\\plotly\\express\\_core.py\", line 1207, in process_args_into_dataframe\n",
      "    raise ValueError(\n",
      "ValueError: All arguments should have the same length. The length of column argument `df[path_0]` is 22, whereas the length of  previously-processed arguments ['values'] is 1\n",
      "Exception on /_dash-update-component [POST]\n",
      "Traceback (most recent call last):\n",
      "  File \"C:\\Users\\beatr\\anaconda3\\lib\\site-packages\\flask\\app.py\", line 2447, in wsgi_app\n",
      "    response = self.full_dispatch_request()\n",
      "  File \"C:\\Users\\beatr\\anaconda3\\lib\\site-packages\\flask\\app.py\", line 1952, in full_dispatch_request\n",
      "    rv = self.handle_user_exception(e)\n",
      "  File \"C:\\Users\\beatr\\anaconda3\\lib\\site-packages\\flask\\app.py\", line 1821, in handle_user_exception\n",
      "    reraise(exc_type, exc_value, tb)\n",
      "  File \"C:\\Users\\beatr\\anaconda3\\lib\\site-packages\\flask\\_compat.py\", line 39, in reraise\n",
      "    raise value\n",
      "  File \"C:\\Users\\beatr\\anaconda3\\lib\\site-packages\\flask\\app.py\", line 1950, in full_dispatch_request\n",
      "    rv = self.dispatch_request()\n",
      "  File \"C:\\Users\\beatr\\anaconda3\\lib\\site-packages\\flask\\app.py\", line 1936, in dispatch_request\n",
      "    return self.view_functions[rule.endpoint](**req.view_args)\n",
      "  File \"C:\\Users\\beatr\\anaconda3\\lib\\site-packages\\dash\\dash.py\", line 1345, in dispatch\n",
      "    response.set_data(func(*args, outputs_list=outputs_list))\n",
      "  File \"C:\\Users\\beatr\\anaconda3\\lib\\site-packages\\dash\\_callback.py\", line 151, in add_context\n",
      "    output_value = func(*func_args, **func_kwargs)  # %% callback invoked %%\n",
      "  File \"<ipython-input-278-d2cfb6ae60dd>\", line 12, in update_treemap\n",
      "    fig = px.treemap(filtered_df, path=['Country or Area'],values=selected_var, color=selected_var, color_continuous_scale='brwnyl',\n",
      "  File \"C:\\Users\\beatr\\anaconda3\\lib\\site-packages\\plotly\\express\\_chart_types.py\", line 1473, in treemap\n",
      "    return make_figure(\n",
      "  File \"C:\\Users\\beatr\\anaconda3\\lib\\site-packages\\plotly\\express\\_core.py\", line 1879, in make_figure\n",
      "    args = build_dataframe(args, constructor)\n",
      "  File \"C:\\Users\\beatr\\anaconda3\\lib\\site-packages\\plotly\\express\\_core.py\", line 1399, in build_dataframe\n",
      "    df_output, wide_id_vars = process_args_into_dataframe(\n",
      "  File \"C:\\Users\\beatr\\anaconda3\\lib\\site-packages\\plotly\\express\\_core.py\", line 1207, in process_args_into_dataframe\n",
      "    raise ValueError(\n",
      "ValueError: All arguments should have the same length. The length of column argument `df[path_0]` is 22, whereas the length of  previously-processed arguments ['values'] is 1\n",
      "Exception on /_dash-update-component [POST]\n",
      "Traceback (most recent call last):\n",
      "  File \"C:\\Users\\beatr\\anaconda3\\lib\\site-packages\\flask\\app.py\", line 2447, in wsgi_app\n",
      "    response = self.full_dispatch_request()\n",
      "  File \"C:\\Users\\beatr\\anaconda3\\lib\\site-packages\\flask\\app.py\", line 1952, in full_dispatch_request\n",
      "    rv = self.handle_user_exception(e)\n",
      "  File \"C:\\Users\\beatr\\anaconda3\\lib\\site-packages\\flask\\app.py\", line 1821, in handle_user_exception\n",
      "    reraise(exc_type, exc_value, tb)\n",
      "  File \"C:\\Users\\beatr\\anaconda3\\lib\\site-packages\\flask\\_compat.py\", line 39, in reraise\n",
      "    raise value\n",
      "  File \"C:\\Users\\beatr\\anaconda3\\lib\\site-packages\\flask\\app.py\", line 1950, in full_dispatch_request\n",
      "    rv = self.dispatch_request()\n",
      "  File \"C:\\Users\\beatr\\anaconda3\\lib\\site-packages\\flask\\app.py\", line 1936, in dispatch_request\n",
      "    return self.view_functions[rule.endpoint](**req.view_args)\n",
      "  File \"C:\\Users\\beatr\\anaconda3\\lib\\site-packages\\dash\\dash.py\", line 1345, in dispatch\n",
      "    response.set_data(func(*args, outputs_list=outputs_list))\n",
      "  File \"C:\\Users\\beatr\\anaconda3\\lib\\site-packages\\dash\\_callback.py\", line 151, in add_context\n",
      "    output_value = func(*func_args, **func_kwargs)  # %% callback invoked %%\n",
      "  File \"<ipython-input-278-d2cfb6ae60dd>\", line 12, in update_treemap\n",
      "    fig = px.treemap(filtered_df, path=['Country or Area'],values=selected_var, color=selected_var, color_continuous_scale='brwnyl',\n",
      "  File \"C:\\Users\\beatr\\anaconda3\\lib\\site-packages\\plotly\\express\\_chart_types.py\", line 1473, in treemap\n",
      "    return make_figure(\n",
      "  File \"C:\\Users\\beatr\\anaconda3\\lib\\site-packages\\plotly\\express\\_core.py\", line 1879, in make_figure\n",
      "    args = build_dataframe(args, constructor)\n",
      "  File \"C:\\Users\\beatr\\anaconda3\\lib\\site-packages\\plotly\\express\\_core.py\", line 1399, in build_dataframe\n",
      "    df_output, wide_id_vars = process_args_into_dataframe(\n",
      "  File \"C:\\Users\\beatr\\anaconda3\\lib\\site-packages\\plotly\\express\\_core.py\", line 1207, in process_args_into_dataframe\n",
      "    raise ValueError(\n",
      "ValueError: All arguments should have the same length. The length of column argument `df[path_0]` is 22, whereas the length of  previously-processed arguments ['values'] is 1\n",
      "Exception on /_dash-update-component [POST]\n",
      "Traceback (most recent call last):\n",
      "  File \"C:\\Users\\beatr\\anaconda3\\lib\\site-packages\\flask\\app.py\", line 2447, in wsgi_app\n",
      "    response = self.full_dispatch_request()\n",
      "  File \"C:\\Users\\beatr\\anaconda3\\lib\\site-packages\\flask\\app.py\", line 1952, in full_dispatch_request\n",
      "    rv = self.handle_user_exception(e)\n",
      "  File \"C:\\Users\\beatr\\anaconda3\\lib\\site-packages\\flask\\app.py\", line 1821, in handle_user_exception\n",
      "    reraise(exc_type, exc_value, tb)\n",
      "  File \"C:\\Users\\beatr\\anaconda3\\lib\\site-packages\\flask\\_compat.py\", line 39, in reraise\n",
      "    raise value\n",
      "  File \"C:\\Users\\beatr\\anaconda3\\lib\\site-packages\\flask\\app.py\", line 1950, in full_dispatch_request\n",
      "    rv = self.dispatch_request()\n",
      "  File \"C:\\Users\\beatr\\anaconda3\\lib\\site-packages\\flask\\app.py\", line 1936, in dispatch_request\n",
      "    return self.view_functions[rule.endpoint](**req.view_args)\n",
      "  File \"C:\\Users\\beatr\\anaconda3\\lib\\site-packages\\dash\\dash.py\", line 1345, in dispatch\n",
      "    response.set_data(func(*args, outputs_list=outputs_list))\n",
      "  File \"C:\\Users\\beatr\\anaconda3\\lib\\site-packages\\dash\\_callback.py\", line 151, in add_context\n",
      "    output_value = func(*func_args, **func_kwargs)  # %% callback invoked %%\n",
      "  File \"<ipython-input-278-d2cfb6ae60dd>\", line 12, in update_treemap\n",
      "    fig = px.treemap(filtered_df, path=['Country or Area'],values=selected_var, color=selected_var, color_continuous_scale='brwnyl',\n",
      "  File \"C:\\Users\\beatr\\anaconda3\\lib\\site-packages\\plotly\\express\\_chart_types.py\", line 1473, in treemap\n",
      "    return make_figure(\n",
      "  File \"C:\\Users\\beatr\\anaconda3\\lib\\site-packages\\plotly\\express\\_core.py\", line 1879, in make_figure\n",
      "    args = build_dataframe(args, constructor)\n",
      "  File \"C:\\Users\\beatr\\anaconda3\\lib\\site-packages\\plotly\\express\\_core.py\", line 1399, in build_dataframe\n",
      "    df_output, wide_id_vars = process_args_into_dataframe(\n",
      "  File \"C:\\Users\\beatr\\anaconda3\\lib\\site-packages\\plotly\\express\\_core.py\", line 1207, in process_args_into_dataframe\n",
      "    raise ValueError(\n",
      "ValueError: All arguments should have the same length. The length of column argument `df[path_0]` is 22, whereas the length of  previously-processed arguments ['values'] is 1\n",
      "Exception on /_dash-update-component [POST]\n",
      "Traceback (most recent call last):\n",
      "  File \"C:\\Users\\beatr\\anaconda3\\lib\\site-packages\\flask\\app.py\", line 2447, in wsgi_app\n",
      "    response = self.full_dispatch_request()\n",
      "  File \"C:\\Users\\beatr\\anaconda3\\lib\\site-packages\\flask\\app.py\", line 1952, in full_dispatch_request\n",
      "    rv = self.handle_user_exception(e)\n",
      "  File \"C:\\Users\\beatr\\anaconda3\\lib\\site-packages\\flask\\app.py\", line 1821, in handle_user_exception\n",
      "    reraise(exc_type, exc_value, tb)\n",
      "  File \"C:\\Users\\beatr\\anaconda3\\lib\\site-packages\\flask\\_compat.py\", line 39, in reraise\n",
      "    raise value\n",
      "  File \"C:\\Users\\beatr\\anaconda3\\lib\\site-packages\\flask\\app.py\", line 1950, in full_dispatch_request\n",
      "    rv = self.dispatch_request()\n",
      "  File \"C:\\Users\\beatr\\anaconda3\\lib\\site-packages\\flask\\app.py\", line 1936, in dispatch_request\n",
      "    return self.view_functions[rule.endpoint](**req.view_args)\n",
      "  File \"C:\\Users\\beatr\\anaconda3\\lib\\site-packages\\dash\\dash.py\", line 1345, in dispatch\n",
      "    response.set_data(func(*args, outputs_list=outputs_list))\n",
      "  File \"C:\\Users\\beatr\\anaconda3\\lib\\site-packages\\dash\\_callback.py\", line 151, in add_context\n",
      "    output_value = func(*func_args, **func_kwargs)  # %% callback invoked %%\n",
      "  File \"<ipython-input-278-d2cfb6ae60dd>\", line 12, in update_treemap\n",
      "    fig = px.treemap(filtered_df, path=['Country or Area'],values=selected_var, color=selected_var, color_continuous_scale='brwnyl',\n",
      "  File \"C:\\Users\\beatr\\anaconda3\\lib\\site-packages\\plotly\\express\\_chart_types.py\", line 1473, in treemap\n",
      "    return make_figure(\n",
      "  File \"C:\\Users\\beatr\\anaconda3\\lib\\site-packages\\plotly\\express\\_core.py\", line 1879, in make_figure\n",
      "    args = build_dataframe(args, constructor)\n",
      "  File \"C:\\Users\\beatr\\anaconda3\\lib\\site-packages\\plotly\\express\\_core.py\", line 1399, in build_dataframe\n",
      "    df_output, wide_id_vars = process_args_into_dataframe(\n",
      "  File \"C:\\Users\\beatr\\anaconda3\\lib\\site-packages\\plotly\\express\\_core.py\", line 1207, in process_args_into_dataframe\n",
      "    raise ValueError(\n",
      "ValueError: All arguments should have the same length. The length of column argument `df[path_0]` is 22, whereas the length of  previously-processed arguments ['values'] is 1\n",
      "Exception on /_dash-update-component [POST]\n",
      "Traceback (most recent call last):\n",
      "  File \"C:\\Users\\beatr\\anaconda3\\lib\\site-packages\\flask\\app.py\", line 2447, in wsgi_app\n",
      "    response = self.full_dispatch_request()\n",
      "  File \"C:\\Users\\beatr\\anaconda3\\lib\\site-packages\\flask\\app.py\", line 1952, in full_dispatch_request\n",
      "    rv = self.handle_user_exception(e)\n",
      "  File \"C:\\Users\\beatr\\anaconda3\\lib\\site-packages\\flask\\app.py\", line 1821, in handle_user_exception\n",
      "    reraise(exc_type, exc_value, tb)\n",
      "  File \"C:\\Users\\beatr\\anaconda3\\lib\\site-packages\\flask\\_compat.py\", line 39, in reraise\n",
      "    raise value\n",
      "  File \"C:\\Users\\beatr\\anaconda3\\lib\\site-packages\\flask\\app.py\", line 1950, in full_dispatch_request\n",
      "    rv = self.dispatch_request()\n",
      "  File \"C:\\Users\\beatr\\anaconda3\\lib\\site-packages\\flask\\app.py\", line 1936, in dispatch_request\n",
      "    return self.view_functions[rule.endpoint](**req.view_args)\n",
      "  File \"C:\\Users\\beatr\\anaconda3\\lib\\site-packages\\dash\\dash.py\", line 1345, in dispatch\n",
      "    response.set_data(func(*args, outputs_list=outputs_list))\n",
      "  File \"C:\\Users\\beatr\\anaconda3\\lib\\site-packages\\dash\\_callback.py\", line 151, in add_context\n",
      "    output_value = func(*func_args, **func_kwargs)  # %% callback invoked %%\n",
      "  File \"<ipython-input-278-d2cfb6ae60dd>\", line 12, in update_treemap\n",
      "    fig = px.treemap(filtered_df, path=['Country or Area'],values=selected_var, color=selected_var, color_continuous_scale='brwnyl',\n",
      "  File \"C:\\Users\\beatr\\anaconda3\\lib\\site-packages\\plotly\\express\\_chart_types.py\", line 1473, in treemap\n",
      "    return make_figure(\n",
      "  File \"C:\\Users\\beatr\\anaconda3\\lib\\site-packages\\plotly\\express\\_core.py\", line 1879, in make_figure\n",
      "    args = build_dataframe(args, constructor)\n",
      "  File \"C:\\Users\\beatr\\anaconda3\\lib\\site-packages\\plotly\\express\\_core.py\", line 1399, in build_dataframe\n",
      "    df_output, wide_id_vars = process_args_into_dataframe(\n",
      "  File \"C:\\Users\\beatr\\anaconda3\\lib\\site-packages\\plotly\\express\\_core.py\", line 1207, in process_args_into_dataframe\n",
      "    raise ValueError(\n",
      "ValueError: All arguments should have the same length. The length of column argument `df[path_0]` is 22, whereas the length of  previously-processed arguments ['values'] is 1\n",
      "Exception on /_dash-update-component [POST]\n",
      "Traceback (most recent call last):\n",
      "  File \"C:\\Users\\beatr\\anaconda3\\lib\\site-packages\\flask\\app.py\", line 2447, in wsgi_app\n",
      "    response = self.full_dispatch_request()\n",
      "  File \"C:\\Users\\beatr\\anaconda3\\lib\\site-packages\\flask\\app.py\", line 1952, in full_dispatch_request\n",
      "    rv = self.handle_user_exception(e)\n",
      "  File \"C:\\Users\\beatr\\anaconda3\\lib\\site-packages\\flask\\app.py\", line 1821, in handle_user_exception\n",
      "    reraise(exc_type, exc_value, tb)\n",
      "  File \"C:\\Users\\beatr\\anaconda3\\lib\\site-packages\\flask\\_compat.py\", line 39, in reraise\n",
      "    raise value\n",
      "  File \"C:\\Users\\beatr\\anaconda3\\lib\\site-packages\\flask\\app.py\", line 1950, in full_dispatch_request\n",
      "    rv = self.dispatch_request()\n",
      "  File \"C:\\Users\\beatr\\anaconda3\\lib\\site-packages\\flask\\app.py\", line 1936, in dispatch_request\n",
      "    return self.view_functions[rule.endpoint](**req.view_args)\n",
      "  File \"C:\\Users\\beatr\\anaconda3\\lib\\site-packages\\dash\\dash.py\", line 1345, in dispatch\n",
      "    response.set_data(func(*args, outputs_list=outputs_list))\n",
      "  File \"C:\\Users\\beatr\\anaconda3\\lib\\site-packages\\dash\\_callback.py\", line 151, in add_context\n",
      "    output_value = func(*func_args, **func_kwargs)  # %% callback invoked %%\n",
      "  File \"<ipython-input-278-d2cfb6ae60dd>\", line 12, in update_treemap\n",
      "    fig = px.treemap(filtered_df, path=['Country or Area'],values=selected_var, color=selected_var, color_continuous_scale='brwnyl',\n",
      "  File \"C:\\Users\\beatr\\anaconda3\\lib\\site-packages\\plotly\\express\\_chart_types.py\", line 1473, in treemap\n",
      "    return make_figure(\n",
      "  File \"C:\\Users\\beatr\\anaconda3\\lib\\site-packages\\plotly\\express\\_core.py\", line 1879, in make_figure\n",
      "    args = build_dataframe(args, constructor)\n",
      "  File \"C:\\Users\\beatr\\anaconda3\\lib\\site-packages\\plotly\\express\\_core.py\", line 1399, in build_dataframe\n",
      "    df_output, wide_id_vars = process_args_into_dataframe(\n",
      "  File \"C:\\Users\\beatr\\anaconda3\\lib\\site-packages\\plotly\\express\\_core.py\", line 1207, in process_args_into_dataframe\n",
      "    raise ValueError(\n",
      "ValueError: All arguments should have the same length. The length of column argument `df[path_0]` is 22, whereas the length of  previously-processed arguments ['values'] is 1\n",
      "Exception on /_dash-update-component [POST]\n",
      "Traceback (most recent call last):\n",
      "  File \"C:\\Users\\beatr\\anaconda3\\lib\\site-packages\\flask\\app.py\", line 2447, in wsgi_app\n",
      "    response = self.full_dispatch_request()\n",
      "  File \"C:\\Users\\beatr\\anaconda3\\lib\\site-packages\\flask\\app.py\", line 1952, in full_dispatch_request\n",
      "    rv = self.handle_user_exception(e)\n",
      "  File \"C:\\Users\\beatr\\anaconda3\\lib\\site-packages\\flask\\app.py\", line 1821, in handle_user_exception\n",
      "    reraise(exc_type, exc_value, tb)\n",
      "  File \"C:\\Users\\beatr\\anaconda3\\lib\\site-packages\\flask\\_compat.py\", line 39, in reraise\n",
      "    raise value\n",
      "  File \"C:\\Users\\beatr\\anaconda3\\lib\\site-packages\\flask\\app.py\", line 1950, in full_dispatch_request\n",
      "    rv = self.dispatch_request()\n",
      "  File \"C:\\Users\\beatr\\anaconda3\\lib\\site-packages\\flask\\app.py\", line 1936, in dispatch_request\n",
      "    return self.view_functions[rule.endpoint](**req.view_args)\n",
      "  File \"C:\\Users\\beatr\\anaconda3\\lib\\site-packages\\dash\\dash.py\", line 1345, in dispatch\n",
      "    response.set_data(func(*args, outputs_list=outputs_list))\n",
      "  File \"C:\\Users\\beatr\\anaconda3\\lib\\site-packages\\dash\\_callback.py\", line 151, in add_context\n",
      "    output_value = func(*func_args, **func_kwargs)  # %% callback invoked %%\n",
      "  File \"<ipython-input-278-d2cfb6ae60dd>\", line 12, in update_treemap\n",
      "    fig = px.treemap(filtered_df, path=['Country or Area'],values=selected_var, color=selected_var, color_continuous_scale='brwnyl',\n",
      "  File \"C:\\Users\\beatr\\anaconda3\\lib\\site-packages\\plotly\\express\\_chart_types.py\", line 1473, in treemap\n",
      "    return make_figure(\n",
      "  File \"C:\\Users\\beatr\\anaconda3\\lib\\site-packages\\plotly\\express\\_core.py\", line 1879, in make_figure\n",
      "    args = build_dataframe(args, constructor)\n",
      "  File \"C:\\Users\\beatr\\anaconda3\\lib\\site-packages\\plotly\\express\\_core.py\", line 1399, in build_dataframe\n",
      "    df_output, wide_id_vars = process_args_into_dataframe(\n",
      "  File \"C:\\Users\\beatr\\anaconda3\\lib\\site-packages\\plotly\\express\\_core.py\", line 1207, in process_args_into_dataframe\n",
      "    raise ValueError(\n",
      "ValueError: All arguments should have the same length. The length of column argument `df[path_0]` is 22, whereas the length of  previously-processed arguments ['values'] is 1\n",
      "Exception on /_dash-update-component [POST]\n",
      "Traceback (most recent call last):\n",
      "  File \"C:\\Users\\beatr\\anaconda3\\lib\\site-packages\\flask\\app.py\", line 2447, in wsgi_app\n",
      "    response = self.full_dispatch_request()\n",
      "  File \"C:\\Users\\beatr\\anaconda3\\lib\\site-packages\\flask\\app.py\", line 1952, in full_dispatch_request\n",
      "    rv = self.handle_user_exception(e)\n",
      "  File \"C:\\Users\\beatr\\anaconda3\\lib\\site-packages\\flask\\app.py\", line 1821, in handle_user_exception\n",
      "    reraise(exc_type, exc_value, tb)\n",
      "  File \"C:\\Users\\beatr\\anaconda3\\lib\\site-packages\\flask\\_compat.py\", line 39, in reraise\n",
      "    raise value\n",
      "  File \"C:\\Users\\beatr\\anaconda3\\lib\\site-packages\\flask\\app.py\", line 1950, in full_dispatch_request\n",
      "    rv = self.dispatch_request()\n",
      "  File \"C:\\Users\\beatr\\anaconda3\\lib\\site-packages\\flask\\app.py\", line 1936, in dispatch_request\n",
      "    return self.view_functions[rule.endpoint](**req.view_args)\n",
      "  File \"C:\\Users\\beatr\\anaconda3\\lib\\site-packages\\dash\\dash.py\", line 1345, in dispatch\n",
      "    response.set_data(func(*args, outputs_list=outputs_list))\n",
      "  File \"C:\\Users\\beatr\\anaconda3\\lib\\site-packages\\dash\\_callback.py\", line 151, in add_context\n",
      "    output_value = func(*func_args, **func_kwargs)  # %% callback invoked %%\n",
      "  File \"<ipython-input-278-d2cfb6ae60dd>\", line 12, in update_treemap\n",
      "    fig = px.treemap(filtered_df, path=['Country or Area'],values=selected_var, color=selected_var, color_continuous_scale='brwnyl',\n",
      "  File \"C:\\Users\\beatr\\anaconda3\\lib\\site-packages\\plotly\\express\\_chart_types.py\", line 1473, in treemap\n",
      "    return make_figure(\n",
      "  File \"C:\\Users\\beatr\\anaconda3\\lib\\site-packages\\plotly\\express\\_core.py\", line 1879, in make_figure\n",
      "    args = build_dataframe(args, constructor)\n",
      "  File \"C:\\Users\\beatr\\anaconda3\\lib\\site-packages\\plotly\\express\\_core.py\", line 1399, in build_dataframe\n",
      "    df_output, wide_id_vars = process_args_into_dataframe(\n",
      "  File \"C:\\Users\\beatr\\anaconda3\\lib\\site-packages\\plotly\\express\\_core.py\", line 1207, in process_args_into_dataframe\n",
      "    raise ValueError(\n",
      "ValueError: All arguments should have the same length. The length of column argument `df[path_0]` is 22, whereas the length of  previously-processed arguments ['values'] is 1\n"
     ]
    },
    {
     "name": "stderr",
     "output_type": "stream",
     "text": [
      "127.0.0.1 - - [04/Apr/2022 21:49:07] \"\u001b[35m\u001b[1mPOST /_dash-update-component HTTP/1.1\u001b[0m\" 500 -\n",
      "127.0.0.1 - - [04/Apr/2022 21:49:28] \"\u001b[37mPOST /_dash-update-component HTTP/1.1\u001b[0m\" 200 -\n"
     ]
    },
    {
     "name": "stdout",
     "output_type": "stream",
     "text": [
      "Exception on /_dash-update-component [POST]\n",
      "Traceback (most recent call last):\n",
      "  File \"C:\\Users\\beatr\\anaconda3\\lib\\site-packages\\flask\\app.py\", line 2447, in wsgi_app\n",
      "    response = self.full_dispatch_request()\n",
      "  File \"C:\\Users\\beatr\\anaconda3\\lib\\site-packages\\flask\\app.py\", line 1952, in full_dispatch_request\n",
      "    rv = self.handle_user_exception(e)\n",
      "  File \"C:\\Users\\beatr\\anaconda3\\lib\\site-packages\\flask\\app.py\", line 1821, in handle_user_exception\n",
      "    reraise(exc_type, exc_value, tb)\n",
      "  File \"C:\\Users\\beatr\\anaconda3\\lib\\site-packages\\flask\\_compat.py\", line 39, in reraise\n",
      "    raise value\n",
      "  File \"C:\\Users\\beatr\\anaconda3\\lib\\site-packages\\flask\\app.py\", line 1950, in full_dispatch_request\n",
      "    rv = self.dispatch_request()\n",
      "  File \"C:\\Users\\beatr\\anaconda3\\lib\\site-packages\\flask\\app.py\", line 1936, in dispatch_request\n",
      "    return self.view_functions[rule.endpoint](**req.view_args)\n",
      "  File \"C:\\Users\\beatr\\anaconda3\\lib\\site-packages\\dash\\dash.py\", line 1345, in dispatch\n",
      "    response.set_data(func(*args, outputs_list=outputs_list))\n",
      "  File \"C:\\Users\\beatr\\anaconda3\\lib\\site-packages\\dash\\_callback.py\", line 151, in add_context\n",
      "    output_value = func(*func_args, **func_kwargs)  # %% callback invoked %%\n",
      "  File \"<ipython-input-278-d2cfb6ae60dd>\", line 12, in update_treemap\n",
      "    fig = px.treemap(filtered_df, path=['Country or Area'],values=selected_var, color=selected_var, color_continuous_scale='brwnyl',\n",
      "  File \"C:\\Users\\beatr\\anaconda3\\lib\\site-packages\\plotly\\express\\_chart_types.py\", line 1473, in treemap\n",
      "    return make_figure(\n",
      "  File \"C:\\Users\\beatr\\anaconda3\\lib\\site-packages\\plotly\\express\\_core.py\", line 1879, in make_figure\n",
      "    args = build_dataframe(args, constructor)\n",
      "  File \"C:\\Users\\beatr\\anaconda3\\lib\\site-packages\\plotly\\express\\_core.py\", line 1399, in build_dataframe\n",
      "    df_output, wide_id_vars = process_args_into_dataframe(\n",
      "  File \"C:\\Users\\beatr\\anaconda3\\lib\\site-packages\\plotly\\express\\_core.py\", line 1207, in process_args_into_dataframe\n",
      "    raise ValueError(\n",
      "ValueError: All arguments should have the same length. The length of column argument `df[path_0]` is 39, whereas the length of  previously-processed arguments ['values'] is 1\n",
      "Exception on /_dash-update-component [POST]\n",
      "Traceback (most recent call last):\n",
      "  File \"C:\\Users\\beatr\\anaconda3\\lib\\site-packages\\flask\\app.py\", line 2447, in wsgi_app\n",
      "    response = self.full_dispatch_request()\n",
      "  File \"C:\\Users\\beatr\\anaconda3\\lib\\site-packages\\flask\\app.py\", line 1952, in full_dispatch_request\n",
      "    rv = self.handle_user_exception(e)\n",
      "  File \"C:\\Users\\beatr\\anaconda3\\lib\\site-packages\\flask\\app.py\", line 1821, in handle_user_exception\n",
      "    reraise(exc_type, exc_value, tb)\n",
      "  File \"C:\\Users\\beatr\\anaconda3\\lib\\site-packages\\flask\\_compat.py\", line 39, in reraise\n",
      "    raise value\n",
      "  File \"C:\\Users\\beatr\\anaconda3\\lib\\site-packages\\flask\\app.py\", line 1950, in full_dispatch_request\n",
      "    rv = self.dispatch_request()\n",
      "  File \"C:\\Users\\beatr\\anaconda3\\lib\\site-packages\\flask\\app.py\", line 1936, in dispatch_request\n",
      "    return self.view_functions[rule.endpoint](**req.view_args)\n",
      "  File \"C:\\Users\\beatr\\anaconda3\\lib\\site-packages\\dash\\dash.py\", line 1345, in dispatch\n",
      "    response.set_data(func(*args, outputs_list=outputs_list))\n",
      "  File \"C:\\Users\\beatr\\anaconda3\\lib\\site-packages\\dash\\_callback.py\", line 151, in add_context\n",
      "    output_value = func(*func_args, **func_kwargs)  # %% callback invoked %%\n",
      "  File \"<ipython-input-278-d2cfb6ae60dd>\", line 12, in update_treemap\n",
      "    fig = px.treemap(filtered_df, path=['Country or Area'],values=selected_var, color=selected_var, color_continuous_scale='brwnyl',\n",
      "  File \"C:\\Users\\beatr\\anaconda3\\lib\\site-packages\\plotly\\express\\_chart_types.py\", line 1473, in treemap\n",
      "    return make_figure(\n",
      "  File \"C:\\Users\\beatr\\anaconda3\\lib\\site-packages\\plotly\\express\\_core.py\", line 1879, in make_figure\n",
      "    args = build_dataframe(args, constructor)\n",
      "  File \"C:\\Users\\beatr\\anaconda3\\lib\\site-packages\\plotly\\express\\_core.py\", line 1399, in build_dataframe\n",
      "    df_output, wide_id_vars = process_args_into_dataframe(\n",
      "  File \"C:\\Users\\beatr\\anaconda3\\lib\\site-packages\\plotly\\express\\_core.py\", line 1207, in process_args_into_dataframe\n",
      "    raise ValueError(\n",
      "ValueError: All arguments should have the same length. The length of column argument `df[path_0]` is 39, whereas the length of  previously-processed arguments ['values'] is 1\n",
      "Exception on /_dash-update-component [POST]\n",
      "Traceback (most recent call last):\n",
      "  File \"C:\\Users\\beatr\\anaconda3\\lib\\site-packages\\flask\\app.py\", line 2447, in wsgi_app\n",
      "    response = self.full_dispatch_request()\n",
      "  File \"C:\\Users\\beatr\\anaconda3\\lib\\site-packages\\flask\\app.py\", line 1952, in full_dispatch_request\n",
      "    rv = self.handle_user_exception(e)\n",
      "  File \"C:\\Users\\beatr\\anaconda3\\lib\\site-packages\\flask\\app.py\", line 1821, in handle_user_exception\n",
      "    reraise(exc_type, exc_value, tb)\n",
      "  File \"C:\\Users\\beatr\\anaconda3\\lib\\site-packages\\flask\\_compat.py\", line 39, in reraise\n",
      "    raise value\n",
      "  File \"C:\\Users\\beatr\\anaconda3\\lib\\site-packages\\flask\\app.py\", line 1950, in full_dispatch_request\n",
      "    rv = self.dispatch_request()\n",
      "  File \"C:\\Users\\beatr\\anaconda3\\lib\\site-packages\\flask\\app.py\", line 1936, in dispatch_request\n",
      "    return self.view_functions[rule.endpoint](**req.view_args)\n",
      "  File \"C:\\Users\\beatr\\anaconda3\\lib\\site-packages\\dash\\dash.py\", line 1345, in dispatch\n",
      "    response.set_data(func(*args, outputs_list=outputs_list))\n",
      "  File \"C:\\Users\\beatr\\anaconda3\\lib\\site-packages\\dash\\_callback.py\", line 151, in add_context\n",
      "    output_value = func(*func_args, **func_kwargs)  # %% callback invoked %%\n",
      "  File \"<ipython-input-278-d2cfb6ae60dd>\", line 12, in update_treemap\n",
      "    fig = px.treemap(filtered_df, path=['Country or Area'],values=selected_var, color=selected_var, color_continuous_scale='brwnyl',\n",
      "  File \"C:\\Users\\beatr\\anaconda3\\lib\\site-packages\\plotly\\express\\_chart_types.py\", line 1473, in treemap\n",
      "    return make_figure(\n",
      "  File \"C:\\Users\\beatr\\anaconda3\\lib\\site-packages\\plotly\\express\\_core.py\", line 1879, in make_figure\n",
      "    args = build_dataframe(args, constructor)\n",
      "  File \"C:\\Users\\beatr\\anaconda3\\lib\\site-packages\\plotly\\express\\_core.py\", line 1399, in build_dataframe\n",
      "    df_output, wide_id_vars = process_args_into_dataframe(\n",
      "  File \"C:\\Users\\beatr\\anaconda3\\lib\\site-packages\\plotly\\express\\_core.py\", line 1207, in process_args_into_dataframe\n",
      "    raise ValueError(\n",
      "ValueError: All arguments should have the same length. The length of column argument `df[path_0]` is 39, whereas the length of  previously-processed arguments ['values'] is 1\n",
      "Exception on /_dash-update-component [POST]\n",
      "Traceback (most recent call last):\n",
      "  File \"C:\\Users\\beatr\\anaconda3\\lib\\site-packages\\flask\\app.py\", line 2447, in wsgi_app\n",
      "    response = self.full_dispatch_request()\n",
      "  File \"C:\\Users\\beatr\\anaconda3\\lib\\site-packages\\flask\\app.py\", line 1952, in full_dispatch_request\n",
      "    rv = self.handle_user_exception(e)\n",
      "  File \"C:\\Users\\beatr\\anaconda3\\lib\\site-packages\\flask\\app.py\", line 1821, in handle_user_exception\n",
      "    reraise(exc_type, exc_value, tb)\n",
      "  File \"C:\\Users\\beatr\\anaconda3\\lib\\site-packages\\flask\\_compat.py\", line 39, in reraise\n",
      "    raise value\n",
      "  File \"C:\\Users\\beatr\\anaconda3\\lib\\site-packages\\flask\\app.py\", line 1950, in full_dispatch_request\n",
      "    rv = self.dispatch_request()\n",
      "  File \"C:\\Users\\beatr\\anaconda3\\lib\\site-packages\\flask\\app.py\", line 1936, in dispatch_request\n",
      "    return self.view_functions[rule.endpoint](**req.view_args)\n",
      "  File \"C:\\Users\\beatr\\anaconda3\\lib\\site-packages\\dash\\dash.py\", line 1345, in dispatch\n",
      "    response.set_data(func(*args, outputs_list=outputs_list))\n",
      "  File \"C:\\Users\\beatr\\anaconda3\\lib\\site-packages\\dash\\_callback.py\", line 151, in add_context\n",
      "    output_value = func(*func_args, **func_kwargs)  # %% callback invoked %%\n",
      "  File \"<ipython-input-278-d2cfb6ae60dd>\", line 12, in update_treemap\n",
      "    fig = px.treemap(filtered_df, path=['Country or Area'],values=selected_var, color=selected_var, color_continuous_scale='brwnyl',\n",
      "  File \"C:\\Users\\beatr\\anaconda3\\lib\\site-packages\\plotly\\express\\_chart_types.py\", line 1473, in treemap\n",
      "    return make_figure(\n",
      "  File \"C:\\Users\\beatr\\anaconda3\\lib\\site-packages\\plotly\\express\\_core.py\", line 1879, in make_figure\n",
      "    args = build_dataframe(args, constructor)\n",
      "  File \"C:\\Users\\beatr\\anaconda3\\lib\\site-packages\\plotly\\express\\_core.py\", line 1399, in build_dataframe\n",
      "    df_output, wide_id_vars = process_args_into_dataframe(\n",
      "  File \"C:\\Users\\beatr\\anaconda3\\lib\\site-packages\\plotly\\express\\_core.py\", line 1207, in process_args_into_dataframe\n",
      "    raise ValueError(\n",
      "ValueError: All arguments should have the same length. The length of column argument `df[path_0]` is 39, whereas the length of  previously-processed arguments ['values'] is 1\n",
      "Exception on /_dash-update-component [POST]\n",
      "Traceback (most recent call last):\n",
      "  File \"C:\\Users\\beatr\\anaconda3\\lib\\site-packages\\flask\\app.py\", line 2447, in wsgi_app\n",
      "    response = self.full_dispatch_request()\n",
      "  File \"C:\\Users\\beatr\\anaconda3\\lib\\site-packages\\flask\\app.py\", line 1952, in full_dispatch_request\n",
      "    rv = self.handle_user_exception(e)\n",
      "  File \"C:\\Users\\beatr\\anaconda3\\lib\\site-packages\\flask\\app.py\", line 1821, in handle_user_exception\n",
      "    reraise(exc_type, exc_value, tb)\n",
      "  File \"C:\\Users\\beatr\\anaconda3\\lib\\site-packages\\flask\\_compat.py\", line 39, in reraise\n",
      "    raise value\n",
      "  File \"C:\\Users\\beatr\\anaconda3\\lib\\site-packages\\flask\\app.py\", line 1950, in full_dispatch_request\n",
      "    rv = self.dispatch_request()\n",
      "  File \"C:\\Users\\beatr\\anaconda3\\lib\\site-packages\\flask\\app.py\", line 1936, in dispatch_request\n",
      "    return self.view_functions[rule.endpoint](**req.view_args)\n",
      "  File \"C:\\Users\\beatr\\anaconda3\\lib\\site-packages\\dash\\dash.py\", line 1345, in dispatch\n",
      "    response.set_data(func(*args, outputs_list=outputs_list))\n",
      "  File \"C:\\Users\\beatr\\anaconda3\\lib\\site-packages\\dash\\_callback.py\", line 151, in add_context\n",
      "    output_value = func(*func_args, **func_kwargs)  # %% callback invoked %%\n",
      "  File \"<ipython-input-278-d2cfb6ae60dd>\", line 12, in update_treemap\n",
      "    fig = px.treemap(filtered_df, path=['Country or Area'],values=selected_var, color=selected_var, color_continuous_scale='brwnyl',\n",
      "  File \"C:\\Users\\beatr\\anaconda3\\lib\\site-packages\\plotly\\express\\_chart_types.py\", line 1473, in treemap\n",
      "    return make_figure(\n",
      "  File \"C:\\Users\\beatr\\anaconda3\\lib\\site-packages\\plotly\\express\\_core.py\", line 1879, in make_figure\n",
      "    args = build_dataframe(args, constructor)\n",
      "  File \"C:\\Users\\beatr\\anaconda3\\lib\\site-packages\\plotly\\express\\_core.py\", line 1399, in build_dataframe\n",
      "    df_output, wide_id_vars = process_args_into_dataframe(\n",
      "  File \"C:\\Users\\beatr\\anaconda3\\lib\\site-packages\\plotly\\express\\_core.py\", line 1207, in process_args_into_dataframe\n",
      "    raise ValueError(\n",
      "ValueError: All arguments should have the same length. The length of column argument `df[path_0]` is 39, whereas the length of  previously-processed arguments ['values'] is 1\n",
      "Exception on /_dash-update-component [POST]\n",
      "Traceback (most recent call last):\n",
      "  File \"C:\\Users\\beatr\\anaconda3\\lib\\site-packages\\flask\\app.py\", line 2447, in wsgi_app\n",
      "    response = self.full_dispatch_request()\n",
      "  File \"C:\\Users\\beatr\\anaconda3\\lib\\site-packages\\flask\\app.py\", line 1952, in full_dispatch_request\n",
      "    rv = self.handle_user_exception(e)\n",
      "  File \"C:\\Users\\beatr\\anaconda3\\lib\\site-packages\\flask\\app.py\", line 1821, in handle_user_exception\n",
      "    reraise(exc_type, exc_value, tb)\n",
      "  File \"C:\\Users\\beatr\\anaconda3\\lib\\site-packages\\flask\\_compat.py\", line 39, in reraise\n",
      "    raise value\n",
      "  File \"C:\\Users\\beatr\\anaconda3\\lib\\site-packages\\flask\\app.py\", line 1950, in full_dispatch_request\n",
      "    rv = self.dispatch_request()\n",
      "  File \"C:\\Users\\beatr\\anaconda3\\lib\\site-packages\\flask\\app.py\", line 1936, in dispatch_request\n",
      "    return self.view_functions[rule.endpoint](**req.view_args)\n",
      "  File \"C:\\Users\\beatr\\anaconda3\\lib\\site-packages\\dash\\dash.py\", line 1345, in dispatch\n",
      "    response.set_data(func(*args, outputs_list=outputs_list))\n",
      "  File \"C:\\Users\\beatr\\anaconda3\\lib\\site-packages\\dash\\_callback.py\", line 151, in add_context\n",
      "    output_value = func(*func_args, **func_kwargs)  # %% callback invoked %%\n",
      "  File \"<ipython-input-278-d2cfb6ae60dd>\", line 12, in update_treemap\n",
      "    fig = px.treemap(filtered_df, path=['Country or Area'],values=selected_var, color=selected_var, color_continuous_scale='brwnyl',\n",
      "  File \"C:\\Users\\beatr\\anaconda3\\lib\\site-packages\\plotly\\express\\_chart_types.py\", line 1473, in treemap\n",
      "    return make_figure(\n",
      "  File \"C:\\Users\\beatr\\anaconda3\\lib\\site-packages\\plotly\\express\\_core.py\", line 1879, in make_figure\n",
      "    args = build_dataframe(args, constructor)\n",
      "  File \"C:\\Users\\beatr\\anaconda3\\lib\\site-packages\\plotly\\express\\_core.py\", line 1399, in build_dataframe\n",
      "    df_output, wide_id_vars = process_args_into_dataframe(\n",
      "  File \"C:\\Users\\beatr\\anaconda3\\lib\\site-packages\\plotly\\express\\_core.py\", line 1207, in process_args_into_dataframe\n",
      "    raise ValueError(\n",
      "ValueError: All arguments should have the same length. The length of column argument `df[path_0]` is 39, whereas the length of  previously-processed arguments ['values'] is 1\n",
      "Exception on /_dash-update-component [POST]\n",
      "Traceback (most recent call last):\n",
      "  File \"C:\\Users\\beatr\\anaconda3\\lib\\site-packages\\flask\\app.py\", line 2447, in wsgi_app\n",
      "    response = self.full_dispatch_request()\n",
      "  File \"C:\\Users\\beatr\\anaconda3\\lib\\site-packages\\flask\\app.py\", line 1952, in full_dispatch_request\n",
      "    rv = self.handle_user_exception(e)\n",
      "  File \"C:\\Users\\beatr\\anaconda3\\lib\\site-packages\\flask\\app.py\", line 1821, in handle_user_exception\n",
      "    reraise(exc_type, exc_value, tb)\n",
      "  File \"C:\\Users\\beatr\\anaconda3\\lib\\site-packages\\flask\\_compat.py\", line 39, in reraise\n",
      "    raise value\n",
      "  File \"C:\\Users\\beatr\\anaconda3\\lib\\site-packages\\flask\\app.py\", line 1950, in full_dispatch_request\n",
      "    rv = self.dispatch_request()\n",
      "  File \"C:\\Users\\beatr\\anaconda3\\lib\\site-packages\\flask\\app.py\", line 1936, in dispatch_request\n",
      "    return self.view_functions[rule.endpoint](**req.view_args)\n",
      "  File \"C:\\Users\\beatr\\anaconda3\\lib\\site-packages\\dash\\dash.py\", line 1345, in dispatch\n",
      "    response.set_data(func(*args, outputs_list=outputs_list))\n",
      "  File \"C:\\Users\\beatr\\anaconda3\\lib\\site-packages\\dash\\_callback.py\", line 151, in add_context\n",
      "    output_value = func(*func_args, **func_kwargs)  # %% callback invoked %%\n",
      "  File \"<ipython-input-278-d2cfb6ae60dd>\", line 12, in update_treemap\n",
      "    fig = px.treemap(filtered_df, path=['Country or Area'],values=selected_var, color=selected_var, color_continuous_scale='brwnyl',\n",
      "  File \"C:\\Users\\beatr\\anaconda3\\lib\\site-packages\\plotly\\express\\_chart_types.py\", line 1473, in treemap\n",
      "    return make_figure(\n",
      "  File \"C:\\Users\\beatr\\anaconda3\\lib\\site-packages\\plotly\\express\\_core.py\", line 1879, in make_figure\n",
      "    args = build_dataframe(args, constructor)\n",
      "  File \"C:\\Users\\beatr\\anaconda3\\lib\\site-packages\\plotly\\express\\_core.py\", line 1399, in build_dataframe\n",
      "    df_output, wide_id_vars = process_args_into_dataframe(\n",
      "  File \"C:\\Users\\beatr\\anaconda3\\lib\\site-packages\\plotly\\express\\_core.py\", line 1207, in process_args_into_dataframe\n",
      "    raise ValueError(\n",
      "ValueError: All arguments should have the same length. The length of column argument `df[path_0]` is 39, whereas the length of  previously-processed arguments ['values'] is 1\n",
      "Exception on /_dash-update-component [POST]\n",
      "Traceback (most recent call last):\n",
      "  File \"C:\\Users\\beatr\\anaconda3\\lib\\site-packages\\flask\\app.py\", line 2447, in wsgi_app\n",
      "    response = self.full_dispatch_request()\n",
      "  File \"C:\\Users\\beatr\\anaconda3\\lib\\site-packages\\flask\\app.py\", line 1952, in full_dispatch_request\n",
      "    rv = self.handle_user_exception(e)\n",
      "  File \"C:\\Users\\beatr\\anaconda3\\lib\\site-packages\\flask\\app.py\", line 1821, in handle_user_exception\n",
      "    reraise(exc_type, exc_value, tb)\n",
      "  File \"C:\\Users\\beatr\\anaconda3\\lib\\site-packages\\flask\\_compat.py\", line 39, in reraise\n",
      "    raise value\n",
      "  File \"C:\\Users\\beatr\\anaconda3\\lib\\site-packages\\flask\\app.py\", line 1950, in full_dispatch_request\n",
      "    rv = self.dispatch_request()\n",
      "  File \"C:\\Users\\beatr\\anaconda3\\lib\\site-packages\\flask\\app.py\", line 1936, in dispatch_request\n",
      "    return self.view_functions[rule.endpoint](**req.view_args)\n",
      "  File \"C:\\Users\\beatr\\anaconda3\\lib\\site-packages\\dash\\dash.py\", line 1345, in dispatch\n",
      "    response.set_data(func(*args, outputs_list=outputs_list))\n",
      "  File \"C:\\Users\\beatr\\anaconda3\\lib\\site-packages\\dash\\_callback.py\", line 151, in add_context\n",
      "    output_value = func(*func_args, **func_kwargs)  # %% callback invoked %%\n",
      "  File \"<ipython-input-278-d2cfb6ae60dd>\", line 12, in update_treemap\n",
      "    fig = px.treemap(filtered_df, path=['Country or Area'],values=selected_var, color=selected_var, color_continuous_scale='brwnyl',\n",
      "  File \"C:\\Users\\beatr\\anaconda3\\lib\\site-packages\\plotly\\express\\_chart_types.py\", line 1473, in treemap\n",
      "    return make_figure(\n",
      "  File \"C:\\Users\\beatr\\anaconda3\\lib\\site-packages\\plotly\\express\\_core.py\", line 1879, in make_figure\n",
      "    args = build_dataframe(args, constructor)\n",
      "  File \"C:\\Users\\beatr\\anaconda3\\lib\\site-packages\\plotly\\express\\_core.py\", line 1399, in build_dataframe\n",
      "    df_output, wide_id_vars = process_args_into_dataframe(\n",
      "  File \"C:\\Users\\beatr\\anaconda3\\lib\\site-packages\\plotly\\express\\_core.py\", line 1207, in process_args_into_dataframe\n",
      "    raise ValueError(\n",
      "ValueError: All arguments should have the same length. The length of column argument `df[path_0]` is 39, whereas the length of  previously-processed arguments ['values'] is 1\n",
      "Exception on /_dash-update-component [POST]\n",
      "Traceback (most recent call last):\n",
      "  File \"C:\\Users\\beatr\\anaconda3\\lib\\site-packages\\flask\\app.py\", line 2447, in wsgi_app\n",
      "    response = self.full_dispatch_request()\n",
      "  File \"C:\\Users\\beatr\\anaconda3\\lib\\site-packages\\flask\\app.py\", line 1952, in full_dispatch_request\n",
      "    rv = self.handle_user_exception(e)\n",
      "  File \"C:\\Users\\beatr\\anaconda3\\lib\\site-packages\\flask\\app.py\", line 1821, in handle_user_exception\n",
      "    reraise(exc_type, exc_value, tb)\n",
      "  File \"C:\\Users\\beatr\\anaconda3\\lib\\site-packages\\flask\\_compat.py\", line 39, in reraise\n",
      "    raise value\n",
      "  File \"C:\\Users\\beatr\\anaconda3\\lib\\site-packages\\flask\\app.py\", line 1950, in full_dispatch_request\n",
      "    rv = self.dispatch_request()\n",
      "  File \"C:\\Users\\beatr\\anaconda3\\lib\\site-packages\\flask\\app.py\", line 1936, in dispatch_request\n",
      "    return self.view_functions[rule.endpoint](**req.view_args)\n",
      "  File \"C:\\Users\\beatr\\anaconda3\\lib\\site-packages\\dash\\dash.py\", line 1345, in dispatch\n",
      "    response.set_data(func(*args, outputs_list=outputs_list))\n",
      "  File \"C:\\Users\\beatr\\anaconda3\\lib\\site-packages\\dash\\_callback.py\", line 151, in add_context\n",
      "    output_value = func(*func_args, **func_kwargs)  # %% callback invoked %%\n",
      "  File \"<ipython-input-278-d2cfb6ae60dd>\", line 12, in update_treemap\n",
      "    fig = px.treemap(filtered_df, path=['Country or Area'],values=selected_var, color=selected_var, color_continuous_scale='brwnyl',\n",
      "  File \"C:\\Users\\beatr\\anaconda3\\lib\\site-packages\\plotly\\express\\_chart_types.py\", line 1473, in treemap\n",
      "    return make_figure(\n",
      "  File \"C:\\Users\\beatr\\anaconda3\\lib\\site-packages\\plotly\\express\\_core.py\", line 1879, in make_figure\n",
      "    args = build_dataframe(args, constructor)\n",
      "  File \"C:\\Users\\beatr\\anaconda3\\lib\\site-packages\\plotly\\express\\_core.py\", line 1399, in build_dataframe\n",
      "    df_output, wide_id_vars = process_args_into_dataframe(\n",
      "  File \"C:\\Users\\beatr\\anaconda3\\lib\\site-packages\\plotly\\express\\_core.py\", line 1207, in process_args_into_dataframe\n",
      "    raise ValueError(\n",
      "ValueError: All arguments should have the same length. The length of column argument `df[path_0]` is 39, whereas the length of  previously-processed arguments ['values'] is 1\n",
      "Exception on /_dash-update-component [POST]\n",
      "Traceback (most recent call last):\n",
      "  File \"C:\\Users\\beatr\\anaconda3\\lib\\site-packages\\flask\\app.py\", line 2447, in wsgi_app\n",
      "    response = self.full_dispatch_request()\n",
      "  File \"C:\\Users\\beatr\\anaconda3\\lib\\site-packages\\flask\\app.py\", line 1952, in full_dispatch_request\n",
      "    rv = self.handle_user_exception(e)\n",
      "  File \"C:\\Users\\beatr\\anaconda3\\lib\\site-packages\\flask\\app.py\", line 1821, in handle_user_exception\n",
      "    reraise(exc_type, exc_value, tb)\n",
      "  File \"C:\\Users\\beatr\\anaconda3\\lib\\site-packages\\flask\\_compat.py\", line 39, in reraise\n",
      "    raise value\n",
      "  File \"C:\\Users\\beatr\\anaconda3\\lib\\site-packages\\flask\\app.py\", line 1950, in full_dispatch_request\n",
      "    rv = self.dispatch_request()\n",
      "  File \"C:\\Users\\beatr\\anaconda3\\lib\\site-packages\\flask\\app.py\", line 1936, in dispatch_request\n",
      "    return self.view_functions[rule.endpoint](**req.view_args)\n",
      "  File \"C:\\Users\\beatr\\anaconda3\\lib\\site-packages\\dash\\dash.py\", line 1345, in dispatch\n",
      "    response.set_data(func(*args, outputs_list=outputs_list))\n",
      "  File \"C:\\Users\\beatr\\anaconda3\\lib\\site-packages\\dash\\_callback.py\", line 151, in add_context\n",
      "    output_value = func(*func_args, **func_kwargs)  # %% callback invoked %%\n",
      "  File \"<ipython-input-278-d2cfb6ae60dd>\", line 12, in update_treemap\n",
      "    fig = px.treemap(filtered_df, path=['Country or Area'],values=selected_var, color=selected_var, color_continuous_scale='brwnyl',\n",
      "  File \"C:\\Users\\beatr\\anaconda3\\lib\\site-packages\\plotly\\express\\_chart_types.py\", line 1473, in treemap\n",
      "    return make_figure(\n",
      "  File \"C:\\Users\\beatr\\anaconda3\\lib\\site-packages\\plotly\\express\\_core.py\", line 1879, in make_figure\n",
      "    args = build_dataframe(args, constructor)\n",
      "  File \"C:\\Users\\beatr\\anaconda3\\lib\\site-packages\\plotly\\express\\_core.py\", line 1399, in build_dataframe\n",
      "    df_output, wide_id_vars = process_args_into_dataframe(\n",
      "  File \"C:\\Users\\beatr\\anaconda3\\lib\\site-packages\\plotly\\express\\_core.py\", line 1207, in process_args_into_dataframe\n",
      "    raise ValueError(\n",
      "ValueError: All arguments should have the same length. The length of column argument `df[path_0]` is 39, whereas the length of  previously-processed arguments ['values'] is 1\n",
      "Exception on /_dash-update-component [POST]\n",
      "Traceback (most recent call last):\n",
      "  File \"C:\\Users\\beatr\\anaconda3\\lib\\site-packages\\flask\\app.py\", line 2447, in wsgi_app\n",
      "    response = self.full_dispatch_request()\n",
      "  File \"C:\\Users\\beatr\\anaconda3\\lib\\site-packages\\flask\\app.py\", line 1952, in full_dispatch_request\n",
      "    rv = self.handle_user_exception(e)\n",
      "  File \"C:\\Users\\beatr\\anaconda3\\lib\\site-packages\\flask\\app.py\", line 1821, in handle_user_exception\n",
      "    reraise(exc_type, exc_value, tb)\n",
      "  File \"C:\\Users\\beatr\\anaconda3\\lib\\site-packages\\flask\\_compat.py\", line 39, in reraise\n",
      "    raise value\n",
      "  File \"C:\\Users\\beatr\\anaconda3\\lib\\site-packages\\flask\\app.py\", line 1950, in full_dispatch_request\n",
      "    rv = self.dispatch_request()\n",
      "  File \"C:\\Users\\beatr\\anaconda3\\lib\\site-packages\\flask\\app.py\", line 1936, in dispatch_request\n",
      "    return self.view_functions[rule.endpoint](**req.view_args)\n",
      "  File \"C:\\Users\\beatr\\anaconda3\\lib\\site-packages\\dash\\dash.py\", line 1345, in dispatch\n",
      "    response.set_data(func(*args, outputs_list=outputs_list))\n",
      "  File \"C:\\Users\\beatr\\anaconda3\\lib\\site-packages\\dash\\_callback.py\", line 151, in add_context\n",
      "    output_value = func(*func_args, **func_kwargs)  # %% callback invoked %%\n",
      "  File \"<ipython-input-278-d2cfb6ae60dd>\", line 12, in update_treemap\n",
      "    fig = px.treemap(filtered_df, path=['Country or Area'],values=selected_var, color=selected_var, color_continuous_scale='brwnyl',\n",
      "  File \"C:\\Users\\beatr\\anaconda3\\lib\\site-packages\\plotly\\express\\_chart_types.py\", line 1473, in treemap\n",
      "    return make_figure(\n",
      "  File \"C:\\Users\\beatr\\anaconda3\\lib\\site-packages\\plotly\\express\\_core.py\", line 1879, in make_figure\n",
      "    args = build_dataframe(args, constructor)\n",
      "  File \"C:\\Users\\beatr\\anaconda3\\lib\\site-packages\\plotly\\express\\_core.py\", line 1399, in build_dataframe\n",
      "    df_output, wide_id_vars = process_args_into_dataframe(\n",
      "  File \"C:\\Users\\beatr\\anaconda3\\lib\\site-packages\\plotly\\express\\_core.py\", line 1207, in process_args_into_dataframe\n",
      "    raise ValueError(\n",
      "ValueError: All arguments should have the same length. The length of column argument `df[path_0]` is 39, whereas the length of  previously-processed arguments ['values'] is 1\n",
      "Exception on /_dash-update-component [POST]\n",
      "Traceback (most recent call last):\n",
      "  File \"C:\\Users\\beatr\\anaconda3\\lib\\site-packages\\flask\\app.py\", line 2447, in wsgi_app\n",
      "    response = self.full_dispatch_request()\n",
      "  File \"C:\\Users\\beatr\\anaconda3\\lib\\site-packages\\flask\\app.py\", line 1952, in full_dispatch_request\n",
      "    rv = self.handle_user_exception(e)\n",
      "  File \"C:\\Users\\beatr\\anaconda3\\lib\\site-packages\\flask\\app.py\", line 1821, in handle_user_exception\n",
      "    reraise(exc_type, exc_value, tb)\n",
      "  File \"C:\\Users\\beatr\\anaconda3\\lib\\site-packages\\flask\\_compat.py\", line 39, in reraise\n",
      "    raise value\n",
      "  File \"C:\\Users\\beatr\\anaconda3\\lib\\site-packages\\flask\\app.py\", line 1950, in full_dispatch_request\n",
      "    rv = self.dispatch_request()\n",
      "  File \"C:\\Users\\beatr\\anaconda3\\lib\\site-packages\\flask\\app.py\", line 1936, in dispatch_request\n",
      "    return self.view_functions[rule.endpoint](**req.view_args)\n",
      "  File \"C:\\Users\\beatr\\anaconda3\\lib\\site-packages\\dash\\dash.py\", line 1345, in dispatch\n",
      "    response.set_data(func(*args, outputs_list=outputs_list))\n",
      "  File \"C:\\Users\\beatr\\anaconda3\\lib\\site-packages\\dash\\_callback.py\", line 151, in add_context\n",
      "    output_value = func(*func_args, **func_kwargs)  # %% callback invoked %%\n",
      "  File \"<ipython-input-278-d2cfb6ae60dd>\", line 12, in update_treemap\n",
      "    fig = px.treemap(filtered_df, path=['Country or Area'],values=selected_var, color=selected_var, color_continuous_scale='brwnyl',\n",
      "  File \"C:\\Users\\beatr\\anaconda3\\lib\\site-packages\\plotly\\express\\_chart_types.py\", line 1473, in treemap\n",
      "    return make_figure(\n",
      "  File \"C:\\Users\\beatr\\anaconda3\\lib\\site-packages\\plotly\\express\\_core.py\", line 1879, in make_figure\n",
      "    args = build_dataframe(args, constructor)\n",
      "  File \"C:\\Users\\beatr\\anaconda3\\lib\\site-packages\\plotly\\express\\_core.py\", line 1399, in build_dataframe\n",
      "    df_output, wide_id_vars = process_args_into_dataframe(\n",
      "  File \"C:\\Users\\beatr\\anaconda3\\lib\\site-packages\\plotly\\express\\_core.py\", line 1207, in process_args_into_dataframe\n",
      "    raise ValueError(\n",
      "ValueError: All arguments should have the same length. The length of column argument `df[path_0]` is 39, whereas the length of  previously-processed arguments ['values'] is 1\n",
      "Exception on /_dash-update-component [POST]\n",
      "Traceback (most recent call last):\n",
      "  File \"C:\\Users\\beatr\\anaconda3\\lib\\site-packages\\flask\\app.py\", line 2447, in wsgi_app\n",
      "    response = self.full_dispatch_request()\n",
      "  File \"C:\\Users\\beatr\\anaconda3\\lib\\site-packages\\flask\\app.py\", line 1952, in full_dispatch_request\n",
      "    rv = self.handle_user_exception(e)\n",
      "  File \"C:\\Users\\beatr\\anaconda3\\lib\\site-packages\\flask\\app.py\", line 1821, in handle_user_exception\n",
      "    reraise(exc_type, exc_value, tb)\n",
      "  File \"C:\\Users\\beatr\\anaconda3\\lib\\site-packages\\flask\\_compat.py\", line 39, in reraise\n",
      "    raise value\n",
      "  File \"C:\\Users\\beatr\\anaconda3\\lib\\site-packages\\flask\\app.py\", line 1950, in full_dispatch_request\n",
      "    rv = self.dispatch_request()\n",
      "  File \"C:\\Users\\beatr\\anaconda3\\lib\\site-packages\\flask\\app.py\", line 1936, in dispatch_request\n",
      "    return self.view_functions[rule.endpoint](**req.view_args)\n",
      "  File \"C:\\Users\\beatr\\anaconda3\\lib\\site-packages\\dash\\dash.py\", line 1345, in dispatch\n",
      "    response.set_data(func(*args, outputs_list=outputs_list))\n",
      "  File \"C:\\Users\\beatr\\anaconda3\\lib\\site-packages\\dash\\_callback.py\", line 151, in add_context\n",
      "    output_value = func(*func_args, **func_kwargs)  # %% callback invoked %%\n",
      "  File \"<ipython-input-278-d2cfb6ae60dd>\", line 12, in update_treemap\n",
      "    fig = px.treemap(filtered_df, path=['Country or Area'],values=selected_var, color=selected_var, color_continuous_scale='brwnyl',\n",
      "  File \"C:\\Users\\beatr\\anaconda3\\lib\\site-packages\\plotly\\express\\_chart_types.py\", line 1473, in treemap\n",
      "    return make_figure(\n",
      "  File \"C:\\Users\\beatr\\anaconda3\\lib\\site-packages\\plotly\\express\\_core.py\", line 1879, in make_figure\n",
      "    args = build_dataframe(args, constructor)\n",
      "  File \"C:\\Users\\beatr\\anaconda3\\lib\\site-packages\\plotly\\express\\_core.py\", line 1399, in build_dataframe\n",
      "    df_output, wide_id_vars = process_args_into_dataframe(\n",
      "  File \"C:\\Users\\beatr\\anaconda3\\lib\\site-packages\\plotly\\express\\_core.py\", line 1207, in process_args_into_dataframe\n",
      "    raise ValueError(\n",
      "ValueError: All arguments should have the same length. The length of column argument `df[path_0]` is 39, whereas the length of  previously-processed arguments ['values'] is 1\n",
      "Exception on /_dash-update-component [POST]\n",
      "Traceback (most recent call last):\n",
      "  File \"C:\\Users\\beatr\\anaconda3\\lib\\site-packages\\flask\\app.py\", line 2447, in wsgi_app\n",
      "    response = self.full_dispatch_request()\n",
      "  File \"C:\\Users\\beatr\\anaconda3\\lib\\site-packages\\flask\\app.py\", line 1952, in full_dispatch_request\n",
      "    rv = self.handle_user_exception(e)\n",
      "  File \"C:\\Users\\beatr\\anaconda3\\lib\\site-packages\\flask\\app.py\", line 1821, in handle_user_exception\n",
      "    reraise(exc_type, exc_value, tb)\n",
      "  File \"C:\\Users\\beatr\\anaconda3\\lib\\site-packages\\flask\\_compat.py\", line 39, in reraise\n",
      "    raise value\n",
      "  File \"C:\\Users\\beatr\\anaconda3\\lib\\site-packages\\flask\\app.py\", line 1950, in full_dispatch_request\n",
      "    rv = self.dispatch_request()\n",
      "  File \"C:\\Users\\beatr\\anaconda3\\lib\\site-packages\\flask\\app.py\", line 1936, in dispatch_request\n",
      "    return self.view_functions[rule.endpoint](**req.view_args)\n",
      "  File \"C:\\Users\\beatr\\anaconda3\\lib\\site-packages\\dash\\dash.py\", line 1345, in dispatch\n",
      "    response.set_data(func(*args, outputs_list=outputs_list))\n",
      "  File \"C:\\Users\\beatr\\anaconda3\\lib\\site-packages\\dash\\_callback.py\", line 151, in add_context\n",
      "    output_value = func(*func_args, **func_kwargs)  # %% callback invoked %%\n",
      "  File \"<ipython-input-278-d2cfb6ae60dd>\", line 12, in update_treemap\n",
      "    fig = px.treemap(filtered_df, path=['Country or Area'],values=selected_var, color=selected_var, color_continuous_scale='brwnyl',\n",
      "  File \"C:\\Users\\beatr\\anaconda3\\lib\\site-packages\\plotly\\express\\_chart_types.py\", line 1473, in treemap\n",
      "    return make_figure(\n",
      "  File \"C:\\Users\\beatr\\anaconda3\\lib\\site-packages\\plotly\\express\\_core.py\", line 1879, in make_figure\n",
      "    args = build_dataframe(args, constructor)\n",
      "  File \"C:\\Users\\beatr\\anaconda3\\lib\\site-packages\\plotly\\express\\_core.py\", line 1399, in build_dataframe\n",
      "    df_output, wide_id_vars = process_args_into_dataframe(\n",
      "  File \"C:\\Users\\beatr\\anaconda3\\lib\\site-packages\\plotly\\express\\_core.py\", line 1207, in process_args_into_dataframe\n",
      "    raise ValueError(\n",
      "ValueError: All arguments should have the same length. The length of column argument `df[path_0]` is 39, whereas the length of  previously-processed arguments ['values'] is 1\n",
      "Exception on /_dash-update-component [POST]\n",
      "Traceback (most recent call last):\n",
      "  File \"C:\\Users\\beatr\\anaconda3\\lib\\site-packages\\flask\\app.py\", line 2447, in wsgi_app\n",
      "    response = self.full_dispatch_request()\n",
      "  File \"C:\\Users\\beatr\\anaconda3\\lib\\site-packages\\flask\\app.py\", line 1952, in full_dispatch_request\n",
      "    rv = self.handle_user_exception(e)\n",
      "  File \"C:\\Users\\beatr\\anaconda3\\lib\\site-packages\\flask\\app.py\", line 1821, in handle_user_exception\n",
      "    reraise(exc_type, exc_value, tb)\n",
      "  File \"C:\\Users\\beatr\\anaconda3\\lib\\site-packages\\flask\\_compat.py\", line 39, in reraise\n",
      "    raise value\n",
      "  File \"C:\\Users\\beatr\\anaconda3\\lib\\site-packages\\flask\\app.py\", line 1950, in full_dispatch_request\n",
      "    rv = self.dispatch_request()\n",
      "  File \"C:\\Users\\beatr\\anaconda3\\lib\\site-packages\\flask\\app.py\", line 1936, in dispatch_request\n",
      "    return self.view_functions[rule.endpoint](**req.view_args)\n",
      "  File \"C:\\Users\\beatr\\anaconda3\\lib\\site-packages\\dash\\dash.py\", line 1345, in dispatch\n",
      "    response.set_data(func(*args, outputs_list=outputs_list))\n",
      "  File \"C:\\Users\\beatr\\anaconda3\\lib\\site-packages\\dash\\_callback.py\", line 151, in add_context\n",
      "    output_value = func(*func_args, **func_kwargs)  # %% callback invoked %%\n",
      "  File \"<ipython-input-278-d2cfb6ae60dd>\", line 12, in update_treemap\n",
      "    fig = px.treemap(filtered_df, path=['Country or Area'],values=selected_var, color=selected_var, color_continuous_scale='brwnyl',\n",
      "  File \"C:\\Users\\beatr\\anaconda3\\lib\\site-packages\\plotly\\express\\_chart_types.py\", line 1473, in treemap\n",
      "    return make_figure(\n",
      "  File \"C:\\Users\\beatr\\anaconda3\\lib\\site-packages\\plotly\\express\\_core.py\", line 1879, in make_figure\n",
      "    args = build_dataframe(args, constructor)\n",
      "  File \"C:\\Users\\beatr\\anaconda3\\lib\\site-packages\\plotly\\express\\_core.py\", line 1399, in build_dataframe\n",
      "    df_output, wide_id_vars = process_args_into_dataframe(\n",
      "  File \"C:\\Users\\beatr\\anaconda3\\lib\\site-packages\\plotly\\express\\_core.py\", line 1207, in process_args_into_dataframe\n",
      "    raise ValueError(\n",
      "ValueError: All arguments should have the same length. The length of column argument `df[path_0]` is 39, whereas the length of  previously-processed arguments ['values'] is 1\n",
      "Exception on /_dash-update-component [POST]\n",
      "Traceback (most recent call last):\n",
      "  File \"C:\\Users\\beatr\\anaconda3\\lib\\site-packages\\flask\\app.py\", line 2447, in wsgi_app\n",
      "    response = self.full_dispatch_request()\n",
      "  File \"C:\\Users\\beatr\\anaconda3\\lib\\site-packages\\flask\\app.py\", line 1952, in full_dispatch_request\n",
      "    rv = self.handle_user_exception(e)\n",
      "  File \"C:\\Users\\beatr\\anaconda3\\lib\\site-packages\\flask\\app.py\", line 1821, in handle_user_exception\n",
      "    reraise(exc_type, exc_value, tb)\n",
      "  File \"C:\\Users\\beatr\\anaconda3\\lib\\site-packages\\flask\\_compat.py\", line 39, in reraise\n",
      "    raise value\n",
      "  File \"C:\\Users\\beatr\\anaconda3\\lib\\site-packages\\flask\\app.py\", line 1950, in full_dispatch_request\n",
      "    rv = self.dispatch_request()\n",
      "  File \"C:\\Users\\beatr\\anaconda3\\lib\\site-packages\\flask\\app.py\", line 1936, in dispatch_request\n",
      "    return self.view_functions[rule.endpoint](**req.view_args)\n",
      "  File \"C:\\Users\\beatr\\anaconda3\\lib\\site-packages\\dash\\dash.py\", line 1345, in dispatch\n",
      "    response.set_data(func(*args, outputs_list=outputs_list))\n",
      "  File \"C:\\Users\\beatr\\anaconda3\\lib\\site-packages\\dash\\_callback.py\", line 151, in add_context\n",
      "    output_value = func(*func_args, **func_kwargs)  # %% callback invoked %%\n",
      "  File \"<ipython-input-278-d2cfb6ae60dd>\", line 12, in update_treemap\n",
      "    fig = px.treemap(filtered_df, path=['Country or Area'],values=selected_var, color=selected_var, color_continuous_scale='brwnyl',\n",
      "  File \"C:\\Users\\beatr\\anaconda3\\lib\\site-packages\\plotly\\express\\_chart_types.py\", line 1473, in treemap\n",
      "    return make_figure(\n",
      "  File \"C:\\Users\\beatr\\anaconda3\\lib\\site-packages\\plotly\\express\\_core.py\", line 1879, in make_figure\n",
      "    args = build_dataframe(args, constructor)\n",
      "  File \"C:\\Users\\beatr\\anaconda3\\lib\\site-packages\\plotly\\express\\_core.py\", line 1399, in build_dataframe\n",
      "    df_output, wide_id_vars = process_args_into_dataframe(\n",
      "  File \"C:\\Users\\beatr\\anaconda3\\lib\\site-packages\\plotly\\express\\_core.py\", line 1207, in process_args_into_dataframe\n",
      "    raise ValueError(\n",
      "ValueError: All arguments should have the same length. The length of column argument `df[path_0]` is 39, whereas the length of  previously-processed arguments ['values'] is 1\n",
      "Exception on /_dash-update-component [POST]\n",
      "Traceback (most recent call last):\n",
      "  File \"C:\\Users\\beatr\\anaconda3\\lib\\site-packages\\flask\\app.py\", line 2447, in wsgi_app\n",
      "    response = self.full_dispatch_request()\n",
      "  File \"C:\\Users\\beatr\\anaconda3\\lib\\site-packages\\flask\\app.py\", line 1952, in full_dispatch_request\n",
      "    rv = self.handle_user_exception(e)\n",
      "  File \"C:\\Users\\beatr\\anaconda3\\lib\\site-packages\\flask\\app.py\", line 1821, in handle_user_exception\n",
      "    reraise(exc_type, exc_value, tb)\n",
      "  File \"C:\\Users\\beatr\\anaconda3\\lib\\site-packages\\flask\\_compat.py\", line 39, in reraise\n",
      "    raise value\n",
      "  File \"C:\\Users\\beatr\\anaconda3\\lib\\site-packages\\flask\\app.py\", line 1950, in full_dispatch_request\n",
      "    rv = self.dispatch_request()\n",
      "  File \"C:\\Users\\beatr\\anaconda3\\lib\\site-packages\\flask\\app.py\", line 1936, in dispatch_request\n",
      "    return self.view_functions[rule.endpoint](**req.view_args)\n",
      "  File \"C:\\Users\\beatr\\anaconda3\\lib\\site-packages\\dash\\dash.py\", line 1345, in dispatch\n",
      "    response.set_data(func(*args, outputs_list=outputs_list))\n",
      "  File \"C:\\Users\\beatr\\anaconda3\\lib\\site-packages\\dash\\_callback.py\", line 151, in add_context\n",
      "    output_value = func(*func_args, **func_kwargs)  # %% callback invoked %%\n",
      "  File \"<ipython-input-278-d2cfb6ae60dd>\", line 12, in update_treemap\n",
      "    fig = px.treemap(filtered_df, path=['Country or Area'],values=selected_var, color=selected_var, color_continuous_scale='brwnyl',\n",
      "  File \"C:\\Users\\beatr\\anaconda3\\lib\\site-packages\\plotly\\express\\_chart_types.py\", line 1473, in treemap\n",
      "    return make_figure(\n",
      "  File \"C:\\Users\\beatr\\anaconda3\\lib\\site-packages\\plotly\\express\\_core.py\", line 1879, in make_figure\n",
      "    args = build_dataframe(args, constructor)\n",
      "  File \"C:\\Users\\beatr\\anaconda3\\lib\\site-packages\\plotly\\express\\_core.py\", line 1399, in build_dataframe\n",
      "    df_output, wide_id_vars = process_args_into_dataframe(\n",
      "  File \"C:\\Users\\beatr\\anaconda3\\lib\\site-packages\\plotly\\express\\_core.py\", line 1207, in process_args_into_dataframe\n",
      "    raise ValueError(\n",
      "ValueError: All arguments should have the same length. The length of column argument `df[path_0]` is 39, whereas the length of  previously-processed arguments ['values'] is 1\n",
      "Exception on /_dash-update-component [POST]\n",
      "Traceback (most recent call last):\n",
      "  File \"C:\\Users\\beatr\\anaconda3\\lib\\site-packages\\flask\\app.py\", line 2447, in wsgi_app\n",
      "    response = self.full_dispatch_request()\n",
      "  File \"C:\\Users\\beatr\\anaconda3\\lib\\site-packages\\flask\\app.py\", line 1952, in full_dispatch_request\n",
      "    rv = self.handle_user_exception(e)\n",
      "  File \"C:\\Users\\beatr\\anaconda3\\lib\\site-packages\\flask\\app.py\", line 1821, in handle_user_exception\n",
      "    reraise(exc_type, exc_value, tb)\n",
      "  File \"C:\\Users\\beatr\\anaconda3\\lib\\site-packages\\flask\\_compat.py\", line 39, in reraise\n",
      "    raise value\n",
      "  File \"C:\\Users\\beatr\\anaconda3\\lib\\site-packages\\flask\\app.py\", line 1950, in full_dispatch_request\n",
      "    rv = self.dispatch_request()\n",
      "  File \"C:\\Users\\beatr\\anaconda3\\lib\\site-packages\\flask\\app.py\", line 1936, in dispatch_request\n",
      "    return self.view_functions[rule.endpoint](**req.view_args)\n",
      "  File \"C:\\Users\\beatr\\anaconda3\\lib\\site-packages\\dash\\dash.py\", line 1345, in dispatch\n",
      "    response.set_data(func(*args, outputs_list=outputs_list))\n",
      "  File \"C:\\Users\\beatr\\anaconda3\\lib\\site-packages\\dash\\_callback.py\", line 151, in add_context\n",
      "    output_value = func(*func_args, **func_kwargs)  # %% callback invoked %%\n",
      "  File \"<ipython-input-278-d2cfb6ae60dd>\", line 12, in update_treemap\n",
      "    fig = px.treemap(filtered_df, path=['Country or Area'],values=selected_var, color=selected_var, color_continuous_scale='brwnyl',\n",
      "  File \"C:\\Users\\beatr\\anaconda3\\lib\\site-packages\\plotly\\express\\_chart_types.py\", line 1473, in treemap\n",
      "    return make_figure(\n",
      "  File \"C:\\Users\\beatr\\anaconda3\\lib\\site-packages\\plotly\\express\\_core.py\", line 1879, in make_figure\n",
      "    args = build_dataframe(args, constructor)\n",
      "  File \"C:\\Users\\beatr\\anaconda3\\lib\\site-packages\\plotly\\express\\_core.py\", line 1399, in build_dataframe\n",
      "    df_output, wide_id_vars = process_args_into_dataframe(\n",
      "  File \"C:\\Users\\beatr\\anaconda3\\lib\\site-packages\\plotly\\express\\_core.py\", line 1207, in process_args_into_dataframe\n",
      "    raise ValueError(\n",
      "ValueError: All arguments should have the same length. The length of column argument `df[path_0]` is 39, whereas the length of  previously-processed arguments ['values'] is 1\n",
      "Exception on /_dash-update-component [POST]\n",
      "Traceback (most recent call last):\n",
      "  File \"C:\\Users\\beatr\\anaconda3\\lib\\site-packages\\flask\\app.py\", line 2447, in wsgi_app\n",
      "    response = self.full_dispatch_request()\n",
      "  File \"C:\\Users\\beatr\\anaconda3\\lib\\site-packages\\flask\\app.py\", line 1952, in full_dispatch_request\n",
      "    rv = self.handle_user_exception(e)\n",
      "  File \"C:\\Users\\beatr\\anaconda3\\lib\\site-packages\\flask\\app.py\", line 1821, in handle_user_exception\n",
      "    reraise(exc_type, exc_value, tb)\n",
      "  File \"C:\\Users\\beatr\\anaconda3\\lib\\site-packages\\flask\\_compat.py\", line 39, in reraise\n",
      "    raise value\n",
      "  File \"C:\\Users\\beatr\\anaconda3\\lib\\site-packages\\flask\\app.py\", line 1950, in full_dispatch_request\n",
      "    rv = self.dispatch_request()\n",
      "  File \"C:\\Users\\beatr\\anaconda3\\lib\\site-packages\\flask\\app.py\", line 1936, in dispatch_request\n",
      "    return self.view_functions[rule.endpoint](**req.view_args)\n",
      "  File \"C:\\Users\\beatr\\anaconda3\\lib\\site-packages\\dash\\dash.py\", line 1345, in dispatch\n",
      "    response.set_data(func(*args, outputs_list=outputs_list))\n",
      "  File \"C:\\Users\\beatr\\anaconda3\\lib\\site-packages\\dash\\_callback.py\", line 151, in add_context\n",
      "    output_value = func(*func_args, **func_kwargs)  # %% callback invoked %%\n",
      "  File \"<ipython-input-278-d2cfb6ae60dd>\", line 12, in update_treemap\n",
      "    fig = px.treemap(filtered_df, path=['Country or Area'],values=selected_var, color=selected_var, color_continuous_scale='brwnyl',\n",
      "  File \"C:\\Users\\beatr\\anaconda3\\lib\\site-packages\\plotly\\express\\_chart_types.py\", line 1473, in treemap\n",
      "    return make_figure(\n",
      "  File \"C:\\Users\\beatr\\anaconda3\\lib\\site-packages\\plotly\\express\\_core.py\", line 1879, in make_figure\n",
      "    args = build_dataframe(args, constructor)\n",
      "  File \"C:\\Users\\beatr\\anaconda3\\lib\\site-packages\\plotly\\express\\_core.py\", line 1399, in build_dataframe\n",
      "    df_output, wide_id_vars = process_args_into_dataframe(\n",
      "  File \"C:\\Users\\beatr\\anaconda3\\lib\\site-packages\\plotly\\express\\_core.py\", line 1207, in process_args_into_dataframe\n",
      "    raise ValueError(\n",
      "ValueError: All arguments should have the same length. The length of column argument `df[path_0]` is 39, whereas the length of  previously-processed arguments ['values'] is 1\n",
      "Exception on /_dash-update-component [POST]\n",
      "Traceback (most recent call last):\n",
      "  File \"C:\\Users\\beatr\\anaconda3\\lib\\site-packages\\flask\\app.py\", line 2447, in wsgi_app\n",
      "    response = self.full_dispatch_request()\n",
      "  File \"C:\\Users\\beatr\\anaconda3\\lib\\site-packages\\flask\\app.py\", line 1952, in full_dispatch_request\n",
      "    rv = self.handle_user_exception(e)\n",
      "  File \"C:\\Users\\beatr\\anaconda3\\lib\\site-packages\\flask\\app.py\", line 1821, in handle_user_exception\n",
      "    reraise(exc_type, exc_value, tb)\n",
      "  File \"C:\\Users\\beatr\\anaconda3\\lib\\site-packages\\flask\\_compat.py\", line 39, in reraise\n",
      "    raise value\n",
      "  File \"C:\\Users\\beatr\\anaconda3\\lib\\site-packages\\flask\\app.py\", line 1950, in full_dispatch_request\n",
      "    rv = self.dispatch_request()\n",
      "  File \"C:\\Users\\beatr\\anaconda3\\lib\\site-packages\\flask\\app.py\", line 1936, in dispatch_request\n",
      "    return self.view_functions[rule.endpoint](**req.view_args)\n",
      "  File \"C:\\Users\\beatr\\anaconda3\\lib\\site-packages\\dash\\dash.py\", line 1345, in dispatch\n",
      "    response.set_data(func(*args, outputs_list=outputs_list))\n",
      "  File \"C:\\Users\\beatr\\anaconda3\\lib\\site-packages\\dash\\_callback.py\", line 151, in add_context\n",
      "    output_value = func(*func_args, **func_kwargs)  # %% callback invoked %%\n",
      "  File \"<ipython-input-278-d2cfb6ae60dd>\", line 12, in update_treemap\n",
      "    fig = px.treemap(filtered_df, path=['Country or Area'],values=selected_var, color=selected_var, color_continuous_scale='brwnyl',\n",
      "  File \"C:\\Users\\beatr\\anaconda3\\lib\\site-packages\\plotly\\express\\_chart_types.py\", line 1473, in treemap\n",
      "    return make_figure(\n",
      "  File \"C:\\Users\\beatr\\anaconda3\\lib\\site-packages\\plotly\\express\\_core.py\", line 1879, in make_figure\n",
      "    args = build_dataframe(args, constructor)\n",
      "  File \"C:\\Users\\beatr\\anaconda3\\lib\\site-packages\\plotly\\express\\_core.py\", line 1399, in build_dataframe\n",
      "    df_output, wide_id_vars = process_args_into_dataframe(\n",
      "  File \"C:\\Users\\beatr\\anaconda3\\lib\\site-packages\\plotly\\express\\_core.py\", line 1207, in process_args_into_dataframe\n",
      "    raise ValueError(\n",
      "ValueError: All arguments should have the same length. The length of column argument `df[path_0]` is 39, whereas the length of  previously-processed arguments ['values'] is 1\n",
      "Exception on /_dash-update-component [POST]\n",
      "Traceback (most recent call last):\n",
      "  File \"C:\\Users\\beatr\\anaconda3\\lib\\site-packages\\flask\\app.py\", line 2447, in wsgi_app\n",
      "    response = self.full_dispatch_request()\n",
      "  File \"C:\\Users\\beatr\\anaconda3\\lib\\site-packages\\flask\\app.py\", line 1952, in full_dispatch_request\n",
      "    rv = self.handle_user_exception(e)\n",
      "  File \"C:\\Users\\beatr\\anaconda3\\lib\\site-packages\\flask\\app.py\", line 1821, in handle_user_exception\n",
      "    reraise(exc_type, exc_value, tb)\n",
      "  File \"C:\\Users\\beatr\\anaconda3\\lib\\site-packages\\flask\\_compat.py\", line 39, in reraise\n",
      "    raise value\n",
      "  File \"C:\\Users\\beatr\\anaconda3\\lib\\site-packages\\flask\\app.py\", line 1950, in full_dispatch_request\n",
      "    rv = self.dispatch_request()\n",
      "  File \"C:\\Users\\beatr\\anaconda3\\lib\\site-packages\\flask\\app.py\", line 1936, in dispatch_request\n",
      "    return self.view_functions[rule.endpoint](**req.view_args)\n",
      "  File \"C:\\Users\\beatr\\anaconda3\\lib\\site-packages\\dash\\dash.py\", line 1345, in dispatch\n",
      "    response.set_data(func(*args, outputs_list=outputs_list))\n",
      "  File \"C:\\Users\\beatr\\anaconda3\\lib\\site-packages\\dash\\_callback.py\", line 151, in add_context\n",
      "    output_value = func(*func_args, **func_kwargs)  # %% callback invoked %%\n",
      "  File \"<ipython-input-278-d2cfb6ae60dd>\", line 12, in update_treemap\n",
      "    fig = px.treemap(filtered_df, path=['Country or Area'],values=selected_var, color=selected_var, color_continuous_scale='brwnyl',\n",
      "  File \"C:\\Users\\beatr\\anaconda3\\lib\\site-packages\\plotly\\express\\_chart_types.py\", line 1473, in treemap\n",
      "    return make_figure(\n",
      "  File \"C:\\Users\\beatr\\anaconda3\\lib\\site-packages\\plotly\\express\\_core.py\", line 1879, in make_figure\n",
      "    args = build_dataframe(args, constructor)\n",
      "  File \"C:\\Users\\beatr\\anaconda3\\lib\\site-packages\\plotly\\express\\_core.py\", line 1399, in build_dataframe\n",
      "    df_output, wide_id_vars = process_args_into_dataframe(\n",
      "  File \"C:\\Users\\beatr\\anaconda3\\lib\\site-packages\\plotly\\express\\_core.py\", line 1207, in process_args_into_dataframe\n",
      "    raise ValueError(\n",
      "ValueError: All arguments should have the same length. The length of column argument `df[path_0]` is 39, whereas the length of  previously-processed arguments ['values'] is 1\n",
      "Exception on /_dash-update-component [POST]\n",
      "Traceback (most recent call last):\n",
      "  File \"C:\\Users\\beatr\\anaconda3\\lib\\site-packages\\flask\\app.py\", line 2447, in wsgi_app\n",
      "    response = self.full_dispatch_request()\n",
      "  File \"C:\\Users\\beatr\\anaconda3\\lib\\site-packages\\flask\\app.py\", line 1952, in full_dispatch_request\n",
      "    rv = self.handle_user_exception(e)\n",
      "  File \"C:\\Users\\beatr\\anaconda3\\lib\\site-packages\\flask\\app.py\", line 1821, in handle_user_exception\n",
      "    reraise(exc_type, exc_value, tb)\n",
      "  File \"C:\\Users\\beatr\\anaconda3\\lib\\site-packages\\flask\\_compat.py\", line 39, in reraise\n",
      "    raise value\n",
      "  File \"C:\\Users\\beatr\\anaconda3\\lib\\site-packages\\flask\\app.py\", line 1950, in full_dispatch_request\n",
      "    rv = self.dispatch_request()\n",
      "  File \"C:\\Users\\beatr\\anaconda3\\lib\\site-packages\\flask\\app.py\", line 1936, in dispatch_request\n",
      "    return self.view_functions[rule.endpoint](**req.view_args)\n",
      "  File \"C:\\Users\\beatr\\anaconda3\\lib\\site-packages\\dash\\dash.py\", line 1345, in dispatch\n",
      "    response.set_data(func(*args, outputs_list=outputs_list))\n",
      "  File \"C:\\Users\\beatr\\anaconda3\\lib\\site-packages\\dash\\_callback.py\", line 151, in add_context\n",
      "    output_value = func(*func_args, **func_kwargs)  # %% callback invoked %%\n",
      "  File \"<ipython-input-278-d2cfb6ae60dd>\", line 12, in update_treemap\n",
      "    fig = px.treemap(filtered_df, path=['Country or Area'],values=selected_var, color=selected_var, color_continuous_scale='brwnyl',\n",
      "  File \"C:\\Users\\beatr\\anaconda3\\lib\\site-packages\\plotly\\express\\_chart_types.py\", line 1473, in treemap\n",
      "    return make_figure(\n",
      "  File \"C:\\Users\\beatr\\anaconda3\\lib\\site-packages\\plotly\\express\\_core.py\", line 1879, in make_figure\n",
      "    args = build_dataframe(args, constructor)\n",
      "  File \"C:\\Users\\beatr\\anaconda3\\lib\\site-packages\\plotly\\express\\_core.py\", line 1399, in build_dataframe\n",
      "    df_output, wide_id_vars = process_args_into_dataframe(\n",
      "  File \"C:\\Users\\beatr\\anaconda3\\lib\\site-packages\\plotly\\express\\_core.py\", line 1207, in process_args_into_dataframe\n",
      "    raise ValueError(\n",
      "ValueError: All arguments should have the same length. The length of column argument `df[path_0]` is 39, whereas the length of  previously-processed arguments ['values'] is 1\n",
      "Exception on /_dash-update-component [POST]\n",
      "Traceback (most recent call last):\n",
      "  File \"C:\\Users\\beatr\\anaconda3\\lib\\site-packages\\flask\\app.py\", line 2447, in wsgi_app\n",
      "    response = self.full_dispatch_request()\n",
      "  File \"C:\\Users\\beatr\\anaconda3\\lib\\site-packages\\flask\\app.py\", line 1952, in full_dispatch_request\n",
      "    rv = self.handle_user_exception(e)\n",
      "  File \"C:\\Users\\beatr\\anaconda3\\lib\\site-packages\\flask\\app.py\", line 1821, in handle_user_exception\n",
      "    reraise(exc_type, exc_value, tb)\n",
      "  File \"C:\\Users\\beatr\\anaconda3\\lib\\site-packages\\flask\\_compat.py\", line 39, in reraise\n",
      "    raise value\n",
      "  File \"C:\\Users\\beatr\\anaconda3\\lib\\site-packages\\flask\\app.py\", line 1950, in full_dispatch_request\n",
      "    rv = self.dispatch_request()\n",
      "  File \"C:\\Users\\beatr\\anaconda3\\lib\\site-packages\\flask\\app.py\", line 1936, in dispatch_request\n",
      "    return self.view_functions[rule.endpoint](**req.view_args)\n",
      "  File \"C:\\Users\\beatr\\anaconda3\\lib\\site-packages\\dash\\dash.py\", line 1345, in dispatch\n",
      "    response.set_data(func(*args, outputs_list=outputs_list))\n",
      "  File \"C:\\Users\\beatr\\anaconda3\\lib\\site-packages\\dash\\_callback.py\", line 151, in add_context\n",
      "    output_value = func(*func_args, **func_kwargs)  # %% callback invoked %%\n",
      "  File \"<ipython-input-278-d2cfb6ae60dd>\", line 12, in update_treemap\n",
      "    fig = px.treemap(filtered_df, path=['Country or Area'],values=selected_var, color=selected_var, color_continuous_scale='brwnyl',\n",
      "  File \"C:\\Users\\beatr\\anaconda3\\lib\\site-packages\\plotly\\express\\_chart_types.py\", line 1473, in treemap\n",
      "    return make_figure(\n",
      "  File \"C:\\Users\\beatr\\anaconda3\\lib\\site-packages\\plotly\\express\\_core.py\", line 1879, in make_figure\n",
      "    args = build_dataframe(args, constructor)\n",
      "  File \"C:\\Users\\beatr\\anaconda3\\lib\\site-packages\\plotly\\express\\_core.py\", line 1399, in build_dataframe\n",
      "    df_output, wide_id_vars = process_args_into_dataframe(\n",
      "  File \"C:\\Users\\beatr\\anaconda3\\lib\\site-packages\\plotly\\express\\_core.py\", line 1207, in process_args_into_dataframe\n",
      "    raise ValueError(\n",
      "ValueError: All arguments should have the same length. The length of column argument `df[path_0]` is 39, whereas the length of  previously-processed arguments ['values'] is 1\n",
      "Exception on /_dash-update-component [POST]\n",
      "Traceback (most recent call last):\n",
      "  File \"C:\\Users\\beatr\\anaconda3\\lib\\site-packages\\flask\\app.py\", line 2447, in wsgi_app\n",
      "    response = self.full_dispatch_request()\n",
      "  File \"C:\\Users\\beatr\\anaconda3\\lib\\site-packages\\flask\\app.py\", line 1952, in full_dispatch_request\n",
      "    rv = self.handle_user_exception(e)\n",
      "  File \"C:\\Users\\beatr\\anaconda3\\lib\\site-packages\\flask\\app.py\", line 1821, in handle_user_exception\n",
      "    reraise(exc_type, exc_value, tb)\n",
      "  File \"C:\\Users\\beatr\\anaconda3\\lib\\site-packages\\flask\\_compat.py\", line 39, in reraise\n",
      "    raise value\n",
      "  File \"C:\\Users\\beatr\\anaconda3\\lib\\site-packages\\flask\\app.py\", line 1950, in full_dispatch_request\n",
      "    rv = self.dispatch_request()\n",
      "  File \"C:\\Users\\beatr\\anaconda3\\lib\\site-packages\\flask\\app.py\", line 1936, in dispatch_request\n",
      "    return self.view_functions[rule.endpoint](**req.view_args)\n",
      "  File \"C:\\Users\\beatr\\anaconda3\\lib\\site-packages\\dash\\dash.py\", line 1345, in dispatch\n",
      "    response.set_data(func(*args, outputs_list=outputs_list))\n",
      "  File \"C:\\Users\\beatr\\anaconda3\\lib\\site-packages\\dash\\_callback.py\", line 151, in add_context\n",
      "    output_value = func(*func_args, **func_kwargs)  # %% callback invoked %%\n",
      "  File \"<ipython-input-278-d2cfb6ae60dd>\", line 12, in update_treemap\n",
      "    fig = px.treemap(filtered_df, path=['Country or Area'],values=selected_var, color=selected_var, color_continuous_scale='brwnyl',\n",
      "  File \"C:\\Users\\beatr\\anaconda3\\lib\\site-packages\\plotly\\express\\_chart_types.py\", line 1473, in treemap\n",
      "    return make_figure(\n",
      "  File \"C:\\Users\\beatr\\anaconda3\\lib\\site-packages\\plotly\\express\\_core.py\", line 1879, in make_figure\n",
      "    args = build_dataframe(args, constructor)\n",
      "  File \"C:\\Users\\beatr\\anaconda3\\lib\\site-packages\\plotly\\express\\_core.py\", line 1399, in build_dataframe\n",
      "    df_output, wide_id_vars = process_args_into_dataframe(\n",
      "  File \"C:\\Users\\beatr\\anaconda3\\lib\\site-packages\\plotly\\express\\_core.py\", line 1207, in process_args_into_dataframe\n",
      "    raise ValueError(\n",
      "ValueError: All arguments should have the same length. The length of column argument `df[path_0]` is 39, whereas the length of  previously-processed arguments ['values'] is 1\n"
     ]
    },
    {
     "name": "stderr",
     "output_type": "stream",
     "text": [
      "127.0.0.1 - - [04/Apr/2022 21:50:02] \"\u001b[35m\u001b[1mPOST /_dash-update-component HTTP/1.1\u001b[0m\" 500 -\n"
     ]
    },
    {
     "name": "stdout",
     "output_type": "stream",
     "text": [
      "Exception on /_dash-update-component [POST]\n",
      "Traceback (most recent call last):\n",
      "  File \"C:\\Users\\beatr\\anaconda3\\lib\\site-packages\\flask\\app.py\", line 2447, in wsgi_app\n",
      "    response = self.full_dispatch_request()\n",
      "  File \"C:\\Users\\beatr\\anaconda3\\lib\\site-packages\\flask\\app.py\", line 1952, in full_dispatch_request\n",
      "    rv = self.handle_user_exception(e)\n",
      "  File \"C:\\Users\\beatr\\anaconda3\\lib\\site-packages\\flask\\app.py\", line 1821, in handle_user_exception\n",
      "    reraise(exc_type, exc_value, tb)\n",
      "  File \"C:\\Users\\beatr\\anaconda3\\lib\\site-packages\\flask\\_compat.py\", line 39, in reraise\n",
      "    raise value\n",
      "  File \"C:\\Users\\beatr\\anaconda3\\lib\\site-packages\\flask\\app.py\", line 1950, in full_dispatch_request\n",
      "    rv = self.dispatch_request()\n",
      "  File \"C:\\Users\\beatr\\anaconda3\\lib\\site-packages\\flask\\app.py\", line 1936, in dispatch_request\n",
      "    return self.view_functions[rule.endpoint](**req.view_args)\n",
      "  File \"C:\\Users\\beatr\\anaconda3\\lib\\site-packages\\dash\\dash.py\", line 1345, in dispatch\n",
      "    response.set_data(func(*args, outputs_list=outputs_list))\n",
      "  File \"C:\\Users\\beatr\\anaconda3\\lib\\site-packages\\dash\\_callback.py\", line 151, in add_context\n",
      "    output_value = func(*func_args, **func_kwargs)  # %% callback invoked %%\n",
      "  File \"<ipython-input-278-d2cfb6ae60dd>\", line 12, in update_treemap\n",
      "    fig = px.treemap(filtered_df, path=['Country or Area'],values=selected_var, color=selected_var, color_continuous_scale='brwnyl',\n",
      "  File \"C:\\Users\\beatr\\anaconda3\\lib\\site-packages\\plotly\\express\\_chart_types.py\", line 1473, in treemap\n",
      "    return make_figure(\n",
      "  File \"C:\\Users\\beatr\\anaconda3\\lib\\site-packages\\plotly\\express\\_core.py\", line 1879, in make_figure\n",
      "    args = build_dataframe(args, constructor)\n",
      "  File \"C:\\Users\\beatr\\anaconda3\\lib\\site-packages\\plotly\\express\\_core.py\", line 1399, in build_dataframe\n",
      "    df_output, wide_id_vars = process_args_into_dataframe(\n",
      "  File \"C:\\Users\\beatr\\anaconda3\\lib\\site-packages\\plotly\\express\\_core.py\", line 1207, in process_args_into_dataframe\n",
      "    raise ValueError(\n",
      "ValueError: All arguments should have the same length. The length of column argument `df[path_0]` is 22, whereas the length of  previously-processed arguments ['values'] is 1\n",
      "Exception on /_dash-update-component [POST]\n",
      "Traceback (most recent call last):\n",
      "  File \"C:\\Users\\beatr\\anaconda3\\lib\\site-packages\\flask\\app.py\", line 2447, in wsgi_app\n",
      "    response = self.full_dispatch_request()\n",
      "  File \"C:\\Users\\beatr\\anaconda3\\lib\\site-packages\\flask\\app.py\", line 1952, in full_dispatch_request\n",
      "    rv = self.handle_user_exception(e)\n",
      "  File \"C:\\Users\\beatr\\anaconda3\\lib\\site-packages\\flask\\app.py\", line 1821, in handle_user_exception\n",
      "    reraise(exc_type, exc_value, tb)\n",
      "  File \"C:\\Users\\beatr\\anaconda3\\lib\\site-packages\\flask\\_compat.py\", line 39, in reraise\n",
      "    raise value\n",
      "  File \"C:\\Users\\beatr\\anaconda3\\lib\\site-packages\\flask\\app.py\", line 1950, in full_dispatch_request\n",
      "    rv = self.dispatch_request()\n",
      "  File \"C:\\Users\\beatr\\anaconda3\\lib\\site-packages\\flask\\app.py\", line 1936, in dispatch_request\n",
      "    return self.view_functions[rule.endpoint](**req.view_args)\n",
      "  File \"C:\\Users\\beatr\\anaconda3\\lib\\site-packages\\dash\\dash.py\", line 1345, in dispatch\n",
      "    response.set_data(func(*args, outputs_list=outputs_list))\n",
      "  File \"C:\\Users\\beatr\\anaconda3\\lib\\site-packages\\dash\\_callback.py\", line 151, in add_context\n",
      "    output_value = func(*func_args, **func_kwargs)  # %% callback invoked %%\n",
      "  File \"<ipython-input-278-d2cfb6ae60dd>\", line 12, in update_treemap\n",
      "    fig = px.treemap(filtered_df, path=['Country or Area'],values=selected_var, color=selected_var, color_continuous_scale='brwnyl',\n",
      "  File \"C:\\Users\\beatr\\anaconda3\\lib\\site-packages\\plotly\\express\\_chart_types.py\", line 1473, in treemap\n",
      "    return make_figure(\n",
      "  File \"C:\\Users\\beatr\\anaconda3\\lib\\site-packages\\plotly\\express\\_core.py\", line 1879, in make_figure\n",
      "    args = build_dataframe(args, constructor)\n",
      "  File \"C:\\Users\\beatr\\anaconda3\\lib\\site-packages\\plotly\\express\\_core.py\", line 1399, in build_dataframe\n",
      "    df_output, wide_id_vars = process_args_into_dataframe(\n",
      "  File \"C:\\Users\\beatr\\anaconda3\\lib\\site-packages\\plotly\\express\\_core.py\", line 1207, in process_args_into_dataframe\n",
      "    raise ValueError(\n",
      "ValueError: All arguments should have the same length. The length of column argument `df[path_0]` is 22, whereas the length of  previously-processed arguments ['values'] is 1\n",
      "Exception on /_dash-update-component [POST]\n",
      "Traceback (most recent call last):\n",
      "  File \"C:\\Users\\beatr\\anaconda3\\lib\\site-packages\\flask\\app.py\", line 2447, in wsgi_app\n",
      "    response = self.full_dispatch_request()\n",
      "  File \"C:\\Users\\beatr\\anaconda3\\lib\\site-packages\\flask\\app.py\", line 1952, in full_dispatch_request\n",
      "    rv = self.handle_user_exception(e)\n",
      "  File \"C:\\Users\\beatr\\anaconda3\\lib\\site-packages\\flask\\app.py\", line 1821, in handle_user_exception\n",
      "    reraise(exc_type, exc_value, tb)\n",
      "  File \"C:\\Users\\beatr\\anaconda3\\lib\\site-packages\\flask\\_compat.py\", line 39, in reraise\n",
      "    raise value\n",
      "  File \"C:\\Users\\beatr\\anaconda3\\lib\\site-packages\\flask\\app.py\", line 1950, in full_dispatch_request\n",
      "    rv = self.dispatch_request()\n",
      "  File \"C:\\Users\\beatr\\anaconda3\\lib\\site-packages\\flask\\app.py\", line 1936, in dispatch_request\n",
      "    return self.view_functions[rule.endpoint](**req.view_args)\n",
      "  File \"C:\\Users\\beatr\\anaconda3\\lib\\site-packages\\dash\\dash.py\", line 1345, in dispatch\n",
      "    response.set_data(func(*args, outputs_list=outputs_list))\n",
      "  File \"C:\\Users\\beatr\\anaconda3\\lib\\site-packages\\dash\\_callback.py\", line 151, in add_context\n",
      "    output_value = func(*func_args, **func_kwargs)  # %% callback invoked %%\n",
      "  File \"<ipython-input-278-d2cfb6ae60dd>\", line 12, in update_treemap\n",
      "    fig = px.treemap(filtered_df, path=['Country or Area'],values=selected_var, color=selected_var, color_continuous_scale='brwnyl',\n",
      "  File \"C:\\Users\\beatr\\anaconda3\\lib\\site-packages\\plotly\\express\\_chart_types.py\", line 1473, in treemap\n",
      "    return make_figure(\n",
      "  File \"C:\\Users\\beatr\\anaconda3\\lib\\site-packages\\plotly\\express\\_core.py\", line 1879, in make_figure\n",
      "    args = build_dataframe(args, constructor)\n",
      "  File \"C:\\Users\\beatr\\anaconda3\\lib\\site-packages\\plotly\\express\\_core.py\", line 1399, in build_dataframe\n",
      "    df_output, wide_id_vars = process_args_into_dataframe(\n",
      "  File \"C:\\Users\\beatr\\anaconda3\\lib\\site-packages\\plotly\\express\\_core.py\", line 1207, in process_args_into_dataframe\n",
      "    raise ValueError(\n",
      "ValueError: All arguments should have the same length. The length of column argument `df[path_0]` is 22, whereas the length of  previously-processed arguments ['values'] is 1\n",
      "Exception on /_dash-update-component [POST]\n",
      "Traceback (most recent call last):\n",
      "  File \"C:\\Users\\beatr\\anaconda3\\lib\\site-packages\\flask\\app.py\", line 2447, in wsgi_app\n",
      "    response = self.full_dispatch_request()\n",
      "  File \"C:\\Users\\beatr\\anaconda3\\lib\\site-packages\\flask\\app.py\", line 1952, in full_dispatch_request\n",
      "    rv = self.handle_user_exception(e)\n",
      "  File \"C:\\Users\\beatr\\anaconda3\\lib\\site-packages\\flask\\app.py\", line 1821, in handle_user_exception\n",
      "    reraise(exc_type, exc_value, tb)\n",
      "  File \"C:\\Users\\beatr\\anaconda3\\lib\\site-packages\\flask\\_compat.py\", line 39, in reraise\n",
      "    raise value\n",
      "  File \"C:\\Users\\beatr\\anaconda3\\lib\\site-packages\\flask\\app.py\", line 1950, in full_dispatch_request\n",
      "    rv = self.dispatch_request()\n",
      "  File \"C:\\Users\\beatr\\anaconda3\\lib\\site-packages\\flask\\app.py\", line 1936, in dispatch_request\n",
      "    return self.view_functions[rule.endpoint](**req.view_args)\n",
      "  File \"C:\\Users\\beatr\\anaconda3\\lib\\site-packages\\dash\\dash.py\", line 1345, in dispatch\n",
      "    response.set_data(func(*args, outputs_list=outputs_list))\n",
      "  File \"C:\\Users\\beatr\\anaconda3\\lib\\site-packages\\dash\\_callback.py\", line 151, in add_context\n",
      "    output_value = func(*func_args, **func_kwargs)  # %% callback invoked %%\n",
      "  File \"<ipython-input-278-d2cfb6ae60dd>\", line 12, in update_treemap\n",
      "    fig = px.treemap(filtered_df, path=['Country or Area'],values=selected_var, color=selected_var, color_continuous_scale='brwnyl',\n",
      "  File \"C:\\Users\\beatr\\anaconda3\\lib\\site-packages\\plotly\\express\\_chart_types.py\", line 1473, in treemap\n",
      "    return make_figure(\n",
      "  File \"C:\\Users\\beatr\\anaconda3\\lib\\site-packages\\plotly\\express\\_core.py\", line 1879, in make_figure\n",
      "    args = build_dataframe(args, constructor)\n",
      "  File \"C:\\Users\\beatr\\anaconda3\\lib\\site-packages\\plotly\\express\\_core.py\", line 1399, in build_dataframe\n",
      "    df_output, wide_id_vars = process_args_into_dataframe(\n",
      "  File \"C:\\Users\\beatr\\anaconda3\\lib\\site-packages\\plotly\\express\\_core.py\", line 1207, in process_args_into_dataframe\n",
      "    raise ValueError(\n",
      "ValueError: All arguments should have the same length. The length of column argument `df[path_0]` is 22, whereas the length of  previously-processed arguments ['values'] is 1\n",
      "Exception on /_dash-update-component [POST]\n",
      "Traceback (most recent call last):\n",
      "  File \"C:\\Users\\beatr\\anaconda3\\lib\\site-packages\\flask\\app.py\", line 2447, in wsgi_app\n",
      "    response = self.full_dispatch_request()\n",
      "  File \"C:\\Users\\beatr\\anaconda3\\lib\\site-packages\\flask\\app.py\", line 1952, in full_dispatch_request\n",
      "    rv = self.handle_user_exception(e)\n",
      "  File \"C:\\Users\\beatr\\anaconda3\\lib\\site-packages\\flask\\app.py\", line 1821, in handle_user_exception\n",
      "    reraise(exc_type, exc_value, tb)\n",
      "  File \"C:\\Users\\beatr\\anaconda3\\lib\\site-packages\\flask\\_compat.py\", line 39, in reraise\n",
      "    raise value\n",
      "  File \"C:\\Users\\beatr\\anaconda3\\lib\\site-packages\\flask\\app.py\", line 1950, in full_dispatch_request\n",
      "    rv = self.dispatch_request()\n",
      "  File \"C:\\Users\\beatr\\anaconda3\\lib\\site-packages\\flask\\app.py\", line 1936, in dispatch_request\n",
      "    return self.view_functions[rule.endpoint](**req.view_args)\n",
      "  File \"C:\\Users\\beatr\\anaconda3\\lib\\site-packages\\dash\\dash.py\", line 1345, in dispatch\n",
      "    response.set_data(func(*args, outputs_list=outputs_list))\n",
      "  File \"C:\\Users\\beatr\\anaconda3\\lib\\site-packages\\dash\\_callback.py\", line 151, in add_context\n",
      "    output_value = func(*func_args, **func_kwargs)  # %% callback invoked %%\n",
      "  File \"<ipython-input-278-d2cfb6ae60dd>\", line 12, in update_treemap\n",
      "    fig = px.treemap(filtered_df, path=['Country or Area'],values=selected_var, color=selected_var, color_continuous_scale='brwnyl',\n",
      "  File \"C:\\Users\\beatr\\anaconda3\\lib\\site-packages\\plotly\\express\\_chart_types.py\", line 1473, in treemap\n",
      "    return make_figure(\n",
      "  File \"C:\\Users\\beatr\\anaconda3\\lib\\site-packages\\plotly\\express\\_core.py\", line 1879, in make_figure\n",
      "    args = build_dataframe(args, constructor)\n",
      "  File \"C:\\Users\\beatr\\anaconda3\\lib\\site-packages\\plotly\\express\\_core.py\", line 1399, in build_dataframe\n",
      "    df_output, wide_id_vars = process_args_into_dataframe(\n",
      "  File \"C:\\Users\\beatr\\anaconda3\\lib\\site-packages\\plotly\\express\\_core.py\", line 1207, in process_args_into_dataframe\n",
      "    raise ValueError(\n",
      "ValueError: All arguments should have the same length. The length of column argument `df[path_0]` is 22, whereas the length of  previously-processed arguments ['values'] is 1\n",
      "Exception on /_dash-update-component [POST]\n",
      "Traceback (most recent call last):\n",
      "  File \"C:\\Users\\beatr\\anaconda3\\lib\\site-packages\\flask\\app.py\", line 2447, in wsgi_app\n",
      "    response = self.full_dispatch_request()\n",
      "  File \"C:\\Users\\beatr\\anaconda3\\lib\\site-packages\\flask\\app.py\", line 1952, in full_dispatch_request\n",
      "    rv = self.handle_user_exception(e)\n",
      "  File \"C:\\Users\\beatr\\anaconda3\\lib\\site-packages\\flask\\app.py\", line 1821, in handle_user_exception\n",
      "    reraise(exc_type, exc_value, tb)\n",
      "  File \"C:\\Users\\beatr\\anaconda3\\lib\\site-packages\\flask\\_compat.py\", line 39, in reraise\n",
      "    raise value\n",
      "  File \"C:\\Users\\beatr\\anaconda3\\lib\\site-packages\\flask\\app.py\", line 1950, in full_dispatch_request\n",
      "    rv = self.dispatch_request()\n",
      "  File \"C:\\Users\\beatr\\anaconda3\\lib\\site-packages\\flask\\app.py\", line 1936, in dispatch_request\n",
      "    return self.view_functions[rule.endpoint](**req.view_args)\n",
      "  File \"C:\\Users\\beatr\\anaconda3\\lib\\site-packages\\dash\\dash.py\", line 1345, in dispatch\n",
      "    response.set_data(func(*args, outputs_list=outputs_list))\n",
      "  File \"C:\\Users\\beatr\\anaconda3\\lib\\site-packages\\dash\\_callback.py\", line 151, in add_context\n",
      "    output_value = func(*func_args, **func_kwargs)  # %% callback invoked %%\n",
      "  File \"<ipython-input-278-d2cfb6ae60dd>\", line 12, in update_treemap\n",
      "    fig = px.treemap(filtered_df, path=['Country or Area'],values=selected_var, color=selected_var, color_continuous_scale='brwnyl',\n",
      "  File \"C:\\Users\\beatr\\anaconda3\\lib\\site-packages\\plotly\\express\\_chart_types.py\", line 1473, in treemap\n",
      "    return make_figure(\n",
      "  File \"C:\\Users\\beatr\\anaconda3\\lib\\site-packages\\plotly\\express\\_core.py\", line 1879, in make_figure\n",
      "    args = build_dataframe(args, constructor)\n",
      "  File \"C:\\Users\\beatr\\anaconda3\\lib\\site-packages\\plotly\\express\\_core.py\", line 1399, in build_dataframe\n",
      "    df_output, wide_id_vars = process_args_into_dataframe(\n",
      "  File \"C:\\Users\\beatr\\anaconda3\\lib\\site-packages\\plotly\\express\\_core.py\", line 1207, in process_args_into_dataframe\n",
      "    raise ValueError(\n",
      "ValueError: All arguments should have the same length. The length of column argument `df[path_0]` is 22, whereas the length of  previously-processed arguments ['values'] is 1\n",
      "Exception on /_dash-update-component [POST]\n",
      "Traceback (most recent call last):\n",
      "  File \"C:\\Users\\beatr\\anaconda3\\lib\\site-packages\\flask\\app.py\", line 2447, in wsgi_app\n",
      "    response = self.full_dispatch_request()\n",
      "  File \"C:\\Users\\beatr\\anaconda3\\lib\\site-packages\\flask\\app.py\", line 1952, in full_dispatch_request\n",
      "    rv = self.handle_user_exception(e)\n",
      "  File \"C:\\Users\\beatr\\anaconda3\\lib\\site-packages\\flask\\app.py\", line 1821, in handle_user_exception\n",
      "    reraise(exc_type, exc_value, tb)\n",
      "  File \"C:\\Users\\beatr\\anaconda3\\lib\\site-packages\\flask\\_compat.py\", line 39, in reraise\n",
      "    raise value\n",
      "  File \"C:\\Users\\beatr\\anaconda3\\lib\\site-packages\\flask\\app.py\", line 1950, in full_dispatch_request\n",
      "    rv = self.dispatch_request()\n",
      "  File \"C:\\Users\\beatr\\anaconda3\\lib\\site-packages\\flask\\app.py\", line 1936, in dispatch_request\n",
      "    return self.view_functions[rule.endpoint](**req.view_args)\n",
      "  File \"C:\\Users\\beatr\\anaconda3\\lib\\site-packages\\dash\\dash.py\", line 1345, in dispatch\n",
      "    response.set_data(func(*args, outputs_list=outputs_list))\n",
      "  File \"C:\\Users\\beatr\\anaconda3\\lib\\site-packages\\dash\\_callback.py\", line 151, in add_context\n",
      "    output_value = func(*func_args, **func_kwargs)  # %% callback invoked %%\n",
      "  File \"<ipython-input-278-d2cfb6ae60dd>\", line 12, in update_treemap\n",
      "    fig = px.treemap(filtered_df, path=['Country or Area'],values=selected_var, color=selected_var, color_continuous_scale='brwnyl',\n",
      "  File \"C:\\Users\\beatr\\anaconda3\\lib\\site-packages\\plotly\\express\\_chart_types.py\", line 1473, in treemap\n",
      "    return make_figure(\n",
      "  File \"C:\\Users\\beatr\\anaconda3\\lib\\site-packages\\plotly\\express\\_core.py\", line 1879, in make_figure\n",
      "    args = build_dataframe(args, constructor)\n",
      "  File \"C:\\Users\\beatr\\anaconda3\\lib\\site-packages\\plotly\\express\\_core.py\", line 1399, in build_dataframe\n",
      "    df_output, wide_id_vars = process_args_into_dataframe(\n",
      "  File \"C:\\Users\\beatr\\anaconda3\\lib\\site-packages\\plotly\\express\\_core.py\", line 1207, in process_args_into_dataframe\n",
      "    raise ValueError(\n",
      "ValueError: All arguments should have the same length. The length of column argument `df[path_0]` is 22, whereas the length of  previously-processed arguments ['values'] is 1\n",
      "Exception on /_dash-update-component [POST]\n",
      "Traceback (most recent call last):\n",
      "  File \"C:\\Users\\beatr\\anaconda3\\lib\\site-packages\\flask\\app.py\", line 2447, in wsgi_app\n",
      "    response = self.full_dispatch_request()\n",
      "  File \"C:\\Users\\beatr\\anaconda3\\lib\\site-packages\\flask\\app.py\", line 1952, in full_dispatch_request\n",
      "    rv = self.handle_user_exception(e)\n",
      "  File \"C:\\Users\\beatr\\anaconda3\\lib\\site-packages\\flask\\app.py\", line 1821, in handle_user_exception\n",
      "    reraise(exc_type, exc_value, tb)\n",
      "  File \"C:\\Users\\beatr\\anaconda3\\lib\\site-packages\\flask\\_compat.py\", line 39, in reraise\n",
      "    raise value\n",
      "  File \"C:\\Users\\beatr\\anaconda3\\lib\\site-packages\\flask\\app.py\", line 1950, in full_dispatch_request\n",
      "    rv = self.dispatch_request()\n",
      "  File \"C:\\Users\\beatr\\anaconda3\\lib\\site-packages\\flask\\app.py\", line 1936, in dispatch_request\n",
      "    return self.view_functions[rule.endpoint](**req.view_args)\n",
      "  File \"C:\\Users\\beatr\\anaconda3\\lib\\site-packages\\dash\\dash.py\", line 1345, in dispatch\n",
      "    response.set_data(func(*args, outputs_list=outputs_list))\n",
      "  File \"C:\\Users\\beatr\\anaconda3\\lib\\site-packages\\dash\\_callback.py\", line 151, in add_context\n",
      "    output_value = func(*func_args, **func_kwargs)  # %% callback invoked %%\n",
      "  File \"<ipython-input-278-d2cfb6ae60dd>\", line 12, in update_treemap\n",
      "    fig = px.treemap(filtered_df, path=['Country or Area'],values=selected_var, color=selected_var, color_continuous_scale='brwnyl',\n",
      "  File \"C:\\Users\\beatr\\anaconda3\\lib\\site-packages\\plotly\\express\\_chart_types.py\", line 1473, in treemap\n",
      "    return make_figure(\n",
      "  File \"C:\\Users\\beatr\\anaconda3\\lib\\site-packages\\plotly\\express\\_core.py\", line 1879, in make_figure\n",
      "    args = build_dataframe(args, constructor)\n",
      "  File \"C:\\Users\\beatr\\anaconda3\\lib\\site-packages\\plotly\\express\\_core.py\", line 1399, in build_dataframe\n",
      "    df_output, wide_id_vars = process_args_into_dataframe(\n",
      "  File \"C:\\Users\\beatr\\anaconda3\\lib\\site-packages\\plotly\\express\\_core.py\", line 1207, in process_args_into_dataframe\n",
      "    raise ValueError(\n",
      "ValueError: All arguments should have the same length. The length of column argument `df[path_0]` is 22, whereas the length of  previously-processed arguments ['values'] is 1\n",
      "Exception on /_dash-update-component [POST]\n",
      "Traceback (most recent call last):\n",
      "  File \"C:\\Users\\beatr\\anaconda3\\lib\\site-packages\\flask\\app.py\", line 2447, in wsgi_app\n",
      "    response = self.full_dispatch_request()\n",
      "  File \"C:\\Users\\beatr\\anaconda3\\lib\\site-packages\\flask\\app.py\", line 1952, in full_dispatch_request\n",
      "    rv = self.handle_user_exception(e)\n",
      "  File \"C:\\Users\\beatr\\anaconda3\\lib\\site-packages\\flask\\app.py\", line 1821, in handle_user_exception\n",
      "    reraise(exc_type, exc_value, tb)\n",
      "  File \"C:\\Users\\beatr\\anaconda3\\lib\\site-packages\\flask\\_compat.py\", line 39, in reraise\n",
      "    raise value\n",
      "  File \"C:\\Users\\beatr\\anaconda3\\lib\\site-packages\\flask\\app.py\", line 1950, in full_dispatch_request\n",
      "    rv = self.dispatch_request()\n",
      "  File \"C:\\Users\\beatr\\anaconda3\\lib\\site-packages\\flask\\app.py\", line 1936, in dispatch_request\n",
      "    return self.view_functions[rule.endpoint](**req.view_args)\n",
      "  File \"C:\\Users\\beatr\\anaconda3\\lib\\site-packages\\dash\\dash.py\", line 1345, in dispatch\n",
      "    response.set_data(func(*args, outputs_list=outputs_list))\n",
      "  File \"C:\\Users\\beatr\\anaconda3\\lib\\site-packages\\dash\\_callback.py\", line 151, in add_context\n",
      "    output_value = func(*func_args, **func_kwargs)  # %% callback invoked %%\n",
      "  File \"<ipython-input-278-d2cfb6ae60dd>\", line 12, in update_treemap\n",
      "    fig = px.treemap(filtered_df, path=['Country or Area'],values=selected_var, color=selected_var, color_continuous_scale='brwnyl',\n",
      "  File \"C:\\Users\\beatr\\anaconda3\\lib\\site-packages\\plotly\\express\\_chart_types.py\", line 1473, in treemap\n",
      "    return make_figure(\n",
      "  File \"C:\\Users\\beatr\\anaconda3\\lib\\site-packages\\plotly\\express\\_core.py\", line 1879, in make_figure\n",
      "    args = build_dataframe(args, constructor)\n",
      "  File \"C:\\Users\\beatr\\anaconda3\\lib\\site-packages\\plotly\\express\\_core.py\", line 1399, in build_dataframe\n",
      "    df_output, wide_id_vars = process_args_into_dataframe(\n",
      "  File \"C:\\Users\\beatr\\anaconda3\\lib\\site-packages\\plotly\\express\\_core.py\", line 1207, in process_args_into_dataframe\n",
      "    raise ValueError(\n",
      "ValueError: All arguments should have the same length. The length of column argument `df[path_0]` is 22, whereas the length of  previously-processed arguments ['values'] is 1\n",
      "Exception on /_dash-update-component [POST]\n",
      "Traceback (most recent call last):\n",
      "  File \"C:\\Users\\beatr\\anaconda3\\lib\\site-packages\\flask\\app.py\", line 2447, in wsgi_app\n",
      "    response = self.full_dispatch_request()\n",
      "  File \"C:\\Users\\beatr\\anaconda3\\lib\\site-packages\\flask\\app.py\", line 1952, in full_dispatch_request\n",
      "    rv = self.handle_user_exception(e)\n",
      "  File \"C:\\Users\\beatr\\anaconda3\\lib\\site-packages\\flask\\app.py\", line 1821, in handle_user_exception\n",
      "    reraise(exc_type, exc_value, tb)\n",
      "  File \"C:\\Users\\beatr\\anaconda3\\lib\\site-packages\\flask\\_compat.py\", line 39, in reraise\n",
      "    raise value\n",
      "  File \"C:\\Users\\beatr\\anaconda3\\lib\\site-packages\\flask\\app.py\", line 1950, in full_dispatch_request\n",
      "    rv = self.dispatch_request()\n",
      "  File \"C:\\Users\\beatr\\anaconda3\\lib\\site-packages\\flask\\app.py\", line 1936, in dispatch_request\n",
      "    return self.view_functions[rule.endpoint](**req.view_args)\n",
      "  File \"C:\\Users\\beatr\\anaconda3\\lib\\site-packages\\dash\\dash.py\", line 1345, in dispatch\n",
      "    response.set_data(func(*args, outputs_list=outputs_list))\n",
      "  File \"C:\\Users\\beatr\\anaconda3\\lib\\site-packages\\dash\\_callback.py\", line 151, in add_context\n",
      "    output_value = func(*func_args, **func_kwargs)  # %% callback invoked %%\n",
      "  File \"<ipython-input-278-d2cfb6ae60dd>\", line 12, in update_treemap\n",
      "    fig = px.treemap(filtered_df, path=['Country or Area'],values=selected_var, color=selected_var, color_continuous_scale='brwnyl',\n",
      "  File \"C:\\Users\\beatr\\anaconda3\\lib\\site-packages\\plotly\\express\\_chart_types.py\", line 1473, in treemap\n",
      "    return make_figure(\n",
      "  File \"C:\\Users\\beatr\\anaconda3\\lib\\site-packages\\plotly\\express\\_core.py\", line 1879, in make_figure\n",
      "    args = build_dataframe(args, constructor)\n",
      "  File \"C:\\Users\\beatr\\anaconda3\\lib\\site-packages\\plotly\\express\\_core.py\", line 1399, in build_dataframe\n",
      "    df_output, wide_id_vars = process_args_into_dataframe(\n",
      "  File \"C:\\Users\\beatr\\anaconda3\\lib\\site-packages\\plotly\\express\\_core.py\", line 1207, in process_args_into_dataframe\n",
      "    raise ValueError(\n",
      "ValueError: All arguments should have the same length. The length of column argument `df[path_0]` is 22, whereas the length of  previously-processed arguments ['values'] is 1\n",
      "Exception on /_dash-update-component [POST]\n",
      "Traceback (most recent call last):\n",
      "  File \"C:\\Users\\beatr\\anaconda3\\lib\\site-packages\\flask\\app.py\", line 2447, in wsgi_app\n",
      "    response = self.full_dispatch_request()\n",
      "  File \"C:\\Users\\beatr\\anaconda3\\lib\\site-packages\\flask\\app.py\", line 1952, in full_dispatch_request\n",
      "    rv = self.handle_user_exception(e)\n",
      "  File \"C:\\Users\\beatr\\anaconda3\\lib\\site-packages\\flask\\app.py\", line 1821, in handle_user_exception\n",
      "    reraise(exc_type, exc_value, tb)\n",
      "  File \"C:\\Users\\beatr\\anaconda3\\lib\\site-packages\\flask\\_compat.py\", line 39, in reraise\n",
      "    raise value\n",
      "  File \"C:\\Users\\beatr\\anaconda3\\lib\\site-packages\\flask\\app.py\", line 1950, in full_dispatch_request\n",
      "    rv = self.dispatch_request()\n",
      "  File \"C:\\Users\\beatr\\anaconda3\\lib\\site-packages\\flask\\app.py\", line 1936, in dispatch_request\n",
      "    return self.view_functions[rule.endpoint](**req.view_args)\n",
      "  File \"C:\\Users\\beatr\\anaconda3\\lib\\site-packages\\dash\\dash.py\", line 1345, in dispatch\n",
      "    response.set_data(func(*args, outputs_list=outputs_list))\n",
      "  File \"C:\\Users\\beatr\\anaconda3\\lib\\site-packages\\dash\\_callback.py\", line 151, in add_context\n",
      "    output_value = func(*func_args, **func_kwargs)  # %% callback invoked %%\n",
      "  File \"<ipython-input-278-d2cfb6ae60dd>\", line 12, in update_treemap\n",
      "    fig = px.treemap(filtered_df, path=['Country or Area'],values=selected_var, color=selected_var, color_continuous_scale='brwnyl',\n",
      "  File \"C:\\Users\\beatr\\anaconda3\\lib\\site-packages\\plotly\\express\\_chart_types.py\", line 1473, in treemap\n",
      "    return make_figure(\n",
      "  File \"C:\\Users\\beatr\\anaconda3\\lib\\site-packages\\plotly\\express\\_core.py\", line 1879, in make_figure\n",
      "    args = build_dataframe(args, constructor)\n",
      "  File \"C:\\Users\\beatr\\anaconda3\\lib\\site-packages\\plotly\\express\\_core.py\", line 1399, in build_dataframe\n",
      "    df_output, wide_id_vars = process_args_into_dataframe(\n",
      "  File \"C:\\Users\\beatr\\anaconda3\\lib\\site-packages\\plotly\\express\\_core.py\", line 1207, in process_args_into_dataframe\n",
      "    raise ValueError(\n",
      "ValueError: All arguments should have the same length. The length of column argument `df[path_0]` is 22, whereas the length of  previously-processed arguments ['values'] is 1\n",
      "Exception on /_dash-update-component [POST]\n",
      "Traceback (most recent call last):\n",
      "  File \"C:\\Users\\beatr\\anaconda3\\lib\\site-packages\\flask\\app.py\", line 2447, in wsgi_app\n",
      "    response = self.full_dispatch_request()\n",
      "  File \"C:\\Users\\beatr\\anaconda3\\lib\\site-packages\\flask\\app.py\", line 1952, in full_dispatch_request\n",
      "    rv = self.handle_user_exception(e)\n",
      "  File \"C:\\Users\\beatr\\anaconda3\\lib\\site-packages\\flask\\app.py\", line 1821, in handle_user_exception\n",
      "    reraise(exc_type, exc_value, tb)\n",
      "  File \"C:\\Users\\beatr\\anaconda3\\lib\\site-packages\\flask\\_compat.py\", line 39, in reraise\n",
      "    raise value\n",
      "  File \"C:\\Users\\beatr\\anaconda3\\lib\\site-packages\\flask\\app.py\", line 1950, in full_dispatch_request\n",
      "    rv = self.dispatch_request()\n",
      "  File \"C:\\Users\\beatr\\anaconda3\\lib\\site-packages\\flask\\app.py\", line 1936, in dispatch_request\n",
      "    return self.view_functions[rule.endpoint](**req.view_args)\n",
      "  File \"C:\\Users\\beatr\\anaconda3\\lib\\site-packages\\dash\\dash.py\", line 1345, in dispatch\n",
      "    response.set_data(func(*args, outputs_list=outputs_list))\n",
      "  File \"C:\\Users\\beatr\\anaconda3\\lib\\site-packages\\dash\\_callback.py\", line 151, in add_context\n",
      "    output_value = func(*func_args, **func_kwargs)  # %% callback invoked %%\n",
      "  File \"<ipython-input-278-d2cfb6ae60dd>\", line 12, in update_treemap\n",
      "    fig = px.treemap(filtered_df, path=['Country or Area'],values=selected_var, color=selected_var, color_continuous_scale='brwnyl',\n",
      "  File \"C:\\Users\\beatr\\anaconda3\\lib\\site-packages\\plotly\\express\\_chart_types.py\", line 1473, in treemap\n",
      "    return make_figure(\n",
      "  File \"C:\\Users\\beatr\\anaconda3\\lib\\site-packages\\plotly\\express\\_core.py\", line 1879, in make_figure\n",
      "    args = build_dataframe(args, constructor)\n",
      "  File \"C:\\Users\\beatr\\anaconda3\\lib\\site-packages\\plotly\\express\\_core.py\", line 1399, in build_dataframe\n",
      "    df_output, wide_id_vars = process_args_into_dataframe(\n",
      "  File \"C:\\Users\\beatr\\anaconda3\\lib\\site-packages\\plotly\\express\\_core.py\", line 1207, in process_args_into_dataframe\n",
      "    raise ValueError(\n",
      "ValueError: All arguments should have the same length. The length of column argument `df[path_0]` is 22, whereas the length of  previously-processed arguments ['values'] is 1\n",
      "Exception on /_dash-update-component [POST]\n",
      "Traceback (most recent call last):\n",
      "  File \"C:\\Users\\beatr\\anaconda3\\lib\\site-packages\\flask\\app.py\", line 2447, in wsgi_app\n",
      "    response = self.full_dispatch_request()\n",
      "  File \"C:\\Users\\beatr\\anaconda3\\lib\\site-packages\\flask\\app.py\", line 1952, in full_dispatch_request\n",
      "    rv = self.handle_user_exception(e)\n",
      "  File \"C:\\Users\\beatr\\anaconda3\\lib\\site-packages\\flask\\app.py\", line 1821, in handle_user_exception\n",
      "    reraise(exc_type, exc_value, tb)\n",
      "  File \"C:\\Users\\beatr\\anaconda3\\lib\\site-packages\\flask\\_compat.py\", line 39, in reraise\n",
      "    raise value\n",
      "  File \"C:\\Users\\beatr\\anaconda3\\lib\\site-packages\\flask\\app.py\", line 1950, in full_dispatch_request\n",
      "    rv = self.dispatch_request()\n",
      "  File \"C:\\Users\\beatr\\anaconda3\\lib\\site-packages\\flask\\app.py\", line 1936, in dispatch_request\n",
      "    return self.view_functions[rule.endpoint](**req.view_args)\n",
      "  File \"C:\\Users\\beatr\\anaconda3\\lib\\site-packages\\dash\\dash.py\", line 1345, in dispatch\n",
      "    response.set_data(func(*args, outputs_list=outputs_list))\n",
      "  File \"C:\\Users\\beatr\\anaconda3\\lib\\site-packages\\dash\\_callback.py\", line 151, in add_context\n",
      "    output_value = func(*func_args, **func_kwargs)  # %% callback invoked %%\n",
      "  File \"<ipython-input-278-d2cfb6ae60dd>\", line 12, in update_treemap\n",
      "    fig = px.treemap(filtered_df, path=['Country or Area'],values=selected_var, color=selected_var, color_continuous_scale='brwnyl',\n",
      "  File \"C:\\Users\\beatr\\anaconda3\\lib\\site-packages\\plotly\\express\\_chart_types.py\", line 1473, in treemap\n",
      "    return make_figure(\n",
      "  File \"C:\\Users\\beatr\\anaconda3\\lib\\site-packages\\plotly\\express\\_core.py\", line 1879, in make_figure\n",
      "    args = build_dataframe(args, constructor)\n",
      "  File \"C:\\Users\\beatr\\anaconda3\\lib\\site-packages\\plotly\\express\\_core.py\", line 1399, in build_dataframe\n",
      "    df_output, wide_id_vars = process_args_into_dataframe(\n",
      "  File \"C:\\Users\\beatr\\anaconda3\\lib\\site-packages\\plotly\\express\\_core.py\", line 1207, in process_args_into_dataframe\n",
      "    raise ValueError(\n",
      "ValueError: All arguments should have the same length. The length of column argument `df[path_0]` is 22, whereas the length of  previously-processed arguments ['values'] is 1\n",
      "Exception on /_dash-update-component [POST]\n",
      "Traceback (most recent call last):\n",
      "  File \"C:\\Users\\beatr\\anaconda3\\lib\\site-packages\\flask\\app.py\", line 2447, in wsgi_app\n",
      "    response = self.full_dispatch_request()\n",
      "  File \"C:\\Users\\beatr\\anaconda3\\lib\\site-packages\\flask\\app.py\", line 1952, in full_dispatch_request\n",
      "    rv = self.handle_user_exception(e)\n",
      "  File \"C:\\Users\\beatr\\anaconda3\\lib\\site-packages\\flask\\app.py\", line 1821, in handle_user_exception\n",
      "    reraise(exc_type, exc_value, tb)\n",
      "  File \"C:\\Users\\beatr\\anaconda3\\lib\\site-packages\\flask\\_compat.py\", line 39, in reraise\n",
      "    raise value\n",
      "  File \"C:\\Users\\beatr\\anaconda3\\lib\\site-packages\\flask\\app.py\", line 1950, in full_dispatch_request\n",
      "    rv = self.dispatch_request()\n",
      "  File \"C:\\Users\\beatr\\anaconda3\\lib\\site-packages\\flask\\app.py\", line 1936, in dispatch_request\n",
      "    return self.view_functions[rule.endpoint](**req.view_args)\n",
      "  File \"C:\\Users\\beatr\\anaconda3\\lib\\site-packages\\dash\\dash.py\", line 1345, in dispatch\n",
      "    response.set_data(func(*args, outputs_list=outputs_list))\n",
      "  File \"C:\\Users\\beatr\\anaconda3\\lib\\site-packages\\dash\\_callback.py\", line 151, in add_context\n",
      "    output_value = func(*func_args, **func_kwargs)  # %% callback invoked %%\n",
      "  File \"<ipython-input-278-d2cfb6ae60dd>\", line 12, in update_treemap\n",
      "    fig = px.treemap(filtered_df, path=['Country or Area'],values=selected_var, color=selected_var, color_continuous_scale='brwnyl',\n",
      "  File \"C:\\Users\\beatr\\anaconda3\\lib\\site-packages\\plotly\\express\\_chart_types.py\", line 1473, in treemap\n",
      "    return make_figure(\n",
      "  File \"C:\\Users\\beatr\\anaconda3\\lib\\site-packages\\plotly\\express\\_core.py\", line 1879, in make_figure\n",
      "    args = build_dataframe(args, constructor)\n",
      "  File \"C:\\Users\\beatr\\anaconda3\\lib\\site-packages\\plotly\\express\\_core.py\", line 1399, in build_dataframe\n",
      "    df_output, wide_id_vars = process_args_into_dataframe(\n",
      "  File \"C:\\Users\\beatr\\anaconda3\\lib\\site-packages\\plotly\\express\\_core.py\", line 1207, in process_args_into_dataframe\n",
      "    raise ValueError(\n",
      "ValueError: All arguments should have the same length. The length of column argument `df[path_0]` is 22, whereas the length of  previously-processed arguments ['values'] is 1\n",
      "Exception on /_dash-update-component [POST]\n",
      "Traceback (most recent call last):\n",
      "  File \"C:\\Users\\beatr\\anaconda3\\lib\\site-packages\\flask\\app.py\", line 2447, in wsgi_app\n",
      "    response = self.full_dispatch_request()\n",
      "  File \"C:\\Users\\beatr\\anaconda3\\lib\\site-packages\\flask\\app.py\", line 1952, in full_dispatch_request\n",
      "    rv = self.handle_user_exception(e)\n",
      "  File \"C:\\Users\\beatr\\anaconda3\\lib\\site-packages\\flask\\app.py\", line 1821, in handle_user_exception\n",
      "    reraise(exc_type, exc_value, tb)\n",
      "  File \"C:\\Users\\beatr\\anaconda3\\lib\\site-packages\\flask\\_compat.py\", line 39, in reraise\n",
      "    raise value\n",
      "  File \"C:\\Users\\beatr\\anaconda3\\lib\\site-packages\\flask\\app.py\", line 1950, in full_dispatch_request\n",
      "    rv = self.dispatch_request()\n",
      "  File \"C:\\Users\\beatr\\anaconda3\\lib\\site-packages\\flask\\app.py\", line 1936, in dispatch_request\n",
      "    return self.view_functions[rule.endpoint](**req.view_args)\n",
      "  File \"C:\\Users\\beatr\\anaconda3\\lib\\site-packages\\dash\\dash.py\", line 1345, in dispatch\n",
      "    response.set_data(func(*args, outputs_list=outputs_list))\n",
      "  File \"C:\\Users\\beatr\\anaconda3\\lib\\site-packages\\dash\\_callback.py\", line 151, in add_context\n",
      "    output_value = func(*func_args, **func_kwargs)  # %% callback invoked %%\n",
      "  File \"<ipython-input-278-d2cfb6ae60dd>\", line 12, in update_treemap\n",
      "    fig = px.treemap(filtered_df, path=['Country or Area'],values=selected_var, color=selected_var, color_continuous_scale='brwnyl',\n",
      "  File \"C:\\Users\\beatr\\anaconda3\\lib\\site-packages\\plotly\\express\\_chart_types.py\", line 1473, in treemap\n",
      "    return make_figure(\n",
      "  File \"C:\\Users\\beatr\\anaconda3\\lib\\site-packages\\plotly\\express\\_core.py\", line 1879, in make_figure\n",
      "    args = build_dataframe(args, constructor)\n",
      "  File \"C:\\Users\\beatr\\anaconda3\\lib\\site-packages\\plotly\\express\\_core.py\", line 1399, in build_dataframe\n",
      "    df_output, wide_id_vars = process_args_into_dataframe(\n",
      "  File \"C:\\Users\\beatr\\anaconda3\\lib\\site-packages\\plotly\\express\\_core.py\", line 1207, in process_args_into_dataframe\n",
      "    raise ValueError(\n",
      "ValueError: All arguments should have the same length. The length of column argument `df[path_0]` is 22, whereas the length of  previously-processed arguments ['values'] is 1\n",
      "Exception on /_dash-update-component [POST]\n",
      "Traceback (most recent call last):\n",
      "  File \"C:\\Users\\beatr\\anaconda3\\lib\\site-packages\\flask\\app.py\", line 2447, in wsgi_app\n",
      "    response = self.full_dispatch_request()\n",
      "  File \"C:\\Users\\beatr\\anaconda3\\lib\\site-packages\\flask\\app.py\", line 1952, in full_dispatch_request\n",
      "    rv = self.handle_user_exception(e)\n",
      "  File \"C:\\Users\\beatr\\anaconda3\\lib\\site-packages\\flask\\app.py\", line 1821, in handle_user_exception\n",
      "    reraise(exc_type, exc_value, tb)\n",
      "  File \"C:\\Users\\beatr\\anaconda3\\lib\\site-packages\\flask\\_compat.py\", line 39, in reraise\n",
      "    raise value\n",
      "  File \"C:\\Users\\beatr\\anaconda3\\lib\\site-packages\\flask\\app.py\", line 1950, in full_dispatch_request\n",
      "    rv = self.dispatch_request()\n",
      "  File \"C:\\Users\\beatr\\anaconda3\\lib\\site-packages\\flask\\app.py\", line 1936, in dispatch_request\n",
      "    return self.view_functions[rule.endpoint](**req.view_args)\n",
      "  File \"C:\\Users\\beatr\\anaconda3\\lib\\site-packages\\dash\\dash.py\", line 1345, in dispatch\n",
      "    response.set_data(func(*args, outputs_list=outputs_list))\n",
      "  File \"C:\\Users\\beatr\\anaconda3\\lib\\site-packages\\dash\\_callback.py\", line 151, in add_context\n",
      "    output_value = func(*func_args, **func_kwargs)  # %% callback invoked %%\n",
      "  File \"<ipython-input-278-d2cfb6ae60dd>\", line 12, in update_treemap\n",
      "    fig = px.treemap(filtered_df, path=['Country or Area'],values=selected_var, color=selected_var, color_continuous_scale='brwnyl',\n",
      "  File \"C:\\Users\\beatr\\anaconda3\\lib\\site-packages\\plotly\\express\\_chart_types.py\", line 1473, in treemap\n",
      "    return make_figure(\n",
      "  File \"C:\\Users\\beatr\\anaconda3\\lib\\site-packages\\plotly\\express\\_core.py\", line 1879, in make_figure\n",
      "    args = build_dataframe(args, constructor)\n",
      "  File \"C:\\Users\\beatr\\anaconda3\\lib\\site-packages\\plotly\\express\\_core.py\", line 1399, in build_dataframe\n",
      "    df_output, wide_id_vars = process_args_into_dataframe(\n",
      "  File \"C:\\Users\\beatr\\anaconda3\\lib\\site-packages\\plotly\\express\\_core.py\", line 1207, in process_args_into_dataframe\n",
      "    raise ValueError(\n",
      "ValueError: All arguments should have the same length. The length of column argument `df[path_0]` is 22, whereas the length of  previously-processed arguments ['values'] is 1\n",
      "Exception on /_dash-update-component [POST]\n",
      "Traceback (most recent call last):\n",
      "  File \"C:\\Users\\beatr\\anaconda3\\lib\\site-packages\\flask\\app.py\", line 2447, in wsgi_app\n",
      "    response = self.full_dispatch_request()\n",
      "  File \"C:\\Users\\beatr\\anaconda3\\lib\\site-packages\\flask\\app.py\", line 1952, in full_dispatch_request\n",
      "    rv = self.handle_user_exception(e)\n",
      "  File \"C:\\Users\\beatr\\anaconda3\\lib\\site-packages\\flask\\app.py\", line 1821, in handle_user_exception\n",
      "    reraise(exc_type, exc_value, tb)\n",
      "  File \"C:\\Users\\beatr\\anaconda3\\lib\\site-packages\\flask\\_compat.py\", line 39, in reraise\n",
      "    raise value\n",
      "  File \"C:\\Users\\beatr\\anaconda3\\lib\\site-packages\\flask\\app.py\", line 1950, in full_dispatch_request\n",
      "    rv = self.dispatch_request()\n",
      "  File \"C:\\Users\\beatr\\anaconda3\\lib\\site-packages\\flask\\app.py\", line 1936, in dispatch_request\n",
      "    return self.view_functions[rule.endpoint](**req.view_args)\n",
      "  File \"C:\\Users\\beatr\\anaconda3\\lib\\site-packages\\dash\\dash.py\", line 1345, in dispatch\n",
      "    response.set_data(func(*args, outputs_list=outputs_list))\n",
      "  File \"C:\\Users\\beatr\\anaconda3\\lib\\site-packages\\dash\\_callback.py\", line 151, in add_context\n",
      "    output_value = func(*func_args, **func_kwargs)  # %% callback invoked %%\n",
      "  File \"<ipython-input-278-d2cfb6ae60dd>\", line 12, in update_treemap\n",
      "    fig = px.treemap(filtered_df, path=['Country or Area'],values=selected_var, color=selected_var, color_continuous_scale='brwnyl',\n",
      "  File \"C:\\Users\\beatr\\anaconda3\\lib\\site-packages\\plotly\\express\\_chart_types.py\", line 1473, in treemap\n",
      "    return make_figure(\n",
      "  File \"C:\\Users\\beatr\\anaconda3\\lib\\site-packages\\plotly\\express\\_core.py\", line 1879, in make_figure\n",
      "    args = build_dataframe(args, constructor)\n",
      "  File \"C:\\Users\\beatr\\anaconda3\\lib\\site-packages\\plotly\\express\\_core.py\", line 1399, in build_dataframe\n",
      "    df_output, wide_id_vars = process_args_into_dataframe(\n",
      "  File \"C:\\Users\\beatr\\anaconda3\\lib\\site-packages\\plotly\\express\\_core.py\", line 1207, in process_args_into_dataframe\n",
      "    raise ValueError(\n",
      "ValueError: All arguments should have the same length. The length of column argument `df[path_0]` is 22, whereas the length of  previously-processed arguments ['values'] is 1\n",
      "Exception on /_dash-update-component [POST]\n",
      "Traceback (most recent call last):\n",
      "  File \"C:\\Users\\beatr\\anaconda3\\lib\\site-packages\\flask\\app.py\", line 2447, in wsgi_app\n",
      "    response = self.full_dispatch_request()\n",
      "  File \"C:\\Users\\beatr\\anaconda3\\lib\\site-packages\\flask\\app.py\", line 1952, in full_dispatch_request\n",
      "    rv = self.handle_user_exception(e)\n",
      "  File \"C:\\Users\\beatr\\anaconda3\\lib\\site-packages\\flask\\app.py\", line 1821, in handle_user_exception\n",
      "    reraise(exc_type, exc_value, tb)\n",
      "  File \"C:\\Users\\beatr\\anaconda3\\lib\\site-packages\\flask\\_compat.py\", line 39, in reraise\n",
      "    raise value\n",
      "  File \"C:\\Users\\beatr\\anaconda3\\lib\\site-packages\\flask\\app.py\", line 1950, in full_dispatch_request\n",
      "    rv = self.dispatch_request()\n",
      "  File \"C:\\Users\\beatr\\anaconda3\\lib\\site-packages\\flask\\app.py\", line 1936, in dispatch_request\n",
      "    return self.view_functions[rule.endpoint](**req.view_args)\n",
      "  File \"C:\\Users\\beatr\\anaconda3\\lib\\site-packages\\dash\\dash.py\", line 1345, in dispatch\n",
      "    response.set_data(func(*args, outputs_list=outputs_list))\n",
      "  File \"C:\\Users\\beatr\\anaconda3\\lib\\site-packages\\dash\\_callback.py\", line 151, in add_context\n",
      "    output_value = func(*func_args, **func_kwargs)  # %% callback invoked %%\n",
      "  File \"<ipython-input-278-d2cfb6ae60dd>\", line 12, in update_treemap\n",
      "    fig = px.treemap(filtered_df, path=['Country or Area'],values=selected_var, color=selected_var, color_continuous_scale='brwnyl',\n",
      "  File \"C:\\Users\\beatr\\anaconda3\\lib\\site-packages\\plotly\\express\\_chart_types.py\", line 1473, in treemap\n",
      "    return make_figure(\n",
      "  File \"C:\\Users\\beatr\\anaconda3\\lib\\site-packages\\plotly\\express\\_core.py\", line 1879, in make_figure\n",
      "    args = build_dataframe(args, constructor)\n",
      "  File \"C:\\Users\\beatr\\anaconda3\\lib\\site-packages\\plotly\\express\\_core.py\", line 1399, in build_dataframe\n",
      "    df_output, wide_id_vars = process_args_into_dataframe(\n",
      "  File \"C:\\Users\\beatr\\anaconda3\\lib\\site-packages\\plotly\\express\\_core.py\", line 1207, in process_args_into_dataframe\n",
      "    raise ValueError(\n",
      "ValueError: All arguments should have the same length. The length of column argument `df[path_0]` is 22, whereas the length of  previously-processed arguments ['values'] is 1\n",
      "Exception on /_dash-update-component [POST]\n",
      "Traceback (most recent call last):\n",
      "  File \"C:\\Users\\beatr\\anaconda3\\lib\\site-packages\\flask\\app.py\", line 2447, in wsgi_app\n",
      "    response = self.full_dispatch_request()\n",
      "  File \"C:\\Users\\beatr\\anaconda3\\lib\\site-packages\\flask\\app.py\", line 1952, in full_dispatch_request\n",
      "    rv = self.handle_user_exception(e)\n",
      "  File \"C:\\Users\\beatr\\anaconda3\\lib\\site-packages\\flask\\app.py\", line 1821, in handle_user_exception\n",
      "    reraise(exc_type, exc_value, tb)\n",
      "  File \"C:\\Users\\beatr\\anaconda3\\lib\\site-packages\\flask\\_compat.py\", line 39, in reraise\n",
      "    raise value\n",
      "  File \"C:\\Users\\beatr\\anaconda3\\lib\\site-packages\\flask\\app.py\", line 1950, in full_dispatch_request\n",
      "    rv = self.dispatch_request()\n",
      "  File \"C:\\Users\\beatr\\anaconda3\\lib\\site-packages\\flask\\app.py\", line 1936, in dispatch_request\n",
      "    return self.view_functions[rule.endpoint](**req.view_args)\n",
      "  File \"C:\\Users\\beatr\\anaconda3\\lib\\site-packages\\dash\\dash.py\", line 1345, in dispatch\n",
      "    response.set_data(func(*args, outputs_list=outputs_list))\n",
      "  File \"C:\\Users\\beatr\\anaconda3\\lib\\site-packages\\dash\\_callback.py\", line 151, in add_context\n",
      "    output_value = func(*func_args, **func_kwargs)  # %% callback invoked %%\n",
      "  File \"<ipython-input-278-d2cfb6ae60dd>\", line 12, in update_treemap\n",
      "    fig = px.treemap(filtered_df, path=['Country or Area'],values=selected_var, color=selected_var, color_continuous_scale='brwnyl',\n",
      "  File \"C:\\Users\\beatr\\anaconda3\\lib\\site-packages\\plotly\\express\\_chart_types.py\", line 1473, in treemap\n",
      "    return make_figure(\n",
      "  File \"C:\\Users\\beatr\\anaconda3\\lib\\site-packages\\plotly\\express\\_core.py\", line 1879, in make_figure\n",
      "    args = build_dataframe(args, constructor)\n",
      "  File \"C:\\Users\\beatr\\anaconda3\\lib\\site-packages\\plotly\\express\\_core.py\", line 1399, in build_dataframe\n",
      "    df_output, wide_id_vars = process_args_into_dataframe(\n",
      "  File \"C:\\Users\\beatr\\anaconda3\\lib\\site-packages\\plotly\\express\\_core.py\", line 1207, in process_args_into_dataframe\n",
      "    raise ValueError(\n",
      "ValueError: All arguments should have the same length. The length of column argument `df[path_0]` is 22, whereas the length of  previously-processed arguments ['values'] is 1\n",
      "Exception on /_dash-update-component [POST]\n",
      "Traceback (most recent call last):\n",
      "  File \"C:\\Users\\beatr\\anaconda3\\lib\\site-packages\\flask\\app.py\", line 2447, in wsgi_app\n",
      "    response = self.full_dispatch_request()\n",
      "  File \"C:\\Users\\beatr\\anaconda3\\lib\\site-packages\\flask\\app.py\", line 1952, in full_dispatch_request\n",
      "    rv = self.handle_user_exception(e)\n",
      "  File \"C:\\Users\\beatr\\anaconda3\\lib\\site-packages\\flask\\app.py\", line 1821, in handle_user_exception\n",
      "    reraise(exc_type, exc_value, tb)\n",
      "  File \"C:\\Users\\beatr\\anaconda3\\lib\\site-packages\\flask\\_compat.py\", line 39, in reraise\n",
      "    raise value\n",
      "  File \"C:\\Users\\beatr\\anaconda3\\lib\\site-packages\\flask\\app.py\", line 1950, in full_dispatch_request\n",
      "    rv = self.dispatch_request()\n",
      "  File \"C:\\Users\\beatr\\anaconda3\\lib\\site-packages\\flask\\app.py\", line 1936, in dispatch_request\n",
      "    return self.view_functions[rule.endpoint](**req.view_args)\n",
      "  File \"C:\\Users\\beatr\\anaconda3\\lib\\site-packages\\dash\\dash.py\", line 1345, in dispatch\n",
      "    response.set_data(func(*args, outputs_list=outputs_list))\n",
      "  File \"C:\\Users\\beatr\\anaconda3\\lib\\site-packages\\dash\\_callback.py\", line 151, in add_context\n",
      "    output_value = func(*func_args, **func_kwargs)  # %% callback invoked %%\n",
      "  File \"<ipython-input-278-d2cfb6ae60dd>\", line 12, in update_treemap\n",
      "    fig = px.treemap(filtered_df, path=['Country or Area'],values=selected_var, color=selected_var, color_continuous_scale='brwnyl',\n",
      "  File \"C:\\Users\\beatr\\anaconda3\\lib\\site-packages\\plotly\\express\\_chart_types.py\", line 1473, in treemap\n",
      "    return make_figure(\n",
      "  File \"C:\\Users\\beatr\\anaconda3\\lib\\site-packages\\plotly\\express\\_core.py\", line 1879, in make_figure\n",
      "    args = build_dataframe(args, constructor)\n",
      "  File \"C:\\Users\\beatr\\anaconda3\\lib\\site-packages\\plotly\\express\\_core.py\", line 1399, in build_dataframe\n",
      "    df_output, wide_id_vars = process_args_into_dataframe(\n",
      "  File \"C:\\Users\\beatr\\anaconda3\\lib\\site-packages\\plotly\\express\\_core.py\", line 1207, in process_args_into_dataframe\n",
      "    raise ValueError(\n",
      "ValueError: All arguments should have the same length. The length of column argument `df[path_0]` is 22, whereas the length of  previously-processed arguments ['values'] is 1\n",
      "Exception on /_dash-update-component [POST]\n",
      "Traceback (most recent call last):\n",
      "  File \"C:\\Users\\beatr\\anaconda3\\lib\\site-packages\\flask\\app.py\", line 2447, in wsgi_app\n",
      "    response = self.full_dispatch_request()\n",
      "  File \"C:\\Users\\beatr\\anaconda3\\lib\\site-packages\\flask\\app.py\", line 1952, in full_dispatch_request\n",
      "    rv = self.handle_user_exception(e)\n",
      "  File \"C:\\Users\\beatr\\anaconda3\\lib\\site-packages\\flask\\app.py\", line 1821, in handle_user_exception\n",
      "    reraise(exc_type, exc_value, tb)\n",
      "  File \"C:\\Users\\beatr\\anaconda3\\lib\\site-packages\\flask\\_compat.py\", line 39, in reraise\n",
      "    raise value\n",
      "  File \"C:\\Users\\beatr\\anaconda3\\lib\\site-packages\\flask\\app.py\", line 1950, in full_dispatch_request\n",
      "    rv = self.dispatch_request()\n",
      "  File \"C:\\Users\\beatr\\anaconda3\\lib\\site-packages\\flask\\app.py\", line 1936, in dispatch_request\n",
      "    return self.view_functions[rule.endpoint](**req.view_args)\n",
      "  File \"C:\\Users\\beatr\\anaconda3\\lib\\site-packages\\dash\\dash.py\", line 1345, in dispatch\n",
      "    response.set_data(func(*args, outputs_list=outputs_list))\n",
      "  File \"C:\\Users\\beatr\\anaconda3\\lib\\site-packages\\dash\\_callback.py\", line 151, in add_context\n",
      "    output_value = func(*func_args, **func_kwargs)  # %% callback invoked %%\n",
      "  File \"<ipython-input-278-d2cfb6ae60dd>\", line 12, in update_treemap\n",
      "    fig = px.treemap(filtered_df, path=['Country or Area'],values=selected_var, color=selected_var, color_continuous_scale='brwnyl',\n",
      "  File \"C:\\Users\\beatr\\anaconda3\\lib\\site-packages\\plotly\\express\\_chart_types.py\", line 1473, in treemap\n",
      "    return make_figure(\n",
      "  File \"C:\\Users\\beatr\\anaconda3\\lib\\site-packages\\plotly\\express\\_core.py\", line 1879, in make_figure\n",
      "    args = build_dataframe(args, constructor)\n",
      "  File \"C:\\Users\\beatr\\anaconda3\\lib\\site-packages\\plotly\\express\\_core.py\", line 1399, in build_dataframe\n",
      "    df_output, wide_id_vars = process_args_into_dataframe(\n",
      "  File \"C:\\Users\\beatr\\anaconda3\\lib\\site-packages\\plotly\\express\\_core.py\", line 1207, in process_args_into_dataframe\n",
      "    raise ValueError(\n",
      "ValueError: All arguments should have the same length. The length of column argument `df[path_0]` is 22, whereas the length of  previously-processed arguments ['values'] is 1\n",
      "Exception on /_dash-update-component [POST]\n",
      "Traceback (most recent call last):\n",
      "  File \"C:\\Users\\beatr\\anaconda3\\lib\\site-packages\\flask\\app.py\", line 2447, in wsgi_app\n",
      "    response = self.full_dispatch_request()\n",
      "  File \"C:\\Users\\beatr\\anaconda3\\lib\\site-packages\\flask\\app.py\", line 1952, in full_dispatch_request\n",
      "    rv = self.handle_user_exception(e)\n",
      "  File \"C:\\Users\\beatr\\anaconda3\\lib\\site-packages\\flask\\app.py\", line 1821, in handle_user_exception\n",
      "    reraise(exc_type, exc_value, tb)\n",
      "  File \"C:\\Users\\beatr\\anaconda3\\lib\\site-packages\\flask\\_compat.py\", line 39, in reraise\n",
      "    raise value\n",
      "  File \"C:\\Users\\beatr\\anaconda3\\lib\\site-packages\\flask\\app.py\", line 1950, in full_dispatch_request\n",
      "    rv = self.dispatch_request()\n",
      "  File \"C:\\Users\\beatr\\anaconda3\\lib\\site-packages\\flask\\app.py\", line 1936, in dispatch_request\n",
      "    return self.view_functions[rule.endpoint](**req.view_args)\n",
      "  File \"C:\\Users\\beatr\\anaconda3\\lib\\site-packages\\dash\\dash.py\", line 1345, in dispatch\n",
      "    response.set_data(func(*args, outputs_list=outputs_list))\n",
      "  File \"C:\\Users\\beatr\\anaconda3\\lib\\site-packages\\dash\\_callback.py\", line 151, in add_context\n",
      "    output_value = func(*func_args, **func_kwargs)  # %% callback invoked %%\n",
      "  File \"<ipython-input-278-d2cfb6ae60dd>\", line 12, in update_treemap\n",
      "    fig = px.treemap(filtered_df, path=['Country or Area'],values=selected_var, color=selected_var, color_continuous_scale='brwnyl',\n",
      "  File \"C:\\Users\\beatr\\anaconda3\\lib\\site-packages\\plotly\\express\\_chart_types.py\", line 1473, in treemap\n",
      "    return make_figure(\n",
      "  File \"C:\\Users\\beatr\\anaconda3\\lib\\site-packages\\plotly\\express\\_core.py\", line 1879, in make_figure\n",
      "    args = build_dataframe(args, constructor)\n",
      "  File \"C:\\Users\\beatr\\anaconda3\\lib\\site-packages\\plotly\\express\\_core.py\", line 1399, in build_dataframe\n",
      "    df_output, wide_id_vars = process_args_into_dataframe(\n",
      "  File \"C:\\Users\\beatr\\anaconda3\\lib\\site-packages\\plotly\\express\\_core.py\", line 1207, in process_args_into_dataframe\n",
      "    raise ValueError(\n",
      "ValueError: All arguments should have the same length. The length of column argument `df[path_0]` is 22, whereas the length of  previously-processed arguments ['values'] is 1\n",
      "Exception on /_dash-update-component [POST]\n",
      "Traceback (most recent call last):\n",
      "  File \"C:\\Users\\beatr\\anaconda3\\lib\\site-packages\\flask\\app.py\", line 2447, in wsgi_app\n",
      "    response = self.full_dispatch_request()\n",
      "  File \"C:\\Users\\beatr\\anaconda3\\lib\\site-packages\\flask\\app.py\", line 1952, in full_dispatch_request\n",
      "    rv = self.handle_user_exception(e)\n",
      "  File \"C:\\Users\\beatr\\anaconda3\\lib\\site-packages\\flask\\app.py\", line 1821, in handle_user_exception\n",
      "    reraise(exc_type, exc_value, tb)\n",
      "  File \"C:\\Users\\beatr\\anaconda3\\lib\\site-packages\\flask\\_compat.py\", line 39, in reraise\n",
      "    raise value\n",
      "  File \"C:\\Users\\beatr\\anaconda3\\lib\\site-packages\\flask\\app.py\", line 1950, in full_dispatch_request\n",
      "    rv = self.dispatch_request()\n",
      "  File \"C:\\Users\\beatr\\anaconda3\\lib\\site-packages\\flask\\app.py\", line 1936, in dispatch_request\n",
      "    return self.view_functions[rule.endpoint](**req.view_args)\n",
      "  File \"C:\\Users\\beatr\\anaconda3\\lib\\site-packages\\dash\\dash.py\", line 1345, in dispatch\n",
      "    response.set_data(func(*args, outputs_list=outputs_list))\n",
      "  File \"C:\\Users\\beatr\\anaconda3\\lib\\site-packages\\dash\\_callback.py\", line 151, in add_context\n",
      "    output_value = func(*func_args, **func_kwargs)  # %% callback invoked %%\n",
      "  File \"<ipython-input-278-d2cfb6ae60dd>\", line 12, in update_treemap\n",
      "    fig = px.treemap(filtered_df, path=['Country or Area'],values=selected_var, color=selected_var, color_continuous_scale='brwnyl',\n",
      "  File \"C:\\Users\\beatr\\anaconda3\\lib\\site-packages\\plotly\\express\\_chart_types.py\", line 1473, in treemap\n",
      "    return make_figure(\n",
      "  File \"C:\\Users\\beatr\\anaconda3\\lib\\site-packages\\plotly\\express\\_core.py\", line 1879, in make_figure\n",
      "    args = build_dataframe(args, constructor)\n",
      "  File \"C:\\Users\\beatr\\anaconda3\\lib\\site-packages\\plotly\\express\\_core.py\", line 1399, in build_dataframe\n",
      "    df_output, wide_id_vars = process_args_into_dataframe(\n",
      "  File \"C:\\Users\\beatr\\anaconda3\\lib\\site-packages\\plotly\\express\\_core.py\", line 1207, in process_args_into_dataframe\n",
      "    raise ValueError(\n",
      "ValueError: All arguments should have the same length. The length of column argument `df[path_0]` is 22, whereas the length of  previously-processed arguments ['values'] is 1\n",
      "Exception on /_dash-update-component [POST]\n",
      "Traceback (most recent call last):\n",
      "  File \"C:\\Users\\beatr\\anaconda3\\lib\\site-packages\\flask\\app.py\", line 2447, in wsgi_app\n",
      "    response = self.full_dispatch_request()\n",
      "  File \"C:\\Users\\beatr\\anaconda3\\lib\\site-packages\\flask\\app.py\", line 1952, in full_dispatch_request\n",
      "    rv = self.handle_user_exception(e)\n",
      "  File \"C:\\Users\\beatr\\anaconda3\\lib\\site-packages\\flask\\app.py\", line 1821, in handle_user_exception\n",
      "    reraise(exc_type, exc_value, tb)\n",
      "  File \"C:\\Users\\beatr\\anaconda3\\lib\\site-packages\\flask\\_compat.py\", line 39, in reraise\n",
      "    raise value\n",
      "  File \"C:\\Users\\beatr\\anaconda3\\lib\\site-packages\\flask\\app.py\", line 1950, in full_dispatch_request\n",
      "    rv = self.dispatch_request()\n",
      "  File \"C:\\Users\\beatr\\anaconda3\\lib\\site-packages\\flask\\app.py\", line 1936, in dispatch_request\n",
      "    return self.view_functions[rule.endpoint](**req.view_args)\n",
      "  File \"C:\\Users\\beatr\\anaconda3\\lib\\site-packages\\dash\\dash.py\", line 1345, in dispatch\n",
      "    response.set_data(func(*args, outputs_list=outputs_list))\n",
      "  File \"C:\\Users\\beatr\\anaconda3\\lib\\site-packages\\dash\\_callback.py\", line 151, in add_context\n",
      "    output_value = func(*func_args, **func_kwargs)  # %% callback invoked %%\n",
      "  File \"<ipython-input-278-d2cfb6ae60dd>\", line 12, in update_treemap\n",
      "    fig = px.treemap(filtered_df, path=['Country or Area'],values=selected_var, color=selected_var, color_continuous_scale='brwnyl',\n",
      "  File \"C:\\Users\\beatr\\anaconda3\\lib\\site-packages\\plotly\\express\\_chart_types.py\", line 1473, in treemap\n",
      "    return make_figure(\n",
      "  File \"C:\\Users\\beatr\\anaconda3\\lib\\site-packages\\plotly\\express\\_core.py\", line 1879, in make_figure\n",
      "    args = build_dataframe(args, constructor)\n",
      "  File \"C:\\Users\\beatr\\anaconda3\\lib\\site-packages\\plotly\\express\\_core.py\", line 1399, in build_dataframe\n",
      "    df_output, wide_id_vars = process_args_into_dataframe(\n",
      "  File \"C:\\Users\\beatr\\anaconda3\\lib\\site-packages\\plotly\\express\\_core.py\", line 1207, in process_args_into_dataframe\n",
      "    raise ValueError(\n",
      "ValueError: All arguments should have the same length. The length of column argument `df[path_0]` is 22, whereas the length of  previously-processed arguments ['values'] is 1\n"
     ]
    },
    {
     "name": "stderr",
     "output_type": "stream",
     "text": [
      "127.0.0.1 - - [04/Apr/2022 21:50:04] \"\u001b[35m\u001b[1mPOST /_dash-update-component HTTP/1.1\u001b[0m\" 500 -\n"
     ]
    },
    {
     "name": "stdout",
     "output_type": "stream",
     "text": [
      "Exception on /_dash-update-component [POST]\n",
      "Traceback (most recent call last):\n",
      "  File \"C:\\Users\\beatr\\anaconda3\\lib\\site-packages\\flask\\app.py\", line 2447, in wsgi_app\n",
      "    response = self.full_dispatch_request()\n",
      "  File \"C:\\Users\\beatr\\anaconda3\\lib\\site-packages\\flask\\app.py\", line 1952, in full_dispatch_request\n",
      "    rv = self.handle_user_exception(e)\n",
      "  File \"C:\\Users\\beatr\\anaconda3\\lib\\site-packages\\flask\\app.py\", line 1821, in handle_user_exception\n",
      "    reraise(exc_type, exc_value, tb)\n",
      "  File \"C:\\Users\\beatr\\anaconda3\\lib\\site-packages\\flask\\_compat.py\", line 39, in reraise\n",
      "    raise value\n",
      "  File \"C:\\Users\\beatr\\anaconda3\\lib\\site-packages\\flask\\app.py\", line 1950, in full_dispatch_request\n",
      "    rv = self.dispatch_request()\n",
      "  File \"C:\\Users\\beatr\\anaconda3\\lib\\site-packages\\flask\\app.py\", line 1936, in dispatch_request\n",
      "    return self.view_functions[rule.endpoint](**req.view_args)\n",
      "  File \"C:\\Users\\beatr\\anaconda3\\lib\\site-packages\\dash\\dash.py\", line 1345, in dispatch\n",
      "    response.set_data(func(*args, outputs_list=outputs_list))\n",
      "  File \"C:\\Users\\beatr\\anaconda3\\lib\\site-packages\\dash\\_callback.py\", line 151, in add_context\n",
      "    output_value = func(*func_args, **func_kwargs)  # %% callback invoked %%\n",
      "  File \"<ipython-input-278-d2cfb6ae60dd>\", line 12, in update_treemap\n",
      "    fig = px.treemap(filtered_df, path=['Country or Area'],values=selected_var, color=selected_var, color_continuous_scale='brwnyl',\n",
      "  File \"C:\\Users\\beatr\\anaconda3\\lib\\site-packages\\plotly\\express\\_chart_types.py\", line 1473, in treemap\n",
      "    return make_figure(\n",
      "  File \"C:\\Users\\beatr\\anaconda3\\lib\\site-packages\\plotly\\express\\_core.py\", line 1879, in make_figure\n",
      "    args = build_dataframe(args, constructor)\n",
      "  File \"C:\\Users\\beatr\\anaconda3\\lib\\site-packages\\plotly\\express\\_core.py\", line 1399, in build_dataframe\n",
      "    df_output, wide_id_vars = process_args_into_dataframe(\n",
      "  File \"C:\\Users\\beatr\\anaconda3\\lib\\site-packages\\plotly\\express\\_core.py\", line 1207, in process_args_into_dataframe\n",
      "    raise ValueError(\n",
      "ValueError: All arguments should have the same length. The length of column argument `df[path_0]` is 27, whereas the length of  previously-processed arguments ['values'] is 1\n",
      "Exception on /_dash-update-component [POST]\n",
      "Traceback (most recent call last):\n",
      "  File \"C:\\Users\\beatr\\anaconda3\\lib\\site-packages\\flask\\app.py\", line 2447, in wsgi_app\n",
      "    response = self.full_dispatch_request()\n",
      "  File \"C:\\Users\\beatr\\anaconda3\\lib\\site-packages\\flask\\app.py\", line 1952, in full_dispatch_request\n",
      "    rv = self.handle_user_exception(e)\n",
      "  File \"C:\\Users\\beatr\\anaconda3\\lib\\site-packages\\flask\\app.py\", line 1821, in handle_user_exception\n",
      "    reraise(exc_type, exc_value, tb)\n",
      "  File \"C:\\Users\\beatr\\anaconda3\\lib\\site-packages\\flask\\_compat.py\", line 39, in reraise\n",
      "    raise value\n",
      "  File \"C:\\Users\\beatr\\anaconda3\\lib\\site-packages\\flask\\app.py\", line 1950, in full_dispatch_request\n",
      "    rv = self.dispatch_request()\n",
      "  File \"C:\\Users\\beatr\\anaconda3\\lib\\site-packages\\flask\\app.py\", line 1936, in dispatch_request\n",
      "    return self.view_functions[rule.endpoint](**req.view_args)\n",
      "  File \"C:\\Users\\beatr\\anaconda3\\lib\\site-packages\\dash\\dash.py\", line 1345, in dispatch\n",
      "    response.set_data(func(*args, outputs_list=outputs_list))\n",
      "  File \"C:\\Users\\beatr\\anaconda3\\lib\\site-packages\\dash\\_callback.py\", line 151, in add_context\n",
      "    output_value = func(*func_args, **func_kwargs)  # %% callback invoked %%\n",
      "  File \"<ipython-input-278-d2cfb6ae60dd>\", line 12, in update_treemap\n",
      "    fig = px.treemap(filtered_df, path=['Country or Area'],values=selected_var, color=selected_var, color_continuous_scale='brwnyl',\n",
      "  File \"C:\\Users\\beatr\\anaconda3\\lib\\site-packages\\plotly\\express\\_chart_types.py\", line 1473, in treemap\n",
      "    return make_figure(\n",
      "  File \"C:\\Users\\beatr\\anaconda3\\lib\\site-packages\\plotly\\express\\_core.py\", line 1879, in make_figure\n",
      "    args = build_dataframe(args, constructor)\n",
      "  File \"C:\\Users\\beatr\\anaconda3\\lib\\site-packages\\plotly\\express\\_core.py\", line 1399, in build_dataframe\n",
      "    df_output, wide_id_vars = process_args_into_dataframe(\n",
      "  File \"C:\\Users\\beatr\\anaconda3\\lib\\site-packages\\plotly\\express\\_core.py\", line 1207, in process_args_into_dataframe\n",
      "    raise ValueError(\n",
      "ValueError: All arguments should have the same length. The length of column argument `df[path_0]` is 27, whereas the length of  previously-processed arguments ['values'] is 1\n",
      "Exception on /_dash-update-component [POST]\n",
      "Traceback (most recent call last):\n",
      "  File \"C:\\Users\\beatr\\anaconda3\\lib\\site-packages\\flask\\app.py\", line 2447, in wsgi_app\n",
      "    response = self.full_dispatch_request()\n",
      "  File \"C:\\Users\\beatr\\anaconda3\\lib\\site-packages\\flask\\app.py\", line 1952, in full_dispatch_request\n",
      "    rv = self.handle_user_exception(e)\n",
      "  File \"C:\\Users\\beatr\\anaconda3\\lib\\site-packages\\flask\\app.py\", line 1821, in handle_user_exception\n",
      "    reraise(exc_type, exc_value, tb)\n",
      "  File \"C:\\Users\\beatr\\anaconda3\\lib\\site-packages\\flask\\_compat.py\", line 39, in reraise\n",
      "    raise value\n",
      "  File \"C:\\Users\\beatr\\anaconda3\\lib\\site-packages\\flask\\app.py\", line 1950, in full_dispatch_request\n",
      "    rv = self.dispatch_request()\n",
      "  File \"C:\\Users\\beatr\\anaconda3\\lib\\site-packages\\flask\\app.py\", line 1936, in dispatch_request\n",
      "    return self.view_functions[rule.endpoint](**req.view_args)\n",
      "  File \"C:\\Users\\beatr\\anaconda3\\lib\\site-packages\\dash\\dash.py\", line 1345, in dispatch\n",
      "    response.set_data(func(*args, outputs_list=outputs_list))\n",
      "  File \"C:\\Users\\beatr\\anaconda3\\lib\\site-packages\\dash\\_callback.py\", line 151, in add_context\n",
      "    output_value = func(*func_args, **func_kwargs)  # %% callback invoked %%\n",
      "  File \"<ipython-input-278-d2cfb6ae60dd>\", line 12, in update_treemap\n",
      "    fig = px.treemap(filtered_df, path=['Country or Area'],values=selected_var, color=selected_var, color_continuous_scale='brwnyl',\n",
      "  File \"C:\\Users\\beatr\\anaconda3\\lib\\site-packages\\plotly\\express\\_chart_types.py\", line 1473, in treemap\n",
      "    return make_figure(\n",
      "  File \"C:\\Users\\beatr\\anaconda3\\lib\\site-packages\\plotly\\express\\_core.py\", line 1879, in make_figure\n",
      "    args = build_dataframe(args, constructor)\n",
      "  File \"C:\\Users\\beatr\\anaconda3\\lib\\site-packages\\plotly\\express\\_core.py\", line 1399, in build_dataframe\n",
      "    df_output, wide_id_vars = process_args_into_dataframe(\n",
      "  File \"C:\\Users\\beatr\\anaconda3\\lib\\site-packages\\plotly\\express\\_core.py\", line 1207, in process_args_into_dataframe\n",
      "    raise ValueError(\n",
      "ValueError: All arguments should have the same length. The length of column argument `df[path_0]` is 27, whereas the length of  previously-processed arguments ['values'] is 1\n",
      "Exception on /_dash-update-component [POST]\n",
      "Traceback (most recent call last):\n",
      "  File \"C:\\Users\\beatr\\anaconda3\\lib\\site-packages\\flask\\app.py\", line 2447, in wsgi_app\n",
      "    response = self.full_dispatch_request()\n",
      "  File \"C:\\Users\\beatr\\anaconda3\\lib\\site-packages\\flask\\app.py\", line 1952, in full_dispatch_request\n",
      "    rv = self.handle_user_exception(e)\n",
      "  File \"C:\\Users\\beatr\\anaconda3\\lib\\site-packages\\flask\\app.py\", line 1821, in handle_user_exception\n",
      "    reraise(exc_type, exc_value, tb)\n",
      "  File \"C:\\Users\\beatr\\anaconda3\\lib\\site-packages\\flask\\_compat.py\", line 39, in reraise\n",
      "    raise value\n",
      "  File \"C:\\Users\\beatr\\anaconda3\\lib\\site-packages\\flask\\app.py\", line 1950, in full_dispatch_request\n",
      "    rv = self.dispatch_request()\n",
      "  File \"C:\\Users\\beatr\\anaconda3\\lib\\site-packages\\flask\\app.py\", line 1936, in dispatch_request\n",
      "    return self.view_functions[rule.endpoint](**req.view_args)\n",
      "  File \"C:\\Users\\beatr\\anaconda3\\lib\\site-packages\\dash\\dash.py\", line 1345, in dispatch\n",
      "    response.set_data(func(*args, outputs_list=outputs_list))\n",
      "  File \"C:\\Users\\beatr\\anaconda3\\lib\\site-packages\\dash\\_callback.py\", line 151, in add_context\n",
      "    output_value = func(*func_args, **func_kwargs)  # %% callback invoked %%\n",
      "  File \"<ipython-input-278-d2cfb6ae60dd>\", line 12, in update_treemap\n",
      "    fig = px.treemap(filtered_df, path=['Country or Area'],values=selected_var, color=selected_var, color_continuous_scale='brwnyl',\n",
      "  File \"C:\\Users\\beatr\\anaconda3\\lib\\site-packages\\plotly\\express\\_chart_types.py\", line 1473, in treemap\n",
      "    return make_figure(\n",
      "  File \"C:\\Users\\beatr\\anaconda3\\lib\\site-packages\\plotly\\express\\_core.py\", line 1879, in make_figure\n",
      "    args = build_dataframe(args, constructor)\n",
      "  File \"C:\\Users\\beatr\\anaconda3\\lib\\site-packages\\plotly\\express\\_core.py\", line 1399, in build_dataframe\n",
      "    df_output, wide_id_vars = process_args_into_dataframe(\n",
      "  File \"C:\\Users\\beatr\\anaconda3\\lib\\site-packages\\plotly\\express\\_core.py\", line 1207, in process_args_into_dataframe\n",
      "    raise ValueError(\n",
      "ValueError: All arguments should have the same length. The length of column argument `df[path_0]` is 27, whereas the length of  previously-processed arguments ['values'] is 1\n",
      "Exception on /_dash-update-component [POST]\n",
      "Traceback (most recent call last):\n",
      "  File \"C:\\Users\\beatr\\anaconda3\\lib\\site-packages\\flask\\app.py\", line 2447, in wsgi_app\n",
      "    response = self.full_dispatch_request()\n",
      "  File \"C:\\Users\\beatr\\anaconda3\\lib\\site-packages\\flask\\app.py\", line 1952, in full_dispatch_request\n",
      "    rv = self.handle_user_exception(e)\n",
      "  File \"C:\\Users\\beatr\\anaconda3\\lib\\site-packages\\flask\\app.py\", line 1821, in handle_user_exception\n",
      "    reraise(exc_type, exc_value, tb)\n",
      "  File \"C:\\Users\\beatr\\anaconda3\\lib\\site-packages\\flask\\_compat.py\", line 39, in reraise\n",
      "    raise value\n",
      "  File \"C:\\Users\\beatr\\anaconda3\\lib\\site-packages\\flask\\app.py\", line 1950, in full_dispatch_request\n",
      "    rv = self.dispatch_request()\n",
      "  File \"C:\\Users\\beatr\\anaconda3\\lib\\site-packages\\flask\\app.py\", line 1936, in dispatch_request\n",
      "    return self.view_functions[rule.endpoint](**req.view_args)\n",
      "  File \"C:\\Users\\beatr\\anaconda3\\lib\\site-packages\\dash\\dash.py\", line 1345, in dispatch\n",
      "    response.set_data(func(*args, outputs_list=outputs_list))\n",
      "  File \"C:\\Users\\beatr\\anaconda3\\lib\\site-packages\\dash\\_callback.py\", line 151, in add_context\n",
      "    output_value = func(*func_args, **func_kwargs)  # %% callback invoked %%\n",
      "  File \"<ipython-input-278-d2cfb6ae60dd>\", line 12, in update_treemap\n",
      "    fig = px.treemap(filtered_df, path=['Country or Area'],values=selected_var, color=selected_var, color_continuous_scale='brwnyl',\n",
      "  File \"C:\\Users\\beatr\\anaconda3\\lib\\site-packages\\plotly\\express\\_chart_types.py\", line 1473, in treemap\n",
      "    return make_figure(\n",
      "  File \"C:\\Users\\beatr\\anaconda3\\lib\\site-packages\\plotly\\express\\_core.py\", line 1879, in make_figure\n",
      "    args = build_dataframe(args, constructor)\n",
      "  File \"C:\\Users\\beatr\\anaconda3\\lib\\site-packages\\plotly\\express\\_core.py\", line 1399, in build_dataframe\n",
      "    df_output, wide_id_vars = process_args_into_dataframe(\n",
      "  File \"C:\\Users\\beatr\\anaconda3\\lib\\site-packages\\plotly\\express\\_core.py\", line 1207, in process_args_into_dataframe\n",
      "    raise ValueError(\n",
      "ValueError: All arguments should have the same length. The length of column argument `df[path_0]` is 27, whereas the length of  previously-processed arguments ['values'] is 1\n",
      "Exception on /_dash-update-component [POST]\n",
      "Traceback (most recent call last):\n",
      "  File \"C:\\Users\\beatr\\anaconda3\\lib\\site-packages\\flask\\app.py\", line 2447, in wsgi_app\n",
      "    response = self.full_dispatch_request()\n",
      "  File \"C:\\Users\\beatr\\anaconda3\\lib\\site-packages\\flask\\app.py\", line 1952, in full_dispatch_request\n",
      "    rv = self.handle_user_exception(e)\n",
      "  File \"C:\\Users\\beatr\\anaconda3\\lib\\site-packages\\flask\\app.py\", line 1821, in handle_user_exception\n",
      "    reraise(exc_type, exc_value, tb)\n",
      "  File \"C:\\Users\\beatr\\anaconda3\\lib\\site-packages\\flask\\_compat.py\", line 39, in reraise\n",
      "    raise value\n",
      "  File \"C:\\Users\\beatr\\anaconda3\\lib\\site-packages\\flask\\app.py\", line 1950, in full_dispatch_request\n",
      "    rv = self.dispatch_request()\n",
      "  File \"C:\\Users\\beatr\\anaconda3\\lib\\site-packages\\flask\\app.py\", line 1936, in dispatch_request\n",
      "    return self.view_functions[rule.endpoint](**req.view_args)\n",
      "  File \"C:\\Users\\beatr\\anaconda3\\lib\\site-packages\\dash\\dash.py\", line 1345, in dispatch\n",
      "    response.set_data(func(*args, outputs_list=outputs_list))\n",
      "  File \"C:\\Users\\beatr\\anaconda3\\lib\\site-packages\\dash\\_callback.py\", line 151, in add_context\n",
      "    output_value = func(*func_args, **func_kwargs)  # %% callback invoked %%\n",
      "  File \"<ipython-input-278-d2cfb6ae60dd>\", line 12, in update_treemap\n",
      "    fig = px.treemap(filtered_df, path=['Country or Area'],values=selected_var, color=selected_var, color_continuous_scale='brwnyl',\n",
      "  File \"C:\\Users\\beatr\\anaconda3\\lib\\site-packages\\plotly\\express\\_chart_types.py\", line 1473, in treemap\n",
      "    return make_figure(\n",
      "  File \"C:\\Users\\beatr\\anaconda3\\lib\\site-packages\\plotly\\express\\_core.py\", line 1879, in make_figure\n",
      "    args = build_dataframe(args, constructor)\n",
      "  File \"C:\\Users\\beatr\\anaconda3\\lib\\site-packages\\plotly\\express\\_core.py\", line 1399, in build_dataframe\n",
      "    df_output, wide_id_vars = process_args_into_dataframe(\n",
      "  File \"C:\\Users\\beatr\\anaconda3\\lib\\site-packages\\plotly\\express\\_core.py\", line 1207, in process_args_into_dataframe\n",
      "    raise ValueError(\n",
      "ValueError: All arguments should have the same length. The length of column argument `df[path_0]` is 27, whereas the length of  previously-processed arguments ['values'] is 1\n",
      "Exception on /_dash-update-component [POST]\n",
      "Traceback (most recent call last):\n",
      "  File \"C:\\Users\\beatr\\anaconda3\\lib\\site-packages\\flask\\app.py\", line 2447, in wsgi_app\n",
      "    response = self.full_dispatch_request()\n",
      "  File \"C:\\Users\\beatr\\anaconda3\\lib\\site-packages\\flask\\app.py\", line 1952, in full_dispatch_request\n",
      "    rv = self.handle_user_exception(e)\n",
      "  File \"C:\\Users\\beatr\\anaconda3\\lib\\site-packages\\flask\\app.py\", line 1821, in handle_user_exception\n",
      "    reraise(exc_type, exc_value, tb)\n",
      "  File \"C:\\Users\\beatr\\anaconda3\\lib\\site-packages\\flask\\_compat.py\", line 39, in reraise\n",
      "    raise value\n",
      "  File \"C:\\Users\\beatr\\anaconda3\\lib\\site-packages\\flask\\app.py\", line 1950, in full_dispatch_request\n",
      "    rv = self.dispatch_request()\n",
      "  File \"C:\\Users\\beatr\\anaconda3\\lib\\site-packages\\flask\\app.py\", line 1936, in dispatch_request\n",
      "    return self.view_functions[rule.endpoint](**req.view_args)\n",
      "  File \"C:\\Users\\beatr\\anaconda3\\lib\\site-packages\\dash\\dash.py\", line 1345, in dispatch\n",
      "    response.set_data(func(*args, outputs_list=outputs_list))\n",
      "  File \"C:\\Users\\beatr\\anaconda3\\lib\\site-packages\\dash\\_callback.py\", line 151, in add_context\n",
      "    output_value = func(*func_args, **func_kwargs)  # %% callback invoked %%\n",
      "  File \"<ipython-input-278-d2cfb6ae60dd>\", line 12, in update_treemap\n",
      "    fig = px.treemap(filtered_df, path=['Country or Area'],values=selected_var, color=selected_var, color_continuous_scale='brwnyl',\n",
      "  File \"C:\\Users\\beatr\\anaconda3\\lib\\site-packages\\plotly\\express\\_chart_types.py\", line 1473, in treemap\n",
      "    return make_figure(\n",
      "  File \"C:\\Users\\beatr\\anaconda3\\lib\\site-packages\\plotly\\express\\_core.py\", line 1879, in make_figure\n",
      "    args = build_dataframe(args, constructor)\n",
      "  File \"C:\\Users\\beatr\\anaconda3\\lib\\site-packages\\plotly\\express\\_core.py\", line 1399, in build_dataframe\n",
      "    df_output, wide_id_vars = process_args_into_dataframe(\n",
      "  File \"C:\\Users\\beatr\\anaconda3\\lib\\site-packages\\plotly\\express\\_core.py\", line 1207, in process_args_into_dataframe\n",
      "    raise ValueError(\n",
      "ValueError: All arguments should have the same length. The length of column argument `df[path_0]` is 27, whereas the length of  previously-processed arguments ['values'] is 1\n",
      "Exception on /_dash-update-component [POST]\n",
      "Traceback (most recent call last):\n",
      "  File \"C:\\Users\\beatr\\anaconda3\\lib\\site-packages\\flask\\app.py\", line 2447, in wsgi_app\n",
      "    response = self.full_dispatch_request()\n",
      "  File \"C:\\Users\\beatr\\anaconda3\\lib\\site-packages\\flask\\app.py\", line 1952, in full_dispatch_request\n",
      "    rv = self.handle_user_exception(e)\n",
      "  File \"C:\\Users\\beatr\\anaconda3\\lib\\site-packages\\flask\\app.py\", line 1821, in handle_user_exception\n",
      "    reraise(exc_type, exc_value, tb)\n",
      "  File \"C:\\Users\\beatr\\anaconda3\\lib\\site-packages\\flask\\_compat.py\", line 39, in reraise\n",
      "    raise value\n",
      "  File \"C:\\Users\\beatr\\anaconda3\\lib\\site-packages\\flask\\app.py\", line 1950, in full_dispatch_request\n",
      "    rv = self.dispatch_request()\n",
      "  File \"C:\\Users\\beatr\\anaconda3\\lib\\site-packages\\flask\\app.py\", line 1936, in dispatch_request\n",
      "    return self.view_functions[rule.endpoint](**req.view_args)\n",
      "  File \"C:\\Users\\beatr\\anaconda3\\lib\\site-packages\\dash\\dash.py\", line 1345, in dispatch\n",
      "    response.set_data(func(*args, outputs_list=outputs_list))\n",
      "  File \"C:\\Users\\beatr\\anaconda3\\lib\\site-packages\\dash\\_callback.py\", line 151, in add_context\n",
      "    output_value = func(*func_args, **func_kwargs)  # %% callback invoked %%\n",
      "  File \"<ipython-input-278-d2cfb6ae60dd>\", line 12, in update_treemap\n",
      "    fig = px.treemap(filtered_df, path=['Country or Area'],values=selected_var, color=selected_var, color_continuous_scale='brwnyl',\n",
      "  File \"C:\\Users\\beatr\\anaconda3\\lib\\site-packages\\plotly\\express\\_chart_types.py\", line 1473, in treemap\n",
      "    return make_figure(\n",
      "  File \"C:\\Users\\beatr\\anaconda3\\lib\\site-packages\\plotly\\express\\_core.py\", line 1879, in make_figure\n",
      "    args = build_dataframe(args, constructor)\n",
      "  File \"C:\\Users\\beatr\\anaconda3\\lib\\site-packages\\plotly\\express\\_core.py\", line 1399, in build_dataframe\n",
      "    df_output, wide_id_vars = process_args_into_dataframe(\n",
      "  File \"C:\\Users\\beatr\\anaconda3\\lib\\site-packages\\plotly\\express\\_core.py\", line 1207, in process_args_into_dataframe\n",
      "    raise ValueError(\n",
      "ValueError: All arguments should have the same length. The length of column argument `df[path_0]` is 27, whereas the length of  previously-processed arguments ['values'] is 1\n",
      "Exception on /_dash-update-component [POST]\n",
      "Traceback (most recent call last):\n",
      "  File \"C:\\Users\\beatr\\anaconda3\\lib\\site-packages\\flask\\app.py\", line 2447, in wsgi_app\n",
      "    response = self.full_dispatch_request()\n",
      "  File \"C:\\Users\\beatr\\anaconda3\\lib\\site-packages\\flask\\app.py\", line 1952, in full_dispatch_request\n",
      "    rv = self.handle_user_exception(e)\n",
      "  File \"C:\\Users\\beatr\\anaconda3\\lib\\site-packages\\flask\\app.py\", line 1821, in handle_user_exception\n",
      "    reraise(exc_type, exc_value, tb)\n",
      "  File \"C:\\Users\\beatr\\anaconda3\\lib\\site-packages\\flask\\_compat.py\", line 39, in reraise\n",
      "    raise value\n",
      "  File \"C:\\Users\\beatr\\anaconda3\\lib\\site-packages\\flask\\app.py\", line 1950, in full_dispatch_request\n",
      "    rv = self.dispatch_request()\n",
      "  File \"C:\\Users\\beatr\\anaconda3\\lib\\site-packages\\flask\\app.py\", line 1936, in dispatch_request\n",
      "    return self.view_functions[rule.endpoint](**req.view_args)\n",
      "  File \"C:\\Users\\beatr\\anaconda3\\lib\\site-packages\\dash\\dash.py\", line 1345, in dispatch\n",
      "    response.set_data(func(*args, outputs_list=outputs_list))\n",
      "  File \"C:\\Users\\beatr\\anaconda3\\lib\\site-packages\\dash\\_callback.py\", line 151, in add_context\n",
      "    output_value = func(*func_args, **func_kwargs)  # %% callback invoked %%\n",
      "  File \"<ipython-input-278-d2cfb6ae60dd>\", line 12, in update_treemap\n",
      "    fig = px.treemap(filtered_df, path=['Country or Area'],values=selected_var, color=selected_var, color_continuous_scale='brwnyl',\n",
      "  File \"C:\\Users\\beatr\\anaconda3\\lib\\site-packages\\plotly\\express\\_chart_types.py\", line 1473, in treemap\n",
      "    return make_figure(\n",
      "  File \"C:\\Users\\beatr\\anaconda3\\lib\\site-packages\\plotly\\express\\_core.py\", line 1879, in make_figure\n",
      "    args = build_dataframe(args, constructor)\n",
      "  File \"C:\\Users\\beatr\\anaconda3\\lib\\site-packages\\plotly\\express\\_core.py\", line 1399, in build_dataframe\n",
      "    df_output, wide_id_vars = process_args_into_dataframe(\n",
      "  File \"C:\\Users\\beatr\\anaconda3\\lib\\site-packages\\plotly\\express\\_core.py\", line 1207, in process_args_into_dataframe\n",
      "    raise ValueError(\n",
      "ValueError: All arguments should have the same length. The length of column argument `df[path_0]` is 27, whereas the length of  previously-processed arguments ['values'] is 1\n",
      "Exception on /_dash-update-component [POST]\n",
      "Traceback (most recent call last):\n",
      "  File \"C:\\Users\\beatr\\anaconda3\\lib\\site-packages\\flask\\app.py\", line 2447, in wsgi_app\n",
      "    response = self.full_dispatch_request()\n",
      "  File \"C:\\Users\\beatr\\anaconda3\\lib\\site-packages\\flask\\app.py\", line 1952, in full_dispatch_request\n",
      "    rv = self.handle_user_exception(e)\n",
      "  File \"C:\\Users\\beatr\\anaconda3\\lib\\site-packages\\flask\\app.py\", line 1821, in handle_user_exception\n",
      "    reraise(exc_type, exc_value, tb)\n",
      "  File \"C:\\Users\\beatr\\anaconda3\\lib\\site-packages\\flask\\_compat.py\", line 39, in reraise\n",
      "    raise value\n",
      "  File \"C:\\Users\\beatr\\anaconda3\\lib\\site-packages\\flask\\app.py\", line 1950, in full_dispatch_request\n",
      "    rv = self.dispatch_request()\n",
      "  File \"C:\\Users\\beatr\\anaconda3\\lib\\site-packages\\flask\\app.py\", line 1936, in dispatch_request\n",
      "    return self.view_functions[rule.endpoint](**req.view_args)\n",
      "  File \"C:\\Users\\beatr\\anaconda3\\lib\\site-packages\\dash\\dash.py\", line 1345, in dispatch\n",
      "    response.set_data(func(*args, outputs_list=outputs_list))\n",
      "  File \"C:\\Users\\beatr\\anaconda3\\lib\\site-packages\\dash\\_callback.py\", line 151, in add_context\n",
      "    output_value = func(*func_args, **func_kwargs)  # %% callback invoked %%\n",
      "  File \"<ipython-input-278-d2cfb6ae60dd>\", line 12, in update_treemap\n",
      "    fig = px.treemap(filtered_df, path=['Country or Area'],values=selected_var, color=selected_var, color_continuous_scale='brwnyl',\n",
      "  File \"C:\\Users\\beatr\\anaconda3\\lib\\site-packages\\plotly\\express\\_chart_types.py\", line 1473, in treemap\n",
      "    return make_figure(\n",
      "  File \"C:\\Users\\beatr\\anaconda3\\lib\\site-packages\\plotly\\express\\_core.py\", line 1879, in make_figure\n",
      "    args = build_dataframe(args, constructor)\n",
      "  File \"C:\\Users\\beatr\\anaconda3\\lib\\site-packages\\plotly\\express\\_core.py\", line 1399, in build_dataframe\n",
      "    df_output, wide_id_vars = process_args_into_dataframe(\n",
      "  File \"C:\\Users\\beatr\\anaconda3\\lib\\site-packages\\plotly\\express\\_core.py\", line 1207, in process_args_into_dataframe\n",
      "    raise ValueError(\n",
      "ValueError: All arguments should have the same length. The length of column argument `df[path_0]` is 27, whereas the length of  previously-processed arguments ['values'] is 1\n",
      "Exception on /_dash-update-component [POST]\n",
      "Traceback (most recent call last):\n",
      "  File \"C:\\Users\\beatr\\anaconda3\\lib\\site-packages\\flask\\app.py\", line 2447, in wsgi_app\n",
      "    response = self.full_dispatch_request()\n",
      "  File \"C:\\Users\\beatr\\anaconda3\\lib\\site-packages\\flask\\app.py\", line 1952, in full_dispatch_request\n",
      "    rv = self.handle_user_exception(e)\n",
      "  File \"C:\\Users\\beatr\\anaconda3\\lib\\site-packages\\flask\\app.py\", line 1821, in handle_user_exception\n",
      "    reraise(exc_type, exc_value, tb)\n",
      "  File \"C:\\Users\\beatr\\anaconda3\\lib\\site-packages\\flask\\_compat.py\", line 39, in reraise\n",
      "    raise value\n",
      "  File \"C:\\Users\\beatr\\anaconda3\\lib\\site-packages\\flask\\app.py\", line 1950, in full_dispatch_request\n",
      "    rv = self.dispatch_request()\n",
      "  File \"C:\\Users\\beatr\\anaconda3\\lib\\site-packages\\flask\\app.py\", line 1936, in dispatch_request\n",
      "    return self.view_functions[rule.endpoint](**req.view_args)\n",
      "  File \"C:\\Users\\beatr\\anaconda3\\lib\\site-packages\\dash\\dash.py\", line 1345, in dispatch\n",
      "    response.set_data(func(*args, outputs_list=outputs_list))\n",
      "  File \"C:\\Users\\beatr\\anaconda3\\lib\\site-packages\\dash\\_callback.py\", line 151, in add_context\n",
      "    output_value = func(*func_args, **func_kwargs)  # %% callback invoked %%\n",
      "  File \"<ipython-input-278-d2cfb6ae60dd>\", line 12, in update_treemap\n",
      "    fig = px.treemap(filtered_df, path=['Country or Area'],values=selected_var, color=selected_var, color_continuous_scale='brwnyl',\n",
      "  File \"C:\\Users\\beatr\\anaconda3\\lib\\site-packages\\plotly\\express\\_chart_types.py\", line 1473, in treemap\n",
      "    return make_figure(\n",
      "  File \"C:\\Users\\beatr\\anaconda3\\lib\\site-packages\\plotly\\express\\_core.py\", line 1879, in make_figure\n",
      "    args = build_dataframe(args, constructor)\n",
      "  File \"C:\\Users\\beatr\\anaconda3\\lib\\site-packages\\plotly\\express\\_core.py\", line 1399, in build_dataframe\n",
      "    df_output, wide_id_vars = process_args_into_dataframe(\n",
      "  File \"C:\\Users\\beatr\\anaconda3\\lib\\site-packages\\plotly\\express\\_core.py\", line 1207, in process_args_into_dataframe\n",
      "    raise ValueError(\n",
      "ValueError: All arguments should have the same length. The length of column argument `df[path_0]` is 27, whereas the length of  previously-processed arguments ['values'] is 1\n",
      "Exception on /_dash-update-component [POST]\n",
      "Traceback (most recent call last):\n",
      "  File \"C:\\Users\\beatr\\anaconda3\\lib\\site-packages\\flask\\app.py\", line 2447, in wsgi_app\n",
      "    response = self.full_dispatch_request()\n",
      "  File \"C:\\Users\\beatr\\anaconda3\\lib\\site-packages\\flask\\app.py\", line 1952, in full_dispatch_request\n",
      "    rv = self.handle_user_exception(e)\n",
      "  File \"C:\\Users\\beatr\\anaconda3\\lib\\site-packages\\flask\\app.py\", line 1821, in handle_user_exception\n",
      "    reraise(exc_type, exc_value, tb)\n",
      "  File \"C:\\Users\\beatr\\anaconda3\\lib\\site-packages\\flask\\_compat.py\", line 39, in reraise\n",
      "    raise value\n",
      "  File \"C:\\Users\\beatr\\anaconda3\\lib\\site-packages\\flask\\app.py\", line 1950, in full_dispatch_request\n",
      "    rv = self.dispatch_request()\n",
      "  File \"C:\\Users\\beatr\\anaconda3\\lib\\site-packages\\flask\\app.py\", line 1936, in dispatch_request\n",
      "    return self.view_functions[rule.endpoint](**req.view_args)\n",
      "  File \"C:\\Users\\beatr\\anaconda3\\lib\\site-packages\\dash\\dash.py\", line 1345, in dispatch\n",
      "    response.set_data(func(*args, outputs_list=outputs_list))\n",
      "  File \"C:\\Users\\beatr\\anaconda3\\lib\\site-packages\\dash\\_callback.py\", line 151, in add_context\n",
      "    output_value = func(*func_args, **func_kwargs)  # %% callback invoked %%\n",
      "  File \"<ipython-input-278-d2cfb6ae60dd>\", line 12, in update_treemap\n",
      "    fig = px.treemap(filtered_df, path=['Country or Area'],values=selected_var, color=selected_var, color_continuous_scale='brwnyl',\n",
      "  File \"C:\\Users\\beatr\\anaconda3\\lib\\site-packages\\plotly\\express\\_chart_types.py\", line 1473, in treemap\n",
      "    return make_figure(\n",
      "  File \"C:\\Users\\beatr\\anaconda3\\lib\\site-packages\\plotly\\express\\_core.py\", line 1879, in make_figure\n",
      "    args = build_dataframe(args, constructor)\n",
      "  File \"C:\\Users\\beatr\\anaconda3\\lib\\site-packages\\plotly\\express\\_core.py\", line 1399, in build_dataframe\n",
      "    df_output, wide_id_vars = process_args_into_dataframe(\n",
      "  File \"C:\\Users\\beatr\\anaconda3\\lib\\site-packages\\plotly\\express\\_core.py\", line 1207, in process_args_into_dataframe\n",
      "    raise ValueError(\n",
      "ValueError: All arguments should have the same length. The length of column argument `df[path_0]` is 27, whereas the length of  previously-processed arguments ['values'] is 1\n",
      "Exception on /_dash-update-component [POST]\n",
      "Traceback (most recent call last):\n",
      "  File \"C:\\Users\\beatr\\anaconda3\\lib\\site-packages\\flask\\app.py\", line 2447, in wsgi_app\n",
      "    response = self.full_dispatch_request()\n",
      "  File \"C:\\Users\\beatr\\anaconda3\\lib\\site-packages\\flask\\app.py\", line 1952, in full_dispatch_request\n",
      "    rv = self.handle_user_exception(e)\n",
      "  File \"C:\\Users\\beatr\\anaconda3\\lib\\site-packages\\flask\\app.py\", line 1821, in handle_user_exception\n",
      "    reraise(exc_type, exc_value, tb)\n",
      "  File \"C:\\Users\\beatr\\anaconda3\\lib\\site-packages\\flask\\_compat.py\", line 39, in reraise\n",
      "    raise value\n",
      "  File \"C:\\Users\\beatr\\anaconda3\\lib\\site-packages\\flask\\app.py\", line 1950, in full_dispatch_request\n",
      "    rv = self.dispatch_request()\n",
      "  File \"C:\\Users\\beatr\\anaconda3\\lib\\site-packages\\flask\\app.py\", line 1936, in dispatch_request\n",
      "    return self.view_functions[rule.endpoint](**req.view_args)\n",
      "  File \"C:\\Users\\beatr\\anaconda3\\lib\\site-packages\\dash\\dash.py\", line 1345, in dispatch\n",
      "    response.set_data(func(*args, outputs_list=outputs_list))\n",
      "  File \"C:\\Users\\beatr\\anaconda3\\lib\\site-packages\\dash\\_callback.py\", line 151, in add_context\n",
      "    output_value = func(*func_args, **func_kwargs)  # %% callback invoked %%\n",
      "  File \"<ipython-input-278-d2cfb6ae60dd>\", line 12, in update_treemap\n",
      "    fig = px.treemap(filtered_df, path=['Country or Area'],values=selected_var, color=selected_var, color_continuous_scale='brwnyl',\n",
      "  File \"C:\\Users\\beatr\\anaconda3\\lib\\site-packages\\plotly\\express\\_chart_types.py\", line 1473, in treemap\n",
      "    return make_figure(\n",
      "  File \"C:\\Users\\beatr\\anaconda3\\lib\\site-packages\\plotly\\express\\_core.py\", line 1879, in make_figure\n",
      "    args = build_dataframe(args, constructor)\n",
      "  File \"C:\\Users\\beatr\\anaconda3\\lib\\site-packages\\plotly\\express\\_core.py\", line 1399, in build_dataframe\n",
      "    df_output, wide_id_vars = process_args_into_dataframe(\n",
      "  File \"C:\\Users\\beatr\\anaconda3\\lib\\site-packages\\plotly\\express\\_core.py\", line 1207, in process_args_into_dataframe\n",
      "    raise ValueError(\n",
      "ValueError: All arguments should have the same length. The length of column argument `df[path_0]` is 27, whereas the length of  previously-processed arguments ['values'] is 1\n",
      "Exception on /_dash-update-component [POST]\n",
      "Traceback (most recent call last):\n",
      "  File \"C:\\Users\\beatr\\anaconda3\\lib\\site-packages\\flask\\app.py\", line 2447, in wsgi_app\n",
      "    response = self.full_dispatch_request()\n",
      "  File \"C:\\Users\\beatr\\anaconda3\\lib\\site-packages\\flask\\app.py\", line 1952, in full_dispatch_request\n",
      "    rv = self.handle_user_exception(e)\n",
      "  File \"C:\\Users\\beatr\\anaconda3\\lib\\site-packages\\flask\\app.py\", line 1821, in handle_user_exception\n",
      "    reraise(exc_type, exc_value, tb)\n",
      "  File \"C:\\Users\\beatr\\anaconda3\\lib\\site-packages\\flask\\_compat.py\", line 39, in reraise\n",
      "    raise value\n",
      "  File \"C:\\Users\\beatr\\anaconda3\\lib\\site-packages\\flask\\app.py\", line 1950, in full_dispatch_request\n",
      "    rv = self.dispatch_request()\n",
      "  File \"C:\\Users\\beatr\\anaconda3\\lib\\site-packages\\flask\\app.py\", line 1936, in dispatch_request\n",
      "    return self.view_functions[rule.endpoint](**req.view_args)\n",
      "  File \"C:\\Users\\beatr\\anaconda3\\lib\\site-packages\\dash\\dash.py\", line 1345, in dispatch\n",
      "    response.set_data(func(*args, outputs_list=outputs_list))\n",
      "  File \"C:\\Users\\beatr\\anaconda3\\lib\\site-packages\\dash\\_callback.py\", line 151, in add_context\n",
      "    output_value = func(*func_args, **func_kwargs)  # %% callback invoked %%\n",
      "  File \"<ipython-input-278-d2cfb6ae60dd>\", line 12, in update_treemap\n",
      "    fig = px.treemap(filtered_df, path=['Country or Area'],values=selected_var, color=selected_var, color_continuous_scale='brwnyl',\n",
      "  File \"C:\\Users\\beatr\\anaconda3\\lib\\site-packages\\plotly\\express\\_chart_types.py\", line 1473, in treemap\n",
      "    return make_figure(\n",
      "  File \"C:\\Users\\beatr\\anaconda3\\lib\\site-packages\\plotly\\express\\_core.py\", line 1879, in make_figure\n",
      "    args = build_dataframe(args, constructor)\n",
      "  File \"C:\\Users\\beatr\\anaconda3\\lib\\site-packages\\plotly\\express\\_core.py\", line 1399, in build_dataframe\n",
      "    df_output, wide_id_vars = process_args_into_dataframe(\n",
      "  File \"C:\\Users\\beatr\\anaconda3\\lib\\site-packages\\plotly\\express\\_core.py\", line 1207, in process_args_into_dataframe\n",
      "    raise ValueError(\n",
      "ValueError: All arguments should have the same length. The length of column argument `df[path_0]` is 27, whereas the length of  previously-processed arguments ['values'] is 1\n",
      "Exception on /_dash-update-component [POST]\n",
      "Traceback (most recent call last):\n",
      "  File \"C:\\Users\\beatr\\anaconda3\\lib\\site-packages\\flask\\app.py\", line 2447, in wsgi_app\n",
      "    response = self.full_dispatch_request()\n",
      "  File \"C:\\Users\\beatr\\anaconda3\\lib\\site-packages\\flask\\app.py\", line 1952, in full_dispatch_request\n",
      "    rv = self.handle_user_exception(e)\n",
      "  File \"C:\\Users\\beatr\\anaconda3\\lib\\site-packages\\flask\\app.py\", line 1821, in handle_user_exception\n",
      "    reraise(exc_type, exc_value, tb)\n",
      "  File \"C:\\Users\\beatr\\anaconda3\\lib\\site-packages\\flask\\_compat.py\", line 39, in reraise\n",
      "    raise value\n",
      "  File \"C:\\Users\\beatr\\anaconda3\\lib\\site-packages\\flask\\app.py\", line 1950, in full_dispatch_request\n",
      "    rv = self.dispatch_request()\n",
      "  File \"C:\\Users\\beatr\\anaconda3\\lib\\site-packages\\flask\\app.py\", line 1936, in dispatch_request\n",
      "    return self.view_functions[rule.endpoint](**req.view_args)\n",
      "  File \"C:\\Users\\beatr\\anaconda3\\lib\\site-packages\\dash\\dash.py\", line 1345, in dispatch\n",
      "    response.set_data(func(*args, outputs_list=outputs_list))\n",
      "  File \"C:\\Users\\beatr\\anaconda3\\lib\\site-packages\\dash\\_callback.py\", line 151, in add_context\n",
      "    output_value = func(*func_args, **func_kwargs)  # %% callback invoked %%\n",
      "  File \"<ipython-input-278-d2cfb6ae60dd>\", line 12, in update_treemap\n",
      "    fig = px.treemap(filtered_df, path=['Country or Area'],values=selected_var, color=selected_var, color_continuous_scale='brwnyl',\n",
      "  File \"C:\\Users\\beatr\\anaconda3\\lib\\site-packages\\plotly\\express\\_chart_types.py\", line 1473, in treemap\n",
      "    return make_figure(\n",
      "  File \"C:\\Users\\beatr\\anaconda3\\lib\\site-packages\\plotly\\express\\_core.py\", line 1879, in make_figure\n",
      "    args = build_dataframe(args, constructor)\n",
      "  File \"C:\\Users\\beatr\\anaconda3\\lib\\site-packages\\plotly\\express\\_core.py\", line 1399, in build_dataframe\n",
      "    df_output, wide_id_vars = process_args_into_dataframe(\n",
      "  File \"C:\\Users\\beatr\\anaconda3\\lib\\site-packages\\plotly\\express\\_core.py\", line 1207, in process_args_into_dataframe\n",
      "    raise ValueError(\n",
      "ValueError: All arguments should have the same length. The length of column argument `df[path_0]` is 27, whereas the length of  previously-processed arguments ['values'] is 1\n",
      "Exception on /_dash-update-component [POST]\n",
      "Traceback (most recent call last):\n",
      "  File \"C:\\Users\\beatr\\anaconda3\\lib\\site-packages\\flask\\app.py\", line 2447, in wsgi_app\n",
      "    response = self.full_dispatch_request()\n",
      "  File \"C:\\Users\\beatr\\anaconda3\\lib\\site-packages\\flask\\app.py\", line 1952, in full_dispatch_request\n",
      "    rv = self.handle_user_exception(e)\n",
      "  File \"C:\\Users\\beatr\\anaconda3\\lib\\site-packages\\flask\\app.py\", line 1821, in handle_user_exception\n",
      "    reraise(exc_type, exc_value, tb)\n",
      "  File \"C:\\Users\\beatr\\anaconda3\\lib\\site-packages\\flask\\_compat.py\", line 39, in reraise\n",
      "    raise value\n",
      "  File \"C:\\Users\\beatr\\anaconda3\\lib\\site-packages\\flask\\app.py\", line 1950, in full_dispatch_request\n",
      "    rv = self.dispatch_request()\n",
      "  File \"C:\\Users\\beatr\\anaconda3\\lib\\site-packages\\flask\\app.py\", line 1936, in dispatch_request\n",
      "    return self.view_functions[rule.endpoint](**req.view_args)\n",
      "  File \"C:\\Users\\beatr\\anaconda3\\lib\\site-packages\\dash\\dash.py\", line 1345, in dispatch\n",
      "    response.set_data(func(*args, outputs_list=outputs_list))\n",
      "  File \"C:\\Users\\beatr\\anaconda3\\lib\\site-packages\\dash\\_callback.py\", line 151, in add_context\n",
      "    output_value = func(*func_args, **func_kwargs)  # %% callback invoked %%\n",
      "  File \"<ipython-input-278-d2cfb6ae60dd>\", line 12, in update_treemap\n",
      "    fig = px.treemap(filtered_df, path=['Country or Area'],values=selected_var, color=selected_var, color_continuous_scale='brwnyl',\n",
      "  File \"C:\\Users\\beatr\\anaconda3\\lib\\site-packages\\plotly\\express\\_chart_types.py\", line 1473, in treemap\n",
      "    return make_figure(\n",
      "  File \"C:\\Users\\beatr\\anaconda3\\lib\\site-packages\\plotly\\express\\_core.py\", line 1879, in make_figure\n",
      "    args = build_dataframe(args, constructor)\n",
      "  File \"C:\\Users\\beatr\\anaconda3\\lib\\site-packages\\plotly\\express\\_core.py\", line 1399, in build_dataframe\n",
      "    df_output, wide_id_vars = process_args_into_dataframe(\n",
      "  File \"C:\\Users\\beatr\\anaconda3\\lib\\site-packages\\plotly\\express\\_core.py\", line 1207, in process_args_into_dataframe\n",
      "    raise ValueError(\n",
      "ValueError: All arguments should have the same length. The length of column argument `df[path_0]` is 27, whereas the length of  previously-processed arguments ['values'] is 1\n",
      "Exception on /_dash-update-component [POST]\n",
      "Traceback (most recent call last):\n",
      "  File \"C:\\Users\\beatr\\anaconda3\\lib\\site-packages\\flask\\app.py\", line 2447, in wsgi_app\n",
      "    response = self.full_dispatch_request()\n",
      "  File \"C:\\Users\\beatr\\anaconda3\\lib\\site-packages\\flask\\app.py\", line 1952, in full_dispatch_request\n",
      "    rv = self.handle_user_exception(e)\n",
      "  File \"C:\\Users\\beatr\\anaconda3\\lib\\site-packages\\flask\\app.py\", line 1821, in handle_user_exception\n",
      "    reraise(exc_type, exc_value, tb)\n",
      "  File \"C:\\Users\\beatr\\anaconda3\\lib\\site-packages\\flask\\_compat.py\", line 39, in reraise\n",
      "    raise value\n",
      "  File \"C:\\Users\\beatr\\anaconda3\\lib\\site-packages\\flask\\app.py\", line 1950, in full_dispatch_request\n",
      "    rv = self.dispatch_request()\n",
      "  File \"C:\\Users\\beatr\\anaconda3\\lib\\site-packages\\flask\\app.py\", line 1936, in dispatch_request\n",
      "    return self.view_functions[rule.endpoint](**req.view_args)\n",
      "  File \"C:\\Users\\beatr\\anaconda3\\lib\\site-packages\\dash\\dash.py\", line 1345, in dispatch\n",
      "    response.set_data(func(*args, outputs_list=outputs_list))\n",
      "  File \"C:\\Users\\beatr\\anaconda3\\lib\\site-packages\\dash\\_callback.py\", line 151, in add_context\n",
      "    output_value = func(*func_args, **func_kwargs)  # %% callback invoked %%\n",
      "  File \"<ipython-input-278-d2cfb6ae60dd>\", line 12, in update_treemap\n",
      "    fig = px.treemap(filtered_df, path=['Country or Area'],values=selected_var, color=selected_var, color_continuous_scale='brwnyl',\n",
      "  File \"C:\\Users\\beatr\\anaconda3\\lib\\site-packages\\plotly\\express\\_chart_types.py\", line 1473, in treemap\n",
      "    return make_figure(\n",
      "  File \"C:\\Users\\beatr\\anaconda3\\lib\\site-packages\\plotly\\express\\_core.py\", line 1879, in make_figure\n",
      "    args = build_dataframe(args, constructor)\n",
      "  File \"C:\\Users\\beatr\\anaconda3\\lib\\site-packages\\plotly\\express\\_core.py\", line 1399, in build_dataframe\n",
      "    df_output, wide_id_vars = process_args_into_dataframe(\n",
      "  File \"C:\\Users\\beatr\\anaconda3\\lib\\site-packages\\plotly\\express\\_core.py\", line 1207, in process_args_into_dataframe\n",
      "    raise ValueError(\n",
      "ValueError: All arguments should have the same length. The length of column argument `df[path_0]` is 27, whereas the length of  previously-processed arguments ['values'] is 1\n",
      "Exception on /_dash-update-component [POST]\n",
      "Traceback (most recent call last):\n",
      "  File \"C:\\Users\\beatr\\anaconda3\\lib\\site-packages\\flask\\app.py\", line 2447, in wsgi_app\n",
      "    response = self.full_dispatch_request()\n",
      "  File \"C:\\Users\\beatr\\anaconda3\\lib\\site-packages\\flask\\app.py\", line 1952, in full_dispatch_request\n",
      "    rv = self.handle_user_exception(e)\n",
      "  File \"C:\\Users\\beatr\\anaconda3\\lib\\site-packages\\flask\\app.py\", line 1821, in handle_user_exception\n",
      "    reraise(exc_type, exc_value, tb)\n",
      "  File \"C:\\Users\\beatr\\anaconda3\\lib\\site-packages\\flask\\_compat.py\", line 39, in reraise\n",
      "    raise value\n",
      "  File \"C:\\Users\\beatr\\anaconda3\\lib\\site-packages\\flask\\app.py\", line 1950, in full_dispatch_request\n",
      "    rv = self.dispatch_request()\n",
      "  File \"C:\\Users\\beatr\\anaconda3\\lib\\site-packages\\flask\\app.py\", line 1936, in dispatch_request\n",
      "    return self.view_functions[rule.endpoint](**req.view_args)\n",
      "  File \"C:\\Users\\beatr\\anaconda3\\lib\\site-packages\\dash\\dash.py\", line 1345, in dispatch\n",
      "    response.set_data(func(*args, outputs_list=outputs_list))\n",
      "  File \"C:\\Users\\beatr\\anaconda3\\lib\\site-packages\\dash\\_callback.py\", line 151, in add_context\n",
      "    output_value = func(*func_args, **func_kwargs)  # %% callback invoked %%\n",
      "  File \"<ipython-input-278-d2cfb6ae60dd>\", line 12, in update_treemap\n",
      "    fig = px.treemap(filtered_df, path=['Country or Area'],values=selected_var, color=selected_var, color_continuous_scale='brwnyl',\n",
      "  File \"C:\\Users\\beatr\\anaconda3\\lib\\site-packages\\plotly\\express\\_chart_types.py\", line 1473, in treemap\n",
      "    return make_figure(\n",
      "  File \"C:\\Users\\beatr\\anaconda3\\lib\\site-packages\\plotly\\express\\_core.py\", line 1879, in make_figure\n",
      "    args = build_dataframe(args, constructor)\n",
      "  File \"C:\\Users\\beatr\\anaconda3\\lib\\site-packages\\plotly\\express\\_core.py\", line 1399, in build_dataframe\n",
      "    df_output, wide_id_vars = process_args_into_dataframe(\n",
      "  File \"C:\\Users\\beatr\\anaconda3\\lib\\site-packages\\plotly\\express\\_core.py\", line 1207, in process_args_into_dataframe\n",
      "    raise ValueError(\n",
      "ValueError: All arguments should have the same length. The length of column argument `df[path_0]` is 27, whereas the length of  previously-processed arguments ['values'] is 1\n",
      "Exception on /_dash-update-component [POST]\n",
      "Traceback (most recent call last):\n",
      "  File \"C:\\Users\\beatr\\anaconda3\\lib\\site-packages\\flask\\app.py\", line 2447, in wsgi_app\n",
      "    response = self.full_dispatch_request()\n",
      "  File \"C:\\Users\\beatr\\anaconda3\\lib\\site-packages\\flask\\app.py\", line 1952, in full_dispatch_request\n",
      "    rv = self.handle_user_exception(e)\n",
      "  File \"C:\\Users\\beatr\\anaconda3\\lib\\site-packages\\flask\\app.py\", line 1821, in handle_user_exception\n",
      "    reraise(exc_type, exc_value, tb)\n",
      "  File \"C:\\Users\\beatr\\anaconda3\\lib\\site-packages\\flask\\_compat.py\", line 39, in reraise\n",
      "    raise value\n",
      "  File \"C:\\Users\\beatr\\anaconda3\\lib\\site-packages\\flask\\app.py\", line 1950, in full_dispatch_request\n",
      "    rv = self.dispatch_request()\n",
      "  File \"C:\\Users\\beatr\\anaconda3\\lib\\site-packages\\flask\\app.py\", line 1936, in dispatch_request\n",
      "    return self.view_functions[rule.endpoint](**req.view_args)\n",
      "  File \"C:\\Users\\beatr\\anaconda3\\lib\\site-packages\\dash\\dash.py\", line 1345, in dispatch\n",
      "    response.set_data(func(*args, outputs_list=outputs_list))\n",
      "  File \"C:\\Users\\beatr\\anaconda3\\lib\\site-packages\\dash\\_callback.py\", line 151, in add_context\n",
      "    output_value = func(*func_args, **func_kwargs)  # %% callback invoked %%\n",
      "  File \"<ipython-input-278-d2cfb6ae60dd>\", line 12, in update_treemap\n",
      "    fig = px.treemap(filtered_df, path=['Country or Area'],values=selected_var, color=selected_var, color_continuous_scale='brwnyl',\n",
      "  File \"C:\\Users\\beatr\\anaconda3\\lib\\site-packages\\plotly\\express\\_chart_types.py\", line 1473, in treemap\n",
      "    return make_figure(\n",
      "  File \"C:\\Users\\beatr\\anaconda3\\lib\\site-packages\\plotly\\express\\_core.py\", line 1879, in make_figure\n",
      "    args = build_dataframe(args, constructor)\n",
      "  File \"C:\\Users\\beatr\\anaconda3\\lib\\site-packages\\plotly\\express\\_core.py\", line 1399, in build_dataframe\n",
      "    df_output, wide_id_vars = process_args_into_dataframe(\n",
      "  File \"C:\\Users\\beatr\\anaconda3\\lib\\site-packages\\plotly\\express\\_core.py\", line 1207, in process_args_into_dataframe\n",
      "    raise ValueError(\n",
      "ValueError: All arguments should have the same length. The length of column argument `df[path_0]` is 27, whereas the length of  previously-processed arguments ['values'] is 1\n",
      "Exception on /_dash-update-component [POST]\n",
      "Traceback (most recent call last):\n",
      "  File \"C:\\Users\\beatr\\anaconda3\\lib\\site-packages\\flask\\app.py\", line 2447, in wsgi_app\n",
      "    response = self.full_dispatch_request()\n",
      "  File \"C:\\Users\\beatr\\anaconda3\\lib\\site-packages\\flask\\app.py\", line 1952, in full_dispatch_request\n",
      "    rv = self.handle_user_exception(e)\n",
      "  File \"C:\\Users\\beatr\\anaconda3\\lib\\site-packages\\flask\\app.py\", line 1821, in handle_user_exception\n",
      "    reraise(exc_type, exc_value, tb)\n",
      "  File \"C:\\Users\\beatr\\anaconda3\\lib\\site-packages\\flask\\_compat.py\", line 39, in reraise\n",
      "    raise value\n",
      "  File \"C:\\Users\\beatr\\anaconda3\\lib\\site-packages\\flask\\app.py\", line 1950, in full_dispatch_request\n",
      "    rv = self.dispatch_request()\n",
      "  File \"C:\\Users\\beatr\\anaconda3\\lib\\site-packages\\flask\\app.py\", line 1936, in dispatch_request\n",
      "    return self.view_functions[rule.endpoint](**req.view_args)\n",
      "  File \"C:\\Users\\beatr\\anaconda3\\lib\\site-packages\\dash\\dash.py\", line 1345, in dispatch\n",
      "    response.set_data(func(*args, outputs_list=outputs_list))\n",
      "  File \"C:\\Users\\beatr\\anaconda3\\lib\\site-packages\\dash\\_callback.py\", line 151, in add_context\n",
      "    output_value = func(*func_args, **func_kwargs)  # %% callback invoked %%\n",
      "  File \"<ipython-input-278-d2cfb6ae60dd>\", line 12, in update_treemap\n",
      "    fig = px.treemap(filtered_df, path=['Country or Area'],values=selected_var, color=selected_var, color_continuous_scale='brwnyl',\n",
      "  File \"C:\\Users\\beatr\\anaconda3\\lib\\site-packages\\plotly\\express\\_chart_types.py\", line 1473, in treemap\n",
      "    return make_figure(\n",
      "  File \"C:\\Users\\beatr\\anaconda3\\lib\\site-packages\\plotly\\express\\_core.py\", line 1879, in make_figure\n",
      "    args = build_dataframe(args, constructor)\n",
      "  File \"C:\\Users\\beatr\\anaconda3\\lib\\site-packages\\plotly\\express\\_core.py\", line 1399, in build_dataframe\n",
      "    df_output, wide_id_vars = process_args_into_dataframe(\n",
      "  File \"C:\\Users\\beatr\\anaconda3\\lib\\site-packages\\plotly\\express\\_core.py\", line 1207, in process_args_into_dataframe\n",
      "    raise ValueError(\n",
      "ValueError: All arguments should have the same length. The length of column argument `df[path_0]` is 27, whereas the length of  previously-processed arguments ['values'] is 1\n",
      "Exception on /_dash-update-component [POST]\n",
      "Traceback (most recent call last):\n",
      "  File \"C:\\Users\\beatr\\anaconda3\\lib\\site-packages\\flask\\app.py\", line 2447, in wsgi_app\n",
      "    response = self.full_dispatch_request()\n",
      "  File \"C:\\Users\\beatr\\anaconda3\\lib\\site-packages\\flask\\app.py\", line 1952, in full_dispatch_request\n",
      "    rv = self.handle_user_exception(e)\n",
      "  File \"C:\\Users\\beatr\\anaconda3\\lib\\site-packages\\flask\\app.py\", line 1821, in handle_user_exception\n",
      "    reraise(exc_type, exc_value, tb)\n",
      "  File \"C:\\Users\\beatr\\anaconda3\\lib\\site-packages\\flask\\_compat.py\", line 39, in reraise\n",
      "    raise value\n",
      "  File \"C:\\Users\\beatr\\anaconda3\\lib\\site-packages\\flask\\app.py\", line 1950, in full_dispatch_request\n",
      "    rv = self.dispatch_request()\n",
      "  File \"C:\\Users\\beatr\\anaconda3\\lib\\site-packages\\flask\\app.py\", line 1936, in dispatch_request\n",
      "    return self.view_functions[rule.endpoint](**req.view_args)\n",
      "  File \"C:\\Users\\beatr\\anaconda3\\lib\\site-packages\\dash\\dash.py\", line 1345, in dispatch\n",
      "    response.set_data(func(*args, outputs_list=outputs_list))\n",
      "  File \"C:\\Users\\beatr\\anaconda3\\lib\\site-packages\\dash\\_callback.py\", line 151, in add_context\n",
      "    output_value = func(*func_args, **func_kwargs)  # %% callback invoked %%\n",
      "  File \"<ipython-input-278-d2cfb6ae60dd>\", line 12, in update_treemap\n",
      "    fig = px.treemap(filtered_df, path=['Country or Area'],values=selected_var, color=selected_var, color_continuous_scale='brwnyl',\n",
      "  File \"C:\\Users\\beatr\\anaconda3\\lib\\site-packages\\plotly\\express\\_chart_types.py\", line 1473, in treemap\n",
      "    return make_figure(\n",
      "  File \"C:\\Users\\beatr\\anaconda3\\lib\\site-packages\\plotly\\express\\_core.py\", line 1879, in make_figure\n",
      "    args = build_dataframe(args, constructor)\n",
      "  File \"C:\\Users\\beatr\\anaconda3\\lib\\site-packages\\plotly\\express\\_core.py\", line 1399, in build_dataframe\n",
      "    df_output, wide_id_vars = process_args_into_dataframe(\n",
      "  File \"C:\\Users\\beatr\\anaconda3\\lib\\site-packages\\plotly\\express\\_core.py\", line 1207, in process_args_into_dataframe\n",
      "    raise ValueError(\n",
      "ValueError: All arguments should have the same length. The length of column argument `df[path_0]` is 27, whereas the length of  previously-processed arguments ['values'] is 1\n",
      "Exception on /_dash-update-component [POST]\n",
      "Traceback (most recent call last):\n",
      "  File \"C:\\Users\\beatr\\anaconda3\\lib\\site-packages\\flask\\app.py\", line 2447, in wsgi_app\n",
      "    response = self.full_dispatch_request()\n",
      "  File \"C:\\Users\\beatr\\anaconda3\\lib\\site-packages\\flask\\app.py\", line 1952, in full_dispatch_request\n",
      "    rv = self.handle_user_exception(e)\n",
      "  File \"C:\\Users\\beatr\\anaconda3\\lib\\site-packages\\flask\\app.py\", line 1821, in handle_user_exception\n",
      "    reraise(exc_type, exc_value, tb)\n",
      "  File \"C:\\Users\\beatr\\anaconda3\\lib\\site-packages\\flask\\_compat.py\", line 39, in reraise\n",
      "    raise value\n",
      "  File \"C:\\Users\\beatr\\anaconda3\\lib\\site-packages\\flask\\app.py\", line 1950, in full_dispatch_request\n",
      "    rv = self.dispatch_request()\n",
      "  File \"C:\\Users\\beatr\\anaconda3\\lib\\site-packages\\flask\\app.py\", line 1936, in dispatch_request\n",
      "    return self.view_functions[rule.endpoint](**req.view_args)\n",
      "  File \"C:\\Users\\beatr\\anaconda3\\lib\\site-packages\\dash\\dash.py\", line 1345, in dispatch\n",
      "    response.set_data(func(*args, outputs_list=outputs_list))\n",
      "  File \"C:\\Users\\beatr\\anaconda3\\lib\\site-packages\\dash\\_callback.py\", line 151, in add_context\n",
      "    output_value = func(*func_args, **func_kwargs)  # %% callback invoked %%\n",
      "  File \"<ipython-input-278-d2cfb6ae60dd>\", line 12, in update_treemap\n",
      "    fig = px.treemap(filtered_df, path=['Country or Area'],values=selected_var, color=selected_var, color_continuous_scale='brwnyl',\n",
      "  File \"C:\\Users\\beatr\\anaconda3\\lib\\site-packages\\plotly\\express\\_chart_types.py\", line 1473, in treemap\n",
      "    return make_figure(\n",
      "  File \"C:\\Users\\beatr\\anaconda3\\lib\\site-packages\\plotly\\express\\_core.py\", line 1879, in make_figure\n",
      "    args = build_dataframe(args, constructor)\n",
      "  File \"C:\\Users\\beatr\\anaconda3\\lib\\site-packages\\plotly\\express\\_core.py\", line 1399, in build_dataframe\n",
      "    df_output, wide_id_vars = process_args_into_dataframe(\n",
      "  File \"C:\\Users\\beatr\\anaconda3\\lib\\site-packages\\plotly\\express\\_core.py\", line 1207, in process_args_into_dataframe\n",
      "    raise ValueError(\n",
      "ValueError: All arguments should have the same length. The length of column argument `df[path_0]` is 27, whereas the length of  previously-processed arguments ['values'] is 1\n",
      "Exception on /_dash-update-component [POST]\n",
      "Traceback (most recent call last):\n",
      "  File \"C:\\Users\\beatr\\anaconda3\\lib\\site-packages\\flask\\app.py\", line 2447, in wsgi_app\n",
      "    response = self.full_dispatch_request()\n",
      "  File \"C:\\Users\\beatr\\anaconda3\\lib\\site-packages\\flask\\app.py\", line 1952, in full_dispatch_request\n",
      "    rv = self.handle_user_exception(e)\n",
      "  File \"C:\\Users\\beatr\\anaconda3\\lib\\site-packages\\flask\\app.py\", line 1821, in handle_user_exception\n",
      "    reraise(exc_type, exc_value, tb)\n",
      "  File \"C:\\Users\\beatr\\anaconda3\\lib\\site-packages\\flask\\_compat.py\", line 39, in reraise\n",
      "    raise value\n",
      "  File \"C:\\Users\\beatr\\anaconda3\\lib\\site-packages\\flask\\app.py\", line 1950, in full_dispatch_request\n",
      "    rv = self.dispatch_request()\n",
      "  File \"C:\\Users\\beatr\\anaconda3\\lib\\site-packages\\flask\\app.py\", line 1936, in dispatch_request\n",
      "    return self.view_functions[rule.endpoint](**req.view_args)\n",
      "  File \"C:\\Users\\beatr\\anaconda3\\lib\\site-packages\\dash\\dash.py\", line 1345, in dispatch\n",
      "    response.set_data(func(*args, outputs_list=outputs_list))\n",
      "  File \"C:\\Users\\beatr\\anaconda3\\lib\\site-packages\\dash\\_callback.py\", line 151, in add_context\n",
      "    output_value = func(*func_args, **func_kwargs)  # %% callback invoked %%\n",
      "  File \"<ipython-input-278-d2cfb6ae60dd>\", line 12, in update_treemap\n",
      "    fig = px.treemap(filtered_df, path=['Country or Area'],values=selected_var, color=selected_var, color_continuous_scale='brwnyl',\n",
      "  File \"C:\\Users\\beatr\\anaconda3\\lib\\site-packages\\plotly\\express\\_chart_types.py\", line 1473, in treemap\n",
      "    return make_figure(\n",
      "  File \"C:\\Users\\beatr\\anaconda3\\lib\\site-packages\\plotly\\express\\_core.py\", line 1879, in make_figure\n",
      "    args = build_dataframe(args, constructor)\n",
      "  File \"C:\\Users\\beatr\\anaconda3\\lib\\site-packages\\plotly\\express\\_core.py\", line 1399, in build_dataframe\n",
      "    df_output, wide_id_vars = process_args_into_dataframe(\n",
      "  File \"C:\\Users\\beatr\\anaconda3\\lib\\site-packages\\plotly\\express\\_core.py\", line 1207, in process_args_into_dataframe\n",
      "    raise ValueError(\n",
      "ValueError: All arguments should have the same length. The length of column argument `df[path_0]` is 27, whereas the length of  previously-processed arguments ['values'] is 1\n",
      "Exception on /_dash-update-component [POST]\n",
      "Traceback (most recent call last):\n",
      "  File \"C:\\Users\\beatr\\anaconda3\\lib\\site-packages\\flask\\app.py\", line 2447, in wsgi_app\n",
      "    response = self.full_dispatch_request()\n",
      "  File \"C:\\Users\\beatr\\anaconda3\\lib\\site-packages\\flask\\app.py\", line 1952, in full_dispatch_request\n",
      "    rv = self.handle_user_exception(e)\n",
      "  File \"C:\\Users\\beatr\\anaconda3\\lib\\site-packages\\flask\\app.py\", line 1821, in handle_user_exception\n",
      "    reraise(exc_type, exc_value, tb)\n",
      "  File \"C:\\Users\\beatr\\anaconda3\\lib\\site-packages\\flask\\_compat.py\", line 39, in reraise\n",
      "    raise value\n",
      "  File \"C:\\Users\\beatr\\anaconda3\\lib\\site-packages\\flask\\app.py\", line 1950, in full_dispatch_request\n",
      "    rv = self.dispatch_request()\n",
      "  File \"C:\\Users\\beatr\\anaconda3\\lib\\site-packages\\flask\\app.py\", line 1936, in dispatch_request\n",
      "    return self.view_functions[rule.endpoint](**req.view_args)\n",
      "  File \"C:\\Users\\beatr\\anaconda3\\lib\\site-packages\\dash\\dash.py\", line 1345, in dispatch\n",
      "    response.set_data(func(*args, outputs_list=outputs_list))\n",
      "  File \"C:\\Users\\beatr\\anaconda3\\lib\\site-packages\\dash\\_callback.py\", line 151, in add_context\n",
      "    output_value = func(*func_args, **func_kwargs)  # %% callback invoked %%\n",
      "  File \"<ipython-input-278-d2cfb6ae60dd>\", line 12, in update_treemap\n",
      "    fig = px.treemap(filtered_df, path=['Country or Area'],values=selected_var, color=selected_var, color_continuous_scale='brwnyl',\n",
      "  File \"C:\\Users\\beatr\\anaconda3\\lib\\site-packages\\plotly\\express\\_chart_types.py\", line 1473, in treemap\n",
      "    return make_figure(\n",
      "  File \"C:\\Users\\beatr\\anaconda3\\lib\\site-packages\\plotly\\express\\_core.py\", line 1879, in make_figure\n",
      "    args = build_dataframe(args, constructor)\n",
      "  File \"C:\\Users\\beatr\\anaconda3\\lib\\site-packages\\plotly\\express\\_core.py\", line 1399, in build_dataframe\n",
      "    df_output, wide_id_vars = process_args_into_dataframe(\n",
      "  File \"C:\\Users\\beatr\\anaconda3\\lib\\site-packages\\plotly\\express\\_core.py\", line 1207, in process_args_into_dataframe\n",
      "    raise ValueError(\n",
      "ValueError: All arguments should have the same length. The length of column argument `df[path_0]` is 27, whereas the length of  previously-processed arguments ['values'] is 1\n"
     ]
    },
    {
     "name": "stderr",
     "output_type": "stream",
     "text": [
      "127.0.0.1 - - [04/Apr/2022 21:50:06] \"\u001b[35m\u001b[1mPOST /_dash-update-component HTTP/1.1\u001b[0m\" 500 -\n"
     ]
    },
    {
     "name": "stdout",
     "output_type": "stream",
     "text": [
      "Exception on /_dash-update-component [POST]\n",
      "Traceback (most recent call last):\n",
      "  File \"C:\\Users\\beatr\\anaconda3\\lib\\site-packages\\flask\\app.py\", line 2447, in wsgi_app\n",
      "    response = self.full_dispatch_request()\n",
      "  File \"C:\\Users\\beatr\\anaconda3\\lib\\site-packages\\flask\\app.py\", line 1952, in full_dispatch_request\n",
      "    rv = self.handle_user_exception(e)\n",
      "  File \"C:\\Users\\beatr\\anaconda3\\lib\\site-packages\\flask\\app.py\", line 1821, in handle_user_exception\n",
      "    reraise(exc_type, exc_value, tb)\n",
      "  File \"C:\\Users\\beatr\\anaconda3\\lib\\site-packages\\flask\\_compat.py\", line 39, in reraise\n",
      "    raise value\n",
      "  File \"C:\\Users\\beatr\\anaconda3\\lib\\site-packages\\flask\\app.py\", line 1950, in full_dispatch_request\n",
      "    rv = self.dispatch_request()\n",
      "  File \"C:\\Users\\beatr\\anaconda3\\lib\\site-packages\\flask\\app.py\", line 1936, in dispatch_request\n",
      "    return self.view_functions[rule.endpoint](**req.view_args)\n",
      "  File \"C:\\Users\\beatr\\anaconda3\\lib\\site-packages\\dash\\dash.py\", line 1345, in dispatch\n",
      "    response.set_data(func(*args, outputs_list=outputs_list))\n",
      "  File \"C:\\Users\\beatr\\anaconda3\\lib\\site-packages\\dash\\_callback.py\", line 151, in add_context\n",
      "    output_value = func(*func_args, **func_kwargs)  # %% callback invoked %%\n",
      "  File \"<ipython-input-278-d2cfb6ae60dd>\", line 12, in update_treemap\n",
      "    fig = px.treemap(filtered_df, path=['Country or Area'],values=selected_var, color=selected_var, color_continuous_scale='brwnyl',\n",
      "  File \"C:\\Users\\beatr\\anaconda3\\lib\\site-packages\\plotly\\express\\_chart_types.py\", line 1473, in treemap\n",
      "    return make_figure(\n",
      "  File \"C:\\Users\\beatr\\anaconda3\\lib\\site-packages\\plotly\\express\\_core.py\", line 1879, in make_figure\n",
      "    args = build_dataframe(args, constructor)\n",
      "  File \"C:\\Users\\beatr\\anaconda3\\lib\\site-packages\\plotly\\express\\_core.py\", line 1399, in build_dataframe\n",
      "    df_output, wide_id_vars = process_args_into_dataframe(\n",
      "  File \"C:\\Users\\beatr\\anaconda3\\lib\\site-packages\\plotly\\express\\_core.py\", line 1207, in process_args_into_dataframe\n",
      "    raise ValueError(\n",
      "ValueError: All arguments should have the same length. The length of column argument `df[path_0]` is 22, whereas the length of  previously-processed arguments ['values'] is 1\n",
      "Exception on /_dash-update-component [POST]\n",
      "Traceback (most recent call last):\n",
      "  File \"C:\\Users\\beatr\\anaconda3\\lib\\site-packages\\flask\\app.py\", line 2447, in wsgi_app\n",
      "    response = self.full_dispatch_request()\n",
      "  File \"C:\\Users\\beatr\\anaconda3\\lib\\site-packages\\flask\\app.py\", line 1952, in full_dispatch_request\n",
      "    rv = self.handle_user_exception(e)\n",
      "  File \"C:\\Users\\beatr\\anaconda3\\lib\\site-packages\\flask\\app.py\", line 1821, in handle_user_exception\n",
      "    reraise(exc_type, exc_value, tb)\n",
      "  File \"C:\\Users\\beatr\\anaconda3\\lib\\site-packages\\flask\\_compat.py\", line 39, in reraise\n",
      "    raise value\n",
      "  File \"C:\\Users\\beatr\\anaconda3\\lib\\site-packages\\flask\\app.py\", line 1950, in full_dispatch_request\n",
      "    rv = self.dispatch_request()\n",
      "  File \"C:\\Users\\beatr\\anaconda3\\lib\\site-packages\\flask\\app.py\", line 1936, in dispatch_request\n",
      "    return self.view_functions[rule.endpoint](**req.view_args)\n",
      "  File \"C:\\Users\\beatr\\anaconda3\\lib\\site-packages\\dash\\dash.py\", line 1345, in dispatch\n",
      "    response.set_data(func(*args, outputs_list=outputs_list))\n",
      "  File \"C:\\Users\\beatr\\anaconda3\\lib\\site-packages\\dash\\_callback.py\", line 151, in add_context\n",
      "    output_value = func(*func_args, **func_kwargs)  # %% callback invoked %%\n",
      "  File \"<ipython-input-278-d2cfb6ae60dd>\", line 12, in update_treemap\n",
      "    fig = px.treemap(filtered_df, path=['Country or Area'],values=selected_var, color=selected_var, color_continuous_scale='brwnyl',\n",
      "  File \"C:\\Users\\beatr\\anaconda3\\lib\\site-packages\\plotly\\express\\_chart_types.py\", line 1473, in treemap\n",
      "    return make_figure(\n",
      "  File \"C:\\Users\\beatr\\anaconda3\\lib\\site-packages\\plotly\\express\\_core.py\", line 1879, in make_figure\n",
      "    args = build_dataframe(args, constructor)\n",
      "  File \"C:\\Users\\beatr\\anaconda3\\lib\\site-packages\\plotly\\express\\_core.py\", line 1399, in build_dataframe\n",
      "    df_output, wide_id_vars = process_args_into_dataframe(\n",
      "  File \"C:\\Users\\beatr\\anaconda3\\lib\\site-packages\\plotly\\express\\_core.py\", line 1207, in process_args_into_dataframe\n",
      "    raise ValueError(\n",
      "ValueError: All arguments should have the same length. The length of column argument `df[path_0]` is 22, whereas the length of  previously-processed arguments ['values'] is 1\n",
      "Exception on /_dash-update-component [POST]\n",
      "Traceback (most recent call last):\n",
      "  File \"C:\\Users\\beatr\\anaconda3\\lib\\site-packages\\flask\\app.py\", line 2447, in wsgi_app\n",
      "    response = self.full_dispatch_request()\n",
      "  File \"C:\\Users\\beatr\\anaconda3\\lib\\site-packages\\flask\\app.py\", line 1952, in full_dispatch_request\n",
      "    rv = self.handle_user_exception(e)\n",
      "  File \"C:\\Users\\beatr\\anaconda3\\lib\\site-packages\\flask\\app.py\", line 1821, in handle_user_exception\n",
      "    reraise(exc_type, exc_value, tb)\n",
      "  File \"C:\\Users\\beatr\\anaconda3\\lib\\site-packages\\flask\\_compat.py\", line 39, in reraise\n",
      "    raise value\n",
      "  File \"C:\\Users\\beatr\\anaconda3\\lib\\site-packages\\flask\\app.py\", line 1950, in full_dispatch_request\n",
      "    rv = self.dispatch_request()\n",
      "  File \"C:\\Users\\beatr\\anaconda3\\lib\\site-packages\\flask\\app.py\", line 1936, in dispatch_request\n",
      "    return self.view_functions[rule.endpoint](**req.view_args)\n",
      "  File \"C:\\Users\\beatr\\anaconda3\\lib\\site-packages\\dash\\dash.py\", line 1345, in dispatch\n",
      "    response.set_data(func(*args, outputs_list=outputs_list))\n",
      "  File \"C:\\Users\\beatr\\anaconda3\\lib\\site-packages\\dash\\_callback.py\", line 151, in add_context\n",
      "    output_value = func(*func_args, **func_kwargs)  # %% callback invoked %%\n",
      "  File \"<ipython-input-278-d2cfb6ae60dd>\", line 12, in update_treemap\n",
      "    fig = px.treemap(filtered_df, path=['Country or Area'],values=selected_var, color=selected_var, color_continuous_scale='brwnyl',\n",
      "  File \"C:\\Users\\beatr\\anaconda3\\lib\\site-packages\\plotly\\express\\_chart_types.py\", line 1473, in treemap\n",
      "    return make_figure(\n",
      "  File \"C:\\Users\\beatr\\anaconda3\\lib\\site-packages\\plotly\\express\\_core.py\", line 1879, in make_figure\n",
      "    args = build_dataframe(args, constructor)\n",
      "  File \"C:\\Users\\beatr\\anaconda3\\lib\\site-packages\\plotly\\express\\_core.py\", line 1399, in build_dataframe\n",
      "    df_output, wide_id_vars = process_args_into_dataframe(\n",
      "  File \"C:\\Users\\beatr\\anaconda3\\lib\\site-packages\\plotly\\express\\_core.py\", line 1207, in process_args_into_dataframe\n",
      "    raise ValueError(\n",
      "ValueError: All arguments should have the same length. The length of column argument `df[path_0]` is 22, whereas the length of  previously-processed arguments ['values'] is 1\n",
      "Exception on /_dash-update-component [POST]\n",
      "Traceback (most recent call last):\n",
      "  File \"C:\\Users\\beatr\\anaconda3\\lib\\site-packages\\flask\\app.py\", line 2447, in wsgi_app\n",
      "    response = self.full_dispatch_request()\n",
      "  File \"C:\\Users\\beatr\\anaconda3\\lib\\site-packages\\flask\\app.py\", line 1952, in full_dispatch_request\n",
      "    rv = self.handle_user_exception(e)\n",
      "  File \"C:\\Users\\beatr\\anaconda3\\lib\\site-packages\\flask\\app.py\", line 1821, in handle_user_exception\n",
      "    reraise(exc_type, exc_value, tb)\n",
      "  File \"C:\\Users\\beatr\\anaconda3\\lib\\site-packages\\flask\\_compat.py\", line 39, in reraise\n",
      "    raise value\n",
      "  File \"C:\\Users\\beatr\\anaconda3\\lib\\site-packages\\flask\\app.py\", line 1950, in full_dispatch_request\n",
      "    rv = self.dispatch_request()\n",
      "  File \"C:\\Users\\beatr\\anaconda3\\lib\\site-packages\\flask\\app.py\", line 1936, in dispatch_request\n",
      "    return self.view_functions[rule.endpoint](**req.view_args)\n",
      "  File \"C:\\Users\\beatr\\anaconda3\\lib\\site-packages\\dash\\dash.py\", line 1345, in dispatch\n",
      "    response.set_data(func(*args, outputs_list=outputs_list))\n",
      "  File \"C:\\Users\\beatr\\anaconda3\\lib\\site-packages\\dash\\_callback.py\", line 151, in add_context\n",
      "    output_value = func(*func_args, **func_kwargs)  # %% callback invoked %%\n",
      "  File \"<ipython-input-278-d2cfb6ae60dd>\", line 12, in update_treemap\n",
      "    fig = px.treemap(filtered_df, path=['Country or Area'],values=selected_var, color=selected_var, color_continuous_scale='brwnyl',\n",
      "  File \"C:\\Users\\beatr\\anaconda3\\lib\\site-packages\\plotly\\express\\_chart_types.py\", line 1473, in treemap\n",
      "    return make_figure(\n",
      "  File \"C:\\Users\\beatr\\anaconda3\\lib\\site-packages\\plotly\\express\\_core.py\", line 1879, in make_figure\n",
      "    args = build_dataframe(args, constructor)\n",
      "  File \"C:\\Users\\beatr\\anaconda3\\lib\\site-packages\\plotly\\express\\_core.py\", line 1399, in build_dataframe\n",
      "    df_output, wide_id_vars = process_args_into_dataframe(\n",
      "  File \"C:\\Users\\beatr\\anaconda3\\lib\\site-packages\\plotly\\express\\_core.py\", line 1207, in process_args_into_dataframe\n",
      "    raise ValueError(\n",
      "ValueError: All arguments should have the same length. The length of column argument `df[path_0]` is 22, whereas the length of  previously-processed arguments ['values'] is 1\n",
      "Exception on /_dash-update-component [POST]\n",
      "Traceback (most recent call last):\n",
      "  File \"C:\\Users\\beatr\\anaconda3\\lib\\site-packages\\flask\\app.py\", line 2447, in wsgi_app\n",
      "    response = self.full_dispatch_request()\n",
      "  File \"C:\\Users\\beatr\\anaconda3\\lib\\site-packages\\flask\\app.py\", line 1952, in full_dispatch_request\n",
      "    rv = self.handle_user_exception(e)\n",
      "  File \"C:\\Users\\beatr\\anaconda3\\lib\\site-packages\\flask\\app.py\", line 1821, in handle_user_exception\n",
      "    reraise(exc_type, exc_value, tb)\n",
      "  File \"C:\\Users\\beatr\\anaconda3\\lib\\site-packages\\flask\\_compat.py\", line 39, in reraise\n",
      "    raise value\n",
      "  File \"C:\\Users\\beatr\\anaconda3\\lib\\site-packages\\flask\\app.py\", line 1950, in full_dispatch_request\n",
      "    rv = self.dispatch_request()\n",
      "  File \"C:\\Users\\beatr\\anaconda3\\lib\\site-packages\\flask\\app.py\", line 1936, in dispatch_request\n",
      "    return self.view_functions[rule.endpoint](**req.view_args)\n",
      "  File \"C:\\Users\\beatr\\anaconda3\\lib\\site-packages\\dash\\dash.py\", line 1345, in dispatch\n",
      "    response.set_data(func(*args, outputs_list=outputs_list))\n",
      "  File \"C:\\Users\\beatr\\anaconda3\\lib\\site-packages\\dash\\_callback.py\", line 151, in add_context\n",
      "    output_value = func(*func_args, **func_kwargs)  # %% callback invoked %%\n",
      "  File \"<ipython-input-278-d2cfb6ae60dd>\", line 12, in update_treemap\n",
      "    fig = px.treemap(filtered_df, path=['Country or Area'],values=selected_var, color=selected_var, color_continuous_scale='brwnyl',\n",
      "  File \"C:\\Users\\beatr\\anaconda3\\lib\\site-packages\\plotly\\express\\_chart_types.py\", line 1473, in treemap\n",
      "    return make_figure(\n",
      "  File \"C:\\Users\\beatr\\anaconda3\\lib\\site-packages\\plotly\\express\\_core.py\", line 1879, in make_figure\n",
      "    args = build_dataframe(args, constructor)\n",
      "  File \"C:\\Users\\beatr\\anaconda3\\lib\\site-packages\\plotly\\express\\_core.py\", line 1399, in build_dataframe\n",
      "    df_output, wide_id_vars = process_args_into_dataframe(\n",
      "  File \"C:\\Users\\beatr\\anaconda3\\lib\\site-packages\\plotly\\express\\_core.py\", line 1207, in process_args_into_dataframe\n",
      "    raise ValueError(\n",
      "ValueError: All arguments should have the same length. The length of column argument `df[path_0]` is 22, whereas the length of  previously-processed arguments ['values'] is 1\n",
      "Exception on /_dash-update-component [POST]\n",
      "Traceback (most recent call last):\n",
      "  File \"C:\\Users\\beatr\\anaconda3\\lib\\site-packages\\flask\\app.py\", line 2447, in wsgi_app\n",
      "    response = self.full_dispatch_request()\n",
      "  File \"C:\\Users\\beatr\\anaconda3\\lib\\site-packages\\flask\\app.py\", line 1952, in full_dispatch_request\n",
      "    rv = self.handle_user_exception(e)\n",
      "  File \"C:\\Users\\beatr\\anaconda3\\lib\\site-packages\\flask\\app.py\", line 1821, in handle_user_exception\n",
      "    reraise(exc_type, exc_value, tb)\n",
      "  File \"C:\\Users\\beatr\\anaconda3\\lib\\site-packages\\flask\\_compat.py\", line 39, in reraise\n",
      "    raise value\n",
      "  File \"C:\\Users\\beatr\\anaconda3\\lib\\site-packages\\flask\\app.py\", line 1950, in full_dispatch_request\n",
      "    rv = self.dispatch_request()\n",
      "  File \"C:\\Users\\beatr\\anaconda3\\lib\\site-packages\\flask\\app.py\", line 1936, in dispatch_request\n",
      "    return self.view_functions[rule.endpoint](**req.view_args)\n",
      "  File \"C:\\Users\\beatr\\anaconda3\\lib\\site-packages\\dash\\dash.py\", line 1345, in dispatch\n",
      "    response.set_data(func(*args, outputs_list=outputs_list))\n",
      "  File \"C:\\Users\\beatr\\anaconda3\\lib\\site-packages\\dash\\_callback.py\", line 151, in add_context\n",
      "    output_value = func(*func_args, **func_kwargs)  # %% callback invoked %%\n",
      "  File \"<ipython-input-278-d2cfb6ae60dd>\", line 12, in update_treemap\n",
      "    fig = px.treemap(filtered_df, path=['Country or Area'],values=selected_var, color=selected_var, color_continuous_scale='brwnyl',\n",
      "  File \"C:\\Users\\beatr\\anaconda3\\lib\\site-packages\\plotly\\express\\_chart_types.py\", line 1473, in treemap\n",
      "    return make_figure(\n",
      "  File \"C:\\Users\\beatr\\anaconda3\\lib\\site-packages\\plotly\\express\\_core.py\", line 1879, in make_figure\n",
      "    args = build_dataframe(args, constructor)\n",
      "  File \"C:\\Users\\beatr\\anaconda3\\lib\\site-packages\\plotly\\express\\_core.py\", line 1399, in build_dataframe\n",
      "    df_output, wide_id_vars = process_args_into_dataframe(\n",
      "  File \"C:\\Users\\beatr\\anaconda3\\lib\\site-packages\\plotly\\express\\_core.py\", line 1207, in process_args_into_dataframe\n",
      "    raise ValueError(\n",
      "ValueError: All arguments should have the same length. The length of column argument `df[path_0]` is 22, whereas the length of  previously-processed arguments ['values'] is 1\n",
      "Exception on /_dash-update-component [POST]\n",
      "Traceback (most recent call last):\n",
      "  File \"C:\\Users\\beatr\\anaconda3\\lib\\site-packages\\flask\\app.py\", line 2447, in wsgi_app\n",
      "    response = self.full_dispatch_request()\n",
      "  File \"C:\\Users\\beatr\\anaconda3\\lib\\site-packages\\flask\\app.py\", line 1952, in full_dispatch_request\n",
      "    rv = self.handle_user_exception(e)\n",
      "  File \"C:\\Users\\beatr\\anaconda3\\lib\\site-packages\\flask\\app.py\", line 1821, in handle_user_exception\n",
      "    reraise(exc_type, exc_value, tb)\n",
      "  File \"C:\\Users\\beatr\\anaconda3\\lib\\site-packages\\flask\\_compat.py\", line 39, in reraise\n",
      "    raise value\n",
      "  File \"C:\\Users\\beatr\\anaconda3\\lib\\site-packages\\flask\\app.py\", line 1950, in full_dispatch_request\n",
      "    rv = self.dispatch_request()\n",
      "  File \"C:\\Users\\beatr\\anaconda3\\lib\\site-packages\\flask\\app.py\", line 1936, in dispatch_request\n",
      "    return self.view_functions[rule.endpoint](**req.view_args)\n",
      "  File \"C:\\Users\\beatr\\anaconda3\\lib\\site-packages\\dash\\dash.py\", line 1345, in dispatch\n",
      "    response.set_data(func(*args, outputs_list=outputs_list))\n",
      "  File \"C:\\Users\\beatr\\anaconda3\\lib\\site-packages\\dash\\_callback.py\", line 151, in add_context\n",
      "    output_value = func(*func_args, **func_kwargs)  # %% callback invoked %%\n",
      "  File \"<ipython-input-278-d2cfb6ae60dd>\", line 12, in update_treemap\n",
      "    fig = px.treemap(filtered_df, path=['Country or Area'],values=selected_var, color=selected_var, color_continuous_scale='brwnyl',\n",
      "  File \"C:\\Users\\beatr\\anaconda3\\lib\\site-packages\\plotly\\express\\_chart_types.py\", line 1473, in treemap\n",
      "    return make_figure(\n",
      "  File \"C:\\Users\\beatr\\anaconda3\\lib\\site-packages\\plotly\\express\\_core.py\", line 1879, in make_figure\n",
      "    args = build_dataframe(args, constructor)\n",
      "  File \"C:\\Users\\beatr\\anaconda3\\lib\\site-packages\\plotly\\express\\_core.py\", line 1399, in build_dataframe\n",
      "    df_output, wide_id_vars = process_args_into_dataframe(\n",
      "  File \"C:\\Users\\beatr\\anaconda3\\lib\\site-packages\\plotly\\express\\_core.py\", line 1207, in process_args_into_dataframe\n",
      "    raise ValueError(\n",
      "ValueError: All arguments should have the same length. The length of column argument `df[path_0]` is 22, whereas the length of  previously-processed arguments ['values'] is 1\n",
      "Exception on /_dash-update-component [POST]\n",
      "Traceback (most recent call last):\n",
      "  File \"C:\\Users\\beatr\\anaconda3\\lib\\site-packages\\flask\\app.py\", line 2447, in wsgi_app\n",
      "    response = self.full_dispatch_request()\n",
      "  File \"C:\\Users\\beatr\\anaconda3\\lib\\site-packages\\flask\\app.py\", line 1952, in full_dispatch_request\n",
      "    rv = self.handle_user_exception(e)\n",
      "  File \"C:\\Users\\beatr\\anaconda3\\lib\\site-packages\\flask\\app.py\", line 1821, in handle_user_exception\n",
      "    reraise(exc_type, exc_value, tb)\n",
      "  File \"C:\\Users\\beatr\\anaconda3\\lib\\site-packages\\flask\\_compat.py\", line 39, in reraise\n",
      "    raise value\n",
      "  File \"C:\\Users\\beatr\\anaconda3\\lib\\site-packages\\flask\\app.py\", line 1950, in full_dispatch_request\n",
      "    rv = self.dispatch_request()\n",
      "  File \"C:\\Users\\beatr\\anaconda3\\lib\\site-packages\\flask\\app.py\", line 1936, in dispatch_request\n",
      "    return self.view_functions[rule.endpoint](**req.view_args)\n",
      "  File \"C:\\Users\\beatr\\anaconda3\\lib\\site-packages\\dash\\dash.py\", line 1345, in dispatch\n",
      "    response.set_data(func(*args, outputs_list=outputs_list))\n",
      "  File \"C:\\Users\\beatr\\anaconda3\\lib\\site-packages\\dash\\_callback.py\", line 151, in add_context\n",
      "    output_value = func(*func_args, **func_kwargs)  # %% callback invoked %%\n",
      "  File \"<ipython-input-278-d2cfb6ae60dd>\", line 12, in update_treemap\n",
      "    fig = px.treemap(filtered_df, path=['Country or Area'],values=selected_var, color=selected_var, color_continuous_scale='brwnyl',\n",
      "  File \"C:\\Users\\beatr\\anaconda3\\lib\\site-packages\\plotly\\express\\_chart_types.py\", line 1473, in treemap\n",
      "    return make_figure(\n",
      "  File \"C:\\Users\\beatr\\anaconda3\\lib\\site-packages\\plotly\\express\\_core.py\", line 1879, in make_figure\n",
      "    args = build_dataframe(args, constructor)\n",
      "  File \"C:\\Users\\beatr\\anaconda3\\lib\\site-packages\\plotly\\express\\_core.py\", line 1399, in build_dataframe\n",
      "    df_output, wide_id_vars = process_args_into_dataframe(\n",
      "  File \"C:\\Users\\beatr\\anaconda3\\lib\\site-packages\\plotly\\express\\_core.py\", line 1207, in process_args_into_dataframe\n",
      "    raise ValueError(\n",
      "ValueError: All arguments should have the same length. The length of column argument `df[path_0]` is 22, whereas the length of  previously-processed arguments ['values'] is 1\n",
      "Exception on /_dash-update-component [POST]\n",
      "Traceback (most recent call last):\n",
      "  File \"C:\\Users\\beatr\\anaconda3\\lib\\site-packages\\flask\\app.py\", line 2447, in wsgi_app\n",
      "    response = self.full_dispatch_request()\n",
      "  File \"C:\\Users\\beatr\\anaconda3\\lib\\site-packages\\flask\\app.py\", line 1952, in full_dispatch_request\n",
      "    rv = self.handle_user_exception(e)\n",
      "  File \"C:\\Users\\beatr\\anaconda3\\lib\\site-packages\\flask\\app.py\", line 1821, in handle_user_exception\n",
      "    reraise(exc_type, exc_value, tb)\n",
      "  File \"C:\\Users\\beatr\\anaconda3\\lib\\site-packages\\flask\\_compat.py\", line 39, in reraise\n",
      "    raise value\n",
      "  File \"C:\\Users\\beatr\\anaconda3\\lib\\site-packages\\flask\\app.py\", line 1950, in full_dispatch_request\n",
      "    rv = self.dispatch_request()\n",
      "  File \"C:\\Users\\beatr\\anaconda3\\lib\\site-packages\\flask\\app.py\", line 1936, in dispatch_request\n",
      "    return self.view_functions[rule.endpoint](**req.view_args)\n",
      "  File \"C:\\Users\\beatr\\anaconda3\\lib\\site-packages\\dash\\dash.py\", line 1345, in dispatch\n",
      "    response.set_data(func(*args, outputs_list=outputs_list))\n",
      "  File \"C:\\Users\\beatr\\anaconda3\\lib\\site-packages\\dash\\_callback.py\", line 151, in add_context\n",
      "    output_value = func(*func_args, **func_kwargs)  # %% callback invoked %%\n",
      "  File \"<ipython-input-278-d2cfb6ae60dd>\", line 12, in update_treemap\n",
      "    fig = px.treemap(filtered_df, path=['Country or Area'],values=selected_var, color=selected_var, color_continuous_scale='brwnyl',\n",
      "  File \"C:\\Users\\beatr\\anaconda3\\lib\\site-packages\\plotly\\express\\_chart_types.py\", line 1473, in treemap\n",
      "    return make_figure(\n",
      "  File \"C:\\Users\\beatr\\anaconda3\\lib\\site-packages\\plotly\\express\\_core.py\", line 1879, in make_figure\n",
      "    args = build_dataframe(args, constructor)\n",
      "  File \"C:\\Users\\beatr\\anaconda3\\lib\\site-packages\\plotly\\express\\_core.py\", line 1399, in build_dataframe\n",
      "    df_output, wide_id_vars = process_args_into_dataframe(\n",
      "  File \"C:\\Users\\beatr\\anaconda3\\lib\\site-packages\\plotly\\express\\_core.py\", line 1207, in process_args_into_dataframe\n",
      "    raise ValueError(\n",
      "ValueError: All arguments should have the same length. The length of column argument `df[path_0]` is 22, whereas the length of  previously-processed arguments ['values'] is 1\n",
      "Exception on /_dash-update-component [POST]\n",
      "Traceback (most recent call last):\n",
      "  File \"C:\\Users\\beatr\\anaconda3\\lib\\site-packages\\flask\\app.py\", line 2447, in wsgi_app\n",
      "    response = self.full_dispatch_request()\n",
      "  File \"C:\\Users\\beatr\\anaconda3\\lib\\site-packages\\flask\\app.py\", line 1952, in full_dispatch_request\n",
      "    rv = self.handle_user_exception(e)\n",
      "  File \"C:\\Users\\beatr\\anaconda3\\lib\\site-packages\\flask\\app.py\", line 1821, in handle_user_exception\n",
      "    reraise(exc_type, exc_value, tb)\n",
      "  File \"C:\\Users\\beatr\\anaconda3\\lib\\site-packages\\flask\\_compat.py\", line 39, in reraise\n",
      "    raise value\n",
      "  File \"C:\\Users\\beatr\\anaconda3\\lib\\site-packages\\flask\\app.py\", line 1950, in full_dispatch_request\n",
      "    rv = self.dispatch_request()\n",
      "  File \"C:\\Users\\beatr\\anaconda3\\lib\\site-packages\\flask\\app.py\", line 1936, in dispatch_request\n",
      "    return self.view_functions[rule.endpoint](**req.view_args)\n",
      "  File \"C:\\Users\\beatr\\anaconda3\\lib\\site-packages\\dash\\dash.py\", line 1345, in dispatch\n",
      "    response.set_data(func(*args, outputs_list=outputs_list))\n",
      "  File \"C:\\Users\\beatr\\anaconda3\\lib\\site-packages\\dash\\_callback.py\", line 151, in add_context\n",
      "    output_value = func(*func_args, **func_kwargs)  # %% callback invoked %%\n",
      "  File \"<ipython-input-278-d2cfb6ae60dd>\", line 12, in update_treemap\n",
      "    fig = px.treemap(filtered_df, path=['Country or Area'],values=selected_var, color=selected_var, color_continuous_scale='brwnyl',\n",
      "  File \"C:\\Users\\beatr\\anaconda3\\lib\\site-packages\\plotly\\express\\_chart_types.py\", line 1473, in treemap\n",
      "    return make_figure(\n",
      "  File \"C:\\Users\\beatr\\anaconda3\\lib\\site-packages\\plotly\\express\\_core.py\", line 1879, in make_figure\n",
      "    args = build_dataframe(args, constructor)\n",
      "  File \"C:\\Users\\beatr\\anaconda3\\lib\\site-packages\\plotly\\express\\_core.py\", line 1399, in build_dataframe\n",
      "    df_output, wide_id_vars = process_args_into_dataframe(\n",
      "  File \"C:\\Users\\beatr\\anaconda3\\lib\\site-packages\\plotly\\express\\_core.py\", line 1207, in process_args_into_dataframe\n",
      "    raise ValueError(\n",
      "ValueError: All arguments should have the same length. The length of column argument `df[path_0]` is 22, whereas the length of  previously-processed arguments ['values'] is 1\n",
      "Exception on /_dash-update-component [POST]\n",
      "Traceback (most recent call last):\n",
      "  File \"C:\\Users\\beatr\\anaconda3\\lib\\site-packages\\flask\\app.py\", line 2447, in wsgi_app\n",
      "    response = self.full_dispatch_request()\n",
      "  File \"C:\\Users\\beatr\\anaconda3\\lib\\site-packages\\flask\\app.py\", line 1952, in full_dispatch_request\n",
      "    rv = self.handle_user_exception(e)\n",
      "  File \"C:\\Users\\beatr\\anaconda3\\lib\\site-packages\\flask\\app.py\", line 1821, in handle_user_exception\n",
      "    reraise(exc_type, exc_value, tb)\n",
      "  File \"C:\\Users\\beatr\\anaconda3\\lib\\site-packages\\flask\\_compat.py\", line 39, in reraise\n",
      "    raise value\n",
      "  File \"C:\\Users\\beatr\\anaconda3\\lib\\site-packages\\flask\\app.py\", line 1950, in full_dispatch_request\n",
      "    rv = self.dispatch_request()\n",
      "  File \"C:\\Users\\beatr\\anaconda3\\lib\\site-packages\\flask\\app.py\", line 1936, in dispatch_request\n",
      "    return self.view_functions[rule.endpoint](**req.view_args)\n",
      "  File \"C:\\Users\\beatr\\anaconda3\\lib\\site-packages\\dash\\dash.py\", line 1345, in dispatch\n",
      "    response.set_data(func(*args, outputs_list=outputs_list))\n",
      "  File \"C:\\Users\\beatr\\anaconda3\\lib\\site-packages\\dash\\_callback.py\", line 151, in add_context\n",
      "    output_value = func(*func_args, **func_kwargs)  # %% callback invoked %%\n",
      "  File \"<ipython-input-278-d2cfb6ae60dd>\", line 12, in update_treemap\n",
      "    fig = px.treemap(filtered_df, path=['Country or Area'],values=selected_var, color=selected_var, color_continuous_scale='brwnyl',\n",
      "  File \"C:\\Users\\beatr\\anaconda3\\lib\\site-packages\\plotly\\express\\_chart_types.py\", line 1473, in treemap\n",
      "    return make_figure(\n",
      "  File \"C:\\Users\\beatr\\anaconda3\\lib\\site-packages\\plotly\\express\\_core.py\", line 1879, in make_figure\n",
      "    args = build_dataframe(args, constructor)\n",
      "  File \"C:\\Users\\beatr\\anaconda3\\lib\\site-packages\\plotly\\express\\_core.py\", line 1399, in build_dataframe\n",
      "    df_output, wide_id_vars = process_args_into_dataframe(\n",
      "  File \"C:\\Users\\beatr\\anaconda3\\lib\\site-packages\\plotly\\express\\_core.py\", line 1207, in process_args_into_dataframe\n",
      "    raise ValueError(\n",
      "ValueError: All arguments should have the same length. The length of column argument `df[path_0]` is 22, whereas the length of  previously-processed arguments ['values'] is 1\n",
      "Exception on /_dash-update-component [POST]\n",
      "Traceback (most recent call last):\n",
      "  File \"C:\\Users\\beatr\\anaconda3\\lib\\site-packages\\flask\\app.py\", line 2447, in wsgi_app\n",
      "    response = self.full_dispatch_request()\n",
      "  File \"C:\\Users\\beatr\\anaconda3\\lib\\site-packages\\flask\\app.py\", line 1952, in full_dispatch_request\n",
      "    rv = self.handle_user_exception(e)\n",
      "  File \"C:\\Users\\beatr\\anaconda3\\lib\\site-packages\\flask\\app.py\", line 1821, in handle_user_exception\n",
      "    reraise(exc_type, exc_value, tb)\n",
      "  File \"C:\\Users\\beatr\\anaconda3\\lib\\site-packages\\flask\\_compat.py\", line 39, in reraise\n",
      "    raise value\n",
      "  File \"C:\\Users\\beatr\\anaconda3\\lib\\site-packages\\flask\\app.py\", line 1950, in full_dispatch_request\n",
      "    rv = self.dispatch_request()\n",
      "  File \"C:\\Users\\beatr\\anaconda3\\lib\\site-packages\\flask\\app.py\", line 1936, in dispatch_request\n",
      "    return self.view_functions[rule.endpoint](**req.view_args)\n",
      "  File \"C:\\Users\\beatr\\anaconda3\\lib\\site-packages\\dash\\dash.py\", line 1345, in dispatch\n",
      "    response.set_data(func(*args, outputs_list=outputs_list))\n",
      "  File \"C:\\Users\\beatr\\anaconda3\\lib\\site-packages\\dash\\_callback.py\", line 151, in add_context\n",
      "    output_value = func(*func_args, **func_kwargs)  # %% callback invoked %%\n",
      "  File \"<ipython-input-278-d2cfb6ae60dd>\", line 12, in update_treemap\n",
      "    fig = px.treemap(filtered_df, path=['Country or Area'],values=selected_var, color=selected_var, color_continuous_scale='brwnyl',\n",
      "  File \"C:\\Users\\beatr\\anaconda3\\lib\\site-packages\\plotly\\express\\_chart_types.py\", line 1473, in treemap\n",
      "    return make_figure(\n",
      "  File \"C:\\Users\\beatr\\anaconda3\\lib\\site-packages\\plotly\\express\\_core.py\", line 1879, in make_figure\n",
      "    args = build_dataframe(args, constructor)\n",
      "  File \"C:\\Users\\beatr\\anaconda3\\lib\\site-packages\\plotly\\express\\_core.py\", line 1399, in build_dataframe\n",
      "    df_output, wide_id_vars = process_args_into_dataframe(\n",
      "  File \"C:\\Users\\beatr\\anaconda3\\lib\\site-packages\\plotly\\express\\_core.py\", line 1207, in process_args_into_dataframe\n",
      "    raise ValueError(\n",
      "ValueError: All arguments should have the same length. The length of column argument `df[path_0]` is 22, whereas the length of  previously-processed arguments ['values'] is 1\n",
      "Exception on /_dash-update-component [POST]\n",
      "Traceback (most recent call last):\n",
      "  File \"C:\\Users\\beatr\\anaconda3\\lib\\site-packages\\flask\\app.py\", line 2447, in wsgi_app\n",
      "    response = self.full_dispatch_request()\n",
      "  File \"C:\\Users\\beatr\\anaconda3\\lib\\site-packages\\flask\\app.py\", line 1952, in full_dispatch_request\n",
      "    rv = self.handle_user_exception(e)\n",
      "  File \"C:\\Users\\beatr\\anaconda3\\lib\\site-packages\\flask\\app.py\", line 1821, in handle_user_exception\n",
      "    reraise(exc_type, exc_value, tb)\n",
      "  File \"C:\\Users\\beatr\\anaconda3\\lib\\site-packages\\flask\\_compat.py\", line 39, in reraise\n",
      "    raise value\n",
      "  File \"C:\\Users\\beatr\\anaconda3\\lib\\site-packages\\flask\\app.py\", line 1950, in full_dispatch_request\n",
      "    rv = self.dispatch_request()\n",
      "  File \"C:\\Users\\beatr\\anaconda3\\lib\\site-packages\\flask\\app.py\", line 1936, in dispatch_request\n",
      "    return self.view_functions[rule.endpoint](**req.view_args)\n",
      "  File \"C:\\Users\\beatr\\anaconda3\\lib\\site-packages\\dash\\dash.py\", line 1345, in dispatch\n",
      "    response.set_data(func(*args, outputs_list=outputs_list))\n",
      "  File \"C:\\Users\\beatr\\anaconda3\\lib\\site-packages\\dash\\_callback.py\", line 151, in add_context\n",
      "    output_value = func(*func_args, **func_kwargs)  # %% callback invoked %%\n",
      "  File \"<ipython-input-278-d2cfb6ae60dd>\", line 12, in update_treemap\n",
      "    fig = px.treemap(filtered_df, path=['Country or Area'],values=selected_var, color=selected_var, color_continuous_scale='brwnyl',\n",
      "  File \"C:\\Users\\beatr\\anaconda3\\lib\\site-packages\\plotly\\express\\_chart_types.py\", line 1473, in treemap\n",
      "    return make_figure(\n",
      "  File \"C:\\Users\\beatr\\anaconda3\\lib\\site-packages\\plotly\\express\\_core.py\", line 1879, in make_figure\n",
      "    args = build_dataframe(args, constructor)\n",
      "  File \"C:\\Users\\beatr\\anaconda3\\lib\\site-packages\\plotly\\express\\_core.py\", line 1399, in build_dataframe\n",
      "    df_output, wide_id_vars = process_args_into_dataframe(\n",
      "  File \"C:\\Users\\beatr\\anaconda3\\lib\\site-packages\\plotly\\express\\_core.py\", line 1207, in process_args_into_dataframe\n",
      "    raise ValueError(\n",
      "ValueError: All arguments should have the same length. The length of column argument `df[path_0]` is 22, whereas the length of  previously-processed arguments ['values'] is 1\n",
      "Exception on /_dash-update-component [POST]\n",
      "Traceback (most recent call last):\n",
      "  File \"C:\\Users\\beatr\\anaconda3\\lib\\site-packages\\flask\\app.py\", line 2447, in wsgi_app\n",
      "    response = self.full_dispatch_request()\n",
      "  File \"C:\\Users\\beatr\\anaconda3\\lib\\site-packages\\flask\\app.py\", line 1952, in full_dispatch_request\n",
      "    rv = self.handle_user_exception(e)\n",
      "  File \"C:\\Users\\beatr\\anaconda3\\lib\\site-packages\\flask\\app.py\", line 1821, in handle_user_exception\n",
      "    reraise(exc_type, exc_value, tb)\n",
      "  File \"C:\\Users\\beatr\\anaconda3\\lib\\site-packages\\flask\\_compat.py\", line 39, in reraise\n",
      "    raise value\n",
      "  File \"C:\\Users\\beatr\\anaconda3\\lib\\site-packages\\flask\\app.py\", line 1950, in full_dispatch_request\n",
      "    rv = self.dispatch_request()\n",
      "  File \"C:\\Users\\beatr\\anaconda3\\lib\\site-packages\\flask\\app.py\", line 1936, in dispatch_request\n",
      "    return self.view_functions[rule.endpoint](**req.view_args)\n",
      "  File \"C:\\Users\\beatr\\anaconda3\\lib\\site-packages\\dash\\dash.py\", line 1345, in dispatch\n",
      "    response.set_data(func(*args, outputs_list=outputs_list))\n",
      "  File \"C:\\Users\\beatr\\anaconda3\\lib\\site-packages\\dash\\_callback.py\", line 151, in add_context\n",
      "    output_value = func(*func_args, **func_kwargs)  # %% callback invoked %%\n",
      "  File \"<ipython-input-278-d2cfb6ae60dd>\", line 12, in update_treemap\n",
      "    fig = px.treemap(filtered_df, path=['Country or Area'],values=selected_var, color=selected_var, color_continuous_scale='brwnyl',\n",
      "  File \"C:\\Users\\beatr\\anaconda3\\lib\\site-packages\\plotly\\express\\_chart_types.py\", line 1473, in treemap\n",
      "    return make_figure(\n",
      "  File \"C:\\Users\\beatr\\anaconda3\\lib\\site-packages\\plotly\\express\\_core.py\", line 1879, in make_figure\n",
      "    args = build_dataframe(args, constructor)\n",
      "  File \"C:\\Users\\beatr\\anaconda3\\lib\\site-packages\\plotly\\express\\_core.py\", line 1399, in build_dataframe\n",
      "    df_output, wide_id_vars = process_args_into_dataframe(\n",
      "  File \"C:\\Users\\beatr\\anaconda3\\lib\\site-packages\\plotly\\express\\_core.py\", line 1207, in process_args_into_dataframe\n",
      "    raise ValueError(\n",
      "ValueError: All arguments should have the same length. The length of column argument `df[path_0]` is 22, whereas the length of  previously-processed arguments ['values'] is 1\n",
      "Exception on /_dash-update-component [POST]\n",
      "Traceback (most recent call last):\n",
      "  File \"C:\\Users\\beatr\\anaconda3\\lib\\site-packages\\flask\\app.py\", line 2447, in wsgi_app\n",
      "    response = self.full_dispatch_request()\n",
      "  File \"C:\\Users\\beatr\\anaconda3\\lib\\site-packages\\flask\\app.py\", line 1952, in full_dispatch_request\n",
      "    rv = self.handle_user_exception(e)\n",
      "  File \"C:\\Users\\beatr\\anaconda3\\lib\\site-packages\\flask\\app.py\", line 1821, in handle_user_exception\n",
      "    reraise(exc_type, exc_value, tb)\n",
      "  File \"C:\\Users\\beatr\\anaconda3\\lib\\site-packages\\flask\\_compat.py\", line 39, in reraise\n",
      "    raise value\n",
      "  File \"C:\\Users\\beatr\\anaconda3\\lib\\site-packages\\flask\\app.py\", line 1950, in full_dispatch_request\n",
      "    rv = self.dispatch_request()\n",
      "  File \"C:\\Users\\beatr\\anaconda3\\lib\\site-packages\\flask\\app.py\", line 1936, in dispatch_request\n",
      "    return self.view_functions[rule.endpoint](**req.view_args)\n",
      "  File \"C:\\Users\\beatr\\anaconda3\\lib\\site-packages\\dash\\dash.py\", line 1345, in dispatch\n",
      "    response.set_data(func(*args, outputs_list=outputs_list))\n",
      "  File \"C:\\Users\\beatr\\anaconda3\\lib\\site-packages\\dash\\_callback.py\", line 151, in add_context\n",
      "    output_value = func(*func_args, **func_kwargs)  # %% callback invoked %%\n",
      "  File \"<ipython-input-278-d2cfb6ae60dd>\", line 12, in update_treemap\n",
      "    fig = px.treemap(filtered_df, path=['Country or Area'],values=selected_var, color=selected_var, color_continuous_scale='brwnyl',\n",
      "  File \"C:\\Users\\beatr\\anaconda3\\lib\\site-packages\\plotly\\express\\_chart_types.py\", line 1473, in treemap\n",
      "    return make_figure(\n",
      "  File \"C:\\Users\\beatr\\anaconda3\\lib\\site-packages\\plotly\\express\\_core.py\", line 1879, in make_figure\n",
      "    args = build_dataframe(args, constructor)\n",
      "  File \"C:\\Users\\beatr\\anaconda3\\lib\\site-packages\\plotly\\express\\_core.py\", line 1399, in build_dataframe\n",
      "    df_output, wide_id_vars = process_args_into_dataframe(\n",
      "  File \"C:\\Users\\beatr\\anaconda3\\lib\\site-packages\\plotly\\express\\_core.py\", line 1207, in process_args_into_dataframe\n",
      "    raise ValueError(\n",
      "ValueError: All arguments should have the same length. The length of column argument `df[path_0]` is 22, whereas the length of  previously-processed arguments ['values'] is 1\n",
      "Exception on /_dash-update-component [POST]\n",
      "Traceback (most recent call last):\n",
      "  File \"C:\\Users\\beatr\\anaconda3\\lib\\site-packages\\flask\\app.py\", line 2447, in wsgi_app\n",
      "    response = self.full_dispatch_request()\n",
      "  File \"C:\\Users\\beatr\\anaconda3\\lib\\site-packages\\flask\\app.py\", line 1952, in full_dispatch_request\n",
      "    rv = self.handle_user_exception(e)\n",
      "  File \"C:\\Users\\beatr\\anaconda3\\lib\\site-packages\\flask\\app.py\", line 1821, in handle_user_exception\n",
      "    reraise(exc_type, exc_value, tb)\n",
      "  File \"C:\\Users\\beatr\\anaconda3\\lib\\site-packages\\flask\\_compat.py\", line 39, in reraise\n",
      "    raise value\n",
      "  File \"C:\\Users\\beatr\\anaconda3\\lib\\site-packages\\flask\\app.py\", line 1950, in full_dispatch_request\n",
      "    rv = self.dispatch_request()\n",
      "  File \"C:\\Users\\beatr\\anaconda3\\lib\\site-packages\\flask\\app.py\", line 1936, in dispatch_request\n",
      "    return self.view_functions[rule.endpoint](**req.view_args)\n",
      "  File \"C:\\Users\\beatr\\anaconda3\\lib\\site-packages\\dash\\dash.py\", line 1345, in dispatch\n",
      "    response.set_data(func(*args, outputs_list=outputs_list))\n",
      "  File \"C:\\Users\\beatr\\anaconda3\\lib\\site-packages\\dash\\_callback.py\", line 151, in add_context\n",
      "    output_value = func(*func_args, **func_kwargs)  # %% callback invoked %%\n",
      "  File \"<ipython-input-278-d2cfb6ae60dd>\", line 12, in update_treemap\n",
      "    fig = px.treemap(filtered_df, path=['Country or Area'],values=selected_var, color=selected_var, color_continuous_scale='brwnyl',\n",
      "  File \"C:\\Users\\beatr\\anaconda3\\lib\\site-packages\\plotly\\express\\_chart_types.py\", line 1473, in treemap\n",
      "    return make_figure(\n",
      "  File \"C:\\Users\\beatr\\anaconda3\\lib\\site-packages\\plotly\\express\\_core.py\", line 1879, in make_figure\n",
      "    args = build_dataframe(args, constructor)\n",
      "  File \"C:\\Users\\beatr\\anaconda3\\lib\\site-packages\\plotly\\express\\_core.py\", line 1399, in build_dataframe\n",
      "    df_output, wide_id_vars = process_args_into_dataframe(\n",
      "  File \"C:\\Users\\beatr\\anaconda3\\lib\\site-packages\\plotly\\express\\_core.py\", line 1207, in process_args_into_dataframe\n",
      "    raise ValueError(\n",
      "ValueError: All arguments should have the same length. The length of column argument `df[path_0]` is 22, whereas the length of  previously-processed arguments ['values'] is 1\n",
      "Exception on /_dash-update-component [POST]\n",
      "Traceback (most recent call last):\n",
      "  File \"C:\\Users\\beatr\\anaconda3\\lib\\site-packages\\flask\\app.py\", line 2447, in wsgi_app\n",
      "    response = self.full_dispatch_request()\n",
      "  File \"C:\\Users\\beatr\\anaconda3\\lib\\site-packages\\flask\\app.py\", line 1952, in full_dispatch_request\n",
      "    rv = self.handle_user_exception(e)\n",
      "  File \"C:\\Users\\beatr\\anaconda3\\lib\\site-packages\\flask\\app.py\", line 1821, in handle_user_exception\n",
      "    reraise(exc_type, exc_value, tb)\n",
      "  File \"C:\\Users\\beatr\\anaconda3\\lib\\site-packages\\flask\\_compat.py\", line 39, in reraise\n",
      "    raise value\n",
      "  File \"C:\\Users\\beatr\\anaconda3\\lib\\site-packages\\flask\\app.py\", line 1950, in full_dispatch_request\n",
      "    rv = self.dispatch_request()\n",
      "  File \"C:\\Users\\beatr\\anaconda3\\lib\\site-packages\\flask\\app.py\", line 1936, in dispatch_request\n",
      "    return self.view_functions[rule.endpoint](**req.view_args)\n",
      "  File \"C:\\Users\\beatr\\anaconda3\\lib\\site-packages\\dash\\dash.py\", line 1345, in dispatch\n",
      "    response.set_data(func(*args, outputs_list=outputs_list))\n",
      "  File \"C:\\Users\\beatr\\anaconda3\\lib\\site-packages\\dash\\_callback.py\", line 151, in add_context\n",
      "    output_value = func(*func_args, **func_kwargs)  # %% callback invoked %%\n",
      "  File \"<ipython-input-278-d2cfb6ae60dd>\", line 12, in update_treemap\n",
      "    fig = px.treemap(filtered_df, path=['Country or Area'],values=selected_var, color=selected_var, color_continuous_scale='brwnyl',\n",
      "  File \"C:\\Users\\beatr\\anaconda3\\lib\\site-packages\\plotly\\express\\_chart_types.py\", line 1473, in treemap\n",
      "    return make_figure(\n",
      "  File \"C:\\Users\\beatr\\anaconda3\\lib\\site-packages\\plotly\\express\\_core.py\", line 1879, in make_figure\n",
      "    args = build_dataframe(args, constructor)\n",
      "  File \"C:\\Users\\beatr\\anaconda3\\lib\\site-packages\\plotly\\express\\_core.py\", line 1399, in build_dataframe\n",
      "    df_output, wide_id_vars = process_args_into_dataframe(\n",
      "  File \"C:\\Users\\beatr\\anaconda3\\lib\\site-packages\\plotly\\express\\_core.py\", line 1207, in process_args_into_dataframe\n",
      "    raise ValueError(\n",
      "ValueError: All arguments should have the same length. The length of column argument `df[path_0]` is 22, whereas the length of  previously-processed arguments ['values'] is 1\n",
      "Exception on /_dash-update-component [POST]\n",
      "Traceback (most recent call last):\n",
      "  File \"C:\\Users\\beatr\\anaconda3\\lib\\site-packages\\flask\\app.py\", line 2447, in wsgi_app\n",
      "    response = self.full_dispatch_request()\n",
      "  File \"C:\\Users\\beatr\\anaconda3\\lib\\site-packages\\flask\\app.py\", line 1952, in full_dispatch_request\n",
      "    rv = self.handle_user_exception(e)\n",
      "  File \"C:\\Users\\beatr\\anaconda3\\lib\\site-packages\\flask\\app.py\", line 1821, in handle_user_exception\n",
      "    reraise(exc_type, exc_value, tb)\n",
      "  File \"C:\\Users\\beatr\\anaconda3\\lib\\site-packages\\flask\\_compat.py\", line 39, in reraise\n",
      "    raise value\n",
      "  File \"C:\\Users\\beatr\\anaconda3\\lib\\site-packages\\flask\\app.py\", line 1950, in full_dispatch_request\n",
      "    rv = self.dispatch_request()\n",
      "  File \"C:\\Users\\beatr\\anaconda3\\lib\\site-packages\\flask\\app.py\", line 1936, in dispatch_request\n",
      "    return self.view_functions[rule.endpoint](**req.view_args)\n",
      "  File \"C:\\Users\\beatr\\anaconda3\\lib\\site-packages\\dash\\dash.py\", line 1345, in dispatch\n",
      "    response.set_data(func(*args, outputs_list=outputs_list))\n",
      "  File \"C:\\Users\\beatr\\anaconda3\\lib\\site-packages\\dash\\_callback.py\", line 151, in add_context\n",
      "    output_value = func(*func_args, **func_kwargs)  # %% callback invoked %%\n",
      "  File \"<ipython-input-278-d2cfb6ae60dd>\", line 12, in update_treemap\n",
      "    fig = px.treemap(filtered_df, path=['Country or Area'],values=selected_var, color=selected_var, color_continuous_scale='brwnyl',\n",
      "  File \"C:\\Users\\beatr\\anaconda3\\lib\\site-packages\\plotly\\express\\_chart_types.py\", line 1473, in treemap\n",
      "    return make_figure(\n",
      "  File \"C:\\Users\\beatr\\anaconda3\\lib\\site-packages\\plotly\\express\\_core.py\", line 1879, in make_figure\n",
      "    args = build_dataframe(args, constructor)\n",
      "  File \"C:\\Users\\beatr\\anaconda3\\lib\\site-packages\\plotly\\express\\_core.py\", line 1399, in build_dataframe\n",
      "    df_output, wide_id_vars = process_args_into_dataframe(\n",
      "  File \"C:\\Users\\beatr\\anaconda3\\lib\\site-packages\\plotly\\express\\_core.py\", line 1207, in process_args_into_dataframe\n",
      "    raise ValueError(\n",
      "ValueError: All arguments should have the same length. The length of column argument `df[path_0]` is 22, whereas the length of  previously-processed arguments ['values'] is 1\n",
      "Exception on /_dash-update-component [POST]\n",
      "Traceback (most recent call last):\n",
      "  File \"C:\\Users\\beatr\\anaconda3\\lib\\site-packages\\flask\\app.py\", line 2447, in wsgi_app\n",
      "    response = self.full_dispatch_request()\n",
      "  File \"C:\\Users\\beatr\\anaconda3\\lib\\site-packages\\flask\\app.py\", line 1952, in full_dispatch_request\n",
      "    rv = self.handle_user_exception(e)\n",
      "  File \"C:\\Users\\beatr\\anaconda3\\lib\\site-packages\\flask\\app.py\", line 1821, in handle_user_exception\n",
      "    reraise(exc_type, exc_value, tb)\n",
      "  File \"C:\\Users\\beatr\\anaconda3\\lib\\site-packages\\flask\\_compat.py\", line 39, in reraise\n",
      "    raise value\n",
      "  File \"C:\\Users\\beatr\\anaconda3\\lib\\site-packages\\flask\\app.py\", line 1950, in full_dispatch_request\n",
      "    rv = self.dispatch_request()\n",
      "  File \"C:\\Users\\beatr\\anaconda3\\lib\\site-packages\\flask\\app.py\", line 1936, in dispatch_request\n",
      "    return self.view_functions[rule.endpoint](**req.view_args)\n",
      "  File \"C:\\Users\\beatr\\anaconda3\\lib\\site-packages\\dash\\dash.py\", line 1345, in dispatch\n",
      "    response.set_data(func(*args, outputs_list=outputs_list))\n",
      "  File \"C:\\Users\\beatr\\anaconda3\\lib\\site-packages\\dash\\_callback.py\", line 151, in add_context\n",
      "    output_value = func(*func_args, **func_kwargs)  # %% callback invoked %%\n",
      "  File \"<ipython-input-278-d2cfb6ae60dd>\", line 12, in update_treemap\n",
      "    fig = px.treemap(filtered_df, path=['Country or Area'],values=selected_var, color=selected_var, color_continuous_scale='brwnyl',\n",
      "  File \"C:\\Users\\beatr\\anaconda3\\lib\\site-packages\\plotly\\express\\_chart_types.py\", line 1473, in treemap\n",
      "    return make_figure(\n",
      "  File \"C:\\Users\\beatr\\anaconda3\\lib\\site-packages\\plotly\\express\\_core.py\", line 1879, in make_figure\n",
      "    args = build_dataframe(args, constructor)\n",
      "  File \"C:\\Users\\beatr\\anaconda3\\lib\\site-packages\\plotly\\express\\_core.py\", line 1399, in build_dataframe\n",
      "    df_output, wide_id_vars = process_args_into_dataframe(\n",
      "  File \"C:\\Users\\beatr\\anaconda3\\lib\\site-packages\\plotly\\express\\_core.py\", line 1207, in process_args_into_dataframe\n",
      "    raise ValueError(\n",
      "ValueError: All arguments should have the same length. The length of column argument `df[path_0]` is 22, whereas the length of  previously-processed arguments ['values'] is 1\n",
      "Exception on /_dash-update-component [POST]\n",
      "Traceback (most recent call last):\n",
      "  File \"C:\\Users\\beatr\\anaconda3\\lib\\site-packages\\flask\\app.py\", line 2447, in wsgi_app\n",
      "    response = self.full_dispatch_request()\n",
      "  File \"C:\\Users\\beatr\\anaconda3\\lib\\site-packages\\flask\\app.py\", line 1952, in full_dispatch_request\n",
      "    rv = self.handle_user_exception(e)\n",
      "  File \"C:\\Users\\beatr\\anaconda3\\lib\\site-packages\\flask\\app.py\", line 1821, in handle_user_exception\n",
      "    reraise(exc_type, exc_value, tb)\n",
      "  File \"C:\\Users\\beatr\\anaconda3\\lib\\site-packages\\flask\\_compat.py\", line 39, in reraise\n",
      "    raise value\n",
      "  File \"C:\\Users\\beatr\\anaconda3\\lib\\site-packages\\flask\\app.py\", line 1950, in full_dispatch_request\n",
      "    rv = self.dispatch_request()\n",
      "  File \"C:\\Users\\beatr\\anaconda3\\lib\\site-packages\\flask\\app.py\", line 1936, in dispatch_request\n",
      "    return self.view_functions[rule.endpoint](**req.view_args)\n",
      "  File \"C:\\Users\\beatr\\anaconda3\\lib\\site-packages\\dash\\dash.py\", line 1345, in dispatch\n",
      "    response.set_data(func(*args, outputs_list=outputs_list))\n",
      "  File \"C:\\Users\\beatr\\anaconda3\\lib\\site-packages\\dash\\_callback.py\", line 151, in add_context\n",
      "    output_value = func(*func_args, **func_kwargs)  # %% callback invoked %%\n",
      "  File \"<ipython-input-278-d2cfb6ae60dd>\", line 12, in update_treemap\n",
      "    fig = px.treemap(filtered_df, path=['Country or Area'],values=selected_var, color=selected_var, color_continuous_scale='brwnyl',\n",
      "  File \"C:\\Users\\beatr\\anaconda3\\lib\\site-packages\\plotly\\express\\_chart_types.py\", line 1473, in treemap\n",
      "    return make_figure(\n",
      "  File \"C:\\Users\\beatr\\anaconda3\\lib\\site-packages\\plotly\\express\\_core.py\", line 1879, in make_figure\n",
      "    args = build_dataframe(args, constructor)\n",
      "  File \"C:\\Users\\beatr\\anaconda3\\lib\\site-packages\\plotly\\express\\_core.py\", line 1399, in build_dataframe\n",
      "    df_output, wide_id_vars = process_args_into_dataframe(\n",
      "  File \"C:\\Users\\beatr\\anaconda3\\lib\\site-packages\\plotly\\express\\_core.py\", line 1207, in process_args_into_dataframe\n",
      "    raise ValueError(\n",
      "ValueError: All arguments should have the same length. The length of column argument `df[path_0]` is 22, whereas the length of  previously-processed arguments ['values'] is 1\n",
      "Exception on /_dash-update-component [POST]\n",
      "Traceback (most recent call last):\n",
      "  File \"C:\\Users\\beatr\\anaconda3\\lib\\site-packages\\flask\\app.py\", line 2447, in wsgi_app\n",
      "    response = self.full_dispatch_request()\n",
      "  File \"C:\\Users\\beatr\\anaconda3\\lib\\site-packages\\flask\\app.py\", line 1952, in full_dispatch_request\n",
      "    rv = self.handle_user_exception(e)\n",
      "  File \"C:\\Users\\beatr\\anaconda3\\lib\\site-packages\\flask\\app.py\", line 1821, in handle_user_exception\n",
      "    reraise(exc_type, exc_value, tb)\n",
      "  File \"C:\\Users\\beatr\\anaconda3\\lib\\site-packages\\flask\\_compat.py\", line 39, in reraise\n",
      "    raise value\n",
      "  File \"C:\\Users\\beatr\\anaconda3\\lib\\site-packages\\flask\\app.py\", line 1950, in full_dispatch_request\n",
      "    rv = self.dispatch_request()\n",
      "  File \"C:\\Users\\beatr\\anaconda3\\lib\\site-packages\\flask\\app.py\", line 1936, in dispatch_request\n",
      "    return self.view_functions[rule.endpoint](**req.view_args)\n",
      "  File \"C:\\Users\\beatr\\anaconda3\\lib\\site-packages\\dash\\dash.py\", line 1345, in dispatch\n",
      "    response.set_data(func(*args, outputs_list=outputs_list))\n",
      "  File \"C:\\Users\\beatr\\anaconda3\\lib\\site-packages\\dash\\_callback.py\", line 151, in add_context\n",
      "    output_value = func(*func_args, **func_kwargs)  # %% callback invoked %%\n",
      "  File \"<ipython-input-278-d2cfb6ae60dd>\", line 12, in update_treemap\n",
      "    fig = px.treemap(filtered_df, path=['Country or Area'],values=selected_var, color=selected_var, color_continuous_scale='brwnyl',\n",
      "  File \"C:\\Users\\beatr\\anaconda3\\lib\\site-packages\\plotly\\express\\_chart_types.py\", line 1473, in treemap\n",
      "    return make_figure(\n",
      "  File \"C:\\Users\\beatr\\anaconda3\\lib\\site-packages\\plotly\\express\\_core.py\", line 1879, in make_figure\n",
      "    args = build_dataframe(args, constructor)\n",
      "  File \"C:\\Users\\beatr\\anaconda3\\lib\\site-packages\\plotly\\express\\_core.py\", line 1399, in build_dataframe\n",
      "    df_output, wide_id_vars = process_args_into_dataframe(\n",
      "  File \"C:\\Users\\beatr\\anaconda3\\lib\\site-packages\\plotly\\express\\_core.py\", line 1207, in process_args_into_dataframe\n",
      "    raise ValueError(\n",
      "ValueError: All arguments should have the same length. The length of column argument `df[path_0]` is 22, whereas the length of  previously-processed arguments ['values'] is 1\n",
      "Exception on /_dash-update-component [POST]\n",
      "Traceback (most recent call last):\n",
      "  File \"C:\\Users\\beatr\\anaconda3\\lib\\site-packages\\flask\\app.py\", line 2447, in wsgi_app\n",
      "    response = self.full_dispatch_request()\n",
      "  File \"C:\\Users\\beatr\\anaconda3\\lib\\site-packages\\flask\\app.py\", line 1952, in full_dispatch_request\n",
      "    rv = self.handle_user_exception(e)\n",
      "  File \"C:\\Users\\beatr\\anaconda3\\lib\\site-packages\\flask\\app.py\", line 1821, in handle_user_exception\n",
      "    reraise(exc_type, exc_value, tb)\n",
      "  File \"C:\\Users\\beatr\\anaconda3\\lib\\site-packages\\flask\\_compat.py\", line 39, in reraise\n",
      "    raise value\n",
      "  File \"C:\\Users\\beatr\\anaconda3\\lib\\site-packages\\flask\\app.py\", line 1950, in full_dispatch_request\n",
      "    rv = self.dispatch_request()\n",
      "  File \"C:\\Users\\beatr\\anaconda3\\lib\\site-packages\\flask\\app.py\", line 1936, in dispatch_request\n",
      "    return self.view_functions[rule.endpoint](**req.view_args)\n",
      "  File \"C:\\Users\\beatr\\anaconda3\\lib\\site-packages\\dash\\dash.py\", line 1345, in dispatch\n",
      "    response.set_data(func(*args, outputs_list=outputs_list))\n",
      "  File \"C:\\Users\\beatr\\anaconda3\\lib\\site-packages\\dash\\_callback.py\", line 151, in add_context\n",
      "    output_value = func(*func_args, **func_kwargs)  # %% callback invoked %%\n",
      "  File \"<ipython-input-278-d2cfb6ae60dd>\", line 12, in update_treemap\n",
      "    fig = px.treemap(filtered_df, path=['Country or Area'],values=selected_var, color=selected_var, color_continuous_scale='brwnyl',\n",
      "  File \"C:\\Users\\beatr\\anaconda3\\lib\\site-packages\\plotly\\express\\_chart_types.py\", line 1473, in treemap\n",
      "    return make_figure(\n",
      "  File \"C:\\Users\\beatr\\anaconda3\\lib\\site-packages\\plotly\\express\\_core.py\", line 1879, in make_figure\n",
      "    args = build_dataframe(args, constructor)\n",
      "  File \"C:\\Users\\beatr\\anaconda3\\lib\\site-packages\\plotly\\express\\_core.py\", line 1399, in build_dataframe\n",
      "    df_output, wide_id_vars = process_args_into_dataframe(\n",
      "  File \"C:\\Users\\beatr\\anaconda3\\lib\\site-packages\\plotly\\express\\_core.py\", line 1207, in process_args_into_dataframe\n",
      "    raise ValueError(\n",
      "ValueError: All arguments should have the same length. The length of column argument `df[path_0]` is 22, whereas the length of  previously-processed arguments ['values'] is 1\n",
      "Exception on /_dash-update-component [POST]\n",
      "Traceback (most recent call last):\n",
      "  File \"C:\\Users\\beatr\\anaconda3\\lib\\site-packages\\flask\\app.py\", line 2447, in wsgi_app\n",
      "    response = self.full_dispatch_request()\n",
      "  File \"C:\\Users\\beatr\\anaconda3\\lib\\site-packages\\flask\\app.py\", line 1952, in full_dispatch_request\n",
      "    rv = self.handle_user_exception(e)\n",
      "  File \"C:\\Users\\beatr\\anaconda3\\lib\\site-packages\\flask\\app.py\", line 1821, in handle_user_exception\n",
      "    reraise(exc_type, exc_value, tb)\n",
      "  File \"C:\\Users\\beatr\\anaconda3\\lib\\site-packages\\flask\\_compat.py\", line 39, in reraise\n",
      "    raise value\n",
      "  File \"C:\\Users\\beatr\\anaconda3\\lib\\site-packages\\flask\\app.py\", line 1950, in full_dispatch_request\n",
      "    rv = self.dispatch_request()\n",
      "  File \"C:\\Users\\beatr\\anaconda3\\lib\\site-packages\\flask\\app.py\", line 1936, in dispatch_request\n",
      "    return self.view_functions[rule.endpoint](**req.view_args)\n",
      "  File \"C:\\Users\\beatr\\anaconda3\\lib\\site-packages\\dash\\dash.py\", line 1345, in dispatch\n",
      "    response.set_data(func(*args, outputs_list=outputs_list))\n",
      "  File \"C:\\Users\\beatr\\anaconda3\\lib\\site-packages\\dash\\_callback.py\", line 151, in add_context\n",
      "    output_value = func(*func_args, **func_kwargs)  # %% callback invoked %%\n",
      "  File \"<ipython-input-278-d2cfb6ae60dd>\", line 12, in update_treemap\n",
      "    fig = px.treemap(filtered_df, path=['Country or Area'],values=selected_var, color=selected_var, color_continuous_scale='brwnyl',\n",
      "  File \"C:\\Users\\beatr\\anaconda3\\lib\\site-packages\\plotly\\express\\_chart_types.py\", line 1473, in treemap\n",
      "    return make_figure(\n",
      "  File \"C:\\Users\\beatr\\anaconda3\\lib\\site-packages\\plotly\\express\\_core.py\", line 1879, in make_figure\n",
      "    args = build_dataframe(args, constructor)\n",
      "  File \"C:\\Users\\beatr\\anaconda3\\lib\\site-packages\\plotly\\express\\_core.py\", line 1399, in build_dataframe\n",
      "    df_output, wide_id_vars = process_args_into_dataframe(\n",
      "  File \"C:\\Users\\beatr\\anaconda3\\lib\\site-packages\\plotly\\express\\_core.py\", line 1207, in process_args_into_dataframe\n",
      "    raise ValueError(\n",
      "ValueError: All arguments should have the same length. The length of column argument `df[path_0]` is 22, whereas the length of  previously-processed arguments ['values'] is 1\n",
      "Exception on /_dash-update-component [POST]\n",
      "Traceback (most recent call last):\n",
      "  File \"C:\\Users\\beatr\\anaconda3\\lib\\site-packages\\flask\\app.py\", line 2447, in wsgi_app\n",
      "    response = self.full_dispatch_request()\n",
      "  File \"C:\\Users\\beatr\\anaconda3\\lib\\site-packages\\flask\\app.py\", line 1952, in full_dispatch_request\n",
      "    rv = self.handle_user_exception(e)\n",
      "  File \"C:\\Users\\beatr\\anaconda3\\lib\\site-packages\\flask\\app.py\", line 1821, in handle_user_exception\n",
      "    reraise(exc_type, exc_value, tb)\n",
      "  File \"C:\\Users\\beatr\\anaconda3\\lib\\site-packages\\flask\\_compat.py\", line 39, in reraise\n",
      "    raise value\n",
      "  File \"C:\\Users\\beatr\\anaconda3\\lib\\site-packages\\flask\\app.py\", line 1950, in full_dispatch_request\n",
      "    rv = self.dispatch_request()\n",
      "  File \"C:\\Users\\beatr\\anaconda3\\lib\\site-packages\\flask\\app.py\", line 1936, in dispatch_request\n",
      "    return self.view_functions[rule.endpoint](**req.view_args)\n",
      "  File \"C:\\Users\\beatr\\anaconda3\\lib\\site-packages\\dash\\dash.py\", line 1345, in dispatch\n",
      "    response.set_data(func(*args, outputs_list=outputs_list))\n",
      "  File \"C:\\Users\\beatr\\anaconda3\\lib\\site-packages\\dash\\_callback.py\", line 151, in add_context\n",
      "    output_value = func(*func_args, **func_kwargs)  # %% callback invoked %%\n",
      "  File \"<ipython-input-278-d2cfb6ae60dd>\", line 12, in update_treemap\n",
      "    fig = px.treemap(filtered_df, path=['Country or Area'],values=selected_var, color=selected_var, color_continuous_scale='brwnyl',\n",
      "  File \"C:\\Users\\beatr\\anaconda3\\lib\\site-packages\\plotly\\express\\_chart_types.py\", line 1473, in treemap\n",
      "    return make_figure(\n",
      "  File \"C:\\Users\\beatr\\anaconda3\\lib\\site-packages\\plotly\\express\\_core.py\", line 1879, in make_figure\n",
      "    args = build_dataframe(args, constructor)\n",
      "  File \"C:\\Users\\beatr\\anaconda3\\lib\\site-packages\\plotly\\express\\_core.py\", line 1399, in build_dataframe\n",
      "    df_output, wide_id_vars = process_args_into_dataframe(\n",
      "  File \"C:\\Users\\beatr\\anaconda3\\lib\\site-packages\\plotly\\express\\_core.py\", line 1207, in process_args_into_dataframe\n",
      "    raise ValueError(\n",
      "ValueError: All arguments should have the same length. The length of column argument `df[path_0]` is 22, whereas the length of  previously-processed arguments ['values'] is 1\n"
     ]
    },
    {
     "name": "stderr",
     "output_type": "stream",
     "text": [
      "127.0.0.1 - - [04/Apr/2022 21:50:07] \"\u001b[35m\u001b[1mPOST /_dash-update-component HTTP/1.1\u001b[0m\" 500 -\n",
      "127.0.0.1 - - [04/Apr/2022 21:50:08] \"\u001b[37mPOST /_dash-update-component HTTP/1.1\u001b[0m\" 200 -\n",
      "127.0.0.1 - - [04/Apr/2022 21:50:10] \"\u001b[37mPOST /_dash-update-component HTTP/1.1\u001b[0m\" 200 -\n",
      "127.0.0.1 - - [04/Apr/2022 21:50:12] \"\u001b[37mPOST /_dash-update-component HTTP/1.1\u001b[0m\" 200 -\n",
      "127.0.0.1 - - [04/Apr/2022 21:50:15] \"\u001b[37mPOST /_dash-update-component HTTP/1.1\u001b[0m\" 200 -\n",
      "127.0.0.1 - - [04/Apr/2022 21:50:16] \"\u001b[37mPOST /_dash-update-component HTTP/1.1\u001b[0m\" 200 -\n",
      "127.0.0.1 - - [04/Apr/2022 21:50:18] \"\u001b[37mPOST /_dash-update-component HTTP/1.1\u001b[0m\" 200 -\n",
      "127.0.0.1 - - [04/Apr/2022 21:50:22] \"\u001b[37mPOST /_dash-update-component HTTP/1.1\u001b[0m\" 200 -\n",
      "127.0.0.1 - - [04/Apr/2022 21:50:24] \"\u001b[37mPOST /_dash-update-component HTTP/1.1\u001b[0m\" 200 -\n"
     ]
    }
   ],
   "source": [
    "@app.callback(\n",
    "    Output(\"treemap_vis\", \"figure\"), \n",
    "    \n",
    "    [Input('dropvartree_id', 'value'),\n",
    "    Input('radioflowtree_id','value'),\n",
    "    Input('treeyear_slider','value')] \n",
    "    \n",
    "    )\n",
    "\n",
    "def update_treemap(selected_var='Quantity', selected_flow='Export', selected_year=1991):\n",
    "    filtered_df= groupby_flows[(groupby_flows['Flow']==selected_flow) & (groupby_flows['Year']==selected_year)]\n",
    "    fig = px.treemap(filtered_df, path=['Country or Area'],values=selected_var, color=selected_var, color_continuous_scale='brwnyl',\n",
    "    title=(str(selected_var) + ' of Cacao ' + str(selected_flow) + 'ed by Country in ' + str(selected_year))) \n",
    "    \n",
    "    fig.data[0].hovertemplate = '%{label}<br>%{value}'\n",
    "    return fig\n",
    "   \n",
    "\n",
    "if __name__ == '__main__':\n",
    "    app.run_server()"
   ]
  },
  {
   "cell_type": "code",
   "execution_count": null,
   "metadata": {},
   "outputs": [],
   "source": []
  }
 ],
 "metadata": {
  "interpreter": {
   "hash": "0a2e937febbe5477c28200cac54be2d2da4f3456b8c1b7f6ca2a37fc549e7fbf"
  },
  "kernelspec": {
   "display_name": "Python 3",
   "language": "python",
   "name": "python3"
  },
  "language_info": {
   "codemirror_mode": {
    "name": "ipython",
    "version": 3
   },
   "file_extension": ".py",
   "mimetype": "text/x-python",
   "name": "python",
   "nbconvert_exporter": "python",
   "pygments_lexer": "ipython3",
   "version": "3.8.5"
  }
 },
 "nbformat": 4,
 "nbformat_minor": 2
}
