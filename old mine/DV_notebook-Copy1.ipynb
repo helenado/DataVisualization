{
 "cells": [
  {
   "cell_type": "code",
   "execution_count": 1,
   "metadata": {},
   "outputs": [],
   "source": [
    "import pandas as pd\n",
    "import plotly \n",
    "import numpy as np\n",
    "import plotly.figure_factory as ff\n",
    "import scipy\n",
    "import plotly.graph_objects as go\n",
    "import dash\n",
    "from dash import Dash, dcc, html, Input, Output\n",
    "import plotly.express as px\n",
    "import plotly.express as px\n",
    "\n",
    "#pip install scipy\n",
    "#!pip install Dash"
   ]
  },
  {
   "cell_type": "code",
   "execution_count": 2,
   "metadata": {},
   "outputs": [],
   "source": [
    "# Import data\n",
    "\n",
    "data = pd.read_csv('chocolate.csv')\n",
    "continent = pd.read_csv('countryContinent.csv',encoding = \"ISO-8859-1\")\n",
    "imp_exp=pd.read_csv('UNdata_Export_20220301_151116452.csv')\n",
    "coord=pd.read_csv('country_points.csv',encoding = \"ISO-8859-1\")"
   ]
  },
  {
   "cell_type": "code",
   "execution_count": 3,
   "metadata": {},
   "outputs": [
    {
     "data": {
      "text/plain": [
       "2006"
      ]
     },
     "execution_count": 3,
     "metadata": {},
     "output_type": "execute_result"
    }
   ],
   "source": [
    "min(data['review_date'])"
   ]
  },
  {
   "cell_type": "code",
   "execution_count": 4,
   "metadata": {},
   "outputs": [
    {
     "data": {
      "text/html": [
       "<div>\n",
       "<style scoped>\n",
       "    .dataframe tbody tr th:only-of-type {\n",
       "        vertical-align: middle;\n",
       "    }\n",
       "\n",
       "    .dataframe tbody tr th {\n",
       "        vertical-align: top;\n",
       "    }\n",
       "\n",
       "    .dataframe thead th {\n",
       "        text-align: right;\n",
       "    }\n",
       "</style>\n",
       "<table border=\"1\" class=\"dataframe\">\n",
       "  <thead>\n",
       "    <tr style=\"text-align: right;\">\n",
       "      <th></th>\n",
       "      <th>country</th>\n",
       "      <th>latitude</th>\n",
       "      <th>longitude</th>\n",
       "      <th>name</th>\n",
       "    </tr>\n",
       "  </thead>\n",
       "  <tbody>\n",
       "    <tr>\n",
       "      <th>0</th>\n",
       "      <td>AD</td>\n",
       "      <td>42.546245</td>\n",
       "      <td>1.601554</td>\n",
       "      <td>Andorra</td>\n",
       "    </tr>\n",
       "    <tr>\n",
       "      <th>1</th>\n",
       "      <td>AE</td>\n",
       "      <td>23.424076</td>\n",
       "      <td>53.847818</td>\n",
       "      <td>United Arab Emirates</td>\n",
       "    </tr>\n",
       "    <tr>\n",
       "      <th>2</th>\n",
       "      <td>AF</td>\n",
       "      <td>33.939110</td>\n",
       "      <td>67.709953</td>\n",
       "      <td>Afghanistan</td>\n",
       "    </tr>\n",
       "    <tr>\n",
       "      <th>3</th>\n",
       "      <td>AG</td>\n",
       "      <td>17.060816</td>\n",
       "      <td>-61.796428</td>\n",
       "      <td>Antigua and Barbuda</td>\n",
       "    </tr>\n",
       "    <tr>\n",
       "      <th>4</th>\n",
       "      <td>AI</td>\n",
       "      <td>18.220554</td>\n",
       "      <td>-63.068615</td>\n",
       "      <td>Anguilla</td>\n",
       "    </tr>\n",
       "  </tbody>\n",
       "</table>\n",
       "</div>"
      ],
      "text/plain": [
       "  country   latitude  longitude                  name\n",
       "0      AD  42.546245   1.601554               Andorra\n",
       "1      AE  23.424076  53.847818  United Arab Emirates\n",
       "2      AF  33.939110  67.709953           Afghanistan\n",
       "3      AG  17.060816 -61.796428   Antigua and Barbuda\n",
       "4      AI  18.220554 -63.068615              Anguilla"
      ]
     },
     "execution_count": 4,
     "metadata": {},
     "output_type": "execute_result"
    }
   ],
   "source": [
    "coord.head()"
   ]
  },
  {
   "cell_type": "code",
   "execution_count": 5,
   "metadata": {},
   "outputs": [
    {
     "data": {
      "text/html": [
       "<div>\n",
       "<style scoped>\n",
       "    .dataframe tbody tr th:only-of-type {\n",
       "        vertical-align: middle;\n",
       "    }\n",
       "\n",
       "    .dataframe tbody tr th {\n",
       "        vertical-align: top;\n",
       "    }\n",
       "\n",
       "    .dataframe thead th {\n",
       "        text-align: right;\n",
       "    }\n",
       "</style>\n",
       "<table border=\"1\" class=\"dataframe\">\n",
       "  <thead>\n",
       "    <tr style=\"text-align: right;\">\n",
       "      <th></th>\n",
       "      <th>country</th>\n",
       "      <th>code_2</th>\n",
       "      <th>code_3</th>\n",
       "      <th>country_code</th>\n",
       "      <th>iso_3166_2</th>\n",
       "      <th>continent</th>\n",
       "      <th>sub_region</th>\n",
       "      <th>region_code</th>\n",
       "      <th>sub_region_code</th>\n",
       "    </tr>\n",
       "  </thead>\n",
       "  <tbody>\n",
       "    <tr>\n",
       "      <th>0</th>\n",
       "      <td>Afghanistan</td>\n",
       "      <td>AF</td>\n",
       "      <td>AFG</td>\n",
       "      <td>4</td>\n",
       "      <td>ISO 3166-2:AF</td>\n",
       "      <td>Asia</td>\n",
       "      <td>Southern Asia</td>\n",
       "      <td>142.0</td>\n",
       "      <td>34.0</td>\n",
       "    </tr>\n",
       "    <tr>\n",
       "      <th>1</th>\n",
       "      <td>Åland Islands</td>\n",
       "      <td>AX</td>\n",
       "      <td>ALA</td>\n",
       "      <td>248</td>\n",
       "      <td>ISO 3166-2:AX</td>\n",
       "      <td>Europe</td>\n",
       "      <td>Northern Europe</td>\n",
       "      <td>150.0</td>\n",
       "      <td>154.0</td>\n",
       "    </tr>\n",
       "    <tr>\n",
       "      <th>2</th>\n",
       "      <td>Albania</td>\n",
       "      <td>AL</td>\n",
       "      <td>ALB</td>\n",
       "      <td>8</td>\n",
       "      <td>ISO 3166-2:AL</td>\n",
       "      <td>Europe</td>\n",
       "      <td>Southern Europe</td>\n",
       "      <td>150.0</td>\n",
       "      <td>39.0</td>\n",
       "    </tr>\n",
       "    <tr>\n",
       "      <th>3</th>\n",
       "      <td>Algeria</td>\n",
       "      <td>DZ</td>\n",
       "      <td>DZA</td>\n",
       "      <td>12</td>\n",
       "      <td>ISO 3166-2:DZ</td>\n",
       "      <td>Africa</td>\n",
       "      <td>Northern Africa</td>\n",
       "      <td>2.0</td>\n",
       "      <td>15.0</td>\n",
       "    </tr>\n",
       "    <tr>\n",
       "      <th>4</th>\n",
       "      <td>American Samoa</td>\n",
       "      <td>AS</td>\n",
       "      <td>ASM</td>\n",
       "      <td>16</td>\n",
       "      <td>ISO 3166-2:AS</td>\n",
       "      <td>Oceania</td>\n",
       "      <td>Polynesia</td>\n",
       "      <td>9.0</td>\n",
       "      <td>61.0</td>\n",
       "    </tr>\n",
       "  </tbody>\n",
       "</table>\n",
       "</div>"
      ],
      "text/plain": [
       "          country code_2 code_3  country_code     iso_3166_2 continent  \\\n",
       "0     Afghanistan     AF    AFG             4  ISO 3166-2:AF      Asia   \n",
       "1   Åland Islands     AX    ALA           248  ISO 3166-2:AX    Europe   \n",
       "2         Albania     AL    ALB             8  ISO 3166-2:AL    Europe   \n",
       "3         Algeria     DZ    DZA            12  ISO 3166-2:DZ    Africa   \n",
       "4  American Samoa     AS    ASM            16  ISO 3166-2:AS   Oceania   \n",
       "\n",
       "        sub_region  region_code  sub_region_code  \n",
       "0    Southern Asia        142.0             34.0  \n",
       "1  Northern Europe        150.0            154.0  \n",
       "2  Southern Europe        150.0             39.0  \n",
       "3  Northern Africa          2.0             15.0  \n",
       "4        Polynesia          9.0             61.0  "
      ]
     },
     "execution_count": 5,
     "metadata": {},
     "output_type": "execute_result"
    }
   ],
   "source": [
    "continent.head()"
   ]
  },
  {
   "cell_type": "code",
   "execution_count": 6,
   "metadata": {},
   "outputs": [
    {
     "data": {
      "text/html": [
       "<div>\n",
       "<style scoped>\n",
       "    .dataframe tbody tr th:only-of-type {\n",
       "        vertical-align: middle;\n",
       "    }\n",
       "\n",
       "    .dataframe tbody tr th {\n",
       "        vertical-align: top;\n",
       "    }\n",
       "\n",
       "    .dataframe thead th {\n",
       "        text-align: right;\n",
       "    }\n",
       "</style>\n",
       "<table border=\"1\" class=\"dataframe\">\n",
       "  <thead>\n",
       "    <tr style=\"text-align: right;\">\n",
       "      <th></th>\n",
       "      <th>Table Code</th>\n",
       "      <th>Country or Area Code</th>\n",
       "      <th>Country or Area</th>\n",
       "      <th>Year</th>\n",
       "      <th>Comm. Code</th>\n",
       "      <th>Commodity</th>\n",
       "      <th>Flow Code</th>\n",
       "      <th>Flow</th>\n",
       "      <th>Trade (USD)</th>\n",
       "      <th>Weight (kg)</th>\n",
       "      <th>Quantity Code</th>\n",
       "      <th>Quantity Name</th>\n",
       "      <th>Quantity</th>\n",
       "    </tr>\n",
       "  </thead>\n",
       "  <tbody>\n",
       "    <tr>\n",
       "      <th>0</th>\n",
       "      <td>19</td>\n",
       "      <td>4</td>\n",
       "      <td>Afghanistan</td>\n",
       "      <td>2018</td>\n",
       "      <td>180500</td>\n",
       "      <td>Cocoa powder, unsweetened</td>\n",
       "      <td>1</td>\n",
       "      <td>Import</td>\n",
       "      <td>7.247329e+04</td>\n",
       "      <td>8.070000e+04</td>\n",
       "      <td>8</td>\n",
       "      <td>Weight in kilograms</td>\n",
       "      <td>8.070000e+04</td>\n",
       "    </tr>\n",
       "    <tr>\n",
       "      <th>1</th>\n",
       "      <td>19</td>\n",
       "      <td>4</td>\n",
       "      <td>Afghanistan</td>\n",
       "      <td>2018</td>\n",
       "      <td>180690</td>\n",
       "      <td>Chocolate/cocoa food preparations nes</td>\n",
       "      <td>1</td>\n",
       "      <td>Import</td>\n",
       "      <td>3.281740e+07</td>\n",
       "      <td>5.662823e+06</td>\n",
       "      <td>8</td>\n",
       "      <td>Weight in kilograms</td>\n",
       "      <td>5.662823e+06</td>\n",
       "    </tr>\n",
       "    <tr>\n",
       "      <th>2</th>\n",
       "      <td>19</td>\n",
       "      <td>4</td>\n",
       "      <td>Afghanistan</td>\n",
       "      <td>2018</td>\n",
       "      <td>180690</td>\n",
       "      <td>Chocolate/cocoa food preparations nes</td>\n",
       "      <td>2</td>\n",
       "      <td>Export</td>\n",
       "      <td>4.327404e+06</td>\n",
       "      <td>0.000000e+00</td>\n",
       "      <td>8</td>\n",
       "      <td>Weight in kilograms</td>\n",
       "      <td>6.239175e+06</td>\n",
       "    </tr>\n",
       "    <tr>\n",
       "      <th>3</th>\n",
       "      <td>19</td>\n",
       "      <td>4</td>\n",
       "      <td>Afghanistan</td>\n",
       "      <td>2018</td>\n",
       "      <td>180690</td>\n",
       "      <td>Chocolate/cocoa food preparations nes</td>\n",
       "      <td>3</td>\n",
       "      <td>Re-Export</td>\n",
       "      <td>7.452492e+04</td>\n",
       "      <td>0.000000e+00</td>\n",
       "      <td>8</td>\n",
       "      <td>Weight in kilograms</td>\n",
       "      <td>0.000000e+00</td>\n",
       "    </tr>\n",
       "    <tr>\n",
       "      <th>4</th>\n",
       "      <td>19</td>\n",
       "      <td>4</td>\n",
       "      <td>Afghanistan</td>\n",
       "      <td>2016</td>\n",
       "      <td>180690</td>\n",
       "      <td>Chocolate/cocoa food preparations nes</td>\n",
       "      <td>1</td>\n",
       "      <td>Import</td>\n",
       "      <td>1.568728e+08</td>\n",
       "      <td>2.677301e+07</td>\n",
       "      <td>8</td>\n",
       "      <td>Weight in kilograms</td>\n",
       "      <td>2.677301e+07</td>\n",
       "    </tr>\n",
       "  </tbody>\n",
       "</table>\n",
       "</div>"
      ],
      "text/plain": [
       "   Table Code  Country or Area Code Country or Area  Year  Comm. Code  \\\n",
       "0          19                     4     Afghanistan  2018      180500   \n",
       "1          19                     4     Afghanistan  2018      180690   \n",
       "2          19                     4     Afghanistan  2018      180690   \n",
       "3          19                     4     Afghanistan  2018      180690   \n",
       "4          19                     4     Afghanistan  2016      180690   \n",
       "\n",
       "                               Commodity  Flow Code       Flow   Trade (USD)  \\\n",
       "0              Cocoa powder, unsweetened          1     Import  7.247329e+04   \n",
       "1  Chocolate/cocoa food preparations nes          1     Import  3.281740e+07   \n",
       "2  Chocolate/cocoa food preparations nes          2     Export  4.327404e+06   \n",
       "3  Chocolate/cocoa food preparations nes          3  Re-Export  7.452492e+04   \n",
       "4  Chocolate/cocoa food preparations nes          1     Import  1.568728e+08   \n",
       "\n",
       "    Weight (kg)  Quantity Code        Quantity Name      Quantity  \n",
       "0  8.070000e+04              8  Weight in kilograms  8.070000e+04  \n",
       "1  5.662823e+06              8  Weight in kilograms  5.662823e+06  \n",
       "2  0.000000e+00              8  Weight in kilograms  6.239175e+06  \n",
       "3  0.000000e+00              8  Weight in kilograms  0.000000e+00  \n",
       "4  2.677301e+07              8  Weight in kilograms  2.677301e+07  "
      ]
     },
     "execution_count": 6,
     "metadata": {},
     "output_type": "execute_result"
    }
   ],
   "source": [
    "imp_exp.head()"
   ]
  },
  {
   "cell_type": "code",
   "execution_count": 7,
   "metadata": {},
   "outputs": [
    {
     "data": {
      "text/html": [
       "<div>\n",
       "<style scoped>\n",
       "    .dataframe tbody tr th:only-of-type {\n",
       "        vertical-align: middle;\n",
       "    }\n",
       "\n",
       "    .dataframe tbody tr th {\n",
       "        vertical-align: top;\n",
       "    }\n",
       "\n",
       "    .dataframe thead th {\n",
       "        text-align: right;\n",
       "    }\n",
       "</style>\n",
       "<table border=\"1\" class=\"dataframe\">\n",
       "  <thead>\n",
       "    <tr style=\"text-align: right;\">\n",
       "      <th></th>\n",
       "      <th>Country or Area</th>\n",
       "      <th>Year</th>\n",
       "      <th>Commodity</th>\n",
       "      <th>Flow</th>\n",
       "      <th>Quantity</th>\n",
       "      <th>Trade (USD)</th>\n",
       "    </tr>\n",
       "  </thead>\n",
       "  <tbody>\n",
       "    <tr>\n",
       "      <th>60</th>\n",
       "      <td>Albania</td>\n",
       "      <td>2012</td>\n",
       "      <td>Cocoa beans, whole or broken, raw or roasted</td>\n",
       "      <td>Import</td>\n",
       "      <td>130.0</td>\n",
       "      <td>874.0</td>\n",
       "    </tr>\n",
       "    <tr>\n",
       "      <th>71</th>\n",
       "      <td>Albania</td>\n",
       "      <td>2011</td>\n",
       "      <td>Cocoa beans, whole or broken, raw or roasted</td>\n",
       "      <td>Import</td>\n",
       "      <td>4524.0</td>\n",
       "      <td>19877.0</td>\n",
       "    </tr>\n",
       "    <tr>\n",
       "      <th>83</th>\n",
       "      <td>Albania</td>\n",
       "      <td>2010</td>\n",
       "      <td>Cocoa beans, whole or broken, raw or roasted</td>\n",
       "      <td>Import</td>\n",
       "      <td>45.0</td>\n",
       "      <td>295.0</td>\n",
       "    </tr>\n",
       "    <tr>\n",
       "      <th>94</th>\n",
       "      <td>Albania</td>\n",
       "      <td>2009</td>\n",
       "      <td>Cocoa beans, whole or broken, raw or roasted</td>\n",
       "      <td>Import</td>\n",
       "      <td>262.0</td>\n",
       "      <td>1919.0</td>\n",
       "    </tr>\n",
       "    <tr>\n",
       "      <th>149</th>\n",
       "      <td>Albania</td>\n",
       "      <td>2004</td>\n",
       "      <td>Cocoa beans, whole or broken, raw or roasted</td>\n",
       "      <td>Import</td>\n",
       "      <td>1606.0</td>\n",
       "      <td>2729.0</td>\n",
       "    </tr>\n",
       "  </tbody>\n",
       "</table>\n",
       "</div>"
      ],
      "text/plain": [
       "    Country or Area  Year                                     Commodity  \\\n",
       "60          Albania  2012  Cocoa beans, whole or broken, raw or roasted   \n",
       "71          Albania  2011  Cocoa beans, whole or broken, raw or roasted   \n",
       "83          Albania  2010  Cocoa beans, whole or broken, raw or roasted   \n",
       "94          Albania  2009  Cocoa beans, whole or broken, raw or roasted   \n",
       "149         Albania  2004  Cocoa beans, whole or broken, raw or roasted   \n",
       "\n",
       "       Flow  Quantity  Trade (USD)  \n",
       "60   Import     130.0        874.0  \n",
       "71   Import    4524.0      19877.0  \n",
       "83   Import      45.0        295.0  \n",
       "94   Import     262.0       1919.0  \n",
       "149  Import    1606.0       2729.0  "
      ]
     },
     "execution_count": 7,
     "metadata": {},
     "output_type": "execute_result"
    }
   ],
   "source": [
    "imp_exp=imp_exp[imp_exp['Commodity']=='Cocoa beans, whole or broken, raw or roasted'][['Country or Area','Year','Commodity','Flow','Quantity','Trade (USD)']]\n",
    "imp_exp.head()"
   ]
  },
  {
   "cell_type": "code",
   "execution_count": 8,
   "metadata": {},
   "outputs": [],
   "source": [
    "# Prepare the data for the merge\n",
    "data[\"company_location\"] = data[\"company_location\"].str.title()\n",
    "data[\"country_of_bean_origin\"] = data[\"country_of_bean_origin\"].str.title()\n",
    "data[\"company_location\"].replace({'U.S.A': 'United States of America','U.K.':'United Kingdom of Great Britain and Northern Ireland','Dominican republic':'Dominican Republic','El salvador':'El Salvador','Vietnam':'Viet Nam','Venezuela':'Venezuela (Bolivarian Republic of)','South Korea':'Korea (Republic of)','New Zealand':'New Zealand','Russia':'Russian Federation','Taiwan':'Taiwan, Province of China','Sao Tome':'Sao Tome and Principe','Sao Tome & Principe':'Sao Tome and Principe','St. Lucia':'Saint Lucia','U.A.E.':'United Arab Emirates','St.Vincent-Grenadines':'Saint Vincent and the Grenadines','Bolivia':'Bolivia (Plurinational State of)'}, inplace=True)\n",
    "data[\"country_of_bean_origin\"].replace({'U.S.A': 'United States of America','U.K.':'United Kingdom of Great Britain and Northern Ireland','Dominican republic':'Dominican Republic','El salvador':'El Salvador','Vietnam':'Viet Nam','Venezuela':'Venezuela (Bolivarian Republic of)','South Korea':'Korea (Republic of)','New Zealand':'New Zealand','Russia':'Russian Federation','Taiwan':'Taiwan, Province of China','Sao Tome':'Sao Tome and Principe','Sao Tome & Principe':'Sao Tome and Principe','St. Lucia':'Saint Lucia','U.A.E.':'United Arab Emirates','St.Vincent-Grenadines':'Saint Vincent and the Grenadines','Bolivia':'Bolivia (Plurinational State of)','Burma':'Myanmar','Tanzania':'Tanzania, United Republic of','Trinidad':'Trinidad and Tobago','Dr Congo':'Congo (Democratic Republic of the)'}, inplace=True)"
   ]
  },
  {
   "cell_type": "code",
   "execution_count": 9,
   "metadata": {},
   "outputs": [],
   "source": [
    "# removing Unnamed:0\n",
    "data=data.iloc[:,1:]"
   ]
  },
  {
   "cell_type": "code",
   "execution_count": 10,
   "metadata": {},
   "outputs": [],
   "source": [
    "teste=data.merge(continent[['country','continent','sub_region','code_2']].rename(columns={'continent':'company_continent','sub_region':'company_region','code_2':'company_code_2'}), left_on='company_location', right_on='country', how='left')"
   ]
  },
  {
   "cell_type": "code",
   "execution_count": 11,
   "metadata": {},
   "outputs": [
    {
     "data": {
      "text/plain": [
       "<bound method IndexOpsMixin.value_counts of 193        Wales\n",
       "486     Scotland\n",
       "487     Scotland\n",
       "488     Scotland\n",
       "489     Scotland\n",
       "490     Scotland\n",
       "491     Scotland\n",
       "1083    Scotland\n",
       "1084    Scotland\n",
       "1513    Scotland\n",
       "1514    Scotland\n",
       "Name: company_location, dtype: object>"
      ]
     },
     "execution_count": 11,
     "metadata": {},
     "output_type": "execute_result"
    }
   ],
   "source": [
    "teste[teste['company_continent'].isna()]['company_location'].value_counts"
   ]
  },
  {
   "cell_type": "code",
   "execution_count": 12,
   "metadata": {},
   "outputs": [],
   "source": [
    "teste=teste[teste['company_location']!= 'Scotland']"
   ]
  },
  {
   "cell_type": "code",
   "execution_count": 13,
   "metadata": {},
   "outputs": [],
   "source": [
    "teste=teste.merge(continent[['country','continent','sub_region','code_2']].rename(columns={'continent':'bean_continent','sub_region':'bean_region','code_2':'bean_code_2'}), left_on='country_of_bean_origin', right_on='country', how='left')"
   ]
  },
  {
   "cell_type": "code",
   "execution_count": 14,
   "metadata": {},
   "outputs": [
    {
     "data": {
      "text/plain": [
       "<bound method IndexOpsMixin.value_counts of 88      Blend\n",
       "92      Blend\n",
       "96      Blend\n",
       "100     Blend\n",
       "177     Blend\n",
       "        ...  \n",
       "2188    Blend\n",
       "2201    Blend\n",
       "2203    Blend\n",
       "2209    Blend\n",
       "2213    Blend\n",
       "Name: country_of_bean_origin, Length: 177, dtype: object>"
      ]
     },
     "execution_count": 14,
     "metadata": {},
     "output_type": "execute_result"
    }
   ],
   "source": [
    "teste[teste['bean_continent'].isna()]['country_of_bean_origin'].value_counts"
   ]
  },
  {
   "cell_type": "code",
   "execution_count": 15,
   "metadata": {},
   "outputs": [],
   "source": [
    "teste=teste[teste['country_of_bean_origin']!= 'Blend']"
   ]
  },
  {
   "cell_type": "code",
   "execution_count": 16,
   "metadata": {},
   "outputs": [],
   "source": [
    "data=teste"
   ]
  },
  {
   "cell_type": "code",
   "execution_count": 17,
   "metadata": {},
   "outputs": [
    {
     "data": {
      "text/plain": [
       "Index(['ref', 'company', 'company_location', 'review_date',\n",
       "       'country_of_bean_origin', 'specific_bean_origin_or_bar_name',\n",
       "       'cocoa_percent', 'rating', 'counts_of_ingredients', 'beans',\n",
       "       'cocoa_butter', 'vanilla', 'lecithin', 'salt', 'sugar',\n",
       "       'sweetener_without_sugar', 'first_taste', 'second_taste', 'third_taste',\n",
       "       'fourth_taste', 'country_x', 'company_continent', 'company_region',\n",
       "       'company_code_2', 'country_y', 'bean_continent', 'bean_region',\n",
       "       'bean_code_2'],\n",
       "      dtype='object')"
      ]
     },
     "execution_count": 17,
     "metadata": {},
     "output_type": "execute_result"
    }
   ],
   "source": [
    "data.columns"
   ]
  },
  {
   "cell_type": "code",
   "execution_count": 18,
   "metadata": {},
   "outputs": [
    {
     "data": {
      "text/html": [
       "<div>\n",
       "<style scoped>\n",
       "    .dataframe tbody tr th:only-of-type {\n",
       "        vertical-align: middle;\n",
       "    }\n",
       "\n",
       "    .dataframe tbody tr th {\n",
       "        vertical-align: top;\n",
       "    }\n",
       "\n",
       "    .dataframe thead th {\n",
       "        text-align: right;\n",
       "    }\n",
       "</style>\n",
       "<table border=\"1\" class=\"dataframe\">\n",
       "  <thead>\n",
       "    <tr style=\"text-align: right;\">\n",
       "      <th></th>\n",
       "      <th>country</th>\n",
       "      <th>latitude</th>\n",
       "      <th>longitude</th>\n",
       "      <th>name</th>\n",
       "    </tr>\n",
       "  </thead>\n",
       "  <tbody>\n",
       "    <tr>\n",
       "      <th>0</th>\n",
       "      <td>AD</td>\n",
       "      <td>42.546245</td>\n",
       "      <td>1.601554</td>\n",
       "      <td>Andorra</td>\n",
       "    </tr>\n",
       "    <tr>\n",
       "      <th>1</th>\n",
       "      <td>AE</td>\n",
       "      <td>23.424076</td>\n",
       "      <td>53.847818</td>\n",
       "      <td>United Arab Emirates</td>\n",
       "    </tr>\n",
       "    <tr>\n",
       "      <th>2</th>\n",
       "      <td>AF</td>\n",
       "      <td>33.939110</td>\n",
       "      <td>67.709953</td>\n",
       "      <td>Afghanistan</td>\n",
       "    </tr>\n",
       "    <tr>\n",
       "      <th>3</th>\n",
       "      <td>AG</td>\n",
       "      <td>17.060816</td>\n",
       "      <td>-61.796428</td>\n",
       "      <td>Antigua and Barbuda</td>\n",
       "    </tr>\n",
       "    <tr>\n",
       "      <th>4</th>\n",
       "      <td>AI</td>\n",
       "      <td>18.220554</td>\n",
       "      <td>-63.068615</td>\n",
       "      <td>Anguilla</td>\n",
       "    </tr>\n",
       "  </tbody>\n",
       "</table>\n",
       "</div>"
      ],
      "text/plain": [
       "  country   latitude  longitude                  name\n",
       "0      AD  42.546245   1.601554               Andorra\n",
       "1      AE  23.424076  53.847818  United Arab Emirates\n",
       "2      AF  33.939110  67.709953           Afghanistan\n",
       "3      AG  17.060816 -61.796428   Antigua and Barbuda\n",
       "4      AI  18.220554 -63.068615              Anguilla"
      ]
     },
     "execution_count": 18,
     "metadata": {},
     "output_type": "execute_result"
    }
   ],
   "source": [
    "# Add the coordinates both for bean_origin and company_location\n",
    "coord.head()"
   ]
  },
  {
   "cell_type": "code",
   "execution_count": 19,
   "metadata": {},
   "outputs": [],
   "source": [
    "teste1=data.merge(coord.iloc[:,:-1], left_on='bean_code_2', right_on='country', how='left').rename(columns={'latitude':'bean_lat','longitude':'bean_lon'})\n",
    "teste2=data.merge(coord.iloc[:,:-1], left_on='company_code_2', right_on='country', how='left').rename(columns={'latitude':'country_lat','longitude':'country_lon'})"
   ]
  },
  {
   "cell_type": "code",
   "execution_count": 20,
   "metadata": {},
   "outputs": [
    {
     "data": {
      "text/html": [
       "<div>\n",
       "<style scoped>\n",
       "    .dataframe tbody tr th:only-of-type {\n",
       "        vertical-align: middle;\n",
       "    }\n",
       "\n",
       "    .dataframe tbody tr th {\n",
       "        vertical-align: top;\n",
       "    }\n",
       "\n",
       "    .dataframe thead th {\n",
       "        text-align: right;\n",
       "    }\n",
       "</style>\n",
       "<table border=\"1\" class=\"dataframe\">\n",
       "  <thead>\n",
       "    <tr style=\"text-align: right;\">\n",
       "      <th></th>\n",
       "      <th>ref</th>\n",
       "      <th>review_date</th>\n",
       "      <th>cocoa_percent</th>\n",
       "      <th>rating</th>\n",
       "      <th>counts_of_ingredients</th>\n",
       "    </tr>\n",
       "    <tr>\n",
       "      <th>company</th>\n",
       "      <th></th>\n",
       "      <th></th>\n",
       "      <th></th>\n",
       "      <th></th>\n",
       "      <th></th>\n",
       "    </tr>\n",
       "  </thead>\n",
       "  <tbody>\n",
       "    <tr>\n",
       "      <th>5150</th>\n",
       "      <td>2455.333333</td>\n",
       "      <td>2019.000000</td>\n",
       "      <td>76.000000</td>\n",
       "      <td>3.500000</td>\n",
       "      <td>3.000000</td>\n",
       "    </tr>\n",
       "    <tr>\n",
       "      <th>A. Morin</th>\n",
       "      <td>1294.480000</td>\n",
       "      <td>2013.960000</td>\n",
       "      <td>68.880000</td>\n",
       "      <td>3.400000</td>\n",
       "      <td>3.960000</td>\n",
       "    </tr>\n",
       "    <tr>\n",
       "      <th>AMMA</th>\n",
       "      <td>670.600000</td>\n",
       "      <td>2010.600000</td>\n",
       "      <td>69.000000</td>\n",
       "      <td>3.500000</td>\n",
       "      <td>4.000000</td>\n",
       "    </tr>\n",
       "    <tr>\n",
       "      <th>Acalli</th>\n",
       "      <td>1966.000000</td>\n",
       "      <td>2017.500000</td>\n",
       "      <td>71.000000</td>\n",
       "      <td>3.562500</td>\n",
       "      <td>2.000000</td>\n",
       "    </tr>\n",
       "    <tr>\n",
       "      <th>Adi aka Fijiana (Easy In Ltd)</th>\n",
       "      <td>705.000000</td>\n",
       "      <td>2011.000000</td>\n",
       "      <td>75.000000</td>\n",
       "      <td>3.250000</td>\n",
       "      <td>3.000000</td>\n",
       "    </tr>\n",
       "    <tr>\n",
       "      <th>...</th>\n",
       "      <td>...</td>\n",
       "      <td>...</td>\n",
       "      <td>...</td>\n",
       "      <td>...</td>\n",
       "      <td>...</td>\n",
       "    </tr>\n",
       "    <tr>\n",
       "      <th>Zotter</th>\n",
       "      <td>1033.705882</td>\n",
       "      <td>2012.647059</td>\n",
       "      <td>70.352941</td>\n",
       "      <td>3.352941</td>\n",
       "      <td>3.823529</td>\n",
       "    </tr>\n",
       "    <tr>\n",
       "      <th>hello cocoa</th>\n",
       "      <td>1460.000000</td>\n",
       "      <td>2015.000000</td>\n",
       "      <td>65.500000</td>\n",
       "      <td>3.125000</td>\n",
       "      <td>3.000000</td>\n",
       "    </tr>\n",
       "    <tr>\n",
       "      <th>hexx</th>\n",
       "      <td>1848.000000</td>\n",
       "      <td>2016.500000</td>\n",
       "      <td>71.500000</td>\n",
       "      <td>2.925000</td>\n",
       "      <td>2.000000</td>\n",
       "    </tr>\n",
       "    <tr>\n",
       "      <th>organicfair</th>\n",
       "      <td>1316.166667</td>\n",
       "      <td>2013.833333</td>\n",
       "      <td>72.166667</td>\n",
       "      <td>2.875000</td>\n",
       "      <td>3.000000</td>\n",
       "    </tr>\n",
       "    <tr>\n",
       "      <th>twenty-four blackbirds</th>\n",
       "      <td>1347.428571</td>\n",
       "      <td>2014.000000</td>\n",
       "      <td>73.714286</td>\n",
       "      <td>3.071429</td>\n",
       "      <td>2.000000</td>\n",
       "    </tr>\n",
       "  </tbody>\n",
       "</table>\n",
       "<p>488 rows × 5 columns</p>\n",
       "</div>"
      ],
      "text/plain": [
       "                                       ref  review_date  cocoa_percent  \\\n",
       "company                                                                  \n",
       "5150                           2455.333333  2019.000000      76.000000   \n",
       "A. Morin                       1294.480000  2013.960000      68.880000   \n",
       "AMMA                            670.600000  2010.600000      69.000000   \n",
       "Acalli                         1966.000000  2017.500000      71.000000   \n",
       "Adi aka Fijiana (Easy In Ltd)   705.000000  2011.000000      75.000000   \n",
       "...                                    ...          ...            ...   \n",
       "Zotter                         1033.705882  2012.647059      70.352941   \n",
       "hello cocoa                    1460.000000  2015.000000      65.500000   \n",
       "hexx                           1848.000000  2016.500000      71.500000   \n",
       "organicfair                    1316.166667  2013.833333      72.166667   \n",
       "twenty-four blackbirds         1347.428571  2014.000000      73.714286   \n",
       "\n",
       "                                 rating  counts_of_ingredients  \n",
       "company                                                         \n",
       "5150                           3.500000               3.000000  \n",
       "A. Morin                       3.400000               3.960000  \n",
       "AMMA                           3.500000               4.000000  \n",
       "Acalli                         3.562500               2.000000  \n",
       "Adi aka Fijiana (Easy In Ltd)  3.250000               3.000000  \n",
       "...                                 ...                    ...  \n",
       "Zotter                         3.352941               3.823529  \n",
       "hello cocoa                    3.125000               3.000000  \n",
       "hexx                           2.925000               2.000000  \n",
       "organicfair                    2.875000               3.000000  \n",
       "twenty-four blackbirds         3.071429               2.000000  \n",
       "\n",
       "[488 rows x 5 columns]"
      ]
     },
     "execution_count": 20,
     "metadata": {},
     "output_type": "execute_result"
    }
   ],
   "source": [
    "data1=data.groupby(by=['company']).mean()\n",
    "data1"
   ]
  },
  {
   "cell_type": "code",
   "execution_count": 21,
   "metadata": {},
   "outputs": [],
   "source": [
    "var1=np.asarray(data1[data1.rating <= data1.rating.quantile(.25)]['cocoa_percent'],dtype=np.float32)\n",
    "var2=np.asarray(data1[(data1.rating > data1.rating.quantile(.25)) & (data1.rating <= data1.rating.quantile(.50))]['cocoa_percent'],dtype=np.float32)\n",
    "var3=np.asarray(data1[(data1.rating > data1.rating.quantile(.50)) & (data1.rating <= data1.rating.quantile(.75))]['cocoa_percent'],dtype=np.float32)\n",
    "var4=np.asarray(data1[data1.rating > data1.rating.quantile(.75)]['cocoa_percent'],dtype=np.float32)"
   ]
  },
  {
   "cell_type": "code",
   "execution_count": 22,
   "metadata": {},
   "outputs": [],
   "source": [
    "# falta meter titulo xaxis yaxis\n",
    "#labels = ['1st quartile','2nd quartile','3rd quartile','4th quartile']\n",
    "#variables=[var1,var2,var3,var4]\n",
    "#fig = ff.create_distplot(variables,labels, show_hist=False)\n",
    "#fig.show()\n"
   ]
  },
  {
   "cell_type": "markdown",
   "metadata": {},
   "source": [
    "### Exports and Imports\n"
   ]
  },
  {
   "cell_type": "code",
   "execution_count": 23,
   "metadata": {},
   "outputs": [
    {
     "data": {
      "text/html": [
       "<div>\n",
       "<style scoped>\n",
       "    .dataframe tbody tr th:only-of-type {\n",
       "        vertical-align: middle;\n",
       "    }\n",
       "\n",
       "    .dataframe tbody tr th {\n",
       "        vertical-align: top;\n",
       "    }\n",
       "\n",
       "    .dataframe thead th {\n",
       "        text-align: right;\n",
       "    }\n",
       "</style>\n",
       "<table border=\"1\" class=\"dataframe\">\n",
       "  <thead>\n",
       "    <tr style=\"text-align: right;\">\n",
       "      <th></th>\n",
       "      <th>Country or Area</th>\n",
       "      <th>Year</th>\n",
       "      <th>Commodity</th>\n",
       "      <th>Flow</th>\n",
       "      <th>Quantity</th>\n",
       "      <th>Trade (USD)</th>\n",
       "    </tr>\n",
       "  </thead>\n",
       "  <tbody>\n",
       "    <tr>\n",
       "      <th>60</th>\n",
       "      <td>Albania</td>\n",
       "      <td>2012</td>\n",
       "      <td>Cocoa beans, whole or broken, raw or roasted</td>\n",
       "      <td>Import</td>\n",
       "      <td>130.0</td>\n",
       "      <td>874.0</td>\n",
       "    </tr>\n",
       "    <tr>\n",
       "      <th>71</th>\n",
       "      <td>Albania</td>\n",
       "      <td>2011</td>\n",
       "      <td>Cocoa beans, whole or broken, raw or roasted</td>\n",
       "      <td>Import</td>\n",
       "      <td>4524.0</td>\n",
       "      <td>19877.0</td>\n",
       "    </tr>\n",
       "    <tr>\n",
       "      <th>83</th>\n",
       "      <td>Albania</td>\n",
       "      <td>2010</td>\n",
       "      <td>Cocoa beans, whole or broken, raw or roasted</td>\n",
       "      <td>Import</td>\n",
       "      <td>45.0</td>\n",
       "      <td>295.0</td>\n",
       "    </tr>\n",
       "    <tr>\n",
       "      <th>94</th>\n",
       "      <td>Albania</td>\n",
       "      <td>2009</td>\n",
       "      <td>Cocoa beans, whole or broken, raw or roasted</td>\n",
       "      <td>Import</td>\n",
       "      <td>262.0</td>\n",
       "      <td>1919.0</td>\n",
       "    </tr>\n",
       "    <tr>\n",
       "      <th>149</th>\n",
       "      <td>Albania</td>\n",
       "      <td>2004</td>\n",
       "      <td>Cocoa beans, whole or broken, raw or roasted</td>\n",
       "      <td>Import</td>\n",
       "      <td>1606.0</td>\n",
       "      <td>2729.0</td>\n",
       "    </tr>\n",
       "  </tbody>\n",
       "</table>\n",
       "</div>"
      ],
      "text/plain": [
       "    Country or Area  Year                                     Commodity  \\\n",
       "60          Albania  2012  Cocoa beans, whole or broken, raw or roasted   \n",
       "71          Albania  2011  Cocoa beans, whole or broken, raw or roasted   \n",
       "83          Albania  2010  Cocoa beans, whole or broken, raw or roasted   \n",
       "94          Albania  2009  Cocoa beans, whole or broken, raw or roasted   \n",
       "149         Albania  2004  Cocoa beans, whole or broken, raw or roasted   \n",
       "\n",
       "       Flow  Quantity  Trade (USD)  \n",
       "60   Import     130.0        874.0  \n",
       "71   Import    4524.0      19877.0  \n",
       "83   Import      45.0        295.0  \n",
       "94   Import     262.0       1919.0  \n",
       "149  Import    1606.0       2729.0  "
      ]
     },
     "execution_count": 23,
     "metadata": {},
     "output_type": "execute_result"
    }
   ],
   "source": [
    "imp_exp.head()"
   ]
  },
  {
   "cell_type": "code",
   "execution_count": 24,
   "metadata": {},
   "outputs": [],
   "source": [
    "imp_exp_regions = imp_exp.merge(continent[['country','continent','sub_region','code_2']].rename(columns={'sub_region':'region'}), left_on = 'Country or Area', right_on= 'country', how= 'left')"
   ]
  },
  {
   "cell_type": "code",
   "execution_count": 25,
   "metadata": {
    "scrolled": true
   },
   "outputs": [
    {
     "data": {
      "text/html": [
       "<div>\n",
       "<style scoped>\n",
       "    .dataframe tbody tr th:only-of-type {\n",
       "        vertical-align: middle;\n",
       "    }\n",
       "\n",
       "    .dataframe tbody tr th {\n",
       "        vertical-align: top;\n",
       "    }\n",
       "\n",
       "    .dataframe thead th {\n",
       "        text-align: right;\n",
       "    }\n",
       "</style>\n",
       "<table border=\"1\" class=\"dataframe\">\n",
       "  <thead>\n",
       "    <tr style=\"text-align: right;\">\n",
       "      <th></th>\n",
       "      <th>Country or Area</th>\n",
       "      <th>Year</th>\n",
       "      <th>Commodity</th>\n",
       "      <th>Flow</th>\n",
       "      <th>Quantity</th>\n",
       "      <th>Trade (USD)</th>\n",
       "      <th>country</th>\n",
       "      <th>continent</th>\n",
       "      <th>region</th>\n",
       "      <th>code_2</th>\n",
       "    </tr>\n",
       "  </thead>\n",
       "  <tbody>\n",
       "    <tr>\n",
       "      <th>8</th>\n",
       "      <td>Albania</td>\n",
       "      <td>1997</td>\n",
       "      <td>Cocoa beans, whole or broken, raw or roasted</td>\n",
       "      <td>Export</td>\n",
       "      <td>3500.0</td>\n",
       "      <td>3447.00</td>\n",
       "      <td>Albania</td>\n",
       "      <td>Europe</td>\n",
       "      <td>Southern Europe</td>\n",
       "      <td>AL</td>\n",
       "    </tr>\n",
       "    <tr>\n",
       "      <th>51</th>\n",
       "      <td>Angola</td>\n",
       "      <td>2016</td>\n",
       "      <td>Cocoa beans, whole or broken, raw or roasted</td>\n",
       "      <td>Export</td>\n",
       "      <td>10.0</td>\n",
       "      <td>25.75</td>\n",
       "      <td>Angola</td>\n",
       "      <td>Africa</td>\n",
       "      <td>Middle Africa</td>\n",
       "      <td>AO</td>\n",
       "    </tr>\n",
       "    <tr>\n",
       "      <th>79</th>\n",
       "      <td>Antigua and Barbuda</td>\n",
       "      <td>2000</td>\n",
       "      <td>Cocoa beans, whole or broken, raw or roasted</td>\n",
       "      <td>Export</td>\n",
       "      <td>127.0</td>\n",
       "      <td>465.00</td>\n",
       "      <td>Antigua and Barbuda</td>\n",
       "      <td>Americas</td>\n",
       "      <td>Caribbean</td>\n",
       "      <td>AG</td>\n",
       "    </tr>\n",
       "    <tr>\n",
       "      <th>108</th>\n",
       "      <td>Argentina</td>\n",
       "      <td>1993</td>\n",
       "      <td>Cocoa beans, whole or broken, raw or roasted</td>\n",
       "      <td>Export</td>\n",
       "      <td>132.0</td>\n",
       "      <td>420.00</td>\n",
       "      <td>Argentina</td>\n",
       "      <td>Americas</td>\n",
       "      <td>South America</td>\n",
       "      <td>AR</td>\n",
       "    </tr>\n",
       "    <tr>\n",
       "      <th>110</th>\n",
       "      <td>Armenia</td>\n",
       "      <td>2019</td>\n",
       "      <td>Cocoa beans, whole or broken, raw or roasted</td>\n",
       "      <td>Export</td>\n",
       "      <td>23806.0</td>\n",
       "      <td>13462.21</td>\n",
       "      <td>Armenia</td>\n",
       "      <td>Asia</td>\n",
       "      <td>Western Asia</td>\n",
       "      <td>AM</td>\n",
       "    </tr>\n",
       "  </tbody>\n",
       "</table>\n",
       "</div>"
      ],
      "text/plain": [
       "         Country or Area  Year                                     Commodity  \\\n",
       "8                Albania  1997  Cocoa beans, whole or broken, raw or roasted   \n",
       "51                Angola  2016  Cocoa beans, whole or broken, raw or roasted   \n",
       "79   Antigua and Barbuda  2000  Cocoa beans, whole or broken, raw or roasted   \n",
       "108            Argentina  1993  Cocoa beans, whole or broken, raw or roasted   \n",
       "110              Armenia  2019  Cocoa beans, whole or broken, raw or roasted   \n",
       "\n",
       "       Flow  Quantity  Trade (USD)              country continent  \\\n",
       "8    Export    3500.0      3447.00              Albania    Europe   \n",
       "51   Export      10.0        25.75               Angola    Africa   \n",
       "79   Export     127.0       465.00  Antigua and Barbuda  Americas   \n",
       "108  Export     132.0       420.00            Argentina  Americas   \n",
       "110  Export   23806.0     13462.21              Armenia      Asia   \n",
       "\n",
       "              region code_2  \n",
       "8    Southern Europe     AL  \n",
       "51     Middle Africa     AO  \n",
       "79         Caribbean     AG  \n",
       "108    South America     AR  \n",
       "110     Western Asia     AM  "
      ]
     },
     "execution_count": 25,
     "metadata": {},
     "output_type": "execute_result"
    }
   ],
   "source": [
    "export = imp_exp_regions[imp_exp_regions['Flow'] == 'Export']\n",
    "export.head()"
   ]
  },
  {
   "cell_type": "code",
   "execution_count": 26,
   "metadata": {},
   "outputs": [
    {
     "data": {
      "text/plain": [
       "array(['Albania', 'Austria', 'Belarus', 'Belgium', 'Bulgaria', 'Croatia',\n",
       "       'Denmark', 'Estonia', 'Finland', 'France', 'Germany', 'Greece',\n",
       "       'Hungary', 'Iceland', 'Ireland', 'Italy', 'Latvia', 'Lithuania',\n",
       "       'Luxembourg', 'Malta', 'Netherlands', 'Norway', 'Poland',\n",
       "       'Portugal', 'Romania', 'Russian Federation', 'Serbia', 'Slovakia',\n",
       "       'Slovenia', 'Spain', 'Sweden', 'Switzerland', 'Ukraine'],\n",
       "      dtype=object)"
      ]
     },
     "execution_count": 26,
     "metadata": {},
     "output_type": "execute_result"
    }
   ],
   "source": [
    "export[export['continent'] == 'Europe']['Country or Area'].unique()"
   ]
  },
  {
   "cell_type": "code",
   "execution_count": 27,
   "metadata": {},
   "outputs": [
    {
     "data": {
      "text/html": [
       "<div>\n",
       "<style scoped>\n",
       "    .dataframe tbody tr th:only-of-type {\n",
       "        vertical-align: middle;\n",
       "    }\n",
       "\n",
       "    .dataframe tbody tr th {\n",
       "        vertical-align: top;\n",
       "    }\n",
       "\n",
       "    .dataframe thead th {\n",
       "        text-align: right;\n",
       "    }\n",
       "</style>\n",
       "<table border=\"1\" class=\"dataframe\">\n",
       "  <thead>\n",
       "    <tr style=\"text-align: right;\">\n",
       "      <th></th>\n",
       "      <th>Country or Area</th>\n",
       "      <th>Year</th>\n",
       "      <th>Commodity</th>\n",
       "      <th>Flow</th>\n",
       "      <th>Quantity</th>\n",
       "      <th>Trade (USD)</th>\n",
       "      <th>country</th>\n",
       "      <th>continent</th>\n",
       "      <th>region</th>\n",
       "      <th>code_2</th>\n",
       "    </tr>\n",
       "  </thead>\n",
       "  <tbody>\n",
       "    <tr>\n",
       "      <th>0</th>\n",
       "      <td>Albania</td>\n",
       "      <td>2012</td>\n",
       "      <td>Cocoa beans, whole or broken, raw or roasted</td>\n",
       "      <td>Import</td>\n",
       "      <td>130.0</td>\n",
       "      <td>874.0</td>\n",
       "      <td>Albania</td>\n",
       "      <td>Europe</td>\n",
       "      <td>Southern Europe</td>\n",
       "      <td>AL</td>\n",
       "    </tr>\n",
       "    <tr>\n",
       "      <th>1</th>\n",
       "      <td>Albania</td>\n",
       "      <td>2011</td>\n",
       "      <td>Cocoa beans, whole or broken, raw or roasted</td>\n",
       "      <td>Import</td>\n",
       "      <td>4524.0</td>\n",
       "      <td>19877.0</td>\n",
       "      <td>Albania</td>\n",
       "      <td>Europe</td>\n",
       "      <td>Southern Europe</td>\n",
       "      <td>AL</td>\n",
       "    </tr>\n",
       "    <tr>\n",
       "      <th>2</th>\n",
       "      <td>Albania</td>\n",
       "      <td>2010</td>\n",
       "      <td>Cocoa beans, whole or broken, raw or roasted</td>\n",
       "      <td>Import</td>\n",
       "      <td>45.0</td>\n",
       "      <td>295.0</td>\n",
       "      <td>Albania</td>\n",
       "      <td>Europe</td>\n",
       "      <td>Southern Europe</td>\n",
       "      <td>AL</td>\n",
       "    </tr>\n",
       "    <tr>\n",
       "      <th>3</th>\n",
       "      <td>Albania</td>\n",
       "      <td>2009</td>\n",
       "      <td>Cocoa beans, whole or broken, raw or roasted</td>\n",
       "      <td>Import</td>\n",
       "      <td>262.0</td>\n",
       "      <td>1919.0</td>\n",
       "      <td>Albania</td>\n",
       "      <td>Europe</td>\n",
       "      <td>Southern Europe</td>\n",
       "      <td>AL</td>\n",
       "    </tr>\n",
       "    <tr>\n",
       "      <th>4</th>\n",
       "      <td>Albania</td>\n",
       "      <td>2004</td>\n",
       "      <td>Cocoa beans, whole or broken, raw or roasted</td>\n",
       "      <td>Import</td>\n",
       "      <td>1606.0</td>\n",
       "      <td>2729.0</td>\n",
       "      <td>Albania</td>\n",
       "      <td>Europe</td>\n",
       "      <td>Southern Europe</td>\n",
       "      <td>AL</td>\n",
       "    </tr>\n",
       "  </tbody>\n",
       "</table>\n",
       "</div>"
      ],
      "text/plain": [
       "  Country or Area  Year                                     Commodity    Flow  \\\n",
       "0         Albania  2012  Cocoa beans, whole or broken, raw or roasted  Import   \n",
       "1         Albania  2011  Cocoa beans, whole or broken, raw or roasted  Import   \n",
       "2         Albania  2010  Cocoa beans, whole or broken, raw or roasted  Import   \n",
       "3         Albania  2009  Cocoa beans, whole or broken, raw or roasted  Import   \n",
       "4         Albania  2004  Cocoa beans, whole or broken, raw or roasted  Import   \n",
       "\n",
       "   Quantity  Trade (USD)  country continent           region code_2  \n",
       "0     130.0        874.0  Albania    Europe  Southern Europe     AL  \n",
       "1    4524.0      19877.0  Albania    Europe  Southern Europe     AL  \n",
       "2      45.0        295.0  Albania    Europe  Southern Europe     AL  \n",
       "3     262.0       1919.0  Albania    Europe  Southern Europe     AL  \n",
       "4    1606.0       2729.0  Albania    Europe  Southern Europe     AL  "
      ]
     },
     "execution_count": 27,
     "metadata": {},
     "output_type": "execute_result"
    }
   ],
   "source": [
    "imports = imp_exp_regions[imp_exp_regions['Flow'] == 'Import']\n",
    "imports.head()"
   ]
  },
  {
   "cell_type": "code",
   "execution_count": 28,
   "metadata": {},
   "outputs": [],
   "source": [
    "pivot_imports = pd.pivot_table(imports, values = 'Trade (USD)', index = 'continent', columns = 'Year', aggfunc = np.sum)"
   ]
  },
  {
   "cell_type": "code",
   "execution_count": 27,
   "metadata": {},
   "outputs": [
    {
     "ename": "NameError",
     "evalue": "name 'pivot_imports' is not defined",
     "output_type": "error",
     "traceback": [
      "\u001b[1;31m---------------------------------------------------------------------------\u001b[0m",
      "\u001b[1;31mNameError\u001b[0m                                 Traceback (most recent call last)",
      "\u001b[1;32m<ipython-input-27-b3d656082459>\u001b[0m in \u001b[0;36m<module>\u001b[1;34m\u001b[0m\n\u001b[1;32m----> 1\u001b[1;33m \u001b[0mpivot_imports\u001b[0m\u001b[1;33m.\u001b[0m\u001b[0mindex\u001b[0m\u001b[1;33m.\u001b[0m\u001b[0mname\u001b[0m \u001b[1;33m=\u001b[0m \u001b[1;32mNone\u001b[0m\u001b[1;33m\u001b[0m\u001b[1;33m\u001b[0m\u001b[0m\n\u001b[0m\u001b[0;32m      2\u001b[0m \u001b[0mpivot_imports\u001b[0m\u001b[1;33m\u001b[0m\u001b[1;33m\u001b[0m\u001b[0m\n",
      "\u001b[1;31mNameError\u001b[0m: name 'pivot_imports' is not defined"
     ]
    }
   ],
   "source": [
    "pivot_imports.index.name = None\n",
    "pivot_imports"
   ]
  },
  {
   "cell_type": "code",
   "execution_count": null,
   "metadata": {},
   "outputs": [],
   "source": [
    "pivot_export = pd.pivot_table(export, values = 'Trade (USD)', index = 'continent', columns = 'Year', aggfunc = np.sum)"
   ]
  },
  {
   "cell_type": "code",
   "execution_count": null,
   "metadata": {},
   "outputs": [],
   "source": [
    "pivot_export.index.name = None\n",
    "pivot_export.index"
   ]
  },
  {
   "cell_type": "code",
   "execution_count": null,
   "metadata": {
    "scrolled": false
   },
   "outputs": [],
   "source": [
    "#frame1 = []\n",
    "#frame2 = []\n",
    "\n",
    "frames = []\n",
    "\n",
    "for year in pivot_export.columns[1:]: # we do not include the first frame here\n",
    "    frames.append(dict(data=dict(type='bar',\n",
    "                                 x=pivot_export.index,\n",
    "                                 y=pivot_export[year],\n",
    "                                 name=year,\n",
    "                                ),\n",
    "                       layout=go.Layout(title_text='Exports in the year of ' + str(year))\n",
    "                      )\n",
    "                )\n",
    "\n",
    "#for year in pivot_imports.columns[1:]: # we do not include the first frame here\n",
    "#    frames.append(dict(data=dict(type='scatter',\n",
    "#                                 x=pivot_imports.index,\n",
    "#                                 y=pivot_imports[year],\n",
    "#                                 name=year,\n",
    "#                                ),\n",
    "#                       layout=go.Layout(title_text='Imports in the year of ' + str(year))\n",
    "#                      )\n",
    "#                )\n",
    "\n",
    "    \n",
    "#frames = [frame1, frame2]\n",
    "\n",
    "# First introduction to buttons\n",
    "fig_bar_layout = dict(title=dict(text='Exports by continent from 1988 to 2019'),\n",
    "                      yaxis=dict(title='Exports',\n",
    "                                 range=[0,9000000000]\n",
    "                                ),\n",
    "                      updatemenus=[dict(type=\"buttons\",\n",
    "                                    buttons=[dict(label=\"Play\",\n",
    "                                                  method=\"animate\",\n",
    "                                                  args=[None])\n",
    "                                            ]\n",
    "                                       )\n",
    "                                  ]\n",
    "                    )\n",
    "\n",
    "initial_data = dict(type='bar', \n",
    "                    x=pivot_export.index, \n",
    "                    y=pivot_export.values[0],\n",
    "                    name=str(1988))\n",
    "\n",
    "fig_bar = go.Figure(data = initial_data, layout = fig_bar_layout, frames=frames)\n",
    "\n",
    "fig_bar.show(renderer='iframe')"
   ]
  },
  {
   "cell_type": "code",
   "execution_count": null,
   "metadata": {},
   "outputs": [],
   "source": [
    "imports['Trade']"
   ]
  },
  {
   "cell_type": "markdown",
   "metadata": {},
   "source": [
    "### ------------- BEA\n"
   ]
  },
  {
   "cell_type": "code",
   "execution_count": 28,
   "metadata": {},
   "outputs": [
    {
     "ename": "NameError",
     "evalue": "name 'imports' is not defined",
     "output_type": "error",
     "traceback": [
      "\u001b[1;31m---------------------------------------------------------------------------\u001b[0m",
      "\u001b[1;31mNameError\u001b[0m                                 Traceback (most recent call last)",
      "\u001b[1;32m<ipython-input-28-1fc14eca314d>\u001b[0m in \u001b[0;36m<module>\u001b[1;34m\u001b[0m\n\u001b[1;32m----> 1\u001b[1;33m \u001b[0mimports\u001b[0m\u001b[1;33m.\u001b[0m\u001b[0mloc\u001b[0m\u001b[1;33m[\u001b[0m\u001b[1;33m(\u001b[0m\u001b[0mimports\u001b[0m\u001b[1;33m[\u001b[0m\u001b[1;34m'continent'\u001b[0m\u001b[1;33m]\u001b[0m\u001b[1;33m==\u001b[0m\u001b[1;34m'nan'\u001b[0m\u001b[1;33m)\u001b[0m \u001b[1;33m&\u001b[0m \u001b[1;33m(\u001b[0m\u001b[0mimports\u001b[0m\u001b[1;33m[\u001b[0m\u001b[1;34m'Country or Area'\u001b[0m\u001b[1;33m]\u001b[0m\u001b[1;33m!=\u001b[0m\u001b[1;34m'nan'\u001b[0m\u001b[1;33m)\u001b[0m\u001b[1;33m]\u001b[0m\u001b[1;33m\u001b[0m\u001b[1;33m\u001b[0m\u001b[0m\n\u001b[0m",
      "\u001b[1;31mNameError\u001b[0m: name 'imports' is not defined"
     ]
    }
   ],
   "source": [
    "imports.loc[(imports['continent']=='nan') & (imports['Country or Area']!='nan')]"
   ]
  },
  {
   "cell_type": "code",
   "execution_count": 29,
   "metadata": {},
   "outputs": [
    {
     "ename": "NameError",
     "evalue": "name 'imports' is not defined",
     "output_type": "error",
     "traceback": [
      "\u001b[1;31m---------------------------------------------------------------------------\u001b[0m",
      "\u001b[1;31mNameError\u001b[0m                                 Traceback (most recent call last)",
      "\u001b[1;32m<ipython-input-29-b7644c1d8ef7>\u001b[0m in \u001b[0;36m<module>\u001b[1;34m\u001b[0m\n\u001b[1;32m----> 1\u001b[1;33m \u001b[0mimports\u001b[0m\u001b[1;33m[\u001b[0m\u001b[1;34m'country'\u001b[0m\u001b[1;33m]\u001b[0m\u001b[1;33m.\u001b[0m\u001b[0misna\u001b[0m\u001b[1;33m(\u001b[0m\u001b[1;33m)\u001b[0m\u001b[1;33m.\u001b[0m\u001b[0msum\u001b[0m\u001b[1;33m(\u001b[0m\u001b[1;33m)\u001b[0m\u001b[1;33m\u001b[0m\u001b[1;33m\u001b[0m\u001b[0m\n\u001b[0m",
      "\u001b[1;31mNameError\u001b[0m: name 'imports' is not defined"
     ]
    }
   ],
   "source": [
    "imports['country'].isna().sum()"
   ]
  },
  {
   "cell_type": "code",
   "execution_count": 30,
   "metadata": {},
   "outputs": [
    {
     "ename": "NameError",
     "evalue": "name 'imports' is not defined",
     "output_type": "error",
     "traceback": [
      "\u001b[1;31m---------------------------------------------------------------------------\u001b[0m",
      "\u001b[1;31mNameError\u001b[0m                                 Traceback (most recent call last)",
      "\u001b[1;32m<ipython-input-30-562035b1d1f5>\u001b[0m in \u001b[0;36m<module>\u001b[1;34m\u001b[0m\n\u001b[1;32m----> 1\u001b[1;33m \u001b[0mimports\u001b[0m\u001b[1;33m[\u001b[0m\u001b[1;34m'continent'\u001b[0m\u001b[1;33m]\u001b[0m\u001b[1;33m.\u001b[0m\u001b[0misna\u001b[0m\u001b[1;33m(\u001b[0m\u001b[1;33m)\u001b[0m\u001b[1;33m.\u001b[0m\u001b[0msum\u001b[0m\u001b[1;33m(\u001b[0m\u001b[1;33m)\u001b[0m\u001b[1;33m\u001b[0m\u001b[1;33m\u001b[0m\u001b[0m\n\u001b[0m",
      "\u001b[1;31mNameError\u001b[0m: name 'imports' is not defined"
     ]
    }
   ],
   "source": [
    "imports['continent'].isna().sum()"
   ]
  },
  {
   "cell_type": "code",
   "execution_count": null,
   "metadata": {},
   "outputs": [],
   "source": [
    "imports['Quantity'] = imports['Quantity']. fillna(0) #os que têm nans ficam considerados como 0 importação"
   ]
  },
  {
   "cell_type": "code",
   "execution_count": null,
   "metadata": {},
   "outputs": [],
   "source": [
    "imports.dtypes"
   ]
  },
  {
   "cell_type": "code",
   "execution_count": null,
   "metadata": {},
   "outputs": [],
   "source": [
    "imports['Quantity'].astype(int)"
   ]
  },
  {
   "cell_type": "code",
   "execution_count": null,
   "metadata": {},
   "outputs": [],
   "source": [
    "#treemap: #px.Constant(\"continents\")"
   ]
  },
  {
   "cell_type": "code",
   "execution_count": null,
   "metadata": {},
   "outputs": [],
   "source": [
    "imports=imports[imports['Country or Area'].isnull()!= True] #removing nulls from Country or Area Column"
   ]
  },
  {
   "cell_type": "code",
   "execution_count": null,
   "metadata": {},
   "outputs": [],
   "source": [
    "# Mudar aqui:"
   ]
  },
  {
   "cell_type": "code",
   "execution_count": null,
   "metadata": {},
   "outputs": [],
   "source": [
    "imports.loc[imports['Country or Area'] == 'Wallis and Futuna Isds', 'continent'] = 'Oceania'\n",
    "imports.loc[imports['Country or Area'] == 'Wallis and Futuna Isds','region'] = 'Polynesia'\n",
    "#imports.loc[imports['Country or Area'] == 'United Rep. of Tanzania','country'] = 'Tanzania'"
   ]
  },
  {
   "cell_type": "code",
   "execution_count": null,
   "metadata": {},
   "outputs": [],
   "source": [
    "imports.loc[imports['Country or Area'] == 'Wallis and Futuna Isds', 'continent'] = 'Oceania'\n",
    "imports.loc[imports['Country or Area'] == 'Wallis and Futuna Isds','region'] = 'Polynesia'\n",
    "imports.loc[imports['Country or Area'] == 'Venezuela', 'continent'] = 'Americas'\n",
    "imports.loc[imports['Country or Area'] == 'Venezuela','region'] = 'Southern America'\n",
    "imports.loc[imports['Country or Area'] == 'United Rep. of Tanzania', 'continent'] = 'Africa'\n",
    "imports.loc[imports['Country or Area'] == 'United Rep. of Tanzania','region'] = 'Eastern Africa'\n",
    "imports.loc[imports['Country or Area'] == 'United Rep. of Tanzania','country'] = 'Tanzania'\n",
    "imports.loc[imports['Country or Area'] == 'United Kingdom', 'continent'] = 'Europe'\n",
    "imports.loc[imports['Country or Area'] == 'United Kingdom','region'] = 'Northern Europe'\n",
    "imports.loc[imports['Country or Area'] == 'USA', 'continent'] = 'Americas'\n",
    "imports.loc[imports['Country or Area'] == 'USA','region'] = 'Northern America'\n",
    "imports.loc[imports['Country or Area'] == 'USA','country'] = 'United States of America'\n",
    "imports.loc[imports['Country or Area'] == 'Turks and Caicos Isds', 'continent'] = 'Americas'\n",
    "imports.loc[imports['Country or Area'] == 'Turks and Caicos Isds','region'] = 'Central America'\n",
    "imports.loc[imports['Country or Area'] == 'TFYR of Macedonia', 'continent'] = 'Europe'\n",
    "imports.loc[imports['Country or Area'] == 'TFYR of Macedonia','region'] = 'Southern Europe'\n",
    "imports.loc[imports['Country or Area'] == 'TFYR of Macedonia','country'] = 'Macedonia'\n",
    "imports.loc[imports['Country or Area'] == 'Syria', 'continent'] = 'Asia'\n",
    "imports.loc[imports['Country or Area'] == 'Syria','region'] = 'Western Asia'\n",
    "imports.loc[imports['Country or Area'] == 'Solomon Isds', 'continent'] = 'Oceania'\n",
    "imports.loc[imports['Country or Area'] == 'Solomon Isds','region'] = 'Australia and New Zealand'\n",
    "imports.loc[imports['Country or Area'] == 'Serbia and Montenegro', 'continent'] = 'Europe'\n",
    "imports.loc[imports['Country or Area'] == 'Serbia and Montenegro','region'] = 'Southern Europe'\n",
    "imports.loc[imports['Country or Area'] == 'Rep. of Moldova', 'continent'] = 'Europe'\n",
    "imports.loc[imports['Country or Area'] == 'Rep. of Moldova','region'] = 'Eastern Europe'\n",
    "imports.loc[imports['Country or Area'] == 'Rep. of Moldova','country'] = 'Moldova'\n",
    "imports.loc[imports['Country or Area'] == 'Rep. of Korea', 'continent'] = 'Asia'\n",
    "imports.loc[imports['Country or Area'] == 'Rep. of Korea','region'] = 'Eastern Asia'\n",
    "imports.loc[imports['Country or Area'] == 'Rep. of Korea','country'] = 'South Korea'\n",
    "imports.loc[imports['Country or Area'] == 'Other Asia, nes', 'continent'] = 'Asia'\n",
    "imports.loc[imports['Country or Area'] == 'Other Asia, nes','region'] = 'Other'\n",
    "imports.loc[imports['Country or Area'] == 'Neth. Antilles', 'continent'] = 'Americas'\n",
    "imports.loc[imports['Country or Area'] == 'Neth. Antilles','region'] = 'Caribbean'\n",
    "imports.loc[imports['Country or Area'] == 'Lao People\\'s Dem. Rep.', 'continent'] = 'Asia'\n",
    "imports.loc[imports['Country or Area'] == 'Lao People\\'s Dem. Rep.','region'] = 'South-Eastern Asia'\n",
    "imports.loc[imports['Country or Area'] == 'Lao People\\'s Dem. Rep.','country'] = 'Laos'\n",
    "imports.loc[imports['Country or Area'] == 'Iran', 'continent'] = 'Asia'\n",
    "imports.loc[imports['Country or Area'] == 'Iran','region'] = 'South-Western Asia'\n",
    "imports.loc[imports['Country or Area'] == 'Fmr Fed. Rep. of Germany', 'continent'] = 'Europe'\n",
    "imports.loc[imports['Country or Area'] == 'Fmr Fed. Rep. of Germany','region'] = 'Central Europe'\n",
    "imports.loc[imports['Country or Area'] == 'Fmr Fed. Rep. of Germany','country'] = 'Germany'\n",
    "imports.loc[imports['Country or Area'] == 'Faeroe Isds', 'continent'] = 'Europe'\n",
    "imports.loc[imports['Country or Area'] == 'Faeroe Isds', 'region'] = 'Northern Europe'\n",
    "imports.loc[imports['Country or Area'] == 'FS Micronesia', 'continent'] = 'Oceania'\n",
    "imports.loc[imports['Country or Area'] == 'FS Micronesia', 'region'] = 'Micronesia'\n",
    "imports.loc[imports['Country or Area'] == 'Czech Rep.', 'continent'] = 'Europe'\n",
    "imports.loc[imports['Country or Area'] == 'Czech Rep.', 'region'] = 'Central Europe'\n",
    "imports.loc[imports['Country or Area'] == 'Bosnia Herzegovina', 'continent'] = 'Europe'\n",
    "imports.loc[imports['Country or Area'] == 'Bosnia Herzegovina', 'region'] = 'Southern Europe'\n",
    "imports.loc[imports['Country or Area'] == 'Central African Rep.', 'continent'] = 'Africa'\n",
    "imports.loc[imports['Country or Area'] == 'Central African Rep.', 'region'] = 'Middle Africa'\n",
    "imports.loc[imports['Country or Area'] == 'China, Hong Kong SAR', 'continent'] = 'Asia'\n",
    "imports.loc[imports['Country or Area'] == 'China, Hong Kong SAR', 'region'] = 'Eastern Asia'\n",
    "imports.loc[imports['Country or Area'] == 'China, Macao SAR', 'continent'] = 'Asia'\n",
    "imports.loc[imports['Country or Area'] == 'China, Macao SAR', 'region'] = 'Eastern Asia'\n",
    "imports.loc[imports['Country or Area'] == 'Cook Isds', 'continent'] = 'Oceania'\n",
    "imports.loc[imports['Country or Area'] == 'Cook Isds', 'region'] = 'Polynesia'\n",
    "imports.loc[imports['Country or Area'] == 'Dominican Rep.', 'continent'] = 'Americas'\n",
    "imports.loc[imports['Country or Area'] == 'Dominican Rep.', 'region'] = 'Caribbean'\n",
    "imports.loc[imports['Country or Area'] == 'Fmr Sudan', 'continent'] = 'Africa'\n",
    "imports.loc[imports['Country or Area'] == 'Fmr Sudan','region'] = 'Northern Africa'\n",
    "imports.loc[imports['Country or Area'] == 'Fmr Sudan','country'] = 'Sudan'"
   ]
  },
  {
   "cell_type": "code",
   "execution_count": null,
   "metadata": {},
   "outputs": [],
   "source": [
    "imports= imports[~(imports['Country or Area'] == 'Belgium-Luxembourg')]"
   ]
  },
  {
   "cell_type": "code",
   "execution_count": null,
   "metadata": {},
   "outputs": [],
   "source": [
    "imports= imports[~(imports['Country or Area'] == 'EU-28')]\n",
    "imports= imports[~(imports['Country or Area'] == 'So. African Customs Union')]"
   ]
  },
  {
   "cell_type": "code",
   "execution_count": null,
   "metadata": {
    "scrolled": false
   },
   "outputs": [],
   "source": [
    "fig = px.treemap(imports, \n",
    "    path=['continent', 'region', 'Country or Area'],values='Quantity', color='Quantity', color_continuous_scale='sunset'\n",
    "\n",
    ")\n",
    "\n",
    "fig.update_traces(root_color=\"lightgrey\")\n",
    "\n",
    "fig.update_layout(margin = dict(t=50, l=25, r=25, b=25)) #,paper_bgcolor='rgb(233,233,233)')\n",
    "fig.show()\n"
   ]
  },
  {
   "cell_type": "code",
   "execution_count": null,
   "metadata": {
    "scrolled": true
   },
   "outputs": [],
   "source": [
    "imptree = px.treemap(imports, \n",
    "    path=['continent', 'region', 'Country or Area'],values='Quantity', color='Quantity', color_continuous_scale='sunset'\n",
    "\n",
    ")\n",
    "\n",
    "imptree.update_traces(root_color=\"lightgrey\")\n",
    "\n",
    "imptree.update_layout(margin = dict(t=50, l=25, r=25, b=25)) #,paper_bgcolor='rgb(233,233,233)')\n",
    "\n",
    "imptree.update_layout(\n",
    "    updatemenus=[\n",
    "        dict(\n",
    "            buttons=list([\n",
    "                dict(\n",
    "                    args=[\"type\", \"treemap\"],\n",
    "                    label=\"Treemap\",\n",
    "                    method=\"restyle\"\n",
    "                ),\n",
    "                dict(\n",
    "                    args=[\"type\", \"line\"],\n",
    "                    label=\"Line\",\n",
    "                    method=\"restyle\"\n",
    "                )\n",
    "            ]),\n",
    "            direction=\"down\",\n",
    "            pad={\"r\": 10, \"t\": 10},\n",
    "            showactive=True,\n",
    "            x=0.1,\n",
    "            xanchor=\"left\",\n",
    "            y=1.1,\n",
    "            yanchor=\"top\"\n",
    "        ),\n",
    "    ]\n",
    ")\n",
    "\n",
    "# Add annotation\n",
    "imptree.update_layout(\n",
    "    annotations=[\n",
    "        dict(text=\"Trace type:\", showarrow=False,\n",
    "        x=0, y=1.085, yref=\"paper\", align=\"left\")\n",
    "    ]\n",
    ")\n",
    "\n",
    "imptree.show()\n"
   ]
  },
  {
   "cell_type": "code",
   "execution_count": null,
   "metadata": {
    "scrolled": true
   },
   "outputs": [],
   "source": [
    "#doesnt work well\n",
    "fig = px.scatter(imports, x=\"Trade (USD)\", y=\"Quantity\", color='continent', animation_frame='Year', animation_group='continent',log_x=True, log_y=True, range_x=[None], range_y=[0,200],title='Chocolate Imports by Country/Area through Time')\n",
    "fig.show()"
   ]
  },
  {
   "cell_type": "code",
   "execution_count": null,
   "metadata": {},
   "outputs": [],
   "source": []
  },
  {
   "cell_type": "code",
   "execution_count": null,
   "metadata": {},
   "outputs": [],
   "source": []
  },
  {
   "cell_type": "code",
   "execution_count": 160,
   "metadata": {},
   "outputs": [
    {
     "data": {
      "application/vnd.plotly.v1+json": {
       "config": {
        "plotlyServerURL": "https://plot.ly"
       },
       "data": [
        {
         "hovertemplate": "continent=Europe<br>Year=%{x}<br>Quantity=%{y}<extra></extra>",
         "legendgroup": "Europe",
         "line": {
          "color": "#636efa",
          "dash": "solid"
         },
         "mode": "lines",
         "name": "Europe",
         "showlegend": true,
         "type": "scattergl",
         "x": [
          2012,
          2011,
          2010,
          2009,
          2004,
          2003,
          2000,
          1997,
          1996,
          2018,
          2016,
          2014,
          2013,
          2012,
          2011,
          2003,
          2002,
          2001,
          2000,
          1999,
          1998,
          1997,
          1996,
          1995,
          2018,
          2017,
          2016,
          2015,
          2014,
          2013,
          2012,
          2011,
          2010,
          2009,
          2008,
          2007,
          2006,
          2005,
          2004,
          2003,
          2002,
          2001,
          2000,
          1999,
          1998,
          1997,
          1996,
          1995,
          1994,
          2018,
          2017,
          2016,
          2015,
          2014,
          2013,
          2012,
          2011,
          2010,
          2009,
          2008,
          2007,
          2006,
          2005,
          2004,
          2003,
          2002,
          2001,
          2000,
          1999,
          1998,
          2018,
          2017,
          2016,
          2015,
          2014,
          2013,
          2012,
          2011,
          2010,
          2009,
          2008,
          2007,
          2006,
          2005,
          2004,
          2003,
          2002,
          2001,
          2000,
          1999,
          2019,
          2018,
          2017,
          2016,
          2015,
          2014,
          2013,
          2012,
          2010,
          2009,
          2008,
          2007,
          2006,
          2005,
          2004,
          2003,
          2018,
          2017,
          2016,
          2015,
          2014,
          2013,
          2012,
          2011,
          2010,
          2008,
          2005,
          2004,
          2003,
          2002,
          2001,
          2000,
          1999,
          1998,
          1997,
          1996,
          2018,
          2017,
          2016,
          2015,
          2014,
          2013,
          2012,
          2011,
          2010,
          2009,
          2008,
          2007,
          2006,
          2005,
          2004,
          2003,
          2002,
          2001,
          2000,
          1999,
          1998,
          1997,
          1996,
          1995,
          1994,
          1993,
          1992,
          2019,
          2018,
          2017,
          2016,
          2015,
          2014,
          2013,
          2012,
          2011,
          2010,
          2009,
          2008,
          2007,
          2006,
          2005,
          2004,
          2003,
          2002,
          2001,
          2000,
          1999,
          1998,
          1997,
          1996,
          1995,
          1994,
          1993,
          2019,
          2018,
          2017,
          2016,
          2015,
          2014,
          2013,
          2012,
          2011,
          2010,
          2009,
          2008,
          2007,
          2006,
          2005,
          2004,
          2003,
          2002,
          2001,
          2000,
          1999,
          1998,
          1997,
          1996,
          1995,
          1994,
          1993,
          1992,
          1991,
          1990,
          1989,
          2018,
          2017,
          2016,
          2015,
          2014,
          2013,
          2012,
          2011,
          2010,
          2009,
          2008,
          2007,
          2006,
          2005,
          2004,
          2003,
          2002,
          2001,
          2000,
          1999,
          1998,
          1997,
          1996,
          1995,
          2006,
          2001,
          2000,
          1999,
          1996,
          2018,
          2017,
          2016,
          2015,
          2014,
          2013,
          2012,
          2011,
          2010,
          2009,
          2008,
          2007,
          2005,
          2004,
          2003,
          2002,
          2001,
          2000,
          1999,
          1998,
          1997,
          1996,
          1995,
          1994,
          1993,
          1992,
          1991,
          1990,
          1989,
          1988,
          1990,
          1989,
          1988,
          2018,
          2017,
          2016,
          2015,
          2014,
          2013,
          2012,
          2011,
          2010,
          2009,
          2008,
          2007,
          2006,
          2005,
          2004,
          2003,
          2002,
          2001,
          2000,
          1999,
          1998,
          1997,
          1996,
          1995,
          1994,
          2018,
          2017,
          2016,
          2015,
          2014,
          2013,
          2012,
          2011,
          2010,
          2009,
          2008,
          2007,
          2006,
          2005,
          2004,
          2003,
          2002,
          2001,
          2000,
          1999,
          1998,
          1997,
          1996,
          1995,
          1994,
          1993,
          1992,
          1991,
          2019,
          2018,
          2017,
          2016,
          2015,
          2014,
          2013,
          2012,
          2011,
          2010,
          2009,
          2008,
          2007,
          2006,
          2005,
          2004,
          2003,
          2002,
          2001,
          2000,
          1999,
          1998,
          1997,
          1996,
          1995,
          1994,
          1993,
          1992,
          1990,
          1989,
          1988,
          2018,
          2017,
          2016,
          2015,
          2014,
          2013,
          2012,
          2011,
          2010,
          1998,
          1996,
          1995,
          1994,
          1993,
          1992,
          2018,
          2017,
          2016,
          2015,
          2014,
          2013,
          2012,
          2011,
          2010,
          2009,
          2007,
          2006,
          2005,
          2003,
          1997,
          1988,
          2018,
          2017,
          2016,
          2015,
          2014,
          2013,
          2012,
          2011,
          2010,
          2009,
          2008,
          2007,
          2006,
          2005,
          2004,
          2003,
          2002,
          2001,
          2000,
          1999,
          1998,
          1997,
          1996,
          1995,
          1994,
          1993,
          1992,
          2018,
          2017,
          2016,
          2015,
          2014,
          2013,
          2012,
          2011,
          2010,
          2009,
          2008,
          2007,
          2006,
          2005,
          2004,
          2003,
          2002,
          2001,
          2000,
          1999,
          1998,
          1997,
          1996,
          1995,
          1994,
          2018,
          2017,
          2016,
          2015,
          2014,
          2013,
          2012,
          2011,
          2010,
          2009,
          2008,
          2007,
          2006,
          2005,
          2004,
          2003,
          2002,
          2001,
          2000,
          1999,
          1998,
          1997,
          1996,
          1995,
          1994,
          2018,
          2017,
          2016,
          2015,
          2014,
          2013,
          2012,
          2011,
          2010,
          2009,
          2008,
          2007,
          2006,
          2005,
          2004,
          2003,
          2002,
          2001,
          2000,
          1999,
          1998,
          1997,
          1996,
          1995,
          1994,
          2018,
          2017,
          2016,
          2015,
          2014,
          2013,
          2012,
          2011,
          2010,
          2009,
          2008,
          2007,
          2006,
          2005,
          2004,
          2003,
          2002,
          2001,
          2000,
          1999,
          2018,
          2017,
          2016,
          2015,
          2014,
          2013,
          2012,
          2011,
          2010,
          2009,
          2007,
          2006,
          2005,
          1997,
          1995,
          1994,
          2018,
          2017,
          2016,
          2015,
          2014,
          2013,
          2018,
          2017,
          2016,
          2015,
          2014,
          2013,
          2012,
          2011,
          2010,
          2009,
          2008,
          2007,
          2006,
          2005,
          2004,
          2003,
          2002,
          2001,
          2000,
          1999,
          1998,
          1997,
          1996,
          1995,
          1994,
          1993,
          1992,
          2018,
          2017,
          2016,
          2015,
          2014,
          2013,
          2012,
          2011,
          2010,
          2009,
          2008,
          2007,
          2006,
          2005,
          2004,
          2001,
          2000,
          1999,
          1998,
          1996,
          1995,
          1994,
          1993,
          2019,
          2018,
          2017,
          2016,
          2015,
          2014,
          2013,
          2012,
          2011,
          2010,
          2009,
          2008,
          2007,
          2006,
          2005,
          2004,
          2003,
          2002,
          2001,
          2000,
          1999,
          1998,
          1997,
          1996,
          1995,
          1994,
          2018,
          2017,
          2016,
          2015,
          2014,
          2013,
          2012,
          2011,
          2010,
          2009,
          2008,
          2007,
          2006,
          2005,
          2004,
          2003,
          2002,
          2001,
          2000,
          1999,
          1998,
          1997,
          1996,
          1995,
          1994,
          1993,
          1992,
          1991,
          1990,
          1989,
          1988,
          2018,
          2017,
          2016,
          2015,
          2014,
          2013,
          2010,
          2009,
          2008,
          2007,
          2006,
          2005,
          2004,
          2003,
          2002,
          2001,
          2000,
          1999,
          1998,
          1996,
          1995,
          1994,
          2018,
          2017,
          2016,
          2015,
          2014,
          2013,
          2012,
          2011,
          2010,
          2009,
          2008,
          2007,
          2006,
          2005,
          2004,
          2003,
          2002,
          2001,
          2000,
          1999,
          1998,
          1997,
          1996,
          1995,
          1994,
          1993,
          1992,
          1991,
          1990,
          1989,
          2018,
          2017,
          2016,
          2015,
          2014,
          2013,
          2012,
          2011,
          2010,
          2009,
          2008,
          2007,
          2006,
          2005,
          2004,
          2003,
          2002,
          2001,
          2000,
          1999,
          1998,
          1997,
          1996,
          2018,
          2017,
          2016,
          2015,
          2014,
          2013,
          2012,
          2011,
          2010,
          2009,
          2008,
          2007,
          2006,
          2005,
          2004,
          2002,
          2001,
          2000,
          1999,
          1998,
          1997,
          1996,
          1992,
          2018,
          2017,
          2016,
          2015,
          2014,
          2013,
          2012,
          2011,
          2010,
          2009,
          2008,
          2007,
          2006,
          2005,
          2004,
          2003,
          2002,
          2001,
          2000,
          1999,
          1998,
          1997,
          1996,
          1995,
          1994,
          2018,
          2017,
          2016,
          2015,
          2014,
          2013,
          2012,
          2011,
          2010,
          2009,
          2008,
          2007,
          2006,
          2005,
          2004,
          2003,
          2001,
          2000,
          1999,
          1998,
          1997,
          1996,
          1995,
          1994,
          2018,
          2017,
          2016,
          2015,
          2014,
          2013,
          2012,
          2011,
          2010,
          2009,
          2008,
          2007,
          2006,
          2005,
          2004,
          2003,
          2002,
          2001,
          2000,
          1999,
          1998,
          1997,
          1996,
          1995,
          1994,
          1993,
          1992,
          1991,
          1990,
          1989,
          2018,
          2017,
          2016,
          2015,
          2014,
          2013,
          2012,
          2011,
          2010,
          2009,
          2008,
          2007,
          2006,
          2005,
          2004,
          2003,
          2002,
          2001,
          2000,
          1999,
          1998,
          1997,
          1996,
          1995,
          1994,
          1993,
          1992,
          2019,
          2018,
          2017,
          2016,
          2015,
          2014,
          2013,
          2012,
          2011,
          2010,
          2009,
          2008,
          2007,
          2006,
          2005,
          2004,
          2003,
          2002,
          2001,
          2000,
          1999,
          1998,
          1997,
          1996,
          1995,
          1994,
          1993,
          1992,
          1991,
          1990,
          1989,
          1988,
          2019,
          2018,
          2017,
          2016,
          2015,
          2014,
          2013,
          2012,
          2011,
          2010,
          2009,
          2008,
          2007,
          2006,
          2005,
          2004,
          2003,
          2002,
          2001,
          2000,
          1999,
          1998,
          1997,
          1996,
          1995,
          1994,
          2018,
          2017,
          2016,
          2015,
          2014,
          2013,
          2012,
          2011,
          2010,
          2009,
          2008,
          2007,
          2006,
          2005,
          2004,
          2003,
          2002,
          2001,
          2000,
          1999,
          1998,
          1997,
          1996,
          2018,
          2017,
          2016,
          2015,
          2014,
          2013,
          2012,
          2011,
          2010,
          2009,
          2008,
          2007,
          2006,
          2005,
          2004,
          2003,
          2002,
          2001,
          2000,
          1999,
          1998,
          1997,
          1996,
          1995,
          1994,
          1993
         ],
         "xaxis": "x",
         "y": [
          130,
          4524,
          45,
          262,
          1606,
          1000,
          5,
          2000,
          12000,
          815,
          60,
          217.73,
          29,
          24,
          1,
          15,
          5,
          1060,
          417,
          554,
          44,
          402,
          734,
          60,
          29714908,
          9647843,
          27429497,
          23493726,
          14689469,
          13920787,
          9396645.89625339,
          13162399,
          12306392,
          18231879,
          11154787,
          10881472,
          8812314,
          9671689,
          23144644,
          24542405,
          23048501,
          22856700,
          19101800,
          20070600,
          17605974,
          16622584,
          14958245,
          14497470,
          13941644,
          7196794,
          7764351,
          6694551,
          6712620,
          6540903,
          6972342,
          6775559,
          6931483,
          7228924,
          6766010,
          6407260,
          5491269,
          5423629,
          5028759,
          5023971,
          4606730,
          4247341,
          4978319,
          6674173,
          3999984,
          3683058,
          233625755.17,
          320227430.57,
          306826005.73,
          245620323,
          263605023,
          250453731,
          198182483,
          201426257,
          160153611,
          146646988,
          178543473,
          187900666,
          198455743,
          187785132,
          154881081,
          118913129,
          122894139,
          94465952,
          104413743,
          44367325,
          655057.4,
          887378.56,
          857059.05,
          1075531,
          98213,
          214859,
          189571,
          5048,
          29504,
          43000,
          65036,
          66379,
          22989,
          152557,
          57947,
          113342,
          15304955,
          2217198,
          45922,
          17671,
          12864,
          3070,
          4017,
          65267,
          128339,
          18115,
          77685,
          745739,
          490500,
          356700,
          31250,
          65000,
          102984,
          520540,
          1702484,
          3036824,
          1596929.23,
          1784269.03355713,
          1499781,
          883982,
          1559510,
          2322319,
          1907068,
          1870784,
          2306802,
          2119944,
          2109666,
          2305700,
          2975616,
          5101734,
          5066521,
          5193158,
          4643454,
          3920206,
          3991767,
          3557000,
          3312001,
          4206000,
          3716000,
          4555000,
          2567000,
          2767000,
          3825000,
          101974.191656124,
          84190.045957415,
          50705,
          38107,
          31547,
          18911,
          15220,
          7722,
          4609,
          2825,
          1293,
          1229,
          96,
          2111,
          40,
          12331930,
          17425030,
          15460720,
          19851929,
          14260482,
          10644875,
          9032644,
          15046621,
          15799000,
          11443319,
          12351519,
          13566679,
          3159902,
          4692548.99118688,
          3367791,
          3634006,
          3246349,
          3340172,
          3400633,
          3172655,
          3436202,
          3479832,
          2654097,
          5618968,
          6077701,
          3967793,
          16743797,
          6306278,
          177,
          1827680,
          6156139,
          14161375,
          8918631,
          15115865,
          6867564,
          3729983,
          3268049,
          2814240,
          2825276,
          2523156,
          2911021,
          2718675,
          2219467,
          21413504.6,
          44681089.4,
          35580961.2,
          41700370,
          39503844,
          45829481,
          48378675,
          56308436,
          45665367,
          38719927,
          35582117,
          41875582,
          83560330,
          49251997,
          65343303,
          61300043,
          57283737,
          60793556,
          62035293,
          48667700,
          64866780,
          70246896,
          13570298,
          2425724,
          1,
          4,
          38,
          10,
          45,
          49826.3340948922,
          32969.676435154,
          32928,
          19025,
          14855,
          7210,
          6723,
          10497,
          6924,
          3625,
          111,
          20,
          40,
          25,
          225,
          22,
          6,
          58528,
          71740,
          82907,
          91597,
          100023,
          137003,
          158265,
          181767,
          94659,
          115666,
          138898,
          138687,
          173145,
          287171616,
          250081440,
          222311584,
          165876485.81471598,
          142113023.168443,
          148835556,
          133418943,
          137724261,
          124001033,
          128976097,
          146707268,
          137063100,
          163548500,
          155989700,
          173165000,
          159091900,
          147022700,
          157918600,
          152477900,
          138890800,
          162297900,
          150193400,
          138887440,
          105907024,
          110221304,
          119841432,
          113519624,
          101773728,
          326436592.12309504,
          352645310,
          342485672.6811,
          301021285.553656,
          244640247.075009,
          293003561.725505,
          372792767.494312,
          425068301.083512,
          376392167.538675,
          360307228.93527997,
          346979745,
          354149329,
          290957093,
          273123100,
          200710100,
          209894800,
          205205400,
          212163900,
          250959600,
          234351968,
          289769632,
          320408992,
          312018336,
          297013216,
          330833472,
          332521632,
          319589600,
          302925600,
          3279127,
          3807770,
          3160244,
          4157400,
          3012350,
          3947591,
          2645188,
          3404850,
          4052090,
          4027383,
          5475937,
          3610465,
          4679932,
          4530704,
          5269768,
          3709189,
          4086663,
          4166000,
          19414704,
          3523985,
          2844772,
          2418435,
          5028456,
          1862540,
          1156303,
          881364,
          2596179,
          1440637,
          5766688,
          5162455,
          5794522,
          8453,
          7579,
          6330,
          3612,
          6220,
          2581,
          2015,
          3600,
          2000,
          2318573,
          5278635,
          3994911,
          3115834,
          5754770,
          7371912,
          13596,
          9000,
          8306,
          7612,
          5713,
          2080,
          2068,
          1270,
          607,
          11,
          112,
          32,
          7,
          16,
          103,
          50,
          7324,
          8238,
          8314,
          7286,
          4573,
          1811223,
          6595954,
          4002395,
          5063721,
          8139780,
          9575766,
          13797155,
          13197589,
          23004858,
          10374941,
          11080855,
          13583408,
          8134357,
          8425513,
          6098967,
          13602620,
          11952581,
          8932968,
          6368359,
          6570202,
          7346945,
          8970694,
          98406059,
          100241539,
          93666932,
          96861793,
          91758054,
          88841109,
          87296228,
          91870415,
          81901417,
          73275037,
          68143970,
          63593583,
          65925356,
          67821731,
          60229668,
          76025520,
          61741735,
          75159479,
          79032370,
          71178373,
          70755952,
          70142080,
          72500032,
          68348920,
          61644720,
          463,
          17669,
          20360,
          1554601,
          2006331.09776691,
          2135322,
          1690391,
          1390170,
          1075316,
          1615172,
          1515580,
          1674432,
          1492777,
          1461300,
          2058200,
          1291156,
          1252646,
          1159573,
          1062167,
          1159651,
          1371678,
          2483730,
          2318728,
          1665402,
          1731014,
          1495,
          2391.25,
          2147,
          2242,
          3176,
          2777,
          405,
          138,
          138,
          377,
          135845,
          663029,
          550457,
          1351989,
          3314922,
          7307623,
          3589771,
          2540834,
          2109248,
          2303288,
          2726187,
          3018250,
          2672523,
          2956389,
          2727198,
          4001.0996754018797,
          3897.17,
          2436,
          1391,
          1386,
          1387,
          1658,
          6218,
          3384,
          1848,
          1526,
          2189,
          2179,
          1441,
          3270,
          1924,
          427,
          229,
          50,
          537,
          311,
          131,
          252,
          317,
          56,
          74,
          5,
          9,
          9,
          13,
          57,
          8,
          60,
          899,
          50,
          156,
          214.6,
          192,
          339.46,
          274,
          66,
          166,
          1079178368,
          930340093,
          817271980,
          702823583.08263,
          650819924,
          622282370,
          646217250,
          684418363,
          544570244,
          655001083,
          560623868,
          520770148,
          433658735,
          520082116,
          435224920,
          460069158,
          383093136,
          544717272,
          473814679,
          503134353,
          331596928,
          288080352,
          556840384,
          399182272,
          363965120,
          296597504,
          291700288,
          9630,
          9676,
          7009,
          4809,
          5248,
          5751,
          4728,
          7168,
          3471,
          2364,
          2192,
          1878,
          39,
          54,
          25,
          1005,
          25600,
          500,
          441,
          551,
          1212516,
          2534870,
          1914941,
          13463596,
          10154356,
          12637348,
          10383114,
          14866353,
          15048494,
          10587111,
          10415419,
          11793202,
          9051817,
          11018315,
          9851517,
          17655421,
          21836822,
          20690523,
          21520023,
          20433417,
          22308416,
          29198847,
          23762742,
          33445534,
          36914796,
          39690008,
          36580576,
          35301432,
          35493000,
          142953,
          166219,
          121847,
          105512,
          102656,
          207770,
          80652,
          65413,
          71027,
          22794,
          40216,
          105638,
          101143,
          157146,
          75739,
          39382,
          59783,
          50327,
          74982,
          50054,
          40000,
          100000,
          84312,
          165933,
          215125,
          174956,
          275570,
          217979,
          127636,
          148157,
          93483,
          20256,
          26,
          97,
          22,
          34,
          32,
          20184,
          208,
          188,
          130185,
          696666,
          520443,
          728583,
          457393,
          548102,
          550830,
          370355,
          3484,
          414000,
          518936,
          606694,
          535997,
          41373.1333380007,
          9631,
          27912,
          10446,
          51533,
          4160,
          2616,
          2448,
          1017,
          801,
          23137,
          1380,
          5667,
          233666,
          252903,
          272776,
          40000,
          577000,
          601000,
          612000,
          872000,
          885000,
          1816000,
          1738000,
          3941000,
          2593000,
          3064000,
          4501000,
          7422000,
          2935000,
          55238866.4,
          53689351.47,
          47792992.5,
          45343094,
          60876276,
          61973530,
          62881657,
          61320059,
          54349960,
          51748107,
          60140065,
          66874643,
          68554748,
          68568508,
          65481228,
          60715829,
          70756887,
          63820730,
          71957841,
          49658848,
          48569634,
          61157896,
          56024256,
          3489221,
          2760570.37673086,
          2003444,
          3740408,
          3928026,
          4010689,
          2305301,
          2240408,
          2495310,
          2394985,
          2835158,
          3300562,
          3683073,
          3628216,
          2602332,
          3643752,
          2796736,
          2963000,
          2357000,
          2467000,
          2587000,
          2790000,
          2079000,
          10378332,
          8828216.78114492,
          10992677,
          7095897,
          7339374,
          8434024.98108294,
          7739671,
          2305288,
          1982331,
          260,
          5493719,
          9387928,
          10584241,
          9618420,
          10028452,
          9844986,
          9913755,
          7794471,
          6362460,
          7444809,
          5181053,
          6882536,
          12840125,
          6558536,
          7820985,
          26998.74,
          69862,
          55860.5,
          50448,
          28190,
          7668,
          3499,
          110390,
          137499,
          98901,
          85482,
          76634,
          11,
          46,
          27957,
          7,
          4,
          13,
          1012,
          6250,
          286128,
          286018,
          286699,
          318312,
          99845854.35,
          123663821.2,
          110659182,
          105782461,
          109000707,
          102664167,
          92948580,
          86521863,
          91957179,
          87633354,
          95480248,
          94412967,
          74669253,
          74084589,
          67158361,
          62519112,
          60168307,
          48073547,
          53065309,
          58364916,
          58341804,
          53917052,
          48737600,
          48255828,
          48247976,
          47480320,
          44098072,
          46299252,
          42817648,
          40457160,
          18751.728907330602,
          16997.1925884335,
          22200.7366482505,
          23920,
          37070,
          22377,
          24942,
          18299,
          19123,
          17820,
          11830,
          3792,
          6064,
          3284,
          48879,
          1887,
          13188,
          7353,
          10526,
          9272,
          7378,
          7205,
          9000,
          2051,
          13000,
          8000,
          383000,
          49158683.81527,
          44983830.1111062,
          42783767,
          38576807,
          43186699,
          43294018,
          40924815,
          40217018,
          42128844,
          41973193,
          39904705,
          41977201,
          38474346,
          35704161,
          32266491,
          25451781,
          26471041,
          24538138,
          24108890,
          21989296,
          25149116,
          19972736,
          20783240,
          19769856,
          23777512,
          21532328,
          21803820,
          21251316,
          19815364,
          21365788,
          21083726,
          20439404,
          466,
          38234,
          386,
          746,
          360,
          526,
          15101,
          41,
          129428,
          26024,
          52095,
          85065,
          106909,
          167691,
          136666,
          169922,
          125392,
          197073,
          109589,
          216275,
          151952,
          216921,
          242291,
          312968,
          470112,
          576486,
          16439097.3,
          13772888.08,
          11223140.06,
          9861299,
          17880089,
          20803950,
          18092145,
          17492675,
          14142963,
          15823676,
          17783156,
          20318776,
          17142820,
          17660512,
          14445157,
          15632535,
          15485123,
          22282311,
          20715521,
          15145279,
          18099400,
          17543156,
          10752251,
          113619761,
          107079268,
          42794390,
          57771316,
          60187416,
          73103602,
          92522892,
          135858864,
          130459562,
          193912116,
          169364467,
          186106979,
          185371437,
          141490020,
          161042483,
          161236338,
          130963530,
          149930450,
          150426976,
          236662774,
          190162864,
          167214368,
          241272656,
          172689488,
          159967088,
          177926208
         ],
         "yaxis": "y"
        },
        {
         "hovertemplate": "continent=Africa<br>Year=%{x}<br>Quantity=%{y}<extra></extra>",
         "legendgroup": "Africa",
         "line": {
          "color": "#EF553B",
          "dash": "solid"
         },
         "mode": "lines",
         "name": "Africa",
         "showlegend": true,
         "type": "scattergl",
         "x": [
          2017,
          2016,
          2015,
          2014,
          2013,
          2012,
          2011,
          2010,
          2009,
          2008,
          2007,
          2006,
          2005,
          2004,
          2003,
          2002,
          2001,
          2000,
          1999,
          1997,
          1995,
          1994,
          1993,
          2018,
          2017,
          2016,
          2015,
          2014,
          2013,
          2012,
          2011,
          2010,
          2009,
          2007,
          2018,
          2017,
          2016,
          2015,
          2014,
          2013,
          2012,
          2008,
          2007,
          2006,
          2001,
          1999,
          2018,
          2017,
          2016,
          2015,
          2014,
          2013,
          2012,
          2011,
          2010,
          2009,
          2008,
          2007,
          2006,
          2005,
          2004,
          2003,
          2002,
          2001,
          2000,
          2017,
          2010,
          2008,
          2004,
          2003,
          2001,
          1999,
          1997,
          1996,
          2011,
          2010,
          2009,
          2008,
          2007,
          2005,
          2004,
          2018,
          2008,
          2002,
          1999,
          2017,
          2015,
          2012,
          2011,
          2007,
          2006,
          2005,
          2003,
          2002,
          2001,
          2014,
          2006,
          2005,
          2004,
          2013,
          2012,
          2011,
          2010,
          2008,
          2006,
          2017,
          2014,
          2010,
          2009,
          2018,
          2017,
          2016,
          2015,
          2014,
          2013,
          2012,
          2010,
          2009,
          2008,
          2007,
          2006,
          2000,
          1995,
          2018,
          2011,
          2008,
          2006,
          2005,
          2004,
          2003,
          1995,
          1994,
          2003,
          2016,
          2014,
          2011,
          2010,
          2008,
          2004,
          1998,
          2011,
          2010,
          2009,
          2008,
          2007,
          2006,
          2005,
          2004,
          2003,
          2002,
          2000,
          1996,
          2018,
          2015,
          2014,
          2013,
          2012,
          2011,
          2010,
          2008,
          2007,
          2006,
          2005,
          2004,
          2003,
          2002,
          2001,
          1998,
          2018,
          2017,
          2016,
          2013,
          2012,
          2011,
          2009,
          2008,
          2007,
          2002,
          1999,
          1998,
          2013,
          1999,
          1997,
          1996,
          2005,
          2017,
          2013,
          2010,
          2009,
          2005,
          1998,
          1992,
          2017,
          2015,
          2014,
          2013,
          2012,
          2011,
          2010,
          2009,
          2008,
          2004,
          2003,
          2002,
          2000,
          2009,
          2008,
          2007,
          2016,
          2015,
          2014,
          2013,
          2008,
          2003,
          2000,
          1996,
          2017,
          2015,
          2014,
          2012,
          2009,
          2007,
          2006,
          2005,
          2004,
          2003,
          2001,
          2000,
          1991,
          2017,
          2016,
          2005,
          2000,
          2009,
          2007,
          2006,
          2018,
          2017,
          2016,
          2015,
          2014,
          2013,
          2012,
          2011,
          2010,
          2009,
          2008,
          2007,
          2006,
          2005,
          2004,
          2003,
          2002,
          1999,
          1998,
          2008,
          2007,
          2006,
          2001,
          2000,
          2018,
          2017,
          2016,
          2015,
          2014,
          2013,
          2012,
          2011,
          2010,
          2009,
          2008,
          2007,
          2006,
          2005,
          2004,
          2003,
          2002,
          2001,
          2000,
          1999,
          1998,
          1997,
          1996,
          1995,
          1994,
          1993,
          2017,
          2016,
          2014,
          2013,
          2010,
          2008,
          2007,
          2006,
          2005,
          2004,
          2003,
          2002,
          2018,
          2017,
          2016,
          2015,
          2014,
          2013,
          2012,
          2011,
          2010,
          2009,
          2008,
          2007,
          2006,
          2005,
          2004,
          2003,
          2002,
          2001,
          2000,
          2016,
          2015,
          2014,
          2012,
          2011,
          2007,
          2005,
          2004,
          2003,
          2002,
          2001,
          1997,
          1995,
          2018,
          2017,
          2016,
          2014,
          2013,
          2012,
          2011,
          2010,
          2009,
          2008,
          2003,
          2002,
          1999,
          1998,
          1997,
          1996,
          2016,
          2010,
          2009,
          2008,
          2007,
          2006,
          1996,
          2015,
          2013,
          2010,
          2009,
          2003,
          2019,
          2017,
          2016,
          2015,
          2012,
          2010,
          2008,
          2007,
          2006,
          2004,
          2003,
          2000,
          2018,
          2017,
          2016,
          2015,
          2012,
          2011,
          2010,
          2008,
          2007,
          2004,
          2003,
          2000,
          1999,
          2017,
          2016,
          2000,
          2018,
          2017,
          2016,
          2015,
          2014,
          2013,
          2012,
          2011,
          2010,
          2009,
          2008,
          2007,
          2006,
          2005,
          2004,
          2003,
          2002,
          2001,
          2000,
          2017,
          2017,
          2016,
          2015,
          2014,
          2013,
          2007,
          2006,
          2005,
          2004,
          2003,
          2002,
          2001,
          2000,
          2017,
          2016,
          2011,
          2008,
          2007,
          2005,
          2004,
          2003,
          2000,
          1999,
          2017,
          2016,
          2015,
          2014,
          2013,
          2012,
          2011,
          2010,
          2009,
          2008,
          2007,
          2006,
          2005,
          2004,
          2003,
          2002,
          2001,
          2000,
          1999,
          1998,
          1997,
          1996,
          1995,
          1994,
          1993,
          1992,
          1991,
          2018,
          2017,
          2016,
          2015,
          2014,
          2013,
          2012,
          2011,
          2010,
          2009,
          2008,
          2007,
          2006,
          2005,
          2000,
          1997,
          1994,
          2018,
          2017,
          2016,
          2015,
          2014,
          2013,
          2012,
          2011,
          2010,
          2009,
          2008,
          2007,
          2006,
          2005,
          2004,
          2002,
          2001,
          2000,
          1999,
          1998,
          1997,
          1996,
          1995,
          2018,
          2015,
          2014,
          2013,
          2012,
          2011,
          2010,
          2009,
          2008,
          2005,
          2004,
          2003,
          2002,
          2001,
          2000,
          1998,
          1996,
          1995,
          2018,
          2016,
          2015,
          2013,
          2012,
          2010,
          2009,
          2008,
          2007,
          2002,
          1995
         ],
         "xaxis": "x",
         "y": [
          1947885,
          2422456,
          2099768,
          5437852,
          7286871,
          5340713,
          4454661,
          3427384,
          2916129,
          7863255,
          2179714,
          5440264,
          3642859,
          4791875,
          6829728,
          3940597,
          2662182,
          1512339,
          1610562,
          201609,
          100000,
          326921,
          284,
          4881,
          14,
          4,
          264.53,
          1204,
          190,
          28035,
          114,
          3822,
          24936,
          21329,
          25,
          1170,
          8559,
          4768,
          4670,
          1990,
          23304,
          102,
          470,
          501,
          12,
          2062,
          240,
          98,
          3422,
          798,
          100,
          94,
          162,
          14277,
          1178,
          3635,
          1439,
          38152,
          511,
          4997,
          21411,
          145161,
          196644,
          115,
          2051,
          284,
          2460,
          45600,
          287706,
          89870,
          30,
          5509,
          278,
          295,
          50,
          153,
          90,
          219,
          344,
          6,
          148,
          52,
          530,
          0,
          12,
          23,
          86,
          50,
          180,
          100,
          9,
          2,
          5262,
          6162,
          1761,
          58000,
          69950,
          431617,
          413750,
          1200,
          1500,
          14134,
          3085,
          3793,
          337,
          100,
          2240,
          34,
          33,
          118,
          501,
          288,
          254,
          803,
          1065,
          239,
          72,
          11,
          51,
          50,
          50,
          33345,
          31,
          163.032584010314,
          160,
          200,
          261,
          19282,
          5000,
          34320,
          203199,
          355187,
          238,
          1,
          87,
          153,
          5525,
          4,
          33,
          56,
          1838,
          23165,
          27940,
          37097,
          1000,
          29265,
          79017,
          7852,
          153,
          3364,
          2,
          18,
          770,
          245,
          25,
          400,
          8018,
          660,
          50,
          7487,
          8840,
          2162,
          74387,
          84857,
          269364,
          98837,
          46339,
          397,
          1073.94,
          179.65,
          16,
          10000,
          62,
          71,
          25,
          4,
          8,
          8,
          97,
          51000,
          1619,
          51738,
          85,
          2000000,
          90,
          23004,
          9000,
          21052,
          3025,
          1000,
          343,
          342375,
          25,
          9049.97399378212,
          16478.8323421411,
          25100.490750370496,
          36041,
          36174,
          6237,
          207,
          5333,
          412,
          16905,
          16278,
          11310,
          1250,
          7517,
          1894,
          18564,
          47369,
          35628,
          4225,
          382,
          58,
          18,
          101,
          24,
          1724,
          72,
          25,
          285,
          120,
          280,
          3334,
          1040,
          178,
          19,
          28000,
          101,
          23,
          1661,
          300,
          21500,
          488,
          8500,
          1000,
          31,
          213,
          35,
          20,
          119,
          69,
          330,
          134,
          128,
          240,
          458,
          261,
          454,
          127,
          495,
          339,
          265,
          191,
          28,
          41,
          6,
          68,
          40,
          40,
          2989,
          4889.6,
          2691,
          2338.66,
          374,
          2018,
          3245,
          5008,
          2130,
          1405,
          101371,
          606313,
          805875,
          354275,
          626687,
          548499,
          402886,
          329937,
          304401,
          354640,
          253210,
          351425,
          277550,
          320660,
          325105,
          276929,
          50,
          2092,
          150,
          720,
          127,
          30211,
          17,
          1597,
          100,
          282,
          56,
          308,
          256.710426879193,
          23123.15,
          629,
          480,
          513,
          701,
          172,
          621,
          205,
          2093,
          26220,
          15061,
          39,
          40117,
          69750,
          1169,
          2933,
          28800,
          1943,
          4612.073147789521,
          7760,
          5000,
          1000,
          180,
          132,
          1630,
          50,
          470,
          3,
          60,
          109,
          11,
          57552,
          21609.652891916598,
          79390,
          1310812,
          2615030,
          683283,
          39054266,
          159000,
          674093,
          113713,
          576,
          966238,
          447249,
          500000,
          351,
          3809437,
          74,
          5635,
          6,
          20335,
          350,
          148,
          335,
          20,
          27,
          700,
          25,
          24,
          1708,
          327,
          29001,
          3285,
          4060,
          18,
          88,
          12675,
          4,
          20,
          4,
          6,
          212.77,
          27,
          93,
          109,
          2,
          3555,
          2,
          3,
          16,
          33,
          8,
          4,
          1,
          204.54,
          172,
          620,
          202231.08,
          160488.53,
          94079,
          77201.91,
          25973.35,
          8864.89,
          8198.18,
          8112.65,
          13962.51,
          460,
          1863,
          761,
          751588,
          3836048,
          2813989,
          3516190,
          3677055,
          4321406,
          4827748,
          45.34131036105829,
          34157.75,
          189171,
          70.1,
          483.84384551133104,
          1221.9196965755198,
          51773,
          4350,
          3073,
          3235,
          115153,
          114173,
          50875,
          39969,
          1198,
          6806,
          5250,
          29956,
          3000,
          201995,
          206140,
          2794348,
          5987,
          17066,
          5799437,
          3449485,
          3253079,
          6125353,
          5243236,
          6364302,
          4448571,
          4228834,
          7111617,
          6079864,
          5807140,
          5029846,
          3049427,
          3012000,
          3127643,
          3003000,
          2026970,
          1697905,
          1320062,
          1338750,
          776750,
          930812,
          855378,
          1162007,
          479125,
          979250,
          355500,
          275010,
          277935,
          44182,
          138785,
          101807,
          9634,
          6200,
          8856,
          30751,
          1186,
          2506,
          9029,
          115,
          135,
          2,
          2,
          361,
          972,
          1266.55353535354,
          463,
          498,
          66,
          238,
          14,
          258,
          7169,
          5372,
          11495,
          1088,
          70,
          11055,
          511,
          195,
          306,
          265,
          9,
          231511,
          22989,
          10397,
          21065,
          55,
          180,
          10,
          638,
          297,
          189,
          66,
          595,
          2105,
          668,
          157,
          248,
          450,
          1550,
          29883,
          101,
          0,
          13312,
          2,
          1,
          14000,
          5,
          35,
          310,
          40,
          8,
          257,
          221,
          14942
         ],
         "yaxis": "y"
        },
        {
         "hovertemplate": "continent=Americas<br>Year=%{x}<br>Quantity=%{y}<extra></extra>",
         "legendgroup": "Americas",
         "line": {
          "color": "#00cc96",
          "dash": "solid"
         },
         "mode": "lines",
         "name": "Americas",
         "showlegend": true,
         "type": "scattergl",
         "x": [
          2008,
          2007,
          2006,
          2003,
          2002,
          2018,
          2017,
          2016,
          2015,
          2014,
          2013,
          2012,
          2011,
          2010,
          2009,
          2007,
          2006,
          2005,
          2000,
          1999,
          2018,
          2017,
          2016,
          2015,
          2014,
          2013,
          2012,
          2011,
          2010,
          2009,
          2008,
          2007,
          2006,
          2005,
          2004,
          2003,
          2002,
          2001,
          2000,
          1999,
          1998,
          1997,
          1996,
          1995,
          1994,
          1993,
          2018,
          2017,
          2016,
          2015,
          2014,
          2013,
          2012,
          2011,
          2010,
          2009,
          2015,
          2014,
          2013,
          2012,
          2011,
          2010,
          2009,
          2008,
          2007,
          2006,
          2005,
          2003,
          2002,
          2001,
          2000,
          1999,
          1998,
          1997,
          2018,
          2017,
          2016,
          2015,
          2014,
          2013,
          2012,
          2011,
          2008,
          2006,
          2005,
          2002,
          1998,
          2016,
          2015,
          2014,
          2004,
          2002,
          1995,
          2018,
          2016,
          2015,
          2014,
          2013,
          2012,
          2011,
          2010,
          2018,
          2017,
          2016,
          2015,
          2014,
          2013,
          2008,
          2006,
          2004,
          2001,
          2000,
          1999,
          1996,
          1994,
          2018,
          2017,
          2016,
          2015,
          2014,
          2013,
          2012,
          2011,
          2010,
          2009,
          2008,
          2007,
          2006,
          2005,
          2004,
          2003,
          2002,
          2001,
          2000,
          1999,
          1998,
          1997,
          1996,
          1995,
          1994,
          1993,
          1992,
          2019,
          2018,
          2017,
          2016,
          2015,
          2014,
          2013,
          2012,
          2011,
          2010,
          2009,
          2008,
          2007,
          2006,
          2005,
          2004,
          2003,
          2002,
          2001,
          2000,
          1999,
          1998,
          1997,
          1996,
          1995,
          1994,
          1993,
          1992,
          1991,
          1990,
          1989,
          2019,
          2018,
          2017,
          2016,
          2015,
          2014,
          2013,
          2012,
          2010,
          2009,
          2008,
          2007,
          2006,
          2004,
          2003,
          2002,
          2000,
          1994,
          1993,
          1992,
          1991,
          1990,
          2018,
          2017,
          2016,
          2015,
          2014,
          2013,
          2012,
          2011,
          2010,
          2009,
          2008,
          2007,
          2006,
          2005,
          2004,
          2003,
          2002,
          2001,
          2000,
          1999,
          1998,
          1997,
          1996,
          1995,
          1994,
          1993,
          1992,
          2018,
          2015,
          2013,
          2012,
          2011,
          2010,
          2009,
          2008,
          2007,
          2006,
          2005,
          2004,
          2003,
          2002,
          2001,
          2000,
          1999,
          1998,
          1997,
          1996,
          1995,
          1994,
          2000,
          1997,
          2017,
          2016,
          2015,
          2014,
          2013,
          2012,
          2011,
          2010,
          2008,
          2003,
          2018,
          2017,
          2016,
          2015,
          2013,
          2009,
          2008,
          2004,
          2002,
          2000,
          1999,
          1998,
          1996,
          1995,
          1994,
          2019,
          2018,
          2017,
          2016,
          2015,
          2014,
          2013,
          2012,
          2011,
          2010,
          2009,
          2008,
          2007,
          2006,
          2005,
          2004,
          2003,
          2002,
          2001,
          2000,
          1999,
          1998,
          1997,
          1996,
          1995,
          1994,
          2010,
          2000,
          2008,
          2005,
          2017,
          2016,
          2015,
          2014,
          2013,
          2012,
          2011,
          2010,
          2009,
          2007,
          2006,
          2005,
          2004,
          2003,
          1999,
          1998,
          1997,
          1995,
          1994,
          1993,
          2015,
          2013,
          2006,
          2004,
          2002,
          2000,
          2017,
          2016,
          2015,
          2014,
          2012,
          2011,
          2010,
          2009,
          2007,
          2006,
          2005,
          2004,
          2003,
          2002,
          2001,
          2000,
          1999,
          1998,
          1997,
          1996,
          2017,
          2013,
          2012,
          2008,
          2003,
          2002,
          1995,
          1994,
          2018,
          2017,
          2016,
          2015,
          2014,
          2013,
          2012,
          2011,
          2010,
          2009,
          2008,
          2007,
          2006,
          2005,
          2004,
          2003,
          2002,
          2001,
          2000,
          1999,
          1998,
          1997,
          1994,
          1992,
          1991,
          1990,
          2014,
          2008,
          2007,
          2018,
          2017,
          2016,
          2015,
          2014,
          2013,
          2012,
          2011,
          2010,
          2009,
          2008,
          2007,
          2005,
          2004,
          2003,
          2002,
          2001,
          2000,
          1998,
          1997,
          1996,
          1995,
          1994,
          2015,
          2013,
          2012,
          2011,
          2010,
          2009,
          2008,
          2007,
          2006,
          2005,
          2004,
          2003,
          2002,
          2001,
          2000,
          1998,
          1997,
          1996,
          1995,
          2018,
          2000,
          1999,
          1998,
          1991,
          1989,
          2018,
          2017,
          2016,
          2015,
          2014,
          2013,
          2012,
          2011,
          2010,
          2009,
          2008,
          2007,
          2004,
          2003,
          2002,
          2000,
          1999,
          1997,
          1996,
          1995,
          1994,
          2016,
          2015,
          2014,
          2013,
          2012,
          2011,
          2010,
          2006,
          2001,
          2000,
          1995,
          2017,
          2016,
          2015,
          2014,
          2013,
          2009,
          2008,
          2003,
          1998,
          1995,
          1994,
          2010,
          2005,
          2004,
          2000,
          2015,
          2014,
          2011,
          2009,
          2004,
          2000,
          1992,
          2012,
          2011,
          1999,
          2018,
          2017,
          2016,
          2015,
          2012,
          2011,
          2010,
          2009,
          2007,
          2005,
          2002,
          2001,
          1996,
          1995,
          1994,
          2018,
          2017,
          2016,
          2015,
          2014,
          2013,
          2012,
          2011,
          2010,
          2009,
          2008,
          2007,
          2006,
          2005,
          2004,
          2003,
          2002,
          2001,
          2000,
          1999,
          1998,
          1997,
          1996,
          1995,
          1994,
          1993,
          1992,
          1991,
          2012,
          2011,
          2010,
          2009,
          2008,
          2007
         ],
         "xaxis": "x",
         "y": [
          1,
          656,
          125,
          18,
          87,
          857.35,
          296.33,
          297,
          407,
          424,
          290,
          258,
          57,
          400,
          516,
          92,
          1269,
          1404,
          489,
          415,
          451588.8,
          344962,
          291556,
          298884.9,
          237498,
          253067,
          483976,
          450990,
          395830,
          379566,
          347398,
          258492,
          234130,
          245772,
          245638,
          223508,
          185237,
          193597,
          150000,
          144000,
          226406,
          300687,
          792472,
          2262691,
          3559437,
          1943000,
          960.12,
          208,
          13.9230570617093,
          25,
          17,
          5,
          4,
          26,
          35,
          351,
          2523,
          719,
          264,
          260,
          40,
          33,
          1338,
          2479,
          213,
          166,
          435,
          303,
          83,
          1677,
          515,
          175,
          144,
          429,
          1408,
          2396,
          3239,
          4269,
          1394,
          3240,
          919,
          2176,
          308,
          200,
          15,
          28,
          25,
          4144,
          19,
          9,
          95,
          6,
          1875,
          116.51,
          100,
          69,
          17,
          6,
          0,
          23,
          45,
          50094,
          25885,
          22689,
          98184,
          350322,
          20010,
          24649,
          13601,
          1,
          72140,
          40934,
          94093,
          113,
          6000,
          62468828,
          61004470,
          57506720,
          11020704,
          38042064,
          17003495,
          54886063,
          32516093,
          47412545,
          73989004,
          73114732,
          91191859,
          65444983,
          54447607,
          40261198,
          59338037,
          56307619,
          33930954,
          70667180,
          75330471,
          11947726,
          14857942,
          62504,
          5255683,
          1037875,
          2198000,
          1821125,
          91029000,
          0,
          0,
          59900000,
          68303000,
          65027201,
          70031687,
          69968785,
          73685648,
          50661796,
          54879693,
          68760637,
          52160895,
          78133607,
          56145546,
          89916167,
          58153000,
          44526897,
          59912,
          50492,
          46865062,
          48236000,
          38931000,
          38340000,
          41039000,
          29097000,
          38759000,
          48548000,
          30227000,
          23340000,
          20290000,
          13724.6,
          12491.98,
          8856.25,
          4590.73,
          7079.65,
          52025.77,
          551,
          95,
          15,
          21,
          34,
          4,
          34,
          6,
          3,
          353,
          9,
          124710,
          222000,
          340000,
          202573,
          0,
          669877,
          488334.5,
          4643400,
          5890824,
          6688360,
          2316150,
          1960383,
          8681443,
          6818548,
          5686607,
          5951129,
          12794763,
          9498908,
          7460557,
          4483135,
          3195888,
          7121796,
          666225,
          2852720,
          942879,
          90000,
          207269,
          157773,
          3485312,
          1594812,
          370,
          74105,
          9998,
          22,
          1,
          57252,
          68891,
          6818,
          270,
          29324,
          421471,
          1,
          648659,
          1834167,
          794002,
          837846,
          655863,
          207900,
          621979,
          2989765,
          4058539,
          46144672,
          4494577,
          3081374,
          350,
          3,
          3307.0329811782,
          3916,
          32398,
          7964,
          4949,
          25257,
          1538,
          1752,
          47921,
          45,
          60000,
          60000,
          30000,
          510,
          25512,
          2670,
          333,
          1,
          22054,
          29240,
          6312,
          261452,
          376182,
          734,
          450000,
          1007294.6,
          1010303,
          944661.3,
          874047.7,
          870226.59,
          876388.21,
          809914.5,
          892595.88,
          785445.38,
          876249.66,
          819458,
          682132,
          866621,
          688371,
          611975,
          715091,
          664298,
          329189,
          225448,
          396317,
          336725,
          313663,
          139976,
          344741,
          254565,
          110436,
          340,
          80,
          938,
          900,
          2643265,
          1635661,
          2182714,
          902769,
          878449,
          645097,
          540434,
          635370,
          453154,
          8076,
          88200,
          154350,
          152550,
          20108,
          38026,
          62965,
          1,
          15750,
          14312,
          1312,
          19.76,
          100,
          20,
          20,
          4,
          2,
          6183,
          14273,
          3828,
          12007,
          3550,
          3,
          133,
          716,
          691491,
          1739507,
          1048405,
          1076761,
          1751,
          546,
          500094,
          414,
          152003,
          570,
          75237,
          156,
          3,
          15471,
          14568,
          2,
          4,
          12072,
          12500,
          12375,
          38543168,
          39970901,
          30207637,
          23521380,
          28659415,
          22952922,
          13589858,
          18922073,
          15660710,
          4058485,
          6187790,
          1059869,
          1325973,
          7703894,
          4704019,
          4313197,
          2687346,
          2099750,
          10775053,
          4677862,
          4707251,
          1785562,
          18527,
          219640,
          1406130,
          3494913,
          4,
          146,
          4,
          69,
          8,
          485.49,
          28522,
          809,
          230,
          24,
          10,
          379,
          1078,
          506,
          2151,
          4650,
          23190,
          1759,
          2263,
          1426,
          920,
          10218,
          3312,
          13562,
          5312,
          24765,
          1582,
          5050,
          425,
          328645,
          193965,
          225164,
          500006,
          443912,
          335400,
          323268,
          314420,
          66096,
          28538,
          1197,
          3903,
          110000,
          215807,
          279500,
          950058,
          138,
          479,
          24742,
          18773,
          150000,
          496,
          240345,
          69713.2,
          1373683,
          271262,
          448510,
          624276,
          24690,
          75074,
          224762,
          100050,
          232264,
          936931,
          60590,
          150000,
          280700,
          773208,
          1328875,
          151612,
          326500,
          876062,
          3557187,
          12.71,
          12.35,
          0,
          45,
          410,
          135,
          169,
          25,
          55,
          40,
          20,
          54.57,
          13,
          112,
          20,
          4,
          120,
          4,
          374,
          1,
          21,
          74,
          47,
          560,
          1210,
          1000,
          37,
          267,
          25024,
          7,
          4,
          46,
          949,
          100,
          1357,
          0,
          500,
          1000,
          240,
          550,
          1020,
          55268,
          2010,
          1020,
          1620,
          1200,
          500,
          10425,
          134558,
          222097,
          220078,
          415272275,
          470258262,
          421198094,
          478999014,
          437366059,
          449256286,
          409593173,
          463849281,
          402060942,
          442374485,
          355750933,
          355134541,
          473645333,
          539686530,
          414138745,
          339543170,
          311686967,
          379691413,
          370325642,
          467210100,
          423844110,
          342223496,
          453078955,
          283429984,
          312441941,
          411937261,
          378979905,
          392010206,
          3093779,
          3,
          1,
          25237,
          1,
          15
         ],
         "yaxis": "y"
        },
        {
         "hovertemplate": "continent=Asia<br>Year=%{x}<br>Quantity=%{y}<extra></extra>",
         "legendgroup": "Asia",
         "line": {
          "color": "#ab63fa",
          "dash": "solid"
         },
         "mode": "lines",
         "name": "Asia",
         "showlegend": true,
         "type": "scattergl",
         "x": [
          2019,
          2018,
          2017,
          2016,
          2015,
          2014,
          2013,
          2012,
          2011,
          2010,
          2009,
          2008,
          2007,
          2006,
          2005,
          2004,
          2003,
          2002,
          2001,
          2000,
          1999,
          2019,
          2017,
          2016,
          2015,
          2013,
          2012,
          2011,
          2008,
          2006,
          2005,
          2004,
          2002,
          2001,
          2000,
          1999,
          1998,
          1997,
          1996,
          2018,
          2017,
          2016,
          2015,
          2014,
          2013,
          2012,
          2011,
          2010,
          2009,
          2008,
          2007,
          2006,
          2005,
          2004,
          2003,
          2002,
          2001,
          2000,
          2015,
          2011,
          2010,
          2009,
          2001,
          1997,
          2009,
          2008,
          2006,
          2005,
          1999,
          2012,
          2009,
          2004,
          2003,
          2002,
          2001,
          1998,
          1997,
          1994,
          1993,
          2008,
          2018,
          2017,
          2016,
          2015,
          2014,
          2013,
          2012,
          2011,
          2010,
          2009,
          2008,
          2007,
          2006,
          2005,
          2004,
          2003,
          2002,
          2001,
          2000,
          1999,
          1998,
          1997,
          1996,
          1995,
          1994,
          1993,
          1992,
          2019,
          2018,
          2017,
          2016,
          2015,
          2014,
          2013,
          2012,
          2010,
          2009,
          2008,
          2006,
          2003,
          2002,
          1998,
          1997,
          1996,
          1993,
          2007,
          2002,
          1996,
          1993,
          1992,
          1991,
          2018,
          2017,
          2016,
          2015,
          2013,
          2012,
          2010,
          2009,
          2007,
          2002,
          1989,
          2019,
          2018,
          2017,
          2016,
          2015,
          2013,
          2012,
          2009,
          2008,
          2007,
          2006,
          2005,
          2004,
          2002,
          2001,
          1999,
          1997,
          1996,
          2018,
          2017,
          2016,
          2015,
          2014,
          2013,
          2012,
          2011,
          2010,
          2009,
          2008,
          2007,
          2006,
          2005,
          2004,
          2003,
          2002,
          2001,
          2000,
          1999,
          1998,
          1997,
          1996,
          1995,
          1994,
          1993,
          1992,
          1991,
          2018,
          2017,
          2016,
          2015,
          2014,
          2013,
          2012,
          2011,
          2010,
          2009,
          2008,
          2007,
          2006,
          2005,
          2004,
          2003,
          2002,
          2001,
          2000,
          1999,
          1998,
          1997,
          1995,
          1993,
          1992,
          1991,
          1990,
          1989,
          2017,
          2016,
          2014,
          2013,
          2011,
          2010,
          2006,
          2005,
          2004,
          2003,
          2002,
          2001,
          2000,
          1999,
          1998,
          1997,
          2018,
          2017,
          2016,
          2015,
          2014,
          2013,
          2012,
          2011,
          2010,
          2009,
          2008,
          2007,
          2006,
          2005,
          2004,
          2003,
          2002,
          2001,
          2000,
          1999,
          1998,
          1997,
          1996,
          1995,
          2019,
          2018,
          2017,
          2016,
          2015,
          2014,
          2013,
          2012,
          2011,
          2010,
          2009,
          2008,
          2007,
          2006,
          2005,
          2004,
          2003,
          2002,
          2001,
          2000,
          1999,
          1998,
          1997,
          1996,
          1995,
          1994,
          1993,
          1992,
          1991,
          1990,
          1989,
          1988,
          2009,
          2005,
          1995,
          1994,
          2018,
          2017,
          2016,
          2015,
          2014,
          2013,
          2012,
          2011,
          2010,
          2009,
          2008,
          2007,
          2006,
          2005,
          2004,
          2003,
          2002,
          2001,
          2000,
          2018,
          2017,
          2016,
          2015,
          2014,
          2013,
          2011,
          2010,
          2007,
          2006,
          2003,
          2002,
          2001,
          2000,
          2017,
          2016,
          2001,
          2016,
          2015,
          2014,
          2012,
          2018,
          2017,
          2016,
          2015,
          2014,
          2013,
          2012,
          2011,
          2010,
          2009,
          2008,
          2007,
          2006,
          2005,
          2004,
          2003,
          2002,
          2001,
          2000,
          1999,
          1998,
          1997,
          2018,
          2017,
          2016,
          2015,
          2014,
          2013,
          2012,
          2011,
          2010,
          2009,
          2008,
          2007,
          2006,
          2005,
          2004,
          2003,
          2002,
          2001,
          2000,
          1999,
          1998,
          1997,
          1996,
          1995,
          1994,
          1993,
          1992,
          1991,
          1990,
          1989,
          2018,
          2016,
          2014,
          2007,
          2001,
          1998,
          1997,
          1996,
          2018,
          2014,
          2013,
          2012,
          2011,
          2017,
          2015,
          2014,
          2013,
          2012,
          2011,
          2010,
          2009,
          2003,
          1999,
          1994,
          2018,
          2017,
          2016,
          2015,
          2014,
          2013,
          2012,
          2011,
          2010,
          2009,
          2008,
          2006,
          2004,
          2002,
          2018,
          2017,
          2016,
          2015,
          2014,
          2013,
          2012,
          2011,
          2010,
          2009,
          2008,
          2007,
          2006,
          2005,
          2004,
          2003,
          2002,
          2001,
          2000,
          1999,
          1998,
          2018,
          2017,
          2016,
          2013,
          2011,
          2008,
          2007,
          2005,
          2018,
          2017,
          2016,
          2015,
          2014,
          2013,
          2012,
          2011,
          2010,
          2009,
          2008,
          2007,
          2006,
          2005,
          2004,
          2003,
          2002,
          2001,
          2000,
          1999,
          1998,
          1997,
          1996,
          2018,
          2017,
          2016,
          2015,
          2014,
          2013,
          2012,
          2010,
          2008,
          2007,
          2006,
          2005,
          2004,
          2003,
          2002,
          2000,
          2018,
          2017,
          2016,
          2015,
          2014,
          2013,
          2012,
          2011,
          2010,
          2009,
          2008,
          2007,
          2006,
          2005,
          2004,
          2003,
          2002,
          2001,
          2000,
          1999,
          1998,
          1997,
          1996,
          1995,
          1994,
          1993,
          1992,
          1991,
          1990,
          1989,
          1988,
          2016,
          2014,
          2011,
          2010,
          2001,
          1999,
          1998,
          1996,
          1995,
          1994,
          1993,
          1992,
          1991,
          2018,
          2017,
          2016,
          2015,
          2014,
          2013,
          2012,
          2011,
          2010,
          2009,
          2008,
          2007,
          2006,
          2005,
          2004,
          2003,
          2002,
          2001,
          2000,
          1999,
          1998,
          1997,
          1996,
          1995,
          1994,
          1993,
          1992,
          1991,
          1990,
          1989,
          2017,
          2016,
          2015,
          2014,
          2013,
          2012,
          2011,
          2010,
          2009,
          2008,
          2006,
          2005,
          2004,
          2003,
          2002,
          2001,
          2000,
          1999,
          1994,
          1993,
          1992,
          1991,
          2010,
          2008,
          2006,
          2018,
          2017,
          2016,
          2015,
          2014,
          2013,
          2012,
          2011,
          2010,
          2009,
          2008,
          2007,
          2006,
          2005,
          2004,
          2003,
          2002,
          2001,
          2000,
          1999,
          1998,
          1997,
          1996,
          1995,
          1994,
          1993,
          1992,
          1991,
          1990,
          2005,
          2004,
          2018,
          2017,
          2016,
          2015,
          2014,
          2013,
          2012,
          2011,
          2010,
          2009,
          2008,
          2007,
          2006,
          2005,
          2004,
          2003,
          2002,
          2001,
          2000,
          1999,
          1998,
          1997,
          1996,
          1995,
          1994,
          1993,
          1992,
          1991,
          1990,
          1989,
          2000,
          2018,
          2017,
          2016,
          2015,
          2014,
          2013,
          2012,
          2008,
          2007,
          2005,
          2018,
          2017,
          2017,
          2015,
          2005,
          2003,
          2015,
          2010,
          2009,
          2008,
          2007,
          2006,
          2005,
          2004
         ],
         "xaxis": "x",
         "y": [
          2656590.8,
          1401406.7,
          2049364.9,
          1473544,
          1142870,
          1705338,
          1695254,
          1510996,
          1567436,
          750115,
          1196925,
          1696609,
          1268720,
          1150961,
          559686,
          562884,
          444611,
          475634,
          506153,
          251261,
          957,
          7.3,
          3.15,
          2410.8,
          501.3,
          17000,
          498,
          1500,
          24036,
          1000,
          666,
          200,
          4954,
          6177,
          250,
          648,
          2270,
          6687,
          3312,
          3119.53,
          1159.66,
          668.44,
          1324.68,
          3505,
          6044,
          21296,
          15582,
          45689,
          26233,
          184,
          2270,
          312,
          3361,
          325,
          292,
          3,
          2,
          270,
          3,
          190,
          203,
          63,
          12,
          1080,
          5,
          36,
          30,
          9,
          117,
          86,
          95,
          5,
          250,
          1687,
          4,
          1124,
          132,
          222,
          1,
          81,
          32551606.9132147,
          27126443,
          29456813,
          31290223,
          38300959,
          48943048,
          33696004,
          38947834,
          29774175,
          21043742,
          54532146,
          39477178,
          41110885,
          42659499,
          19848650,
          15141317,
          9061063,
          21132092,
          26879010,
          21056272,
          26243548,
          36778262,
          33433397,
          31630296,
          26321488,
          34057998,
          30879022,
          1350,
          56297,
          23204,
          20800,
          23970,
          7850,
          12234,
          1560,
          19,
          765,
          20815,
          838,
          1404,
          54000,
          1062,
          306632,
          50394,
          50000,
          23230,
          443,
          10,
          199,
          347,
          179,
          212,
          831,
          1147,
          53,
          10,
          58,
          161836,
          104,
          3,
          2,
          1562,
          6038.1,
          2619.9,
          54.2,
          2436,
          67,
          9,
          24596,
          16000,
          25027,
          63,
          2444,
          3297,
          1,
          720,
          9,
          20929,
          1000,
          13187,
          34445343,
          24415210,
          25243612,
          14709659,
          31812574,
          13828466,
          26618459,
          20210765,
          10269848,
          8374827,
          8555499,
          6624465,
          7404600,
          4488232,
          2884546,
          2347200,
          878598,
          2957500,
          1561486,
          1422492,
          2200495,
          1120601,
          2721562,
          2296000,
          706000,
          219675,
          1243398,
          650000,
          239377416,
          226613178,
          61015954,
          53371875,
          109409560,
          30765667,
          23942574,
          19100109,
          24830620,
          27230040,
          22967978,
          19655438,
          26819215,
          30291717,
          31082783,
          23896422,
          23961680,
          25617014,
          12625020,
          8627973,
          5203622,
          797319,
          50117,
          5261,
          120783,
          476006,
          609,
          5875,
          12067010,
          7308000,
          6227880,
          6675300,
          9000000,
          9220000,
          691939,
          6298864,
          2778382,
          342929,
          160000,
          855958,
          411592,
          314937,
          167898,
          105000,
          76789.799093245,
          74662,
          63416,
          56951,
          15033,
          23280,
          848516,
          891518,
          1030679,
          1241239,
          1173391,
          1153296,
          878552,
          1006828,
          1023999,
          993416,
          1071302,
          617882,
          882610,
          0,
          0,
          0,
          0,
          0,
          53548240,
          58617085,
          54835927,
          63190976,
          40104609,
          31759560,
          40976217,
          51059119,
          52169315,
          44529689,
          50624712,
          28800023,
          68634612,
          62806882,
          55590010,
          56633642,
          63599855,
          49137942,
          49065456,
          49397072,
          46902186,
          43324542,
          49338681,
          49648732,
          40995431,
          36142398,
          37648492,
          46173901,
          50516133,
          47599037,
          44510044,
          40972512,
          402,
          3153,
          15562,
          14562,
          9269809.46,
          8343137.5,
          7786206,
          4575802,
          6742397,
          4890867,
          7830800,
          7395623,
          5407280,
          7285662,
          6297663,
          6608464,
          6557120,
          5285835,
          4404245,
          2517735,
          2995600,
          2367100,
          2120900,
          1872.15,
          1626.2,
          244,
          720,
          3739,
          1320,
          6425,
          27199,
          13131,
          435,
          1921,
          2155,
          1611,
          114,
          50,
          7840,
          35,
          1890,
          365,
          878,
          1422,
          863,
          430,
          192,
          13185,
          22790,
          25470,
          21520,
          26012,
          26906,
          25457,
          12607,
          24872,
          12082,
          31000,
          25000,
          13144,
          25169,
          14279,
          25621,
          12124,
          99737,
          57410,
          345489234,
          311519379,
          213841068,
          222133634,
          298524123,
          311608270,
          339009441,
          327083812,
          319440697,
          290014888,
          470884678,
          438874140,
          454237898,
          295802616,
          300508446,
          336027,
          164063102,
          81867554,
          100708000,
          59061210,
          57178608,
          37147912,
          22198464,
          39703733,
          11352976,
          2342011,
          1827226,
          1170741,
          101085,
          1256826,
          40.8,
          425,
          2200,
          140,
          320,
          699,
          97,
          0,
          480,
          14282.6,
          2452,
          21275,
          22696,
          44,
          1000,
          592,
          670,
          776,
          22000,
          5,
          8808,
          203,
          0,
          0,
          1978,
          8788,
          1500,
          8514,
          2593,
          5703,
          875,
          327,
          26,
          3275,
          9241,
          200,
          5140,
          8719,
          26030,
          18078,
          13149,
          8148,
          11439,
          12008,
          1639,
          4308,
          897,
          1113,
          2026,
          1217,
          1121,
          1334,
          524,
          3180,
          520,
          2000,
          1750,
          40,
          10,
          75,
          15000,
          83,
          522,
          1003,
          581,
          3546,
          134824,
          605657.37,
          0,
          635451,
          277265,
          524105,
          222968,
          149506,
          307012,
          737756,
          12700,
          142675,
          78353,
          120305,
          107056,
          1335308,
          4988971,
          7235676,
          8990898,
          6384871,
          5160888,
          6867018,
          8000540,
          10986693,
          2394.38223792037,
          1880.81,
          7158,
          73368,
          105773,
          84767,
          43991.36,
          10672,
          10100,
          59482,
          319321,
          12305,
          7662,
          2535,
          421,
          2875,
          4737064.98,
          7039669.81,
          5883587,
          4573101,
          5014929,
          4712489,
          3567677,
          4214779,
          4102788,
          4086707,
          1611984,
          5950417,
          5806376,
          2724298,
          3560390,
          3952008,
          3431471,
          3299976,
          2895470,
          2288890,
          2025263,
          1882171,
          1919582,
          2069769,
          2615663,
          2900104,
          2937515,
          3418636,
          3559750,
          2835338,
          1978812,
          4000,
          19000,
          25000,
          5000,
          5000,
          258876,
          1483136,
          115351,
          137863,
          427562,
          105355,
          415378,
          399299,
          0,
          83955130.68085,
          86457001.44,
          81918756.59,
          81071983.94,
          77724907.18,
          83966226,
          84629568.59,
          93444599.21,
          80575145,
          93916972,
          89693140,
          77834023,
          57790476,
          63914377,
          77355837,
          27336436,
          29222099,
          32784818,
          26019163,
          27925312,
          29384115,
          38953546,
          53099412,
          54684344,
          63900744,
          95381896,
          80289384,
          92444464,
          80828960,
          150809,
          223095,
          150010,
          107469,
          1955991,
          2100001,
          6605214,
          5240000,
          2127831,
          216515,
          240000,
          71,
          202,
          30000,
          130027,
          45000,
          265200,
          278667,
          163268,
          210601,
          341343,
          24937,
          25159,
          50050,
          1800,
          290015.417074,
          885.3788014336749,
          208.475829815862,
          15666910.0302874,
          17538791,
          16766651,
          21206197,
          19386776,
          21074162,
          19161514,
          20068274,
          20127826,
          19331197,
          18854548,
          20192274,
          19306371,
          15723220,
          12896810,
          13840064,
          10548503,
          10800584,
          9961386,
          11056663,
          8313702,
          3167374,
          3244062,
          3848812,
          3503893,
          1521699,
          846,
          32,
          97610159,
          103370702,
          86985229,
          84888043,
          91118757,
          82187826,
          81667042,
          77658616,
          68217442,
          58610394,
          59263920,
          67650209,
          55169462,
          66442932,
          69220979,
          60417848,
          37746262,
          37470093,
          28216710,
          27595236,
          19299968,
          17958564,
          13879548,
          15807483,
          9313608,
          7625502,
          6381574,
          6612897,
          4650603,
          3606952,
          1105,
          29534.38,
          24832,
          22516.69,
          2333.27,
          853.3,
          5318.26,
          20254,
          2037,
          14087,
          209341,
          3230,
          5410,
          1749.97065085186,
          140,
          54909,
          258,
          206,
          693,
          5300,
          912,
          7225,
          86263,
          5500,
          70200
         ],
         "yaxis": "y"
        },
        {
         "hovertemplate": "continent=Oceania<br>Year=%{x}<br>Quantity=%{y}<extra></extra>",
         "legendgroup": "Oceania",
         "line": {
          "color": "#FFA15A",
          "dash": "solid"
         },
         "mode": "lines",
         "name": "Oceania",
         "showlegend": true,
         "type": "scattergl",
         "x": [
          2018,
          2017,
          2016,
          2015,
          2014,
          2013,
          2012,
          2011,
          2010,
          2009,
          2008,
          2007,
          2006,
          2005,
          2004,
          2003,
          2002,
          2001,
          2000,
          1999,
          1998,
          1997,
          1996,
          1995,
          1994,
          1993,
          1992,
          1991,
          1990,
          1989,
          1988,
          2009,
          2007,
          2018,
          2017,
          2015,
          2014,
          2013,
          2007,
          2005,
          2003,
          2015,
          2014,
          2013,
          2012,
          2011,
          2010,
          2009,
          2008,
          2006,
          2005,
          2003,
          2002,
          2013,
          2012,
          2011,
          2009,
          2004,
          2003,
          2013,
          2011,
          2006,
          2005,
          1999,
          2015,
          2014,
          2013,
          2012,
          2011,
          2010,
          2009,
          2008,
          2007,
          2006,
          2005,
          2004,
          2003,
          2002,
          2000,
          1999,
          2018,
          2017,
          2016,
          2015,
          2014,
          2013,
          2012,
          2011,
          2010,
          2009,
          2008,
          2007,
          2006,
          2005,
          2004,
          2003,
          2002,
          2001,
          2000,
          1999,
          1998,
          1997,
          1996,
          1995,
          1994,
          1993,
          1992,
          1991,
          1990,
          1989,
          2018,
          2016,
          2013,
          2011,
          2007,
          2012,
          2003,
          2002,
          2001,
          1998,
          2018,
          2017,
          2016,
          2015,
          2014,
          2013,
          2005,
          2002,
          2001,
          2018,
          2014,
          2012,
          2011,
          2010,
          2009,
          2008,
          2007,
          2006,
          2005,
          2004,
          2003,
          2002,
          2001,
          2000,
          2011,
          2006
         ],
         "xaxis": "x",
         "y": [
          1116565.04841979,
          544303.98,
          665093,
          494399,
          387040,
          468031,
          322075,
          191374,
          253363,
          179608,
          154455,
          210903,
          157702,
          340261,
          116789,
          149944,
          1761528,
          215704,
          89332,
          49311,
          62642,
          45686,
          31654,
          52174,
          33374,
          34750,
          34115,
          32048,
          24396,
          32873,
          466515,
          9,
          26,
          528,
          1254,
          962,
          537,
          28,
          64,
          200,
          300,
          141,
          42,
          121,
          46,
          52,
          60,
          36,
          23,
          10,
          196,
          200,
          70,
          272,
          31,
          51,
          26,
          602,
          1,
          2,
          0,
          1,
          48,
          0,
          784,
          3984,
          3411,
          2513,
          4630,
          1053,
          1869,
          2440,
          3429,
          182,
          1050,
          2400,
          100,
          134900,
          400,
          500,
          2393619,
          1637456,
          1981017,
          2447239,
          1609195,
          1384853,
          1556424,
          1211718.45611875,
          1363923,
          1133089,
          1178998,
          877505,
          680677,
          488837,
          408967,
          320568,
          269071,
          201704,
          217895,
          195037,
          194260,
          209522,
          160225,
          165811,
          159420,
          186373,
          176608,
          103483,
          77589,
          87951,
          4.5,
          8,
          19,
          508,
          227,
          231000,
          2000,
          96880,
          1000,
          150000000,
          80,
          42,
          45,
          268,
          596,
          2,
          3585,
          945,
          17437,
          140.485296751828,
          60000,
          80,
          18,
          448,
          1862,
          345,
          1912,
          330,
          67,
          80,
          23,
          461,
          966,
          7073,
          98,
          10
         ],
         "yaxis": "y"
        }
       ],
       "layout": {
        "legend": {
         "title": {
          "text": "continent"
         },
         "tracegroupgap": 0
        },
        "template": {
         "data": {
          "bar": [
           {
            "error_x": {
             "color": "#2a3f5f"
            },
            "error_y": {
             "color": "#2a3f5f"
            },
            "marker": {
             "line": {
              "color": "#E5ECF6",
              "width": 0.5
             },
             "pattern": {
              "fillmode": "overlay",
              "size": 10,
              "solidity": 0.2
             }
            },
            "type": "bar"
           }
          ],
          "barpolar": [
           {
            "marker": {
             "line": {
              "color": "#E5ECF6",
              "width": 0.5
             },
             "pattern": {
              "fillmode": "overlay",
              "size": 10,
              "solidity": 0.2
             }
            },
            "type": "barpolar"
           }
          ],
          "carpet": [
           {
            "aaxis": {
             "endlinecolor": "#2a3f5f",
             "gridcolor": "white",
             "linecolor": "white",
             "minorgridcolor": "white",
             "startlinecolor": "#2a3f5f"
            },
            "baxis": {
             "endlinecolor": "#2a3f5f",
             "gridcolor": "white",
             "linecolor": "white",
             "minorgridcolor": "white",
             "startlinecolor": "#2a3f5f"
            },
            "type": "carpet"
           }
          ],
          "choropleth": [
           {
            "colorbar": {
             "outlinewidth": 0,
             "ticks": ""
            },
            "type": "choropleth"
           }
          ],
          "contour": [
           {
            "colorbar": {
             "outlinewidth": 0,
             "ticks": ""
            },
            "colorscale": [
             [
              0,
              "#0d0887"
             ],
             [
              0.1111111111111111,
              "#46039f"
             ],
             [
              0.2222222222222222,
              "#7201a8"
             ],
             [
              0.3333333333333333,
              "#9c179e"
             ],
             [
              0.4444444444444444,
              "#bd3786"
             ],
             [
              0.5555555555555556,
              "#d8576b"
             ],
             [
              0.6666666666666666,
              "#ed7953"
             ],
             [
              0.7777777777777778,
              "#fb9f3a"
             ],
             [
              0.8888888888888888,
              "#fdca26"
             ],
             [
              1,
              "#f0f921"
             ]
            ],
            "type": "contour"
           }
          ],
          "contourcarpet": [
           {
            "colorbar": {
             "outlinewidth": 0,
             "ticks": ""
            },
            "type": "contourcarpet"
           }
          ],
          "heatmap": [
           {
            "colorbar": {
             "outlinewidth": 0,
             "ticks": ""
            },
            "colorscale": [
             [
              0,
              "#0d0887"
             ],
             [
              0.1111111111111111,
              "#46039f"
             ],
             [
              0.2222222222222222,
              "#7201a8"
             ],
             [
              0.3333333333333333,
              "#9c179e"
             ],
             [
              0.4444444444444444,
              "#bd3786"
             ],
             [
              0.5555555555555556,
              "#d8576b"
             ],
             [
              0.6666666666666666,
              "#ed7953"
             ],
             [
              0.7777777777777778,
              "#fb9f3a"
             ],
             [
              0.8888888888888888,
              "#fdca26"
             ],
             [
              1,
              "#f0f921"
             ]
            ],
            "type": "heatmap"
           }
          ],
          "heatmapgl": [
           {
            "colorbar": {
             "outlinewidth": 0,
             "ticks": ""
            },
            "colorscale": [
             [
              0,
              "#0d0887"
             ],
             [
              0.1111111111111111,
              "#46039f"
             ],
             [
              0.2222222222222222,
              "#7201a8"
             ],
             [
              0.3333333333333333,
              "#9c179e"
             ],
             [
              0.4444444444444444,
              "#bd3786"
             ],
             [
              0.5555555555555556,
              "#d8576b"
             ],
             [
              0.6666666666666666,
              "#ed7953"
             ],
             [
              0.7777777777777778,
              "#fb9f3a"
             ],
             [
              0.8888888888888888,
              "#fdca26"
             ],
             [
              1,
              "#f0f921"
             ]
            ],
            "type": "heatmapgl"
           }
          ],
          "histogram": [
           {
            "marker": {
             "pattern": {
              "fillmode": "overlay",
              "size": 10,
              "solidity": 0.2
             }
            },
            "type": "histogram"
           }
          ],
          "histogram2d": [
           {
            "colorbar": {
             "outlinewidth": 0,
             "ticks": ""
            },
            "colorscale": [
             [
              0,
              "#0d0887"
             ],
             [
              0.1111111111111111,
              "#46039f"
             ],
             [
              0.2222222222222222,
              "#7201a8"
             ],
             [
              0.3333333333333333,
              "#9c179e"
             ],
             [
              0.4444444444444444,
              "#bd3786"
             ],
             [
              0.5555555555555556,
              "#d8576b"
             ],
             [
              0.6666666666666666,
              "#ed7953"
             ],
             [
              0.7777777777777778,
              "#fb9f3a"
             ],
             [
              0.8888888888888888,
              "#fdca26"
             ],
             [
              1,
              "#f0f921"
             ]
            ],
            "type": "histogram2d"
           }
          ],
          "histogram2dcontour": [
           {
            "colorbar": {
             "outlinewidth": 0,
             "ticks": ""
            },
            "colorscale": [
             [
              0,
              "#0d0887"
             ],
             [
              0.1111111111111111,
              "#46039f"
             ],
             [
              0.2222222222222222,
              "#7201a8"
             ],
             [
              0.3333333333333333,
              "#9c179e"
             ],
             [
              0.4444444444444444,
              "#bd3786"
             ],
             [
              0.5555555555555556,
              "#d8576b"
             ],
             [
              0.6666666666666666,
              "#ed7953"
             ],
             [
              0.7777777777777778,
              "#fb9f3a"
             ],
             [
              0.8888888888888888,
              "#fdca26"
             ],
             [
              1,
              "#f0f921"
             ]
            ],
            "type": "histogram2dcontour"
           }
          ],
          "mesh3d": [
           {
            "colorbar": {
             "outlinewidth": 0,
             "ticks": ""
            },
            "type": "mesh3d"
           }
          ],
          "parcoords": [
           {
            "line": {
             "colorbar": {
              "outlinewidth": 0,
              "ticks": ""
             }
            },
            "type": "parcoords"
           }
          ],
          "pie": [
           {
            "automargin": true,
            "type": "pie"
           }
          ],
          "scatter": [
           {
            "marker": {
             "colorbar": {
              "outlinewidth": 0,
              "ticks": ""
             }
            },
            "type": "scatter"
           }
          ],
          "scatter3d": [
           {
            "line": {
             "colorbar": {
              "outlinewidth": 0,
              "ticks": ""
             }
            },
            "marker": {
             "colorbar": {
              "outlinewidth": 0,
              "ticks": ""
             }
            },
            "type": "scatter3d"
           }
          ],
          "scattercarpet": [
           {
            "marker": {
             "colorbar": {
              "outlinewidth": 0,
              "ticks": ""
             }
            },
            "type": "scattercarpet"
           }
          ],
          "scattergeo": [
           {
            "marker": {
             "colorbar": {
              "outlinewidth": 0,
              "ticks": ""
             }
            },
            "type": "scattergeo"
           }
          ],
          "scattergl": [
           {
            "marker": {
             "colorbar": {
              "outlinewidth": 0,
              "ticks": ""
             }
            },
            "type": "scattergl"
           }
          ],
          "scattermapbox": [
           {
            "marker": {
             "colorbar": {
              "outlinewidth": 0,
              "ticks": ""
             }
            },
            "type": "scattermapbox"
           }
          ],
          "scatterpolar": [
           {
            "marker": {
             "colorbar": {
              "outlinewidth": 0,
              "ticks": ""
             }
            },
            "type": "scatterpolar"
           }
          ],
          "scatterpolargl": [
           {
            "marker": {
             "colorbar": {
              "outlinewidth": 0,
              "ticks": ""
             }
            },
            "type": "scatterpolargl"
           }
          ],
          "scatterternary": [
           {
            "marker": {
             "colorbar": {
              "outlinewidth": 0,
              "ticks": ""
             }
            },
            "type": "scatterternary"
           }
          ],
          "surface": [
           {
            "colorbar": {
             "outlinewidth": 0,
             "ticks": ""
            },
            "colorscale": [
             [
              0,
              "#0d0887"
             ],
             [
              0.1111111111111111,
              "#46039f"
             ],
             [
              0.2222222222222222,
              "#7201a8"
             ],
             [
              0.3333333333333333,
              "#9c179e"
             ],
             [
              0.4444444444444444,
              "#bd3786"
             ],
             [
              0.5555555555555556,
              "#d8576b"
             ],
             [
              0.6666666666666666,
              "#ed7953"
             ],
             [
              0.7777777777777778,
              "#fb9f3a"
             ],
             [
              0.8888888888888888,
              "#fdca26"
             ],
             [
              1,
              "#f0f921"
             ]
            ],
            "type": "surface"
           }
          ],
          "table": [
           {
            "cells": {
             "fill": {
              "color": "#EBF0F8"
             },
             "line": {
              "color": "white"
             }
            },
            "header": {
             "fill": {
              "color": "#C8D4E3"
             },
             "line": {
              "color": "white"
             }
            },
            "type": "table"
           }
          ]
         },
         "layout": {
          "annotationdefaults": {
           "arrowcolor": "#2a3f5f",
           "arrowhead": 0,
           "arrowwidth": 1
          },
          "autotypenumbers": "strict",
          "coloraxis": {
           "colorbar": {
            "outlinewidth": 0,
            "ticks": ""
           }
          },
          "colorscale": {
           "diverging": [
            [
             0,
             "#8e0152"
            ],
            [
             0.1,
             "#c51b7d"
            ],
            [
             0.2,
             "#de77ae"
            ],
            [
             0.3,
             "#f1b6da"
            ],
            [
             0.4,
             "#fde0ef"
            ],
            [
             0.5,
             "#f7f7f7"
            ],
            [
             0.6,
             "#e6f5d0"
            ],
            [
             0.7,
             "#b8e186"
            ],
            [
             0.8,
             "#7fbc41"
            ],
            [
             0.9,
             "#4d9221"
            ],
            [
             1,
             "#276419"
            ]
           ],
           "sequential": [
            [
             0,
             "#0d0887"
            ],
            [
             0.1111111111111111,
             "#46039f"
            ],
            [
             0.2222222222222222,
             "#7201a8"
            ],
            [
             0.3333333333333333,
             "#9c179e"
            ],
            [
             0.4444444444444444,
             "#bd3786"
            ],
            [
             0.5555555555555556,
             "#d8576b"
            ],
            [
             0.6666666666666666,
             "#ed7953"
            ],
            [
             0.7777777777777778,
             "#fb9f3a"
            ],
            [
             0.8888888888888888,
             "#fdca26"
            ],
            [
             1,
             "#f0f921"
            ]
           ],
           "sequentialminus": [
            [
             0,
             "#0d0887"
            ],
            [
             0.1111111111111111,
             "#46039f"
            ],
            [
             0.2222222222222222,
             "#7201a8"
            ],
            [
             0.3333333333333333,
             "#9c179e"
            ],
            [
             0.4444444444444444,
             "#bd3786"
            ],
            [
             0.5555555555555556,
             "#d8576b"
            ],
            [
             0.6666666666666666,
             "#ed7953"
            ],
            [
             0.7777777777777778,
             "#fb9f3a"
            ],
            [
             0.8888888888888888,
             "#fdca26"
            ],
            [
             1,
             "#f0f921"
            ]
           ]
          },
          "colorway": [
           "#636efa",
           "#EF553B",
           "#00cc96",
           "#ab63fa",
           "#FFA15A",
           "#19d3f3",
           "#FF6692",
           "#B6E880",
           "#FF97FF",
           "#FECB52"
          ],
          "font": {
           "color": "#2a3f5f"
          },
          "geo": {
           "bgcolor": "white",
           "lakecolor": "white",
           "landcolor": "#E5ECF6",
           "showlakes": true,
           "showland": true,
           "subunitcolor": "white"
          },
          "hoverlabel": {
           "align": "left"
          },
          "hovermode": "closest",
          "mapbox": {
           "style": "light"
          },
          "paper_bgcolor": "white",
          "plot_bgcolor": "#E5ECF6",
          "polar": {
           "angularaxis": {
            "gridcolor": "white",
            "linecolor": "white",
            "ticks": ""
           },
           "bgcolor": "#E5ECF6",
           "radialaxis": {
            "gridcolor": "white",
            "linecolor": "white",
            "ticks": ""
           }
          },
          "scene": {
           "xaxis": {
            "backgroundcolor": "#E5ECF6",
            "gridcolor": "white",
            "gridwidth": 2,
            "linecolor": "white",
            "showbackground": true,
            "ticks": "",
            "zerolinecolor": "white"
           },
           "yaxis": {
            "backgroundcolor": "#E5ECF6",
            "gridcolor": "white",
            "gridwidth": 2,
            "linecolor": "white",
            "showbackground": true,
            "ticks": "",
            "zerolinecolor": "white"
           },
           "zaxis": {
            "backgroundcolor": "#E5ECF6",
            "gridcolor": "white",
            "gridwidth": 2,
            "linecolor": "white",
            "showbackground": true,
            "ticks": "",
            "zerolinecolor": "white"
           }
          },
          "shapedefaults": {
           "line": {
            "color": "#2a3f5f"
           }
          },
          "ternary": {
           "aaxis": {
            "gridcolor": "white",
            "linecolor": "white",
            "ticks": ""
           },
           "baxis": {
            "gridcolor": "white",
            "linecolor": "white",
            "ticks": ""
           },
           "bgcolor": "#E5ECF6",
           "caxis": {
            "gridcolor": "white",
            "linecolor": "white",
            "ticks": ""
           }
          },
          "title": {
           "x": 0.05
          },
          "xaxis": {
           "automargin": true,
           "gridcolor": "white",
           "linecolor": "white",
           "ticks": "",
           "title": {
            "standoff": 15
           },
           "zerolinecolor": "white",
           "zerolinewidth": 2
          },
          "yaxis": {
           "automargin": true,
           "gridcolor": "white",
           "linecolor": "white",
           "ticks": "",
           "title": {
            "standoff": 15
           },
           "zerolinecolor": "white",
           "zerolinewidth": 2
          }
         }
        },
        "title": {
         "text": "Chocolate Imports by Country/Area from 1988 to 2019"
        },
        "xaxis": {
         "anchor": "y",
         "domain": [
          0,
          1
         ],
         "title": {
          "text": "Year"
         }
        },
        "yaxis": {
         "anchor": "x",
         "domain": [
          0,
          1
         ],
         "title": {
          "text": "Quantity"
         }
        }
       }
      },
      "text/html": [
       "<div>                            <div id=\"55716534-5d34-478b-af4c-bc109404204a\" class=\"plotly-graph-div\" style=\"height:525px; width:100%;\"></div>            <script type=\"text/javascript\">                require([\"plotly\"], function(Plotly) {                    window.PLOTLYENV=window.PLOTLYENV || {};                                    if (document.getElementById(\"55716534-5d34-478b-af4c-bc109404204a\")) {                    Plotly.newPlot(                        \"55716534-5d34-478b-af4c-bc109404204a\",                        [{\"hovertemplate\":\"continent=Europe<br>Year=%{x}<br>Quantity=%{y}<extra></extra>\",\"legendgroup\":\"Europe\",\"line\":{\"color\":\"#636efa\",\"dash\":\"solid\"},\"mode\":\"lines\",\"name\":\"Europe\",\"showlegend\":true,\"type\":\"scattergl\",\"x\":[2012,2011,2010,2009,2004,2003,2000,1997,1996,2018,2016,2014,2013,2012,2011,2003,2002,2001,2000,1999,1998,1997,1996,1995,2018,2017,2016,2015,2014,2013,2012,2011,2010,2009,2008,2007,2006,2005,2004,2003,2002,2001,2000,1999,1998,1997,1996,1995,1994,2018,2017,2016,2015,2014,2013,2012,2011,2010,2009,2008,2007,2006,2005,2004,2003,2002,2001,2000,1999,1998,2018,2017,2016,2015,2014,2013,2012,2011,2010,2009,2008,2007,2006,2005,2004,2003,2002,2001,2000,1999,2019,2018,2017,2016,2015,2014,2013,2012,2010,2009,2008,2007,2006,2005,2004,2003,2018,2017,2016,2015,2014,2013,2012,2011,2010,2008,2005,2004,2003,2002,2001,2000,1999,1998,1997,1996,2018,2017,2016,2015,2014,2013,2012,2011,2010,2009,2008,2007,2006,2005,2004,2003,2002,2001,2000,1999,1998,1997,1996,1995,1994,1993,1992,2019,2018,2017,2016,2015,2014,2013,2012,2011,2010,2009,2008,2007,2006,2005,2004,2003,2002,2001,2000,1999,1998,1997,1996,1995,1994,1993,2019,2018,2017,2016,2015,2014,2013,2012,2011,2010,2009,2008,2007,2006,2005,2004,2003,2002,2001,2000,1999,1998,1997,1996,1995,1994,1993,1992,1991,1990,1989,2018,2017,2016,2015,2014,2013,2012,2011,2010,2009,2008,2007,2006,2005,2004,2003,2002,2001,2000,1999,1998,1997,1996,1995,2006,2001,2000,1999,1996,2018,2017,2016,2015,2014,2013,2012,2011,2010,2009,2008,2007,2005,2004,2003,2002,2001,2000,1999,1998,1997,1996,1995,1994,1993,1992,1991,1990,1989,1988,1990,1989,1988,2018,2017,2016,2015,2014,2013,2012,2011,2010,2009,2008,2007,2006,2005,2004,2003,2002,2001,2000,1999,1998,1997,1996,1995,1994,2018,2017,2016,2015,2014,2013,2012,2011,2010,2009,2008,2007,2006,2005,2004,2003,2002,2001,2000,1999,1998,1997,1996,1995,1994,1993,1992,1991,2019,2018,2017,2016,2015,2014,2013,2012,2011,2010,2009,2008,2007,2006,2005,2004,2003,2002,2001,2000,1999,1998,1997,1996,1995,1994,1993,1992,1990,1989,1988,2018,2017,2016,2015,2014,2013,2012,2011,2010,1998,1996,1995,1994,1993,1992,2018,2017,2016,2015,2014,2013,2012,2011,2010,2009,2007,2006,2005,2003,1997,1988,2018,2017,2016,2015,2014,2013,2012,2011,2010,2009,2008,2007,2006,2005,2004,2003,2002,2001,2000,1999,1998,1997,1996,1995,1994,1993,1992,2018,2017,2016,2015,2014,2013,2012,2011,2010,2009,2008,2007,2006,2005,2004,2003,2002,2001,2000,1999,1998,1997,1996,1995,1994,2018,2017,2016,2015,2014,2013,2012,2011,2010,2009,2008,2007,2006,2005,2004,2003,2002,2001,2000,1999,1998,1997,1996,1995,1994,2018,2017,2016,2015,2014,2013,2012,2011,2010,2009,2008,2007,2006,2005,2004,2003,2002,2001,2000,1999,1998,1997,1996,1995,1994,2018,2017,2016,2015,2014,2013,2012,2011,2010,2009,2008,2007,2006,2005,2004,2003,2002,2001,2000,1999,2018,2017,2016,2015,2014,2013,2012,2011,2010,2009,2007,2006,2005,1997,1995,1994,2018,2017,2016,2015,2014,2013,2018,2017,2016,2015,2014,2013,2012,2011,2010,2009,2008,2007,2006,2005,2004,2003,2002,2001,2000,1999,1998,1997,1996,1995,1994,1993,1992,2018,2017,2016,2015,2014,2013,2012,2011,2010,2009,2008,2007,2006,2005,2004,2001,2000,1999,1998,1996,1995,1994,1993,2019,2018,2017,2016,2015,2014,2013,2012,2011,2010,2009,2008,2007,2006,2005,2004,2003,2002,2001,2000,1999,1998,1997,1996,1995,1994,2018,2017,2016,2015,2014,2013,2012,2011,2010,2009,2008,2007,2006,2005,2004,2003,2002,2001,2000,1999,1998,1997,1996,1995,1994,1993,1992,1991,1990,1989,1988,2018,2017,2016,2015,2014,2013,2010,2009,2008,2007,2006,2005,2004,2003,2002,2001,2000,1999,1998,1996,1995,1994,2018,2017,2016,2015,2014,2013,2012,2011,2010,2009,2008,2007,2006,2005,2004,2003,2002,2001,2000,1999,1998,1997,1996,1995,1994,1993,1992,1991,1990,1989,2018,2017,2016,2015,2014,2013,2012,2011,2010,2009,2008,2007,2006,2005,2004,2003,2002,2001,2000,1999,1998,1997,1996,2018,2017,2016,2015,2014,2013,2012,2011,2010,2009,2008,2007,2006,2005,2004,2002,2001,2000,1999,1998,1997,1996,1992,2018,2017,2016,2015,2014,2013,2012,2011,2010,2009,2008,2007,2006,2005,2004,2003,2002,2001,2000,1999,1998,1997,1996,1995,1994,2018,2017,2016,2015,2014,2013,2012,2011,2010,2009,2008,2007,2006,2005,2004,2003,2001,2000,1999,1998,1997,1996,1995,1994,2018,2017,2016,2015,2014,2013,2012,2011,2010,2009,2008,2007,2006,2005,2004,2003,2002,2001,2000,1999,1998,1997,1996,1995,1994,1993,1992,1991,1990,1989,2018,2017,2016,2015,2014,2013,2012,2011,2010,2009,2008,2007,2006,2005,2004,2003,2002,2001,2000,1999,1998,1997,1996,1995,1994,1993,1992,2019,2018,2017,2016,2015,2014,2013,2012,2011,2010,2009,2008,2007,2006,2005,2004,2003,2002,2001,2000,1999,1998,1997,1996,1995,1994,1993,1992,1991,1990,1989,1988,2019,2018,2017,2016,2015,2014,2013,2012,2011,2010,2009,2008,2007,2006,2005,2004,2003,2002,2001,2000,1999,1998,1997,1996,1995,1994,2018,2017,2016,2015,2014,2013,2012,2011,2010,2009,2008,2007,2006,2005,2004,2003,2002,2001,2000,1999,1998,1997,1996,2018,2017,2016,2015,2014,2013,2012,2011,2010,2009,2008,2007,2006,2005,2004,2003,2002,2001,2000,1999,1998,1997,1996,1995,1994,1993],\"xaxis\":\"x\",\"y\":[130.0,4524.0,45.0,262.0,1606.0,1000.0,5.0,2000.0,12000.0,815.0,60.0,217.73,29.0,24.0,1.0,15.0,5.0,1060.0,417.0,554.0,44.0,402.0,734.0,60.0,29714908.0,9647843.0,27429497.0,23493726.0,14689469.0,13920787.0,9396645.89625339,13162399.0,12306392.0,18231879.0,11154787.0,10881472.0,8812314.0,9671689.0,23144644.0,24542405.0,23048501.0,22856700.0,19101800.0,20070600.0,17605974.0,16622584.0,14958245.0,14497470.0,13941644.0,7196794.0,7764351.0,6694551.0,6712620.0,6540903.0,6972342.0,6775559.0,6931483.0,7228924.0,6766010.0,6407260.0,5491269.0,5423629.0,5028759.0,5023971.0,4606730.0,4247341.0,4978319.0,6674173.0,3999984.0,3683058.0,233625755.17,320227430.57,306826005.73,245620323.0,263605023.0,250453731.0,198182483.0,201426257.0,160153611.0,146646988.0,178543473.0,187900666.0,198455743.0,187785132.0,154881081.0,118913129.0,122894139.0,94465952.0,104413743.0,44367325.0,655057.4,887378.56,857059.05,1075531.0,98213.0,214859.0,189571.0,5048.0,29504.0,43000.0,65036.0,66379.0,22989.0,152557.0,57947.0,113342.0,15304955.0,2217198.0,45922.0,17671.0,12864.0,3070.0,4017.0,65267.0,128339.0,18115.0,77685.0,745739.0,490500.0,356700.0,31250.0,65000.0,102984.0,520540.0,1702484.0,3036824.0,1596929.23,1784269.03355713,1499781.0,883982.0,1559510.0,2322319.0,1907068.0,1870784.0,2306802.0,2119944.0,2109666.0,2305700.0,2975616.0,5101734.0,5066521.0,5193158.0,4643454.0,3920206.0,3991767.0,3557000.0,3312001.0,4206000.0,3716000.0,4555000.0,2567000.0,2767000.0,3825000.0,101974.191656124,84190.045957415,50705.0,38107.0,31547.0,18911.0,15220.0,7722.0,4609.0,2825.0,1293.0,1229.0,96.0,2111.0,40.0,12331930.0,17425030.0,15460720.0,19851929.0,14260482.0,10644875.0,9032644.0,15046621.0,15799000.0,11443319.0,12351519.0,13566679.0,3159902.0,4692548.99118688,3367791.0,3634006.0,3246349.0,3340172.0,3400633.0,3172655.0,3436202.0,3479832.0,2654097.0,5618968.0,6077701.0,3967793.0,16743797.0,6306278.0,177.0,1827680.0,6156139.0,14161375.0,8918631.0,15115865.0,6867564.0,3729983.0,3268049.0,2814240.0,2825276.0,2523156.0,2911021.0,2718675.0,2219467.0,21413504.6,44681089.4,35580961.2,41700370.0,39503844.0,45829481.0,48378675.0,56308436.0,45665367.0,38719927.0,35582117.0,41875582.0,83560330.0,49251997.0,65343303.0,61300043.0,57283737.0,60793556.0,62035293.0,48667700.0,64866780.0,70246896.0,13570298.0,2425724.0,1.0,4.0,38.0,10.0,45.0,49826.3340948922,32969.676435154,32928.0,19025.0,14855.0,7210.0,6723.0,10497.0,6924.0,3625.0,111.0,20.0,40.0,25.0,225.0,22.0,6.0,58528.0,71740.0,82907.0,91597.0,100023.0,137003.0,158265.0,181767.0,94659.0,115666.0,138898.0,138687.0,173145.0,287171616.0,250081440.0,222311584.0,165876485.81471598,142113023.168443,148835556.0,133418943.0,137724261.0,124001033.0,128976097.0,146707268.0,137063100.0,163548500.0,155989700.0,173165000.0,159091900.0,147022700.0,157918600.0,152477900.0,138890800.0,162297900.0,150193400.0,138887440.0,105907024.0,110221304.0,119841432.0,113519624.0,101773728.0,326436592.12309504,352645310.0,342485672.6811,301021285.553656,244640247.075009,293003561.725505,372792767.494312,425068301.083512,376392167.538675,360307228.93527997,346979745.0,354149329.0,290957093.0,273123100.0,200710100.0,209894800.0,205205400.0,212163900.0,250959600.0,234351968.0,289769632.0,320408992.0,312018336.0,297013216.0,330833472.0,332521632.0,319589600.0,302925600.0,3279127.0,3807770.0,3160244.0,4157400.0,3012350.0,3947591.0,2645188.0,3404850.0,4052090.0,4027383.0,5475937.0,3610465.0,4679932.0,4530704.0,5269768.0,3709189.0,4086663.0,4166000.0,19414704.0,3523985.0,2844772.0,2418435.0,5028456.0,1862540.0,1156303.0,881364.0,2596179.0,1440637.0,5766688.0,5162455.0,5794522.0,8453.0,7579.0,6330.0,3612.0,6220.0,2581.0,2015.0,3600.0,2000.0,2318573.0,5278635.0,3994911.0,3115834.0,5754770.0,7371912.0,13596.0,9000.0,8306.0,7612.0,5713.0,2080.0,2068.0,1270.0,607.0,11.0,112.0,32.0,7.0,16.0,103.0,50.0,7324.0,8238.0,8314.0,7286.0,4573.0,1811223.0,6595954.0,4002395.0,5063721.0,8139780.0,9575766.0,13797155.0,13197589.0,23004858.0,10374941.0,11080855.0,13583408.0,8134357.0,8425513.0,6098967.0,13602620.0,11952581.0,8932968.0,6368359.0,6570202.0,7346945.0,8970694.0,98406059.0,100241539.0,93666932.0,96861793.0,91758054.0,88841109.0,87296228.0,91870415.0,81901417.0,73275037.0,68143970.0,63593583.0,65925356.0,67821731.0,60229668.0,76025520.0,61741735.0,75159479.0,79032370.0,71178373.0,70755952.0,70142080.0,72500032.0,68348920.0,61644720.0,463.0,17669.0,20360.0,1554601.0,2006331.09776691,2135322.0,1690391.0,1390170.0,1075316.0,1615172.0,1515580.0,1674432.0,1492777.0,1461300.0,2058200.0,1291156.0,1252646.0,1159573.0,1062167.0,1159651.0,1371678.0,2483730.0,2318728.0,1665402.0,1731014.0,1495.0,2391.25,2147.0,2242.0,3176.0,2777.0,405.0,138.0,138.0,377.0,135845.0,663029.0,550457.0,1351989.0,3314922.0,7307623.0,3589771.0,2540834.0,2109248.0,2303288.0,2726187.0,3018250.0,2672523.0,2956389.0,2727198.0,4001.0996754018797,3897.17,2436.0,1391.0,1386.0,1387.0,1658.0,6218.0,3384.0,1848.0,1526.0,2189.0,2179.0,1441.0,3270.0,1924.0,427.0,229.0,50.0,537.0,311.0,131.0,252.0,317.0,56.0,74.0,5.0,9.0,9.0,13.0,57.0,8.0,60.0,899.0,50.0,156.0,214.6,192.0,339.46,274.0,66.0,166.0,1079178368.0,930340093.0,817271980.0,702823583.08263,650819924.0,622282370.0,646217250.0,684418363.0,544570244.0,655001083.0,560623868.0,520770148.0,433658735.0,520082116.0,435224920.0,460069158.0,383093136.0,544717272.0,473814679.0,503134353.0,331596928.0,288080352.0,556840384.0,399182272.0,363965120.0,296597504.0,291700288.0,9630.0,9676.0,7009.0,4809.0,5248.0,5751.0,4728.0,7168.0,3471.0,2364.0,2192.0,1878.0,39.0,54.0,25.0,1005.0,25600.0,500.0,441.0,551.0,1212516.0,2534870.0,1914941.0,13463596.0,10154356.0,12637348.0,10383114.0,14866353.0,15048494.0,10587111.0,10415419.0,11793202.0,9051817.0,11018315.0,9851517.0,17655421.0,21836822.0,20690523.0,21520023.0,20433417.0,22308416.0,29198847.0,23762742.0,33445534.0,36914796.0,39690008.0,36580576.0,35301432.0,35493000.0,142953.0,166219.0,121847.0,105512.0,102656.0,207770.0,80652.0,65413.0,71027.0,22794.0,40216.0,105638.0,101143.0,157146.0,75739.0,39382.0,59783.0,50327.0,74982.0,50054.0,40000.0,100000.0,84312.0,165933.0,215125.0,174956.0,275570.0,217979.0,127636.0,148157.0,93483.0,20256.0,26.0,97.0,22.0,34.0,32.0,20184.0,208.0,188.0,130185.0,696666.0,520443.0,728583.0,457393.0,548102.0,550830.0,370355.0,3484.0,414000.0,518936.0,606694.0,535997.0,41373.1333380007,9631.0,27912.0,10446.0,51533.0,4160.0,2616.0,2448.0,1017.0,801.0,23137.0,1380.0,5667.0,233666.0,252903.0,272776.0,40000.0,577000.0,601000.0,612000.0,872000.0,885000.0,1816000.0,1738000.0,3941000.0,2593000.0,3064000.0,4501000.0,7422000.0,2935000.0,55238866.4,53689351.47,47792992.5,45343094.0,60876276.0,61973530.0,62881657.0,61320059.0,54349960.0,51748107.0,60140065.0,66874643.0,68554748.0,68568508.0,65481228.0,60715829.0,70756887.0,63820730.0,71957841.0,49658848.0,48569634.0,61157896.0,56024256.0,3489221.0,2760570.37673086,2003444.0,3740408.0,3928026.0,4010689.0,2305301.0,2240408.0,2495310.0,2394985.0,2835158.0,3300562.0,3683073.0,3628216.0,2602332.0,3643752.0,2796736.0,2963000.0,2357000.0,2467000.0,2587000.0,2790000.0,2079000.0,10378332.0,8828216.78114492,10992677.0,7095897.0,7339374.0,8434024.98108294,7739671.0,2305288.0,1982331.0,260.0,5493719.0,9387928.0,10584241.0,9618420.0,10028452.0,9844986.0,9913755.0,7794471.0,6362460.0,7444809.0,5181053.0,6882536.0,12840125.0,6558536.0,7820985.0,26998.74,69862.0,55860.5,50448.0,28190.0,7668.0,3499.0,110390.0,137499.0,98901.0,85482.0,76634.0,11.0,46.0,27957.0,7.0,4.0,13.0,1012.0,6250.0,286128.0,286018.0,286699.0,318312.0,99845854.35,123663821.2,110659182.0,105782461.0,109000707.0,102664167.0,92948580.0,86521863.0,91957179.0,87633354.0,95480248.0,94412967.0,74669253.0,74084589.0,67158361.0,62519112.0,60168307.0,48073547.0,53065309.0,58364916.0,58341804.0,53917052.0,48737600.0,48255828.0,48247976.0,47480320.0,44098072.0,46299252.0,42817648.0,40457160.0,18751.728907330602,16997.1925884335,22200.7366482505,23920.0,37070.0,22377.0,24942.0,18299.0,19123.0,17820.0,11830.0,3792.0,6064.0,3284.0,48879.0,1887.0,13188.0,7353.0,10526.0,9272.0,7378.0,7205.0,9000.0,2051.0,13000.0,8000.0,383000.0,49158683.81527,44983830.1111062,42783767.0,38576807.0,43186699.0,43294018.0,40924815.0,40217018.0,42128844.0,41973193.0,39904705.0,41977201.0,38474346.0,35704161.0,32266491.0,25451781.0,26471041.0,24538138.0,24108890.0,21989296.0,25149116.0,19972736.0,20783240.0,19769856.0,23777512.0,21532328.0,21803820.0,21251316.0,19815364.0,21365788.0,21083726.0,20439404.0,466.0,38234.0,386.0,746.0,360.0,526.0,15101.0,41.0,129428.0,26024.0,52095.0,85065.0,106909.0,167691.0,136666.0,169922.0,125392.0,197073.0,109589.0,216275.0,151952.0,216921.0,242291.0,312968.0,470112.0,576486.0,16439097.3,13772888.08,11223140.06,9861299.0,17880089.0,20803950.0,18092145.0,17492675.0,14142963.0,15823676.0,17783156.0,20318776.0,17142820.0,17660512.0,14445157.0,15632535.0,15485123.0,22282311.0,20715521.0,15145279.0,18099400.0,17543156.0,10752251.0,113619761.0,107079268.0,42794390.0,57771316.0,60187416.0,73103602.0,92522892.0,135858864.0,130459562.0,193912116.0,169364467.0,186106979.0,185371437.0,141490020.0,161042483.0,161236338.0,130963530.0,149930450.0,150426976.0,236662774.0,190162864.0,167214368.0,241272656.0,172689488.0,159967088.0,177926208.0],\"yaxis\":\"y\"},{\"hovertemplate\":\"continent=Africa<br>Year=%{x}<br>Quantity=%{y}<extra></extra>\",\"legendgroup\":\"Africa\",\"line\":{\"color\":\"#EF553B\",\"dash\":\"solid\"},\"mode\":\"lines\",\"name\":\"Africa\",\"showlegend\":true,\"type\":\"scattergl\",\"x\":[2017,2016,2015,2014,2013,2012,2011,2010,2009,2008,2007,2006,2005,2004,2003,2002,2001,2000,1999,1997,1995,1994,1993,2018,2017,2016,2015,2014,2013,2012,2011,2010,2009,2007,2018,2017,2016,2015,2014,2013,2012,2008,2007,2006,2001,1999,2018,2017,2016,2015,2014,2013,2012,2011,2010,2009,2008,2007,2006,2005,2004,2003,2002,2001,2000,2017,2010,2008,2004,2003,2001,1999,1997,1996,2011,2010,2009,2008,2007,2005,2004,2018,2008,2002,1999,2017,2015,2012,2011,2007,2006,2005,2003,2002,2001,2014,2006,2005,2004,2013,2012,2011,2010,2008,2006,2017,2014,2010,2009,2018,2017,2016,2015,2014,2013,2012,2010,2009,2008,2007,2006,2000,1995,2018,2011,2008,2006,2005,2004,2003,1995,1994,2003,2016,2014,2011,2010,2008,2004,1998,2011,2010,2009,2008,2007,2006,2005,2004,2003,2002,2000,1996,2018,2015,2014,2013,2012,2011,2010,2008,2007,2006,2005,2004,2003,2002,2001,1998,2018,2017,2016,2013,2012,2011,2009,2008,2007,2002,1999,1998,2013,1999,1997,1996,2005,2017,2013,2010,2009,2005,1998,1992,2017,2015,2014,2013,2012,2011,2010,2009,2008,2004,2003,2002,2000,2009,2008,2007,2016,2015,2014,2013,2008,2003,2000,1996,2017,2015,2014,2012,2009,2007,2006,2005,2004,2003,2001,2000,1991,2017,2016,2005,2000,2009,2007,2006,2018,2017,2016,2015,2014,2013,2012,2011,2010,2009,2008,2007,2006,2005,2004,2003,2002,1999,1998,2008,2007,2006,2001,2000,2018,2017,2016,2015,2014,2013,2012,2011,2010,2009,2008,2007,2006,2005,2004,2003,2002,2001,2000,1999,1998,1997,1996,1995,1994,1993,2017,2016,2014,2013,2010,2008,2007,2006,2005,2004,2003,2002,2018,2017,2016,2015,2014,2013,2012,2011,2010,2009,2008,2007,2006,2005,2004,2003,2002,2001,2000,2016,2015,2014,2012,2011,2007,2005,2004,2003,2002,2001,1997,1995,2018,2017,2016,2014,2013,2012,2011,2010,2009,2008,2003,2002,1999,1998,1997,1996,2016,2010,2009,2008,2007,2006,1996,2015,2013,2010,2009,2003,2019,2017,2016,2015,2012,2010,2008,2007,2006,2004,2003,2000,2018,2017,2016,2015,2012,2011,2010,2008,2007,2004,2003,2000,1999,2017,2016,2000,2018,2017,2016,2015,2014,2013,2012,2011,2010,2009,2008,2007,2006,2005,2004,2003,2002,2001,2000,2017,2017,2016,2015,2014,2013,2007,2006,2005,2004,2003,2002,2001,2000,2017,2016,2011,2008,2007,2005,2004,2003,2000,1999,2017,2016,2015,2014,2013,2012,2011,2010,2009,2008,2007,2006,2005,2004,2003,2002,2001,2000,1999,1998,1997,1996,1995,1994,1993,1992,1991,2018,2017,2016,2015,2014,2013,2012,2011,2010,2009,2008,2007,2006,2005,2000,1997,1994,2018,2017,2016,2015,2014,2013,2012,2011,2010,2009,2008,2007,2006,2005,2004,2002,2001,2000,1999,1998,1997,1996,1995,2018,2015,2014,2013,2012,2011,2010,2009,2008,2005,2004,2003,2002,2001,2000,1998,1996,1995,2018,2016,2015,2013,2012,2010,2009,2008,2007,2002,1995],\"xaxis\":\"x\",\"y\":[1947885.0,2422456.0,2099768.0,5437852.0,7286871.0,5340713.0,4454661.0,3427384.0,2916129.0,7863255.0,2179714.0,5440264.0,3642859.0,4791875.0,6829728.0,3940597.0,2662182.0,1512339.0,1610562.0,201609.0,100000.0,326921.0,284.0,4881.0,14.0,4.0,264.53,1204.0,190.0,28035.0,114.0,3822.0,24936.0,21329.0,25.0,1170.0,8559.0,4768.0,4670.0,1990.0,23304.0,102.0,470.0,501.0,12.0,2062.0,240.0,98.0,3422.0,798.0,100.0,94.0,162.0,14277.0,1178.0,3635.0,1439.0,38152.0,511.0,4997.0,21411.0,145161.0,196644.0,115.0,2051.0,284.0,2460.0,45600.0,287706.0,89870.0,30.0,5509.0,278.0,295.0,50.0,153.0,90.0,219.0,344.0,6.0,148.0,52.0,530.0,0.0,12.0,23.0,86.0,50.0,180.0,100.0,9.0,2.0,5262.0,6162.0,1761.0,58000.0,69950.0,431617.0,413750.0,1200.0,1500.0,14134.0,3085.0,3793.0,337.0,100.0,2240.0,34.0,33.0,118.0,501.0,288.0,254.0,803.0,1065.0,239.0,72.0,11.0,51.0,50.0,50.0,33345.0,31.0,163.032584010314,160.0,200.0,261.0,19282.0,5000.0,34320.0,203199.0,355187.0,238.0,1.0,87.0,153.0,5525.0,4.0,33.0,56.0,1838.0,23165.0,27940.0,37097.0,1000.0,29265.0,79017.0,7852.0,153.0,3364.0,2.0,18.0,770.0,245.0,25.0,400.0,8018.0,660.0,50.0,7487.0,8840.0,2162.0,74387.0,84857.0,269364.0,98837.0,46339.0,397.0,1073.94,179.65,16.0,10000.0,62.0,71.0,25.0,4.0,8.0,8.0,97.0,51000.0,1619.0,51738.0,85.0,2000000.0,90.0,23004.0,9000.0,21052.0,3025.0,1000.0,343.0,342375.0,25.0,9049.97399378212,16478.8323421411,25100.490750370496,36041.0,36174.0,6237.0,207.0,5333.0,412.0,16905.0,16278.0,11310.0,1250.0,7517.0,1894.0,18564.0,47369.0,35628.0,4225.0,382.0,58.0,18.0,101.0,24.0,1724.0,72.0,25.0,285.0,120.0,280.0,3334.0,1040.0,178.0,19.0,28000.0,101.0,23.0,1661.0,300.0,21500.0,488.0,8500.0,1000.0,31.0,213.0,35.0,20.0,119.0,69.0,330.0,134.0,128.0,240.0,458.0,261.0,454.0,127.0,495.0,339.0,265.0,191.0,28.0,41.0,6.0,68.0,40.0,40.0,2989.0,4889.6,2691.0,2338.66,374.0,2018.0,3245.0,5008.0,2130.0,1405.0,101371.0,606313.0,805875.0,354275.0,626687.0,548499.0,402886.0,329937.0,304401.0,354640.0,253210.0,351425.0,277550.0,320660.0,325105.0,276929.0,50.0,2092.0,150.0,720.0,127.0,30211.0,17.0,1597.0,100.0,282.0,56.0,308.0,256.710426879193,23123.15,629.0,480.0,513.0,701.0,172.0,621.0,205.0,2093.0,26220.0,15061.0,39.0,40117.0,69750.0,1169.0,2933.0,28800.0,1943.0,4612.073147789521,7760.0,5000.0,1000.0,180.0,132.0,1630.0,50.0,470.0,3.0,60.0,109.0,11.0,57552.0,21609.652891916598,79390.0,1310812.0,2615030.0,683283.0,39054266.0,159000.0,674093.0,113713.0,576.0,966238.0,447249.0,500000.0,351.0,3809437.0,74.0,5635.0,6.0,20335.0,350.0,148.0,335.0,20.0,27.0,700.0,25.0,24.0,1708.0,327.0,29001.0,3285.0,4060.0,18.0,88.0,12675.0,4.0,20.0,4.0,6.0,212.77,27.0,93.0,109.0,2.0,3555.0,2.0,3.0,16.0,33.0,8.0,4.0,1.0,204.54,172.0,620.0,202231.08,160488.53,94079.0,77201.91,25973.35,8864.89,8198.18,8112.65,13962.51,460.0,1863.0,761.0,751588.0,3836048.0,2813989.0,3516190.0,3677055.0,4321406.0,4827748.0,45.34131036105829,34157.75,189171.0,70.1,483.84384551133104,1221.9196965755198,51773.0,4350.0,3073.0,3235.0,115153.0,114173.0,50875.0,39969.0,1198.0,6806.0,5250.0,29956.0,3000.0,201995.0,206140.0,2794348.0,5987.0,17066.0,5799437.0,3449485.0,3253079.0,6125353.0,5243236.0,6364302.0,4448571.0,4228834.0,7111617.0,6079864.0,5807140.0,5029846.0,3049427.0,3012000.0,3127643.0,3003000.0,2026970.0,1697905.0,1320062.0,1338750.0,776750.0,930812.0,855378.0,1162007.0,479125.0,979250.0,355500.0,275010.0,277935.0,44182.0,138785.0,101807.0,9634.0,6200.0,8856.0,30751.0,1186.0,2506.0,9029.0,115.0,135.0,2.0,2.0,361.0,972.0,1266.55353535354,463.0,498.0,66.0,238.0,14.0,258.0,7169.0,5372.0,11495.0,1088.0,70.0,11055.0,511.0,195.0,306.0,265.0,9.0,231511.0,22989.0,10397.0,21065.0,55.0,180.0,10.0,638.0,297.0,189.0,66.0,595.0,2105.0,668.0,157.0,248.0,450.0,1550.0,29883.0,101.0,0.0,13312.0,2.0,1.0,14000.0,5.0,35.0,310.0,40.0,8.0,257.0,221.0,14942.0],\"yaxis\":\"y\"},{\"hovertemplate\":\"continent=Americas<br>Year=%{x}<br>Quantity=%{y}<extra></extra>\",\"legendgroup\":\"Americas\",\"line\":{\"color\":\"#00cc96\",\"dash\":\"solid\"},\"mode\":\"lines\",\"name\":\"Americas\",\"showlegend\":true,\"type\":\"scattergl\",\"x\":[2008,2007,2006,2003,2002,2018,2017,2016,2015,2014,2013,2012,2011,2010,2009,2007,2006,2005,2000,1999,2018,2017,2016,2015,2014,2013,2012,2011,2010,2009,2008,2007,2006,2005,2004,2003,2002,2001,2000,1999,1998,1997,1996,1995,1994,1993,2018,2017,2016,2015,2014,2013,2012,2011,2010,2009,2015,2014,2013,2012,2011,2010,2009,2008,2007,2006,2005,2003,2002,2001,2000,1999,1998,1997,2018,2017,2016,2015,2014,2013,2012,2011,2008,2006,2005,2002,1998,2016,2015,2014,2004,2002,1995,2018,2016,2015,2014,2013,2012,2011,2010,2018,2017,2016,2015,2014,2013,2008,2006,2004,2001,2000,1999,1996,1994,2018,2017,2016,2015,2014,2013,2012,2011,2010,2009,2008,2007,2006,2005,2004,2003,2002,2001,2000,1999,1998,1997,1996,1995,1994,1993,1992,2019,2018,2017,2016,2015,2014,2013,2012,2011,2010,2009,2008,2007,2006,2005,2004,2003,2002,2001,2000,1999,1998,1997,1996,1995,1994,1993,1992,1991,1990,1989,2019,2018,2017,2016,2015,2014,2013,2012,2010,2009,2008,2007,2006,2004,2003,2002,2000,1994,1993,1992,1991,1990,2018,2017,2016,2015,2014,2013,2012,2011,2010,2009,2008,2007,2006,2005,2004,2003,2002,2001,2000,1999,1998,1997,1996,1995,1994,1993,1992,2018,2015,2013,2012,2011,2010,2009,2008,2007,2006,2005,2004,2003,2002,2001,2000,1999,1998,1997,1996,1995,1994,2000,1997,2017,2016,2015,2014,2013,2012,2011,2010,2008,2003,2018,2017,2016,2015,2013,2009,2008,2004,2002,2000,1999,1998,1996,1995,1994,2019,2018,2017,2016,2015,2014,2013,2012,2011,2010,2009,2008,2007,2006,2005,2004,2003,2002,2001,2000,1999,1998,1997,1996,1995,1994,2010,2000,2008,2005,2017,2016,2015,2014,2013,2012,2011,2010,2009,2007,2006,2005,2004,2003,1999,1998,1997,1995,1994,1993,2015,2013,2006,2004,2002,2000,2017,2016,2015,2014,2012,2011,2010,2009,2007,2006,2005,2004,2003,2002,2001,2000,1999,1998,1997,1996,2017,2013,2012,2008,2003,2002,1995,1994,2018,2017,2016,2015,2014,2013,2012,2011,2010,2009,2008,2007,2006,2005,2004,2003,2002,2001,2000,1999,1998,1997,1994,1992,1991,1990,2014,2008,2007,2018,2017,2016,2015,2014,2013,2012,2011,2010,2009,2008,2007,2005,2004,2003,2002,2001,2000,1998,1997,1996,1995,1994,2015,2013,2012,2011,2010,2009,2008,2007,2006,2005,2004,2003,2002,2001,2000,1998,1997,1996,1995,2018,2000,1999,1998,1991,1989,2018,2017,2016,2015,2014,2013,2012,2011,2010,2009,2008,2007,2004,2003,2002,2000,1999,1997,1996,1995,1994,2016,2015,2014,2013,2012,2011,2010,2006,2001,2000,1995,2017,2016,2015,2014,2013,2009,2008,2003,1998,1995,1994,2010,2005,2004,2000,2015,2014,2011,2009,2004,2000,1992,2012,2011,1999,2018,2017,2016,2015,2012,2011,2010,2009,2007,2005,2002,2001,1996,1995,1994,2018,2017,2016,2015,2014,2013,2012,2011,2010,2009,2008,2007,2006,2005,2004,2003,2002,2001,2000,1999,1998,1997,1996,1995,1994,1993,1992,1991,2012,2011,2010,2009,2008,2007],\"xaxis\":\"x\",\"y\":[1.0,656.0,125.0,18.0,87.0,857.35,296.33,297.0,407.0,424.0,290.0,258.0,57.0,400.0,516.0,92.0,1269.0,1404.0,489.0,415.0,451588.8,344962.0,291556.0,298884.9,237498.0,253067.0,483976.0,450990.0,395830.0,379566.0,347398.0,258492.0,234130.0,245772.0,245638.0,223508.0,185237.0,193597.0,150000.0,144000.0,226406.0,300687.0,792472.0,2262691.0,3559437.0,1943000.0,960.12,208.0,13.9230570617093,25.0,17.0,5.0,4.0,26.0,35.0,351.0,2523.0,719.0,264.0,260.0,40.0,33.0,1338.0,2479.0,213.0,166.0,435.0,303.0,83.0,1677.0,515.0,175.0,144.0,429.0,1408.0,2396.0,3239.0,4269.0,1394.0,3240.0,919.0,2176.0,308.0,200.0,15.0,28.0,25.0,4144.0,19.0,9.0,95.0,6.0,1875.0,116.51,100.0,69.0,17.0,6.0,0.0,23.0,45.0,50094.0,25885.0,22689.0,98184.0,350322.0,20010.0,24649.0,13601.0,1.0,72140.0,40934.0,94093.0,113.0,6000.0,62468828.0,61004470.0,57506720.0,11020704.0,38042064.0,17003495.0,54886063.0,32516093.0,47412545.0,73989004.0,73114732.0,91191859.0,65444983.0,54447607.0,40261198.0,59338037.0,56307619.0,33930954.0,70667180.0,75330471.0,11947726.0,14857942.0,62504.0,5255683.0,1037875.0,2198000.0,1821125.0,91029000.0,0.0,0.0,59900000.0,68303000.0,65027201.0,70031687.0,69968785.0,73685648.0,50661796.0,54879693.0,68760637.0,52160895.0,78133607.0,56145546.0,89916167.0,58153000.0,44526897.0,59912.0,50492.0,46865062.0,48236000.0,38931000.0,38340000.0,41039000.0,29097000.0,38759000.0,48548000.0,30227000.0,23340000.0,20290000.0,13724.6,12491.98,8856.25,4590.73,7079.65,52025.77,551.0,95.0,15.0,21.0,34.0,4.0,34.0,6.0,3.0,353.0,9.0,124710.0,222000.0,340000.0,202573.0,0.0,669877.0,488334.5,4643400.0,5890824.0,6688360.0,2316150.0,1960383.0,8681443.0,6818548.0,5686607.0,5951129.0,12794763.0,9498908.0,7460557.0,4483135.0,3195888.0,7121796.0,666225.0,2852720.0,942879.0,90000.0,207269.0,157773.0,3485312.0,1594812.0,370.0,74105.0,9998.0,22.0,1.0,57252.0,68891.0,6818.0,270.0,29324.0,421471.0,1.0,648659.0,1834167.0,794002.0,837846.0,655863.0,207900.0,621979.0,2989765.0,4058539.0,46144672.0,4494577.0,3081374.0,350.0,3.0,3307.0329811782,3916.0,32398.0,7964.0,4949.0,25257.0,1538.0,1752.0,47921.0,45.0,60000.0,60000.0,30000.0,510.0,25512.0,2670.0,333.0,1.0,22054.0,29240.0,6312.0,261452.0,376182.0,734.0,450000.0,1007294.6,1010303.0,944661.3,874047.7,870226.59,876388.21,809914.5,892595.88,785445.38,876249.66,819458.0,682132.0,866621.0,688371.0,611975.0,715091.0,664298.0,329189.0,225448.0,396317.0,336725.0,313663.0,139976.0,344741.0,254565.0,110436.0,340.0,80.0,938.0,900.0,2643265.0,1635661.0,2182714.0,902769.0,878449.0,645097.0,540434.0,635370.0,453154.0,8076.0,88200.0,154350.0,152550.0,20108.0,38026.0,62965.0,1.0,15750.0,14312.0,1312.0,19.76,100.0,20.0,20.0,4.0,2.0,6183.0,14273.0,3828.0,12007.0,3550.0,3.0,133.0,716.0,691491.0,1739507.0,1048405.0,1076761.0,1751.0,546.0,500094.0,414.0,152003.0,570.0,75237.0,156.0,3.0,15471.0,14568.0,2.0,4.0,12072.0,12500.0,12375.0,38543168.0,39970901.0,30207637.0,23521380.0,28659415.0,22952922.0,13589858.0,18922073.0,15660710.0,4058485.0,6187790.0,1059869.0,1325973.0,7703894.0,4704019.0,4313197.0,2687346.0,2099750.0,10775053.0,4677862.0,4707251.0,1785562.0,18527.0,219640.0,1406130.0,3494913.0,4.0,146.0,4.0,69.0,8.0,485.49,28522.0,809.0,230.0,24.0,10.0,379.0,1078.0,506.0,2151.0,4650.0,23190.0,1759.0,2263.0,1426.0,920.0,10218.0,3312.0,13562.0,5312.0,24765.0,1582.0,5050.0,425.0,328645.0,193965.0,225164.0,500006.0,443912.0,335400.0,323268.0,314420.0,66096.0,28538.0,1197.0,3903.0,110000.0,215807.0,279500.0,950058.0,138.0,479.0,24742.0,18773.0,150000.0,496.0,240345.0,69713.2,1373683.0,271262.0,448510.0,624276.0,24690.0,75074.0,224762.0,100050.0,232264.0,936931.0,60590.0,150000.0,280700.0,773208.0,1328875.0,151612.0,326500.0,876062.0,3557187.0,12.71,12.35,0.0,45.0,410.0,135.0,169.0,25.0,55.0,40.0,20.0,54.57,13.0,112.0,20.0,4.0,120.0,4.0,374.0,1.0,21.0,74.0,47.0,560.0,1210.0,1000.0,37.0,267.0,25024.0,7.0,4.0,46.0,949.0,100.0,1357.0,0.0,500.0,1000.0,240.0,550.0,1020.0,55268.0,2010.0,1020.0,1620.0,1200.0,500.0,10425.0,134558.0,222097.0,220078.0,415272275.0,470258262.0,421198094.0,478999014.0,437366059.0,449256286.0,409593173.0,463849281.0,402060942.0,442374485.0,355750933.0,355134541.0,473645333.0,539686530.0,414138745.0,339543170.0,311686967.0,379691413.0,370325642.0,467210100.0,423844110.0,342223496.0,453078955.0,283429984.0,312441941.0,411937261.0,378979905.0,392010206.0,3093779.0,3.0,1.0,25237.0,1.0,15.0],\"yaxis\":\"y\"},{\"hovertemplate\":\"continent=Asia<br>Year=%{x}<br>Quantity=%{y}<extra></extra>\",\"legendgroup\":\"Asia\",\"line\":{\"color\":\"#ab63fa\",\"dash\":\"solid\"},\"mode\":\"lines\",\"name\":\"Asia\",\"showlegend\":true,\"type\":\"scattergl\",\"x\":[2019,2018,2017,2016,2015,2014,2013,2012,2011,2010,2009,2008,2007,2006,2005,2004,2003,2002,2001,2000,1999,2019,2017,2016,2015,2013,2012,2011,2008,2006,2005,2004,2002,2001,2000,1999,1998,1997,1996,2018,2017,2016,2015,2014,2013,2012,2011,2010,2009,2008,2007,2006,2005,2004,2003,2002,2001,2000,2015,2011,2010,2009,2001,1997,2009,2008,2006,2005,1999,2012,2009,2004,2003,2002,2001,1998,1997,1994,1993,2008,2018,2017,2016,2015,2014,2013,2012,2011,2010,2009,2008,2007,2006,2005,2004,2003,2002,2001,2000,1999,1998,1997,1996,1995,1994,1993,1992,2019,2018,2017,2016,2015,2014,2013,2012,2010,2009,2008,2006,2003,2002,1998,1997,1996,1993,2007,2002,1996,1993,1992,1991,2018,2017,2016,2015,2013,2012,2010,2009,2007,2002,1989,2019,2018,2017,2016,2015,2013,2012,2009,2008,2007,2006,2005,2004,2002,2001,1999,1997,1996,2018,2017,2016,2015,2014,2013,2012,2011,2010,2009,2008,2007,2006,2005,2004,2003,2002,2001,2000,1999,1998,1997,1996,1995,1994,1993,1992,1991,2018,2017,2016,2015,2014,2013,2012,2011,2010,2009,2008,2007,2006,2005,2004,2003,2002,2001,2000,1999,1998,1997,1995,1993,1992,1991,1990,1989,2017,2016,2014,2013,2011,2010,2006,2005,2004,2003,2002,2001,2000,1999,1998,1997,2018,2017,2016,2015,2014,2013,2012,2011,2010,2009,2008,2007,2006,2005,2004,2003,2002,2001,2000,1999,1998,1997,1996,1995,2019,2018,2017,2016,2015,2014,2013,2012,2011,2010,2009,2008,2007,2006,2005,2004,2003,2002,2001,2000,1999,1998,1997,1996,1995,1994,1993,1992,1991,1990,1989,1988,2009,2005,1995,1994,2018,2017,2016,2015,2014,2013,2012,2011,2010,2009,2008,2007,2006,2005,2004,2003,2002,2001,2000,2018,2017,2016,2015,2014,2013,2011,2010,2007,2006,2003,2002,2001,2000,2017,2016,2001,2016,2015,2014,2012,2018,2017,2016,2015,2014,2013,2012,2011,2010,2009,2008,2007,2006,2005,2004,2003,2002,2001,2000,1999,1998,1997,2018,2017,2016,2015,2014,2013,2012,2011,2010,2009,2008,2007,2006,2005,2004,2003,2002,2001,2000,1999,1998,1997,1996,1995,1994,1993,1992,1991,1990,1989,2018,2016,2014,2007,2001,1998,1997,1996,2018,2014,2013,2012,2011,2017,2015,2014,2013,2012,2011,2010,2009,2003,1999,1994,2018,2017,2016,2015,2014,2013,2012,2011,2010,2009,2008,2006,2004,2002,2018,2017,2016,2015,2014,2013,2012,2011,2010,2009,2008,2007,2006,2005,2004,2003,2002,2001,2000,1999,1998,2018,2017,2016,2013,2011,2008,2007,2005,2018,2017,2016,2015,2014,2013,2012,2011,2010,2009,2008,2007,2006,2005,2004,2003,2002,2001,2000,1999,1998,1997,1996,2018,2017,2016,2015,2014,2013,2012,2010,2008,2007,2006,2005,2004,2003,2002,2000,2018,2017,2016,2015,2014,2013,2012,2011,2010,2009,2008,2007,2006,2005,2004,2003,2002,2001,2000,1999,1998,1997,1996,1995,1994,1993,1992,1991,1990,1989,1988,2016,2014,2011,2010,2001,1999,1998,1996,1995,1994,1993,1992,1991,2018,2017,2016,2015,2014,2013,2012,2011,2010,2009,2008,2007,2006,2005,2004,2003,2002,2001,2000,1999,1998,1997,1996,1995,1994,1993,1992,1991,1990,1989,2017,2016,2015,2014,2013,2012,2011,2010,2009,2008,2006,2005,2004,2003,2002,2001,2000,1999,1994,1993,1992,1991,2010,2008,2006,2018,2017,2016,2015,2014,2013,2012,2011,2010,2009,2008,2007,2006,2005,2004,2003,2002,2001,2000,1999,1998,1997,1996,1995,1994,1993,1992,1991,1990,2005,2004,2018,2017,2016,2015,2014,2013,2012,2011,2010,2009,2008,2007,2006,2005,2004,2003,2002,2001,2000,1999,1998,1997,1996,1995,1994,1993,1992,1991,1990,1989,2000,2018,2017,2016,2015,2014,2013,2012,2008,2007,2005,2018,2017,2017,2015,2005,2003,2015,2010,2009,2008,2007,2006,2005,2004],\"xaxis\":\"x\",\"y\":[2656590.8,1401406.7,2049364.9,1473544.0,1142870.0,1705338.0,1695254.0,1510996.0,1567436.0,750115.0,1196925.0,1696609.0,1268720.0,1150961.0,559686.0,562884.0,444611.0,475634.0,506153.0,251261.0,957.0,7.3,3.15,2410.8,501.3,17000.0,498.0,1500.0,24036.0,1000.0,666.0,200.0,4954.0,6177.0,250.0,648.0,2270.0,6687.0,3312.0,3119.53,1159.66,668.44,1324.68,3505.0,6044.0,21296.0,15582.0,45689.0,26233.0,184.0,2270.0,312.0,3361.0,325.0,292.0,3.0,2.0,270.0,3.0,190.0,203.0,63.0,12.0,1080.0,5.0,36.0,30.0,9.0,117.0,86.0,95.0,5.0,250.0,1687.0,4.0,1124.0,132.0,222.0,1.0,81.0,32551606.9132147,27126443.0,29456813.0,31290223.0,38300959.0,48943048.0,33696004.0,38947834.0,29774175.0,21043742.0,54532146.0,39477178.0,41110885.0,42659499.0,19848650.0,15141317.0,9061063.0,21132092.0,26879010.0,21056272.0,26243548.0,36778262.0,33433397.0,31630296.0,26321488.0,34057998.0,30879022.0,1350.0,56297.0,23204.0,20800.0,23970.0,7850.0,12234.0,1560.0,19.0,765.0,20815.0,838.0,1404.0,54000.0,1062.0,306632.0,50394.0,50000.0,23230.0,443.0,10.0,199.0,347.0,179.0,212.0,831.0,1147.0,53.0,10.0,58.0,161836.0,104.0,3.0,2.0,1562.0,6038.1,2619.9,54.2,2436.0,67.0,9.0,24596.0,16000.0,25027.0,63.0,2444.0,3297.0,1.0,720.0,9.0,20929.0,1000.0,13187.0,34445343.0,24415210.0,25243612.0,14709659.0,31812574.0,13828466.0,26618459.0,20210765.0,10269848.0,8374827.0,8555499.0,6624465.0,7404600.0,4488232.0,2884546.0,2347200.0,878598.0,2957500.0,1561486.0,1422492.0,2200495.0,1120601.0,2721562.0,2296000.0,706000.0,219675.0,1243398.0,650000.0,239377416.0,226613178.0,61015954.0,53371875.0,109409560.0,30765667.0,23942574.0,19100109.0,24830620.0,27230040.0,22967978.0,19655438.0,26819215.0,30291717.0,31082783.0,23896422.0,23961680.0,25617014.0,12625020.0,8627973.0,5203622.0,797319.0,50117.0,5261.0,120783.0,476006.0,609.0,5875.0,12067010.0,7308000.0,6227880.0,6675300.0,9000000.0,9220000.0,691939.0,6298864.0,2778382.0,342929.0,160000.0,855958.0,411592.0,314937.0,167898.0,105000.0,76789.799093245,74662.0,63416.0,56951.0,15033.0,23280.0,848516.0,891518.0,1030679.0,1241239.0,1173391.0,1153296.0,878552.0,1006828.0,1023999.0,993416.0,1071302.0,617882.0,882610.0,0.0,0.0,0.0,0.0,0.0,53548240.0,58617085.0,54835927.0,63190976.0,40104609.0,31759560.0,40976217.0,51059119.0,52169315.0,44529689.0,50624712.0,28800023.0,68634612.0,62806882.0,55590010.0,56633642.0,63599855.0,49137942.0,49065456.0,49397072.0,46902186.0,43324542.0,49338681.0,49648732.0,40995431.0,36142398.0,37648492.0,46173901.0,50516133.0,47599037.0,44510044.0,40972512.0,402.0,3153.0,15562.0,14562.0,9269809.46,8343137.5,7786206.0,4575802.0,6742397.0,4890867.0,7830800.0,7395623.0,5407280.0,7285662.0,6297663.0,6608464.0,6557120.0,5285835.0,4404245.0,2517735.0,2995600.0,2367100.0,2120900.0,1872.15,1626.2,244.0,720.0,3739.0,1320.0,6425.0,27199.0,13131.0,435.0,1921.0,2155.0,1611.0,114.0,50.0,7840.0,35.0,1890.0,365.0,878.0,1422.0,863.0,430.0,192.0,13185.0,22790.0,25470.0,21520.0,26012.0,26906.0,25457.0,12607.0,24872.0,12082.0,31000.0,25000.0,13144.0,25169.0,14279.0,25621.0,12124.0,99737.0,57410.0,345489234.0,311519379.0,213841068.0,222133634.0,298524123.0,311608270.0,339009441.0,327083812.0,319440697.0,290014888.0,470884678.0,438874140.0,454237898.0,295802616.0,300508446.0,336027.0,164063102.0,81867554.0,100708000.0,59061210.0,57178608.0,37147912.0,22198464.0,39703733.0,11352976.0,2342011.0,1827226.0,1170741.0,101085.0,1256826.0,40.8,425.0,2200.0,140.0,320.0,699.0,97.0,0.0,480.0,14282.6,2452.0,21275.0,22696.0,44.0,1000.0,592.0,670.0,776.0,22000.0,5.0,8808.0,203.0,0.0,0.0,1978.0,8788.0,1500.0,8514.0,2593.0,5703.0,875.0,327.0,26.0,3275.0,9241.0,200.0,5140.0,8719.0,26030.0,18078.0,13149.0,8148.0,11439.0,12008.0,1639.0,4308.0,897.0,1113.0,2026.0,1217.0,1121.0,1334.0,524.0,3180.0,520.0,2000.0,1750.0,40.0,10.0,75.0,15000.0,83.0,522.0,1003.0,581.0,3546.0,134824.0,605657.37,0.0,635451.0,277265.0,524105.0,222968.0,149506.0,307012.0,737756.0,12700.0,142675.0,78353.0,120305.0,107056.0,1335308.0,4988971.0,7235676.0,8990898.0,6384871.0,5160888.0,6867018.0,8000540.0,10986693.0,2394.38223792037,1880.81,7158.0,73368.0,105773.0,84767.0,43991.36,10672.0,10100.0,59482.0,319321.0,12305.0,7662.0,2535.0,421.0,2875.0,4737064.98,7039669.81,5883587.0,4573101.0,5014929.0,4712489.0,3567677.0,4214779.0,4102788.0,4086707.0,1611984.0,5950417.0,5806376.0,2724298.0,3560390.0,3952008.0,3431471.0,3299976.0,2895470.0,2288890.0,2025263.0,1882171.0,1919582.0,2069769.0,2615663.0,2900104.0,2937515.0,3418636.0,3559750.0,2835338.0,1978812.0,4000.0,19000.0,25000.0,5000.0,5000.0,258876.0,1483136.0,115351.0,137863.0,427562.0,105355.0,415378.0,399299.0,0.0,83955130.68085,86457001.44,81918756.59,81071983.94,77724907.18,83966226.0,84629568.59,93444599.21,80575145.0,93916972.0,89693140.0,77834023.0,57790476.0,63914377.0,77355837.0,27336436.0,29222099.0,32784818.0,26019163.0,27925312.0,29384115.0,38953546.0,53099412.0,54684344.0,63900744.0,95381896.0,80289384.0,92444464.0,80828960.0,150809.0,223095.0,150010.0,107469.0,1955991.0,2100001.0,6605214.0,5240000.0,2127831.0,216515.0,240000.0,71.0,202.0,30000.0,130027.0,45000.0,265200.0,278667.0,163268.0,210601.0,341343.0,24937.0,25159.0,50050.0,1800.0,290015.417074,885.3788014336749,208.475829815862,15666910.0302874,17538791.0,16766651.0,21206197.0,19386776.0,21074162.0,19161514.0,20068274.0,20127826.0,19331197.0,18854548.0,20192274.0,19306371.0,15723220.0,12896810.0,13840064.0,10548503.0,10800584.0,9961386.0,11056663.0,8313702.0,3167374.0,3244062.0,3848812.0,3503893.0,1521699.0,846.0,32.0,97610159.0,103370702.0,86985229.0,84888043.0,91118757.0,82187826.0,81667042.0,77658616.0,68217442.0,58610394.0,59263920.0,67650209.0,55169462.0,66442932.0,69220979.0,60417848.0,37746262.0,37470093.0,28216710.0,27595236.0,19299968.0,17958564.0,13879548.0,15807483.0,9313608.0,7625502.0,6381574.0,6612897.0,4650603.0,3606952.0,1105.0,29534.38,24832.0,22516.69,2333.27,853.3,5318.26,20254.0,2037.0,14087.0,209341.0,3230.0,5410.0,1749.97065085186,140.0,54909.0,258.0,206.0,693.0,5300.0,912.0,7225.0,86263.0,5500.0,70200.0],\"yaxis\":\"y\"},{\"hovertemplate\":\"continent=Oceania<br>Year=%{x}<br>Quantity=%{y}<extra></extra>\",\"legendgroup\":\"Oceania\",\"line\":{\"color\":\"#FFA15A\",\"dash\":\"solid\"},\"mode\":\"lines\",\"name\":\"Oceania\",\"showlegend\":true,\"type\":\"scattergl\",\"x\":[2018,2017,2016,2015,2014,2013,2012,2011,2010,2009,2008,2007,2006,2005,2004,2003,2002,2001,2000,1999,1998,1997,1996,1995,1994,1993,1992,1991,1990,1989,1988,2009,2007,2018,2017,2015,2014,2013,2007,2005,2003,2015,2014,2013,2012,2011,2010,2009,2008,2006,2005,2003,2002,2013,2012,2011,2009,2004,2003,2013,2011,2006,2005,1999,2015,2014,2013,2012,2011,2010,2009,2008,2007,2006,2005,2004,2003,2002,2000,1999,2018,2017,2016,2015,2014,2013,2012,2011,2010,2009,2008,2007,2006,2005,2004,2003,2002,2001,2000,1999,1998,1997,1996,1995,1994,1993,1992,1991,1990,1989,2018,2016,2013,2011,2007,2012,2003,2002,2001,1998,2018,2017,2016,2015,2014,2013,2005,2002,2001,2018,2014,2012,2011,2010,2009,2008,2007,2006,2005,2004,2003,2002,2001,2000,2011,2006],\"xaxis\":\"x\",\"y\":[1116565.04841979,544303.98,665093.0,494399.0,387040.0,468031.0,322075.0,191374.0,253363.0,179608.0,154455.0,210903.0,157702.0,340261.0,116789.0,149944.0,1761528.0,215704.0,89332.0,49311.0,62642.0,45686.0,31654.0,52174.0,33374.0,34750.0,34115.0,32048.0,24396.0,32873.0,466515.0,9.0,26.0,528.0,1254.0,962.0,537.0,28.0,64.0,200.0,300.0,141.0,42.0,121.0,46.0,52.0,60.0,36.0,23.0,10.0,196.0,200.0,70.0,272.0,31.0,51.0,26.0,602.0,1.0,2.0,0.0,1.0,48.0,0.0,784.0,3984.0,3411.0,2513.0,4630.0,1053.0,1869.0,2440.0,3429.0,182.0,1050.0,2400.0,100.0,134900.0,400.0,500.0,2393619.0,1637456.0,1981017.0,2447239.0,1609195.0,1384853.0,1556424.0,1211718.45611875,1363923.0,1133089.0,1178998.0,877505.0,680677.0,488837.0,408967.0,320568.0,269071.0,201704.0,217895.0,195037.0,194260.0,209522.0,160225.0,165811.0,159420.0,186373.0,176608.0,103483.0,77589.0,87951.0,4.5,8.0,19.0,508.0,227.0,231000.0,2000.0,96880.0,1000.0,150000000.0,80.0,42.0,45.0,268.0,596.0,2.0,3585.0,945.0,17437.0,140.485296751828,60000.0,80.0,18.0,448.0,1862.0,345.0,1912.0,330.0,67.0,80.0,23.0,461.0,966.0,7073.0,98.0,10.0],\"yaxis\":\"y\"}],                        {\"legend\":{\"title\":{\"text\":\"continent\"},\"tracegroupgap\":0},\"template\":{\"data\":{\"bar\":[{\"error_x\":{\"color\":\"#2a3f5f\"},\"error_y\":{\"color\":\"#2a3f5f\"},\"marker\":{\"line\":{\"color\":\"#E5ECF6\",\"width\":0.5},\"pattern\":{\"fillmode\":\"overlay\",\"size\":10,\"solidity\":0.2}},\"type\":\"bar\"}],\"barpolar\":[{\"marker\":{\"line\":{\"color\":\"#E5ECF6\",\"width\":0.5},\"pattern\":{\"fillmode\":\"overlay\",\"size\":10,\"solidity\":0.2}},\"type\":\"barpolar\"}],\"carpet\":[{\"aaxis\":{\"endlinecolor\":\"#2a3f5f\",\"gridcolor\":\"white\",\"linecolor\":\"white\",\"minorgridcolor\":\"white\",\"startlinecolor\":\"#2a3f5f\"},\"baxis\":{\"endlinecolor\":\"#2a3f5f\",\"gridcolor\":\"white\",\"linecolor\":\"white\",\"minorgridcolor\":\"white\",\"startlinecolor\":\"#2a3f5f\"},\"type\":\"carpet\"}],\"choropleth\":[{\"colorbar\":{\"outlinewidth\":0,\"ticks\":\"\"},\"type\":\"choropleth\"}],\"contour\":[{\"colorbar\":{\"outlinewidth\":0,\"ticks\":\"\"},\"colorscale\":[[0.0,\"#0d0887\"],[0.1111111111111111,\"#46039f\"],[0.2222222222222222,\"#7201a8\"],[0.3333333333333333,\"#9c179e\"],[0.4444444444444444,\"#bd3786\"],[0.5555555555555556,\"#d8576b\"],[0.6666666666666666,\"#ed7953\"],[0.7777777777777778,\"#fb9f3a\"],[0.8888888888888888,\"#fdca26\"],[1.0,\"#f0f921\"]],\"type\":\"contour\"}],\"contourcarpet\":[{\"colorbar\":{\"outlinewidth\":0,\"ticks\":\"\"},\"type\":\"contourcarpet\"}],\"heatmap\":[{\"colorbar\":{\"outlinewidth\":0,\"ticks\":\"\"},\"colorscale\":[[0.0,\"#0d0887\"],[0.1111111111111111,\"#46039f\"],[0.2222222222222222,\"#7201a8\"],[0.3333333333333333,\"#9c179e\"],[0.4444444444444444,\"#bd3786\"],[0.5555555555555556,\"#d8576b\"],[0.6666666666666666,\"#ed7953\"],[0.7777777777777778,\"#fb9f3a\"],[0.8888888888888888,\"#fdca26\"],[1.0,\"#f0f921\"]],\"type\":\"heatmap\"}],\"heatmapgl\":[{\"colorbar\":{\"outlinewidth\":0,\"ticks\":\"\"},\"colorscale\":[[0.0,\"#0d0887\"],[0.1111111111111111,\"#46039f\"],[0.2222222222222222,\"#7201a8\"],[0.3333333333333333,\"#9c179e\"],[0.4444444444444444,\"#bd3786\"],[0.5555555555555556,\"#d8576b\"],[0.6666666666666666,\"#ed7953\"],[0.7777777777777778,\"#fb9f3a\"],[0.8888888888888888,\"#fdca26\"],[1.0,\"#f0f921\"]],\"type\":\"heatmapgl\"}],\"histogram\":[{\"marker\":{\"pattern\":{\"fillmode\":\"overlay\",\"size\":10,\"solidity\":0.2}},\"type\":\"histogram\"}],\"histogram2d\":[{\"colorbar\":{\"outlinewidth\":0,\"ticks\":\"\"},\"colorscale\":[[0.0,\"#0d0887\"],[0.1111111111111111,\"#46039f\"],[0.2222222222222222,\"#7201a8\"],[0.3333333333333333,\"#9c179e\"],[0.4444444444444444,\"#bd3786\"],[0.5555555555555556,\"#d8576b\"],[0.6666666666666666,\"#ed7953\"],[0.7777777777777778,\"#fb9f3a\"],[0.8888888888888888,\"#fdca26\"],[1.0,\"#f0f921\"]],\"type\":\"histogram2d\"}],\"histogram2dcontour\":[{\"colorbar\":{\"outlinewidth\":0,\"ticks\":\"\"},\"colorscale\":[[0.0,\"#0d0887\"],[0.1111111111111111,\"#46039f\"],[0.2222222222222222,\"#7201a8\"],[0.3333333333333333,\"#9c179e\"],[0.4444444444444444,\"#bd3786\"],[0.5555555555555556,\"#d8576b\"],[0.6666666666666666,\"#ed7953\"],[0.7777777777777778,\"#fb9f3a\"],[0.8888888888888888,\"#fdca26\"],[1.0,\"#f0f921\"]],\"type\":\"histogram2dcontour\"}],\"mesh3d\":[{\"colorbar\":{\"outlinewidth\":0,\"ticks\":\"\"},\"type\":\"mesh3d\"}],\"parcoords\":[{\"line\":{\"colorbar\":{\"outlinewidth\":0,\"ticks\":\"\"}},\"type\":\"parcoords\"}],\"pie\":[{\"automargin\":true,\"type\":\"pie\"}],\"scatter\":[{\"marker\":{\"colorbar\":{\"outlinewidth\":0,\"ticks\":\"\"}},\"type\":\"scatter\"}],\"scatter3d\":[{\"line\":{\"colorbar\":{\"outlinewidth\":0,\"ticks\":\"\"}},\"marker\":{\"colorbar\":{\"outlinewidth\":0,\"ticks\":\"\"}},\"type\":\"scatter3d\"}],\"scattercarpet\":[{\"marker\":{\"colorbar\":{\"outlinewidth\":0,\"ticks\":\"\"}},\"type\":\"scattercarpet\"}],\"scattergeo\":[{\"marker\":{\"colorbar\":{\"outlinewidth\":0,\"ticks\":\"\"}},\"type\":\"scattergeo\"}],\"scattergl\":[{\"marker\":{\"colorbar\":{\"outlinewidth\":0,\"ticks\":\"\"}},\"type\":\"scattergl\"}],\"scattermapbox\":[{\"marker\":{\"colorbar\":{\"outlinewidth\":0,\"ticks\":\"\"}},\"type\":\"scattermapbox\"}],\"scatterpolar\":[{\"marker\":{\"colorbar\":{\"outlinewidth\":0,\"ticks\":\"\"}},\"type\":\"scatterpolar\"}],\"scatterpolargl\":[{\"marker\":{\"colorbar\":{\"outlinewidth\":0,\"ticks\":\"\"}},\"type\":\"scatterpolargl\"}],\"scatterternary\":[{\"marker\":{\"colorbar\":{\"outlinewidth\":0,\"ticks\":\"\"}},\"type\":\"scatterternary\"}],\"surface\":[{\"colorbar\":{\"outlinewidth\":0,\"ticks\":\"\"},\"colorscale\":[[0.0,\"#0d0887\"],[0.1111111111111111,\"#46039f\"],[0.2222222222222222,\"#7201a8\"],[0.3333333333333333,\"#9c179e\"],[0.4444444444444444,\"#bd3786\"],[0.5555555555555556,\"#d8576b\"],[0.6666666666666666,\"#ed7953\"],[0.7777777777777778,\"#fb9f3a\"],[0.8888888888888888,\"#fdca26\"],[1.0,\"#f0f921\"]],\"type\":\"surface\"}],\"table\":[{\"cells\":{\"fill\":{\"color\":\"#EBF0F8\"},\"line\":{\"color\":\"white\"}},\"header\":{\"fill\":{\"color\":\"#C8D4E3\"},\"line\":{\"color\":\"white\"}},\"type\":\"table\"}]},\"layout\":{\"annotationdefaults\":{\"arrowcolor\":\"#2a3f5f\",\"arrowhead\":0,\"arrowwidth\":1},\"autotypenumbers\":\"strict\",\"coloraxis\":{\"colorbar\":{\"outlinewidth\":0,\"ticks\":\"\"}},\"colorscale\":{\"diverging\":[[0,\"#8e0152\"],[0.1,\"#c51b7d\"],[0.2,\"#de77ae\"],[0.3,\"#f1b6da\"],[0.4,\"#fde0ef\"],[0.5,\"#f7f7f7\"],[0.6,\"#e6f5d0\"],[0.7,\"#b8e186\"],[0.8,\"#7fbc41\"],[0.9,\"#4d9221\"],[1,\"#276419\"]],\"sequential\":[[0.0,\"#0d0887\"],[0.1111111111111111,\"#46039f\"],[0.2222222222222222,\"#7201a8\"],[0.3333333333333333,\"#9c179e\"],[0.4444444444444444,\"#bd3786\"],[0.5555555555555556,\"#d8576b\"],[0.6666666666666666,\"#ed7953\"],[0.7777777777777778,\"#fb9f3a\"],[0.8888888888888888,\"#fdca26\"],[1.0,\"#f0f921\"]],\"sequentialminus\":[[0.0,\"#0d0887\"],[0.1111111111111111,\"#46039f\"],[0.2222222222222222,\"#7201a8\"],[0.3333333333333333,\"#9c179e\"],[0.4444444444444444,\"#bd3786\"],[0.5555555555555556,\"#d8576b\"],[0.6666666666666666,\"#ed7953\"],[0.7777777777777778,\"#fb9f3a\"],[0.8888888888888888,\"#fdca26\"],[1.0,\"#f0f921\"]]},\"colorway\":[\"#636efa\",\"#EF553B\",\"#00cc96\",\"#ab63fa\",\"#FFA15A\",\"#19d3f3\",\"#FF6692\",\"#B6E880\",\"#FF97FF\",\"#FECB52\"],\"font\":{\"color\":\"#2a3f5f\"},\"geo\":{\"bgcolor\":\"white\",\"lakecolor\":\"white\",\"landcolor\":\"#E5ECF6\",\"showlakes\":true,\"showland\":true,\"subunitcolor\":\"white\"},\"hoverlabel\":{\"align\":\"left\"},\"hovermode\":\"closest\",\"mapbox\":{\"style\":\"light\"},\"paper_bgcolor\":\"white\",\"plot_bgcolor\":\"#E5ECF6\",\"polar\":{\"angularaxis\":{\"gridcolor\":\"white\",\"linecolor\":\"white\",\"ticks\":\"\"},\"bgcolor\":\"#E5ECF6\",\"radialaxis\":{\"gridcolor\":\"white\",\"linecolor\":\"white\",\"ticks\":\"\"}},\"scene\":{\"xaxis\":{\"backgroundcolor\":\"#E5ECF6\",\"gridcolor\":\"white\",\"gridwidth\":2,\"linecolor\":\"white\",\"showbackground\":true,\"ticks\":\"\",\"zerolinecolor\":\"white\"},\"yaxis\":{\"backgroundcolor\":\"#E5ECF6\",\"gridcolor\":\"white\",\"gridwidth\":2,\"linecolor\":\"white\",\"showbackground\":true,\"ticks\":\"\",\"zerolinecolor\":\"white\"},\"zaxis\":{\"backgroundcolor\":\"#E5ECF6\",\"gridcolor\":\"white\",\"gridwidth\":2,\"linecolor\":\"white\",\"showbackground\":true,\"ticks\":\"\",\"zerolinecolor\":\"white\"}},\"shapedefaults\":{\"line\":{\"color\":\"#2a3f5f\"}},\"ternary\":{\"aaxis\":{\"gridcolor\":\"white\",\"linecolor\":\"white\",\"ticks\":\"\"},\"baxis\":{\"gridcolor\":\"white\",\"linecolor\":\"white\",\"ticks\":\"\"},\"bgcolor\":\"#E5ECF6\",\"caxis\":{\"gridcolor\":\"white\",\"linecolor\":\"white\",\"ticks\":\"\"}},\"title\":{\"x\":0.05},\"xaxis\":{\"automargin\":true,\"gridcolor\":\"white\",\"linecolor\":\"white\",\"ticks\":\"\",\"title\":{\"standoff\":15},\"zerolinecolor\":\"white\",\"zerolinewidth\":2},\"yaxis\":{\"automargin\":true,\"gridcolor\":\"white\",\"linecolor\":\"white\",\"ticks\":\"\",\"title\":{\"standoff\":15},\"zerolinecolor\":\"white\",\"zerolinewidth\":2}}},\"title\":{\"text\":\"Chocolate Imports by Country/Area from 1988 to 2019\"},\"xaxis\":{\"anchor\":\"y\",\"domain\":[0.0,1.0],\"title\":{\"text\":\"Year\"}},\"yaxis\":{\"anchor\":\"x\",\"domain\":[0.0,1.0],\"title\":{\"text\":\"Quantity\"}}},                        {\"responsive\": true}                    ).then(function(){\n",
       "                            \n",
       "var gd = document.getElementById('55716534-5d34-478b-af4c-bc109404204a');\n",
       "var x = new MutationObserver(function (mutations, observer) {{\n",
       "        var display = window.getComputedStyle(gd).display;\n",
       "        if (!display || display === 'none') {{\n",
       "            console.log([gd, 'removed!']);\n",
       "            Plotly.purge(gd);\n",
       "            observer.disconnect();\n",
       "        }}\n",
       "}});\n",
       "\n",
       "// Listen for the removal of the full notebook cells\n",
       "var notebookContainer = gd.closest('#notebook-container');\n",
       "if (notebookContainer) {{\n",
       "    x.observe(notebookContainer, {childList: true});\n",
       "}}\n",
       "\n",
       "// Listen for the clearing of the current output cell\n",
       "var outputEl = gd.closest('.output');\n",
       "if (outputEl) {{\n",
       "    x.observe(outputEl, {childList: true});\n",
       "}}\n",
       "\n",
       "                        })                };                });            </script>        </div>"
      ]
     },
     "metadata": {},
     "output_type": "display_data"
    }
   ],
   "source": [
    "impline = px.line(imports, x=\"Year\", y=\"Quantity\", color='continent',title='Chocolate Imports by Country/Area from 1988 to 2019')\n",
    "impline.show()"
   ]
  },
  {
   "cell_type": "code",
   "execution_count": null,
   "metadata": {},
   "outputs": [],
   "source": []
  },
  {
   "cell_type": "code",
   "execution_count": null,
   "metadata": {},
   "outputs": [],
   "source": []
  },
  {
   "cell_type": "code",
   "execution_count": null,
   "metadata": {},
   "outputs": [],
   "source": []
  },
  {
   "cell_type": "code",
   "execution_count": 109,
   "metadata": {},
   "outputs": [
    {
     "data": {
      "text/html": [
       "<iframe\n",
       "    scrolling=\"no\"\n",
       "    width=\"100%\"\n",
       "    height=\"545px\"\n",
       "    src=\"iframe_figures/figure_109.html\"\n",
       "    frameborder=\"0\"\n",
       "    allowfullscreen\n",
       "></iframe>\n"
      ]
     },
     "metadata": {},
     "output_type": "display_data"
    }
   ],
   "source": [
    "fig3 = px.sunburst(imports,path =['continent','region'],\n",
    "                   values = 'Quantity',color  = 'continent')\n",
    "fig3.show(renderer='iframe')"
   ]
  },
  {
   "cell_type": "code",
   "execution_count": 100,
   "metadata": {
    "scrolled": true
   },
   "outputs": [
    {
     "data": {
      "application/vnd.plotly.v1+json": {
       "config": {
        "plotlyServerURL": "https://plot.ly"
       },
       "data": [
        {
         "branchvalues": "total",
         "domain": {
          "x": [
           0,
           0.45
          ],
          "y": [
           0,
           1
          ]
         },
         "hovertemplate": "<b>%{label} </b> <br> Sales: %{value}<br> Success rate: %{color:.2f}",
         "labels": [],
         "marker": {
          "colors": [],
          "colorscale": [
           [
            0,
            "rgb(103,0,31)"
           ],
           [
            0.1,
            "rgb(178,24,43)"
           ],
           [
            0.2,
            "rgb(214,96,77)"
           ],
           [
            0.3,
            "rgb(244,165,130)"
           ],
           [
            0.4,
            "rgb(253,219,199)"
           ],
           [
            0.5,
            "rgb(247,247,247)"
           ],
           [
            0.6,
            "rgb(209,229,240)"
           ],
           [
            0.7,
            "rgb(146,197,222)"
           ],
           [
            0.8,
            "rgb(67,147,195)"
           ],
           [
            0.9,
            "rgb(33,102,172)"
           ],
           [
            1,
            "rgb(5,48,97)"
           ]
          ]
         },
         "name": "",
         "parents": [],
         "type": "treemap",
         "values": []
        },
        {
         "branchvalues": "total",
         "domain": {
          "x": [
           0.55,
           1
          ],
          "y": [
           0,
           1
          ]
         },
         "hovertemplate": "<b>%{label} </b> <br> Sales: %{value}<br> Success rate: %{color:.2f}",
         "labels": [],
         "marker": {
          "colors": [],
          "colorscale": [
           [
            0,
            "rgb(103,0,31)"
           ],
           [
            0.1,
            "rgb(178,24,43)"
           ],
           [
            0.2,
            "rgb(214,96,77)"
           ],
           [
            0.3,
            "rgb(244,165,130)"
           ],
           [
            0.4,
            "rgb(253,219,199)"
           ],
           [
            0.5,
            "rgb(247,247,247)"
           ],
           [
            0.6,
            "rgb(209,229,240)"
           ],
           [
            0.7,
            "rgb(146,197,222)"
           ],
           [
            0.8,
            "rgb(67,147,195)"
           ],
           [
            0.9,
            "rgb(33,102,172)"
           ],
           [
            1,
            "rgb(5,48,97)"
           ]
          ]
         },
         "maxdepth": 2,
         "parents": [],
         "type": "treemap",
         "values": []
        }
       ],
       "layout": {
        "margin": {
         "b": 25,
         "l": 25,
         "r": 25,
         "t": 50
        },
        "template": {
         "data": {
          "bar": [
           {
            "error_x": {
             "color": "#2a3f5f"
            },
            "error_y": {
             "color": "#2a3f5f"
            },
            "marker": {
             "line": {
              "color": "#E5ECF6",
              "width": 0.5
             },
             "pattern": {
              "fillmode": "overlay",
              "size": 10,
              "solidity": 0.2
             }
            },
            "type": "bar"
           }
          ],
          "barpolar": [
           {
            "marker": {
             "line": {
              "color": "#E5ECF6",
              "width": 0.5
             },
             "pattern": {
              "fillmode": "overlay",
              "size": 10,
              "solidity": 0.2
             }
            },
            "type": "barpolar"
           }
          ],
          "carpet": [
           {
            "aaxis": {
             "endlinecolor": "#2a3f5f",
             "gridcolor": "white",
             "linecolor": "white",
             "minorgridcolor": "white",
             "startlinecolor": "#2a3f5f"
            },
            "baxis": {
             "endlinecolor": "#2a3f5f",
             "gridcolor": "white",
             "linecolor": "white",
             "minorgridcolor": "white",
             "startlinecolor": "#2a3f5f"
            },
            "type": "carpet"
           }
          ],
          "choropleth": [
           {
            "colorbar": {
             "outlinewidth": 0,
             "ticks": ""
            },
            "type": "choropleth"
           }
          ],
          "contour": [
           {
            "colorbar": {
             "outlinewidth": 0,
             "ticks": ""
            },
            "colorscale": [
             [
              0,
              "#0d0887"
             ],
             [
              0.1111111111111111,
              "#46039f"
             ],
             [
              0.2222222222222222,
              "#7201a8"
             ],
             [
              0.3333333333333333,
              "#9c179e"
             ],
             [
              0.4444444444444444,
              "#bd3786"
             ],
             [
              0.5555555555555556,
              "#d8576b"
             ],
             [
              0.6666666666666666,
              "#ed7953"
             ],
             [
              0.7777777777777778,
              "#fb9f3a"
             ],
             [
              0.8888888888888888,
              "#fdca26"
             ],
             [
              1,
              "#f0f921"
             ]
            ],
            "type": "contour"
           }
          ],
          "contourcarpet": [
           {
            "colorbar": {
             "outlinewidth": 0,
             "ticks": ""
            },
            "type": "contourcarpet"
           }
          ],
          "heatmap": [
           {
            "colorbar": {
             "outlinewidth": 0,
             "ticks": ""
            },
            "colorscale": [
             [
              0,
              "#0d0887"
             ],
             [
              0.1111111111111111,
              "#46039f"
             ],
             [
              0.2222222222222222,
              "#7201a8"
             ],
             [
              0.3333333333333333,
              "#9c179e"
             ],
             [
              0.4444444444444444,
              "#bd3786"
             ],
             [
              0.5555555555555556,
              "#d8576b"
             ],
             [
              0.6666666666666666,
              "#ed7953"
             ],
             [
              0.7777777777777778,
              "#fb9f3a"
             ],
             [
              0.8888888888888888,
              "#fdca26"
             ],
             [
              1,
              "#f0f921"
             ]
            ],
            "type": "heatmap"
           }
          ],
          "heatmapgl": [
           {
            "colorbar": {
             "outlinewidth": 0,
             "ticks": ""
            },
            "colorscale": [
             [
              0,
              "#0d0887"
             ],
             [
              0.1111111111111111,
              "#46039f"
             ],
             [
              0.2222222222222222,
              "#7201a8"
             ],
             [
              0.3333333333333333,
              "#9c179e"
             ],
             [
              0.4444444444444444,
              "#bd3786"
             ],
             [
              0.5555555555555556,
              "#d8576b"
             ],
             [
              0.6666666666666666,
              "#ed7953"
             ],
             [
              0.7777777777777778,
              "#fb9f3a"
             ],
             [
              0.8888888888888888,
              "#fdca26"
             ],
             [
              1,
              "#f0f921"
             ]
            ],
            "type": "heatmapgl"
           }
          ],
          "histogram": [
           {
            "marker": {
             "pattern": {
              "fillmode": "overlay",
              "size": 10,
              "solidity": 0.2
             }
            },
            "type": "histogram"
           }
          ],
          "histogram2d": [
           {
            "colorbar": {
             "outlinewidth": 0,
             "ticks": ""
            },
            "colorscale": [
             [
              0,
              "#0d0887"
             ],
             [
              0.1111111111111111,
              "#46039f"
             ],
             [
              0.2222222222222222,
              "#7201a8"
             ],
             [
              0.3333333333333333,
              "#9c179e"
             ],
             [
              0.4444444444444444,
              "#bd3786"
             ],
             [
              0.5555555555555556,
              "#d8576b"
             ],
             [
              0.6666666666666666,
              "#ed7953"
             ],
             [
              0.7777777777777778,
              "#fb9f3a"
             ],
             [
              0.8888888888888888,
              "#fdca26"
             ],
             [
              1,
              "#f0f921"
             ]
            ],
            "type": "histogram2d"
           }
          ],
          "histogram2dcontour": [
           {
            "colorbar": {
             "outlinewidth": 0,
             "ticks": ""
            },
            "colorscale": [
             [
              0,
              "#0d0887"
             ],
             [
              0.1111111111111111,
              "#46039f"
             ],
             [
              0.2222222222222222,
              "#7201a8"
             ],
             [
              0.3333333333333333,
              "#9c179e"
             ],
             [
              0.4444444444444444,
              "#bd3786"
             ],
             [
              0.5555555555555556,
              "#d8576b"
             ],
             [
              0.6666666666666666,
              "#ed7953"
             ],
             [
              0.7777777777777778,
              "#fb9f3a"
             ],
             [
              0.8888888888888888,
              "#fdca26"
             ],
             [
              1,
              "#f0f921"
             ]
            ],
            "type": "histogram2dcontour"
           }
          ],
          "mesh3d": [
           {
            "colorbar": {
             "outlinewidth": 0,
             "ticks": ""
            },
            "type": "mesh3d"
           }
          ],
          "parcoords": [
           {
            "line": {
             "colorbar": {
              "outlinewidth": 0,
              "ticks": ""
             }
            },
            "type": "parcoords"
           }
          ],
          "pie": [
           {
            "automargin": true,
            "type": "pie"
           }
          ],
          "scatter": [
           {
            "marker": {
             "colorbar": {
              "outlinewidth": 0,
              "ticks": ""
             }
            },
            "type": "scatter"
           }
          ],
          "scatter3d": [
           {
            "line": {
             "colorbar": {
              "outlinewidth": 0,
              "ticks": ""
             }
            },
            "marker": {
             "colorbar": {
              "outlinewidth": 0,
              "ticks": ""
             }
            },
            "type": "scatter3d"
           }
          ],
          "scattercarpet": [
           {
            "marker": {
             "colorbar": {
              "outlinewidth": 0,
              "ticks": ""
             }
            },
            "type": "scattercarpet"
           }
          ],
          "scattergeo": [
           {
            "marker": {
             "colorbar": {
              "outlinewidth": 0,
              "ticks": ""
             }
            },
            "type": "scattergeo"
           }
          ],
          "scattergl": [
           {
            "marker": {
             "colorbar": {
              "outlinewidth": 0,
              "ticks": ""
             }
            },
            "type": "scattergl"
           }
          ],
          "scattermapbox": [
           {
            "marker": {
             "colorbar": {
              "outlinewidth": 0,
              "ticks": ""
             }
            },
            "type": "scattermapbox"
           }
          ],
          "scatterpolar": [
           {
            "marker": {
             "colorbar": {
              "outlinewidth": 0,
              "ticks": ""
             }
            },
            "type": "scatterpolar"
           }
          ],
          "scatterpolargl": [
           {
            "marker": {
             "colorbar": {
              "outlinewidth": 0,
              "ticks": ""
             }
            },
            "type": "scatterpolargl"
           }
          ],
          "scatterternary": [
           {
            "marker": {
             "colorbar": {
              "outlinewidth": 0,
              "ticks": ""
             }
            },
            "type": "scatterternary"
           }
          ],
          "surface": [
           {
            "colorbar": {
             "outlinewidth": 0,
             "ticks": ""
            },
            "colorscale": [
             [
              0,
              "#0d0887"
             ],
             [
              0.1111111111111111,
              "#46039f"
             ],
             [
              0.2222222222222222,
              "#7201a8"
             ],
             [
              0.3333333333333333,
              "#9c179e"
             ],
             [
              0.4444444444444444,
              "#bd3786"
             ],
             [
              0.5555555555555556,
              "#d8576b"
             ],
             [
              0.6666666666666666,
              "#ed7953"
             ],
             [
              0.7777777777777778,
              "#fb9f3a"
             ],
             [
              0.8888888888888888,
              "#fdca26"
             ],
             [
              1,
              "#f0f921"
             ]
            ],
            "type": "surface"
           }
          ],
          "table": [
           {
            "cells": {
             "fill": {
              "color": "#EBF0F8"
             },
             "line": {
              "color": "white"
             }
            },
            "header": {
             "fill": {
              "color": "#C8D4E3"
             },
             "line": {
              "color": "white"
             }
            },
            "type": "table"
           }
          ]
         },
         "layout": {
          "annotationdefaults": {
           "arrowcolor": "#2a3f5f",
           "arrowhead": 0,
           "arrowwidth": 1
          },
          "autotypenumbers": "strict",
          "coloraxis": {
           "colorbar": {
            "outlinewidth": 0,
            "ticks": ""
           }
          },
          "colorscale": {
           "diverging": [
            [
             0,
             "#8e0152"
            ],
            [
             0.1,
             "#c51b7d"
            ],
            [
             0.2,
             "#de77ae"
            ],
            [
             0.3,
             "#f1b6da"
            ],
            [
             0.4,
             "#fde0ef"
            ],
            [
             0.5,
             "#f7f7f7"
            ],
            [
             0.6,
             "#e6f5d0"
            ],
            [
             0.7,
             "#b8e186"
            ],
            [
             0.8,
             "#7fbc41"
            ],
            [
             0.9,
             "#4d9221"
            ],
            [
             1,
             "#276419"
            ]
           ],
           "sequential": [
            [
             0,
             "#0d0887"
            ],
            [
             0.1111111111111111,
             "#46039f"
            ],
            [
             0.2222222222222222,
             "#7201a8"
            ],
            [
             0.3333333333333333,
             "#9c179e"
            ],
            [
             0.4444444444444444,
             "#bd3786"
            ],
            [
             0.5555555555555556,
             "#d8576b"
            ],
            [
             0.6666666666666666,
             "#ed7953"
            ],
            [
             0.7777777777777778,
             "#fb9f3a"
            ],
            [
             0.8888888888888888,
             "#fdca26"
            ],
            [
             1,
             "#f0f921"
            ]
           ],
           "sequentialminus": [
            [
             0,
             "#0d0887"
            ],
            [
             0.1111111111111111,
             "#46039f"
            ],
            [
             0.2222222222222222,
             "#7201a8"
            ],
            [
             0.3333333333333333,
             "#9c179e"
            ],
            [
             0.4444444444444444,
             "#bd3786"
            ],
            [
             0.5555555555555556,
             "#d8576b"
            ],
            [
             0.6666666666666666,
             "#ed7953"
            ],
            [
             0.7777777777777778,
             "#fb9f3a"
            ],
            [
             0.8888888888888888,
             "#fdca26"
            ],
            [
             1,
             "#f0f921"
            ]
           ]
          },
          "colorway": [
           "#636efa",
           "#EF553B",
           "#00cc96",
           "#ab63fa",
           "#FFA15A",
           "#19d3f3",
           "#FF6692",
           "#B6E880",
           "#FF97FF",
           "#FECB52"
          ],
          "font": {
           "color": "#2a3f5f"
          },
          "geo": {
           "bgcolor": "white",
           "lakecolor": "white",
           "landcolor": "#E5ECF6",
           "showlakes": true,
           "showland": true,
           "subunitcolor": "white"
          },
          "hoverlabel": {
           "align": "left"
          },
          "hovermode": "closest",
          "mapbox": {
           "style": "light"
          },
          "paper_bgcolor": "white",
          "plot_bgcolor": "#E5ECF6",
          "polar": {
           "angularaxis": {
            "gridcolor": "white",
            "linecolor": "white",
            "ticks": ""
           },
           "bgcolor": "#E5ECF6",
           "radialaxis": {
            "gridcolor": "white",
            "linecolor": "white",
            "ticks": ""
           }
          },
          "scene": {
           "xaxis": {
            "backgroundcolor": "#E5ECF6",
            "gridcolor": "white",
            "gridwidth": 2,
            "linecolor": "white",
            "showbackground": true,
            "ticks": "",
            "zerolinecolor": "white"
           },
           "yaxis": {
            "backgroundcolor": "#E5ECF6",
            "gridcolor": "white",
            "gridwidth": 2,
            "linecolor": "white",
            "showbackground": true,
            "ticks": "",
            "zerolinecolor": "white"
           },
           "zaxis": {
            "backgroundcolor": "#E5ECF6",
            "gridcolor": "white",
            "gridwidth": 2,
            "linecolor": "white",
            "showbackground": true,
            "ticks": "",
            "zerolinecolor": "white"
           }
          },
          "shapedefaults": {
           "line": {
            "color": "#2a3f5f"
           }
          },
          "ternary": {
           "aaxis": {
            "gridcolor": "white",
            "linecolor": "white",
            "ticks": ""
           },
           "baxis": {
            "gridcolor": "white",
            "linecolor": "white",
            "ticks": ""
           },
           "bgcolor": "#E5ECF6",
           "caxis": {
            "gridcolor": "white",
            "linecolor": "white",
            "ticks": ""
           }
          },
          "title": {
           "x": 0.05
          },
          "xaxis": {
           "automargin": true,
           "gridcolor": "white",
           "linecolor": "white",
           "ticks": "",
           "title": {
            "standoff": 15
           },
           "zerolinecolor": "white",
           "zerolinewidth": 2
          },
          "yaxis": {
           "automargin": true,
           "gridcolor": "white",
           "linecolor": "white",
           "ticks": "",
           "title": {
            "standoff": 15
           },
           "zerolinecolor": "white",
           "zerolinewidth": 2
          }
         }
        }
       }
      },
      "text/html": [
       "<div>                            <div id=\"6d1bd9df-aec8-4810-aa6c-7f67bf1057c3\" class=\"plotly-graph-div\" style=\"height:525px; width:100%;\"></div>            <script type=\"text/javascript\">                require([\"plotly\"], function(Plotly) {                    window.PLOTLYENV=window.PLOTLYENV || {};                                    if (document.getElementById(\"6d1bd9df-aec8-4810-aa6c-7f67bf1057c3\")) {                    Plotly.newPlot(                        \"6d1bd9df-aec8-4810-aa6c-7f67bf1057c3\",                        [{\"branchvalues\":\"total\",\"domain\":{\"x\":[0.0,0.45],\"y\":[0.0,1.0]},\"hovertemplate\":\"<b>%{label} </b> <br> Sales: %{value}<br> Success rate: %{color:.2f}\",\"labels\":[],\"marker\":{\"colors\":[],\"colorscale\":[[0.0,\"rgb(103,0,31)\"],[0.1,\"rgb(178,24,43)\"],[0.2,\"rgb(214,96,77)\"],[0.3,\"rgb(244,165,130)\"],[0.4,\"rgb(253,219,199)\"],[0.5,\"rgb(247,247,247)\"],[0.6,\"rgb(209,229,240)\"],[0.7,\"rgb(146,197,222)\"],[0.8,\"rgb(67,147,195)\"],[0.9,\"rgb(33,102,172)\"],[1.0,\"rgb(5,48,97)\"]]},\"name\":\"\",\"parents\":[],\"type\":\"treemap\",\"values\":[]},{\"branchvalues\":\"total\",\"domain\":{\"x\":[0.55,1.0],\"y\":[0.0,1.0]},\"hovertemplate\":\"<b>%{label} </b> <br> Sales: %{value}<br> Success rate: %{color:.2f}\",\"labels\":[],\"marker\":{\"colors\":[],\"colorscale\":[[0.0,\"rgb(103,0,31)\"],[0.1,\"rgb(178,24,43)\"],[0.2,\"rgb(214,96,77)\"],[0.3,\"rgb(244,165,130)\"],[0.4,\"rgb(253,219,199)\"],[0.5,\"rgb(247,247,247)\"],[0.6,\"rgb(209,229,240)\"],[0.7,\"rgb(146,197,222)\"],[0.8,\"rgb(67,147,195)\"],[0.9,\"rgb(33,102,172)\"],[1.0,\"rgb(5,48,97)\"]]},\"maxdepth\":2,\"parents\":[],\"type\":\"treemap\",\"values\":[]}],                        {\"margin\":{\"b\":25,\"l\":25,\"r\":25,\"t\":50},\"template\":{\"data\":{\"bar\":[{\"error_x\":{\"color\":\"#2a3f5f\"},\"error_y\":{\"color\":\"#2a3f5f\"},\"marker\":{\"line\":{\"color\":\"#E5ECF6\",\"width\":0.5},\"pattern\":{\"fillmode\":\"overlay\",\"size\":10,\"solidity\":0.2}},\"type\":\"bar\"}],\"barpolar\":[{\"marker\":{\"line\":{\"color\":\"#E5ECF6\",\"width\":0.5},\"pattern\":{\"fillmode\":\"overlay\",\"size\":10,\"solidity\":0.2}},\"type\":\"barpolar\"}],\"carpet\":[{\"aaxis\":{\"endlinecolor\":\"#2a3f5f\",\"gridcolor\":\"white\",\"linecolor\":\"white\",\"minorgridcolor\":\"white\",\"startlinecolor\":\"#2a3f5f\"},\"baxis\":{\"endlinecolor\":\"#2a3f5f\",\"gridcolor\":\"white\",\"linecolor\":\"white\",\"minorgridcolor\":\"white\",\"startlinecolor\":\"#2a3f5f\"},\"type\":\"carpet\"}],\"choropleth\":[{\"colorbar\":{\"outlinewidth\":0,\"ticks\":\"\"},\"type\":\"choropleth\"}],\"contour\":[{\"colorbar\":{\"outlinewidth\":0,\"ticks\":\"\"},\"colorscale\":[[0.0,\"#0d0887\"],[0.1111111111111111,\"#46039f\"],[0.2222222222222222,\"#7201a8\"],[0.3333333333333333,\"#9c179e\"],[0.4444444444444444,\"#bd3786\"],[0.5555555555555556,\"#d8576b\"],[0.6666666666666666,\"#ed7953\"],[0.7777777777777778,\"#fb9f3a\"],[0.8888888888888888,\"#fdca26\"],[1.0,\"#f0f921\"]],\"type\":\"contour\"}],\"contourcarpet\":[{\"colorbar\":{\"outlinewidth\":0,\"ticks\":\"\"},\"type\":\"contourcarpet\"}],\"heatmap\":[{\"colorbar\":{\"outlinewidth\":0,\"ticks\":\"\"},\"colorscale\":[[0.0,\"#0d0887\"],[0.1111111111111111,\"#46039f\"],[0.2222222222222222,\"#7201a8\"],[0.3333333333333333,\"#9c179e\"],[0.4444444444444444,\"#bd3786\"],[0.5555555555555556,\"#d8576b\"],[0.6666666666666666,\"#ed7953\"],[0.7777777777777778,\"#fb9f3a\"],[0.8888888888888888,\"#fdca26\"],[1.0,\"#f0f921\"]],\"type\":\"heatmap\"}],\"heatmapgl\":[{\"colorbar\":{\"outlinewidth\":0,\"ticks\":\"\"},\"colorscale\":[[0.0,\"#0d0887\"],[0.1111111111111111,\"#46039f\"],[0.2222222222222222,\"#7201a8\"],[0.3333333333333333,\"#9c179e\"],[0.4444444444444444,\"#bd3786\"],[0.5555555555555556,\"#d8576b\"],[0.6666666666666666,\"#ed7953\"],[0.7777777777777778,\"#fb9f3a\"],[0.8888888888888888,\"#fdca26\"],[1.0,\"#f0f921\"]],\"type\":\"heatmapgl\"}],\"histogram\":[{\"marker\":{\"pattern\":{\"fillmode\":\"overlay\",\"size\":10,\"solidity\":0.2}},\"type\":\"histogram\"}],\"histogram2d\":[{\"colorbar\":{\"outlinewidth\":0,\"ticks\":\"\"},\"colorscale\":[[0.0,\"#0d0887\"],[0.1111111111111111,\"#46039f\"],[0.2222222222222222,\"#7201a8\"],[0.3333333333333333,\"#9c179e\"],[0.4444444444444444,\"#bd3786\"],[0.5555555555555556,\"#d8576b\"],[0.6666666666666666,\"#ed7953\"],[0.7777777777777778,\"#fb9f3a\"],[0.8888888888888888,\"#fdca26\"],[1.0,\"#f0f921\"]],\"type\":\"histogram2d\"}],\"histogram2dcontour\":[{\"colorbar\":{\"outlinewidth\":0,\"ticks\":\"\"},\"colorscale\":[[0.0,\"#0d0887\"],[0.1111111111111111,\"#46039f\"],[0.2222222222222222,\"#7201a8\"],[0.3333333333333333,\"#9c179e\"],[0.4444444444444444,\"#bd3786\"],[0.5555555555555556,\"#d8576b\"],[0.6666666666666666,\"#ed7953\"],[0.7777777777777778,\"#fb9f3a\"],[0.8888888888888888,\"#fdca26\"],[1.0,\"#f0f921\"]],\"type\":\"histogram2dcontour\"}],\"mesh3d\":[{\"colorbar\":{\"outlinewidth\":0,\"ticks\":\"\"},\"type\":\"mesh3d\"}],\"parcoords\":[{\"line\":{\"colorbar\":{\"outlinewidth\":0,\"ticks\":\"\"}},\"type\":\"parcoords\"}],\"pie\":[{\"automargin\":true,\"type\":\"pie\"}],\"scatter\":[{\"marker\":{\"colorbar\":{\"outlinewidth\":0,\"ticks\":\"\"}},\"type\":\"scatter\"}],\"scatter3d\":[{\"line\":{\"colorbar\":{\"outlinewidth\":0,\"ticks\":\"\"}},\"marker\":{\"colorbar\":{\"outlinewidth\":0,\"ticks\":\"\"}},\"type\":\"scatter3d\"}],\"scattercarpet\":[{\"marker\":{\"colorbar\":{\"outlinewidth\":0,\"ticks\":\"\"}},\"type\":\"scattercarpet\"}],\"scattergeo\":[{\"marker\":{\"colorbar\":{\"outlinewidth\":0,\"ticks\":\"\"}},\"type\":\"scattergeo\"}],\"scattergl\":[{\"marker\":{\"colorbar\":{\"outlinewidth\":0,\"ticks\":\"\"}},\"type\":\"scattergl\"}],\"scattermapbox\":[{\"marker\":{\"colorbar\":{\"outlinewidth\":0,\"ticks\":\"\"}},\"type\":\"scattermapbox\"}],\"scatterpolar\":[{\"marker\":{\"colorbar\":{\"outlinewidth\":0,\"ticks\":\"\"}},\"type\":\"scatterpolar\"}],\"scatterpolargl\":[{\"marker\":{\"colorbar\":{\"outlinewidth\":0,\"ticks\":\"\"}},\"type\":\"scatterpolargl\"}],\"scatterternary\":[{\"marker\":{\"colorbar\":{\"outlinewidth\":0,\"ticks\":\"\"}},\"type\":\"scatterternary\"}],\"surface\":[{\"colorbar\":{\"outlinewidth\":0,\"ticks\":\"\"},\"colorscale\":[[0.0,\"#0d0887\"],[0.1111111111111111,\"#46039f\"],[0.2222222222222222,\"#7201a8\"],[0.3333333333333333,\"#9c179e\"],[0.4444444444444444,\"#bd3786\"],[0.5555555555555556,\"#d8576b\"],[0.6666666666666666,\"#ed7953\"],[0.7777777777777778,\"#fb9f3a\"],[0.8888888888888888,\"#fdca26\"],[1.0,\"#f0f921\"]],\"type\":\"surface\"}],\"table\":[{\"cells\":{\"fill\":{\"color\":\"#EBF0F8\"},\"line\":{\"color\":\"white\"}},\"header\":{\"fill\":{\"color\":\"#C8D4E3\"},\"line\":{\"color\":\"white\"}},\"type\":\"table\"}]},\"layout\":{\"annotationdefaults\":{\"arrowcolor\":\"#2a3f5f\",\"arrowhead\":0,\"arrowwidth\":1},\"autotypenumbers\":\"strict\",\"coloraxis\":{\"colorbar\":{\"outlinewidth\":0,\"ticks\":\"\"}},\"colorscale\":{\"diverging\":[[0,\"#8e0152\"],[0.1,\"#c51b7d\"],[0.2,\"#de77ae\"],[0.3,\"#f1b6da\"],[0.4,\"#fde0ef\"],[0.5,\"#f7f7f7\"],[0.6,\"#e6f5d0\"],[0.7,\"#b8e186\"],[0.8,\"#7fbc41\"],[0.9,\"#4d9221\"],[1,\"#276419\"]],\"sequential\":[[0.0,\"#0d0887\"],[0.1111111111111111,\"#46039f\"],[0.2222222222222222,\"#7201a8\"],[0.3333333333333333,\"#9c179e\"],[0.4444444444444444,\"#bd3786\"],[0.5555555555555556,\"#d8576b\"],[0.6666666666666666,\"#ed7953\"],[0.7777777777777778,\"#fb9f3a\"],[0.8888888888888888,\"#fdca26\"],[1.0,\"#f0f921\"]],\"sequentialminus\":[[0.0,\"#0d0887\"],[0.1111111111111111,\"#46039f\"],[0.2222222222222222,\"#7201a8\"],[0.3333333333333333,\"#9c179e\"],[0.4444444444444444,\"#bd3786\"],[0.5555555555555556,\"#d8576b\"],[0.6666666666666666,\"#ed7953\"],[0.7777777777777778,\"#fb9f3a\"],[0.8888888888888888,\"#fdca26\"],[1.0,\"#f0f921\"]]},\"colorway\":[\"#636efa\",\"#EF553B\",\"#00cc96\",\"#ab63fa\",\"#FFA15A\",\"#19d3f3\",\"#FF6692\",\"#B6E880\",\"#FF97FF\",\"#FECB52\"],\"font\":{\"color\":\"#2a3f5f\"},\"geo\":{\"bgcolor\":\"white\",\"lakecolor\":\"white\",\"landcolor\":\"#E5ECF6\",\"showlakes\":true,\"showland\":true,\"subunitcolor\":\"white\"},\"hoverlabel\":{\"align\":\"left\"},\"hovermode\":\"closest\",\"mapbox\":{\"style\":\"light\"},\"paper_bgcolor\":\"white\",\"plot_bgcolor\":\"#E5ECF6\",\"polar\":{\"angularaxis\":{\"gridcolor\":\"white\",\"linecolor\":\"white\",\"ticks\":\"\"},\"bgcolor\":\"#E5ECF6\",\"radialaxis\":{\"gridcolor\":\"white\",\"linecolor\":\"white\",\"ticks\":\"\"}},\"scene\":{\"xaxis\":{\"backgroundcolor\":\"#E5ECF6\",\"gridcolor\":\"white\",\"gridwidth\":2,\"linecolor\":\"white\",\"showbackground\":true,\"ticks\":\"\",\"zerolinecolor\":\"white\"},\"yaxis\":{\"backgroundcolor\":\"#E5ECF6\",\"gridcolor\":\"white\",\"gridwidth\":2,\"linecolor\":\"white\",\"showbackground\":true,\"ticks\":\"\",\"zerolinecolor\":\"white\"},\"zaxis\":{\"backgroundcolor\":\"#E5ECF6\",\"gridcolor\":\"white\",\"gridwidth\":2,\"linecolor\":\"white\",\"showbackground\":true,\"ticks\":\"\",\"zerolinecolor\":\"white\"}},\"shapedefaults\":{\"line\":{\"color\":\"#2a3f5f\"}},\"ternary\":{\"aaxis\":{\"gridcolor\":\"white\",\"linecolor\":\"white\",\"ticks\":\"\"},\"baxis\":{\"gridcolor\":\"white\",\"linecolor\":\"white\",\"ticks\":\"\"},\"bgcolor\":\"#E5ECF6\",\"caxis\":{\"gridcolor\":\"white\",\"linecolor\":\"white\",\"ticks\":\"\"}},\"title\":{\"x\":0.05},\"xaxis\":{\"automargin\":true,\"gridcolor\":\"white\",\"linecolor\":\"white\",\"ticks\":\"\",\"title\":{\"standoff\":15},\"zerolinecolor\":\"white\",\"zerolinewidth\":2},\"yaxis\":{\"automargin\":true,\"gridcolor\":\"white\",\"linecolor\":\"white\",\"ticks\":\"\",\"title\":{\"standoff\":15},\"zerolinecolor\":\"white\",\"zerolinewidth\":2}}}},                        {\"responsive\": true}                    ).then(function(){\n",
       "                            \n",
       "var gd = document.getElementById('6d1bd9df-aec8-4810-aa6c-7f67bf1057c3');\n",
       "var x = new MutationObserver(function (mutations, observer) {{\n",
       "        var display = window.getComputedStyle(gd).display;\n",
       "        if (!display || display === 'none') {{\n",
       "            console.log([gd, 'removed!']);\n",
       "            Plotly.purge(gd);\n",
       "            observer.disconnect();\n",
       "        }}\n",
       "}});\n",
       "\n",
       "// Listen for the removal of the full notebook cells\n",
       "var notebookContainer = gd.closest('#notebook-container');\n",
       "if (notebookContainer) {{\n",
       "    x.observe(notebookContainer, {childList: true});\n",
       "}}\n",
       "\n",
       "// Listen for the clearing of the current output cell\n",
       "var outputEl = gd.closest('.output');\n",
       "if (outputEl) {{\n",
       "    x.observe(outputEl, {childList: true});\n",
       "}}\n",
       "\n",
       "                        })                };                });            </script>        </div>"
      ]
     },
     "metadata": {},
     "output_type": "display_data"
    }
   ],
   "source": [
    "import plotly.graph_objects as go\n",
    "from plotly.subplots import make_subplots\n",
    "import pandas as pd\n",
    "\n",
    "df= imports.copy()\n",
    "levels = ['continent', 'region', 'Country or Area'] # levels used for the hierarchical chart\n",
    "color_columns = 'Quantity'\n",
    "value_column = 'Quantity'\n",
    "df_all_trees = pd.DataFrame(columns=['id', 'parent', 'value', 'color'])\n",
    "\n",
    "        \n",
    "fig = make_subplots(1, 2, specs=[[{\"type\": \"domain\"}, {\"type\": \"domain\"}]],)\n",
    "\n",
    "fig.add_trace(go.Treemap(\n",
    "    labels=df_all_trees['id'],\n",
    "    parents=df_all_trees['parent'],\n",
    "    values=df_all_trees['value'],\n",
    "    branchvalues='total',\n",
    "    marker=dict(\n",
    "        colors=df_all_trees['color'],\n",
    "        colorscale='RdBu'),\n",
    "    hovertemplate='<b>%{label} </b> <br> Sales: %{value}<br> Success rate: %{color:.2f}',\n",
    "    name=''\n",
    "    ), 1, 1)\n",
    "\n",
    "fig.add_trace(go.Treemap(\n",
    "    labels=df_all_trees['id'],\n",
    "    parents=df_all_trees['parent'],\n",
    "    values=df_all_trees['value'],\n",
    "    branchvalues='total',\n",
    "    marker=dict(\n",
    "        colors=df_all_trees['color'],\n",
    "        colorscale='RdBu'),\n",
    "    hovertemplate='<b>%{label} </b> <br> Sales: %{value}<br> Success rate: %{color:.2f}',\n",
    "    maxdepth=2\n",
    "    ), 1, 2)\n",
    "\n",
    "fig.update_layout(margin = dict(t=50, l=25, r=25, b=25))\n",
    "fig.show()"
   ]
  },
  {
   "cell_type": "code",
   "execution_count": 72,
   "metadata": {},
   "outputs": [
    {
     "ename": "TypeError",
     "evalue": "treemap() got an unexpected keyword argument 'animation_frame'",
     "output_type": "error",
     "traceback": [
      "\u001b[1;31m---------------------------------------------------------------------------\u001b[0m",
      "\u001b[1;31mTypeError\u001b[0m                                 Traceback (most recent call last)",
      "\u001b[1;32m<ipython-input-72-3fd0b6a31dd5>\u001b[0m in \u001b[0;36m<module>\u001b[1;34m\u001b[0m\n\u001b[0;32m      3\u001b[0m \u001b[1;31m#fig_bar.show(renderer='iframe')\u001b[0m\u001b[1;33m\u001b[0m\u001b[1;33m\u001b[0m\u001b[1;33m\u001b[0m\u001b[0m\n\u001b[0;32m      4\u001b[0m \u001b[1;33m\u001b[0m\u001b[0m\n\u001b[1;32m----> 5\u001b[1;33m fig = px.treemap(imports, names='continent', values='continent', color=\"continent\", animation_frame=\"Year\", animation_group=\"continent\",\n\u001b[0m\u001b[0;32m      6\u001b[0m \u001b[0mtitle\u001b[0m\u001b[1;33m=\u001b[0m\u001b[1;34m'Imports from 1995 to 2012'\u001b[0m\u001b[1;33m\u001b[0m\u001b[1;33m\u001b[0m\u001b[0m\n\u001b[0;32m      7\u001b[0m )\n",
      "\u001b[1;31mTypeError\u001b[0m: treemap() got an unexpected keyword argument 'animation_frame'"
     ]
    }
   ],
   "source": [
    "#initial_data = dict(type='bar', x=pivot_export.index, y=pivot_export.values[0], name=str(1988))\n",
    "#fig_bar = go.Figure(data = initial_data, layout = fig_bar_layout, frames=frames)\n",
    "#fig_bar.show(renderer='iframe')\n",
    "\n",
    "fig = px.treemap(imports, names='continent', values='continent', color=\"continent\", animation_frame=\"Year\", animation_group=\"continent\",\n",
    "title='Imports from 1995 to 2012'\n",
    ")\n",
    "fig_bar.show(renderer='iframe')"
   ]
  },
  {
   "cell_type": "markdown",
   "metadata": {},
   "source": [
    "# ----- Helena\n"
   ]
  },
  {
   "cell_type": "code",
   "execution_count": 96,
   "metadata": {},
   "outputs": [
    {
     "data": {
      "text/plain": [
       "0           have_sugar\n",
       "1           have_sugar\n",
       "2           have_sugar\n",
       "3           have_sugar\n",
       "4           have_sugar\n",
       "             ...      \n",
       "2207    have_not_sugar\n",
       "2208    have_not_sugar\n",
       "2210        have_sugar\n",
       "2211        have_sugar\n",
       "2212        have_sugar\n",
       "Name: sugar, Length: 2074, dtype: object"
      ]
     },
     "execution_count": 96,
     "metadata": {},
     "output_type": "execute_result"
    }
   ],
   "source": [
    "data['sugar']"
   ]
  },
  {
   "cell_type": "code",
   "execution_count": 97,
   "metadata": {},
   "outputs": [],
   "source": [
    "yes_ingredients = [{'label': 'Vanilla', 'value': 'vanilla'},\n",
    "           {'label': 'Lecithin', 'value': 'lecithin'},\n",
    "           {'label': 'Salt', 'value': 'salt'},\n",
    "           {'label': 'Sweetener without sugar', 'value': 'sweetener_without_sugar'},\n",
    "           {'label': 'Sugar', 'value': 'sugar'}]"
   ]
  },
  {
   "cell_type": "code",
   "execution_count": null,
   "metadata": {},
   "outputs": [],
   "source": []
  },
  {
   "cell_type": "code",
   "execution_count": 110,
   "metadata": {},
   "outputs": [],
   "source": [
    "radio_sugar = [\n",
    "    {'label': 'Has Sugar', 'value': 'have_sugar'},\n",
    "    {'label': 'Has not Sugar', 'value': 'have_not_sugar'}\n",
    "]\n",
    "\n",
    "radio_vanilla = [\n",
    "    {'label': 'Has Vanilla', 'value': 'have_vanilla'},\n",
    "    {'label': 'Has not Vanilla', 'value': 'have_not_vanilla'}\n",
    "]\n",
    "\n",
    "radio_salt = [\n",
    "    {'label': 'Has Salt', 'value': 'have_salt'},\n",
    "    {'label': 'Has not Salt', 'value': 'have_not_salt'}\n",
    "]\n",
    "\n",
    "radio_lecithin = [\n",
    "    {'label': 'Has Lecithin', 'value': 'have_lecithin'},\n",
    "    {'label': 'Has not Lecithin', 'value': 'have_not_lecithin'}\n",
    "]\n"
   ]
  },
  {
   "cell_type": "code",
   "execution_count": 111,
   "metadata": {},
   "outputs": [],
   "source": [
    "ing_checkbox = dcc.Checklist(\n",
    "        id='ing_checkbox',\n",
    "        options=yes_ingredients,\n",
    "        value=['sugar']\n",
    "    ),"
   ]
  },
  {
   "cell_type": "code",
   "execution_count": 114,
   "metadata": {},
   "outputs": [],
   "source": [
    "# The app itself\n",
    "\n",
    "app = dash.Dash(__name__)\n",
    "\n",
    "app.layout = html.Div([\n",
    "    \n",
    "    # html.Div(\n",
    "    #         [ html.Div(\n",
    "    #                 [   html.Img(\n",
    "    #                         src=app.get_asset_url('logo.png'),\n",
    "    #                         alt=\"IMS logo\",\n",
    "    #                         id=\"plotly-image\",\n",
    "    #                         style={\n",
    "    #                             \"height\": \"80px\",\n",
    "    #                             \"width\": \"auto\",\n",
    "    #                             \"margin-bottom\": \"50px\",\n",
    "    #                         },\n",
    "    #                     )\n",
    "    #                 ],\n",
    "    #                 className=\"upper\",\n",
    "    #             ),\n",
    "    #             html.Div(\n",
    "    #                 [\n",
    "    #                     html.Div(\n",
    "    #                         [\n",
    "    #                             html.H2(\n",
    "    #                                 \"Chocolate overview\",\n",
    "    #                                 style={\"font-weight\": \"bold\"},\n",
    "    #                             ),\n",
    "    #                             html.H3(\n",
    "    #                                 \"bla bla bla \\n bla bla bla\", style={\"margin-top\": \"0px\"}\n",
    "    #                             ),\n",
    "    #                         ]\n",
    "    #                     )\n",
    "    #                 ],\n",
    "    #                 className=\"upper\",\n",
    "    #                 id=\"title\",\n",
    "    #             ),\n",
    "    #             html.Div(\n",
    "    #                 # create empty div for align cente\n",
    "    #                 className=\"upper\",\n",
    "    #             ),\n",
    "    #         ],\n",
    "    #         id=\"header\",\n",
    "    #         className=\"row flex-display\",\n",
    "    #         style={\"margin-bottom\": \"20px\"},\n",
    "    #     ),\n",
    "    \n",
    "    html.H6('Choose your chocolate'),\n",
    "\n",
    "    html.Label('The ingredients'),\n",
    "        \n",
    "        html.Div([\n",
    "                      \n",
    "            html.Div([\n",
    "                    html.Br(),\n",
    "                    html.Br(),\n",
    "                    dcc.RadioItems(\n",
    "                                id='sugar_id',\n",
    "                                options=radio_sugar,\n",
    "                                #value='have_sugar',\n",
    "                                inline=True\n",
    "                            ),\n",
    "            ], className='box', style={'margin': '10px', 'padding-top':'15px', 'padding-bottom':'15px'}),\n",
    "            \n",
    "            html.Div([\n",
    "                    html.Br(),\n",
    "                    html.Br(),\n",
    "                    dcc.RadioItems(\n",
    "                                id='vanilla_id',\n",
    "                                options=radio_vanilla,\n",
    "                                #value='have_vanilla',\n",
    "                                inline=True\n",
    "                            ),\n",
    "            ], className='box', style={'margin': '10px', 'padding-top':'15px', 'padding-bottom':'15px'}),\n",
    "            \n",
    "            html.Div([\n",
    "                    html.Br(),\n",
    "                    html.Br(),\n",
    "                    dcc.RadioItems(\n",
    "                                id='lecithin_id',\n",
    "                                options=radio_lecithin,\n",
    "                                #value='have_lecithin',\n",
    "                                inline=True\n",
    "                            ),\n",
    "            ], className='box', style={'margin': '10px', 'padding-top':'15px', 'padding-bottom':'15px'}),\n",
    "            \n",
    "            \n",
    "            html.Div([\n",
    "                    html.Br(),\n",
    "                    html.Br(),\n",
    "                    dcc.RadioItems(\n",
    "                                id='salt_id',\n",
    "                                options=radio_salt,\n",
    "                                #value='have_salt',\n",
    "                                inline=True\n",
    "                            ),\n",
    "            ], className='box', style={'margin': '10px', 'padding-top':'15px', 'padding-bottom':'15px'}),\n",
    "            \n",
    "            \n",
    "            html.Div([\n",
    "                html.Div([\n",
    "                    html.Label('Results', style={'font-size': 'medium'}),\n",
    "                    html.Br(),\n",
    "                    html.Br(),\n",
    "                    html.Div([\n",
    "                        \n",
    "                        html.Div([\n",
    "                            html.H4('Company', style={'font-weight':'normal'}),\n",
    "                            html.H3(id=\"name_company_id\")\n",
    "                        ],className='box_ing'),\n",
    "                        \n",
    "                        html.Div([\n",
    "                            html.H4('Rating', style={'font-weight':'normal'}),\n",
    "                            html.H3(id=\"rating_id\")]),\n",
    "                        ],className='box_ing'),\n",
    "\n",
    "                        html.Div([\n",
    "                            html.H4('Country', style={'font-weight':'normal'}),\n",
    "                             html.H3(id=\"country_id\"),\n",
    "                        ],className='box_ing'),\n",
    "                    \n",
    "                        ], style={'display': 'flex'}),\n",
    "\n",
    "                    ], className='box', style={'heigth':'10%'}),\n",
    " \n",
    "                html.Div([ \n",
    "                    html.Div([\n",
    "                        \n",
    "                        html.Div([\n",
    "                            html.Br(),\n",
    "                            html.Label(id='title_map', style={'font-size':'medium'}), \n",
    "                            html.Br(),\n",
    "                            html.Label('BLA BLA BLA', style={'font-size':'9px'}),\n",
    "                        ], style={'width': '70%'}),\n",
    "                        html.Div([\n",
    "\n",
    "                        ], style={'width': '5%'}),\n",
    "                       \n",
    "                    \n",
    "                    dcc.Graph(id='graph1'),\n",
    "\n",
    "                ], className='box', style={'padding-bottom': '0px'}), \n",
    "                    ]),\n",
    "                ], style={'width': '60%'}),           \n",
    "            ], className='row')\n",
    "    "
   ]
  },
  {
   "cell_type": "code",
   "execution_count": 115,
   "metadata": {},
   "outputs": [
    {
     "name": "stdout",
     "output_type": "stream",
     "text": [
      "Dash is running on http://127.0.0.1:8050/\n",
      "\n",
      "Dash is running on http://127.0.0.1:8050/\n",
      "\n",
      "Dash is running on http://127.0.0.1:8050/\n",
      "\n",
      "Dash is running on http://127.0.0.1:8050/\n",
      "\n",
      "Dash is running on http://127.0.0.1:8050/\n",
      "\n",
      " * Serving Flask app '__main__' (lazy loading)\n",
      " * Environment: production\n",
      "\u001b[31m   WARNING: This is a development server. Do not use it in a production deployment.\u001b[0m\n",
      "\u001b[2m   Use a production WSGI server instead.\u001b[0m\n",
      " * Debug mode: on\n"
     ]
    }
   ],
   "source": [
    "@app.callback(\n",
    "   \n",
    "   [Output(\"name_company_id\", \"children\"),\n",
    "    Output(\"rating_id\", \"children\"),\n",
    "    Output(\"country_id\", \"children\"),\n",
    "    Output('graph1', 'figure')],\n",
    " \n",
    "    [Input('sugar_id', 'value'),\n",
    "     Input('vanilla_id', 'value'),\n",
    "     Input('lecithin_id', 'value'),\n",
    "     Input('salt_id', 'value')] )\n",
    "\n",
    "def update_graph(sugar_id,vanilla_id,lecithin_id,salt_id):\n",
    "    #filtered_by_year_df = data[(data['year'] >= year[0]) & (data['year'] <= year[1])]\n",
    "    \n",
    "    filtered=data.loc[data['sugar'] == sugar_id]\n",
    "    # filtered=filtered.loc[data['vanilla'] == vanilla_id]\n",
    "    # filtered=filtered.loc[data['lecithin'] == lecithin_id]\n",
    "    # filtered=filtered.loc[data['salt'] == salt_id]\n",
    "    # for ing in ing_chosen:\n",
    "        \n",
    "    #     criteria = filtered[ing].map(lambda x: x.startswith('have_not'))\n",
    "    #     filtered=filtered[-criteria]     \n",
    "        \n",
    "    maxi=np.max(filtered['rating'])\n",
    "    filtered=filtered[filtered['rating']==maxi]\n",
    "    \n",
    "    data_inter = dict(type='bar', x=filtered['company'], y=filtered['rating'])\n",
    "   \n",
    "    layout_1 = dict(xaxis=dict(title='Companies'),\n",
    "                   yaxis=dict(title='Ratings'))\n",
    "    \n",
    "    fig = go.Figure(data=data_inter, layout=layout_1)  \n",
    "\n",
    "    if filtered.empty:\n",
    "        name_company = 'No company was found'\n",
    "        rating = 'No rating was found'\n",
    "        country= 'No country was found'\n",
    "        \n",
    "    else:\n",
    "        name_company=str(filtered.head(1)['company'].values[0])\n",
    "        rating=str(filtered.head(1)['rating'].values[0])\n",
    "        country=str(filtered.head(1)['company_location'].values[0])\n",
    "    \n",
    "    return name_company ,  \\\n",
    "           rating , \\\n",
    "           country , \\\n",
    "           fig\n",
    "\n",
    "if __name__ == '__main__':\n",
    "    app.run_server(debug=True, use_reloader=False)"
   ]
  },
  {
   "cell_type": "code",
   "execution_count": 145,
   "metadata": {},
   "outputs": [],
   "source": [
    "################## ALTERNATIVA\n",
    "\n",
    "\n",
    "ingredients = [\n",
    "    {'label': 'Has Sugar', 'value': 'have_sugar'},\n",
    "    {'label': 'Has not Sugar', 'value': 'have_not_sugar'},\n",
    "    {'label': 'Has Vanilla', 'value': 'have_vanila'},\n",
    "    {'label': 'Has not Vanilla', 'value': 'have_not_vanila'},\n",
    "    {'label': 'Has Salt', 'value': 'have_salt'},\n",
    "    {'label': 'Has not Salt', 'value': 'have_not_salt'},\n",
    "    {'label': 'Has Lecithin', 'value': 'have_lecithin'},\n",
    "    {'label': 'Has not Lecithin', 'value': 'have_not_lecithin'}\n",
    "]\n"
   ]
  },
  {
   "cell_type": "code",
   "execution_count": 147,
   "metadata": {},
   "outputs": [],
   "source": [
    "\n",
    "# The app itself\n",
    "\n",
    "app = dash.Dash(__name__)\n",
    "\n",
    "app.layout = html.Div([\n",
    "\n",
    "    html.H4('Choose your chocolate'),\n",
    "        \n",
    "        html.Div([\n",
    "                      \n",
    "            html.Div([\n",
    "                html.Label('The ingredients'),\n",
    "                    dcc.Dropdown(\n",
    "                                    id='drop_id',\n",
    "                                    options=ingredients,\n",
    "                                    value=['have_sugar'],\n",
    "                                    multi=True\n",
    "                                ),\n",
    "            ], className='box', style={'margin': '10px', 'padding-top':'15px', 'padding-bottom':'15px'}),\n",
    "            \n",
    "            html.Div([\n",
    "                html.Label('Cocoa Percentage'),\n",
    "                    dcc.RangeSlider(\n",
    "                                    id='percent_id',\n",
    "                                    min=42,\n",
    "                                    max=100,\n",
    "                                    value=[70, 80],\n",
    "                                    marks={'50': '50',\n",
    "                                        '60': '60',\n",
    "                                        '70': '70',\n",
    "                                        '80': '80',\n",
    "                                        '90': '90',\n",
    "                                        '100': '100'},\n",
    "                                    step=1\n",
    "                                )]),\n",
    "            \n",
    "            \n",
    "            html.Div([\n",
    "                html.Div([\n",
    "                    html.Label('Results', style={'font-size': 'medium'}),\n",
    "                    html.Br(),\n",
    "                    html.Br(),\n",
    "                    html.Div([\n",
    "                        \n",
    "                        html.Div([\n",
    "                            html.H4('Company', style={'font-weight':'normal'}),\n",
    "                            html.H3(id=\"name_company_id\")\n",
    "                        ],className='box_ing'),\n",
    "                        \n",
    "                        html.Div([\n",
    "                            html.H4('Rating', style={'font-weight':'normal'}),\n",
    "                            html.H3(id=\"rating_id\")]),\n",
    "                        ],className='box_ing'),\n",
    "\n",
    "                        html.Div([\n",
    "                            html.H4('Country', style={'font-weight':'normal'}),\n",
    "                             html.H3(id=\"country_id\"),\n",
    "                        ],className='box_ing'),\n",
    "                    \n",
    "                        ], style={'display': 'flex'}),\n",
    "\n",
    "                    ], className='box', style={'heigth':'10%'}),\n",
    " \n",
    "                html.Div([ \n",
    "                    html.Div([\n",
    "                        \n",
    "                        html.Div([\n",
    "                            html.Br(),\n",
    "                            html.Label(id='title_map', style={'font-size':'medium'}), \n",
    "                            html.Br(),\n",
    "                            html.Label('BLA BLA BLA', style={'font-size':'9px'}),\n",
    "                        ], style={'width': '70%'}),\n",
    "                        html.Div([\n",
    "\n",
    "                        ], style={'width': '5%'}),\n",
    "                       \n",
    "                    \n",
    "                    dcc.Graph(id='graph1'),\n",
    "\n",
    "                ], className='box', style={'padding-bottom': '0px'}), \n",
    "                    ]),\n",
    "                ], style={'width': '60%'}),           \n",
    "            ], className='row')\n",
    "    "
   ]
  },
  {
   "cell_type": "code",
   "execution_count": 148,
   "metadata": {},
   "outputs": [
    {
     "name": "stdout",
     "output_type": "stream",
     "text": [
      "Dash is running on http://127.0.0.1:8050/\n",
      "\n",
      "Dash is running on http://127.0.0.1:8050/\n",
      "\n",
      "Dash is running on http://127.0.0.1:8050/\n",
      "\n",
      "Dash is running on http://127.0.0.1:8050/\n",
      "\n",
      "Dash is running on http://127.0.0.1:8050/\n",
      "\n",
      "Dash is running on http://127.0.0.1:8050/\n",
      "\n",
      "Dash is running on http://127.0.0.1:8050/\n",
      "\n",
      "Dash is running on http://127.0.0.1:8050/\n",
      "\n",
      "Dash is running on http://127.0.0.1:8050/\n",
      "\n",
      "Dash is running on http://127.0.0.1:8050/\n",
      "\n",
      " * Serving Flask app '__main__' (lazy loading)\n",
      " * Environment: production\n",
      "\u001b[31m   WARNING: This is a development server. Do not use it in a production deployment.\u001b[0m\n",
      "\u001b[2m   Use a production WSGI server instead.\u001b[0m\n",
      " * Debug mode: on\n"
     ]
    }
   ],
   "source": [
    "@app.callback(\n",
    "   \n",
    "   [Output(\"name_company_id\", \"children\"),\n",
    "    Output(\"rating_id\", \"children\"),\n",
    "    Output(\"country_id\", \"children\"),\n",
    "    Output('graph1', 'figure')],\n",
    " \n",
    "    [Input('drop_id', 'value'),\n",
    "     Input('percent_id','value')] )\n",
    "\n",
    "def update_graph(drop_id,percent_id):\n",
    "    \n",
    "    filtered=data\n",
    "    for each in drop_id:\n",
    "        filtered=filtered[filtered.isin([each]).any(1)] \n",
    "    \n",
    "    filtered = filtered[(filtered['cocoa_percent'] >= percent_id[0]) & (filtered['cocoa_percent'] <= percent_id[1])]\n",
    "\n",
    "    maxi=np.max(filtered['rating'])\n",
    "    filtered=filtered[filtered['rating']==maxi]\n",
    "    \n",
    "    data_inter = dict(type='bar', x=filtered['company'], y=filtered['rating'])\n",
    "   \n",
    "    layout_1 = dict(xaxis=dict(title='Companies'),\n",
    "                   yaxis=dict(title='Ratings'))\n",
    "    \n",
    "    fig = go.Figure(data=data_inter, layout=layout_1)  \n",
    "\n",
    "    if filtered.empty:\n",
    "        name_company = 'No company was found'\n",
    "        rating = 'No rating was found'\n",
    "        country= 'No country was found'\n",
    "        \n",
    "    else:\n",
    "        name_company=str(filtered.head(1)['company'].values[0])\n",
    "        rating=str(filtered.head(1)['rating'].values[0])\n",
    "        country=str(filtered.head(1)['company_location'].values[0])\n",
    "    \n",
    "    return name_company ,  \\\n",
    "           rating , \\\n",
    "           country , \\\n",
    "           fig\n",
    "\n",
    "if __name__ == '__main__':\n",
    "    app.run_server(debug=True, use_reloader=False)"
   ]
  },
  {
   "cell_type": "markdown",
   "metadata": {},
   "source": [
    "# ------- Filipa\n"
   ]
  },
  {
   "cell_type": "markdown",
   "metadata": {},
   "source": [
    "### Radar Plot\n"
   ]
  },
  {
   "cell_type": "code",
   "execution_count": 46,
   "metadata": {
    "scrolled": false
   },
   "outputs": [
    {
     "data": {
      "text/html": [
       "<div>\n",
       "<style scoped>\n",
       "    .dataframe tbody tr th:only-of-type {\n",
       "        vertical-align: middle;\n",
       "    }\n",
       "\n",
       "    .dataframe tbody tr th {\n",
       "        vertical-align: top;\n",
       "    }\n",
       "\n",
       "    .dataframe thead th {\n",
       "        text-align: right;\n",
       "    }\n",
       "</style>\n",
       "<table border=\"1\" class=\"dataframe\">\n",
       "  <thead>\n",
       "    <tr style=\"text-align: right;\">\n",
       "      <th></th>\n",
       "      <th>cocoa_percent</th>\n",
       "      <th>rating</th>\n",
       "      <th>counts_of_ingredients</th>\n",
       "      <th>company_name</th>\n",
       "    </tr>\n",
       "    <tr>\n",
       "      <th>company</th>\n",
       "      <th></th>\n",
       "      <th></th>\n",
       "      <th></th>\n",
       "      <th></th>\n",
       "    </tr>\n",
       "  </thead>\n",
       "  <tbody>\n",
       "    <tr>\n",
       "      <th>5150</th>\n",
       "      <td>0.7600</td>\n",
       "      <td>3.50</td>\n",
       "      <td>3.00</td>\n",
       "      <td>5150</td>\n",
       "    </tr>\n",
       "    <tr>\n",
       "      <th>A. Morin</th>\n",
       "      <td>0.6888</td>\n",
       "      <td>3.40</td>\n",
       "      <td>3.96</td>\n",
       "      <td>A. Morin</td>\n",
       "    </tr>\n",
       "    <tr>\n",
       "      <th>AMMA</th>\n",
       "      <td>0.6900</td>\n",
       "      <td>3.50</td>\n",
       "      <td>4.00</td>\n",
       "      <td>AMMA</td>\n",
       "    </tr>\n",
       "    <tr>\n",
       "      <th>Acalli</th>\n",
       "      <td>0.7100</td>\n",
       "      <td>3.56</td>\n",
       "      <td>2.00</td>\n",
       "      <td>Acalli</td>\n",
       "    </tr>\n",
       "    <tr>\n",
       "      <th>Adi aka Fijiana (Easy In Ltd)</th>\n",
       "      <td>0.7500</td>\n",
       "      <td>3.25</td>\n",
       "      <td>3.00</td>\n",
       "      <td>Adi aka Fijiana (Easy In Ltd)</td>\n",
       "    </tr>\n",
       "    <tr>\n",
       "      <th>...</th>\n",
       "      <td>...</td>\n",
       "      <td>...</td>\n",
       "      <td>...</td>\n",
       "      <td>...</td>\n",
       "    </tr>\n",
       "    <tr>\n",
       "      <th>Zotter</th>\n",
       "      <td>0.7035</td>\n",
       "      <td>3.35</td>\n",
       "      <td>3.82</td>\n",
       "      <td>Zotter</td>\n",
       "    </tr>\n",
       "    <tr>\n",
       "      <th>hello cocoa</th>\n",
       "      <td>0.6550</td>\n",
       "      <td>3.12</td>\n",
       "      <td>3.00</td>\n",
       "      <td>hello cocoa</td>\n",
       "    </tr>\n",
       "    <tr>\n",
       "      <th>hexx</th>\n",
       "      <td>0.7150</td>\n",
       "      <td>2.92</td>\n",
       "      <td>2.00</td>\n",
       "      <td>hexx</td>\n",
       "    </tr>\n",
       "    <tr>\n",
       "      <th>organicfair</th>\n",
       "      <td>0.7217</td>\n",
       "      <td>2.88</td>\n",
       "      <td>3.00</td>\n",
       "      <td>organicfair</td>\n",
       "    </tr>\n",
       "    <tr>\n",
       "      <th>twenty-four blackbirds</th>\n",
       "      <td>0.7371</td>\n",
       "      <td>3.07</td>\n",
       "      <td>2.00</td>\n",
       "      <td>twenty-four blackbirds</td>\n",
       "    </tr>\n",
       "  </tbody>\n",
       "</table>\n",
       "<p>488 rows × 4 columns</p>\n",
       "</div>"
      ],
      "text/plain": [
       "                               cocoa_percent  rating  counts_of_ingredients  \\\n",
       "company                                                                       \n",
       "5150                                  0.7600    3.50                   3.00   \n",
       "A. Morin                              0.6888    3.40                   3.96   \n",
       "AMMA                                  0.6900    3.50                   4.00   \n",
       "Acalli                                0.7100    3.56                   2.00   \n",
       "Adi aka Fijiana (Easy In Ltd)         0.7500    3.25                   3.00   \n",
       "...                                      ...     ...                    ...   \n",
       "Zotter                                0.7035    3.35                   3.82   \n",
       "hello cocoa                           0.6550    3.12                   3.00   \n",
       "hexx                                  0.7150    2.92                   2.00   \n",
       "organicfair                           0.7217    2.88                   3.00   \n",
       "twenty-four blackbirds                0.7371    3.07                   2.00   \n",
       "\n",
       "                                                company_name  \n",
       "company                                                       \n",
       "5150                                                    5150  \n",
       "A. Morin                                            A. Morin  \n",
       "AMMA                                                    AMMA  \n",
       "Acalli                                                Acalli  \n",
       "Adi aka Fijiana (Easy In Ltd)  Adi aka Fijiana (Easy In Ltd)  \n",
       "...                                                      ...  \n",
       "Zotter                                                Zotter  \n",
       "hello cocoa                                      hello cocoa  \n",
       "hexx                                                    hexx  \n",
       "organicfair                                      organicfair  \n",
       "twenty-four blackbirds                twenty-four blackbirds  \n",
       "\n",
       "[488 rows x 4 columns]"
      ]
     },
     "execution_count": 46,
     "metadata": {},
     "output_type": "execute_result"
    }
   ],
   "source": [
    "radar = pd.DataFrame(round(data.groupby(by = 'company')[['cocoa_percent', 'rating', 'counts_of_ingredients']].mean(),2))\n",
    "radar['company_name'] = radar.index\n",
    "radar['cocoa_percent'] = radar['cocoa_percent'] / 100\n",
    "radar"
   ]
  },
  {
   "cell_type": "code",
   "execution_count": 47,
   "metadata": {
    "scrolled": true
   },
   "outputs": [],
   "source": [
    "feat_radar = ['cocoa_percent', 'rating', 'counts_of_ingredients']"
   ]
  },
  {
   "cell_type": "code",
   "execution_count": 48,
   "metadata": {},
   "outputs": [],
   "source": [
    "def radar_plot(company1, company2):\n",
    "\n",
    "    # scatterpolar\n",
    "    company1_df = pd.DataFrame(radar[radar['company_name'] == company1][feat_radar].iloc[0])\n",
    "    company1_df.columns = ['total']\n",
    "    company2_df = pd.DataFrame(radar[radar['company_name'] == company2][feat_radar].iloc[0])\n",
    "    company2_df.columns = ['total']\n",
    "    total_list = [company1_df.index[i].capitalize() + ' = ' + str(company1_df['total'][i]) for i in range(len(company1_df))]\n",
    "    total1_text = company1\n",
    "    for i in total_list:\n",
    "        total1_text += '<br>' + i\n",
    "\n",
    "    total_list = [company2_df.index[i].capitalize() + ' = ' + str(company2_df['total'][i]) for i in range(len(company2_df))]\n",
    "    total2_text = company2\n",
    "    for i in total_list:\n",
    "        total2_text += '<br>' + i\n",
    "\n",
    "    fig = go.Figure(data=go.Scatterpolar(\n",
    "        r=company1_df['total'],\n",
    "        theta=company1_df.index,\n",
    "        fill='toself', \n",
    "        marker_color = 'rgb(45,0,198)',   \n",
    "        opacity =1, \n",
    "        hoverinfo = \"text\" ,\n",
    "        name = total1_text,\n",
    "        text  = [company1_df.index[i] +' = ' + str(company1_df['total'][i]) for i in range(len(company1_df))]\n",
    "    ))\n",
    "    fig.add_trace(go.Scatterpolar(\n",
    "        r=company2_df['total'],\n",
    "        theta=company2_df.index,\n",
    "        fill='toself',\n",
    "        marker_color = 'rgb(255,171,0)',\n",
    "        hoverinfo = \"text\" ,\n",
    "        name= total2_text,\n",
    "        text  = [company2_df.index[i] +' = ' + str(company2_df['total'][i]) for i in range(len(company2_df))]\n",
    "        ))\n",
    "\n",
    "    fig.update_layout(\n",
    "        polar=dict(\n",
    "            hole=0.1,\n",
    "            bgcolor=\"white\",\n",
    "            radialaxis=dict(\n",
    "                visible=True,\n",
    "                type='linear',\n",
    "                autotypenumbers='strict',\n",
    "                autorange=False,\n",
    "                range=[30, 100],\n",
    "                angle=90,\n",
    "                showline=False,\n",
    "                showticklabels=False, ticks='',\n",
    "                gridcolor='black'),\n",
    "                ),\n",
    "        width = 550,\n",
    "        height = 550,\n",
    "        margin=dict(l=80, r=80, t=20, b=20),\n",
    "        showlegend=False,\n",
    "        template=\"plotly_dark\",\n",
    "        plot_bgcolor = 'rgba(0, 0, 0, 0)',\n",
    "        paper_bgcolor = 'rgba(0, 0, 0, 0)',\n",
    "        font_color=\"black\",\n",
    "        font_size= 15\n",
    "    )\n",
    "    \n",
    "    return fig\n"
   ]
  },
  {
   "cell_type": "code",
   "execution_count": 49,
   "metadata": {},
   "outputs": [
    {
     "data": {
      "application/vnd.plotly.v1+json": {
       "config": {
        "plotlyServerURL": "https://plot.ly"
       },
       "data": [
        {
         "fill": "toself",
         "hoverinfo": "text",
         "marker": {
          "color": "rgb(45,0,198)"
         },
         "name": "5150<br>Cocoa_percent = 0.76<br>Rating = 3.5<br>Counts_of_ingredients = 3.0",
         "opacity": 1,
         "r": [
          0.76,
          3.5,
          3
         ],
         "text": [
          "cocoa_percent = 0.76",
          "rating = 3.5",
          "counts_of_ingredients = 3.0"
         ],
         "theta": [
          "cocoa_percent",
          "rating",
          "counts_of_ingredients"
         ],
         "type": "scatterpolar"
        },
        {
         "fill": "toself",
         "hoverinfo": "text",
         "marker": {
          "color": "rgb(255,171,0)"
         },
         "name": "A. Morin<br>Cocoa_percent = 0.6888<br>Rating = 3.4<br>Counts_of_ingredients = 3.96",
         "r": [
          0.6888,
          3.4,
          3.96
         ],
         "text": [
          "cocoa_percent = 0.6888",
          "rating = 3.4",
          "counts_of_ingredients = 3.96"
         ],
         "theta": [
          "cocoa_percent",
          "rating",
          "counts_of_ingredients"
         ],
         "type": "scatterpolar"
        }
       ],
       "layout": {
        "font": {
         "color": "black",
         "size": 15
        },
        "height": 550,
        "margin": {
         "b": 20,
         "l": 80,
         "r": 80,
         "t": 20
        },
        "paper_bgcolor": "rgba(0, 0, 0, 0)",
        "plot_bgcolor": "rgba(0, 0, 0, 0)",
        "polar": {
         "bgcolor": "white",
         "hole": 0.1,
         "radialaxis": {
          "angle": 90,
          "autorange": false,
          "autotypenumbers": "strict",
          "gridcolor": "black",
          "range": [
           30,
           100
          ],
          "showline": false,
          "showticklabels": false,
          "ticks": "",
          "type": "linear",
          "visible": true
         }
        },
        "showlegend": false,
        "template": {
         "data": {
          "bar": [
           {
            "error_x": {
             "color": "#f2f5fa"
            },
            "error_y": {
             "color": "#f2f5fa"
            },
            "marker": {
             "line": {
              "color": "rgb(17,17,17)",
              "width": 0.5
             },
             "pattern": {
              "fillmode": "overlay",
              "size": 10,
              "solidity": 0.2
             }
            },
            "type": "bar"
           }
          ],
          "barpolar": [
           {
            "marker": {
             "line": {
              "color": "rgb(17,17,17)",
              "width": 0.5
             },
             "pattern": {
              "fillmode": "overlay",
              "size": 10,
              "solidity": 0.2
             }
            },
            "type": "barpolar"
           }
          ],
          "carpet": [
           {
            "aaxis": {
             "endlinecolor": "#A2B1C6",
             "gridcolor": "#506784",
             "linecolor": "#506784",
             "minorgridcolor": "#506784",
             "startlinecolor": "#A2B1C6"
            },
            "baxis": {
             "endlinecolor": "#A2B1C6",
             "gridcolor": "#506784",
             "linecolor": "#506784",
             "minorgridcolor": "#506784",
             "startlinecolor": "#A2B1C6"
            },
            "type": "carpet"
           }
          ],
          "choropleth": [
           {
            "colorbar": {
             "outlinewidth": 0,
             "ticks": ""
            },
            "type": "choropleth"
           }
          ],
          "contour": [
           {
            "colorbar": {
             "outlinewidth": 0,
             "ticks": ""
            },
            "colorscale": [
             [
              0,
              "#0d0887"
             ],
             [
              0.1111111111111111,
              "#46039f"
             ],
             [
              0.2222222222222222,
              "#7201a8"
             ],
             [
              0.3333333333333333,
              "#9c179e"
             ],
             [
              0.4444444444444444,
              "#bd3786"
             ],
             [
              0.5555555555555556,
              "#d8576b"
             ],
             [
              0.6666666666666666,
              "#ed7953"
             ],
             [
              0.7777777777777778,
              "#fb9f3a"
             ],
             [
              0.8888888888888888,
              "#fdca26"
             ],
             [
              1,
              "#f0f921"
             ]
            ],
            "type": "contour"
           }
          ],
          "contourcarpet": [
           {
            "colorbar": {
             "outlinewidth": 0,
             "ticks": ""
            },
            "type": "contourcarpet"
           }
          ],
          "heatmap": [
           {
            "colorbar": {
             "outlinewidth": 0,
             "ticks": ""
            },
            "colorscale": [
             [
              0,
              "#0d0887"
             ],
             [
              0.1111111111111111,
              "#46039f"
             ],
             [
              0.2222222222222222,
              "#7201a8"
             ],
             [
              0.3333333333333333,
              "#9c179e"
             ],
             [
              0.4444444444444444,
              "#bd3786"
             ],
             [
              0.5555555555555556,
              "#d8576b"
             ],
             [
              0.6666666666666666,
              "#ed7953"
             ],
             [
              0.7777777777777778,
              "#fb9f3a"
             ],
             [
              0.8888888888888888,
              "#fdca26"
             ],
             [
              1,
              "#f0f921"
             ]
            ],
            "type": "heatmap"
           }
          ],
          "heatmapgl": [
           {
            "colorbar": {
             "outlinewidth": 0,
             "ticks": ""
            },
            "colorscale": [
             [
              0,
              "#0d0887"
             ],
             [
              0.1111111111111111,
              "#46039f"
             ],
             [
              0.2222222222222222,
              "#7201a8"
             ],
             [
              0.3333333333333333,
              "#9c179e"
             ],
             [
              0.4444444444444444,
              "#bd3786"
             ],
             [
              0.5555555555555556,
              "#d8576b"
             ],
             [
              0.6666666666666666,
              "#ed7953"
             ],
             [
              0.7777777777777778,
              "#fb9f3a"
             ],
             [
              0.8888888888888888,
              "#fdca26"
             ],
             [
              1,
              "#f0f921"
             ]
            ],
            "type": "heatmapgl"
           }
          ],
          "histogram": [
           {
            "marker": {
             "pattern": {
              "fillmode": "overlay",
              "size": 10,
              "solidity": 0.2
             }
            },
            "type": "histogram"
           }
          ],
          "histogram2d": [
           {
            "colorbar": {
             "outlinewidth": 0,
             "ticks": ""
            },
            "colorscale": [
             [
              0,
              "#0d0887"
             ],
             [
              0.1111111111111111,
              "#46039f"
             ],
             [
              0.2222222222222222,
              "#7201a8"
             ],
             [
              0.3333333333333333,
              "#9c179e"
             ],
             [
              0.4444444444444444,
              "#bd3786"
             ],
             [
              0.5555555555555556,
              "#d8576b"
             ],
             [
              0.6666666666666666,
              "#ed7953"
             ],
             [
              0.7777777777777778,
              "#fb9f3a"
             ],
             [
              0.8888888888888888,
              "#fdca26"
             ],
             [
              1,
              "#f0f921"
             ]
            ],
            "type": "histogram2d"
           }
          ],
          "histogram2dcontour": [
           {
            "colorbar": {
             "outlinewidth": 0,
             "ticks": ""
            },
            "colorscale": [
             [
              0,
              "#0d0887"
             ],
             [
              0.1111111111111111,
              "#46039f"
             ],
             [
              0.2222222222222222,
              "#7201a8"
             ],
             [
              0.3333333333333333,
              "#9c179e"
             ],
             [
              0.4444444444444444,
              "#bd3786"
             ],
             [
              0.5555555555555556,
              "#d8576b"
             ],
             [
              0.6666666666666666,
              "#ed7953"
             ],
             [
              0.7777777777777778,
              "#fb9f3a"
             ],
             [
              0.8888888888888888,
              "#fdca26"
             ],
             [
              1,
              "#f0f921"
             ]
            ],
            "type": "histogram2dcontour"
           }
          ],
          "mesh3d": [
           {
            "colorbar": {
             "outlinewidth": 0,
             "ticks": ""
            },
            "type": "mesh3d"
           }
          ],
          "parcoords": [
           {
            "line": {
             "colorbar": {
              "outlinewidth": 0,
              "ticks": ""
             }
            },
            "type": "parcoords"
           }
          ],
          "pie": [
           {
            "automargin": true,
            "type": "pie"
           }
          ],
          "scatter": [
           {
            "marker": {
             "line": {
              "color": "#283442"
             }
            },
            "type": "scatter"
           }
          ],
          "scatter3d": [
           {
            "line": {
             "colorbar": {
              "outlinewidth": 0,
              "ticks": ""
             }
            },
            "marker": {
             "colorbar": {
              "outlinewidth": 0,
              "ticks": ""
             }
            },
            "type": "scatter3d"
           }
          ],
          "scattercarpet": [
           {
            "marker": {
             "colorbar": {
              "outlinewidth": 0,
              "ticks": ""
             }
            },
            "type": "scattercarpet"
           }
          ],
          "scattergeo": [
           {
            "marker": {
             "colorbar": {
              "outlinewidth": 0,
              "ticks": ""
             }
            },
            "type": "scattergeo"
           }
          ],
          "scattergl": [
           {
            "marker": {
             "line": {
              "color": "#283442"
             }
            },
            "type": "scattergl"
           }
          ],
          "scattermapbox": [
           {
            "marker": {
             "colorbar": {
              "outlinewidth": 0,
              "ticks": ""
             }
            },
            "type": "scattermapbox"
           }
          ],
          "scatterpolar": [
           {
            "marker": {
             "colorbar": {
              "outlinewidth": 0,
              "ticks": ""
             }
            },
            "type": "scatterpolar"
           }
          ],
          "scatterpolargl": [
           {
            "marker": {
             "colorbar": {
              "outlinewidth": 0,
              "ticks": ""
             }
            },
            "type": "scatterpolargl"
           }
          ],
          "scatterternary": [
           {
            "marker": {
             "colorbar": {
              "outlinewidth": 0,
              "ticks": ""
             }
            },
            "type": "scatterternary"
           }
          ],
          "surface": [
           {
            "colorbar": {
             "outlinewidth": 0,
             "ticks": ""
            },
            "colorscale": [
             [
              0,
              "#0d0887"
             ],
             [
              0.1111111111111111,
              "#46039f"
             ],
             [
              0.2222222222222222,
              "#7201a8"
             ],
             [
              0.3333333333333333,
              "#9c179e"
             ],
             [
              0.4444444444444444,
              "#bd3786"
             ],
             [
              0.5555555555555556,
              "#d8576b"
             ],
             [
              0.6666666666666666,
              "#ed7953"
             ],
             [
              0.7777777777777778,
              "#fb9f3a"
             ],
             [
              0.8888888888888888,
              "#fdca26"
             ],
             [
              1,
              "#f0f921"
             ]
            ],
            "type": "surface"
           }
          ],
          "table": [
           {
            "cells": {
             "fill": {
              "color": "#506784"
             },
             "line": {
              "color": "rgb(17,17,17)"
             }
            },
            "header": {
             "fill": {
              "color": "#2a3f5f"
             },
             "line": {
              "color": "rgb(17,17,17)"
             }
            },
            "type": "table"
           }
          ]
         },
         "layout": {
          "annotationdefaults": {
           "arrowcolor": "#f2f5fa",
           "arrowhead": 0,
           "arrowwidth": 1
          },
          "autotypenumbers": "strict",
          "coloraxis": {
           "colorbar": {
            "outlinewidth": 0,
            "ticks": ""
           }
          },
          "colorscale": {
           "diverging": [
            [
             0,
             "#8e0152"
            ],
            [
             0.1,
             "#c51b7d"
            ],
            [
             0.2,
             "#de77ae"
            ],
            [
             0.3,
             "#f1b6da"
            ],
            [
             0.4,
             "#fde0ef"
            ],
            [
             0.5,
             "#f7f7f7"
            ],
            [
             0.6,
             "#e6f5d0"
            ],
            [
             0.7,
             "#b8e186"
            ],
            [
             0.8,
             "#7fbc41"
            ],
            [
             0.9,
             "#4d9221"
            ],
            [
             1,
             "#276419"
            ]
           ],
           "sequential": [
            [
             0,
             "#0d0887"
            ],
            [
             0.1111111111111111,
             "#46039f"
            ],
            [
             0.2222222222222222,
             "#7201a8"
            ],
            [
             0.3333333333333333,
             "#9c179e"
            ],
            [
             0.4444444444444444,
             "#bd3786"
            ],
            [
             0.5555555555555556,
             "#d8576b"
            ],
            [
             0.6666666666666666,
             "#ed7953"
            ],
            [
             0.7777777777777778,
             "#fb9f3a"
            ],
            [
             0.8888888888888888,
             "#fdca26"
            ],
            [
             1,
             "#f0f921"
            ]
           ],
           "sequentialminus": [
            [
             0,
             "#0d0887"
            ],
            [
             0.1111111111111111,
             "#46039f"
            ],
            [
             0.2222222222222222,
             "#7201a8"
            ],
            [
             0.3333333333333333,
             "#9c179e"
            ],
            [
             0.4444444444444444,
             "#bd3786"
            ],
            [
             0.5555555555555556,
             "#d8576b"
            ],
            [
             0.6666666666666666,
             "#ed7953"
            ],
            [
             0.7777777777777778,
             "#fb9f3a"
            ],
            [
             0.8888888888888888,
             "#fdca26"
            ],
            [
             1,
             "#f0f921"
            ]
           ]
          },
          "colorway": [
           "#636efa",
           "#EF553B",
           "#00cc96",
           "#ab63fa",
           "#FFA15A",
           "#19d3f3",
           "#FF6692",
           "#B6E880",
           "#FF97FF",
           "#FECB52"
          ],
          "font": {
           "color": "#f2f5fa"
          },
          "geo": {
           "bgcolor": "rgb(17,17,17)",
           "lakecolor": "rgb(17,17,17)",
           "landcolor": "rgb(17,17,17)",
           "showlakes": true,
           "showland": true,
           "subunitcolor": "#506784"
          },
          "hoverlabel": {
           "align": "left"
          },
          "hovermode": "closest",
          "mapbox": {
           "style": "dark"
          },
          "paper_bgcolor": "rgb(17,17,17)",
          "plot_bgcolor": "rgb(17,17,17)",
          "polar": {
           "angularaxis": {
            "gridcolor": "#506784",
            "linecolor": "#506784",
            "ticks": ""
           },
           "bgcolor": "rgb(17,17,17)",
           "radialaxis": {
            "gridcolor": "#506784",
            "linecolor": "#506784",
            "ticks": ""
           }
          },
          "scene": {
           "xaxis": {
            "backgroundcolor": "rgb(17,17,17)",
            "gridcolor": "#506784",
            "gridwidth": 2,
            "linecolor": "#506784",
            "showbackground": true,
            "ticks": "",
            "zerolinecolor": "#C8D4E3"
           },
           "yaxis": {
            "backgroundcolor": "rgb(17,17,17)",
            "gridcolor": "#506784",
            "gridwidth": 2,
            "linecolor": "#506784",
            "showbackground": true,
            "ticks": "",
            "zerolinecolor": "#C8D4E3"
           },
           "zaxis": {
            "backgroundcolor": "rgb(17,17,17)",
            "gridcolor": "#506784",
            "gridwidth": 2,
            "linecolor": "#506784",
            "showbackground": true,
            "ticks": "",
            "zerolinecolor": "#C8D4E3"
           }
          },
          "shapedefaults": {
           "line": {
            "color": "#f2f5fa"
           }
          },
          "sliderdefaults": {
           "bgcolor": "#C8D4E3",
           "bordercolor": "rgb(17,17,17)",
           "borderwidth": 1,
           "tickwidth": 0
          },
          "ternary": {
           "aaxis": {
            "gridcolor": "#506784",
            "linecolor": "#506784",
            "ticks": ""
           },
           "baxis": {
            "gridcolor": "#506784",
            "linecolor": "#506784",
            "ticks": ""
           },
           "bgcolor": "rgb(17,17,17)",
           "caxis": {
            "gridcolor": "#506784",
            "linecolor": "#506784",
            "ticks": ""
           }
          },
          "title": {
           "x": 0.05
          },
          "updatemenudefaults": {
           "bgcolor": "#506784",
           "borderwidth": 0
          },
          "xaxis": {
           "automargin": true,
           "gridcolor": "#283442",
           "linecolor": "#506784",
           "ticks": "",
           "title": {
            "standoff": 15
           },
           "zerolinecolor": "#283442",
           "zerolinewidth": 2
          },
          "yaxis": {
           "automargin": true,
           "gridcolor": "#283442",
           "linecolor": "#506784",
           "ticks": "",
           "title": {
            "standoff": 15
           },
           "zerolinecolor": "#283442",
           "zerolinewidth": 2
          }
         }
        },
        "width": 550
       }
      },
      "text/html": [
       "<div>                            <div id=\"58ab35e8-906a-4627-9b0a-27bf91ed1815\" class=\"plotly-graph-div\" style=\"height:550px; width:550px;\"></div>            <script type=\"text/javascript\">                require([\"plotly\"], function(Plotly) {                    window.PLOTLYENV=window.PLOTLYENV || {};                                    if (document.getElementById(\"58ab35e8-906a-4627-9b0a-27bf91ed1815\")) {                    Plotly.newPlot(                        \"58ab35e8-906a-4627-9b0a-27bf91ed1815\",                        [{\"fill\":\"toself\",\"hoverinfo\":\"text\",\"marker\":{\"color\":\"rgb(45,0,198)\"},\"name\":\"5150<br>Cocoa_percent = 0.76<br>Rating = 3.5<br>Counts_of_ingredients = 3.0\",\"opacity\":1,\"r\":[0.76,3.5,3.0],\"text\":[\"cocoa_percent = 0.76\",\"rating = 3.5\",\"counts_of_ingredients = 3.0\"],\"theta\":[\"cocoa_percent\",\"rating\",\"counts_of_ingredients\"],\"type\":\"scatterpolar\"},{\"fill\":\"toself\",\"hoverinfo\":\"text\",\"marker\":{\"color\":\"rgb(255,171,0)\"},\"name\":\"A. Morin<br>Cocoa_percent = 0.6888<br>Rating = 3.4<br>Counts_of_ingredients = 3.96\",\"r\":[0.6888,3.4,3.96],\"text\":[\"cocoa_percent = 0.6888\",\"rating = 3.4\",\"counts_of_ingredients = 3.96\"],\"theta\":[\"cocoa_percent\",\"rating\",\"counts_of_ingredients\"],\"type\":\"scatterpolar\"}],                        {\"font\":{\"color\":\"black\",\"size\":15},\"height\":550,\"margin\":{\"b\":20,\"l\":80,\"r\":80,\"t\":20},\"paper_bgcolor\":\"rgba(0, 0, 0, 0)\",\"plot_bgcolor\":\"rgba(0, 0, 0, 0)\",\"polar\":{\"bgcolor\":\"white\",\"hole\":0.1,\"radialaxis\":{\"angle\":90,\"autorange\":false,\"autotypenumbers\":\"strict\",\"gridcolor\":\"black\",\"range\":[30,100],\"showline\":false,\"showticklabels\":false,\"ticks\":\"\",\"type\":\"linear\",\"visible\":true}},\"showlegend\":false,\"template\":{\"data\":{\"bar\":[{\"error_x\":{\"color\":\"#f2f5fa\"},\"error_y\":{\"color\":\"#f2f5fa\"},\"marker\":{\"line\":{\"color\":\"rgb(17,17,17)\",\"width\":0.5},\"pattern\":{\"fillmode\":\"overlay\",\"size\":10,\"solidity\":0.2}},\"type\":\"bar\"}],\"barpolar\":[{\"marker\":{\"line\":{\"color\":\"rgb(17,17,17)\",\"width\":0.5},\"pattern\":{\"fillmode\":\"overlay\",\"size\":10,\"solidity\":0.2}},\"type\":\"barpolar\"}],\"carpet\":[{\"aaxis\":{\"endlinecolor\":\"#A2B1C6\",\"gridcolor\":\"#506784\",\"linecolor\":\"#506784\",\"minorgridcolor\":\"#506784\",\"startlinecolor\":\"#A2B1C6\"},\"baxis\":{\"endlinecolor\":\"#A2B1C6\",\"gridcolor\":\"#506784\",\"linecolor\":\"#506784\",\"minorgridcolor\":\"#506784\",\"startlinecolor\":\"#A2B1C6\"},\"type\":\"carpet\"}],\"choropleth\":[{\"colorbar\":{\"outlinewidth\":0,\"ticks\":\"\"},\"type\":\"choropleth\"}],\"contour\":[{\"colorbar\":{\"outlinewidth\":0,\"ticks\":\"\"},\"colorscale\":[[0.0,\"#0d0887\"],[0.1111111111111111,\"#46039f\"],[0.2222222222222222,\"#7201a8\"],[0.3333333333333333,\"#9c179e\"],[0.4444444444444444,\"#bd3786\"],[0.5555555555555556,\"#d8576b\"],[0.6666666666666666,\"#ed7953\"],[0.7777777777777778,\"#fb9f3a\"],[0.8888888888888888,\"#fdca26\"],[1.0,\"#f0f921\"]],\"type\":\"contour\"}],\"contourcarpet\":[{\"colorbar\":{\"outlinewidth\":0,\"ticks\":\"\"},\"type\":\"contourcarpet\"}],\"heatmap\":[{\"colorbar\":{\"outlinewidth\":0,\"ticks\":\"\"},\"colorscale\":[[0.0,\"#0d0887\"],[0.1111111111111111,\"#46039f\"],[0.2222222222222222,\"#7201a8\"],[0.3333333333333333,\"#9c179e\"],[0.4444444444444444,\"#bd3786\"],[0.5555555555555556,\"#d8576b\"],[0.6666666666666666,\"#ed7953\"],[0.7777777777777778,\"#fb9f3a\"],[0.8888888888888888,\"#fdca26\"],[1.0,\"#f0f921\"]],\"type\":\"heatmap\"}],\"heatmapgl\":[{\"colorbar\":{\"outlinewidth\":0,\"ticks\":\"\"},\"colorscale\":[[0.0,\"#0d0887\"],[0.1111111111111111,\"#46039f\"],[0.2222222222222222,\"#7201a8\"],[0.3333333333333333,\"#9c179e\"],[0.4444444444444444,\"#bd3786\"],[0.5555555555555556,\"#d8576b\"],[0.6666666666666666,\"#ed7953\"],[0.7777777777777778,\"#fb9f3a\"],[0.8888888888888888,\"#fdca26\"],[1.0,\"#f0f921\"]],\"type\":\"heatmapgl\"}],\"histogram\":[{\"marker\":{\"pattern\":{\"fillmode\":\"overlay\",\"size\":10,\"solidity\":0.2}},\"type\":\"histogram\"}],\"histogram2d\":[{\"colorbar\":{\"outlinewidth\":0,\"ticks\":\"\"},\"colorscale\":[[0.0,\"#0d0887\"],[0.1111111111111111,\"#46039f\"],[0.2222222222222222,\"#7201a8\"],[0.3333333333333333,\"#9c179e\"],[0.4444444444444444,\"#bd3786\"],[0.5555555555555556,\"#d8576b\"],[0.6666666666666666,\"#ed7953\"],[0.7777777777777778,\"#fb9f3a\"],[0.8888888888888888,\"#fdca26\"],[1.0,\"#f0f921\"]],\"type\":\"histogram2d\"}],\"histogram2dcontour\":[{\"colorbar\":{\"outlinewidth\":0,\"ticks\":\"\"},\"colorscale\":[[0.0,\"#0d0887\"],[0.1111111111111111,\"#46039f\"],[0.2222222222222222,\"#7201a8\"],[0.3333333333333333,\"#9c179e\"],[0.4444444444444444,\"#bd3786\"],[0.5555555555555556,\"#d8576b\"],[0.6666666666666666,\"#ed7953\"],[0.7777777777777778,\"#fb9f3a\"],[0.8888888888888888,\"#fdca26\"],[1.0,\"#f0f921\"]],\"type\":\"histogram2dcontour\"}],\"mesh3d\":[{\"colorbar\":{\"outlinewidth\":0,\"ticks\":\"\"},\"type\":\"mesh3d\"}],\"parcoords\":[{\"line\":{\"colorbar\":{\"outlinewidth\":0,\"ticks\":\"\"}},\"type\":\"parcoords\"}],\"pie\":[{\"automargin\":true,\"type\":\"pie\"}],\"scatter\":[{\"marker\":{\"line\":{\"color\":\"#283442\"}},\"type\":\"scatter\"}],\"scatter3d\":[{\"line\":{\"colorbar\":{\"outlinewidth\":0,\"ticks\":\"\"}},\"marker\":{\"colorbar\":{\"outlinewidth\":0,\"ticks\":\"\"}},\"type\":\"scatter3d\"}],\"scattercarpet\":[{\"marker\":{\"colorbar\":{\"outlinewidth\":0,\"ticks\":\"\"}},\"type\":\"scattercarpet\"}],\"scattergeo\":[{\"marker\":{\"colorbar\":{\"outlinewidth\":0,\"ticks\":\"\"}},\"type\":\"scattergeo\"}],\"scattergl\":[{\"marker\":{\"line\":{\"color\":\"#283442\"}},\"type\":\"scattergl\"}],\"scattermapbox\":[{\"marker\":{\"colorbar\":{\"outlinewidth\":0,\"ticks\":\"\"}},\"type\":\"scattermapbox\"}],\"scatterpolar\":[{\"marker\":{\"colorbar\":{\"outlinewidth\":0,\"ticks\":\"\"}},\"type\":\"scatterpolar\"}],\"scatterpolargl\":[{\"marker\":{\"colorbar\":{\"outlinewidth\":0,\"ticks\":\"\"}},\"type\":\"scatterpolargl\"}],\"scatterternary\":[{\"marker\":{\"colorbar\":{\"outlinewidth\":0,\"ticks\":\"\"}},\"type\":\"scatterternary\"}],\"surface\":[{\"colorbar\":{\"outlinewidth\":0,\"ticks\":\"\"},\"colorscale\":[[0.0,\"#0d0887\"],[0.1111111111111111,\"#46039f\"],[0.2222222222222222,\"#7201a8\"],[0.3333333333333333,\"#9c179e\"],[0.4444444444444444,\"#bd3786\"],[0.5555555555555556,\"#d8576b\"],[0.6666666666666666,\"#ed7953\"],[0.7777777777777778,\"#fb9f3a\"],[0.8888888888888888,\"#fdca26\"],[1.0,\"#f0f921\"]],\"type\":\"surface\"}],\"table\":[{\"cells\":{\"fill\":{\"color\":\"#506784\"},\"line\":{\"color\":\"rgb(17,17,17)\"}},\"header\":{\"fill\":{\"color\":\"#2a3f5f\"},\"line\":{\"color\":\"rgb(17,17,17)\"}},\"type\":\"table\"}]},\"layout\":{\"annotationdefaults\":{\"arrowcolor\":\"#f2f5fa\",\"arrowhead\":0,\"arrowwidth\":1},\"autotypenumbers\":\"strict\",\"coloraxis\":{\"colorbar\":{\"outlinewidth\":0,\"ticks\":\"\"}},\"colorscale\":{\"diverging\":[[0,\"#8e0152\"],[0.1,\"#c51b7d\"],[0.2,\"#de77ae\"],[0.3,\"#f1b6da\"],[0.4,\"#fde0ef\"],[0.5,\"#f7f7f7\"],[0.6,\"#e6f5d0\"],[0.7,\"#b8e186\"],[0.8,\"#7fbc41\"],[0.9,\"#4d9221\"],[1,\"#276419\"]],\"sequential\":[[0.0,\"#0d0887\"],[0.1111111111111111,\"#46039f\"],[0.2222222222222222,\"#7201a8\"],[0.3333333333333333,\"#9c179e\"],[0.4444444444444444,\"#bd3786\"],[0.5555555555555556,\"#d8576b\"],[0.6666666666666666,\"#ed7953\"],[0.7777777777777778,\"#fb9f3a\"],[0.8888888888888888,\"#fdca26\"],[1.0,\"#f0f921\"]],\"sequentialminus\":[[0.0,\"#0d0887\"],[0.1111111111111111,\"#46039f\"],[0.2222222222222222,\"#7201a8\"],[0.3333333333333333,\"#9c179e\"],[0.4444444444444444,\"#bd3786\"],[0.5555555555555556,\"#d8576b\"],[0.6666666666666666,\"#ed7953\"],[0.7777777777777778,\"#fb9f3a\"],[0.8888888888888888,\"#fdca26\"],[1.0,\"#f0f921\"]]},\"colorway\":[\"#636efa\",\"#EF553B\",\"#00cc96\",\"#ab63fa\",\"#FFA15A\",\"#19d3f3\",\"#FF6692\",\"#B6E880\",\"#FF97FF\",\"#FECB52\"],\"font\":{\"color\":\"#f2f5fa\"},\"geo\":{\"bgcolor\":\"rgb(17,17,17)\",\"lakecolor\":\"rgb(17,17,17)\",\"landcolor\":\"rgb(17,17,17)\",\"showlakes\":true,\"showland\":true,\"subunitcolor\":\"#506784\"},\"hoverlabel\":{\"align\":\"left\"},\"hovermode\":\"closest\",\"mapbox\":{\"style\":\"dark\"},\"paper_bgcolor\":\"rgb(17,17,17)\",\"plot_bgcolor\":\"rgb(17,17,17)\",\"polar\":{\"angularaxis\":{\"gridcolor\":\"#506784\",\"linecolor\":\"#506784\",\"ticks\":\"\"},\"bgcolor\":\"rgb(17,17,17)\",\"radialaxis\":{\"gridcolor\":\"#506784\",\"linecolor\":\"#506784\",\"ticks\":\"\"}},\"scene\":{\"xaxis\":{\"backgroundcolor\":\"rgb(17,17,17)\",\"gridcolor\":\"#506784\",\"gridwidth\":2,\"linecolor\":\"#506784\",\"showbackground\":true,\"ticks\":\"\",\"zerolinecolor\":\"#C8D4E3\"},\"yaxis\":{\"backgroundcolor\":\"rgb(17,17,17)\",\"gridcolor\":\"#506784\",\"gridwidth\":2,\"linecolor\":\"#506784\",\"showbackground\":true,\"ticks\":\"\",\"zerolinecolor\":\"#C8D4E3\"},\"zaxis\":{\"backgroundcolor\":\"rgb(17,17,17)\",\"gridcolor\":\"#506784\",\"gridwidth\":2,\"linecolor\":\"#506784\",\"showbackground\":true,\"ticks\":\"\",\"zerolinecolor\":\"#C8D4E3\"}},\"shapedefaults\":{\"line\":{\"color\":\"#f2f5fa\"}},\"sliderdefaults\":{\"bgcolor\":\"#C8D4E3\",\"bordercolor\":\"rgb(17,17,17)\",\"borderwidth\":1,\"tickwidth\":0},\"ternary\":{\"aaxis\":{\"gridcolor\":\"#506784\",\"linecolor\":\"#506784\",\"ticks\":\"\"},\"baxis\":{\"gridcolor\":\"#506784\",\"linecolor\":\"#506784\",\"ticks\":\"\"},\"bgcolor\":\"rgb(17,17,17)\",\"caxis\":{\"gridcolor\":\"#506784\",\"linecolor\":\"#506784\",\"ticks\":\"\"}},\"title\":{\"x\":0.05},\"updatemenudefaults\":{\"bgcolor\":\"#506784\",\"borderwidth\":0},\"xaxis\":{\"automargin\":true,\"gridcolor\":\"#283442\",\"linecolor\":\"#506784\",\"ticks\":\"\",\"title\":{\"standoff\":15},\"zerolinecolor\":\"#283442\",\"zerolinewidth\":2},\"yaxis\":{\"automargin\":true,\"gridcolor\":\"#283442\",\"linecolor\":\"#506784\",\"ticks\":\"\",\"title\":{\"standoff\":15},\"zerolinecolor\":\"#283442\",\"zerolinewidth\":2}}},\"width\":550},                        {\"responsive\": true}                    ).then(function(){\n",
       "                            \n",
       "var gd = document.getElementById('58ab35e8-906a-4627-9b0a-27bf91ed1815');\n",
       "var x = new MutationObserver(function (mutations, observer) {{\n",
       "        var display = window.getComputedStyle(gd).display;\n",
       "        if (!display || display === 'none') {{\n",
       "            console.log([gd, 'removed!']);\n",
       "            Plotly.purge(gd);\n",
       "            observer.disconnect();\n",
       "        }}\n",
       "}});\n",
       "\n",
       "// Listen for the removal of the full notebook cells\n",
       "var notebookContainer = gd.closest('#notebook-container');\n",
       "if (notebookContainer) {{\n",
       "    x.observe(notebookContainer, {childList: true});\n",
       "}}\n",
       "\n",
       "// Listen for the clearing of the current output cell\n",
       "var outputEl = gd.closest('.output');\n",
       "if (outputEl) {{\n",
       "    x.observe(outputEl, {childList: true});\n",
       "}}\n",
       "\n",
       "                        })                };                });            </script>        </div>"
      ]
     },
     "metadata": {},
     "output_type": "display_data"
    }
   ],
   "source": [
    "company1 = '5150'\n",
    "company2 = 'A. Morin'\n",
    "radar_plot(company1, company2)"
   ]
  },
  {
   "cell_type": "code",
   "execution_count": 50,
   "metadata": {},
   "outputs": [
    {
     "data": {
      "text/plain": [
       "[0.76, 3.5, 3.0]"
      ]
     },
     "execution_count": 50,
     "metadata": {},
     "output_type": "execute_result"
    }
   ],
   "source": [
    "#company1_list = radar[radar['company_name'] == company1][feat_radar].values\n",
    "company1_list = []\n",
    "\n",
    "company1_df = pd.DataFrame(radar[radar['company_name'] == company1])\n",
    "for i in range(len(radar.columns)-1):\n",
    "    company1_list.append(radar[radar['company_name'] == company1].iloc[0,i])\n",
    "\n",
    "company1_list"
   ]
  },
  {
   "cell_type": "code",
   "execution_count": 51,
   "metadata": {},
   "outputs": [
    {
     "data": {
      "text/plain": [
       "[0.6888, 3.4, 3.96]"
      ]
     },
     "execution_count": 51,
     "metadata": {},
     "output_type": "execute_result"
    }
   ],
   "source": [
    "company2_list = []\n",
    "\n",
    "company2_df = pd.DataFrame(radar[radar['company_name'] == company2])\n",
    "for i in range(len(radar.columns)-1):\n",
    "    company2_list.append(radar[radar['company_name'] == company2].iloc[0,i])\n",
    "\n",
    "company2_list"
   ]
  },
  {
   "cell_type": "code",
   "execution_count": 52,
   "metadata": {
    "scrolled": false
   },
   "outputs": [
    {
     "data": {
      "application/vnd.plotly.v1+json": {
       "config": {
        "plotlyServerURL": "https://plot.ly"
       },
       "data": [
        {
         "fill": "toself",
         "hoverinfo": "text",
         "marker": {
          "color": "rgb(45,0,198)"
         },
         "name": "5150",
         "opacity": 1,
         "r": [
          0.76,
          3.5,
          3
         ],
         "theta": [
          "cocoa_percent",
          "rating",
          "counts_of_ingredients"
         ],
         "type": "scatterpolar"
        },
        {
         "fill": "toself",
         "hoverinfo": "text",
         "marker": {
          "color": "rgb(255,171,0)"
         },
         "name": "A. Morin",
         "r": [
          0.6888,
          3.4,
          3.96
         ],
         "theta": [
          "cocoa_percent",
          "rating",
          "counts_of_ingredients"
         ],
         "type": "scatterpolar"
        }
       ],
       "layout": {
        "polar": {
         "radialaxis": {
          "range": [
           0,
           5
          ],
          "visible": true
         }
        },
        "showlegend": false,
        "template": {
         "data": {
          "bar": [
           {
            "error_x": {
             "color": "#2a3f5f"
            },
            "error_y": {
             "color": "#2a3f5f"
            },
            "marker": {
             "line": {
              "color": "#E5ECF6",
              "width": 0.5
             },
             "pattern": {
              "fillmode": "overlay",
              "size": 10,
              "solidity": 0.2
             }
            },
            "type": "bar"
           }
          ],
          "barpolar": [
           {
            "marker": {
             "line": {
              "color": "#E5ECF6",
              "width": 0.5
             },
             "pattern": {
              "fillmode": "overlay",
              "size": 10,
              "solidity": 0.2
             }
            },
            "type": "barpolar"
           }
          ],
          "carpet": [
           {
            "aaxis": {
             "endlinecolor": "#2a3f5f",
             "gridcolor": "white",
             "linecolor": "white",
             "minorgridcolor": "white",
             "startlinecolor": "#2a3f5f"
            },
            "baxis": {
             "endlinecolor": "#2a3f5f",
             "gridcolor": "white",
             "linecolor": "white",
             "minorgridcolor": "white",
             "startlinecolor": "#2a3f5f"
            },
            "type": "carpet"
           }
          ],
          "choropleth": [
           {
            "colorbar": {
             "outlinewidth": 0,
             "ticks": ""
            },
            "type": "choropleth"
           }
          ],
          "contour": [
           {
            "colorbar": {
             "outlinewidth": 0,
             "ticks": ""
            },
            "colorscale": [
             [
              0,
              "#0d0887"
             ],
             [
              0.1111111111111111,
              "#46039f"
             ],
             [
              0.2222222222222222,
              "#7201a8"
             ],
             [
              0.3333333333333333,
              "#9c179e"
             ],
             [
              0.4444444444444444,
              "#bd3786"
             ],
             [
              0.5555555555555556,
              "#d8576b"
             ],
             [
              0.6666666666666666,
              "#ed7953"
             ],
             [
              0.7777777777777778,
              "#fb9f3a"
             ],
             [
              0.8888888888888888,
              "#fdca26"
             ],
             [
              1,
              "#f0f921"
             ]
            ],
            "type": "contour"
           }
          ],
          "contourcarpet": [
           {
            "colorbar": {
             "outlinewidth": 0,
             "ticks": ""
            },
            "type": "contourcarpet"
           }
          ],
          "heatmap": [
           {
            "colorbar": {
             "outlinewidth": 0,
             "ticks": ""
            },
            "colorscale": [
             [
              0,
              "#0d0887"
             ],
             [
              0.1111111111111111,
              "#46039f"
             ],
             [
              0.2222222222222222,
              "#7201a8"
             ],
             [
              0.3333333333333333,
              "#9c179e"
             ],
             [
              0.4444444444444444,
              "#bd3786"
             ],
             [
              0.5555555555555556,
              "#d8576b"
             ],
             [
              0.6666666666666666,
              "#ed7953"
             ],
             [
              0.7777777777777778,
              "#fb9f3a"
             ],
             [
              0.8888888888888888,
              "#fdca26"
             ],
             [
              1,
              "#f0f921"
             ]
            ],
            "type": "heatmap"
           }
          ],
          "heatmapgl": [
           {
            "colorbar": {
             "outlinewidth": 0,
             "ticks": ""
            },
            "colorscale": [
             [
              0,
              "#0d0887"
             ],
             [
              0.1111111111111111,
              "#46039f"
             ],
             [
              0.2222222222222222,
              "#7201a8"
             ],
             [
              0.3333333333333333,
              "#9c179e"
             ],
             [
              0.4444444444444444,
              "#bd3786"
             ],
             [
              0.5555555555555556,
              "#d8576b"
             ],
             [
              0.6666666666666666,
              "#ed7953"
             ],
             [
              0.7777777777777778,
              "#fb9f3a"
             ],
             [
              0.8888888888888888,
              "#fdca26"
             ],
             [
              1,
              "#f0f921"
             ]
            ],
            "type": "heatmapgl"
           }
          ],
          "histogram": [
           {
            "marker": {
             "pattern": {
              "fillmode": "overlay",
              "size": 10,
              "solidity": 0.2
             }
            },
            "type": "histogram"
           }
          ],
          "histogram2d": [
           {
            "colorbar": {
             "outlinewidth": 0,
             "ticks": ""
            },
            "colorscale": [
             [
              0,
              "#0d0887"
             ],
             [
              0.1111111111111111,
              "#46039f"
             ],
             [
              0.2222222222222222,
              "#7201a8"
             ],
             [
              0.3333333333333333,
              "#9c179e"
             ],
             [
              0.4444444444444444,
              "#bd3786"
             ],
             [
              0.5555555555555556,
              "#d8576b"
             ],
             [
              0.6666666666666666,
              "#ed7953"
             ],
             [
              0.7777777777777778,
              "#fb9f3a"
             ],
             [
              0.8888888888888888,
              "#fdca26"
             ],
             [
              1,
              "#f0f921"
             ]
            ],
            "type": "histogram2d"
           }
          ],
          "histogram2dcontour": [
           {
            "colorbar": {
             "outlinewidth": 0,
             "ticks": ""
            },
            "colorscale": [
             [
              0,
              "#0d0887"
             ],
             [
              0.1111111111111111,
              "#46039f"
             ],
             [
              0.2222222222222222,
              "#7201a8"
             ],
             [
              0.3333333333333333,
              "#9c179e"
             ],
             [
              0.4444444444444444,
              "#bd3786"
             ],
             [
              0.5555555555555556,
              "#d8576b"
             ],
             [
              0.6666666666666666,
              "#ed7953"
             ],
             [
              0.7777777777777778,
              "#fb9f3a"
             ],
             [
              0.8888888888888888,
              "#fdca26"
             ],
             [
              1,
              "#f0f921"
             ]
            ],
            "type": "histogram2dcontour"
           }
          ],
          "mesh3d": [
           {
            "colorbar": {
             "outlinewidth": 0,
             "ticks": ""
            },
            "type": "mesh3d"
           }
          ],
          "parcoords": [
           {
            "line": {
             "colorbar": {
              "outlinewidth": 0,
              "ticks": ""
             }
            },
            "type": "parcoords"
           }
          ],
          "pie": [
           {
            "automargin": true,
            "type": "pie"
           }
          ],
          "scatter": [
           {
            "marker": {
             "colorbar": {
              "outlinewidth": 0,
              "ticks": ""
             }
            },
            "type": "scatter"
           }
          ],
          "scatter3d": [
           {
            "line": {
             "colorbar": {
              "outlinewidth": 0,
              "ticks": ""
             }
            },
            "marker": {
             "colorbar": {
              "outlinewidth": 0,
              "ticks": ""
             }
            },
            "type": "scatter3d"
           }
          ],
          "scattercarpet": [
           {
            "marker": {
             "colorbar": {
              "outlinewidth": 0,
              "ticks": ""
             }
            },
            "type": "scattercarpet"
           }
          ],
          "scattergeo": [
           {
            "marker": {
             "colorbar": {
              "outlinewidth": 0,
              "ticks": ""
             }
            },
            "type": "scattergeo"
           }
          ],
          "scattergl": [
           {
            "marker": {
             "colorbar": {
              "outlinewidth": 0,
              "ticks": ""
             }
            },
            "type": "scattergl"
           }
          ],
          "scattermapbox": [
           {
            "marker": {
             "colorbar": {
              "outlinewidth": 0,
              "ticks": ""
             }
            },
            "type": "scattermapbox"
           }
          ],
          "scatterpolar": [
           {
            "marker": {
             "colorbar": {
              "outlinewidth": 0,
              "ticks": ""
             }
            },
            "type": "scatterpolar"
           }
          ],
          "scatterpolargl": [
           {
            "marker": {
             "colorbar": {
              "outlinewidth": 0,
              "ticks": ""
             }
            },
            "type": "scatterpolargl"
           }
          ],
          "scatterternary": [
           {
            "marker": {
             "colorbar": {
              "outlinewidth": 0,
              "ticks": ""
             }
            },
            "type": "scatterternary"
           }
          ],
          "surface": [
           {
            "colorbar": {
             "outlinewidth": 0,
             "ticks": ""
            },
            "colorscale": [
             [
              0,
              "#0d0887"
             ],
             [
              0.1111111111111111,
              "#46039f"
             ],
             [
              0.2222222222222222,
              "#7201a8"
             ],
             [
              0.3333333333333333,
              "#9c179e"
             ],
             [
              0.4444444444444444,
              "#bd3786"
             ],
             [
              0.5555555555555556,
              "#d8576b"
             ],
             [
              0.6666666666666666,
              "#ed7953"
             ],
             [
              0.7777777777777778,
              "#fb9f3a"
             ],
             [
              0.8888888888888888,
              "#fdca26"
             ],
             [
              1,
              "#f0f921"
             ]
            ],
            "type": "surface"
           }
          ],
          "table": [
           {
            "cells": {
             "fill": {
              "color": "#EBF0F8"
             },
             "line": {
              "color": "white"
             }
            },
            "header": {
             "fill": {
              "color": "#C8D4E3"
             },
             "line": {
              "color": "white"
             }
            },
            "type": "table"
           }
          ]
         },
         "layout": {
          "annotationdefaults": {
           "arrowcolor": "#2a3f5f",
           "arrowhead": 0,
           "arrowwidth": 1
          },
          "autotypenumbers": "strict",
          "coloraxis": {
           "colorbar": {
            "outlinewidth": 0,
            "ticks": ""
           }
          },
          "colorscale": {
           "diverging": [
            [
             0,
             "#8e0152"
            ],
            [
             0.1,
             "#c51b7d"
            ],
            [
             0.2,
             "#de77ae"
            ],
            [
             0.3,
             "#f1b6da"
            ],
            [
             0.4,
             "#fde0ef"
            ],
            [
             0.5,
             "#f7f7f7"
            ],
            [
             0.6,
             "#e6f5d0"
            ],
            [
             0.7,
             "#b8e186"
            ],
            [
             0.8,
             "#7fbc41"
            ],
            [
             0.9,
             "#4d9221"
            ],
            [
             1,
             "#276419"
            ]
           ],
           "sequential": [
            [
             0,
             "#0d0887"
            ],
            [
             0.1111111111111111,
             "#46039f"
            ],
            [
             0.2222222222222222,
             "#7201a8"
            ],
            [
             0.3333333333333333,
             "#9c179e"
            ],
            [
             0.4444444444444444,
             "#bd3786"
            ],
            [
             0.5555555555555556,
             "#d8576b"
            ],
            [
             0.6666666666666666,
             "#ed7953"
            ],
            [
             0.7777777777777778,
             "#fb9f3a"
            ],
            [
             0.8888888888888888,
             "#fdca26"
            ],
            [
             1,
             "#f0f921"
            ]
           ],
           "sequentialminus": [
            [
             0,
             "#0d0887"
            ],
            [
             0.1111111111111111,
             "#46039f"
            ],
            [
             0.2222222222222222,
             "#7201a8"
            ],
            [
             0.3333333333333333,
             "#9c179e"
            ],
            [
             0.4444444444444444,
             "#bd3786"
            ],
            [
             0.5555555555555556,
             "#d8576b"
            ],
            [
             0.6666666666666666,
             "#ed7953"
            ],
            [
             0.7777777777777778,
             "#fb9f3a"
            ],
            [
             0.8888888888888888,
             "#fdca26"
            ],
            [
             1,
             "#f0f921"
            ]
           ]
          },
          "colorway": [
           "#636efa",
           "#EF553B",
           "#00cc96",
           "#ab63fa",
           "#FFA15A",
           "#19d3f3",
           "#FF6692",
           "#B6E880",
           "#FF97FF",
           "#FECB52"
          ],
          "font": {
           "color": "#2a3f5f"
          },
          "geo": {
           "bgcolor": "white",
           "lakecolor": "white",
           "landcolor": "#E5ECF6",
           "showlakes": true,
           "showland": true,
           "subunitcolor": "white"
          },
          "hoverlabel": {
           "align": "left"
          },
          "hovermode": "closest",
          "mapbox": {
           "style": "light"
          },
          "paper_bgcolor": "white",
          "plot_bgcolor": "#E5ECF6",
          "polar": {
           "angularaxis": {
            "gridcolor": "white",
            "linecolor": "white",
            "ticks": ""
           },
           "bgcolor": "#E5ECF6",
           "radialaxis": {
            "gridcolor": "white",
            "linecolor": "white",
            "ticks": ""
           }
          },
          "scene": {
           "xaxis": {
            "backgroundcolor": "#E5ECF6",
            "gridcolor": "white",
            "gridwidth": 2,
            "linecolor": "white",
            "showbackground": true,
            "ticks": "",
            "zerolinecolor": "white"
           },
           "yaxis": {
            "backgroundcolor": "#E5ECF6",
            "gridcolor": "white",
            "gridwidth": 2,
            "linecolor": "white",
            "showbackground": true,
            "ticks": "",
            "zerolinecolor": "white"
           },
           "zaxis": {
            "backgroundcolor": "#E5ECF6",
            "gridcolor": "white",
            "gridwidth": 2,
            "linecolor": "white",
            "showbackground": true,
            "ticks": "",
            "zerolinecolor": "white"
           }
          },
          "shapedefaults": {
           "line": {
            "color": "#2a3f5f"
           }
          },
          "ternary": {
           "aaxis": {
            "gridcolor": "white",
            "linecolor": "white",
            "ticks": ""
           },
           "baxis": {
            "gridcolor": "white",
            "linecolor": "white",
            "ticks": ""
           },
           "bgcolor": "#E5ECF6",
           "caxis": {
            "gridcolor": "white",
            "linecolor": "white",
            "ticks": ""
           }
          },
          "title": {
           "x": 0.05
          },
          "xaxis": {
           "automargin": true,
           "gridcolor": "white",
           "linecolor": "white",
           "ticks": "",
           "title": {
            "standoff": 15
           },
           "zerolinecolor": "white",
           "zerolinewidth": 2
          },
          "yaxis": {
           "automargin": true,
           "gridcolor": "white",
           "linecolor": "white",
           "ticks": "",
           "title": {
            "standoff": 15
           },
           "zerolinecolor": "white",
           "zerolinewidth": 2
          }
         }
        }
       }
      },
      "text/html": [
       "<div>                            <div id=\"e8c18035-bbb3-42ae-b1f9-4527b8c9d124\" class=\"plotly-graph-div\" style=\"height:525px; width:100%;\"></div>            <script type=\"text/javascript\">                require([\"plotly\"], function(Plotly) {                    window.PLOTLYENV=window.PLOTLYENV || {};                                    if (document.getElementById(\"e8c18035-bbb3-42ae-b1f9-4527b8c9d124\")) {                    Plotly.newPlot(                        \"e8c18035-bbb3-42ae-b1f9-4527b8c9d124\",                        [{\"fill\":\"toself\",\"hoverinfo\":\"text\",\"marker\":{\"color\":\"rgb(45,0,198)\"},\"name\":\"5150\",\"opacity\":1,\"r\":[0.76,3.5,3.0],\"theta\":[\"cocoa_percent\",\"rating\",\"counts_of_ingredients\"],\"type\":\"scatterpolar\"},{\"fill\":\"toself\",\"hoverinfo\":\"text\",\"marker\":{\"color\":\"rgb(255,171,0)\"},\"name\":\"A. Morin\",\"r\":[0.6888,3.4,3.96],\"theta\":[\"cocoa_percent\",\"rating\",\"counts_of_ingredients\"],\"type\":\"scatterpolar\"}],                        {\"polar\":{\"radialaxis\":{\"range\":[0,5],\"visible\":true}},\"showlegend\":false,\"template\":{\"data\":{\"bar\":[{\"error_x\":{\"color\":\"#2a3f5f\"},\"error_y\":{\"color\":\"#2a3f5f\"},\"marker\":{\"line\":{\"color\":\"#E5ECF6\",\"width\":0.5},\"pattern\":{\"fillmode\":\"overlay\",\"size\":10,\"solidity\":0.2}},\"type\":\"bar\"}],\"barpolar\":[{\"marker\":{\"line\":{\"color\":\"#E5ECF6\",\"width\":0.5},\"pattern\":{\"fillmode\":\"overlay\",\"size\":10,\"solidity\":0.2}},\"type\":\"barpolar\"}],\"carpet\":[{\"aaxis\":{\"endlinecolor\":\"#2a3f5f\",\"gridcolor\":\"white\",\"linecolor\":\"white\",\"minorgridcolor\":\"white\",\"startlinecolor\":\"#2a3f5f\"},\"baxis\":{\"endlinecolor\":\"#2a3f5f\",\"gridcolor\":\"white\",\"linecolor\":\"white\",\"minorgridcolor\":\"white\",\"startlinecolor\":\"#2a3f5f\"},\"type\":\"carpet\"}],\"choropleth\":[{\"colorbar\":{\"outlinewidth\":0,\"ticks\":\"\"},\"type\":\"choropleth\"}],\"contour\":[{\"colorbar\":{\"outlinewidth\":0,\"ticks\":\"\"},\"colorscale\":[[0.0,\"#0d0887\"],[0.1111111111111111,\"#46039f\"],[0.2222222222222222,\"#7201a8\"],[0.3333333333333333,\"#9c179e\"],[0.4444444444444444,\"#bd3786\"],[0.5555555555555556,\"#d8576b\"],[0.6666666666666666,\"#ed7953\"],[0.7777777777777778,\"#fb9f3a\"],[0.8888888888888888,\"#fdca26\"],[1.0,\"#f0f921\"]],\"type\":\"contour\"}],\"contourcarpet\":[{\"colorbar\":{\"outlinewidth\":0,\"ticks\":\"\"},\"type\":\"contourcarpet\"}],\"heatmap\":[{\"colorbar\":{\"outlinewidth\":0,\"ticks\":\"\"},\"colorscale\":[[0.0,\"#0d0887\"],[0.1111111111111111,\"#46039f\"],[0.2222222222222222,\"#7201a8\"],[0.3333333333333333,\"#9c179e\"],[0.4444444444444444,\"#bd3786\"],[0.5555555555555556,\"#d8576b\"],[0.6666666666666666,\"#ed7953\"],[0.7777777777777778,\"#fb9f3a\"],[0.8888888888888888,\"#fdca26\"],[1.0,\"#f0f921\"]],\"type\":\"heatmap\"}],\"heatmapgl\":[{\"colorbar\":{\"outlinewidth\":0,\"ticks\":\"\"},\"colorscale\":[[0.0,\"#0d0887\"],[0.1111111111111111,\"#46039f\"],[0.2222222222222222,\"#7201a8\"],[0.3333333333333333,\"#9c179e\"],[0.4444444444444444,\"#bd3786\"],[0.5555555555555556,\"#d8576b\"],[0.6666666666666666,\"#ed7953\"],[0.7777777777777778,\"#fb9f3a\"],[0.8888888888888888,\"#fdca26\"],[1.0,\"#f0f921\"]],\"type\":\"heatmapgl\"}],\"histogram\":[{\"marker\":{\"pattern\":{\"fillmode\":\"overlay\",\"size\":10,\"solidity\":0.2}},\"type\":\"histogram\"}],\"histogram2d\":[{\"colorbar\":{\"outlinewidth\":0,\"ticks\":\"\"},\"colorscale\":[[0.0,\"#0d0887\"],[0.1111111111111111,\"#46039f\"],[0.2222222222222222,\"#7201a8\"],[0.3333333333333333,\"#9c179e\"],[0.4444444444444444,\"#bd3786\"],[0.5555555555555556,\"#d8576b\"],[0.6666666666666666,\"#ed7953\"],[0.7777777777777778,\"#fb9f3a\"],[0.8888888888888888,\"#fdca26\"],[1.0,\"#f0f921\"]],\"type\":\"histogram2d\"}],\"histogram2dcontour\":[{\"colorbar\":{\"outlinewidth\":0,\"ticks\":\"\"},\"colorscale\":[[0.0,\"#0d0887\"],[0.1111111111111111,\"#46039f\"],[0.2222222222222222,\"#7201a8\"],[0.3333333333333333,\"#9c179e\"],[0.4444444444444444,\"#bd3786\"],[0.5555555555555556,\"#d8576b\"],[0.6666666666666666,\"#ed7953\"],[0.7777777777777778,\"#fb9f3a\"],[0.8888888888888888,\"#fdca26\"],[1.0,\"#f0f921\"]],\"type\":\"histogram2dcontour\"}],\"mesh3d\":[{\"colorbar\":{\"outlinewidth\":0,\"ticks\":\"\"},\"type\":\"mesh3d\"}],\"parcoords\":[{\"line\":{\"colorbar\":{\"outlinewidth\":0,\"ticks\":\"\"}},\"type\":\"parcoords\"}],\"pie\":[{\"automargin\":true,\"type\":\"pie\"}],\"scatter\":[{\"marker\":{\"colorbar\":{\"outlinewidth\":0,\"ticks\":\"\"}},\"type\":\"scatter\"}],\"scatter3d\":[{\"line\":{\"colorbar\":{\"outlinewidth\":0,\"ticks\":\"\"}},\"marker\":{\"colorbar\":{\"outlinewidth\":0,\"ticks\":\"\"}},\"type\":\"scatter3d\"}],\"scattercarpet\":[{\"marker\":{\"colorbar\":{\"outlinewidth\":0,\"ticks\":\"\"}},\"type\":\"scattercarpet\"}],\"scattergeo\":[{\"marker\":{\"colorbar\":{\"outlinewidth\":0,\"ticks\":\"\"}},\"type\":\"scattergeo\"}],\"scattergl\":[{\"marker\":{\"colorbar\":{\"outlinewidth\":0,\"ticks\":\"\"}},\"type\":\"scattergl\"}],\"scattermapbox\":[{\"marker\":{\"colorbar\":{\"outlinewidth\":0,\"ticks\":\"\"}},\"type\":\"scattermapbox\"}],\"scatterpolar\":[{\"marker\":{\"colorbar\":{\"outlinewidth\":0,\"ticks\":\"\"}},\"type\":\"scatterpolar\"}],\"scatterpolargl\":[{\"marker\":{\"colorbar\":{\"outlinewidth\":0,\"ticks\":\"\"}},\"type\":\"scatterpolargl\"}],\"scatterternary\":[{\"marker\":{\"colorbar\":{\"outlinewidth\":0,\"ticks\":\"\"}},\"type\":\"scatterternary\"}],\"surface\":[{\"colorbar\":{\"outlinewidth\":0,\"ticks\":\"\"},\"colorscale\":[[0.0,\"#0d0887\"],[0.1111111111111111,\"#46039f\"],[0.2222222222222222,\"#7201a8\"],[0.3333333333333333,\"#9c179e\"],[0.4444444444444444,\"#bd3786\"],[0.5555555555555556,\"#d8576b\"],[0.6666666666666666,\"#ed7953\"],[0.7777777777777778,\"#fb9f3a\"],[0.8888888888888888,\"#fdca26\"],[1.0,\"#f0f921\"]],\"type\":\"surface\"}],\"table\":[{\"cells\":{\"fill\":{\"color\":\"#EBF0F8\"},\"line\":{\"color\":\"white\"}},\"header\":{\"fill\":{\"color\":\"#C8D4E3\"},\"line\":{\"color\":\"white\"}},\"type\":\"table\"}]},\"layout\":{\"annotationdefaults\":{\"arrowcolor\":\"#2a3f5f\",\"arrowhead\":0,\"arrowwidth\":1},\"autotypenumbers\":\"strict\",\"coloraxis\":{\"colorbar\":{\"outlinewidth\":0,\"ticks\":\"\"}},\"colorscale\":{\"diverging\":[[0,\"#8e0152\"],[0.1,\"#c51b7d\"],[0.2,\"#de77ae\"],[0.3,\"#f1b6da\"],[0.4,\"#fde0ef\"],[0.5,\"#f7f7f7\"],[0.6,\"#e6f5d0\"],[0.7,\"#b8e186\"],[0.8,\"#7fbc41\"],[0.9,\"#4d9221\"],[1,\"#276419\"]],\"sequential\":[[0.0,\"#0d0887\"],[0.1111111111111111,\"#46039f\"],[0.2222222222222222,\"#7201a8\"],[0.3333333333333333,\"#9c179e\"],[0.4444444444444444,\"#bd3786\"],[0.5555555555555556,\"#d8576b\"],[0.6666666666666666,\"#ed7953\"],[0.7777777777777778,\"#fb9f3a\"],[0.8888888888888888,\"#fdca26\"],[1.0,\"#f0f921\"]],\"sequentialminus\":[[0.0,\"#0d0887\"],[0.1111111111111111,\"#46039f\"],[0.2222222222222222,\"#7201a8\"],[0.3333333333333333,\"#9c179e\"],[0.4444444444444444,\"#bd3786\"],[0.5555555555555556,\"#d8576b\"],[0.6666666666666666,\"#ed7953\"],[0.7777777777777778,\"#fb9f3a\"],[0.8888888888888888,\"#fdca26\"],[1.0,\"#f0f921\"]]},\"colorway\":[\"#636efa\",\"#EF553B\",\"#00cc96\",\"#ab63fa\",\"#FFA15A\",\"#19d3f3\",\"#FF6692\",\"#B6E880\",\"#FF97FF\",\"#FECB52\"],\"font\":{\"color\":\"#2a3f5f\"},\"geo\":{\"bgcolor\":\"white\",\"lakecolor\":\"white\",\"landcolor\":\"#E5ECF6\",\"showlakes\":true,\"showland\":true,\"subunitcolor\":\"white\"},\"hoverlabel\":{\"align\":\"left\"},\"hovermode\":\"closest\",\"mapbox\":{\"style\":\"light\"},\"paper_bgcolor\":\"white\",\"plot_bgcolor\":\"#E5ECF6\",\"polar\":{\"angularaxis\":{\"gridcolor\":\"white\",\"linecolor\":\"white\",\"ticks\":\"\"},\"bgcolor\":\"#E5ECF6\",\"radialaxis\":{\"gridcolor\":\"white\",\"linecolor\":\"white\",\"ticks\":\"\"}},\"scene\":{\"xaxis\":{\"backgroundcolor\":\"#E5ECF6\",\"gridcolor\":\"white\",\"gridwidth\":2,\"linecolor\":\"white\",\"showbackground\":true,\"ticks\":\"\",\"zerolinecolor\":\"white\"},\"yaxis\":{\"backgroundcolor\":\"#E5ECF6\",\"gridcolor\":\"white\",\"gridwidth\":2,\"linecolor\":\"white\",\"showbackground\":true,\"ticks\":\"\",\"zerolinecolor\":\"white\"},\"zaxis\":{\"backgroundcolor\":\"#E5ECF6\",\"gridcolor\":\"white\",\"gridwidth\":2,\"linecolor\":\"white\",\"showbackground\":true,\"ticks\":\"\",\"zerolinecolor\":\"white\"}},\"shapedefaults\":{\"line\":{\"color\":\"#2a3f5f\"}},\"ternary\":{\"aaxis\":{\"gridcolor\":\"white\",\"linecolor\":\"white\",\"ticks\":\"\"},\"baxis\":{\"gridcolor\":\"white\",\"linecolor\":\"white\",\"ticks\":\"\"},\"bgcolor\":\"#E5ECF6\",\"caxis\":{\"gridcolor\":\"white\",\"linecolor\":\"white\",\"ticks\":\"\"}},\"title\":{\"x\":0.05},\"xaxis\":{\"automargin\":true,\"gridcolor\":\"white\",\"linecolor\":\"white\",\"ticks\":\"\",\"title\":{\"standoff\":15},\"zerolinecolor\":\"white\",\"zerolinewidth\":2},\"yaxis\":{\"automargin\":true,\"gridcolor\":\"white\",\"linecolor\":\"white\",\"ticks\":\"\",\"title\":{\"standoff\":15},\"zerolinecolor\":\"white\",\"zerolinewidth\":2}}}},                        {\"responsive\": true}                    ).then(function(){\n",
       "                            \n",
       "var gd = document.getElementById('e8c18035-bbb3-42ae-b1f9-4527b8c9d124');\n",
       "var x = new MutationObserver(function (mutations, observer) {{\n",
       "        var display = window.getComputedStyle(gd).display;\n",
       "        if (!display || display === 'none') {{\n",
       "            console.log([gd, 'removed!']);\n",
       "            Plotly.purge(gd);\n",
       "            observer.disconnect();\n",
       "        }}\n",
       "}});\n",
       "\n",
       "// Listen for the removal of the full notebook cells\n",
       "var notebookContainer = gd.closest('#notebook-container');\n",
       "if (notebookContainer) {{\n",
       "    x.observe(notebookContainer, {childList: true});\n",
       "}}\n",
       "\n",
       "// Listen for the clearing of the current output cell\n",
       "var outputEl = gd.closest('.output');\n",
       "if (outputEl) {{\n",
       "    x.observe(outputEl, {childList: true});\n",
       "}}\n",
       "\n",
       "                        })                };                });            </script>        </div>"
      ]
     },
     "metadata": {},
     "output_type": "display_data"
    }
   ],
   "source": [
    "\n",
    "fig = go.Figure(data=go.Scatterpolar(\n",
    "        r=company1_list,\n",
    "        theta=feat_radar,\n",
    "        fill='toself', \n",
    "        marker_color = 'rgb(45,0,198)',   \n",
    "        opacity =1, \n",
    "        hoverinfo = \"text\" ,\n",
    "        name = company1\n",
    "        #text  = [company1_df.index[i] +' = ' + str(company1_df['total'][i]) for i in range(len(company1_df))]\n",
    "    ))\n",
    "fig.add_trace(go.Scatterpolar(\n",
    "        r=company2_list,\n",
    "        theta=feat_radar,\n",
    "        fill='toself',\n",
    "        marker_color = 'rgb(255,171,0)',\n",
    "        hoverinfo = \"text\" ,\n",
    "        name= company2,\n",
    "        #text  = [radar.columns()[i] +' = ' + str(radar['total'][i]) for i in range(len(company2_df))]\n",
    "        ))\n",
    "\n",
    "fig.update_layout(\n",
    "  polar=dict(\n",
    "    radialaxis=dict(\n",
    "      visible=True,\n",
    "      range=[0, 5]\n",
    "    )),\n",
    "  showlegend=False\n",
    ")\n",
    "\n",
    "fig.show()"
   ]
  },
  {
   "cell_type": "markdown",
   "metadata": {},
   "source": [
    "### Column count_tastes\n"
   ]
  },
  {
   "cell_type": "code",
   "execution_count": 53,
   "metadata": {},
   "outputs": [
    {
     "data": {
      "text/html": [
       "<div>\n",
       "<style scoped>\n",
       "    .dataframe tbody tr th:only-of-type {\n",
       "        vertical-align: middle;\n",
       "    }\n",
       "\n",
       "    .dataframe tbody tr th {\n",
       "        vertical-align: top;\n",
       "    }\n",
       "\n",
       "    .dataframe thead th {\n",
       "        text-align: right;\n",
       "    }\n",
       "</style>\n",
       "<table border=\"1\" class=\"dataframe\">\n",
       "  <thead>\n",
       "    <tr style=\"text-align: right;\">\n",
       "      <th></th>\n",
       "      <th>ref</th>\n",
       "      <th>company</th>\n",
       "      <th>company_location</th>\n",
       "      <th>review_date</th>\n",
       "      <th>country_of_bean_origin</th>\n",
       "      <th>specific_bean_origin_or_bar_name</th>\n",
       "      <th>cocoa_percent</th>\n",
       "      <th>rating</th>\n",
       "      <th>counts_of_ingredients</th>\n",
       "      <th>beans</th>\n",
       "      <th>...</th>\n",
       "      <th>third_taste</th>\n",
       "      <th>fourth_taste</th>\n",
       "      <th>country_x</th>\n",
       "      <th>company_continent</th>\n",
       "      <th>company_region</th>\n",
       "      <th>company_code_2</th>\n",
       "      <th>country_y</th>\n",
       "      <th>bean_continent</th>\n",
       "      <th>bean_region</th>\n",
       "      <th>bean_code_2</th>\n",
       "    </tr>\n",
       "  </thead>\n",
       "  <tbody>\n",
       "    <tr>\n",
       "      <th>0</th>\n",
       "      <td>2454</td>\n",
       "      <td>5150</td>\n",
       "      <td>United States of America</td>\n",
       "      <td>2019</td>\n",
       "      <td>Madagascar</td>\n",
       "      <td>Bejofo Estate, batch 1</td>\n",
       "      <td>76.0</td>\n",
       "      <td>3.75</td>\n",
       "      <td>3</td>\n",
       "      <td>have_bean</td>\n",
       "      <td>...</td>\n",
       "      <td>full body</td>\n",
       "      <td>NaN</td>\n",
       "      <td>United States of America</td>\n",
       "      <td>Americas</td>\n",
       "      <td>Northern America</td>\n",
       "      <td>US</td>\n",
       "      <td>Madagascar</td>\n",
       "      <td>Africa</td>\n",
       "      <td>Eastern Africa</td>\n",
       "      <td>MG</td>\n",
       "    </tr>\n",
       "    <tr>\n",
       "      <th>1</th>\n",
       "      <td>2458</td>\n",
       "      <td>5150</td>\n",
       "      <td>United States of America</td>\n",
       "      <td>2019</td>\n",
       "      <td>Dominican Republic</td>\n",
       "      <td>Zorzal, batch 1</td>\n",
       "      <td>76.0</td>\n",
       "      <td>3.50</td>\n",
       "      <td>3</td>\n",
       "      <td>have_bean</td>\n",
       "      <td>...</td>\n",
       "      <td>savory</td>\n",
       "      <td>NaN</td>\n",
       "      <td>United States of America</td>\n",
       "      <td>Americas</td>\n",
       "      <td>Northern America</td>\n",
       "      <td>US</td>\n",
       "      <td>Dominican Republic</td>\n",
       "      <td>Americas</td>\n",
       "      <td>Caribbean</td>\n",
       "      <td>DO</td>\n",
       "    </tr>\n",
       "    <tr>\n",
       "      <th>2</th>\n",
       "      <td>2454</td>\n",
       "      <td>5150</td>\n",
       "      <td>United States of America</td>\n",
       "      <td>2019</td>\n",
       "      <td>Tanzania, United Republic of</td>\n",
       "      <td>Kokoa Kamili, batch 1</td>\n",
       "      <td>76.0</td>\n",
       "      <td>3.25</td>\n",
       "      <td>3</td>\n",
       "      <td>have_bean</td>\n",
       "      <td>...</td>\n",
       "      <td>bready</td>\n",
       "      <td>NaN</td>\n",
       "      <td>United States of America</td>\n",
       "      <td>Americas</td>\n",
       "      <td>Northern America</td>\n",
       "      <td>US</td>\n",
       "      <td>Tanzania, United Republic of</td>\n",
       "      <td>Africa</td>\n",
       "      <td>Eastern Africa</td>\n",
       "      <td>TZ</td>\n",
       "    </tr>\n",
       "    <tr>\n",
       "      <th>3</th>\n",
       "      <td>797</td>\n",
       "      <td>A. Morin</td>\n",
       "      <td>France</td>\n",
       "      <td>2012</td>\n",
       "      <td>Peru</td>\n",
       "      <td>Peru</td>\n",
       "      <td>63.0</td>\n",
       "      <td>3.75</td>\n",
       "      <td>4</td>\n",
       "      <td>have_bean</td>\n",
       "      <td>...</td>\n",
       "      <td>roasty</td>\n",
       "      <td>NaN</td>\n",
       "      <td>France</td>\n",
       "      <td>Europe</td>\n",
       "      <td>Western Europe</td>\n",
       "      <td>FR</td>\n",
       "      <td>Peru</td>\n",
       "      <td>Americas</td>\n",
       "      <td>South America</td>\n",
       "      <td>PE</td>\n",
       "    </tr>\n",
       "    <tr>\n",
       "      <th>4</th>\n",
       "      <td>797</td>\n",
       "      <td>A. Morin</td>\n",
       "      <td>France</td>\n",
       "      <td>2012</td>\n",
       "      <td>Bolivia (Plurinational State of)</td>\n",
       "      <td>Bolivia</td>\n",
       "      <td>70.0</td>\n",
       "      <td>3.50</td>\n",
       "      <td>4</td>\n",
       "      <td>have_bean</td>\n",
       "      <td>...</td>\n",
       "      <td>NaN</td>\n",
       "      <td>NaN</td>\n",
       "      <td>France</td>\n",
       "      <td>Europe</td>\n",
       "      <td>Western Europe</td>\n",
       "      <td>FR</td>\n",
       "      <td>Bolivia (Plurinational State of)</td>\n",
       "      <td>Americas</td>\n",
       "      <td>South America</td>\n",
       "      <td>BO</td>\n",
       "    </tr>\n",
       "  </tbody>\n",
       "</table>\n",
       "<p>5 rows × 28 columns</p>\n",
       "</div>"
      ],
      "text/plain": [
       "    ref   company          company_location  review_date  \\\n",
       "0  2454      5150  United States of America         2019   \n",
       "1  2458      5150  United States of America         2019   \n",
       "2  2454      5150  United States of America         2019   \n",
       "3   797  A. Morin                    France         2012   \n",
       "4   797  A. Morin                    France         2012   \n",
       "\n",
       "             country_of_bean_origin specific_bean_origin_or_bar_name  \\\n",
       "0                        Madagascar           Bejofo Estate, batch 1   \n",
       "1                Dominican Republic                  Zorzal, batch 1   \n",
       "2      Tanzania, United Republic of            Kokoa Kamili, batch 1   \n",
       "3                              Peru                             Peru   \n",
       "4  Bolivia (Plurinational State of)                          Bolivia   \n",
       "\n",
       "   cocoa_percent  rating  counts_of_ingredients      beans  ... third_taste  \\\n",
       "0           76.0    3.75                      3  have_bean  ...   full body   \n",
       "1           76.0    3.50                      3  have_bean  ...      savory   \n",
       "2           76.0    3.25                      3  have_bean  ...      bready   \n",
       "3           63.0    3.75                      4  have_bean  ...      roasty   \n",
       "4           70.0    3.50                      4  have_bean  ...         NaN   \n",
       "\n",
       "  fourth_taste                 country_x company_continent    company_region  \\\n",
       "0          NaN  United States of America          Americas  Northern America   \n",
       "1          NaN  United States of America          Americas  Northern America   \n",
       "2          NaN  United States of America          Americas  Northern America   \n",
       "3          NaN                    France            Europe    Western Europe   \n",
       "4          NaN                    France            Europe    Western Europe   \n",
       "\n",
       "  company_code_2                         country_y bean_continent  \\\n",
       "0             US                        Madagascar         Africa   \n",
       "1             US                Dominican Republic       Americas   \n",
       "2             US      Tanzania, United Republic of         Africa   \n",
       "3             FR                              Peru       Americas   \n",
       "4             FR  Bolivia (Plurinational State of)       Americas   \n",
       "\n",
       "      bean_region bean_code_2  \n",
       "0  Eastern Africa          MG  \n",
       "1       Caribbean          DO  \n",
       "2  Eastern Africa          TZ  \n",
       "3   South America          PE  \n",
       "4   South America          BO  \n",
       "\n",
       "[5 rows x 28 columns]"
      ]
     },
     "execution_count": 53,
     "metadata": {},
     "output_type": "execute_result"
    }
   ],
   "source": [
    "test_taste = data\n",
    "test_taste.head()"
   ]
  },
  {
   "cell_type": "code",
   "execution_count": 54,
   "metadata": {},
   "outputs": [],
   "source": [
    "test_taste['first_taste'].fillna(value = 0, inplace = True)\n",
    "test_taste['second_taste'].fillna(value = 0, inplace = True)\n",
    "test_taste['third_taste'].fillna(value = 0, inplace = True)\n",
    "test_taste['fourth_taste'].fillna(value = 0, inplace = True)"
   ]
  },
  {
   "cell_type": "code",
   "execution_count": 55,
   "metadata": {},
   "outputs": [],
   "source": [
    "#taste = lambda x: 1 if x.isna() == False else 0\n",
    "taste = lambda x: 1 if x != 0 else x"
   ]
  },
  {
   "cell_type": "code",
   "execution_count": 56,
   "metadata": {},
   "outputs": [],
   "source": [
    "test_taste['binFirst_taste'] = test_taste['first_taste'].apply(taste)\n",
    "test_taste['binSecond_taste'] = test_taste['second_taste'].apply(taste)\n",
    "test_taste['binThird_taste'] = test_taste['third_taste'].apply(taste)\n",
    "test_taste['binFourth_taste'] = test_taste['fourth_taste'].apply(taste)"
   ]
  },
  {
   "cell_type": "code",
   "execution_count": 57,
   "metadata": {},
   "outputs": [
    {
     "data": {
      "text/html": [
       "<div>\n",
       "<style scoped>\n",
       "    .dataframe tbody tr th:only-of-type {\n",
       "        vertical-align: middle;\n",
       "    }\n",
       "\n",
       "    .dataframe tbody tr th {\n",
       "        vertical-align: top;\n",
       "    }\n",
       "\n",
       "    .dataframe thead th {\n",
       "        text-align: right;\n",
       "    }\n",
       "</style>\n",
       "<table border=\"1\" class=\"dataframe\">\n",
       "  <thead>\n",
       "    <tr style=\"text-align: right;\">\n",
       "      <th></th>\n",
       "      <th>ref</th>\n",
       "      <th>company</th>\n",
       "      <th>company_location</th>\n",
       "      <th>review_date</th>\n",
       "      <th>country_of_bean_origin</th>\n",
       "      <th>specific_bean_origin_or_bar_name</th>\n",
       "      <th>cocoa_percent</th>\n",
       "      <th>rating</th>\n",
       "      <th>counts_of_ingredients</th>\n",
       "      <th>beans</th>\n",
       "      <th>...</th>\n",
       "      <th>company_region</th>\n",
       "      <th>company_code_2</th>\n",
       "      <th>country_y</th>\n",
       "      <th>bean_continent</th>\n",
       "      <th>bean_region</th>\n",
       "      <th>bean_code_2</th>\n",
       "      <th>binFirst_taste</th>\n",
       "      <th>binSecond_taste</th>\n",
       "      <th>binThird_taste</th>\n",
       "      <th>binFourth_taste</th>\n",
       "    </tr>\n",
       "  </thead>\n",
       "  <tbody>\n",
       "    <tr>\n",
       "      <th>4</th>\n",
       "      <td>797</td>\n",
       "      <td>A. Morin</td>\n",
       "      <td>France</td>\n",
       "      <td>2012</td>\n",
       "      <td>Bolivia (Plurinational State of)</td>\n",
       "      <td>Bolivia</td>\n",
       "      <td>70.0</td>\n",
       "      <td>3.50</td>\n",
       "      <td>4</td>\n",
       "      <td>have_bean</td>\n",
       "      <td>...</td>\n",
       "      <td>Western Europe</td>\n",
       "      <td>FR</td>\n",
       "      <td>Bolivia (Plurinational State of)</td>\n",
       "      <td>Americas</td>\n",
       "      <td>South America</td>\n",
       "      <td>BO</td>\n",
       "      <td>1</td>\n",
       "      <td>1</td>\n",
       "      <td>0</td>\n",
       "      <td>0</td>\n",
       "    </tr>\n",
       "    <tr>\n",
       "      <th>9</th>\n",
       "      <td>1011</td>\n",
       "      <td>A. Morin</td>\n",
       "      <td>France</td>\n",
       "      <td>2013</td>\n",
       "      <td>Brazil</td>\n",
       "      <td>Brazil</td>\n",
       "      <td>70.0</td>\n",
       "      <td>3.25</td>\n",
       "      <td>4</td>\n",
       "      <td>have_bean</td>\n",
       "      <td>...</td>\n",
       "      <td>Western Europe</td>\n",
       "      <td>FR</td>\n",
       "      <td>Brazil</td>\n",
       "      <td>Americas</td>\n",
       "      <td>South America</td>\n",
       "      <td>BR</td>\n",
       "      <td>1</td>\n",
       "      <td>0</td>\n",
       "      <td>0</td>\n",
       "      <td>0</td>\n",
       "    </tr>\n",
       "    <tr>\n",
       "      <th>10</th>\n",
       "      <td>1015</td>\n",
       "      <td>A. Morin</td>\n",
       "      <td>France</td>\n",
       "      <td>2013</td>\n",
       "      <td>Papua New Guinea</td>\n",
       "      <td>Papua New Guinea</td>\n",
       "      <td>70.0</td>\n",
       "      <td>3.25</td>\n",
       "      <td>4</td>\n",
       "      <td>have_bean</td>\n",
       "      <td>...</td>\n",
       "      <td>Western Europe</td>\n",
       "      <td>FR</td>\n",
       "      <td>Papua New Guinea</td>\n",
       "      <td>Oceania</td>\n",
       "      <td>Melanesia</td>\n",
       "      <td>PG</td>\n",
       "      <td>1</td>\n",
       "      <td>1</td>\n",
       "      <td>0</td>\n",
       "      <td>0</td>\n",
       "    </tr>\n",
       "    <tr>\n",
       "      <th>15</th>\n",
       "      <td>1015</td>\n",
       "      <td>A. Morin</td>\n",
       "      <td>France</td>\n",
       "      <td>2013</td>\n",
       "      <td>Colombia</td>\n",
       "      <td>Colombie</td>\n",
       "      <td>70.0</td>\n",
       "      <td>2.75</td>\n",
       "      <td>4</td>\n",
       "      <td>have_bean</td>\n",
       "      <td>...</td>\n",
       "      <td>Western Europe</td>\n",
       "      <td>FR</td>\n",
       "      <td>Colombia</td>\n",
       "      <td>Americas</td>\n",
       "      <td>South America</td>\n",
       "      <td>CO</td>\n",
       "      <td>1</td>\n",
       "      <td>1</td>\n",
       "      <td>0</td>\n",
       "      <td>0</td>\n",
       "    </tr>\n",
       "    <tr>\n",
       "      <th>18</th>\n",
       "      <td>1315</td>\n",
       "      <td>A. Morin</td>\n",
       "      <td>France</td>\n",
       "      <td>2014</td>\n",
       "      <td>Cuba</td>\n",
       "      <td>Cuba</td>\n",
       "      <td>70.0</td>\n",
       "      <td>3.50</td>\n",
       "      <td>4</td>\n",
       "      <td>have_bean</td>\n",
       "      <td>...</td>\n",
       "      <td>Western Europe</td>\n",
       "      <td>FR</td>\n",
       "      <td>Cuba</td>\n",
       "      <td>Americas</td>\n",
       "      <td>Caribbean</td>\n",
       "      <td>CU</td>\n",
       "      <td>1</td>\n",
       "      <td>1</td>\n",
       "      <td>0</td>\n",
       "      <td>0</td>\n",
       "    </tr>\n",
       "  </tbody>\n",
       "</table>\n",
       "<p>5 rows × 32 columns</p>\n",
       "</div>"
      ],
      "text/plain": [
       "     ref   company company_location  review_date  \\\n",
       "4    797  A. Morin           France         2012   \n",
       "9   1011  A. Morin           France         2013   \n",
       "10  1015  A. Morin           France         2013   \n",
       "15  1015  A. Morin           France         2013   \n",
       "18  1315  A. Morin           France         2014   \n",
       "\n",
       "              country_of_bean_origin specific_bean_origin_or_bar_name  \\\n",
       "4   Bolivia (Plurinational State of)                          Bolivia   \n",
       "9                             Brazil                           Brazil   \n",
       "10                  Papua New Guinea                 Papua New Guinea   \n",
       "15                          Colombia                         Colombie   \n",
       "18                              Cuba                             Cuba   \n",
       "\n",
       "    cocoa_percent  rating  counts_of_ingredients      beans  ...  \\\n",
       "4            70.0    3.50                      4  have_bean  ...   \n",
       "9            70.0    3.25                      4  have_bean  ...   \n",
       "10           70.0    3.25                      4  have_bean  ...   \n",
       "15           70.0    2.75                      4  have_bean  ...   \n",
       "18           70.0    3.50                      4  have_bean  ...   \n",
       "\n",
       "    company_region company_code_2                         country_y  \\\n",
       "4   Western Europe             FR  Bolivia (Plurinational State of)   \n",
       "9   Western Europe             FR                            Brazil   \n",
       "10  Western Europe             FR                  Papua New Guinea   \n",
       "15  Western Europe             FR                          Colombia   \n",
       "18  Western Europe             FR                              Cuba   \n",
       "\n",
       "   bean_continent    bean_region bean_code_2 binFirst_taste binSecond_taste  \\\n",
       "4        Americas  South America          BO              1               1   \n",
       "9        Americas  South America          BR              1               0   \n",
       "10        Oceania      Melanesia          PG              1               1   \n",
       "15       Americas  South America          CO              1               1   \n",
       "18       Americas      Caribbean          CU              1               1   \n",
       "\n",
       "   binThird_taste binFourth_taste  \n",
       "4               0               0  \n",
       "9               0               0  \n",
       "10              0               0  \n",
       "15              0               0  \n",
       "18              0               0  \n",
       "\n",
       "[5 rows x 32 columns]"
      ]
     },
     "execution_count": 57,
     "metadata": {},
     "output_type": "execute_result"
    }
   ],
   "source": [
    "test_taste[test_taste['binThird_taste'] == 0].head()"
   ]
  },
  {
   "cell_type": "code",
   "execution_count": 58,
   "metadata": {},
   "outputs": [],
   "source": [
    "test_taste['count_tastes'] = test_taste['binFirst_taste'] + test_taste['binSecond_taste'] + test_taste['binThird_taste'] + test_taste['binFourth_taste']"
   ]
  },
  {
   "cell_type": "code",
   "execution_count": 59,
   "metadata": {},
   "outputs": [
    {
     "data": {
      "text/html": [
       "<div>\n",
       "<style scoped>\n",
       "    .dataframe tbody tr th:only-of-type {\n",
       "        vertical-align: middle;\n",
       "    }\n",
       "\n",
       "    .dataframe tbody tr th {\n",
       "        vertical-align: top;\n",
       "    }\n",
       "\n",
       "    .dataframe thead th {\n",
       "        text-align: right;\n",
       "    }\n",
       "</style>\n",
       "<table border=\"1\" class=\"dataframe\">\n",
       "  <thead>\n",
       "    <tr style=\"text-align: right;\">\n",
       "      <th></th>\n",
       "      <th>ref</th>\n",
       "      <th>company</th>\n",
       "      <th>company_location</th>\n",
       "      <th>review_date</th>\n",
       "      <th>country_of_bean_origin</th>\n",
       "      <th>specific_bean_origin_or_bar_name</th>\n",
       "      <th>cocoa_percent</th>\n",
       "      <th>rating</th>\n",
       "      <th>counts_of_ingredients</th>\n",
       "      <th>beans</th>\n",
       "      <th>...</th>\n",
       "      <th>company_code_2</th>\n",
       "      <th>country_y</th>\n",
       "      <th>bean_continent</th>\n",
       "      <th>bean_region</th>\n",
       "      <th>bean_code_2</th>\n",
       "      <th>binFirst_taste</th>\n",
       "      <th>binSecond_taste</th>\n",
       "      <th>binThird_taste</th>\n",
       "      <th>binFourth_taste</th>\n",
       "      <th>count_tastes</th>\n",
       "    </tr>\n",
       "  </thead>\n",
       "  <tbody>\n",
       "    <tr>\n",
       "      <th>0</th>\n",
       "      <td>2454</td>\n",
       "      <td>5150</td>\n",
       "      <td>United States of America</td>\n",
       "      <td>2019</td>\n",
       "      <td>Madagascar</td>\n",
       "      <td>Bejofo Estate, batch 1</td>\n",
       "      <td>76.0</td>\n",
       "      <td>3.75</td>\n",
       "      <td>3</td>\n",
       "      <td>have_bean</td>\n",
       "      <td>...</td>\n",
       "      <td>US</td>\n",
       "      <td>Madagascar</td>\n",
       "      <td>Africa</td>\n",
       "      <td>Eastern Africa</td>\n",
       "      <td>MG</td>\n",
       "      <td>1</td>\n",
       "      <td>1</td>\n",
       "      <td>1</td>\n",
       "      <td>0</td>\n",
       "      <td>3</td>\n",
       "    </tr>\n",
       "    <tr>\n",
       "      <th>1</th>\n",
       "      <td>2458</td>\n",
       "      <td>5150</td>\n",
       "      <td>United States of America</td>\n",
       "      <td>2019</td>\n",
       "      <td>Dominican Republic</td>\n",
       "      <td>Zorzal, batch 1</td>\n",
       "      <td>76.0</td>\n",
       "      <td>3.50</td>\n",
       "      <td>3</td>\n",
       "      <td>have_bean</td>\n",
       "      <td>...</td>\n",
       "      <td>US</td>\n",
       "      <td>Dominican Republic</td>\n",
       "      <td>Americas</td>\n",
       "      <td>Caribbean</td>\n",
       "      <td>DO</td>\n",
       "      <td>1</td>\n",
       "      <td>1</td>\n",
       "      <td>1</td>\n",
       "      <td>0</td>\n",
       "      <td>3</td>\n",
       "    </tr>\n",
       "    <tr>\n",
       "      <th>2</th>\n",
       "      <td>2454</td>\n",
       "      <td>5150</td>\n",
       "      <td>United States of America</td>\n",
       "      <td>2019</td>\n",
       "      <td>Tanzania, United Republic of</td>\n",
       "      <td>Kokoa Kamili, batch 1</td>\n",
       "      <td>76.0</td>\n",
       "      <td>3.25</td>\n",
       "      <td>3</td>\n",
       "      <td>have_bean</td>\n",
       "      <td>...</td>\n",
       "      <td>US</td>\n",
       "      <td>Tanzania, United Republic of</td>\n",
       "      <td>Africa</td>\n",
       "      <td>Eastern Africa</td>\n",
       "      <td>TZ</td>\n",
       "      <td>1</td>\n",
       "      <td>1</td>\n",
       "      <td>1</td>\n",
       "      <td>0</td>\n",
       "      <td>3</td>\n",
       "    </tr>\n",
       "    <tr>\n",
       "      <th>3</th>\n",
       "      <td>797</td>\n",
       "      <td>A. Morin</td>\n",
       "      <td>France</td>\n",
       "      <td>2012</td>\n",
       "      <td>Peru</td>\n",
       "      <td>Peru</td>\n",
       "      <td>63.0</td>\n",
       "      <td>3.75</td>\n",
       "      <td>4</td>\n",
       "      <td>have_bean</td>\n",
       "      <td>...</td>\n",
       "      <td>FR</td>\n",
       "      <td>Peru</td>\n",
       "      <td>Americas</td>\n",
       "      <td>South America</td>\n",
       "      <td>PE</td>\n",
       "      <td>1</td>\n",
       "      <td>1</td>\n",
       "      <td>1</td>\n",
       "      <td>0</td>\n",
       "      <td>3</td>\n",
       "    </tr>\n",
       "    <tr>\n",
       "      <th>4</th>\n",
       "      <td>797</td>\n",
       "      <td>A. Morin</td>\n",
       "      <td>France</td>\n",
       "      <td>2012</td>\n",
       "      <td>Bolivia (Plurinational State of)</td>\n",
       "      <td>Bolivia</td>\n",
       "      <td>70.0</td>\n",
       "      <td>3.50</td>\n",
       "      <td>4</td>\n",
       "      <td>have_bean</td>\n",
       "      <td>...</td>\n",
       "      <td>FR</td>\n",
       "      <td>Bolivia (Plurinational State of)</td>\n",
       "      <td>Americas</td>\n",
       "      <td>South America</td>\n",
       "      <td>BO</td>\n",
       "      <td>1</td>\n",
       "      <td>1</td>\n",
       "      <td>0</td>\n",
       "      <td>0</td>\n",
       "      <td>2</td>\n",
       "    </tr>\n",
       "  </tbody>\n",
       "</table>\n",
       "<p>5 rows × 33 columns</p>\n",
       "</div>"
      ],
      "text/plain": [
       "    ref   company          company_location  review_date  \\\n",
       "0  2454      5150  United States of America         2019   \n",
       "1  2458      5150  United States of America         2019   \n",
       "2  2454      5150  United States of America         2019   \n",
       "3   797  A. Morin                    France         2012   \n",
       "4   797  A. Morin                    France         2012   \n",
       "\n",
       "             country_of_bean_origin specific_bean_origin_or_bar_name  \\\n",
       "0                        Madagascar           Bejofo Estate, batch 1   \n",
       "1                Dominican Republic                  Zorzal, batch 1   \n",
       "2      Tanzania, United Republic of            Kokoa Kamili, batch 1   \n",
       "3                              Peru                             Peru   \n",
       "4  Bolivia (Plurinational State of)                          Bolivia   \n",
       "\n",
       "   cocoa_percent  rating  counts_of_ingredients      beans  ...  \\\n",
       "0           76.0    3.75                      3  have_bean  ...   \n",
       "1           76.0    3.50                      3  have_bean  ...   \n",
       "2           76.0    3.25                      3  have_bean  ...   \n",
       "3           63.0    3.75                      4  have_bean  ...   \n",
       "4           70.0    3.50                      4  have_bean  ...   \n",
       "\n",
       "  company_code_2                         country_y bean_continent  \\\n",
       "0             US                        Madagascar         Africa   \n",
       "1             US                Dominican Republic       Americas   \n",
       "2             US      Tanzania, United Republic of         Africa   \n",
       "3             FR                              Peru       Americas   \n",
       "4             FR  Bolivia (Plurinational State of)       Americas   \n",
       "\n",
       "      bean_region bean_code_2 binFirst_taste binSecond_taste binThird_taste  \\\n",
       "0  Eastern Africa          MG              1               1              1   \n",
       "1       Caribbean          DO              1               1              1   \n",
       "2  Eastern Africa          TZ              1               1              1   \n",
       "3   South America          PE              1               1              1   \n",
       "4   South America          BO              1               1              0   \n",
       "\n",
       "  binFourth_taste count_tastes  \n",
       "0               0            3  \n",
       "1               0            3  \n",
       "2               0            3  \n",
       "3               0            3  \n",
       "4               0            2  \n",
       "\n",
       "[5 rows x 33 columns]"
      ]
     },
     "execution_count": 59,
     "metadata": {},
     "output_type": "execute_result"
    }
   ],
   "source": [
    "test_taste.head()"
   ]
  },
  {
   "cell_type": "markdown",
   "metadata": {},
   "source": [
    "### Parallel Coordinates Plot\n"
   ]
  },
  {
   "cell_type": "code",
   "execution_count": 60,
   "metadata": {},
   "outputs": [
    {
     "data": {
      "text/plain": [
       "['cocoa_percent', 'rating', 'counts_of_ingredients', 'count_tastes']"
      ]
     },
     "execution_count": 60,
     "metadata": {},
     "output_type": "execute_result"
    }
   ],
   "source": [
    "feat_radar.append('count_tastes')\n",
    "feat_radar"
   ]
  },
  {
   "cell_type": "code",
   "execution_count": 61,
   "metadata": {},
   "outputs": [],
   "source": [
    "parallel_coord = test_taste[test_taste['company'].isin([company1,company2])]"
   ]
  },
  {
   "cell_type": "code",
   "execution_count": 62,
   "metadata": {},
   "outputs": [],
   "source": [
    "filter_company = lambda x: 1 if x == company1 else 2"
   ]
  },
  {
   "cell_type": "code",
   "execution_count": 63,
   "metadata": {},
   "outputs": [],
   "source": [
    "parallel_coord['company_number'] = parallel_coord['company'].apply(filter_company)"
   ]
  },
  {
   "cell_type": "code",
   "execution_count": 64,
   "metadata": {},
   "outputs": [
    {
     "data": {
      "text/html": [
       "<div>\n",
       "<style scoped>\n",
       "    .dataframe tbody tr th:only-of-type {\n",
       "        vertical-align: middle;\n",
       "    }\n",
       "\n",
       "    .dataframe tbody tr th {\n",
       "        vertical-align: top;\n",
       "    }\n",
       "\n",
       "    .dataframe thead th {\n",
       "        text-align: right;\n",
       "    }\n",
       "</style>\n",
       "<table border=\"1\" class=\"dataframe\">\n",
       "  <thead>\n",
       "    <tr style=\"text-align: right;\">\n",
       "      <th></th>\n",
       "      <th>ref</th>\n",
       "      <th>company</th>\n",
       "      <th>company_location</th>\n",
       "      <th>review_date</th>\n",
       "      <th>country_of_bean_origin</th>\n",
       "      <th>specific_bean_origin_or_bar_name</th>\n",
       "      <th>cocoa_percent</th>\n",
       "      <th>rating</th>\n",
       "      <th>counts_of_ingredients</th>\n",
       "      <th>beans</th>\n",
       "      <th>...</th>\n",
       "      <th>country_y</th>\n",
       "      <th>bean_continent</th>\n",
       "      <th>bean_region</th>\n",
       "      <th>bean_code_2</th>\n",
       "      <th>binFirst_taste</th>\n",
       "      <th>binSecond_taste</th>\n",
       "      <th>binThird_taste</th>\n",
       "      <th>binFourth_taste</th>\n",
       "      <th>count_tastes</th>\n",
       "      <th>company_number</th>\n",
       "    </tr>\n",
       "  </thead>\n",
       "  <tbody>\n",
       "    <tr>\n",
       "      <th>0</th>\n",
       "      <td>2454</td>\n",
       "      <td>5150</td>\n",
       "      <td>United States of America</td>\n",
       "      <td>2019</td>\n",
       "      <td>Madagascar</td>\n",
       "      <td>Bejofo Estate, batch 1</td>\n",
       "      <td>76.0</td>\n",
       "      <td>3.75</td>\n",
       "      <td>3</td>\n",
       "      <td>have_bean</td>\n",
       "      <td>...</td>\n",
       "      <td>Madagascar</td>\n",
       "      <td>Africa</td>\n",
       "      <td>Eastern Africa</td>\n",
       "      <td>MG</td>\n",
       "      <td>1</td>\n",
       "      <td>1</td>\n",
       "      <td>1</td>\n",
       "      <td>0</td>\n",
       "      <td>3</td>\n",
       "      <td>1</td>\n",
       "    </tr>\n",
       "    <tr>\n",
       "      <th>1</th>\n",
       "      <td>2458</td>\n",
       "      <td>5150</td>\n",
       "      <td>United States of America</td>\n",
       "      <td>2019</td>\n",
       "      <td>Dominican Republic</td>\n",
       "      <td>Zorzal, batch 1</td>\n",
       "      <td>76.0</td>\n",
       "      <td>3.50</td>\n",
       "      <td>3</td>\n",
       "      <td>have_bean</td>\n",
       "      <td>...</td>\n",
       "      <td>Dominican Republic</td>\n",
       "      <td>Americas</td>\n",
       "      <td>Caribbean</td>\n",
       "      <td>DO</td>\n",
       "      <td>1</td>\n",
       "      <td>1</td>\n",
       "      <td>1</td>\n",
       "      <td>0</td>\n",
       "      <td>3</td>\n",
       "      <td>1</td>\n",
       "    </tr>\n",
       "    <tr>\n",
       "      <th>2</th>\n",
       "      <td>2454</td>\n",
       "      <td>5150</td>\n",
       "      <td>United States of America</td>\n",
       "      <td>2019</td>\n",
       "      <td>Tanzania, United Republic of</td>\n",
       "      <td>Kokoa Kamili, batch 1</td>\n",
       "      <td>76.0</td>\n",
       "      <td>3.25</td>\n",
       "      <td>3</td>\n",
       "      <td>have_bean</td>\n",
       "      <td>...</td>\n",
       "      <td>Tanzania, United Republic of</td>\n",
       "      <td>Africa</td>\n",
       "      <td>Eastern Africa</td>\n",
       "      <td>TZ</td>\n",
       "      <td>1</td>\n",
       "      <td>1</td>\n",
       "      <td>1</td>\n",
       "      <td>0</td>\n",
       "      <td>3</td>\n",
       "      <td>1</td>\n",
       "    </tr>\n",
       "    <tr>\n",
       "      <th>3</th>\n",
       "      <td>797</td>\n",
       "      <td>A. Morin</td>\n",
       "      <td>France</td>\n",
       "      <td>2012</td>\n",
       "      <td>Peru</td>\n",
       "      <td>Peru</td>\n",
       "      <td>63.0</td>\n",
       "      <td>3.75</td>\n",
       "      <td>4</td>\n",
       "      <td>have_bean</td>\n",
       "      <td>...</td>\n",
       "      <td>Peru</td>\n",
       "      <td>Americas</td>\n",
       "      <td>South America</td>\n",
       "      <td>PE</td>\n",
       "      <td>1</td>\n",
       "      <td>1</td>\n",
       "      <td>1</td>\n",
       "      <td>0</td>\n",
       "      <td>3</td>\n",
       "      <td>2</td>\n",
       "    </tr>\n",
       "    <tr>\n",
       "      <th>4</th>\n",
       "      <td>797</td>\n",
       "      <td>A. Morin</td>\n",
       "      <td>France</td>\n",
       "      <td>2012</td>\n",
       "      <td>Bolivia (Plurinational State of)</td>\n",
       "      <td>Bolivia</td>\n",
       "      <td>70.0</td>\n",
       "      <td>3.50</td>\n",
       "      <td>4</td>\n",
       "      <td>have_bean</td>\n",
       "      <td>...</td>\n",
       "      <td>Bolivia (Plurinational State of)</td>\n",
       "      <td>Americas</td>\n",
       "      <td>South America</td>\n",
       "      <td>BO</td>\n",
       "      <td>1</td>\n",
       "      <td>1</td>\n",
       "      <td>0</td>\n",
       "      <td>0</td>\n",
       "      <td>2</td>\n",
       "      <td>2</td>\n",
       "    </tr>\n",
       "  </tbody>\n",
       "</table>\n",
       "<p>5 rows × 34 columns</p>\n",
       "</div>"
      ],
      "text/plain": [
       "    ref   company          company_location  review_date  \\\n",
       "0  2454      5150  United States of America         2019   \n",
       "1  2458      5150  United States of America         2019   \n",
       "2  2454      5150  United States of America         2019   \n",
       "3   797  A. Morin                    France         2012   \n",
       "4   797  A. Morin                    France         2012   \n",
       "\n",
       "             country_of_bean_origin specific_bean_origin_or_bar_name  \\\n",
       "0                        Madagascar           Bejofo Estate, batch 1   \n",
       "1                Dominican Republic                  Zorzal, batch 1   \n",
       "2      Tanzania, United Republic of            Kokoa Kamili, batch 1   \n",
       "3                              Peru                             Peru   \n",
       "4  Bolivia (Plurinational State of)                          Bolivia   \n",
       "\n",
       "   cocoa_percent  rating  counts_of_ingredients      beans  ...  \\\n",
       "0           76.0    3.75                      3  have_bean  ...   \n",
       "1           76.0    3.50                      3  have_bean  ...   \n",
       "2           76.0    3.25                      3  have_bean  ...   \n",
       "3           63.0    3.75                      4  have_bean  ...   \n",
       "4           70.0    3.50                      4  have_bean  ...   \n",
       "\n",
       "                          country_y bean_continent     bean_region  \\\n",
       "0                        Madagascar         Africa  Eastern Africa   \n",
       "1                Dominican Republic       Americas       Caribbean   \n",
       "2      Tanzania, United Republic of         Africa  Eastern Africa   \n",
       "3                              Peru       Americas   South America   \n",
       "4  Bolivia (Plurinational State of)       Americas   South America   \n",
       "\n",
       "  bean_code_2 binFirst_taste binSecond_taste binThird_taste binFourth_taste  \\\n",
       "0          MG              1               1              1               0   \n",
       "1          DO              1               1              1               0   \n",
       "2          TZ              1               1              1               0   \n",
       "3          PE              1               1              1               0   \n",
       "4          BO              1               1              0               0   \n",
       "\n",
       "  count_tastes company_number  \n",
       "0            3              1  \n",
       "1            3              1  \n",
       "2            3              1  \n",
       "3            3              2  \n",
       "4            2              2  \n",
       "\n",
       "[5 rows x 34 columns]"
      ]
     },
     "execution_count": 64,
     "metadata": {},
     "output_type": "execute_result"
    }
   ],
   "source": [
    "parallel_coord.head()"
   ]
  },
  {
   "cell_type": "code",
   "execution_count": 65,
   "metadata": {},
   "outputs": [
    {
     "data": {
      "application/vnd.plotly.v1+json": {
       "config": {
        "plotlyServerURL": "https://plot.ly"
       },
       "data": [
        {
         "dimensions": [
          {
           "label": "Percentage of Cocoa (%)",
           "values": [
            76,
            76,
            76,
            63,
            70,
            70,
            63,
            70,
            70,
            70,
            70,
            70,
            70,
            70,
            70,
            70,
            70,
            70,
            70,
            70,
            70,
            70,
            70,
            70,
            70,
            63,
            63,
            70
           ]
          },
          {
           "label": "Rating",
           "values": [
            3.75,
            3.5,
            3.25,
            3.75,
            3.5,
            4,
            4,
            3.75,
            3.5,
            3.25,
            3.25,
            3.25,
            3,
            3,
            2.75,
            2.75,
            4,
            3.75,
            3.5,
            3.5,
            2.75,
            3.5,
            3.5,
            3,
            2.75,
            3.75,
            3.75,
            3.5
           ]
          },
          {
           "label": "Number of Ingredients",
           "values": [
            3,
            3,
            3,
            4,
            4,
            4,
            3,
            4,
            4,
            4,
            4,
            4,
            4,
            4,
            4,
            4,
            4,
            4,
            4,
            4,
            4,
            4,
            4,
            4,
            4,
            4,
            4,
            4
           ]
          },
          {
           "label": "Number of Tastes",
           "values": [
            3,
            3,
            3,
            3,
            2,
            4,
            3,
            4,
            3,
            1,
            2,
            3,
            3,
            3,
            3,
            2,
            3,
            3,
            2,
            3,
            3,
            3,
            3,
            3,
            3,
            3,
            4,
            3
           ]
          }
         ],
         "domain": {
          "x": [
           0,
           1
          ],
          "y": [
           0,
           1
          ]
         },
         "line": {
          "color": [
           1,
           1,
           1,
           2,
           2,
           2,
           2,
           2,
           2,
           2,
           2,
           2,
           2,
           2,
           2,
           2,
           2,
           2,
           2,
           2,
           2,
           2,
           2,
           2,
           2,
           2,
           2,
           2
          ],
          "coloraxis": "coloraxis"
         },
         "name": "",
         "type": "parcoords"
        }
       ],
       "layout": {
        "coloraxis": {
         "cmax": 3.5,
         "cmid": 2,
         "cmin": 0.5,
         "colorbar": {
          "len": 100,
          "lenmode": "pixels",
          "ticktext": [
           "5150",
           "A. Morin"
          ],
          "tickvals": [
           1,
           2
          ],
          "title": {
           "text": "Company"
          }
         },
         "colorscale": [
          [
           0,
           "#AB63FA"
          ],
          [
           0.5,
           "#AB63FA"
          ],
          [
           0.5,
           "#FFA15A"
          ],
          [
           1,
           "#FFA15A"
          ]
         ]
        },
        "legend": {
         "tracegroupgap": 0
        },
        "template": {
         "data": {
          "bar": [
           {
            "error_x": {
             "color": "#2a3f5f"
            },
            "error_y": {
             "color": "#2a3f5f"
            },
            "marker": {
             "line": {
              "color": "#E5ECF6",
              "width": 0.5
             },
             "pattern": {
              "fillmode": "overlay",
              "size": 10,
              "solidity": 0.2
             }
            },
            "type": "bar"
           }
          ],
          "barpolar": [
           {
            "marker": {
             "line": {
              "color": "#E5ECF6",
              "width": 0.5
             },
             "pattern": {
              "fillmode": "overlay",
              "size": 10,
              "solidity": 0.2
             }
            },
            "type": "barpolar"
           }
          ],
          "carpet": [
           {
            "aaxis": {
             "endlinecolor": "#2a3f5f",
             "gridcolor": "white",
             "linecolor": "white",
             "minorgridcolor": "white",
             "startlinecolor": "#2a3f5f"
            },
            "baxis": {
             "endlinecolor": "#2a3f5f",
             "gridcolor": "white",
             "linecolor": "white",
             "minorgridcolor": "white",
             "startlinecolor": "#2a3f5f"
            },
            "type": "carpet"
           }
          ],
          "choropleth": [
           {
            "colorbar": {
             "outlinewidth": 0,
             "ticks": ""
            },
            "type": "choropleth"
           }
          ],
          "contour": [
           {
            "colorbar": {
             "outlinewidth": 0,
             "ticks": ""
            },
            "colorscale": [
             [
              0,
              "#0d0887"
             ],
             [
              0.1111111111111111,
              "#46039f"
             ],
             [
              0.2222222222222222,
              "#7201a8"
             ],
             [
              0.3333333333333333,
              "#9c179e"
             ],
             [
              0.4444444444444444,
              "#bd3786"
             ],
             [
              0.5555555555555556,
              "#d8576b"
             ],
             [
              0.6666666666666666,
              "#ed7953"
             ],
             [
              0.7777777777777778,
              "#fb9f3a"
             ],
             [
              0.8888888888888888,
              "#fdca26"
             ],
             [
              1,
              "#f0f921"
             ]
            ],
            "type": "contour"
           }
          ],
          "contourcarpet": [
           {
            "colorbar": {
             "outlinewidth": 0,
             "ticks": ""
            },
            "type": "contourcarpet"
           }
          ],
          "heatmap": [
           {
            "colorbar": {
             "outlinewidth": 0,
             "ticks": ""
            },
            "colorscale": [
             [
              0,
              "#0d0887"
             ],
             [
              0.1111111111111111,
              "#46039f"
             ],
             [
              0.2222222222222222,
              "#7201a8"
             ],
             [
              0.3333333333333333,
              "#9c179e"
             ],
             [
              0.4444444444444444,
              "#bd3786"
             ],
             [
              0.5555555555555556,
              "#d8576b"
             ],
             [
              0.6666666666666666,
              "#ed7953"
             ],
             [
              0.7777777777777778,
              "#fb9f3a"
             ],
             [
              0.8888888888888888,
              "#fdca26"
             ],
             [
              1,
              "#f0f921"
             ]
            ],
            "type": "heatmap"
           }
          ],
          "heatmapgl": [
           {
            "colorbar": {
             "outlinewidth": 0,
             "ticks": ""
            },
            "colorscale": [
             [
              0,
              "#0d0887"
             ],
             [
              0.1111111111111111,
              "#46039f"
             ],
             [
              0.2222222222222222,
              "#7201a8"
             ],
             [
              0.3333333333333333,
              "#9c179e"
             ],
             [
              0.4444444444444444,
              "#bd3786"
             ],
             [
              0.5555555555555556,
              "#d8576b"
             ],
             [
              0.6666666666666666,
              "#ed7953"
             ],
             [
              0.7777777777777778,
              "#fb9f3a"
             ],
             [
              0.8888888888888888,
              "#fdca26"
             ],
             [
              1,
              "#f0f921"
             ]
            ],
            "type": "heatmapgl"
           }
          ],
          "histogram": [
           {
            "marker": {
             "pattern": {
              "fillmode": "overlay",
              "size": 10,
              "solidity": 0.2
             }
            },
            "type": "histogram"
           }
          ],
          "histogram2d": [
           {
            "colorbar": {
             "outlinewidth": 0,
             "ticks": ""
            },
            "colorscale": [
             [
              0,
              "#0d0887"
             ],
             [
              0.1111111111111111,
              "#46039f"
             ],
             [
              0.2222222222222222,
              "#7201a8"
             ],
             [
              0.3333333333333333,
              "#9c179e"
             ],
             [
              0.4444444444444444,
              "#bd3786"
             ],
             [
              0.5555555555555556,
              "#d8576b"
             ],
             [
              0.6666666666666666,
              "#ed7953"
             ],
             [
              0.7777777777777778,
              "#fb9f3a"
             ],
             [
              0.8888888888888888,
              "#fdca26"
             ],
             [
              1,
              "#f0f921"
             ]
            ],
            "type": "histogram2d"
           }
          ],
          "histogram2dcontour": [
           {
            "colorbar": {
             "outlinewidth": 0,
             "ticks": ""
            },
            "colorscale": [
             [
              0,
              "#0d0887"
             ],
             [
              0.1111111111111111,
              "#46039f"
             ],
             [
              0.2222222222222222,
              "#7201a8"
             ],
             [
              0.3333333333333333,
              "#9c179e"
             ],
             [
              0.4444444444444444,
              "#bd3786"
             ],
             [
              0.5555555555555556,
              "#d8576b"
             ],
             [
              0.6666666666666666,
              "#ed7953"
             ],
             [
              0.7777777777777778,
              "#fb9f3a"
             ],
             [
              0.8888888888888888,
              "#fdca26"
             ],
             [
              1,
              "#f0f921"
             ]
            ],
            "type": "histogram2dcontour"
           }
          ],
          "mesh3d": [
           {
            "colorbar": {
             "outlinewidth": 0,
             "ticks": ""
            },
            "type": "mesh3d"
           }
          ],
          "parcoords": [
           {
            "line": {
             "colorbar": {
              "outlinewidth": 0,
              "ticks": ""
             }
            },
            "type": "parcoords"
           }
          ],
          "pie": [
           {
            "automargin": true,
            "type": "pie"
           }
          ],
          "scatter": [
           {
            "marker": {
             "colorbar": {
              "outlinewidth": 0,
              "ticks": ""
             }
            },
            "type": "scatter"
           }
          ],
          "scatter3d": [
           {
            "line": {
             "colorbar": {
              "outlinewidth": 0,
              "ticks": ""
             }
            },
            "marker": {
             "colorbar": {
              "outlinewidth": 0,
              "ticks": ""
             }
            },
            "type": "scatter3d"
           }
          ],
          "scattercarpet": [
           {
            "marker": {
             "colorbar": {
              "outlinewidth": 0,
              "ticks": ""
             }
            },
            "type": "scattercarpet"
           }
          ],
          "scattergeo": [
           {
            "marker": {
             "colorbar": {
              "outlinewidth": 0,
              "ticks": ""
             }
            },
            "type": "scattergeo"
           }
          ],
          "scattergl": [
           {
            "marker": {
             "colorbar": {
              "outlinewidth": 0,
              "ticks": ""
             }
            },
            "type": "scattergl"
           }
          ],
          "scattermapbox": [
           {
            "marker": {
             "colorbar": {
              "outlinewidth": 0,
              "ticks": ""
             }
            },
            "type": "scattermapbox"
           }
          ],
          "scatterpolar": [
           {
            "marker": {
             "colorbar": {
              "outlinewidth": 0,
              "ticks": ""
             }
            },
            "type": "scatterpolar"
           }
          ],
          "scatterpolargl": [
           {
            "marker": {
             "colorbar": {
              "outlinewidth": 0,
              "ticks": ""
             }
            },
            "type": "scatterpolargl"
           }
          ],
          "scatterternary": [
           {
            "marker": {
             "colorbar": {
              "outlinewidth": 0,
              "ticks": ""
             }
            },
            "type": "scatterternary"
           }
          ],
          "surface": [
           {
            "colorbar": {
             "outlinewidth": 0,
             "ticks": ""
            },
            "colorscale": [
             [
              0,
              "#0d0887"
             ],
             [
              0.1111111111111111,
              "#46039f"
             ],
             [
              0.2222222222222222,
              "#7201a8"
             ],
             [
              0.3333333333333333,
              "#9c179e"
             ],
             [
              0.4444444444444444,
              "#bd3786"
             ],
             [
              0.5555555555555556,
              "#d8576b"
             ],
             [
              0.6666666666666666,
              "#ed7953"
             ],
             [
              0.7777777777777778,
              "#fb9f3a"
             ],
             [
              0.8888888888888888,
              "#fdca26"
             ],
             [
              1,
              "#f0f921"
             ]
            ],
            "type": "surface"
           }
          ],
          "table": [
           {
            "cells": {
             "fill": {
              "color": "#EBF0F8"
             },
             "line": {
              "color": "white"
             }
            },
            "header": {
             "fill": {
              "color": "#C8D4E3"
             },
             "line": {
              "color": "white"
             }
            },
            "type": "table"
           }
          ]
         },
         "layout": {
          "annotationdefaults": {
           "arrowcolor": "#2a3f5f",
           "arrowhead": 0,
           "arrowwidth": 1
          },
          "autotypenumbers": "strict",
          "coloraxis": {
           "colorbar": {
            "outlinewidth": 0,
            "ticks": ""
           }
          },
          "colorscale": {
           "diverging": [
            [
             0,
             "#8e0152"
            ],
            [
             0.1,
             "#c51b7d"
            ],
            [
             0.2,
             "#de77ae"
            ],
            [
             0.3,
             "#f1b6da"
            ],
            [
             0.4,
             "#fde0ef"
            ],
            [
             0.5,
             "#f7f7f7"
            ],
            [
             0.6,
             "#e6f5d0"
            ],
            [
             0.7,
             "#b8e186"
            ],
            [
             0.8,
             "#7fbc41"
            ],
            [
             0.9,
             "#4d9221"
            ],
            [
             1,
             "#276419"
            ]
           ],
           "sequential": [
            [
             0,
             "#0d0887"
            ],
            [
             0.1111111111111111,
             "#46039f"
            ],
            [
             0.2222222222222222,
             "#7201a8"
            ],
            [
             0.3333333333333333,
             "#9c179e"
            ],
            [
             0.4444444444444444,
             "#bd3786"
            ],
            [
             0.5555555555555556,
             "#d8576b"
            ],
            [
             0.6666666666666666,
             "#ed7953"
            ],
            [
             0.7777777777777778,
             "#fb9f3a"
            ],
            [
             0.8888888888888888,
             "#fdca26"
            ],
            [
             1,
             "#f0f921"
            ]
           ],
           "sequentialminus": [
            [
             0,
             "#0d0887"
            ],
            [
             0.1111111111111111,
             "#46039f"
            ],
            [
             0.2222222222222222,
             "#7201a8"
            ],
            [
             0.3333333333333333,
             "#9c179e"
            ],
            [
             0.4444444444444444,
             "#bd3786"
            ],
            [
             0.5555555555555556,
             "#d8576b"
            ],
            [
             0.6666666666666666,
             "#ed7953"
            ],
            [
             0.7777777777777778,
             "#fb9f3a"
            ],
            [
             0.8888888888888888,
             "#fdca26"
            ],
            [
             1,
             "#f0f921"
            ]
           ]
          },
          "colorway": [
           "#636efa",
           "#EF553B",
           "#00cc96",
           "#ab63fa",
           "#FFA15A",
           "#19d3f3",
           "#FF6692",
           "#B6E880",
           "#FF97FF",
           "#FECB52"
          ],
          "font": {
           "color": "#2a3f5f"
          },
          "geo": {
           "bgcolor": "white",
           "lakecolor": "white",
           "landcolor": "#E5ECF6",
           "showlakes": true,
           "showland": true,
           "subunitcolor": "white"
          },
          "hoverlabel": {
           "align": "left"
          },
          "hovermode": "closest",
          "mapbox": {
           "style": "light"
          },
          "paper_bgcolor": "white",
          "plot_bgcolor": "#E5ECF6",
          "polar": {
           "angularaxis": {
            "gridcolor": "white",
            "linecolor": "white",
            "ticks": ""
           },
           "bgcolor": "#E5ECF6",
           "radialaxis": {
            "gridcolor": "white",
            "linecolor": "white",
            "ticks": ""
           }
          },
          "scene": {
           "xaxis": {
            "backgroundcolor": "#E5ECF6",
            "gridcolor": "white",
            "gridwidth": 2,
            "linecolor": "white",
            "showbackground": true,
            "ticks": "",
            "zerolinecolor": "white"
           },
           "yaxis": {
            "backgroundcolor": "#E5ECF6",
            "gridcolor": "white",
            "gridwidth": 2,
            "linecolor": "white",
            "showbackground": true,
            "ticks": "",
            "zerolinecolor": "white"
           },
           "zaxis": {
            "backgroundcolor": "#E5ECF6",
            "gridcolor": "white",
            "gridwidth": 2,
            "linecolor": "white",
            "showbackground": true,
            "ticks": "",
            "zerolinecolor": "white"
           }
          },
          "shapedefaults": {
           "line": {
            "color": "#2a3f5f"
           }
          },
          "ternary": {
           "aaxis": {
            "gridcolor": "white",
            "linecolor": "white",
            "ticks": ""
           },
           "baxis": {
            "gridcolor": "white",
            "linecolor": "white",
            "ticks": ""
           },
           "bgcolor": "#E5ECF6",
           "caxis": {
            "gridcolor": "white",
            "linecolor": "white",
            "ticks": ""
           }
          },
          "title": {
           "x": 0.05
          },
          "xaxis": {
           "automargin": true,
           "gridcolor": "white",
           "linecolor": "white",
           "ticks": "",
           "title": {
            "standoff": 15
           },
           "zerolinecolor": "white",
           "zerolinewidth": 2
          },
          "yaxis": {
           "automargin": true,
           "gridcolor": "white",
           "linecolor": "white",
           "ticks": "",
           "title": {
            "standoff": 15
           },
           "zerolinecolor": "white",
           "zerolinewidth": 2
          }
         }
        },
        "title": {
         "text": "Comparison between 5150 and A. Morin"
        }
       }
      },
      "text/html": [
       "<div>                            <div id=\"999a0993-5bd0-442a-b870-1ce1ff0dbc7c\" class=\"plotly-graph-div\" style=\"height:525px; width:100%;\"></div>            <script type=\"text/javascript\">                require([\"plotly\"], function(Plotly) {                    window.PLOTLYENV=window.PLOTLYENV || {};                                    if (document.getElementById(\"999a0993-5bd0-442a-b870-1ce1ff0dbc7c\")) {                    Plotly.newPlot(                        \"999a0993-5bd0-442a-b870-1ce1ff0dbc7c\",                        [{\"dimensions\":[{\"label\":\"Percentage of Cocoa (%)\",\"values\":[76.0,76.0,76.0,63.0,70.0,70.0,63.0,70.0,70.0,70.0,70.0,70.0,70.0,70.0,70.0,70.0,70.0,70.0,70.0,70.0,70.0,70.0,70.0,70.0,70.0,63.0,63.0,70.0]},{\"label\":\"Rating\",\"values\":[3.75,3.5,3.25,3.75,3.5,4.0,4.0,3.75,3.5,3.25,3.25,3.25,3.0,3.0,2.75,2.75,4.0,3.75,3.5,3.5,2.75,3.5,3.5,3.0,2.75,3.75,3.75,3.5]},{\"label\":\"Number of Ingredients\",\"values\":[3,3,3,4,4,4,3,4,4,4,4,4,4,4,4,4,4,4,4,4,4,4,4,4,4,4,4,4]},{\"label\":\"Number of Tastes\",\"values\":[3,3,3,3,2,4,3,4,3,1,2,3,3,3,3,2,3,3,2,3,3,3,3,3,3,3,4,3]}],\"domain\":{\"x\":[0.0,1.0],\"y\":[0.0,1.0]},\"line\":{\"color\":[1,1,1,2,2,2,2,2,2,2,2,2,2,2,2,2,2,2,2,2,2,2,2,2,2,2,2,2],\"coloraxis\":\"coloraxis\"},\"name\":\"\",\"type\":\"parcoords\"}],                        {\"coloraxis\":{\"cmax\":3.5,\"cmid\":2,\"cmin\":0.5,\"colorbar\":{\"len\":100,\"lenmode\":\"pixels\",\"ticktext\":[\"5150\",\"A. Morin\"],\"tickvals\":[1,2],\"title\":{\"text\":\"Company\"}},\"colorscale\":[[0.0,\"#AB63FA\"],[0.5,\"#AB63FA\"],[0.5,\"#FFA15A\"],[1,\"#FFA15A\"]]},\"legend\":{\"tracegroupgap\":0},\"template\":{\"data\":{\"bar\":[{\"error_x\":{\"color\":\"#2a3f5f\"},\"error_y\":{\"color\":\"#2a3f5f\"},\"marker\":{\"line\":{\"color\":\"#E5ECF6\",\"width\":0.5},\"pattern\":{\"fillmode\":\"overlay\",\"size\":10,\"solidity\":0.2}},\"type\":\"bar\"}],\"barpolar\":[{\"marker\":{\"line\":{\"color\":\"#E5ECF6\",\"width\":0.5},\"pattern\":{\"fillmode\":\"overlay\",\"size\":10,\"solidity\":0.2}},\"type\":\"barpolar\"}],\"carpet\":[{\"aaxis\":{\"endlinecolor\":\"#2a3f5f\",\"gridcolor\":\"white\",\"linecolor\":\"white\",\"minorgridcolor\":\"white\",\"startlinecolor\":\"#2a3f5f\"},\"baxis\":{\"endlinecolor\":\"#2a3f5f\",\"gridcolor\":\"white\",\"linecolor\":\"white\",\"minorgridcolor\":\"white\",\"startlinecolor\":\"#2a3f5f\"},\"type\":\"carpet\"}],\"choropleth\":[{\"colorbar\":{\"outlinewidth\":0,\"ticks\":\"\"},\"type\":\"choropleth\"}],\"contour\":[{\"colorbar\":{\"outlinewidth\":0,\"ticks\":\"\"},\"colorscale\":[[0.0,\"#0d0887\"],[0.1111111111111111,\"#46039f\"],[0.2222222222222222,\"#7201a8\"],[0.3333333333333333,\"#9c179e\"],[0.4444444444444444,\"#bd3786\"],[0.5555555555555556,\"#d8576b\"],[0.6666666666666666,\"#ed7953\"],[0.7777777777777778,\"#fb9f3a\"],[0.8888888888888888,\"#fdca26\"],[1.0,\"#f0f921\"]],\"type\":\"contour\"}],\"contourcarpet\":[{\"colorbar\":{\"outlinewidth\":0,\"ticks\":\"\"},\"type\":\"contourcarpet\"}],\"heatmap\":[{\"colorbar\":{\"outlinewidth\":0,\"ticks\":\"\"},\"colorscale\":[[0.0,\"#0d0887\"],[0.1111111111111111,\"#46039f\"],[0.2222222222222222,\"#7201a8\"],[0.3333333333333333,\"#9c179e\"],[0.4444444444444444,\"#bd3786\"],[0.5555555555555556,\"#d8576b\"],[0.6666666666666666,\"#ed7953\"],[0.7777777777777778,\"#fb9f3a\"],[0.8888888888888888,\"#fdca26\"],[1.0,\"#f0f921\"]],\"type\":\"heatmap\"}],\"heatmapgl\":[{\"colorbar\":{\"outlinewidth\":0,\"ticks\":\"\"},\"colorscale\":[[0.0,\"#0d0887\"],[0.1111111111111111,\"#46039f\"],[0.2222222222222222,\"#7201a8\"],[0.3333333333333333,\"#9c179e\"],[0.4444444444444444,\"#bd3786\"],[0.5555555555555556,\"#d8576b\"],[0.6666666666666666,\"#ed7953\"],[0.7777777777777778,\"#fb9f3a\"],[0.8888888888888888,\"#fdca26\"],[1.0,\"#f0f921\"]],\"type\":\"heatmapgl\"}],\"histogram\":[{\"marker\":{\"pattern\":{\"fillmode\":\"overlay\",\"size\":10,\"solidity\":0.2}},\"type\":\"histogram\"}],\"histogram2d\":[{\"colorbar\":{\"outlinewidth\":0,\"ticks\":\"\"},\"colorscale\":[[0.0,\"#0d0887\"],[0.1111111111111111,\"#46039f\"],[0.2222222222222222,\"#7201a8\"],[0.3333333333333333,\"#9c179e\"],[0.4444444444444444,\"#bd3786\"],[0.5555555555555556,\"#d8576b\"],[0.6666666666666666,\"#ed7953\"],[0.7777777777777778,\"#fb9f3a\"],[0.8888888888888888,\"#fdca26\"],[1.0,\"#f0f921\"]],\"type\":\"histogram2d\"}],\"histogram2dcontour\":[{\"colorbar\":{\"outlinewidth\":0,\"ticks\":\"\"},\"colorscale\":[[0.0,\"#0d0887\"],[0.1111111111111111,\"#46039f\"],[0.2222222222222222,\"#7201a8\"],[0.3333333333333333,\"#9c179e\"],[0.4444444444444444,\"#bd3786\"],[0.5555555555555556,\"#d8576b\"],[0.6666666666666666,\"#ed7953\"],[0.7777777777777778,\"#fb9f3a\"],[0.8888888888888888,\"#fdca26\"],[1.0,\"#f0f921\"]],\"type\":\"histogram2dcontour\"}],\"mesh3d\":[{\"colorbar\":{\"outlinewidth\":0,\"ticks\":\"\"},\"type\":\"mesh3d\"}],\"parcoords\":[{\"line\":{\"colorbar\":{\"outlinewidth\":0,\"ticks\":\"\"}},\"type\":\"parcoords\"}],\"pie\":[{\"automargin\":true,\"type\":\"pie\"}],\"scatter\":[{\"marker\":{\"colorbar\":{\"outlinewidth\":0,\"ticks\":\"\"}},\"type\":\"scatter\"}],\"scatter3d\":[{\"line\":{\"colorbar\":{\"outlinewidth\":0,\"ticks\":\"\"}},\"marker\":{\"colorbar\":{\"outlinewidth\":0,\"ticks\":\"\"}},\"type\":\"scatter3d\"}],\"scattercarpet\":[{\"marker\":{\"colorbar\":{\"outlinewidth\":0,\"ticks\":\"\"}},\"type\":\"scattercarpet\"}],\"scattergeo\":[{\"marker\":{\"colorbar\":{\"outlinewidth\":0,\"ticks\":\"\"}},\"type\":\"scattergeo\"}],\"scattergl\":[{\"marker\":{\"colorbar\":{\"outlinewidth\":0,\"ticks\":\"\"}},\"type\":\"scattergl\"}],\"scattermapbox\":[{\"marker\":{\"colorbar\":{\"outlinewidth\":0,\"ticks\":\"\"}},\"type\":\"scattermapbox\"}],\"scatterpolar\":[{\"marker\":{\"colorbar\":{\"outlinewidth\":0,\"ticks\":\"\"}},\"type\":\"scatterpolar\"}],\"scatterpolargl\":[{\"marker\":{\"colorbar\":{\"outlinewidth\":0,\"ticks\":\"\"}},\"type\":\"scatterpolargl\"}],\"scatterternary\":[{\"marker\":{\"colorbar\":{\"outlinewidth\":0,\"ticks\":\"\"}},\"type\":\"scatterternary\"}],\"surface\":[{\"colorbar\":{\"outlinewidth\":0,\"ticks\":\"\"},\"colorscale\":[[0.0,\"#0d0887\"],[0.1111111111111111,\"#46039f\"],[0.2222222222222222,\"#7201a8\"],[0.3333333333333333,\"#9c179e\"],[0.4444444444444444,\"#bd3786\"],[0.5555555555555556,\"#d8576b\"],[0.6666666666666666,\"#ed7953\"],[0.7777777777777778,\"#fb9f3a\"],[0.8888888888888888,\"#fdca26\"],[1.0,\"#f0f921\"]],\"type\":\"surface\"}],\"table\":[{\"cells\":{\"fill\":{\"color\":\"#EBF0F8\"},\"line\":{\"color\":\"white\"}},\"header\":{\"fill\":{\"color\":\"#C8D4E3\"},\"line\":{\"color\":\"white\"}},\"type\":\"table\"}]},\"layout\":{\"annotationdefaults\":{\"arrowcolor\":\"#2a3f5f\",\"arrowhead\":0,\"arrowwidth\":1},\"autotypenumbers\":\"strict\",\"coloraxis\":{\"colorbar\":{\"outlinewidth\":0,\"ticks\":\"\"}},\"colorscale\":{\"diverging\":[[0,\"#8e0152\"],[0.1,\"#c51b7d\"],[0.2,\"#de77ae\"],[0.3,\"#f1b6da\"],[0.4,\"#fde0ef\"],[0.5,\"#f7f7f7\"],[0.6,\"#e6f5d0\"],[0.7,\"#b8e186\"],[0.8,\"#7fbc41\"],[0.9,\"#4d9221\"],[1,\"#276419\"]],\"sequential\":[[0.0,\"#0d0887\"],[0.1111111111111111,\"#46039f\"],[0.2222222222222222,\"#7201a8\"],[0.3333333333333333,\"#9c179e\"],[0.4444444444444444,\"#bd3786\"],[0.5555555555555556,\"#d8576b\"],[0.6666666666666666,\"#ed7953\"],[0.7777777777777778,\"#fb9f3a\"],[0.8888888888888888,\"#fdca26\"],[1.0,\"#f0f921\"]],\"sequentialminus\":[[0.0,\"#0d0887\"],[0.1111111111111111,\"#46039f\"],[0.2222222222222222,\"#7201a8\"],[0.3333333333333333,\"#9c179e\"],[0.4444444444444444,\"#bd3786\"],[0.5555555555555556,\"#d8576b\"],[0.6666666666666666,\"#ed7953\"],[0.7777777777777778,\"#fb9f3a\"],[0.8888888888888888,\"#fdca26\"],[1.0,\"#f0f921\"]]},\"colorway\":[\"#636efa\",\"#EF553B\",\"#00cc96\",\"#ab63fa\",\"#FFA15A\",\"#19d3f3\",\"#FF6692\",\"#B6E880\",\"#FF97FF\",\"#FECB52\"],\"font\":{\"color\":\"#2a3f5f\"},\"geo\":{\"bgcolor\":\"white\",\"lakecolor\":\"white\",\"landcolor\":\"#E5ECF6\",\"showlakes\":true,\"showland\":true,\"subunitcolor\":\"white\"},\"hoverlabel\":{\"align\":\"left\"},\"hovermode\":\"closest\",\"mapbox\":{\"style\":\"light\"},\"paper_bgcolor\":\"white\",\"plot_bgcolor\":\"#E5ECF6\",\"polar\":{\"angularaxis\":{\"gridcolor\":\"white\",\"linecolor\":\"white\",\"ticks\":\"\"},\"bgcolor\":\"#E5ECF6\",\"radialaxis\":{\"gridcolor\":\"white\",\"linecolor\":\"white\",\"ticks\":\"\"}},\"scene\":{\"xaxis\":{\"backgroundcolor\":\"#E5ECF6\",\"gridcolor\":\"white\",\"gridwidth\":2,\"linecolor\":\"white\",\"showbackground\":true,\"ticks\":\"\",\"zerolinecolor\":\"white\"},\"yaxis\":{\"backgroundcolor\":\"#E5ECF6\",\"gridcolor\":\"white\",\"gridwidth\":2,\"linecolor\":\"white\",\"showbackground\":true,\"ticks\":\"\",\"zerolinecolor\":\"white\"},\"zaxis\":{\"backgroundcolor\":\"#E5ECF6\",\"gridcolor\":\"white\",\"gridwidth\":2,\"linecolor\":\"white\",\"showbackground\":true,\"ticks\":\"\",\"zerolinecolor\":\"white\"}},\"shapedefaults\":{\"line\":{\"color\":\"#2a3f5f\"}},\"ternary\":{\"aaxis\":{\"gridcolor\":\"white\",\"linecolor\":\"white\",\"ticks\":\"\"},\"baxis\":{\"gridcolor\":\"white\",\"linecolor\":\"white\",\"ticks\":\"\"},\"bgcolor\":\"#E5ECF6\",\"caxis\":{\"gridcolor\":\"white\",\"linecolor\":\"white\",\"ticks\":\"\"}},\"title\":{\"x\":0.05},\"xaxis\":{\"automargin\":true,\"gridcolor\":\"white\",\"linecolor\":\"white\",\"ticks\":\"\",\"title\":{\"standoff\":15},\"zerolinecolor\":\"white\",\"zerolinewidth\":2},\"yaxis\":{\"automargin\":true,\"gridcolor\":\"white\",\"linecolor\":\"white\",\"ticks\":\"\",\"title\":{\"standoff\":15},\"zerolinecolor\":\"white\",\"zerolinewidth\":2}}},\"title\":{\"text\":\"Comparison between 5150 and A. Morin\"}},                        {\"responsive\": true}                    ).then(function(){\n",
       "                            \n",
       "var gd = document.getElementById('999a0993-5bd0-442a-b870-1ce1ff0dbc7c');\n",
       "var x = new MutationObserver(function (mutations, observer) {{\n",
       "        var display = window.getComputedStyle(gd).display;\n",
       "        if (!display || display === 'none') {{\n",
       "            console.log([gd, 'removed!']);\n",
       "            Plotly.purge(gd);\n",
       "            observer.disconnect();\n",
       "        }}\n",
       "}});\n",
       "\n",
       "// Listen for the removal of the full notebook cells\n",
       "var notebookContainer = gd.closest('#notebook-container');\n",
       "if (notebookContainer) {{\n",
       "    x.observe(notebookContainer, {childList: true});\n",
       "}}\n",
       "\n",
       "// Listen for the clearing of the current output cell\n",
       "var outputEl = gd.closest('.output');\n",
       "if (outputEl) {{\n",
       "    x.observe(outputEl, {childList: true});\n",
       "}}\n",
       "\n",
       "                        })                };                });            </script>        </div>"
      ]
     },
     "metadata": {},
     "output_type": "display_data"
    }
   ],
   "source": [
    "fig = px.parallel_coordinates(parallel_coord,\n",
    "                              dimensions = feat_radar,\n",
    "                              color= parallel_coord['company_number'],\n",
    "                              range_color=[0.5, 3.5],\n",
    "                              color_continuous_scale=[(0.00, '#AB63FA'),   (0.5,'#AB63FA'),\n",
    "                                                     (0.5, '#FFA15A'), (1, '#FFA15A')],\n",
    "                              labels={\"cocoa_percent\": \"Percentage of Cocoa (%)\", \n",
    "                                      \"rating\": \"Rating\",\n",
    "                                      \"counts_of_ingredients\": \"Number of Ingredients\", \n",
    "                                      \"count_tastes\": \"Number of Tastes\"},\n",
    "                             color_continuous_midpoint=2,\n",
    "                             title = f\"Comparison between {company1} and {company2}\"\n",
    "                             )\n",
    "fig.update_layout(\n",
    "    coloraxis_colorbar=dict(\n",
    "    title=\"Company\",\n",
    "    tickvals=[1,2],\n",
    "    ticktext=[company1,company2],\n",
    "    lenmode=\"pixels\", len=100\n",
    "))\n",
    "fig.show()\n"
   ]
  },
  {
   "cell_type": "code",
   "execution_count": null,
   "metadata": {},
   "outputs": [],
   "source": []
  },
  {
   "cell_type": "code",
   "execution_count": null,
   "metadata": {},
   "outputs": [],
   "source": []
  }
 ],
 "metadata": {
  "interpreter": {
   "hash": "0a2e937febbe5477c28200cac54be2d2da4f3456b8c1b7f6ca2a37fc549e7fbf"
  },
  "kernelspec": {
   "display_name": "Python 3",
   "language": "python",
   "name": "python3"
  },
  "language_info": {
   "codemirror_mode": {
    "name": "ipython",
    "version": 3
   },
   "file_extension": ".py",
   "mimetype": "text/x-python",
   "name": "python",
   "nbconvert_exporter": "python",
   "pygments_lexer": "ipython3",
   "version": "3.8.5"
  }
 },
 "nbformat": 4,
 "nbformat_minor": 2
}
